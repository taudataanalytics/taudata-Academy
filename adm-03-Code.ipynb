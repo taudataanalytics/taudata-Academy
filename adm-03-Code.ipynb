{
 "cells": [
  {
   "cell_type": "markdown",
   "metadata": {
    "slideshow": {
     "slide_type": "slide"
    }
   },
   "source": [
    "<center><img alt=\"\" src=\"images/covers/taudata-cover.jpg\"/></center> \n",
    "\n",
    "## <center><font color=\"blue\">Pendahuluan Model Rekomendasi: Market Basket Analysis/Association Rule</font></center>\n",
    "\n",
    "<h2 style=\"text-align: center;\">(C) Taufik Sutanto</h2>\n",
    "<h2 style=\"text-align: center;\"><a href=\"https://taudata.blogspot.com/2021/04/adm-03.html\" target=\"_blank\"><span style=\"color: #0009ff;\">https://taudata.blogspot.com/2021/04/adm-03.html</span></a></h2>"
   ]
  },
  {
   "cell_type": "code",
   "execution_count": null,
   "metadata": {},
   "outputs": [],
   "source": [
    "# Warning install \"mlxtend\" module first. Jalankan cell ini Hanya jika menggunakan Google Colaboratory:\n",
    "# Jika menggunakan Jupyter notebook secara lokal (e.g. Anaconda/WinPython) silahkan install lewat terminal (e.g. command prompt)\n",
    "try:\n",
    "    import google.colab as gc_\n",
    "    print(\"Running the code in Google Colab.\", gc_) #IN_COLAB = True\n",
    "    print(\"Installing required Module, please wait ... \")\n",
    "    !pip install mlxtend \n",
    "    !pip install pycaret\n",
    "except:\n",
    "    print(\"Running the code locally, make sure to install required modules.\")#IN_COLAB = False"
   ]
  },
  {
   "cell_type": "code",
   "execution_count": null,
   "metadata": {
    "ExecuteTime": {
     "end_time": "2019-09-30T02:35:09.585298Z",
     "start_time": "2019-09-30T02:35:09.572482Z"
    }
   },
   "outputs": [],
   "source": [
    "import warnings; warnings.simplefilter('ignore')\n",
    "import pandas as pd, matplotlib.pyplot as plt, seaborn as sns\n",
    "from itertools import combinations\n",
    "from collections import Counter\n",
    "from mlxtend.frequent_patterns import apriori\n",
    "from mlxtend.frequent_patterns import association_rules\n",
    "from pycaret.arules import *\n",
    "\n",
    "%matplotlib inline\n",
    "plt.style.use('bmh'); sns.set()"
   ]
  },
  {
   "cell_type": "code",
   "execution_count": null,
   "metadata": {
    "ExecuteTime": {
     "end_time": "2019-09-30T02:35:28.746020Z",
     "start_time": "2019-09-30T02:35:28.737986Z"
    }
   },
   "outputs": [],
   "source": [
    "# In Python\n",
    "T = [\n",
    " ('Bread', 'Milk'),\n",
    " ('Beer', 'Bread', 'Diaper', 'Eggs', 'Milk', 'Bread', 'Milk', 'Milk'),\n",
    " ('Beer', 'Coke', 'Diaper', 'Milk'),\n",
    " ('Beer', 'Bread', 'Diaper', 'Milk'),\n",
    " ('Bread', 'Coke', 'Diaper', 'Milk', 'Diaper'),\n",
    "]\n",
    "T"
   ]
  },
  {
   "cell_type": "code",
   "execution_count": null,
   "metadata": {
    "ExecuteTime": {
     "end_time": "2019-09-30T02:35:59.300528Z",
     "start_time": "2019-09-30T02:35:59.293532Z"
    }
   },
   "outputs": [],
   "source": [
    "# Calculating item sets\n",
    "# Nostalgia Matematika Diskrit :)\n",
    "def subsets(S, k):\n",
    "    return [set(s) for s in combinations(S, k)]\n",
    "\n",
    "subsets({1, 2, 3, 7, 8}, 3)"
   ]
  },
  {
   "cell_type": "code",
   "execution_count": null,
   "metadata": {
    "ExecuteTime": {
     "end_time": "2019-09-30T02:36:17.181471Z",
     "start_time": "2019-09-30T02:36:17.175973Z"
    }
   },
   "outputs": [],
   "source": [
    "# Calculating support\n",
    "Counter(T[1])"
   ]
  },
  {
   "cell_type": "code",
   "execution_count": null,
   "metadata": {
    "ExecuteTime": {
     "end_time": "2019-09-30T02:38:24.412481Z",
     "start_time": "2019-09-30T02:36:41.858619Z"
    }
   },
   "outputs": [],
   "source": [
    "# Using Module\n",
    "# Taken from https://pbpython.com/market-basket-analysis.html\n",
    "# Pertama-tama load Data\n",
    "try:\n",
    "    df = pd.read_csv('data/Online_Retail.csv', error_bad_lines=False, low_memory = False)\n",
    "except:\n",
    "    df = pd.read_excel('http://archive.ics.uci.edu/ml/machine-learning-databases/00352/Online%20Retail.xlsx')\n",
    "df.head()"
   ]
  },
  {
   "cell_type": "code",
   "execution_count": null,
   "metadata": {
    "ExecuteTime": {
     "end_time": "2019-09-30T02:51:36.927405Z",
     "start_time": "2019-09-30T02:51:35.087322Z"
    },
    "scrolled": true
   },
   "outputs": [],
   "source": [
    "# Preprocessing\n",
    "df['Description'] = df['Description'].str.strip() # remove unnecessary spaces\n",
    "df['Description'] = df['Description'].str.lower() # lower case normalization\n",
    "df.dropna(axis=0, subset=['InvoiceNo'], inplace=True) # delete rows with no invoice no\n",
    "df['InvoiceNo'] = df['InvoiceNo'].astype('str') # Change data type\n",
    "df = df[~df['InvoiceNo'].str.contains('c')] # remove invoice with C in it\n",
    "df.head()"
   ]
  },
  {
   "cell_type": "code",
   "execution_count": null,
   "metadata": {},
   "outputs": [],
   "source": [
    "df.to_csv(\"data/Online_Retail.csv\", encoding='utf8', index=False)\n",
    "'Done'"
   ]
  },
  {
   "cell_type": "code",
   "execution_count": null,
   "metadata": {
    "ExecuteTime": {
     "end_time": "2019-09-30T02:52:49.048421Z",
     "start_time": "2019-09-30T02:52:47.958092Z"
    }
   },
   "outputs": [],
   "source": [
    "filter_ = {'pls', 'plas'}\n",
    "for f in filter_:\n",
    "    df = df[~df['InvoiceNo'].str.contains(f)] # filtering invoice"
   ]
  },
  {
   "cell_type": "code",
   "execution_count": null,
   "metadata": {},
   "outputs": [],
   "source": [
    "print(set(df['Country']))"
   ]
  },
  {
   "cell_type": "code",
   "execution_count": null,
   "metadata": {},
   "outputs": [],
   "source": [
    "df_A = df[df['Country'] ==\"Australia\"]\n",
    "df_A.head()"
   ]
  },
  {
   "cell_type": "code",
   "execution_count": null,
   "metadata": {
    "ExecuteTime": {
     "end_time": "2019-09-30T01:03:39.666838Z",
     "start_time": "2019-09-30T01:03:39.596707Z"
    }
   },
   "outputs": [],
   "source": [
    "# Let's sample the data\n",
    "basket = df[df['Country'] ==\"Australia\"]\n",
    "basket.head()"
   ]
  },
  {
   "cell_type": "code",
   "execution_count": null,
   "metadata": {
    "ExecuteTime": {
     "end_time": "2019-09-30T01:03:39.692431Z",
     "start_time": "2019-09-30T01:03:39.669826Z"
    }
   },
   "outputs": [],
   "source": [
    "# Group the transaction\n",
    "basket = basket.groupby(['InvoiceNo', 'Description'])['Quantity']\n",
    "basket.head()"
   ]
  },
  {
   "cell_type": "code",
   "execution_count": null,
   "metadata": {
    "ExecuteTime": {
     "end_time": "2019-09-30T01:03:39.876512Z",
     "start_time": "2019-09-30T01:03:39.694762Z"
    }
   },
   "outputs": [],
   "source": [
    "# Jumlahkan, unstack, Null=0, index baris menggunakan Nomer Invoice\n",
    "basket = basket.sum().unstack().reset_index().fillna(0).set_index('InvoiceNo')\n",
    "basket.head()"
   ]
  },
  {
   "cell_type": "code",
   "execution_count": null,
   "metadata": {
    "ExecuteTime": {
     "end_time": "2019-09-30T01:03:41.048871Z",
     "start_time": "2019-09-30T01:03:39.878267Z"
    }
   },
   "outputs": [],
   "source": [
    "def encode_units(x):\n",
    "    if x <= 0:\n",
    "        return 0\n",
    "    if x >= 1:\n",
    "        return 1\n",
    "\n",
    "basket_sets = basket.applymap(encode_units) # one-hot encoding\n",
    "basket_sets.head()"
   ]
  },
  {
   "cell_type": "markdown",
   "metadata": {},
   "source": [
    "# Understanding the Data Structure"
   ]
  },
  {
   "cell_type": "code",
   "execution_count": null,
   "metadata": {
    "ExecuteTime": {
     "end_time": "2019-09-30T01:03:41.057490Z",
     "start_time": "2019-09-30T01:03:41.051535Z"
    }
   },
   "outputs": [],
   "source": [
    "basket_sets.columns"
   ]
  },
  {
   "cell_type": "code",
   "execution_count": null,
   "metadata": {
    "ExecuteTime": {
     "end_time": "2019-09-30T01:03:41.070455Z",
     "start_time": "2019-09-30T01:03:41.060482Z"
    }
   },
   "outputs": [],
   "source": [
    "basket_sets.index"
   ]
  },
  {
   "cell_type": "code",
   "execution_count": null,
   "metadata": {
    "ExecuteTime": {
     "end_time": "2019-09-30T01:03:41.083430Z",
     "start_time": "2019-09-30T01:03:41.073448Z"
    }
   },
   "outputs": [],
   "source": [
    "basket_sets.iloc[0]"
   ]
  },
  {
   "cell_type": "code",
   "execution_count": null,
   "metadata": {
    "ExecuteTime": {
     "end_time": "2019-09-30T01:03:41.096387Z",
     "start_time": "2019-09-30T01:03:41.086442Z"
    }
   },
   "outputs": [],
   "source": [
    "basket_sets.iloc[0].sum()"
   ]
  },
  {
   "cell_type": "code",
   "execution_count": null,
   "metadata": {
    "ExecuteTime": {
     "end_time": "2019-09-30T02:43:21.993678Z",
     "start_time": "2019-09-30T02:43:21.957218Z"
    }
   },
   "outputs": [],
   "source": [
    "frequent_itemsets = apriori(basket_sets, min_support=0.07, use_colnames=True)\n",
    "frequent_itemsets.sort_values(by='support', ascending=False, na_position='last', inplace = True)\n",
    "frequent_itemsets"
   ]
  },
  {
   "cell_type": "code",
   "execution_count": null,
   "metadata": {
    "ExecuteTime": {
     "end_time": "2019-09-30T02:43:58.877639Z",
     "start_time": "2019-09-30T02:43:58.849320Z"
    }
   },
   "outputs": [],
   "source": [
    "rules = association_rules(frequent_itemsets, metric=\"lift\", min_threshold=1)\n",
    "rules.sort_values(by='lift', ascending=False, na_position='last', inplace = True)\n",
    "rules.head(5)"
   ]
  },
  {
   "cell_type": "code",
   "execution_count": null,
   "metadata": {
    "ExecuteTime": {
     "end_time": "2019-09-30T01:03:41.209086Z",
     "start_time": "2019-09-30T01:03:41.184153Z"
    },
    "scrolled": false
   },
   "outputs": [],
   "source": [
    "# Filtering\n",
    "rules[ (rules['lift'] >= 6) & (rules['confidence'] >= 0.8) ]"
   ]
  },
  {
   "cell_type": "markdown",
   "metadata": {},
   "source": [
    "# End of Module Association Rule\n",
    "<hr>\n",
    "<p><img alt=\"\" src=\"images/meme-cartoon/10_recommendation_joke.jpg\" style=\"height:445px; width:455px\" /></p>\n"
   ]
  }
 ],
 "metadata": {
  "celltoolbar": "Slideshow",
  "kernelspec": {
   "display_name": "Python 3 (ipykernel)",
   "language": "python",
   "name": "python3"
  },
  "language_info": {
   "codemirror_mode": {
    "name": "ipython",
    "version": 3
   },
   "file_extension": ".py",
   "mimetype": "text/x-python",
   "name": "python",
   "nbconvert_exporter": "python",
   "pygments_lexer": "ipython3",
   "version": "3.9.11"
  },
  "latex_envs": {
   "LaTeX_envs_menu_present": true,
   "autoclose": false,
   "autocomplete": true,
   "bibliofile": "biblio.bib",
   "cite_by": "apalike",
   "current_citInitial": 1,
   "eqLabelWithNumbers": true,
   "eqNumInitial": 1,
   "hotkeys": {
    "equation": "Ctrl-E",
    "itemize": "Ctrl-I"
   },
   "labels_anchors": false,
   "latex_user_defs": false,
   "report_style_numbering": false,
   "user_envs_cfg": false
  }
 },
 "nbformat": 4,
 "nbformat_minor": 2
}
