{
 "cells": [
  {
   "cell_type": "markdown",
   "metadata": {
    "slideshow": {
     "slide_type": "slide"
    }
   },
   "source": [
    "# <center> http://bit.ly/nusamandiri-18072021\n",
    "\n",
    "<center><img alt=\"\" src=\"images/cover_nusamandiri_18072021.png\"/></center> \n",
    "\n",
    "## <center><font color=\"blue\">tau-data Indonesia</font><br>(C) Taufik Sutanto - 2020</center>\n",
    "<center><a href=\"https://tau-data.id\">https://tau-data.id</a> ~ <a href=\"mailto:taufik@tau-data.id\">taufik@tau-data.id</a></center>"
   ]
  },
  {
   "cell_type": "markdown",
   "metadata": {
    "slideshow": {
     "slide_type": "slide"
    }
   },
   "source": [
    "<center><img alt=\"\" src=\"images/bio_TS.png\" /></center>"
   ]
  },
  {
   "cell_type": "markdown",
   "metadata": {
    "slideshow": {
     "slide_type": "slide"
    }
   },
   "source": [
    "# <center><font color=\"blue\">Outline Workshop</font></center>\n",
    "\n",
    "* Pengenalan, Outline, & Prasyarat\n",
    "* **Pendahuluan & Baseline** Clustering: k-means\n",
    "* **Kelemahan Baseline** sebagai pengembangan riset dasar: studi kasus k-means++ dan k-medoid\n",
    "* Pengembangan riset bagi yang menyukai **pemrograman**: studi kasus mini-batch k-means.\n",
    "* Bahkan di Statistika k-means memiliki **kekurangan** besar: studi kasus **Gower** similarity.\n",
    "* Kita bisa riset di DS dengan mempertimbangkan **interpretability**: studi kasus Hierarchical clustering.\n",
    "* Riset untuk yang suka **eksperimen numerik**: CoD, Fine-grained, Non-Convex.\n",
    "* Suatu Algoritma/Model di DS (terutama clustering) biasanya untuk **aplikasi khusus** tertentu: studi kasus DBSCAN. \n",
    "* Perlahan ke arah Big Data (**Variety**), clustering pada data tidak terstruktur: studi kasus LDA\n",
    "* **Variety bertemu Volume**: Studi kasus Word Embedding di Deep Learning.\n",
    "* Riset yang terinspirasi dari **kebutuhan dunia nyata**: studi kasus semi-supervised LDA\n",
    "* **Efficiency VS scalability** di riset Big Data, apa fokus risetnya?\n",
    "* **Velocity**: Incremental/Online learning algorithm, bagaimana cara risetnya?\n",
    "* **Hadoop dan Spark** bukan/belum menjadi \"obat dewa\" Big Data: studi kasus FCAR\n",
    "* **Arah riset lain**: Memory usage, cost-benefit analysis big data, dll."
   ]
  },
  {
   "cell_type": "markdown",
   "metadata": {
    "slideshow": {
     "slide_type": "slide"
    }
   },
   "source": [
    "# <center><font color=\"blue\">Asumsi Workshop Level Pasca Sarjana</font></center>\n",
    "\n",
    "* Dasar Python, Matematika, & Data Science\n",
    "* Fokus ke dunia akademis (Riset ~ bukan industri)\n",
    "* Fokus ke konsep/filosofi (why?)\n",
    "* Fokus ke *unsupervised Learning*, namun \"filosofi\"/konsep-nya dapat diterapkan ke supervised, reinforcement, atau self-supervised learning. "
   ]
  },
  {
   "cell_type": "markdown",
   "metadata": {
    "slideshow": {
     "slide_type": "slide"
    }
   },
   "source": [
    "# Pertanyaan yang ingin dijawab via Workshop ini:\n",
    "## <font color=\"blue\">\" *Setelah menentukan topik apa yang harus saya lakukan?* \"\n",
    "\n",
    "<img src=\"images/clustering_research_mindmap_taudataID.png\" style=\"height: 400px\" />"
   ]
  },
  {
   "cell_type": "code",
   "execution_count": null,
   "metadata": {
    "slideshow": {
     "slide_type": "slide"
    }
   },
   "outputs": [],
   "source": [
    "# install library yang dibutuhkan untuk workshop ini\n",
    "# Gunakan Python 3.6 ... jangan 3.7 atau 3.8\n",
    "!pip install --upgrade umap-learn\n",
    "!pip install scikit-learn-extra\n",
    "!pip install guidedlda"
   ]
  },
  {
   "cell_type": "markdown",
   "metadata": {
    "slideshow": {
     "slide_type": "slide"
    }
   },
   "source": [
    "<img src=\"images/clustering_Quotes.png\" />"
   ]
  },
  {
   "cell_type": "markdown",
   "metadata": {
    "slideshow": {
     "slide_type": "slide"
    }
   },
   "source": [
    "# <font color=\"blue\">Definisi\n",
    "\n",
    "## Clustering is as a process of finding group structures within data such that each instance within a group is similar to one another and dissimilar to instances in other groups [1]\n",
    "\n",
    "<img src=\"images/clusters_objective.jpg\" style=\"height: 400px\"/>\n",
    "\n",
    "\n",
    "### [1]. Jain, A.K., Data clustering: 50 years beyond K-means. Pattern Recognition Letters, 2010. 31(8): p. 651-666."
   ]
  },
  {
   "cell_type": "markdown",
   "metadata": {
    "slideshow": {
     "slide_type": "slide"
    }
   },
   "source": [
    "## <font color=\"blue\">Aplikasi\n",
    "\n",
    "Secara umum ada dua: \n",
    "1. Clustering untuk *utility* (e.g. kompresi data dan indexing di DB/search engine) \n",
    "2. Clustering untuk mengerti/analisa/memahami data (e.g., menemukan pola/insight) \n",
    "\n",
    "* Aplikasi di Data Mining dan Data Science biasanya yang ke-2.\n",
    "* Clustering masuk ke EDA, ia bukan metode inferensia (tidak untuk digeneralisasi)\n",
    "\n",
    "[2]. Pang-Ning, T., M. Steinbach, and V. Kumar, Introduction to data mining. Vol. 74. 2006, Boston, MA, USA: Addison-Wesley Longman Publishing Co., Inc."
   ]
  },
  {
   "cell_type": "markdown",
   "metadata": {
    "slideshow": {
     "slide_type": "slide"
    }
   },
   "source": [
    "## Contoh beberapa <font color=\"blue\">aplikasi di dunia nyata\n",
    "\n",
    "* Rekomendasi (misal di marketplace)\n",
    "* Market segmentation (misal di periklanan)\n",
    "* Social network analysis (misal community detection)\n",
    "* Search result grouping (Search Engine)\n",
    "* Medical imaging (deteksi penyakit di image processing)\n",
    "* Anomaly detection (misal di finance)\n",
    "\n",
    "<img src='images/clus_applications.png' style=\"height: 300px\"/>"
   ]
  },
  {
   "cell_type": "markdown",
   "metadata": {
    "slideshow": {
     "slide_type": "slide"
    }
   },
   "source": [
    "# <font color=\"blue\">Tidak ada Error di Clustering ... ???? .... \n",
    "\n",
    "<img src='images/5_what_is_clustering.png'  style=\"height: 300px\"/>\n",
    "\n",
    "### Tidak ada \"Ground Truth\" di Unsupervised Learning/Clustering. <br> Salah satu \"Bias\" terbesar adalah algoritma clustering yang kita pilih. \n",
    "* Keuntungan jika jadi topik riset di pasca sarjana"
   ]
  },
  {
   "cell_type": "markdown",
   "metadata": {
    "slideshow": {
     "slide_type": "slide"
    }
   },
   "source": [
    "# Riset dimulai dari <font color=\"blue\">Baseline\n",
    "\n",
    "<img src='images/clus_mindMap-01.png'/>"
   ]
  },
  {
   "cell_type": "markdown",
   "metadata": {
    "slideshow": {
     "slide_type": "slide"
    }
   },
   "source": [
    "# <font color=\"blue\">Pendahuluan</font> k-Means\n",
    "\n",
    "* Salah satu algoritma paling dasar clustering\n",
    "* Penting untuk memahami cara kerjanya\n",
    "* Fungsi Tujuan (Objective Function):\n",
    "\n",
    "<img alt=\"\" src=\"images/algoritma_kMeans_simplify.png\"  style=\"height: 300px\"/>\n",
    "\n",
    "* Penjelasan Interaktif: https://www.learndatasci.com/tutorials/k-means-clustering-algorithms-python-intro/ "
   ]
  },
  {
   "cell_type": "markdown",
   "metadata": {
    "slideshow": {
     "slide_type": "slide"
    }
   },
   "source": [
    "# Implementasi di <font color=\"blue\">Python"
   ]
  },
  {
   "cell_type": "code",
   "execution_count": 1,
   "metadata": {
    "slideshow": {
     "slide_type": "fragment"
    }
   },
   "outputs": [
    {
     "name": "stdout",
     "output_type": "stream",
     "text": [
      "(150, 4)\n"
     ]
    },
    {
     "data": {
      "text/html": [
       "<div>\n",
       "<style scoped>\n",
       "    .dataframe tbody tr th:only-of-type {\n",
       "        vertical-align: middle;\n",
       "    }\n",
       "\n",
       "    .dataframe tbody tr th {\n",
       "        vertical-align: top;\n",
       "    }\n",
       "\n",
       "    .dataframe thead th {\n",
       "        text-align: right;\n",
       "    }\n",
       "</style>\n",
       "<table border=\"1\" class=\"dataframe\">\n",
       "  <thead>\n",
       "    <tr style=\"text-align: right;\">\n",
       "      <th></th>\n",
       "      <th>sepal_length</th>\n",
       "      <th>sepal_width</th>\n",
       "      <th>petal_length</th>\n",
       "      <th>petal_width</th>\n",
       "      <th>species</th>\n",
       "    </tr>\n",
       "  </thead>\n",
       "  <tbody>\n",
       "    <tr>\n",
       "      <th>0</th>\n",
       "      <td>5.1</td>\n",
       "      <td>3.5</td>\n",
       "      <td>1.4</td>\n",
       "      <td>0.2</td>\n",
       "      <td>setosa</td>\n",
       "    </tr>\n",
       "    <tr>\n",
       "      <th>1</th>\n",
       "      <td>4.9</td>\n",
       "      <td>3.0</td>\n",
       "      <td>1.4</td>\n",
       "      <td>0.2</td>\n",
       "      <td>setosa</td>\n",
       "    </tr>\n",
       "    <tr>\n",
       "      <th>2</th>\n",
       "      <td>4.7</td>\n",
       "      <td>3.2</td>\n",
       "      <td>1.3</td>\n",
       "      <td>0.2</td>\n",
       "      <td>setosa</td>\n",
       "    </tr>\n",
       "    <tr>\n",
       "      <th>3</th>\n",
       "      <td>4.6</td>\n",
       "      <td>3.1</td>\n",
       "      <td>1.5</td>\n",
       "      <td>0.2</td>\n",
       "      <td>setosa</td>\n",
       "    </tr>\n",
       "    <tr>\n",
       "      <th>4</th>\n",
       "      <td>5.0</td>\n",
       "      <td>3.6</td>\n",
       "      <td>1.4</td>\n",
       "      <td>0.2</td>\n",
       "      <td>setosa</td>\n",
       "    </tr>\n",
       "  </tbody>\n",
       "</table>\n",
       "</div>"
      ],
      "text/plain": [
       "   sepal_length  sepal_width  petal_length  petal_width species\n",
       "0           5.1          3.5           1.4          0.2  setosa\n",
       "1           4.9          3.0           1.4          0.2  setosa\n",
       "2           4.7          3.2           1.3          0.2  setosa\n",
       "3           4.6          3.1           1.5          0.2  setosa\n",
       "4           5.0          3.6           1.4          0.2  setosa"
      ]
     },
     "execution_count": 1,
     "metadata": {},
     "output_type": "execute_result"
    }
   ],
   "source": [
    "# Load contoh data\n",
    "import warnings; warnings.simplefilter('ignore')\n",
    "import seaborn as sns\n",
    "\n",
    "df = sns.load_dataset(\"iris\")\n",
    "X = df[['sepal_length','sepal_width','petal_length','petal_width']]\n",
    "print(X.shape)\n",
    "df.head()"
   ]
  },
  {
   "cell_type": "code",
   "execution_count": 2,
   "metadata": {
    "slideshow": {
     "slide_type": "slide"
    }
   },
   "outputs": [
    {
     "data": {
      "text/plain": [
       "array([2, 2, 2, 2, 2, 2, 2, 2, 2, 2, 2, 2, 2, 2, 2, 2, 2, 2, 2, 2, 2, 2,\n",
       "       2, 2, 2, 2, 2, 2, 2, 2, 2, 2, 2, 2, 2, 2, 2, 2, 2, 2, 2, 2, 2, 2,\n",
       "       2, 2, 2, 2, 2, 2, 1, 1, 0, 1, 1, 1, 1, 1, 1, 1, 1, 1, 1, 1, 1, 1,\n",
       "       1, 1, 1, 1, 1, 1, 1, 1, 1, 1, 1, 0, 1, 1, 1, 1, 1, 1, 1, 1, 1, 1,\n",
       "       1, 1, 1, 1, 1, 1, 1, 1, 1, 1, 1, 1, 0, 1, 0, 0, 0, 0, 1, 0, 0, 0,\n",
       "       0, 0, 0, 1, 1, 0, 0, 0, 0, 1, 0, 1, 0, 1, 0, 0, 1, 1, 0, 0, 0, 0,\n",
       "       0, 1, 0, 0, 0, 0, 1, 0, 0, 0, 1, 0, 0, 0, 1, 0, 0, 1])"
      ]
     },
     "execution_count": 2,
     "metadata": {},
     "output_type": "execute_result"
    }
   ],
   "source": [
    "from sklearn import cluster\n",
    "\n",
    "k = 3\n",
    "km = cluster.KMeans(n_clusters=k, init='random').fit(X)\n",
    "C_km = km.predict(X) # Hasil clusteringnya\n",
    "C_km # Apa makna 0, 1, 2 disini? Coba Run beberapa kali, mengapa begitu?"
   ]
  },
  {
   "cell_type": "markdown",
   "metadata": {
    "slideshow": {
     "slide_type": "slide"
    }
   },
   "source": [
    "# Kelemahan Pertama: Hasil yang <font color=\"blue\">tidak reliabel\n",
    "\n",
    "## Studi Kasus pertama: k-Means++\n",
    "\n",
    "<img src='images/clus_mindMap-02.png'  style=\"height: 300px\"/>"
   ]
  },
  {
   "cell_type": "markdown",
   "metadata": {
    "slideshow": {
     "slide_type": "slide"
    }
   },
   "source": [
    "# <font color=\"blue\">k-Means++\n",
    "\n",
    "* Original <em>k-means</em> memulai algoritmanya dengan mengacak centroid awal dan k-means tidak &quot;robust&quot; terhadap centroid awal ini (apa artinya?).\n",
    "* <strong>k-Means akan menghasilkan hasil yang berbeda-beda jika di-run beberapa kali!....</strong>\n",
    "* k-Means++ &quot;mengatasi&quot; hal ini:\n",
    "* inisialisasi centroid tidak random, tapi dengan menghitung probabilitas terbaik bagi centroid awal.\n",
    "* Keuntungan selain lebih robust, biasanya iterasi yang dibutuhkan jauh lebih sedikit ketimbang k-means biasa.\n",
    "* Reference :&nbsp;<a href=\"http://ilpubs.stanford.edu:8090/778/1/2006-13.pdf\" target=\"_blank\">http://ilpubs.stanford.edu:8090/778/1/2006-13.pdf</a>\n",
    "\n",
    "<img src=\"images/km_vs_kmpp.gif\" />\n",
    "\n",
    "### image Source: https://medium.com/@phil.busko/animation-of-k-means-clustering-31a484c30ba5"
   ]
  },
  {
   "cell_type": "code",
   "execution_count": 3,
   "metadata": {
    "slideshow": {
     "slide_type": "slide"
    }
   },
   "outputs": [
    {
     "data": {
      "text/plain": [
       "array([2, 2, 2, 2, 2, 2, 2, 2, 2, 2, 2, 2, 2, 2, 2, 2, 2, 2, 2, 2, 2, 2,\n",
       "       2, 2, 2, 2, 2, 2, 2, 2, 2, 2, 2, 2, 2, 2, 2, 2, 2, 2, 2, 2, 2, 2,\n",
       "       2, 2, 2, 2, 2, 2, 1, 1, 0, 1, 1, 1, 1, 1, 1, 1, 1, 1, 1, 1, 1, 1,\n",
       "       1, 1, 1, 1, 1, 1, 1, 1, 1, 1, 1, 0, 1, 1, 1, 1, 1, 1, 1, 1, 1, 1,\n",
       "       1, 1, 1, 1, 1, 1, 1, 1, 1, 1, 1, 1, 0, 1, 0, 0, 0, 0, 1, 0, 0, 0,\n",
       "       0, 0, 0, 1, 1, 0, 0, 0, 0, 1, 0, 1, 0, 1, 0, 0, 1, 1, 0, 0, 0, 0,\n",
       "       0, 1, 0, 0, 0, 0, 1, 0, 0, 0, 1, 0, 0, 0, 1, 0, 0, 1])"
      ]
     },
     "execution_count": 3,
     "metadata": {},
     "output_type": "execute_result"
    }
   ],
   "source": [
    "# k-means++ clustering http://scikit-learn.org/stable/modules/generated/sklearn.cluster.KMeans.html\n",
    "k=3\n",
    "kmPP = cluster.KMeans(n_clusters=k, init='k-means++').fit(X)\n",
    "C_kmpp = kmPP.predict(X)\n",
    "C_km # Coba run beberapa kali ... Problem Solved!!!..."
   ]
  },
  {
   "cell_type": "code",
   "execution_count": 4,
   "metadata": {
    "scrolled": true,
    "slideshow": {
     "slide_type": "slide"
    }
   },
   "outputs": [
    {
     "data": {
      "image/png": "[encoded data removed]",
      "text/plain": [
       "<Figure size 432x288 with 1 Axes>"
      ]
     },
     "metadata": {
      "needs_background": "light"
     },
     "output_type": "display_data"
    }
   ],
   "source": [
    "# Visualisasi 1 hasil k-Means++ (Bagaimana memahaminya?)\n",
    "p= sns.countplot(C_km)"
   ]
  },
  {
   "cell_type": "code",
   "execution_count": 5,
   "metadata": {
    "slideshow": {
     "slide_type": "slide"
    }
   },
   "outputs": [
    {
     "data": {
      "image/png": "[encoded data removed]",
      "text/plain": [
       "<Figure size 432x288 with 1 Axes>"
      ]
     },
     "metadata": {
      "needs_background": "light"
     },
     "output_type": "display_data"
    }
   ],
   "source": [
    "import umap, numpy as np, matplotlib.pyplot as plt\n",
    "\n",
    "X2D = umap.UMAP(n_neighbors=5, min_dist=0.3, random_state=33).fit_transform(X)\n",
    "# Apa X2D? Mengapa perlu? Boleh ganti algoritma lain?\n",
    "fig, ax = plt.subplots()\n",
    "ax.scatter(X2D[:,0], X2D[:,1], c=C_km) # Sebenarnya hanya baris ini utk membuat gambarnya\n",
    "plt.show()"
   ]
  },
  {
   "cell_type": "markdown",
   "metadata": {
    "slideshow": {
     "slide_type": "slide"
    }
   },
   "source": [
    "# Kelemahan Kedua: Hasil yang tidak <font color=\"blue\">Robust\n",
    "\n",
    "## Studi Kasus <font color=\"blue\">K-Medoid\n",
    "\n",
    "* Pentingnya memahami \"konsep\" statistika/matematika dasar.\n",
    "\n",
    "<img src='images/kmeans-vs-kmedoids.png'  style=\"height: 300px\"/>\n",
    "\n",
    "* Sumber Gambar: https://www.researchgate.net/figure/The-graphical-representation-of-the-difference-between-the-k-means-and-k-medoids_fig1_342871651"
   ]
  },
  {
   "cell_type": "markdown",
   "metadata": {
    "slideshow": {
     "slide_type": "slide"
    }
   },
   "source": [
    "# Fenomena terkenal di \" <font color=\"blue\">How to Lie with Statistics \"\n",
    "\n",
    "<img src='images/mean_vs_median.png' style=\"height: 300px\"/>\n",
    "\n",
    "* Average menurut kamus Oxford: https://www.lexico.com/en/definition/average\n",
    "\n",
    "## Dari Mean ke Median (Medoid)"
   ]
  },
  {
   "cell_type": "code",
   "execution_count": 8,
   "metadata": {
    "slideshow": {
     "slide_type": "slide"
    }
   },
   "outputs": [
    {
     "data": {
      "image/png": "[encoded data removed]",
      "text/plain": [
       "<Figure size 432x288 with 1 Axes>"
      ]
     },
     "metadata": {
      "needs_background": "light"
     },
     "output_type": "display_data"
    }
   ],
   "source": [
    "# Toy-data ==> ini perlu di riset\n",
    "A = np.array([[2, 0], [1, 2], [2, 2], [7, 2], [6, 1], [7, 0], [10,10]])\n",
    "fig, ax = plt.subplots()\n",
    "ax.scatter(A[:,0], A[:,1])\n",
    "plt.show()"
   ]
  },
  {
   "cell_type": "code",
   "execution_count": 9,
   "metadata": {
    "slideshow": {
     "slide_type": "slide"
    }
   },
   "outputs": [],
   "source": [
    "# Solusi k-Means\n",
    "km = cluster.KMeans(n_clusters=2, init='k-means++').fit(A)\n",
    "C_km = km.predict(A)\n",
    "centroid_km = km.cluster_centers_\n",
    "\n",
    "# Solusi k-Medoid: https://scikit-learn-extra.readthedocs.io/en/stable/generated/sklearn_extra.cluster.KMedoids.html\n",
    "from sklearn_extra.cluster import KMedoids\n",
    "\n",
    "kmedoids = KMedoids(n_clusters=2).fit(A)\n",
    "C_med = kmedoids.predict(A)\n",
    "centroid_med = kmedoids.cluster_centers_\n",
    "# Perhatikan Codingnya sangat sederhana (hanya 3 baris!!!), coding di penelitian DS jarang menjadi masalah utama.\n",
    "# Google sebentar + baca kurang dari 10 menit, maka kita sudah bisa menerapkannya.\n",
    "# Kalaupun ada error, warga Stackoverflow siap membantu."
   ]
  },
  {
   "cell_type": "code",
   "execution_count": 10,
   "metadata": {
    "slideshow": {
     "slide_type": "slide"
    }
   },
   "outputs": [
    {
     "data": {
      "image/png": "[encoded data removed]",
      "text/plain": [
       "<Figure size 432x288 with 1 Axes>"
      ]
     },
     "metadata": {
      "needs_background": "light"
     },
     "output_type": "display_data"
    },
    {
     "data": {
      "text/plain": [
       "array([0, 0, 0, 0, 0, 0, 1])"
      ]
     },
     "execution_count": 10,
     "metadata": {},
     "output_type": "execute_result"
    }
   ],
   "source": [
    "# Plot Solusi k-Means\n",
    "fig, ax = plt.subplots()\n",
    "ax.scatter(A[:,0], A[:,1], c=C_km, s=100) # s= size\n",
    "ax.scatter(centroid_km[:,0], centroid_km[:,1], c=\"red\", s=30) # Centroid k-Means \"Red\"\n",
    "plt.show()\n",
    "C_km"
   ]
  },
  {
   "cell_type": "code",
   "execution_count": 11,
   "metadata": {
    "slideshow": {
     "slide_type": "slide"
    }
   },
   "outputs": [
    {
     "data": {
      "image/png": "[encoded data removed]",
      "text/plain": [
       "<Figure size 432x288 with 1 Axes>"
      ]
     },
     "metadata": {
      "needs_background": "light"
     },
     "output_type": "display_data"
    }
   ],
   "source": [
    "# Plot Solusi k-Medoid\n",
    "fig, ax = plt.subplots()\n",
    "ax.scatter(A[:,0], A[:,1], c=C_med, s=100)\n",
    "ax.scatter(centroid_med[:,0], centroid_med[:,1], c=\"green\", s=30) # Centroid k-Medoid \"Green\"\n",
    "plt.show() \n",
    "\n",
    "# Di Contoh ini terlihat pentingnya Outlier detection!"
   ]
  },
  {
   "cell_type": "markdown",
   "metadata": {
    "slideshow": {
     "slide_type": "slide"
    }
   },
   "source": [
    "# <font color=\"blue\">Diskusi</font>: Apakah berarti k-Medoid lebih baik dari k-Means?"
   ]
  },
  {
   "cell_type": "markdown",
   "metadata": {
    "slideshow": {
     "slide_type": "slide"
    }
   },
   "source": [
    "# Siapa yang tidak suka ngebut: <font color=\"blue\">Performa</font> dalam algoritma DS/ML\n",
    "\n",
    "## Studi Kasus <font color=\"blue\">MiniBatch k-Means\n",
    "\n",
    "<img src='images/clus_mindMap-03.png'/>"
   ]
  },
  {
   "cell_type": "markdown",
   "metadata": {
    "slideshow": {
     "slide_type": "slide"
    }
   },
   "source": [
    "# Tantangan <font color=\"blue\">Komputasi\n",
    "\n",
    "* pahami Algoritmanya, ada nested Loop yang cukup dalam di k-Means.\n",
    "\n",
    "<img alt=\"\" src=\"images/clustering_efficiency.png\" />"
   ]
  },
  {
   "cell_type": "markdown",
   "metadata": {
    "slideshow": {
     "slide_type": "slide"
    }
   },
   "source": [
    "# Handling \"<font color=\"blue\">Large Data</font>\" : Mini-Batch k-Means\n",
    "\n",
    "<img alt=\"\" src=\"images/5_minibatch.JPG\" style=\"height: 300px\" />\n",
    "\n",
    "* <strong>Referensi</strong>: *Sculley, D. (2010, April). Web-scale k-means clustering. In&nbsp;<em>Proceedings of the 19th international conference on World wide web</em>&nbsp;(pp. 1177-1178). ACM. **Google**\n",
    "* Termasuk pendekatan \"sampling\" untuk menangani data yang besar (**Volume**)\n",
    "* Ingat ... Sampling dilakukan dengan menggunakan \"pengacakan\"/random .... Apa konsekuensinya?...."
   ]
  },
  {
   "cell_type": "code",
   "execution_count": 12,
   "metadata": {
    "slideshow": {
     "slide_type": "slide"
    }
   },
   "outputs": [
    {
     "name": "stdout",
     "output_type": "stream",
     "text": [
      "[1 1 1 1 1 1 1 1 1 1 1 1 1 1 1 1 1 1 1 1 1 1 1 1 1 1 1 1 1 1 1 1 1 1 1 1 1\n",
      " 1 1 1 1 1 1 1 1 1 1 1 1 1 2 2 0 2 2 2 2 2 2 2 2 2 2 2 2 2 2 2 2 2 2 2 2 2\n",
      " 2 2 2 0 2 2 2 2 2 2 2 2 2 2 2 2 2 2 2 2 2 2 2 2 2 2 0 2 0 0 0 0 2 0 0 0 0\n",
      " 0 0 2 2 0 0 0 0 2 0 2 0 2 0 0 2 2 0 0 0 0 0 2 0 0 0 0 2 0 0 0 2 0 0 0 2 0\n",
      " 0 2]\n"
     ]
    },
    {
     "data": {
      "image/png": "[encoded data removed]",
      "text/plain": [
       "<Figure size 432x288 with 1 Axes>"
      ]
     },
     "metadata": {
      "needs_background": "light"
     },
     "output_type": "display_data"
    }
   ],
   "source": [
    "# MiniBatch k-Means \n",
    "# http://scikit-learn.org/stable/modules/generated/sklearn.cluster.MiniBatchKMeans.html\n",
    "# minibatch \"tidak bisa parallel\"!!!...\n",
    "# parameter penting km = batch_size ... pada aplikasi sesungguhnya disarankan \"minimal\" 3xk\n",
    "mbkm = cluster.MiniBatchKMeans(n_clusters=3, batch_size = 100, random_state = 33) \n",
    "mbkm.fit(X)\n",
    "C_mbkm = mbkm.predict(X)\n",
    "print(C_mbkm)\n",
    "fig, ax = plt.subplots()\n",
    "ax.scatter(X2D[:,0], X2D[:,1], c=C_mbkm)\n",
    "plt.show()"
   ]
  },
  {
   "cell_type": "markdown",
   "metadata": {
    "slideshow": {
     "slide_type": "slide"
    }
   },
   "source": [
    "# Jiwa Data Science/Mining Terletak pada <font color=\"blue\">\"Insight\"\n",
    "\n",
    "### Studi Kasus <font color=\"blue\">Hierarchical Clustering\n",
    "\n",
    "<img src='images/clus_mindMap-04.png'/>\n",
    "\n",
    "### Tips: Pahami keterbatasan \"aplikasi\" dari model/algoritma baseline."
   ]
  },
  {
   "cell_type": "markdown",
   "metadata": {
    "slideshow": {
     "slide_type": "slide"
    }
   },
   "source": [
    "# Hierarchical Clustering <font color=\"blue\">Applications\n",
    "\n",
    "<img alt=\"\" src=\"images/5_Hierarchical_Text_Clustering_in_Genes_penyakit.jpg\" style=\"height: 300px\"/>\n",
    "\n",
    "### image Source: https://www.sciencedirect.com/science/article/pii/S1532046416000307\n",
    "    \n",
    "## Kira-kira apa batasan dari metode yang terlalu fokus ke interpretability?"
   ]
  },
  {
   "cell_type": "code",
   "execution_count": 13,
   "metadata": {
    "slideshow": {
     "slide_type": "slide"
    }
   },
   "outputs": [
    {
     "data": {
      "text/plain": [
       "array([1, 1, 1, 1, 1, 1, 1, 1, 1, 1, 1, 1, 1, 1, 1, 1, 1, 1, 1, 1, 1, 1,\n",
       "       1, 1, 1, 1, 1, 1, 1, 1, 1, 1, 1, 1, 1, 1, 1, 1, 1, 1, 1, 1, 1, 1,\n",
       "       1, 1, 1, 1, 1, 1, 0, 0, 0, 0, 0, 0, 0, 0, 0, 0, 0, 0, 0, 0, 0, 0,\n",
       "       0, 0, 0, 0, 0, 0, 0, 0, 0, 0, 0, 0, 0, 0, 0, 0, 0, 0, 0, 0, 0, 0,\n",
       "       0, 0, 0, 0, 0, 0, 0, 0, 0, 0, 0, 0, 0, 0, 0, 0, 0, 0, 0, 0, 0, 0,\n",
       "       0, 0, 0, 0, 0, 0, 0, 2, 0, 0, 0, 0, 0, 0, 0, 0, 0, 0, 0, 0, 0, 2,\n",
       "       0, 0, 0, 0, 0, 0, 0, 0, 0, 0, 0, 0, 0, 0, 0, 0, 0, 0])"
      ]
     },
     "execution_count": 13,
     "metadata": {},
     "output_type": "execute_result"
    }
   ],
   "source": [
    "# Hierarchical http://scikit-learn.org/stable/modules/generated/sklearn.cluster.AgglomerativeClustering.html#sklearn.cluster.AgglomerativeClustering\n",
    "hierarchical = cluster.AgglomerativeClustering(n_clusters=3, linkage='single', affinity = 'euclidean')\n",
    "hierarchical.fit(X) # Lambat .... dan menggunakan banyak memori O(N^2 log(N))\n",
    "C_h = hierarchical.labels_.astype(np.int)\n",
    "C_h"
   ]
  },
  {
   "cell_type": "code",
   "execution_count": 14,
   "metadata": {
    "slideshow": {
     "slide_type": "slide"
    }
   },
   "outputs": [
    {
     "data": {
      "image/png": "[encoded data removed]",
      "text/plain": [
       "<Figure size 720x720 with 4 Axes>"
      ]
     },
     "metadata": {
      "needs_background": "light"
     },
     "output_type": "display_data"
    }
   ],
   "source": [
    "# Dendogram Example\n",
    "# http://seaborn.pydata.org/generated/seaborn.clustermap.html\n",
    "g = sns.clustermap(X, method=\"single\", metric=\"euclidean\")"
   ]
  },
  {
   "cell_type": "markdown",
   "metadata": {
    "slideshow": {
     "slide_type": "slide"
    }
   },
   "source": [
    "# Contoh Penerapan di Penelitian\n",
    "\n",
    "<img alt=\"\" src=\"images/dendogram_radio_umum.png\" />"
   ]
  },
  {
   "cell_type": "markdown",
   "metadata": {
    "slideshow": {
     "slide_type": "slide"
    }
   },
   "source": [
    "# <font color=\"blue\">Spectral Clustering\n",
    "\n",
    "Spectral clustering bisa mengelompokkan data yang tidak &quot;spherical&quot; (bulat/Convex seperti k-means)\n",
    "\n",
    "<img alt=\"\" src=\"images/5_Spectral_kmeans.png\" style=\"height:284px; width:671px\" />\n",
    "\n",
    "### Pahami Bias dari pemilihan algoritma dan konsekuensi pada studi perbandingan.\n",
    "\n",
    "* Contoh yang pernah saya alami ketika menguji: Tree vs forest."
   ]
  },
  {
   "cell_type": "code",
   "execution_count": 15,
   "metadata": {
    "slideshow": {
     "slide_type": "slide"
    }
   },
   "outputs": [
    {
     "name": "stdout",
     "output_type": "stream",
     "text": [
      "[1 1 1 1 1 1 1 1 1 1 1 1 1 1 1 1 1 1 1 1 1 1 1 1 1 1 1 1 1 1 1 1 1 1 1 1 1\n",
      " 1 1 1 1 1 1 1 1 1 1 1 1 1 0 0 0 0 0 0 0 0 0 0 0 0 0 0 0 0 0 0 0 0 0 0 0 0\n",
      " 0 0 0 0 0 0 0 0 0 0 0 0 0 0 0 0 0 0 0 0 0 0 0 0 0 0 2 0 2 2 2 2 0 2 2 2 2\n",
      " 2 2 0 0 2 2 2 2 0 2 0 2 0 2 2 0 0 2 2 2 2 2 0 0 2 2 2 0 2 2 2 0 2 2 2 0 2\n",
      " 2 0]\n"
     ]
    },
    {
     "data": {
      "image/png": "[encoded data removed]",
      "text/plain": [
       "<Figure size 432x288 with 1 Axes>"
      ]
     },
     "metadata": {
      "needs_background": "light"
     },
     "output_type": "display_data"
    }
   ],
   "source": [
    "# Spectral : http://scikit-learn.org/stable/modules/generated/sklearn.cluster.SpectralClustering.html\n",
    "spectral = cluster.SpectralClustering(n_clusters=3)\n",
    "spectral.fit(X)\n",
    "C_spec = spectral.labels_.astype(np.int)\n",
    "print(C_spec)\n",
    "fig, ax = plt.subplots()\n",
    "ax.scatter(X2D[:,0], X2D[:,1], c=C_spec)\n",
    "plt.show()"
   ]
  },
  {
   "cell_type": "markdown",
   "metadata": {
    "slideshow": {
     "slide_type": "slide"
    }
   },
   "source": [
    "# Sprint ke Setengah Bagan\n",
    "\n",
    "* Konsep, Konsep, Konsep, ...\n",
    "* Detail lebih lanjut: https://tau-data.id/eda-03/ dan https://tau-data.id/eda-04/\n",
    "<img src='images/clus_mindMap-05.png'/>"
   ]
  },
  {
   "cell_type": "markdown",
   "metadata": {
    "slideshow": {
     "slide_type": "slide"
    }
   },
   "source": [
    "# Clustering yang sudah kita bahas diatas bahkan tidak bisa digunakan untuk data yang sederhana berikut (mengapa?)\n",
    "\n",
    "<img src='images/Tbl_cat_num.png'/>\n",
    "\n",
    "Solusi:\n",
    "1. Dasar: one-hot/dummy encoding\n",
    "2. Gower https://medium.com/@rumman1988/clustering-categorical-and-numerical-datatype-using-gower-distance-ab89b3aa90d9"
   ]
  },
  {
   "cell_type": "markdown",
   "metadata": {
    "slideshow": {
     "slide_type": "slide"
    }
   },
   "source": [
    "# Fine-grained : Birch, FGCR\n",
    "\n",
    "<img src='images/kmeanspp.png'  style=\"height: 300px\"/>\n",
    "\n",
    "* BIRCH https://scikit-learn.org/stable/modules/generated/sklearn.cluster.Birch.html"
   ]
  },
  {
   "cell_type": "markdown",
   "metadata": {
    "slideshow": {
     "slide_type": "slide"
    }
   },
   "source": [
    "# Curse of Dimensionality <font color=\"blue\">(CoD)\n",
    "\n",
    "<img src='images/Curse_of_dimensionality.png'  style=\"height: 400px\"/>\n",
    "\n",
    "## Sering terjadi di data tidak terstruktur\n",
    "\n",
    "* Misal jumlah kolom VSM atau\n",
    "* Jumlah neuron di Word Embedding\n",
    "* Terjadi perubahan culture riset dari yang dominan analitik ke empiris (akibat Big Data)."
   ]
  },
  {
   "cell_type": "markdown",
   "metadata": {
    "slideshow": {
     "slide_type": "slide"
    }
   },
   "source": [
    "# <font color=\"blue\">Diskusi</font>: Bagaimana kita tau masalah-masalah ini?"
   ]
  },
  {
   "cell_type": "markdown",
   "metadata": {
    "slideshow": {
     "slide_type": "slide"
    }
   },
   "source": [
    "# Emang iya?\n",
    "\n",
    "<img src='images/toydata_contoh_cod.png'  style=\"height: 400px\"/>\n"
   ]
  },
  {
   "cell_type": "markdown",
   "metadata": {
    "slideshow": {
     "slide_type": "slide"
    }
   },
   "source": [
    "# <font color=\"blue\">Solusi Analitik\n",
    "\n",
    "<img src='images/hubs_vs_centroid_medoid.png'  style=\"height: 400px\"/>\n",
    "* Hubness: berapa kali suatu data point menjadi \"tetangga\" (k-NN) dari data lain di data.\n",
    "* https://slideplayer.com/slide/3233739/"
   ]
  },
  {
   "cell_type": "markdown",
   "metadata": {},
   "source": [
    "# <font color=\"blue\">Solusi via Teknologi\n",
    "\n",
    "<img src='images/IR-Data-Mining.png'  style=\"height: 400px\"/>"
   ]
  },
  {
   "cell_type": "markdown",
   "metadata": {
    "slideshow": {
     "slide_type": "slide"
    }
   },
   "source": [
    "# Dari mana <font color=\"blue\">inspirasi/ide</font> risetnya?"
   ]
  },
  {
   "cell_type": "markdown",
   "metadata": {
    "slideshow": {
     "slide_type": "slide"
    }
   },
   "source": [
    "# Hubs: Penelitian di sub-topik \"representasi cluster\"\n",
    "\n",
    "<img src='images/Representasi_Cluster.PNG'  style=\"height: 400px\"/>\n",
    "* Sutanto, T., & Nayak, R. (2018). Fine-grained document clustering via ranking and its application to social media analytics. Social Network Analysis and Mining, 8(1), 1-19."
   ]
  },
  {
   "cell_type": "markdown",
   "metadata": {
    "slideshow": {
     "slide_type": "slide"
    }
   },
   "source": [
    "# Variety: Berbagai macam format data di era Data\n",
    "\n",
    "<img src='images/variety.png'  style=\"height: 400px\"/>"
   ]
  },
  {
   "cell_type": "markdown",
   "metadata": {
    "slideshow": {
     "slide_type": "slide"
    }
   },
   "source": [
    "# Representasi Dokumen (sederhana): Vector Space Model\n",
    "\n",
    "<img src='images/contoh_vsm.png'  style=\"height: 400px\"/>\n",
    "\n",
    "sumber gambar: https://cupdf.com/document/isp433633-week-3.html\n",
    "\n",
    "## Resapi sebentar, jangan hanya fokus untuk mengerti, tapi apa makna dan konsekuensinya?"
   ]
  },
  {
   "cell_type": "code",
   "execution_count": 16,
   "metadata": {
    "slideshow": {
     "slide_type": "slide"
    }
   },
   "outputs": [
    {
     "name": "stdout",
     "output_type": "stream",
     "text": [
      "[[0 0 0 0 1 0 0 0 1 1 0 1 1 0 0 1 0 0 2 1 0 0 1 0 0 0 1 1]\n",
      " [0 0 1 1 0 1 0 0 0 0 0 0 0 0 1 0 1 0 0 0 0 1 0 1 1 1 0 0]\n",
      " [1 1 1 0 0 0 1 1 0 0 1 0 1 1 0 0 0 1 0 0 1 0 0 0 0 0 0 0]]\n",
      "{'udin76': 27, 'minum': 15, 'kopi': 11, 'pagi': 18, 'sambil': 22, 'makan': 12, 'pisang': 19, 'goreng': 8, 'is': 9, 'the': 26, 'best': 4, 'belajar': 3, 'nlp': 16, 'dan': 5, 'text': 25, 'mining': 14, 'ternyata': 24, 'seru': 23, 'banget': 2, 'sadiezz': 21, 'aduh': 0, 'ga': 7, 'mie': 13, 'ayam': 1, 'p4k4i': 17, 'kesyap': 10, 'please': 20, 'deh': 6}\n"
     ]
    }
   ],
   "source": [
    "# Implementasi Python\n",
    "from sklearn.feature_extraction.text import CountVectorizer\n",
    "\n",
    "d1 = '@udin76, Minum kopi pagi-pagi sambil makan pisang goreng is the best'\n",
    "d2 = 'Belajar NLP dan Text Mining ternyata seru banget sadiezz'\n",
    "d3 = 'Aduh ga banget makan Mie Ayam p4k4i kesyap, please deh'\n",
    "D = [d1,d2,d3]\n",
    "tf_vectorizer = CountVectorizer(binary = False)\n",
    "tf = tf_vectorizer.fit_transform(D)\n",
    "print(tf.toarray())\n",
    "print(tf_vectorizer.vocabulary_)"
   ]
  },
  {
   "cell_type": "markdown",
   "metadata": {
    "slideshow": {
     "slide_type": "slide"
    }
   },
   "source": [
    "# Data Tidak Terstruktur memiliki dimensi tambahan: perspektif/konteks\n",
    "\n",
    "## Latent Dirichlet Allocation\n",
    "\n",
    "<img alt=\"\" src=\"images/4_Document_to_Topics.png\" style=\"height: 300px\" />\n",
    "\n",
    "* Topic modelling lebih ke soft-clustering, dimana suatu dokumen dapat dimasukkan ke dalam beberapa cluster (topic) sekaligus. Adapun nama \"topic/cluster\"-nya di interpretasi dari kata-kata yang ada didalamnya.\n",
    "* Blei, D. M., Ng, A. Y., & Jordan, M. I. (2003). Latent dirichlet allocation. Journal of machine Learning research, 3(Jan), 993-1022."
   ]
  },
  {
   "cell_type": "markdown",
   "metadata": {
    "slideshow": {
     "slide_type": "slide"
    }
   },
   "source": [
    "<img alt=\"\" src=\"images/Probabilistic_Graph_Model.png\" style=\"width: 800px; height: 565px;\" />"
   ]
  },
  {
   "cell_type": "markdown",
   "metadata": {
    "slideshow": {
     "slide_type": "slide"
    }
   },
   "source": [
    "<img alt=\"\" src=\"images/LDA_Distributions.png\" style=\"width: 800px; height: 623px;\" />\n",
    "\n",
    "## Melihat rumusnya memang pusing, tapi setidaknya ada satu-dua hal dasar yang bisa kita mengerti dan penting."
   ]
  },
  {
   "cell_type": "markdown",
   "metadata": {
    "slideshow": {
     "slide_type": "slide"
    }
   },
   "source": [
    "# Contoh implementasi: studi kasus 20NewsGroup (3 kategori)\n",
    "\n",
    "<img alt=\"\" src=\"images/6_20News.jpg\" style=\"height: 300px ; width: 533px\" />\n",
    "<p><a href=\"http://scikit-learn.org/stable/modules/generated/sklearn.datasets.fetch_20newsgroups.html#sklearn.datasets.fetch_20newsgroups\" target=\"_blank\">http://scikit-learn.org/stable/modules/generated/sklearn.datasets.fetch_20newsgroups.html#sklearn.datasets.fetch_20newsgroups</a></p>\n",
    "\n",
    "<p><strong>Categories </strong>=&nbsp;</p>\n",
    "<pre>\n",
    "[&#39;alt.atheism&#39;, &#39;comp.graphics&#39;, &#39;comp.os.ms-windows.misc&#39;, &#39;comp.sys.ibm.pc.hardware&#39;, &#39;comp.sys.mac.hardware&#39;,\n",
    " &#39;comp.windows.x&#39;, &#39;misc.forsale&#39;, &#39;rec.autos&#39;, &#39;rec.motorcycles&#39;, &#39;rec.sport.baseball&#39;, &#39;rec.sport.hockey&#39;,\n",
    " &#39;sci.crypt&#39;, &#39;sci.electronics&#39;, &#39;sci.med&#39;, &#39;sci.space&#39;, &#39;soc.religion.christian&#39;, &#39;talk.politics.guns&#39;,\n",
    " &#39;talk.politics.mideast&#39;, &#39;talk.politics.misc&#39;, &#39;talk.religion.misc&#39;]</pre>"
   ]
  },
  {
   "cell_type": "code",
   "execution_count": 17,
   "metadata": {
    "slideshow": {
     "slide_type": "slide"
    }
   },
   "outputs": [
    {
     "data": {
      "text/plain": [
       "'Done'"
      ]
     },
     "execution_count": 17,
     "metadata": {},
     "output_type": "execute_result"
    }
   ],
   "source": [
    "# Load Data terlebih dahulu\n",
    "# Warning: Butuh koneksi internet jika belum pernah dijalankan\n",
    "import pickle\n",
    "from sklearn.datasets import fetch_20newsgroups\n",
    "\n",
    "try: # Menghindari download dari internet berulang-ulang, cache di local storage\n",
    "    f = open('data/News20_3Cats.pckl', 'rb')\n",
    "    data = pickle.load(f)\n",
    "    f.close()\n",
    "except:\n",
    "    categories = ['sci.med', 'talk.politics.misc',  'rec.autos']\n",
    "    data = fetch_20newsgroups(categories=categories,remove=('headers', 'footers', 'quotes'))\n",
    "    #data = fetch_20newsgroups(subset='train', remove=('headers', 'footers', 'quotes'))\n",
    "    f = open('data/News20_3Cats.pckl', 'wb')\n",
    "    pickle.dump(data, f)\n",
    "    f.close()\n",
    "'Done'"
   ]
  },
  {
   "cell_type": "code",
   "execution_count": 18,
   "metadata": {
    "slideshow": {
     "slide_type": "slide"
    }
   },
   "outputs": [
    {
     "name": "stdout",
     "output_type": "stream",
     "text": [
      "Label Dokumen:  {0, 1, 2}\n"
     ]
    },
    {
     "data": {
      "text/plain": [
       "['I want to get a car alarm and I am thinking about getting an Ungo Box.\\n    Does anyone out there have any knowledge or experience with any of\\n    these alarms?  How about price ranges for the different models?\\n    Are these good car alarms?  Please email me any responces.\\n\\n                cak3@ns3.lehigh.edu',\n",
       " 'I did hear this question asked during a radio news update of the case.  (They\\nwere talking about the ongoing trial and had some audio clips).  Immediately\\nafter the defense attorney asked the question, there was an \"Objection!\" heard\\nin the background.  The clip ended at that point so I don\\'t know if the\\nobjection was upheld.  I can\\'t imagine NC is *that* bad. \\n\\nThis I didn\\'t hear as an audio clip but heard it reported a number of times on\\nnews stories both during and after the trial.  Now the \"we did it on purpose\"\\nthing is stretching, I think it was something more like--he had it coming.  If\\nsomebody else remebers better than I on this second point, feel free to\\nclarify.  \\n        \\nFrank\\n\\n--------------------------------------------------------------------------\\n\\nFrank R. Chloupek \\nCHLOUPEK@ohstpy.mps.ohio-state.edu \\nDepartment of Physics -- *The* Ohio State University\\n(Not just any Ohio State University) ']"
      ]
     },
     "execution_count": 18,
     "metadata": {},
     "output_type": "execute_result"
    }
   ],
   "source": [
    "# Rubah struktur data diatas ke dalam bentuk struktur data sederhana: \"list of documents\"\n",
    "Y = data.target # List: 0 = kategori 1, 1 = kategori 2, ... dst\n",
    "print('Label Dokumen: ',set(Y))\n",
    "X = [doc for doc in data.data] # setiap elemen dalam list adalah dokumen\n",
    "# Tips menggunakan struktur data paling sederhana biasanya adalah keputusan yang baik.\n",
    "X[:2] # Contoh 2 dokumen pertama"
   ]
  },
  {
   "cell_type": "code",
   "execution_count": 19,
   "metadata": {
    "slideshow": {
     "slide_type": "slide"
    }
   },
   "outputs": [
    {
     "data": {
      "text/plain": [
       "(1653, 4438)"
      ]
     },
     "execution_count": 19,
     "metadata": {},
     "output_type": "execute_result"
    }
   ],
   "source": [
    "# Bentuk VSM-nya\n",
    "# mengapa TF dan bukan tf-idf?\n",
    "tf_vectorizer = CountVectorizer(binary = False, lowercase=True, stop_words='english', max_df=0.75, min_df=5)\n",
    "tf = tf_vectorizer.fit_transform(X)\n",
    "tf_terms = tf_vectorizer.get_feature_names()\n",
    "tf.shape"
   ]
  },
  {
   "cell_type": "markdown",
   "metadata": {
    "slideshow": {
     "slide_type": "slide"
    }
   },
   "source": [
    "# Kita eksperimen dulu jika menggunakan metode konvensional (k-means++)"
   ]
  },
  {
   "cell_type": "code",
   "execution_count": 20,
   "metadata": {
    "slideshow": {
     "slide_type": "slide"
    }
   },
   "outputs": [
    {
     "data": {
      "image/png": "[encoded data removed]",
      "text/plain": [
       "<Figure size 432x288 with 1 Axes>"
      ]
     },
     "metadata": {
      "needs_background": "light"
     },
     "output_type": "display_data"
    }
   ],
   "source": [
    "kmPP = cluster.KMeans(n_clusters=k, init='k-means++').fit(tf)\n",
    "C_kmpp = kmPP.predict(tf)\n",
    "p = sns.countplot(C_kmpp) # Apa makna hasil ini?"
   ]
  },
  {
   "cell_type": "code",
   "execution_count": 21,
   "metadata": {
    "slideshow": {
     "slide_type": "slide"
    }
   },
   "outputs": [
    {
     "data": {
      "text/plain": [
       "LatentDirichletAllocation(n_components=3, random_state=0)"
      ]
     },
     "execution_count": 21,
     "metadata": {},
     "output_type": "execute_result"
    }
   ],
   "source": [
    "# Dilanjutkan dengan membentuk model LDA-nya\n",
    "from sklearn.decomposition import LatentDirichletAllocation as LDA\n",
    "# https://scikit-learn.org/stable/modules/generated/sklearn.decomposition.LatentDirichletAllocation.html\n",
    "n_topics = 3\n",
    "lda = LDA(n_components=n_topics, learning_method='batch', random_state=0).fit(tf)   \n",
    "lda"
   ]
  },
  {
   "cell_type": "code",
   "execution_count": 22,
   "metadata": {
    "slideshow": {
     "slide_type": "slide"
    }
   },
   "outputs": [],
   "source": [
    "def print_Topics(model, feature_names, Top_Topics, n_top_words):\n",
    "    for topic_idx, topic in enumerate(model.components_[:Top_Topics]):\n",
    "        print(\"Topic #%d:\" %(topic_idx+1))\n",
    "        print(\" \".join([feature_names[i]\n",
    "                        for i in topic.argsort()[:-n_top_words - 1:-1]]))"
   ]
  },
  {
   "cell_type": "code",
   "execution_count": 23,
   "metadata": {
    "slideshow": {
     "slide_type": "slide"
    }
   },
   "outputs": [
    {
     "name": "stdout",
     "output_type": "stream",
     "text": [
      "(1653, 3)\n"
     ]
    },
    {
     "data": {
      "image/png": "[encoded data removed]",
      "text/plain": [
       "<Figure size 432x288 with 1 Axes>"
      ]
     },
     "metadata": {
      "needs_background": "light"
     },
     "output_type": "display_data"
    }
   ],
   "source": [
    "vsm_topics = lda.transform(tf)\n",
    "print(vsm_topics.shape)# Ukuran kolom = #Topics ==> Dimension Reduction\n",
    "# Seandainya diasumsikan 1 dokumen hanya 1 topic dengan nilai skor topic terbesar\n",
    "doc_topic =  [a.argmax()+1 for a in vsm_topics] # topic of docs\n",
    "p=sns.countplot(doc_topic)"
   ]
  },
  {
   "cell_type": "code",
   "execution_count": 24,
   "metadata": {
    "slideshow": {
     "slide_type": "slide"
    }
   },
   "outputs": [
    {
     "name": "stdout",
     "output_type": "stream",
     "text": [
      "Printing top 3 Topics, with top 7 Words:\n",
      "Topic #1:\n",
      "president mr stephanopoulos edu com think health\n",
      "Topic #2:\n",
      "car like just don good time know\n",
      "Topic #3:\n",
      "people don government just think like make\n"
     ]
    }
   ],
   "source": [
    "# Mari kita coba maknai masing-masing topic ini\n",
    "Top_Words=7\n",
    "print('Printing top {0} Topics, with top {1} Words:'.format(n_topics, Top_Words))\n",
    "print_Topics(lda, tf_terms, n_topics, Top_Words)"
   ]
  },
  {
   "cell_type": "markdown",
   "metadata": {
    "slideshow": {
     "slide_type": "slide"
    }
   },
   "source": [
    "# Tapi kelebihan utamanya bukan disini"
   ]
  },
  {
   "cell_type": "code",
   "execution_count": 25,
   "metadata": {
    "slideshow": {
     "slide_type": "slide"
    }
   },
   "outputs": [
    {
     "data": {
      "text/html": [
       "\n",
       "<link rel=\"stylesheet\" type=\"text/css\" href=\"https://cdn.jsdelivr.net/gh/bmabey/pyLDAvis@3.2.2/pyLDAvis/js/ldavis.v1.0.0.css\">\n",
       "\n",
       "\n",
       "<div id=\"ldavis_el1528817035511783365819553504\"></div>\n",
       "<script type=\"text/javascript\">\n",
       "\n",
       "var ldavis_el1528817035511783365819553504_data = {\"mdsDat\": {\"x\": [0.12592186078731243, -0.1275796107249797, 0.0016577499376673021], \"y\": [-0.06128953994678415, -0.05893102541571929, 0.12022056536250342], \"topics\": [1, 2, 3], \"cluster\": [1, 1, 1], \"Freq\": [39.05498228416304, 30.958659692665425, 29.986358023171544]}, \"tinfo\": {\"Term\": [\"president\", \"stephanopoulos\", \"mr\", \"people\", \"car\", \"com\", \"government\", \"1993\", \"health\", \"war\", \"package\", \"ms\", \"edu\", \"myers\", \"msg\", \"insurance\", \"doctor\", \"pain\", \"administration\", \"country\", \"april\", \"university\", \"engine\", \"banks\", \"gordon\", \"states\", \"pitt\", \"jobs\", \"surrender\", \"geb\", \"msg\", \"candida\", \"tires\", \"pain\", \"brake\", \"foods\", \"vitamin\", \"yeast\", \"typing\", \"pc\", \"doctor\", \"tire\", \"chinese\", \"chronic\", \"acid\", \"immune\", \"allergic\", \"transmission\", \"surgery\", \"therapy\", \"fluids\", \"vw\", \"faq\", \"manual\", \"abs\", \"soda\", \"sho\", \"gear\", \"windows\", \"treatments\", \"diet\", \"rec\", \"engine\", \"autos\", \"sci\", \"rear\", \"symptoms\", \"tests\", \"scientific\", \"normal\", \"speed\", \"radar\", \"car\", \"cure\", \"science\", \"body\", \"eat\", \"treatment\", \"cause\", \"info\", \"drive\", \"disease\", \"patients\", \"effects\", \"thanks\", \"test\", \"food\", \"cars\", \"like\", \"good\", \"used\", \"day\", \"problems\", \"use\", \"just\", \"better\", \"problem\", \"time\", \"does\", \"don\", \"know\", \"really\", \"new\", \"ve\", \"help\", \"people\", \"think\", \"right\", \"work\", \"way\", \"want\", \"stephanopoulos\", \"vat\", \"dept\", \"ms\", \"stimulus\", \"volume\", \"dole\", \"cdc\", \"package\", \"senator\", \"saturn\", \"yesterday\", \"centers\", \"myers\", \"sales\", \"surveillance\", \"president\", \"frank\", \"briefing\", \"tomorrow\", \"hp\", \"comprehensive\", \"jackson\", \"users\", \"bosnia\", \"fund\", \"gt\", \"request\", \"colorado\", \"director\", \"1993\", \"cs\", \"meeting\", \"1991\", \"george\", \"newsletter\", \"mr\", \"insurance\", \"page\", \"com\", \"administration\", \"press\", \"tobacco\", \"groups\", \"health\", \"university\", \"official\", \"center\", \"april\", \"edu\", \"national\", \"program\", \"said\", \"going\", \"10\", \"think\", \"number\", \"year\", \"water\", \"know\", \"states\", \"don\", \"ll\", \"new\", \"care\", \"did\", \"use\", \"just\", \"banks\", \"surrender\", \"geb\", \"shameful\", \"intellect\", \"skepticism\", \"pitt\", \"n3jxp\", \"chastity\", \"cadre\", \"dsl\", \"crime\", \"secret\", \"hitler\", \"libertarians\", \"constitution\", \"libertarian\", \"war\", \"crimes\", \"britain\", \"liberal\", \"kirlian\", \"clayton\", \"judge\", \"orientation\", \"nazis\", \"responsibility\", \"photography\", \"murder\", \"cramer\", \"gordon\", \"homosexual\", \"nuclear\", \"country\", \"sexual\", \"court\", \"homosexuals\", \"friends\", \"government\", \"economy\", \"society\", \"men\", \"south\", \"property\", \"people\", \"laws\", \"drugs\", \"federal\", \"soon\", \"make\", \"don\", \"state\", \"just\", \"want\", \"think\", \"like\", \"law\", \"time\", \"know\", \"new\", \"right\", \"work\", \"way\", \"good\", \"did\", \"say\", \"jobs\", \"case\", \"believe\", \"things\", \"years\", \"ve\", \"does\", \"going\"], \"Freq\": [404.0, 329.0, 424.0, 771.0, 517.0, 290.0, 280.0, 185.0, 314.0, 128.0, 127.0, 125.0, 445.0, 118.0, 140.0, 126.0, 135.0, 130.0, 126.0, 105.0, 148.0, 137.0, 126.0, 79.0, 88.0, 205.0, 75.0, 176.0, 74.0, 74.0, 140.19309619627998, 64.87811287012954, 63.89550126341087, 128.5544397536683, 50.20679167341363, 50.189226073714856, 47.274393782541644, 44.340503204755784, 45.27690203859438, 45.27106308291509, 133.73737724375758, 40.40034455468594, 36.51281399358246, 37.4148996500276, 36.44934702913964, 33.54152939322102, 31.619972733640243, 34.459412676757125, 34.453851468246455, 34.45328972106823, 29.665550998829424, 33.48817214201093, 28.64404486682847, 35.320254622063544, 34.35865681724411, 25.744811196386816, 27.647648434032302, 25.73940489792638, 36.202497593158995, 25.72103839098208, 63.65146383213124, 50.41699801553058, 121.54448042978323, 54.01900226607057, 55.6848420638113, 35.21899765724969, 61.69225356060342, 42.56041195477602, 75.44611929124707, 89.2596923911405, 90.46285229371713, 43.33974325627226, 425.3826402182515, 45.95128663424302, 109.5058848946507, 91.88454367034655, 49.08364027194113, 94.82997704233425, 110.02200061234545, 73.50010310609274, 81.49724868584715, 119.39319400066344, 130.44244961275746, 59.680702520808495, 97.59397268238871, 68.73243793814441, 131.4839662785954, 145.48493151893888, 321.2980321449578, 232.242080772392, 149.38482581797484, 133.32980879165436, 106.31197141040695, 203.8419389921516, 269.87494239131695, 122.55079824035792, 141.30788884403523, 218.66427616391167, 170.1308648888023, 267.0761516789992, 213.27180445499332, 130.01203686707572, 178.9307945335203, 151.59413419100798, 114.48731288667238, 180.9918297762525, 162.60143801392664, 126.41906025044366, 126.46041090311093, 119.17400478777924, 116.6860244950462, 328.7135924360438, 55.50216674497059, 52.63092067735649, 123.76175056568982, 43.10076832553442, 60.88813891518082, 39.33909231726512, 39.32921296785969, 125.47658568217146, 46.7441773552751, 37.38491033776049, 34.56626209245968, 40.15356696803457, 115.76160222569304, 36.36463514630066, 27.91841543291552, 395.36460864328797, 28.83728035038024, 24.113988024310682, 25.02941724910749, 26.879435282451514, 27.803049091480478, 23.144193884022123, 33.27508237305824, 24.928717757523746, 21.234434007821992, 24.92798223090688, 58.132076459743274, 62.72797347778703, 23.950400677659204, 178.2581526301466, 80.07203970326954, 62.42969536854434, 46.00924713090719, 74.03457061267937, 59.470298681772896, 391.9246317499456, 118.05149898769615, 68.30437639344642, 258.24260984099595, 116.10002228876785, 84.952792147768, 56.95420256078153, 96.30238955281449, 244.74813135124637, 115.28459044403068, 55.791848641331796, 84.59684706700314, 120.13591514670502, 293.0063833515072, 111.93030524988727, 133.8300052255668, 202.64358869505094, 203.64574431166972, 134.17214530302056, 250.33111668151133, 124.24021334888806, 133.86789629727846, 96.2777133722701, 210.65661567824148, 117.72257643082638, 200.7271084396189, 124.11422284558667, 147.16560258186428, 105.98943533734374, 117.3513580883351, 120.6773914945994, 117.75075298001005, 79.11240154298036, 73.36103288250281, 73.35999429250566, 71.43746571425112, 71.43529194038003, 71.43262841664456, 75.23661926678182, 70.47398047086784, 70.47398047086514, 69.51681247981762, 69.51681247981746, 70.46384225643025, 62.785056393084666, 40.68369421093573, 31.062977898251997, 30.108131301884992, 29.14561851000965, 125.82954301503584, 27.22408402218109, 26.263623960027182, 26.262130508389195, 25.26702922092815, 22.424100024761263, 23.34677995358, 24.26892354780197, 21.451724853678535, 19.53479743737138, 29.747249284783898, 18.58027115055973, 18.578133969331123, 84.58422501796653, 40.65525952859095, 60.20170575952374, 98.58542729114005, 49.171143251914344, 49.973154186952875, 34.82592520148081, 37.30215819482163, 228.37416269050024, 54.69709062273292, 61.92939320774714, 86.36975521680094, 93.54292785235829, 44.427556241644425, 510.29500302428465, 59.63085517083866, 90.43401541604507, 67.60090684180825, 83.42647516820263, 182.59863215043146, 258.62195128102053, 107.36334776623814, 225.27948870657798, 139.90056089269373, 206.4311580238701, 189.8341896313608, 88.63298322679174, 162.14661957872175, 167.8660796019009, 152.30521849724443, 125.6931920075391, 121.0656038731915, 114.46644978054653, 125.00660156063798, 115.55282899543376, 109.492722450586, 91.92174670601803, 96.28131664098404, 95.15907350630737, 92.65079355914557, 97.2706739546936, 97.9768515859972, 92.978208182868, 91.07570718511944], \"Total\": [404.0, 329.0, 424.0, 771.0, 517.0, 290.0, 280.0, 185.0, 314.0, 128.0, 127.0, 125.0, 445.0, 118.0, 140.0, 126.0, 135.0, 130.0, 126.0, 105.0, 148.0, 137.0, 126.0, 79.0, 88.0, 205.0, 75.0, 176.0, 74.0, 74.0, 140.8344853968167, 65.51941932843394, 64.5411897156108, 130.059931483045, 50.847645799005996, 50.84732228204699, 47.913350190966156, 44.97900301496928, 45.95600269308013, 45.95590213236339, 135.91644900802922, 41.065807149077465, 37.15400325703056, 38.130100972309684, 37.15231902020008, 34.218695324486255, 32.26336101345636, 35.19518025759731, 35.19511572085136, 35.1954823550413, 30.30716775246981, 34.217271168949395, 29.32823143328445, 36.170142137145746, 35.192436055347805, 26.39445909559392, 28.349321139907467, 26.394411534559627, 37.145938356141144, 26.39411011159971, 65.48692767840303, 51.80521593831046, 126.07410607261534, 55.70936626597384, 57.657987257200084, 36.167476546057856, 64.49023504908337, 43.9799085770852, 80.08353657817966, 95.73775331077928, 97.64049899809446, 44.961618017910716, 517.8297344757995, 47.89032661752824, 121.97266327457328, 101.50255032708046, 51.78932457290267, 109.21282049670664, 129.64516385076817, 82.89486130081576, 93.61659401945789, 146.9525079371156, 165.37784636165478, 65.42537294922079, 120.70218761522989, 77.9973446366721, 179.71183552303492, 205.7186678244411, 604.4237925462364, 401.5145889203847, 226.27077884941227, 201.8245009021337, 146.91575833720742, 379.13147479549843, 612.905184077905, 185.625395367997, 235.63347536029616, 488.1295984864552, 331.00381164384265, 726.4252113996387, 591.7944997351357, 234.6794241944636, 478.401615612629, 347.6884890771553, 184.3339374139464, 771.2843788259718, 619.3637127193081, 306.3501142927702, 317.7290257798427, 299.38417391957034, 297.65932036854633, 329.3604942225971, 56.17269260200698, 53.317250419931796, 125.69377911180169, 43.798574856912495, 61.887704555507405, 39.99062904307074, 39.99093170005797, 127.60250085880706, 47.60770134301625, 38.08824153499762, 35.23149504064713, 40.94608697927505, 118.08941701714096, 37.137492157026976, 28.56816584758396, 404.64197541477137, 29.520335116094703, 24.760586073675267, 25.713313524414016, 27.618549471792367, 28.56957089377334, 23.80899599504169, 34.28813666207161, 25.71379888897485, 21.905233913792546, 25.716160783264744, 59.995188221358575, 64.75292213178852, 24.764977065427814, 185.79777822538864, 82.88240950480888, 64.75565676482535, 47.615596534202325, 77.13783129879559, 61.93240130111977, 424.87461723341886, 126.68894263481234, 72.44024752229188, 290.1221160647936, 126.77021117877993, 93.47906740626098, 60.964762563954885, 109.75377310747035, 314.69056604014605, 137.6190302235686, 60.01669212328663, 98.33294518045663, 148.80545849646393, 445.29307856444143, 144.11391455238095, 184.56181047830773, 324.22845761629776, 346.85708769868285, 206.16998487920574, 619.3637127193081, 211.18832657731053, 248.60385772231996, 141.98089548453018, 591.7944997351357, 205.575044873082, 726.4252113996387, 254.49947700626717, 478.401615612629, 187.77708728417062, 316.52642243890665, 379.13147479549843, 612.905184077905, 79.77887546662424, 74.01179988521723, 74.01181955729693, 72.08949171688856, 72.08947260926399, 72.08951958135799, 75.9341830811179, 71.12831595501707, 71.128315955017, 70.16718185740626, 70.16718185740629, 71.12841766077896, 63.439088441745255, 41.332293764804504, 31.720665454481477, 30.759551054597345, 29.798386103271287, 128.77540225373227, 27.876052077056325, 26.914970297185615, 26.914887067781574, 25.95456113947227, 23.070319091249225, 24.03195828524526, 24.992112302670854, 22.109080980694948, 20.18682688417624, 30.759533719120473, 19.225728789942117, 19.225688788588133, 88.39996995828973, 42.284089579454786, 63.41396132062397, 105.71796107221816, 51.89908794258502, 52.904586746926434, 36.51634839439021, 39.39827404431518, 280.162041530078, 59.58529133861543, 68.23528071356911, 98.89111906823268, 111.33159773855634, 48.07950605894157, 771.2843788259718, 68.16828436369521, 118.62926130001074, 82.55848562843272, 110.61142050901205, 366.16686699431347, 726.4252113996387, 181.0359301744552, 612.905184077905, 297.65932036854633, 619.3637127193081, 604.4237925462364, 136.03165344868768, 488.1295984864552, 591.7944997351357, 478.401615612629, 306.3501142927702, 317.7290257798427, 299.38417391957034, 401.5145889203847, 316.52642243890665, 287.03246174979483, 176.04212181420968, 220.42170918122252, 234.16766936371044, 205.0989974031204, 308.26709269405325, 347.6884890771553, 331.00381164384265, 346.85708769868285], \"Category\": [\"Default\", \"Default\", \"Default\", \"Default\", \"Default\", \"Default\", \"Default\", \"Default\", \"Default\", \"Default\", \"Default\", \"Default\", \"Default\", \"Default\", \"Default\", \"Default\", \"Default\", \"Default\", \"Default\", \"Default\", \"Default\", \"Default\", \"Default\", \"Default\", \"Default\", \"Default\", \"Default\", \"Default\", \"Default\", \"Default\", \"Topic1\", \"Topic1\", \"Topic1\", \"Topic1\", \"Topic1\", \"Topic1\", \"Topic1\", \"Topic1\", \"Topic1\", \"Topic1\", \"Topic1\", \"Topic1\", \"Topic1\", \"Topic1\", \"Topic1\", \"Topic1\", \"Topic1\", \"Topic1\", \"Topic1\", \"Topic1\", \"Topic1\", \"Topic1\", \"Topic1\", \"Topic1\", \"Topic1\", \"Topic1\", \"Topic1\", \"Topic1\", \"Topic1\", \"Topic1\", \"Topic1\", \"Topic1\", \"Topic1\", \"Topic1\", \"Topic1\", \"Topic1\", \"Topic1\", \"Topic1\", \"Topic1\", \"Topic1\", \"Topic1\", \"Topic1\", \"Topic1\", \"Topic1\", \"Topic1\", \"Topic1\", \"Topic1\", \"Topic1\", \"Topic1\", \"Topic1\", \"Topic1\", \"Topic1\", \"Topic1\", \"Topic1\", \"Topic1\", \"Topic1\", \"Topic1\", \"Topic1\", \"Topic1\", \"Topic1\", \"Topic1\", \"Topic1\", \"Topic1\", \"Topic1\", \"Topic1\", \"Topic1\", \"Topic1\", \"Topic1\", \"Topic1\", \"Topic1\", \"Topic1\", \"Topic1\", \"Topic1\", \"Topic1\", \"Topic1\", \"Topic1\", \"Topic1\", \"Topic1\", \"Topic1\", \"Topic1\", \"Topic1\", \"Topic2\", \"Topic2\", \"Topic2\", \"Topic2\", \"Topic2\", \"Topic2\", \"Topic2\", \"Topic2\", \"Topic2\", \"Topic2\", \"Topic2\", \"Topic2\", \"Topic2\", \"Topic2\", \"Topic2\", \"Topic2\", \"Topic2\", \"Topic2\", \"Topic2\", \"Topic2\", \"Topic2\", \"Topic2\", \"Topic2\", \"Topic2\", \"Topic2\", \"Topic2\", \"Topic2\", \"Topic2\", \"Topic2\", \"Topic2\", \"Topic2\", \"Topic2\", \"Topic2\", \"Topic2\", \"Topic2\", \"Topic2\", \"Topic2\", \"Topic2\", \"Topic2\", \"Topic2\", \"Topic2\", \"Topic2\", \"Topic2\", \"Topic2\", \"Topic2\", \"Topic2\", \"Topic2\", \"Topic2\", \"Topic2\", \"Topic2\", \"Topic2\", \"Topic2\", \"Topic2\", \"Topic2\", \"Topic2\", \"Topic2\", \"Topic2\", \"Topic2\", \"Topic2\", \"Topic2\", \"Topic2\", \"Topic2\", \"Topic2\", \"Topic2\", \"Topic2\", \"Topic2\", \"Topic2\", \"Topic2\", \"Topic3\", \"Topic3\", \"Topic3\", \"Topic3\", \"Topic3\", \"Topic3\", \"Topic3\", \"Topic3\", \"Topic3\", \"Topic3\", \"Topic3\", \"Topic3\", \"Topic3\", \"Topic3\", \"Topic3\", \"Topic3\", \"Topic3\", \"Topic3\", \"Topic3\", \"Topic3\", \"Topic3\", \"Topic3\", \"Topic3\", \"Topic3\", \"Topic3\", \"Topic3\", \"Topic3\", \"Topic3\", \"Topic3\", \"Topic3\", \"Topic3\", \"Topic3\", \"Topic3\", \"Topic3\", \"Topic3\", \"Topic3\", \"Topic3\", \"Topic3\", \"Topic3\", \"Topic3\", \"Topic3\", \"Topic3\", \"Topic3\", \"Topic3\", \"Topic3\", \"Topic3\", \"Topic3\", \"Topic3\", \"Topic3\", \"Topic3\", \"Topic3\", \"Topic3\", \"Topic3\", \"Topic3\", \"Topic3\", \"Topic3\", \"Topic3\", \"Topic3\", \"Topic3\", \"Topic3\", \"Topic3\", \"Topic3\", \"Topic3\", \"Topic3\", \"Topic3\", \"Topic3\", \"Topic3\", \"Topic3\", \"Topic3\", \"Topic3\", \"Topic3\", \"Topic3\", \"Topic3\", \"Topic3\"], \"logprob\": [30.0, 29.0, 28.0, 27.0, 26.0, 25.0, 24.0, 23.0, 22.0, 21.0, 20.0, 19.0, 18.0, 17.0, 16.0, 15.0, 14.0, 13.0, 12.0, 11.0, 10.0, 9.0, 8.0, 7.0, 6.0, 5.0, 4.0, 3.0, 2.0, 1.0, -5.825, -6.5955, -6.6107, -5.9116, -6.8518, -6.8522, -6.912, -6.9761, -6.9552, -6.9553, -5.8721, -7.0692, -7.1703, -7.1459, -7.1721, -7.2552, -7.3142, -7.2282, -7.2284, -7.2284, -7.378, -7.2568, -7.4131, -7.2035, -7.2311, -7.5198, -7.4485, -7.52, -7.1789, -7.5207, -6.6146, -6.8477, -5.9677, -6.7787, -6.7483, -7.2064, -6.6458, -7.0171, -6.4446, -6.2764, -6.2631, -6.9989, -4.715, -6.9404, -6.072, -6.2475, -6.8745, -6.2159, -6.0673, -6.4707, -6.3674, -5.9856, -5.8971, -6.679, -6.1872, -6.5378, -5.8891, -5.7879, -4.9956, -5.3202, -5.7615, -5.8752, -6.1016, -5.4507, -5.17, -5.9595, -5.8171, -5.3805, -5.6314, -5.1805, -5.4054, -5.9004, -5.581, -5.7468, -6.0275, -5.5695, -5.6767, -5.9284, -5.9281, -5.9874, -6.0085, -4.7405, -6.5193, -6.5724, -5.7173, -6.7721, -6.4266, -6.8635, -6.8637, -5.7036, -6.691, -6.9144, -6.9928, -6.843, -5.7841, -6.9421, -7.2064, -4.5559, -7.174, -7.3529, -7.3156, -7.2443, -7.2105, -7.3939, -7.0309, -7.3197, -7.4801, -7.3197, -6.473, -6.3969, -7.3597, -5.3524, -6.1528, -6.4016, -6.7068, -6.2311, -6.4502, -4.5646, -5.7646, -6.3117, -4.9818, -5.7812, -6.0936, -6.4934, -5.9682, -5.0354, -5.7883, -6.5141, -6.0978, -5.7471, -4.8555, -5.8178, -5.6391, -5.2242, -5.2193, -5.6366, -5.0129, -5.7135, -5.6388, -5.9684, -5.1854, -5.7673, -5.2337, -5.7145, -5.5441, -5.8723, -5.7705, -5.7426, -5.7671, -6.1329, -6.2084, -6.2084, -6.2349, -6.235, -6.235, -6.1831, -6.2485, -6.2485, -6.2622, -6.2622, -6.2487, -6.3641, -6.7979, -7.0678, -7.099, -7.1315, -5.6688, -7.1997, -7.2356, -7.2356, -7.2743, -7.3936, -7.3533, -7.3146, -7.438, -7.5316, -7.111, -7.5817, -7.5818, -6.066, -6.7986, -6.4061, -5.9128, -6.6085, -6.5923, -6.9534, -6.8847, -5.0728, -6.502, -6.3778, -6.0451, -5.9653, -6.7099, -4.2688, -6.4156, -5.9991, -6.2901, -6.0798, -5.2965, -4.9484, -5.8275, -5.0864, -5.5628, -5.1738, -5.2576, -6.0193, -5.4153, -5.3806, -5.4779, -5.6699, -5.7074, -5.7635, -5.6754, -5.754, -5.8079, -5.9828, -5.9365, -5.9482, -5.9749, -5.9263, -5.919, -5.9714, -5.9921], \"loglift\": [30.0, 29.0, 28.0, 27.0, 26.0, 25.0, 24.0, 23.0, 22.0, 21.0, 20.0, 19.0, 18.0, 17.0, 16.0, 15.0, 14.0, 13.0, 12.0, 11.0, 10.0, 9.0, 8.0, 7.0, 6.0, 5.0, 4.0, 3.0, 2.0, 1.0, 0.9356, 0.9304, 0.9301, 0.9286, 0.9275, 0.9272, 0.9268, 0.9259, 0.9253, 0.9252, 0.924, 0.9239, 0.9228, 0.9213, 0.9211, 0.9202, 0.9201, 0.9191, 0.9189, 0.9189, 0.9188, 0.9187, 0.9166, 0.9164, 0.9162, 0.9153, 0.9151, 0.9151, 0.9145, 0.9144, 0.9118, 0.913, 0.9036, 0.9094, 0.9054, 0.9136, 0.8958, 0.9074, 0.8805, 0.8701, 0.8638, 0.9035, 0.7435, 0.8989, 0.8324, 0.8406, 0.8865, 0.799, 0.7761, 0.8199, 0.8016, 0.7325, 0.7029, 0.8483, 0.7277, 0.8137, 0.6277, 0.5938, 0.3083, 0.3927, 0.525, 0.5256, 0.6167, 0.3197, 0.1199, 0.525, 0.4289, 0.1372, 0.2746, -0.0604, -0.0804, 0.3496, -0.0433, 0.1101, 0.4639, -0.5094, -0.3972, 0.0551, 0.0189, 0.0191, 0.0037, 1.1706, 1.1605, 1.1596, 1.157, 1.1565, 1.1562, 1.1561, 1.1558, 1.1557, 1.1542, 1.1539, 1.1535, 1.153, 1.1526, 1.1515, 1.1495, 1.1493, 1.1491, 1.1461, 1.1456, 1.1454, 1.1453, 1.1442, 1.1425, 1.1415, 1.1414, 1.1414, 1.141, 1.1407, 1.1391, 1.1311, 1.138, 1.1359, 1.1382, 1.1315, 1.132, 1.0918, 1.1019, 1.1137, 1.0561, 1.0846, 1.0769, 1.1045, 1.0418, 0.9212, 0.9954, 1.0995, 1.0221, 0.9585, 0.754, 0.9198, 0.8511, 0.7025, 0.64, 0.7429, 0.2666, 0.642, 0.5535, 0.7841, 0.1396, 0.615, -0.1137, 0.4544, -0.0064, 0.6006, 0.1803, 0.0278, -0.4771, 1.196, 1.1956, 1.1956, 1.1953, 1.1953, 1.1953, 1.1952, 1.1952, 1.1952, 1.1951, 1.1951, 1.195, 1.1941, 1.1886, 1.1835, 1.183, 1.1823, 1.1813, 1.1808, 1.1799, 1.1799, 1.1776, 1.176, 1.1755, 1.1751, 1.1742, 1.1716, 1.171, 1.1703, 1.1702, 1.1603, 1.1651, 1.1524, 1.1346, 1.1504, 1.1474, 1.157, 1.1498, 1.0, 1.1188, 1.1075, 1.069, 1.0303, 1.1254, 0.7914, 1.0706, 0.933, 1.0045, 0.9224, 0.5086, 0.1717, 0.682, 0.2036, 0.4494, 0.1057, 0.0463, 0.776, 0.1023, -0.0556, 0.0599, 0.3135, 0.2396, 0.243, 0.0376, 0.1967, 0.2407, 0.5546, 0.3762, 0.3039, 0.4098, 0.051, -0.0621, -0.0653, -0.1328]}, \"token.table\": {\"Topic\": [1, 2, 3, 2, 3, 1, 2, 3, 1, 2, 1, 1, 2, 3, 1, 1, 2, 3, 1, 2, 3, 1, 2, 3, 1, 2, 3, 1, 2, 3, 2, 1, 2, 3, 3, 1, 1, 2, 3, 1, 2, 3, 1, 2, 3, 1, 2, 3, 1, 2, 3, 2, 1, 2, 3, 2, 3, 1, 1, 3, 2, 3, 1, 2, 3, 2, 3, 1, 2, 3, 1, 3, 3, 3, 3, 1, 2, 1, 3, 1, 2, 3, 2, 1, 2, 3, 1, 2, 2, 1, 2, 3, 1, 3, 1, 2, 3, 2, 1, 2, 3, 1, 2, 3, 1, 2, 3, 3, 1, 3, 1, 2, 3, 1, 2, 3, 1, 2, 3, 1, 2, 3, 1, 1, 2, 3, 1, 1, 2, 3, 1, 2, 2, 3, 2, 1, 3, 2, 3, 1, 2, 3, 1, 2, 3, 2, 3, 2, 3, 1, 2, 3, 2, 1, 2, 3, 1, 2, 3, 3, 2, 3, 2, 3, 2, 1, 1, 2, 3, 2, 3, 3, 2, 2, 3, 3, 1, 2, 3, 3, 1, 2, 3, 2, 3, 2, 3, 3, 3, 3, 1, 2, 3, 1, 2, 3, 1, 2, 3, 1, 2, 2, 3, 1, 2, 3, 1, 2, 3, 1, 2, 1, 3, 1, 2, 3, 1, 2, 3, 3, 1, 2, 3, 1, 2, 1, 3, 2, 3, 1, 2, 3, 2, 3, 3, 1, 2, 1, 2, 3, 1, 3, 1, 2, 3, 1, 1, 2, 3, 2, 3, 3, 2, 3, 1, 2, 3, 1, 2, 3, 1, 2, 3, 1, 2, 3, 1, 2, 3, 1, 3, 1, 2, 3, 1, 2, 1, 2, 1, 2, 3, 3, 1, 2, 3, 1, 2, 3, 2, 2, 1, 2, 3, 1, 2, 1, 2, 3, 1, 2, 3, 3, 2, 3, 1, 2, 3, 3, 1, 3, 1, 2, 3, 1, 1, 2, 3, 2, 3, 1, 2, 3, 1, 2, 3, 1, 2, 3, 2, 2, 1, 3, 2, 1, 2, 3, 1, 2, 1, 2, 1, 2, 3, 1, 1, 2, 3, 1, 2, 3, 1, 2, 3, 1, 1, 2, 3, 2, 1, 1, 2, 3, 1, 1, 1, 2, 3, 1, 2, 3, 1, 2, 3, 1, 2, 2, 1, 2, 3, 1, 2, 3, 1, 1, 2, 3, 2, 3, 1, 2, 3, 1, 2, 3, 1, 2, 1, 2, 3, 1, 2, 3, 1, 2, 3, 1, 2], \"Freq\": [0.23281759480228428, 0.6499491188230436, 0.11640879740114214, 0.9660700137812651, 0.021001522038723155, 0.032293174102014745, 0.9580308316931042, 0.005382195683669125, 0.9661166946933586, 0.02841519690274584, 0.9689839275019803, 0.03155315403205355, 0.9150414669295529, 0.05521801955609371, 0.9918371488529506, 0.013440367176097414, 0.8064220305658449, 0.1814449568773151, 0.9693163577231736, 0.01795030292079951, 0.9902370713792514, 0.30747199301953687, 0.28611977128206906, 0.40569221301188896, 0.6626248512826386, 0.04309755130293585, 0.2962956652076839, 0.9063811668134488, 0.04925984602247005, 0.039407876817976036, 0.9722406287745798, 0.9833296943115788, 0.9692823880900017, 0.9660051530028517, 0.9976173781961771, 0.9920722843126828, 0.8207330937267029, 0.17380230220094886, 0.003862273382243308, 0.12781112087269644, 0.5644991171877426, 0.303551412072654, 0.7048460965328728, 0.2819384386131491, 0.009722015124591348, 0.41738175582497195, 0.14517626289564242, 0.43552878868692724, 0.8484697518421798, 0.07713361380383452, 0.07713361380383452, 0.9752210899338328, 0.09152578501013638, 0.8644101917623991, 0.05084765833896465, 0.9768943249753288, 0.9841368948516851, 0.9958550023273355, 0.9703619727330287, 0.9536062294146939, 0.9729290652208578, 0.03088663699113834, 0.08961743541879229, 0.8892807053095542, 0.02068094663510591, 0.9800637224867289, 0.9753068224809536, 0.018918261189636056, 0.047295652974090135, 0.9364539288869846, 0.056705858309616025, 0.9450976384936004, 0.9882610817708598, 0.9841354876448885, 0.9685733089235627, 0.02413057260218719, 0.9652229040874875, 0.9605280074068995, 0.04176208727856085, 0.658988375571372, 0.20810159228569644, 0.13377959504080486, 0.9940497603039711, 0.26538068876765886, 0.369637387926382, 0.36647809401248127, 0.9772942825214656, 0.0152702231643979, 0.9691105280086961, 0.8097854311606772, 0.1769279093292236, 0.013609839179171046, 0.9858998007819053, 0.01471492239972993, 0.5135892519054088, 0.20543570076216353, 0.2809635319247237, 0.9752284705998545, 0.36755332250316336, 0.2766974450304713, 0.35654048887010975, 0.8652312215413906, 0.07477306852826833, 0.053409334663048806, 0.21074058563658726, 0.02528887027639047, 0.7586661082917141, 0.9976173781961767, 0.9461409354938352, 0.038617997367095314, 0.03356533055505697, 0.05034799583258546, 0.9230465902640668, 0.1571998384202817, 0.6579936093877505, 0.18414838214947285, 0.9170753989674368, 0.015284589982790614, 0.07642294991395307, 0.9676848307750938, 0.015863685750411374, 0.015863685750411374, 0.9888083455004402, 0.024225250557541843, 0.15746412862402198, 0.8236585189564226, 0.9898648479799048, 0.7289447554677545, 0.21701408750566736, 0.05008017403976939, 0.9833359507636028, 0.9823736717741048, 0.05076364507111149, 0.9391274338155625, 0.958674994416628, 0.985057005948278, 0.9863289463311515, 0.9593217589091776, 0.038891422658480175, 0.14991765151754016, 0.5881384790303499, 0.26235589015569527, 0.5778121303731822, 0.10958505920870698, 0.31132119093382665, 0.03393666311669005, 0.9615387883062182, 0.18203750844143057, 0.8138147436205132, 0.08200173666182067, 0.8746851910594206, 0.036445216294142525, 0.9721513335796688, 0.15570851270371072, 0.7785425635185537, 0.06673221973016173, 0.6184428195877888, 0.1518982363899832, 0.22784735458497482, 0.9919604325205038, 0.023649557314481835, 0.9696318498937552, 0.027384994501630514, 0.9584748075570679, 0.977603839317336, 0.9936088935474474, 0.8926970723970772, 0.09650779161049483, 0.012063473951311854, 0.9314151459937693, 0.06314678955889962, 0.9848872162629195, 0.9660214149638999, 0.47715852964241956, 0.5226021991321738, 0.9570589182539134, 0.44052490827958296, 0.19252570065552144, 0.3671040902329858, 0.9632218347155733, 0.35992223668068996, 0.3565426851625614, 0.2838823275227977, 0.34550781974967915, 0.6542594884621583, 0.1173566281544942, 0.8801747111587065, 0.9660081401984875, 0.973207068983389, 0.9772808847432404, 0.5310843218923162, 0.15386555120244677, 0.3143489755748912, 0.2278983072274515, 0.4872308637276549, 0.28683752461386136, 0.2730995319725446, 0.22667261153721202, 0.49977214350975663, 0.9676489483312248, 0.027647112809463564, 0.9574453120777829, 0.03088533264767042, 0.010112131497976296, 0.12134557797571555, 0.8696433088259614, 0.0023536355419665304, 0.92262513245088, 0.07531633734292897, 0.015911686434545394, 0.9865245589418143, 0.9940747083751154, 0.9882590255792952, 0.01693631868560834, 0.9823064837652837, 0.9841368948516841, 0.027755820889495884, 0.7771629849058848, 0.1942907462264712, 0.9498359528528858, 0.3741626160078434, 0.30727320979415074, 0.31772467951504024, 0.03229327392419126, 0.9526515807636422, 0.9296228177727598, 0.06267120119816358, 0.0473081942449843, 0.9461638848996861, 0.2604310611830429, 0.5871536652126785, 0.15152352650649767, 0.9330737502987415, 0.06664812502133868, 0.9603029831710211, 0.015673673999642156, 0.9796046249776347, 0.04141344214867317, 0.9387046887032585, 0.01380448071622439, 0.9918504379407337, 0.007688763084811889, 0.7860786850235726, 0.17535601435141235, 0.03628055469339566, 0.9791995785522787, 0.23467349393943815, 0.10372309124395056, 0.6612347066801848, 0.03251024573816568, 0.9753073721449705, 0.9876974632081057, 0.9761715887115072, 0.02224188429975586, 0.07488307483404738, 0.9092944801277182, 0.02139516423829925, 0.5983869642647484, 0.1655112879881219, 0.23765723403422628, 0.7215019083024722, 0.0408397306586305, 0.2314251403989062, 0.11378301906324338, 0.7260440264035529, 0.1625471700903477, 0.0415977651173904, 0.0415977651173904, 0.9151508325825888, 0.9563712761153459, 0.02224119246779874, 0.5539471576863826, 0.07670037567965297, 0.37071848245165606, 0.9677202653447188, 0.027649150438420537, 0.9651537802591131, 0.01930307560518226, 0.01666800337904424, 0.966744195984566, 0.01666800337904424, 0.9907451089144332, 0.41129411781314157, 0.17626890763420353, 0.41129411781314157, 0.23748686517555545, 0.626101735462828, 0.13879102510259733, 0.9693707870144445, 0.9714284122568987, 0.2996176790448388, 0.3170373115474457, 0.37974798855683056, 0.9712444478888215, 0.034687301710315054, 0.9018414212402532, 0.057389908624379746, 0.04099279187455696, 0.9365220768788479, 0.049947844100205224, 0.012486961025051306, 0.9930785821087504, 0.9872352303120512, 0.02100500490025641, 0.01926816134237814, 0.03853632268475628, 0.9441399057765287, 0.9848869552143988, 0.9876779716105538, 0.9848865745300411, 0.029310350585284316, 0.05862070117056863, 0.9086208681438138, 0.9850552309420212, 0.11752855121267362, 0.13560986678385417, 0.7503745962039932, 0.15269699119850647, 0.8443245395682122, 0.9217486690820418, 0.04096660751475741, 0.030724955636068058, 0.022095061439712006, 0.3866635751949601, 0.5910428935122961, 0.019457614626666002, 0.5739996314866471, 0.4086099071599861, 0.9989054721834567, 0.9817671040776693, 0.9660431370554262, 0.9863292084939644, 0.9801119242090927, 0.9613858586933657, 0.0310124470546247, 0.01550622352731235, 0.8846455007079587, 0.1153885435706033, 0.9777191765788309, 0.022737655269275136, 0.8119156904794542, 0.14912737172071608, 0.04142426992242113, 0.9660330737058342, 0.43881248148232405, 0.11214096748992726, 0.45343956419840153, 0.26317331263136273, 0.4036400500481024, 0.3325994012396363, 0.4486513431659418, 0.2192040809075606, 0.3318790757665871, 0.9740463606326216, 0.9916148165536542, 0.934966324853711, 0.06561167191955866, 0.9722589807907586, 0.9660413656401344, 0.8698612449338287, 0.07325147325758558, 0.05493860494318918, 0.98506825538223, 0.9791974358722004, 0.13806230118853188, 0.8356402440358509, 0.02179931071397872, 0.5380719184816732, 0.3191505006680513, 0.14506840939456878, 0.6585030588468628, 0.12374554125981314, 0.216554697204673, 0.029164606110140906, 0.9624320016346499, 0.9969256841000922, 0.437172942950866, 0.2818615026920057, 0.2818615026920057, 0.9809374592399435, 0.9856562048651971, 0.01615829844041307, 0.9644252411906531, 0.39306681159903434, 0.13774136132957612, 0.47033635575952826, 0.02329637452103592, 0.9784477298835087, 0.2746848431044677, 0.6761473061033051, 0.04930240773669933, 0.39748260050636275, 0.22045253473462134, 0.38078165090525506, 0.9691503726422436, 0.026920843684506767, 0.396564335570986, 0.2203135197616589, 0.38082765558801035, 0.2252579686939116, 0.539010139374717, 0.23732535987394257, 0.3308818956593341, 0.35358947673399427, 0.3146621948917197, 0.9782342215401382, 0.99342931543552], \"Term\": [\"10\", \"10\", \"10\", \"1991\", \"1991\", \"1993\", \"1993\", \"1993\", \"abs\", \"abs\", \"acid\", \"administration\", \"administration\", \"administration\", \"allergic\", \"april\", \"april\", \"april\", \"autos\", \"autos\", \"banks\", \"believe\", \"believe\", \"believe\", \"better\", \"better\", \"better\", \"body\", \"body\", \"body\", \"bosnia\", \"brake\", \"briefing\", \"britain\", \"cadre\", \"candida\", \"car\", \"car\", \"car\", \"care\", \"care\", \"care\", \"cars\", \"cars\", \"cars\", \"case\", \"case\", \"case\", \"cause\", \"cause\", \"cause\", \"cdc\", \"center\", \"center\", \"center\", \"centers\", \"chastity\", \"chinese\", \"chronic\", \"clayton\", \"colorado\", \"colorado\", \"com\", \"com\", \"com\", \"comprehensive\", \"constitution\", \"country\", \"country\", \"country\", \"court\", \"court\", \"cramer\", \"crime\", \"crimes\", \"cs\", \"cs\", \"cure\", \"cure\", \"day\", \"day\", \"day\", \"dept\", \"did\", \"did\", \"did\", \"diet\", \"diet\", \"director\", \"disease\", \"disease\", \"disease\", \"doctor\", \"doctor\", \"does\", \"does\", \"does\", \"dole\", \"don\", \"don\", \"don\", \"drive\", \"drive\", \"drive\", \"drugs\", \"drugs\", \"drugs\", \"dsl\", \"eat\", \"eat\", \"economy\", \"economy\", \"economy\", \"edu\", \"edu\", \"edu\", \"effects\", \"effects\", \"effects\", \"engine\", \"engine\", \"engine\", \"faq\", \"federal\", \"federal\", \"federal\", \"fluids\", \"food\", \"food\", \"food\", \"foods\", \"frank\", \"friends\", \"friends\", \"fund\", \"gear\", \"geb\", \"george\", \"george\", \"going\", \"going\", \"going\", \"good\", \"good\", \"good\", \"gordon\", \"gordon\", \"government\", \"government\", \"groups\", \"groups\", \"groups\", \"gt\", \"health\", \"health\", \"health\", \"help\", \"help\", \"help\", \"hitler\", \"homosexual\", \"homosexual\", \"homosexuals\", \"homosexuals\", \"hp\", \"immune\", \"info\", \"info\", \"info\", \"insurance\", \"insurance\", \"intellect\", \"jackson\", \"jobs\", \"jobs\", \"judge\", \"just\", \"just\", \"just\", \"kirlian\", \"know\", \"know\", \"know\", \"law\", \"law\", \"laws\", \"laws\", \"liberal\", \"libertarian\", \"libertarians\", \"like\", \"like\", \"like\", \"ll\", \"ll\", \"ll\", \"make\", \"make\", \"make\", \"manual\", \"manual\", \"meeting\", \"meeting\", \"men\", \"men\", \"men\", \"mr\", \"mr\", \"mr\", \"ms\", \"ms\", \"msg\", \"murder\", \"myers\", \"myers\", \"n3jxp\", \"national\", \"national\", \"national\", \"nazis\", \"new\", \"new\", \"new\", \"newsletter\", \"newsletter\", \"normal\", \"normal\", \"nuclear\", \"nuclear\", \"number\", \"number\", \"number\", \"official\", \"official\", \"orientation\", \"package\", \"package\", \"page\", \"page\", \"page\", \"pain\", \"pain\", \"patients\", \"patients\", \"patients\", \"pc\", \"people\", \"people\", \"people\", \"photography\", \"photography\", \"pitt\", \"president\", \"president\", \"press\", \"press\", \"press\", \"problem\", \"problem\", \"problem\", \"problems\", \"problems\", \"problems\", \"program\", \"program\", \"program\", \"property\", \"property\", \"property\", \"radar\", \"radar\", \"really\", \"really\", \"really\", \"rear\", \"rear\", \"rec\", \"rec\", \"request\", \"request\", \"request\", \"responsibility\", \"right\", \"right\", \"right\", \"said\", \"said\", \"said\", \"sales\", \"saturn\", \"say\", \"say\", \"say\", \"sci\", \"sci\", \"science\", \"science\", \"science\", \"scientific\", \"scientific\", \"scientific\", \"secret\", \"senator\", \"senator\", \"sexual\", \"sexual\", \"sexual\", \"shameful\", \"sho\", \"skepticism\", \"society\", \"society\", \"society\", \"soda\", \"soon\", \"soon\", \"soon\", \"south\", \"south\", \"speed\", \"speed\", \"speed\", \"state\", \"state\", \"state\", \"states\", \"states\", \"states\", \"stephanopoulos\", \"stimulus\", \"surgery\", \"surrender\", \"surveillance\", \"symptoms\", \"symptoms\", \"symptoms\", \"test\", \"test\", \"tests\", \"tests\", \"thanks\", \"thanks\", \"thanks\", \"therapy\", \"things\", \"things\", \"things\", \"think\", \"think\", \"think\", \"time\", \"time\", \"time\", \"tire\", \"tires\", \"tobacco\", \"tobacco\", \"tomorrow\", \"transmission\", \"treatment\", \"treatment\", \"treatment\", \"treatments\", \"typing\", \"university\", \"university\", \"university\", \"use\", \"use\", \"use\", \"used\", \"used\", \"used\", \"users\", \"users\", \"vat\", \"ve\", \"ve\", \"ve\", \"vitamin\", \"volume\", \"volume\", \"vw\", \"want\", \"want\", \"want\", \"war\", \"war\", \"water\", \"water\", \"water\", \"way\", \"way\", \"way\", \"windows\", \"windows\", \"work\", \"work\", \"work\", \"year\", \"year\", \"year\", \"years\", \"years\", \"years\", \"yeast\", \"yesterday\"]}, \"R\": 30, \"lambda.step\": 0.01, \"plot.opts\": {\"xlab\": \"PC1\", \"ylab\": \"PC2\"}, \"topic.order\": [2, 1, 3]};\n",
       "\n",
       "function LDAvis_load_lib(url, callback){\n",
       "  var s = document.createElement('script');\n",
       "  s.src = url;\n",
       "  s.async = true;\n",
       "  s.onreadystatechange = s.onload = callback;\n",
       "  s.onerror = function(){console.warn(\"failed to load library \" + url);};\n",
       "  document.getElementsByTagName(\"head\")[0].appendChild(s);\n",
       "}\n",
       "\n",
       "if(typeof(LDAvis) !== \"undefined\"){\n",
       "   // already loaded: just create the visualization\n",
       "   !function(LDAvis){\n",
       "       new LDAvis(\"#\" + \"ldavis_el1528817035511783365819553504\", ldavis_el1528817035511783365819553504_data);\n",
       "   }(LDAvis);\n",
       "}else if(typeof define === \"function\" && define.amd){\n",
       "   // require.js is available: use it to load d3/LDAvis\n",
       "   require.config({paths: {d3: \"https://d3js.org/d3.v5\"}});\n",
       "   require([\"d3\"], function(d3){\n",
       "      window.d3 = d3;\n",
       "      LDAvis_load_lib(\"https://cdn.jsdelivr.net/gh/bmabey/pyLDAvis@3.2.2/pyLDAvis/js/ldavis.v3.0.0.js\", function(){\n",
       "        new LDAvis(\"#\" + \"ldavis_el1528817035511783365819553504\", ldavis_el1528817035511783365819553504_data);\n",
       "      });\n",
       "    });\n",
       "}else{\n",
       "    // require.js not available: dynamically load d3 & LDAvis\n",
       "    LDAvis_load_lib(\"https://d3js.org/d3.v5.js\", function(){\n",
       "         LDAvis_load_lib(\"https://cdn.jsdelivr.net/gh/bmabey/pyLDAvis@3.2.2/pyLDAvis/js/ldavis.v3.0.0.js\", function(){\n",
       "                 new LDAvis(\"#\" + \"ldavis_el1528817035511783365819553504\", ldavis_el1528817035511783365819553504_data);\n",
       "            })\n",
       "         });\n",
       "}\n",
       "</script>"
      ],
      "text/plain": [
       "PreparedData(topic_coordinates=              x         y  topics  cluster       Freq\n",
       "topic                                                \n",
       "1      0.125922 -0.061290       1        1  39.054982\n",
       "0     -0.127580 -0.058931       2        1  30.958660\n",
       "2      0.001658  0.120221       3        1  29.986358, topic_info=                Term        Freq       Total Category  logprob  loglift\n",
       "3073       president  404.000000  404.000000  Default  30.0000  30.0000\n",
       "3827  stephanopoulos  329.000000  329.000000  Default  29.0000  29.0000\n",
       "2652              mr  424.000000  424.000000  Default  28.0000  28.0000\n",
       "2917          people  771.000000  771.000000  Default  27.0000  27.0000\n",
       "688              car  517.000000  517.000000  Default  26.0000  26.0000\n",
       "...              ...         ...         ...      ...      ...      ...\n",
       "4046          things   92.650794  205.098997   Topic3  -5.9749   0.4098\n",
       "4425           years   97.270674  308.267093   Topic3  -5.9263   0.0510\n",
       "4252              ve   97.976852  347.688489   Topic3  -5.9190  -0.0621\n",
       "1290            does   92.978208  331.003812   Topic3  -5.9714  -0.0653\n",
       "1807           going   91.075707  346.857088   Topic3  -5.9921  -0.1328\n",
       "\n",
       "[253 rows x 6 columns], token_table=      Topic      Freq       Term\n",
       "term                            \n",
       "6         1  0.232818         10\n",
       "6         2  0.649949         10\n",
       "6         3  0.116409         10\n",
       "50        2  0.966070       1991\n",
       "50        3  0.021002       1991\n",
       "...     ...       ...        ...\n",
       "4425      1  0.330882      years\n",
       "4425      2  0.353589      years\n",
       "4425      3  0.314662      years\n",
       "4426      1  0.978234      yeast\n",
       "4429      2  0.993429  yesterday\n",
       "\n",
       "[407 rows x 3 columns], R=30, lambda_step=0.01, plot_opts={'xlab': 'PC1', 'ylab': 'PC2'}, topic_order=[2, 1, 3])"
      ]
     },
     "execution_count": 25,
     "metadata": {},
     "output_type": "execute_result"
    }
   ],
   "source": [
    "import pyLDAvis, pyLDAvis.sklearn; pyLDAvis.enable_notebook()\n",
    "\n",
    "pyLDAvis.sklearn.prepare(lda, tf, tf_vectorizer)  "
   ]
  },
  {
   "cell_type": "markdown",
   "metadata": {
    "slideshow": {
     "slide_type": "slide"
    }
   },
   "source": [
    "# Semi-supervised: Saat kita memiliki pengetahuan tambahan\n",
    "\n",
    "* Preferable di dunia nyata\n",
    "* Meningkatkan kualitas topik\n",
    "* https://github.com/vi3k6i5/GuidedLDA"
   ]
  },
  {
   "cell_type": "code",
   "execution_count": 46,
   "metadata": {},
   "outputs": [],
   "source": [
    "def safeVectorizer(D, type_='tf', maxDf=0.95, minDf=2, ngram_=(1, 2), label=None):\n",
    "    if type_=='tfidf':\n",
    "        pass\n",
    "    elif type_=='tf':\n",
    "        vectorizer = CountVectorizer(binary = False, lowercase=True, stop_words='english', max_df=0.75, min_df=5)\n",
    "        #ngram_range=ngram_, strip_accents='unicode', token_pattern=r'\\b[a-zA-Z]{3,}\\b', max_df=maxDf, min_df=minDf)\n",
    "    elif type_=='binary':\n",
    "        pass\n",
    "    else:\n",
    "        print(\"Type unsupported\")\n",
    "        return None\n",
    "    \n",
    "    newL = label\n",
    "    while True:    \n",
    "        X = vectorizer.fit_transform(D)\n",
    "        if X[X.getnnz(1)>0].shape[0]==X.shape[0]:\n",
    "            break\n",
    "        else:\n",
    "            if label:\n",
    "                newD, newL = [], []\n",
    "                nBaris, nKolom = X.shape\n",
    "                for i,d in enumerate(D):\n",
    "                    if sum(X[i].data)!=0:\n",
    "                        newD.append(d)\n",
    "                        newL.append(label[i])\n",
    "                D = newD.copy()\n",
    "                label = newL.copy()\n",
    "            else:\n",
    "                newD = []\n",
    "                nBaris, nKolom = X.shape\n",
    "                for i,d in enumerate(D):\n",
    "                    if sum(X[i].data)!=0:\n",
    "                        newD.append(d)\n",
    "                D = newD\n",
    "    if label:\n",
    "        return X, vectorizer.get_feature_names(), newL\n",
    "    else:\n",
    "        return X, vectorizer.get_feature_names(), label"
   ]
  },
  {
   "cell_type": "code",
   "execution_count": 47,
   "metadata": {},
   "outputs": [],
   "source": [
    "Dk, vocabK, dL = safeVectorizer(X, type_='tf', maxDf=0.75, minDf=5, ngram_=(1, 1), label=None)\n",
    "word2id = dict((v, idx) for idx, v in enumerate(vocabK))"
   ]
  },
  {
   "cell_type": "code",
   "execution_count": 48,
   "metadata": {},
   "outputs": [
    {
     "name": "stderr",
     "output_type": "stream",
     "text": [
      "INFO:guidedlda:n_documents: 1585\n",
      "INFO:guidedlda:vocab_size: 4438\n",
      "INFO:guidedlda:n_words: 121564\n",
      "INFO:guidedlda:n_topics: 3\n",
      "INFO:guidedlda:n_iter: 3000\n",
      "INFO:guidedlda:<0> log likelihood: -1133271\n",
      "INFO:guidedlda:<1000> log likelihood: -968231\n",
      "INFO:guidedlda:<2000> log likelihood: -968116\n",
      "INFO:guidedlda:<2999> log likelihood: -968372\n"
     ]
    },
    {
     "data": {
      "text/plain": [
       "<guidedlda.guidedlda.GuidedLDA at 0x18ca932b198>"
      ]
     },
     "execution_count": 48,
     "metadata": {},
     "output_type": "execute_result"
    }
   ],
   "source": [
    "import guidedlda\n",
    "\n",
    "seed_topic_list = [\"car engine gasoline automotive\".split(),\n",
    "                   \"government president politics people country\".split(),\n",
    "                   \"health body medicine insurance doctor patient\".split()]\n",
    "\n",
    "iter_ = 3000\n",
    "refresh_ = int(iter_/3)\n",
    "model = guidedlda.GuidedLDA(n_topics=3, n_iter=iter_, random_state=42, refresh=refresh_, alpha=2.0, eta=0.01)\n",
    "\n",
    "seed_topics = {}\n",
    "for t_id, st in enumerate(seed_topic_list):\n",
    "    for word in st:\n",
    "        seed_topics[word2id[word]] = t_id\n",
    "\n",
    "model.fit(Dk.toarray(), seed_topics=seed_topics, seed_confidence=0.95)"
   ]
  },
  {
   "cell_type": "code",
   "execution_count": 49,
   "metadata": {},
   "outputs": [
    {
     "name": "stdout",
     "output_type": "stream",
     "text": [
      "Topic 0: car edu like just com don good time\n",
      "Topic 1: people think don mr know president going stephanopoulos\n",
      "Topic 2: use health medical information 1993 10 years patients\n"
     ]
    }
   ],
   "source": [
    "topic_word = model.topic_word_\n",
    "n_top_words = 8\n",
    "for i, topic_dist in enumerate(topic_word):\n",
    "    topic_words = np.array(vocabK)[np.argsort(topic_dist)][:-(n_top_words+1):-1]\n",
    "    print('Topic {}: {}'.format(i, ' '.join(topic_words)))"
   ]
  },
  {
   "cell_type": "markdown",
   "metadata": {
    "slideshow": {
     "slide_type": "slide"
    }
   },
   "source": [
    "# Bagian penting lain dari riset DS:\n",
    "    \n",
    "    * Optimal Parameter\n",
    "    * Cross Validasi\n",
    "    * Sensitivity analysis (jika mengusulkan algoritma/model baru)\n",
    "    * Preprocessing yang tepat"
   ]
  },
  {
   "cell_type": "markdown",
   "metadata": {
    "slideshow": {
     "slide_type": "slide"
    }
   },
   "source": [
    "# <font color=\"blue\">Diskusi</font>: Bagaimana jika kita \"lemah\" dalam suatu aspek di riset kita?\n",
    "\n",
    "* Misal mual jika lihat rumus atau lemes jika coding. :)"
   ]
  },
  {
   "cell_type": "markdown",
   "metadata": {
    "slideshow": {
     "slide_type": "slide"
    }
   },
   "source": [
    "# Cost Analysis & \"Green\" Research on (Big) Data Science 01\n",
    "\n",
    "<img src='images/ibm_trueNorth.png'  style=\"height: 600px\"/>"
   ]
  },
  {
   "cell_type": "markdown",
   "metadata": {
    "slideshow": {
     "slide_type": "slide"
    }
   },
   "source": [
    "# Cost Analysis Research on (Big) Data Science 01\n",
    "\n",
    "<img src='images/Multi_Users.PNG'  style=\"height: 200px\"/>"
   ]
  },
  {
   "cell_type": "markdown",
   "metadata": {
    "slideshow": {
     "slide_type": "slide"
    }
   },
   "source": [
    "# Ide efisiensi dan scalability Clustering di Big Data\n",
    "\n",
    "* Google, Bing, Yahoo search\n",
    "* Elasticsearch, Solr, Sphinx, etc.\n",
    "<img src='images/Top-6-Best-Search-Engines.png'  style=\"height: 300px\"/>"
   ]
  },
  {
   "cell_type": "markdown",
   "metadata": {},
   "source": [
    "# Pemikiran lain\n",
    "\n",
    "<img src='images/clusters_ToI.png'  style=\"height: 600px\"/>"
   ]
  },
  {
   "cell_type": "markdown",
   "metadata": {
    "slideshow": {
     "slide_type": "slide"
    }
   },
   "source": [
    "# \"Green\" Research\n",
    "\n",
    "<img src='images/arsitektur.PNG'  style=\"height: 600px\"/>"
   ]
  },
  {
   "cell_type": "markdown",
   "metadata": {
    "slideshow": {
     "slide_type": "slide"
    }
   },
   "source": [
    "# Wrap-up\n",
    "\n",
    "<img src='images/clustering_research_mindmap_taudataID.png'  style=\"height: 600px\"/>"
   ]
  },
  {
   "cell_type": "markdown",
   "metadata": {
    "slideshow": {
     "slide_type": "slide"
    }
   },
   "source": [
    "# <center><font color=\"blue\"> End of Module\n",
    "\n",
    "<hr />\n",
    "<p><img alt=\"\" src=\"images/Meme-on-Machine-Learning-accuracy.jpg\"  style=\"height: 400px\"/></p>"
   ]
  }
 ],
 "metadata": {
  "celltoolbar": "Slideshow",
  "kernelspec": {
   "display_name": "Python 3",
   "language": "python",
   "name": "python3"
  },
  "language_info": {
   "codemirror_mode": {
    "name": "ipython",
    "version": 3
   },
   "file_extension": ".py",
   "mimetype": "text/x-python",
   "name": "python",
   "nbconvert_exporter": "python",
   "pygments_lexer": "ipython3",
   "version": "3.6.13"
  },
  "latex_envs": {
   "LaTeX_envs_menu_present": true,
   "autoclose": false,
   "autocomplete": true,
   "bibliofile": "biblio.bib",
   "cite_by": "apalike",
   "current_citInitial": 1,
   "eqLabelWithNumbers": true,
   "eqNumInitial": 1,
   "hotkeys": {
    "equation": "Ctrl-E",
    "itemize": "Ctrl-I"
   },
   "labels_anchors": false,
   "latex_user_defs": false,
   "report_style_numbering": false,
   "user_envs_cfg": false
  }
 },
 "nbformat": 4,
 "nbformat_minor": 2
}
