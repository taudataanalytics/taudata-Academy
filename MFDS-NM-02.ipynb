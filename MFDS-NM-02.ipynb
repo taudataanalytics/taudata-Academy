{
 "cells": [
  {
   "cell_type": "markdown",
   "metadata": {
    "slideshow": {
     "slide_type": "slide"
    }
   },
   "source": [
    "<h2 style=\"text-align: center;\"><strong>Metode Numerik</strong><br /><strong><span style=\"color: blue;\">Metode Numerik di Statistik Sederhana</span></strong><br /><img style=\"height: 200px;\" src=\"images/MetNum.png\" alt=\"\" /></h2>\n",
    "<h2 id=\"(C)-Taufik-Sutanto---2019\" style=\"text-align: center;\">(C) Taufik Sutanto - 2020</h2>\n",
    "<h2 id=\"tau-data-Indonesia-~-https://tau-data.id/MFDS-NM-01/\" style=\"text-align: center;\">tau-data Indonesia ~ <a href=\"https://tau-data.id/MFDS-NM-02/\" target=\"_blank\"><span style=\"color: #0009ff;\">https://tau-data.id/MFDS-NM-02/</span></a></h2>"
   ]
  },
  {
   "cell_type": "markdown",
   "metadata": {
    "slideshow": {
     "slide_type": "slide"
    }
   },
   "source": [
    "# Quick Review\n",
    "\n",
    "Sebelumnya kita telah membahas:\n",
    "* Konversi basis bilangan dan error yang muncul karenanya di sistem floating point.\n",
    "* Error mutlak & absolut\n",
    "* Significant digit, truncation, rounding, dan cancellation error.\n",
    "\n",
    "## Pada kesempatan kali ini kita akan melihat lebih jauh pengaruh error-error tersebut ketika rumus statistika sederhana seperti Rata-Rata dan Variansi dihitung dengan cara biasa dan solusi apa yang bisa kita lakukan agar mendapatkan hasil perhitungan yang lebih baik."
   ]
  },
  {
   "cell_type": "code",
   "execution_count": 1,
   "metadata": {
    "slideshow": {
     "slide_type": "slide"
    }
   },
   "outputs": [],
   "source": [
    "# Fungsi menghitung Significant digit\n",
    "import math\n",
    "\n",
    "def sigDigit(real, approx):\n",
    "    rel_error = abs(real - approx)/abs(real)\n",
    "    return int( -math.log10( rel_error / 0.5 ) )"
   ]
  },
  {
   "cell_type": "markdown",
   "metadata": {
    "slideshow": {
     "slide_type": "slide"
    }
   },
   "source": [
    "# Tujuan\n",
    "\n",
    "Peserta memahami lebih mendalam bagaimana pemrograman Statistika/Data Science (bahkan yang paling sederhana sekalipun) membutuhkan pengetahuan metode/analisa numerik yang baik. Dengan memahami materi di lesson ini peserta diharapkan mulai memahami konsep programming di Big Data dengan konsep dasar yang kuat dan baik."
   ]
  },
  {
   "cell_type": "markdown",
   "metadata": {
    "slideshow": {
     "slide_type": "slide"
    }
   },
   "source": [
    "# Formula awal Rata-Rata dan Variansi Sampel\n",
    "\n",
    "* Rata-rata sample: $\\bar{x}=\\frac{1}{N}\\sum_{i=1}^{N}{x_i}$\n",
    "* Variansi sample: $\\sigma^2 = \\frac{1}{N-1} \\sum_{i=1}^{N}{(x_i-\\bar{x})^2}$\n",
    "\n",
    "\n",
    "## Apa makna/filosofi rumus sederhana ini?"
   ]
  },
  {
   "cell_type": "markdown",
   "metadata": {
    "slideshow": {
     "slide_type": "slide"
    }
   },
   "source": [
    "# Outline: Studi Empiris (Eksperimen Numerik)\n",
    "\n",
    "1. Generate contoh data sample (kasus sederhana)\n",
    "2. Implementasi (well-known) modul (sebagai benchmark sederhana)\n",
    "3. Implementasi Naif\n",
    "4. Evaluasi\n",
    "5. Pendekatan yang lebih baik."
   ]
  },
  {
   "cell_type": "markdown",
   "metadata": {
    "slideshow": {
     "slide_type": "slide"
    }
   },
   "source": [
    "# Generate data sample untuk studi kasus\n",
    "\n",
    "1. $M = 10^{12}$\n",
    "2. X ~ U[0,1] dengan panjang $10^6$\n",
    "3. $X = \\{x+M, x \\in X\\}$\n",
    "\n",
    "### Dengan cara ini maka seharunya rata-rata akan mendekati $M$ dan variansi seharusnya sangat kecil mendekati 0. \n",
    "## Why?"
   ]
  },
  {
   "cell_type": "markdown",
   "metadata": {
    "slideshow": {
     "slide_type": "slide"
    }
   },
   "source": [
    "# Elementary Statistics/Statistical Mathematics\n",
    "\n",
    "<img alt=\"\" src=\"images/uniform_mean_var.png\" />\n",
    "\n",
    "image source: https://image2.slideserve.com/4702922/uniform-distribution-mean-variance-l.jpg"
   ]
  },
  {
   "cell_type": "code",
   "execution_count": 2,
   "metadata": {
    "slideshow": {
     "slide_type": "slide"
    }
   },
   "outputs": [
    {
     "data": {
      "text/plain": [
       "(0.6475510493530234,\n",
       " array([0.64755105, 0.50714969, 0.52834138, 0.8962852 , 0.69999119,\n",
       "        0.7142971 , 0.71733838, 0.22281946, 0.17515452, 0.45684149]),\n",
       " array([1.64755105, 1.50714969, 1.52834138, 1.8962852 , 1.69999119,\n",
       "        1.7142971 , 1.71733838, 1.22281946, 1.17515452, 1.45684149]))"
      ]
     },
     "execution_count": 2,
     "metadata": {},
     "output_type": "execute_result"
    }
   ],
   "source": [
    "import numpy as np\n",
    "np.random.seed(88) # Biasakan menggunakan SEED pada percobaan random/Stokhastik\n",
    "\n",
    "X = np.random.uniform(0, 1, 10)\n",
    "Y = X+1\n",
    "X[0], X, Y"
   ]
  },
  {
   "cell_type": "code",
   "execution_count": 3,
   "metadata": {
    "slideshow": {
     "slide_type": "fragment"
    }
   },
   "outputs": [
    {
     "data": {
      "text/plain": [
       "<Figure size 640x480 with 1 Axes>"
      ]
     },
     "metadata": {},
     "output_type": "display_data"
    }
   ],
   "source": [
    "# Plot distribusinya\n",
    "import matplotlib.pyplot as plt\n",
    "\n",
    "X = np.random.uniform(0, 1, 3000)\n",
    "count, bins, ignored = plt.hist(X, 10, density=True)\n",
    "plt.plot(bins, np.ones_like(bins), linewidth=2, color='r')\n",
    "plt.show()"
   ]
  },
  {
   "cell_type": "markdown",
   "metadata": {
    "slideshow": {
     "slide_type": "slide"
    }
   },
   "source": [
    "# Our Sample Data"
   ]
  },
  {
   "cell_type": "code",
   "execution_count": 4,
   "metadata": {
    "slideshow": {
     "slide_type": "fragment"
    }
   },
   "outputs": [
    {
     "data": {
      "text/plain": [
       "1000000000000.2643"
      ]
     },
     "execution_count": 4,
     "metadata": {},
     "output_type": "execute_result"
    }
   ],
   "source": [
    "# Hati-hati menggunakan memory yang cukup besar dan komputasi yang cukup besar (lama)!\n",
    "# Rubah ke nilai yang lebih kecil jika menggunakan laptop/netbook \n",
    "# yang Spec-nya Low-Med.\n",
    "M = 10**12\n",
    "X = np.random.uniform(0, 1, 10**6) + M\n",
    "X[0]"
   ]
  },
  {
   "cell_type": "markdown",
   "metadata": {
    "slideshow": {
     "slide_type": "slide"
    }
   },
   "source": [
    "# Solusi Benchmark (Numpy)"
   ]
  },
  {
   "cell_type": "code",
   "execution_count": 5,
   "metadata": {
    "slideshow": {
     "slide_type": "fragment"
    }
   },
   "outputs": [
    {
     "name": "stdout",
     "output_type": "stream",
     "text": [
      "sample mean:          1000000000000.5\n",
      "sample variance:      0.08320963338752091\n"
     ]
    }
   ],
   "source": [
    "realMean = np.mean(X)\n",
    "realVar = np.var(X)\n",
    "print(\"sample mean:         \", realMean)\n",
    "print( \"sample variance:     \", realVar)\n",
    "#print( \"Standard Deviation:     \", np.std(X))\n",
    "# Notice seberapa cepat nilai-nilai ini dihitung? Bandingkan nanti jika kita menggunakan looping."
   ]
  },
  {
   "cell_type": "markdown",
   "metadata": {
    "slideshow": {
     "slide_type": "slide"
    }
   },
   "source": [
    "# Nope hasil diatas tidak tepat! Numpy Var by default menghitung Variansi Populasi bukan sample.\n",
    "\n",
    "* Baca di dokumentasinya disini: https://numpy.org/doc/stable/reference/generated/numpy.var.html\n",
    "* Dengan mudah di sesuaikan dengan cara berikut:"
   ]
  },
  {
   "cell_type": "code",
   "execution_count": 6,
   "metadata": {
    "slideshow": {
     "slide_type": "fragment"
    }
   },
   "outputs": [
    {
     "name": "stdout",
     "output_type": "stream",
     "text": [
      "sample mean:          1000000000000.5\n",
      "sample variance:      0.08320971659723751\n"
     ]
    }
   ],
   "source": [
    "realMean = np.mean(X)\n",
    "realVar = np.var(X, ddof=1)\n",
    "print(\"sample mean:         \", realMean)\n",
    "print( \"sample variance:     \", realVar)"
   ]
  },
  {
   "cell_type": "markdown",
   "metadata": {
    "slideshow": {
     "slide_type": "slide"
    }
   },
   "source": [
    "# Solusi Standard (Naive 2-pass)\n",
    "\n",
    "* Rata-rata sample: $\\bar{x}=\\frac{1}{N}\\sum_{i=1}^{N}{x_i}$\n",
    "* Variansi sample: $\\sigma^2 = \\frac{1}{N-1} \\sum_{i=1}^{N}{(x_i-\\bar{x})^2}$"
   ]
  },
  {
   "cell_type": "code",
   "execution_count": 7,
   "metadata": {
    "slideshow": {
     "slide_type": "fragment"
    }
   },
   "outputs": [
    {
     "name": "stdout",
     "output_type": "stream",
     "text": [
      "Significant digit Rata-rata = 12\n",
      "Significant digit Variansi= 0\n"
     ]
    }
   ],
   "source": [
    "# Hati-hati komputasi cukup lama!\n",
    "M = 10**6\n",
    "sum_ = 0.0 # ingat juggling variable di kuliah pertama\n",
    "for i in range(M):\n",
    "    sum_ += X[i]\n",
    "\n",
    "rerata = sum_/M\n",
    "print('Significant digit Rata-rata =', sigDigit(realMean, rerata))\n",
    "\n",
    "var_ = 0.0\n",
    "for i in range(M):\n",
    "    var_ += (X[i]-rerata)**2\n",
    "\n",
    "var_ = var_/(M-1)\n",
    "print('Significant digit Variansi=', sigDigit(realVar, var_))"
   ]
  },
  {
   "cell_type": "markdown",
   "metadata": {
    "slideshow": {
     "slide_type": "slide"
    }
   },
   "source": [
    "# Mengapa errornya besar sekali?\n",
    "\n",
    "* Cancellation\n",
    "* Plus impractical, kenapa?. Algoritma Two Pass tidak cocok untuk data streaming, misal ketika menangani Velocity di Big Data. \n",
    "\n",
    "# Hal ini muncul di beberapa kasus nyata, misal di: \n",
    "\n",
    "* computing regression coefficients \n",
    "* computing Pearson’s correlation coefficient.\n",
    "* signal processing.\n",
    "\n",
    "## How to improve?"
   ]
  },
  {
   "cell_type": "markdown",
   "metadata": {
    "slideshow": {
     "slide_type": "slide"
    }
   },
   "source": [
    "# Perbaikan #01: Yang biasanya dilakukan Seorang Programmer untuk menangani 2 pass, agar bisa untuk handle streaming analytics (velocity)\n",
    "\n",
    "<img alt=\"\" src=\"images/1_pass_var.png\" />\n",
    "\n",
    "## Sehingga perhitungan variansi menjadi:"
   ]
  },
  {
   "cell_type": "code",
   "execution_count": 8,
   "metadata": {
    "slideshow": {
     "slide_type": "slide"
    }
   },
   "outputs": [
    {
     "name": "stdout",
     "output_type": "stream",
     "text": [
      "Significant digit Variansi= -14\n"
     ]
    }
   ],
   "source": [
    "# Generate ulang X, just to make sure\n",
    "X = np.random.uniform(0, 1, 10**6) + 10**12\n",
    "\n",
    "def onePassVar(X):\n",
    "    sum_, sumsq_ = 0.0, 0.0\n",
    "    N = len(X)\n",
    "    for x in X:\n",
    "        sum_ += x\n",
    "        sumsq_ += x**2\n",
    "    rerata = sum_/N\n",
    "    return (sumsq_ - N*rerata**2)/(N-1)\n",
    "\n",
    "print('Significant digit Variansi=', sigDigit(realVar, onePassVar(X)))"
   ]
  },
  {
   "cell_type": "markdown",
   "metadata": {
    "slideshow": {
     "slide_type": "slide"
    }
   },
   "source": [
    "# Pelajaran Penting, secara algoritma sepertinya Elegan bisa berakibat buruk secara numerik!\n",
    "\n",
    "## Algoritma ini hanya cocok untuk data dengan skala dan ukuran kecil."
   ]
  },
  {
   "cell_type": "markdown",
   "metadata": {
    "slideshow": {
     "slide_type": "slide"
    }
   },
   "source": [
    "# Cara paling sederhana menggunakan Sifat Statistika:\n",
    "\n",
    "## Shifted Variance: Ketika suatu data di translasikan maka variance tidak berubah.\n",
    "\n",
    "### ingat hikmah kuliah pertama? (terkait normaslisasi dan standarisasi data)"
   ]
  },
  {
   "cell_type": "code",
   "execution_count": 9,
   "metadata": {
    "slideshow": {
     "slide_type": "slide"
    }
   },
   "outputs": [
    {
     "name": "stdout",
     "output_type": "stream",
     "text": [
      "Significant digit Variansi= 2\n"
     ]
    }
   ],
   "source": [
    "# Hati-hati komputasi cukup lama di komputer dengan spec low-mid\n",
    "# Generate ulang X, just to make sure\n",
    "X = np.random.uniform(0, 1, 10**6) + 10**12\n",
    "\n",
    "X = X-10**12 # Shifting\n",
    "N = len(X)\n",
    "\n",
    "sum_ = 0.0 # ingat juggling variable di kuliah pertama\n",
    "for x in X:\n",
    "    sum_ += x\n",
    "rerata = sum_/N\n",
    "\n",
    "var_ = 0.0\n",
    "for x in X:\n",
    "    var_ += (x-rerata)**2\n",
    "var_ = var_/(N-1)\n",
    "print('Significant digit Variansi=', sigDigit(realVar, var_))"
   ]
  },
  {
   "cell_type": "markdown",
   "metadata": {
    "slideshow": {
     "slide_type": "fragment"
    }
   },
   "source": [
    "# Mengapa hanya dengan \"shifting\"/menggeser meningkatkan akurasi begitu besar?"
   ]
  },
  {
   "cell_type": "markdown",
   "metadata": {
    "slideshow": {
     "slide_type": "slide"
    }
   },
   "source": [
    "# Alternative: Metode Welford\n",
    "\n",
    "<p><img alt=\"\" src=\"images/welford.png\" /></p>\n",
    "\n",
    "[*]. Welford, B. P. (1962). Note on a method for calculating corrected sums of squares and products. Technometrics, 4(3), 419-420.\n",
    "- Penjelasan lebih lanjut: https://math.stackexchange.com/questions/2798082/how-is-welfords-algorithm-derived"
   ]
  },
  {
   "cell_type": "code",
   "execution_count": 10,
   "metadata": {
    "slideshow": {
     "slide_type": "slide"
    }
   },
   "outputs": [
    {
     "name": "stdout",
     "output_type": "stream",
     "text": [
      "Significant digit Variansi= 2\n"
     ]
    }
   ],
   "source": [
    "# kita harus kembalikan dahulu nilai X\n",
    "M = 10**12\n",
    "X = np.random.uniform(0, 1, 10**6) + M\n",
    "\n",
    "def welford(x_array):\n",
    "    k = 0\n",
    "    for x in x_array:\n",
    "        k += 1\n",
    "        if k == 1:\n",
    "            M = x\n",
    "            S = 0\n",
    "        else:\n",
    "            Mnext = M + (x - M) / k\n",
    "            S = S + (x - M)*(x - Mnext)\n",
    "            M = Mnext\n",
    "    return S/(k-1)\n",
    "\n",
    "print('Significant digit Variansi=', sigDigit(realVar, welford(X)))"
   ]
  },
  {
   "cell_type": "markdown",
   "metadata": {
    "slideshow": {
     "slide_type": "slide"
    }
   },
   "source": [
    "# Mengapa Lebih baik (the logic behind Welford method)\n",
    "\n",
    "* Single Pass, cocok untuk streaming analytics\n",
    "* Pembuktian/penjelasan lebih lanjut:\n",
    " - https://www.johndcook.com/blog/2008/09/26/comparing-three-methods-of-computing-standard-deviation/\n",
    " - https://alessior.wordpress.com/2017/10/09/onlinerecursive-variance-calculation-welfords-method/"
   ]
  },
  {
   "cell_type": "markdown",
   "metadata": {
    "slideshow": {
     "slide_type": "fragment"
    }
   },
   "source": [
    "# Jika ingin mendalami lebih lanjut:\n",
    "\n",
    "Comparison of Several Algorithms for Computing Sample Means and Variances\n",
    "Robert F. Ling\n",
    "Journal of the American Statistical Association\n",
    "Vol. 69, No. 348 (Dec., 1974), pp. 859-866 (8 pages)\n",
    "Published By: Taylor & Francis, Ltd.\n",
    "DOI: 10.2307/2286154\n",
    "https://www.jstor.org/stable/2286154"
   ]
  },
  {
   "cell_type": "markdown",
   "metadata": {
    "slideshow": {
     "slide_type": "slide"
    }
   },
   "source": [
    "# End of Modul MFDS-NM-02\n",
    "\n",
    "<hr />"
   ]
  }
 ],
 "metadata": {
  "celltoolbar": "Slideshow",
  "kernelspec": {
   "display_name": "Python 3",
   "language": "python",
   "name": "python3"
  },
  "language_info": {
   "codemirror_mode": {
    "name": "ipython",
    "version": 3
   },
   "file_extension": ".py",
   "mimetype": "text/x-python",
   "name": "python",
   "nbconvert_exporter": "python",
   "pygments_lexer": "ipython3",
   "version": "3.6.8"
  },
  "latex_envs": {
   "LaTeX_envs_menu_present": true,
   "autoclose": false,
   "autocomplete": true,
   "bibliofile": "biblio.bib",
   "cite_by": "apalike",
   "current_citInitial": 1,
   "eqLabelWithNumbers": true,
   "eqNumInitial": 1,
   "hotkeys": {
    "equation": "Ctrl-E",
    "itemize": "Ctrl-I"
   },
   "labels_anchors": false,
   "latex_user_defs": false,
   "report_style_numbering": false,
   "user_envs_cfg": false
  }
 },
 "nbformat": 4,
 "nbformat_minor": 2
}
