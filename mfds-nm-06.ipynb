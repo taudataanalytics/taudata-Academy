{
 "cells": [
  {
   "cell_type": "markdown",
   "metadata": {
    "slideshow": {
     "slide_type": "slide"
    }
   },
   "source": [
    "# <center><strong>Metode Numerik</strong><br /><strong><span style=\"color: blue;\">Curve Fitting</span></strong><br /><img style=\"\" src=\"images/MetNum.png\" alt=\"\" /></center>\n",
    "\n",
    "<h2 id=\"(C)-Taufik-Sutanto---2019\" style=\"text-align: center;\">(C) Taufik Sutanto - 2020</h2>\n",
    "<h2 id=\"tau-data-Indonesia-~-https://tau-data.id\" style=\"text-align: center;\">tau-data Indonesia ~ <a href=\"https://tau-data.id/mfds-nm-06/\" target=\"_blank\"><span style=\"color: #0009ff;\">https://tau-data.id/mfds-nm-06/</span></a></h2>"
   ]
  },
  {
   "cell_type": "markdown",
   "metadata": {
    "slideshow": {
     "slide_type": "slide"
    }
   },
   "source": [
    "## Outline:\n",
    "\n",
    "* Pendahuluan\n",
    "* Linear Least Squares\n",
    "* Exercise 1\n",
    "* Power Fit\n",
    "* Exercise 2\n",
    "* Curve Fitting\n",
    "* Exercise 3"
   ]
  },
  {
   "cell_type": "markdown",
   "metadata": {
    "slideshow": {
     "slide_type": "slide"
    }
   },
   "source": [
    "<p><img alt=\"\" src=\"images/V_1_Solar_System.jpg\" style=\"width: 800px; height: 348px;\" /></p>\n",
    "\n",
    "<ul>\n",
    "\t<li>Johannes Keppler 1601</li>\n",
    "\t<li>Third law of Planetary Motions : <span class=\"MathJax_Preview\" style=\"color: inherit;\"><span class=\"MJXp-math\" id=\"MJXp-Span-1689\"><span class=\"MJXp-mi MJXp-italic\" id=\"MJXp-Span-1690\">T</span><span class=\"MJXp-mo\" id=\"MJXp-Span-1691\" style=\"margin-left: 0.333em; margin-right: 0.333em;\">=</span><span class=\"MJXp-mi MJXp-italic\" id=\"MJXp-Span-1692\">C</span><span class=\"MJXp-msubsup\" id=\"MJXp-Span-1693\"><span class=\"MJXp-mi MJXp-italic\" id=\"MJXp-Span-1694\" style=\"margin-right: 0.05em;\">X</span><span class=\"MJXp-mrow MJXp-script\" id=\"MJXp-Span-1695\" style=\"vertical-align: 0.5em;\"><span class=\"MJXp-mi MJXp-italic\" id=\"MJXp-Span-1696\">A</span></span></span></span></span><script type=\"math/tex\" id=\"MathJax-Element-99\">T = C X^{A}</script></li>\n",
    "</ul>\n",
    "\n",
    "* x adalah jarak ke matahari 9dalam juta km\n",
    "* T = periode orbit (dalam hari)\n",
    "* Nilai (x,T) yang diketahui: Merkurius, Venus, Bumi, Mars = (58,8), (108, 225), (150, 365), & (228, 687)\n",
    "* Coefficient C didapatkan dari metode Least Square C = 0.1997"
   ]
  },
  {
   "cell_type": "markdown",
   "metadata": {
    "slideshow": {
     "slide_type": "slide"
    }
   },
   "source": [
    "## Garis *Least Squares* ~ Dasar Penting Statistika/Data Science\n",
    "* $y = f(x) = Ax + b$ ==> Interpolasi (kita sudah bahas ini)\n",
    "* Namun eksperimen (permasalahan di dunia nyata/sains) hampir selalu mengandung kesalahan (error)\n",
    "* $y_k = f(x_k) + \\epsilon_k$ untuk $k \\in I$ (deviasi / Residual)\n",
    "* Kita sudah pernah menghitung deviasi pendekatan dan nilai sesungguhnya (error absolut dan relatif), namun bagaimana mengukur error di beberapa pengukuran?"
   ]
  },
  {
   "cell_type": "markdown",
   "metadata": {
    "slideshow": {
     "slide_type": "subslide"
    }
   },
   "source": [
    "<p><img alt=\"\" src=\"images/residual_norms.png\" style=\"width: 800px; height: 336px;\" /></p>\n",
    "\n",
    "<p>* Contoh?</p>\n"
   ]
  },
  {
   "cell_type": "markdown",
   "metadata": {
    "slideshow": {
     "slide_type": "subslide"
    }
   },
   "source": [
    "<p><img alt=\"\" src=\"images/V_2_Residual_Norms.png\" style=\"width: 800px; height: 223px;\" /></p>\n"
   ]
  },
  {
   "cell_type": "markdown",
   "metadata": {
    "slideshow": {
     "slide_type": "subslide"
    }
   },
   "source": [
    "## Least Squares Line\n",
    "\n",
    "<img alt=\"\" src=\"images/V_3_Plot_LSL.png\" style=\"width: 600px; height: 434px;\" />\n",
    "<img alt=\"\" src=\"images/V_3_Plot_LSL_teo.png\" style=\"width: 800px ; height: 348px\" />\n"
   ]
  },
  {
   "cell_type": "markdown",
   "metadata": {},
   "source": [
    "# $E(A, B) = \\sum^{N}_{k=1}(Ax_k + B - y_k)^2 = \\sum_{k=1}^{N}d_k^2$\n",
    "<img alt=\"\" src=\"images/V_3_Plot_LSL_proof.jpg\" />"
   ]
  },
  {
   "cell_type": "markdown",
   "metadata": {
    "slideshow": {
     "slide_type": "subslide"
    }
   },
   "source": [
    "<p><img alt=\"\" src=\"images/V_4_LSL_eg.png\" style=\"width: 800px; height: 309px;\" /></p>\n"
   ]
  },
  {
   "cell_type": "markdown",
   "metadata": {},
   "source": [
    "x^2A + x B = xy\n",
    "xA + N B = y\n",
    "\n"
   ]
  },
  {
   "cell_type": "code",
   "execution_count": 1,
   "metadata": {},
   "outputs": [],
   "source": [
    "import numpy as np, matplotlib as mpl, matplotlib.pyplot as plt\n",
    "from numpy import polyfit, poly1d"
   ]
  },
  {
   "cell_type": "code",
   "execution_count": 2,
   "metadata": {},
   "outputs": [
    {
     "data": {
      "image/png": "[encoded data removed]",
      "text/plain": [
       "<Figure size 432x288 with 1 Axes>"
      ]
     },
     "metadata": {
      "needs_background": "light"
     },
     "output_type": "display_data"
    }
   ],
   "source": [
    "%matplotlib inline\n",
    "\n",
    "x = np.linspace(-5, 5, 100)\n",
    "y = 4 * x + 1.5\n",
    "\n",
    "noise_y = y + np.random.randn(y.shape[-1]) * 2.5\n",
    "\n",
    "p = plt.plot(x, noise_y, 'rx')\n",
    "p = plt.plot(x, y, 'b:')"
   ]
  },
  {
   "cell_type": "code",
   "execution_count": 4,
   "metadata": {},
   "outputs": [
    {
     "data": {
      "text/plain": [
       "array([3.93697436, 1.30314009])"
      ]
     },
     "execution_count": 4,
     "metadata": {},
     "output_type": "execute_result"
    }
   ],
   "source": [
    "coeff = polyfit(x, noise_y, 1)\n",
    "coeff"
   ]
  },
  {
   "cell_type": "code",
   "execution_count": 6,
   "metadata": {},
   "outputs": [
    {
     "data": {
      "text/plain": [
       "array([-1.60714286,  8.64285714])"
      ]
     },
     "execution_count": 6,
     "metadata": {},
     "output_type": "execute_result"
    }
   ],
   "source": [
    "X = np.array([-1, 0, 1, 2, 3, 4, 5, 6])\n",
    "Y = np.array([10, 9, 7, 5, 4, 3, 0, -1])\n",
    "coeff = polyfit(X, Y, 1)\n",
    "coeff"
   ]
  },
  {
   "cell_type": "code",
   "execution_count": 7,
   "metadata": {},
   "outputs": [
    {
     "data": {
      "image/png": "[encoded data removed]",
      "text/plain": [
       "<Figure size 432x288 with 1 Axes>"
      ]
     },
     "metadata": {
      "needs_background": "light"
     },
     "output_type": "display_data"
    }
   ],
   "source": [
    "plt.plot(X, Y, 'rx')\n",
    "plt.plot(X, coeff[0] * X + coeff[1], 'k-')\n",
    "p = plt.plot(X, Y, 'b--')"
   ]
  },
  {
   "cell_type": "code",
   "execution_count": 8,
   "metadata": {},
   "outputs": [
    {
     "data": {
      "image/png": "[encoded data removed]",
      "text/plain": [
       "<Figure size 432x288 with 1 Axes>"
      ]
     },
     "metadata": {
      "needs_background": "light"
     },
     "output_type": "display_data"
    }
   ],
   "source": [
    "# Lebih sederhana\n",
    "f = poly1d(coeff)\n",
    "p = plt.plot(X, Y, 'rx')\n",
    "p = plt.plot(X, f(X))"
   ]
  },
  {
   "cell_type": "code",
   "execution_count": 9,
   "metadata": {},
   "outputs": [
    {
     "name": "stdout",
     "output_type": "stream",
     "text": [
      " \n",
      "-1.607 x + 8.643\n"
     ]
    }
   ],
   "source": [
    "print(f)"
   ]
  },
  {
   "cell_type": "markdown",
   "metadata": {},
   "source": [
    "# Generalization\n",
    "\n",
    "<img alt=\"\" src=\"images/korelasi_2_regresi.png\" />"
   ]
  },
  {
   "cell_type": "markdown",
   "metadata": {
    "slideshow": {
     "slide_type": "slide"
    }
   },
   "source": [
    "# The Power Fit $y = AX^M$\n",
    "\n",
    "<img alt=\"\" src=\"images/V_4_Power_FIt_Theo.png\" />"
   ]
  },
  {
   "cell_type": "markdown",
   "metadata": {},
   "source": [
    "<img alt=\"\" src=\"images/V_4_Power_FIt_proof.jpg\" />"
   ]
  },
  {
   "cell_type": "markdown",
   "metadata": {
    "slideshow": {
     "slide_type": "subslide"
    }
   },
   "source": [
    "<p><img alt=\"\" src=\"images/V_4_Power_FIt_eg.png\" style=\"width: 800px; height: 452px;\" /></p>\n"
   ]
  },
  {
   "cell_type": "code",
   "execution_count": 10,
   "metadata": {},
   "outputs": [
    {
     "data": {
      "text/plain": [
       "9.813329928498469"
      ]
     },
     "execution_count": 10,
     "metadata": {},
     "output_type": "execute_result"
    }
   ],
   "source": [
    "tk = [0.2, 0.4, 0.6, 0.8, 1.0]\n",
    "dk = [0.196, 0.785, 1.766, 3.14, 4.907]\n",
    "dktk2 = [d*t**2 for d,t in zip(dk, tk)]\n",
    "tk4 = [t**4 for t in tk]\n",
    "\n",
    "A = sum(dktk2)/sum(tk4)\n",
    "2*A"
   ]
  },
  {
   "cell_type": "markdown",
   "metadata": {
    "slideshow": {
     "slide_type": "slide"
    }
   },
   "source": [
    "## Curve Fitting - Data Linearization Method for $y = C e^{Ax}$"
   ]
  },
  {
   "cell_type": "markdown",
   "metadata": {
    "slideshow": {
     "slide_type": "subslide"
    }
   },
   "source": [
    "<p><img alt=\"\" src=\"images/V_4_Curve_Fit.png\" style=\"width: 600px; height: 230px;\" /></p>\n"
   ]
  },
  {
   "cell_type": "markdown",
   "metadata": {
    "slideshow": {
     "slide_type": "subslide"
    }
   },
   "source": [
    "<p><img alt=\"\" src=\"images/V_4_Curve_Fit_Linearization_Methods.png\" style=\"width: 600px; height: 412px;\" /></p>\n"
   ]
  },
  {
   "cell_type": "markdown",
   "metadata": {},
   "source": [
    "<p><img alt=\"\" src=\"images/linearization_method_ex_1.png\" /></p>\n",
    "\n",
    "\n"
   ]
  },
  {
   "cell_type": "markdown",
   "metadata": {},
   "source": [
    "<p><img alt=\"\" src=\"images/linearization_method_ex_2.png\" /></p>"
   ]
  },
  {
   "cell_type": "markdown",
   "metadata": {
    "slideshow": {
     "slide_type": "subslide"
    }
   },
   "source": [
    "## NonLinear Curve Fitting\n",
    "<p><img alt=\"\" src=\"images/V_4_Curve_Fit_NonLinear.png\" style=\"width: 600px; height: 553px;\" /></p>"
   ]
  },
  {
   "cell_type": "markdown",
   "metadata": {},
   "source": [
    "\n",
    "<p><img alt=\"\" src=\"images/Non_Linear_Least_Square_Method.png\" /></p>"
   ]
  },
  {
   "cell_type": "code",
   "execution_count": 17,
   "metadata": {},
   "outputs": [],
   "source": [
    "import numpy as np\n",
    "from scipy.optimize import minimize\n",
    "\n",
    "def f(x):\n",
    "    A, C = x[0], x[1] # agar mudah dimengerti\n",
    "    return (C-1.5)**2 + (C*np.exp(A) - 2.5)**2 + (C*np.exp(2*A) - 3.5)**2 + (C*np.exp(3*A) - 5.0)**2 + (C*np.exp(4*A) - 7.5)**2"
   ]
  },
  {
   "cell_type": "code",
   "execution_count": 20,
   "metadata": {},
   "outputs": [
    {
     "data": {
      "text/plain": [
       "array([0.38357506, 1.61086915])"
      ]
     },
     "execution_count": 20,
     "metadata": {},
     "output_type": "execute_result"
    }
   ],
   "source": [
    "x0 = [1,1]\n",
    "res = minimize(f, x0)\n",
    "res.x"
   ]
  },
  {
   "cell_type": "markdown",
   "metadata": {
    "slideshow": {
     "slide_type": "subslide"
    }
   },
   "source": [
    "<h2 id=\"Polynomial-Fitting\">Polynomial Fitting</h2>\n",
    "\n",
    "<p><img alt=\"\" src=\"images/V_4_Curve_Fit_Polynomial.png\" style=\"width: 600px; height: 293px;\" /></p>\n"
   ]
  },
  {
   "cell_type": "markdown",
   "metadata": {},
   "source": [
    "<p><img alt=\"\" src=\"images/V_4_Curve_Fit_Polynomial_proof.jpg\" /></p>"
   ]
  },
  {
   "cell_type": "markdown",
   "metadata": {},
   "source": [
    "<p><img alt=\"\" src=\"images/poly_fitting_1.png\" /></p>\n",
    "<p><img alt=\"\" src=\"images/poly_fitting_2.png\" /></p>"
   ]
  },
  {
   "cell_type": "code",
   "execution_count": 13,
   "metadata": {},
   "outputs": [
    {
     "data": {
      "text/plain": [
       "array([ 0.17846248, -0.19249542,  0.85051861])"
      ]
     },
     "execution_count": 13,
     "metadata": {},
     "output_type": "execute_result"
    }
   ],
   "source": [
    "xx = np.array([-3, 0, 2, 4])\n",
    "yy = np.array([3, 1, 1, 3])\n",
    "pol_2 = polyfit(xx, yy, 2)\n",
    "pol_2"
   ]
  },
  {
   "cell_type": "markdown",
   "metadata": {
    "slideshow": {
     "slide_type": "slide"
    }
   },
   "source": [
    "<h3>End of Module</h3>\n",
    "<hr />\n",
    "..."
   ]
  }
 ],
 "metadata": {
  "celltoolbar": "Slideshow",
  "kernelspec": {
   "display_name": "Python 3",
   "language": "python",
   "name": "python3"
  },
  "language_info": {
   "codemirror_mode": {
    "name": "ipython",
    "version": 3
   },
   "file_extension": ".py",
   "mimetype": "text/x-python",
   "name": "python",
   "nbconvert_exporter": "python",
   "pygments_lexer": "ipython3",
   "version": "3.6.8"
  },
  "latex_envs": {
   "LaTeX_envs_menu_present": true,
   "autoclose": false,
   "autocomplete": true,
   "bibliofile": "biblio.bib",
   "cite_by": "apalike",
   "current_citInitial": 1,
   "eqLabelWithNumbers": true,
   "eqNumInitial": 1,
   "hotkeys": {
    "equation": "Ctrl-E",
    "itemize": "Ctrl-I"
   },
   "labels_anchors": false,
   "latex_user_defs": false,
   "report_style_numbering": false,
   "user_envs_cfg": false
  }
 },
 "nbformat": 4,
 "nbformat_minor": 2
}
