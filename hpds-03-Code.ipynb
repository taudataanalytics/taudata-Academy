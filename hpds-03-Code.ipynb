{
 "cells": [
  {
   "cell_type": "markdown",
   "metadata": {
    "slideshow": {
     "slide_type": "slide"
    }
   },
   "source": [
    "<center><h2><strong><font color=\"blue\">High Performance Data Science (HPDS)</font></strong></h2></center>\n",
    "<center><h3><strong><font color=\"blue\"><a href=\"https://taudata.blogspot.com\">https://taudata.blogspot.com</a></font></strong></h3></center>\n",
    "\n",
    "<img alt=\"\" src=\"images/covers/taudata-cover.jpg\"/>\n",
    "\n",
    "<center><h2><strong><font color=\"blue\">HPDS-03: Pendahuluan Pemrograman Parallel di Python</font></strong></h2></center>\n",
    "<center><h3><strong><font color=\"blue\"><a href=\"https://taudata.blogspot.com/2022/04/hpds-03.html\">https://taudata.blogspot.com/2022/04/hpds-03.html</a></font></strong></h3></center>\n",
    "<b><center><h3>(C) Taufik Sutanto</h3></center>"
   ]
  },
  {
   "cell_type": "code",
   "execution_count": null,
   "metadata": {},
   "outputs": [],
   "source": [
    "# -*- coding: utf-8 -*-\n",
    "import os\n",
    "import time\n",
    "import threading\n",
    "import multiprocessing\n",
    " \n",
    "NUM_WORKERS = 4\n",
    " \n",
    "def only_sleep():\n",
    "    \"\"\" Do nothing, wait for a timer to expire \"\"\"\n",
    "    print(\"PID: %s, Process Name: %s, Thread Name: %s\" % (\n",
    "        os.getpid(),\n",
    "        multiprocessing.current_process().name,\n",
    "        threading.current_thread().name)\n",
    "    )\n",
    "    time.sleep(1)\n",
    " \n",
    " \n",
    "def crunch_numbers():\n",
    "    \"\"\" Do some computations \"\"\"\n",
    "    print(\"PID: %s, Process Name: %s, Thread Name: %s\" % (\n",
    "        os.getpid(),\n",
    "        multiprocessing.current_process().name,\n",
    "        threading.current_thread().name)\n",
    "    )\n",
    "    x = 0\n",
    "    while x < 10000000:\n",
    "        x += 1\n",
    "\n",
    "if __name__ == '__main__':\n",
    "        \n",
    "    ## Run tasks serially\n",
    "    start_time = time.time()\n",
    "    for _ in range(NUM_WORKERS):\n",
    "        only_sleep()\n",
    "    end_time = time.time()\n",
    "     \n",
    "    print(\"Serial time=\", end_time - start_time)\n",
    "     \n",
    "    # Run tasks using threads\n",
    "    start_time = time.time()\n",
    "    threads = [threading.Thread(target=only_sleep) for _ in range(NUM_WORKERS)]\n",
    "    [thread.start() for thread in threads]\n",
    "    [thread.join() for thread in threads]\n",
    "    end_time = time.time()\n",
    "     \n",
    "    print(\"Threads time=\", end_time - start_time)\n",
    "     \n",
    "    # Run tasks using processes\n",
    "    start_time = time.time()\n",
    "    processes = [multiprocessing.Process(target=only_sleep()) for _ in range(NUM_WORKERS)]\n",
    "    [process.start() for process in processes]\n",
    "    [process.join() for process in processes]\n",
    "    end_time = time.time()\n",
    "     \n",
    "    print(\"Parallel time=\", end_time - start_time)"
   ]
  },
  {
   "cell_type": "code",
   "execution_count": null,
   "metadata": {},
   "outputs": [],
   "source": [
    "import multiprocessing as mp\n",
    "\n",
    "def f(x):\n",
    "    return x*x\n",
    "\n",
    "if __name__ == '__main__':\n",
    "    print('Number of currently available processor = ', mp.cpu_count())\n",
    "    input_ = [1, 2, 3, 4, 5, 7, 9, 10]\n",
    "    print('input = ', input_)\n",
    "    with mp.Pool(5) as p:\n",
    "        print(p.map(f, input_))"
   ]
  },
  {
   "cell_type": "markdown",
   "metadata": {},
   "source": [
    "# Contoh Pool yang lebih cocok."
   ]
  },
  {
   "cell_type": "code",
   "execution_count": null,
   "metadata": {},
   "outputs": [],
   "source": [
    "import multiprocessing\n",
    "import numpy as np\n",
    "import time\n",
    "\n",
    "def pungsi(N):\n",
    "    s = 0.0\n",
    "    for i in range(1,N):\n",
    "        s += np.log(i)\n",
    "    return s\n",
    "\n",
    "if __name__ == '__main__':\n",
    "    inputs = [10**6] * 20\n",
    "    print('Serial/Sequential Programming biasa:')\n",
    "    mulai =  time.time()\n",
    "    outputs = [pungsi(x) for x in inputs]\n",
    "    akhir  = time.time()\n",
    "    print(\"Rata-rata Output: {}\".format(np.mean(outputs)))\n",
    "    print(\"Waktu Serial: {}\".format(akhir-mulai))\n",
    "    \n",
    "    print('Parallel Programming:')\n",
    "    mulai =  time.time()\n",
    "    pool = multiprocessing.Pool(processes=8)\n",
    "    outputs = pool.map(pungsi, inputs)\n",
    "    akhir  = time.time()\n",
    "    #print(\"Input: {}\".format(inputs))\n",
    "    print(\"Rata-rata Output: {}\".format(np.mean(outputs)))\n",
    "    print(\"Waktu parallel: {}\".format(akhir-mulai))"
   ]
  },
  {
   "cell_type": "code",
   "execution_count": null,
   "metadata": {},
   "outputs": [],
   "source": [
    "import multiprocessing as mp\n",
    "\n",
    "def square(x):\n",
    "    return x * x\n",
    "\n",
    "if __name__ == '__main__':\n",
    "    inputs = [0,1,2,3,4,5,6,7,8]\n",
    "    \n",
    "    print('Sync Parallel Processing')\n",
    "    pool = mp.Pool()\n",
    "    outputs = pool.map(square, inputs)\n",
    "    print(\"Input: {}\".format(inputs))\n",
    "    print(\"Output: {} \\n\".format(outputs))\n",
    "    pool.close(); del pool\n",
    "    \n",
    "    print('Async Parallel Processing')\n",
    "    pool = mp.Pool()\n",
    "    outputs_async = pool.map_async(square, inputs)\n",
    "    outputs = outputs_async.get()\n",
    "    print(\"Input: {}\".format(inputs))\n",
    "    print(\"Output: {}\".format(outputs))"
   ]
  },
  {
   "cell_type": "markdown",
   "metadata": {},
   "source": [
    "# Ingat kita bisa assign fungsi apapun ke masing-masing processor secara manual jika dibutuhkan"
   ]
  },
  {
   "cell_type": "code",
   "execution_count": null,
   "metadata": {},
   "outputs": [],
   "source": [
    "import multiprocessing\n",
    "import os\n",
    "import time\n",
    "import threading\n",
    "\n",
    "class ProsesA(multiprocessing.Process):\n",
    "    def __init__(self, id):\n",
    "        super(ProsesA, self).__init__()\n",
    "        self.id = id\n",
    "\n",
    "    def run(self):\n",
    "        time.sleep(1)\n",
    "        print(\"PID: %s, Process ID: %s, Process Name: %s, Thread Name: %s\" % (\n",
    "        os.getpid(), self.id,\n",
    "        multiprocessing.current_process().name,\n",
    "        threading.current_thread().name))\n",
    "        \n",
    "class ProsesB(multiprocessing.Process):\n",
    "    def __init__(self, id):\n",
    "        super(ProsesB, self).__init__()\n",
    "        self.id = id\n",
    "\n",
    "    def run(self):\n",
    "        time.sleep(1)\n",
    "        print(\"PID: %s, Process ID: %s, Process Name: %s, Thread Name: %s\" % (\n",
    "        os.getpid(), self.id,\n",
    "        multiprocessing.current_process().name,\n",
    "        threading.current_thread().name))\n",
    "\n",
    "if __name__ == '__main__':\n",
    "    p1 = ProsesA(0)\n",
    "    p1.start()\n",
    "    p2 = ProsesB(1)\n",
    "    p2.start()\n",
    "    p1.join(); p2.join()"
   ]
  },
  {
   "cell_type": "markdown",
   "metadata": {},
   "source": [
    "# Parallel Programming pada Fungsi Multivariate: StarMap"
   ]
  },
  {
   "cell_type": "code",
   "execution_count": null,
   "metadata": {},
   "outputs": [],
   "source": [
    "import multiprocessing as mp\n",
    "\n",
    "def f_sum(a, b):\n",
    "    return a + b\n",
    "\n",
    "if __name__ == '__main__':\n",
    "    process_pool = mp.Pool(4)\n",
    "    data = [(1, 1), (2, 1), (3, 1), (6, 9)]\n",
    "    output = process_pool.starmap(f_sum, data)\n",
    "    print(\"input = \", data)\n",
    "    print(\"output = \", output)"
   ]
  },
  {
   "cell_type": "markdown",
   "metadata": {
    "slideshow": {
     "slide_type": "slide"
    }
   },
   "source": [
    "# End of Module\n",
    "\n",
    "<hr>"
   ]
  }
 ],
 "metadata": {
  "celltoolbar": "Slideshow",
  "kernelspec": {
   "display_name": "Python 3 (ipykernel)",
   "language": "python",
   "name": "python3"
  },
  "language_info": {
   "codemirror_mode": {
    "name": "ipython",
    "version": 3
   },
   "file_extension": ".py",
   "mimetype": "text/x-python",
   "name": "python",
   "nbconvert_exporter": "python",
   "pygments_lexer": "ipython3",
   "version": "3.9.11"
  },
  "latex_envs": {
   "LaTeX_envs_menu_present": true,
   "autoclose": false,
   "autocomplete": true,
   "bibliofile": "biblio.bib",
   "cite_by": "apalike",
   "current_citInitial": 1,
   "eqLabelWithNumbers": true,
   "eqNumInitial": 1,
   "hotkeys": {
    "equation": "Ctrl-E",
    "itemize": "Ctrl-I"
   },
   "labels_anchors": false,
   "latex_user_defs": false,
   "report_style_numbering": false,
   "user_envs_cfg": false
  }
 },
 "nbformat": 4,
 "nbformat_minor": 2
}
