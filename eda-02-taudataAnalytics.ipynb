{
 "cells": [
  {
   "cell_type": "markdown",
   "metadata": {
    "slideshow": {
     "slide_type": "slide"
    }
   },
   "source": [
    "<center><h1><strong>tau-data Analytics</strong></h1></center>\n",
    "<center><h2><strong><font color=\"blue\">Exploratory Data Analysis-02: Outlier dan Missing Values </font></strong></h2></center>\n",
    "<img alt=\"\" src=\"images/covers/Cover_EDA.png\"/>\n",
    "\n",
    "<b><center>(C) Taufik Sutanto</center>\n",
    "<center><h3><font color=\"blue\">https://taudataid.github.io/eda02/</font></h3></center>"
   ]
  },
  {
   "cell_type": "markdown",
   "metadata": {
    "slideshow": {
     "slide_type": "slide"
    }
   },
   "source": [
    "# Outline:\n",
    "\n",
    "* Noise & Outliers\n",
    "* Missing Values dan Imputasi"
   ]
  },
  {
   "cell_type": "code",
   "execution_count": 2,
   "metadata": {},
   "outputs": [],
   "source": [
    "# Importing Some Python Modules\n",
    "import warnings; warnings.simplefilter('ignore')\n",
    "import scipy, itertools, pandas as pd, matplotlib.pyplot as plt, seaborn as sns, numpy as np\n",
    "from scipy import stats\n",
    "from sklearn.preprocessing import StandardScaler, MinMaxScaler\n",
    "\n",
    "plt.style.use('bmh'); sns.set()"
   ]
  },
  {
   "cell_type": "markdown",
   "metadata": {
    "slideshow": {
     "slide_type": "slide"
    }
   },
   "source": [
    "# <center><font color=\"blue\"> Beberapa Catatan Statistika Deskriptif</font></center>\n",
    "\n",
    "* Modus tidak selalu ada\n",
    "* Kapan saat yang lebih tepat menggunakan Mean atau Median (outlier-wise)\n",
    "* Min/max dapat digunakan untuk mendeteksi Noise/Outlier\n",
    "* Perbedaan noise dan outlier hanya dapat dilakukan lewat domain/business knowledge.\n",
    "* Banyak literatur yang menyatakan outlier sebagai noise (outlier adalah subset/contoh noise).\n",
    "* Outlier/noise harus \"ditangani\" saat preprocessing.\n",
    "    \n",
    "<center><img alt=\"\" src=\"images/outlier vs noise.jpg\" style=\"height: 400px;\"/></center>"
   ]
  },
  {
   "cell_type": "markdown",
   "metadata": {
    "slideshow": {
     "slide_type": "slide"
    }
   },
   "source": [
    "# <center><font color=\"blue\"> Noisy (Big) Data</font></center>\n",
    "\n",
    "## <font color=\"green\"> Noise dapat terjadi karena:</font>\n",
    "  - Kesalahan instrumen pengukuran: Misal di alat IoT pada saat cuaca buruk/baterai yang lemah.\n",
    "  - Kesalahan input/entry\n",
    "  - Transmisi yang tidak sempurna\n",
    "  - inkonsistensi penamaan, dsb\n",
    "\n",
    "<img alt=\"\" src=\"images/noisy data.png\" style=\"height: 250px;\"/>"
   ]
  },
  {
   "cell_type": "markdown",
   "metadata": {
    "slideshow": {
     "slide_type": "slide"
    }
   },
   "source": [
    "# <center><font color=\"blue\"> Distribusi nilai pada setiap variabel kategorik</font></center>\n",
    "### <font color=\"green\"> Di module setelah ini kita akan menelaah lebih jauh lewat visualisasi</font>\n",
    "\n",
    "* Pada tahap ini tujuan melihat distribusi variabel kategorik adalah bagian dari preprocessing/data cleaning, yaitu memeriksa apakah ada noise di variabel kategorik (biasanya typo).\n",
    "* Jika variabel kategorik-nya adalah variabel target dan terjadi perbedaan proporsi yang mencolok maka tahap ini juga bermanfaat untuk mempersiapkan pemodelan imbalance learning pada tahap selanjutnya.\n",
    "* Dapat dilakukan via fungsi \"**value_counts**\" di Pandas atau Fungsi \"**Counter**\" di module Collections."
   ]
  },
  {
   "cell_type": "code",
   "execution_count": 58,
   "metadata": {
    "ExecuteTime": {
     "end_time": "2019-09-30T01:01:49.521637Z",
     "start_time": "2019-09-30T01:01:49.512438Z"
    },
    "slideshow": {
     "slide_type": "slide"
    }
   },
   "outputs": [
    {
     "data": {
      "text/plain": [
       "Open            244\n",
       "Not Provided    152\n",
       "Covered         114\n",
       "No Parking      100\n",
       "Name: Parking, dtype: int64"
      ]
     },
     "execution_count": 58,
     "metadata": {},
     "output_type": "execute_result"
    }
   ],
   "source": [
    "price['Parking'].value_counts()"
   ]
  },
  {
   "cell_type": "code",
   "execution_count": 59,
   "metadata": {
    "slideshow": {
     "slide_type": "slide"
    }
   },
   "outputs": [
    {
     "data": {
      "text/plain": [
       "Counter({'Not Provided': 152, 'Covered': 114, 'Open': 244, 'No Parking': 100})"
      ]
     },
     "execution_count": 59,
     "metadata": {},
     "output_type": "execute_result"
    }
   ],
   "source": [
    "from collections import Counter\n",
    "\n",
    "# Again: struktur data penting. Module Counter memberikan output dictionary yang biasanya lebih useful\n",
    "Counter(price['Parking'])"
   ]
  },
  {
   "cell_type": "markdown",
   "metadata": {
    "slideshow": {
     "slide_type": "slide"
    }
   },
   "source": [
    "# <center><font color=\"blue\"> Apa itu Outliers (pencilan)?</font></center>\n",
    "\n",
    "* Data yang memiliki karakteristik secara signifikan berbeda dengan kebanyakan data lainnya menurut suatu kriteria tertentu yang ditetapkan.\n",
    "* Datanya seringnya valid hanya seolah-olah berasal dari suatu mekanisme berbeda.\n",
    "* Bergantung konteks terkadang Outlier = Anomaly (interchangably), tapi ada beberapa literatur yang membedakan.\n",
    "\n",
    "<img alt=\"\" src=\"images/outlier definition.png\" style=\"height: 350px;\"/>"
   ]
  },
  {
   "cell_type": "markdown",
   "metadata": {
    "slideshow": {
     "slide_type": "slide"
    }
   },
   "source": [
    "<img alt=\"\" src=\"images/anomaly vs outlier.jpg\" style=\"height: 350px;\"/>\n",
    "    \n",
    "* https://www.senseon.io/blog/cyber-threats-evading-signatures-outlier-anomaly-or-both\n",
    "* Secara statistika: jika data diasumsikan berasal dari suatu distribusi outlier adalah data-data yang memiliki probability kecil.\n",
    "* Sedangkan anomaly: seolah-olah datanya berasal dari distribusi yang berbeda.\n",
    "* https://www.slideshare.net/ShantanuDeosthale/outlier-analysis-and-anomaly-detection"
   ]
  },
  {
   "cell_type": "markdown",
   "metadata": {
    "slideshow": {
     "slide_type": "slide"
    }
   },
   "source": [
    "# <center><font color=\"green\"> Diskusi: Contoh Anomali yang bukan outlier & Contoh Outlier yang bukan Anomali?</font></center>"
   ]
  },
  {
   "cell_type": "markdown",
   "metadata": {
    "slideshow": {
     "slide_type": "slide"
    }
   },
   "source": [
    "# <center><font color=\"blue\"> Outliers Sering Terjadi di Big Data</font></center>\n",
    "## <font color=\"green\"> Di dunia nyata data jarang berdistribusi Normal</font>\n",
    "\n",
    "<img alt=\"\" src=\"images/outliers_socMed.jpg\" style=\"height: 350px;\"/>"
   ]
  },
  {
   "cell_type": "markdown",
   "metadata": {
    "slideshow": {
     "slide_type": "slide"
    }
   },
   "source": [
    "# <center><font color=\"blue\"> Outlier(s) effect on model's performace</font></center>\n",
    "## <font color=\"green\">lalu apa yang sebaiknya dilakukan ke outliers?</font>\n",
    "\n",
    "<img alt=\"\" src=\"images/outlier_effect.png\" style=\"height: 300px;\"/>\n",
    "* https://medium.com/analytics-vidhya/effect-of-outliers-on-neural-networks-performance-ca1d9185dce9"
   ]
  },
  {
   "cell_type": "markdown",
   "metadata": {
    "slideshow": {
     "slide_type": "slide"
    }
   },
   "source": [
    "# <center><font color=\"blue\"> Berbagai Macam Algoritma untuk Mendeteksi Anomaly</font></center>\n",
    "\n",
    "### <font color=\"green\"> Kita akan membahas anomaly detection lebih detail di Module yang lain.</font>\n",
    "* Di Module ini hanya dibahas outlier detection untuk satu variable: Melalui Confident Interval dan BoxPlot (interquantile range).\n",
    "<img alt=\"\" src=\"images/anomaly_detection_methods.jpg\" style=\"height: 300px;\"/>\n",
    "* https://www.mdpi.com/2226-4310/6/11/117/htm"
   ]
  },
  {
   "cell_type": "markdown",
   "metadata": {
    "slideshow": {
     "slide_type": "slide"
    }
   },
   "source": [
    "# <center><font color=\"blue\">Asumsi kenormalan, Selang Kepercayaan, & Outlier</font></center>\n",
    "\n",
    "<img alt=\"\" src=\"images/XII_normal_CI.png\" style=\"height: 250px;\" />\n",
    "\n",
    "* Misal Selang Kepercayaan 95% = $\\bar{x}-2\\sigma\\leq X \\leq \\bar{x}+2\\sigma$ diluar selang ini dianggap sebagai outlier.\n",
    "* Misal Selang Kepercayaan 99% = $\\bar{x}-3\\sigma\\leq X \\leq \\bar{x}+3\\sigma$ diluar selang ini dianggap sebagai outlier.\n",
    "* Pakai yang mana di dunia nyata?"
   ]
  },
  {
   "cell_type": "code",
   "execution_count": 60,
   "metadata": {
    "ExecuteTime": {
     "end_time": "2019-09-30T01:01:51.080385Z",
     "start_time": "2019-09-30T01:01:50.489391Z"
    },
    "slideshow": {
     "slide_type": "slide"
    }
   },
   "outputs": [
    {
     "data": {
      "image/png": "[encoded data removed]",
      "text/plain": [
       "<Figure size 432x288 with 1 Axes>"
      ]
     },
     "metadata": {},
     "output_type": "display_data"
    }
   ],
   "source": [
    "# Distributions, kita mulai dengan import module untuk visualisasi\n",
    "import matplotlib.pyplot as plt, seaborn as sns\n",
    "plt.style.use('bmh'); sns.set() #style visualisasi\n",
    "\n",
    "p = sns.distplot(price['House_Price'], kde=True, rug=True)\n",
    "#Dari plot nampak adanya outlier dengan cukup jelas."
   ]
  },
  {
   "cell_type": "code",
   "execution_count": 61,
   "metadata": {
    "ExecuteTime": {
     "end_time": "2019-09-30T01:26:35.471859Z",
     "start_time": "2019-09-30T01:26:35.465294Z"
    },
    "slideshow": {
     "slide_type": "slide"
    }
   },
   "outputs": [
    {
     "name": "stdout",
     "output_type": "stream",
     "text": [
      "(610,) <class 'pandas.core.series.Series'> {False, True}\n"
     ]
    },
    {
     "data": {
      "text/plain": [
       "Counter({True: 609, False: 1})"
      ]
     },
     "execution_count": 61,
     "metadata": {},
     "output_type": "execute_result"
    }
   ],
   "source": [
    "# Misal dengan asumsi data berdistribusi normal & menggunakan 95% confidence interval di sekitar variabel \"harga\"\n",
    "normal_data = abs(price.House_Price - price.House_Price.mean())<=(2*price.House_Price.std()) # mu-2s<x<mu+2s\n",
    "print(normal_data.shape, type(normal_data), set(normal_data))\n",
    "Counter(normal_data)"
   ]
  },
  {
   "cell_type": "code",
   "execution_count": 62,
   "metadata": {
    "scrolled": false,
    "slideshow": {
     "slide_type": "slide"
    }
   },
   "outputs": [
    {
     "name": "stdout",
     "output_type": "stream",
     "text": [
      "(609, 11) (610, 11)\n"
     ]
    }
   ],
   "source": [
    "price2 = price[normal_data] # Data tanpa outlier harga\n",
    "print(price2.shape, price.shape)\n",
    "# Perhatikan disini sengaja data yang telah di remove outliernya \n",
    "# disimpan dalam variabel baru \"Price2\"\n",
    "# Jika datanya besar hati-hati melakukan hal ini"
   ]
  },
  {
   "cell_type": "code",
   "execution_count": 63,
   "metadata": {
    "ExecuteTime": {
     "end_time": "2019-09-30T01:01:51.627698Z",
     "start_time": "2019-09-30T01:01:51.143217Z"
    },
    "slideshow": {
     "slide_type": "slide"
    }
   },
   "outputs": [
    {
     "data": {
      "image/png": "[encoded data removed]",
      "text/plain": [
       "<Figure size 432x288 with 1 Axes>"
      ]
     },
     "metadata": {},
     "output_type": "display_data"
    }
   ],
   "source": [
    "# Distributions\n",
    "p = sns.distplot(price2['House_Price'], kde=True, rug=True)"
   ]
  },
  {
   "cell_type": "markdown",
   "metadata": {
    "slideshow": {
     "slide_type": "slide"
    }
   },
   "source": [
    "# <center><font color=\"blue\">Boxplot & Outlier</font></center>\n",
    "\n",
    "<img alt=\"\" src=\"images/outlier_boxplot.png\" style=\"height: 250px;\" />\n",
    "\n",
    "* Tidak ada asumsi distribusi (normal)\n",
    "* Lower Extreme kurang dari: $Q_1 - 1.5(Q_3-Q_1)$  Upper Extreme lebih dari: $Q_3 + 1.5(Q_3-Q_1)$"
   ]
  },
  {
   "cell_type": "code",
   "execution_count": 64,
   "metadata": {
    "slideshow": {
     "slide_type": "slide"
    }
   },
   "outputs": [
    {
     "data": {
      "image/png": "[encoded data removed]",
      "text/plain": [
       "<Figure size 432x288 with 1 Axes>"
      ]
     },
     "metadata": {},
     "output_type": "display_data"
    }
   ],
   "source": [
    "# Jika ada outlier grafiknya menjadi tidak jelas (data = price, bukan price2)\n",
    "# Insight yang di dapat akan salah atau bahkan tidak mendapat insight sama sekali\n",
    "p = sns.boxplot(x=\"House_Price\", data=price)"
   ]
  },
  {
   "cell_type": "code",
   "execution_count": 65,
   "metadata": {
    "scrolled": true,
    "slideshow": {
     "slide_type": "slide"
    }
   },
   "outputs": [
    {
     "name": "stdout",
     "output_type": "stream",
     "text": [
      "Q1=4157750.0, Q3=5838750.0, IQR=1681000.0\n",
      "(573, 11)\n"
     ]
    },
    {
     "data": {
      "text/html": [
       "<div>\n",
       "<style scoped>\n",
       "    .dataframe tbody tr th:only-of-type {\n",
       "        vertical-align: middle;\n",
       "    }\n",
       "\n",
       "    .dataframe tbody tr th {\n",
       "        vertical-align: top;\n",
       "    }\n",
       "\n",
       "    .dataframe thead th {\n",
       "        text-align: right;\n",
       "    }\n",
       "</style>\n",
       "<table border=\"1\" class=\"dataframe\">\n",
       "  <thead>\n",
       "    <tr style=\"text-align: right;\">\n",
       "      <th></th>\n",
       "      <th>Dist_Taxi</th>\n",
       "      <th>Dist_Market</th>\n",
       "      <th>Dist_Hospital</th>\n",
       "      <th>Carpet</th>\n",
       "      <th>Builtup</th>\n",
       "      <th>Parking</th>\n",
       "      <th>City_Category</th>\n",
       "      <th>Rainfall</th>\n",
       "      <th>House_Price</th>\n",
       "      <th>total_jarak</th>\n",
       "      <th>harga_jual</th>\n",
       "    </tr>\n",
       "  </thead>\n",
       "  <tbody>\n",
       "    <tr>\n",
       "      <th>1</th>\n",
       "      <td>8294.0</td>\n",
       "      <td>8186.0</td>\n",
       "      <td>12694.0</td>\n",
       "      <td>1461.0</td>\n",
       "      <td>1752.0</td>\n",
       "      <td>Not Provided</td>\n",
       "      <td>CAT B</td>\n",
       "      <td>210</td>\n",
       "      <td>3982000</td>\n",
       "      <td>29174.0</td>\n",
       "      <td>4232000</td>\n",
       "    </tr>\n",
       "    <tr>\n",
       "      <th>3</th>\n",
       "      <td>8301.0</td>\n",
       "      <td>11188.0</td>\n",
       "      <td>12289.0</td>\n",
       "      <td>1451.0</td>\n",
       "      <td>1748.0</td>\n",
       "      <td>Covered</td>\n",
       "      <td>CAT B</td>\n",
       "      <td>620</td>\n",
       "      <td>5373000</td>\n",
       "      <td>31778.0</td>\n",
       "      <td>5623000</td>\n",
       "    </tr>\n",
       "    <tr>\n",
       "      <th>4</th>\n",
       "      <td>10510.0</td>\n",
       "      <td>12629.0</td>\n",
       "      <td>13921.0</td>\n",
       "      <td>1770.0</td>\n",
       "      <td>2111.0</td>\n",
       "      <td>Not Provided</td>\n",
       "      <td>CAT B</td>\n",
       "      <td>450</td>\n",
       "      <td>4662000</td>\n",
       "      <td>37060.0</td>\n",
       "      <td>4912000</td>\n",
       "    </tr>\n",
       "    <tr>\n",
       "      <th>5</th>\n",
       "      <td>6665.0</td>\n",
       "      <td>5142.0</td>\n",
       "      <td>9972.0</td>\n",
       "      <td>1442.0</td>\n",
       "      <td>1733.0</td>\n",
       "      <td>Open</td>\n",
       "      <td>CAT B</td>\n",
       "      <td>760</td>\n",
       "      <td>4526000</td>\n",
       "      <td>21779.0</td>\n",
       "      <td>4776000</td>\n",
       "    </tr>\n",
       "    <tr>\n",
       "      <th>7</th>\n",
       "      <td>5882.0</td>\n",
       "      <td>9948.0</td>\n",
       "      <td>13315.0</td>\n",
       "      <td>1261.0</td>\n",
       "      <td>1507.0</td>\n",
       "      <td>Open</td>\n",
       "      <td>CAT C</td>\n",
       "      <td>1020</td>\n",
       "      <td>3772000</td>\n",
       "      <td>29145.0</td>\n",
       "      <td>4022000</td>\n",
       "    </tr>\n",
       "  </tbody>\n",
       "</table>\n",
       "</div>"
      ],
      "text/plain": [
       "   Dist_Taxi  Dist_Market  Dist_Hospital  Carpet  Builtup       Parking  \\\n",
       "1     8294.0       8186.0        12694.0  1461.0   1752.0  Not Provided   \n",
       "3     8301.0      11188.0        12289.0  1451.0   1748.0       Covered   \n",
       "4    10510.0      12629.0        13921.0  1770.0   2111.0  Not Provided   \n",
       "5     6665.0       5142.0         9972.0  1442.0   1733.0          Open   \n",
       "7     5882.0       9948.0        13315.0  1261.0   1507.0          Open   \n",
       "\n",
       "  City_Category  Rainfall  House_Price  total_jarak  harga_jual  \n",
       "1         CAT B       210      3982000      29174.0     4232000  \n",
       "3         CAT B       620      5373000      31778.0     5623000  \n",
       "4         CAT B       450      4662000      37060.0     4912000  \n",
       "5         CAT B       760      4526000      21779.0     4776000  \n",
       "7         CAT C      1020      3772000      29145.0     4022000  "
      ]
     },
     "execution_count": 65,
     "metadata": {},
     "output_type": "execute_result"
    }
   ],
   "source": [
    "Q1 = price['House_Price'].quantile(0.25)\n",
    "Q2 = price['House_Price'].quantile(0.50)\n",
    "Q3 = price['House_Price'].quantile(0.75)\n",
    "IQR = Q3 - Q1 #IQR is interquartile range. \n",
    "print(\"Q1={}, Q3={}, IQR={}\".format(Q1, Q3, IQR))\n",
    "\n",
    "#outliers_bawah = (price['House_Price'] < (Q1 - 1.5 *IQR)) # Outlier bawah\n",
    "#outliers_atas = (price['House_Price'] > (Q3 + 1.5 *IQR)) # Outlier atas\n",
    "#rumah_murah = price.loc[outliers_bawah]\n",
    "#rumah_kemahalan = price.loc[outliers_atas]\n",
    "\n",
    "no_outlier = (price['House_Price'] >= Q1 - 1.5 * IQR) & (price['House_Price'] <= Q3 + 1.5 *IQR)\n",
    "price3 = price[no_outlier]\n",
    "print(price3.shape)\n",
    "price3.head()"
   ]
  },
  {
   "cell_type": "markdown",
   "metadata": {
    "slideshow": {
     "slide_type": "slide"
    }
   },
   "source": [
    "# <center><font color=\"green\"> Diskusi: Bilamana menggunakan CI dan bilamana menggunakan BoxPlot?</font></center>"
   ]
  },
  {
   "cell_type": "markdown",
   "metadata": {
    "slideshow": {
     "slide_type": "slide"
    }
   },
   "source": [
    "# Noisy Data\n",
    "\n",
    "* Noise dapat terjadi karena:\n",
    "  - Kesalahan instrumen pengukuran: Misal di alat IoT pada saat cuaca buruk/baterai yang lemah.\n",
    "  - Kesalahan input/entry\n",
    "  - Transmisi yang tidak sempurna\n",
    "  - inkonsistensi penamaan\n",
    "\n"
   ]
  },
  {
   "cell_type": "markdown",
   "metadata": {
    "slideshow": {
     "slide_type": "slide"
    }
   },
   "source": [
    "# Outliers\n",
    "\n",
    "* Data yang memiliki karakteristik secara signifikan berbeda dengan kebanyakan data lainnya menurut suatu kriteria tertentu yang ditetapkan.\n",
    "  - Datanya valid (bukan Noise)\n",
    "  - di Big Data sangat umum terjadi.\n",
    "* Apa yang sebaiknya dilakukan ke outliers?\n",
    "\n",
    "<img alt=\"\" src=\"images/outliers_socMed.jpg\"/>"
   ]
  },
  {
   "cell_type": "markdown",
   "metadata": {
    "slideshow": {
     "slide_type": "slide"
    }
   },
   "source": [
    "### Univariate Outliers\n",
    "* Quartiles (Boxplot)\n",
    "* Asumsi Normal\n",
    "* Asumsi distribusi lain\n",
    "\n",
    "### Multivariate Outliers\n",
    "* Clustering (DBSCAN)\n",
    "* Isolation Forest\n",
    "\n",
    "<p><strong>Perbandingan beberapa metode pendeteksian outliers (multivariate):</strong></p>\n",
    "\n",
    "<ol>\n",
    "\t<li>&nbsp;<a href=\"http://scikit-learn.org/stable/auto_examples/applications/plot_outlier_detection_housing.html#sphx-glr-auto-examples-applications-plot-outlier-detection-housing-py&amp;nbsp\" target=\"_blank\">http://scikit-learn.org/stable/auto_examples/applications/plot_outlier_detection_housing.html#sphx-glr-auto-examples-applications-plot-outlier-detection-housing-py&amp;nbsp</a>;</li>\n",
    "\t<li><a href=\"http://scikit-learn.org/stable/auto_examples/covariance/plot_outlier_detection.html#sphx-glr-auto-examples-covariance-plot-outlier-detection-py\" target=\"_blank\">http://scikit-learn.org/stable/auto_examples/covariance/plot_outlier_detection.html#sphx-glr-auto-examples-covariance-plot-outlier-detection-py</a></li>\n",
    "\t<li><a href=\"http://scikit-learn.org/stable/auto_examples/neighbors/plot_lof.html#sphx-glr-auto-examples-neighbors-plot-lof-py\" target=\"_blank\">http://scikit-learn.org/stable/auto_examples/neighbors/plot_lof.html#sphx-glr-auto-examples-neighbors-plot-lof-py</a></li>\n",
    "\t<li><a href=\"http://scikit-learn.org/stable/auto_examples/preprocessing/plot_all_scaling.html#sphx-glr-auto-examples-preprocessing-plot-all-scaling-py\" target=\"_blank\">http://scikit-learn.org/stable/auto_examples/preprocessing/plot_all_scaling.html#sphx-glr-auto-examples-preprocessing-plot-all-scaling-py</a></li>\n",
    "\t<li>https://blog.dominodatalab.com/topology-and-density-based-clustering/</li>\n",
    "</ol>\n"
   ]
  },
  {
   "cell_type": "markdown",
   "metadata": {
    "slideshow": {
     "slide_type": "slide"
    }
   },
   "source": [
    "## Apakah ada kecenderungan perbedaan harga rumah akibat dari tipe tempat parkir?"
   ]
  },
  {
   "cell_type": "code",
   "execution_count": 3,
   "metadata": {},
   "outputs": [
    {
     "name": "stdout",
     "output_type": "stream",
     "text": [
      "baris =  936 , Kolom (jumlah variabel) =  10\n",
      "Tipe Variabe df =  <class 'pandas.core.frame.DataFrame'>\n"
     ]
    },
    {
     "data": {
      "text/html": [
       "<div>\n",
       "<style scoped>\n",
       "    .dataframe tbody tr th:only-of-type {\n",
       "        vertical-align: middle;\n",
       "    }\n",
       "\n",
       "    .dataframe tbody tr th {\n",
       "        vertical-align: top;\n",
       "    }\n",
       "\n",
       "    .dataframe thead th {\n",
       "        text-align: right;\n",
       "    }\n",
       "</style>\n",
       "<table border=\"1\" class=\"dataframe\">\n",
       "  <thead>\n",
       "    <tr style=\"text-align: right;\">\n",
       "      <th></th>\n",
       "      <th>Observation</th>\n",
       "      <th>Dist_Taxi</th>\n",
       "      <th>Dist_Market</th>\n",
       "      <th>Dist_Hospital</th>\n",
       "      <th>Carpet</th>\n",
       "      <th>Builtup</th>\n",
       "      <th>Parking</th>\n",
       "      <th>City_Category</th>\n",
       "      <th>Rainfall</th>\n",
       "      <th>House_Price</th>\n",
       "    </tr>\n",
       "  </thead>\n",
       "  <tbody>\n",
       "    <tr>\n",
       "      <th>0</th>\n",
       "      <td>1</td>\n",
       "      <td>9796.0</td>\n",
       "      <td>5250.0</td>\n",
       "      <td>10703.0</td>\n",
       "      <td>1659.0</td>\n",
       "      <td>1961.0</td>\n",
       "      <td>Open</td>\n",
       "      <td>CAT B</td>\n",
       "      <td>530</td>\n",
       "      <td>6649000</td>\n",
       "    </tr>\n",
       "    <tr>\n",
       "      <th>1</th>\n",
       "      <td>2</td>\n",
       "      <td>8294.0</td>\n",
       "      <td>8186.0</td>\n",
       "      <td>12694.0</td>\n",
       "      <td>1461.0</td>\n",
       "      <td>1752.0</td>\n",
       "      <td>Not Provided</td>\n",
       "      <td>CAT B</td>\n",
       "      <td>210</td>\n",
       "      <td>3982000</td>\n",
       "    </tr>\n",
       "    <tr>\n",
       "      <th>2</th>\n",
       "      <td>3</td>\n",
       "      <td>11001.0</td>\n",
       "      <td>14399.0</td>\n",
       "      <td>16991.0</td>\n",
       "      <td>1340.0</td>\n",
       "      <td>1609.0</td>\n",
       "      <td>Not Provided</td>\n",
       "      <td>CAT A</td>\n",
       "      <td>720</td>\n",
       "      <td>5401000</td>\n",
       "    </tr>\n",
       "    <tr>\n",
       "      <th>3</th>\n",
       "      <td>4</td>\n",
       "      <td>8301.0</td>\n",
       "      <td>11188.0</td>\n",
       "      <td>12289.0</td>\n",
       "      <td>1451.0</td>\n",
       "      <td>1748.0</td>\n",
       "      <td>Covered</td>\n",
       "      <td>CAT B</td>\n",
       "      <td>620</td>\n",
       "      <td>5373000</td>\n",
       "    </tr>\n",
       "    <tr>\n",
       "      <th>4</th>\n",
       "      <td>5</td>\n",
       "      <td>10510.0</td>\n",
       "      <td>12629.0</td>\n",
       "      <td>13921.0</td>\n",
       "      <td>1770.0</td>\n",
       "      <td>2111.0</td>\n",
       "      <td>Not Provided</td>\n",
       "      <td>CAT B</td>\n",
       "      <td>450</td>\n",
       "      <td>4662000</td>\n",
       "    </tr>\n",
       "    <tr>\n",
       "      <th>...</th>\n",
       "      <td>...</td>\n",
       "      <td>...</td>\n",
       "      <td>...</td>\n",
       "      <td>...</td>\n",
       "      <td>...</td>\n",
       "      <td>...</td>\n",
       "      <td>...</td>\n",
       "      <td>...</td>\n",
       "      <td>...</td>\n",
       "      <td>...</td>\n",
       "    </tr>\n",
       "    <tr>\n",
       "      <th>931</th>\n",
       "      <td>932</td>\n",
       "      <td>9297.0</td>\n",
       "      <td>12537.0</td>\n",
       "      <td>14418.0</td>\n",
       "      <td>1174.0</td>\n",
       "      <td>1429.0</td>\n",
       "      <td>Covered</td>\n",
       "      <td>CAT C</td>\n",
       "      <td>1110</td>\n",
       "      <td>5434000</td>\n",
       "    </tr>\n",
       "    <tr>\n",
       "      <th>932</th>\n",
       "      <td>933</td>\n",
       "      <td>10915.0</td>\n",
       "      <td>17486.0</td>\n",
       "      <td>15964.0</td>\n",
       "      <td>1549.0</td>\n",
       "      <td>1851.0</td>\n",
       "      <td>Not Provided</td>\n",
       "      <td>CAT C</td>\n",
       "      <td>1220</td>\n",
       "      <td>7062000</td>\n",
       "    </tr>\n",
       "    <tr>\n",
       "      <th>933</th>\n",
       "      <td>934</td>\n",
       "      <td>9205.0</td>\n",
       "      <td>10418.0</td>\n",
       "      <td>14496.0</td>\n",
       "      <td>1118.0</td>\n",
       "      <td>1337.0</td>\n",
       "      <td>Open</td>\n",
       "      <td>CAT A</td>\n",
       "      <td>560</td>\n",
       "      <td>7227000</td>\n",
       "    </tr>\n",
       "    <tr>\n",
       "      <th>934</th>\n",
       "      <td>935</td>\n",
       "      <td>10915.0</td>\n",
       "      <td>17486.0</td>\n",
       "      <td>15964.0</td>\n",
       "      <td>1549.0</td>\n",
       "      <td>1851.0</td>\n",
       "      <td>Not Provided</td>\n",
       "      <td>CAT C</td>\n",
       "      <td>1220</td>\n",
       "      <td>7062000</td>\n",
       "    </tr>\n",
       "    <tr>\n",
       "      <th>935</th>\n",
       "      <td>936</td>\n",
       "      <td>10915.0</td>\n",
       "      <td>17486.0</td>\n",
       "      <td>15964.0</td>\n",
       "      <td>1549.0</td>\n",
       "      <td>1851.0</td>\n",
       "      <td>Not Provided</td>\n",
       "      <td>CAT C</td>\n",
       "      <td>1220</td>\n",
       "      <td>7062000</td>\n",
       "    </tr>\n",
       "  </tbody>\n",
       "</table>\n",
       "<p>936 rows × 10 columns</p>\n",
       "</div>"
      ],
      "text/plain": [
       "     Observation  Dist_Taxi  Dist_Market  Dist_Hospital  Carpet  Builtup  \\\n",
       "0              1     9796.0       5250.0        10703.0  1659.0   1961.0   \n",
       "1              2     8294.0       8186.0        12694.0  1461.0   1752.0   \n",
       "2              3    11001.0      14399.0        16991.0  1340.0   1609.0   \n",
       "3              4     8301.0      11188.0        12289.0  1451.0   1748.0   \n",
       "4              5    10510.0      12629.0        13921.0  1770.0   2111.0   \n",
       "..           ...        ...          ...            ...     ...      ...   \n",
       "931          932     9297.0      12537.0        14418.0  1174.0   1429.0   \n",
       "932          933    10915.0      17486.0        15964.0  1549.0   1851.0   \n",
       "933          934     9205.0      10418.0        14496.0  1118.0   1337.0   \n",
       "934          935    10915.0      17486.0        15964.0  1549.0   1851.0   \n",
       "935          936    10915.0      17486.0        15964.0  1549.0   1851.0   \n",
       "\n",
       "          Parking City_Category  Rainfall  House_Price  \n",
       "0            Open         CAT B       530      6649000  \n",
       "1    Not Provided         CAT B       210      3982000  \n",
       "2    Not Provided         CAT A       720      5401000  \n",
       "3         Covered         CAT B       620      5373000  \n",
       "4    Not Provided         CAT B       450      4662000  \n",
       "..            ...           ...       ...          ...  \n",
       "931       Covered         CAT C      1110      5434000  \n",
       "932  Not Provided         CAT C      1220      7062000  \n",
       "933          Open         CAT A       560      7227000  \n",
       "934  Not Provided         CAT C      1220      7062000  \n",
       "935  Not Provided         CAT C      1220      7062000  \n",
       "\n",
       "[936 rows x 10 columns]"
      ]
     },
     "execution_count": 3,
     "metadata": {},
     "output_type": "execute_result"
    }
   ],
   "source": [
    "file_ = 'data/price.csv'\n",
    "try: # Running Locally, yakinkan \"file_\" berada di folder \"data\"\n",
    "    price = pd.read_csv(file_, error_bad_lines=False, low_memory = False, encoding='utf8')\n",
    "except: # Running in Google Colab\n",
    "    !mkdir data\n",
    "    !wget -P data/ https://raw.githubusercontent.com/taudata-indonesia/eLearning/master/data/price.csv\n",
    "    price = pd.read_csv(file_, error_bad_lines=False, low_memory = False, encoding='utf8')\n",
    "    \n",
    "N, P = price.shape # Ukuran Data\n",
    "print('baris = ', N, ', Kolom (jumlah variabel) = ', P)\n",
    "print(\"Tipe Variabe df = \", type(price))\n",
    "price"
   ]
  },
  {
   "cell_type": "code",
   "execution_count": null,
   "metadata": {
    "ExecuteTime": {
     "end_time": "2019-09-30T01:01:50.484583Z",
     "start_time": "2019-09-30T01:01:50.098828Z"
    },
    "slideshow": {
     "slide_type": "fragment"
    }
   },
   "outputs": [],
   "source": [
    "p= sns.catplot(x=\"Parking\", y=\"House_Price\", data=price)\n",
    "# Apa yang bisa dilihat dari hasil ini?"
   ]
  },
  {
   "cell_type": "markdown",
   "metadata": {
    "slideshow": {
     "slide_type": "slide"
    }
   },
   "source": [
    "# Outlier atau noise? How to decide?\n",
    "\n",
    "## Univariate Outlier removal\n",
    "\n",
    "### Perlu asumsi \"distribusi\" dari datanya\n",
    "\n",
    "# Normality Assumption\n",
    "\n",
    "<p><img alt=\"\" src=\"images/XII_normal_CI.png\" style=\"width: 800px; height: 374px;\" /></p>"
   ]
  },
  {
   "cell_type": "code",
   "execution_count": null,
   "metadata": {
    "ExecuteTime": {
     "end_time": "2019-09-30T01:01:51.080385Z",
     "start_time": "2019-09-30T01:01:50.489391Z"
    },
    "slideshow": {
     "slide_type": "slide"
    }
   },
   "outputs": [],
   "source": [
    "# Distributions\n",
    "p = sns.distplot(price['House_Price'], kde=True, rug=True)"
   ]
  },
  {
   "cell_type": "code",
   "execution_count": null,
   "metadata": {
    "ExecuteTime": {
     "end_time": "2019-09-30T01:26:35.471859Z",
     "start_time": "2019-09-30T01:26:35.465294Z"
    },
    "slideshow": {
     "slide_type": "slide"
    }
   },
   "outputs": [],
   "source": [
    "# Misal dengan asumsi data berdistribusi normal\n",
    "# dan menggunakan 95% confidence interval di sekitar variabel \"harga\"\n",
    "\n",
    "df = np.abs(price.House_Price - price.House_Price.mean())<=(2*price.House_Price.std())\n",
    "# mu-2s<x<mu+2s\n",
    "print(df.shape)\n",
    "df.head()"
   ]
  },
  {
   "cell_type": "code",
   "execution_count": null,
   "metadata": {
    "scrolled": false,
    "slideshow": {
     "slide_type": "slide"
    }
   },
   "outputs": [],
   "source": [
    "price2 = price[df] # Data tanpa outliers\n",
    "print(price2.shape, price.shape)\n",
    "# Perhatikan disini sengaja data yang telah di remove outliernya \n",
    "# disimpan dalam variabel baru \"Price2\"\n",
    "# Jika datanya besar hati-hati melakukan hal ini"
   ]
  },
  {
   "cell_type": "code",
   "execution_count": null,
   "metadata": {
    "ExecuteTime": {
     "end_time": "2019-09-30T01:01:51.627698Z",
     "start_time": "2019-09-30T01:01:51.143217Z"
    },
    "slideshow": {
     "slide_type": "slide"
    }
   },
   "outputs": [],
   "source": [
    "# Distributions\n",
    "p = sns.distplot(price2['House_Price'], kde=True, rug=True)"
   ]
  },
  {
   "cell_type": "code",
   "execution_count": null,
   "metadata": {
    "slideshow": {
     "slide_type": "slide"
    }
   },
   "outputs": [],
   "source": [
    "p= sns.catplot(x=\"Parking\", y=\"House_Price\", data=price2)\n",
    "# Apa yang bisa dilihat dari hasil ini?"
   ]
  },
  {
   "cell_type": "markdown",
   "metadata": {
    "slideshow": {
     "slide_type": "slide"
    }
   },
   "source": [
    "# <center><font color=\"blue\">Missing Values</font></center>\n",
    "    \n",
    "Salah satu proses dalam data preprocessing adalah mengidentifikasi dan menangani *missing value*, apa itu *missing value*? *Missing value* adalah istilah untuk data yang hilang\n",
    "\n",
    "<img alt=\"\" src=\"images/dt_excel.png\" style=\"height: 200px;\" />\n",
    "\n",
    "## <font color=\"green\">Penyebab Missing Value</font>\n",
    "*   Error pada *data entry*, baik itu *human error*, kesalahan pada sistem, atau hardware/software fault.\n",
    "*   Pada data survey/kuesioner, bisa disebabkan oleh responden yang lupa mengisi pertanyaan, pertanyaan yang sulit dimengerti, ataupun pertanyaan enggan diisi karena merupakan pertanyaan yang sensitif\n",
    "* permasalahan yang dihadapi pada data di dunia nyata adalah, terkadang penandaan untuk mengatakan bahwa data tersebut *missing* sangat beragam, bisa ditulis ‘?’ (tanda tanya), bisa ditulis ‘-‘ (strip), bisa suatu bilangan yang sangat besar atau sangat kecil (misal 99 atau -999), di kosongkan, NaN, dsb.\n",
    "### <font color=\"green\">Langkah pertama penanganan MV adalah dengan melakukan EDA, terutama mengetahui berapa banyak proporsi data yang Missing.</font>"
   ]
  },
  {
   "cell_type": "markdown",
   "metadata": {
    "slideshow": {
     "slide_type": "slide"
    }
   },
   "source": [
    "# <center><font color=\"blue\"> Tipe Missing Value</font></center>\n",
    "<font color=\"green\">Langkah kedua penanganan MV adalah meneliti bagaimana MV terdistribusi (tipe MV).</font>\n",
    "<img alt=\"\" src=\"images/Missing value analysis mva.jpeg\" style=\"height: 200px;\" />\n",
    "\n",
    "* **MCAR**: Data hilang secara acak, dan tidak berkaitan dengan variabel/mekanisme apapun.\n",
    "    - **Contoh**: Beberapa peserta workshop tidak hadir karena alasan masing-masing dan mereka tidak saling berkomunikasi.\n",
    "\n",
    "* **MAR**: Terdapat hubungan sistematis antara kecenderungan data yang missing dan yang tidak missing, \"tapi tidak dengan (harapan nilai) missing value itu sendiri\". \n",
    "    - **Contoh**: Karena akhir tahun & banyak deadline, sehingga banyak karyawan yang memilih mengerjakan laporan ketimbang ikut workshop.\n",
    "\n",
    "* **MNAR**: Terdapat hubungan sistematis antara kecenderungan data yang missing dan yang tidak missing, dan juga dengan (harapan nilai) missing value itu sendiri.\n",
    "    - **Contoh**: Siswa yang memiliki orang tua dengan penghasilan dibawah rata-rata akan lebih sungkan mengisi form yang menanyakan penghasilan orang tua. Apalagi kalau jawabannya harus berupa angka eksak (bukan pilihan berupa interval). Pada siatuasi ini tidak hanya data berpotensi missing, tapi juga berpotensi untuk menurunkan kualitas data (siswa berbohong).\n",
    "* **Statistic Test**: Terdapat uji statistik untuk MNAR, namun bahasan ini diluar scope workshop (pendahuluan). Namun MNAR juga dapat diketahui dari domain/business knowledge. https://towardsdatascience.com/statistical-test-for-mcar-in-python-9fb617a76eac\n",
    "    \n",
    "### <font color=\"green\">Langkah ketiga adalah menangani MV.</font>"
   ]
  },
  {
   "cell_type": "markdown",
   "metadata": {
    "slideshow": {
     "slide_type": "slide"
    }
   },
   "source": [
    "# <center><font color=\"blue\"> Missing Values Treatment 01: Deletion</font></center>\n",
    "\n",
    "* Jika data yang missing sedikit \"dan\" tidak terlalu berharga, biasanya relatif aman untuk tidak mengikutsertakan data tersebut dalam proses pengolahan data selanjutnya.\n",
    "* Jika suatu variabel memiliki terlalu banyak missing value, secara umum juga aman untuk tidak mengikutsertakan data tersebut dalam proses pengolahan data selanjutnya.\n",
    "* Terdapat beberapa cara dalam menghapus data:\n",
    "    - **Listwise Deletion**: menghapus baris/record yang mempunyai satu atau lebih *missing* di suatu variabelnya.\n",
    "\n",
    "<img alt=\"\" src=\"images/mv_all.png\" style=\"height: 150px;\"/>\n",
    "\n",
    "    - **Pairwise Deletion**: menghapus *missing value* dengan memperhatikan variabel-variabel yang ingin digunakan. misal kita ingin mencari korelasi antara **variabel A** dan **variabel B**, maka kita hanya perlu menghapus baris yang bersesuaian tersebut.\n",
    "\n",
    "<img alt=\"\" src=\"images/mv_part.png\" style=\"height: 150px;\"/>"
   ]
  },
  {
   "cell_type": "markdown",
   "metadata": {
    "slideshow": {
     "slide_type": "slide"
    }
   },
   "source": [
    "# <center><font color=\"blue\"> Missing Values Treatment 02: Mengabaikan missing value</font></center>\n",
    "\n",
    "* Beberapa algoritma machine learning atau metode analisis lainnya memiliki kemampuan internal model/algoritma untuk  menangani missing value, contohnya adalah decision tree, k-Nearest Neighbors (k-NN), Neural network yang dapat mengimputasi sendiri missing value pada data.\n",
    "\n",
    "* Ataupun jika ada beberapa kolom yang tidak memberikan informasi apa apa, kita dapat membiarkan missing value ada di kolom tersebut karena kolom tersebut pun tidak memberikan informasi yang signifikan, contohnya adalah nomor tiket pada data penerbangan, kita tidak perlu sulit-sulit memikirkan bagaimana cara mengimputasi kolom tersebut. Cukup drop kolom tersebut."
   ]
  },
  {
   "cell_type": "markdown",
   "metadata": {
    "slideshow": {
     "slide_type": "slide"
    }
   },
   "source": [
    "# <center><font color=\"blue\"> Missing Values Treatment 03: Imputasi</font></center>\n",
    "\n",
    "<img alt=\"\" src=\"images/mv_flowchart.png\" style=\"height: 400px;\" />\n",
    "* Selain yang ada di gambar masih banyak teknik lain, termasuk menggunakan model/algoritma untuk melakukan prediksi pada kolom yang tidak memiliki nilai (missing).\n",
    "    \n",
    "Sumber gambar : https://towardsdatascience.com/how-to-handle-missing-data-8646b18db0d4    "
   ]
  },
  {
   "cell_type": "markdown",
   "metadata": {
    "slideshow": {
     "slide_type": "slide"
    }
   },
   "source": [
    "# <center><font color=\"blue\"> Pandas & Missing Value Treatments</font></center>\n",
    "\n",
    "* MVA sangat dalam, pada module ini hanya akan dibahas teknik sederhana.\n",
    "* tidak ada metode yang terbaik dalam menghandle missing value, biasanya \"case-by-case\".\n",
    "* Di Module ini kita akan menggunakan beberapa fungsi di Pandas untuk menangani missing values.\n",
    "* https://pandas.pydata.org/pandas-docs/stable/user_guide/missing_data.html\n",
    "* Nilai-nilai berikut dianggap missing oleh Pandas. Apa konsekuensinya?\n",
    "    \n",
    "<img alt=\"\" src=\"images/pd_nulls.png\" style=\"height: 150px;\"/>"
   ]
  },
  {
   "cell_type": "code",
   "execution_count": 70,
   "metadata": {
    "ExecuteTime": {
     "end_time": "2019-09-30T01:47:26.285880Z",
     "start_time": "2019-09-30T01:47:26.278337Z"
    },
    "slideshow": {
     "slide_type": "fragment"
    }
   },
   "outputs": [
    {
     "name": "stdout",
     "output_type": "stream",
     "text": [
      "Dist_Taxi         7\n",
      "Dist_Market       7\n",
      "Dist_Hospital     1\n",
      "Carpet            6\n",
      "Builtup          11\n",
      "Parking           0\n",
      "City_Category     0\n",
      "Rainfall          0\n",
      "House_Price       0\n",
      "total_jarak       7\n",
      "harga_jual        0\n",
      "dtype: int64\n"
     ]
    }
   ],
   "source": [
    "# General Look at the Missing Values\n",
    "print(price2.isnull().sum())"
   ]
  },
  {
   "cell_type": "code",
   "execution_count": 71,
   "metadata": {
    "slideshow": {
     "slide_type": "slide"
    }
   },
   "outputs": [
    {
     "data": {
      "text/html": [
       "<div>\n",
       "<style scoped>\n",
       "    .dataframe tbody tr th:only-of-type {\n",
       "        vertical-align: middle;\n",
       "    }\n",
       "\n",
       "    .dataframe tbody tr th {\n",
       "        vertical-align: top;\n",
       "    }\n",
       "\n",
       "    .dataframe thead th {\n",
       "        text-align: right;\n",
       "    }\n",
       "</style>\n",
       "<table border=\"1\" class=\"dataframe\">\n",
       "  <thead>\n",
       "    <tr style=\"text-align: right;\">\n",
       "      <th></th>\n",
       "      <th>persentase missing</th>\n",
       "    </tr>\n",
       "  </thead>\n",
       "  <tbody>\n",
       "    <tr>\n",
       "      <th>Dist_Taxi</th>\n",
       "      <td>1.149425</td>\n",
       "    </tr>\n",
       "    <tr>\n",
       "      <th>Dist_Market</th>\n",
       "      <td>1.149425</td>\n",
       "    </tr>\n",
       "    <tr>\n",
       "      <th>Dist_Hospital</th>\n",
       "      <td>0.164204</td>\n",
       "    </tr>\n",
       "    <tr>\n",
       "      <th>Carpet</th>\n",
       "      <td>0.985222</td>\n",
       "    </tr>\n",
       "    <tr>\n",
       "      <th>Builtup</th>\n",
       "      <td>1.806240</td>\n",
       "    </tr>\n",
       "    <tr>\n",
       "      <th>Parking</th>\n",
       "      <td>0.000000</td>\n",
       "    </tr>\n",
       "    <tr>\n",
       "      <th>City_Category</th>\n",
       "      <td>0.000000</td>\n",
       "    </tr>\n",
       "    <tr>\n",
       "      <th>Rainfall</th>\n",
       "      <td>0.000000</td>\n",
       "    </tr>\n",
       "    <tr>\n",
       "      <th>House_Price</th>\n",
       "      <td>0.000000</td>\n",
       "    </tr>\n",
       "    <tr>\n",
       "      <th>total_jarak</th>\n",
       "      <td>1.149425</td>\n",
       "    </tr>\n",
       "    <tr>\n",
       "      <th>harga_jual</th>\n",
       "      <td>0.000000</td>\n",
       "    </tr>\n",
       "  </tbody>\n",
       "</table>\n",
       "</div>"
      ],
      "text/plain": [
       "               persentase missing\n",
       "Dist_Taxi                1.149425\n",
       "Dist_Market              1.149425\n",
       "Dist_Hospital            0.164204\n",
       "Carpet                   0.985222\n",
       "Builtup                  1.806240\n",
       "Parking                  0.000000\n",
       "City_Category            0.000000\n",
       "Rainfall                 0.000000\n",
       "House_Price              0.000000\n",
       "total_jarak              1.149425\n",
       "harga_jual               0.000000"
      ]
     },
     "execution_count": 71,
     "metadata": {},
     "output_type": "execute_result"
    }
   ],
   "source": [
    "(price2.isnull().sum()/len(price2)*100).to_frame('persentase missing')"
   ]
  },
  {
   "cell_type": "markdown",
   "metadata": {
    "slideshow": {
     "slide_type": "slide"
    }
   },
   "source": [
    "# <center><font color=\"blue\"> Gambaran yang Lebih baik tentang MV <br>(terutama di Big Data)</font></center>"
   ]
  },
  {
   "cell_type": "code",
   "execution_count": 72,
   "metadata": {
    "slideshow": {
     "slide_type": "fragment"
    }
   },
   "outputs": [
    {
     "data": {
      "image/png": "[encoded data removed]",
      "text/plain": [
       "<Figure size 432x288 with 1 Axes>"
      ]
     },
     "metadata": {},
     "output_type": "display_data"
    }
   ],
   "source": [
    "sns.heatmap(price2.isnull(), cbar=False)\n",
    "plt.title('Heatmap Missing Value')\n",
    "plt.show()"
   ]
  },
  {
   "cell_type": "code",
   "execution_count": 73,
   "metadata": {
    "ExecuteTime": {
     "end_time": "2019-09-30T01:47:04.499900Z",
     "start_time": "2019-09-30T01:47:04.469605Z"
    },
    "slideshow": {
     "slide_type": "slide"
    }
   },
   "outputs": [],
   "source": [
    "# Simplest solution, if the MV is not a lot\n",
    "# drop rows with missing values : Ada berbagai cara\n",
    "X = price.dropna() # jika ada MV minimal satu di salah satu kolom, maka baris di hapus\n",
    "price2.dropna(how='all') # jika ada MV di semua kolom, maka baris di hapus\n",
    "price2.dropna(thresh=2) # jika ada MV minimal di salah 2 kolom, maka baris di hapus\n",
    "price2.dropna(subset=['Dist_Hospital'])[:7] # jika ada MV minimal satu di salah kolom Dist_Hospital\n",
    "# inplace=True if really really sure\n",
    "price2.dropna(inplace=True)"
   ]
  },
  {
   "cell_type": "code",
   "execution_count": 74,
   "metadata": {
    "scrolled": true,
    "slideshow": {
     "slide_type": "fragment"
    }
   },
   "outputs": [
    {
     "name": "stdout",
     "output_type": "stream",
     "text": [
      "Dist_Taxi        0\n",
      "Dist_Market      0\n",
      "Dist_Hospital    0\n",
      "Carpet           0\n",
      "Builtup          0\n",
      "Parking          0\n",
      "City_Category    0\n",
      "Rainfall         0\n",
      "House_Price      0\n",
      "total_jarak      0\n",
      "harga_jual       0\n",
      "dtype: int64\n"
     ]
    }
   ],
   "source": [
    "# memeriksa apakah Missing value-nya sudah tidak ada.\n",
    "print(price2.isnull().sum())"
   ]
  },
  {
   "cell_type": "code",
   "execution_count": 75,
   "metadata": {},
   "outputs": [
    {
     "data": {
      "text/plain": [
       "nan"
      ]
     },
     "execution_count": 75,
     "metadata": {},
     "output_type": "execute_result"
    }
   ],
   "source": [
    "import numpy as np\n",
    "\n",
    "np.nan"
   ]
  },
  {
   "cell_type": "markdown",
   "metadata": {
    "slideshow": {
     "slide_type": "slide"
    }
   },
   "source": [
    "# <center><font color=\"blue\"> Teknik Imputasi Dasar Missing Values</font></center>"
   ]
  },
  {
   "cell_type": "code",
   "execution_count": 76,
   "metadata": {
    "slideshow": {
     "slide_type": "fragment"
    }
   },
   "outputs": [
    {
     "name": "stdout",
     "output_type": "stream",
     "text": [
      "Dist_Taxi         7\n",
      "Dist_Market       7\n",
      "Dist_Hospital     1\n",
      "Carpet            6\n",
      "Builtup          11\n",
      "Parking           0\n",
      "City_Category     0\n",
      "Rainfall          0\n",
      "House_Price       0\n",
      "total_jarak       7\n",
      "harga_jual        0\n",
      "dtype: int64\n"
     ]
    }
   ],
   "source": [
    "# Sebagai ilustrasi Kita akan menggunakan variabel \"Price\" (bukan Price2)\n",
    "print(price.isnull().sum())"
   ]
  },
  {
   "cell_type": "code",
   "execution_count": 77,
   "metadata": {
    "slideshow": {
     "slide_type": "slide"
    }
   },
   "outputs": [
    {
     "name": "stdout",
     "output_type": "stream",
     "text": [
      "Dist_Taxi         0\n",
      "Dist_Market       7\n",
      "Dist_Hospital     1\n",
      "Carpet            6\n",
      "Builtup          11\n",
      "Parking           0\n",
      "City_Category     0\n",
      "Rainfall          0\n",
      "House_Price       0\n",
      "total_jarak       7\n",
      "harga_jual        0\n",
      "dtype: int64\n"
     ]
    }
   ],
   "source": [
    "# Misal di imputasi dengan rata-rata\n",
    "price[\"Dist_Taxi\"].fillna(price[\"Dist_Taxi\"].mean(), inplace = True)\n",
    "print(price.isnull().sum())"
   ]
  },
  {
   "cell_type": "code",
   "execution_count": 78,
   "metadata": {
    "slideshow": {
     "slide_type": "slide"
    }
   },
   "outputs": [
    {
     "name": "stdout",
     "output_type": "stream",
     "text": [
      "Dist_Taxi         0\n",
      "Dist_Market       7\n",
      "Dist_Hospital     1\n",
      "Carpet            6\n",
      "Builtup          11\n",
      "Parking           0\n",
      "City_Category     0\n",
      "Rainfall          0\n",
      "House_Price       0\n",
      "total_jarak       7\n",
      "harga_jual        0\n",
      "dtype: int64\n"
     ]
    }
   ],
   "source": [
    "# Misal MV di var kategori di imputasi dengan modus\n",
    "price['Parking'].fillna(price['Parking'].mode()[0], inplace=True)\n",
    "print(price.isnull().sum()) \n",
    "# tapi di contoh data ini di var kategori tidak ada MV"
   ]
  },
  {
   "cell_type": "markdown",
   "metadata": {
    "slideshow": {
     "slide_type": "slide"
    }
   },
   "source": [
    "# <center><font color=\"green\"> Diskusi/Latihan: Bagaimana cara imputasi MV numerik dengan Median?</font></center>"
   ]
  },
  {
   "cell_type": "markdown",
   "metadata": {
    "slideshow": {
     "slide_type": "slide"
    }
   },
   "source": [
    "# Missing Values\n",
    "\n",
    "\n",
    "Salah satu proses dalam ‘membersihkan data’ itu adalah mengidentifikasi dan menghandle *missing value*, apa itu *missing value*? *Missing value* adalah istilah untuk data yang hilang\n",
    "\n",
    "\n",
    "## Penyebab Missing Value\n",
    "Data yang hilang ini bisa disebabkan oleh beberapa hal, salah satu contohnya adalah\n",
    "\n",
    "*   Error pada *data entry*, baik itu *human error* ataupun kesalahan pada sistem\n",
    "*   Pada data survey, bisa disebabkan oleh responden yang lupa mengisi pertanyaan, pertanyaan yang sulit dimengerti, ataupun pertanyaan enggan diisi karena merupakan pertanyaan yang sensitif\n"
   ]
  },
  {
   "cell_type": "markdown",
   "metadata": {
    "slideshow": {
     "slide_type": "slide"
    }
   },
   "source": [
    "# Bagaimana cara mendeteksi *Missing Value*?\n",
    "\n",
    "Biasanya untuk menandakan bahwa suatu data hilang, cell tersebut dibiarkan kosong\n",
    "\n",
    "Nah, permasalahan yang dihadapi pada data di lapangan adalah, penandaan untuk mengatakan bahwa data tersebut *missing* sangat beragam, bisa ditulis ‘?’ (tanda tanya), bisa ditulis ‘-‘ (strip), bisa suatu bilangan yang sangat besar atau sangat kecil (misal 99 atau -999)\n",
    "\n",
    "Sebagai ilustrasi, perhatikan berikut ini:\n",
    "<img alt=\"\" src=\"images/dt_excel.png\"/>"
   ]
  },
  {
   "cell_type": "markdown",
   "metadata": {
    "slideshow": {
     "slide_type": "slide"
    }
   },
   "source": [
    "Perhatikan bahwa data ini memiliki berbagai macam cara untuk mengatakan bahwa data pada *cell* tertentu adalah *missing*, misalnya:\n",
    "\n",
    "*   *cell*nya dikosongkan\n",
    "*   ditulis dengan n/a, NA, na, ataupun NaN\n",
    "*   ditulis dengan symbol –\n",
    "*   ataupun mempunyai nilai yang cukup aneh seperti nilai 12 pada kolom OWN_OCCUPIED, ataupun HURLEY pada kolom NUM_BATH\n",
    "\n",
    "Ketika kita meng-load data ini ke python menggunakan pandas, beberapa notasi *missing* yang umum [otomatis](https://pandas.pydata.org/pandas-docs/stable/reference/api/pandas.read_csv.html) dikategorikan sebagai NaN (notasi *missing value* pada python)\n",
    "\n",
    "<img alt=\"\" src=\"images/pd_nulls.png\"/>"
   ]
  },
  {
   "cell_type": "markdown",
   "metadata": {
    "slideshow": {
     "slide_type": "slide"
    }
   },
   "source": [
    "# Tipe Missing Value\n",
    "\n",
    "### Missing completely at random (MCAR)\n",
    "\n",
    "Data hilang secara acak, dan tidak berkaitan dengan variabel tertentu <br><br>\n",
    "\n",
    "### Missing at random (MAR)\n",
    "\n",
    "Data di suatu variabel hilang hanya berkaitan dengan variabel respon/pengamatan. Sebagai contoh, orang yang memiliki rasa was-was tinggi (x) cenderung tidak melaporkan pendapatan (y) mereka, walaupun missing value bergantung pada berapa nilai x, tapi seberapa besar nilai y yang missing tersebut masih tetap acak <br><br>\n",
    "\n",
    "### Missing not at random (MNAR)\n",
    "\n",
    "Data di suatu variabel y berkaitan dengan variabel itu sendiri, tidak terdistribusi secara acak. Sebagai contoh, orang yang pendapatannya rendah cenderung tidak melaporkan pendapatannya. Tipe *missing value* ini yang relatif paling sulit untuk di handle\n",
    "\n",
    "---\n",
    "<br>\n",
    "Pada MCAR dan MAR, kita boleh menghilangkan data dengan *missing value* ataupun mengimputasinya. Namun pada kasus MNAR, menghilangkan data dengan *missing value* akan menghasilkan bias pada data. mengimputasinya pun tidak selalu memberikan hasil yang baik\n"
   ]
  },
  {
   "cell_type": "markdown",
   "metadata": {
    "slideshow": {
     "slide_type": "slide"
    }
   },
   "source": [
    "#  Menangani *Missing Value*\n",
    "\n",
    "Setelah kita mengenali apa itu *missing value*, bagaimana biasanya *missing value* itu ditulis, dan juga apa saja tipe *missing value*. Sekarang akan dijelaskan bagaimana cara menghandle *missing value*\n",
    "\n",
    "<img alt=\"\" src=\"images/mv_flowchart.png\" />\n",
    "\n",
    "### sumber gambar : https://towardsdatascience.com/how-to-handle-missing-data-8646b18db0d4\n",
    "\n",
    "Perlu dicatat bahwa, **tidak ada metode yang benar benar terbaik dalam menghandle missing value**, metode yang dapat digunakan akan bergantung pada tipe data dan masalah yang ditelaah"
   ]
  },
  {
   "cell_type": "markdown",
   "metadata": {
    "slideshow": {
     "slide_type": "slide"
    }
   },
   "source": [
    "## Menghindari data dengan *missing value*\n",
    "yaitu drop data / menghapus data yang mengandung *missing value* ataupun menghapus variabel yang memiliki banyak sekali *missing value*\n",
    "\n",
    "Cara menghapus data inipun ada beberapa macam\n",
    "\n",
    "1.   *Listwise Deletion*, yaitu menghapus *row* yang mempunyai satu atau lebih *missing*\n",
    "\n",
    "<img alt=\"\" src=\"images/mv_all.png\" />\n",
    "\n",
    "2.   *Pairwise Deletion*, yaitu hanya menghapus *missing value* pada variabel variabel yang ingin digunakan, misal kita ingin mencari korelasi antara glucose_conc dan diastolic_bp, kita hanya perlu menghapus *row* berikut ini\n",
    "\n",
    "<img alt=\"\" src=\"images/mv_part.png\" />\n",
    "\n",
    "\n",
    "3.   Menghapus variabel, yaitu membuang variabel jika data pada kolom tersebut banyak sekali yang *missing*, misalkan hampir 50%.\n"
   ]
  },
  {
   "cell_type": "markdown",
   "metadata": {
    "slideshow": {
     "slide_type": "slide"
    }
   },
   "source": [
    "## Mengabaikan missing value\n",
    "\n",
    "Beberapa algoritma machine learning atau metode analisis lainnya dapat dengan sendirinya menghandle missing value, contohnya adalah decision tree, k-Nearest Neighbors (kNN), Gradient Boosting Method (GBM) yang dapat mengabaikan missing value, ataupun XGBoost yang dapat mengimputasi sendiri missing value pada data\n",
    "\n",
    "Ataupun jika ada beberapa kolom yang tidak memberikan informasi apa apa, kita dapat membiarkan missing value ada di kolom tersebut karena kolom tersebut pun tidak memberikan informasi yang signifikan, contohnya adalah nomor tiket pada data penerbangan, kita tidak perlu sulit-sulit memikirkan bagaimana cara mengimputasi kolom tersebut."
   ]
  },
  {
   "cell_type": "markdown",
   "metadata": {
    "slideshow": {
     "slide_type": "slide"
    }
   },
   "source": [
    "## Mengimputasinya\n",
    "\n",
    "Kita dapat menggantikan missing value tersebut dengan suatu nilai, ada beberapa metode dalam mengimputasi missing value\n",
    "\n",
    "## •\tUnivariate Imputation\n",
    "###\tImputasi dengan median / mean / modus\n",
    "Imputasi dengan median / mean digunakan pada data numerik, idenya kita mengganti missing value pada kolom dengan median / mean dari data yang tidak missing, sedangkan imputasi dengan modus digunakan pada data kategorik.\n",
    "\n",
    "\n",
    "(catatan : Jika distribusi data cukup skewed (menceng kanan atau kiri), atau terdapat nilai nilai ekstrim, median lebih di sarankan daripada mean)\n",
    "\n",
    "Alternatifnya, kita pun dapat membedakan imputasi berdasarkan variabel kategorik tertentu, misalnya untuk yang penderita diabetes, akan diimputasi dengan rata rata dari penderita diabetes, dan sebaliknya"
   ]
  },
  {
   "cell_type": "markdown",
   "metadata": {
    "slideshow": {
     "slide_type": "slide"
    }
   },
   "source": [
    "## •\tMultivariate Imputation\n",
    "\n",
    "### Single Imputation\n",
    "Metode metode yang dapat digunakan adalah memprediksi nilai *missing* dengan menggunakan metode metode *supervised learning* seperti kNN, regresi linear, regresi logistik (untuk data kategorik)\n",
    "\n",
    "# Kasus Lainnya\n",
    "\n",
    "\n",
    "Salah satu cara menangani *missing value* pada data kategorik dapat dijadikan level tersendiri\n",
    "\n",
    "*missing value* pada data *Time Series*, imputasi dapat dilakukan dengan:\n",
    "\n",
    "\n",
    "*   mengisi nilai yang missing dengan nilai sebelumnya yang tidak missing, sering disebut juga dengan Last Observation Carried Forward (LOCF) ataupun dengan nilai selanjutnya yang tidak missing, sering disebut juga Next Observation Carried Backward (NOCB)\n",
    "\n",
    "*   Menggunakan Interpolasi Linear\n",
    "*   Menggunakan Interpolasi Linear dengan memperhitungkan tren seasonal\n"
   ]
  },
  {
   "cell_type": "markdown",
   "metadata": {
    "slideshow": {
     "slide_type": "slide"
    }
   },
   "source": [
    "# Missing Values"
   ]
  },
  {
   "cell_type": "code",
   "execution_count": null,
   "metadata": {
    "ExecuteTime": {
     "end_time": "2019-09-30T01:47:26.285880Z",
     "start_time": "2019-09-30T01:47:26.278337Z"
    },
    "slideshow": {
     "slide_type": "fragment"
    }
   },
   "outputs": [],
   "source": [
    "# General Look at the Missing Values\n",
    "print(price2.isnull().sum())"
   ]
  },
  {
   "cell_type": "code",
   "execution_count": null,
   "metadata": {},
   "outputs": [],
   "source": [
    "set(price2['Parking'])"
   ]
  },
  {
   "cell_type": "markdown",
   "metadata": {
    "slideshow": {
     "slide_type": "slide"
    }
   },
   "source": [
    "# Gambaran yang Lebih baik tentang MV terutama di Big Data"
   ]
  },
  {
   "cell_type": "code",
   "execution_count": null,
   "metadata": {
    "slideshow": {
     "slide_type": "fragment"
    }
   },
   "outputs": [],
   "source": [
    "sns.heatmap(price2.isnull(), cbar=False)\n",
    "plt.title('Heatmap Missing Value')\n",
    "plt.show()"
   ]
  },
  {
   "cell_type": "code",
   "execution_count": null,
   "metadata": {
    "slideshow": {
     "slide_type": "slide"
    }
   },
   "outputs": [],
   "source": [
    "(price2.isnull().sum()/len(price2)).to_frame('persentase missing')"
   ]
  },
  {
   "cell_type": "code",
   "execution_count": null,
   "metadata": {
    "ExecuteTime": {
     "end_time": "2019-09-30T01:47:04.499900Z",
     "start_time": "2019-09-30T01:47:04.469605Z"
    },
    "slideshow": {
     "slide_type": "slide"
    }
   },
   "outputs": [],
   "source": [
    "# Simplest solution, if the MV is not a lot\n",
    "# drop rows with missing values : Ada berbagai cara\n",
    "X = price.dropna() # jika ada MV minimal satu di salah satu kolom, maka baris di hapus\n",
    "price2.dropna(how='all') # jika ada MV di semua kolom, maka baris di hapus\n",
    "price2.dropna(thresh=2) # jika ada MV minimal di salah 2 kolom, maka baris di hapus\n",
    "price2.dropna(subset=['Dist_Hospital'])[:7] # jika ada MV minimal satu di salah kolom Dist_Hospital\n",
    "# inplace=True if really really sure\n",
    "price2.dropna(inplace=True)"
   ]
  },
  {
   "cell_type": "code",
   "execution_count": null,
   "metadata": {
    "scrolled": true,
    "slideshow": {
     "slide_type": "fragment"
    }
   },
   "outputs": [],
   "source": [
    "print(price2.isnull().sum())"
   ]
  },
  {
   "cell_type": "markdown",
   "metadata": {},
   "source": [
    "# Imputasi missing Values"
   ]
  },
  {
   "cell_type": "code",
   "execution_count": null,
   "metadata": {},
   "outputs": [],
   "source": [
    "price2.fillna(1, inplace=True)"
   ]
  },
  {
   "cell_type": "markdown",
   "metadata": {
    "slideshow": {
     "slide_type": "slide"
    }
   },
   "source": [
    "# Saving (preprocessed) Data"
   ]
  },
  {
   "cell_type": "code",
   "execution_count": null,
   "metadata": {
    "ExecuteTime": {
     "end_time": "2019-09-30T01:02:14.552127Z",
     "start_time": "2019-09-30T01:02:14.509242Z"
    },
    "slideshow": {
     "slide_type": "fragment"
    }
   },
   "outputs": [],
   "source": [
    "# Saving the preprocessed Data for future use/analysis\n",
    "price2.to_csv(\"data/price_PreProcessed.csv\", encoding='utf8', index=False)"
   ]
  },
  {
   "cell_type": "markdown",
   "metadata": {
    "slideshow": {
     "slide_type": "slide"
    }
   },
   "source": [
    "# End of Module\n",
    "<hr>\n",
    "<img alt=\"\" src=\"images/meme_03.jpg\"/>"
   ]
  }
 ],
 "metadata": {
  "celltoolbar": "Slideshow",
  "interpreter": {
   "hash": "605d83c499b33110a6fc14dee7303c8c3951e4e27a74f4032908c68f685aeac4"
  },
  "kernelspec": {
   "display_name": "Python 3 (ipykernel)",
   "language": "python",
   "name": "python3"
  },
  "language_info": {
   "codemirror_mode": {
    "name": "ipython",
    "version": 3
   },
   "file_extension": ".py",
   "mimetype": "text/x-python",
   "name": "python",
   "nbconvert_exporter": "python",
   "pygments_lexer": "ipython3",
   "version": "3.9.7"
  },
  "latex_envs": {
   "LaTeX_envs_menu_present": true,
   "autoclose": false,
   "autocomplete": true,
   "bibliofile": "biblio.bib",
   "cite_by": "apalike",
   "current_citInitial": 1,
   "eqLabelWithNumbers": true,
   "eqNumInitial": 1,
   "hotkeys": {
    "equation": "Ctrl-E",
    "itemize": "Ctrl-I"
   },
   "labels_anchors": false,
   "latex_user_defs": false,
   "report_style_numbering": false,
   "user_envs_cfg": false
  }
 },
 "nbformat": 4,
 "nbformat_minor": 2
}
