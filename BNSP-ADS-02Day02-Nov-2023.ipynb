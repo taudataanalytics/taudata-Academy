{
 "cells": [
  {
   "cell_type": "markdown",
   "id": "8a4a2e31",
   "metadata": {},
   "source": [
    "<center><h1><strong><font color=\"blue\">Pelatihan Asociate Data Scientist (ADS) - Module 03 Hari 02</font></strong></h1></center>\n",
    "\n",
    "<img alt=\"\" src=\"images/covers/cover_uin-aptikom-taudata.jpg\"/>"
   ]
  },
  {
   "cell_type": "markdown",
   "id": "383e44eb",
   "metadata": {},
   "source": [
    "# <center><font color=\"blue\">  Variabel target (dependent) dan prediktor (independent)</font></center>\n",
    "\n",
    "<img style=\"undefined: undefined;\" src=\"images/Dependent-Independent.png\" />\n",
    "\n",
    "* **Variable Target**: adalah satu atau lebih variabel yang dipengaruhi oleh satu atau lebih variabel yang lain.\n",
    "Contoh: Variabel gaji dipengaruhi oleh variabel lama kerja, pangkat serta jabatan seorang pegawai.\n",
    "Variable \n",
    "* **Variabel Prediktor** : adalah satu atau lebih variabel yang mempengaruhi satu atau lebih variabel yang lain.\n",
    "Contoh: Variabel kecepatan mempengaruhi waktu tempuh perjalanan.\n",
    "* **Variabel Kontrol**: adalah variabel/elemen yang nilainya tetap (konstan), biasanya pada suatu eksperimen untuk menguji hubungan antara variabel target dan prediktor.\n",
    "Contoh: Penggunaan Placebo (obat palsu) pada penelitian/eksperimen efek suatu obat tertentu.\n",
    "* **Variable Confounding** Biasa juga disebut sebagai “variabel ketiga” atau “variabel mediator”, yaitu suatu (extra*) variabel yang mempengaruhi hubungan antara variabel dependent dan independent.\n",
    "Contoh: Pada penelitian tentang dampak olahraga (prediktor) terhadap berat badan (target), maka variabel lain seperti pola makan dan usia juga akan mempengaruhi."
   ]
  },
  {
   "cell_type": "markdown",
   "id": "0efe15d7",
   "metadata": {
    "slideshow": {
     "slide_type": "slide"
    }
   },
   "source": [
    "# <center><font color=\"blue\">Pentingnya Domain Knowledge</font></center>\n",
    "\n",
    "<img alt=\"\" src=\"images/meme-cartoon/meme-dependent-independent var.jpg\"/>"
   ]
  },
  {
   "cell_type": "markdown",
   "id": "993466c5",
   "metadata": {},
   "source": [
    "# <center><font color=\"blue\">Aplikasi Model Klasifikasi</font></center>\n",
    "\n",
    "<img alt=\"\" src=\"images/DL/machine learning classification applications.png\"/>"
   ]
  },
  {
   "cell_type": "markdown",
   "id": "4836bd0f",
   "metadata": {},
   "source": [
    "# <center><font color=\"blue\"> Berbagai Pendekatan ke Klasifikasi</font></center>\n",
    "\n",
    "* Terdapat cukup banyak model klasifikasi yang dapat digunakan, mulai dari yang klasik seperti Linear Discriminant Analysis (LDA) dan regresi logistik, lalu ke moderate seperti SVM (support vector machines), decision tree dan neural network (jaringan syaraf tiruan), sampai yang lebih terkini seperti random forest,  dan deep learning. \n",
    "* Masing-masing memiliki kelebihan dan kekurangan masing-masing bergantung pada bagaimana model/algoritmanya. \n",
    "\n",
    "<img alt=\"\" src=\"images/5_Clus-Clas.png\" />"
   ]
  },
  {
   "cell_type": "markdown",
   "id": "c64e3faa",
   "metadata": {},
   "source": [
    "# <center><font color=\"blue\">Induktif Bias Sebagai Dasar Penting untuk Mengerti SEMUA model Data Science dan Machine Learning</font></center>\n",
    "\n",
    "<ul>\n",
    "\t<li>Bias penaksiran parameter (statistik)</li>\n",
    "\t<li>Induktif Bias Sample (Machine Learning - Tom Mitchel)</li>\n",
    "\t<li>Induktif Bias Pemilihan Classifier (Statistical Learning Theory - Vapnik)</li>\n",
    "</ul>\n",
    "\n",
    "<img alt=\"\" src=\"images/inductive_biases_.png\" style=\"width: 600px; height: 153px;\" />\n",
    "<img alt=\"\" src=\"images/class.png\" />"
   ]
  },
  {
   "cell_type": "markdown",
   "id": "2dcd5fac",
   "metadata": {},
   "source": [
    "# <center><font color=\"blue\">Permasalahan Klasifikasi</font></center>\n",
    "\n",
    "<p><img alt=\"\" src=\"images/masalah_klasifikasi.png\" /></p>\n",
    "\n",
    "* Misal diberikan permasalahan terdapat dua buah kategori orange dan ungu seperti di gambar.\n",
    "* Setiap titik di ganmbar adalah entitas dari data yang terdiri dari beberapa variabel.\n",
    "* Jika diberikan titik baru (warna putih), maka masalah klasifikkasi adalah kemudian menggolongkan data baru ini ke kategori titik Orange atau Ungu.\n",
    "\n",
    "## <font color=\"green\">Mari membahas teori Bersamaan Dengan Implementasinya</font>"
   ]
  },
  {
   "cell_type": "code",
   "execution_count": 1,
   "id": "4a924674",
   "metadata": {},
   "outputs": [
    {
     "data": {
      "text/plain": [
       "'Done'"
      ]
     },
     "execution_count": 1,
     "metadata": {},
     "output_type": "execute_result"
    }
   ],
   "source": [
    "import warnings; warnings.simplefilter('ignore')\n",
    "import pandas as pd, matplotlib.pyplot as plt\n",
    "import time, numpy as np, seaborn as sns\n",
    "from sklearn import  tree\n",
    "from sklearn.linear_model import LogisticRegression\n",
    "from sklearn.model_selection import train_test_split\n",
    "from sklearn.metrics import confusion_matrix, classification_report\n",
    "from sklearn.metrics import precision_score, recall_score, f1_score\n",
    "from sklearn.model_selection import cross_val_score\n",
    "sns.set(style=\"ticks\", color_codes=True)\n",
    "\"Done\""
   ]
  },
  {
   "cell_type": "code",
   "execution_count": 2,
   "id": "b0138a34",
   "metadata": {},
   "outputs": [
    {
     "name": "stdout",
     "output_type": "stream",
     "text": [
      "baris =  48790 , Kolom (jumlah variabel) =  106\n"
     ]
    },
    {
     "data": {
      "text/html": [
       "<div>\n",
       "<style scoped>\n",
       "    .dataframe tbody tr th:only-of-type {\n",
       "        vertical-align: middle;\n",
       "    }\n",
       "\n",
       "    .dataframe tbody tr th {\n",
       "        vertical-align: top;\n",
       "    }\n",
       "\n",
       "    .dataframe thead th {\n",
       "        text-align: right;\n",
       "    }\n",
       "</style>\n",
       "<table border=\"1\" class=\"dataframe\">\n",
       "  <thead>\n",
       "    <tr style=\"text-align: right;\">\n",
       "      <th></th>\n",
       "      <th>Umur</th>\n",
       "      <th>fnlwgt</th>\n",
       "      <th>KelasPendidikan</th>\n",
       "      <th>Gain</th>\n",
       "      <th>Loss</th>\n",
       "      <th>JamKerjaHarian</th>\n",
       "      <th>Penghasilan</th>\n",
       "      <th>_Federal-gov</th>\n",
       "      <th>_Local-gov</th>\n",
       "      <th>_Never-worked</th>\n",
       "      <th>...</th>\n",
       "      <th>_Portugal</th>\n",
       "      <th>_Puerto-Rico</th>\n",
       "      <th>_Scotland</th>\n",
       "      <th>_South</th>\n",
       "      <th>_Taiwan</th>\n",
       "      <th>_Thailand</th>\n",
       "      <th>_Trinadad&amp;Tobago</th>\n",
       "      <th>_United-States</th>\n",
       "      <th>_Vietnam</th>\n",
       "      <th>_Yugoslavia</th>\n",
       "    </tr>\n",
       "  </thead>\n",
       "  <tbody>\n",
       "    <tr>\n",
       "      <th>0</th>\n",
       "      <td>39</td>\n",
       "      <td>77516</td>\n",
       "      <td>13</td>\n",
       "      <td>2174</td>\n",
       "      <td>0</td>\n",
       "      <td>40</td>\n",
       "      <td>&lt;=50K</td>\n",
       "      <td>False</td>\n",
       "      <td>False</td>\n",
       "      <td>False</td>\n",
       "      <td>...</td>\n",
       "      <td>False</td>\n",
       "      <td>False</td>\n",
       "      <td>False</td>\n",
       "      <td>False</td>\n",
       "      <td>False</td>\n",
       "      <td>False</td>\n",
       "      <td>False</td>\n",
       "      <td>True</td>\n",
       "      <td>False</td>\n",
       "      <td>False</td>\n",
       "    </tr>\n",
       "    <tr>\n",
       "      <th>1</th>\n",
       "      <td>50</td>\n",
       "      <td>83311</td>\n",
       "      <td>13</td>\n",
       "      <td>0</td>\n",
       "      <td>0</td>\n",
       "      <td>13</td>\n",
       "      <td>&lt;=50K</td>\n",
       "      <td>False</td>\n",
       "      <td>False</td>\n",
       "      <td>False</td>\n",
       "      <td>...</td>\n",
       "      <td>False</td>\n",
       "      <td>False</td>\n",
       "      <td>False</td>\n",
       "      <td>False</td>\n",
       "      <td>False</td>\n",
       "      <td>False</td>\n",
       "      <td>False</td>\n",
       "      <td>True</td>\n",
       "      <td>False</td>\n",
       "      <td>False</td>\n",
       "    </tr>\n",
       "    <tr>\n",
       "      <th>2</th>\n",
       "      <td>38</td>\n",
       "      <td>215646</td>\n",
       "      <td>9</td>\n",
       "      <td>0</td>\n",
       "      <td>0</td>\n",
       "      <td>40</td>\n",
       "      <td>&lt;=50K</td>\n",
       "      <td>False</td>\n",
       "      <td>False</td>\n",
       "      <td>False</td>\n",
       "      <td>...</td>\n",
       "      <td>False</td>\n",
       "      <td>False</td>\n",
       "      <td>False</td>\n",
       "      <td>False</td>\n",
       "      <td>False</td>\n",
       "      <td>False</td>\n",
       "      <td>False</td>\n",
       "      <td>True</td>\n",
       "      <td>False</td>\n",
       "      <td>False</td>\n",
       "    </tr>\n",
       "    <tr>\n",
       "      <th>3</th>\n",
       "      <td>53</td>\n",
       "      <td>234721</td>\n",
       "      <td>7</td>\n",
       "      <td>0</td>\n",
       "      <td>0</td>\n",
       "      <td>40</td>\n",
       "      <td>&lt;=50K</td>\n",
       "      <td>False</td>\n",
       "      <td>False</td>\n",
       "      <td>False</td>\n",
       "      <td>...</td>\n",
       "      <td>False</td>\n",
       "      <td>False</td>\n",
       "      <td>False</td>\n",
       "      <td>False</td>\n",
       "      <td>False</td>\n",
       "      <td>False</td>\n",
       "      <td>False</td>\n",
       "      <td>True</td>\n",
       "      <td>False</td>\n",
       "      <td>False</td>\n",
       "    </tr>\n",
       "    <tr>\n",
       "      <th>4</th>\n",
       "      <td>28</td>\n",
       "      <td>338409</td>\n",
       "      <td>13</td>\n",
       "      <td>0</td>\n",
       "      <td>0</td>\n",
       "      <td>40</td>\n",
       "      <td>&lt;=50K</td>\n",
       "      <td>False</td>\n",
       "      <td>False</td>\n",
       "      <td>False</td>\n",
       "      <td>...</td>\n",
       "      <td>False</td>\n",
       "      <td>False</td>\n",
       "      <td>False</td>\n",
       "      <td>False</td>\n",
       "      <td>False</td>\n",
       "      <td>False</td>\n",
       "      <td>False</td>\n",
       "      <td>False</td>\n",
       "      <td>False</td>\n",
       "      <td>False</td>\n",
       "    </tr>\n",
       "  </tbody>\n",
       "</table>\n",
       "<p>5 rows × 106 columns</p>\n",
       "</div>"
      ],
      "text/plain": [
       "   Umur  fnlwgt  KelasPendidikan  Gain  Loss  JamKerjaHarian Penghasilan  \\\n",
       "0    39   77516               13  2174     0              40       <=50K   \n",
       "1    50   83311               13     0     0              13       <=50K   \n",
       "2    38  215646                9     0     0              40       <=50K   \n",
       "3    53  234721                7     0     0              40       <=50K   \n",
       "4    28  338409               13     0     0              40       <=50K   \n",
       "\n",
       "   _Federal-gov  _Local-gov  _Never-worked  ...  _Portugal  _Puerto-Rico  \\\n",
       "0         False       False          False  ...      False         False   \n",
       "1         False       False          False  ...      False         False   \n",
       "2         False       False          False  ...      False         False   \n",
       "3         False       False          False  ...      False         False   \n",
       "4         False       False          False  ...      False         False   \n",
       "\n",
       "   _Scotland  _South  _Taiwan  _Thailand  _Trinadad&Tobago  _United-States  \\\n",
       "0      False   False    False      False             False            True   \n",
       "1      False   False    False      False             False            True   \n",
       "2      False   False    False      False             False            True   \n",
       "3      False   False    False      False             False            True   \n",
       "4      False   False    False      False             False           False   \n",
       "\n",
       "   _Vietnam  _Yugoslavia  \n",
       "0     False        False  \n",
       "1     False        False  \n",
       "2     False        False  \n",
       "3     False        False  \n",
       "4     False        False  \n",
       "\n",
       "[5 rows x 106 columns]"
      ]
     },
     "execution_count": 2,
     "metadata": {},
     "output_type": "execute_result"
    }
   ],
   "source": [
    "# Loading Data Preprocessed (Belum Lengkap!)\n",
    "file_ = 'data/adult_PreProcessed.csv'\n",
    "try: # Running Locally, yakinkan \"file_\" berada di folder \"data\"\n",
    "    df = pd.read_csv(file_)\n",
    "except: # Running in Google Colab\n",
    "    !mkdir data\n",
    "    !wget -P data/ https://raw.githubusercontent.com/taudataanalytics/eLearning/master/data/adult.csv\n",
    "    df = pd.read_csv(file_)\n",
    "    \n",
    "N, P = df.shape # Ukuran Data\n",
    "print('baris = ', N, ', Kolom (jumlah variabel) = ', P)\n",
    "df.head()"
   ]
  },
  {
   "cell_type": "markdown",
   "id": "ebf78345",
   "metadata": {},
   "source": [
    "# <center><font color=\"blue\">Sebelum dimulai Data Kita Pisahkan Menjadi Train dan Test: Mengapa?</font></center>\n",
    "\n",
    "<p><img src=\"images/data train val test separation.png\" width=\"416\" height=\"327\" /></p>\n",
    "\n",
    "* Bagaimana membagi Porsi Train VS Porsi Test Data?\n",
    "* <font color=\"red\">**Hati-hati** dalam memisahkan data Train dan Test: Mengapa?\n",
    "</font>\n",
    "* Random State Penting!\n",
    "* Berapa persen train dan Test?"
   ]
  },
  {
   "cell_type": "code",
   "execution_count": 3,
   "id": "ad1b1247",
   "metadata": {},
   "outputs": [
    {
     "name": "stdout",
     "output_type": "stream",
     "text": [
      "(34153, 105) (34153,)\n",
      "(14637, 105) (14637,)\n"
     ]
    }
   ],
   "source": [
    "predictor = df.loc[:, ~df.columns.isin(['Penghasilan'])]\n",
    "target = df['Penghasilan']\n",
    "\n",
    "xTrain, xTest, yTrain, yTest = train_test_split(predictor, target, test_size=0.3, random_state=33)\n",
    "print(xTrain.shape, yTrain.shape)\n",
    "print(xTest.shape, yTest.shape)"
   ]
  },
  {
   "cell_type": "code",
   "execution_count": 4,
   "id": "dc4a65c8",
   "metadata": {},
   "outputs": [
    {
     "data": {
      "image/png": "[encoded data removed]",
      "text/plain": [
       "<Figure size 640x480 with 1 Axes>"
      ]
     },
     "metadata": {},
     "output_type": "display_data"
    },
    {
     "name": "stdout",
     "output_type": "stream",
     "text": [
      "Counter({'<=50K': 37109, '>50K': 11681})\n",
      "<50k =  76.05861856937896 % 50k =  23.94138143062103 %\n"
     ]
    }
   ],
   "source": [
    "# Visual Python: Visualization > Seaborn\n",
    "from collections import Counter\n",
    "\n",
    "sns.countplot(data=df, x='Penghasilan')\n",
    "plt.show()\n",
    "\n",
    "D = Counter(df['Penghasilan'])\n",
    "print(D)\n",
    "print(\"<50k = \", D['<=50K']*100/(len(df['Penghasilan'])), '% 50k = ',D['>50K']*100/(len(df['Penghasilan'])) ,'%')"
   ]
  },
  {
   "cell_type": "markdown",
   "id": "3c1e80e9",
   "metadata": {
    "slideshow": {
     "slide_type": "slide"
    }
   },
   "source": [
    "# <center><font color=\"blue\">Klasifikasi dengan Model Regresi Logistik</font></center>\n",
    "\n",
    "<p><img alt=\"\" src=\"images/klas_regLogistik.png\" /></p>\n",
    "\n",
    "* Mencari garis lurus yang sedemikian sehingga kesalahan prediksinya sekecil mungkin (lihat gambar)\n",
    "* Awalnya regresi logistik adalah metode klasifikasi binary: membedakan antara 2 kelas atau kategori.\n",
    "* Masalah klasifikasi binary contohnya memprediksi seseorang terkena \"kanker\" atau \"tidak kanker\", kanker jinak/ganas, fraud atau bukan fraud (pada transaksi keuangan), negatif/positif dalam sentimen analisis, dsb.\n",
    "* Regresi logistik adalah pengembangan dari model regresi liniear, namun di konversi ke masalah klasifikasi."
   ]
  },
  {
   "cell_type": "markdown",
   "id": "d4c3f5a9",
   "metadata": {
    "slideshow": {
     "slide_type": "slide"
    }
   },
   "source": [
    "# <center><font color=\"blue\">Regresi Logistik</font></center>\n",
    "\n",
    "<p><img src=\"images/reg_to_log.png\" alt=\"\" width=\"591\" height=\"298\" /></p>\n",
    "\n",
    "* http://www.saedsayad.com/logistic_regression.htm\n",
    "* Makna fungsi logarithm?\n",
    "* Konsekuensi dari rumus $\\beta$ diatas?\n",
    "* Asumsi?"
   ]
  },
  {
   "cell_type": "markdown",
   "id": "82a13a23",
   "metadata": {},
   "source": [
    "# <center><font color=\"blue\">Kaitan Regresi Logistik dan Neural Network/Deep Learning</font></center>\n",
    "\n",
    "<p><img src=\"images/DL/logReg_NN_DL.png\" alt=\"\" width=\"262\" height=\"263\" /></p>"
   ]
  },
  {
   "cell_type": "markdown",
   "id": "df857b3e",
   "metadata": {
    "slideshow": {
     "slide_type": "slide"
    }
   },
   "source": [
    "<p><img src=\"images/Fungsi_Sigmoid_.png\" alt=\"\" width=\"624\" height=\"416\" /></p>"
   ]
  },
  {
   "cell_type": "markdown",
   "id": "a5688f0a",
   "metadata": {
    "slideshow": {
     "slide_type": "slide"
    }
   },
   "source": [
    "# <center><font color=\"blue\">Kelebihan dan Kekurangan Regresi Logistik</font></center>\n",
    "\n",
    "<p><img alt=\"\" src=\"images/LogReg_When2use.png\" /></p>\n"
   ]
  },
  {
   "cell_type": "markdown",
   "id": "311779de",
   "metadata": {},
   "source": [
    "# <center><font color=\"blue\">Seberapa Baik Hasil Prediksi Ini?: Evaluation Metrics</font></center>\n",
    "\n",
    "* https://scikit-learn.org/stable/modules/classes.html#module-sklearn.metrics\n",
    "    \n",
    "<center><img alt=\"\" src=\"images/classification_metrics.png\" style=\"height: 400px;\"/></center>"
   ]
  },
  {
   "cell_type": "markdown",
   "id": "6d8f8828",
   "metadata": {},
   "source": [
    "<p><img alt=\"\" src=\"images/FP-FN_Meme.jpg\" /></p>\n"
   ]
  },
  {
   "cell_type": "markdown",
   "id": "f0572bc6",
   "metadata": {},
   "source": [
    "<p><img alt=\"\" src=\"images/ex-F1-Score.png\" /></p>\n",
    "* Yang mana kategori yang \"positif\"?"
   ]
  },
  {
   "cell_type": "markdown",
   "id": "2edce4f3",
   "metadata": {},
   "source": [
    "<p><img alt=\"\" src=\"images/F-beta-Score.png\" /></p>\n",
    "\n",
    "* $0\\leq F\\leq 1$, 1 optimal value\n",
    "* $0\\leq\\beta< \\inf$\n",
    "* beta < 1 lends more weight to precision, \n",
    "* beta > 1 favors recall \n",
    "* beta -> 0 considers only precision \n",
    "* beta -> inf only recall"
   ]
  },
  {
   "cell_type": "markdown",
   "id": "6f63aae7",
   "metadata": {},
   "source": [
    "# <center><font color=\"blue\">Micro VS Macro Metric</font></center>\n",
    "\n",
    "<p><img src=\"images/micro-vs-macro-f-score.png\" alt=\"\" width=\"790\" height=\"244\" /></p>\n",
    "\n",
    "### <font color=\"green\">Pada 2 kasus diatas:</font>\n",
    "* sebaiknya Micro atau macro?\n",
    "* Mana yang lebih penting Presisi atau Recall?"
   ]
  },
  {
   "cell_type": "markdown",
   "id": "c548a737",
   "metadata": {},
   "source": [
    "# <center><font color=\"blue\">Sampel ke Populasi: Underfitting dan overfitting</font></center>\n",
    "\n",
    "<img src=\"images/under-over_Fitting.jpg\" alt=\"\" width=\"564\" height=\"568\" />"
   ]
  },
  {
   "cell_type": "markdown",
   "id": "8156c885",
   "metadata": {},
   "source": [
    "<p><img src=\"images/meme-cartoon/meme overfitting.png\" width=\"556\" height=\"282\" /></p>"
   ]
  },
  {
   "cell_type": "markdown",
   "id": "3f180bc9",
   "metadata": {},
   "source": [
    "# <center><font color=\"blue\">Parsimoni: Simple is the Best</font></center>\n",
    "\n",
    "<img src=\"images/sweet_spot.png\" alt=\"\" width=\"538\" height=\"318\" />"
   ]
  },
  {
   "cell_type": "code",
   "execution_count": 5,
   "id": "76af60df",
   "metadata": {},
   "outputs": [
    {
     "name": "stdout",
     "output_type": "stream",
     "text": [
      "[[10711   380]\n",
      " [ 2616   930]]\n",
      "              precision    recall  f1-score   support\n",
      "\n",
      "       <=50K       0.80      0.97      0.88     11091\n",
      "        >50K       0.71      0.26      0.38      3546\n",
      "\n",
      "    accuracy                           0.80     14637\n",
      "   macro avg       0.76      0.61      0.63     14637\n",
      "weighted avg       0.78      0.80      0.76     14637\n",
      "\n"
     ]
    }
   ],
   "source": [
    "reglog = LogisticRegression().fit(xTrain, yTrain)\n",
    "prediksi_regLog = reglog.predict(xTest)\n",
    "print(confusion_matrix(yTest, prediksi_regLog))\n",
    "print(classification_report(yTest, prediksi_regLog))"
   ]
  },
  {
   "cell_type": "markdown",
   "id": "9ab67c7b",
   "metadata": {},
   "source": [
    "# <center><font color=\"blue\">Cross Validation</font></center>\n",
    "\n",
    "* Evaluasi yang kita lakukan belum cukup valid/objektif ... Mengapa?\n",
    "\n",
    "<img alt=\"\" src=\"images/6_Cross_validation.png\" />"
   ]
  },
  {
   "cell_type": "code",
   "execution_count": 6,
   "id": "8e27c5d0",
   "metadata": {},
   "outputs": [
    {
     "name": "stdout",
     "output_type": "stream",
     "text": [
      "Accuracy Regresi Logistik: 0.80 (+/- 0.01), Waktu = 5.723 detik\n"
     ]
    }
   ],
   "source": [
    "mulai = time.time()\n",
    "scores_regLog = cross_val_score(reglog, predictor, target, cv=10) # perhatikan sekarang kita menggunakan seluruh data\n",
    "waktu = time.time() - mulai\n",
    "print(\"Accuracy Regresi Logistik: %0.2f (+/- %0.2f), Waktu = %0.3f detik\" % (scores_regLog.mean(), scores_regLog.std() * 2, waktu))"
   ]
  },
  {
   "cell_type": "code",
   "execution_count": 7,
   "id": "17d0bf64",
   "metadata": {},
   "outputs": [
    {
     "data": {
      "text/plain": [
       "RegLog    0.79381\n",
       "dtype: float64"
      ]
     },
     "execution_count": 7,
     "metadata": {},
     "output_type": "execute_result"
    },
    {
     "data": {
      "image/png": "[encoded data removed]",
      "text/plain": [
       "<Figure size 640x480 with 1 Axes>"
      ]
     },
     "metadata": {},
     "output_type": "display_data"
    }
   ],
   "source": [
    "# Visualisasi untuk mengevaluasi & membandingkan model dengan lebih baik lagi\n",
    "df_ = pd.DataFrame({'RegLog': scores_regLog})\n",
    "p = sns.boxplot(data = df_)\n",
    "df_.min()"
   ]
  },
  {
   "cell_type": "markdown",
   "id": "e9e4d3bb",
   "metadata": {},
   "source": [
    "# Regresi Logistik untuk Multiclass Classification?\n",
    "\n",
    "## Salah satu caranya: One Versus All (OVA) Approach\n",
    "\n",
    "<p><img alt=\"\" src=\"images/ova.png\" /></p>\n",
    "\n",
    "## https://scikit-learn.org/stable/modules/generated/sklearn.linear_model.LogisticRegression.html"
   ]
  },
  {
   "cell_type": "code",
   "execution_count": 8,
   "id": "96ff58f3",
   "metadata": {},
   "outputs": [
    {
     "data": {
      "text/plain": [
       "{0, 1, 2}"
      ]
     },
     "execution_count": 8,
     "metadata": {},
     "output_type": "execute_result"
    }
   ],
   "source": [
    "from sklearn.datasets import load_iris\n",
    "X, y = load_iris(return_X_y=True)\n",
    "set(y) # 3 Kategori"
   ]
  },
  {
   "cell_type": "code",
   "execution_count": 9,
   "id": "443a2632",
   "metadata": {},
   "outputs": [
    {
     "data": {
      "text/plain": [
       "(150, 4)"
      ]
     },
     "execution_count": 9,
     "metadata": {},
     "output_type": "execute_result"
    }
   ],
   "source": [
    "X.shape # 4 variabel, 150 baris"
   ]
  },
  {
   "cell_type": "code",
   "execution_count": 10,
   "id": "f9f136ce",
   "metadata": {},
   "outputs": [
    {
     "data": {
      "text/plain": [
       "array([[-0.44501376,  0.89999242, -2.32353827, -0.97345836],\n",
       "       [-0.1792787 , -2.12866718,  0.69665417, -1.27480129],\n",
       "       [-0.39444787, -0.5133412 ,  2.93087523,  2.41709879]])"
      ]
     },
     "execution_count": 10,
     "metadata": {},
     "output_type": "execute_result"
    }
   ],
   "source": [
    "clf = LogisticRegression(multi_class='ovr').fit(X, y)\n",
    "clf.coef_\n",
    "# Perhatikan ada 3 persamaan"
   ]
  },
  {
   "cell_type": "markdown",
   "id": "b745b504",
   "metadata": {},
   "source": [
    "# <center><font color=\"blue\">Decision Tree Analogi</font></center>\n",
    "<img alt=\"\" src=\"images/meme-cartoon/6_DT_meme.png\" />"
   ]
  },
  {
   "cell_type": "markdown",
   "id": "3b7539fe",
   "metadata": {},
   "source": [
    "# <center><font color=\"blue\">Decision Tree (Pohon Keputusan)</font></center>\n",
    "\n",
    "<img alt=\"\" src=\"images/tree_plot.png\" />"
   ]
  },
  {
   "cell_type": "markdown",
   "id": "c152c1ed",
   "metadata": {
    "slideshow": {
     "slide_type": "slide"
    }
   },
   "source": [
    "# <center><font color=\"blue\">Decision Tree (Pohon Keputusan): Contoh Aplikasi</font></center>\n",
    "\n",
    "<img alt=\"\" src=\"images/6_DT.png\" />"
   ]
  },
  {
   "cell_type": "markdown",
   "id": "2f4c2383",
   "metadata": {
    "slideshow": {
     "slide_type": "slide"
    }
   },
   "source": [
    "# <center><font color=\"blue\">Teori Decision Tree : Entropy Formula</font></center>\n",
    "<p><img alt=\"\" src=\"images/Entropy.png\" /></p>"
   ]
  },
  {
   "cell_type": "markdown",
   "id": "37a8c3f6",
   "metadata": {
    "slideshow": {
     "slide_type": "slide"
    }
   },
   "source": [
    "# <center><font color=\"blue\">Teori Decision Tree : Entropy Calculation</font></center>\n",
    "\n",
    "<p><img alt=\"\" src=\"images/Contoh_Entropy.png\" style=\"width: 469px; height: 339px;\" /></p>"
   ]
  },
  {
   "cell_type": "markdown",
   "id": "6d4543be",
   "metadata": {
    "slideshow": {
     "slide_type": "slide"
    }
   },
   "source": [
    "# <center><font color=\"blue\">Teori Decision Tree : Gain Formula</font></center>\n",
    "<p><img alt=\"\" src=\"images/Information_Gain.png\" /></p>"
   ]
  },
  {
   "cell_type": "markdown",
   "id": "6d8cf662",
   "metadata": {},
   "source": [
    "## Alternative to Information Gain : Gini Index (CART)\n",
    "https://medium.com/deep-math-machine-learning-ai/chapter-4-decision-trees-algorithms-b93975f7a1f1"
   ]
  },
  {
   "cell_type": "markdown",
   "id": "1e85445f",
   "metadata": {
    "slideshow": {
     "slide_type": "slide"
    }
   },
   "source": [
    "# <center><font color=\"blue\">Teori Decision Tree : Gain Calculation</font></center>\n",
    "\n",
    "<p><img style=\"undefined: undefined;\" src=\"images/Contoh_Gain.png\" alt=\"\" width=\"527\" height=\"370\" /></p>\n",
    "<ul>\n",
    "<li>Contoh Lain: <a href=\"http://www.saedsayad.com/decision_tree.htm\" target=\"_blank\" rel=\"nofollow noopener\">http://www.saedsayad.com/decision_tree.htm</a></li>\n",
    "<li>Ross Quinlan Website: <a href=\"https://www.rulequest.com/Personal/\" target=\"_blank\" rel=\"nofollow noopener\">https://www.rulequest.com/Personal/</a></li>\n",
    "</ul>"
   ]
  },
  {
   "cell_type": "markdown",
   "id": "15527e04",
   "metadata": {
    "slideshow": {
     "slide_type": "slide"
    }
   },
   "source": [
    "# <center><font color=\"blue\">Teori Decision Tree : Information theory</font></center>\n",
    "\n",
    "<p><img src=\"images/dec_Tree_Theory.png\" alt=\"\" width=\"594\" height=\"334\" /></p>\n",
    "<ul>\n",
    "<li>Alternative to Information Gain : Gini Index (CART): <a href=\"https://medium.com/deep-math-machine-learning-ai/chapter-4-decision-trees-algorithms-b93975f7a1f1\" target=\"_blank\" rel=\"nofollow noopener\">https://medium.com/deep-math-machine-learning-ai/chapter-4-decision-trees-algorithms-b93975f7a1f1</a></li>\n",
    "</ul>"
   ]
  },
  {
   "cell_type": "markdown",
   "id": "5d685fb0",
   "metadata": {
    "slideshow": {
     "slide_type": "slide"
    }
   },
   "source": [
    "# <center><font color=\"blue\"> Pengaruh \"ketinggian\" tree terhadap bentuk model</font></center>\n",
    "\n",
    "<p><img alt=\"\" src=\"images/Dec_Tree_Asumsi_Depth.png\" /></p>"
   ]
  },
  {
   "cell_type": "markdown",
   "id": "8bc32d84",
   "metadata": {
    "slideshow": {
     "slide_type": "slide"
    }
   },
   "source": [
    "# <center><font color=\"blue\">Decision Tree (Pohon Keputusan): Kelebihan & Kekurangan</font></center>\n",
    "\n",
    "<p><u><strong>When to use:</strong></u></p>\n",
    "\n",
    "<ul>\n",
    "\t<li>Target : Binomial/nominal.</li>\n",
    "\t<li>Predictors (input): binomial, nominal, and-or interval (ratio).</li>\n",
    "</ul>\n",
    "\n",
    "<p><u><strong>Advantage:</strong></u></p>\n",
    "\n",
    "<ul>\n",
    "\t<li>Fast and embarrassingly parallel.</li>\n",
    "\t<li>Tanpa iterasi, cocok untuk&nbsp;Big Data technology (e.g. Hadoop)[map-reduce friendly]</li>\n",
    "\t<li>Interpretability</li>\n",
    "\t<li>Robust terhadap outliers &amp; missing values</li>\n",
    "</ul>\n",
    "\n",
    "<p><u><strong>Disadvantage:</strong></u></p>\n",
    "\n",
    "<ul>\n",
    "\t<li>Non probabilistic (ad hoc heuristic) +/-</li>\n",
    "\t<li>Target dengan banyak kelas</li>\n",
    "\t<li>Sensitive (instability)</li>\n",
    "</ul>"
   ]
  },
  {
   "cell_type": "code",
   "execution_count": 11,
   "id": "cbcb596c",
   "metadata": {
    "slideshow": {
     "slide_type": "slide"
    }
   },
   "outputs": [
    {
     "name": "stdout",
     "output_type": "stream",
     "text": [
      "[[9750 1341]\n",
      " [1341 2205]]\n",
      "              precision    recall  f1-score   support\n",
      "\n",
      "       <=50K       0.88      0.88      0.88     11091\n",
      "        >50K       0.62      0.62      0.62      3546\n",
      "\n",
      "    accuracy                           0.82     14637\n",
      "   macro avg       0.75      0.75      0.75     14637\n",
      "weighted avg       0.82      0.82      0.82     14637\n",
      "\n"
     ]
    }
   ],
   "source": [
    "# Decision Tree: http://scikit-learn.org/stable/modules/tree.html\n",
    "DT = tree.DecisionTreeClassifier() \n",
    "# Sengaja menggunakan default parameter, (Hyper)parameter Optimization akan dibahas kemudian\n",
    "DT = DT.fit(xTrain, yTrain)\n",
    "prediksi_DT = DT.predict(xTest)\n",
    "\n",
    "print(confusion_matrix(yTest, prediksi_DT))\n",
    "print(classification_report(yTest, prediksi_DT))"
   ]
  },
  {
   "cell_type": "code",
   "execution_count": 12,
   "id": "e30625e9",
   "metadata": {
    "slideshow": {
     "slide_type": "-"
    }
   },
   "outputs": [
    {
     "data": {
      "text/plain": [
       "array([1.13756529e-01, 1.90641519e-01, 1.08573280e-01, 1.06313928e-01,\n",
       "       4.04740808e-02, 6.18698758e-02, 5.26087625e-03, 4.56492643e-03,\n",
       "       0.00000000e+00, 1.11879955e-02, 4.39749685e-03, 7.46283215e-03,\n",
       "       4.45094260e-03, 1.82301347e-04, 4.31538827e-04, 9.03929451e-04,\n",
       "       5.90714077e-05, 1.00207609e-04, 7.12247432e-05, 2.24299467e-04,\n",
       "       3.51104185e-04, 1.37430811e-03, 1.94955534e-03, 4.04756046e-03,\n",
       "       6.65699082e-04, 4.51236540e-03, 1.88758567e-03, 0.00000000e+00,\n",
       "       1.03895581e-03, 2.07149917e-03, 2.99406105e-03, 0.00000000e+00,\n",
       "       1.94324141e-01, 4.43703479e-04, 1.58156557e-03, 5.82859741e-04,\n",
       "       5.85007357e-04, 4.74741557e-03, 0.00000000e+00, 8.35093222e-03,\n",
       "       9.96066612e-03, 2.93989973e-03, 2.86408566e-03, 4.26420062e-03,\n",
       "       4.58313273e-03, 4.61179003e-05, 8.26990759e-03, 2.59051905e-03,\n",
       "       6.67524721e-03, 4.55510605e-03, 6.82347377e-03, 2.61488341e-03,\n",
       "       2.42964446e-03, 7.06562694e-04, 9.80023899e-04, 1.20670795e-03,\n",
       "       5.11398320e-03, 8.73172041e-04, 2.74956875e-03, 4.86142438e-03,\n",
       "       9.34067642e-04, 5.56377469e-03, 3.03492503e-03, 4.46699579e-03,\n",
       "       2.75639183e-04, 1.48355613e-03, 6.22421670e-04, 1.03931283e-04,\n",
       "       5.47333235e-04, 0.00000000e+00, 8.41010284e-05, 2.65717949e-04,\n",
       "       6.24109799e-04, 3.40591707e-04, 4.53265938e-04, 3.88662927e-04,\n",
       "       1.19581394e-05, 8.73504986e-05, 0.00000000e+00, 0.00000000e+00,\n",
       "       0.00000000e+00, 2.65797732e-04, 6.92409903e-04, 0.00000000e+00,\n",
       "       3.90729392e-04, 5.95229992e-04, 4.35535562e-04, 6.62557740e-04,\n",
       "       0.00000000e+00, 3.59952473e-04, 5.88627331e-05, 0.00000000e+00,\n",
       "       1.03429200e-04, 6.71282416e-04, 4.36477718e-04, 1.87642241e-04,\n",
       "       2.34439375e-04, 0.00000000e+00, 3.70757214e-04, 0.00000000e+00,\n",
       "       0.00000000e+00, 2.12567147e-04, 7.05223692e-03, 7.16891925e-05,\n",
       "       3.66499147e-04])"
      ]
     },
     "execution_count": 12,
     "metadata": {},
     "output_type": "execute_result"
    }
   ],
   "source": [
    "# Varible importance - Salah satu kelebihan Decision Tree\n",
    "DT.feature_importances_"
   ]
  },
  {
   "cell_type": "code",
   "execution_count": 13,
   "id": "cd7d2063",
   "metadata": {},
   "outputs": [
    {
     "data": {
      "image/png": "[encoded data removed]",
      "text/plain": [
       "<Figure size 640x480 with 1 Axes>"
      ]
     },
     "metadata": {},
     "output_type": "display_data"
    }
   ],
   "source": [
    "# Warning cell ini butuh waktu Lama untuk selesai!... \n",
    "\n",
    "clf = tree.DecisionTreeClassifier(random_state=0)\n",
    "clf = clf.fit(xTrain, yTrain)\n",
    "p = tree.plot_tree(clf)"
   ]
  },
  {
   "cell_type": "code",
   "execution_count": 14,
   "id": "912036e4",
   "metadata": {},
   "outputs": [
    {
     "name": "stdout",
     "output_type": "stream",
     "text": [
      "Accuracy Decision Tree: 0.82 (+/- 0.01), Waktu = 5.552 detik\n"
     ]
    }
   ],
   "source": [
    "mulai = time.time()\n",
    "scores_dt = cross_val_score(DT, predictor, target, cv=10) # perhatikan sekarang kita menggunakan seluruh data\n",
    "waktu = time.time() - mulai\n",
    "print(\"Accuracy Decision Tree: %0.2f (+/- %0.2f), Waktu = %0.3f detik\" % (scores_dt.mean(), scores_dt.std() * 2, waktu))"
   ]
  },
  {
   "cell_type": "code",
   "execution_count": 15,
   "id": "0565887e",
   "metadata": {},
   "outputs": [
    {
     "data": {
      "text/plain": [
       "RegLog     0.793810\n",
       "DecTree    0.807338\n",
       "dtype: float64"
      ]
     },
     "execution_count": 15,
     "metadata": {},
     "output_type": "execute_result"
    },
    {
     "data": {
      "image/png": "[encoded data removed]",
      "text/plain": [
       "<Figure size 640x480 with 1 Axes>"
      ]
     },
     "metadata": {},
     "output_type": "display_data"
    }
   ],
   "source": [
    "# Visualisasi untuk mengevaluasi & membandingkan model dengan lebih baik lagi\n",
    "df_ = pd.DataFrame({'RegLog': scores_regLog, \"DecTree\":scores_dt})\n",
    "p = sns.boxplot(data = df_)\n",
    "df_.min()"
   ]
  },
  {
   "cell_type": "markdown",
   "id": "4b3c3a21",
   "metadata": {
    "slideshow": {
     "slide_type": "slide"
    }
   },
   "source": [
    "# <center><font color=\"blue\">Hyperparameter Optimization</font></center>\n",
    "\n",
    "<ul>\n",
    "<li>Misal akan dicontohkan dua algoritma (model) yang sudah kita bahas sebelumnya: k-NN dan SVM</li>\n",
    "<li>Sebagai latihan silahkan untuk mencoba HO pada model yang lain.</li>\n",
    "<li>Parameter tiap model di ML berbeda-beda dan nilai optimalnya berbeda pada setiap kasus.</li>\n",
    "</ul>\n",
    "<p><img src=\"images/rand_grid_search.png\" alt=\"\" width=\"811\" height=\"406\" /></p>"
   ]
  },
  {
   "cell_type": "code",
   "execution_count": 16,
   "id": "107f5c08",
   "metadata": {},
   "outputs": [
    {
     "name": "stdout",
     "output_type": "stream",
     "text": [
      "Requirement already satisfied: graphviz in c:\\users\\taufi\\anaconda\\envs\\teaching\\lib\\site-packages (0.20.1)\n"
     ]
    }
   ],
   "source": [
    "!pip install graphviz"
   ]
  },
  {
   "cell_type": "code",
   "execution_count": 17,
   "id": "a4c912f0",
   "metadata": {},
   "outputs": [
    {
     "data": {
      "image/svg+xml": [
       "<?xml version=\"1.0\" encoding=\"UTF-8\" standalone=\"no\"?>\n",
       "<!DOCTYPE svg PUBLIC \"-//W3C//DTD SVG 1.1//EN\"\n",
       " \"http://www.w3.org/Graphics/SVG/1.1/DTD/svg11.dtd\">\n",
       "<!-- Generated by graphviz version 2.50.0 (0)\n",
       " -->\n",
       "<!-- Title: Tree Pages: 1 -->\n",
       "<svg width=\"542pt\" height=\"433pt\"\n",
       " viewBox=\"0.00 0.00 542.00 433.00\" xmlns=\"http://www.w3.org/2000/svg\" xmlns:xlink=\"http://www.w3.org/1999/xlink\">\n",
       "<g id=\"graph0\" class=\"graph\" transform=\"scale(1 1) rotate(0) translate(4 429)\">\n",
       "<title>Tree</title>\n",
       "<polygon fill=\"white\" stroke=\"transparent\" points=\"-4,4 -4,-429 538,-429 538,4 -4,4\"/>\n",
       "<!-- 0 -->\n",
       "<g id=\"node1\" class=\"node\">\n",
       "<title>0</title>\n",
       "<path fill=\"#ffffff\" stroke=\"black\" d=\"M254.5,-425C254.5,-425 146.5,-425 146.5,-425 140.5,-425 134.5,-419 134.5,-413 134.5,-413 134.5,-354 134.5,-354 134.5,-348 140.5,-342 146.5,-342 146.5,-342 254.5,-342 254.5,-342 260.5,-342 266.5,-348 266.5,-354 266.5,-354 266.5,-413 266.5,-413 266.5,-419 260.5,-425 254.5,-425\"/>\n",
       "<text text-anchor=\"start\" x=\"149\" y=\"-409.8\" font-family=\"Helvetica,sans-Serif\" font-size=\"14.00\">petal_width ≤ 0.8</text>\n",
       "<text text-anchor=\"start\" x=\"153\" y=\"-394.8\" font-family=\"Helvetica,sans-Serif\" font-size=\"14.00\">entropy = 1.585</text>\n",
       "<text text-anchor=\"start\" x=\"155.5\" y=\"-379.8\" font-family=\"Helvetica,sans-Serif\" font-size=\"14.00\">samples = 150</text>\n",
       "<text text-anchor=\"start\" x=\"142.5\" y=\"-364.8\" font-family=\"Helvetica,sans-Serif\" font-size=\"14.00\">value = [50, 50, 50]</text>\n",
       "<text text-anchor=\"start\" x=\"156\" y=\"-349.8\" font-family=\"Helvetica,sans-Serif\" font-size=\"14.00\">class = Setosa</text>\n",
       "</g>\n",
       "<!-- 1 -->\n",
       "<g id=\"node2\" class=\"node\">\n",
       "<title>1</title>\n",
       "<path fill=\"#e58139\" stroke=\"black\" d=\"M177,-298.5C177,-298.5 84,-298.5 84,-298.5 78,-298.5 72,-292.5 72,-286.5 72,-286.5 72,-242.5 72,-242.5 72,-236.5 78,-230.5 84,-230.5 84,-230.5 177,-230.5 177,-230.5 183,-230.5 189,-236.5 189,-242.5 189,-242.5 189,-286.5 189,-286.5 189,-292.5 183,-298.5 177,-298.5\"/>\n",
       "<text text-anchor=\"start\" x=\"90.5\" y=\"-283.3\" font-family=\"Helvetica,sans-Serif\" font-size=\"14.00\">entropy = 0.0</text>\n",
       "<text text-anchor=\"start\" x=\"89.5\" y=\"-268.3\" font-family=\"Helvetica,sans-Serif\" font-size=\"14.00\">samples = 50</text>\n",
       "<text text-anchor=\"start\" x=\"80\" y=\"-253.3\" font-family=\"Helvetica,sans-Serif\" font-size=\"14.00\">value = [50, 0, 0]</text>\n",
       "<text text-anchor=\"start\" x=\"86\" y=\"-238.3\" font-family=\"Helvetica,sans-Serif\" font-size=\"14.00\">class = Setosa</text>\n",
       "</g>\n",
       "<!-- 0&#45;&gt;1 -->\n",
       "<g id=\"edge1\" class=\"edge\">\n",
       "<title>0&#45;&gt;1</title>\n",
       "<path fill=\"none\" stroke=\"black\" d=\"M176.21,-341.91C169.55,-330.76 162.3,-318.66 155.59,-307.44\"/>\n",
       "<polygon fill=\"black\" stroke=\"black\" points=\"158.48,-305.45 150.34,-298.67 152.47,-309.05 158.48,-305.45\"/>\n",
       "<text text-anchor=\"middle\" x=\"144.25\" y=\"-319.21\" font-family=\"Helvetica,sans-Serif\" font-size=\"14.00\">True</text>\n",
       "</g>\n",
       "<!-- 2 -->\n",
       "<g id=\"node3\" class=\"node\">\n",
       "<title>2</title>\n",
       "<path fill=\"#ffffff\" stroke=\"black\" d=\"M321.5,-306C321.5,-306 219.5,-306 219.5,-306 213.5,-306 207.5,-300 207.5,-294 207.5,-294 207.5,-235 207.5,-235 207.5,-229 213.5,-223 219.5,-223 219.5,-223 321.5,-223 321.5,-223 327.5,-223 333.5,-229 333.5,-235 333.5,-235 333.5,-294 333.5,-294 333.5,-300 327.5,-306 321.5,-306\"/>\n",
       "<text text-anchor=\"start\" x=\"215.5\" y=\"-290.8\" font-family=\"Helvetica,sans-Serif\" font-size=\"14.00\">petal_width ≤ 1.75</text>\n",
       "<text text-anchor=\"start\" x=\"230.5\" y=\"-275.8\" font-family=\"Helvetica,sans-Serif\" font-size=\"14.00\">entropy = 1.0</text>\n",
       "<text text-anchor=\"start\" x=\"225.5\" y=\"-260.8\" font-family=\"Helvetica,sans-Serif\" font-size=\"14.00\">samples = 100</text>\n",
       "<text text-anchor=\"start\" x=\"216\" y=\"-245.8\" font-family=\"Helvetica,sans-Serif\" font-size=\"14.00\">value = [0, 50, 50]</text>\n",
       "<text text-anchor=\"start\" x=\"216\" y=\"-230.8\" font-family=\"Helvetica,sans-Serif\" font-size=\"14.00\">class = VersiColor</text>\n",
       "</g>\n",
       "<!-- 0&#45;&gt;2 -->\n",
       "<g id=\"edge2\" class=\"edge\">\n",
       "<title>0&#45;&gt;2</title>\n",
       "<path fill=\"none\" stroke=\"black\" d=\"M224.79,-341.91C230.05,-333.1 235.68,-323.7 241.12,-314.61\"/>\n",
       "<polygon fill=\"black\" stroke=\"black\" points=\"244.13,-316.4 246.26,-306.02 238.12,-312.81 244.13,-316.4\"/>\n",
       "<text text-anchor=\"middle\" x=\"252.35\" y=\"-326.57\" font-family=\"Helvetica,sans-Serif\" font-size=\"14.00\">False</text>\n",
       "</g>\n",
       "<!-- 3 -->\n",
       "<g id=\"node4\" class=\"node\">\n",
       "<title>3</title>\n",
       "<path fill=\"#4de88e\" stroke=\"black\" d=\"M250,-187C250,-187 143,-187 143,-187 137,-187 131,-181 131,-175 131,-175 131,-116 131,-116 131,-110 137,-104 143,-104 143,-104 250,-104 250,-104 256,-104 262,-110 262,-116 262,-116 262,-175 262,-175 262,-181 256,-187 250,-187\"/>\n",
       "<text text-anchor=\"start\" x=\"139\" y=\"-171.8\" font-family=\"Helvetica,sans-Serif\" font-size=\"14.00\">petal_length ≤ 4.95</text>\n",
       "<text text-anchor=\"start\" x=\"149\" y=\"-156.8\" font-family=\"Helvetica,sans-Serif\" font-size=\"14.00\">entropy = 0.445</text>\n",
       "<text text-anchor=\"start\" x=\"155.5\" y=\"-141.8\" font-family=\"Helvetica,sans-Serif\" font-size=\"14.00\">samples = 54</text>\n",
       "<text text-anchor=\"start\" x=\"146\" y=\"-126.8\" font-family=\"Helvetica,sans-Serif\" font-size=\"14.00\">value = [0, 49, 5]</text>\n",
       "<text text-anchor=\"start\" x=\"142\" y=\"-111.8\" font-family=\"Helvetica,sans-Serif\" font-size=\"14.00\">class = VersiColor</text>\n",
       "</g>\n",
       "<!-- 2&#45;&gt;3 -->\n",
       "<g id=\"edge3\" class=\"edge\">\n",
       "<title>2&#45;&gt;3</title>\n",
       "<path fill=\"none\" stroke=\"black\" d=\"M244.83,-222.91C239.26,-214.1 233.31,-204.7 227.56,-195.61\"/>\n",
       "<polygon fill=\"black\" stroke=\"black\" points=\"230.43,-193.6 222.13,-187.02 224.52,-197.34 230.43,-193.6\"/>\n",
       "</g>\n",
       "<!-- 6 -->\n",
       "<g id=\"node7\" class=\"node\">\n",
       "<title>6</title>\n",
       "<path fill=\"#843de6\" stroke=\"black\" d=\"M399,-187C399,-187 292,-187 292,-187 286,-187 280,-181 280,-175 280,-175 280,-116 280,-116 280,-110 286,-104 292,-104 292,-104 399,-104 399,-104 405,-104 411,-110 411,-116 411,-116 411,-175 411,-175 411,-181 405,-187 399,-187\"/>\n",
       "<text text-anchor=\"start\" x=\"288\" y=\"-171.8\" font-family=\"Helvetica,sans-Serif\" font-size=\"14.00\">petal_length ≤ 4.85</text>\n",
       "<text text-anchor=\"start\" x=\"298\" y=\"-156.8\" font-family=\"Helvetica,sans-Serif\" font-size=\"14.00\">entropy = 0.151</text>\n",
       "<text text-anchor=\"start\" x=\"304.5\" y=\"-141.8\" font-family=\"Helvetica,sans-Serif\" font-size=\"14.00\">samples = 46</text>\n",
       "<text text-anchor=\"start\" x=\"295\" y=\"-126.8\" font-family=\"Helvetica,sans-Serif\" font-size=\"14.00\">value = [0, 1, 45]</text>\n",
       "<text text-anchor=\"start\" x=\"296\" y=\"-111.8\" font-family=\"Helvetica,sans-Serif\" font-size=\"14.00\">class = Virginica</text>\n",
       "</g>\n",
       "<!-- 2&#45;&gt;6 -->\n",
       "<g id=\"edge6\" class=\"edge\">\n",
       "<title>2&#45;&gt;6</title>\n",
       "<path fill=\"none\" stroke=\"black\" d=\"M296.52,-222.91C302.16,-214.1 308.19,-204.7 314.02,-195.61\"/>\n",
       "<polygon fill=\"black\" stroke=\"black\" points=\"317.07,-197.33 319.53,-187.02 311.18,-193.55 317.07,-197.33\"/>\n",
       "</g>\n",
       "<!-- 4 -->\n",
       "<g id=\"node5\" class=\"node\">\n",
       "<title>4</title>\n",
       "<path fill=\"#3de684\" stroke=\"black\" d=\"M113,-68C113,-68 12,-68 12,-68 6,-68 0,-62 0,-56 0,-56 0,-12 0,-12 0,-6 6,0 12,0 12,0 113,0 113,0 119,0 125,-6 125,-12 125,-12 125,-56 125,-56 125,-62 119,-68 113,-68\"/>\n",
       "<text text-anchor=\"start\" x=\"15\" y=\"-52.8\" font-family=\"Helvetica,sans-Serif\" font-size=\"14.00\">entropy = 0.146</text>\n",
       "<text text-anchor=\"start\" x=\"21.5\" y=\"-37.8\" font-family=\"Helvetica,sans-Serif\" font-size=\"14.00\">samples = 48</text>\n",
       "<text text-anchor=\"start\" x=\"12\" y=\"-22.8\" font-family=\"Helvetica,sans-Serif\" font-size=\"14.00\">value = [0, 47, 1]</text>\n",
       "<text text-anchor=\"start\" x=\"8\" y=\"-7.8\" font-family=\"Helvetica,sans-Serif\" font-size=\"14.00\">class = VersiColor</text>\n",
       "</g>\n",
       "<!-- 3&#45;&gt;4 -->\n",
       "<g id=\"edge4\" class=\"edge\">\n",
       "<title>3&#45;&gt;4</title>\n",
       "<path fill=\"none\" stroke=\"black\" d=\"M146.6,-103.73C135,-94.24 122.65,-84.16 111.1,-74.72\"/>\n",
       "<polygon fill=\"black\" stroke=\"black\" points=\"113.21,-71.92 103.25,-68.3 108.78,-77.34 113.21,-71.92\"/>\n",
       "</g>\n",
       "<!-- 5 -->\n",
       "<g id=\"node6\" class=\"node\">\n",
       "<title>5</title>\n",
       "<path fill=\"#c09cf2\" stroke=\"black\" d=\"M246,-68C246,-68 155,-68 155,-68 149,-68 143,-62 143,-56 143,-56 143,-12 143,-12 143,-6 149,0 155,0 155,0 246,0 246,0 252,0 258,-6 258,-12 258,-12 258,-56 258,-56 258,-62 252,-68 246,-68\"/>\n",
       "<text text-anchor=\"start\" x=\"153\" y=\"-52.8\" font-family=\"Helvetica,sans-Serif\" font-size=\"14.00\">entropy = 0.918</text>\n",
       "<text text-anchor=\"start\" x=\"163\" y=\"-37.8\" font-family=\"Helvetica,sans-Serif\" font-size=\"14.00\">samples = 6</text>\n",
       "<text text-anchor=\"start\" x=\"153.5\" y=\"-22.8\" font-family=\"Helvetica,sans-Serif\" font-size=\"14.00\">value = [0, 2, 4]</text>\n",
       "<text text-anchor=\"start\" x=\"151\" y=\"-7.8\" font-family=\"Helvetica,sans-Serif\" font-size=\"14.00\">class = Virginica</text>\n",
       "</g>\n",
       "<!-- 3&#45;&gt;5 -->\n",
       "<g id=\"edge5\" class=\"edge\">\n",
       "<title>3&#45;&gt;5</title>\n",
       "<path fill=\"none\" stroke=\"black\" d=\"M197.99,-103.73C198.29,-95.52 198.61,-86.86 198.91,-78.56\"/>\n",
       "<polygon fill=\"black\" stroke=\"black\" points=\"202.42,-78.42 199.28,-68.3 195.42,-78.17 202.42,-78.42\"/>\n",
       "</g>\n",
       "<!-- 7 -->\n",
       "<g id=\"node8\" class=\"node\">\n",
       "<title>7</title>\n",
       "<path fill=\"#c09cf2\" stroke=\"black\" d=\"M387,-68C387,-68 296,-68 296,-68 290,-68 284,-62 284,-56 284,-56 284,-12 284,-12 284,-6 290,0 296,0 296,0 387,0 387,0 393,0 399,-6 399,-12 399,-12 399,-56 399,-56 399,-62 393,-68 387,-68\"/>\n",
       "<text text-anchor=\"start\" x=\"294\" y=\"-52.8\" font-family=\"Helvetica,sans-Serif\" font-size=\"14.00\">entropy = 0.918</text>\n",
       "<text text-anchor=\"start\" x=\"304\" y=\"-37.8\" font-family=\"Helvetica,sans-Serif\" font-size=\"14.00\">samples = 3</text>\n",
       "<text text-anchor=\"start\" x=\"294.5\" y=\"-22.8\" font-family=\"Helvetica,sans-Serif\" font-size=\"14.00\">value = [0, 1, 2]</text>\n",
       "<text text-anchor=\"start\" x=\"292\" y=\"-7.8\" font-family=\"Helvetica,sans-Serif\" font-size=\"14.00\">class = Virginica</text>\n",
       "</g>\n",
       "<!-- 6&#45;&gt;7 -->\n",
       "<g id=\"edge7\" class=\"edge\">\n",
       "<title>6&#45;&gt;7</title>\n",
       "<path fill=\"none\" stroke=\"black\" d=\"M344.01,-103.73C343.71,-95.52 343.39,-86.86 343.09,-78.56\"/>\n",
       "<polygon fill=\"black\" stroke=\"black\" points=\"346.58,-78.17 342.72,-68.3 339.58,-78.42 346.58,-78.17\"/>\n",
       "</g>\n",
       "<!-- 8 -->\n",
       "<g id=\"node9\" class=\"node\">\n",
       "<title>8</title>\n",
       "<path fill=\"#8139e5\" stroke=\"black\" d=\"M522,-68C522,-68 429,-68 429,-68 423,-68 417,-62 417,-56 417,-56 417,-12 417,-12 417,-6 423,0 429,0 429,0 522,0 522,0 528,0 534,-6 534,-12 534,-12 534,-56 534,-56 534,-62 528,-68 522,-68\"/>\n",
       "<text text-anchor=\"start\" x=\"435.5\" y=\"-52.8\" font-family=\"Helvetica,sans-Serif\" font-size=\"14.00\">entropy = 0.0</text>\n",
       "<text text-anchor=\"start\" x=\"434.5\" y=\"-37.8\" font-family=\"Helvetica,sans-Serif\" font-size=\"14.00\">samples = 43</text>\n",
       "<text text-anchor=\"start\" x=\"425\" y=\"-22.8\" font-family=\"Helvetica,sans-Serif\" font-size=\"14.00\">value = [0, 0, 43]</text>\n",
       "<text text-anchor=\"start\" x=\"426\" y=\"-7.8\" font-family=\"Helvetica,sans-Serif\" font-size=\"14.00\">class = Virginica</text>\n",
       "</g>\n",
       "<!-- 6&#45;&gt;8 -->\n",
       "<g id=\"edge8\" class=\"edge\">\n",
       "<title>6&#45;&gt;8</title>\n",
       "<path fill=\"none\" stroke=\"black\" d=\"M393.91,-103.73C405.06,-94.33 416.91,-84.35 428.03,-74.99\"/>\n",
       "<polygon fill=\"black\" stroke=\"black\" points=\"430.57,-77.42 435.97,-68.3 426.06,-72.06 430.57,-77.42\"/>\n",
       "</g>\n",
       "</g>\n",
       "</svg>\n"
      ],
      "text/plain": [
       "<graphviz.sources.Source at 0x1d2864122c0>"
      ]
     },
     "execution_count": 17,
     "metadata": {},
     "output_type": "execute_result"
    }
   ],
   "source": [
    "import graphviz\n",
    "dt_model = tree.DecisionTreeClassifier(criterion='entropy', max_depth=3, random_state=0) # Default Gini\n",
    "dt = dt_model.fit(X, y)\n",
    "\n",
    "dot_data = tree.export_graphviz(dt, out_file=None) \n",
    "graph = graphviz.Source(dot_data) \n",
    "graph.render(\"iris\") \n",
    "var_names = ['sepal_length','sepal_width','petal_length','petal_width']\n",
    "categories = ['Setosa', 'VersiColor', 'Virginica']\n",
    "dot_data = tree.export_graphviz(dt, out_file=None, \n",
    "                         feature_names = var_names,  \n",
    "                         class_names=categories,  \n",
    "                         filled=True, rounded=True,  \n",
    "                         special_characters=True)  \n",
    "graph = graphviz.Source(dot_data)  \n",
    "graph "
   ]
  },
  {
   "cell_type": "markdown",
   "id": "a1e12b67",
   "metadata": {
    "slideshow": {
     "slide_type": "slide"
    }
   },
   "source": [
    "<img alt=\"\" src=\"images/grid_search_workflow.png\" />"
   ]
  },
  {
   "cell_type": "markdown",
   "id": "295790c7",
   "metadata": {},
   "source": [
    "# <center><font color=\"blue\">Parameter Space</font></center>\n",
    "\n",
    "### Mudahnya lihat di dokumentasi: https://scikit-learn.org/stable/modules/generated/sklearn.linear_model.LogisticRegression.html"
   ]
  },
  {
   "cell_type": "code",
   "execution_count": 18,
   "id": "4160e20f",
   "metadata": {},
   "outputs": [
    {
     "name": "stdout",
     "output_type": "stream",
     "text": [
      "['logisticregression', 'logisticregression__C', 'logisticregression__class_weight', 'logisticregression__dual', 'logisticregression__fit_intercept', 'logisticregression__intercept_scaling', 'logisticregression__l1_ratio', 'logisticregression__max_iter', 'logisticregression__multi_class', 'logisticregression__n_jobs', 'logisticregression__penalty', 'logisticregression__random_state', 'logisticregression__solver', 'logisticregression__tol', 'logisticregression__verbose', 'logisticregression__warm_start', 'memory', 'steps', 'verbose']\n"
     ]
    }
   ],
   "source": [
    "# Atau secara programmatic\n",
    "from sklearn.pipeline import make_pipeline \n",
    "from sklearn import linear_model #import LogisticRegression\n",
    "\n",
    "pipeSVM = make_pipeline(linear_model.LogisticRegression())\n",
    "print(sorted(pipeSVM.get_params().keys()))"
   ]
  },
  {
   "cell_type": "code",
   "execution_count": 19,
   "id": "1a8268c9",
   "metadata": {
    "slideshow": {
     "slide_type": "slide"
    }
   },
   "outputs": [
    {
     "name": "stdout",
     "output_type": "stream",
     "text": [
      "Fitting 5 folds for each of 17 candidates, totalling 85 fits\n",
      "0.8522530715948502\n",
      "{'solver': 'newton-cg'}\n"
     ]
    }
   ],
   "source": [
    "# Hyperparameter optimization pada model Regresi Logistik menggunakan gridCV\n",
    "from sklearn.model_selection import GridSearchCV\n",
    "from sklearn.linear_model import LogisticRegression\n",
    "\n",
    "parameters = [{'solver': ['newton-cg', 'lbfgs', 'liblinear', 'sag', 'saga']},\n",
    "              {'penalty':['none', 'elasticnet', 'l1', 'l2']},\n",
    "              {'C':[0.001, 0.01, 0.1, 1, 10, 100]},\n",
    "             {'class_weight':[None, 'balanced']}]\n",
    "\n",
    "grid_search = GridSearchCV(estimator = LogisticRegression(),  \n",
    "                           param_grid = parameters,\n",
    "                           scoring = 'accuracy',\n",
    "                           cv = 5,\n",
    "                           verbose=1)\n",
    "\n",
    "grid_search.fit(xTrain, yTrain)\n",
    "print(grid_search.best_score_)\n",
    "print(grid_search.best_params_)"
   ]
  },
  {
   "cell_type": "code",
   "execution_count": 20,
   "id": "9c186988",
   "metadata": {
    "slideshow": {
     "slide_type": "slide"
    }
   },
   "outputs": [
    {
     "name": "stdout",
     "output_type": "stream",
     "text": [
      "['decisiontreeclassifier', 'decisiontreeclassifier__ccp_alpha', 'decisiontreeclassifier__class_weight', 'decisiontreeclassifier__criterion', 'decisiontreeclassifier__max_depth', 'decisiontreeclassifier__max_features', 'decisiontreeclassifier__max_leaf_nodes', 'decisiontreeclassifier__min_impurity_decrease', 'decisiontreeclassifier__min_samples_leaf', 'decisiontreeclassifier__min_samples_split', 'decisiontreeclassifier__min_weight_fraction_leaf', 'decisiontreeclassifier__random_state', 'decisiontreeclassifier__splitter', 'memory', 'steps', 'verbose']\n"
     ]
    }
   ],
   "source": [
    "# Contoh Hyperparameter optimization pada model SVM menggunakan RandomizedSearchCV\n",
    "# https://scikit-learn.org/stable/modules/generated/sklearn.svm.SVC.html\n",
    "# Berikut ini contoh bagaimana mengetahui parameter yang dapat kita optimasi.\n",
    "# Gunakan pengetahuan teori/analitik untuk mengoptimasi hanya parameter yang paling penting.\n",
    "pipeDT = make_pipeline(tree.DecisionTreeClassifier())\n",
    "print(sorted(pipeDT.get_params().keys()))"
   ]
  },
  {
   "cell_type": "code",
   "execution_count": 21,
   "id": "8a2f6a6e",
   "metadata": {
    "scrolled": false
   },
   "outputs": [
    {
     "name": "stdout",
     "output_type": "stream",
     "text": [
      "0.8571134202666977\n",
      "{'max_depth': 10, 'criterion': 'entropy'}\n"
     ]
    }
   ],
   "source": [
    "# Optimal parameter Desion Tree\n",
    "from sklearn.tree import DecisionTreeClassifier\n",
    "from sklearn.model_selection import RandomizedSearchCV\n",
    "\n",
    "param_grid = { 'criterion':['gini','entropy'],'max_depth': np.arange(3, 15)}\n",
    "dtree_model=DecisionTreeClassifier()\n",
    "dtree_gscv = RandomizedSearchCV(dtree_model, param_grid, cv=10)\n",
    "dtree_gscv.fit(xTrain, yTrain)\n",
    "\n",
    "print(dtree_gscv.best_score_)\n",
    "print(dtree_gscv.best_params_)"
   ]
  },
  {
   "cell_type": "markdown",
   "id": "1b9a882e",
   "metadata": {
    "slideshow": {
     "slide_type": "slide"
    }
   },
   "source": [
    "# Model Selection\n",
    "\n",
    "<img alt=\"\" src=\"images/model_selection.png\" />"
   ]
  },
  {
   "cell_type": "code",
   "execution_count": 22,
   "id": "bed7b09a",
   "metadata": {
    "slideshow": {
     "slide_type": "slide"
    }
   },
   "outputs": [
    {
     "name": "stdout",
     "output_type": "stream",
     "text": [
      "Accuracy RL: 0.85 (+/- 0.00)\n",
      "Accuracy DT: 0.86 (+/- 0.00)\n"
     ]
    },
    {
     "data": {
      "image/png": "[encoded data removed]",
      "text/plain": [
       "<Figure size 800x600 with 1 Axes>"
      ]
     },
     "metadata": {},
     "output_type": "display_data"
    }
   ],
   "source": [
    "kCV = 5 # Aslinya usahakan 10, idealnya 30 ... mengapa?\n",
    "# Menggunakan parameter optimal\n",
    "RL_opt = LogisticRegression(solver= 'newton-cg')\n",
    "DT_opt = tree.DecisionTreeClassifier(criterion='entropy', max_depth=10, random_state=0)\n",
    "\n",
    "# Melakukan Cross Validasi\n",
    "models = ['RL', 'DT']\n",
    "RL_score = cross_val_score(RL_opt, predictor, target, cv=kCV, scoring='accuracy', n_jobs=-2, verbose=0)\n",
    "DT_score = cross_val_score(DT_opt, predictor, target, cv=kCV, scoring='accuracy', n_jobs=-2, verbose=0)\n",
    "scores = [RL_score, DT_score]\n",
    "\n",
    "data = {m:s for m,s in zip(models, scores)}\n",
    "for name in data.keys():\n",
    "    print(\"Accuracy %s: %0.2f (+/- %0.2f)\" % (name, data[name].mean(), data[name].std() * 2))\n",
    "\n",
    "fig, ax = plt.subplots(1, 1, figsize=(8, 6))\n",
    "p = sns.boxplot(data=pd.DataFrame(data), ax=ax)"
   ]
  },
  {
   "cell_type": "markdown",
   "id": "23d849f3",
   "metadata": {},
   "source": [
    "# <center><font color=\"blue\">Seberapa Baik Hasil Diatas?</font></center>\n",
    "\n",
    "\n",
    "## http://archive.ics.uci.edu/dataset/2/adult"
   ]
  },
  {
   "cell_type": "markdown",
   "id": "2c55301a",
   "metadata": {},
   "source": [
    "<center><h1><strong><font color=\"red\">Latihan</font></strong></h1></center>\n",
    "\n",
    "*  Lakukan Klasifikasi dan analisa/interpretasinya pada data berikut: http://archive.ics.uci.edu/dataset/34/diabetes"
   ]
  }
 ],
 "metadata": {
  "hide_input": false,
  "kernelspec": {
   "display_name": "Python 3 (ipykernel)",
   "language": "python",
   "name": "python3"
  },
  "language_info": {
   "codemirror_mode": {
    "name": "ipython",
    "version": 3
   },
   "file_extension": ".py",
   "mimetype": "text/x-python",
   "name": "python",
   "nbconvert_exporter": "python",
   "pygments_lexer": "ipython3",
   "version": "3.10.13"
  },
  "vp": {
   "vp_config_version": "1.0.0",
   "vp_menu_width": 273,
   "vp_note_display": false,
   "vp_note_width": 0,
   "vp_position": {
    "width": 278
   },
   "vp_section_display": true,
   "vp_signature": "VisualPython"
  }
 },
 "nbformat": 4,
 "nbformat_minor": 5
}
