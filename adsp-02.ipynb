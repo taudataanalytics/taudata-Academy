{
 "cells": [
  {
   "cell_type": "markdown",
   "metadata": {
    "slideshow": {
     "slide_type": "slide"
    }
   },
   "source": [
    "<center><img alt=\"\" src=\"images/tau-data_banner.png\"/></center>\n",
    "<center><h3>https://tau-data.id</h3></center>\n",
    "<center><strong><h1>ADSP-02: Pendahuluan Python untuk Data Science - Bagian Ke-02</h1></strong><br />\n",
    "<img alt=\"\" src=\"images/PDS_logo.jpg\" />\n",
    "<center>\n",
    "<h2>(C)Taufik Sutanto</h2>\n",
    "<h2>https://tau-data.id/adsp-02</h2>\n",
    "</center>"
   ]
  },
  {
   "cell_type": "markdown",
   "metadata": {
    "slideshow": {
     "slide_type": "slide"
    }
   },
   "source": [
    "<h1 id=\"Outline-Unit-V:\"><font color=\"blue\">Outline Unit V:</font></h1>\n",
    "\n",
    "* Deeper with print function\n",
    "* Reference to variable(s)\n",
    "* Zipping list\n",
    "* Function"
   ]
  },
  {
   "cell_type": "markdown",
   "metadata": {
    "slideshow": {
     "slide_type": "slide"
    }
   },
   "source": [
    "# Bentuk Umum Print Function\n",
    "\n",
    "* print(value1, value2, value3, ..., sep=' ', end='\\n', file=sys.stdout, flush=False)\n",
    "* value = any Python data type\n",
    "* Reference: https://docs.python.org/3/library/functions.html#print"
   ]
  },
  {
   "cell_type": "code",
   "execution_count": 1,
   "metadata": {
    "slideshow": {
     "slide_type": "slide"
    }
   },
   "outputs": [
    {
     "name": "stdout",
     "output_type": "stream",
     "text": [
      "Banyaknya kategori = 7\n",
      " dengan akurasi = 89.235\tData = 'klasifikasi Kanker'\n"
     ]
    }
   ],
   "source": [
    "# OLD Python method\n",
    "nK = 7\n",
    "aK = 89.234532\n",
    "dt = 'klasifikasi Kanker'\n",
    "print(\"Banyaknya kategori = %d\\n dengan akurasi = %.3f\\tData = '%s'\" %(nK,aK,dt))\n",
    "\n",
    "# \\n ==> ganti baris .... \\t = Tabulasi\n",
    "# hati-hati sebelum \"%(\" hanya spasi (bukan koma atau titik)\n",
    "# %d = digit = integer\n",
    "# %f = float ... .XYZf ===> banyak digit di belakang koma = xyz\n",
    "# %s = string "
   ]
  },
  {
   "cell_type": "code",
   "execution_count": 2,
   "metadata": {
    "slideshow": {
     "slide_type": "slide"
    }
   },
   "outputs": [
    {
     "name": "stdout",
     "output_type": "stream",
     "text": [
      "Banyaknya kategori = 7\n",
      " dengan akurasi = 89.234532\tData = 'klasifikasi Kanker'\n"
     ]
    }
   ],
   "source": [
    "# New Python method\n",
    "nK = 7\n",
    "aK = 89.234532\n",
    "dt = 'klasifikasi Kanker'\n",
    "print(\"Banyaknya kategori = {}\\n dengan akurasi = {}\\tData = '{}'\".format(nK,aK,dt))\n",
    "# perintah \".format()\" pemisahnya titik"
   ]
  },
  {
   "cell_type": "code",
   "execution_count": 3,
   "metadata": {
    "slideshow": {
     "slide_type": "fragment"
    }
   },
   "outputs": [
    {
     "name": "stdout",
     "output_type": "stream",
     "text": [
      "Banyaknya kategori = 7\n",
      " dengan akurasi = 89.23\n",
      "Data = 'klasifikasi Kanker'\n"
     ]
    }
   ],
   "source": [
    "# Cara memformat Floating point dengan syntax baru ini\n",
    "print(\"Banyaknya kategori = {}\\n dengan akurasi = {:.2f}\\nData = '{}'\".format(nK,aK,dt))\n",
    "# Hati-hati agak beda dengan syntax lama untuk float ... sekarang ada tanda \":\""
   ]
  },
  {
   "cell_type": "code",
   "execution_count": 4,
   "metadata": {
    "slideshow": {
     "slide_type": "slide"
    }
   },
   "outputs": [
    {
     "name": "stdout",
     "output_type": "stream",
     "text": [
      "c=xyz lalu a=3, kemudian b=4.5\n"
     ]
    }
   ],
   "source": [
    "# Bisa Juga tidak terurut\n",
    "a, b, c = 3, 4.5, 'xyz' # new way of initialization\n",
    "print('c={2} lalu a={0}, kemudian b={1}'.format(a,b,c))"
   ]
  },
  {
   "cell_type": "code",
   "execution_count": 5,
   "metadata": {
    "slideshow": {
     "slide_type": "fragment"
    }
   },
   "outputs": [
    {
     "name": "stdout",
     "output_type": "stream",
     "text": [
      "3:4.5:xyz\n"
     ]
    }
   ],
   "source": [
    "# Di Python print function kita juga bisa menspesifikasi bagaimana antar variabel dipisahkan\n",
    "print(a,b,c,sep=':')"
   ]
  },
  {
   "cell_type": "code",
   "execution_count": 6,
   "metadata": {
    "slideshow": {
     "slide_type": "slide"
    }
   },
   "outputs": [
    {
     "name": "stdout",
     "output_type": "stream",
     "text": [
      "3\n",
      "4.5\n",
      "xyz\n"
     ]
    }
   ],
   "source": [
    "# by default setiap memanggil fungsi print Python akan pindah baris\n",
    "print(a)\n",
    "print(b)\n",
    "print(c)"
   ]
  },
  {
   "cell_type": "code",
   "execution_count": 7,
   "metadata": {
    "slideshow": {
     "slide_type": "fragment"
    }
   },
   "outputs": [
    {
     "name": "stdout",
     "output_type": "stream",
     "text": [
      "3, 4.5, xyz."
     ]
    }
   ],
   "source": [
    "# Namun bisa dirubah\n",
    "print(a, end=', ')\n",
    "print(b, end=', ')\n",
    "print(c, end='.')"
   ]
  },
  {
   "cell_type": "markdown",
   "metadata": {
    "slideshow": {
     "slide_type": "slide"
    }
   },
   "source": [
    "# Python - Buffer -Flush\n",
    "\n",
    "* Saat menjalankan proses Data Science yang cukup kompleks di Python, output print masuk ke dalam buffer dan TIDAK langsung ditampilkan.\n",
    "* Untuk memaksa print langsung ditampilkan maka parameter \"flush\" harus digunakan (default = False)\n",
    "* Contoh:"
   ]
  },
  {
   "cell_type": "code",
   "execution_count": 8,
   "metadata": {
    "slideshow": {
     "slide_type": "fragment"
    }
   },
   "outputs": [
    {
     "name": "stdout",
     "output_type": "stream",
     "text": [
      "*****"
     ]
    }
   ],
   "source": [
    "from time import sleep\n",
    "\n",
    "for n in range(0,5):\n",
    "    print(\"*\",end='', flush = True)\n",
    "    sleep(1.0)"
   ]
  },
  {
   "cell_type": "markdown",
   "metadata": {
    "slideshow": {
     "slide_type": "slide"
    }
   },
   "source": [
    "# Print to File in Python"
   ]
  },
  {
   "cell_type": "code",
   "execution_count": 9,
   "metadata": {
    "slideshow": {
     "slide_type": "fragment"
    }
   },
   "outputs": [],
   "source": [
    "f = open(\"Output_Python.txt\",\"w\") # W = write new file, a='append existing file, new file if file does not exist'\n",
    "print(\"ini output pertama\", file=f)\n",
    "f.close() # kalau tidak di close, maka bagaikan file Doc yg sedang dibuka microsoft word\n",
    "# lihat di folder \"notebook\" akan ada file baru dengan nama file yg ditetapkan diatas\n",
    "# Perhatikan perintah ini tidak mengeluarkan output langsung di notebook/terminal (silenced)"
   ]
  },
  {
   "cell_type": "code",
   "execution_count": 10,
   "metadata": {
    "slideshow": {
     "slide_type": "slide"
    }
   },
   "outputs": [],
   "source": [
    "f = open(\"Output_Python.txt\",\"w\") # W = write new file, a='append existing file, new file if file does not exist'\n",
    "print(\"ini output pertama lagi karena opennya pakai 'w'\", file=f)\n",
    "f.close() "
   ]
  },
  {
   "cell_type": "code",
   "execution_count": 11,
   "metadata": {
    "slideshow": {
     "slide_type": "fragment"
    }
   },
   "outputs": [],
   "source": [
    "f = open(\"Output_Python.txt\",\"a\") # W = write new file, a='append existing file, new file if file does not exist'\n",
    "print(\"ini baru output kedua karena opennya pakai 'a'\", file=f)\n",
    "f.close() \n",
    "# Jangan lupa utk mengingat \"print\" by default akan ganti baris, sehingga di akhir setiap print tidak perlu penambahan \"\\n\""
   ]
  },
  {
   "cell_type": "markdown",
   "metadata": {
    "slideshow": {
     "slide_type": "slide"
    }
   },
   "source": [
    "# Bagaimana membaca File Teks sudah dibahas di NLPTM-01 di Pembahasan \"Menangani Slang/Singkatan\"\n",
    "\n",
    "## https://tau-data.id/NLPTM-01/"
   ]
  },
  {
   "cell_type": "markdown",
   "metadata": {
    "slideshow": {
     "slide_type": "slide"
    }
   },
   "source": [
    "# Tips Penting\n",
    "\n",
    "* CSV sebenarnya hanya file teks yg dipisahkan dengan koma\n",
    "* TAPI hindari menulis ke file CSV dengan cara print diatas\n",
    "* Why?"
   ]
  },
  {
   "cell_type": "code",
   "execution_count": 12,
   "metadata": {
    "slideshow": {
     "slide_type": "slide"
    }
   },
   "outputs": [
    {
     "name": "stdout",
     "output_type": "stream",
     "text": [
      "2, 3, 4, 5, 6\n"
     ]
    }
   ],
   "source": [
    "A = [2,3,4,5,6]\n",
    "print(str(A)[1:-1])\n",
    "# sepertinya \"ok\" untuk menggunakan \"trik\" ini utk menulis ke CSV dari suatu list\n",
    "# Misal:"
   ]
  },
  {
   "cell_type": "code",
   "execution_count": 13,
   "metadata": {
    "slideshow": {
     "slide_type": "fragment"
    }
   },
   "outputs": [],
   "source": [
    "Data = [ (2,56), (1,32), (5,40), (1,37), (4,40) ]\n",
    "\n",
    "f = open(\"Output_Python.csv\",\"w\") \n",
    "print('Jumlah Anak, Umur', file=f)\n",
    "for d in Data:\n",
    "    print(str(d)[1:-1], file=f)\n",
    "f.close() \n",
    "\n",
    "# Silahkan lihat hasilnya dan buka di NotePad/Excell\n",
    "# Ndak ada masalah kan?....\n",
    "# cara ini hanya cocok utk Data Terstruktur (angka atau string tapi hanya satu kata)\n",
    "# Di Data Science yang sering memuat data tidak terstruktur cara ini tidak dianjurkan\n",
    "# Contoh:"
   ]
  },
  {
   "cell_type": "code",
   "execution_count": 14,
   "metadata": {
    "slideshow": {
     "slide_type": "slide"
    }
   },
   "outputs": [],
   "source": [
    "Data = [ ('@udin32','keren banget konsernya cuy!'), ('@kiraAlways','dia bilang \"sa bodo\", gitu katanya!'), ('@rina23','capek deeehhh...')]\n",
    "\n",
    "f = open(\"Output_Python.csv\",\"w\") \n",
    "print('username, Tweet', file=f)\n",
    "for d in Data:\n",
    "    print(str(d)[1:-1], file=f)\n",
    "f.close() \n",
    "\n",
    "# lihat hasilnya.\n",
    "# Kalau dibuka di Notepad sepertinya tidak ada masalah\n",
    "# Baru terlihat ketika di buka di excell ... benarkah???...\n",
    "# Why? ... \n",
    "\n",
    "# Hati-hati ... karena kesalahan ini kita bisa kehilangan data berharga.\n",
    "# Karena data kelak jika di import (dimanapun) akan error/tidak konsisten"
   ]
  },
  {
   "cell_type": "markdown",
   "metadata": {
    "slideshow": {
     "slide_type": "slide"
    }
   },
   "source": [
    "# Solusi"
   ]
  },
  {
   "cell_type": "code",
   "execution_count": 15,
   "metadata": {},
   "outputs": [
    {
     "name": "stderr",
     "output_type": "stream",
     "text": [
      "ERROR: Could not find a version that satisfies the requirement csv (from versions: none)\n",
      "ERROR: No matching distribution found for csv\n"
     ]
    }
   ],
   "source": [
    "!pip install csv"
   ]
  },
  {
   "cell_type": "code",
   "execution_count": 16,
   "metadata": {
    "slideshow": {
     "slide_type": "fragment"
    }
   },
   "outputs": [],
   "source": [
    "# Gunakan saja Modul CSV/Pandas\n",
    "# Karena \"rule\" CSV lumayan rumit \n",
    "import csv\n",
    "\n",
    "f = open(\"Output_Python.csv\",\"w\", newline='') # encoding='utf-8'\n",
    "f.write('Username, Tweet\\n')\n",
    "writer = csv.writer(f)\n",
    "for d in Data:\n",
    "    writer.writerow(d)\n",
    "f.close()\n",
    "\n",
    "# Lihat hasilnya di excell dan notepad"
   ]
  },
  {
   "cell_type": "markdown",
   "metadata": {
    "slideshow": {
     "slide_type": "slide"
    }
   },
   "source": [
    "# Python is not perfect, but if we know its weakness we can use it perfectly\n",
    "\n",
    "## Pointer to Reference"
   ]
  },
  {
   "cell_type": "code",
   "execution_count": 17,
   "metadata": {
    "slideshow": {
     "slide_type": "fragment"
    }
   },
   "outputs": [
    {
     "name": "stdout",
     "output_type": "stream",
     "text": [
      "A =  [2, 3, 4, 7]\n",
      "B =  [2, 3, 4, 7]\n"
     ]
    }
   ],
   "source": [
    "# Hati-hati dengan copy of reference (Pointer to Variabel) yg implisit di Python\n",
    "A =[2,3,4]\n",
    "B = A\n",
    "A.append(7) # Kita tidak melakukan apa-apa ke B\n",
    "print('A = ', A)\n",
    "print('B = ', B)\n",
    "\n",
    "# Mengapa outputnya seperti itu???...\n",
    "# Python sebisa mungkin menghindari \"copy of memory\" yg cocok utk DS/ML\n",
    "# menyebalkannya behavious semacam ini terkadang berbeda untuk versi python yg berbeda.\n",
    "# Data Scientist perlu informasi perubahan yg terjadi ketika memakai Python versi yg lebih terbaru\n",
    "# Solusi?"
   ]
  },
  {
   "cell_type": "code",
   "execution_count": 18,
   "metadata": {
    "slideshow": {
     "slide_type": "slide"
    }
   },
   "outputs": [
    {
     "name": "stdout",
     "output_type": "stream",
     "text": [
      "A =  [2, 3, 4, 7]\n",
      "B =  [2, 3, 4]\n"
     ]
    }
   ],
   "source": [
    "A =[2,3,4]\n",
    "B = A.copy() # ini yang mirip dgn bahasa pemrograman lain B=A\n",
    "A.append(7)\n",
    "print('A = ', A)\n",
    "print('B = ', B)"
   ]
  },
  {
   "cell_type": "markdown",
   "metadata": {
    "slideshow": {
     "slide_type": "slide"
    }
   },
   "source": [
    "## Zipping Lists dalam data science\n",
    "### Akan sering ditemukan proses di DS dimana 2 buah vector/array harus di olah bersamaan pada setiap elemennya tapi dalam index yang bersesuaian."
   ]
  },
  {
   "cell_type": "code",
   "execution_count": 19,
   "metadata": {
    "slideshow": {
     "slide_type": "fragment"
    }
   },
   "outputs": [
    {
     "name": "stdout",
     "output_type": "stream",
     "text": [
      "Minggu Libur\n",
      "Senin Kerja\n",
      "Jumat Kerja tapi ingin Libur\n"
     ]
    }
   ],
   "source": [
    "# Zipping List\n",
    "A = ['Minggu','Senin','Jumat', 'Selasa']\n",
    "B = ['Libur', 'Kerja', 'Kerja tapi ingin Libur']\n",
    "\n",
    "for a,b in zip(A,B):\n",
    "    print('{} {}'.format(a,b))\n",
    "    \n",
    "# Apa yang terjadi jika listnya beda ukuran???... ==> hati-hati\n",
    "# sering juga digunakan di Parallel Processing di Python ==> dibahas di PDS3"
   ]
  },
  {
   "cell_type": "markdown",
   "metadata": {
    "slideshow": {
     "slide_type": "slide"
    }
   },
   "source": [
    "### Tidak hanya list comprehension"
   ]
  },
  {
   "cell_type": "code",
   "execution_count": 20,
   "metadata": {
    "slideshow": {
     "slide_type": "fragment"
    }
   },
   "outputs": [
    {
     "data": {
      "text/plain": [
       "{'Minggu': 'Libur', 'Senin': 'Kerja', 'Jumat': 'Kerja tapi ingin Libur'}"
      ]
     },
     "execution_count": 20,
     "metadata": {},
     "output_type": "execute_result"
    }
   ],
   "source": [
    "D = {hari:kegiatan for hari, kegiatan in zip(A,B)}\n",
    "D"
   ]
  },
  {
   "cell_type": "markdown",
   "metadata": {
    "slideshow": {
     "slide_type": "slide"
    }
   },
   "source": [
    "## DS sering memuat data dengan informasi waktu\n",
    "### Media Sosial, log, artikel website, sensor, etc"
   ]
  },
  {
   "cell_type": "code",
   "execution_count": 21,
   "metadata": {
    "slideshow": {
     "slide_type": "fragment"
    }
   },
   "outputs": [
    {
     "name": "stdout",
     "output_type": "stream",
     "text": [
      "1 6 True\n"
     ]
    }
   ],
   "source": [
    "# Variabel Date-Time\n",
    "from datetime import datetime\n",
    "# %a %b %d %l %m %M %z %Y https://www.foragoodstrftime.com/\n",
    "d1 = datetime.strptime('Jun 1 2005  1:33PM', '%b %d %Y %I:%M%p')\n",
    "d2 = datetime.strptime('Jun 1 2004  1:33PM', '%b %d %Y %I:%M%p')\n",
    "print(d1.day, d2.month, d1>d2)"
   ]
  },
  {
   "cell_type": "markdown",
   "metadata": {
    "slideshow": {
     "slide_type": "slide"
    }
   },
   "source": [
    "# Python Function\n",
    "\n",
    "* Function in Python\n",
    "* Global & local variables\n",
    "* vars, dirs**\n",
    "* Recursive function in Python\n",
    "* Lamda function"
   ]
  },
  {
   "cell_type": "code",
   "execution_count": 2,
   "metadata": {
    "slideshow": {
     "slide_type": "slide"
    }
   },
   "outputs": [
    {
     "data": {
      "text/plain": [
       "15"
      ]
     },
     "execution_count": 2,
     "metadata": {},
     "output_type": "execute_result"
    }
   ],
   "source": [
    "# Fungsi di Python cukup sederhana dan \n",
    "# parameter fungsi adalah variabel to reference\n",
    "# Sebaiknya diberikan multiple lines of metaFunction (keterangan tentang fungsi)\n",
    "def jumlah(A,B):\n",
    "    \"\"\"\n",
    "    ini adalah contoh fungsi sederhana penjumlahan 2 bilangan\n",
    "    input: a,b sembarang 2 bilangan (int/float)\n",
    "    output: a+b\n",
    "    \"\"\"\n",
    "    return A+B # atau simply (A+B)+A**2\n",
    "\n",
    "\n",
    "jumlah(8,7)"
   ]
  },
  {
   "cell_type": "code",
   "execution_count": 3,
   "metadata": {
    "slideshow": {
     "slide_type": "fragment"
    }
   },
   "outputs": [
    {
     "name": "stdout",
     "output_type": "stream",
     "text": [
      "Help on function jumlah in module __main__:\n",
      "\n",
      "jumlah(A, B)\n",
      "    ini adalah contoh fungsi sederhana penjumlahan 2 bilangan\n",
      "    input: a,b sembarang 2 bilangan (int/float)\n",
      "    output: a+b\n",
      "\n"
     ]
    }
   ],
   "source": [
    "# Kita bisa melakukan ini kalau kita membuat fungsi dengan \"estetika\" Python yang benar\n",
    "help(jumlah)"
   ]
  },
  {
   "cell_type": "code",
   "execution_count": 6,
   "metadata": {
    "slideshow": {
     "slide_type": "slide"
    }
   },
   "outputs": [
    {
     "data": {
      "text/plain": [
       "4"
      ]
     },
     "execution_count": 6,
     "metadata": {},
     "output_type": "execute_result"
    }
   ],
   "source": [
    "# default Value sangat berguna di DS/ML\n",
    "def pungsi(A, B=5):\n",
    "    return B+A**2\n",
    "\n",
    "pungsi(2, B=0)"
   ]
  },
  {
   "cell_type": "code",
   "execution_count": 14,
   "metadata": {},
   "outputs": [
    {
     "name": "stdout",
     "output_type": "stream",
     "text": [
      "Hi\n",
      "99\n"
     ]
    }
   ],
   "source": [
    "def P(x, y):\n",
    "    print('Hi')\n",
    "    D = x+y\n",
    "    return 99\n",
    "\n",
    "C = P(1,2)\n",
    "print(C)"
   ]
  },
  {
   "cell_type": "code",
   "execution_count": 10,
   "metadata": {
    "slideshow": {
     "slide_type": "slide"
    }
   },
   "outputs": [
    {
     "data": {
      "text/plain": [
       "(3, 28)"
      ]
     },
     "execution_count": 10,
     "metadata": {},
     "output_type": "execute_result"
    }
   ],
   "source": [
    "def P(A=3,B=5):\n",
    "    return A+B**2\n",
    "\n",
    "P(B=1, A=2), P()"
   ]
  },
  {
   "cell_type": "code",
   "execution_count": 26,
   "metadata": {
    "slideshow": {
     "slide_type": "slide"
    }
   },
   "outputs": [
    {
     "name": "stdout",
     "output_type": "stream",
     "text": [
      "7\n",
      "10\n"
     ]
    }
   ],
   "source": [
    "# Hati-hati Python bisa membuat copy variabel\n",
    "def pungsi(C,D):\n",
    "    return D+5\n",
    "\n",
    "A = 10\n",
    "print(pungsi(A, 2))\n",
    "print(A) # tapiiii.... di dalam RAM tetap ada 2 A"
   ]
  },
  {
   "cell_type": "code",
   "execution_count": 27,
   "metadata": {
    "slideshow": {
     "slide_type": "slide"
    }
   },
   "outputs": [
    {
     "name": "stdout",
     "output_type": "stream",
     "text": [
      "[7, 3, 4]\n",
      "[7, 3, 4]\n"
     ]
    }
   ],
   "source": [
    "# Solusi\n",
    "# Hati-hati Python bisa membuat copy variabel\n",
    "A = [7, 3, 4]\n",
    "def pungsi(A,B):\n",
    "    B = A # di Python B hanya pointer ke A .... sehingga tidak ada copy memory\n",
    "    # ingat contoh pointer to reference di list sebelumnya\n",
    "    return B\n",
    "\n",
    "print(pungsi(A, 2))\n",
    "print(A) "
   ]
  },
  {
   "cell_type": "code",
   "execution_count": 28,
   "metadata": {
    "slideshow": {
     "slide_type": "slide"
    }
   },
   "outputs": [
    {
     "data": {
      "text/plain": [
       "8"
      ]
     },
     "execution_count": 28,
     "metadata": {},
     "output_type": "execute_result"
    }
   ],
   "source": [
    "# Contoh fungsi untuk menghitung jumlah kata di suatu status MedSos\n",
    "T = 'ada apa ya pagi ini? kok macet sekali'\n",
    "def wordCount(S):\n",
    "    return len(S.split())\n",
    "\n",
    "wordCount(T) \n",
    "# perhatikan saya sengaja membuat T tapi di fungsi S\n",
    "# di Python S bukanlah copy memory dr T"
   ]
  },
  {
   "cell_type": "code",
   "execution_count": 29,
   "metadata": {
    "slideshow": {
     "slide_type": "slide"
    }
   },
   "outputs": [
    {
     "name": "stdout",
     "output_type": "stream",
     "text": [
      "7 105\n",
      "35\n"
     ]
    }
   ],
   "source": [
    "A = 3\n",
    "C = 7\n",
    "def pungsi(A):\n",
    "    global C\n",
    "    C = C*5\n",
    "    return A*C\n",
    "\n",
    "# Berguna untuk data tidak terstruktur, misal menghitung frekuensi kata di suatu corpus\n",
    "print(C, pungsi(A))\n",
    "print(C)"
   ]
  },
  {
   "cell_type": "code",
   "execution_count": 30,
   "metadata": {
    "slideshow": {
     "slide_type": "slide"
    }
   },
   "outputs": [
    {
     "data": {
      "text/plain": [
       "8"
      ]
     },
     "execution_count": 30,
     "metadata": {},
     "output_type": "execute_result"
    }
   ],
   "source": [
    "# return adalah \"break\" di fungsi\n",
    "def f(N):\n",
    "    for i in range(N):\n",
    "        if i>7:\n",
    "            return i\n",
    "f(100)"
   ]
  },
  {
   "cell_type": "markdown",
   "metadata": {
    "slideshow": {
     "slide_type": "slide"
    }
   },
   "source": [
    "### Apa yg terjadi di fungsi diatas ketika N = 5???"
   ]
  },
  {
   "cell_type": "code",
   "execution_count": 31,
   "metadata": {
    "slideshow": {
     "slide_type": "fragment"
    }
   },
   "outputs": [
    {
     "name": "stdout",
     "output_type": "stream",
     "text": [
      "None\n"
     ]
    }
   ],
   "source": [
    "a = f(5)\n",
    "print(a)\n",
    "# Hati-hati kesalahan semacam ini di Python"
   ]
  },
  {
   "cell_type": "code",
   "execution_count": 15,
   "metadata": {
    "slideshow": {
     "slide_type": "slide"
    }
   },
   "outputs": [
    {
     "name": "stdout",
     "output_type": "stream",
     "text": [
      "5 6\n"
     ]
    }
   ],
   "source": [
    "# function bisa return >1 value\n",
    "def F(a,b):\n",
    "    \n",
    "    return a+b, a*b\n",
    "\n",
    "C, D = F(3,2)\n",
    "print(C,D)"
   ]
  },
  {
   "cell_type": "code",
   "execution_count": 16,
   "metadata": {
    "slideshow": {
     "slide_type": "fragment"
    }
   },
   "outputs": [
    {
     "data": {
      "text/plain": [
       "5"
      ]
     },
     "execution_count": 16,
     "metadata": {},
     "output_type": "execute_result"
    }
   ],
   "source": [
    "# Kalau hanya perlua satu nilai saja maka bisa lakukan hal ini (kebiasaan para programmer utk \"membuang variable\")\n",
    "C, _ = F(3,2)\n",
    "C"
   ]
  },
  {
   "cell_type": "code",
   "execution_count": 17,
   "metadata": {
    "slideshow": {
     "slide_type": "fragment"
    }
   },
   "outputs": [
    {
     "data": {
      "text/plain": [
       "5"
      ]
     },
     "execution_count": 17,
     "metadata": {},
     "output_type": "execute_result"
    }
   ],
   "source": [
    "# cara lain\n",
    "C = F(3,2)[0]\n",
    "C"
   ]
  },
  {
   "cell_type": "markdown",
   "metadata": {
    "slideshow": {
     "slide_type": "slide"
    }
   },
   "source": [
    "# Map Function"
   ]
  },
  {
   "cell_type": "code",
   "execution_count": 35,
   "metadata": {
    "slideshow": {
     "slide_type": "fragment"
    }
   },
   "outputs": [
    {
     "name": "stdout",
     "output_type": "stream",
     "text": [
      "Masukkan array/List L = 3 6 5 9\n"
     ]
    },
    {
     "data": {
      "text/plain": [
       "['3', '6', '5', '9']"
      ]
     },
     "execution_count": 35,
     "metadata": {},
     "output_type": "execute_result"
    }
   ],
   "source": [
    "# Sebelumnya kita punya cantoh seperti ini:\n",
    "L = input('Masukkan array/List L = ')\n",
    "L = L.split()\n",
    "L"
   ]
  },
  {
   "cell_type": "code",
   "execution_count": 19,
   "metadata": {
    "slideshow": {
     "slide_type": "slide"
    }
   },
   "outputs": [
    {
     "data": {
      "text/plain": [
       "(['1', '2', '3'], [1, 2, 3])"
      ]
     },
     "execution_count": 19,
     "metadata": {},
     "output_type": "execute_result"
    }
   ],
   "source": [
    "# Lalu kita melakukan ini\n",
    "L = ['1', '2', '3']\n",
    "\n",
    "L, [int(l) for l in L]"
   ]
  },
  {
   "cell_type": "code",
   "execution_count": 20,
   "metadata": {
    "slideshow": {
     "slide_type": "fragment"
    }
   },
   "outputs": [
    {
     "data": {
      "text/plain": [
       "[1, 2, 3]"
      ]
     },
     "execution_count": 20,
     "metadata": {},
     "output_type": "execute_result"
    }
   ],
   "source": [
    "# Tapi ada alternatif lain dengan Map function\n",
    "list( map(int, L) )\n",
    "# ini lebih cepat dan efisien"
   ]
  },
  {
   "cell_type": "code",
   "execution_count": 21,
   "metadata": {
    "slideshow": {
     "slide_type": "slide"
    }
   },
   "outputs": [
    {
     "data": {
      "text/plain": [
       "[4, 9, 1, 36]"
      ]
     },
     "execution_count": 21,
     "metadata": {},
     "output_type": "execute_result"
    }
   ],
   "source": [
    "# Contoh lain\n",
    "def kuadratkan(x):\n",
    "    return x*x\n",
    "\n",
    "A = [2,3,1,6]\n",
    "list(map(kuadratkan, A))"
   ]
  },
  {
   "cell_type": "markdown",
   "metadata": {
    "slideshow": {
     "slide_type": "slide"
    }
   },
   "source": [
    "## ``*args`` and ``**kwargs``: Flexible Arguments\n",
    "\n",
    "* Terkadang kita butuh untuk membuat fungsi, tapi tidak tau pasti berapa banyak parameter yang dibutuhkan.\n",
    "* ``*args`` and ``**kwargs`` digunakan pada kondisi seperti ini untuk menangkap semua parameter yang diberikan\n",
    "* parameter fungsi terkadang disebut juga arguments\n",
    "* Berikut contohnya:"
   ]
  },
  {
   "cell_type": "code",
   "execution_count": 26,
   "metadata": {
    "slideshow": {
     "slide_type": "slide"
    }
   },
   "outputs": [],
   "source": [
    "def tangkap_parameter(*args, **kwargs):\n",
    "    print(\"tipe args = {}, isinya = {}\".format(type(args),args))\n",
    "    print(\"tipe kwargs = {}, isinya = {}\".format(type(kwargs),kwargs))"
   ]
  },
  {
   "cell_type": "code",
   "execution_count": 33,
   "metadata": {},
   "outputs": [],
   "source": [
    "def sumasi(*A, **B):\n",
    "    print(B)\n",
    "    print(A)"
   ]
  },
  {
   "cell_type": "code",
   "execution_count": 34,
   "metadata": {},
   "outputs": [
    {
     "name": "stdout",
     "output_type": "stream",
     "text": [
      "{'C': 99}\n",
      "([3, 4, 2],)\n"
     ]
    }
   ],
   "source": [
    "X = [3,4,2]\n",
    "B = 99\n",
    "sumasi(X, C=B)"
   ]
  },
  {
   "cell_type": "code",
   "execution_count": 24,
   "metadata": {
    "slideshow": {
     "slide_type": "fragment"
    }
   },
   "outputs": [
    {
     "name": "stdout",
     "output_type": "stream",
     "text": [
      "tipe args = <class 'tuple'>, isinya = (1, 2, 3)\n",
      "tipe kwargs = <class 'dict'>, isinya = {'a': 4, 'b': 5}\n"
     ]
    }
   ],
   "source": [
    "tangkap_parameter(1, 2, 3, a=4, b=5)"
   ]
  },
  {
   "cell_type": "code",
   "execution_count": 41,
   "metadata": {
    "slideshow": {
     "slide_type": "fragment"
    }
   },
   "outputs": [
    {
     "name": "stdout",
     "output_type": "stream",
     "text": [
      "tipe args = <class 'tuple'>, isinya = ('a',)\n",
      "tipe kwargs = <class 'dict'>, isinya = {'keyword': 2}\n"
     ]
    }
   ],
   "source": [
    "tangkap_parameter('a',  keyword=2)"
   ]
  },
  {
   "cell_type": "code",
   "execution_count": 25,
   "metadata": {
    "slideshow": {
     "slide_type": "slide"
    }
   },
   "outputs": [
    {
     "name": "stdout",
     "output_type": "stream",
     "text": [
      "tipe args = <class 'tuple'>, isinya = (1, 2, 3)\n",
      "tipe kwargs = <class 'dict'>, isinya = {'pi': 3.14}\n"
     ]
    }
   ],
   "source": [
    "# tentu saja kita bisa juga melakukan ini\n",
    "# tapi hati-hati kita butuh tanda * dan **\n",
    "T = (1, 2, 3)\n",
    "D = {'pi': 3.14}\n",
    "\n",
    "tangkap_parameter(*T, **D)"
   ]
  },
  {
   "cell_type": "markdown",
   "metadata": {
    "slideshow": {
     "slide_type": "slide"
    }
   },
   "source": [
    "# Lambdas\n",
    "\n",
    "* Lambda adalah \"fungsi sementara\"/disposable\n",
    "* Sering digunakan untuk argument/parameter di fungsi lain. \n",
    "* Dengan kata lain ada fungsi yang inputnya fungsi (lambda)"
   ]
  },
  {
   "cell_type": "code",
   "execution_count": 35,
   "metadata": {
    "slideshow": {
     "slide_type": "fragment"
    }
   },
   "outputs": [
    {
     "name": "stdout",
     "output_type": "stream",
     "text": [
      "15\n"
     ]
    }
   ],
   "source": [
    "# Contoh sederhana\n",
    "F = lambda a : a + 10\n",
    "print(F(5))"
   ]
  },
  {
   "cell_type": "code",
   "execution_count": 36,
   "metadata": {
    "slideshow": {
     "slide_type": "slide"
    }
   },
   "outputs": [
    {
     "name": "stdout",
     "output_type": "stream",
     "text": [
      "17\n"
     ]
    }
   ],
   "source": [
    "# Contoh lain\n",
    "G = lambda a, b, c : a + b * c\n",
    "print(G(5, 6, 2))"
   ]
  },
  {
   "cell_type": "markdown",
   "metadata": {
    "slideshow": {
     "slide_type": "slide"
    }
   },
   "source": [
    "## Tapi mengapa tidak pakai fungsi yang biasa saja?\n"
   ]
  },
  {
   "cell_type": "code",
   "execution_count": 38,
   "metadata": {
    "slideshow": {
     "slide_type": "fragment"
    }
   },
   "outputs": [
    {
     "name": "stdout",
     "output_type": "stream",
     "text": [
      "6\n"
     ]
    }
   ],
   "source": [
    "# Biasanya usecasenya seperti ini (Digunakan di perbankan)\n",
    "def F(n):\n",
    "    return lambda a : a * n\n",
    "\n",
    "P = F(2)\n",
    "print(P(3))\n",
    "# ngerti? ... :) ... "
   ]
  },
  {
   "cell_type": "code",
   "execution_count": 46,
   "metadata": {
    "slideshow": {
     "slide_type": "slide"
    }
   },
   "outputs": [
    {
     "data": {
      "text/plain": [
       "<function __main__.F.<locals>.<lambda>(a)>"
      ]
     },
     "execution_count": 46,
     "metadata": {},
     "output_type": "execute_result"
    }
   ],
   "source": [
    "# Mungkin ini bisa membantu\n",
    "F(2)"
   ]
  },
  {
   "cell_type": "code",
   "execution_count": 39,
   "metadata": {
    "slideshow": {
     "slide_type": "slide"
    }
   },
   "outputs": [
    {
     "data": {
      "text/plain": [
       "22"
      ]
     },
     "execution_count": 39,
     "metadata": {},
     "output_type": "execute_result"
    }
   ],
   "source": [
    "F(2)(11) # ini seharusnya memperjelas"
   ]
  },
  {
   "cell_type": "code",
   "execution_count": 41,
   "metadata": {
    "slideshow": {
     "slide_type": "slide"
    }
   },
   "outputs": [
    {
     "data": {
      "text/plain": [
       "[(5, 'afive'), (99, 'four'), (7, 'one'), (0, 'three'), (2, 'two')]"
      ]
     },
     "execution_count": 41,
     "metadata": {},
     "output_type": "execute_result"
    }
   ],
   "source": [
    "# Fungsi sederhana ini mengurutkan list of tuples berdasarkan elemen pertama\n",
    "# di DS hal seperti ini sangat sering muncul\n",
    "pairs = [(7, 'one'), (2, 'two'), (0, 'three'), (99, 'four'), (5,'afive')] # List of Tuples\n",
    "pairs.sort(key=lambda p: p[1])  # nama fungsi lambdanya \"key\"\n",
    "pairs"
   ]
  },
  {
   "cell_type": "markdown",
   "metadata": {
    "slideshow": {
     "slide_type": "slide"
    }
   },
   "source": [
    "<h1 id=\"End-of-Modul-I.\">End of Modul - ADSP-02</h1>\n",
    "\n",
    "<h2>Next Lesson ADSP-03: Struktur Data Lanjut di Python</h2>\n",
    "\n",
    "<hr />\n",
    "<p><img alt=\"\" src=\"images/meme_6.png\" /></p>\n"
   ]
  }
 ],
 "metadata": {
  "celltoolbar": "Slideshow",
  "kernelspec": {
   "display_name": "Python 3 (ipykernel)",
   "language": "python",
   "name": "python3"
  },
  "language_info": {
   "codemirror_mode": {
    "name": "ipython",
    "version": 3
   },
   "file_extension": ".py",
   "mimetype": "text/x-python",
   "name": "python",
   "nbconvert_exporter": "python",
   "pygments_lexer": "ipython3",
   "version": "3.7.11"
  },
  "latex_envs": {
   "LaTeX_envs_menu_present": true,
   "autoclose": false,
   "autocomplete": true,
   "bibliofile": "biblio.bib",
   "cite_by": "apalike",
   "current_citInitial": 1,
   "eqLabelWithNumbers": true,
   "eqNumInitial": 1,
   "hotkeys": {
    "equation": "Ctrl-E",
    "itemize": "Ctrl-I"
   },
   "labels_anchors": false,
   "latex_user_defs": false,
   "report_style_numbering": false,
   "user_envs_cfg": false
  }
 },
 "nbformat": 4,
 "nbformat_minor": 2
}
