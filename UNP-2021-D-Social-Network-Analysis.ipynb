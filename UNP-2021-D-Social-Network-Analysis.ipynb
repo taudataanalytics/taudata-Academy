{
 "cells": [
  {
   "cell_type": "markdown",
   "metadata": {
    "slideshow": {
     "slide_type": "slide"
    }
   },
   "source": [
    "# <center><font color=\"green\"> https://bit.ly/unp-2021-D</font><br><font color=\"blue\">Module D: Pengenalan Social Network Analytics (SNA)</font></center>\n",
    "\n",
    "<center><img alt=\"\" src=\"images/unp-2021/Cover_UNP_2021_SMA_Vis.jpg\"/></center> \n",
    "\n",
    "## <center><font color=\"blue\">tau-data Indonesia</font><br>(C) Taufik Sutanto - 2021</center>\n",
    "<center><a href=\"https://tau-data.id\">https://tau-data.id</a> ~ <a href=\"mailto:taufik@tau-data.id\">taufik@tau-data.id</a></center>"
   ]
  },
  {
   "cell_type": "markdown",
   "metadata": {
    "slideshow": {
     "slide_type": "slide"
    }
   },
   "source": [
    "# <center><font color=\"blue\">Outline Module D: Pengenalan Social Network Analytics (SNA)</font></center>\n",
    "\n",
    "## <font color=\"green\">Basic Graph in NetworkX (Python)</font>\n",
    "- Creating Graph (adding nodes & Edges, and weights)\n",
    "- Basic Visualization\n",
    "- Degree, shortest path\n",
    "\n",
    "## <font color=\"green\">Social Network Analytics</font>\n",
    "- Centrality Analysis\n",
    "- Community Detection\n",
    "- Visualization Revisited\n",
    "\n",
    "## <font color=\"green\">Gephi</font>\n",
    "- Importing Data from Python\n",
    "- Gephi Visualization\n",
    "\n",
    "><font color=\"red\">\"*I always have a basic plot outline, but I like to leave some things to be decided while I write*.\" ~ J. K. Rowling</font>"
   ]
  },
  {
   "cell_type": "code",
   "execution_count": null,
   "metadata": {
    "slideshow": {
     "slide_type": "slide"
    }
   },
   "outputs": [],
   "source": [
    "import warnings; warnings.simplefilter('ignore')\n",
    "import nltk\n",
    "\n",
    "try:\n",
    "    import google.colab\n",
    "    IN_COLAB = True\n",
    "    !wget https://raw.githubusercontent.com/taudata-indonesia/eLearning/master/unp.py\n",
    "    !wget https://raw.githubusercontent.com/taudata-indonesia/eLearning/master/taudata_sna.py\n",
    "    !wget https://raw.githubusercontent.com/taudata-indonesia/eLearning/master/network_unp2021.gexf\n",
    "    !mkdir data\n",
    "    !wget -P data/ https://raw.githubusercontent.com/taudata-indonesia/eLearning/master/data/data_sna.csv\n",
    "    !wget -P data/ https://raw.githubusercontent.com/taudata-indonesia/eLearning/master/data/slang.txt\n",
    "    !wget -P data/ https://raw.githubusercontent.com/taudata-indonesia/eLearning/master/data/stopwords_id.txt\n",
    "    !wget -P data/ https://raw.githubusercontent.com/taudata-indonesia/eLearning/master/data/stopwords_en.txt\n",
    "    !wget -P data/ https://raw.githubusercontent.com/taudata-indonesia/eLearning/master/data/kata_dasar.txt\n",
    "    !wget -P data/ https://raw.githubusercontent.com/taudata-indonesia/eLearning/master/data/wn-ind-def.tab\n",
    "    !wget -P data/ https://raw.githubusercontent.com/taudata-indonesia/eLearning/master/data/wn-msa-all.tab\n",
    "    !wget -P data/ https://raw.githubusercontent.com/taudata-indonesia/eLearning/master/data/ind_SA.csv\n",
    "    !wget -P data/ https://raw.githubusercontent.com/taudata-indonesia/eLearning/master/data/all_indo_man_tag_corpus_model.crf.tagger\n",
    "\n",
    "    !pip install --upgrade spacy python-crfsuite unidecode textblob sastrawi sklearn-pycrfsuite\n",
    "    !pip install --upgrade unidecode twython tweepy beautifulsoup4 json_lines lxml pyLDAvis\n",
    "    !python -m spacy download en\n",
    "    !python -m spacy download xx\n",
    "    !python -m spacy download en_core_web_sm\n",
    "    nltk.download('popular')\n",
    "except:\n",
    "    IN_COLAB = False\n",
    "    print(\"Running the code locally, please make sure all the python module versions agree with colab environment and all data/assets downloaded\")"
   ]
  },
  {
   "cell_type": "code",
   "execution_count": null,
   "metadata": {
    "slideshow": {
     "slide_type": "slide"
    }
   },
   "outputs": [],
   "source": [
    "# import beberapa module yg dibutuhkan di WorkShop ini:\n",
    "import graphviz, warnings; warnings.simplefilter('ignore')\n",
    "import time, numpy as np, matplotlib.pyplot as plt, pandas as pd, networkx as nx\n",
    "import random, taudata_sna as tau\n",
    "import pyLDAvis, pyLDAvis.sklearn; pyLDAvis.enable_notebook()\n",
    "from graphviz import Digraph\n",
    "\n",
    "seed = 123\n",
    "random.seed(seed)\n",
    "np.random.seed(seed)\n",
    "\"Done\""
   ]
  },
  {
   "cell_type": "markdown",
   "metadata": {
    "slideshow": {
     "slide_type": "slide"
    }
   },
   "source": [
    "# Pendahuluan teori graph di Python: NetworkX"
   ]
  },
  {
   "cell_type": "markdown",
   "metadata": {
    "slideshow": {
     "slide_type": "slide"
    }
   },
   "source": [
    "## Membangun Graph\n",
    "\n",
    "## Menambahkan vertex, node, dan weights"
   ]
  },
  {
   "cell_type": "code",
   "execution_count": null,
   "metadata": {
    "slideshow": {
     "slide_type": "slide"
    }
   },
   "outputs": [],
   "source": [
    "# Di NetworkX: inisialisasi graph kosong dilakukan seperti ini:\n",
    "G = nx.Graph() # Di kesempatan ini Graph tak Berarah ini yang akan lebih banyak kita gunakan\n",
    "G"
   ]
  },
  {
   "cell_type": "code",
   "execution_count": null,
   "metadata": {
    "slideshow": {
     "slide_type": "slide"
    }
   },
   "outputs": [],
   "source": [
    "G.nodes(), G.edges()"
   ]
  },
  {
   "cell_type": "code",
   "execution_count": null,
   "metadata": {
    "colab": {
     "base_uri": "https://localhost:8080/",
     "height": 34
    },
    "colab_type": "code",
    "id": "YFLmEG121nZW",
    "outputId": "19af0ea5-5922-4381-978b-cb4938c09232",
    "slideshow": {
     "slide_type": "slide"
    }
   },
   "outputs": [],
   "source": [
    "# ini adalah cara sederhana menambahkan node ke graph satu persatu\n",
    "G.add_node(1)\n",
    "G.add_node(99)\n",
    "G.add_node(1) # \"Vertex adalah Himpunan\"\n",
    "print(G.nodes())"
   ]
  },
  {
   "cell_type": "code",
   "execution_count": null,
   "metadata": {
    "colab": {
     "base_uri": "https://localhost:8080/",
     "height": 50
    },
    "colab_type": "code",
    "id": "w5-ZyHUc3vbj",
    "outputId": "c09745af-62cf-4913-c3b9-14de02bd989a",
    "slideshow": {
     "slide_type": "slide"
    }
   },
   "outputs": [],
   "source": [
    "# ini cara menambahkan array of vertices ke Graph kita\n",
    "V = [1,2,5,6,8,33,65,88] # vertices\n",
    "\n",
    "for vertex in V:\n",
    "    G.add_node(vertex)\n",
    "print( G.nodes() )\n",
    "print( G.edges() )"
   ]
  },
  {
   "cell_type": "code",
   "execution_count": null,
   "metadata": {
    "colab": {
     "base_uri": "https://localhost:8080/",
     "height": 50
    },
    "colab_type": "code",
    "id": "1YhqeNMh6ER7",
    "outputId": "65f3b5a5-d4af-475c-e6ea-87fd6a1dcc80",
    "slideshow": {
     "slide_type": "slide"
    }
   },
   "outputs": [],
   "source": [
    "# ini cara menambahkan Edge secara manual satu per satu\n",
    "G.add_edge(5, 8)\n",
    "G.add_edge(8, 65)\n",
    "print( G.nodes() )\n",
    "print( G.edges() )"
   ]
  },
  {
   "cell_type": "code",
   "execution_count": null,
   "metadata": {
    "colab": {
     "base_uri": "https://localhost:8080/",
     "height": 50
    },
    "colab_type": "code",
    "id": "j78_HUXK6SaA",
    "outputId": "0fe460e3-d193-4ef1-ea78-1953cd42d8d2",
    "slideshow": {
     "slide_type": "slide"
    }
   },
   "outputs": [],
   "source": [
    "# Kita bisa menambahkan edge walaupun di Graph kita belum ada vertexnya, vertex tersebut akan automatis ditambahkan ke graphnya\n",
    "# ini cara menambahkan Edge secara manual satu per satu\n",
    "# misal di contoh ini vertex 77 dan vertex \"A\" tidak ada sebelumnya di Graph G\n",
    "G.add_edge(77, 8)\n",
    "G.add_edge('Depok', 88)\n",
    "print( G.nodes() )\n",
    "print( G.edges() )"
   ]
  },
  {
   "cell_type": "code",
   "execution_count": null,
   "metadata": {
    "colab": {
     "base_uri": "https://localhost:8080/",
     "height": 185
    },
    "colab_type": "code",
    "id": "Kl6zEGP54HgJ",
    "outputId": "40af6693-89ec-41a8-9352-e474b35fd1d4",
    "slideshow": {
     "slide_type": "slide"
    }
   },
   "outputs": [],
   "source": [
    "# ini memahami bagaimana looping atas Array dari pasangan terurut dilakukan di python\n",
    "E = [(1,33), (1,88), (6,88), (2,5), (2,8)]\n",
    "\n",
    "for sisi in E:\n",
    "    G.add_edge(sisi[0], sisi[1])\n",
    "    \n",
    "print( G.nodes() )\n",
    "print( G.edges() )"
   ]
  },
  {
   "cell_type": "code",
   "execution_count": null,
   "metadata": {
    "slideshow": {
     "slide_type": "slide"
    }
   },
   "outputs": [],
   "source": [
    "# Cara lain\n",
    "G2 = nx.Graph() # Graph Kosong Baru\n",
    "V = [1, 2, 7, 9, 12, 19] # Bisa juga string, misal \"A\" atau nama \"Budi\"\n",
    "E = [(1,2), (2,19), (9,2), (9,1), (2,8), (8,10), (12,7),(7,2), (7,9)] # Perhatikan \"8\" dan \"10\" TIDAK ADA di V\n",
    "\n",
    "G2.add_nodes_from(V)\n",
    "G2.add_edges_from(E)\n",
    "\n",
    "print('Banyak vertex = ', G2.number_of_nodes())\n",
    "print('Banyak Edges = ', G2.number_of_edges())"
   ]
  },
  {
   "cell_type": "markdown",
   "metadata": {
    "slideshow": {
     "slide_type": "slide"
    }
   },
   "source": [
    "## Visualisasi Graph\n",
    "\n",
    "1. Graph mirip vector: tidak memiliki info lokasi\n",
    "2. Maka pertama kali kita tentukan cara menggambar vertexnya dulu: pos (position)\n",
    "\n",
    "<center><img alt=\"\" src=\"images/nx_layouts.png\" />"
   ]
  },
  {
   "cell_type": "code",
   "execution_count": null,
   "metadata": {
    "slideshow": {
     "slide_type": "slide"
    }
   },
   "outputs": [],
   "source": [
    "# Contoh\n",
    "pos = nx.spiral_layout(G)\n",
    "pos"
   ]
  },
  {
   "cell_type": "code",
   "execution_count": null,
   "metadata": {
    "slideshow": {
     "slide_type": "slide"
    }
   },
   "outputs": [],
   "source": [
    "# Menggambar\n",
    "nx.draw_networkx_nodes(G,pos) # ini sekedar menggambar noktah vertex\n",
    "nx.draw_networkx_labels(G,pos) # ini kemudian memberikan label di setiap vertex pada langkah sebelumnya\n",
    "nx.draw_networkx_edges(G,pos) # ini menggambar edge di graph G\n",
    "plt.show()"
   ]
  },
  {
   "cell_type": "code",
   "execution_count": null,
   "metadata": {
    "slideshow": {
     "slide_type": "slide"
    }
   },
   "outputs": [],
   "source": [
    "# Contoh Layout lain\n",
    "pos = nx.spring_layout(G, seed=seed)\n",
    "nx.draw_networkx_nodes(G,pos) # ini sekedar menggambar noktah vertex\n",
    "nx.draw_networkx_labels(G,pos) # ini kemudian memberikan label di setiap vertex pada langkah sebelumnya\n",
    "nx.draw_networkx_edges(G,pos) # ini menggambar edge di graph G\n",
    "plt.show()"
   ]
  },
  {
   "cell_type": "markdown",
   "metadata": {
    "slideshow": {
     "slide_type": "slide"
    }
   },
   "source": [
    "## Adding Graph weights/properties"
   ]
  },
  {
   "cell_type": "code",
   "execution_count": null,
   "metadata": {
    "slideshow": {
     "slide_type": "slide"
    }
   },
   "outputs": [],
   "source": [
    "V = ['Depok', 'Jakarta', 'Bogor', 'Bekasi', 'Tangerang']\n",
    "Vluas = [12.3, 44.5, 1.2, 0.6, 23]  # contoh parameter \"luas\"\n",
    "\n",
    "E = [('Depok', 'Bogor'), ('Jakarta', 'Bekasi'), ('Bekasi', 'Bogor'),\n",
    "     ('Depok', 'Bekasi'), ('Tangerang', 'Bekasi')]  # ini adalah edgenya\n",
    "# ini \"contoh\" nanti jadi parameter ke-2 dari setiap Edge di E\n",
    "Ejrk = [22.4, 1.2, 5.6, 7.8, 9]\n",
    "\n",
    "G = nx.Graph()  # graph sebelumnya tertimpa dan jadi Graph kosong kembali\n",
    "# Kemudian kita akan tambahkan vertex, edge, beserta setiap parameter yg didefinisikan di atas ke graph G\n",
    "for vertex, area in zip(V, Vluas):\n",
    "    # nama variable parameter di setiap vertexnya di contoh ini adalah \"waktu\" dan \"orang\"\n",
    "    G.add_node(vertex, luas=area)\n",
    "\n",
    "for sisi, dist in zip(E, Ejrk):\n",
    "    G.add_edge(sisi[0], sisi[1], jarak=dist)\n",
    "\n",
    "print(G.nodes())\n",
    "print(G.edges())\n",
    "print('Luas Depok = ', G.nodes['Depok']['luas'])"
   ]
  },
  {
   "cell_type": "code",
   "execution_count": null,
   "metadata": {
    "slideshow": {
     "slide_type": "slide"
    }
   },
   "outputs": [],
   "source": [
    "plt.subplots(figsize=(12,8))\n",
    "\n",
    "pos = nx.spring_layout(G)\n",
    "nx.draw_networkx_nodes(G,pos,node_size=3000) # ini sekedar menggambar noktah vertex\n",
    "nx.draw_networkx_labels(G,pos) # ini kemudian memberikan label di setiap vertex pada langkah sebelumnya\n",
    "nx.draw_networkx_edges(G,pos) # ini menggambar edge di graph G\n",
    "nx.draw_networkx_edge_labels(G,pos,edge_labels=nx.get_edge_attributes(G,'jarak')) # ini label dari edgenya\n",
    "plt.show()"
   ]
  },
  {
   "cell_type": "markdown",
   "metadata": {
    "slideshow": {
     "slide_type": "slide"
    }
   },
   "source": [
    "<h1 id=\"Degree/Derajat-Vertex\">Degree/Derajat Vertex</h1>\n",
    "\n",
    "<p><img alt=\"\" src=\"images/degree_vertex_graph.png\" /></p>"
   ]
  },
  {
   "cell_type": "code",
   "execution_count": null,
   "metadata": {
    "slideshow": {
     "slide_type": "slide"
    }
   },
   "outputs": [],
   "source": [
    "d = nx.degree(G)\n",
    "d"
   ]
  },
  {
   "cell_type": "markdown",
   "metadata": {
    "slideshow": {
     "slide_type": "slide"
    }
   },
   "source": [
    "## Menggunakan degree untuk membuat gambar graph yang lebih baik"
   ]
  },
  {
   "cell_type": "code",
   "execution_count": null,
   "metadata": {
    "slideshow": {
     "slide_type": "slide"
    }
   },
   "outputs": [],
   "source": [
    "plt.subplots(figsize=(12,8))\n",
    "\n",
    "pos = nx.spring_layout(G, seed=seed) # Spring LayOut\n",
    "D = [d[node]*1000 for node in G.nodes()]\n",
    "nx.draw_networkx_nodes(G,pos,node_size=D) # Gambar Vertex\n",
    "nx.draw_networkx_edges(G,pos,width=2,alpha=0.15) # Gambar edges\n",
    "nx.draw_networkx_labels(G,pos) #Gambar Label Nodes\n",
    "plt.show() # Show the graph"
   ]
  },
  {
   "cell_type": "markdown",
   "metadata": {
    "slideshow": {
     "slide_type": "slide"
    }
   },
   "source": [
    "## Menambahkan informasi warna"
   ]
  },
  {
   "cell_type": "code",
   "execution_count": null,
   "metadata": {
    "slideshow": {
     "slide_type": "slide"
    }
   },
   "outputs": [],
   "source": [
    "plt.subplots(figsize=(12,8))\n",
    "\n",
    "warna = D\n",
    "pos = nx.spring_layout(G, seed=seed) # Spring LayOut\n",
    "nx.draw_networkx_nodes(G,pos, node_color=warna,node_size=D, alpha=0.5) # Gambar Vertex\n",
    "nx.draw_networkx_edges(G,pos,width=2,alpha=0.1) # Gambar edges\n",
    "nx.draw_networkx_labels(G,pos) #Gambar Label Nodes\n",
    "plt.show() # Show the graph"
   ]
  },
  {
   "cell_type": "markdown",
   "metadata": {
    "slideshow": {
     "slide_type": "slide"
    }
   },
   "source": [
    "<h1 id=\"(Shortest)-Path\">(Shortest) Path</h1>\n",
    "\n",
    "<p><img alt=\"\" src=\"images/shortest_path.png\" /></p>"
   ]
  },
  {
   "cell_type": "code",
   "execution_count": null,
   "metadata": {
    "slideshow": {
     "slide_type": "slide"
    }
   },
   "outputs": [],
   "source": [
    "SP = nx.shortest_path(G, source='Jakarta', target='Bogor')\n",
    "SP"
   ]
  },
  {
   "cell_type": "code",
   "execution_count": null,
   "metadata": {
    "slideshow": {
     "slide_type": "slide"
    }
   },
   "outputs": [],
   "source": [
    "H = G.subgraph(SP)\n",
    "\n",
    "pos = nx.spring_layout(H) # Spring LayOut\n",
    "nx.draw_networkx_nodes(H,pos,alpha=0.5) # Gambar Vertex\n",
    "nx.draw_networkx_edges(H,pos,width=2,alpha=0.1) # Gambar edges\n",
    "nx.draw_networkx_labels(H,pos) #Gambar Label Nodes\n",
    "plt.show() # Show the graph"
   ]
  },
  {
   "cell_type": "markdown",
   "metadata": {
    "slideshow": {
     "slide_type": "slide"
    }
   },
   "source": [
    "<h1 id=\"Graph-From-Social-media\">Graph From Social media</h1>\n",
    "\n",
    "<h3 id=\"Mentions,-Followers,-Friends\">Mentions, Followers, Friends</h3>\n",
    "\n",
    "<p><img alt=\"\" src=\"images/SNA_Graph_Types.png\" /></p>"
   ]
  },
  {
   "cell_type": "markdown",
   "metadata": {},
   "source": [
    "# Tahapan Analisa SNA\n",
    "\n",
    "1. Load Data dari Crawling, Streaming, atau Scrapping yang sudah dilakukan sebelumnya\n",
    "2. Bentuk graph (mention, retweet, atau follower)\n",
    "3. Visualisasi\n",
    "4. Analisa (Centrality, community, controversy Analysis, dsb)"
   ]
  },
  {
   "cell_type": "code",
   "execution_count": null,
   "metadata": {
    "slideshow": {
     "slide_type": "slide"
    }
   },
   "outputs": [],
   "source": [
    "# import data\n",
    "f = 'RawTweets_unp.csv'\n",
    "df = pd.read_csv(f)\n",
    "df.head()"
   ]
  },
  {
   "cell_type": "code",
   "execution_count": null,
   "metadata": {},
   "outputs": [],
   "source": [
    "users = df.user.to_list()\n",
    "tweets = df.tweet.to_list()\n",
    "print( users[:7] )"
   ]
  },
  {
   "cell_type": "code",
   "execution_count": null,
   "metadata": {},
   "outputs": [],
   "source": [
    "print( tweets[:3] )"
   ]
  },
  {
   "cell_type": "code",
   "execution_count": null,
   "metadata": {},
   "outputs": [],
   "source": [
    "G = nx.Graph() # Graph Kosong Baru\n",
    "\n",
    "G.add_nodes_from(users)\n",
    "\n",
    "print('Banyak vertex = ', G.number_of_nodes())\n",
    "print('Banyak Edges = ', G.number_of_edges())"
   ]
  },
  {
   "cell_type": "code",
   "execution_count": null,
   "metadata": {},
   "outputs": [],
   "source": [
    "import re\n",
    "\n",
    "t = \"ini sekedar contoh tweet dengan mention @taudataid @StatsUNP\"\n",
    "mentionS =  re.findall(\"@([a-zA-Z0-9]{1,15})\", t)\n",
    "\n",
    "mentionS"
   ]
  },
  {
   "cell_type": "code",
   "execution_count": null,
   "metadata": {},
   "outputs": [],
   "source": [
    "for usr, t in zip(users, tweets):\n",
    "    mentionS =  re.findall(\"@([a-zA-Z0-9]{1,15})\", t)\n",
    "    for mention in mentionS:\n",
    "        if \".\" not in mention: #skipping emails\n",
    "            G.add_edge(usr, mention)\n",
    "            \n",
    "print('Banyak vertex = ', G.number_of_nodes())\n",
    "print('Banyak Edges = ', G.number_of_edges())"
   ]
  },
  {
   "cell_type": "code",
   "execution_count": null,
   "metadata": {
    "scrolled": false,
    "slideshow": {
     "slide_type": "slide"
    }
   },
   "outputs": [],
   "source": [
    "# Draw the Tweet Graph\n",
    "plt.subplots(figsize=(12,8))\n",
    "\n",
    "d = nx.degree(G)\n",
    "pos = nx.spring_layout(G, seed=seed) # Spring LayOut\n",
    "D = [d[node]*10 for node in G.nodes()]\n",
    "nx.draw_networkx_nodes(G, pos, node_size=D, node_color=D) # Gambar Vertex\n",
    "nx.draw_networkx_edges(G, pos, width=1, alpha=0.5) # Gambar edges\n",
    "#nx.draw_networkx_labels(G,pos) #Gambar Label Nodes\n",
    "plt.show() # Show the graph"
   ]
  },
  {
   "cell_type": "markdown",
   "metadata": {
    "slideshow": {
     "slide_type": "slide"
    }
   },
   "source": [
    "<h2>I. Centrality Analysis</h2>\n",
    "\n",
    "<p>Bertujuan untuk menemukan pengguna yang paling berpengaruh dalam suatu topik pembicaraan di media sosial. Analisanya biasanya dilakukan melalui data graph dari hubungan jaringan pertemanan (follower/friend) antar pengguna atau komunikasi antar pengguna (mentions).</p>\n",
    "\n",
    "<p><img alt=\"\" src=\"images/8_SMA_Centrality.JPG\" /></p>\n"
   ]
  },
  {
   "cell_type": "markdown",
   "metadata": {
    "slideshow": {
     "slide_type": "slide"
    }
   },
   "source": [
    "<h1 id=\"Centrality-by-Degree\">Centrality by Degree</h1>\n",
    "\n",
    "<p><img alt=\"\" src=\"images/Degree_Centrality.png\" /></p>\n",
    "\n",
    "## Apakah interpretasinya?"
   ]
  },
  {
   "cell_type": "code",
   "execution_count": null,
   "metadata": {
    "slideshow": {
     "slide_type": "slide"
    }
   },
   "outputs": [],
   "source": [
    "# Let's now examine, who are the most \"important\" users in this Graph?\n",
    "Gt = tau.Centrality(G, N=10, method='degree', outliers=False, Label = True, layOut='spring')"
   ]
  },
  {
   "cell_type": "code",
   "execution_count": null,
   "metadata": {
    "slideshow": {
     "slide_type": "slide"
    }
   },
   "outputs": [],
   "source": [
    "tau.drawGraph(Gt, True, layOut='circular')"
   ]
  },
  {
   "cell_type": "markdown",
   "metadata": {
    "slideshow": {
     "slide_type": "slide"
    }
   },
   "source": [
    "<h1 id=\"Closeness-Centrality\">Closeness Centrality</h1>\n",
    "\n",
    "<p><img alt=\"\" src=\"images/closeness_centrality.png\" /></p>\n"
   ]
  },
  {
   "cell_type": "code",
   "execution_count": null,
   "metadata": {
    "slideshow": {
     "slide_type": "slide"
    }
   },
   "outputs": [],
   "source": [
    "Gt = tau.Centrality(G, N=10, method='closeness', outliers=False, Label = True, layOut='spring')"
   ]
  },
  {
   "cell_type": "code",
   "execution_count": null,
   "metadata": {
    "slideshow": {
     "slide_type": "slide"
    }
   },
   "outputs": [],
   "source": [
    "tau.drawGraph(Gt, True, layOut='circular')"
   ]
  },
  {
   "cell_type": "markdown",
   "metadata": {
    "slideshow": {
     "slide_type": "slide"
    }
   },
   "source": [
    "<h1 id=\"Betweenness-Centrality\">Betweenness Centrality</h1>\n",
    "\n",
    "<p><img alt=\"\" src=\"images/betweeness_Centrality.png\" /></p>\n"
   ]
  },
  {
   "cell_type": "code",
   "execution_count": null,
   "metadata": {
    "slideshow": {
     "slide_type": "slide"
    }
   },
   "outputs": [],
   "source": [
    "Gt = tau.Centrality(G, N=10, method='betweeness', outliers=False, Label = True, layOut='spring')"
   ]
  },
  {
   "cell_type": "code",
   "execution_count": null,
   "metadata": {
    "slideshow": {
     "slide_type": "slide"
    }
   },
   "outputs": [],
   "source": [
    "tau.drawGraph(Gt, True, layOut='circular')"
   ]
  },
  {
   "cell_type": "markdown",
   "metadata": {
    "slideshow": {
     "slide_type": "slide"
    }
   },
   "source": [
    "# Eigenvector Centrality\n",
    "\n",
    "<p><img alt=\"\" src=\"images/Eigenvector_Centrality_1.png\" /></p>\n",
    "\n",
    "### Digunakan juga oleh Google dalam Algoritma PageRank-nya untuk menentukan halaman web terpenting."
   ]
  },
  {
   "cell_type": "markdown",
   "metadata": {
    "slideshow": {
     "slide_type": "slide"
    }
   },
   "source": [
    "<p><img alt=\"\" src=\"images/Eigenvector_Centrality_0_.png\" /></p>"
   ]
  },
  {
   "cell_type": "code",
   "execution_count": null,
   "metadata": {
    "slideshow": {
     "slide_type": "slide"
    }
   },
   "outputs": [],
   "source": [
    "Gt = tau.Centrality(G, N=10, method='eigen', outliers=False, Label = True, layOut='spring')"
   ]
  },
  {
   "cell_type": "code",
   "execution_count": null,
   "metadata": {
    "slideshow": {
     "slide_type": "slide"
    }
   },
   "outputs": [],
   "source": [
    "tau.drawGraph(Gt, True, layOut='circular')"
   ]
  },
  {
   "cell_type": "markdown",
   "metadata": {
    "slideshow": {
     "slide_type": "slide"
    }
   },
   "source": [
    "<h1 id=\"Summary\">Summary</h1>\n",
    "\n",
    "<p><img alt=\"\" src=\"images/Centrality_Interpretations.png\" /></p>"
   ]
  },
  {
   "cell_type": "markdown",
   "metadata": {
    "slideshow": {
     "slide_type": "slide"
    }
   },
   "source": [
    "<h2>II. Community Detection (CD)</h2>\n",
    "\n",
    "<p>CD dilakukan pada data jaringan media sosial untuk menemukan komunitas-komunitas dalam pertemanan atau pembicaraan di media sosial. Secara sederhana CD dapat dimengerti sebagai proses \"semacam clustering\" (pengelompokan) , namun atas suatu graph.</p>\n",
    "\n",
    "<img alt=\"\" src=\"images/8_SMA_Community.JPG\" />\n"
   ]
  },
  {
   "cell_type": "code",
   "execution_count": null,
   "metadata": {
    "slideshow": {
     "slide_type": "slide"
    }
   },
   "outputs": [],
   "source": [
    "# Clustering pada Graph = Community Detection\n",
    "Gt = nx.algorithms.community.greedy_modularity_communities(G)\n",
    "for community in Gt:\n",
    "    print(community)"
   ]
  },
  {
   "cell_type": "markdown",
   "metadata": {},
   "source": [
    "# Visualisasi Versi Gephi\n",
    "\n",
    "<img alt=\"\" src=\"images/Gephi.jpg\" />\n",
    "\n",
    "1. menggunakan Data dari tweepy: Dibahas di Workshop/Module ini.\n",
    "2. Crawl langsung dari gephi: https://www.youtube.com/watch?v=j_PUwmDcPBs"
   ]
  },
  {
   "cell_type": "code",
   "execution_count": null,
   "metadata": {},
   "outputs": [],
   "source": [
    "json_file = 'Tweets_unp2021.json'\n",
    "gexf_file = 'network_unp2021.gexf'\n",
    "\n",
    "tweets = tau.load_jsonl(json_file)\n",
    "tau.create_gexf(tweets, gexf_file)\n",
    "\n",
    "\"Done\""
   ]
  },
  {
   "cell_type": "markdown",
   "metadata": {},
   "source": [
    "# Visualizing in Gephi\n",
    "\n",
    "1. \"import\" file gexf ke Gephi (yakinkan tipe network \"Dynamics\" - lihat gambar)\n",
    " - \"Open graph File ... \"\n",
    "\n",
    "<img alt=\"\" src=\"images/gephi-dynamics.png\" />"
   ]
  },
  {
   "cell_type": "markdown",
   "metadata": {},
   "source": [
    "### Visualisasi\n",
    "\n",
    "* Ganti Size Nodes: Nodes ==> Size ==> in-Degree\n",
    " - Atur \"range\" sedemikian sehingga distribusi ukuran vertex cukup baik. \n",
    "* Community Detection: Statistics ==> Modularity\n",
    "* Ganti Warna Nodes: Nodes ==> Partition ==> Modularity\n",
    "* Ganti Layout Graph: ForceAtlas2\n",
    " - Stronger Gravity\n",
    " - Gravity 0.05\n",
    " - Prevent Overlap\n",
    "* Add Node Label (Ada di tengah bawah, huruf \"T\")\n",
    "* ganti warna background (misal hitam)\n",
    "\n",
    "### Navigasi\n",
    "- Mouse Scroll: Zoom in-out ATAU panah kanan bawah untuk atur zoom\n",
    "- Tekan (tahan) klik kanan lalu gerakkan mouse (atau touchpad) untuk memindahkan graph.\n",
    "\n",
    "<img alt=\"\" src=\"images/gephi-example-result.png\" />"
   ]
  },
  {
   "cell_type": "markdown",
   "metadata": {},
   "source": [
    "# Analisa?\n",
    "\n",
    "* Klik kanan di Node ==> Select in Data Laboratory ==> Pelajari akun dan-atau tweet orang tersebut."
   ]
  },
  {
   "cell_type": "markdown",
   "metadata": {
    "slideshow": {
     "slide_type": "slide"
    }
   },
   "source": [
    "# <center><font color=\"blue\"> End of Module D\n",
    "\n",
    "<hr />\n",
    "<img alt=\"\" src=\"images/meme-cartoon/11_less_code.jpg\" />"
   ]
  }
 ],
 "metadata": {
  "celltoolbar": "Slideshow",
  "kernelspec": {
   "display_name": "Python 3 (ipykernel)",
   "language": "python",
   "name": "python3"
  },
  "language_info": {
   "codemirror_mode": {
    "name": "ipython",
    "version": 3
   },
   "file_extension": ".py",
   "mimetype": "text/x-python",
   "name": "python",
   "nbconvert_exporter": "python",
   "pygments_lexer": "ipython3",
   "version": "3.8.8"
  },
  "latex_envs": {
   "LaTeX_envs_menu_present": true,
   "autoclose": true,
   "autocomplete": false,
   "bibliofile": "biblio.bib",
   "cite_by": "apalike",
   "current_citInitial": 1,
   "eqLabelWithNumbers": true,
   "eqNumInitial": 1,
   "hotkeys": {
    "equation": "Ctrl-E",
    "itemize": "Ctrl-I"
   },
   "labels_anchors": false,
   "latex_user_defs": false,
   "report_style_numbering": false,
   "user_envs_cfg": false
  }
 },
 "nbformat": 4,
 "nbformat_minor": 2
}
