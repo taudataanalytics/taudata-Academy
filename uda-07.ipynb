{
 "cells": [
  {
   "cell_type": "markdown",
   "metadata": {
    "slideshow": {
     "slide_type": "slide"
    }
   },
   "source": [
    "# <center><strong>Natural Language Processing dan Text Mining</strong></center>\n",
    "    \n",
    "## <center><strong><font color=\"blue\">II.1. Klasifikasi Teks dan Sentiment Analysis</font></strong></center>\n",
    "<img alt=\"\" src=\"images/SocMed.png\" style=\"height: 171px; width: 600px;\" /> \n",
    "    \n",
    "## <center>(C) Taufik Sutanto - 2020 </center>"
   ]
  },
  {
   "cell_type": "markdown",
   "metadata": {
    "slideshow": {
     "slide_type": "slide"
    }
   },
   "source": [
    "## <font color=\"blue\">Outline :</font>\n",
    "\n",
    "* Brief Review Representasi Dokumen\n",
    "* Corpus-Based Sentiment Analysis\n",
    "* Metode Supervised untuk Sentiment Analysis \n",
    "\n",
    "## Refresh Model Klasifikasi disini: https://tau-data.id/slcm-01/"
   ]
  },
  {
   "cell_type": "code",
   "execution_count": null,
   "metadata": {},
   "outputs": [],
   "source": [
    "# Jalankan Cell ini \"HANYA\" jika anda menggunakan Google Colab\n",
    "# Jika di jalankan di komputer local, silahkan lihat NLPTM-02 untuk instalasinya.\n",
    "import warnings; warnings.simplefilter('ignore')\n",
    "import nltk\n",
    "\n",
    "!wget https://raw.githubusercontent.com/taudata-indonesia/eLearning/master/taudataNlpTm.py\n",
    "!mkdir data\n",
    "!wget -P data/ https://raw.githubusercontent.com/taudata-indonesia/eLearning/master/data/slang.txt\n",
    "!wget -P data/ https://raw.githubusercontent.com/taudata-indonesia/eLearning/master/data/stopwords_id.txt\n",
    "!wget -P data/ https://raw.githubusercontent.com/taudata-indonesia/eLearning/master/data/stopwords_en.txt\n",
    "!wget -P data/ https://raw.githubusercontent.com/taudata-indonesia/eLearning/master/data/kata_dasar.txt\n",
    "!wget -P data/ https://raw.githubusercontent.com/taudata-indonesia/eLearning/master/data/wn-ind-def.tab\n",
    "!wget -P data/ https://raw.githubusercontent.com/taudata-indonesia/eLearning/master/data/wn-msa-all.tab\n",
    "!wget -P data/ https://raw.githubusercontent.com/taudata-indonesia/eLearning/master/data/ind_SA.csv\n",
    "!wget -P data/ https://raw.githubusercontent.com/taudata-indonesia/eLearning/master/data/all_indo_man_tag_corpus_model.crf.tagger\n",
    "\n",
    "!pip install spacy python-crfsuite unidecode textblob sastrawi\n",
    "!python -m spacy download en\n",
    "!python -m spacy download xx\n",
    "!python -m spacy download en_core_web_sm\n",
    "\n",
    "nltk.download('popular')"
   ]
  },
  {
   "cell_type": "code",
   "execution_count": 1,
   "metadata": {},
   "outputs": [
    {
     "data": {
      "text/plain": [
       "'Done'"
      ]
     },
     "execution_count": 1,
     "metadata": {},
     "output_type": "execute_result"
    }
   ],
   "source": [
    "# Mulai dengan loading data\n",
    "import pickle\n",
    "from sklearn.datasets import fetch_20newsgroups\n",
    "\n",
    "try:\n",
    "    f = open('data/20newsgroups.pckl', 'rb')\n",
    "    data = pickle.load(f)\n",
    "    f.close()\n",
    "except:\n",
    "    categories = ['sci.med', 'talk.politics.misc',  'rec.autos']\n",
    "    data = fetch_20newsgroups(categories=categories,remove=('headers', 'footers', 'quotes'))\n",
    "    f = open('data/20newsgroups.pckl', 'wb')\n",
    "    pickle.dump(data, f)\n",
    "    f.close()\n",
    "'Done'"
   ]
  },
  {
   "cell_type": "code",
   "execution_count": 2,
   "metadata": {},
   "outputs": [
    {
     "data": {
      "text/plain": [
       "'Done'"
      ]
     },
     "execution_count": 2,
     "metadata": {},
     "output_type": "execute_result"
    }
   ],
   "source": [
    "# Merubah data ke bentuk yang biasa kita gunakan\n",
    "D = [doc for doc in data.data]\n",
    "Y = data.target\n",
    "'Done'"
   ]
  },
  {
   "cell_type": "code",
   "execution_count": 4,
   "metadata": {},
   "outputs": [
    {
     "data": {
      "text/plain": [
       "array([0, 2, 0, ..., 2, 1, 1], dtype=int64)"
      ]
     },
     "execution_count": 4,
     "metadata": {},
     "output_type": "execute_result"
    }
   ],
   "source": [
    "Y"
   ]
  },
  {
   "cell_type": "code",
   "execution_count": 5,
   "metadata": {},
   "outputs": [
    {
     "data": {
      "text/plain": [
       "'I want to get a car alarm and I am thinking about getting an Ungo Box.\\n    Does anyone out there have any knowledge or experience with any of\\n    these alarms?  How about price ranges for the different models?\\n    Are these good car alarms?  Please email me any responces.\\n\\n                cak3@ns3.lehigh.edu'"
      ]
     },
     "execution_count": 5,
     "metadata": {},
     "output_type": "execute_result"
    }
   ],
   "source": [
    "D[0]"
   ]
  },
  {
   "cell_type": "code",
   "execution_count": 4,
   "metadata": {},
   "outputs": [
    {
     "name": "stderr",
     "output_type": "stream",
     "text": [
      "1653it [00:02, 627.25it/s]"
     ]
    },
    {
     "name": "stdout",
     "output_type": "stream",
     "text": [
      "car alarm thinking ungo box knowledge experience alarms price ranges models good car alarms email responces cak3 ns3.lehigh.edu\n"
     ]
    },
    {
     "name": "stderr",
     "output_type": "stream",
     "text": [
      "\n"
     ]
    }
   ],
   "source": [
    "# pre processing\n",
    "import taudataNlpTm as tau \n",
    "from tqdm import tqdm\n",
    "\n",
    "# cleanText(T, fix={}, lemma=None, stops = set(), symbols_remove = True, min_charLen = 2, fixTag= True)\n",
    "stops, lemmatizer = tau.LoadStopWords(lang='en')\n",
    "for i,d in tqdm(enumerate(D)):\n",
    "    D[i] = tau.cleanText(d, lemma=lemmatizer, stops = stops, symbols_remove = True, min_charLen = 2)\n",
    "print(D[0])"
   ]
  },
  {
   "cell_type": "code",
   "execution_count": 5,
   "metadata": {},
   "outputs": [],
   "source": [
    "# Bentuk VSM-nya\n",
    "from sklearn.feature_extraction.text import TfidfVectorizer\n",
    "\n",
    "tfidf_vectorizer = TfidfVectorizer(lowercase=True, stop_words='english',smooth_idf= True, sublinear_tf=True, \n",
    "                                   ngram_range=(1, 2), max_df=0.90, min_df=2)"
   ]
  },
  {
   "cell_type": "code",
   "execution_count": 6,
   "metadata": {},
   "outputs": [
    {
     "name": "stdout",
     "output_type": "stream",
     "text": [
      "(1157, 13127) (496, 13127)\n"
     ]
    }
   ],
   "source": [
    "from sklearn.model_selection import train_test_split\n",
    "seed = 99\n",
    "\n",
    "x_train, x_test, y_train, y_test = train_test_split(D, Y, test_size=0.3, random_state=seed)\n",
    "x_train = tfidf_vectorizer.fit_transform(x_train) # \"Fit_Transform\"\n",
    "x_test = tfidf_vectorizer.transform(x_test) # Perhatikan disini hanya \"Transform\"\n",
    "\n",
    "print(x_train.shape, x_test.shape) # Jumlah kolom Sama ==> ini penting"
   ]
  },
  {
   "cell_type": "code",
   "execution_count": 8,
   "metadata": {},
   "outputs": [
    {
     "name": "stdout",
     "output_type": "stream",
     "text": [
      "(1105, 13127) (481, 13127)\n"
     ]
    }
   ],
   "source": [
    "# Jangan lupa langkah penting ini! ... \n",
    "# Kenapa ada yang kosong?... coba fikirkan ... \n",
    "def hapusKosong(X,Y):\n",
    "    Y = Y[X.getnnz(1)>0] # delete label dokumen yang memiliki row =0 di tfidf-nya\n",
    "    X = X[X.getnnz(1)>0] # Remove Zero Rows\n",
    "    return X, Y\n",
    "\n",
    "x_train, y_train = hapusKosong(x_train, y_train)\n",
    "x_test, y_test = hapusKosong(x_test, y_test)\n",
    "print(x_train.shape, x_test.shape)"
   ]
  },
  {
   "cell_type": "code",
   "execution_count": 9,
   "metadata": {},
   "outputs": [],
   "source": [
    "# Kita gunakan metric yang umum\n",
    "from sklearn.metrics import accuracy_score"
   ]
  },
  {
   "cell_type": "code",
   "execution_count": 10,
   "metadata": {},
   "outputs": [
    {
     "data": {
      "text/plain": [
       "0.8669438669438669"
      ]
     },
     "execution_count": 10,
     "metadata": {},
     "output_type": "execute_result"
    }
   ],
   "source": [
    "# Naive Bayes: http://scikit-learn.org/stable/modules/naive_bayes.html\n",
    "from sklearn.naive_bayes import GaussianNB\n",
    "\n",
    "gnb = GaussianNB()\n",
    "nbc = gnb.fit(x_train.toarray(), y_train) # Kelemahan Implementasinya disini\n",
    "\n",
    "y_nbc = nbc.predict(x_test.toarray())\n",
    "accuracy_score(y_test, y_nbc)\n",
    "# Hati-hati Sparse ==> Dense bisa memenuhi memory untuk data relatif cukup besar\n",
    "# Akurasi cukup baik"
   ]
  },
  {
   "cell_type": "code",
   "execution_count": 11,
   "metadata": {},
   "outputs": [
    {
     "data": {
      "text/plain": [
       "0.7110187110187111"
      ]
     },
     "execution_count": 11,
     "metadata": {},
     "output_type": "execute_result"
    }
   ],
   "source": [
    "# Decision Tree: http://scikit-learn.org/stable/modules/tree.html\n",
    "from sklearn import tree\n",
    "\n",
    "DT = tree.DecisionTreeClassifier()\n",
    "DT = DT.fit(x_train, y_train)\n",
    "\n",
    "y_DT = DT.predict(x_test)\n",
    "accuracy_score(y_test, y_DT)\n",
    "# Akurasi relatif rendah ==> Mengapa?"
   ]
  },
  {
   "cell_type": "code",
   "execution_count": 12,
   "metadata": {},
   "outputs": [
    {
     "data": {
      "text/plain": [
       "0.8648648648648649"
      ]
     },
     "execution_count": 12,
     "metadata": {},
     "output_type": "execute_result"
    }
   ],
   "source": [
    "# Mari coba perbaiki dengan Random Forest\n",
    "# http://scikit-learn.org/stable/modules/generated/sklearn.ensemble.RandomForestClassifier.html\n",
    "from sklearn.ensemble import RandomForestClassifier\n",
    "\n",
    "RandomForest = RandomForestClassifier()\n",
    "RandomForest.fit(x_train, y_train)\n",
    "\n",
    "y_RF = RandomForest.predict(x_test)\n",
    "accuracy_score(y_test, y_RF)\n",
    "# Sedikit membaik (expected)"
   ]
  },
  {
   "cell_type": "code",
   "execution_count": 13,
   "metadata": {},
   "outputs": [
    {
     "data": {
      "text/plain": [
       "0.918918918918919"
      ]
     },
     "execution_count": 13,
     "metadata": {},
     "output_type": "execute_result"
    }
   ],
   "source": [
    "# SVM: http://scikit-learn.org/stable/modules/svm.html\n",
    "from sklearn import svm\n",
    "\n",
    "dSVM = svm.SVC(decision_function_shape='ovo') # oneversus one SVM\n",
    "dSVM.fit(x_train, y_train)\n",
    "\n",
    "y_SVM = dSVM.predict(x_test)\n",
    "accuracy_score(y_test, y_SVM)\n",
    "# Mengapa akurasinya rendah? Mengejutkan?"
   ]
  },
  {
   "cell_type": "code",
   "execution_count": 16,
   "metadata": {},
   "outputs": [
    {
     "data": {
      "text/plain": [
       "0.9147609147609148"
      ]
     },
     "execution_count": 16,
     "metadata": {},
     "output_type": "execute_result"
    }
   ],
   "source": [
    "# Neural Network: http://scikit-learn.org/stable/modules/neural_networks_supervised.html\n",
    "from sklearn.neural_network import MLPClassifier\n",
    "\n",
    "NN = MLPClassifier(hidden_layer_sizes=(30, 40))\n",
    "NN.fit(x_train, y_train)\n",
    "\n",
    "y_NN = NN.predict(x_test)\n",
    "accuracy_score(y_test, y_NN)\n",
    "# Cukup Baik, coba rubah jumlah layer dan Neuron"
   ]
  },
  {
   "cell_type": "markdown",
   "metadata": {},
   "source": [
    "## Tunggu dulu ... yang kita lakukan belum cukup valid/objektif ... Mengapa?\n"
   ]
  },
  {
   "cell_type": "markdown",
   "metadata": {},
   "source": [
    "<h1>Cross Validation</h1>\n",
    "\n",
    "<h1><img alt=\"\" src=\"images/6_Cross_validation.png\" style=\"height:274px; width:485px\" /></h1>\n"
   ]
  },
  {
   "cell_type": "code",
   "execution_count": 18,
   "metadata": {},
   "outputs": [
    {
     "name": "stdout",
     "output_type": "stream",
     "text": [
      "Accuracy SVM: 0.91 (+/- 0.04), Waktu = 11.556 detik\n"
     ]
    }
   ],
   "source": [
    "# Cross validation\n",
    "# http://scikit-learn.org/stable/modules/generated/sklearn.model_selection.cross_val_score.html\n",
    "from sklearn.model_selection import cross_val_score\n",
    "import time\n",
    "\n",
    "# perhatikan sekarang kita menggunakan seluruh data\n",
    "# Bisa juga CV di training data ==> train, Test, Val splittting system\n",
    "X = tfidf_vectorizer.fit_transform(D) # \"Fit_Transform\"\n",
    "\n",
    "svm_ = svm.SVC(kernel='linear', decision_function_shape='ovo')\n",
    "mulai = time.time()\n",
    "scores_svm = cross_val_score(svm_, X, Y, cv=10, n_jobs=-2) \n",
    "waktu = time.time() - mulai\n",
    "# Interval Akurasi 95 CI \n",
    "print(\"Accuracy SVM: %0.2f (+/- %0.2f), Waktu = %0.3f detik\" % (scores_svm.mean(), scores_svm.std() * 2, waktu))"
   ]
  },
  {
   "cell_type": "code",
   "execution_count": 22,
   "metadata": {},
   "outputs": [
    {
     "name": "stdout",
     "output_type": "stream",
     "text": [
      "Accuracy ANN: 0.92 (+/- 0.05), Waktu = 125.937 detik\n"
     ]
    }
   ],
   "source": [
    "# Bandingkan dengan Neural Network\n",
    "nn_ = MLPClassifier(hidden_layer_sizes=(30, 40))\n",
    "mulai = time.time()\n",
    "scores_nn = cross_val_score(nn_, X, Y, cv=10, n_jobs=-2) \n",
    "waktu = time.time() - mulai\n",
    "# Interval Akurasi 95 CI \n",
    "print(\"Accuracy ANN: %0.2f (+/- %0.2f), Waktu = %0.3f detik\" % (scores_nn.mean(), scores_nn.std() * 2, waktu))"
   ]
  },
  {
   "cell_type": "code",
   "execution_count": 23,
   "metadata": {},
   "outputs": [
    {
     "name": "stdout",
     "output_type": "stream",
     "text": [
      "F1-Score: 0.91 (+/- 0.04)\n"
     ]
    }
   ],
   "source": [
    "# Kita bisa juga mengeluarkan metric evaluasi lainnya\n",
    "scores = cross_val_score(svm_, X, Y, cv=10, scoring='f1_macro')\n",
    "print(\"F1-Score: %0.2f (+/- %0.2f)\" % (scores.mean(), scores.std() * 2))\n",
    "# scoring pilih dari sini: http://scikit-learn.org/stable/modules/model_evaluation.html"
   ]
  },
  {
   "cell_type": "code",
   "execution_count": 24,
   "metadata": {},
   "outputs": [],
   "source": [
    "%matplotlib inline\n",
    "import seaborn as sns; sns.set()\n",
    "import matplotlib.pyplot as plt; plt.style.use('classic')\n",
    "import numpy as np, pandas as pd"
   ]
  },
  {
   "cell_type": "code",
   "execution_count": 25,
   "metadata": {},
   "outputs": [
    {
     "data": {
      "image/png": "[encoded data removed]",
      "text/plain": [
       "<Figure size 640x480 with 1 Axes>"
      ]
     },
     "metadata": {},
     "output_type": "display_data"
    }
   ],
   "source": [
    "df = pd.DataFrame({'SVM':scores_svm,'ANN':scores_nn})\n",
    "sns.boxplot(data=df)\n",
    "plt.show()"
   ]
  },
  {
   "cell_type": "markdown",
   "metadata": {},
   "source": [
    "<img alt=\"\" src=\"images/9_Sentiment_Analysis_Meme.jpg\"  />"
   ]
  },
  {
   "cell_type": "markdown",
   "metadata": {},
   "source": [
    "<p><strong>Apakah sentiment analysis?</strong></p>\n",
    "\n",
    "<p>Sentiment Analysis adalah suatu proses komputasi untuk menentukan apakah suatu penrnyataan bermakna positive, negative, atau netral.</p>\n",
    "\n",
    "<p>Terkadang disebut juga sebagai&nbsp;<strong>opinion mining.</strong></p>\n",
    "\n",
    "<p><strong>Contoh aplikasi Sentiment Analysis</strong></p>\n",
    "\n",
    "<ul>\n",
    "\t<li><strong>Business: tanggapan konsumen atas suatu produk</strong>.</li>\n",
    "\t<li><strong>Politics:&nbsp;</strong>Sentimen masyarakat sebagai strategi pemenangan pemilu/pilkada.</li>\n",
    "</ul>\n"
   ]
  },
  {
   "cell_type": "markdown",
   "metadata": {},
   "source": [
    "<img alt=\"\" src=\"images/9_SA_techniques.jpg\" />"
   ]
  },
  {
   "cell_type": "code",
   "execution_count": 26,
   "metadata": {},
   "outputs": [
    {
     "name": "stdout",
     "output_type": "stream",
     "text": [
      "Sentiment(polarity=-0.8, subjectivity=0.9)\n",
      "Polarity=Sentimen = -0.8\n"
     ]
    }
   ],
   "source": [
    "from textblob import TextBlob\n",
    "# Lexicon Based berdasarkan \n",
    "# pattern = https://www.clips.uantwerpen.be/pages/pattern-en#sentiment\n",
    "Sentence = \"I hate Bakpia\"\n",
    "testimonial = TextBlob(Sentence)\n",
    "print(testimonial.sentiment)\n",
    "print('Polarity=Sentimen =', testimonial.sentiment.polarity)"
   ]
  },
  {
   "cell_type": "markdown",
   "metadata": {},
   "source": [
    "<p>Sentiment menghasilkan Tuple berpasangan (<strong>Polaritas</strong>, <strong>Subjectivitas</strong>).&nbsp;</p>\n",
    "\n",
    "<p>Polaritas memiliki nilai [-1, 1] ==&gt; negative~positive Sentimen</p>\n",
    "\n",
    "<p>Subjectivity memiliki nilai antara 0 sampai 1, dimana 0 paling objective dan 1 paling subjective.</p>"
   ]
  },
  {
   "cell_type": "markdown",
   "metadata": {},
   "source": [
    "## Bagaimana Dengan Bahasa Indonesia?\n",
    "<p>[A simple trick]</p>"
   ]
  },
  {
   "cell_type": "code",
   "execution_count": 31,
   "metadata": {},
   "outputs": [
    {
     "name": "stdout",
     "output_type": "stream",
     "text": [
      "<class 'textblob.blob.TextBlob'> I hate Bakpia\n"
     ]
    }
   ],
   "source": [
    "kalimat = 'Saya benci Bakpia'\n",
    "K = TextBlob(kalimat).translate(to='en')\n",
    "print(type(K), K)"
   ]
  },
  {
   "cell_type": "code",
   "execution_count": 33,
   "metadata": {},
   "outputs": [
    {
     "name": "stdout",
     "output_type": "stream",
     "text": [
      "Sentiment(polarity=-0.8, subjectivity=0.9)\n",
      "Polarity=Sentimen = -0.8\n"
     ]
    }
   ],
   "source": [
    "print(K.sentiment)\n",
    "print('Polarity=Sentimen =', K.sentiment.polarity)"
   ]
  },
  {
   "cell_type": "code",
   "execution_count": 34,
   "metadata": {},
   "outputs": [],
   "source": [
    "def SenSubModMood_ID(kalimat):\n",
    "    K = TextBlob(kalimat).translate(to='en')\n",
    "    pol,sub = K.sentiment\n",
    "    if pol>0:\n",
    "        pol='positive'\n",
    "    elif pol<0:\n",
    "        pol='negative'\n",
    "    else:\n",
    "        pol = 'netral'\n",
    "    if sub>0.5:\n",
    "        sub = 'Subjektif'\n",
    "    else:\n",
    "        sub = \"Objektif\"\n",
    "    return pol, sub"
   ]
  },
  {
   "cell_type": "code",
   "execution_count": 35,
   "metadata": {},
   "outputs": [
    {
     "data": {
      "text/plain": [
       "('positive', 'Subjektif')"
      ]
     },
     "execution_count": 35,
     "metadata": {},
     "output_type": "execute_result"
    }
   ],
   "source": [
    "kalimat = 'makan bakpia pakai kecap enak'\n",
    "SenSubModMood_ID(kalimat)"
   ]
  },
  {
   "cell_type": "code",
   "execution_count": 36,
   "metadata": {},
   "outputs": [
    {
     "data": {
      "text/plain": [
       "Sentiment(classification='pos', p_pos=0.7952586206896557, p_neg=0.2047413793103446)"
      ]
     },
     "execution_count": 36,
     "metadata": {},
     "output_type": "execute_result"
    }
   ],
   "source": [
    "from textblob.sentiments import NaiveBayesAnalyzer\n",
    "# Warning, mungkin lambat karena membentuk model classifier* terlebih dahulu.\n",
    "# *Berdasarkan NLTK corpus ==> Language dependent\n",
    "Sentence = \"Textblob is amazingly simple to use\"\n",
    "blob = TextBlob(Sentence, analyzer=NaiveBayesAnalyzer())\n",
    "blob.sentiment\n",
    "# Good Explanation: https://medium.com/nlpython/sentiment-analysis-analysis-ee5da4448e37\n",
    "# Output probabilitas prediksinya"
   ]
  },
  {
   "cell_type": "markdown",
   "metadata": {},
   "source": [
    "## Bagaimana dengan Sentiment Analysis menggunakan NBC untuk Bahasa indonesia?"
   ]
  },
  {
   "cell_type": "code",
   "execution_count": 41,
   "metadata": {},
   "outputs": [],
   "source": [
    "import nltk.classify.util\n",
    "from nltk.classify import NaiveBayesClassifier\n",
    " \n",
    "def word_feats(words):\n",
    "    return dict([(word, True) for word in words])\n",
    "\n",
    "def bentukClassifier(wPos, wNeg): # ,Nt\n",
    "    positive_features = [(word_feats(pos), 'pos') for pos in wPos]\n",
    "    negative_features = [(word_feats(neg), 'neg') for neg in wNeg]\n",
    "    #neutral_features = [(word_feats(neu), 'neu') for neu in Nt]\n",
    "    train_set = negative_features + positive_features# + neutral_features\n",
    "    return NaiveBayesClassifier.train(train_set)\n",
    "\n",
    "def prediksiSentiment(kalimat, wPos, wNeg, negasi):\n",
    "    pos, neg = 0.0, 0.0\n",
    "    posWords, negWords = [], []\n",
    "    K = tau.cleanText(kalimat)\n",
    "    for w in wPos:\n",
    "        if w in K:\n",
    "            for ww in negasi:\n",
    "                kebalikan = False\n",
    "                inverted = ww+' '+w\n",
    "                if inverted in K:\n",
    "                    negWords.append(inverted)\n",
    "                    kebalikan = True\n",
    "                    break\n",
    "            if not kebalikan:\n",
    "                posWords.append(w)\n",
    "    for w in wNeg:\n",
    "        if w in K:\n",
    "            for ww in negasi:\n",
    "                kebalikan = False\n",
    "                inverted = ww+' '+w\n",
    "                if inverted in K:\n",
    "                    posWords.append(inverted)\n",
    "                    kebalikan = True\n",
    "                    break\n",
    "            if not kebalikan:\n",
    "                negWords.append(w)\n",
    "    \n",
    "    nPos, nNeg = len(posWords), len(negWords)\n",
    "    sum_ = nPos + nNeg\n",
    "    if sum_ == 0 or nPos==nNeg:\n",
    "        return 'netral', 0.0\n",
    "    else:\n",
    "        nPos, nNeg = nPos/sum_, nNeg/sum_\n",
    "        if nPos>nNeg and nPos>0.01:\n",
    "            return 'positif', nPos\n",
    "        elif nNeg>nPos and nNeg<-0.01:\n",
    "            return 'negatif', nNeg\n",
    "        else:\n",
    "            return 'netral', (nPos + nNeg)/2"
   ]
  },
  {
   "cell_type": "code",
   "execution_count": 43,
   "metadata": {},
   "outputs": [],
   "source": [
    "wPos = ('keren', 'suka', 'cinta', 'bagus', 'mantap', 'sadis', 'top', 'enak', 'sedap')\n",
    "wNeg = ('jelek', 'benci','buruk', 'najis')\n",
    "wordS = (wPos, wNeg)\n",
    "negasi = ['ga', 'tidak']"
   ]
  },
  {
   "cell_type": "code",
   "execution_count": 42,
   "metadata": {},
   "outputs": [
    {
     "data": {
      "text/plain": [
       "('netral', 0.0)"
      ]
     },
     "execution_count": 42,
     "metadata": {},
     "output_type": "execute_result"
    }
   ],
   "source": [
    "sentence = \"makan pempek minumnya teh panas, biasa aja :)\"\n",
    "prediksiSentiment(sentence, wPos, wNeg, negasi)"
   ]
  },
  {
   "cell_type": "code",
   "execution_count": 46,
   "metadata": {},
   "outputs": [
    {
     "data": {
      "text/plain": [
       "('positif', 1.0)"
      ]
     },
     "execution_count": 46,
     "metadata": {},
     "output_type": "execute_result"
    }
   ],
   "source": [
    "sentence = \"makan gorengan sambil minum kopi, enak tenan\"\n",
    "prediksiSentiment(sentence, wPos, wNeg, negasi)"
   ]
  },
  {
   "cell_type": "markdown",
   "metadata": {},
   "source": [
    "## Bagaimana jika mau melakukannya dengan model klasifikasi (supervised learning) lain seperti modul sebelumnya?\n",
    "(e.g. SVM, NN, DT, k-NN, etc)"
   ]
  },
  {
   "cell_type": "code",
   "execution_count": 47,
   "metadata": {},
   "outputs": [
    {
     "data": {
      "text/plain": [
       "'Done!'"
      ]
     },
     "execution_count": 47,
     "metadata": {},
     "output_type": "execute_result"
    }
   ],
   "source": [
    "# text Classification : independent variable\n",
    "d1 = 'Minum kopi pagi-pagi sambil makan pisang goreng is the best'\n",
    "d2 = 'Belajar NLP dan Text Mining ternyata seru banget'\n",
    "d3 = 'Palembang agak mendung hari ini'\n",
    "d4 =  'Sudah lumayan lama tukang Bakso belum lewat'\n",
    "d5 = 'Aduh ga banget makan Mie Ayam pakai kecap, please deh'\n",
    "d6 = 'Benci banget kalau melihat orang buang sampah sembarangan di jalan'\n",
    "d7 = 'Kalau liat orang ga taat aturan rasanya ingin ngegampar aja'\n",
    "d8 = 'Nikmatnya meniti jalan jalan penuh romansa di tengah kota bernuansa pendidikan'\n",
    "d9 = 'kemajuan bangsa ini ada pada kegigihan masyarakat dalam belajar dan bekerja'\n",
    "D = [d1,d2,d3,d4,d5,d6,d7,d8,d9]\n",
    "'Done!'"
   ]
  },
  {
   "cell_type": "code",
   "execution_count": 48,
   "metadata": {},
   "outputs": [
    {
     "name": "stdout",
     "output_type": "stream",
     "text": [
      "['positif', 'positif', 'netral', 'netral', 'negatif', 'negatif', 'negatif', 'netral', 'positif']\n"
     ]
    }
   ],
   "source": [
    "# dependent variable, misal 0=positif, 1=netral, 2=negatif\n",
    "Class = [0,0,1,1,2,2,2,1,0]\n",
    "dic = {0:'positif', 1:'netral', 2:'negatif'}\n",
    "print([dic[c] for c in Class])"
   ]
  },
  {
   "cell_type": "code",
   "execution_count": 50,
   "metadata": {},
   "outputs": [
    {
     "name": "stdout",
     "output_type": "stream",
     "text": [
      "1.0\n"
     ]
    }
   ],
   "source": [
    "# Lakukan klasifikasi (misal dengan SVM)\n",
    "dSVM = svm.SVC(kernel='linear')\n",
    "sen = dSVM.fit(vsm, Class).predict(vsm)\n",
    "print(accuracy_score(Class, sen))\n",
    "# Memakai seluruh training data karena sampel yang sangat kecil"
   ]
  },
  {
   "cell_type": "code",
   "execution_count": 49,
   "metadata": {},
   "outputs": [
    {
     "name": "stdout",
     "output_type": "stream",
     "text": [
      "(9, 144)\n"
     ]
    },
    {
     "data": {
      "text/plain": [
       "\"{'minum': 91, 'kopi': 65, 'pagi': 104, 'sambil': 122, 'makan': 76, 'pisang': 114, 'goreng': 43, 'is': 51, 'the': 140, 'best': 28, 'minum kopi': 92, 'kopi pagi': 66, 'pagi pagi': 105, 'pagi sambil': 10\""
      ]
     },
     "execution_count": 49,
     "metadata": {},
     "output_type": "execute_result"
    }
   ],
   "source": [
    "# Bentuk VSM-nya seperti kemarin (skip preprocessing)\n",
    "from sklearn.feature_extraction.text import TfidfVectorizer\n",
    "\n",
    "vectorizer = TfidfVectorizer(ngram_range=(1, 2))\n",
    "vsm = vectorizer.fit_transform(D)\n",
    "vsm = vsm[vsm.getnnz(1)>0][:,vsm.getnnz(0)>0] # Remove zero rows and columns\n",
    "print(vsm.shape)\n",
    "str(vectorizer.vocabulary_)[:200]"
   ]
  },
  {
   "cell_type": "code",
   "execution_count": 10,
   "metadata": {
    "slideshow": {
     "slide_type": "slide"
    }
   },
   "outputs": [
    {
     "data": {
      "text/html": [
       "<div>\n",
       "<style scoped>\n",
       "    .dataframe tbody tr th:only-of-type {\n",
       "        vertical-align: middle;\n",
       "    }\n",
       "\n",
       "    .dataframe tbody tr th {\n",
       "        vertical-align: top;\n",
       "    }\n",
       "\n",
       "    .dataframe thead th {\n",
       "        text-align: right;\n",
       "    }\n",
       "</style>\n",
       "<table border=\"1\" class=\"dataframe\">\n",
       "  <thead>\n",
       "    <tr style=\"text-align: right;\">\n",
       "      <th></th>\n",
       "      <th>sentimen</th>\n",
       "      <th>Tweet</th>\n",
       "    </tr>\n",
       "  </thead>\n",
       "  <tbody>\n",
       "    <tr>\n",
       "      <th>0</th>\n",
       "      <td>-1</td>\n",
       "      <td>lagu bosan apa yang aku save ni huhuhuhuhuhuhu...</td>\n",
       "    </tr>\n",
       "    <tr>\n",
       "      <th>1</th>\n",
       "      <td>-1</td>\n",
       "      <td>kita lanjutkan saja diam ini hingga kau dan ak...</td>\n",
       "    </tr>\n",
       "    <tr>\n",
       "      <th>2</th>\n",
       "      <td>1</td>\n",
       "      <td>doa rezeki tak putus inna haa zaa larizquna ma...</td>\n",
       "    </tr>\n",
       "    <tr>\n",
       "      <th>3</th>\n",
       "      <td>1</td>\n",
       "      <td>makasih loh ntar kita bagi hasil aku 99 9 sisa...</td>\n",
       "    </tr>\n",
       "    <tr>\n",
       "      <th>4</th>\n",
       "      <td>-1</td>\n",
       "      <td>aku tak faham betul jenis orang malaysia yang ...</td>\n",
       "    </tr>\n",
       "  </tbody>\n",
       "</table>\n",
       "</div>"
      ],
      "text/plain": [
       "   sentimen                                              Tweet\n",
       "0        -1  lagu bosan apa yang aku save ni huhuhuhuhuhuhu...\n",
       "1        -1  kita lanjutkan saja diam ini hingga kau dan ak...\n",
       "2         1  doa rezeki tak putus inna haa zaa larizquna ma...\n",
       "3         1  makasih loh ntar kita bagi hasil aku 99 9 sisa...\n",
       "4        -1  aku tak faham betul jenis orang malaysia yang ..."
      ]
     },
     "execution_count": 10,
     "metadata": {},
     "output_type": "execute_result"
    }
   ],
   "source": [
    "import nltk, warnings; warnings.simplefilter('ignore')\n",
    "import pandas as pd, taudataNlpTm as tau\n",
    "from tqdm import tqdm\n",
    "\n",
    "# Load DataFile CSV\n",
    "dataSA = pd.read_csv('data/ind_SA.csv') # run locally\n",
    "dataSA.head()"
   ]
  },
  {
   "cell_type": "code",
   "execution_count": 11,
   "metadata": {
    "slideshow": {
     "slide_type": "slide"
    }
   },
   "outputs": [
    {
     "data": {
      "text/html": [
       "<div>\n",
       "<style scoped>\n",
       "    .dataframe tbody tr th:only-of-type {\n",
       "        vertical-align: middle;\n",
       "    }\n",
       "\n",
       "    .dataframe tbody tr th {\n",
       "        vertical-align: top;\n",
       "    }\n",
       "\n",
       "    .dataframe thead th {\n",
       "        text-align: right;\n",
       "    }\n",
       "</style>\n",
       "<table border=\"1\" class=\"dataframe\">\n",
       "  <thead>\n",
       "    <tr style=\"text-align: right;\">\n",
       "      <th></th>\n",
       "      <th>sentimen</th>\n",
       "      <th>Tweet</th>\n",
       "      <th>tweet_cleaned</th>\n",
       "    </tr>\n",
       "  </thead>\n",
       "  <tbody>\n",
       "    <tr>\n",
       "      <th>0</th>\n",
       "      <td>-1</td>\n",
       "      <td>lagu bosan apa yang aku save ni huhuhuhuhuhuhu...</td>\n",
       "      <td></td>\n",
       "    </tr>\n",
       "    <tr>\n",
       "      <th>1</th>\n",
       "      <td>-1</td>\n",
       "      <td>kita lanjutkan saja diam ini hingga kau dan ak...</td>\n",
       "      <td></td>\n",
       "    </tr>\n",
       "    <tr>\n",
       "      <th>2</th>\n",
       "      <td>1</td>\n",
       "      <td>doa rezeki tak putus inna haa zaa larizquna ma...</td>\n",
       "      <td></td>\n",
       "    </tr>\n",
       "    <tr>\n",
       "      <th>3</th>\n",
       "      <td>1</td>\n",
       "      <td>makasih loh ntar kita bagi hasil aku 99 9 sisa...</td>\n",
       "      <td></td>\n",
       "    </tr>\n",
       "    <tr>\n",
       "      <th>4</th>\n",
       "      <td>-1</td>\n",
       "      <td>aku tak faham betul jenis orang malaysia yang ...</td>\n",
       "      <td></td>\n",
       "    </tr>\n",
       "  </tbody>\n",
       "</table>\n",
       "</div>"
      ],
      "text/plain": [
       "   sentimen                                              Tweet tweet_cleaned\n",
       "0        -1  lagu bosan apa yang aku save ni huhuhuhuhuhuhu...              \n",
       "1        -1  kita lanjutkan saja diam ini hingga kau dan ak...              \n",
       "2         1  doa rezeki tak putus inna haa zaa larizquna ma...              \n",
       "3         1  makasih loh ntar kita bagi hasil aku 99 9 sisa...              \n",
       "4        -1  aku tak faham betul jenis orang malaysia yang ...              "
      ]
     },
     "execution_count": 11,
     "metadata": {},
     "output_type": "execute_result"
    }
   ],
   "source": [
    "dataSA['tweet_cleaned'] = ''\n",
    "dataSA.head()"
   ]
  },
  {
   "cell_type": "markdown",
   "metadata": {
    "slideshow": {
     "slide_type": "slide"
    }
   },
   "source": [
    "# PreProcessing\n",
    "\n",
    "### Detail lebih lanjut di https://tau-data.id/nlptm-01/"
   ]
  },
  {
   "cell_type": "code",
   "execution_count": 12,
   "metadata": {
    "slideshow": {
     "slide_type": "slide"
    }
   },
   "outputs": [
    {
     "name": "stderr",
     "output_type": "stream",
     "text": [
      "10806it [00:10, 1007.89it/s]\n"
     ]
    },
    {
     "data": {
      "text/html": [
       "<div>\n",
       "<style scoped>\n",
       "    .dataframe tbody tr th:only-of-type {\n",
       "        vertical-align: middle;\n",
       "    }\n",
       "\n",
       "    .dataframe tbody tr th {\n",
       "        vertical-align: top;\n",
       "    }\n",
       "\n",
       "    .dataframe thead th {\n",
       "        text-align: right;\n",
       "    }\n",
       "</style>\n",
       "<table border=\"1\" class=\"dataframe\">\n",
       "  <thead>\n",
       "    <tr style=\"text-align: right;\">\n",
       "      <th></th>\n",
       "      <th>sentimen</th>\n",
       "      <th>Tweet</th>\n",
       "      <th>tweet_cleaned</th>\n",
       "    </tr>\n",
       "  </thead>\n",
       "  <tbody>\n",
       "    <tr>\n",
       "      <th>0</th>\n",
       "      <td>-1</td>\n",
       "      <td>lagu bosan apa yang aku save ni huhuhuhuhuhuhu...</td>\n",
       "      <td>lagu bosan apa yang aku save ni huhuhuhuhuhuhu...</td>\n",
       "    </tr>\n",
       "    <tr>\n",
       "      <th>1</th>\n",
       "      <td>-1</td>\n",
       "      <td>kita lanjutkan saja diam ini hingga kau dan ak...</td>\n",
       "      <td>kita lanjutkan saja diam ini hingga kau dan ak...</td>\n",
       "    </tr>\n",
       "    <tr>\n",
       "      <th>2</th>\n",
       "      <td>1</td>\n",
       "      <td>doa rezeki tak putus inna haa zaa larizquna ma...</td>\n",
       "      <td>doa rezeki tak putus inna haa zaa larizquna ma...</td>\n",
       "    </tr>\n",
       "    <tr>\n",
       "      <th>3</th>\n",
       "      <td>1</td>\n",
       "      <td>makasih loh ntar kita bagi hasil aku 99 9 sisa...</td>\n",
       "      <td>makasih loh ntar kita bagi hasil aku 99 sisany...</td>\n",
       "    </tr>\n",
       "    <tr>\n",
       "      <th>4</th>\n",
       "      <td>-1</td>\n",
       "      <td>aku tak faham betul jenis orang malaysia yang ...</td>\n",
       "      <td>aku tak faham betul jenis orang malaysia yang ...</td>\n",
       "    </tr>\n",
       "  </tbody>\n",
       "</table>\n",
       "</div>"
      ],
      "text/plain": [
       "   sentimen                                              Tweet  \\\n",
       "0        -1  lagu bosan apa yang aku save ni huhuhuhuhuhuhu...   \n",
       "1        -1  kita lanjutkan saja diam ini hingga kau dan ak...   \n",
       "2         1  doa rezeki tak putus inna haa zaa larizquna ma...   \n",
       "3         1  makasih loh ntar kita bagi hasil aku 99 9 sisa...   \n",
       "4        -1  aku tak faham betul jenis orang malaysia yang ...   \n",
       "\n",
       "                                       tweet_cleaned  \n",
       "0  lagu bosan apa yang aku save ni huhuhuhuhuhuhu...  \n",
       "1  kita lanjutkan saja diam ini hingga kau dan ak...  \n",
       "2  doa rezeki tak putus inna haa zaa larizquna ma...  \n",
       "3  makasih loh ntar kita bagi hasil aku 99 sisany...  \n",
       "4  aku tak faham betul jenis orang malaysia yang ...  "
      ]
     },
     "execution_count": 12,
     "metadata": {},
     "output_type": "execute_result"
    }
   ],
   "source": [
    "stopId, lemmaId = tau.LoadStopWords(lang='id') \n",
    "for i, d in tqdm(dataSA.iterrows()):\n",
    "    doc = tau.cleanText(d.Tweet, lemma=lemmaId, stops = None, symbols_remove = True, min_charLen = 2, fixTag= True)\n",
    "    dataSA.at[i, \"tweet_cleaned\"] = doc\n",
    "    \n",
    "dataSA.head()"
   ]
  },
  {
   "cell_type": "code",
   "execution_count": 14,
   "metadata": {
    "slideshow": {
     "slide_type": "slide"
    }
   },
   "outputs": [
    {
     "name": "stdout",
     "output_type": "stream",
     "text": [
      "(8644,) (2162,)\n"
     ]
    }
   ],
   "source": [
    "from sklearn.model_selection import train_test_split\n",
    "\n",
    "seed = 99 # Biasakan menggunakan ini\n",
    "testSize = 0.2\n",
    "\n",
    "x_train, x_test, y_train, y_test = train_test_split(dataSA[\"tweet_cleaned\"], dataSA[\"sentimen\"], \n",
    "                                                    test_size=testSize, random_state = seed)\n",
    "print(x_train.shape, x_test.shape)"
   ]
  },
  {
   "cell_type": "code",
   "execution_count": 15,
   "metadata": {
    "slideshow": {
     "slide_type": "slide"
    }
   },
   "outputs": [
    {
     "name": "stdout",
     "output_type": "stream",
     "text": [
      "(8644, 20681) (2162, 20681)\n"
     ]
    }
   ],
   "source": [
    "from sklearn.feature_extraction.text import TfidfVectorizer\n",
    "\n",
    "vsm = TfidfVectorizer(lowercase=True, smooth_idf= True, sublinear_tf=True, \n",
    "                                   ngram_range=(1, 2), max_df=0.90, min_df=2)\n",
    "\n",
    "x_train = vsm.fit_transform(x_train) # \"Fit_Transform\"\n",
    "x_test = vsm.transform(x_test) # Perhatikan disini hanya \"Transform\"\n",
    "\n",
    "print(x_train.shape, x_test.shape) # Jumlah kolom Sama ==> ini penting"
   ]
  },
  {
   "cell_type": "markdown",
   "metadata": {
    "slideshow": {
     "slide_type": "slide"
    }
   },
   "source": [
    "# Document Classification ~ Sentiment Analysis\n",
    "\n",
    "## https://tau-data.id/slcm-01/\n",
    "## https://tau-data.id/slcm-02/\n",
    "## https://tau-data.id/slcm-03/"
   ]
  },
  {
   "cell_type": "code",
   "execution_count": 16,
   "metadata": {
    "slideshow": {
     "slide_type": "slide"
    }
   },
   "outputs": [
    {
     "name": "stdout",
     "output_type": "stream",
     "text": [
      "Akurasi =  0.4592969472710453\n",
      "[[111 360  90]\n",
      " [143 767 193]\n",
      " [ 66 317 115]]\n",
      "              precision    recall  f1-score   support\n",
      "\n",
      "          -1       0.35      0.20      0.25       561\n",
      "           0       0.53      0.70      0.60      1103\n",
      "           1       0.29      0.23      0.26       498\n",
      "\n",
      "    accuracy                           0.46      2162\n",
      "   macro avg       0.39      0.37      0.37      2162\n",
      "weighted avg       0.43      0.46      0.43      2162\n",
      "\n"
     ]
    }
   ],
   "source": [
    "from sklearn import neighbors\n",
    "from sklearn.metrics import accuracy_score\n",
    "from sklearn.metrics import confusion_matrix, classification_report\n",
    "\n",
    "\n",
    "model = neighbors.KNeighborsClassifier()\n",
    "kNN = model.fit(x_train, y_train)\n",
    "y_kNN = kNN.predict(x_test)\n",
    "\n",
    "print('Akurasi = ', accuracy_score(y_test, y_kNN))\n",
    "print(confusion_matrix(y_test, y_kNN))\n",
    "print(classification_report(y_test, y_kNN))"
   ]
  },
  {
   "cell_type": "code",
   "execution_count": 17,
   "metadata": {
    "slideshow": {
     "slide_type": "slide"
    }
   },
   "outputs": [
    {
     "name": "stdout",
     "output_type": "stream",
     "text": [
      "Akurasi =  0.5952821461609621\n",
      "[[174 365  22]\n",
      " [ 77 973  53]\n",
      " [ 53 305 140]]\n",
      "              precision    recall  f1-score   support\n",
      "\n",
      "          -1       0.57      0.31      0.40       561\n",
      "           0       0.59      0.88      0.71      1103\n",
      "           1       0.65      0.28      0.39       498\n",
      "\n",
      "    accuracy                           0.60      2162\n",
      "   macro avg       0.61      0.49      0.50      2162\n",
      "weighted avg       0.60      0.60      0.56      2162\n",
      "\n"
     ]
    }
   ],
   "source": [
    "from sklearn import svm\n",
    "\n",
    "dSVM = svm.SVC()\n",
    "dSVM.fit(x_train, y_train)\n",
    "y_SVM = dSVM.predict(x_test)\n",
    "print('Akurasi = ', accuracy_score(y_test, y_SVM))\n",
    "print(confusion_matrix(y_test, y_SVM))\n",
    "print(classification_report(y_test, y_SVM))"
   ]
  },
  {
   "cell_type": "code",
   "execution_count": 18,
   "metadata": {
    "slideshow": {
     "slide_type": "slide"
    }
   },
   "outputs": [
    {
     "name": "stdout",
     "output_type": "stream",
     "text": [
      "Akurasi =  0.5638297872340425\n",
      "[[259 205  97]\n",
      " [196 723 184]\n",
      " [ 85 176 237]]\n",
      "              precision    recall  f1-score   support\n",
      "\n",
      "          -1       0.48      0.46      0.47       561\n",
      "           0       0.65      0.66      0.66      1103\n",
      "           1       0.46      0.48      0.47       498\n",
      "\n",
      "    accuracy                           0.56      2162\n",
      "   macro avg       0.53      0.53      0.53      2162\n",
      "weighted avg       0.56      0.56      0.56      2162\n",
      "\n"
     ]
    }
   ],
   "source": [
    "from sklearn.neural_network import MLPClassifier\n",
    "\n",
    "NN = MLPClassifier()\n",
    "NN.fit(x_train, y_train)\n",
    "y_NN = NN.predict(x_test)\n",
    "\n",
    "print('Akurasi = ', accuracy_score(y_test, y_NN))\n",
    "print(confusion_matrix(y_test, y_NN))\n",
    "print(classification_report(y_test, y_NN))"
   ]
  },
  {
   "cell_type": "markdown",
   "metadata": {
    "slideshow": {
     "slide_type": "slide"
    }
   },
   "source": [
    "# Optimasi Parameter\n",
    "\n",
    "* Preprocessing di ML di optimalkan bergantung model.\n",
    "* Parameter tiap model di ML berbeda-beda dan nilai optimalnya berbeda pada setiap kasus.\n",
    "\n",
    "<img alt=\"\" src=\"images/rand_grid_search.png\" />"
   ]
  },
  {
   "cell_type": "code",
   "execution_count": 19,
   "metadata": {
    "slideshow": {
     "slide_type": "slide"
    }
   },
   "outputs": [],
   "source": [
    "from sklearn.model_selection import cross_val_score, RandomizedSearchCV, GridSearchCV\n",
    "from sklearn.pipeline import make_pipeline "
   ]
  },
  {
   "cell_type": "code",
   "execution_count": 20,
   "metadata": {
    "slideshow": {
     "slide_type": "slide"
    }
   },
   "outputs": [
    {
     "name": "stdout",
     "output_type": "stream",
     "text": [
      "Fitting 5 folds for each of 162 candidates, totalling 810 fits\n"
     ]
    },
    {
     "name": "stderr",
     "output_type": "stream",
     "text": [
      "[Parallel(n_jobs=-1)]: Using backend LokyBackend with 8 concurrent workers.\n",
      "[Parallel(n_jobs=-1)]: Done  34 tasks      | elapsed:   12.0s\n",
      "[Parallel(n_jobs=-1)]: Done 184 tasks      | elapsed:   41.9s\n",
      "[Parallel(n_jobs=-1)]: Done 434 tasks      | elapsed:  1.6min\n",
      "[Parallel(n_jobs=-1)]: Done 784 tasks      | elapsed:  2.8min\n",
      "[Parallel(n_jobs=-1)]: Done 810 out of 810 | elapsed:  2.9min finished\n"
     ]
    },
    {
     "name": "stdout",
     "output_type": "stream",
     "text": [
      "0.4846140457982563\n",
      "{'kneighborsclassifier__n_neighbors': 10, 'kneighborsclassifier__weights': 'distance', 'tfidfvectorizer__max_df': 0.5, 'tfidfvectorizer__min_df': 15, 'tfidfvectorizer__ngram_range': (1, 3), 'tfidfvectorizer__smooth_idf': True, 'tfidfvectorizer__sublinear_tf': True}\n"
     ]
    }
   ],
   "source": [
    "# Optimal parameter k-NN dengan GRIDSEARCH\n",
    "# https://scikit-learn.org/stable/modules/generated/sklearn.neighbors.KNeighborsClassifier.html\n",
    "\n",
    "x_train, x_test, y_train, y_test = train_test_split(dataSA[\"tweet_cleaned\"], dataSA[\"sentimen\"], \n",
    "                                                    test_size=testSize, random_state = seed)\n",
    "# Perhatikan kita pakai data awal : Text karena kita akan optimalkan preprocessing juga\n",
    "\n",
    "kCV = 5\n",
    "metric = 'accuracy'\n",
    "params = {}\n",
    "params['tfidfvectorizer__min_df'] = [5, 10, 15]\n",
    "params['tfidfvectorizer__max_df'] = [0.5, 0.75, 0.95]\n",
    "params['tfidfvectorizer__smooth_idf'] = [True] # [True, False]\n",
    "params['tfidfvectorizer__sublinear_tf'] = [True] # [True, False]\n",
    "params['tfidfvectorizer__ngram_range'] = [(1, 1), (1, 2), (1,3)]\n",
    "params['kneighborsclassifier__n_neighbors'] = [3, 5, 10]\n",
    "params['kneighborsclassifier__weights'] = ('distance', 'uniform')\n",
    "\n",
    "pipe = make_pipeline(TfidfVectorizer(), neighbors.KNeighborsClassifier())\n",
    "gridCV = GridSearchCV(pipe, params, cv=kCV, scoring=metric, verbose=1, n_jobs=-1) # , pre_dispatch='2*n_jobs', pre_dispatch min 2* n_jobs\n",
    "gridCV.fit(x_train, y_train)\n",
    "print(gridCV.best_score_)\n",
    "print(gridCV.best_params_)"
   ]
  },
  {
   "cell_type": "code",
   "execution_count": 21,
   "metadata": {
    "slideshow": {
     "slide_type": "slide"
    }
   },
   "outputs": [
    {
     "name": "stdout",
     "output_type": "stream",
     "text": [
      "['memory', 'steps', 'svc', 'svc__C', 'svc__break_ties', 'svc__cache_size', 'svc__class_weight', 'svc__coef0', 'svc__decision_function_shape', 'svc__degree', 'svc__gamma', 'svc__kernel', 'svc__max_iter', 'svc__probability', 'svc__random_state', 'svc__shrinking', 'svc__tol', 'svc__verbose', 'tfidfvectorizer', 'tfidfvectorizer__analyzer', 'tfidfvectorizer__binary', 'tfidfvectorizer__decode_error', 'tfidfvectorizer__dtype', 'tfidfvectorizer__encoding', 'tfidfvectorizer__input', 'tfidfvectorizer__lowercase', 'tfidfvectorizer__max_df', 'tfidfvectorizer__max_features', 'tfidfvectorizer__min_df', 'tfidfvectorizer__ngram_range', 'tfidfvectorizer__norm', 'tfidfvectorizer__preprocessor', 'tfidfvectorizer__smooth_idf', 'tfidfvectorizer__stop_words', 'tfidfvectorizer__strip_accents', 'tfidfvectorizer__sublinear_tf', 'tfidfvectorizer__token_pattern', 'tfidfvectorizer__tokenizer', 'tfidfvectorizer__use_idf', 'tfidfvectorizer__vocabulary', 'verbose']\n"
     ]
    }
   ],
   "source": [
    "# Optimal parameter SVM dengan RandomSEARCH\n",
    "# https://scikit-learn.org/stable/modules/generated/sklearn.svm.SVC.html\n",
    "\n",
    "pipeSVM = make_pipeline(TfidfVectorizer(), svm.SVC())\n",
    "print(sorted(pipeSVM.get_params().keys()))"
   ]
  },
  {
   "cell_type": "code",
   "execution_count": 22,
   "metadata": {
    "slideshow": {
     "slide_type": "slide"
    }
   },
   "outputs": [
    {
     "name": "stdout",
     "output_type": "stream",
     "text": [
      "Fitting 5 folds for each of 30 candidates, totalling 150 fits\n"
     ]
    },
    {
     "name": "stderr",
     "output_type": "stream",
     "text": [
      "[Parallel(n_jobs=-1)]: Using backend LokyBackend with 8 concurrent workers.\n",
      "[Parallel(n_jobs=-1)]: Done  34 tasks      | elapsed:  1.4min\n",
      "[Parallel(n_jobs=-1)]: Done 150 out of 150 | elapsed: 11.7min finished\n"
     ]
    },
    {
     "name": "stdout",
     "output_type": "stream",
     "text": [
      "0.5967140741811794\n",
      "{'tfidfvectorizer__sublinear_tf': True, 'tfidfvectorizer__smooth_idf': True, 'tfidfvectorizer__ngram_range': (1, 3), 'tfidfvectorizer__min_df': 5, 'tfidfvectorizer__max_df': 0.75, 'svc__kernel': 'rbf', 'svc__gamma': 1.0, 'svc__decision_function_shape': 'ovr', 'svc__C': 10}\n"
     ]
    }
   ],
   "source": [
    "# Optimal parameter SVM dengan RandomizedSearch\n",
    "\n",
    "paramsSVM = {}\n",
    "paramsSVM['tfidfvectorizer__min_df'] = [5, 10, 30]\n",
    "paramsSVM['tfidfvectorizer__max_df'] = [0.5, 0.75, 0.95]\n",
    "paramsSVM['tfidfvectorizer__smooth_idf'] = [True] # [True, False]\n",
    "paramsSVM['tfidfvectorizer__sublinear_tf'] = [True] # [True, False]\n",
    "paramsSVM['tfidfvectorizer__ngram_range'] = [(1, 1), (1, 2), (1,3)]\n",
    "paramsSVM['svc__C'] = [0.1, 10, 100] #sp.stats.uniform(scale=1)\n",
    "paramsSVM['svc__gamma'] = [1.0, 0.1, 0.001]\n",
    "paramsSVM['svc__kernel'] = ['rbf', 'poly', 'sigmoid', 'linear']\n",
    "paramsSVM['svc__decision_function_shape'] = ['ovo', 'ovr']\n",
    "\n",
    "randsvmCV = RandomizedSearchCV(pipeSVM, paramsSVM, cv=kCV, scoring=metric, verbose=1, n_iter=30, random_state=seed, n_jobs=-1) # , pre_dispatch='2*n_jobs' pre_dispatch min 2* n_jobs\n",
    "randsvmCV.fit(x_train, y_train)\n",
    "print(randsvmCV.best_score_)\n",
    "print(randsvmCV.best_params_)"
   ]
  },
  {
   "cell_type": "code",
   "execution_count": 23,
   "metadata": {
    "slideshow": {
     "slide_type": "slide"
    }
   },
   "outputs": [
    {
     "name": "stdout",
     "output_type": "stream",
     "text": [
      "['memory', 'mlpclassifier', 'mlpclassifier__activation', 'mlpclassifier__alpha', 'mlpclassifier__batch_size', 'mlpclassifier__beta_1', 'mlpclassifier__beta_2', 'mlpclassifier__early_stopping', 'mlpclassifier__epsilon', 'mlpclassifier__hidden_layer_sizes', 'mlpclassifier__learning_rate', 'mlpclassifier__learning_rate_init', 'mlpclassifier__max_fun', 'mlpclassifier__max_iter', 'mlpclassifier__momentum', 'mlpclassifier__n_iter_no_change', 'mlpclassifier__nesterovs_momentum', 'mlpclassifier__power_t', 'mlpclassifier__random_state', 'mlpclassifier__shuffle', 'mlpclassifier__solver', 'mlpclassifier__tol', 'mlpclassifier__validation_fraction', 'mlpclassifier__verbose', 'mlpclassifier__warm_start', 'steps', 'tfidfvectorizer', 'tfidfvectorizer__analyzer', 'tfidfvectorizer__binary', 'tfidfvectorizer__decode_error', 'tfidfvectorizer__dtype', 'tfidfvectorizer__encoding', 'tfidfvectorizer__input', 'tfidfvectorizer__lowercase', 'tfidfvectorizer__max_df', 'tfidfvectorizer__max_features', 'tfidfvectorizer__min_df', 'tfidfvectorizer__ngram_range', 'tfidfvectorizer__norm', 'tfidfvectorizer__preprocessor', 'tfidfvectorizer__smooth_idf', 'tfidfvectorizer__stop_words', 'tfidfvectorizer__strip_accents', 'tfidfvectorizer__sublinear_tf', 'tfidfvectorizer__token_pattern', 'tfidfvectorizer__tokenizer', 'tfidfvectorizer__use_idf', 'tfidfvectorizer__vocabulary', 'verbose']\n"
     ]
    }
   ],
   "source": [
    "# Optimal parameter ANN dengan RandomSEARCH\n",
    "# https://scikit-learn.org/stable/modules/generated/sklearn.neural_network.MLPClassifier.html\n",
    "\n",
    "pipeNN = make_pipeline(TfidfVectorizer(), MLPClassifier())\n",
    "print(sorted(pipeNN.get_params().keys()))"
   ]
  },
  {
   "cell_type": "code",
   "execution_count": 24,
   "metadata": {
    "slideshow": {
     "slide_type": "slide"
    }
   },
   "outputs": [
    {
     "name": "stdout",
     "output_type": "stream",
     "text": [
      "Fitting 5 folds for each of 30 candidates, totalling 150 fits\n"
     ]
    },
    {
     "name": "stderr",
     "output_type": "stream",
     "text": [
      "[Parallel(n_jobs=-1)]: Using backend LokyBackend with 8 concurrent workers.\n",
      "[Parallel(n_jobs=-1)]: Done  34 tasks      | elapsed:  4.4min\n",
      "[Parallel(n_jobs=-1)]: Done 150 out of 150 | elapsed: 12.5min finished\n"
     ]
    },
    {
     "name": "stdout",
     "output_type": "stream",
     "text": [
      "0.5653633281922756\n",
      "{'tfidfvectorizer__sublinear_tf': True, 'tfidfvectorizer__smooth_idf': True, 'tfidfvectorizer__ngram_range': (1, 1), 'tfidfvectorizer__min_df': 10, 'tfidfvectorizer__max_df': 0.95, 'mlpclassifier__learning_rate': 'invscaling', 'mlpclassifier__hidden_layer_sizes': (5, 10), 'mlpclassifier__activation': 'logistic'}\n"
     ]
    }
   ],
   "source": [
    "paramsNN = {}\n",
    "paramsNN['tfidfvectorizer__min_df'] = [5, 10, 30]\n",
    "paramsNN['tfidfvectorizer__max_df'] = [0.5, 0.75, 0.95]\n",
    "paramsNN['tfidfvectorizer__smooth_idf'] = [True] # [True, False]\n",
    "paramsNN['tfidfvectorizer__sublinear_tf'] = [True] # [True, False]\n",
    "paramsNN['tfidfvectorizer__ngram_range'] = [(1, 1), (1, 2), (1,3)]\n",
    "paramsNN['mlpclassifier__hidden_layer_sizes'] = [(5,10), (20,30), (30,50)] \n",
    "paramsNN['mlpclassifier__learning_rate'] = ['constant', 'invscaling', 'adaptive']\n",
    "paramsNN['mlpclassifier__activation'] = ['logistic', 'tanh', 'relu' ]\n",
    "\n",
    "randNnCV = RandomizedSearchCV(pipeNN, paramsNN, cv=kCV, scoring=metric, verbose=1, n_iter=30, random_state=seed, n_jobs=-1) # , pre_dispatch='2*n_jobs' pre_dispatch min 2* n_jobs\n",
    "randNnCV.fit(x_train, y_train)\n",
    "print(randNnCV.best_score_)\n",
    "print(randNnCV.best_params_)"
   ]
  },
  {
   "cell_type": "markdown",
   "metadata": {
    "slideshow": {
     "slide_type": "slide"
    }
   },
   "source": [
    "# Model Selection\n",
    "\n",
    "<img alt=\"\" src=\"images/grid_search_workflow.png\" />"
   ]
  },
  {
   "cell_type": "code",
   "execution_count": 25,
   "metadata": {
    "slideshow": {
     "slide_type": "slide"
    }
   },
   "outputs": [
    {
     "data": {
      "text/plain": [
       "array([0.53528653, 0.53030955, 0.50589936, 0.54419268, 0.51295707,\n",
       "       0.52660792, 0.54789431, 0.53551587, 0.53135142, 0.51191668,\n",
       "       0.55981125, 0.55888459, 0.5278808 , 0.5601574 , 0.55842196,\n",
       "       0.56212506, 0.55969525, 0.55124865, 0.53898676, 0.5252199 ,\n",
       "       0.51631161, 0.53239194, 0.52892119, 0.55957904, 0.51561744,\n",
       "       0.56536333, 0.53806244, 0.55981166, 0.56154562, 0.55819182])"
      ]
     },
     "execution_count": 25,
     "metadata": {},
     "output_type": "execute_result"
    }
   ],
   "source": [
    "knn_score = gridCV.cv_results_['mean_test_score'][:10]\n",
    "svm_score = randsvmCV.cv_results_['mean_test_score'][:10]\n",
    "ann_score = randNnCV.cv_results_['mean_test_score'][:10]\n",
    "ann_score"
   ]
  },
  {
   "cell_type": "code",
   "execution_count": 26,
   "metadata": {
    "slideshow": {
     "slide_type": "slide"
    }
   },
   "outputs": [
    {
     "name": "stdout",
     "output_type": "stream",
     "text": [
      "Accuracy kNN: 0.40 (+/- 0.07)\n",
      "Accuracy SVM: 0.52 (+/- 0.06)\n",
      "Accuracy NN: 0.54 (+/- 0.04)\n"
     ]
    },
    {
     "data": {
      "image/png": "[encoded data removed]",
      "text/plain": [
       "<Figure size 432x288 with 1 Axes>"
      ]
     },
     "metadata": {
      "needs_background": "light"
     },
     "output_type": "display_data"
    }
   ],
   "source": [
    "import seaborn as sns, matplotlib.pyplot as plt\n",
    "\n",
    "models = ['kNN', 'SVM', 'NN']\n",
    "scores = [knn_score, svm_score, ann_score]\n",
    "\n",
    "data = {m:s for m,s in zip(models, scores)}\n",
    "for name in data.keys():\n",
    "    print(\"Accuracy %s: %0.2f (+/- %0.2f)\" % (name, data[name].mean(), data[name].std() * 2))\n",
    "\n",
    "sns.boxplot(data=pd.DataFrame(data), orient='h')\n",
    "plt.show()"
   ]
  },
  {
   "cell_type": "markdown",
   "metadata": {
    "slideshow": {
     "slide_type": "slide"
    }
   },
   "source": [
    "<h2 id=\"Ensemble-Model\">Ensemble Model</h2>\n",
    "\n",
    "<ul>\n",
    "\t<li>What? a learning algorithms that construct a set of classifiers and then classify new data points by taking a (weighted) vote of their predictions.</li>\n",
    "\t<li>Why? Better prediction, More stable model</li>\n",
    "\t<li>How? Bagging &amp; Boosting</li>\n",
    "</ul>\n",
    "<img alt=\"\" src=\"images/Ensemble.png\" style=\"width: 500px; height: 213px;\" />"
   ]
  },
  {
   "cell_type": "markdown",
   "metadata": {
    "slideshow": {
     "slide_type": "slide"
    }
   },
   "source": [
    "## “meta-algorithms” : Bagging & Boosting\n",
    "* Ensemble https://www.youtube.com/watch?v=Un9zObFjBH0 \n",
    "* Bagging https://www.youtube.com/watch?v=2Mg8QD0F1dQ \n",
    "* Boosting https://www.youtube.com/watch?v=GM3CDQfQ4sw"
   ]
  },
  {
   "cell_type": "markdown",
   "metadata": {
    "slideshow": {
     "slide_type": "slide"
    }
   },
   "source": [
    "<p><img alt=\"\" src=\"images/Bagging_VS_Boosting.png\" style=\"width: 500px; height: 185px;\" /></p>\n"
   ]
  },
  {
   "cell_type": "code",
   "execution_count": 27,
   "metadata": {
    "slideshow": {
     "slide_type": "slide"
    }
   },
   "outputs": [
    {
     "name": "stdout",
     "output_type": "stream",
     "text": [
      "Akurasi k-NN =  0.4846140457982563\n",
      "Akurasi SVM =  0.5967140741811794\n",
      "Akurasi ANN =  0.5653633281922756\n",
      "Akurasi Ensemble =  0.561054579093432\n"
     ]
    }
   ],
   "source": [
    "# Contoh Voting (Bagging) di Python\n",
    "# Kita menggunakan semua parameter optimal dari langkah sebelumnya\n",
    "from sklearn.ensemble import AdaBoostClassifier, VotingClassifier\n",
    "\n",
    "x_train, x_test, y_train, y_test = train_test_split(dataSA[\"tweet_cleaned\"], dataSA[\"sentimen\"], \n",
    "                                                    test_size=testSize, random_state = seed)\n",
    "                                                    \n",
    "vsm = TfidfVectorizer(lowercase=True, smooth_idf= True, sublinear_tf=True, \n",
    "                                   ngram_range=(1, 1), max_df=0.95, min_df=10)\n",
    "\n",
    "x_train = vsm.fit_transform(x_train) # \"Fit_Transform\"\n",
    "x_test = vsm.transform(x_test) # Perhatikan disini hanya \"Transform\"\n",
    "\n",
    "kNN = neighbors.KNeighborsClassifier(n_neighbors=10, weights='distance')\n",
    "SVM = svm.SVC(C=0.1, gamma=1, kernel='rbf', decision_function_shape='ovr')\n",
    "ann = MLPClassifier(hidden_layer_sizes=(5, 10), learning_rate='invscaling', activation='logistic')\n",
    "\n",
    "ensemble = VotingClassifier(estimators=[('k-NN', kNN), ('SVM', SVM), ('ANN', ann)], voting='hard')\n",
    "ensemble.fit(x_train, y_train)\n",
    "y_ens = ensemble.score(x_test, y_test)\n",
    "\n",
    "print('Akurasi k-NN = ', gridCV.best_score_)\n",
    "print('Akurasi SVM = ', randsvmCV.best_score_)\n",
    "print('Akurasi ANN = ', randNnCV.best_score_)\n",
    "print('Akurasi Ensemble = ', y_ens)"
   ]
  },
  {
   "cell_type": "code",
   "execution_count": 28,
   "metadata": {},
   "outputs": [
    {
     "name": "stdout",
     "output_type": "stream",
     "text": [
      "Akurasi k-NN =  0.4846140457982563\n",
      "Akurasi SVM =  0.5967140741811794\n",
      "Akurasi ANN =  0.5653633281922756\n",
      "Akurasi Ensemble =  0.61054579093432\n"
     ]
    }
   ],
   "source": [
    "kNN = neighbors.KNeighborsClassifier(n_neighbors=10, weights='distance')\n",
    "SVM = svm.SVC(C=0.1, gamma=1, kernel='rbf', decision_function_shape='ovr', probability=True)\n",
    "ann = MLPClassifier(hidden_layer_sizes=(5, 10), learning_rate='invscaling', activation='logistic')\n",
    "\n",
    "ensemble = VotingClassifier(estimators=[('k-NN', kNN), ('SVM', SVM), ('ANN', ann)], voting='soft')\n",
    "ensemble.fit(x_train, y_train)\n",
    "y_ens = ensemble.score(x_test, y_test)\n",
    "\n",
    "print('Akurasi k-NN = ', gridCV.best_score_)\n",
    "print('Akurasi SVM = ', randsvmCV.best_score_)\n",
    "print('Akurasi ANN = ', randNnCV.best_score_)\n",
    "print('Akurasi Ensemble = ', y_ens)"
   ]
  },
  {
   "cell_type": "code",
   "execution_count": 39,
   "metadata": {},
   "outputs": [
    {
     "name": "stdout",
     "output_type": "stream",
     "text": [
      "[[2145  141   40]\n",
      " [  62 4096   66]\n",
      " [  31  170 1893]]\n"
     ]
    },
    {
     "data": {
      "image/png": "[encoded data removed]",
      "text/plain": [
       "<Figure size 720x720 with 2 Axes>"
      ]
     },
     "metadata": {
      "needs_background": "light"
     },
     "output_type": "display_data"
    }
   ],
   "source": [
    "from sklearn.metrics import plot_confusion_matrix\n",
    "\n",
    "fig, ax = plt.subplots(figsize=(10,10))\n",
    "plt.rcParams.update({'font.size': 14})\n",
    "class_names = [\"Negatif\", \"Netral\", \"Positif\"]\n",
    "disp = plot_confusion_matrix(ensemble, x_train, y_train, display_labels=class_names, cmap=plt.cm.Blues, ax=ax)# , normalize='true'\n",
    "disp.ax_.set_title(\"Confusion Matrix - Training\")\n",
    "print(disp.confusion_matrix)"
   ]
  },
  {
   "cell_type": "code",
   "execution_count": 40,
   "metadata": {},
   "outputs": [
    {
     "name": "stdout",
     "output_type": "stream",
     "text": [
      "              precision    recall  f1-score   support\n",
      "\n",
      "          -1       0.57      0.36      0.44       561\n",
      "           0       0.64      0.79      0.71      1103\n",
      "           1       0.54      0.49      0.52       498\n",
      "\n",
      "    accuracy                           0.61      2162\n",
      "   macro avg       0.59      0.55      0.56      2162\n",
      "weighted avg       0.60      0.61      0.60      2162\n",
      "\n"
     ]
    }
   ],
   "source": [
    "# Compared to training error to make sure overfitting not happening\n",
    "ensemble_pred = ensemble.predict(x_test)\n",
    "print(classification_report(y_test, ensemble_pred))"
   ]
  },
  {
   "cell_type": "markdown",
   "metadata": {},
   "source": [
    "# End of Module\n",
    "\n",
    "<hr />\n",
    "<p><img alt=\"\" src=\"images/6_ML_Class.jpg\" style=\"height:495px; width:640px\" /></p>\n"
   ]
  }
 ],
 "metadata": {
  "celltoolbar": "Slideshow",
  "kernelspec": {
   "display_name": "Python 3",
   "language": "python",
   "name": "python3"
  },
  "language_info": {
   "codemirror_mode": {
    "name": "ipython",
    "version": 3
   },
   "file_extension": ".py",
   "mimetype": "text/x-python",
   "name": "python",
   "nbconvert_exporter": "python",
   "pygments_lexer": "ipython3",
   "version": "3.6.8"
  }
 },
 "nbformat": 4,
 "nbformat_minor": 2
}
