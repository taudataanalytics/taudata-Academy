{
 "cells": [
  {
   "cell_type": "markdown",
   "id": "f933f836",
   "metadata": {},
   "source": [
    "<center><h1><strong>taudata Analytics</strong></h1></center>\n",
    "<center><h2><strong><font color=\"blue\">PDE 01: Pendahuluan Fungsi dan Turunannya</font></strong></h2></center>\n",
    "<center><img alt=\"\" src=\"images/taudata-cover.jpg\"/></center>\n",
    "\n",
    "<b><center>(C) Taufik Sutanto</center>\n",
    "<center><h3><font color=\"blue\">https://taudataid.github.io/pde01/</font></h3></center>"
   ]
  },
  {
   "cell_type": "markdown",
   "id": "118ade18",
   "metadata": {},
   "source": [
    "<center><img alt=\"\" src=\"images/definisi-fungsi.png\"/></center>\n",
    "\n",
    "* Maksud pemetaan satu dan hanya satu, 1-1, & pada\n",
    "* Di kalkuluas fungsi biasanya fungsi real, di machine learning domain bisa berupa angka (numerik) atau bukan angka kategorik.\n",
    "image source: Yuliani Wibowo - https://slideplayer.info/slide/12403959/"
   ]
  },
  {
   "cell_type": "code",
   "execution_count": null,
   "id": "e5efc47d",
   "metadata": {},
   "outputs": [],
   "source": [
    "def fungsi(x):\n",
    "    return 2*x+1\n",
    "\n",
    "fungsi(5)"
   ]
  },
  {
   "cell_type": "markdown",
   "id": "f7a32a8c",
   "metadata": {},
   "source": [
    "<center><h2><strong><font color=\"blue\">Berbagai macam fungsi</font></strong></h2></center>\n",
    "\n"
   ]
  },
  {
   "cell_type": "code",
   "execution_count": null,
   "id": "2234d51f",
   "metadata": {},
   "outputs": [],
   "source": [
    "import numpy as np\n",
    "\n",
    "np.cos, dsb"
   ]
  },
  {
   "cell_type": "markdown",
   "id": "d95831f4",
   "metadata": {},
   "source": [
    "<center><h2><strong><font color=\"blue\">Limit Paradox</font></strong></h2></center>\n",
    "\n",
    "\n",
    "limit-paradox.png"
   ]
  },
  {
   "cell_type": "markdown",
   "id": "1010e510",
   "metadata": {},
   "source": [
    "<center><h2><strong><font color=\"blue\">Limit</font></strong></h2></center>"
   ]
  },
  {
   "cell_type": "code",
   "execution_count": null,
   "id": "b703bfec",
   "metadata": {},
   "outputs": [],
   "source": [
    "from sympy import *\n",
    " \n",
    "x = symbols('x')\n",
    "expr = sin(3 * x)/x;\n",
    "   \n",
    "print(\"Expression : {}\".format(expr))\n",
    "     \n",
    "# Use sympy.limit() method\n",
    "limit_expr = limit(expr, x, 0) \n",
    "     \n",
    "print(\"Limit of the expression tends to 0 : {}\".format(limit_expr)) "
   ]
  },
  {
   "cell_type": "markdown",
   "id": "d20f47db",
   "metadata": {},
   "source": [
    "<center><h2><strong><font color=\"blue\">Limit dan Kontinu </font></strong></h2></center>\n",
    "\n",
    "\n",
    "- Animasi dari swf"
   ]
  },
  {
   "cell_type": "code",
   "execution_count": null,
   "id": "79e88c30",
   "metadata": {},
   "outputs": [],
   "source": [
    "from sympy import Symbol, S\n",
    "from sympy.calculus.util import continuous_domain\n",
    "\n",
    "x = Symbol(\"x\")\n",
    "f = sin(x)/x\n",
    "continuous_domain(f, x, S.Reals)\n",
    "Union(Interval.open(-oo, 0), Interval.open(0, oo))"
   ]
  },
  {
   "cell_type": "markdown",
   "id": "eacf319a",
   "metadata": {},
   "source": [
    "<center><h2><strong><font color=\"blue\">Limit dan Turunan</font></strong></h2></center>\n",
    "\n"
   ]
  },
  {
   "cell_type": "code",
   "execution_count": null,
   "id": "68eb8656",
   "metadata": {},
   "outputs": [],
   "source": [
    "from sympy import *\n",
    "x, y, z = symbols('x y z')\n",
    "diff(cos(x), x)"
   ]
  },
  {
   "cell_type": "markdown",
   "id": "c0f8e166",
   "metadata": {},
   "source": [
    "<center><h2><strong><font color=\"blue\">Makna turunan dan optimasi</font></strong></h2></center>\n"
   ]
  },
  {
   "cell_type": "markdown",
   "id": "9b679f3d",
   "metadata": {},
   "source": [
    "<center><h2><strong><font color=\"blue\">Solusi akar dan nilai optimal</font></strong></h2></center>\n",
    " - refer ke link di taudata"
   ]
  },
  {
   "cell_type": "code",
   "execution_count": null,
   "id": "6aa71e14",
   "metadata": {},
   "outputs": [],
   "source": [
    "# optimasi di Python\n",
    "from scipy.optimize import minimize\n",
    "from numpy.random import rand\n",
    "\n",
    "# objective function\n",
    "def objective(x):\n",
    "    return x[0]**2.0 + x[1]**2.0\n",
    "\n",
    "# Plot Fungsinya\n",
    "\n",
    "# define range for input\n",
    "r_min, r_max = -5.0, 5.0\n"
   ]
  },
  {
   "cell_type": "code",
   "execution_count": null,
   "id": "c946db9e",
   "metadata": {},
   "outputs": [],
   "source": [
    "# define the starting point as a random sample from the domain\n",
    "pt = r_min + rand(2) * (r_max - r_min)\n",
    "# perform the l-bfgs-b algorithm search\n",
    "result = minimize(objective, pt, method='L-BFGS-B')\n",
    "# summarize the result\n",
    "print('Status : %s' % result['message'])\n",
    "print('Total Evaluations: %d' % result['nfev'])\n",
    "# evaluate solution\n",
    "solution = result['x']\n",
    "evaluation = objective(solution)\n",
    "print('Solution: f(%s) = %.5f' % (solution, evaluation))"
   ]
  },
  {
   "cell_type": "markdown",
   "id": "a9eb3ea2",
   "metadata": {},
   "source": [
    "<center><h2><strong><font color=\"blue\">PDB dan PDP</font></strong></h2></center>\n",
    "\n"
   ]
  },
  {
   "cell_type": "markdown",
   "id": "298a6f90",
   "metadata": {},
   "source": [
    "<center><h2><strong><font color=\"blue\">Sifat dasar turunan</font></strong></h2></center>\n",
    " - chainrule, dsb"
   ]
  },
  {
   "cell_type": "markdown",
   "id": "609cdd60",
   "metadata": {},
   "source": [
    "<center><h2><strong><font color=\"blue\"> ... </font></strong></h2></center>\n"
   ]
  },
  {
   "cell_type": "markdown",
   "id": "3ceab167",
   "metadata": {},
   "source": [
    "# <center><font color=\"blue\"> Akhir Modul PDE 01, Next: \" _Pemodelan dan Persamaan Differensial_ \"</font></center>\n",
    "\n",
    "<hr />\n",
    "<img alt=\"\" src=\"images/meme-pde-01.jpg\" style=\"height: 300px;\"/>"
   ]
  }
 ],
 "metadata": {
  "kernelspec": {
   "display_name": "Python 3 (ipykernel)",
   "language": "python",
   "name": "python3"
  },
  "language_info": {
   "codemirror_mode": {
    "name": "ipython",
    "version": 3
   },
   "file_extension": ".py",
   "mimetype": "text/x-python",
   "name": "python",
   "nbconvert_exporter": "python",
   "pygments_lexer": "ipython3",
   "version": "3.9.11"
  },
  "latex_envs": {
   "LaTeX_envs_menu_present": true,
   "autoclose": false,
   "autocomplete": true,
   "bibliofile": "biblio.bib",
   "cite_by": "apalike",
   "current_citInitial": 1,
   "eqLabelWithNumbers": true,
   "eqNumInitial": 1,
   "hotkeys": {
    "equation": "Ctrl-E",
    "itemize": "Ctrl-I"
   },
   "labels_anchors": false,
   "latex_user_defs": false,
   "report_style_numbering": false,
   "user_envs_cfg": false
  }
 },
 "nbformat": 4,
 "nbformat_minor": 5
}
