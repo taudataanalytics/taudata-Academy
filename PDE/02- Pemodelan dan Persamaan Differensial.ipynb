{
 "cells": [
  {
   "cell_type": "markdown",
   "id": "7c0a68f1",
   "metadata": {},
   "source": [
    "<center><h1><strong>taudata Analytics</strong></h1></center>\n",
    "<center><h2><strong><font color=\"blue\">PDE 02: Pemodelan dan Persamaan Differensial</font></strong></h2></center>\n",
    "<center><img alt=\"\" src=\"images/taudata-cover.jpg\"/></center>\n",
    "\n",
    "<b><center>(C) Taufik Sutanto</center>\n",
    "<center><h3><font color=\"blue\">https://taudataid.github.io/pde02/</font></h3></center>"
   ]
  },
  {
   "cell_type": "markdown",
   "id": "c8617bdd",
   "metadata": {},
   "source": [
    "<center><h2><strong><font color=\"blue\">Pendahuluan</font></strong></h2></center>\n",
    "\n",
    "\n",
    "Module ini utamanya dari Bab 01 buku Boyce, detail penjelasan silahkan mengacu ke buku sumber. Module ini hanya sekilas pembahasan ditambah dengan sedikit penerapan, terutama di Python.\n",
    "\n",
    "Boyce, W. E., DiPrima, R. C., & Meade, D. B. (2021). Elementary differential equations and boundary value problems. John Wiley & Sons."
   ]
  },
  {
   "cell_type": "markdown",
   "id": "1705bc4e",
   "metadata": {},
   "source": [
    "<center><h2><strong><font color=\"blue\">Model Math sederhana dan Direction Fields</font></strong></h2></center>\n",
    "\n",
    "\n"
   ]
  },
  {
   "cell_type": "code",
   "execution_count": null,
   "id": "a7a75e30",
   "metadata": {},
   "outputs": [],
   "source": [
    "# Contoh code di Python untuk buat Direction Fields\n"
   ]
  },
  {
   "cell_type": "markdown",
   "id": "ef605470",
   "metadata": {},
   "source": [
    "<center><h2><strong><font color=\"blue\">Solusi Beberapa Persamaan Differensial</font></strong></h2></center>\n",
    "\n",
    "\n",
    "- "
   ]
  },
  {
   "cell_type": "code",
   "execution_count": null,
   "id": "5b8669f4",
   "metadata": {},
   "outputs": [],
   "source": [
    "# Contoh solusi PD di Python"
   ]
  },
  {
   "cell_type": "markdown",
   "id": "cb7bafc3",
   "metadata": {},
   "source": [
    "<center><h2><strong><font color=\"blue\">Klasifikasi Persamaan Differential</font></strong></h2></center>\n",
    "\n",
    "- "
   ]
  },
  {
   "cell_type": "markdown",
   "id": "5411428a",
   "metadata": {},
   "source": [
    "<center><h2><strong><font color=\"blue\">Sejarah Persamaan Differential</font></strong></h2></center>\n",
    "\n",
    "\n",
    "- Detailnya ada di Buku Boyce.\n",
    "- Namun jika tidak memiliki akses ke bukunya, rangkuman ceritanya dapat dibaca disini: \n",
    " - https://towardsdatascience.com/differential-equations-history-overview-a1d45ebc1a8b"
   ]
  },
  {
   "cell_type": "markdown",
   "id": "88cfcd44",
   "metadata": {},
   "source": [
    "# <center><font color=\"blue\"> Akhir Modul PDE 02, Next: \" _Persamaan Differensial Orde 01_ \"</font></center>\n",
    "\n",
    "<hr />\n",
    "<img alt=\"\" src=\"images/meme-pde-02.jpg\" style=\"height: 300px;\"/>"
   ]
  }
 ],
 "metadata": {
  "kernelspec": {
   "display_name": "Python 3 (ipykernel)",
   "language": "python",
   "name": "python3"
  },
  "language_info": {
   "codemirror_mode": {
    "name": "ipython",
    "version": 3
   },
   "file_extension": ".py",
   "mimetype": "text/x-python",
   "name": "python",
   "nbconvert_exporter": "python",
   "pygments_lexer": "ipython3",
   "version": "3.9.11"
  },
  "latex_envs": {
   "LaTeX_envs_menu_present": true,
   "autoclose": false,
   "autocomplete": true,
   "bibliofile": "biblio.bib",
   "cite_by": "apalike",
   "current_citInitial": 1,
   "eqLabelWithNumbers": true,
   "eqNumInitial": 1,
   "hotkeys": {
    "equation": "Ctrl-E",
    "itemize": "Ctrl-I"
   },
   "labels_anchors": false,
   "latex_user_defs": false,
   "report_style_numbering": false,
   "user_envs_cfg": false
  }
 },
 "nbformat": 4,
 "nbformat_minor": 5
}
