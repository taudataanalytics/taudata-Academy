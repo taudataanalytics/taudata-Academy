{
 "cells": [
  {
   "cell_type": "markdown",
   "id": "6cd78d16",
   "metadata": {
    "slideshow": {
     "slide_type": "slide"
    }
   },
   "source": [
    "# <center><font color=\"green\"></font><br><font color=\"blue\">Digital Data Gathering~Social Network Analytics</font></center>\n",
    "\n",
    "<center><img alt=\"\" src=\"images/covers/Cover_ADM.png\"/></center> \n",
    "\n",
    "## <center><font color=\"blue\">tau-data Indonesia</font><br>(C) Taufik Sutanto - 2021</center>\n",
    "<center><a href=\"https://tau-data.id\">https://tau-data.id</a> ~ <a href=\"mailto:taufik@tau-data.id\">taufik@tau-data.id</a></center>"
   ]
  },
  {
   "cell_type": "markdown",
   "id": "8d902262",
   "metadata": {
    "slideshow": {
     "slide_type": "slide"
    }
   },
   "source": [
    "# <center><font color=\"blue\">Digital Data Gathering</font></center>\n",
    "\n",
    "1. Social Media Crawling\n",
    "2. Social Media Streaming\n",
    "3. Sekilas Privacy & Ethics Data Gathering\n",
    "4. Scrapping Media Social & Website\n",
    "\n",
    "<center><img src=\"images/satriadata2021/social-media-analytics-doodle.jpg\" /></center>\n",
    "\n",
    "><font color=\"green\">\"*I always have a basic plot outline, but I like to leave some things to be decided while I write*.\" ~ J. K. Rowling</font>\n",
    "\n",
    "image source: https://graphicriver.net/item/social-media-analytics-doodle-concept/25210278"
   ]
  },
  {
   "cell_type": "code",
   "execution_count": null,
   "id": "24430ad1",
   "metadata": {},
   "outputs": [],
   "source": [
    "import warnings; warnings.simplefilter('ignore')\n",
    "import nltk\n",
    "\n",
    "try:\n",
    "    import google.colab\n",
    "    IN_COLAB = True\n",
    "    !wget https://raw.githubusercontent.com/taudata-indonesia/eLearning/master/taudataDDGsna.py\n",
    "    !wget https://raw.githubusercontent.com/taudata-indonesia/eLearning/master/taudata_sna.py\n",
    "    !mkdir data\n",
    "    !wget -P data/ https://raw.githubusercontent.com/taudata-indonesia/eLearning/master/data/slang.dic\n",
    "    !wget -P data/ https://raw.githubusercontent.com/taudata-indonesia/eLearning/master/data/stopwords_id.txt\n",
    "    !wget -P data/ https://raw.githubusercontent.com/taudata-indonesia/eLearning/master/data/stopwords_en.txt\n",
    "    !wget -P data/ https://raw.githubusercontent.com/taudata-indonesia/eLearning/master/data/kata_dasar.txt\n",
    "    !wget -P data/ https://raw.githubusercontent.com/taudata-indonesia/eLearning/master/data/wn-ind-def.tab\n",
    "    !wget -P data/ https://raw.githubusercontent.com/taudata-indonesia/eLearning/master/data/wn-msa-all.tab\n",
    "    !wget -P data/ https://raw.githubusercontent.com/taudata-indonesia/eLearning/master/data/ind_SA.csv\n",
    "    !wget -P data/ https://raw.githubusercontent.com/taudata-indonesia/eLearning/master/data/all_indo_man_tag_corpus_model.crf.tagger\n",
    "\n",
    "    !pip install --upgrade spacy python-crfsuite unidecode textblob sastrawi sklearn-pycrfsuite\n",
    "    !pip install --upgrade unidecode twython tweepy beautifulsoup4 json_lines lxml pyLDAvis\n",
    "    !python -m spacy download en\n",
    "    !python -m spacy download xx\n",
    "    !python -m spacy download en_core_web_sm\n",
    "    nltk.download('popular')\n",
    "except:\n",
    "    IN_COLAB = False\n",
    "    print(\"Running the code locally, please make sure all the python module versions agree with colab environment and all data/assets downloaded\")"
   ]
  },
  {
   "cell_type": "code",
   "execution_count": null,
   "id": "242cea71",
   "metadata": {},
   "outputs": [],
   "source": [
    "import taudataDDGsna as taudata\n",
    "import tweepy, json, urllib.request, requests\n",
    "from urllib.request import Request, urlopen\n",
    "from twython import TwythonStreamer\n",
    "from bs4 import BeautifulSoup as bs\n",
    "from tqdm import tqdm\n",
    "import graphviz\n",
    "import time, numpy as np, matplotlib.pyplot as plt, pandas as pd, networkx as nx\n",
    "import random, taudata_sna as tau\n",
    "import pyLDAvis, pyLDAvis.sklearn; pyLDAvis.enable_notebook()\n",
    "from graphviz import Digraph\n",
    "\n",
    "seed = 123\n",
    "random.seed(seed)\n",
    "np.random.seed(seed)\n",
    "\"Done\""
   ]
  },
  {
   "cell_type": "markdown",
   "id": "412a6da8",
   "metadata": {
    "slideshow": {
     "slide_type": "slide"
    }
   },
   "source": [
    "# <center><font color=\"blue\">The Digital (World & Indonesia) - 2021</font></center>\n",
    "\n",
    "<center><img src=\"images/satriadata2021/the-digital-world.png\" /></center>\n",
    "\n",
    "><font color=\"green\">\"*We live in a digital world, but we're fairly analog creatures*.\" ~ Omar Ahmad</font>"
   ]
  },
  {
   "cell_type": "markdown",
   "id": "83cdfc17",
   "metadata": {
    "slideshow": {
     "slide_type": "slide"
    }
   },
   "source": [
    "# <center><font color=\"blue\">The Social Media (Indonesia - 2021)</font></center>\n",
    "\n",
    "<center><img src=\"images/satriadata2021/social-media-Indonesia-2021.png\"/></center>\n",
    "\n",
    "* Apa makna, informasi, atau insight yang bisa didapatkan dari statistik ini dari segi: ekonomi, pemerintahan, sosial, dsb?\n",
    "\n",
    "><font color=\"green\">“*What happens in Vegas stays in Vegas; what happens on Twitter stay on Google forever!*.” ~ Jure Klepic</font>"
   ]
  },
  {
   "cell_type": "markdown",
   "id": "1fbf371b",
   "metadata": {
    "slideshow": {
     "slide_type": "slide"
    }
   },
   "source": [
    "<center><img src=\"images/satriadata2021/social-media-landscape.jpg\"  width=\"600\" height=\"600\" /></center>\n",
    "\n",
    "><font color=\"green\">“*Focus on how to be social, not on how to do social*.” ~ Jay Baer, Convince & Convert</font>"
   ]
  },
  {
   "cell_type": "markdown",
   "id": "70b74ad8",
   "metadata": {
    "slideshow": {
     "slide_type": "slide"
    }
   },
   "source": [
    "# <center><font color=\"blue\"> Social Media Analytics (SMA): Definisi </font></center>\n",
    "\n",
    "* SMA adalah sebuah proses pengumpulan data dari media sosial dan analisanya untuk mendapatkan \"insights\" atau informasi berharga untuk suatu tujuan tertentu (definisi diadopsi dari Gartner*).\n",
    "* <font color=\"green\">**More details here**</font>: https://tau-data.id/sma-01/\n",
    "\n",
    "<center><img src=\"images/8_SMA.JPG\" width=\"746\" height=\"378\" /></center>\n",
    "\n",
    "><font color=\"green\">“*It is important that we realize that words have meanings far beyond the dictionary definition.*.” ~ Dan Levy</font>"
   ]
  },
  {
   "cell_type": "markdown",
   "id": "ae12ee2d",
   "metadata": {
    "slideshow": {
     "slide_type": "slide"
    }
   },
   "source": [
    "# <center><font color=\"blue\">Social Network Analysis (SNA): Definisi</font></center>\n",
    "\n",
    "<center><img src=\"images/SNA_Graph_Types.png\" width=\"495\" height=\"313\" /></center>\n",
    "\n",
    "* SNA is the process of investigating social structures through the use of networks and graph theory [Otte, Evelien; Rousseau, Ronald (2002)]\n",
    "* Terdapat berbagai macam cara untuk membentuk Graph dari data media sosial: retweet, mention, followers, friends, etc.\n",
    "\n",
    "><font color=\"green\">“*Social networks aren’t about Web sites. They’re about experiences*.” ~ Mike DiLorenzo</font>"
   ]
  },
  {
   "cell_type": "markdown",
   "id": "ffc93675",
   "metadata": {
    "slideshow": {
     "slide_type": "slide"
    }
   },
   "source": [
    "# <center><font color=\"blue\">Social Media Real-world Applications</font></center>\n",
    "\n",
    "<center><img src=\"images/satriadata2021/social media analytics applications.png\" width=\"861\" height=\"236\" /></center>\n",
    "\n",
    "* Customer Behaviour, Campaign Performance, Customer interest, Competitive Analysis, Customer Satisfaction, Review Analysis.\n",
    "* Business insights for investors.\n",
    "* Counter terrorism (National security/defence)\n",
    "* Health, Natural disasters mitigation, etc.\n",
    "\n",
    "><font color=\"green\">“*Social media is not a media. The key is to listen, engage, and build relationships*.” ~ David Alston</font>"
   ]
  },
  {
   "cell_type": "markdown",
   "id": "cffa7c25",
   "metadata": {
    "slideshow": {
     "slide_type": "slide"
    }
   },
   "source": [
    "# <center><font color=\"blue\">SMA-SNA Techniques</font></center>\n",
    "\n",
    "* **SMA**: Sentiment Analysis, Topic Modelling, Gender/Age Prediction, Spatial Analysis, Hashtag Analysis, Hoax Detection, Viral Prediction, etc.\n",
    "* **SNA**: Centrality Analysis, Community Detection, recommender system, etc.\n",
    "* image source: <font color=\"green\">**Andry Alamsyah, Budi Rahardjo - 2013**</font>\n",
    "<center><img src=\"images/satriadata2021/sna-taxonomy.jpg\"/></center>\n",
    "\n",
    "><font color=\"green\">“*Algorithms are not arbiters of objective truth and fairness simply because they're math*.” ~ Zoe Quinn</font>"
   ]
  },
  {
   "cell_type": "markdown",
   "id": "79cc6e4d",
   "metadata": {
    "slideshow": {
     "slide_type": "slide"
    }
   },
   "source": [
    "<center><img src=\"images/8_SMA_Cycle.JPG\" width=\"740\" height=\"315\" /></center>\n",
    "\n",
    "><font color=\"green\">“*It is good to have an end to journey toward; but it is the journey that matters, in the end*.” ~ Ursula K. Le Guin</font>"
   ]
  },
  {
   "cell_type": "markdown",
   "id": "d32cb56d",
   "metadata": {
    "slideshow": {
     "slide_type": "slide"
    }
   },
   "source": [
    "# <center><font color=\"blue\">Social Media/Network Analysis Technology/Tools</font></center>\n",
    "\n",
    "* **Neo4j** - Graph Database, **Elasticsearch** - Text Search Engine & NoSQL\n",
    "* **Apache Kafka** - Handling multi stream realtime input data.\n",
    "* **Gephi** - Graph Visualization\n",
    "* **VoyantTools** - Text Visualization & Analysis\n",
    "* **NetworkX**: Python Modules - Graph Programming\n",
    "* **NLTK-Spacy**: For Text Related Analysis.\n",
    "* **Spark/Hadoop**: for big data DDDC.\n",
    "* <font color=\"blue\">**More details here:**</font> https://tau-data.id/dsbd-05/\n",
    "\n",
    "<center><img src=\"images/meme-cartoon/technology-meme-office-space.jpg\" width=\"420\" height=\"278\" /></center>\n",
    "\n",
    "><font color=\"green\">“*Any sufficiently advanced technology is indistinguishable from magic*.” ~ Arthur C. Clarke</font>"
   ]
  },
  {
   "cell_type": "markdown",
   "id": "68805dd9",
   "metadata": {
    "slideshow": {
     "slide_type": "slide"
    }
   },
   "source": [
    "# <center><font color=\"blue\"> Tantangan SMA </font></center>\n",
    "\n",
    "<center><img src=\"images/satriadata2021/sma-challenge-industry.jpg\" width=\"450\" height=\"300\" /></center>\n",
    "\n",
    "* Pendek (<strong>Short </strong>in lengths): bahkan terkadang tidak mengandung sebuah kalimat yang utuh menurut tata bahasa (grammar).\n",
    "* <strong>Noise&nbsp;</strong>: Data media sosial penuh dengan noise seperti typos (salah ketik), encoding yang tidak jamak, slang, dsb.\n",
    "* <strong>Temporal&nbsp;</strong>: Informasi yang sedang trending biasanya hanya sesaat,<br />\n",
    "\tsehingga SMA diharapkan dilakukan dengan cepat menggunakan model-model/teknik-teknik analisa data yang efisien\n",
    "* <strong>High-dimensional</strong> : Data di Media Sosial (Teks, Gambar, Video, Suara, dsb) adalah data tidak terstruktur berdimensi tinggi.\n",
    "* <strong>Fine-grained</strong> : Data di media sosial berasal dari banyak user yang masing-masingnya bisa jadi membahas beberapa topik yang berbeda. Sehingga komunitas (kelompok), topik, maupun klasifikasi yang ada menjadi besar (fine-grained).\n",
    "* <strong>Large in volume</strong>&nbsp;&amp; <strong>High velocity</strong>:&nbsp; Data yang sangat besar dan bertambah besar dengan cepat.\n",
    "* <strong>A lot of external Information</strong> : Informasi terkadang lebih banyak terkandung dari luar (eksternal) seperti url website, video, atau hal lain yang dibagikan oleh pengguna media sosial.\n",
    "\n",
    "><font color=\"green\">“*If you make customers unhappy in the physical world, they might each tell 6 friends. If you make customers unhappy on the Internet, they can each tell 6,000 friends*.” ~ Jeff Bezos</font>"
   ]
  },
  {
   "cell_type": "markdown",
   "id": "4c103c4c",
   "metadata": {
    "slideshow": {
     "slide_type": "slide"
    }
   },
   "source": [
    "# <center><font color=\"blue\">Digital Data Gathering (DDG): Scrapping, Crawling, & Streaming</font></center>\n",
    "\n",
    "<center><img src=\"images/satriadata2021/scrapping-crawling-streaming.png\" width=\"693\" height=\"295\" /></center>\n",
    "\n",
    "* **Streaming**: teknik pengiriman data (media) secara kontinu & real-time.\n",
    "\n",
    "><font color=\"green\">“*Data is a precious thing and will last longer than the systems themselves*.” ~ Tim Berners-Lee</font>"
   ]
  },
  {
   "cell_type": "markdown",
   "id": "ba7ca7a6",
   "metadata": {
    "slideshow": {
     "slide_type": "slide"
    }
   },
   "source": [
    "# <center><font color=\"blue\">Ethics & Regulation</font></center>\n",
    "\n",
    "* Scrapping secara umum (minimal) tidak etis (bisa jadi ilegal). Mengapa? karena scraping mirip DDOS attack yang akan memberatkan server atau bahkan membuat server berhenti berfungsi normal. Program scraping juga memungkinkan akan mengakses data yang tidak dimaksudkan untuk konsumsi publik.\n",
    "* Satu-satunya saat dimana scraping boleh dilakukan adalah saat sang pelaku/programer menghormati “robots.txt” yang telah diberikan oleh web administrator. Atau lebih baik lagi adalah menggunakan API (Application Program Interface) yang diberikan oleh provider (website/medsos) lalu melakukan crawling.\n",
    "* Yakinkan untuk membaca ToS (Terms of Sevice) dengan baik.\n",
    "* <font color=\"blue\">**More details here:**</font> https://tau-data.id/scraping/\n",
    "\n",
    "<center><img src=\"images/Data Ethics and Law.png\" width=\"619\" height=\"287\" /></center>\n",
    "\n",
    "><font color=\"green\">“*Good regulation should be conducive to business and to customer protection*.” ~ Jamie Dimon</font>"
   ]
  },
  {
   "cell_type": "markdown",
   "id": "28dc9dc4",
   "metadata": {
    "slideshow": {
     "slide_type": "slide"
    }
   },
   "source": [
    "# <center><font color=\"blue\">Case Study: twitter</font></center>\n",
    "\n",
    "<img alt=\"\" src=\"images/6_twitter.png\" style=\"width: 300px; height: 300px;\" />\n",
    "\n",
    "1. Login ke twitter\n",
    "2. Registrasi sebagai developer (wajib menggunakan no telephone): https://developer.twitter.com/en/portal/projects-and-apps\n",
    "3. Create new App\n",
    "4. Catat Customer Key & Secret (Ck-Cs) serta Access Token & Secret (At-As)\n",
    "5. **Modules**: tweepy\n",
    "\n",
    "### More Details: https://tau-data.id/sma-01/"
   ]
  },
  {
   "cell_type": "markdown",
   "id": "c2929d00",
   "metadata": {},
   "source": [
    "<h2 id=\"Aturan-twitter\">Aturan, bentuk data, &amp; error codes twitter</h2>\n",
    "\n",
    "<ol>\n",
    "\t<li>\n",
    "\t<p><a href=\"https://dev.twitter.com/rest/public/rate-limiting\" target=\"_blank\">https://</a><a href=\"https://dev.twitter.com/rest/public/rate-limiting\" target=\"_blank\">dev.twitter.com/rest/public/rate-limiting</a></p>\n",
    "\t</li>\n",
    "\t<li>\n",
    "\t<p><a href=\"https://dev.twitter.com/overview/terms/agreement-and-policy\" target=\"_blank\">https://dev.twitter.com/overview/terms/agreement-and-policy</a></p>\n",
    "\t</li>\n",
    "\t<li>\n",
    "\t<p><a href=\"https://dev.twitter.com/overview/api/response-codes\" target=\"_blank\">https://</a><a href=\"https://dev.twitter.com/overview/api/response-codes\" target=\"_blank\">dev.twitter.com/overview/api/response-codes</a></p>\n",
    "\t</li>\n",
    "\t<li>\n",
    "\t<p><a href=\"https://dev.twitter.com/overview/api/tweets\" target=\"_blank\">https://</a><a href=\"https://dev.twitter.com/overview/api/tweets\" target=\"_blank\">dev.twitter.com/overview/api/tweets</a></p>\n",
    "\t</li>\n",
    "</ol>"
   ]
  },
  {
   "cell_type": "code",
   "execution_count": null,
   "id": "1a5b56cb",
   "metadata": {
    "slideshow": {
     "slide_type": "slide"
    }
   },
   "outputs": [],
   "source": [
    "# Contoh API Keys (Sesuaikan dengan API keys masing-masing)\n",
    "Ck = 'TTV3EOK' # consumer_key\n",
    "Cs = 'DBmmoiaMCAUbYKRl5NpQ9cFhFgLRVYEwv' # consumer_secret\n",
    "At = '2214118411-Qxq4Pi3QyJazcZ' # access_token\n",
    "As = 'DuihZoPUnz9E1TqHSdSPsRStT' # access_secret\n",
    "\n",
    "'Done'"
   ]
  },
  {
   "cell_type": "code",
   "execution_count": null,
   "id": "c29cc633",
   "metadata": {
    "slideshow": {
     "slide_type": "slide"
    }
   },
   "outputs": [],
   "source": [
    "import tweepy\n",
    "\n",
    "auth = tweepy.auth.OAuthHandler(Ck, Cs)\n",
    "auth.set_access_token(At, As)\n",
    "api = tweepy.API(auth, wait_on_rate_limit=True, timeout=180, retry_count=5, retry_delay=3)\n",
    "usr_ = api.verify_credentials()\n",
    "print('Welcome \"{}\" you are now connected to twitter server'.format(usr_.name))"
   ]
  },
  {
   "cell_type": "markdown",
   "id": "b92a5d74",
   "metadata": {
    "slideshow": {
     "slide_type": "slide"
    }
   },
   "source": [
    "# <center><font color=\"blue\">Mengapa API Keys penting untuk dijaga seperti Username & Password?</font></center>\n",
    "\n",
    "<center><img src=\"images/meme-cartoon/meme-i-can-haz-api-key.jpg\" width=\"301\" height=\"314\" /></center>"
   ]
  },
  {
   "cell_type": "code",
   "execution_count": null,
   "id": "3fc66ade",
   "metadata": {},
   "outputs": [],
   "source": [
    "# Kita bisa post, delete, follow, like, reply, retweet, dsb.\n",
    "# WARNING ... Status harus dibedakan, jika tidak akan gagal karena twitter mendeteksi status duplikat.\n",
    "\n",
    "status = \"Testing Digital Data Gathering - kuliah ADM\"\n",
    "t = api.update_status(status)\n",
    "# Silahkan cek timeline setelah ini\n",
    "\"Done! ... Silahkan cek timeline twitter anda.\""
   ]
  },
  {
   "cell_type": "markdown",
   "id": "dcf1d821",
   "metadata": {
    "slideshow": {
     "slide_type": "slide"
    }
   },
   "source": [
    "# <center><font color=\"blue\">Crawling twitter</font></center>\n",
    "\n",
    "<center><img src=\"images/Digital_Media_Crawling_.png\" width=\"501\" height=\"514\" /></center>\n",
    "\n",
    "* image source: https://www.promptcloud.com/blog/scraping-social-media-data-for-sentiment-analysis/"
   ]
  },
  {
   "cell_type": "code",
   "execution_count": null,
   "id": "71b21be9",
   "metadata": {
    "scrolled": true,
    "slideshow": {
     "slide_type": "slide"
    }
   },
   "outputs": [],
   "source": [
    "qry = 'banjir OR gempa OR longsor OR tsunami OR kekeringan OR abrasi OR erupsi'\n",
    "N = 2500 # jumlah N tweet \"terkini\" yang ingin diambil\n",
    "T = []\n",
    "for post in tqdm(tweepy.Cursor(api.search_tweets, q=qry, lang='id', tweet_mode='extended').items(N)):\n",
    "    T.append(post)\n",
    "    \n",
    "\"Done\""
   ]
  },
  {
   "cell_type": "code",
   "execution_count": null,
   "id": "e843fd6d",
   "metadata": {
    "slideshow": {
     "slide_type": "slide"
    }
   },
   "outputs": [],
   "source": [
    "T[0]._json"
   ]
  },
  {
   "cell_type": "markdown",
   "id": "4587cbb3",
   "metadata": {
    "slideshow": {
     "slide_type": "slide"
    }
   },
   "source": [
    "# <center><font color=\"blue\">Json Files</font></center>\n",
    "\n",
    "<ul>\n",
    "\t<li>Populer digunakan untuk data dari Media Sosial dan NoSQL</li>\n",
    "\t<li>Portable: File Json memuat nama variabel dan nilainya (tidak seperti XML)</li>\n",
    "\t<li>Plain Text</li>\n",
    "\t<li>Schemaless: Setiap record tidak harus memiliki jumlah field yang tetap seperti csv</li>\n",
    "\t<li>JSON isomorfis dengan &quot;Dictionary&quot; di Python</li>\n",
    "\t<li>Contoh struktur file json:</li>\n",
    "</ul>\n",
    "\n",
    "<img style=\"undefined: undefined;\" src=\"images/json.png\" alt=\"\" width=\"194\" height=\"204\" />"
   ]
  },
  {
   "cell_type": "code",
   "execution_count": null,
   "id": "8e7863e2",
   "metadata": {
    "slideshow": {
     "slide_type": "slide"
    }
   },
   "outputs": [],
   "source": [
    "# T bukan sekedar list of tweets \n",
    "tweet = [t._json for t in T]\n",
    "print(' Berhasil mendapatkan {} tweets'.format(len(tweet)))"
   ]
  },
  {
   "cell_type": "code",
   "execution_count": null,
   "id": "4af0d114",
   "metadata": {
    "slideshow": {
     "slide_type": "slide"
    }
   },
   "outputs": [],
   "source": [
    "# Data pertama\n",
    "tweet[0]"
   ]
  },
  {
   "cell_type": "code",
   "execution_count": null,
   "id": "f629c232",
   "metadata": {
    "slideshow": {
     "slide_type": "slide"
    }
   },
   "outputs": [],
   "source": [
    "# Datanya berbentuk JSON\n",
    "tweet[0]['created_at'], tweet[0]['full_text']"
   ]
  },
  {
   "cell_type": "code",
   "execution_count": null,
   "id": "3a12b41e",
   "metadata": {
    "slideshow": {
     "slide_type": "slide"
    }
   },
   "outputs": [],
   "source": [
    "# Contoh mengakses data spesifik pada tweet yang pertama:\n",
    "print('tweet pertama oleh \"{}\" : \"{}\"'.format(tweet[0]['user']['screen_name'],tweet[0]['full_text']))"
   ]
  },
  {
   "cell_type": "markdown",
   "id": "13da7fab",
   "metadata": {
    "slideshow": {
     "slide_type": "slide"
    }
   },
   "source": [
    "# <center><font color=\"blue\">Menyimpan hasil crawling (sederhana ke Text file berformat json)</font></center>"
   ]
  },
  {
   "cell_type": "code",
   "execution_count": null,
   "id": "27919b88",
   "metadata": {
    "slideshow": {
     "slide_type": "fragment"
    }
   },
   "outputs": [],
   "source": [
    "import json \n",
    "def saveTweets(tweets, file='Tweets.json'): #in Json Format\n",
    "    with open(file, 'w') as f:\n",
    "        for t in tweets:\n",
    "            try:\n",
    "                f.write(json.dumps(t)+'\\n')\n",
    "            except:\n",
    "                pass"
   ]
  },
  {
   "cell_type": "code",
   "execution_count": null,
   "id": "a03e46dd",
   "metadata": {
    "slideshow": {
     "slide_type": "slide"
    }
   },
   "outputs": [],
   "source": [
    "# Menyimpan hasil crawling twitter\n",
    "fileName = 'Tweets_2021.json'\n",
    "saveTweets(tweet, file=fileName)\n",
    "print('Saved to '+fileName)"
   ]
  },
  {
   "cell_type": "markdown",
   "id": "cab4f6c8",
   "metadata": {
    "slideshow": {
     "slide_type": "slide"
    }
   },
   "source": [
    "# <center><font color=\"blue\">Load Kembali?</font></center>"
   ]
  },
  {
   "cell_type": "code",
   "execution_count": null,
   "id": "5b9b1004",
   "metadata": {
    "slideshow": {
     "slide_type": "fragment"
    }
   },
   "outputs": [],
   "source": [
    "def loadTweets(file='Tweets.json'):\n",
    "    f=open(file,encoding='utf-8', errors ='ignore', mode='r')\n",
    "    T=f.readlines();f.close()\n",
    "    for i,t in enumerate(T):\n",
    "        T[i] = json.loads(t.strip())\n",
    "    return T"
   ]
  },
  {
   "cell_type": "code",
   "execution_count": null,
   "id": "50f6238c",
   "metadata": {
    "slideshow": {
     "slide_type": "slide"
    }
   },
   "outputs": [],
   "source": [
    "# Me-load kembali jika (misal) analisa ingin dilakukan di lain waktu\n",
    "# Sengaja nama variabelnya saya bedakan (T2)\n",
    "T2 = loadTweets(file=fileName)\n",
    "print('tweet pertama oleh \"{}\" : \"{}\"'.format(T2[0]['user']['screen_name'],T2[0]['full_text']))"
   ]
  },
  {
   "cell_type": "code",
   "execution_count": null,
   "id": "75f286cd",
   "metadata": {
    "slideshow": {
     "slide_type": "slide"
    }
   },
   "outputs": [],
   "source": [
    "# Contoh mengambil hanya data tweet\n",
    "D = [t['full_text'] for t in T2]\n",
    "D[:5] # 5 tweet pertama"
   ]
  },
  {
   "cell_type": "markdown",
   "id": "cb2e3daa",
   "metadata": {
    "slideshow": {
     "slide_type": "slide"
    }
   },
   "source": [
    "# <center><font color=\"blue\">Query Operator twitter</font></center>\n",
    "\n",
    "<img alt=\"\" src=\"images/query_Operator.png\" style=\"width: 661px; height: 554px;\" />\n",
    "\n",
    "* Detail: <a href=\"https://developer.twitter.com/en/docs/tweets/search/guides/standard-operators.html\" target=\"_blank\">https://developer.twitter.com/en/docs/tweets/search/guides/standard-operators.html</a>"
   ]
  },
  {
   "cell_type": "markdown",
   "id": "fe5f1ab8",
   "metadata": {},
   "source": [
    "<img alt=\"\" src=\"images/SMA-Sampling.png\" />"
   ]
  },
  {
   "cell_type": "code",
   "execution_count": null,
   "id": "8c32eaab",
   "metadata": {
    "slideshow": {
     "slide_type": "slide"
    }
   },
   "outputs": [],
   "source": [
    "# Mari kita coba #1\n",
    "topic = 'from:jokowi'\n",
    "T = api.search_tweets(q=topic, lang='id', tweet_mode = 'extended')\n",
    "tweet = [t._json for t in T]\n",
    "isiTweet = [t['full_text'] for t in tweet]\n",
    "isiTweet"
   ]
  },
  {
   "cell_type": "markdown",
   "id": "5a6b1e26",
   "metadata": {
    "slideshow": {
     "slide_type": "slide"
    }
   },
   "source": [
    "# <center><font color=\"blue\">Spatial Analysis di twitter menggunakan Google Maps API dan twitter GeoCode</font></center>\n",
    "\n",
    "* Google Maps API (gratis 40.000 query/bulan) dan bisa dijalankan langsung dalam program Python\n",
    "* Alternatif: https://www.latlong.net/convert-address-to-lat-long.html\n",
    "\n",
    "<center><img src=\"images/satriadata2021/sma-spasial.png\" width=\"568\" height=\"325\" /></center>"
   ]
  },
  {
   "cell_type": "code",
   "execution_count": null,
   "id": "12ace4e1",
   "metadata": {
    "slideshow": {
     "slide_type": "slide"
    }
   },
   "outputs": [],
   "source": [
    "# https://www.latlong.net/convert-address-to-lat-long.html\n",
    "\n",
    "alamat = \"fmipa ui depok\"\n",
    "lat = '-6.379800'\n",
    "lon = '106.807080'\n",
    "\n",
    "\"Done\""
   ]
  },
  {
   "cell_type": "code",
   "execution_count": null,
   "id": "52dd3506",
   "metadata": {
    "slideshow": {
     "slide_type": "slide"
    }
   },
   "outputs": [],
   "source": [
    "# Mari kita coba #3 gunakan google (map) untuk koordinat suatu lokasi\n",
    "# http://thoughtfaucet.com/search-twitter-by-location/\n",
    "# misal search tweet tentang \"makanan\" di Depok dan sekitarnya\n",
    "radius = '30km'\n",
    "Geo = ','.join([lat, lon, radius])\n",
    "qry = 'beli mobil'\n",
    "N= 30\n",
    "for tweet_ in tweepy.Cursor(api.search_tweets, q=qry, geocode=Geo).items(N):\n",
    "    print([tweet_.created_at, tweet_.text.encode('utf-8'), tweet_.user.id, tweet_.geo])"
   ]
  },
  {
   "cell_type": "markdown",
   "id": "45b9a803",
   "metadata": {
    "slideshow": {
     "slide_type": "slide"
    }
   },
   "source": [
    "# <center><font color=\"blue\">Streaming Data</font></center>\n",
    "\n",
    "<center><img alt=\"\" src=\"images/Meme_Streaming_Data.jpg\" style=\"width: 307px; height: 309px;\" /></center>"
   ]
  },
  {
   "cell_type": "code",
   "execution_count": null,
   "id": "b36b389d",
   "metadata": {
    "slideshow": {
     "slide_type": "slide"
    }
   },
   "outputs": [],
   "source": [
    "# Streaming tweets. Untuk percobaan pilih topicS sesuatu yg sedang trending/populer \"saat ini\".\n",
    "# Atau bisa coba dengan mengirim tweet sendiri :)\n",
    "from twython import TwythonStreamer\n",
    "\n",
    "def streamTwitter(topicS, lang):\n",
    "    class MyStreamer(TwythonStreamer):\n",
    "        def on_success(self, data):\n",
    "            global count\n",
    "            count+=1\n",
    "            print('tweet from {}, post: {}'.format(data['user']['screen_name'], data['text']))\n",
    "            if count==maxTweet:\n",
    "                print('\\nFinished streaming %.0f tweets' %(maxTweet)); self.disconnect()\n",
    "        def on_error(self, status_code, data):\n",
    "            print('Error Status = %s' %status_code); self.disconnect()\n",
    "\n",
    "    while count<maxTweet:\n",
    "        stream = MyStreamer(Ck, Cs, At, As)\n",
    "        stream.statuses.filter(track=topicS)"
   ]
  },
  {
   "cell_type": "code",
   "execution_count": null,
   "id": "0e1b234f",
   "metadata": {
    "scrolled": true,
    "slideshow": {
     "slide_type": "slide"
    }
   },
   "outputs": [],
   "source": [
    "maxTweet, count = 5, 0 # Rubah sesuai dengan kebutuhan, Untuk percobaan ini cukup (misal) 12 tweet\n",
    "lan = set(['en','id']) # bahasa bisa dipilih > 1\n",
    "topicS = ['taudata', 'fmipa ui'] # Bisa>1\n",
    "\n",
    "streamTwitter(topicS, lan)"
   ]
  },
  {
   "cell_type": "markdown",
   "id": "cc35113f",
   "metadata": {
    "slideshow": {
     "slide_type": "slide"
    }
   },
   "source": [
    "# <center><font color=\"blue\">Pada kasus nyata data disimpan ke database - Big Data</font></center>\n",
    "\n",
    "* Contoh aplikasi di Elasticsearch\n",
    "\n",
    "<center><img style=\"undefined: undefined;\" src=\"images/elasticsearch.png\" alt=\"\" width=\"471\" height=\"266\" /></center>"
   ]
  },
  {
   "cell_type": "markdown",
   "id": "5af3e090",
   "metadata": {
    "slideshow": {
     "slide_type": "slide"
    }
   },
   "source": [
    "# <center><font color=\"blue\">Big Data semakin Mudah</font></center>\n",
    "\n",
    "* Easy Scalability: Auto balancing & distributing\n",
    "* Easy replica (Backup)\n",
    "* Easy Monitoring & Visualization: dashboard\n",
    "* Not easy? .... Statistika/Teori di balik Big Data.\n",
    "\n",
    "<p><img src=\"images/illustrated-screenshot-hero-kibana.png\" /></p>"
   ]
  },
  {
   "cell_type": "markdown",
   "id": "53be9f09",
   "metadata": {
    "slideshow": {
     "slide_type": "slide"
    }
   },
   "source": [
    "# <center><font color=\"blue\">Preprocessing data Teks</font></center>\n",
    "\n",
    "### Pembahasan Detail: https://tau-data.id/nlptm-01/\n",
    "\n",
    "<p><img src=\"images/TextMining_PipeLine.jpg\" alt=\"\" width=\"584\" height=\"228\" /></p>"
   ]
  },
  {
   "cell_type": "code",
   "execution_count": null,
   "id": "275ca5f5",
   "metadata": {
    "slideshow": {
     "slide_type": "slide"
    }
   },
   "outputs": [],
   "source": [
    "# preprocess \"D\": kumpulan tweet\n",
    "slangFixId = taudata.loadCorpus(file = 'data/slang.dic', sep=':')\n",
    "stopId, _ = taudata.LoadStopWords(lang='id')\n",
    "stopId.add(\"rt\")\n",
    "\n",
    "list(stopId)[:5]"
   ]
  },
  {
   "cell_type": "code",
   "execution_count": null,
   "id": "ee47cb8c",
   "metadata": {
    "slideshow": {
     "slide_type": "slide"
    }
   },
   "outputs": [],
   "source": [
    "from tqdm import tqdm \n",
    "\n",
    "cleanD = []\n",
    "for t in tqdm(D):\n",
    "    doc = taudata.cleanText(t, fix=slangFixId, lan='id', stops = stopId)\n",
    "    cleanD.append(doc)\n",
    "    \n",
    "\"Done\""
   ]
  },
  {
   "cell_type": "code",
   "execution_count": null,
   "id": "ad1a1fc7",
   "metadata": {
    "slideshow": {
     "slide_type": "slide"
    }
   },
   "outputs": [],
   "source": [
    "print(D[7], end='\\n\\n')\n",
    "print(cleanD[7], end='\\n\\n')"
   ]
  },
  {
   "cell_type": "code",
   "execution_count": null,
   "id": "8a957b3c",
   "metadata": {
    "slideshow": {
     "slide_type": "slide"
    }
   },
   "outputs": [],
   "source": [
    "# Save ke txt ... lalu nanti akan di upload ke Voyant Tools\n",
    "filename = 'tweets_2021.txt'\n",
    "with open(filename, 'w') as f:\n",
    "    for T in cleanD:\n",
    "        f.write(T+'\\n')\n",
    "        \n",
    "\"Tweets Saved!\""
   ]
  },
  {
   "cell_type": "markdown",
   "id": "97ddb6ac",
   "metadata": {
    "slideshow": {
     "slide_type": "slide"
    }
   },
   "source": [
    "# <center><font color=\"blue\">HashTag Analysis</font></center>\n",
    "\n",
    "* Frequency-Based\n",
    "* Bisa ditambahkan analisa hashtags analysis ini dari waktu ke waktu"
   ]
  },
  {
   "cell_type": "code",
   "execution_count": null,
   "id": "424ed386",
   "metadata": {},
   "outputs": [],
   "source": [
    "import re\n",
    "\n",
    "getHashTags = re.compile(r\"#(\\w+)\")\n",
    "T = 'halo #tauData dan #fmipaUI'\n",
    "\n",
    "re.findall(getHashTags, T)"
   ]
  },
  {
   "cell_type": "code",
   "execution_count": null,
   "id": "980b0ce9",
   "metadata": {
    "slideshow": {
     "slide_type": "slide"
    }
   },
   "outputs": [],
   "source": [
    "import re\n",
    "\n",
    "HTfilters = set(['zz', 'architec', 'prize', 'stirli', 'architect', 'london', 'cpd', 'design', 'stirling', 'photogr', 'gemini', \n",
    "                 'mule', 'karaoke', 'playing', 'official', 'berita', 'follow', 'retweet', 'mufc', 'ntms', 'infolimit', 'eeaa', \n",
    "                 'eaa', 'cfc', 'caprico', 'breaking','news', 'libra', 'mereka', 'brankas', 'psikolog', 'aquarius', 'klc'])\n",
    "# modifikasi HTfilters sesuai data kamu\n",
    "HT = {'hashtags':[]}\n",
    "count = 0\n",
    "getHashTags = re.compile(r\"#(\\w+)\")\n",
    "for i, d in tqdm(enumerate(D)):\n",
    "    hashtags = re.findall(getHashTags, d)\n",
    "    if hashtags:\n",
    "        TG = []\n",
    "        for tag in hashtags:\n",
    "            dTag = str(tag).strip().lower()\n",
    "            if len(dTag)>2:\n",
    "                add = True\n",
    "                for f in HTfilters:\n",
    "                    if f in dTag:\n",
    "                        add=False; break\n",
    "                if add:\n",
    "                    TG.append('#'+dTag); count += 1\n",
    "            HT['hashtags'].append(TG)\n",
    "print('Found {} number of hashtags'.format(count))"
   ]
  },
  {
   "cell_type": "code",
   "execution_count": null,
   "id": "734d0b24",
   "metadata": {
    "slideshow": {
     "slide_type": "slide"
    }
   },
   "outputs": [],
   "source": [
    "import pandas as pd\n",
    "\n",
    "N = 50 # Number of top frequent hashtags to be plotted\n",
    "\n",
    "dtHT = [x for t in tqdm(HT['hashtags']) for x in t] # any(h not in x for h in HTfilters)\n",
    "dtHT = pd.Series(dtHT)\n",
    "dtHT = dtHT.value_counts()\n",
    "dtHT = dtHT.sort_index()\n",
    "dtHT = dtHT.sort_values(ascending = False) \n",
    "dtHT.to_csv('hashTags_2021.csv', encoding='utf8')\n",
    "dtHT = dtHT.iloc[:N]\n",
    "\n",
    "p = dtHT.plot(kind='barh', figsize=(12,8), legend = False)"
   ]
  },
  {
   "cell_type": "markdown",
   "id": "fc193ce1",
   "metadata": {},
   "source": [
    "# Web Scrapping?"
   ]
  },
  {
   "cell_type": "code",
   "execution_count": null,
   "id": "d898ecae",
   "metadata": {
    "scrolled": true
   },
   "outputs": [],
   "source": [
    "import urllib.request\n",
    "from bs4 import BeautifulSoup as bs\n",
    "\n",
    "URL = 'https://www.beritasatu.com/beritasatu-tv'\n",
    "Doc = urllib.request.urlopen(URL).read()\n",
    "Doc = bs(Doc,'lxml').text\n",
    "print(Doc)"
   ]
  },
  {
   "cell_type": "markdown",
   "id": "13f4cea6",
   "metadata": {
    "slideshow": {
     "slide_type": "slide"
    }
   },
   "source": [
    "# Pendahuluan teori graph di Python: NetworkX"
   ]
  },
  {
   "cell_type": "markdown",
   "id": "78cbc072",
   "metadata": {
    "slideshow": {
     "slide_type": "slide"
    }
   },
   "source": [
    "## Membangun Graph\n",
    "\n",
    "## Menambahkan vertex, node, dan weights"
   ]
  },
  {
   "cell_type": "code",
   "execution_count": null,
   "id": "8047d496",
   "metadata": {
    "slideshow": {
     "slide_type": "slide"
    }
   },
   "outputs": [],
   "source": [
    "# Di NetworkX: inisialisasi graph kosong dilakukan seperti ini:\n",
    "G = nx.Graph() # Di kesempatan ini Graph tak Berarah ini yang akan lebih banyak kita gunakan\n",
    "G"
   ]
  },
  {
   "cell_type": "code",
   "execution_count": null,
   "id": "207f9e87",
   "metadata": {
    "slideshow": {
     "slide_type": "slide"
    }
   },
   "outputs": [],
   "source": [
    "G.nodes(), G.edges()"
   ]
  },
  {
   "cell_type": "code",
   "execution_count": null,
   "id": "622bb3a5",
   "metadata": {
    "colab": {
     "base_uri": "https://localhost:8080/",
     "height": 34
    },
    "colab_type": "code",
    "id": "YFLmEG121nZW",
    "outputId": "19af0ea5-5922-4381-978b-cb4938c09232",
    "slideshow": {
     "slide_type": "slide"
    }
   },
   "outputs": [],
   "source": [
    "# ini adalah cara sederhana menambahkan node ke graph satu persatu\n",
    "G.add_node(1)\n",
    "G.add_node(99)\n",
    "G.add_node(1) # \"Vertex adalah Himpunan\"\n",
    "print(G.nodes())"
   ]
  },
  {
   "cell_type": "code",
   "execution_count": null,
   "id": "c7b54f92",
   "metadata": {
    "colab": {
     "base_uri": "https://localhost:8080/",
     "height": 50
    },
    "colab_type": "code",
    "id": "w5-ZyHUc3vbj",
    "outputId": "c09745af-62cf-4913-c3b9-14de02bd989a",
    "slideshow": {
     "slide_type": "slide"
    }
   },
   "outputs": [],
   "source": [
    "# ini cara menambahkan array of vertices ke Graph kita\n",
    "V = [1,2,5,6,8,33,65,88] # vertices\n",
    "\n",
    "for vertex in V:\n",
    "    G.add_node(vertex)\n",
    "print( G.nodes() )\n",
    "print( G.edges() )"
   ]
  },
  {
   "cell_type": "code",
   "execution_count": null,
   "id": "7e6b0bb6",
   "metadata": {
    "colab": {
     "base_uri": "https://localhost:8080/",
     "height": 50
    },
    "colab_type": "code",
    "id": "1YhqeNMh6ER7",
    "outputId": "65f3b5a5-d4af-475c-e6ea-87fd6a1dcc80",
    "slideshow": {
     "slide_type": "slide"
    }
   },
   "outputs": [],
   "source": [
    "# ini cara menambahkan Edge secara manual satu per satu\n",
    "G.add_edge(5, 8)\n",
    "G.add_edge(8, 65)\n",
    "print( G.nodes() )\n",
    "print( G.edges() )"
   ]
  },
  {
   "cell_type": "code",
   "execution_count": null,
   "id": "734ed2b4",
   "metadata": {
    "colab": {
     "base_uri": "https://localhost:8080/",
     "height": 50
    },
    "colab_type": "code",
    "id": "j78_HUXK6SaA",
    "outputId": "0fe460e3-d193-4ef1-ea78-1953cd42d8d2",
    "slideshow": {
     "slide_type": "slide"
    }
   },
   "outputs": [],
   "source": [
    "# Kita bisa menambahkan edge walaupun di Graph kita belum ada vertexnya, vertex tersebut akan automatis ditambahkan ke graphnya\n",
    "# ini cara menambahkan Edge secara manual satu per satu\n",
    "# misal di contoh ini vertex 77 dan vertex \"A\" tidak ada sebelumnya di Graph G\n",
    "G.add_edge(77, 8)\n",
    "G.add_edge('Depok', 88)\n",
    "print( G.nodes() )\n",
    "print( G.edges() )"
   ]
  },
  {
   "cell_type": "code",
   "execution_count": null,
   "id": "80a457c7",
   "metadata": {
    "colab": {
     "base_uri": "https://localhost:8080/",
     "height": 185
    },
    "colab_type": "code",
    "id": "Kl6zEGP54HgJ",
    "outputId": "40af6693-89ec-41a8-9352-e474b35fd1d4",
    "slideshow": {
     "slide_type": "slide"
    }
   },
   "outputs": [],
   "source": [
    "# ini memahami bagaimana looping atas Array dari pasangan terurut dilakukan di python\n",
    "E = [(1,33), (1,88), (6,88), (2,5), (2,8)]\n",
    "\n",
    "for sisi in E:\n",
    "    G.add_edge(sisi[0], sisi[1])\n",
    "    \n",
    "print( G.nodes() )\n",
    "print( G.edges() )"
   ]
  },
  {
   "cell_type": "code",
   "execution_count": null,
   "id": "3f26bad9",
   "metadata": {
    "slideshow": {
     "slide_type": "slide"
    }
   },
   "outputs": [],
   "source": [
    "# Cara lain\n",
    "G2 = nx.Graph() # Graph Kosong Baru\n",
    "V = [1, 2, 7, 9, 12, 19] # Bisa juga string, misal \"A\" atau nama \"Budi\"\n",
    "E = [(1,2), (2,19), (9,2), (9,1), (2,8), (8,10), (12,7),(7,2), (7,9)] # Perhatikan \"8\" dan \"10\" TIDAK ADA di V\n",
    "\n",
    "G2.add_nodes_from(V)\n",
    "G2.add_edges_from(E)\n",
    "\n",
    "print('Banyak vertex = ', G2.number_of_nodes())\n",
    "print('Banyak Edges = ', G2.number_of_edges())"
   ]
  },
  {
   "cell_type": "markdown",
   "id": "305076e9",
   "metadata": {
    "slideshow": {
     "slide_type": "slide"
    }
   },
   "source": [
    "## Visualisasi Graph\n",
    "\n",
    "1. Graph mirip vector: tidak memiliki info lokasi\n",
    "2. Maka pertama kali kita tentukan cara menggambar vertexnya dulu: pos (position)\n",
    "\n",
    "<center><img alt=\"\" src=\"images/nx_layouts.png\" />"
   ]
  },
  {
   "cell_type": "code",
   "execution_count": null,
   "id": "d4ad5069",
   "metadata": {
    "slideshow": {
     "slide_type": "slide"
    }
   },
   "outputs": [],
   "source": [
    "# Contoh\n",
    "pos = nx.spiral_layout(G)\n",
    "pos"
   ]
  },
  {
   "cell_type": "code",
   "execution_count": null,
   "id": "e80342d0",
   "metadata": {
    "slideshow": {
     "slide_type": "slide"
    }
   },
   "outputs": [],
   "source": [
    "# Menggambar\n",
    "nx.draw_networkx_nodes(G,pos) # ini sekedar menggambar noktah vertex\n",
    "nx.draw_networkx_labels(G,pos) # ini kemudian memberikan label di setiap vertex pada langkah sebelumnya\n",
    "nx.draw_networkx_edges(G,pos) # ini menggambar edge di graph G\n",
    "plt.show()"
   ]
  },
  {
   "cell_type": "code",
   "execution_count": null,
   "id": "32852e50",
   "metadata": {
    "slideshow": {
     "slide_type": "slide"
    }
   },
   "outputs": [],
   "source": [
    "# Contoh Layout lain\n",
    "pos = nx.spring_layout(G, seed=seed)\n",
    "nx.draw_networkx_nodes(G,pos) # ini sekedar menggambar noktah vertex\n",
    "nx.draw_networkx_labels(G,pos) # ini kemudian memberikan label di setiap vertex pada langkah sebelumnya\n",
    "nx.draw_networkx_edges(G,pos) # ini menggambar edge di graph G\n",
    "plt.show()"
   ]
  },
  {
   "cell_type": "markdown",
   "id": "45b7ca1b",
   "metadata": {
    "slideshow": {
     "slide_type": "slide"
    }
   },
   "source": [
    "## Adding Graph weights/properties"
   ]
  },
  {
   "cell_type": "code",
   "execution_count": null,
   "id": "ca8926a5",
   "metadata": {
    "slideshow": {
     "slide_type": "slide"
    }
   },
   "outputs": [],
   "source": [
    "V = ['Depok', 'Jakarta', 'Bogor', 'Bekasi', 'Tangerang']\n",
    "Vluas = [12.3, 44.5, 1.2, 0.6, 23]  # contoh parameter \"luas\"\n",
    "\n",
    "E = [('Depok', 'Bogor'), ('Jakarta', 'Bekasi'), ('Bekasi', 'Bogor'),\n",
    "     ('Depok', 'Bekasi'), ('Tangerang', 'Bekasi')]  # ini adalah edgenya\n",
    "# ini \"contoh\" nanti jadi parameter ke-2 dari setiap Edge di E\n",
    "Ejrk = [22.4, 1.2, 5.6, 7.8, 9]\n",
    "\n",
    "G = nx.Graph()  # graph sebelumnya tertimpa dan jadi Graph kosong kembali\n",
    "# Kemudian kita akan tambahkan vertex, edge, beserta setiap parameter yg didefinisikan di atas ke graph G\n",
    "for vertex, area in zip(V, Vluas):\n",
    "    # nama variable parameter di setiap vertexnya di contoh ini adalah \"waktu\" dan \"orang\"\n",
    "    G.add_node(vertex, luas=area)\n",
    "\n",
    "for sisi, dist in zip(E, Ejrk):\n",
    "    G.add_edge(sisi[0], sisi[1], jarak=dist)\n",
    "\n",
    "print(G.nodes())\n",
    "print(G.edges())\n",
    "print('Luas Depok = ', G.nodes['Depok']['luas'])"
   ]
  },
  {
   "cell_type": "code",
   "execution_count": null,
   "id": "51048155",
   "metadata": {
    "slideshow": {
     "slide_type": "slide"
    }
   },
   "outputs": [],
   "source": [
    "plt.subplots(figsize=(12,8))\n",
    "\n",
    "pos = nx.spring_layout(G)\n",
    "nx.draw_networkx_nodes(G,pos,node_size=3000) # ini sekedar menggambar noktah vertex\n",
    "nx.draw_networkx_labels(G,pos) # ini kemudian memberikan label di setiap vertex pada langkah sebelumnya\n",
    "nx.draw_networkx_edges(G,pos) # ini menggambar edge di graph G\n",
    "nx.draw_networkx_edge_labels(G,pos,edge_labels=nx.get_edge_attributes(G,'jarak')) # ini label dari edgenya\n",
    "plt.show()"
   ]
  },
  {
   "cell_type": "markdown",
   "id": "7ccb0de8",
   "metadata": {
    "slideshow": {
     "slide_type": "slide"
    }
   },
   "source": [
    "<h1 id=\"Degree/Derajat-Vertex\">Degree/Derajat Vertex</h1>\n",
    "\n",
    "<p><img alt=\"\" src=\"images/degree_vertex_graph.png\" /></p>"
   ]
  },
  {
   "cell_type": "code",
   "execution_count": null,
   "id": "84775002",
   "metadata": {
    "slideshow": {
     "slide_type": "slide"
    }
   },
   "outputs": [],
   "source": [
    "d = nx.degree(G)\n",
    "d"
   ]
  },
  {
   "cell_type": "markdown",
   "id": "9eaef9a2",
   "metadata": {
    "slideshow": {
     "slide_type": "slide"
    }
   },
   "source": [
    "## Menggunakan degree untuk membuat gambar graph yang lebih baik"
   ]
  },
  {
   "cell_type": "code",
   "execution_count": null,
   "id": "1a822068",
   "metadata": {
    "slideshow": {
     "slide_type": "slide"
    }
   },
   "outputs": [],
   "source": [
    "plt.subplots(figsize=(12,8))\n",
    "\n",
    "pos = nx.spring_layout(G, seed=seed) # Spring LayOut\n",
    "D = [d[node]*1000 for node in G.nodes()]\n",
    "nx.draw_networkx_nodes(G,pos,node_size=D) # Gambar Vertex\n",
    "nx.draw_networkx_edges(G,pos,width=2,alpha=0.15) # Gambar edges\n",
    "nx.draw_networkx_labels(G,pos) #Gambar Label Nodes\n",
    "plt.show() # Show the graph"
   ]
  },
  {
   "cell_type": "markdown",
   "id": "bb013e39",
   "metadata": {
    "slideshow": {
     "slide_type": "slide"
    }
   },
   "source": [
    "## Menambahkan informasi warna"
   ]
  },
  {
   "cell_type": "code",
   "execution_count": null,
   "id": "bae10af6",
   "metadata": {
    "slideshow": {
     "slide_type": "slide"
    }
   },
   "outputs": [],
   "source": [
    "plt.subplots(figsize=(12,8))\n",
    "\n",
    "warna = D\n",
    "pos = nx.spring_layout(G, seed=seed) # Spring LayOut\n",
    "nx.draw_networkx_nodes(G,pos, node_color=warna,node_size=D, alpha=0.5) # Gambar Vertex\n",
    "nx.draw_networkx_edges(G,pos,width=2,alpha=0.1) # Gambar edges\n",
    "nx.draw_networkx_labels(G,pos) #Gambar Label Nodes\n",
    "plt.show() # Show the graph"
   ]
  },
  {
   "cell_type": "markdown",
   "id": "e8b917e6",
   "metadata": {
    "slideshow": {
     "slide_type": "slide"
    }
   },
   "source": [
    "<h1 id=\"(Shortest)-Path\">(Shortest) Path</h1>\n",
    "\n",
    "<p><img alt=\"\" src=\"images/shortest_path.png\" /></p>"
   ]
  },
  {
   "cell_type": "code",
   "execution_count": null,
   "id": "53689e3d",
   "metadata": {
    "slideshow": {
     "slide_type": "slide"
    }
   },
   "outputs": [],
   "source": [
    "SP = nx.shortest_path(G, source='Jakarta', target='Bogor')\n",
    "SP"
   ]
  },
  {
   "cell_type": "code",
   "execution_count": null,
   "id": "3e8c356f",
   "metadata": {
    "slideshow": {
     "slide_type": "slide"
    }
   },
   "outputs": [],
   "source": [
    "H = G.subgraph(SP)\n",
    "\n",
    "pos = nx.spring_layout(H) # Spring LayOut\n",
    "nx.draw_networkx_nodes(H,pos,alpha=0.5) # Gambar Vertex\n",
    "nx.draw_networkx_edges(H,pos,width=2,alpha=0.1) # Gambar edges\n",
    "nx.draw_networkx_labels(H,pos) #Gambar Label Nodes\n",
    "plt.show() # Show the graph"
   ]
  },
  {
   "cell_type": "markdown",
   "id": "877f1576",
   "metadata": {},
   "source": [
    "### Preprocessing text Menggunakan fungsi dari tau-data Indonesia ~ Module \"taudataSNA\""
   ]
  },
  {
   "cell_type": "markdown",
   "id": "08e5cafa",
   "metadata": {},
   "source": [
    "# Menyimpan Hasil Preprocessing untuk di Visualisasi\n",
    "\n",
    "### Kita simpan juga data yang tidak di preprocessing untuk module D (SNA)"
   ]
  },
  {
   "cell_type": "code",
   "execution_count": null,
   "id": "f06a57fb",
   "metadata": {},
   "outputs": [],
   "source": []
  },
  {
   "cell_type": "markdown",
   "id": "19668496",
   "metadata": {
    "slideshow": {
     "slide_type": "slide"
    }
   },
   "source": [
    "<h1 id=\"Graph-From-Social-media\">Graph From Social media</h1>\n",
    "\n",
    "<h3 id=\"Mentions,-Followers,-Friends\">Mentions, Followers, Friends</h3>\n",
    "\n",
    "<p><img alt=\"\" src=\"images/SNA_Graph_Types.png\" /></p>"
   ]
  },
  {
   "cell_type": "markdown",
   "id": "3dc5adc1",
   "metadata": {},
   "source": [
    "# Tahapan Analisa SNA\n",
    "\n",
    "1. Load Data dari Crawling, Streaming, atau Scrapping yang sudah dilakukan sebelumnya\n",
    "2. Bentuk graph (mention, retweet, atau follower)\n",
    "3. Visualisasi\n",
    "4. Analisa (Centrality, community, controversy Analysis, dsb)"
   ]
  },
  {
   "cell_type": "code",
   "execution_count": null,
   "id": "4c8e1fb4",
   "metadata": {},
   "outputs": [],
   "source": [
    "users = [t._json['user']['screen_name'] for t in tweet]\n",
    "tweets = [t._json['full_text'] for t in tweet]"
   ]
  },
  {
   "cell_type": "code",
   "execution_count": null,
   "id": "977870d3",
   "metadata": {},
   "outputs": [],
   "source": [
    "G = nx.Graph() # Graph Kosong Baru\n",
    "\n",
    "G.add_nodes_from(users)\n",
    "\n",
    "print('Banyak vertex = ', G.number_of_nodes())\n",
    "print('Banyak Edges = ', G.number_of_edges())"
   ]
  },
  {
   "cell_type": "code",
   "execution_count": null,
   "id": "82f4c4c0",
   "metadata": {},
   "outputs": [],
   "source": [
    "import re\n",
    "\n",
    "t = \"ini sekedar contoh tweet dengan mention @taudataid @StatsUNP\"\n",
    "mentionS =  re.findall(\"@([a-zA-Z0-9]{1,15})\", t)\n",
    "\n",
    "mentionS"
   ]
  },
  {
   "cell_type": "code",
   "execution_count": null,
   "id": "c8689090",
   "metadata": {},
   "outputs": [],
   "source": [
    "for usr, t in zip(users, tweets):\n",
    "    mentionS =  re.findall(\"@([a-zA-Z0-9]{1,15})\", t)\n",
    "    for mention in mentionS:\n",
    "        if \".\" not in mention: #skipping emails\n",
    "            G.add_edge(usr, mention)\n",
    "            \n",
    "print('Banyak vertex = ', G.number_of_nodes())\n",
    "print('Banyak Edges = ', G.number_of_edges())"
   ]
  },
  {
   "cell_type": "code",
   "execution_count": null,
   "id": "f3d67b6d",
   "metadata": {
    "scrolled": false,
    "slideshow": {
     "slide_type": "slide"
    }
   },
   "outputs": [],
   "source": [
    "# Draw the Tweet Graph\n",
    "plt.subplots(figsize=(12,8))\n",
    "\n",
    "d = nx.degree(G)\n",
    "pos = nx.spring_layout(G, seed=seed) # Spring LayOut\n",
    "D = [d[node]*10 for node in G.nodes()]\n",
    "nx.draw_networkx_nodes(G, pos, node_size=D, node_color=D) # Gambar Vertex\n",
    "nx.draw_networkx_edges(G, pos, width=1, alpha=0.5) # Gambar edges\n",
    "#nx.draw_networkx_labels(G,pos) #Gambar Label Nodes\n",
    "plt.show() # Show the graph"
   ]
  },
  {
   "cell_type": "markdown",
   "id": "626f1da8",
   "metadata": {
    "slideshow": {
     "slide_type": "slide"
    }
   },
   "source": [
    "<h2>I. Centrality Analysis</h2>\n",
    "\n",
    "<p>Bertujuan untuk menemukan pengguna yang paling berpengaruh dalam suatu topik pembicaraan di media sosial. Analisanya biasanya dilakukan melalui data graph dari hubungan jaringan pertemanan (follower/friend) antar pengguna atau komunikasi antar pengguna (mentions).</p>\n",
    "\n",
    "<p><img alt=\"\" src=\"images/8_SMA_Centrality.JPG\" /></p>\n"
   ]
  },
  {
   "cell_type": "markdown",
   "id": "2a4bba80",
   "metadata": {
    "slideshow": {
     "slide_type": "slide"
    }
   },
   "source": [
    "<h1 id=\"Centrality-by-Degree\">Centrality by Degree</h1>\n",
    "\n",
    "<p><img alt=\"\" src=\"images/Degree_Centrality.png\" /></p>\n",
    "\n",
    "## Apakah interpretasinya?"
   ]
  },
  {
   "cell_type": "code",
   "execution_count": null,
   "id": "384966e1",
   "metadata": {
    "slideshow": {
     "slide_type": "slide"
    }
   },
   "outputs": [],
   "source": [
    "# Let's now examine, who are the most \"important\" users in this Graph?\n",
    "Gt = tau.Centrality(G, N=10, method='degree', outliers=False, Label = True, layOut='spring')"
   ]
  },
  {
   "cell_type": "code",
   "execution_count": null,
   "id": "dad80dfc",
   "metadata": {
    "slideshow": {
     "slide_type": "slide"
    }
   },
   "outputs": [],
   "source": [
    "tau.drawGraph(Gt, True, layOut='circular')"
   ]
  },
  {
   "cell_type": "markdown",
   "id": "8885bbf4",
   "metadata": {
    "slideshow": {
     "slide_type": "slide"
    }
   },
   "source": [
    "<h1 id=\"Closeness-Centrality\">Closeness Centrality</h1>\n",
    "\n",
    "<p><img alt=\"\" src=\"images/closeness_centrality.png\" /></p>\n"
   ]
  },
  {
   "cell_type": "code",
   "execution_count": null,
   "id": "5f1ad414",
   "metadata": {
    "slideshow": {
     "slide_type": "slide"
    }
   },
   "outputs": [],
   "source": [
    "Gt = tau.Centrality(G, N=10, method='closeness', outliers=False, Label = True, layOut='spring')"
   ]
  },
  {
   "cell_type": "code",
   "execution_count": null,
   "id": "69c1ebdd",
   "metadata": {
    "slideshow": {
     "slide_type": "slide"
    }
   },
   "outputs": [],
   "source": [
    "tau.drawGraph(Gt, True, layOut='circular')"
   ]
  },
  {
   "cell_type": "markdown",
   "id": "98c57ee0",
   "metadata": {
    "slideshow": {
     "slide_type": "slide"
    }
   },
   "source": [
    "<h1 id=\"Betweenness-Centrality\">Betweenness Centrality</h1>\n",
    "\n",
    "<p><img alt=\"\" src=\"images/betweeness_Centrality.png\" /></p>\n"
   ]
  },
  {
   "cell_type": "code",
   "execution_count": null,
   "id": "aa36f2e3",
   "metadata": {
    "slideshow": {
     "slide_type": "slide"
    }
   },
   "outputs": [],
   "source": [
    "Gt = tau.Centrality(G, N=10, method='betweeness', outliers=False, Label = True, layOut='spring')"
   ]
  },
  {
   "cell_type": "code",
   "execution_count": null,
   "id": "db9a7518",
   "metadata": {
    "slideshow": {
     "slide_type": "slide"
    }
   },
   "outputs": [],
   "source": [
    "tau.drawGraph(Gt, True, layOut='circular')"
   ]
  },
  {
   "cell_type": "markdown",
   "id": "efb99c8f",
   "metadata": {
    "slideshow": {
     "slide_type": "slide"
    }
   },
   "source": [
    "# Eigenvector Centrality\n",
    "\n",
    "<p><img alt=\"\" src=\"images/Eigenvector_Centrality_1.png\" /></p>\n",
    "\n",
    "### Digunakan juga oleh Google dalam Algoritma PageRank-nya untuk menentukan halaman web terpenting."
   ]
  },
  {
   "cell_type": "markdown",
   "id": "0964cde8",
   "metadata": {
    "slideshow": {
     "slide_type": "slide"
    }
   },
   "source": [
    "<p><img alt=\"\" src=\"images/Eigenvector_Centrality_0_.png\" /></p>"
   ]
  },
  {
   "cell_type": "code",
   "execution_count": null,
   "id": "ca68b6ac",
   "metadata": {
    "slideshow": {
     "slide_type": "slide"
    }
   },
   "outputs": [],
   "source": [
    "Gt = tau.Centrality(G, N=10, method='eigen', outliers=False, Label = True, layOut='spring')"
   ]
  },
  {
   "cell_type": "code",
   "execution_count": null,
   "id": "2d181e01",
   "metadata": {
    "slideshow": {
     "slide_type": "slide"
    }
   },
   "outputs": [],
   "source": [
    "tau.drawGraph(Gt, True, layOut='circular')"
   ]
  },
  {
   "cell_type": "markdown",
   "id": "124f75e7",
   "metadata": {
    "slideshow": {
     "slide_type": "slide"
    }
   },
   "source": [
    "<h1 id=\"Summary\">Summary</h1>\n",
    "\n",
    "<p><img alt=\"\" src=\"images/Centrality_Interpretations.png\" /></p>"
   ]
  },
  {
   "cell_type": "markdown",
   "id": "59a90552",
   "metadata": {
    "slideshow": {
     "slide_type": "slide"
    }
   },
   "source": [
    "<h2>II. Community Detection (CD)</h2>\n",
    "\n",
    "<p>CD dilakukan pada data jaringan media sosial untuk menemukan komunitas-komunitas dalam pertemanan atau pembicaraan di media sosial. Secara sederhana CD dapat dimengerti sebagai proses \"semacam clustering\" (pengelompokan) , namun atas suatu graph.</p>\n",
    "\n",
    "<img alt=\"\" src=\"images/8_SMA_Community.JPG\" />\n"
   ]
  },
  {
   "cell_type": "code",
   "execution_count": null,
   "id": "44fc2dc6",
   "metadata": {
    "slideshow": {
     "slide_type": "slide"
    }
   },
   "outputs": [],
   "source": [
    "# Clustering pada Graph = Community Detection\n",
    "Gt = nx.algorithms.community.greedy_modularity_communities(G)\n",
    "for community in Gt:\n",
    "    print(community)"
   ]
  },
  {
   "cell_type": "markdown",
   "id": "9c2cba7b",
   "metadata": {},
   "source": [
    "# Visualisasi Versi Gephi\n",
    "\n",
    "<img alt=\"\" src=\"images/Gephi.jpg\" />\n",
    "\n",
    "1. menggunakan Data dari tweepy: Dibahas di Workshop/Module ini.\n",
    "2. Crawl langsung dari gephi: https://www.youtube.com/watch?v=j_PUwmDcPBs"
   ]
  },
  {
   "cell_type": "code",
   "execution_count": null,
   "id": "a563b158",
   "metadata": {},
   "outputs": [],
   "source": [
    "json_file = 'Tweets_2021.json'\n",
    "gexf_file = 'network_2021.gexf'\n",
    "\n",
    "tweets = tau.load_jsonl(json_file)\n",
    "tau.create_gexf(tweets, gexf_file)\n",
    "\n",
    "\"Done\""
   ]
  },
  {
   "cell_type": "markdown",
   "id": "b47162d3",
   "metadata": {},
   "source": [
    "# Visualizing in Gephi\n",
    "\n",
    "1. \"import\" file gexf ke Gephi (yakinkan tipe network \"Dynamics\" - lihat gambar)\n",
    " - \"Open graph File ... \"\n",
    "\n",
    "<img alt=\"\" src=\"images/gephi-dynamics.png\" />"
   ]
  },
  {
   "cell_type": "markdown",
   "id": "2c199098",
   "metadata": {},
   "source": [
    "### Visualisasi\n",
    "\n",
    "* Ganti Size Nodes: Nodes ==> Size ==> in-Degree\n",
    " - Atur \"range\" sedemikian sehingga distribusi ukuran vertex cukup baik. \n",
    "* Community Detection: Statistics ==> Modularity\n",
    "* Ganti Warna Nodes: Nodes ==> Partition ==> Modularity\n",
    "* Ganti Layout Graph: ForceAtlas2\n",
    " - Stronger Gravity\n",
    " - Gravity 0.05\n",
    " - Prevent Overlap\n",
    "* Add Node Label (Ada di tengah bawah, huruf \"T\")\n",
    "* ganti warna background (misal hitam)\n",
    "\n",
    "### Navigasi\n",
    "- Mouse Scroll: Zoom in-out ATAU panah kanan bawah untuk atur zoom\n",
    "- Tekan (tahan) klik kanan lalu gerakkan mouse (atau touchpad) untuk memindahkan graph.\n",
    "\n",
    "<img alt=\"\" src=\"images/gephi-example-result.png\" />"
   ]
  },
  {
   "cell_type": "markdown",
   "id": "0625f936",
   "metadata": {},
   "source": [
    "# Analisa?\n",
    "\n",
    "* Klik kanan di Node ==> Select in Data Laboratory ==> Pelajari akun dan-atau tweet orang tersebut."
   ]
  },
  {
   "cell_type": "markdown",
   "id": "911c8da5",
   "metadata": {
    "slideshow": {
     "slide_type": "slide"
    }
   },
   "source": [
    "# <center><font color=\"blue\"> Akhir Modul \"Digital Data Gathering\" ~ \"Social Network Analysis\"</font></center>\n",
    "\n",
    "<hr />\n",
    "<img alt=\"\" src=\"images/meme-cartoon/meme_social_media.jpg\" style=\"height: 300px;\"/>"
   ]
  }
 ],
 "metadata": {
  "celltoolbar": "Slideshow",
  "kernelspec": {
   "display_name": "Python 3 (ipykernel)",
   "language": "python",
   "name": "python3"
  },
  "language_info": {
   "codemirror_mode": {
    "name": "ipython",
    "version": 3
   },
   "file_extension": ".py",
   "mimetype": "text/x-python",
   "name": "python",
   "nbconvert_exporter": "python",
   "pygments_lexer": "ipython3",
   "version": "3.7.11"
  },
  "latex_envs": {
   "LaTeX_envs_menu_present": true,
   "autoclose": false,
   "autocomplete": true,
   "bibliofile": "biblio.bib",
   "cite_by": "apalike",
   "current_citInitial": 1,
   "eqLabelWithNumbers": true,
   "eqNumInitial": 1,
   "hotkeys": {
    "equation": "Ctrl-E",
    "itemize": "Ctrl-I"
   },
   "labels_anchors": false,
   "latex_user_defs": false,
   "report_style_numbering": false,
   "user_envs_cfg": false
  }
 },
 "nbformat": 4,
 "nbformat_minor": 5
}
