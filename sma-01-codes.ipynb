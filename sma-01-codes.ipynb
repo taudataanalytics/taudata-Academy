{
 "cells": [
  {
   "cell_type": "markdown",
   "id": "6cd78d16",
   "metadata": {
    "slideshow": {
     "slide_type": "slide"
    }
   },
   "source": [
    "<center><h2><strong><font color=\"blue\">Social Media Analytics (SMA)</font></strong></h2></center>\n",
    "<center><h3><strong><font color=\"blue\"><a href=\"https://taudata.blogspot.com\">https://taudata.blogspot.com</a></font></strong></h3></center>\n",
    "\n",
    "<img alt=\"\" src=\"images/covers/taudata-cover.jpg\"/>\n",
    "\n",
    "<center><h2><strong><font color=\"blue\">SMA-01: Digital Data Gathering</font></strong></h2></center>\n",
    "<center><h3><strong><font color=\"blue\"><a href=\"https://taudata.blogspot.com/2022/04/sma-01.html\">https://taudata.blogspot.com/2022/04/sma-01.html</a></font></strong></h3></center>\n",
    "<b><center><h3>(C) Taufik Sutanto</h3></center>"
   ]
  },
  {
   "cell_type": "code",
   "execution_count": 1,
   "id": "24430ad1",
   "metadata": {},
   "outputs": [
    {
     "name": "stdout",
     "output_type": "stream",
     "text": [
      "Running the code locally, please make sure all the python module versions agree with colab environment and all data/assets downloaded\n"
     ]
    }
   ],
   "source": [
    "import warnings; warnings.simplefilter('ignore')\n",
    "import nltk\n",
    "\n",
    "try:\n",
    "    import google.colab\n",
    "    IN_COLAB = True\n",
    "    !wget https://raw.githubusercontent.com/taudata-indonesia/eLearning/master/taudataDDGsna.py\n",
    "    !mkdir data\n",
    "    !wget -P data/ https://raw.githubusercontent.com/taudata-indonesia/eLearning/master/data/contoh.pdf\n",
    "    !wget -P data/ https://raw.githubusercontent.com/taudata-indonesia/eLearning/master/data/slang.txt\n",
    "    !wget -P data/ https://raw.githubusercontent.com/taudata-indonesia/eLearning/master/data/stopwords_id.txt\n",
    "    !wget -P data/ https://raw.githubusercontent.com/taudata-indonesia/eLearning/master/data/stopwords_en.txt\n",
    "    !wget -P data/ https://raw.githubusercontent.com/taudata-indonesia/eLearning/master/data/kata_dasar.txt\n",
    "    !wget -P data/ https://raw.githubusercontent.com/taudata-indonesia/eLearning/master/data/wn-ind-def.tab\n",
    "    !wget -P data/ https://raw.githubusercontent.com/taudata-indonesia/eLearning/master/data/wn-msa-all.tab\n",
    "    !wget -P data/ https://raw.githubusercontent.com/taudata-indonesia/eLearning/master/data/ind_SA.csv\n",
    "    !wget -P data/ https://raw.githubusercontent.com/taudata-indonesia/eLearning/master/data/all_indo_man_tag_corpus_model.crf.tagger\n",
    "\n",
    "    !pip install --upgrade spacy python-crfsuite unidecode textblob sastrawi sklearn-pycrfsuite\n",
    "    !pip install --upgrade unidecode twython tweepy beautifulsoup4 tika\n",
    "    !python -m spacy download en\n",
    "    !python -m spacy download xx\n",
    "    !python -m spacy download en_core_web_sm\n",
    "    nltk.download('popular')\n",
    "except:\n",
    "    IN_COLAB = False\n",
    "    print(\"Running the code locally, please make sure all the python module versions agree with colab environment and all data/assets downloaded\")"
   ]
  },
  {
   "cell_type": "code",
   "execution_count": 2,
   "id": "242cea71",
   "metadata": {},
   "outputs": [
    {
     "data": {
      "text/plain": [
       "'Done'"
      ]
     },
     "execution_count": 2,
     "metadata": {},
     "output_type": "execute_result"
    }
   ],
   "source": [
    "import taudataDDGsna as tau\n",
    "import tweepy, json, urllib.request, requests\n",
    "from urllib.request import Request, urlopen\n",
    "from twython import TwythonStreamer\n",
    "from bs4 import BeautifulSoup as bs\n",
    "from tqdm import tqdm\n",
    "\"Done\""
   ]
  },
  {
   "cell_type": "markdown",
   "id": "c2929d00",
   "metadata": {},
   "source": [
    "<h2 id=\"Aturan-twitter\">Aturan, bentuk data, &amp; error codes twitter</h2>\n",
    "\n",
    "<ol>\n",
    "\t<li>\n",
    "\t<p><a href=\"https://dev.twitter.com/rest/public/rate-limiting\" target=\"_blank\">https://</a><a href=\"https://dev.twitter.com/rest/public/rate-limiting\" target=\"_blank\">dev.twitter.com/rest/public/rate-limiting</a></p>\n",
    "\t</li>\n",
    "\t<li>\n",
    "\t<p><a href=\"https://dev.twitter.com/overview/terms/agreement-and-policy\" target=\"_blank\">https://dev.twitter.com/overview/terms/agreement-and-policy</a></p>\n",
    "\t</li>\n",
    "\t<li>\n",
    "\t<p><a href=\"https://dev.twitter.com/overview/api/response-codes\" target=\"_blank\">https://</a><a href=\"https://dev.twitter.com/overview/api/response-codes\" target=\"_blank\">dev.twitter.com/overview/api/response-codes</a></p>\n",
    "\t</li>\n",
    "\t<li>\n",
    "\t<p><a href=\"https://dev.twitter.com/overview/api/tweets\" target=\"_blank\">https://</a><a href=\"https://dev.twitter.com/overview/api/tweets\" target=\"_blank\">dev.twitter.com/overview/api/tweets</a></p>\n",
    "\t</li>\n",
    "</ol>"
   ]
  },
  {
   "cell_type": "code",
   "execution_count": 3,
   "id": "1a5b56cb",
   "metadata": {
    "slideshow": {
     "slide_type": "slide"
    }
   },
   "outputs": [
    {
     "data": {
      "text/plain": [
       "'Done'"
      ]
     },
     "execution_count": 3,
     "metadata": {},
     "output_type": "execute_result"
    }
   ],
   "source": [
    "# Contoh API Keys (Sesuaikan dengan API keys masing-masing)\n",
    "Ck = 'NKrHwVVOv' # consumer_key\n",
    "Cs = '8dDb7cYmaP1YIifQWJfRL4QEvp' # consumer_secret\n",
    "At = '2214118411-lyBtGqtHWxU' # access_token\n",
    "As = 'SzSYb2DIJbQ6byifcF' # access_secret\n",
    "\n",
    "'Done'"
   ]
  },
  {
   "cell_type": "code",
   "execution_count": 4,
   "id": "c29cc633",
   "metadata": {
    "slideshow": {
     "slide_type": "slide"
    }
   },
   "outputs": [
    {
     "name": "stdout",
     "output_type": "stream",
     "text": [
      "Welcome \"Taufik Sutanto\" you are now connected to twitter server\n"
     ]
    }
   ],
   "source": [
    "import tweepy\n",
    "\n",
    "auth = tweepy.auth.OAuthHandler(Ck, Cs)\n",
    "auth.set_access_token(At, As)\n",
    "api = tweepy.API(auth, wait_on_rate_limit=True, timeout=180, retry_count=5, retry_delay=3)\n",
    "usr_ = api.verify_credentials()\n",
    "print('Welcome \"{}\" you are now connected to twitter server'.format(usr_.name))"
   ]
  },
  {
   "cell_type": "code",
   "execution_count": null,
   "id": "3fc66ade",
   "metadata": {},
   "outputs": [],
   "source": [
    "# Kita bisa post, delete, follow, like, reply, retweet, dsb.\n",
    "# WARNING ... Status harus dibedakan, jika tidak akan gagal karena twitter mendeteksi status duplikat.\n",
    "\n",
    "status = \"Testing Digital Data Gathering - kuliah EDA-Viz\"\n",
    "t = api.update_status(status)\n",
    "# Silahkan cek timeline setelah ini\n",
    "\"Done! ... Silahkan cek timeline twitter anda.\""
   ]
  },
  {
   "cell_type": "code",
   "execution_count": 6,
   "id": "71b21be9",
   "metadata": {
    "scrolled": true,
    "slideshow": {
     "slide_type": "slide"
    }
   },
   "outputs": [
    {
     "name": "stderr",
     "output_type": "stream",
     "text": [
      "26it [00:01, 13.13it/s]"
     ]
    },
    {
     "name": "stdout",
     "output_type": "stream",
     "text": [
      "26 tweets captured.\n"
     ]
    },
    {
     "name": "stderr",
     "output_type": "stream",
     "text": [
      "\n"
     ]
    }
   ],
   "source": [
    "qry = 'sunscreen canggih'\n",
    "N = 10000 # jumlah N tweet \"terkini\" yang ingin diambil\n",
    "T = []\n",
    "for post in tqdm(tweepy.Cursor(api.search_tweets, q=qry, lang='en', tweet_mode='extended').items(N)):\n",
    "    T.append(post)\n",
    "    \n",
    "print(\"{} tweets captured.\".format(len(T)))"
   ]
  },
  {
   "cell_type": "code",
   "execution_count": null,
   "id": "e843fd6d",
   "metadata": {
    "slideshow": {
     "slide_type": "slide"
    }
   },
   "outputs": [],
   "source": [
    "T[0]._json"
   ]
  },
  {
   "cell_type": "code",
   "execution_count": null,
   "id": "8e7863e2",
   "metadata": {
    "slideshow": {
     "slide_type": "slide"
    }
   },
   "outputs": [],
   "source": [
    "# T bukan sekedar list of tweets \n",
    "tweet = [t._json for t in T]\n",
    "print(' Berhasil mendapatkan {} tweets'.format(len(tweet)))"
   ]
  },
  {
   "cell_type": "code",
   "execution_count": null,
   "id": "4af0d114",
   "metadata": {
    "slideshow": {
     "slide_type": "slide"
    }
   },
   "outputs": [],
   "source": [
    "# Data pertama\n",
    "tweet[0]"
   ]
  },
  {
   "cell_type": "code",
   "execution_count": null,
   "id": "f629c232",
   "metadata": {
    "slideshow": {
     "slide_type": "slide"
    }
   },
   "outputs": [],
   "source": [
    "# Datanya berbentuk JSON\n",
    "tweet[0]['created_at'], tweet[0]['full_text']"
   ]
  },
  {
   "cell_type": "code",
   "execution_count": null,
   "id": "3a12b41e",
   "metadata": {
    "slideshow": {
     "slide_type": "slide"
    }
   },
   "outputs": [],
   "source": [
    "# Contoh mengakses data spesifik pada tweet yang pertama:\n",
    "print('tweet pertama oleh \"{}\" : \"{}\"'.format(tweet[0]['user']['screen_name'],tweet[0]['full_text']))"
   ]
  },
  {
   "cell_type": "markdown",
   "id": "13da7fab",
   "metadata": {
    "slideshow": {
     "slide_type": "slide"
    }
   },
   "source": [
    "# <center><font color=\"blue\">Menyimpan hasil crawling (sederhana ke Text file berformat json)</font></center>"
   ]
  },
  {
   "cell_type": "code",
   "execution_count": null,
   "id": "27919b88",
   "metadata": {
    "slideshow": {
     "slide_type": "fragment"
    }
   },
   "outputs": [],
   "source": [
    "import json \n",
    "def saveTweets(tweets, file='Tweets.json'): #in Json Format\n",
    "    with open(file, 'w') as f:\n",
    "        for t in tweets:\n",
    "            try:\n",
    "                f.write(json.dumps(t)+'\\n')\n",
    "            except:\n",
    "                pass"
   ]
  },
  {
   "cell_type": "code",
   "execution_count": null,
   "id": "a03e46dd",
   "metadata": {
    "slideshow": {
     "slide_type": "slide"
    }
   },
   "outputs": [],
   "source": [
    "# Menyimpan hasil crawling twitter\n",
    "fileName = 'Tweets_2021.json'\n",
    "saveTweets(tweet, file=fileName)\n",
    "print('Saved to '+fileName)"
   ]
  },
  {
   "cell_type": "markdown",
   "id": "cab4f6c8",
   "metadata": {
    "slideshow": {
     "slide_type": "slide"
    }
   },
   "source": [
    "# <center><font color=\"blue\">Load Kembali?</font></center>"
   ]
  },
  {
   "cell_type": "code",
   "execution_count": null,
   "id": "5b9b1004",
   "metadata": {
    "slideshow": {
     "slide_type": "fragment"
    }
   },
   "outputs": [],
   "source": [
    "def loadTweets(file='Tweets.json'):\n",
    "    f=open(file,encoding='utf-8', errors ='ignore', mode='r')\n",
    "    T=f.readlines();f.close()\n",
    "    for i,t in enumerate(T):\n",
    "        T[i] = json.loads(t.strip())\n",
    "    return T"
   ]
  },
  {
   "cell_type": "code",
   "execution_count": null,
   "id": "50f6238c",
   "metadata": {
    "slideshow": {
     "slide_type": "slide"
    }
   },
   "outputs": [],
   "source": [
    "# Me-load kembali jika (misal) analisa ingin dilakukan di lain waktu\n",
    "# Sengaja nama variabelnya saya bedakan (T2)\n",
    "T2 = loadTweets(file=fileName)\n",
    "print('tweet pertama oleh \"{}\" : \"{}\"'.format(T2[0]['user']['screen_name'],T2[0]['full_text']))"
   ]
  },
  {
   "cell_type": "code",
   "execution_count": null,
   "id": "75f286cd",
   "metadata": {
    "slideshow": {
     "slide_type": "slide"
    }
   },
   "outputs": [],
   "source": [
    "# Contoh mengambil hanya data tweet\n",
    "D = [t['full_text'] for t in T2]\n",
    "D[:5] # 5 tweet pertama"
   ]
  },
  {
   "cell_type": "code",
   "execution_count": null,
   "id": "8c32eaab",
   "metadata": {
    "slideshow": {
     "slide_type": "slide"
    }
   },
   "outputs": [],
   "source": [
    "# Mari kita coba #1\n",
    "topic = 'from:jokowi'\n",
    "T = api.search_tweets(q=topic, lang='id', tweet_mode = 'extended')\n",
    "tweet = [t._json for t in T]\n",
    "isiTweet = [t['full_text'] for t in tweet]\n",
    "isiTweet"
   ]
  },
  {
   "cell_type": "code",
   "execution_count": null,
   "id": "12ace4e1",
   "metadata": {
    "slideshow": {
     "slide_type": "slide"
    }
   },
   "outputs": [],
   "source": [
    "# https://www.latlong.net/convert-address-to-lat-long.html\n",
    "\n",
    "alamat = \"jl. Ir. H. Juanda No 95 tangerang selatan ciputat\"\n",
    "lat = '-6.307870'\n",
    "lon = '106.755820'\n",
    "\n",
    "\"Done\""
   ]
  },
  {
   "cell_type": "code",
   "execution_count": null,
   "id": "52dd3506",
   "metadata": {
    "slideshow": {
     "slide_type": "slide"
    }
   },
   "outputs": [],
   "source": [
    "# Mari kita coba #3 gunakan google (map) untuk koordinat suatu lokasi\n",
    "# http://thoughtfaucet.com/search-twitter-by-location/\n",
    "# misal search tweet tentang \"makanan\" di Depok dan sekitarnya\n",
    "radius = '100km'\n",
    "Geo = ','.join([lat, lon, radius])\n",
    "qry = 'beli mobil'\n",
    "for tweet_ in tweepy.Cursor(api.search_tweets, q=qry, geocode=Geo).items(N):\n",
    "    print([tweet_.created_at, tweet_.text.encode('utf-8'), tweet_.user.id, tweet_.geo])"
   ]
  },
  {
   "cell_type": "code",
   "execution_count": null,
   "id": "b36b389d",
   "metadata": {
    "slideshow": {
     "slide_type": "slide"
    }
   },
   "outputs": [],
   "source": [
    "# Streaming tweets. Untuk percobaan pilih topicS sesuatu yg sedang trending/populer \"saat ini\".\n",
    "# Atau bisa coba dengan mengirim tweet sendiri :)\n",
    "from twython import TwythonStreamer\n",
    "\n",
    "def streamTwitter(topicS, lang):\n",
    "    class MyStreamer(TwythonStreamer):\n",
    "        def on_success(self, data):\n",
    "            global count\n",
    "            count+=1\n",
    "            print('tweet from {}, post: {}'.format(data['user']['screen_name'], data['text']))\n",
    "            if count==maxTweet:\n",
    "                print('\\nFinished streaming %.0f tweets' %(maxTweet)); self.disconnect()\n",
    "        def on_error(self, status_code, data):\n",
    "            print('Error Status = %s' %status_code); self.disconnect()\n",
    "\n",
    "    while count<maxTweet:\n",
    "        stream = MyStreamer(Ck, Cs, At, As)\n",
    "        stream.statuses.filter(track=topicS)"
   ]
  },
  {
   "cell_type": "code",
   "execution_count": null,
   "id": "0e1b234f",
   "metadata": {
    "scrolled": true,
    "slideshow": {
     "slide_type": "slide"
    }
   },
   "outputs": [],
   "source": [
    "maxTweet, count = 5, 0 # Rubah sesuai dengan kebutuhan, Untuk percobaan ini cukup (misal) 12 tweet\n",
    "lan = set(['en','id']) # bahasa bisa dipilih > 1\n",
    "topicS = ['taudata', 'ui'] # Bisa>1\n",
    "\n",
    "streamTwitter(topicS, lan)"
   ]
  },
  {
   "cell_type": "code",
   "execution_count": null,
   "id": "275ca5f5",
   "metadata": {
    "slideshow": {
     "slide_type": "slide"
    }
   },
   "outputs": [],
   "source": [
    "# preprocess \"D\": kumpulan tweet\n",
    "slangFixId = tau.loadCorpus(file = 'data/slang.txt', sep=':')\n",
    "stopId, _ = tau.LoadStopWords(lang='id')\n",
    "stopId.add(\"rt\")\n",
    "\n",
    "list(stopId)[:5]"
   ]
  },
  {
   "cell_type": "code",
   "execution_count": null,
   "id": "ee47cb8c",
   "metadata": {
    "slideshow": {
     "slide_type": "slide"
    }
   },
   "outputs": [],
   "source": [
    "from tqdm import tqdm \n",
    "\n",
    "cleanD = []\n",
    "for t in tqdm(D):\n",
    "    doc = tau.cleanText(t, fix=slangFixId, lan='id', stops = stopId)\n",
    "    cleanD.append(doc)\n",
    "    \n",
    "\"Done\""
   ]
  },
  {
   "cell_type": "code",
   "execution_count": null,
   "id": "ad1a1fc7",
   "metadata": {
    "slideshow": {
     "slide_type": "slide"
    }
   },
   "outputs": [],
   "source": [
    "print(D[0], end='\\n\\n')\n",
    "print(cleanD[0], end='\\n\\n')"
   ]
  },
  {
   "cell_type": "code",
   "execution_count": null,
   "id": "8a957b3c",
   "metadata": {
    "slideshow": {
     "slide_type": "slide"
    }
   },
   "outputs": [],
   "source": [
    "# Save ke txt ... lalu nanti akan di upload ke Voyant Tools\n",
    "filename = 'tweets_2021.txt'\n",
    "with open(filename, 'w') as f:\n",
    "    for T in cleanD:\n",
    "        f.write(T+'\\n')\n",
    "        \n",
    "\"Tweets Saved!\""
   ]
  },
  {
   "cell_type": "markdown",
   "id": "97ddb6ac",
   "metadata": {
    "slideshow": {
     "slide_type": "slide"
    }
   },
   "source": [
    "# <center><font color=\"blue\">HashTag Analysis</font></center>\n",
    "\n",
    "* Frequency-Based\n",
    "* Bisa ditambahkan analisa hashtags analysis ini dari waktu ke waktu"
   ]
  },
  {
   "cell_type": "code",
   "execution_count": null,
   "id": "980b0ce9",
   "metadata": {
    "slideshow": {
     "slide_type": "slide"
    }
   },
   "outputs": [],
   "source": [
    "import re\n",
    "\n",
    "HTfilters = set(['zz', 'architec', 'prize', 'stirli', 'architect', 'london', 'cpd', 'design', 'stirling', 'photogr', 'gemini', \n",
    "                 'mule', 'karaoke', 'playing', 'official', 'berita', 'follow', 'retweet', 'mufc', 'ntms', 'infolimit', 'eeaa', \n",
    "                 'eaa', 'cfc', 'caprico', 'breaking','news', 'libra', 'mereka', 'brankas', 'psikolog', 'aquarius', 'klc'])\n",
    "# modifikasi HTfilters sesuai data kamu\n",
    "HT = {'hashtags':[]}\n",
    "count = 0\n",
    "getHashTags = re.compile(r\"#(\\w+)\")\n",
    "for i, d in tqdm(enumerate(D)):\n",
    "    hashtags = re.findall(getHashTags, d)\n",
    "    if hashtags:\n",
    "        TG = []\n",
    "        for tag in hashtags:\n",
    "            dTag = str(tag).strip().lower()\n",
    "            if len(dTag)>2:\n",
    "                add = True\n",
    "                for f in HTfilters:\n",
    "                    if f in dTag:\n",
    "                        add=False; break\n",
    "                if add:\n",
    "                    TG.append('#'+dTag); count += 1\n",
    "            HT['hashtags'].append(TG)\n",
    "print('Found {} number of hashtags'.format(count))"
   ]
  },
  {
   "cell_type": "code",
   "execution_count": null,
   "id": "734d0b24",
   "metadata": {
    "slideshow": {
     "slide_type": "slide"
    }
   },
   "outputs": [],
   "source": [
    "import pandas as pd\n",
    "\n",
    "N = 50 # Number of top frequent hashtags to be plotted\n",
    "\n",
    "dtHT = [x for t in tqdm(HT['hashtags']) for x in t] # any(h not in x for h in HTfilters)\n",
    "dtHT = pd.Series(dtHT)\n",
    "dtHT = dtHT.value_counts()\n",
    "dtHT = dtHT.sort_index()\n",
    "dtHT = dtHT.sort_values(ascending = False) \n",
    "dtHT.to_csv('hashTags_2021.csv', encoding='utf8')\n",
    "dtHT = dtHT.iloc[:N]\n",
    "\n",
    "p = dtHT.plot(kind='barh', figsize=(12,8), legend = False)"
   ]
  },
  {
   "cell_type": "markdown",
   "id": "fc193ce1",
   "metadata": {},
   "source": [
    "# Web Scrapping?"
   ]
  },
  {
   "cell_type": "code",
   "execution_count": null,
   "id": "d898ecae",
   "metadata": {
    "scrolled": true
   },
   "outputs": [],
   "source": [
    "import urllib.request\n",
    "from bs4 import BeautifulSoup as bs\n",
    "\n",
    "URL = 'https://www.beritasatu.com/beritasatu-tv'\n",
    "Doc = urllib.request.urlopen(URL).read()\n",
    "Doc = bs(Doc,'lxml').text\n",
    "print(Doc)"
   ]
  },
  {
   "cell_type": "markdown",
   "id": "06f01a28",
   "metadata": {},
   "source": [
    "# Loading Local Documents\n",
    "\n",
    "1. Instalasi Java\n",
    " - JDK 8 ... ingat harus JDK 8\n",
    " - https://www.oracle.com/id/java/technologies/javase/javase-jdk8-downloads.html\n",
    " - Set Java Home Directory\n",
    "2. Instalasi Tika Server :\n",
    " - Download Tika App Executable Java Jar: https://archive.apache.org/dist/tika/tika-app-1.24.1.jar\n",
    " - Put in Python home directory\n",
    "3. Instalasi Module Python Tika\n",
    "4. Reading pdf Files (Python Code below)\n",
    "\n",
    "### Tika can read Pdf, DocX, PPTX, etc."
   ]
  },
  {
   "cell_type": "code",
   "execution_count": null,
   "id": "28d4b8ef",
   "metadata": {},
   "outputs": [],
   "source": [
    "from tika import parser#, unpack\n",
    "\n",
    "def readDocs(file):\n",
    "    if 'pdf' in file:\n",
    "        headers = {'X-Tika-PDFextractInlineImages': 'true',} \n",
    "        raw = parser.from_file(file, headers=headers)\n",
    "    else:\n",
    "        raw = parser.from_file(file)\n",
    "    if 'content' in raw.keys():\n",
    "        return raw['content']\n",
    "    else:\n",
    "        return None"
   ]
  },
  {
   "cell_type": "code",
   "execution_count": null,
   "id": "caea787e",
   "metadata": {
    "scrolled": false
   },
   "outputs": [],
   "source": [
    "try:\n",
    "    doc = readDocs('data/contoh.pdf')\n",
    "except:\n",
    "    !mkdir data\n",
    "    !wget -P data/ https://raw.githubusercontent.com/taudata-indonesia/eLearning/master/data/contoh.pdf\n",
    "    doc = readDocs('data/contoh.pdf')\n",
    "    \n",
    "print(doc)"
   ]
  },
  {
   "cell_type": "markdown",
   "id": "911c8da5",
   "metadata": {
    "slideshow": {
     "slide_type": "slide"
    }
   },
   "source": [
    "# <center><font color=\"blue\"> Akhir Modul \"Digital Data Gathering\"</font></center>\n",
    "\n",
    "<hr />\n"
   ]
  }
 ],
 "metadata": {
  "celltoolbar": "Slideshow",
  "kernelspec": {
   "display_name": "Python 3 (ipykernel)",
   "language": "python",
   "name": "python3"
  },
  "language_info": {
   "codemirror_mode": {
    "name": "ipython",
    "version": 3
   },
   "file_extension": ".py",
   "mimetype": "text/x-python",
   "name": "python",
   "nbconvert_exporter": "python",
   "pygments_lexer": "ipython3",
   "version": "3.9.12"
  },
  "latex_envs": {
   "LaTeX_envs_menu_present": true,
   "autoclose": false,
   "autocomplete": true,
   "bibliofile": "biblio.bib",
   "cite_by": "apalike",
   "current_citInitial": 1,
   "eqLabelWithNumbers": true,
   "eqNumInitial": 1,
   "hotkeys": {
    "equation": "Ctrl-E",
    "itemize": "Ctrl-I"
   },
   "labels_anchors": false,
   "latex_user_defs": false,
   "report_style_numbering": false,
   "user_envs_cfg": false
  }
 },
 "nbformat": 4,
 "nbformat_minor": 5
}
