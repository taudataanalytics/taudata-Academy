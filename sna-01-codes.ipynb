{
 "cells": [
  {
   "cell_type": "markdown",
   "metadata": {
    "slideshow": {
     "slide_type": "slide"
    }
   },
   "source": [
    "<center><h2><strong><font color=\"blue\">Social Network Analysis (SNA)</font></strong></h2></center>\n",
    "<center><h3><strong><font color=\"blue\"><a href=\"https://taudata.blogspot.com\">https://taudata.blogspot.com</a></font></strong></h3></center>\n",
    "\n",
    "<img alt=\"\" src=\"images/covers/taudata-cover.jpg\"/>\n",
    "\n",
    "<center><h2><strong><font color=\"blue\">SNA-01: Pendahuluan Analisa Jaringan Sosial</font></strong></h2></center>\n",
    "<center><h3><strong><font color=\"blue\"><a href=\"https://taudata.blogspot.com/2022/04/sna-01.html\">https://taudata.blogspot.com/2022/04/sna-01.html</a></font></strong></h3></center>\n",
    "<b><center><h3>(C) Taufik Sutanto</h3></center>"
   ]
  },
  {
   "cell_type": "markdown",
   "metadata": {
    "slideshow": {
     "slide_type": "slide"
    }
   },
   "source": [
    "# <font color=\"blue\">Outline:</font>\n",
    "\n",
    "* Basic Graph in NetworkX (Python)\n",
    " - Creating Graph (adding nodes & Edges, and weights)\n",
    " - Basic Visualization\n",
    " - Degree, shortest path, Spanning Tree\n",
    "* Social Network Analytics\n",
    " - Community Detection\n",
    " - Partition Analysis\n",
    " - Centrality Analysis\n",
    " - Advanced Visualization"
   ]
  },
  {
   "cell_type": "code",
   "execution_count": null,
   "metadata": {},
   "outputs": [],
   "source": [
    "import warnings; warnings.simplefilter('ignore')\n",
    "import nltk\n",
    "\n",
    "try:\n",
    "    import google.colab\n",
    "    IN_COLAB = True\n",
    "    !wget https://raw.githubusercontent.com/taudata-indonesia/eLearning/master/taudataEDA02CTA.py\n",
    "    !wget https://raw.githubusercontent.com/taudata-indonesia/eLearning/master/taudata_sna.py\n",
    "    !mkdir data\n",
    "    !wget -P data/ https://raw.githubusercontent.com/taudata-indonesia/eLearning/master/data/slang.dic\n",
    "    !wget -P data/ https://raw.githubusercontent.com/taudata-indonesia/eLearning/master/data/slang.txt\n",
    "    !wget -P data/ https://raw.githubusercontent.com/taudata-indonesia/eLearning/master/data/stopwords_id.txt\n",
    "    !wget -P data/ https://raw.githubusercontent.com/taudata-indonesia/eLearning/master/data/stopwords_en.txt\n",
    "    !wget -P data/ https://raw.githubusercontent.com/taudata-indonesia/eLearning/master/data/kata_dasar.txt\n",
    "    !wget -P data/ https://raw.githubusercontent.com/taudata-indonesia/eLearning/master/data/wn-ind-def.tab\n",
    "    !wget -P data/ https://raw.githubusercontent.com/taudata-indonesia/eLearning/master/data/wn-msa-all.tab\n",
    "    !wget -P data/ https://raw.githubusercontent.com/taudata-indonesia/eLearning/master/data/ind_SA.csv\n",
    "    !wget -P data/ https://raw.githubusercontent.com/taudata-indonesia/eLearning/master/data/all_indo_man_tag_corpus_model.crf.tagger\n",
    "\n",
    "    !pip install spacy python-crfsuite unidecode textblob sastrawi sklearn-pycrfsuite\n",
    "    !pip install unidecode twython beautifulsoup4 pyLDAvis json_lines\n",
    "    !pip install networkx scipy\n",
    "    !pip install --upgrade tweepy\n",
    "    !python -m spacy download xx_ent_wiki_sm\n",
    "    !python -m spacy download en_core_web_sm\n",
    "    nltk.download('popular')\n",
    "except:\n",
    "    IN_COLAB = False\n",
    "    print(\"Running the code locally, please make sure all the python module versions agree with colab environment and all data/assets downloaded\")"
   ]
  },
  {
   "cell_type": "code",
   "execution_count": null,
   "metadata": {
    "slideshow": {
     "slide_type": "slide"
    }
   },
   "outputs": [],
   "source": [
    "# import beberapa module yg dibutuhkan di WorkShop ini:\n",
    "import graphviz, taudata_sna as tau\n",
    "import time, numpy as np, matplotlib.pyplot as plt, pandas as pd, networkx as nx \n",
    "import pyLDAvis, pyLDAvis.sklearn; pyLDAvis.enable_notebook()\n",
    "from graphviz import Digraph"
   ]
  },
  {
   "cell_type": "code",
   "execution_count": null,
   "metadata": {
    "slideshow": {
     "slide_type": "slide"
    }
   },
   "outputs": [],
   "source": [
    "# Di NetworkX: inisialisasi graph kosong dilakukan seperti ini:\n",
    "G1 = nx.Graph() # Di kesempatan ini Graph tak Berarah ini yang akan lebih banyak kita gunakan\n",
    "G2 = nx.DiGraph()\n",
    "G3 = nx.MultiGraph()\n",
    "G4 = nx.MultiDiGraph()"
   ]
  },
  {
   "cell_type": "code",
   "execution_count": null,
   "metadata": {
    "slideshow": {
     "slide_type": "slide"
    }
   },
   "outputs": [],
   "source": [
    "G = nx.complete_graph(5)\n",
    "G"
   ]
  },
  {
   "cell_type": "code",
   "execution_count": null,
   "metadata": {
    "slideshow": {
     "slide_type": "slide"
    }
   },
   "outputs": [],
   "source": [
    "# Contoh\n",
    "pos = nx.spiral_layout(G)\n",
    "pos"
   ]
  },
  {
   "cell_type": "code",
   "execution_count": null,
   "metadata": {
    "slideshow": {
     "slide_type": "slide"
    }
   },
   "outputs": [],
   "source": [
    "# Menggambar\n",
    "nx.draw_networkx_nodes(G,pos) # ini sekedar menggambar noktah vertex\n",
    "nx.draw_networkx_labels(G,pos) # ini kemudian memberikan label di setiap vertex pada langkah sebelumnya\n",
    "nx.draw_networkx_edges(G,pos) # ini menggambar edge di graph G\n",
    "plt.show()"
   ]
  },
  {
   "cell_type": "code",
   "execution_count": null,
   "metadata": {
    "slideshow": {
     "slide_type": "slide"
    }
   },
   "outputs": [],
   "source": [
    "# Contoh lain\n",
    "G = nx.wheel_graph(7)\n",
    "pos = nx.spring_layout(G)\n",
    "nx.draw_networkx_nodes(G,pos) # ini sekedar menggambar noktah vertex\n",
    "nx.draw_networkx_labels(G,pos) # ini kemudian memberikan label di setiap vertex pada langkah sebelumnya\n",
    "nx.draw_networkx_edges(G,pos) # ini menggambar edge di graph G\n",
    "plt.show()"
   ]
  },
  {
   "cell_type": "code",
   "execution_count": null,
   "metadata": {
    "slideshow": {
     "slide_type": "slide"
    }
   },
   "outputs": [],
   "source": [
    "# Contoh lain lagi\n",
    "import networkx as nx, matplotlib.pyplot as plt\n",
    "\n",
    "g = nx.karate_club_graph()\n",
    "\n",
    "pos = nx.spring_layout(g) # Spring LayOut\n",
    "nx.draw_networkx_nodes(g,pos, alpha=0.2,node_color='blue',node_size=600) # Gambar Vertex\n",
    "nx.draw_networkx_edges(g,pos,width=2,alpha=0.1) # Gambar edges\n",
    "nx.draw_networkx_labels(g,pos) #Gambar Label Nodes\n",
    "plt.show() # Show the graph"
   ]
  },
  {
   "cell_type": "code",
   "execution_count": null,
   "metadata": {
    "slideshow": {
     "slide_type": "slide"
    }
   },
   "outputs": [],
   "source": [
    "for node in g.edges(data=True):\n",
    "    print(node)\n",
    "    break"
   ]
  },
  {
   "cell_type": "code",
   "execution_count": null,
   "metadata": {
    "slideshow": {
     "slide_type": "slide"
    }
   },
   "outputs": [],
   "source": [
    "for u,v in g.edges():\n",
    "    print(u,v, end=', ')"
   ]
  },
  {
   "cell_type": "markdown",
   "metadata": {
    "slideshow": {
     "slide_type": "slide"
    }
   },
   "source": [
    "## Untuk graphics Graph yang lebih baik lagi: **GraphViz**\n",
    "\n",
    "### Bisa untuk Analisa graph Kurikulum"
   ]
  },
  {
   "cell_type": "code",
   "execution_count": null,
   "metadata": {
    "slideshow": {
     "slide_type": "slide"
    }
   },
   "outputs": [],
   "source": [
    "\n",
    "f = Digraph('finite_state_machine', filename='fsm.gv')\n",
    "f.attr(rankdir='LR', size='8,5')\n",
    "\n",
    "f.attr('node', shape='doublecircle')\n",
    "f.node('LR_0')\n",
    "f.node('LR_3')\n",
    "f.node('LR_4')\n",
    "f.node('LR_8')\n",
    "\n",
    "f.attr('node', shape='circle')\n",
    "f.edge('LR_0', 'LR_2', label='SS(B)')\n",
    "f.edge('LR_0', 'LR_1', label='SS(S)')\n",
    "f.edge('LR_1', 'LR_3', label='S($end)')\n",
    "f.edge('LR_2', 'LR_6', label='SS(b)')\n",
    "f.edge('LR_2', 'LR_5', label='SS(a)')\n",
    "f.edge('LR_2', 'LR_4', label='S(A)')\n",
    "f.edge('LR_5', 'LR_7', label='S(b)')\n",
    "f.edge('LR_5', 'LR_5', label='S(a)')\n",
    "f.edge('LR_6', 'LR_6', label='S(b)')\n",
    "f.edge('LR_6', 'LR_5', label='S(a)')\n",
    "f.edge('LR_7', 'LR_8', label='S(b)')\n",
    "f.edge('LR_7', 'LR_5', label='S(a)')\n",
    "f.edge('LR_8', 'LR_6', label='S(b)')\n",
    "f.edge('LR_8', 'LR_5', label='S(a)')\n",
    "\n",
    "f.view()\n",
    "\n",
    "\n",
    "with open(\"fsm.gv\") as f:\n",
    "    dot_graph = f.read()\n",
    "graphviz.Source(dot_graph)\n"
   ]
  },
  {
   "cell_type": "markdown",
   "metadata": {
    "slideshow": {
     "slide_type": "slide"
    }
   },
   "source": [
    "## Membangun Graph\n",
    "\n",
    "## Menambahkan vertex, node, dan weights"
   ]
  },
  {
   "cell_type": "code",
   "execution_count": null,
   "metadata": {
    "slideshow": {
     "slide_type": "slide"
    }
   },
   "outputs": [],
   "source": [
    "G = nx.Graph() # Graph Kosong\n",
    "G"
   ]
  },
  {
   "cell_type": "code",
   "execution_count": null,
   "metadata": {
    "slideshow": {
     "slide_type": "slide"
    }
   },
   "outputs": [],
   "source": [
    "G.nodes(), G.edges()"
   ]
  },
  {
   "cell_type": "code",
   "execution_count": null,
   "metadata": {
    "colab": {
     "base_uri": "https://localhost:8080/",
     "height": 34
    },
    "colab_type": "code",
    "id": "YFLmEG121nZW",
    "outputId": "19af0ea5-5922-4381-978b-cb4938c09232",
    "slideshow": {
     "slide_type": "slide"
    }
   },
   "outputs": [],
   "source": [
    "# ini adalah cara sederhana menambahkan node ke graph satu persatu\n",
    "G.add_node(1)\n",
    "G.add_node(99)\n",
    "G.add_node(1) # \"Himpunan\"\n",
    "print(G.nodes())"
   ]
  },
  {
   "cell_type": "code",
   "execution_count": null,
   "metadata": {
    "colab": {
     "base_uri": "https://localhost:8080/",
     "height": 50
    },
    "colab_type": "code",
    "id": "w5-ZyHUc3vbj",
    "outputId": "c09745af-62cf-4913-c3b9-14de02bd989a",
    "slideshow": {
     "slide_type": "slide"
    }
   },
   "outputs": [],
   "source": [
    "# ini cara menambahkan array of vertices ke Graph kita\n",
    "V = [1,2,5,6,8,33,65,88] # vertices\n",
    "\n",
    "for vertex in V:\n",
    "    G.add_node(vertex)\n",
    "print( G.nodes() )\n",
    "print( G.edges() )"
   ]
  },
  {
   "cell_type": "code",
   "execution_count": null,
   "metadata": {
    "colab": {
     "base_uri": "https://localhost:8080/",
     "height": 50
    },
    "colab_type": "code",
    "id": "1YhqeNMh6ER7",
    "outputId": "65f3b5a5-d4af-475c-e6ea-87fd6a1dcc80",
    "slideshow": {
     "slide_type": "slide"
    }
   },
   "outputs": [],
   "source": [
    "# ini cara menambahkan Edge secara manual satu per satu\n",
    "G.add_edge(5, 8)\n",
    "G.add_edge(8, 65)\n",
    "print( G.nodes() )\n",
    "print( G.edges() )"
   ]
  },
  {
   "cell_type": "code",
   "execution_count": null,
   "metadata": {
    "colab": {
     "base_uri": "https://localhost:8080/",
     "height": 50
    },
    "colab_type": "code",
    "id": "j78_HUXK6SaA",
    "outputId": "0fe460e3-d193-4ef1-ea78-1953cd42d8d2",
    "slideshow": {
     "slide_type": "slide"
    }
   },
   "outputs": [],
   "source": [
    "# Kita bisa menambahkan edge walaupun di Graph kita belum ada vertexnya, vertex tersebut akan automatis ditambahkan ke graphnya\n",
    "# ini cara menambahkan Edge secara manual satu per satu\n",
    "# misal di contoh ini vertex 77 dan vertex \"A\" tidak ada sebelumnya di Graph G\n",
    "G.add_edge(77, 8)\n",
    "G.add_edge('Depok', 88)\n",
    "print( G.nodes() )\n",
    "print( G.edges() )"
   ]
  },
  {
   "cell_type": "code",
   "execution_count": null,
   "metadata": {
    "colab": {
     "base_uri": "https://localhost:8080/",
     "height": 185
    },
    "colab_type": "code",
    "id": "Kl6zEGP54HgJ",
    "outputId": "40af6693-89ec-41a8-9352-e474b35fd1d4",
    "slideshow": {
     "slide_type": "slide"
    }
   },
   "outputs": [],
   "source": [
    "# ini memahami bagaimana looping atas Array dari pasangan terurut dilakukan di python\n",
    "E = [(1,33), (1,88), (6,88), (2,5), (2,8)]\n",
    "\n",
    "for sisi in E:\n",
    "    G.add_edge(sisi[0], sisi[1])\n",
    "    \n",
    "print( G.nodes() )\n",
    "print( G.edges() )"
   ]
  },
  {
   "cell_type": "code",
   "execution_count": null,
   "metadata": {
    "slideshow": {
     "slide_type": "slide"
    }
   },
   "outputs": [],
   "source": [
    "plt.subplots(figsize=(12,8))\n",
    "pos = nx.spring_layout(G)"
   ]
  },
  {
   "cell_type": "code",
   "execution_count": null,
   "metadata": {},
   "outputs": [],
   "source": [
    "nx.draw_networkx_nodes(G,pos) # ini sekedar menggambar noktah vertex\n",
    "nx.draw_networkx_labels(G,pos) # ini kemudian memberikan label di setiap vertex pada langkah sebelumnya\n",
    "nx.draw_networkx_edges(G,pos) # ini menggambar edge di graph G\n",
    "plt.show()"
   ]
  },
  {
   "cell_type": "code",
   "execution_count": null,
   "metadata": {
    "slideshow": {
     "slide_type": "slide"
    }
   },
   "outputs": [],
   "source": [
    "# Cara lain\n",
    "\n",
    "G = nx.Graph() # Graph Kosong Baru\n",
    "V = [1, 2, 7, 9, 12, 19] # Bisa juga string, misal \"A\" atau nama \"Budi\"\n",
    "E = [(1,2), (2,19), (9,2), (9,1), (2,8), (8,10), (12,7),(7,2), (7,9)] # Perhatikan \"8\" dan \"10\" TIDAK ADA di V\n",
    "\n",
    "G.add_nodes_from(V)\n",
    "G.add_edges_from(E)\n",
    "\n",
    "print('Banyak vertex = ', G.number_of_nodes())\n",
    "print('Banyak Edges = ', G.number_of_edges())"
   ]
  },
  {
   "cell_type": "code",
   "execution_count": null,
   "metadata": {
    "slideshow": {
     "slide_type": "slide"
    }
   },
   "outputs": [],
   "source": [
    "pos = nx.spring_layout(G)\n",
    "nx.draw_networkx_nodes(G,pos, alpha=0.9,node_color='green',node_size=800) # ini sekedar menggambar noktah vertex\n",
    "nx.draw_networkx_labels(G,pos) # ini kemudian memberikan label di setiap vertex pada langkah sebelumnya\n",
    "nx.draw_networkx_edges(G,pos) # ini menggambar edge di graph G\n",
    "plt.show()"
   ]
  },
  {
   "cell_type": "markdown",
   "metadata": {
    "slideshow": {
     "slide_type": "slide"
    }
   },
   "source": [
    "# Manipulasi graph: Menghapus Node atau sub-graph"
   ]
  },
  {
   "cell_type": "code",
   "execution_count": null,
   "metadata": {
    "slideshow": {
     "slide_type": "slide"
    }
   },
   "outputs": [],
   "source": [
    "v = [7, 12, 19]\n",
    "G.remove_nodes_from(v)"
   ]
  },
  {
   "cell_type": "code",
   "execution_count": null,
   "metadata": {
    "slideshow": {
     "slide_type": "slide"
    }
   },
   "outputs": [],
   "source": [
    "pos = nx.spring_layout(G)\n",
    "nx.draw_networkx_nodes(G,pos, alpha=0.8,node_color='green',node_size=800) # ini sekedar menggambar noktah vertex\n",
    "nx.draw_networkx_labels(G,pos) # ini kemudian memberikan label di setiap vertex pada langkah sebelumnya\n",
    "nx.draw_networkx_edges(G,pos) # ini menggambar edge di graph G\n",
    "plt.show()"
   ]
  },
  {
   "cell_type": "markdown",
   "metadata": {
    "slideshow": {
     "slide_type": "slide"
    }
   },
   "source": [
    "## Remove Edges"
   ]
  },
  {
   "cell_type": "code",
   "execution_count": null,
   "metadata": {
    "slideshow": {
     "slide_type": "slide"
    }
   },
   "outputs": [],
   "source": [
    "E = [(1,9)]\n",
    "G.remove_edges_from(E)"
   ]
  },
  {
   "cell_type": "code",
   "execution_count": null,
   "metadata": {
    "slideshow": {
     "slide_type": "slide"
    }
   },
   "outputs": [],
   "source": [
    "pos = nx.spring_layout(G)\n",
    "nx.draw_networkx_nodes(G,pos, alpha=0.8,node_color='green',node_size=800) # ini sekedar menggambar noktah vertex\n",
    "nx.draw_networkx_labels(G,pos) # ini kemudian memberikan label di setiap vertex pada langkah sebelumnya\n",
    "nx.draw_networkx_edges(G,pos, edge_color='blue') # ini menggambar edge di graph G\n",
    "plt.show()"
   ]
  },
  {
   "cell_type": "markdown",
   "metadata": {
    "slideshow": {
     "slide_type": "slide"
    }
   },
   "source": [
    "## Adding Graph weights/properties"
   ]
  },
  {
   "cell_type": "code",
   "execution_count": null,
   "metadata": {
    "slideshow": {
     "slide_type": "slide"
    }
   },
   "outputs": [],
   "source": [
    "V = ['Depok', 'Jakarta', 'Bogor', 'Bekasi', 'Tangerang']\n",
    "Vluas = [12.3, 44.5, 1.2, 0.6, 23]  # contoh parameter \"luas\"\n",
    "\n",
    "E = [('Depok', 'Bogor'), ('Jakarta', 'Bekasi'), ('Bekasi', 'Bogor'),\n",
    "     ('Depok', 'Bekasi'), ('Tangerang', 'Bekasi')]  # ini adalah edgenya\n",
    "# ini \"contoh\" nanti jadi parameter ke-2 dari setiap Edge di E\n",
    "Ejrk = [22.4, 1.2, 5.6, 7.8, 9]\n",
    "\n",
    "G = nx.Graph()  # graph sebelumnya tertimpa dan jadi Graph kosong kembali\n",
    "# Kemudian kita akan tambahkan vertex, edge, beserta setiap parameter yg didefinisikan di atas ke graph G\n",
    "for vertex, area in zip(V, Vluas):\n",
    "    # nama variable parameter di setiap vertexnya di contoh ini adalah \"waktu\" dan \"orang\"\n",
    "    G.add_node(vertex, luas=area)\n",
    "\n",
    "for sisi, dist in zip(E, Ejrk):\n",
    "    G.add_edge(sisi[0], sisi[1], jarak=dist)\n",
    "\n",
    "print(G.nodes())\n",
    "print(G.edges())\n",
    "print('Luas Depok = ', G.nodes['Depok']['luas'])"
   ]
  },
  {
   "cell_type": "code",
   "execution_count": null,
   "metadata": {
    "slideshow": {
     "slide_type": "slide"
    }
   },
   "outputs": [],
   "source": [
    "plt.subplots(figsize=(12,8))\n",
    "\n",
    "\n",
    "pos = nx.spring_layout(G)\n",
    "nx.draw_networkx_nodes(G,pos,node_size=3000) # ini sekedar menggambar noktah vertex\n",
    "nx.draw_networkx_labels(G,pos) # ini kemudian memberikan label di setiap vertex pada langkah sebelumnya\n",
    "nx.draw_networkx_edges(G,pos) # ini menggambar edge di graph G\n",
    "nx.draw_networkx_edge_labels(G,pos,edge_labels=nx.get_edge_attributes(G,'jarak')) # ini label dari edgenya\n",
    "plt.show()"
   ]
  },
  {
   "cell_type": "code",
   "execution_count": null,
   "metadata": {
    "slideshow": {
     "slide_type": "slide"
    }
   },
   "outputs": [],
   "source": [
    "d = nx.degree(G)\n",
    "d"
   ]
  },
  {
   "cell_type": "code",
   "execution_count": null,
   "metadata": {
    "slideshow": {
     "slide_type": "slide"
    }
   },
   "outputs": [],
   "source": [
    "[d[node] for node in G.nodes()]"
   ]
  },
  {
   "cell_type": "markdown",
   "metadata": {
    "slideshow": {
     "slide_type": "slide"
    }
   },
   "source": [
    "## Menggunakan degree untuk membuat gambar graph yang lebih baik"
   ]
  },
  {
   "cell_type": "code",
   "execution_count": null,
   "metadata": {
    "slideshow": {
     "slide_type": "slide"
    }
   },
   "outputs": [],
   "source": [
    "plt.subplots(figsize=(12,8))\n",
    "\n",
    "pos = nx.spring_layout(G) # Spring LayOut\n",
    "\n",
    "D = [d[node]*1000 for node in G.nodes()]\n",
    "nx.draw_networkx_nodes(G,pos,node_size=D) # Gambar Vertex\n",
    "nx.draw_networkx_edges(G,pos,width=2,alpha=0.15) # Gambar edges\n",
    "nx.draw_networkx_labels(G,pos) #Gambar Label Nodes\n",
    "plt.show() # Show the graph"
   ]
  },
  {
   "cell_type": "markdown",
   "metadata": {
    "slideshow": {
     "slide_type": "slide"
    }
   },
   "source": [
    "## Menambahkan informasi warna"
   ]
  },
  {
   "cell_type": "code",
   "execution_count": null,
   "metadata": {
    "slideshow": {
     "slide_type": "slide"
    }
   },
   "outputs": [],
   "source": [
    "plt.subplots(figsize=(12,8))\n",
    "\n",
    "warna = D\n",
    "pos = nx.spring_layout(G) # Spring LayOut\n",
    "nx.draw_networkx_nodes(G,pos, node_color=warna,node_size=D, alpha=0.5) # Gambar Vertex\n",
    "nx.draw_networkx_edges(G,pos,width=2,alpha=0.1) # Gambar edges\n",
    "nx.draw_networkx_labels(G,pos) #Gambar Label Nodes\n",
    "plt.show() # Show the graph"
   ]
  },
  {
   "cell_type": "code",
   "execution_count": null,
   "metadata": {
    "slideshow": {
     "slide_type": "slide"
    }
   },
   "outputs": [],
   "source": [
    "SP = nx.shortest_path(G, source='Jakarta', target='Bogor')\n",
    "SP"
   ]
  },
  {
   "cell_type": "code",
   "execution_count": null,
   "metadata": {
    "slideshow": {
     "slide_type": "slide"
    }
   },
   "outputs": [],
   "source": [
    "H = G.subgraph(SP)\n",
    "\n",
    "pos = nx.spring_layout(H) # Spring LayOut\n",
    "nx.draw_networkx_nodes(H,pos,alpha=0.5) # Gambar Vertex\n",
    "nx.draw_networkx_edges(H,pos,width=2,alpha=0.1) # Gambar edges\n",
    "nx.draw_networkx_labels(H,pos) #Gambar Label Nodes\n",
    "plt.show() # Show the graph"
   ]
  },
  {
   "cell_type": "code",
   "execution_count": null,
   "metadata": {
    "slideshow": {
     "slide_type": "slide"
    }
   },
   "outputs": [],
   "source": [
    "# import data\n",
    "import taudataEDA02CTA as tau2\n",
    "import graphviz, taudata_sna as tau\n",
    "import json, urllib.request, requests, tweepy\n",
    "from urllib.request import Request, urlopen\n",
    "from tqdm import tqdm\n",
    "\n",
    "# Contoh API Keys (Sesuaikan dengan API keys masing-masing)\n",
    "Ck = 'NKrHwVyBVDMAKVOv' # consumer_key\n",
    "Cs = '8dDb7WJfRL4QEvp' # consumer_secret\n",
    "At = '2214118411-lyB05GqtHtN5q0HaHWxU' # access_token\n",
    "As = 'SzSYbjTKSqkG1E70v2DIJbQ6byifcF' # access_secret\n",
    "\n",
    "'Done'"
   ]
  },
  {
   "cell_type": "code",
   "execution_count": null,
   "metadata": {
    "slideshow": {
     "slide_type": "slide"
    }
   },
   "outputs": [],
   "source": [
    "# Pengambilan Data dan-atau Loading Data \n",
    "qry = \"data Indonesia\" # Ganti dengan sembarang query lain\n",
    "tweetFile = 'tweet_{}_EDA02CTA.json'.format(qry) # RUBAH Path ini\n",
    "try:\n",
    "    data = tau2.loadTweets(file=tweetFile)\n",
    "    print(\"Local Data loaded, processing {} tweets.\".format(len(data)))\n",
    "except Exception as Err_:\n",
    "    print(\"Local data not available, importing data directly from twitter ... \")\n",
    "    api = tau2.connect(key=(Ck, Cs, At, As))\n",
    "    data = tau2.crawlTwitter(api, qry, N=1000)\n",
    "    tau2.saveTweets(data, file=tweetFile) # Save untuk lain waktu\n",
    "    \n",
    "tweets = [t['full_text'] for t in data] # Hanya mengambil tweeet saja .\n",
    "Usernames = [t['user']['screen_name'] for t in data] # Hanya mengambil username saja .\n",
    "Usernames[:5] "
   ]
  },
  {
   "cell_type": "code",
   "execution_count": null,
   "metadata": {
    "slideshow": {
     "slide_type": "slide"
    }
   },
   "outputs": [],
   "source": [
    "# Draw the Tweet Graph\n",
    "plt.subplots(figsize=(12,8))\n",
    "\n",
    "G = tau.Graph([Usernames,tweets], Label = False, layOut='circular', plain=True) # layOut = spring, circular, random, shells, spectral"
   ]
  },
  {
   "cell_type": "code",
   "execution_count": null,
   "metadata": {
    "slideshow": {
     "slide_type": "slide"
    }
   },
   "outputs": [],
   "source": [
    "# Let's now examine, who are the most \"important\" users in this Graph?\n",
    "Gt = tau.Centrality(G, N=10, method='degree', outliers=False, Label = True, layOut='spring')"
   ]
  },
  {
   "cell_type": "code",
   "execution_count": null,
   "metadata": {
    "slideshow": {
     "slide_type": "slide"
    }
   },
   "outputs": [],
   "source": [
    "tau.drawGraph(Gt, True, layOut='circular')"
   ]
  },
  {
   "cell_type": "code",
   "execution_count": null,
   "metadata": {
    "slideshow": {
     "slide_type": "slide"
    }
   },
   "outputs": [],
   "source": [
    "Gt = tau.Centrality(G, N=10, method='closeness', outliers=False, Label = True, layOut='spring')"
   ]
  },
  {
   "cell_type": "code",
   "execution_count": null,
   "metadata": {
    "slideshow": {
     "slide_type": "slide"
    }
   },
   "outputs": [],
   "source": [
    "tau.drawGraph(Gt, True, layOut='circular')"
   ]
  },
  {
   "cell_type": "code",
   "execution_count": null,
   "metadata": {
    "slideshow": {
     "slide_type": "slide"
    }
   },
   "outputs": [],
   "source": [
    "Gt = tau.Centrality(G, N=10, method='betweeness', outliers=False, Label = True, layOut='spring')"
   ]
  },
  {
   "cell_type": "code",
   "execution_count": null,
   "metadata": {
    "slideshow": {
     "slide_type": "slide"
    }
   },
   "outputs": [],
   "source": [
    "tau.drawGraph(Gt, True, layOut='circular')"
   ]
  },
  {
   "cell_type": "code",
   "execution_count": null,
   "metadata": {
    "slideshow": {
     "slide_type": "slide"
    }
   },
   "outputs": [],
   "source": [
    "Gt = tau.Centrality(G, N=10, method='eigen', outliers=False, Label = True, layOut='spring')"
   ]
  },
  {
   "cell_type": "code",
   "execution_count": null,
   "metadata": {
    "slideshow": {
     "slide_type": "slide"
    }
   },
   "outputs": [],
   "source": [
    "tau.drawGraph(Gt, True, layOut='circular')"
   ]
  },
  {
   "cell_type": "markdown",
   "metadata": {
    "slideshow": {
     "slide_type": "slide"
    }
   },
   "source": [
    "# Centrality dapat digunakan untuk membuat visualisasi graph yang lebih baik"
   ]
  },
  {
   "cell_type": "code",
   "execution_count": null,
   "metadata": {
    "slideshow": {
     "slide_type": "slide"
    }
   },
   "outputs": [],
   "source": [
    "plt.subplots(figsize=(12,8))\n",
    "\n",
    "g = nx.karate_club_graph()\n",
    "\n",
    "pos = nx.spring_layout(g) # Spring LayOut\n",
    "nx.draw_networkx_nodes(g,pos, alpha=0.2,node_color='blue',node_size=600) # Gambar Vertex\n",
    "nx.draw_networkx_edges(g,pos,width=2,alpha=0.1) # Gambar edges\n",
    "nx.draw_networkx_labels(g,pos) #Gambar Label Nodes\n",
    "plt.show() # Show the graph"
   ]
  },
  {
   "cell_type": "code",
   "execution_count": null,
   "metadata": {
    "slideshow": {
     "slide_type": "slide"
    }
   },
   "outputs": [],
   "source": [
    "# Menggunakan Centrality measure (misal degree) untuk merubah ukuran node\n",
    "plt.subplots(figsize=(12,8))\n",
    "\n",
    "\n",
    "K = 100 # Scale factor\n",
    "d = nx.degree(g) \n",
    "d = [d[node]*K for node in g.nodes()]\n",
    "\n",
    "pos = nx.spring_layout(g) # Spring LayOut\n",
    "nx.draw_networkx_nodes(g,pos,node_size=d) # Gambar Vertex\n",
    "nx.draw_networkx_edges(g,pos,width=2,alpha=0.15) # Gambar edges\n",
    "nx.draw_networkx_labels(g,pos) #Gambar Label Nodes\n",
    "plt.show() # Show the graph"
   ]
  },
  {
   "cell_type": "code",
   "execution_count": null,
   "metadata": {
    "slideshow": {
     "slide_type": "slide"
    }
   },
   "outputs": [],
   "source": [
    "print(d)"
   ]
  },
  {
   "cell_type": "code",
   "execution_count": null,
   "metadata": {
    "slideshow": {
     "slide_type": "slide"
    }
   },
   "outputs": [],
   "source": [
    "# Menggunakan tingkat \"kepentingan\" sebagai warna\n",
    "ranking = nx.degree_centrality(g)\n",
    "warna = list(ranking.values())\n",
    "print(warna)"
   ]
  },
  {
   "cell_type": "code",
   "execution_count": null,
   "metadata": {
    "slideshow": {
     "slide_type": "slide"
    }
   },
   "outputs": [],
   "source": [
    "plt.subplots(figsize=(12,8))\n",
    "\n",
    "pos = nx.spring_layout(g) # Spring LayOut\n",
    "nx.draw_networkx_nodes(g,pos, node_color=warna,node_size=d) # Gambar Vertex\n",
    "nx.draw_networkx_edges(g,pos,width=2,alpha=0.1) # Gambar edges\n",
    "nx.draw_networkx_labels(g,pos) #Gambar Label Nodes\n",
    "plt.show() # Show the graph"
   ]
  },
  {
   "cell_type": "code",
   "execution_count": null,
   "metadata": {
    "slideshow": {
     "slide_type": "slide"
    }
   },
   "outputs": [],
   "source": [
    "B = nx.algorithms.community.kernighan_lin_bisection(g)\n",
    "B"
   ]
  },
  {
   "cell_type": "code",
   "execution_count": null,
   "metadata": {
    "slideshow": {
     "slide_type": "slide"
    }
   },
   "outputs": [],
   "source": [
    "warna = []\n",
    "for v in B[0]:\n",
    "    warna.append(1)\n",
    "for v in B[1]:\n",
    "    warna.append(2)"
   ]
  },
  {
   "cell_type": "code",
   "execution_count": null,
   "metadata": {
    "slideshow": {
     "slide_type": "slide"
    }
   },
   "outputs": [],
   "source": [
    "pos = nx.shell_layout(g, B)\n",
    "nx.draw_networkx_nodes(g,pos, node_color=warna,node_size=d) # Gambar Vertex\n",
    "nx.draw_networkx_edges(g,pos,width=2,alpha=0.1) # Gambar edges\n",
    "nx.draw_networkx_labels(g,pos) #Gambar Label Nodes\n",
    "plt.show() # Show the graph"
   ]
  },
  {
   "cell_type": "code",
   "execution_count": null,
   "metadata": {
    "slideshow": {
     "slide_type": "slide"
    }
   },
   "outputs": [],
   "source": [
    "# WARNING!!!... Hanya bisa jika networkX versi 2.2 ke atas \n",
    "M = nx.algorithms.community.greedy_modularity_communities(g)\n",
    "print(M)"
   ]
  },
  {
   "cell_type": "code",
   "execution_count": null,
   "metadata": {
    "slideshow": {
     "slide_type": "slide"
    }
   },
   "outputs": [],
   "source": [
    "W = []\n",
    "warna = 1\n",
    "for module in M:\n",
    "    for node in module:\n",
    "        W.append(warna)\n",
    "    warna = warna +1\n",
    "print(W)\n",
    "\n",
    "K = 100 # Scale factor\n",
    "d = nx.degree(g) \n",
    "d = [d[node]*K for node in g.nodes()]"
   ]
  },
  {
   "cell_type": "code",
   "execution_count": null,
   "metadata": {
    "slideshow": {
     "slide_type": "slide"
    }
   },
   "outputs": [],
   "source": [
    "plt.subplots(figsize=(12,8))\n",
    "\n",
    "\n",
    "pos = nx.shell_layout(g, M)\n",
    "nx.draw_networkx_nodes(g,pos, node_color=W,node_size=d) # Gambar Vertex\n",
    "nx.draw_networkx_edges(g,pos,width=2,alpha=0.1) # Gambar edges\n",
    "nx.draw_networkx_labels(g,pos) #Gambar Label Nodes\n",
    "plt.show() # Show the graph"
   ]
  },
  {
   "cell_type": "code",
   "execution_count": null,
   "metadata": {
    "slideshow": {
     "slide_type": "slide"
    }
   },
   "outputs": [],
   "source": [
    "# Clustering pada Graph = Community Detection\n",
    "Gt = nx.algorithms.community.greedy_modularity_communities(G)\n",
    "for community in Gt:\n",
    "    print(community)"
   ]
  },
  {
   "cell_type": "markdown",
   "metadata": {
    "slideshow": {
     "slide_type": "slide"
    }
   },
   "source": [
    "# <center><font color=\"blue\"> End of Module.\n",
    "\n",
    "<hr />\n"
   ]
  }
 ],
 "metadata": {
  "celltoolbar": "Slideshow",
  "kernelspec": {
   "display_name": "Python 3 (ipykernel)",
   "language": "python",
   "name": "python3"
  },
  "language_info": {
   "codemirror_mode": {
    "name": "ipython",
    "version": 3
   },
   "file_extension": ".py",
   "mimetype": "text/x-python",
   "name": "python",
   "nbconvert_exporter": "python",
   "pygments_lexer": "ipython3",
   "version": "3.9.12"
  },
  "latex_envs": {
   "LaTeX_envs_menu_present": true,
   "autoclose": false,
   "autocomplete": true,
   "bibliofile": "biblio.bib",
   "cite_by": "apalike",
   "current_citInitial": 1,
   "eqLabelWithNumbers": true,
   "eqNumInitial": 1,
   "hotkeys": {
    "equation": "Ctrl-E",
    "itemize": "Ctrl-I"
   },
   "labels_anchors": false,
   "latex_user_defs": false,
   "report_style_numbering": false,
   "user_envs_cfg": false
  }
 },
 "nbformat": 4,
 "nbformat_minor": 2
}
