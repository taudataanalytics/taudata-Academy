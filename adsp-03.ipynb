{
 "cells": [
  {
   "cell_type": "markdown",
   "metadata": {
    "slideshow": {
     "slide_type": "slide"
    }
   },
   "source": [
    "<center><img alt=\"\" src=\"images/tau-data_banner.png\"/></center>\n",
    "<center><h3>https://tau-data.id</h3></center>\n",
    "<center><strong><h1>ADSP-03: Struktur Data Python Bagian ke-02</h1></strong><br />\n",
    "<img alt=\"\" src=\"images/PDS_logo.jpg\" />\n",
    "<center>\n",
    "<h2>(C)Taufik Sutanto</h2>\n",
    "<h2>https://tau-data.id/adsp-03</h2>\n",
    "</center>"
   ]
  },
  {
   "cell_type": "markdown",
   "metadata": {
    "slideshow": {
     "slide_type": "slide"
    }
   },
   "source": [
    "<h1 id=\"Outline-Unit-V:\"><font color=\"blue\">Outline:</font></h1>\n",
    "\n",
    "* Numpy Array (Matrix)\n",
    "* Numpy MemMap\n",
    "* SciPy Sparse Matrix\n",
    "* Dataframe"
   ]
  },
  {
   "cell_type": "markdown",
   "metadata": {
    "slideshow": {
     "slide_type": "slide"
    }
   },
   "source": [
    "# Numpy Matrix Discontinued\n",
    "\n",
    "## https://numpy.org/doc/stable/reference/generated/numpy.matrix.html"
   ]
  },
  {
   "cell_type": "code",
   "execution_count": 1,
   "metadata": {
    "slideshow": {
     "slide_type": "slide"
    }
   },
   "outputs": [
    {
     "name": "stdout",
     "output_type": "stream",
     "text": [
      "[2.  2.8 1.9 2.5 2.7 2.3 1.8 1.2 0.9 1. ]\n"
     ]
    }
   ],
   "source": [
    "import numpy as np\n",
    "\n",
    "s = [2.0, 2.8, 1.9, 2.5, 2.7, 2.3, 1.8, 1.2, 0.9, 1.0]\n",
    "C = np.array(s)\n",
    "print(C)"
   ]
  },
  {
   "cell_type": "code",
   "execution_count": 80,
   "metadata": {
    "scrolled": true
   },
   "outputs": [
    {
     "name": "stdout",
     "output_type": "stream",
     "text": [
      "[2, 3, 4, 4, 3, 6, 23, 6, 4, 7, 9, 9, 9, 9, 9, 9, 9, 9, 9, 9, 9, 9, 9, 9, 9, 9, 9, 9, 9, 9, 9, 9, 9, 2, 3, 4, 4, 3, 6, 23, 6, 4, 7, 9, 9, 9, 9, 9, 9, 9, 9, 9, 9, 9, 9, 9, 9, 9, 9, 9, 9, 9, 9, 9, 9, 9, 2, 3, 4, 4, 3, 6, 23, 6, 4, 7, 9, 9, 9, 9, 9, 9, 9, 9, 9, 9, 9, 9, 9, 9, 9, 9, 9, 9, 9, 9, 9, 9, 9, 2, 3, 4, 4, 3, 6, 23, 6, 4, 7, 9, 9, 9, 9, 9, 9, 9, 9, 9, 9, 9, 9, 9, 9, 9, 9, 9, 9, 9, 9, 9, 9, 9, 2, 3, 4, 4, 3, 6, 23, 6, 4, 7, 9, 9, 9, 9, 9, 9, 9, 9, 9, 9, 9, 9, 9, 9, 9, 9, 9, 9, 9, 9, 9, 9, 9, 2, 3, 4, 4, 3, 6, 23, 6, 4, 7, 9, 9, 9, 9, 9, 9, 9, 9, 9, 9, 9, 9, 9, 9, 9, 9, 9, 9, 9, 9, 9, 9, 9, 2, 3, 4, 4, 3, 6, 23, 6, 4, 7, 9, 9, 9, 9, 9, 9, 9, 9, 9, 9, 9, 9, 9, 9, 9, 9, 9, 9, 9, 9, 9, 9, 9, 2, 3, 4, 4, 3, 6, 23, 6, 4, 7, 9, 9, 9, 9, 9, 9, 9, 9, 9, 9, 9, 9, 9, 9, 9, 9, 9, 9, 9, 9, 9, 9, 9, 2, 3, 4, 4, 3, 6, 23, 6, 4, 7, 9, 9, 9, 9, 9, 9, 9, 9, 9, 9, 9, 9, 9, 9, 9, 9, 9, 9, 9, 9, 9, 9, 9, 2, 3, 4, 4, 3, 6, 23, 6, 4, 7, 9, 9, 9, 9, 9, 9, 9, 9, 9, 9, 9, 9, 9, 9, 9, 9, 9, 9, 9, 9, 9, 9, 9, 2, 3, 4, 4, 3, 6, 23, 6, 4, 7, 9, 9, 9, 9, 9, 9, 9, 9, 9, 9, 9, 9, 9, 9, 9, 9, 9, 9, 9, 9, 9, 9, 9, 2, 3, 4, 4, 3, 6, 23, 6, 4, 7, 9, 9, 9, 9, 9, 9, 9, 9, 9, 9, 9, 9, 9, 9, 9, 9, 9, 9, 9, 9, 9, 9, 9, 2, 3, 4, 4, 3, 6, 23, 6, 4, 7, 9, 9, 9, 9, 9, 9, 9, 9, 9, 9, 9, 9, 9, 9, 9, 9, 9, 9, 9, 9, 9, 9, 9, 2, 3, 4, 4, 3, 6, 23, 6, 4, 7, 9, 9, 9, 9, 9, 9, 9, 9, 9, 9, 9, 9, 9, 9, 9, 9, 9, 9, 9, 9, 9, 9, 9, 2, 3, 4, 4, 3, 6, 23, 6, 4, 7, 9, 9, 9, 9, 9, 9, 9, 9, 9, 9, 9, 9, 9, 9, 9, 9, 9, 9, 9, 9, 9, 9, 9, 2, 3, 4, 4, 3, 6, 23, 6, 4, 7, 9, 9, 9, 9, 9, 9, 9, 9, 9, 9, 9, 9, 9, 9, 9, 9, 9, 9, 9, 9, 9, 9, 9, 2, 3, 4, 4, 3, 6, 23, 6, 4, 7, 9, 9, 9, 9, 9, 9, 9, 9, 9, 9, 9, 9, 9, 9, 9, 9, 9, 9, 9, 9, 9, 9, 9, 2, 3, 4, 4, 3, 6, 23, 6, 4, 7, 9, 9, 9, 9, 9, 9, 9, 9, 9, 9, 9, 9, 9, 9, 9, 9, 9, 9, 9, 9, 9, 9, 9, 2, 3, 4, 4, 3, 6, 23, 6, 4, 7, 9, 9, 9, 9, 9, 9, 9, 9, 9, 9, 9, 9, 9, 9, 9, 9, 9, 9, 9, 9, 9, 9, 9, 2, 3, 4, 4, 3, 6, 23, 6, 4, 7, 9, 9, 9, 9, 9, 9, 9, 9, 9, 9, 9, 9, 9, 9, 9, 9, 9, 9, 9, 9, 9, 9, 9, 2, 3, 4, 4, 3, 6, 23, 6, 4, 7, 9, 9, 9, 9, 9, 9, 9, 9, 9, 9, 9, 9, 9, 9, 9, 9, 9, 9, 9, 9, 9, 9, 9, 2, 3, 4, 4, 3, 6, 23, 6, 4, 7, 9, 9, 9, 9, 9, 9, 9, 9, 9, 9, 9, 9, 9, 9, 9, 9, 9, 9, 9, 9, 9, 9, 9, 2, 3, 4, 4, 3, 6, 23, 6, 4, 7, 9, 9, 9, 9, 9, 9, 9, 9, 9, 9, 9, 9, 9, 9, 9, 9, 9, 9, 9, 9, 9, 9, 9, 2, 3, 4, 4, 3, 6, 23, 6, 4, 7, 9, 9, 9, 9, 9, 9, 9, 9, 9, 9, 9, 9, 9, 9, 9, 9, 9, 9, 9, 9, 9, 9, 9, 2, 3, 4, 4, 3, 6, 23, 6, 4, 7, 9, 9, 9, 9, 9, 9, 9, 9, 9, 9, 9, 9, 9, 9, 9, 9, 9, 9, 9, 9, 9, 9, 9, 2, 3, 4, 4, 3, 6, 23, 6, 4, 7, 9, 9, 9, 9, 9, 9, 9, 9, 9, 9, 9, 9, 9, 9, 9, 9, 9, 9, 9, 9, 9, 9, 9, 2, 3, 4, 4, 3, 6, 23, 6, 4, 7, 9, 9, 9, 9, 9, 9, 9, 9, 9, 9, 9, 9, 9, 9, 9, 9, 9, 9, 9, 9, 9, 9, 9, 2, 3, 4, 4, 3, 6, 23, 6, 4, 7, 9, 9, 9, 9, 9, 9, 9, 9, 9, 9, 9, 9, 9, 9, 9, 9, 9, 9, 9, 9, 9, 9, 9, 2, 3, 4, 4, 3, 6, 23, 6, 4, 7, 9, 9, 9, 9, 9, 9, 9, 9, 9, 9, 9, 9, 9, 9, 9, 9, 9, 9, 9, 9, 9, 9, 9, 2, 3, 4, 4, 3, 6, 23, 6, 4, 7, 9, 9, 9, 9, 9, 9, 9, 9, 9, 9, 9, 9, 9, 9, 9, 9, 9, 9, 9, 9, 9, 9, 9, 2, 3, 4, 4, 3, 6, 23, 6, 4, 7, 9, 9, 9, 9, 9, 9, 9, 9, 9, 9, 9, 9, 9, 9, 9, 9, 9, 9, 9, 9, 9, 9, 9, 2, 3, 4, 4, 3, 6, 23, 6, 4, 7, 9, 9, 9, 9, 9, 9, 9, 9, 9, 9, 9, 9, 9, 9, 9, 9, 9, 9, 9, 9, 9, 9, 9, 2, 3, 4, 4, 3, 6, 23, 6, 4, 7, 9, 9, 9, 9, 9, 9, 9, 9, 9, 9, 9, 9, 9, 9, 9, 9, 9, 9, 9, 9, 9, 9, 9]\n"
     ]
    }
   ],
   "source": [
    "L = [2,3,4,4,3,6,23,6,4,7,9,9,9,9,9,9,9,9,9,9,9,9,9,9,9,9,9,9,9,9,9,9,9]*33\n",
    "print(L)"
   ]
  },
  {
   "cell_type": "code",
   "execution_count": 3,
   "metadata": {},
   "outputs": [
    {
     "name": "stdout",
     "output_type": "stream",
     "text": [
      "[2 3 4 ... 9 9 9]\n"
     ]
    }
   ],
   "source": [
    "print(np.array(L))"
   ]
  },
  {
   "cell_type": "code",
   "execution_count": 4,
   "metadata": {},
   "outputs": [
    {
     "data": {
      "text/plain": [
       "(numpy.ndarray, (10,))"
      ]
     },
     "execution_count": 4,
     "metadata": {},
     "output_type": "execute_result"
    }
   ],
   "source": [
    "# ndarray = N-dimensional-Array\n",
    "# Perhatikan \"shape\" adalah property bukan function\n",
    "type(C), C.shape"
   ]
  },
  {
   "cell_type": "code",
   "execution_count": 5,
   "metadata": {},
   "outputs": [
    {
     "data": {
      "text/plain": [
       "array([2. , 2.8, 1.9, 2.5, 2.7, 2.3, 1.8, 1.2, 0.9, 1. ])"
      ]
     },
     "execution_count": 5,
     "metadata": {},
     "output_type": "execute_result"
    }
   ],
   "source": [
    "C"
   ]
  },
  {
   "cell_type": "code",
   "execution_count": 6,
   "metadata": {
    "slideshow": {
     "slide_type": "slide"
    }
   },
   "outputs": [
    {
     "name": "stdout",
     "output_type": "stream",
     "text": [
      "[5.  6.6 4.8 6.  6.4 5.6 4.6 3.4 2.8 3. ]\n"
     ]
    }
   ],
   "source": [
    "# elemen wise operations\n",
    "print(C * 2+1)"
   ]
  },
  {
   "cell_type": "code",
   "execution_count": 7,
   "metadata": {
    "slideshow": {
     "slide_type": "slide"
    }
   },
   "outputs": [
    {
     "name": "stdout",
     "output_type": "stream",
     "text": [
      "Error : tidak bisa dilakukan di List\n"
     ]
    }
   ],
   "source": [
    "try:\n",
    "    print(s * 2+1)\n",
    "except:\n",
    "    print('Error : tidak bisa dilakukan di List')\n",
    "# Hence: List BUKAN Array, shg array operations tidak terdefinisi atasnya"
   ]
  },
  {
   "cell_type": "code",
   "execution_count": 8,
   "metadata": {
    "slideshow": {
     "slide_type": "slide"
    }
   },
   "outputs": [
    {
     "name": "stdout",
     "output_type": "stream",
     "text": [
      "[2.  2.8 1.9 2.5 2.7 2.3 1.8 1.2 0.9 1. ]\n",
      "[4.   7.84 3.61 6.25 7.29 5.29 3.24 1.44 0.81 1.  ]\n"
     ]
    }
   ],
   "source": [
    "print(C)\n",
    "print(C*C)"
   ]
  },
  {
   "cell_type": "code",
   "execution_count": 9,
   "metadata": {
    "slideshow": {
     "slide_type": "slide"
    }
   },
   "outputs": [
    {
     "name": "stdout",
     "output_type": "stream",
     "text": [
      "40.77\n"
     ]
    }
   ],
   "source": [
    "print(np.dot(C,C)) # Jarak Euclidean di Data Science, misal k-Means"
   ]
  },
  {
   "cell_type": "code",
   "execution_count": 10,
   "metadata": {
    "slideshow": {
     "slide_type": "slide"
    }
   },
   "outputs": [
    {
     "name": "stdout",
     "output_type": "stream",
     "text": [
      "(2, 2)\n"
     ]
    },
    {
     "data": {
      "text/plain": [
       "array([[1, 2],\n",
       "       [3, 4]])"
      ]
     },
     "execution_count": 10,
     "metadata": {},
     "output_type": "execute_result"
    }
   ],
   "source": [
    "# Array as Matrix\n",
    "A = [ [1,2], [3,4] ]\n",
    "B = np.array(A)\n",
    "print(B.shape)\n",
    "B"
   ]
  },
  {
   "cell_type": "code",
   "execution_count": 11,
   "metadata": {},
   "outputs": [
    {
     "name": "stdout",
     "output_type": "stream",
     "text": [
      "[[0 0]\n",
      " [0 0]]\n"
     ]
    },
    {
     "data": {
      "text/plain": [
       "array([[1., 1.],\n",
       "       [1., 1.]])"
      ]
     },
     "execution_count": 11,
     "metadata": {},
     "output_type": "execute_result"
    }
   ],
   "source": [
    "# Bisa Juga dinitialisasi, misa\n",
    "M1 = np.zeros((2,2), dtype='int') # hati-hati kurungnya\n",
    "print(M1)\n",
    "M2 = np.ones((2,2))\n",
    "M2"
   ]
  },
  {
   "cell_type": "code",
   "execution_count": 12,
   "metadata": {},
   "outputs": [
    {
     "name": "stdout",
     "output_type": "stream",
     "text": [
      "[ 0 99]\n",
      "[[3. 7.]\n",
      " [1. 1.]] <class 'numpy.ndarray'>\n"
     ]
    }
   ],
   "source": [
    "# Akses ke matrix menggunakan indexing biasa\n",
    "M1[1,0] = 99.7 # .7 hilang karena tipe yg ditetapkan di atas utk M1 adalah \"int\"\n",
    "print(M1[:,0]) # Slicingnya sedikit berbeda dengan List, tapi bisa juga dengan cara indexing list [][]\n",
    "M2[0,:] = [3, 7] # renungkan baris ini perlahan\n",
    "print(M2, type(M2))"
   ]
  },
  {
   "cell_type": "code",
   "execution_count": 13,
   "metadata": {},
   "outputs": [
    {
     "data": {
      "text/plain": [
       "array([[ 0,  0],\n",
       "       [99,  0]])"
      ]
     },
     "execution_count": 13,
     "metadata": {},
     "output_type": "execute_result"
    }
   ],
   "source": [
    "M1"
   ]
  },
  {
   "cell_type": "code",
   "execution_count": 14,
   "metadata": {},
   "outputs": [
    {
     "data": {
      "text/plain": [
       "(99, 99)"
      ]
     },
     "execution_count": 14,
     "metadata": {},
     "output_type": "execute_result"
    }
   ],
   "source": [
    "M1[1,0], M1[1][0]"
   ]
  },
  {
   "cell_type": "code",
   "execution_count": 15,
   "metadata": {},
   "outputs": [
    {
     "data": {
      "text/plain": [
       "array([[1, 2],\n",
       "       [3, 4]])"
      ]
     },
     "execution_count": 15,
     "metadata": {},
     "output_type": "execute_result"
    }
   ],
   "source": [
    "B"
   ]
  },
  {
   "cell_type": "code",
   "execution_count": 16,
   "metadata": {},
   "outputs": [
    {
     "data": {
      "text/plain": [
       "array([[ 1,  4],\n",
       "       [ 9, 16]])"
      ]
     },
     "execution_count": 16,
     "metadata": {},
     "output_type": "execute_result"
    }
   ],
   "source": [
    "# Hati-hati\n",
    "B*B"
   ]
  },
  {
   "cell_type": "code",
   "execution_count": 17,
   "metadata": {
    "slideshow": {
     "slide_type": "slide"
    }
   },
   "outputs": [
    {
     "data": {
      "text/plain": [
       "array([[ 7, 10],\n",
       "       [15, 22]])"
      ]
     },
     "execution_count": 17,
     "metadata": {},
     "output_type": "execute_result"
    }
   ],
   "source": [
    "np.matmul(B,B) # Matlab version of B*B"
   ]
  },
  {
   "cell_type": "code",
   "execution_count": 18,
   "metadata": {},
   "outputs": [
    {
     "data": {
      "text/plain": [
       "(numpy.matrix,\n",
       " matrix([[1, 2],\n",
       "         [3, 4]]))"
      ]
     },
     "execution_count": 18,
     "metadata": {},
     "output_type": "execute_result"
    }
   ],
   "source": [
    "B = np.matrix(B)\n",
    "type(B), B"
   ]
  },
  {
   "cell_type": "code",
   "execution_count": 19,
   "metadata": {},
   "outputs": [
    {
     "data": {
      "text/plain": [
       "matrix([[ 7, 10],\n",
       "        [15, 22]])"
      ]
     },
     "execution_count": 19,
     "metadata": {},
     "output_type": "execute_result"
    }
   ],
   "source": [
    "B*B"
   ]
  },
  {
   "cell_type": "code",
   "execution_count": 20,
   "metadata": {
    "slideshow": {
     "slide_type": "slide"
    }
   },
   "outputs": [
    {
     "data": {
      "text/plain": [
       "matrix([[2, 4],\n",
       "        [6, 8]])"
      ]
     },
     "execution_count": 20,
     "metadata": {},
     "output_type": "execute_result"
    }
   ],
   "source": [
    "# Defaultnya elemen wise operation\n",
    "B*2"
   ]
  },
  {
   "cell_type": "code",
   "execution_count": 21,
   "metadata": {
    "slideshow": {
     "slide_type": "slide"
    }
   },
   "outputs": [
    {
     "name": "stdout",
     "output_type": "stream",
     "text": [
      "[[1 2]\n",
      " [3 4]]\n"
     ]
    },
    {
     "data": {
      "text/plain": [
       "matrix([[1, 3],\n",
       "        [2, 4]])"
      ]
     },
     "execution_count": 21,
     "metadata": {},
     "output_type": "execute_result"
    }
   ],
   "source": [
    "print(B) \n",
    "B.transpose() # ini versi matlab dari B'"
   ]
  },
  {
   "cell_type": "code",
   "execution_count": 22,
   "metadata": {},
   "outputs": [
    {
     "data": {
      "text/plain": [
       "matrix([[1, 3],\n",
       "        [2, 4]])"
      ]
     },
     "execution_count": 22,
     "metadata": {},
     "output_type": "execute_result"
    }
   ],
   "source": [
    "# Shortcut untuk Transpose B'\n",
    "B.T"
   ]
  },
  {
   "cell_type": "code",
   "execution_count": 23,
   "metadata": {
    "slideshow": {
     "slide_type": "slide"
    }
   },
   "outputs": [
    {
     "data": {
      "text/plain": [
       "matrix([[-2. ,  1. ],\n",
       "        [ 1.5, -0.5]])"
      ]
     },
     "execution_count": 23,
     "metadata": {},
     "output_type": "execute_result"
    }
   ],
   "source": [
    "inv = np.linalg.inv # alias\n",
    "#np.linalg.inv(B) # ini versi Matlab dari inv(B)\n",
    "inv(B)"
   ]
  },
  {
   "cell_type": "code",
   "execution_count": 24,
   "metadata": {
    "slideshow": {
     "slide_type": "slide"
    }
   },
   "outputs": [
    {
     "data": {
      "text/plain": [
       "-2.0000000000000004"
      ]
     },
     "execution_count": 24,
     "metadata": {},
     "output_type": "execute_result"
    }
   ],
   "source": [
    "det = np.linalg.det\n",
    "det(B) # Determinan Matriks B"
   ]
  },
  {
   "cell_type": "code",
   "execution_count": 25,
   "metadata": {
    "slideshow": {
     "slide_type": "slide"
    }
   },
   "outputs": [
    {
     "data": {
      "text/plain": [
       "(array([-0.37228132,  5.37228132]),\n",
       " matrix([[-0.82456484, -0.41597356],\n",
       "         [ 0.56576746, -0.90937671]]))"
      ]
     },
     "execution_count": 25,
     "metadata": {},
     "output_type": "execute_result"
    }
   ],
   "source": [
    "eig = np.linalg.eig\n",
    "eig(B) # Determinan Matriks B"
   ]
  },
  {
   "cell_type": "code",
   "execution_count": 26,
   "metadata": {},
   "outputs": [
    {
     "data": {
      "text/plain": [
       "array([2. , 2.8, 1.9, 2.5, 2.7, 2.3, 1.8, 1.2, 0.9, 1. ])"
      ]
     },
     "execution_count": 26,
     "metadata": {},
     "output_type": "execute_result"
    }
   ],
   "source": [
    "C"
   ]
  },
  {
   "cell_type": "code",
   "execution_count": 27,
   "metadata": {
    "slideshow": {
     "slide_type": "slide"
    }
   },
   "outputs": [
    {
     "data": {
      "image/png": "[encoded data removed]",
      "text/plain": [
       "<Figure size 432x288 with 1 Axes>"
      ]
     },
     "metadata": {
      "needs_background": "light"
     },
     "output_type": "display_data"
    }
   ],
   "source": [
    "import matplotlib.pyplot as plt\n",
    "plt.plot(C)\n",
    "plt.show()"
   ]
  },
  {
   "cell_type": "markdown",
   "metadata": {
    "slideshow": {
     "slide_type": "slide"
    }
   },
   "source": [
    "<h2 id=\"List-VS-Array-:-Best-use-scenario\">List VS Array : Best use scenario</h2>\n"
   ]
  },
  {
   "cell_type": "code",
   "execution_count": 28,
   "metadata": {
    "slideshow": {
     "slide_type": "slide"
    }
   },
   "outputs": [
    {
     "name": "stdout",
     "output_type": "stream",
     "text": [
      "108 96 64 88\n"
     ]
    }
   ],
   "source": [
    "# Perbandingan memory usage (bit)\n",
    "from sys import getsizeof as size\n",
    "\n",
    "a = np.array([24, 12, 57])\n",
    "b = np.array([])\n",
    "c = []\n",
    "d = [24, 12, 57]\n",
    "print(size(a),size(b),size(c),size(d))\n",
    "# Dalam byte https://docs.python.org/3/library/sys.html#sys.getsizeof\n",
    "# caution untuk idctionary https://docs.python.org/3/library/sys.html#sys.getsizeof "
   ]
  },
  {
   "cell_type": "code",
   "execution_count": 29,
   "metadata": {
    "slideshow": {
     "slide_type": "slide"
    }
   },
   "outputs": [
    {
     "data": {
      "text/plain": [
       "array([ 0,  2,  4,  6,  8, 10, 12, 14, 16, 18])"
      ]
     },
     "execution_count": 29,
     "metadata": {},
     "output_type": "execute_result"
    }
   ],
   "source": [
    "# Mari test perbandingan kecepatan numpy vs list\n",
    "# Di Data Science EFISIENSI sangat penting\n",
    "N = 10000\n",
    "A = [i+1 for i in range(N)] # [1,2,3,...,N]\n",
    "B = [i*2 for i in range(N)]\n",
    "C = np.array(A)\n",
    "D = np.array(B)\n",
    "D[:10]"
   ]
  },
  {
   "cell_type": "code",
   "execution_count": 30,
   "metadata": {
    "slideshow": {
     "slide_type": "slide"
    }
   },
   "outputs": [
    {
     "name": "stdout",
     "output_type": "stream",
     "text": [
      "823 µs ± 243 µs per loop (mean ± std. dev. of 7 runs, 1000 loops each)\n"
     ]
    }
   ],
   "source": [
    "%%timeit\n",
    "E = [a+b for a,b in zip(A,B)]"
   ]
  },
  {
   "cell_type": "code",
   "execution_count": 31,
   "metadata": {
    "slideshow": {
     "slide_type": "slide"
    }
   },
   "outputs": [
    {
     "name": "stdout",
     "output_type": "stream",
     "text": [
      "12.9 µs ± 547 ns per loop (mean ± std. dev. of 7 runs, 100000 loops each)\n"
     ]
    }
   ],
   "source": [
    "%%timeit\n",
    "F = np.add(C,D)"
   ]
  },
  {
   "cell_type": "code",
   "execution_count": 32,
   "metadata": {
    "slideshow": {
     "slide_type": "slide"
    }
   },
   "outputs": [
    {
     "data": {
      "image/png": "[encoded data removed]",
      "text/plain": [
       "<Figure size 432x288 with 1 Axes>"
      ]
     },
     "metadata": {
      "needs_background": "light"
     },
     "output_type": "display_data"
    }
   ],
   "source": [
    "# Histogram\n",
    "import matplotlib.pyplot as plt\n",
    "data = np.random.normal(size=10000)\n",
    "plt.hist(data)\n",
    "plt.title(\"Gaussian Histogram\")\n",
    "plt.xlabel(\"Value\")\n",
    "plt.ylabel(\"Frequency\")\n",
    "plt.show()"
   ]
  },
  {
   "cell_type": "code",
   "execution_count": 33,
   "metadata": {},
   "outputs": [
    {
     "data": {
      "text/plain": [
       "numpy.ndarray"
      ]
     },
     "execution_count": 33,
     "metadata": {},
     "output_type": "execute_result"
    }
   ],
   "source": [
    "data = np.random.normal(size=10000)\n",
    "type(data)"
   ]
  },
  {
   "cell_type": "code",
   "execution_count": 34,
   "metadata": {},
   "outputs": [
    {
     "data": {
      "text/plain": [
       "array([ 0.248563  ,  0.4350702 ,  0.2730992 ,  2.0050722 , -1.22075245,\n",
       "       -1.17351649, -0.20473633,  0.44299796,  1.15944265,  0.30431478])"
      ]
     },
     "execution_count": 34,
     "metadata": {},
     "output_type": "execute_result"
    }
   ],
   "source": [
    "data[:10]"
   ]
  },
  {
   "cell_type": "code",
   "execution_count": 35,
   "metadata": {
    "slideshow": {
     "slide_type": "slide"
    }
   },
   "outputs": [
    {
     "data": {
      "image/png": "[encoded data removed]",
      "text/plain": [
       "<Figure size 432x288 with 1 Axes>"
      ]
     },
     "metadata": {
      "needs_background": "light"
     },
     "output_type": "display_data"
    }
   ],
   "source": [
    "X = np.linspace(-2 * np.pi, 2 * np.pi, 50, endpoint=True)\n",
    "F1 = 3 * np.sin(X)\n",
    "F2 = np.sin(2*X)\n",
    "F3 = 0.3 * np.sin(X)\n",
    "startx, endx = -2 * np.pi - 0.1, 2*np.pi + 0.1\n",
    "starty, endy = -3.1, 3.1\n",
    "plt.axis([startx, endx, starty, endy])\n",
    "plt.plot(X,F1)\n",
    "plt.plot(X,F2)\n",
    "plt.plot(X,F3)\n",
    "plt.plot(X, F1, 'ro')\n",
    "plt.plot(X, F2, 'bx')\n",
    "plt.show()\n",
    "# Comment F1, F2, F3 untuk contoh scatter plot"
   ]
  },
  {
   "cell_type": "markdown",
   "metadata": {
    "slideshow": {
     "slide_type": "slide"
    }
   },
   "source": [
    "# Menangani Array/Matrix berukuran \"Besar\" dengan Numpy MemMap\n",
    "\n",
    "* Fungsi memmap() numpy memetakan array dari memory ke harddisk.\n",
    "* Digunakan untuk mengoperasikan Array/matrix besar yang melebihi kapasitas RAM/memori.\n",
    "* file memMap di akses dalam bentuk segment/chunks menggunakan indexing/slicing biasa seperti numpy array biasa. \n",
    "* Usahakan menggunakan HardDisk yang cepat, misal NVME/SSD\n",
    "* Operasi di Array MemMap = Array biasa. Namun yakinkan saat mengakses Array memMap tidak dilakukan diseluruh elemen sekaligus, tapi hanya segmen/sebagian saja."
   ]
  },
  {
   "cell_type": "code",
   "execution_count": 36,
   "metadata": {
    "slideshow": {
     "slide_type": "slide"
    }
   },
   "outputs": [],
   "source": [
    "nrows, ncols = 10**6, 100\n",
    "f = np.memmap('memap.dat', dtype=np.float32, mode='w+', shape=(nrows, ncols))\n",
    "# Lihat di folder dimana ipynb ini berada, terdapat file baru.. lihat ukuran filenya"
   ]
  },
  {
   "cell_type": "markdown",
   "metadata": {},
   "source": [
    "## mode:\n",
    "\n",
    "* ‘r’\tOpen existing file for reading only.\n",
    "* ‘r+’\tOpen existing file for reading and writing.\n",
    "* ‘w+’\tCreate or overwrite existing file for reading and writing.\n",
    "* ‘c’\tCopy-on-write: assignments affect data in memory, but changes are not saved to disk. The file on disk is read-only."
   ]
  },
  {
   "cell_type": "code",
   "execution_count": 37,
   "metadata": {
    "slideshow": {
     "slide_type": "slide"
    }
   },
   "outputs": [],
   "source": [
    "# isi dengan nilai Acak Normal\n",
    "for i in range(ncols):\n",
    "    f[:, i] = np.random.rand(nrows)"
   ]
  },
  {
   "cell_type": "code",
   "execution_count": 38,
   "metadata": {
    "slideshow": {
     "slide_type": "slide"
    }
   },
   "outputs": [
    {
     "name": "stdout",
     "output_type": "stream",
     "text": [
      "[0.9059809  0.6013287  0.38846755 ... 0.4889865  0.34110525 0.92023325] 0.49993035\n"
     ]
    }
   ],
   "source": [
    "# Misal mau mengambil baris ke-3 terakhir\n",
    "x = f[:, 0]\n",
    "print(x, np.mean(x))"
   ]
  },
  {
   "cell_type": "markdown",
   "metadata": {},
   "source": [
    "# Menghitung besar array di harddisk"
   ]
  },
  {
   "cell_type": "code",
   "execution_count": 39,
   "metadata": {},
   "outputs": [
    {
     "name": "stdout",
     "output_type": "stream",
     "text": [
      "400000000\n"
     ]
    }
   ],
   "source": [
    "def check_asize_bytes(shape, dtype):\n",
    "    return np.prod(shape) * np.dtype(dtype).itemsize\n",
    "\n",
    "print(check_asize_bytes((10**6,100), 'float32'))"
   ]
  },
  {
   "cell_type": "markdown",
   "metadata": {},
   "source": [
    "# Menyimpan perubahan ke disk MemMap"
   ]
  },
  {
   "cell_type": "code",
   "execution_count": 40,
   "metadata": {
    "slideshow": {
     "slide_type": "slide"
    }
   },
   "outputs": [],
   "source": [
    "# Save variabel MemMap ke HardDisk dengan cara hapus \"del\" dari Python\n",
    "del f"
   ]
  },
  {
   "cell_type": "markdown",
   "metadata": {
    "slideshow": {
     "slide_type": "slide"
    }
   },
   "source": [
    "# Loading MemMap Array"
   ]
  },
  {
   "cell_type": "code",
   "execution_count": 41,
   "metadata": {
    "slideshow": {
     "slide_type": "slide"
    }
   },
   "outputs": [
    {
     "data": {
      "text/plain": [
       "(array([ True,  True,  True, ...,  True,  True,  True]), True)"
      ]
     },
     "execution_count": 41,
     "metadata": {},
     "output_type": "execute_result"
    }
   ],
   "source": [
    "# Sengaja buat variabel baru untuk cek/verifikasi\n",
    "fBaru = np.memmap('memap.dat', dtype=np.float32, shape=(nrows, ncols))\n",
    "xx = fBaru[:, 0]\n",
    "\n",
    "xx==x, np.array_equal(xx, x)"
   ]
  },
  {
   "cell_type": "markdown",
   "metadata": {
    "slideshow": {
     "slide_type": "slide"
    }
   },
   "source": [
    "# Testing Matrix yang super besar, lalu melakukan operasi sederhana\n",
    "\n",
    "* Supaya yakin, yakinkan ukuran RAM komputer anda dan buka \"task manager\"\n",
    "* Yakinkan enough diskspace\n",
    "* Kita akan menghitung \"rata-rata\" seluruh elemen di matrix setelah generate bil random"
   ]
  },
  {
   "cell_type": "code",
   "execution_count": 69,
   "metadata": {
    "slideshow": {
     "slide_type": "slide"
    }
   },
   "outputs": [],
   "source": [
    "# Hati-hati ini akan mengenerate matrix Sangat Besar >35Gb!!!!\n",
    "import numpy as np\n",
    "from tqdm import tqdm\n",
    "\n",
    "nrows, ncols = 10**6, 10**4\n",
    "f = np.memmap('BigMatrix.dat', dtype=np.float32, mode='w+', shape=(nrows, ncols))\n",
    "# Lihat di folder dimana ipynb ini berada, terdapat file baru.. lihat ukuran filenya"
   ]
  },
  {
   "cell_type": "code",
   "execution_count": 70,
   "metadata": {
    "slideshow": {
     "slide_type": "slide"
    }
   },
   "outputs": [],
   "source": [
    "# Sengaja di \"Flush dulu\"\n",
    "del f"
   ]
  },
  {
   "cell_type": "code",
   "execution_count": 71,
   "metadata": {},
   "outputs": [],
   "source": [
    "# Load Lagi dari HD mensimulasikan kasus nyata\n",
    "f = np.memmap('BigMatrix.dat', dtype=np.float32, shape=(nrows, ncols))"
   ]
  },
  {
   "cell_type": "code",
   "execution_count": 72,
   "metadata": {
    "slideshow": {
     "slide_type": "slide"
    }
   },
   "outputs": [
    {
     "name": "stderr",
     "output_type": "stream",
     "text": [
      " 15%|███████████▌                                                                 | 1501/10000 [03:10<18:00,  7.86it/s]\n"
     ]
    }
   ],
   "source": [
    "# Generate Random Data \n",
    "# Lihat Task Manager dan memory yang digunakan.\n",
    "# Jika MemMap gagal maka kita akan out-of-memory\n",
    "for i in tqdm(range(ncols)):\n",
    "    f[:, i] = np.random.rand(nrows)\n",
    "    if i> 1500:\n",
    "        break # biar ndak terlalu lama"
   ]
  },
  {
   "cell_type": "code",
   "execution_count": 73,
   "metadata": {
    "slideshow": {
     "slide_type": "slide"
    }
   },
   "outputs": [],
   "source": [
    "# Sengaja Flush ke HD lagi dulu\n",
    "del f\n",
    "# Lihat penggunaan RAM di Task Manager"
   ]
  },
  {
   "cell_type": "code",
   "execution_count": 74,
   "metadata": {
    "slideshow": {
     "slide_type": "slide"
    }
   },
   "outputs": [],
   "source": [
    "# lalu load lagi\n",
    "f = np.memmap('BigMatrix.dat', dtype=np.float32, shape=(nrows, ncols))"
   ]
  },
  {
   "cell_type": "code",
   "execution_count": 75,
   "metadata": {
    "slideshow": {
     "slide_type": "slide"
    }
   },
   "outputs": [
    {
     "name": "stderr",
     "output_type": "stream",
     "text": [
      " 15%|███████████▌                                                                 | 1501/10000 [01:05<06:08, 23.09it/s]\n"
     ]
    },
    {
     "data": {
      "text/plain": [
       "500665.11179166666"
      ]
     },
     "execution_count": 75,
     "metadata": {},
     "output_type": "execute_result"
    }
   ],
   "source": [
    "# Baru mencoba hitung rata-rata\n",
    "sum_ = 0\n",
    "for i in tqdm(range(ncols)):\n",
    "    sum_ += np.sum(f[:, i])\n",
    "    if i>1500:\n",
    "        break # Biar ndak terlalu lama\n",
    "sum_/1500"
   ]
  },
  {
   "cell_type": "code",
   "execution_count": 76,
   "metadata": {
    "slideshow": {
     "slide_type": "slide"
    }
   },
   "outputs": [],
   "source": [
    "del f # I need the memory back :)"
   ]
  },
  {
   "cell_type": "markdown",
   "metadata": {
    "slideshow": {
     "slide_type": "slide"
    }
   },
   "source": [
    "# Matrix Sparse\n",
    "### Referensi : https://matteding.github.io/2019/04/25/sparse-matrices/\n",
    "\n",
    "<img alt=\"\" src=\"images/sparse_dense.png\" />\n",
    "\n",
    "* Matrix Sparse adalah matrix yang di dominasi oleh nilai \"0\" sebagai elemennya.\n",
    "* Banyak ditemukan di machine learning untuk data tidak terstruktur (terutama Text)."
   ]
  },
  {
   "cell_type": "code",
   "execution_count": 77,
   "metadata": {
    "slideshow": {
     "slide_type": "slide"
    }
   },
   "outputs": [
    {
     "name": "stdout",
     "output_type": "stream",
     "text": [
      "[[1 0 0 1 0 0]\n",
      " [0 0 2 0 0 1]\n",
      " [0 0 0 2 0 0]]\n"
     ]
    },
    {
     "data": {
      "text/plain": [
       "(numpy.ndarray, 18)"
      ]
     },
     "execution_count": 77,
     "metadata": {},
     "output_type": "execute_result"
    }
   ],
   "source": [
    "# Contoh Matrix DENSE numpy\n",
    "A = np.array([[1, 0, 0, 1, 0, 0], [0, 0, 2, 0, 0, 1], [0, 0, 0, 2, 0, 0]])\n",
    "print(A)\n",
    "type(A), A.size"
   ]
  },
  {
   "cell_type": "code",
   "execution_count": 78,
   "metadata": {
    "slideshow": {
     "slide_type": "slide"
    }
   },
   "outputs": [
    {
     "data": {
      "text/plain": [
       "0.2777777777777778"
      ]
     },
     "execution_count": 78,
     "metadata": {},
     "output_type": "execute_result"
    }
   ],
   "source": [
    "# SPARSITY: count zero elements / total elements\n",
    "np.count_nonzero(A) / float(A.size)"
   ]
  },
  {
   "cell_type": "code",
   "execution_count": 79,
   "metadata": {
    "slideshow": {
     "slide_type": "fragment"
    }
   },
   "outputs": [
    {
     "data": {
      "text/plain": [
       "0.2777777777777778"
      ]
     },
     "execution_count": 79,
     "metadata": {},
     "output_type": "execute_result"
    }
   ],
   "source": [
    "# Kalau ada Nan bagaimana?\n",
    "A = np.array([[1, 0, 0, 1, 0, np.nan], [0, 0, 2, 0, 0, 1], [0, 0, 0, 2, 0, np.nan]])\n",
    "A = np.nan_to_num(A, 0)\n",
    "np.count_nonzero(A) / float(A.size)"
   ]
  },
  {
   "cell_type": "markdown",
   "metadata": {
    "slideshow": {
     "slide_type": "slide"
    }
   },
   "source": [
    "# Modul SciPy untuk Menangani matrix Sparse\n",
    "\n",
    "Total ada 7 Macam tipe Sparse Matrix:\n",
    "* csc_matrix: Compressed Sparse Column format\n",
    "* csr_matrix: Compressed Sparse Row format\n",
    "* bsr_matrix: Block Sparse Row format\n",
    "* lil_matrix: List of Lists format\n",
    "* dok_matrix: Dictionary of Keys format\n",
    "* coo_matrix: COOrdinate format (aka IJV, triplet format)\n",
    "* dia_matrix: DIAgonal format\n",
    "https://docs.scipy.org/doc/scipy/reference/sparse.html\n",
    "* Related Link: https://tau-data.id/fast-cosine/"
   ]
  },
  {
   "cell_type": "markdown",
   "metadata": {
    "slideshow": {
     "slide_type": "slide"
    }
   },
   "source": [
    "# Coordinate Matrix (COO)\n",
    "\n",
    "* # COO mudah dibuat/construct dan dimengerti\n",
    "\n",
    "<img alt=\"\" src=\"images/coo.gif\" />"
   ]
  },
  {
   "cell_type": "code",
   "execution_count": 46,
   "metadata": {
    "slideshow": {
     "slide_type": "slide"
    }
   },
   "outputs": [
    {
     "data": {
      "text/plain": [
       "(<4x4 sparse matrix of type '<class 'numpy.int32'>'\n",
       " \twith 4 stored elements in COOrdinate format>,\n",
       " array([4, 5, 7, 9]))"
      ]
     },
     "execution_count": 46,
     "metadata": {},
     "output_type": "execute_result"
    }
   ],
   "source": [
    "from scipy import sparse\n",
    "\n",
    "row = [0,3,1,0] # bisa juga array\n",
    "col = [0,3,1,2]\n",
    "data = [4,5,7,9]\n",
    "A = sparse.coo_matrix((data,(row, col)),shape=(4,4)) \n",
    "# Perhatikan: index tidak harus urut, dan kita butuh \"Ukuran Matrix\"\n",
    "A, A.data"
   ]
  },
  {
   "cell_type": "code",
   "execution_count": 47,
   "metadata": {
    "slideshow": {
     "slide_type": "slide"
    }
   },
   "outputs": [
    {
     "data": {
      "text/plain": [
       "(array([[4, 0, 9, 0],\n",
       "        [0, 7, 0, 0],\n",
       "        [0, 0, 0, 0],\n",
       "        [0, 0, 0, 5]]),\n",
       " scipy.sparse.coo.coo_matrix)"
      ]
     },
     "execution_count": 47,
     "metadata": {},
     "output_type": "execute_result"
    }
   ],
   "source": [
    "A.toarray(), type(A) # not \"in place\""
   ]
  },
  {
   "cell_type": "markdown",
   "metadata": {
    "slideshow": {
     "slide_type": "fragment"
    }
   },
   "source": [
    "# Hati-hati ... Jika tidak Sparse jangan gunakan struktur data ini"
   ]
  },
  {
   "cell_type": "markdown",
   "metadata": {
    "slideshow": {
     "slide_type": "slide"
    }
   },
   "source": [
    "# Compressed Sparse Matrix\n",
    "\n",
    "* Digunakan di DS dan ML untuk komputasi/perhitungan\n",
    "\n",
    "<img alt=\"\" src=\"images/csr.gif\" />\n",
    "image source: https://matteding.github.io/2019/04/25/sparse-matrices/\n",
    "\n",
    "* Pasangan index pointer menentukan:\n",
    "  - Posisi baris\n",
    "  - Mulai:Akhir\n",
    "* NNZ adalah value/nilainya."
   ]
  },
  {
   "cell_type": "code",
   "execution_count": 48,
   "metadata": {
    "slideshow": {
     "slide_type": "slide"
    }
   },
   "outputs": [
    {
     "data": {
      "text/plain": [
       "[6]"
      ]
     },
     "execution_count": 48,
     "metadata": {},
     "output_type": "execute_result"
    }
   ],
   "source": [
    "# hati-hati di Python\n",
    "B = [0, 1, 2, 3, 4, 5, 6]\n",
    "B[6:7]"
   ]
  },
  {
   "cell_type": "code",
   "execution_count": 49,
   "metadata": {
    "slideshow": {
     "slide_type": "slide"
    }
   },
   "outputs": [
    {
     "data": {
      "text/plain": [
       "<7x5 sparse matrix of type '<class 'numpy.int32'>'\n",
       "\twith 7 stored elements in Compressed Sparse Row format>"
      ]
     },
     "execution_count": 49,
     "metadata": {},
     "output_type": "execute_result"
    }
   ],
   "source": [
    "indptr = [0, 2, 3, 3, 3, 6, 6, 7]\n",
    "indices = [0, 2, 2, 2, 3, 4, 3]\n",
    "data = [8, 2, 5, 7, 1, 2, 9]\n",
    "csr = sparse.csr_matrix((data, indices, indptr)) # Perhatikan tidak ada SHAPE\n",
    "csr"
   ]
  },
  {
   "cell_type": "code",
   "execution_count": 50,
   "metadata": {
    "slideshow": {
     "slide_type": "slide"
    }
   },
   "outputs": [
    {
     "data": {
      "text/plain": [
       "array([[8, 0, 2, 0, 0],\n",
       "       [0, 0, 5, 0, 0],\n",
       "       [0, 0, 0, 0, 0],\n",
       "       [0, 0, 0, 0, 0],\n",
       "       [0, 0, 7, 1, 2],\n",
       "       [0, 0, 0, 0, 0],\n",
       "       [0, 0, 0, 9, 0]])"
      ]
     },
     "execution_count": 50,
     "metadata": {},
     "output_type": "execute_result"
    }
   ],
   "source": [
    "csr.toarray()"
   ]
  },
  {
   "cell_type": "code",
   "execution_count": 51,
   "metadata": {
    "slideshow": {
     "slide_type": "slide"
    }
   },
   "outputs": [
    {
     "data": {
      "text/plain": [
       "(array([0, 2, 2, 2, 3, 4, 3], dtype=int32),\n",
       " array([8, 2, 5, 7, 1, 2, 9]),\n",
       " array([0, 2]))"
      ]
     },
     "execution_count": 51,
     "metadata": {},
     "output_type": "execute_result"
    }
   ],
   "source": [
    "csr.indices, csr.data, csr.getrow(0).indices"
   ]
  },
  {
   "cell_type": "markdown",
   "metadata": {
    "slideshow": {
     "slide_type": "slide"
    }
   },
   "source": [
    "# Sifat Matrix Sparse di Python\n",
    "<img alt=\"\" src=\"images/sparse_tbl.png\" />"
   ]
  },
  {
   "cell_type": "markdown",
   "metadata": {
    "slideshow": {
     "slide_type": "slide"
    }
   },
   "source": [
    "# Dataframe\n",
    "\n",
    "* Creating Dataframe\n",
    "* info, dtypes, basic properties & Functions\n",
    "* Iterating and loc\n",
    "* groups\n",
    "* (un)Stack\n",
    "* Concat\n",
    "* Search"
   ]
  },
  {
   "cell_type": "code",
   "execution_count": 52,
   "metadata": {
    "slideshow": {
     "slide_type": "slide"
    }
   },
   "outputs": [
    {
     "data": {
      "text/html": [
       "<div>\n",
       "<style scoped>\n",
       "    .dataframe tbody tr th:only-of-type {\n",
       "        vertical-align: middle;\n",
       "    }\n",
       "\n",
       "    .dataframe tbody tr th {\n",
       "        vertical-align: top;\n",
       "    }\n",
       "\n",
       "    .dataframe thead th {\n",
       "        text-align: right;\n",
       "    }\n",
       "</style>\n",
       "<table border=\"1\" class=\"dataframe\">\n",
       "  <thead>\n",
       "    <tr style=\"text-align: right;\">\n",
       "      <th></th>\n",
       "      <th>nama</th>\n",
       "      <th>umur</th>\n",
       "    </tr>\n",
       "  </thead>\n",
       "  <tbody>\n",
       "    <tr>\n",
       "      <th>0</th>\n",
       "      <td>ali</td>\n",
       "      <td>22</td>\n",
       "    </tr>\n",
       "    <tr>\n",
       "      <th>1</th>\n",
       "      <td>budi</td>\n",
       "      <td>34</td>\n",
       "    </tr>\n",
       "    <tr>\n",
       "      <th>2</th>\n",
       "      <td>wati</td>\n",
       "      <td>12</td>\n",
       "    </tr>\n",
       "  </tbody>\n",
       "</table>\n",
       "</div>"
      ],
      "text/plain": [
       "   nama  umur\n",
       "0   ali    22\n",
       "1  budi    34\n",
       "2  wati    12"
      ]
     },
     "execution_count": 52,
     "metadata": {},
     "output_type": "execute_result"
    }
   ],
   "source": [
    "import pandas as pd\n",
    "\n",
    "#creating from dictionary\n",
    "D = {'nama':['ali', 'budi', 'wati'], 'umur':[22, 34, 12]}\n",
    "\n",
    "df = pd.DataFrame(D)\n",
    "df"
   ]
  },
  {
   "cell_type": "code",
   "execution_count": 53,
   "metadata": {
    "slideshow": {
     "slide_type": "slide"
    }
   },
   "outputs": [
    {
     "data": {
      "text/html": [
       "<div>\n",
       "<style scoped>\n",
       "    .dataframe tbody tr th:only-of-type {\n",
       "        vertical-align: middle;\n",
       "    }\n",
       "\n",
       "    .dataframe tbody tr th {\n",
       "        vertical-align: top;\n",
       "    }\n",
       "\n",
       "    .dataframe thead th {\n",
       "        text-align: right;\n",
       "    }\n",
       "</style>\n",
       "<table border=\"1\" class=\"dataframe\">\n",
       "  <thead>\n",
       "    <tr style=\"text-align: right;\">\n",
       "      <th></th>\n",
       "      <th>col_1</th>\n",
       "      <th>col_2</th>\n",
       "    </tr>\n",
       "  </thead>\n",
       "  <tbody>\n",
       "    <tr>\n",
       "      <th>0</th>\n",
       "      <td>3</td>\n",
       "      <td>a</td>\n",
       "    </tr>\n",
       "    <tr>\n",
       "      <th>1</th>\n",
       "      <td>2</td>\n",
       "      <td>b</td>\n",
       "    </tr>\n",
       "    <tr>\n",
       "      <th>2</th>\n",
       "      <td>1</td>\n",
       "      <td>c</td>\n",
       "    </tr>\n",
       "    <tr>\n",
       "      <th>3</th>\n",
       "      <td>0</td>\n",
       "      <td>d</td>\n",
       "    </tr>\n",
       "  </tbody>\n",
       "</table>\n",
       "</div>"
      ],
      "text/plain": [
       "   col_1 col_2\n",
       "0      3     a\n",
       "1      2     b\n",
       "2      1     c\n",
       "3      0     d"
      ]
     },
     "execution_count": 53,
     "metadata": {},
     "output_type": "execute_result"
    }
   ],
   "source": [
    "# Other method to create dataframe\n",
    "D = [{'col_1': 3, 'col_2': 'a'},\n",
    "        {'col_1': 2, 'col_2': 'b'},\n",
    "        {'col_1': 1, 'col_2': 'c'},\n",
    "        {'col_1': 0, 'col_2': 'd'}]\n",
    "df = pd.DataFrame.from_records(D)\n",
    "df"
   ]
  },
  {
   "cell_type": "code",
   "execution_count": 62,
   "metadata": {
    "slideshow": {
     "slide_type": "slide"
    }
   },
   "outputs": [
    {
     "data": {
      "text/html": [
       "<div>\n",
       "<style scoped>\n",
       "    .dataframe tbody tr th:only-of-type {\n",
       "        vertical-align: middle;\n",
       "    }\n",
       "\n",
       "    .dataframe tbody tr th {\n",
       "        vertical-align: top;\n",
       "    }\n",
       "\n",
       "    .dataframe thead th {\n",
       "        text-align: right;\n",
       "    }\n",
       "</style>\n",
       "<table border=\"1\" class=\"dataframe\">\n",
       "  <thead>\n",
       "    <tr style=\"text-align: right;\">\n",
       "      <th></th>\n",
       "      <th>Observation</th>\n",
       "      <th>Dist_Taxi</th>\n",
       "      <th>Dist_Market</th>\n",
       "      <th>Dist_Hospital</th>\n",
       "      <th>Carpet</th>\n",
       "      <th>Builtup</th>\n",
       "      <th>Parking</th>\n",
       "      <th>City_Category</th>\n",
       "      <th>Rainfall</th>\n",
       "      <th>House_Price</th>\n",
       "    </tr>\n",
       "  </thead>\n",
       "  <tbody>\n",
       "    <tr>\n",
       "      <th>0</th>\n",
       "      <td>1</td>\n",
       "      <td>9796.0</td>\n",
       "      <td>5250.0</td>\n",
       "      <td>10703.0</td>\n",
       "      <td>1659.0</td>\n",
       "      <td>1961.0</td>\n",
       "      <td>Open</td>\n",
       "      <td>CAT B</td>\n",
       "      <td>530</td>\n",
       "      <td>6649000</td>\n",
       "    </tr>\n",
       "    <tr>\n",
       "      <th>1</th>\n",
       "      <td>2</td>\n",
       "      <td>8294.0</td>\n",
       "      <td>8186.0</td>\n",
       "      <td>12694.0</td>\n",
       "      <td>1461.0</td>\n",
       "      <td>1752.0</td>\n",
       "      <td>Not Provided</td>\n",
       "      <td>CAT B</td>\n",
       "      <td>210</td>\n",
       "      <td>3982000</td>\n",
       "    </tr>\n",
       "    <tr>\n",
       "      <th>2</th>\n",
       "      <td>3</td>\n",
       "      <td>11001.0</td>\n",
       "      <td>14399.0</td>\n",
       "      <td>16991.0</td>\n",
       "      <td>1340.0</td>\n",
       "      <td>1609.0</td>\n",
       "      <td>Not Provided</td>\n",
       "      <td>CAT A</td>\n",
       "      <td>720</td>\n",
       "      <td>5401000</td>\n",
       "    </tr>\n",
       "    <tr>\n",
       "      <th>3</th>\n",
       "      <td>4</td>\n",
       "      <td>8301.0</td>\n",
       "      <td>11188.0</td>\n",
       "      <td>12289.0</td>\n",
       "      <td>1451.0</td>\n",
       "      <td>1748.0</td>\n",
       "      <td>Covered</td>\n",
       "      <td>CAT B</td>\n",
       "      <td>620</td>\n",
       "      <td>5373000</td>\n",
       "    </tr>\n",
       "    <tr>\n",
       "      <th>4</th>\n",
       "      <td>5</td>\n",
       "      <td>10510.0</td>\n",
       "      <td>12629.0</td>\n",
       "      <td>13921.0</td>\n",
       "      <td>1770.0</td>\n",
       "      <td>2111.0</td>\n",
       "      <td>Not Provided</td>\n",
       "      <td>CAT B</td>\n",
       "      <td>450</td>\n",
       "      <td>4662000</td>\n",
       "    </tr>\n",
       "    <tr>\n",
       "      <th>...</th>\n",
       "      <td>...</td>\n",
       "      <td>...</td>\n",
       "      <td>...</td>\n",
       "      <td>...</td>\n",
       "      <td>...</td>\n",
       "      <td>...</td>\n",
       "      <td>...</td>\n",
       "      <td>...</td>\n",
       "      <td>...</td>\n",
       "      <td>...</td>\n",
       "    </tr>\n",
       "    <tr>\n",
       "      <th>931</th>\n",
       "      <td>932</td>\n",
       "      <td>9297.0</td>\n",
       "      <td>12537.0</td>\n",
       "      <td>14418.0</td>\n",
       "      <td>1174.0</td>\n",
       "      <td>1429.0</td>\n",
       "      <td>Covered</td>\n",
       "      <td>CAT C</td>\n",
       "      <td>1110</td>\n",
       "      <td>5434000</td>\n",
       "    </tr>\n",
       "    <tr>\n",
       "      <th>932</th>\n",
       "      <td>933</td>\n",
       "      <td>10915.0</td>\n",
       "      <td>17486.0</td>\n",
       "      <td>15964.0</td>\n",
       "      <td>1549.0</td>\n",
       "      <td>1851.0</td>\n",
       "      <td>Not Provided</td>\n",
       "      <td>CAT C</td>\n",
       "      <td>1220</td>\n",
       "      <td>7062000</td>\n",
       "    </tr>\n",
       "    <tr>\n",
       "      <th>933</th>\n",
       "      <td>934</td>\n",
       "      <td>9205.0</td>\n",
       "      <td>10418.0</td>\n",
       "      <td>14496.0</td>\n",
       "      <td>1118.0</td>\n",
       "      <td>1337.0</td>\n",
       "      <td>Open</td>\n",
       "      <td>CAT A</td>\n",
       "      <td>560</td>\n",
       "      <td>7227000</td>\n",
       "    </tr>\n",
       "    <tr>\n",
       "      <th>934</th>\n",
       "      <td>935</td>\n",
       "      <td>10915.0</td>\n",
       "      <td>17486.0</td>\n",
       "      <td>15964.0</td>\n",
       "      <td>1549.0</td>\n",
       "      <td>1851.0</td>\n",
       "      <td>Not Provided</td>\n",
       "      <td>CAT C</td>\n",
       "      <td>1220</td>\n",
       "      <td>7062000</td>\n",
       "    </tr>\n",
       "    <tr>\n",
       "      <th>935</th>\n",
       "      <td>936</td>\n",
       "      <td>10915.0</td>\n",
       "      <td>17486.0</td>\n",
       "      <td>15964.0</td>\n",
       "      <td>1549.0</td>\n",
       "      <td>1851.0</td>\n",
       "      <td>Not Provided</td>\n",
       "      <td>CAT C</td>\n",
       "      <td>1220</td>\n",
       "      <td>7062000</td>\n",
       "    </tr>\n",
       "  </tbody>\n",
       "</table>\n",
       "<p>936 rows × 10 columns</p>\n",
       "</div>"
      ],
      "text/plain": [
       "     Observation  Dist_Taxi  Dist_Market  Dist_Hospital  Carpet  Builtup  \\\n",
       "0              1     9796.0       5250.0        10703.0  1659.0   1961.0   \n",
       "1              2     8294.0       8186.0        12694.0  1461.0   1752.0   \n",
       "2              3    11001.0      14399.0        16991.0  1340.0   1609.0   \n",
       "3              4     8301.0      11188.0        12289.0  1451.0   1748.0   \n",
       "4              5    10510.0      12629.0        13921.0  1770.0   2111.0   \n",
       "..           ...        ...          ...            ...     ...      ...   \n",
       "931          932     9297.0      12537.0        14418.0  1174.0   1429.0   \n",
       "932          933    10915.0      17486.0        15964.0  1549.0   1851.0   \n",
       "933          934     9205.0      10418.0        14496.0  1118.0   1337.0   \n",
       "934          935    10915.0      17486.0        15964.0  1549.0   1851.0   \n",
       "935          936    10915.0      17486.0        15964.0  1549.0   1851.0   \n",
       "\n",
       "          Parking City_Category  Rainfall  House_Price  \n",
       "0            Open         CAT B       530      6649000  \n",
       "1    Not Provided         CAT B       210      3982000  \n",
       "2    Not Provided         CAT A       720      5401000  \n",
       "3         Covered         CAT B       620      5373000  \n",
       "4    Not Provided         CAT B       450      4662000  \n",
       "..            ...           ...       ...          ...  \n",
       "931       Covered         CAT C      1110      5434000  \n",
       "932  Not Provided         CAT C      1220      7062000  \n",
       "933          Open         CAT A       560      7227000  \n",
       "934  Not Provided         CAT C      1220      7062000  \n",
       "935  Not Provided         CAT C      1220      7062000  \n",
       "\n",
       "[936 rows x 10 columns]"
      ]
     },
     "execution_count": 62,
     "metadata": {},
     "output_type": "execute_result"
    }
   ],
   "source": [
    "# We can also import from CSV or Excel\n",
    " # Lakukan hanya jika menggunakan Google Colab\n",
    "try:\n",
    "    df = pd.read_csv('data/price.csv')\n",
    "except: #Using Google Colab\n",
    "    !mkdir data\n",
    "    !wget -P data/ https://raw.githubusercontent.com/taudata-indonesia/eLearning/master/data/price.csv\n",
    "    df = pd.read_csv('data/price.csv')\n",
    "df"
   ]
  },
  {
   "cell_type": "code",
   "execution_count": 56,
   "metadata": {
    "slideshow": {
     "slide_type": "slide"
    }
   },
   "outputs": [
    {
     "name": "stdout",
     "output_type": "stream",
     "text": [
      "9360 (936, 10) Index(['Observation', 'Dist_Taxi', 'Dist_Market', 'Dist_Hospital', 'Carpet',\n",
      "       'Builtup', 'Parking', 'City_Category', 'Rainfall', 'House_Price'],\n",
      "      dtype='object')\n"
     ]
    },
    {
     "data": {
      "text/plain": [
       "Observation        int64\n",
       "Dist_Taxi        float64\n",
       "Dist_Market      float64\n",
       "Dist_Hospital    float64\n",
       "Carpet           float64\n",
       "Builtup          float64\n",
       "Parking           object\n",
       "City_Category     object\n",
       "Rainfall           int64\n",
       "House_Price        int64\n",
       "dtype: object"
      ]
     },
     "execution_count": 56,
     "metadata": {},
     "output_type": "execute_result"
    }
   ],
   "source": [
    "# Basic properties\n",
    "# Object ~ string\n",
    "print(df.size, df.shape, df.columns)\n",
    "df.dtypes"
   ]
  },
  {
   "cell_type": "code",
   "execution_count": 57,
   "metadata": {
    "slideshow": {
     "slide_type": "slide"
    }
   },
   "outputs": [
    {
     "name": "stdout",
     "output_type": "stream",
     "text": [
      "<class 'pandas.core.frame.DataFrame'>\n",
      "RangeIndex: 936 entries, 0 to 935\n",
      "Data columns (total 10 columns):\n",
      " #   Column         Non-Null Count  Dtype  \n",
      "---  ------         --------------  -----  \n",
      " 0   Observation    936 non-null    int64  \n",
      " 1   Dist_Taxi      923 non-null    float64\n",
      " 2   Dist_Market    923 non-null    float64\n",
      " 3   Dist_Hospital  935 non-null    float64\n",
      " 4   Carpet         928 non-null    float64\n",
      " 5   Builtup        921 non-null    float64\n",
      " 6   Parking        936 non-null    object \n",
      " 7   City_Category  936 non-null    object \n",
      " 8   Rainfall       936 non-null    int64  \n",
      " 9   House_Price    936 non-null    int64  \n",
      "dtypes: float64(5), int64(3), object(2)\n",
      "memory usage: 73.2+ KB\n"
     ]
    }
   ],
   "source": [
    "df.info()"
   ]
  },
  {
   "cell_type": "code",
   "execution_count": 58,
   "metadata": {
    "slideshow": {
     "slide_type": "slide"
    }
   },
   "outputs": [
    {
     "data": {
      "text/html": [
       "<div>\n",
       "<style scoped>\n",
       "    .dataframe tbody tr th:only-of-type {\n",
       "        vertical-align: middle;\n",
       "    }\n",
       "\n",
       "    .dataframe tbody tr th {\n",
       "        vertical-align: top;\n",
       "    }\n",
       "\n",
       "    .dataframe thead th {\n",
       "        text-align: right;\n",
       "    }\n",
       "</style>\n",
       "<table border=\"1\" class=\"dataframe\">\n",
       "  <thead>\n",
       "    <tr style=\"text-align: right;\">\n",
       "      <th></th>\n",
       "      <th>Observation</th>\n",
       "      <th>Dist_Taxi</th>\n",
       "      <th>Dist_Market</th>\n",
       "      <th>Dist_Hospital</th>\n",
       "      <th>Carpet</th>\n",
       "      <th>Builtup</th>\n",
       "      <th>Parking</th>\n",
       "      <th>City_Category</th>\n",
       "      <th>Rainfall</th>\n",
       "      <th>House_Price</th>\n",
       "    </tr>\n",
       "  </thead>\n",
       "  <tbody>\n",
       "    <tr>\n",
       "      <th>0</th>\n",
       "      <td>1</td>\n",
       "      <td>9796.0</td>\n",
       "      <td>5250.0</td>\n",
       "      <td>10703.0</td>\n",
       "      <td>1659.0</td>\n",
       "      <td>1961.0</td>\n",
       "      <td>Open</td>\n",
       "      <td>CAT B</td>\n",
       "      <td>530</td>\n",
       "      <td>6649000</td>\n",
       "    </tr>\n",
       "    <tr>\n",
       "      <th>1</th>\n",
       "      <td>2</td>\n",
       "      <td>8294.0</td>\n",
       "      <td>8186.0</td>\n",
       "      <td>12694.0</td>\n",
       "      <td>1461.0</td>\n",
       "      <td>1752.0</td>\n",
       "      <td>Not Provided</td>\n",
       "      <td>CAT B</td>\n",
       "      <td>210</td>\n",
       "      <td>3982000</td>\n",
       "    </tr>\n",
       "    <tr>\n",
       "      <th>2</th>\n",
       "      <td>3</td>\n",
       "      <td>11001.0</td>\n",
       "      <td>14399.0</td>\n",
       "      <td>16991.0</td>\n",
       "      <td>1340.0</td>\n",
       "      <td>1609.0</td>\n",
       "      <td>Not Provided</td>\n",
       "      <td>CAT A</td>\n",
       "      <td>720</td>\n",
       "      <td>5401000</td>\n",
       "    </tr>\n",
       "    <tr>\n",
       "      <th>3</th>\n",
       "      <td>4</td>\n",
       "      <td>8301.0</td>\n",
       "      <td>11188.0</td>\n",
       "      <td>12289.0</td>\n",
       "      <td>1451.0</td>\n",
       "      <td>1748.0</td>\n",
       "      <td>Covered</td>\n",
       "      <td>CAT B</td>\n",
       "      <td>620</td>\n",
       "      <td>5373000</td>\n",
       "    </tr>\n",
       "    <tr>\n",
       "      <th>4</th>\n",
       "      <td>5</td>\n",
       "      <td>10510.0</td>\n",
       "      <td>12629.0</td>\n",
       "      <td>13921.0</td>\n",
       "      <td>1770.0</td>\n",
       "      <td>2111.0</td>\n",
       "      <td>Not Provided</td>\n",
       "      <td>CAT B</td>\n",
       "      <td>450</td>\n",
       "      <td>4662000</td>\n",
       "    </tr>\n",
       "  </tbody>\n",
       "</table>\n",
       "</div>"
      ],
      "text/plain": [
       "   Observation  Dist_Taxi  Dist_Market  Dist_Hospital  Carpet  Builtup  \\\n",
       "0            1     9796.0       5250.0        10703.0  1659.0   1961.0   \n",
       "1            2     8294.0       8186.0        12694.0  1461.0   1752.0   \n",
       "2            3    11001.0      14399.0        16991.0  1340.0   1609.0   \n",
       "3            4     8301.0      11188.0        12289.0  1451.0   1748.0   \n",
       "4            5    10510.0      12629.0        13921.0  1770.0   2111.0   \n",
       "\n",
       "        Parking City_Category  Rainfall  House_Price  \n",
       "0          Open         CAT B       530      6649000  \n",
       "1  Not Provided         CAT B       210      3982000  \n",
       "2  Not Provided         CAT A       720      5401000  \n",
       "3       Covered         CAT B       620      5373000  \n",
       "4  Not Provided         CAT B       450      4662000  "
      ]
     },
     "execution_count": 58,
     "metadata": {},
     "output_type": "execute_result"
    }
   ],
   "source": [
    "df.head()"
   ]
  },
  {
   "cell_type": "code",
   "execution_count": 59,
   "metadata": {},
   "outputs": [
    {
     "name": "stdout",
     "output_type": "stream",
     "text": [
      "0 Open 530\n",
      "1 Not Provided 210\n",
      "2 Not Provided 720\n",
      "3 Covered 620\n",
      "4 Not Provided 450\n"
     ]
    }
   ],
   "source": [
    "# iterating Dataframe\n",
    "for i, d in df.iterrows():\n",
    "    print(i, d.Parking, d['Rainfall'])\n",
    "    if i>3:\n",
    "        break"
   ]
  },
  {
   "cell_type": "code",
   "execution_count": 60,
   "metadata": {},
   "outputs": [
    {
     "data": {
      "text/html": [
       "<div>\n",
       "<style scoped>\n",
       "    .dataframe tbody tr th:only-of-type {\n",
       "        vertical-align: middle;\n",
       "    }\n",
       "\n",
       "    .dataframe tbody tr th {\n",
       "        vertical-align: top;\n",
       "    }\n",
       "\n",
       "    .dataframe thead th {\n",
       "        text-align: right;\n",
       "    }\n",
       "</style>\n",
       "<table border=\"1\" class=\"dataframe\">\n",
       "  <thead>\n",
       "    <tr style=\"text-align: right;\">\n",
       "      <th></th>\n",
       "      <th>Observation</th>\n",
       "      <th>Dist_Taxi</th>\n",
       "      <th>Dist_Market</th>\n",
       "      <th>Dist_Hospital</th>\n",
       "      <th>Carpet</th>\n",
       "      <th>Builtup</th>\n",
       "      <th>Parking</th>\n",
       "      <th>City_Category</th>\n",
       "      <th>Rainfall</th>\n",
       "      <th>House_Price</th>\n",
       "    </tr>\n",
       "  </thead>\n",
       "  <tbody>\n",
       "    <tr>\n",
       "      <th>0</th>\n",
       "      <td>1</td>\n",
       "      <td>9796.0</td>\n",
       "      <td>5250.0</td>\n",
       "      <td>10703.0</td>\n",
       "      <td>1659.0</td>\n",
       "      <td>1961.0</td>\n",
       "      <td>Open</td>\n",
       "      <td>CAT B</td>\n",
       "      <td>999999</td>\n",
       "      <td>6649000</td>\n",
       "    </tr>\n",
       "    <tr>\n",
       "      <th>1</th>\n",
       "      <td>2</td>\n",
       "      <td>8294.0</td>\n",
       "      <td>8186.0</td>\n",
       "      <td>12694.0</td>\n",
       "      <td>1461.0</td>\n",
       "      <td>1752.0</td>\n",
       "      <td>Not Provided</td>\n",
       "      <td>CAT B</td>\n",
       "      <td>210</td>\n",
       "      <td>3982000</td>\n",
       "    </tr>\n",
       "    <tr>\n",
       "      <th>2</th>\n",
       "      <td>3</td>\n",
       "      <td>11001.0</td>\n",
       "      <td>14399.0</td>\n",
       "      <td>16991.0</td>\n",
       "      <td>1340.0</td>\n",
       "      <td>1609.0</td>\n",
       "      <td>Not Provided</td>\n",
       "      <td>CAT A</td>\n",
       "      <td>720</td>\n",
       "      <td>5401000</td>\n",
       "    </tr>\n",
       "    <tr>\n",
       "      <th>3</th>\n",
       "      <td>4</td>\n",
       "      <td>8301.0</td>\n",
       "      <td>11188.0</td>\n",
       "      <td>12289.0</td>\n",
       "      <td>1451.0</td>\n",
       "      <td>1748.0</td>\n",
       "      <td>Covered</td>\n",
       "      <td>CAT B</td>\n",
       "      <td>620</td>\n",
       "      <td>5373000</td>\n",
       "    </tr>\n",
       "    <tr>\n",
       "      <th>4</th>\n",
       "      <td>5</td>\n",
       "      <td>10510.0</td>\n",
       "      <td>12629.0</td>\n",
       "      <td>13921.0</td>\n",
       "      <td>1770.0</td>\n",
       "      <td>2111.0</td>\n",
       "      <td>Not Provided</td>\n",
       "      <td>CAT B</td>\n",
       "      <td>450</td>\n",
       "      <td>4662000</td>\n",
       "    </tr>\n",
       "  </tbody>\n",
       "</table>\n",
       "</div>"
      ],
      "text/plain": [
       "   Observation  Dist_Taxi  Dist_Market  Dist_Hospital  Carpet  Builtup  \\\n",
       "0            1     9796.0       5250.0        10703.0  1659.0   1961.0   \n",
       "1            2     8294.0       8186.0        12694.0  1461.0   1752.0   \n",
       "2            3    11001.0      14399.0        16991.0  1340.0   1609.0   \n",
       "3            4     8301.0      11188.0        12289.0  1451.0   1748.0   \n",
       "4            5    10510.0      12629.0        13921.0  1770.0   2111.0   \n",
       "\n",
       "        Parking City_Category  Rainfall  House_Price  \n",
       "0          Open         CAT B    999999      6649000  \n",
       "1  Not Provided         CAT B       210      3982000  \n",
       "2  Not Provided         CAT A       720      5401000  \n",
       "3       Covered         CAT B       620      5373000  \n",
       "4  Not Provided         CAT B       450      4662000  "
      ]
     },
     "execution_count": 60,
     "metadata": {},
     "output_type": "execute_result"
    }
   ],
   "source": [
    "# Accessing and Modifiying the element\n",
    "df.loc[0, 'Rainfall'] = 999999\n",
    "df.head()"
   ]
  },
  {
   "cell_type": "code",
   "execution_count": 61,
   "metadata": {},
   "outputs": [
    {
     "data": {
      "text/html": [
       "<div>\n",
       "<style scoped>\n",
       "    .dataframe tbody tr th:only-of-type {\n",
       "        vertical-align: middle;\n",
       "    }\n",
       "\n",
       "    .dataframe tbody tr th {\n",
       "        vertical-align: top;\n",
       "    }\n",
       "\n",
       "    .dataframe thead th {\n",
       "        text-align: right;\n",
       "    }\n",
       "</style>\n",
       "<table border=\"1\" class=\"dataframe\">\n",
       "  <thead>\n",
       "    <tr style=\"text-align: right;\">\n",
       "      <th></th>\n",
       "      <th>0</th>\n",
       "      <th>1</th>\n",
       "      <th>2</th>\n",
       "      <th>3</th>\n",
       "      <th>4</th>\n",
       "    </tr>\n",
       "  </thead>\n",
       "  <tbody>\n",
       "    <tr>\n",
       "      <th>Observation</th>\n",
       "      <td>1</td>\n",
       "      <td>2</td>\n",
       "      <td>3</td>\n",
       "      <td>4</td>\n",
       "      <td>5</td>\n",
       "    </tr>\n",
       "    <tr>\n",
       "      <th>Dist_Taxi</th>\n",
       "      <td>9796</td>\n",
       "      <td>8294</td>\n",
       "      <td>11001</td>\n",
       "      <td>8301</td>\n",
       "      <td>10510</td>\n",
       "    </tr>\n",
       "    <tr>\n",
       "      <th>Dist_Market</th>\n",
       "      <td>5250</td>\n",
       "      <td>8186</td>\n",
       "      <td>14399</td>\n",
       "      <td>11188</td>\n",
       "      <td>12629</td>\n",
       "    </tr>\n",
       "    <tr>\n",
       "      <th>Dist_Hospital</th>\n",
       "      <td>10703</td>\n",
       "      <td>12694</td>\n",
       "      <td>16991</td>\n",
       "      <td>12289</td>\n",
       "      <td>13921</td>\n",
       "    </tr>\n",
       "    <tr>\n",
       "      <th>Carpet</th>\n",
       "      <td>1659</td>\n",
       "      <td>1461</td>\n",
       "      <td>1340</td>\n",
       "      <td>1451</td>\n",
       "      <td>1770</td>\n",
       "    </tr>\n",
       "    <tr>\n",
       "      <th>Builtup</th>\n",
       "      <td>1961</td>\n",
       "      <td>1752</td>\n",
       "      <td>1609</td>\n",
       "      <td>1748</td>\n",
       "      <td>2111</td>\n",
       "    </tr>\n",
       "    <tr>\n",
       "      <th>Parking</th>\n",
       "      <td>Open</td>\n",
       "      <td>Not Provided</td>\n",
       "      <td>Not Provided</td>\n",
       "      <td>Covered</td>\n",
       "      <td>Not Provided</td>\n",
       "    </tr>\n",
       "    <tr>\n",
       "      <th>City_Category</th>\n",
       "      <td>CAT B</td>\n",
       "      <td>CAT B</td>\n",
       "      <td>CAT A</td>\n",
       "      <td>CAT B</td>\n",
       "      <td>CAT B</td>\n",
       "    </tr>\n",
       "    <tr>\n",
       "      <th>Rainfall</th>\n",
       "      <td>999999</td>\n",
       "      <td>210</td>\n",
       "      <td>720</td>\n",
       "      <td>620</td>\n",
       "      <td>450</td>\n",
       "    </tr>\n",
       "    <tr>\n",
       "      <th>House_Price</th>\n",
       "      <td>6649000</td>\n",
       "      <td>3982000</td>\n",
       "      <td>5401000</td>\n",
       "      <td>5373000</td>\n",
       "      <td>4662000</td>\n",
       "    </tr>\n",
       "  </tbody>\n",
       "</table>\n",
       "</div>"
      ],
      "text/plain": [
       "                     0             1             2        3             4\n",
       "Observation          1             2             3        4             5\n",
       "Dist_Taxi         9796          8294         11001     8301         10510\n",
       "Dist_Market       5250          8186         14399    11188         12629\n",
       "Dist_Hospital    10703         12694         16991    12289         13921\n",
       "Carpet            1659          1461          1340     1451          1770\n",
       "Builtup           1961          1752          1609     1748          2111\n",
       "Parking           Open  Not Provided  Not Provided  Covered  Not Provided\n",
       "City_Category    CAT B         CAT B         CAT A    CAT B         CAT B\n",
       "Rainfall        999999           210           720      620           450\n",
       "House_Price    6649000       3982000       5401000  5373000       4662000"
      ]
     },
     "execution_count": 61,
     "metadata": {},
     "output_type": "execute_result"
    }
   ],
   "source": [
    "# Transpose\n",
    "df.head().transpose()"
   ]
  },
  {
   "cell_type": "markdown",
   "metadata": {},
   "source": [
    "# Terkait DataFrame, silahkan akses https://tau-data.id/eda-01/ dan https://tau-data.id/eda-02/ untuk mendapatkan pengetahuan lebih lanjut tentangnya. "
   ]
  },
  {
   "cell_type": "markdown",
   "metadata": {
    "slideshow": {
     "slide_type": "slide"
    }
   },
   "source": [
    "<h1 id=\"End-of-Modul-I.\">End of Module</h1>\n",
    "\n",
    "<h2>Next Lesson ADSP-04: Data Science Teamwork via Python</h2>\n",
    "\n",
    "<hr />\n",
    "<p><img alt=\"\" src=\"images/meme_7.png\" /></p>\n"
   ]
  }
 ],
 "metadata": {
  "celltoolbar": "Slideshow",
  "kernelspec": {
   "display_name": "Python 3",
   "language": "python",
   "name": "python3"
  },
  "language_info": {
   "codemirror_mode": {
    "name": "ipython",
    "version": 3
   },
   "file_extension": ".py",
   "mimetype": "text/x-python",
   "name": "python",
   "nbconvert_exporter": "python",
   "pygments_lexer": "ipython3",
   "version": "3.6.8"
  }
 },
 "nbformat": 4,
 "nbformat_minor": 2
}
