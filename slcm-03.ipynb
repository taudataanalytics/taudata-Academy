{
 "cells": [
  {
   "cell_type": "markdown",
   "metadata": {},
   "source": [
    "<center><h1><strong>taudata Analytics</strong></h1></center>\n",
    "<center><h2><strong><font color=\"blue\">Supervised Learning - Classification 03</font></strong></h2></center>\n",
    "<img alt=\"\" src=\"images/covers/taudata-cover.jpg\"/>\n",
    "\n",
    "<b><center>(C) Taufik Sutanto</center>\n",
    "<center><h3><font color=\"blue\">https://taudata.blogspot.com/2022/04/slcm-03.html</font></h3></center>\n",
    "    \n",
    "<center><font color=\"blue\">Ensemble and Imbalance learning</font></center>"
   ]
  },
  {
   "cell_type": "code",
   "execution_count": 8,
   "metadata": {},
   "outputs": [
    {
     "name": "stdout",
     "output_type": "stream",
     "text": [
      "Detecting environment:  Running the code locally.\n"
     ]
    }
   ],
   "source": [
    "print(\"Detecting environment: \", end=' ')\n",
    "try:\n",
    "    import google.colab\n",
    "    IN_COLAB = True\n",
    "    print(\"Running the code in Google Colab. Installing and downloading dependencies.\\nPlease wait...\")\n",
    "    !pip install --upgrade pandas\n",
    "except:\n",
    "    IN_COLAB = False\n",
    "    print(\"Running the code locally.\")\n",
    "# Please visit https://github.com/taudataid/PINN-DCAI for further detail such as requirements.txt file."
   ]
  },
  {
   "cell_type": "code",
   "execution_count": 9,
   "metadata": {},
   "outputs": [
    {
     "name": "stdout",
     "output_type": "stream",
     "text": [
      "1.3.4\n"
     ]
    },
    {
     "data": {
      "text/plain": [
       "'Done'"
      ]
     },
     "execution_count": 9,
     "metadata": {},
     "output_type": "execute_result"
    }
   ],
   "source": [
    "# Loading Modules\n",
    "import warnings; warnings.simplefilter('ignore')\n",
    "import pickle, time, numpy as np, seaborn as sns\n",
    "import pandas as pd, matplotlib.pyplot as plt \n",
    "from sklearn import svm, preprocessing\n",
    "from sklearn import  tree, neighbors\n",
    "from sklearn.naive_bayes import GaussianNB\n",
    "from sklearn.ensemble import RandomForestClassifier, AdaBoostClassifier\n",
    "from sklearn.linear_model import LogisticRegression\n",
    "from sklearn.svm import SVC\n",
    "from sklearn.model_selection import train_test_split\n",
    "from sklearn.metrics import confusion_matrix, classification_report\n",
    "from sklearn.metrics import precision_score, recall_score, f1_score, accuracy_score\n",
    "from sklearn.model_selection import cross_val_score, RandomizedSearchCV, GridSearchCV\n",
    "from sklearn.pipeline import make_pipeline \n",
    "from sklearn.ensemble import VotingClassifier\n",
    "from sklearn import model_selection\n",
    "from collections import Counter\n",
    "from tqdm import tqdm\n",
    "sns.set(style=\"ticks\", color_codes=True)\n",
    "print(pd.__version__)\n",
    "\"Done\""
   ]
  },
  {
   "cell_type": "code",
   "execution_count": 10,
   "metadata": {},
   "outputs": [
    {
     "name": "stdout",
     "output_type": "stream",
     "text": [
      "(768, 9) {0, 1}\n"
     ]
    },
    {
     "data": {
      "text/html": [
       "<div>\n",
       "<style scoped>\n",
       "    .dataframe tbody tr th:only-of-type {\n",
       "        vertical-align: middle;\n",
       "    }\n",
       "\n",
       "    .dataframe tbody tr th {\n",
       "        vertical-align: top;\n",
       "    }\n",
       "\n",
       "    .dataframe thead th {\n",
       "        text-align: right;\n",
       "    }\n",
       "</style>\n",
       "<table border=\"1\" class=\"dataframe\">\n",
       "  <thead>\n",
       "    <tr style=\"text-align: right;\">\n",
       "      <th></th>\n",
       "      <th>preg</th>\n",
       "      <th>plas</th>\n",
       "      <th>pres</th>\n",
       "      <th>skin</th>\n",
       "      <th>test</th>\n",
       "      <th>mass</th>\n",
       "      <th>pedi</th>\n",
       "      <th>age</th>\n",
       "      <th>class</th>\n",
       "    </tr>\n",
       "  </thead>\n",
       "  <tbody>\n",
       "    <tr>\n",
       "      <th>40</th>\n",
       "      <td>3</td>\n",
       "      <td>180</td>\n",
       "      <td>64</td>\n",
       "      <td>25</td>\n",
       "      <td>70</td>\n",
       "      <td>34.0</td>\n",
       "      <td>0.271</td>\n",
       "      <td>26</td>\n",
       "      <td>0</td>\n",
       "    </tr>\n",
       "    <tr>\n",
       "      <th>643</th>\n",
       "      <td>4</td>\n",
       "      <td>90</td>\n",
       "      <td>0</td>\n",
       "      <td>0</td>\n",
       "      <td>0</td>\n",
       "      <td>28.0</td>\n",
       "      <td>0.610</td>\n",
       "      <td>31</td>\n",
       "      <td>0</td>\n",
       "    </tr>\n",
       "    <tr>\n",
       "      <th>623</th>\n",
       "      <td>0</td>\n",
       "      <td>94</td>\n",
       "      <td>70</td>\n",
       "      <td>27</td>\n",
       "      <td>115</td>\n",
       "      <td>43.5</td>\n",
       "      <td>0.347</td>\n",
       "      <td>21</td>\n",
       "      <td>0</td>\n",
       "    </tr>\n",
       "    <tr>\n",
       "      <th>629</th>\n",
       "      <td>4</td>\n",
       "      <td>94</td>\n",
       "      <td>65</td>\n",
       "      <td>22</td>\n",
       "      <td>0</td>\n",
       "      <td>24.7</td>\n",
       "      <td>0.148</td>\n",
       "      <td>21</td>\n",
       "      <td>0</td>\n",
       "    </tr>\n",
       "    <tr>\n",
       "      <th>294</th>\n",
       "      <td>0</td>\n",
       "      <td>161</td>\n",
       "      <td>50</td>\n",
       "      <td>0</td>\n",
       "      <td>0</td>\n",
       "      <td>21.9</td>\n",
       "      <td>0.254</td>\n",
       "      <td>65</td>\n",
       "      <td>0</td>\n",
       "    </tr>\n",
       "  </tbody>\n",
       "</table>\n",
       "</div>"
      ],
      "text/plain": [
       "     preg  plas  pres  skin  test  mass   pedi  age  class\n",
       "40      3   180    64    25    70  34.0  0.271   26      0\n",
       "643     4    90     0     0     0  28.0  0.610   31      0\n",
       "623     0    94    70    27   115  43.5  0.347   21      0\n",
       "629     4    94    65    22     0  24.7  0.148   21      0\n",
       "294     0   161    50     0     0  21.9  0.254   65      0"
      ]
     },
     "execution_count": 10,
     "metadata": {},
     "output_type": "execute_result"
    }
   ],
   "source": [
    "names = ['preg', 'plas', 'pres', 'skin', 'test', 'mass', 'pedi', 'age', 'class']\n",
    "file = 'data/diabetes_data.csv'\n",
    "\n",
    "try:\n",
    "    # Local jupyter notebook, assuming \"file\" is in the \"data\" directory\n",
    "    data = pd.read_csv(file, names=names)\n",
    "except:\n",
    "    # it's a google colab... create folder data and then download the file from github\n",
    "    !mkdir data\n",
    "    !wget -P data/ https://raw.githubusercontent.com/taudata-indonesia/eLearning/master/{file}\n",
    "    data = pd.read_csv(file, names=names)\n",
    "    \n",
    "print(data.shape, set(data['class']))\n",
    "data.sample(5)"
   ]
  },
  {
   "cell_type": "code",
   "execution_count": 11,
   "metadata": {},
   "outputs": [
    {
     "name": "stdout",
     "output_type": "stream",
     "text": [
      "{0.0, 1.0}, (614, 8), (154, 8)\n"
     ]
    }
   ],
   "source": [
    "# Split Train-Test\n",
    "\n",
    "X = data.values[:,:8]  # Slice data (perhatikan disini struktur data adalah Numpy Array)\n",
    "Y = data.values[:,8]\n",
    "x_train, x_test, y_train, y_test = train_test_split(X, Y, test_size=0.2, random_state=99)\n",
    "\n",
    "print(set(Y), x_train.shape, x_test.shape, sep=', ')"
   ]
  },
  {
   "cell_type": "markdown",
   "metadata": {},
   "source": [
    "# <center><font color=\"blue\">Ensemble Model</font></center>\n",
    "\n",
    "<ul>\n",
    "\t<li>What? a learning algorithms that construct a set of classifiers and then classify new data points by taking a (weighted) vote of their predictions.</li>\n",
    "\t<li>Why? Better prediction, More stable model</li>\n",
    "\t<li>How? Bagging &amp; Boosting</li>\n",
    "</ul>\n",
    "<img alt=\"\" src=\"images/Ensemble.png\" style=\"width: 500px; height: 213px;\" />"
   ]
  },
  {
   "cell_type": "markdown",
   "metadata": {},
   "source": [
    "# <center><font color=\"blue\">“meta-algorithms” : Bagging & Boosting</font></center>\n",
    "\n",
    "<p><img style=\"undefined: undefined;\" src=\"images/Bagging_VS_Boosting.png\" alt=\"\" width=\"911\" height=\"337\" /></p>\n",
    "\n",
    "* Ensemble https://www.youtube.com/watch?v=Un9zObFjBH0 \n",
    "* Bagging https://www.youtube.com/watch?v=2Mg8QD0F1dQ \n",
    "* Boosting https://www.youtube.com/watch?v=GM3CDQfQ4sw"
   ]
  },
  {
   "cell_type": "markdown",
   "metadata": {},
   "source": [
    "# <center><font color=\"blue\">Property of Boosting</font></center>\n",
    "<img alt=\"\" src=\"images/Bagging-Boosting_Usage.png\" style=\"width: 500px; height: 281px;\" />"
   ]
  },
  {
   "cell_type": "markdown",
   "metadata": {},
   "source": [
    "# <center><font color=\"blue\">AdaBoost</font></center>\n",
    "<ul>\n",
    "\t<li><a href=\"https://youtu.be/BoGNyWW9-mE?t=70\" target=\"_blank\">https://youtu.be/BoGNyWW9-mE?t=70</a></li>\n",
    "</ul>\n",
    "<img alt=\"\" src=\"images/AdaBoost.png\" style=\"width: 400px; height: 332px;\" />"
   ]
  },
  {
   "cell_type": "code",
   "execution_count": 12,
   "metadata": {},
   "outputs": [
    {
     "name": "stdout",
     "output_type": "stream",
     "text": [
      "Akurasi k-NN 0.7142857142857143\n",
      "Akurasi Decision Tree 0.6818181818181818\n",
      "Akurasi Votting 0.7337662337662337\n"
     ]
    }
   ],
   "source": [
    "# Contoh Voting (Bagging) di Python\n",
    "# Catatan : Random Forest termasuk Bagging Ensemble (walau modified)\n",
    "# Best practicenya Model yang di ensemble semuanya menggunakan Optimal Parameter\n",
    "\n",
    "kNN = neighbors.KNeighborsClassifier(3)\n",
    "kNN.fit(x_train, y_train)\n",
    "Y_kNN = kNN.score(x_test, y_test)\n",
    "\n",
    "DT = tree.DecisionTreeClassifier(random_state=1)\n",
    "DT.fit(x_train, y_train)\n",
    "Y_DT = DT.score(x_test, y_test)\n",
    "\n",
    "model = VotingClassifier(estimators=[('k-NN', kNN), ('Decision Tree', DT)], voting='hard')\n",
    "model.fit(x_train,y_train)\n",
    "Y_Vot = model.score(x_test,y_test)\n",
    "\n",
    "print('Akurasi k-NN', Y_kNN)\n",
    "print('Akurasi Decision Tree', Y_DT)\n",
    "print('Akurasi Votting', Y_Vot)"
   ]
  },
  {
   "cell_type": "code",
   "execution_count": 13,
   "metadata": {},
   "outputs": [
    {
     "name": "stdout",
     "output_type": "stream",
     "text": [
      "[[0.86747807 0.13252193]\n",
      " [0.96569616 0.03430384]\n",
      " [0.90409317 0.09590683]\n",
      " [0.81735062 0.18264938]\n",
      " [0.97683155 0.02316845]]\n",
      "[0, 0, 0, 0, 0]\n",
      "Akurasi Averaging 0.7402597402597403\n"
     ]
    }
   ],
   "source": [
    "# Averaging juga bisa digunakan di Klasifikasi (ndak hanya Regresi), \n",
    "# tapi kita pakai probabilitas dari setiap kategori\n",
    "T = tree.DecisionTreeClassifier()\n",
    "K = neighbors.KNeighborsClassifier()\n",
    "R = LogisticRegression()\n",
    "\n",
    "T.fit(x_train,y_train)\n",
    "K.fit(x_train,y_train)\n",
    "R.fit(x_train,y_train)\n",
    "\n",
    "y_T=T.predict_proba(x_test)\n",
    "y_K=K.predict_proba(x_test)\n",
    "y_R=R.predict_proba(x_test)\n",
    "\n",
    "Ave = (y_T+y_K+y_R)/3\n",
    "print(Ave[:5]) # Print just first 5\n",
    "prediction = [v.index(max(v)) for v in Ave.tolist()]\n",
    "print(prediction[:5]) # Print just first 5\n",
    "print('Akurasi Averaging', accuracy_score(y_test, prediction))"
   ]
  },
  {
   "cell_type": "code",
   "execution_count": 14,
   "metadata": {},
   "outputs": [
    {
     "name": "stdout",
     "output_type": "stream",
     "text": [
      "0.7421565276828435\n"
     ]
    }
   ],
   "source": [
    "# AdaBoost\n",
    "num_trees = 100\n",
    "kfold = model_selection.KFold(n_splits=10)\n",
    "model = AdaBoostClassifier(n_estimators=num_trees, random_state=33)\n",
    "results = model_selection.cross_val_score(model, X, Y, cv=kfold)\n",
    "print(results.mean())"
   ]
  },
  {
   "cell_type": "markdown",
   "metadata": {},
   "source": [
    "# <center><font color=\"blue\">Imbalance Data</font></center>\n",
    "\n",
    "* Metric Trap\n",
    "* Akurasi kategori tertentu lebih penting\n",
    "* Contoh kasus\n",
    "<img alt=\"\" src=\"images/imbalance.png\" />"
   ]
  },
  {
   "cell_type": "markdown",
   "metadata": {},
   "source": [
    "# <center><font color=\"blue\">Imbalance Learning</font></center>\n",
    "\n",
    "<img alt=\"\" src=\"images/under-over-sampling.png\" style=\"width: 500px; height: 147px;\" />\n",
    "\n",
    "* Undersampling, Oversampling, Model Based (weight adjustment)\n",
    "* https://www.kaggle.com/rafjaa/resampling-strategies-for-imbalanced-datasets\n",
    "* Plot perbandingan: https://imbalanced-learn.readthedocs.io/en/stable/auto_examples/combine/plot_comparison_combine.html#sphx-glr-auto-examples-combine-plot-comparison-combine-py"
   ]
  },
  {
   "cell_type": "code",
   "execution_count": 15,
   "metadata": {},
   "outputs": [
    {
     "data": {
      "text/plain": [
       "Counter({1.0: 268, 0.0: 500})"
      ]
     },
     "execution_count": 15,
     "metadata": {},
     "output_type": "execute_result"
    }
   ],
   "source": [
    "Counter(Y)"
   ]
  },
  {
   "cell_type": "code",
   "execution_count": 16,
   "metadata": {},
   "outputs": [
    {
     "name": "stdout",
     "output_type": "stream",
     "text": [
      "[[93 12]\n",
      " [19 30]]\n",
      "              precision    recall  f1-score   support\n",
      "\n",
      "         0.0       0.83      0.89      0.86       105\n",
      "         1.0       0.71      0.61      0.66        49\n",
      "\n",
      "    accuracy                           0.80       154\n",
      "   macro avg       0.77      0.75      0.76       154\n",
      "weighted avg       0.79      0.80      0.79       154\n",
      "\n"
     ]
    }
   ],
   "source": [
    "# fit the model and get the separating hyperplane using weighted classes\n",
    "\n",
    "svm_ = svm.SVC(kernel='linear')\n",
    "svm_.fit(x_train, y_train)\n",
    "y_SVMib = svm_.predict(x_test)\n",
    "\n",
    "print(confusion_matrix(y_test, y_SVMib))\n",
    "print(classification_report(y_test, y_SVMib))"
   ]
  },
  {
   "cell_type": "code",
   "execution_count": 17,
   "metadata": {},
   "outputs": [
    {
     "name": "stdout",
     "output_type": "stream",
     "text": [
      "[[67 38]\n",
      " [ 7 42]]\n",
      "              precision    recall  f1-score   support\n",
      "\n",
      "         0.0       0.91      0.64      0.75       105\n",
      "         1.0       0.53      0.86      0.65        49\n",
      "\n",
      "    accuracy                           0.71       154\n",
      "   macro avg       0.72      0.75      0.70       154\n",
      "weighted avg       0.78      0.71      0.72       154\n",
      "\n"
     ]
    }
   ],
   "source": [
    "# fit the model and get the separating hyperplane using weighted classes\n",
    "# x_train, x_test, y_train, y_test\n",
    "\n",
    "svm_balanced = svm.SVC(kernel='linear', class_weight={1: 3}) #WEIGHTED SVM\n",
    "svm_balanced.fit(x_train, y_train)\n",
    "y_SVMb = svm_balanced.predict(x_test)\n",
    "\n",
    "print(confusion_matrix(y_test, y_SVMb))\n",
    "print(classification_report(y_test, y_SVMb))"
   ]
  },
  {
   "cell_type": "code",
   "execution_count": 18,
   "metadata": {},
   "outputs": [
    {
     "data": {
      "image/png": "[encoded data removed]",
      "text/plain": [
       "<Figure size 432x288 with 1 Axes>"
      ]
     },
     "metadata": {},
     "output_type": "display_data"
    }
   ],
   "source": [
    "# Example of model-based imbalance treatment - SVM\n",
    "from sklearn.datasets import make_blobs\n",
    "n_samples_1, n_samples_2 = 1000, 100\n",
    "centers = [[0.0, 0.0], [2.0, 2.0]]\n",
    "clusters_std = [1.5, 0.5]\n",
    "X, y = make_blobs(n_samples=[n_samples_1, n_samples_2],centers=centers,cluster_std=clusters_std,random_state=33, shuffle=False)\n",
    "\n",
    "# fit the model and get the separating hyperplane\n",
    "clf = svm.SVC(kernel='linear', C=1.0)\n",
    "clf.fit(X, y)\n",
    "\n",
    "# fit the model and get the separating hyperplane using weighted classes\n",
    "wclf = svm.SVC(kernel='linear', class_weight={1: 10}) #WEIGHTED SVM\n",
    "wclf.fit(X, y)\n",
    "\n",
    "plt.scatter(X[:, 0], X[:, 1], c=y, cmap=plt.cm.Paired, edgecolors='k')# plot the samples\n",
    "ax = plt.gca()# plot the decision functions for both classifiers\n",
    "xlim = ax.get_xlim(); ylim = ax.get_ylim()\n",
    "xx = np.linspace(xlim[0], xlim[1], 30)# create grid to evaluate model\n",
    "yy = np.linspace(ylim[0], ylim[1], 30)\n",
    "YY, XX = np.meshgrid(yy, xx)\n",
    "xy = np.vstack([XX.ravel(), YY.ravel()]).T\n",
    "Z = clf.decision_function(xy).reshape(XX.shape)# get the separating hyperplane\n",
    "a = ax.contour(XX, YY, Z, colors='k', levels=[0], alpha=0.5, linestyles=['-']) # plot decision boundary and margins\n",
    "Z = wclf.decision_function(xy).reshape(XX.shape)# get the separating hyperplane for weighted classes\n",
    "b = ax.contour(XX, YY, Z, colors='r', levels=[0], alpha=0.5, linestyles=['-'])# plot decision boundary and margins for weighted classes\n",
    "plt.legend([a.collections[0], b.collections[0]], [\"non weighted\", \"weighted\"], loc=\"upper right\")\n",
    "plt.show()"
   ]
  },
  {
   "cell_type": "markdown",
   "metadata": {},
   "source": [
    "# <center><font color=\"blue\">Weighted Decision Tree</font></center>"
   ]
  },
  {
   "cell_type": "code",
   "execution_count": 19,
   "metadata": {},
   "outputs": [
    {
     "name": "stdout",
     "output_type": "stream",
     "text": [
      "Akurasi  (Decision tree Biasa) =  0.6883116883116883\n",
      "              precision    recall  f1-score   support\n",
      "\n",
      "         0.0       0.79      0.73      0.76       105\n",
      "         1.0       0.51      0.59      0.55        49\n",
      "\n",
      "    accuracy                           0.69       154\n",
      "   macro avg       0.65      0.66      0.65       154\n",
      "weighted avg       0.70      0.69      0.69       154\n",
      "\n",
      "Akurasi  (Weighted Decision tree) =  0.7207792207792207\n",
      "              precision    recall  f1-score   support\n",
      "\n",
      "         0.0       0.83      0.74      0.78       105\n",
      "         1.0       0.55      0.67      0.61        49\n",
      "\n",
      "    accuracy                           0.72       154\n",
      "   macro avg       0.69      0.71      0.69       154\n",
      "weighted avg       0.74      0.72      0.73       154\n",
      "\n"
     ]
    }
   ],
   "source": [
    "T = tree.DecisionTreeClassifier(random_state = 33)\n",
    "T.fit(x_train,y_train)\n",
    "y_DT = T.predict(x_test)\n",
    "print('Akurasi  (Decision tree Biasa) = ', accuracy_score(y_test, y_DT))\n",
    "print(classification_report(y_test, y_DT))\n",
    "\n",
    "T = tree.DecisionTreeClassifier(class_weight = 'balanced', random_state = 33)\n",
    "T.fit(x_train, y_train)\n",
    "y_DT = T.predict(x_test)\n",
    "print('Akurasi  (Weighted Decision tree) = ', accuracy_score(y_test, y_DT))\n",
    "print(classification_report(y_test, y_DT))"
   ]
  },
  {
   "cell_type": "markdown",
   "metadata": {},
   "source": [
    "# <center><font color=\"blue\"> Studi Kasus (Latihan) ENB2012: Prediksi Penggunaan Energi Gedung</font></center>\n",
    "\n",
    "<img src=\"images/buildings-by-calibrated-simulation.png\" alt=\"\" width=\"503\" height=\"377\" />\n",
    "\n",
    "# <font color=\"green\"> Task</font></center>\n",
    "\n",
    "* Filter data EcoTest dan pilih hanya yang kategori di variabel target muncul min 10 kali (heat-cat)\n",
    "* Lakukan EDA (Preprocessing dan visualisasi dasar)\n",
    "* Tentukan model terbaik (dengan parameter optimal dan cross validasi)\n",
    "* Hati-hati Naive Bayes, Decision Tree dan Random Forest tidak memerlukan one-hot encoding.\n",
    "* Gunakan Metric Micro F1-Score untuk menentukan model terbaiknya.\n",
    "\n",
    "# <font color=\"green\">Optional</font></center>\n",
    "* Coba bandingkan model terbaik diatas dengan model ensemble.\n",
    "* Apakah ada imbalance problem, coba atasi dengan over/under sampling."
   ]
  },
  {
   "cell_type": "code",
   "execution_count": 20,
   "metadata": {},
   "outputs": [
    {
     "name": "stdout",
     "output_type": "stream",
     "text": [
      "(768, 12)\n"
     ]
    },
    {
     "data": {
      "text/html": [
       "<div>\n",
       "<style scoped>\n",
       "    .dataframe tbody tr th:only-of-type {\n",
       "        vertical-align: middle;\n",
       "    }\n",
       "\n",
       "    .dataframe tbody tr th {\n",
       "        vertical-align: top;\n",
       "    }\n",
       "\n",
       "    .dataframe thead th {\n",
       "        text-align: right;\n",
       "    }\n",
       "</style>\n",
       "<table border=\"1\" class=\"dataframe\">\n",
       "  <thead>\n",
       "    <tr style=\"text-align: right;\">\n",
       "      <th></th>\n",
       "      <th>compactness</th>\n",
       "      <th>surface-area</th>\n",
       "      <th>wall-area</th>\n",
       "      <th>roof-area</th>\n",
       "      <th>overall-height</th>\n",
       "      <th>orientation</th>\n",
       "      <th>glazing-area</th>\n",
       "      <th>glazing-dist</th>\n",
       "      <th>heating-load</th>\n",
       "      <th>cooling-load</th>\n",
       "      <th>heat-cat</th>\n",
       "      <th>cool-cat</th>\n",
       "    </tr>\n",
       "  </thead>\n",
       "  <tbody>\n",
       "    <tr>\n",
       "      <th>375</th>\n",
       "      <td>0.66</td>\n",
       "      <td>759.5</td>\n",
       "      <td>318.5</td>\n",
       "      <td>220.5</td>\n",
       "      <td>3.5</td>\n",
       "      <td>5</td>\n",
       "      <td>0.25</td>\n",
       "      <td>2</td>\n",
       "      <td>13.00</td>\n",
       "      <td>15.87</td>\n",
       "      <td>13</td>\n",
       "      <td>15</td>\n",
       "    </tr>\n",
       "    <tr>\n",
       "      <th>636</th>\n",
       "      <td>0.82</td>\n",
       "      <td>612.5</td>\n",
       "      <td>318.5</td>\n",
       "      <td>147.0</td>\n",
       "      <td>7.0</td>\n",
       "      <td>2</td>\n",
       "      <td>0.40</td>\n",
       "      <td>3</td>\n",
       "      <td>28.67</td>\n",
       "      <td>32.43</td>\n",
       "      <td>28</td>\n",
       "      <td>32</td>\n",
       "    </tr>\n",
       "    <tr>\n",
       "      <th>201</th>\n",
       "      <td>0.86</td>\n",
       "      <td>588.0</td>\n",
       "      <td>294.0</td>\n",
       "      <td>147.0</td>\n",
       "      <td>7.0</td>\n",
       "      <td>3</td>\n",
       "      <td>0.10</td>\n",
       "      <td>4</td>\n",
       "      <td>25.37</td>\n",
       "      <td>31.76</td>\n",
       "      <td>25</td>\n",
       "      <td>31</td>\n",
       "    </tr>\n",
       "    <tr>\n",
       "      <th>542</th>\n",
       "      <td>0.82</td>\n",
       "      <td>612.5</td>\n",
       "      <td>318.5</td>\n",
       "      <td>147.0</td>\n",
       "      <td>7.0</td>\n",
       "      <td>4</td>\n",
       "      <td>0.40</td>\n",
       "      <td>1</td>\n",
       "      <td>29.53</td>\n",
       "      <td>28.99</td>\n",
       "      <td>29</td>\n",
       "      <td>28</td>\n",
       "    </tr>\n",
       "    <tr>\n",
       "      <th>506</th>\n",
       "      <td>0.74</td>\n",
       "      <td>686.0</td>\n",
       "      <td>245.0</td>\n",
       "      <td>220.5</td>\n",
       "      <td>3.5</td>\n",
       "      <td>4</td>\n",
       "      <td>0.25</td>\n",
       "      <td>5</td>\n",
       "      <td>11.64</td>\n",
       "      <td>14.81</td>\n",
       "      <td>11</td>\n",
       "      <td>14</td>\n",
       "    </tr>\n",
       "  </tbody>\n",
       "</table>\n",
       "</div>"
      ],
      "text/plain": [
       "     compactness  surface-area  wall-area  roof-area  overall-height  \\\n",
       "375         0.66         759.5      318.5      220.5             3.5   \n",
       "636         0.82         612.5      318.5      147.0             7.0   \n",
       "201         0.86         588.0      294.0      147.0             7.0   \n",
       "542         0.82         612.5      318.5      147.0             7.0   \n",
       "506         0.74         686.0      245.0      220.5             3.5   \n",
       "\n",
       "     orientation  glazing-area  glazing-dist  heating-load  cooling-load  \\\n",
       "375            5          0.25             2         13.00         15.87   \n",
       "636            2          0.40             3         28.67         32.43   \n",
       "201            3          0.10             4         25.37         31.76   \n",
       "542            4          0.40             1         29.53         28.99   \n",
       "506            4          0.25             5         11.64         14.81   \n",
       "\n",
       "     heat-cat  cool-cat  \n",
       "375        13        15  \n",
       "636        28        32  \n",
       "201        25        31  \n",
       "542        29        28  \n",
       "506        11        14  "
      ]
     },
     "execution_count": 20,
     "metadata": {},
     "output_type": "execute_result"
    }
   ],
   "source": [
    "file_ = \"data/building-energy-efficiency-ENB2012_data.csv\"\n",
    "\n",
    "try: # Running Locally, yakinkan \"file_\" berada di folder \"data\"\n",
    "    data = pd.read_csv(file_, error_bad_lines=False, low_memory = False, encoding='utf8')\n",
    "except: # Running in Google Colab\n",
    "    !mkdir data\n",
    "    !wget -P data/ https://raw.githubusercontent.com/taudata-indonesia/eLearning/master/{file_}\n",
    "    data = pd.read_csv(file_, error_bad_lines=False, low_memory = False, encoding='utf8')\n",
    "print(data.shape)\n",
    "data.sample(5)"
   ]
  },
  {
   "cell_type": "code",
   "execution_count": 21,
   "metadata": {},
   "outputs": [],
   "source": [
    "# Jawaban Latihan dimulai di cell ini\n"
   ]
  },
  {
   "cell_type": "markdown",
   "metadata": {},
   "source": [
    "# <center><font color=\"blue\"> Akhir Modul SLCM-03</font></center>\n",
    "\n",
    "<hr />\n",
    "<img alt=\"\" src=\"images/meme-cartoon/Meme Deep Learning SVM.jpg\" style=\"height: 400px;\"/>"
   ]
  }
 ],
 "metadata": {
  "celltoolbar": "Slideshow",
  "kernelspec": {
   "display_name": "Python 3 (ipykernel)",
   "language": "python",
   "name": "python3"
  },
  "language_info": {
   "codemirror_mode": {
    "name": "ipython",
    "version": 3
   },
   "file_extension": ".py",
   "mimetype": "text/x-python",
   "name": "python",
   "nbconvert_exporter": "python",
   "pygments_lexer": "ipython3",
   "version": "3.7.13"
  },
  "latex_envs": {
   "LaTeX_envs_menu_present": true,
   "autoclose": false,
   "autocomplete": true,
   "bibliofile": "biblio.bib",
   "cite_by": "apalike",
   "current_citInitial": 1,
   "eqLabelWithNumbers": true,
   "eqNumInitial": 1,
   "hotkeys": {
    "equation": "Ctrl-E",
    "itemize": "Ctrl-I"
   },
   "labels_anchors": false,
   "latex_user_defs": false,
   "report_style_numbering": false,
   "user_envs_cfg": false
  }
 },
 "nbformat": 4,
 "nbformat_minor": 4
}
