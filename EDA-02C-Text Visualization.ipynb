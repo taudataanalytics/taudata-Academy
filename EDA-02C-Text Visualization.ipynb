{
 "cells": [
  {
   "cell_type": "markdown",
   "metadata": {
    "slideshow": {
     "slide_type": "slide"
    }
   },
   "source": [
    "<center><h1><strong>taudata Analytics</strong></h1></center>\n",
    "<center><h2><strong><font color=\"blue\">Exploratory Data Analysis-02-C: Visualisasi Data Teks </font></strong></h2></center>\n",
    "<img alt=\"\" src=\"images/covers/taudata-cover.jpg\"/>\n",
    "\n",
    "<b><center>(C) Taufik Sutanto</center>\n",
    "<center><h3><font color=\"blue\">https://taudataid.github.io/eda-02C-TA/</font></h3></center>"
   ]
  },
  {
   "cell_type": "markdown",
   "metadata": {
    "slideshow": {
     "slide_type": "slide"
    }
   },
   "source": [
    "# <center><font color=\"blue\">Outline Visualisasi Teks Media Sosial</font></center>\n",
    "\n",
    "## <font color=\"green\">Text Visualization using Voyant Tools</font>\n",
    "* Word Clouds\n",
    "* Word Links\n",
    "* Word Context for Interpretation\n",
    "* Word Tree\n",
    "* Word Trends\n",
    "\n",
    "><font color=\"red\">\"*I always have a basic plot outline, but I like to leave some things to be decided while I write*.\" ~ J. K. Rowling</font>"
   ]
  },
  {
   "cell_type": "code",
   "execution_count": 1,
   "metadata": {
    "slideshow": {
     "slide_type": "slide"
    }
   },
   "outputs": [
    {
     "name": "stdout",
     "output_type": "stream",
     "text": [
      "Running the code locally, please make sure all the python module versions agree with colab environment and all data/assets downloaded\n"
     ]
    }
   ],
   "source": [
    "import warnings; warnings.simplefilter('ignore')\n",
    "import nltk\n",
    "\n",
    "try:\n",
    "    import google.colab\n",
    "    IN_COLAB = True\n",
    "    !wget https://raw.githubusercontent.com/taudata-indonesia/eLearning/master/taudataEDA02CTA.py\n",
    "    !mkdir data\n",
    "    !wget -P data/ https://raw.githubusercontent.com/taudata-indonesia/eLearning/master/data/slang.dic\n",
    "    !wget -P data/ https://raw.githubusercontent.com/taudata-indonesia/eLearning/master/data/slang.txt\n",
    "    !wget -P data/ https://raw.githubusercontent.com/taudata-indonesia/eLearning/master/data/stopwords_id.txt\n",
    "    !wget -P data/ https://raw.githubusercontent.com/taudata-indonesia/eLearning/master/data/stopwords_en.txt\n",
    "    !wget -P data/ https://raw.githubusercontent.com/taudata-indonesia/eLearning/master/data/kata_dasar.txt\n",
    "    !wget -P data/ https://raw.githubusercontent.com/taudata-indonesia/eLearning/master/data/wn-ind-def.tab\n",
    "    !wget -P data/ https://raw.githubusercontent.com/taudata-indonesia/eLearning/master/data/wn-msa-all.tab\n",
    "    !wget -P data/ https://raw.githubusercontent.com/taudata-indonesia/eLearning/master/data/ind_SA.csv\n",
    "    !wget -P data/ https://raw.githubusercontent.com/taudata-indonesia/eLearning/master/data/all_indo_man_tag_corpus_model.crf.tagger\n",
    "\n",
    "    !pip install --upgrade spacy python-crfsuite unidecode textblob sastrawi sklearn-pycrfsuite\n",
    "    !pip install --upgrade unidecode twython tweepy beautifulsoup4\n",
    "    !python -m spacy download xx_ent_wiki_sm\n",
    "    !python -m spacy download en_core_web_sm\n",
    "    nltk.download('popular')\n",
    "except:\n",
    "    IN_COLAB = False\n",
    "    print(\"Running the code locally, please make sure all the python module versions agree with colab environment and all data/assets downloaded\")"
   ]
  },
  {
   "cell_type": "code",
   "execution_count": 2,
   "metadata": {},
   "outputs": [
    {
     "data": {
      "text/plain": [
       "'Done'"
      ]
     },
     "execution_count": 2,
     "metadata": {},
     "output_type": "execute_result"
    }
   ],
   "source": [
    "import taudataEDA02CTA as tau\n",
    "import json, urllib.request, requests, tweepy\n",
    "from urllib.request import Request, urlopen\n",
    "from tqdm import tqdm\n",
    "\n",
    "\"Done\""
   ]
  },
  {
   "cell_type": "code",
   "execution_count": 3,
   "metadata": {},
   "outputs": [
    {
     "data": {
      "text/plain": [
       "'Done'"
      ]
     },
     "execution_count": 3,
     "metadata": {},
     "output_type": "execute_result"
    }
   ],
   "source": [
    "# Contoh API Keys (Sesuaikan dengan API keys masing-masing)\n",
    "Ck = 'NKrHwVKnpuLPYt2yBVDMAKVOv' # consumer_key\n",
    "Cs = '8dDb7cYmaP1YIifnVdZFqrlqrjX8uebW7WH05LuQWJfRL4QEvp' # consumer_secret\n",
    "At = '2214118411-lyB05wY3HTFtCVZ2TbxblpYtGqtHtN5q0HaHWxU' # access_token\n",
    "As = 'SzSYbjjDiAx4AIyyWjRPRTKSqkG1E70v2DIJbQ6byifcF' # access_secret\n",
    "\n",
    "'Done'"
   ]
  },
  {
   "cell_type": "markdown",
   "metadata": {},
   "source": [
    "# Trending Topic Saat ini?\n",
    "\n",
    "* https://twitter-trends.iamrohit.in/indonesia\n",
    "* https://trends24.in/indonesia/\n",
    "\n",
    "### Jangan Lupa\n",
    "<img alt=\"\" src=\"images/query_Operator.png\" style=\"width: 661px; height: 554px;\" />"
   ]
  },
  {
   "cell_type": "code",
   "execution_count": 4,
   "metadata": {},
   "outputs": [
    {
     "name": "stdout",
     "output_type": "stream",
     "text": [
      "Local data not available, importing data directly from twitter ... \n",
      "Welcome \"Taufik Sutanto\" you are now connected to twitter server\n",
      "Crawling keyword \"sunscreen canggih\"\n"
     ]
    },
    {
     "name": "stderr",
     "output_type": "stream",
     "text": [
      "1996it [00:22, 87.60it/s]"
     ]
    },
    {
     "name": "stdout",
     "output_type": "stream",
     "text": [
      "Collected 1996 tweets\n"
     ]
    },
    {
     "name": "stderr",
     "output_type": "stream",
     "text": [
      "\n"
     ]
    }
   ],
   "source": [
    "# Pengambilan Data dan-atau Loading Data \n",
    "qry = \"sunscreen canggih\"\n",
    "tweetFile = 'tweet_{}_EDA02CTA.json'.format(qry)\n",
    "try:\n",
    "    data = tau.loadTweets(file=tweetFile)\n",
    "    print(\"Local Data loaded, processing {} tweets.\".format(len(data)))\n",
    "except Exception as Err_:\n",
    "    print(\"Local data not available, importing data directly from twitter ... \")\n",
    "    api = tau.connect(key=(Ck, Cs, At, As))\n",
    "    data = tau.crawlTwitter(api, qry, N=10000)\n",
    "    tau.saveTweets(data, file=tweetFile) # Save untuk lain waktu\n",
    "    \n",
    "tweets = [t['full_text'] for t in data] # Hanya mengambil tweeet saja untuk module ini."
   ]
  },
  {
   "cell_type": "markdown",
   "metadata": {},
   "source": [
    "# Preprocessing text Menggunakan fungsi dari taudata"
   ]
  },
  {
   "cell_type": "code",
   "execution_count": 7,
   "metadata": {},
   "outputs": [
    {
     "name": "stderr",
     "output_type": "stream",
     "text": [
      "100%|██████████████████████████████████████████████████████████████████████████████| 5000/5000 [02:21<00:00, 35.35it/s]\n"
     ]
    },
    {
     "data": {
      "text/plain": [
       "['king vaduka catet singkron tidak nyata singapore',\n",
       " 'cnnindonesia majelis ulama indonesia deportasi uas singapura sangat ganggu umat islam indonesia',\n",
       " 'lucknuut video alsan spore terbit ntl uas tulis ferrykoto somad',\n",
       " 'sam ardi alas tolak singapura uas',\n",
       " 'detikcom singapura tolak ustaz abdul somad uas masuk kah negara bijak not to land tolak uas nilai tidak',\n",
       " 'rizmaya deportasi somad kenal sebar ajar ekstremis segregasi tidak terima masyarakat multi-ras',\n",
       " 'fadlizon uas warga negara indonesia hormat ulama intelektual jadi hina sangat tidak si']"
      ]
     },
     "execution_count": 7,
     "metadata": {},
     "output_type": "execute_result"
    }
   ],
   "source": [
    "stopId, lemmaId = tau.LoadStopWords(lang='id')\n",
    "slangFixId = tau.loadCorpus(file = 'data/slang.txt', sep=':')\n",
    "\n",
    "cleaned_data = []\n",
    "for tweet in tqdm(tweets):\n",
    "    cleaned_data.append(tau.cleanText(tweet, lemma=lemmaId, lan='id', stops = stopId, fix=slangFixId))\n",
    "    \n",
    "cleaned_data[:7]"
   ]
  },
  {
   "cell_type": "markdown",
   "metadata": {},
   "source": [
    "# Menyimpan Hasil Preprocessing untuk di Visualisasi\n",
    "\n",
    "### Kita simpan juga data yang tidak di preprocessing untuk module D (SNA)"
   ]
  },
  {
   "cell_type": "code",
   "execution_count": null,
   "metadata": {},
   "outputs": [],
   "source": [
    "# Save ke txt ... lalu nanti akan di upload ke Voyant Tools\n",
    "filename = tweetFile.replace(\".json\", \".txt\")\n",
    "tau.saveTweets(cleaned_data, file=filename, type_=\"plain\")\n",
    "\n",
    "\"Tweets Saved: \".format(filename) # Silahkan cek di folder \"Data\", pindahkan ke Desktop untukk memudahkan tahap selanjutnya"
   ]
  },
  {
   "cell_type": "code",
   "execution_count": 13,
   "metadata": {},
   "outputs": [],
   "source": [
    "from unidecode import unidecode\n",
    "# Save Raw tweet untuk mendapatkan konteks yang lebih baik\n",
    "tweets = [unidecode(t) for t in tweets]\n",
    "tau.saveTweets(tweets, file=filename.replace(\".txt\", \"_tweets.txt\"), type_=\"plain\")"
   ]
  },
  {
   "cell_type": "markdown",
   "metadata": {},
   "source": [
    "<h2>Text Analytics</h2>\n",
    "\n",
    "<ul>\n",
    "\t<li>Tidak seperti data terstruktur, data tidak terstruktur seperti teks termasuk salah satu data yang cukup sulit untuk divisualisasikan.<br />\n",
    "\t<img alt=\"\" src=\"images/11_charts.jpg\" style=\"height:150px; width:276px\" /></li>\n",
    "\t<li>Namun terdapat Tools seperti Voyant yang dapat membantu dalam visualisasi sekaligus analisis.<br />\n",
    "\t<img alt=\"\" src=\"images/11_voyant.png\" style=\"height:118px; width:426px\" /></li>\n",
    "</ul>\n"
   ]
  },
  {
   "cell_type": "markdown",
   "metadata": {},
   "source": [
    "<h3 id=\"Voyant-dapat-digunakan-dalam-2-cara:\">Voyant dapat digunakan dalam 2 cara:</h3>\n",
    "\n",
    "<ol>\n",
    "\t<li>\n",
    "\t<p><strong>Online</strong>:&nbsp;<a href=\"https://voyant-tools.org/\" target=\"_blank\">https://voyant-tools.org/</a><br />\n",
    "\t<u>Kelebihan</u>: Sederhana &amp; portable, tanpa harus install di komputer kita.<br />\n",
    "\t<u>Kekurangan</u>: butuh koneksi internet, tidak cocok untuk data teks yang besar, privacy.</p>\n",
    "\t</li>\n",
    "\t<li>\n",
    "\t<p><strong>Offline </strong>di komputer kita [Java Based]</p>\n",
    "\t</li>\n",
    "</ol>\n"
   ]
  },
  {
   "cell_type": "markdown",
   "metadata": {},
   "source": [
    "[2]. Jalankan Voyant secara offline atau online di URL&nbsp;<a href=\"https://voyant-tools.org/\" target=\"_blank\">https://voyant-tools.org/</a>\n",
    "\n",
    "[3]. Upload file yang baru saja kita simpan."
   ]
  },
  {
   "cell_type": "markdown",
   "metadata": {},
   "source": [
    "<h3 id=\"Penggunaan-Voyant-1:-WordClouds\">Penggunaan Voyant 1: WordClouds</h3>\n",
    "\n",
    "<ol>\n",
    "\t<li>Upload teks yang akan di analisa: hasil cluster/ suatu kategori/ topics / raw text.</li>\n",
    "\t<li>slider terms: mengkontrol banyaknya terms yang disertakan.</li>\n",
    "\t<li><strong>Summary </strong>(statistics)</li>\n",
    "\t<li><strong>Documents </strong>==&gt; add more</li>\n",
    "\t<li><strong>Phrases </strong>(n-grams like)</li>\n",
    "\t<li><strong>Export </strong>Visualisasi (kanan atas - pertama)</li>\n",
    "\t<li><strong>Options </strong>(kanan atas ke-3): Font, size, stopwords, whitelist</li>\n",
    "\t<li>&quot;?&quot; ==&gt; More Help</li>\n",
    "</ol>\n",
    "\n",
    "<p>&nbsp;</p>\n"
   ]
  },
  {
   "cell_type": "markdown",
   "metadata": {},
   "source": [
    "<h3>Penggunaan Voyant 2: Word Links</h3>\n",
    "\n",
    "<ol>\n",
    "\t<li>Upload teks yang akan di analisa: hasil cluster/ suatu kategori/ topics / raw text.<br />\n",
    "\tAtau file yang sudah terupload sebelumnya</li>\n",
    "\t<li>Visualization Tools ==&gt; Links</li>\n",
    "\t<li>Klik sembarang terms untuk expand</li>\n",
    "</ol>\n"
   ]
  },
  {
   "cell_type": "markdown",
   "metadata": {},
   "source": [
    "# Best practice dan catatan mengenai Visualisasi Wordclouds (WC):\n",
    "\n",
    "* Gunakan Kata Benda saja (misal pada kasus Topic Modelling).\n",
    "* Atau Gunakan hanya Kata Sifat (pada kasus Sentiment Analysis).\n",
    "* WC dapat digunakan untuk memeriksa apakah preprocessing data teks kita sudah cukup baik.\n",
    "* Python juga memiliki module \"WordClouds\" yang dapat membuat WC yang lebih variatif.\n",
    "* "
   ]
  },
  {
   "cell_type": "markdown",
   "metadata": {},
   "source": [
    "<h3 id=\"Penggunaan-Voyant-3:-Word-Tree\">Penggunaan Voyant 3: Word Tree</h3>\n",
    "\n",
    "<ol>\n",
    "\t<li>Upload teks yang akan di analisa: hasil cluster/ suatu kategori/ topics / raw text.<br />\n",
    "\tAtau file yang sudah terupload sebelumnya</li>\n",
    "\t<li>Klik branch untuk expand</li>\n",
    "</ol>\n"
   ]
  },
  {
   "cell_type": "markdown",
   "metadata": {},
   "source": [
    "<h3>Penggunaan Voyant 4: Trends</h3>\n",
    "\n",
    "<ol>\n",
    "\t<li>Upload teks yang akan di analisa: hasil cluster/ suatu kategori/ topics / raw text.<br />\n",
    "\tAtau file yang sudah terupload sebelumnya</li>\n",
    "\t<li>Document Tools ==&gt; Trends</li>\n",
    "\t<li>.. Butuh preprocessing ...&nbsp;</li>\n",
    "\t<li>Data harus terurut waktu</li>\n",
    "\t<li>Berikut contohnya</li>\n",
    "</ol>\n"
   ]
  },
  {
   "cell_type": "markdown",
   "metadata": {},
   "source": [
    "<p><strong>Latihan :&nbsp;</strong></p>\n",
    "\n",
    "<ol>\n",
    "\t<li>Crawl twitter dengan salah satu topik yang sedang trending saat ini di Indonesia.&nbsp;</li>\n",
    "\t<li>Lakukan Preprocessing data</li>\n",
    "\t<li>Visualisasikan</li>\n",
    "\t<li>Diskusikan insight/informasi yang didapat</li>\n",
    "</ol>\n"
   ]
  },
  {
   "cell_type": "markdown",
   "metadata": {
    "slideshow": {
     "slide_type": "slide"
    }
   },
   "source": [
    "<h1>End of Module C</h1>\n",
    "<hr />\n",
    "<img alt=\"\" src=\"images/meme-cartoon/2_Linguistic_Joke.jpg\" style=\"height:400px; width:608px\" />"
   ]
  }
 ],
 "metadata": {
  "celltoolbar": "Slideshow",
  "kernelspec": {
   "display_name": "Python 3 (ipykernel)",
   "language": "python",
   "name": "python3"
  },
  "language_info": {
   "codemirror_mode": {
    "name": "ipython",
    "version": 3
   },
   "file_extension": ".py",
   "mimetype": "text/x-python",
   "name": "python",
   "nbconvert_exporter": "python",
   "pygments_lexer": "ipython3",
   "version": "3.9.12"
  },
  "latex_envs": {
   "LaTeX_envs_menu_present": true,
   "autoclose": false,
   "autocomplete": true,
   "bibliofile": "biblio.bib",
   "cite_by": "apalike",
   "current_citInitial": 1,
   "eqLabelWithNumbers": true,
   "eqNumInitial": 1,
   "hotkeys": {
    "equation": "Ctrl-E",
    "itemize": "Ctrl-I"
   },
   "labels_anchors": false,
   "latex_user_defs": false,
   "report_style_numbering": false,
   "user_envs_cfg": false
  }
 },
 "nbformat": 4,
 "nbformat_minor": 2
}
