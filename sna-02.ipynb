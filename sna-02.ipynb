{
 "cells": [
  {
   "cell_type": "markdown",
   "metadata": {
    "slideshow": {
     "slide_type": "slide"
    }
   },
   "source": [
    "<center><h2><strong><font color=\"blue\">Social Network Analysis (SNA)</font></strong></h2></center>\n",
    "<center><h3><strong><font color=\"blue\"><a href=\"https://taudata.blogspot.com\">https://taudata.blogspot.com</a></font></strong></h3></center>\n",
    "\n",
    "<img alt=\"\" src=\"images/covers/taudata-cover.jpg\"/>\n",
    "\n",
    "<center><h2><strong><font color=\"blue\">SNA-02: Visualisasi Jaringan Sosial via Gephi</font></strong></h2></center>\n",
    "<center><h3><strong><font color=\"blue\"><a href=\"https://taudata.blogspot.com/2022/05/sna-02.html\">https://taudata.blogspot.com/2022/05/sna-02.html</a></font></strong></h3></center>\n",
    "<b><center><h3>(C) Taufik Sutanto</h3></center>"
   ]
  },
  {
   "cell_type": "code",
   "execution_count": null,
   "metadata": {},
   "outputs": [],
   "source": [
    "import warnings; warnings.simplefilter('ignore')\n",
    "import nltk\n",
    "\n",
    "try:\n",
    "    import google.colab\n",
    "    IN_COLAB = True\n",
    "    !wget https://raw.githubusercontent.com/taudata-indonesia/eLearning/master/taudataEDA02CTA.py\n",
    "    !wget https://raw.githubusercontent.com/taudata-indonesia/eLearning/master/taudata_sna.py\n",
    "    !wget https://raw.githubusercontent.com/taudata-indonesia/eLearning/master/network_unp2021.gexf\n",
    "    !mkdir data\n",
    "    !wget -P data/ https://raw.githubusercontent.com/taudata-indonesia/eLearning/master/data/data_sna.csv\n",
    "    !wget -P data/ https://raw.githubusercontent.com/taudata-indonesia/eLearning/master/data/slang.txt\n",
    "    !wget -P data/ https://raw.githubusercontent.com/taudata-indonesia/eLearning/master/data/stopwords_id.txt\n",
    "    !wget -P data/ https://raw.githubusercontent.com/taudata-indonesia/eLearning/master/data/stopwords_en.txt\n",
    "    !wget -P data/ https://raw.githubusercontent.com/taudata-indonesia/eLearning/master/data/kata_dasar.txt\n",
    "    !wget -P data/ https://raw.githubusercontent.com/taudata-indonesia/eLearning/master/data/wn-ind-def.tab\n",
    "    !wget -P data/ https://raw.githubusercontent.com/taudata-indonesia/eLearning/master/data/wn-msa-all.tab\n",
    "    !wget -P data/ https://raw.githubusercontent.com/taudata-indonesia/eLearning/master/data/all_indo_man_tag_corpus_model.crf.tagger\n",
    "\n",
    "    !pip install spacy python-crfsuite unidecode textblob sastrawi sklearn-pycrfsuite\n",
    "    !pip install unidecode twython tweepy beautifulsoup4 json_lines lxml pyLDAvis\n",
    "    !pip install --upgrade tweepy\n",
    "    !python -m spacy download xx_ent_wiki_sm\n",
    "    !python -m spacy download en_core_web_sm\n",
    "    nltk.download('popular')\n",
    "except:\n",
    "    IN_COLAB = False\n",
    "    print(\"Running the code locally, please make sure all the python module versions agree with colab environment and all data/assets downloaded\")"
   ]
  },
  {
   "cell_type": "code",
   "execution_count": null,
   "metadata": {
    "slideshow": {
     "slide_type": "slide"
    }
   },
   "outputs": [],
   "source": [
    "# import beberapa module yg dibutuhkan di WorkShop ini:\n",
    "import graphviz, warnings; warnings.simplefilter('ignore')\n",
    "import time, numpy as np, matplotlib.pyplot as plt, pandas as pd, networkx as nx\n",
    "import random\n",
    "import taudataEDA02CTA as tau2\n",
    "import graphviz, taudata_sna as tau\n",
    "import pyLDAvis, pyLDAvis.sklearn; pyLDAvis.enable_notebook()\n",
    "from graphviz import Digraph\n",
    "import json, urllib.request, requests\n",
    "from urllib.request import Request, urlopen\n",
    "from twython import TwythonStreamer\n",
    "from bs4 import BeautifulSoup as bs\n",
    "from tqdm import tqdm\n",
    "\n",
    "seed = 123\n",
    "random.seed(seed)\n",
    "np.random.seed(seed)\n",
    "\"Done\""
   ]
  },
  {
   "cell_type": "markdown",
   "metadata": {
    "slideshow": {
     "slide_type": "slide"
    }
   },
   "source": [
    "<h1 id=\"Graph-From-Social-media\">Graph From Social media</h1>\n",
    "\n",
    "<h3 id=\"Mentions,-Followers,-Friends\">Mentions, Followers, Friends</h3>\n",
    "\n",
    "<p><img alt=\"\" src=\"images/SNA_Graph_Types.png\" /></p>"
   ]
  },
  {
   "cell_type": "code",
   "execution_count": null,
   "metadata": {
    "slideshow": {
     "slide_type": "slide"
    }
   },
   "outputs": [],
   "source": [
    "# import data\n",
    "import json, urllib.request, requests, tweepy\n",
    "from urllib.request import Request, urlopen\n",
    "from tqdm import tqdm\n",
    "\n",
    "# Contoh API Keys (Sesuaikan dengan API keys masing-masing)\n",
    "Ck = 'NKrVDMAKVOv' # consumer_key\n",
    "Cs = '8dDbaP1YIuQWJfRL4QEvp' # consumer_secret\n",
    "At = '2214118411-lyB0xblpHaHWxU' # access_token\n",
    "As = 'SzSYbjjJyifcF' # access_secret\n",
    "\n",
    "'Done'"
   ]
  },
  {
   "cell_type": "code",
   "execution_count": null,
   "metadata": {
    "slideshow": {
     "slide_type": "slide"
    }
   },
   "outputs": [],
   "source": [
    "# Pengambilan Data dan-atau Loading Data \n",
    "qry = \"data indonesia\" # Ganti dengan sembarang query lain\n",
    "tweetFile = 'Tweets_taudata.json'.format(qry) # RUBAH Path ini\n",
    "try:\n",
    "    data = tau2.loadTweets(file=tweetFile)\n",
    "    print(\"Local Data loaded, processing {} tweets.\".format(len(data)))\n",
    "except Exception as Err_:\n",
    "    print(\"Local data not available, importing data directly from twitter ... \")\n",
    "    api = tau2.connect(key=(Ck, Cs, At, As))\n",
    "    data = tau2.crawlTwitter(api, qry, N=1000)\n",
    "    tau2.saveTweets(data, file=tweetFile) # Save untuk lain waktu\n",
    "    \n",
    "tweets = [t['full_text'] for t in data] # Hanya mengambil tweeet saja .\n",
    "Usernames = [t['user']['screen_name'] for t in data] # Hanya mengambil username saja .\n",
    "Usernames[:5] "
   ]
  },
  {
   "cell_type": "markdown",
   "metadata": {},
   "source": [
    "# Visualisasi Versi Gephi\n",
    "\n",
    "<img alt=\"\" src=\"images/Gephi.jpg\" />\n",
    "\n",
    "1. menggunakan Data dari tweepy: Dibahas di Workshop/Module ini.\n",
    "2. Crawl langsung dari gephi: https://www.youtube.com/watch?v=j_PUwmDcPBs"
   ]
  },
  {
   "cell_type": "code",
   "execution_count": null,
   "metadata": {},
   "outputs": [],
   "source": [
    "json_file = 'Tweets_taudata.json'\n",
    "gexf_file = 'Tweets_taudata.gexf'\n",
    "\n",
    "tweets = tau.load_jsonl(json_file)\n",
    "tau.create_gexf(tweets, gexf_file)\n",
    "\n",
    "\"Done\""
   ]
  },
  {
   "cell_type": "markdown",
   "metadata": {},
   "source": [
    "# Visualizing in Gephi\n",
    "\n",
    "1. \"import\" file gexf ke Gephi (yakinkan tipe network \"Dynamics\" - lihat gambar)\n",
    " - \"Open graph File ... \"\n",
    "\n",
    "<img alt=\"\" src=\"images/gephi-dynamics.png\" />"
   ]
  },
  {
   "cell_type": "markdown",
   "metadata": {},
   "source": [
    "### Visualisasi\n",
    "\n",
    "* Ganti Size Nodes: Nodes ==> Size ==> in-Degree\n",
    " - Atur \"range\" sedemikian sehingga distribusi ukuran vertex cukup baik. \n",
    "* Community Detection: Statistics ==> Modularity\n",
    "* Ganti Warna Nodes: Nodes ==> Partition ==> Modularity\n",
    "* Ganti Layout Graph: ForceAtlas2\n",
    " - Stronger Gravity\n",
    " - Gravity 0.05\n",
    " - Prevent Overlap\n",
    "* Add Node Label (Ada di tengah bawah, huruf \"T\")\n",
    "* ganti warna background (misal hitam)\n",
    "\n",
    "### Navigasi\n",
    "- Mouse Scroll: Zoom in-out ATAU panah kanan bawah untuk atur zoom\n",
    "- Tekan (tahan) klik kanan lalu gerakkan mouse (atau touchpad) untuk memindahkan graph.\n",
    "\n",
    "<img alt=\"\" src=\"images/gephi-example-result.png\" />"
   ]
  },
  {
   "cell_type": "markdown",
   "metadata": {},
   "source": [
    "# Analisa?\n",
    "\n",
    "* Klik kanan di Node ==> Select in Data Laboratory ==> Pelajari akun dan-atau tweet orang tersebut."
   ]
  },
  {
   "cell_type": "markdown",
   "metadata": {
    "slideshow": {
     "slide_type": "slide"
    }
   },
   "source": [
    "# <center><font color=\"blue\"> End of Module\n",
    "\n",
    "<hr />\n",
    "<img alt=\"\" src=\"images/meme-cartoon/11_less_code.jpg\" />"
   ]
  }
 ],
 "metadata": {
  "celltoolbar": "Slideshow",
  "kernelspec": {
   "display_name": "Python 3 (ipykernel)",
   "language": "python",
   "name": "python3"
  },
  "language_info": {
   "codemirror_mode": {
    "name": "ipython",
    "version": 3
   },
   "file_extension": ".py",
   "mimetype": "text/x-python",
   "name": "python",
   "nbconvert_exporter": "python",
   "pygments_lexer": "ipython3",
   "version": "3.9.12"
  },
  "latex_envs": {
   "LaTeX_envs_menu_present": true,
   "autoclose": false,
   "autocomplete": true,
   "bibliofile": "biblio.bib",
   "cite_by": "apalike",
   "current_citInitial": 1,
   "eqLabelWithNumbers": true,
   "eqNumInitial": 1,
   "hotkeys": {
    "equation": "Ctrl-E",
    "itemize": "Ctrl-I"
   },
   "labels_anchors": false,
   "latex_user_defs": false,
   "report_style_numbering": false,
   "user_envs_cfg": false
  }
 },
 "nbformat": 4,
 "nbformat_minor": 2
}
