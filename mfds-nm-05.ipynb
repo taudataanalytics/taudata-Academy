{
 "cells": [
  {
   "cell_type": "markdown",
   "metadata": {
    "slideshow": {
     "slide_type": "slide"
    }
   },
   "source": [
    "<h1 id=\"Metode-NumerikPendahuluan-Analisis-Error-\" style=\"text-align: center;\"><strong>Metode Numerik</strong><br /><strong><span style=\"color: blue;\">EigenValue dan EigenVektor Numerik</span></strong><br /><img style=\"\" src=\"images/MetNum.png\" alt=\"\" /></h1>\n",
    "<h2 id=\"(C)-Taufik-Sutanto---2019\" style=\"text-align: center;\">(C) Taufik Sutanto - 2020</h2>\n",
    "<h2 id=\"tau-data-Indonesia-~-https://tau-data.id\" style=\"text-align: center;\">tau-data Indonesia ~ <a href=\"https://tau-data.id\" target=\"_blank\"><span style=\"color: #0009ff;\">https://tau-data.id/mfds-nm-05/</span></a></h2>"
   ]
  },
  {
   "cell_type": "markdown",
   "metadata": {
    "slideshow": {
     "slide_type": "slide"
    }
   },
   "source": [
    "# Eigenvalue (Eigenvector) Numerik:\n",
    "\n",
    "* Pendahuluan Eigenvalue dan eigen vektor\n",
    "* Aplikasi & Intuisi\n",
    "* Karakteristik Polinomial\n",
    "* Power Method\n",
    "* Rayleigh Quotient\n",
    "* Deflated Matrix Method\n",
    "* Jacobi Method"
   ]
  },
  {
   "cell_type": "markdown",
   "metadata": {},
   "source": [
    "<p><img alt=\"\" src=\"images/intro_eigen.png\" style=\"width: 800px; height: 404px;\" /></p>\n"
   ]
  },
  {
   "cell_type": "markdown",
   "metadata": {},
   "source": [
    "<p><img alt=\"\" src=\"images/eigen_apps.png\" style=\"width: 800px; height: 382px;\" /></p>\n"
   ]
  },
  {
   "cell_type": "markdown",
   "metadata": {},
   "source": [
    "<p><img alt=\"\" src=\"images/eigen_intuition.png\" style=\"width: 800px; height: 316px;\" /></p>\n"
   ]
  },
  {
   "cell_type": "markdown",
   "metadata": {},
   "source": [
    "# Karektiristik Polynomial ~ Permasalahan Mencari Akar\n",
    "\n",
    "<p><img alt=\"\" src=\"images/eigen_characteristic_polymoial.png\" style=\"width: 800px; height: 481px;\" /></p>\n"
   ]
  },
  {
   "cell_type": "markdown",
   "metadata": {},
   "source": [
    "<h1 id=\"Keterbatasan\">Keterbatasan - Companion Matrix</h1>\n",
    "\n",
    "<p><img alt=\"\" src=\"images/eigen_companion_matrix.png\" style=\"width: 800px; height: 544px;\" /></p>\n"
   ]
  },
  {
   "cell_type": "markdown",
   "metadata": {},
   "source": [
    "# Contoh lain permasalahan numerik menggunakan AKP\n",
    "\n",
    "<p><img alt=\"\" src=\"images/eigen_numeric_problem.png\" style=\"width: 800px; height: 518px;\" /></p>\n"
   ]
  },
  {
   "cell_type": "code",
   "execution_count": 1,
   "metadata": {},
   "outputs": [
    {
     "data": {
      "text/plain": [
       "array([[1, 1],\n",
       "       [0, 2]])"
      ]
     },
     "execution_count": 1,
     "metadata": {},
     "output_type": "execute_result"
    }
   ],
   "source": [
    "# Python implementation\n",
    "import numpy as np\n",
    "\n",
    "A = np.array([[ 1, 1 ],\n",
    "              [ 0, 2 ]])\n",
    "A"
   ]
  },
  {
   "cell_type": "code",
   "execution_count": 2,
   "metadata": {},
   "outputs": [
    {
     "name": "stdout",
     "output_type": "stream",
     "text": [
      "A \n",
      " [[1 1]\n",
      " [0 2]]\n",
      "A*A \n",
      " [[1 3]\n",
      " [0 4]]\n",
      "A+A \n",
      " [[2 2]\n",
      " [0 4]]\n",
      "A' \n",
      " [[1 0]\n",
      " [1 2]]\n"
     ]
    }
   ],
   "source": [
    "# Operasi Matrix\n",
    "print('A \\n',A)\n",
    "print('A*A \\n',A.dot(A))\n",
    "print('A+A \\n',A+A)\n",
    "print(\"A' \\n\",A.transpose())"
   ]
  },
  {
   "cell_type": "code",
   "execution_count": 3,
   "metadata": {},
   "outputs": [
    {
     "name": "stdout",
     "output_type": "stream",
     "text": [
      "[[ 3 -1]\n",
      " [-1  3]]\n",
      "Eigenvalues \n",
      " [4. 2.]\n",
      "Eigenvectors \n",
      " [[ 0.70710678  0.70710678]\n",
      " [-0.70710678  0.70710678]]\n"
     ]
    }
   ],
   "source": [
    "# Eigenvalue dan eigenvector\n",
    "\n",
    "A = np.array([[ 3, -1 ],[ -1, 3 ]])\n",
    "print(A)\n",
    "eVa, eVe = np.linalg.eig(A)\n",
    "print('Eigenvalues \\n',eVa)\n",
    "print('Eigenvectors \\n',eVe)"
   ]
  },
  {
   "cell_type": "code",
   "execution_count": 4,
   "metadata": {},
   "outputs": [
    {
     "name": "stdout",
     "output_type": "stream",
     "text": [
      "Eigenvalues \n",
      " [1. 4. 6.]\n",
      "Eigenvectors \n",
      " [[1.         0.5547002  0.51084069]\n",
      " [0.         0.83205029 0.79818857]\n",
      " [0.         0.         0.31927543]]\n"
     ]
    }
   ],
   "source": [
    "A = [[1,2,3],[0,4,5],[0,0,6]]\n",
    "A = np.array(A)\n",
    "eVa, eVe = np.linalg.eig(A)\n",
    "print('Eigenvalues \\n',eVa)\n",
    "print('Eigenvectors \\n',eVe)"
   ]
  },
  {
   "cell_type": "code",
   "execution_count": 5,
   "metadata": {},
   "outputs": [
    {
     "data": {
      "text/plain": [
       "array([0.        , 1.        , 0.95930327])"
      ]
     },
     "execution_count": 5,
     "metadata": {},
     "output_type": "execute_result"
    }
   ],
   "source": [
    "eVe[1]/eVe[1].max()"
   ]
  },
  {
   "cell_type": "markdown",
   "metadata": {},
   "source": [
    "# Latihan 1:\n",
    "\n",
    "* Diberikan matrix sbb: \n",
    "$$ \\begin{bmatrix}\n",
    "    -2 & -3 \\\\\n",
    "    6 & 7\n",
    "\\end{bmatrix} $$\n",
    "* Tentukan **Error Relatif** aproksimasi eigenvalue terkait matrix tersebut \n",
    "* jika persamaan karakteristik polinomial-nya diselesaikan dengan metode Newton\n",
    "* **tiga iterasi** ($\\lambda_3$) dengan $\\lambda_0 = 1$ "
   ]
  },
  {
   "cell_type": "code",
   "execution_count": 6,
   "metadata": {},
   "outputs": [
    {
     "data": {
      "text/plain": [
       "0.0"
      ]
     },
     "execution_count": 6,
     "metadata": {},
     "output_type": "execute_result"
    }
   ],
   "source": [
    "def F(x):\n",
    "    return x**2-5*x+4\n",
    "def f(x):\n",
    "    return 2*x-5\n",
    "# Newton (L3, Lo=1)\n",
    "Lo =1\n",
    "L1 = Lo - F(Lo)/f(Lo)\n",
    "L2 = L1 - F(L1)/f(L1)\n",
    "L3 = L2 - F(L2)/f(L2)\n",
    "L3\n",
    "eksak = 1\n",
    "abs(L3-eksak)/abs(eksak) # Error_Relatif"
   ]
  },
  {
   "cell_type": "markdown",
   "metadata": {},
   "source": [
    "<p><img alt=\"\" src=\"images/eigen_Pwr_Method_1.png\" /></p>\n"
   ]
  },
  {
   "cell_type": "markdown",
   "metadata": {},
   "source": [
    "<p><img alt=\"\" src=\"images/eigen_Pwr_Method_Alg.png\" style=\"width: 680px; height: 240px;\" /></p>\n"
   ]
  },
  {
   "cell_type": "markdown",
   "metadata": {},
   "source": [
    "<h1 id=\"Power-Method---Contoh\">Power Method - Contoh</h1>\n",
    "\n",
    "<p><img alt=\"\" src=\"images/eigen_Pwr_Method_eg.png\" style=\"width: 800px; height: 528px;\" /></p>\n"
   ]
  },
  {
   "cell_type": "markdown",
   "metadata": {},
   "source": [
    "<p><img alt=\"\" src=\"images/eigen_Pwr_Method_inv.png\" style=\"width: 736px; height: 183px;\" /></p>\n"
   ]
  },
  {
   "cell_type": "code",
   "execution_count": 7,
   "metadata": {},
   "outputs": [
    {
     "name": "stdout",
     "output_type": "stream",
     "text": [
      "Eigenvalue =  10.63820909893284\n",
      "Eigenvector =  [132584 124129]\n"
     ]
    }
   ],
   "source": [
    "# Contoh\n",
    "A = np.array([[ 2, 9 ],[ 9, 1 ]])\n",
    "x = np.array([1,1]).transpose()\n",
    "N = 5\n",
    "for i in range(N):\n",
    "    xo = x\n",
    "    x = A.dot(x)\n",
    "    x1 = x\n",
    "    eigen = max(abs(x1))/max(abs(xo))\n",
    "print('Eigenvalue = ', eigen)\n",
    "print('Eigenvector = ', x)"
   ]
  },
  {
   "cell_type": "code",
   "execution_count": 8,
   "metadata": {},
   "outputs": [
    {
     "name": "stdout",
     "output_type": "stream",
     "text": [
      "Eigenvalues \n",
      " [10.51387819 -7.51387819]\n",
      "Eigenvectors \n",
      " [[ 0.72645372 -0.68721539]\n",
      " [ 0.68721539  0.72645372]]\n"
     ]
    }
   ],
   "source": [
    "eVa, eVe = np.linalg.eig(A)\n",
    "print('Eigenvalues \\n',eVa)\n",
    "print('Eigenvectors \\n',eVe)"
   ]
  },
  {
   "cell_type": "code",
   "execution_count": 9,
   "metadata": {},
   "outputs": [
    {
     "name": "stdout",
     "output_type": "stream",
     "text": [
      "Eigenvalue =  10.426061968261632\n",
      "Eigenvector =  [1.         0.95301842]\n"
     ]
    }
   ],
   "source": [
    "# Seringnya Power method menggunakan normalisasi vector di setiap langkahnya\n",
    "x = np.array([1,1]).transpose()\n",
    "N = 6\n",
    "for i in range(N):\n",
    "    x = x/x.max()\n",
    "    xo = x\n",
    "    x = A.dot(x)\n",
    "    x1 = x\n",
    "    eigen = max(abs(x1))/max(abs(xo))\n",
    "print('Eigenvalue = ', eigen)\n",
    "print('Eigenvector = ', x/x.max())"
   ]
  },
  {
   "cell_type": "markdown",
   "metadata": {},
   "source": [
    "# Latihan 2:\n",
    "\n",
    "* Diberikan matrix sbb: \n",
    "$$ \\begin{bmatrix}\n",
    "    1 & 1 \\\\\n",
    "    4 & 1\n",
    "\\end{bmatrix} $$\n",
    "* Tentukan **Error Relatif** aproksimasi eigenvalue \n",
    "* terkait matrix tersebut jika eigenvalue-nya didekati \n",
    "* dengan metode **Rayleigh** power Method **dua iterasi** ($\\lambda_2$) dengan $x_0 = [1,1]'$ "
   ]
  },
  {
   "cell_type": "code",
   "execution_count": 10,
   "metadata": {},
   "outputs": [
    {
     "name": "stdout",
     "output_type": "stream",
     "text": [
      "Eigenvalue =  2.951219512195122\n",
      "Error Relatif =  0.016260162601626032\n"
     ]
    }
   ],
   "source": [
    "# Contoh\n",
    "A = np.array([[ 1, 1 ],[ 4, 1 ]])\n",
    "x = np.array([1,1]).transpose()\n",
    "N = 4\n",
    "for i in range(N):\n",
    "    xo = x\n",
    "    x = A.dot(x)\n",
    "    x1 = x\n",
    "    eigen = max(abs(x1))/max(abs(xo))\n",
    "print('Eigenvalue = ', eigen)\n",
    "print('Error Relatif = ', abs(3-eigen)/3)"
   ]
  },
  {
   "cell_type": "markdown",
   "metadata": {},
   "source": [
    "<h1 id=\"Rayleigh-Quotient\">Rayleigh Quotient</h1>\n",
    "\n",
    "<ul>\n",
    "\t<li>Secara umum Power method Lambat, methode Rayleigh mempercepat iterasi Power Method</li>\n",
    "\t<li><img alt=\"\" src=\"images/eigen_rayleigh_Quotient_1.png\" style=\"width: 609px; height: 296px;\" /></li>\n",
    "</ul>\n"
   ]
  },
  {
   "cell_type": "code",
   "execution_count": 11,
   "metadata": {},
   "outputs": [
    {
     "name": "stdout",
     "output_type": "stream",
     "text": [
      "EigenValue Menurut metode Rayleigh 2 iterasi = -0.5555555555555552\n",
      "EA Eigenvalue (Power Method)=  2.0\n",
      "EA Eigenvalue (Rayleigh)=  0.44444444444444475\n",
      "Eigenvector =  [ 0.33333333  0.66666667 -0.33333333]\n"
     ]
    }
   ],
   "source": [
    "# Contoh (Sebelumnya)\n",
    "import numpy as np\n",
    "A = np.array([[ 1, 0, 2 ],[ 0, 1, 1 ], [2, 1, 2]])\n",
    "A = np.linalg.inv(A)\n",
    "x = np.array([1,1, 1]).transpose()\n",
    "N = 2\n",
    "eksak = -1\n",
    "for i in range(N):\n",
    "    xo = x\n",
    "    x = A.dot(x)\n",
    "    x1 = x\n",
    "    eigen = max(abs(x1))/max(abs(xo))\n",
    "    eigenRayleigh = x.transpose().dot(A).dot(x)/x.transpose().dot(x)\n",
    "    \n",
    "print('EigenValue Menurut metode Rayleigh 2 iterasi =', eigenRayleigh)    \n",
    "    \n",
    "print('EA Eigenvalue (Power Method)= ', abs(eigen-eksak))\n",
    "print('EA Eigenvalue (Rayleigh)= ', abs(eigenRayleigh-eksak))\n",
    "print('Eigenvector = ', x)"
   ]
  },
  {
   "cell_type": "markdown",
   "metadata": {
    "slideshow": {
     "slide_type": "slide"
    }
   },
   "source": [
    "<h1 id=\"End-of-Week-13\">End of Module</h1>\n",
    "\n",
    "<hr />\n",
    "..."
   ]
  }
 ],
 "metadata": {
  "celltoolbar": "Slideshow",
  "kernelspec": {
   "display_name": "Python 3",
   "language": "python",
   "name": "python3"
  },
  "language_info": {
   "codemirror_mode": {
    "name": "ipython",
    "version": 3
   },
   "file_extension": ".py",
   "mimetype": "text/x-python",
   "name": "python",
   "nbconvert_exporter": "python",
   "pygments_lexer": "ipython3",
   "version": "3.6.8"
  },
  "latex_envs": {
   "LaTeX_envs_menu_present": true,
   "autoclose": false,
   "autocomplete": true,
   "bibliofile": "biblio.bib",
   "cite_by": "apalike",
   "current_citInitial": 1,
   "eqLabelWithNumbers": true,
   "eqNumInitial": 1,
   "hotkeys": {
    "equation": "Ctrl-E",
    "itemize": "Ctrl-I"
   },
   "labels_anchors": false,
   "latex_user_defs": false,
   "report_style_numbering": false,
   "user_envs_cfg": false
  }
 },
 "nbformat": 4,
 "nbformat_minor": 2
}
