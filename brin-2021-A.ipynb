{
 "cells": [
  {
   "cell_type": "markdown",
   "id": "6cd78d16",
   "metadata": {
    "slideshow": {
     "slide_type": "slide"
    }
   },
   "source": [
    "# <center><font color=\"red\">https://s.id/brin-2021-A</font></center>\n",
    "\n",
    "<center><img alt=\"\" src=\"images/brin/brin-2021-covers.png\"/></center> \n",
    "\n",
    "## <center><font color=\"blue\">tau-data Indonesia</font><br>(C) Taufik Sutanto - 2021<br>https://tau-data.id</center>"
   ]
  },
  {
   "cell_type": "markdown",
   "id": "29e98308",
   "metadata": {
    "slideshow": {
     "slide_type": "slide"
    }
   },
   "source": [
    "# <center><font color=\"blue\">Tak Kenal, Maka Tak Sayang</font></center>\n",
    "\n",
    "<center><img src=\"images/bio-about/bio_TS.png\" /></center>\n",
    "\n",
    "><font color=\"green\">“*I am not what you see. I am what time and effort and interaction slowly unveil*.” ― Richelle E. Goodrich</font>"
   ]
  },
  {
   "cell_type": "markdown",
   "id": "8d902262",
   "metadata": {
    "slideshow": {
     "slide_type": "slide"
    }
   },
   "source": [
    "# <center><font color=\"blue\">Jadwal Workshop Digital Skill Untuk Kebencanaan BRIN 2021</font></center>\n",
    "\n",
    "### <font color=\"green\">Sesi Pagi-Siang</font>\n",
    "1. Pendahuluan Python untuk Data Science\n",
    "2. Pengenalan Dasar Matematika & Aplikasi AI\n",
    "3. Digital Data Gathering (studi kasus twitter dan website)\n",
    "4. Legal & Ethics Pengambilan Data & AI\n",
    "\n",
    "><font color=\"green\">\"*I always have a basic plot outline, but I like to leave some things to be decided while I write*.\" ~ J. K. Rowling</font>\n",
    "\n",
    "<center><img src=\"images/brin/jadwal-brin-2021.png\" /></center>"
   ]
  },
  {
   "cell_type": "markdown",
   "id": "07a40ac4",
   "metadata": {
    "slideshow": {
     "slide_type": "slide"
    }
   },
   "source": [
    "# <center><font color=\"blue\"> Sejarah singkat & Aplikasi Python</font></center>\n",
    "    \n",
    "Python diperkenalkan di sekitar tahun **1980** oleh&nbsp;<strong>Guido van Rossum</strong>.\n",
    "\n",
    "Python memiliki system yang &quot;mirip&quot; seperti Java (multi platform dan memiliki kernel), namun lebih mudah (tanpa deklarasi variabel seperti matlab). Python juga ringan sehingga dapat dijalankan pada piranti internet dengan kemampuan perangkat keras terbatas seperti alat IoT atau *Small Board Computers* seperti *Raspberry Pie*.\n",
    "    \n",
    "<center><img alt=\"\" src=\"images/guido.png\" style=\"width: 400px;\" /></center>"
   ]
  },
  {
   "cell_type": "markdown",
   "id": "223a8052",
   "metadata": {
    "slideshow": {
     "slide_type": "slide"
    }
   },
   "source": [
    "# <center><font color=\"blue\">  Mengapa Python? (Alasan Dasar)\n",
    "\n",
    "* *Free - Open Source*\n",
    "* Mudah dipelajari\n",
    "* Penggunaan sumber daya (*resources*) yang ringan\n",
    "* *Multiplatform* (Windows, Linux, Mac)\n",
    "* *High Level Language*\n",
    "\n",
    "<img alt=\"\" src=\"images/whyPython.jpg\" style=\"height: 300px;\" />"
   ]
  },
  {
   "cell_type": "markdown",
   "id": "1ebd76be",
   "metadata": {
    "slideshow": {
     "slide_type": "slide"
    }
   },
   "source": [
    "# <center><font color=\"blue\">Python Dapat Diaplikasikan di Berbagai Device</font></center>\n",
    "    \n",
    "Tidak seperti **R** atau **PHP** yang merupakan bahasa pemrograman dengan fungsi khusus yang terbatas, **Python** adalah bahasa pemrograman yang utuh yang dapat diaplikasikan pada:\n",
    "\n",
    "* Python GUI (**desktop application**): Kivy, Libavg, PyQT, PySimpleGUI, Pyforms, Tkinter, Wax, WxPython.\n",
    "* Python **Web**: Django, Flask\n",
    "* Python **Mobile App**: Kivy, BeeWare\n",
    "* Python for **IoT**: run on SBC (ARM-based)\n",
    "* **Game** Development: pygame, pykira, pyglet, PyOpenGL, etc.\n",
    "* Python in **cloud**: Google Colab, Kaggle\n",
    "\n",
    "<img alt=\"\" src=\"images/python-applications.png\"  style=\"height: 300px;\"/>"
   ]
  },
  {
   "cell_type": "markdown",
   "id": "f59a93ae",
   "metadata": {
    "slideshow": {
     "slide_type": "slide"
    }
   },
   "source": [
    "# <center><font color=\"blue\"> Popularitas Python\n",
    "\n",
    "* Komunitas pengguna besar\n",
    "* Banyak digunakan Industri dan berbagai lembaga lain (misal KL/Pendidikan)\n",
    "* Permintaan tinggi\n",
    "\n",
    "<img alt=\"\" src=\"images/1_why_python.jpeg\"  style=\"height: 300px;\" />"
   ]
  },
  {
   "cell_type": "markdown",
   "id": "2b8176a2",
   "metadata": {
    "slideshow": {
     "slide_type": "slide"
    }
   },
   "source": [
    "# <center><font color=\"blue\"> Performa Python\n",
    "\n",
    "* Python adalah bahasa pemrograman interpreter, JIT, & Compiler sekaligus!\n",
    "* Module dapat ditulis dengan *low level language* seperti C dan Fortran (contoh Numpy)\n",
    "* Dapat melakukan *import module* dari bahasa pemrograman lain (misal R dan Julia)\n",
    "* https://tau-data.id/python-showdown/\n",
    "\n",
    "<img alt=\"\" src=\"images/1_Python_VS_TheRest.png\"  style=\"height: 300px;\"/>"
   ]
  },
  {
   "cell_type": "markdown",
   "id": "09e80031",
   "metadata": {
    "slideshow": {
     "slide_type": "slide"
    }
   },
   "source": [
    "# <center><font color=\"blue\"> Python: Interpreter, JIT, & Compiler\n",
    "\n",
    "* Interpreter (default)\n",
    "* JIT (just-In-Time Compiler): Numba\n",
    "* Python C-Compiler: Cython\n",
    "* https://tau-data.id/cython-semudah-python/\n",
    "\n",
    "<img alt=\"\" src=\"images/Cython_vs_Java.png\"  style=\"height: 300px;\"/>"
   ]
  },
  {
   "cell_type": "markdown",
   "id": "37745c7f",
   "metadata": {
    "slideshow": {
     "slide_type": "slide"
    }
   },
   "source": [
    "# <center><font color=\"blue\"> Beberapa kelemahan Python\n",
    "    \n",
    "* *Reference to variabel*\n",
    "* Dependensi dan versi module yang sangat sensitif.\n",
    "* Dependensi compiler C yang spesific dan terkadang tidak konsisten\n",
    "* *Message Parsing (process locked)* - di pemrograman paralel\n",
    "\n",
    "# <center><font color=\"blue\"> Python Distro\n",
    "* \"Vanilla\" Python: https://www.python.org/\n",
    "* Anaconda : https://www.anaconda.com/distribution/#download-section\n",
    "* WinPython: https://sourceforge.net/projects/winpython/files/ \n",
    "\n",
    "<center><img alt=\"\" src=\"images/meme-cartoon/Python_Gil-223x300.jpg\" style=\"height: 300px;\" />"
   ]
  },
  {
   "cell_type": "markdown",
   "id": "3eb4db0b",
   "metadata": {
    "slideshow": {
     "slide_type": "slide"
    }
   },
   "source": [
    "# <center><font color=\"blue\"> Sekilas Jupyter Notebook / Google Colab\n",
    "\n",
    "* \"Notebook\" dalam hal ini adalah IDE yang interaktif: editor + output & fungsi lainnya.\n",
    "* Ada 3 macam Cell: Code, MarkDown, & Raw\n",
    "    * Code : <font color=\"green\">**escape+y**</font>  ==> Kita menulis program Python di cell code\n",
    "    * Markdown: <font color=\"green\">**escape+m**</font> ==> Mirip html, untuk menulis seperti format Ms Word.\n",
    "    * menjalankan cell dengan cara <font color=\"green\">**ctrl+Enter**</font>\n",
    "    * Menjalankan cell lalu membuat cell baru dibawahnya <font color=\"green\">**alt+Enter**</font>\n",
    "* Markdown:\n",
    "    - #, ##, dan ### Heading 1, 2, dan 3\n",
    "    - **, dan * bold dan italics\n",
    "    - 1,2,3 dan \"-\" di awal baris sebagai numbering dan list\n",
    "    - Bahkan dapat menggunakan perintah LaTex\n",
    "* Dapat digunakan untuk bahasa pemrograman lain: JUlia, PYThon, & R.\n",
    "\n",
    "<center><img alt=\"\" src=\"images/jupyter notebook interface introduction.png\" style=\"width: 600px;\" />"
   ]
  },
  {
   "cell_type": "markdown",
   "id": "f576fdcb",
   "metadata": {
    "slideshow": {
     "slide_type": "slide"
    }
   },
   "source": [
    "# Heading 1\n",
    "\n",
    "## Heading 2 (sub-bab)\n",
    "\n",
    "* Bulet 1\n",
    "* item 2\n",
    "\n",
    "1. satu\n",
    "2. dua "
   ]
  },
  {
   "cell_type": "markdown",
   "id": "e0afdf5f",
   "metadata": {
    "slideshow": {
     "slide_type": "slide"
    }
   },
   "source": [
    "# <center><font color=\"blue\"> Google Colaboratory\n",
    "\n",
    "## https://colab.research.google.com\n",
    "\n",
    "* Free cloud computing (**Python 3.7** per Desember 2021).\n",
    "* Cocok untuk komputer yang memiliki spesifikasi yang relatif minim dan atau OS yang digunakan Macintosh. \n",
    "* Fasilitas runtime **GPU & TPU** gratis selama 12 jam (penting untuk Deep Learning)\n",
    "* Dapat dipadukan dengan Google Drive (back-up&Sync): https://www.google.com/drive/download/backup-and-sync/\n",
    "\n",
    "<center><img alt=\"\" src=\"images/Google-Colaboratory-interface.png\" style=\"width: 600px;\" />"
   ]
  },
  {
   "cell_type": "markdown",
   "id": "42e06a38",
   "metadata": {
    "slideshow": {
     "slide_type": "slide"
    }
   },
   "source": [
    "<h1><font color=\"blue\">Referensi untuk belajar (mandiri) Python</font></h1>\n",
    "\n",
    "* Pengenalan yang komprehensif **tau-data Indonesia**: https://tau-data.id/adsp/ & https://tau-data.id/hpds/\n",
    "* Python basic: https://www.python-course.eu/python3_history_and_philosophy.php \n",
    "* Data Science Basic: https://scikit-learn.org/stable/tutorial/index.html\n",
    "* Advance Python: http://andy.terrel.us/blog/2012/09/27/starting-with-python/\n",
    "* Visualisasi di Python: https://matplotlib.org/gallery.html\n",
    "\n",
    "<center><img alt=\"\" src=\"images/tau-data_banner_large.jpg\" style=\"width: 600px;\" />"
   ]
  },
  {
   "cell_type": "markdown",
   "id": "6ef45778",
   "metadata": {
    "slideshow": {
     "slide_type": "slide"
    }
   },
   "source": [
    "# <center><font color=\"blue\"> Syntax Dasar Python\n",
    "\n",
    "Sesuai dengan filosofi dasarnya, Python termasuk salah satu bahasa pemrograman yang paling mudah dipelajari dan penulisan code-nya terstruktur dengan baik. Beberapa hal yang mendukung hal ini:\n",
    "\n",
    "* Tidak perlu mendeklarasikan variable sebelum pemakaian.\n",
    "* Tidak membutuhkan “;” di akhir setiap baris.\n",
    "* Tidak membutuhkan kurung kurawal {} di beberapa instruksinya.\n",
    "* Menggunakan indent (tab/spasi x4) yang membuat penulisan program tertata dengan rapih.\n",
    "    \n",
    "<center><img alt=\"\" src=\"images/python-syntax-2-.jpg\" style=\"width: 600px;\" />"
   ]
  },
  {
   "cell_type": "markdown",
   "id": "62a34263",
   "metadata": {
    "slideshow": {
     "slide_type": "slide"
    }
   },
   "source": [
    "# <center><font color=\"blue\"> Struktur Data Dasar Python\n",
    "    \n",
    "Struktur Data yang sederhana (primitive) di Python meliputi:\n",
    "\n",
    "* Atomic: Boolean, integer, float, string.\n",
    "* Non-Atomic: Tuple, List, Set, Dictionary.\n",
    "    \n",
    "**Catatan**: \n",
    " - Semua variable di python adalah class/object yang memiliki property dan function\n",
    " - kita bisa akses semua property dan function ini via tombol \"tab\" atau perintah built-in \"dir(var)\"\n",
    "    \n",
    "<center><img alt=\"\" src=\"images/Python-data-structure.jpg\" style=\"width: 600px;\" />"
   ]
  },
  {
   "cell_type": "code",
   "execution_count": null,
   "id": "48db2a86",
   "metadata": {
    "slideshow": {
     "slide_type": "slide"
    }
   },
   "outputs": [],
   "source": [
    "# Demonstrasi Syntax dasar ~ Komentar satu baris ditandai dengan tanda hash # dan \n",
    "\"\"\"\n",
    "3 buah double quote untuk komentar lebih dari satu baris\n",
    "Seperti komentar ini.\n",
    "\"\"\"\n",
    "# python (seperti matlab) tidak memerlukan deklarasi variabel & boleh \"juggling variable\" ==> sangat tidak disarankan.\n",
    "A = 3 # integer\n",
    "B = 2.5 # float\n",
    "C = True # Boolean, False\n",
    "D = 'abcde hijk' # string, boleh \" atau '\n",
    "N = None # special atomic value di python, mirip NULL di database. Tapi beda dengan NaN\n",
    "\n",
    "print(\"C = {}, A = {}\".format(C, A)) \n",
    "# perintah print mengeluarkan output, menggunakan syntax \"format\" kita tidak perlu mengetahui tipe variabel C\n",
    "D # baris ini tidak akan muncul di output\n",
    "B, A # di jupyter notebook, baris terakhir setiap cell automatis di \"print\""
   ]
  },
  {
   "cell_type": "markdown",
   "id": "a3e5a2c2",
   "metadata": {
    "slideshow": {
     "slide_type": "slide"
    }
   },
   "source": [
    "# <center><font color=\"blue\"> Struktur Data Dasar Python Non-Atomic </font>\n",
    "\n",
    "<img src=\"images/tuple-list-set-dictionary-python.png\" style=\"height: 200px;\" />\n",
    "    \n",
    "* List dan Tuple di Python bukan Array ... Mengapa?\n",
    "* key di Dictionary adalah set\n",
    "* List dapat ditambahkan atau hapus lewat perintah **append** atau **remove**\n",
    "* **String di python adalah tuple**\n",
    "* Semua tipe variabel diatas adalah object dengan property dan fungsi yang berbeda\n",
    "* Operasi \"+\" concate 2 list (atau \"extend\")"
   ]
  },
  {
   "cell_type": "code",
   "execution_count": null,
   "id": "d478143f",
   "metadata": {
    "slideshow": {
     "slide_type": "fragment"
    }
   },
   "outputs": [],
   "source": [
    "# \"Array\" dasar di Python bisa berupa List, Tuple, Set atau Dictionary\n",
    "L = [1, 2, 3, 4]  # List : Mutable - nilai bisa berubah index mulai dari 0\n",
    "T = (1, 2, 3, 4)  # Tuple ~ List tapi imutable\n",
    "S = {1, 2, 3, 4}  # Set ~ Tidak memiliki index\n",
    "D = {0:'a', 1:'b', 'c':3, 'd':4} # Dictionary ~ index flexible\n",
    "print(\"L={}, T={}, S={}, D={}\".format(L, T, S, D))"
   ]
  },
  {
   "cell_type": "code",
   "execution_count": null,
   "id": "e0607ec2",
   "metadata": {},
   "outputs": [],
   "source": [
    "List = [2, 5, 7, 8, 6.7, 'string', True]\n",
    "List[1] = 33\n",
    "List"
   ]
  },
  {
   "cell_type": "code",
   "execution_count": null,
   "id": "dfe4836b",
   "metadata": {
    "slideshow": {
     "slide_type": "fragment"
    }
   },
   "outputs": [],
   "source": [
    "[11,33,55] + [66, 77]"
   ]
  },
  {
   "cell_type": "markdown",
   "id": "184b5dea",
   "metadata": {
    "slideshow": {
     "slide_type": "slide"
    }
   },
   "source": [
    "# <center><font color=\"blue\"> Slicing List/Tuple </font>\n",
    "<center><img src=\"images/taudata-python-slicing.png\" style=\"height: 300px;\" /></center>\n",
    "    \n",
    "* colon \":\" artinya hingga\n",
    "* **-1** artinya index terakhir"
   ]
  },
  {
   "cell_type": "code",
   "execution_count": null,
   "id": "5c7f697f",
   "metadata": {
    "slideshow": {
     "slide_type": "fragment"
    }
   },
   "outputs": [],
   "source": [
    "L = [3, 4, 5, 6, 7]\n",
    "L = L[::-1]\n",
    "L"
   ]
  },
  {
   "cell_type": "markdown",
   "id": "6f21bd7c",
   "metadata": {
    "slideshow": {
     "slide_type": "slide"
    }
   },
   "source": [
    "# <center><font color=\"blue\"> String di Python\n",
    "\n",
    "* string di python bisa menggunakan ' atau \"\n",
    "* String adalah Tuple (immutable)\n",
    "* Fungsi paling berguna di Python String (gambar)\n",
    "    \n",
    "<center><img src=\"images/python-string-methods-functions.png\" style=\"height: 200px;\" />"
   ]
  },
  {
   "cell_type": "code",
   "execution_count": null,
   "id": "6939ba02",
   "metadata": {
    "slideshow": {
     "slide_type": "fragment"
    }
   },
   "outputs": [],
   "source": [
    "print('Hello World')\n",
    "print(\"Hello World\")\n",
    "print(\"Hello 'World'\")\n",
    "print(\"Hello \\\"World\\\"\")"
   ]
  },
  {
   "cell_type": "code",
   "execution_count": null,
   "id": "8ee57f82",
   "metadata": {},
   "outputs": [],
   "source": [
    "S = \"hai ini sebuah string\"\n",
    "S[:5]"
   ]
  },
  {
   "cell_type": "code",
   "execution_count": null,
   "id": "4af2a901",
   "metadata": {
    "slideshow": {
     "slide_type": "fragment"
    }
   },
   "outputs": [],
   "source": [
    "S = \"       apa Kabar\\\n",
    "ANDA hari ini \"\n",
    "S = S.lower().replace(\"anda\", \"saudara\").strip()\n",
    "S"
   ]
  },
  {
   "cell_type": "markdown",
   "id": "e465e141",
   "metadata": {},
   "source": [
    "<img alt=\"\" src=\"images/meme-cartoon/meme_AI_if_statements.png\" style=\"height: 300px\" />"
   ]
  },
  {
   "cell_type": "markdown",
   "id": "7fa7f80e",
   "metadata": {
    "slideshow": {
     "slide_type": "slide"
    }
   },
   "source": [
    "<h1 id=\"Pendahuluan-Logika-Percabangan-(Conditional-Statement)---IF-\"><font color=\"blue\">Pendahuluan Logika Percabangan (Conditional Statement) - IF </font></h1>\n",
    "\n",
    "<ul>\n",
    "\t<li>Bentuk (unit) paling dasar dari kecerdasan buatan atau pembelajaran komputer, dahulu disebut sebagai <em>explicit rules machine learning</em> (but of course it&#39;s not AI ... :)).</li>\n",
    "\t<li>Bentuk umumnya:<br />\n",
    "\t<strong>IF</strong> (<em>kondisi</em>) <strong>MAKA</strong> (<em>tindakan</em>)</li>\n",
    "\t<li>Syarat utamanya adalah &quot;kondisi/syarat&quot; harus bernilai Boolean (True/False), sedangkan tindakan bisa apa saja.</li>\n",
    "</ul>\n",
    "<img alt=\"\" src=\"images/4_Cond_Statement_as_ML0.png\" style=\"width: 800px ; height: 300px\" />"
   ]
  },
  {
   "cell_type": "markdown",
   "id": "e1dc2c32",
   "metadata": {
    "slideshow": {
     "slide_type": "slide"
    }
   },
   "source": [
    "<h1><font color=\"blue\">Telaah Komponen Percabangan - IF </font></h1>\n",
    "\n",
    "<p><font color=\"blue\"><img alt=\"\" src=\"images/4_IF_Components_.png\" style=\"width: 800px; height: 424px;\" /></font></p>"
   ]
  },
  {
   "cell_type": "markdown",
   "id": "7426b327",
   "metadata": {
    "slideshow": {
     "slide_type": "slide"
    }
   },
   "source": [
    "# <center><font color=\"blue\"> Indenting di Python\n",
    "\n",
    "* Python menggunakan \"indenting\" dan bukan tanda kurung seperti banyak bahasa pemrograman lain\n",
    "* indent dinyatakan dengan 1x \"tab\" atau 4x \"spasi\" atau dari titik 2 (:) bisa langsung dienter\n",
    "* Hati-hati ketika python script di edit lintas platform (Windows, Mac, Linux)\n",
    "    \n",
    "<center><img alt=\"\" src=\"images/meme-cartoon/python indenting meme.jpg\" style=\"height: 300px;\" />"
   ]
  },
  {
   "cell_type": "code",
   "execution_count": null,
   "id": "81ab9286",
   "metadata": {
    "slideshow": {
     "slide_type": "slide"
    }
   },
   "outputs": [],
   "source": [
    "a = int(input('a='))\n",
    "\n",
    "if a>0:\n",
    "    print('a bil pos')\n",
    "elif a==0:\n",
    "    print('a = 0')\n",
    "else:\n",
    "    print('a adalah bil negatif')"
   ]
  },
  {
   "cell_type": "markdown",
   "id": "64492e99",
   "metadata": {
    "slideshow": {
     "slide_type": "slide"
    }
   },
   "source": [
    "# <center><font color=\"blue\"> Hati-hati Boolean Trap di Python\n",
    "\n",
    "## Python mirip dengan PHP dalam mendefinisikan boolean sebagai **True / False**: \n",
    "\n",
    "### variabel bernilai **False**:\n",
    "- Nol: numerical zero values (0, 0.0, 0.0+0.0j),\n",
    "- Boolean variable: \"False\"\n",
    "- String Kosong: '' ATAU \"\"\n",
    "- List, Tuple, Set, & Dictionary kosong: [], (), set(), ATAU {}  \n",
    "- Variabel bernilai \"None\".\n",
    "\n",
    "### Semua nilai lain dianggap sebagai True\n",
    "    \n",
    "<center><img alt=\"\" src=\"images/meme-cartoon/boolean trap cursed.png\" style=\"height: 200px;\" />"
   ]
  },
  {
   "cell_type": "code",
   "execution_count": null,
   "id": "d0e93628",
   "metadata": {
    "slideshow": {
     "slide_type": "fragment"
    }
   },
   "outputs": [],
   "source": [
    "x = 1\n",
    "if x:\n",
    "    print('x={} di python bernilai benar'.format(x))\n",
    "else:\n",
    "    print('x={} di python bernilai salah'.format(x))"
   ]
  },
  {
   "cell_type": "markdown",
   "id": "62049a38",
   "metadata": {
    "slideshow": {
     "slide_type": "slide"
    }
   },
   "source": [
    "## <font color=\"blue\"> Exceptions (Try-Except): One of the reason why Python is awesome!</font>\n",
    "\n",
    "* Secara umum sebuah program sebaiknya harus memiliki \"precaution\", just in case input yang tidak diinginkan masuk ke sistem dan mengakibatkan error.\n",
    "* Istilah formal untuk hal ini adalah \"Domain Constraint\".\n",
    "* Pada dasarnya hampir semua bahasa pemrograman (dan database) mampu melakukan domain constraint. Namun di Python dapat dilakukan dengan jauuuuhhh lebih sederhana (simple)"
   ]
  },
  {
   "cell_type": "code",
   "execution_count": null,
   "id": "4a57ee16",
   "metadata": {
    "slideshow": {
     "slide_type": "fragment"
    }
   },
   "outputs": [],
   "source": [
    "N = int(input('masukkan sembarang angka = '))\n",
    "N"
   ]
  },
  {
   "cell_type": "code",
   "execution_count": null,
   "id": "b48813df",
   "metadata": {
    "slideshow": {
     "slide_type": "fragment"
    }
   },
   "outputs": [],
   "source": [
    "# Contoh TRY - Except\n",
    "try:\n",
    "    n = int(input(\"Please input any integer N = \"))\n",
    "    print('Terima Kasih')\n",
    "except:\n",
    "    print('yang anda masukkan bukan angka')"
   ]
  },
  {
   "cell_type": "markdown",
   "id": "b519c7fe",
   "metadata": {
    "slideshow": {
     "slide_type": "slide"
    }
   },
   "source": [
    "# Catch the Error! (Better usage of Try-Except)"
   ]
  },
  {
   "cell_type": "code",
   "execution_count": null,
   "id": "545686c2",
   "metadata": {
    "slideshow": {
     "slide_type": "fragment"
    }
   },
   "outputs": [],
   "source": [
    "try:\n",
    "    n = int(input(\"Please input any integer = \"))\n",
    "    print('Terima Kasih')\n",
    "except Exception as err_:\n",
    "    print('Error : ', err_)\n",
    "    \n",
    "print('ini diluar try-except')"
   ]
  },
  {
   "cell_type": "markdown",
   "id": "23b25009",
   "metadata": {
    "slideshow": {
     "slide_type": "slide"
    }
   },
   "source": [
    "# <center><font color=\"blue\"> Loop in Python and why it looks like an algorithm :) </font>\n",
    "\n",
    "* But first, let's talk about \"**range function**\" in Python\n",
    "* \"range\" menghasilkan barisan immutable mulai dari \"start\" hingga \"end\" dengan tahapan = \"step\"\n",
    "\n",
    "<img alt=\"\" src=\"images/python_range.png\" style=\"height: 200px;\" />"
   ]
  },
  {
   "cell_type": "code",
   "execution_count": null,
   "id": "f4ae27ba",
   "metadata": {},
   "outputs": [],
   "source": [
    "list(range(6))"
   ]
  },
  {
   "cell_type": "code",
   "execution_count": null,
   "id": "ab2d7225",
   "metadata": {
    "slideshow": {
     "slide_type": "fragment"
    }
   },
   "outputs": [],
   "source": [
    "# Range boleh menggunakan \"STEP\"\n",
    "# Bentuk umumnya range(START, END, STEP)\n",
    "list(range(5, 25, 5))"
   ]
  },
  {
   "cell_type": "code",
   "execution_count": null,
   "id": "d4ae8903",
   "metadata": {
    "slideshow": {
     "slide_type": "fragment"
    }
   },
   "outputs": [],
   "source": [
    "for i in range(3, 9, 2):\n",
    "    print(i, end=\", \")"
   ]
  },
  {
   "cell_type": "markdown",
   "id": "6141059f",
   "metadata": {
    "slideshow": {
     "slide_type": "slide"
    }
   },
   "source": [
    "# <center> Contoh Kasus Loop\n",
    "<img alt=\"\" src=\"images/3_Looping_Components.png\" style=\"height: 150px;\" />"
   ]
  },
  {
   "cell_type": "code",
   "execution_count": null,
   "id": "8ad27f53",
   "metadata": {
    "slideshow": {
     "slide_type": "fragment"
    }
   },
   "outputs": [],
   "source": [
    "S = 0.0\n",
    "for i in range(1, 101):\n",
    "    S += i # S = S + i\n",
    "S # 1 + 2 + 3 + ... + 100"
   ]
  },
  {
   "cell_type": "code",
   "execution_count": null,
   "id": "e3b43bc0",
   "metadata": {},
   "outputs": [],
   "source": [
    "list(range(5,25,5))"
   ]
  },
  {
   "cell_type": "code",
   "execution_count": null,
   "id": "61043d98",
   "metadata": {
    "slideshow": {
     "slide_type": "fragment"
    }
   },
   "outputs": [],
   "source": [
    "sum(range(1,101))"
   ]
  },
  {
   "cell_type": "markdown",
   "id": "48e383b1",
   "metadata": {
    "slideshow": {
     "slide_type": "slide"
    }
   },
   "source": [
    "# <center><font color=\"blue\"> index Loop di Python bisa dibuat implisit </font>\n",
    "\n",
    "* bisa juga dikeluarkan index loopnya jika dibutuhkan dengan perintah enumerate"
   ]
  },
  {
   "cell_type": "code",
   "execution_count": null,
   "id": "4b8704cf",
   "metadata": {
    "slideshow": {
     "slide_type": "fragment"
    }
   },
   "outputs": [],
   "source": [
    "provinsi = ['aceh', 'jawa barat', 'sumatera selatan', 'bali', 'madura', 'jawa tengah']\n",
    "for p in provinsi:\n",
    "    print(p, end=', ')"
   ]
  },
  {
   "cell_type": "code",
   "execution_count": null,
   "id": "169409c6",
   "metadata": {
    "slideshow": {
     "slide_type": "fragment"
    }
   },
   "outputs": [],
   "source": [
    "for i, prov in enumerate(provinsi): \n",
    "    print(\"propinsi ke-{} = {}, \".format(i, prov))"
   ]
  },
  {
   "cell_type": "markdown",
   "id": "15ece848",
   "metadata": {
    "slideshow": {
     "slide_type": "slide"
    }
   },
   "source": [
    "<h1><font color=\"blue\">Kasus sederhana data science: Skewness dan Transformasi Data </font></h1>\n",
    "\n",
    "<img alt=\"\" src=\"images/3_data_transformation.png\" style=\"width: 769px; height: 404px;\" />\n"
   ]
  },
  {
   "cell_type": "code",
   "execution_count": null,
   "id": "ffe3dd4f",
   "metadata": {
    "slideshow": {
     "slide_type": "fragment"
    }
   },
   "outputs": [],
   "source": [
    "# Contoh 1 bagaimana mentransform suatu data\n",
    "A = [99,89,80,50,25,12,11,10,9,8,7,6,5,4,3,2,1, -1]\n",
    "B = [] # inisialisasi dengan array (list) kosong\n",
    "for datum in A:\n",
    "    B.append(1/datum) # APPEND adalah perintah untuk menambahkan elemen ke suatu array (list)\n",
    "print(A)\n",
    "print(B)"
   ]
  },
  {
   "cell_type": "markdown",
   "id": "26d32865",
   "metadata": {
    "slideshow": {
     "slide_type": "slide"
    }
   },
   "source": [
    "<h1><font color=\"blue\">Contoh Inverse Transformation : Cara 2 </font></h1>\n",
    "\n",
    "* Cara diatas memiliki kelemahan yang cukup serius ketika datanya besar. Apakah itu? \n",
    "* *Copy Memory*"
   ]
  },
  {
   "cell_type": "code",
   "execution_count": null,
   "id": "998340f3",
   "metadata": {
    "slideshow": {
     "slide_type": "fragment"
    }
   },
   "outputs": [],
   "source": [
    "# Contoh 2 bagaimana mentransform suatu data\n",
    "# Kita akan menelaah lebih jauh di pertemuan setelah UTS\n",
    "A = [99,89,80,50,25,12,11,10,9,8,7,6,5,4,3,2,1]\n",
    "N = len(A)\n",
    "for i in range(N):\n",
    "    A[i] = 1/A[i] # ini disebut in-place processing. Jauh lebih hemat memory\n",
    "print(A)"
   ]
  },
  {
   "cell_type": "code",
   "execution_count": null,
   "id": "73ab771f",
   "metadata": {
    "slideshow": {
     "slide_type": "slide"
    }
   },
   "outputs": [],
   "source": [
    "# Contoh 3 bagaimana mentransform suatu data\n",
    "# Cara yg spesifik untuk Python (recommended)\n",
    "A = [99,89,80,50,25,12,11,10,9,8,7,6,5,4,3,2,1]\n",
    "for i, a in enumerate(A): # perintah ENUMERATE di Python akan menghasilkan variable \"index\" dari \"a\" \n",
    "    A[i] = 1/a # tetap in-place processing\n",
    "print(A)"
   ]
  },
  {
   "cell_type": "markdown",
   "id": "4063b202",
   "metadata": {
    "slideshow": {
     "slide_type": "slide"
    }
   },
   "source": [
    "# <center><font color=\"blue\"> List Comprehension: Flat ... It's a Python thing</font>\n",
    "<img alt=\"\" src=\"images/meme-cartoon/2_meme_python easier than psudocode.jpg\" style=\"height: 200px;\" />"
   ]
  },
  {
   "cell_type": "code",
   "execution_count": null,
   "id": "0b2e30c1",
   "metadata": {
    "scrolled": true,
    "slideshow": {
     "slide_type": "slide"
    }
   },
   "outputs": [],
   "source": [
    "# Contoh 4 bagaimana mentransform suatu data\n",
    "# Cara yg spesifik untuk Python (Highly recommended)\n",
    "A = [99,89,80,50,25,12,11,10,9,8,7,6,5,4,3,2,1,-1]\n",
    "[1/a for a in A]"
   ]
  },
  {
   "cell_type": "markdown",
   "id": "d6e66bbf",
   "metadata": {
    "slideshow": {
     "slide_type": "slide"
    }
   },
   "source": [
    "# <center><font color=\"blue\"> Zip dalam Loop</font>\n",
    "* Sangat bermanfaat di data science saat hendak melakukan looping atas 2 atau lebih variabel\n",
    "\n",
    "<img alt=\"\" src=\"images/python_zip.png\" style=\"height: 200px;\" />"
   ]
  },
  {
   "cell_type": "code",
   "execution_count": null,
   "id": "90b47a32",
   "metadata": {
    "slideshow": {
     "slide_type": "fragment"
    }
   },
   "outputs": [],
   "source": [
    "customer = (\"rumah tangga\", \"industri\", \"bisnis\")\n",
    "daya = (900, 125000, 16000)\n",
    "lama_customer = (234, 456, 798)\n",
    "\n",
    "A = list(zip(customer, daya, lama_customer))\n",
    "A"
   ]
  },
  {
   "cell_type": "markdown",
   "id": "736199d1",
   "metadata": {
    "slideshow": {
     "slide_type": "slide"
    }
   },
   "source": [
    "# <center><font color=\"blue\">Pendahuluan Indefinite Loop - While </font>\n",
    "\n",
    "* While loop digunakan saat kita hendak melakukan perulangan/iterasi, namun tidak mengetahui secara pasti jumlah perulangannya.\n",
    "* Kondisi di perulangan = pencabangan IF, yaitu bernilai boolean\n",
    "* Kondisi di While biasa disebut Stopper\n",
    "* Stopper dapat diletakkan di awal atau akhir (Repeat-Until)\n",
    "* Di dalam &quot;loop body&quot; wajib memuat suatu mekanisme yang mengakibatkan suatu saat Stopper bernilai True.* Precautions sangat disarankan di While loop dengan memasukkan jumlah iterasi maksimum\n",
    "* Semua Looping **For** dapat digantikan dengan Looping **While**, namun hal tsb adalah BAD PRACTICE (why?)\n",
    "\n",
    "<img alt=\"\" src=\"images/5_while_loop_Schema.png\" style=\"width: 280px; height: 225px;\" />"
   ]
  },
  {
   "cell_type": "code",
   "execution_count": null,
   "id": "c197e9bb",
   "metadata": {
    "slideshow": {
     "slide_type": "slide"
    }
   },
   "outputs": [],
   "source": [
    "# Contoh Looping While di Python\n",
    "n = 1\n",
    "epoch = 0\n",
    "max_iter = 17\n",
    "while n>0.001 and epoch<max_iter:\n",
    "    n = n/2\n",
    "    print(n, end = ', ')\n",
    "    epoch += 1"
   ]
  },
  {
   "cell_type": "markdown",
   "id": "b8298c0d",
   "metadata": {
    "slideshow": {
     "slide_type": "slide"
    }
   },
   "source": [
    "# <center><font color=\"blue\">Fungsi di Python\n",
    "\n",
    "* Syntak fungsi di Python **def**\n",
    "* parameter berurut, kecuali ada default value\n",
    "* Arg dan Kwarg belum dibahas di pembahasan dasar fungsi\n",
    "* bentuk umum fungsi\n",
    "<img alt=\"\" src=\"images/7_fungsi_py.png\" style=\"height: 150px;\" />\n",
    "    "
   ]
  },
  {
   "cell_type": "code",
   "execution_count": null,
   "id": "817e0160",
   "metadata": {
    "slideshow": {
     "slide_type": "slide"
    }
   },
   "outputs": [],
   "source": [
    "def Pungsi(A,B):\n",
    "    \"\"\"\n",
    "    ini adalah contoh fungsi sederhana dengan dua parameter\n",
    "    input: A, B sembarang 2 bilangan (int/float)\n",
    "    output: A kuadrat tambah dua kali B tambah 2 (int/float)\n",
    "    \"\"\"\n",
    "    hasil = A**2 + 2*B + 2\n",
    "    return hasil # atau simply return A**2 + 2*B +2\n",
    "\n",
    "C, D = 2, 5\n",
    "print(\"C={}, D={}, Nilai Pungsi(C,D)={}\".format(C, D, Pungsi(C,D)))"
   ]
  },
  {
   "cell_type": "code",
   "execution_count": null,
   "id": "f3d05c91",
   "metadata": {
    "slideshow": {
     "slide_type": "slide"
    }
   },
   "outputs": [],
   "source": [
    "# default Value sangat berguna di DS/ML\n",
    "def PP(A, B=5, C=0):\n",
    "    return A + B - C\n",
    "\n",
    "print(PP(7), PP(7, B=1), PP(7, C=2, B=3))"
   ]
  },
  {
   "cell_type": "code",
   "execution_count": null,
   "id": "999b5cec",
   "metadata": {},
   "outputs": [],
   "source": [
    "def ff(A, B, C, F=8, E=3):\n",
    "    return A+B+C+E+F\n",
    "\n",
    "ff(1, 2, 5)"
   ]
  },
  {
   "cell_type": "markdown",
   "id": "5828cfbf",
   "metadata": {
    "slideshow": {
     "slide_type": "slide"
    }
   },
   "source": [
    "# <center><font color=\"blue\">Pendahuluan Module di Python\n",
    "\n",
    "* Module di load dengan perintah **import**\n",
    "* Dapat juga load sebagian fungsi dari module dengan peintah **from**\n",
    "* Module yang di load dapat dirubah namanya dengan perintah **as**\n",
    "* Fungsi dan module yang di load di simpan di **namespace** python.\n",
    "* Kita dapat membuat kumpulan fungsi dalam file \".py\" lalu me-load-nya seperti module biasa\n",
    "* Di Python module tidak selalu ditulis dalam bahasa Python juga, contohnya Numpy ditulis dalam bahasa C & Fortan, atau Spacy/Gensim dalam C++, dsb. Hal ini salah satu penyebab performa Python on-par dengan bahasa pemrograman lain.\n",
    "\n",
    "<img alt=\"\" src=\"images/python_modules.png\" style=\"height: 300px;\" />"
   ]
  },
  {
   "cell_type": "markdown",
   "id": "0405f286",
   "metadata": {},
   "source": [
    "# Dasar Matematika untuk Kecerdasan Artifisial dan Data Science\n",
    "\n",
    "* **Linear Algebra**\n",
    " * Introduction Linear Algebra and AI\n",
    " * Matrix Operations\n",
    " * System of Linear Equations\n",
    " * Eigenvalues\n",
    " * Matrix Decomposition (==> Exercise)\n",
    "* **Calculus**\n",
    " * Introduction: Calculus and AI\n",
    " * fungsi, turunan, dan nilai Optimal (==> Exercise)\n",
    "* **Probability**\n",
    " * Central Measures and data disperity\n",
    " * Simple visualisations\n",
    " * Probability and probability Distributions\n",
    " * Generalizations : Training-testing data & Cross Validation\n",
    " * Optimal Parameter & Inductive Bias\n",
    "* **Geometri-Topologi**\n",
    " - Konsep Jarak/metric\n",
    "* **Matematika Diskrit** \n",
    " - Kombinatorik & Graph Theory\n",
    "* **Statistika** \n",
    " - Konsep dasar Statistika, peluang, dan distribusi."
   ]
  },
  {
   "cell_type": "markdown",
   "id": "0647f4a5",
   "metadata": {
    "slideshow": {
     "slide_type": "slide"
    }
   },
   "source": [
    "<h1 id=\"Data\">Data</h1>\n",
    "<img alt=\"\" src=\"images/data.png\" style=\"width: 800px; height: 515px;\" />"
   ]
  },
  {
   "cell_type": "markdown",
   "id": "08833e4b",
   "metadata": {},
   "source": [
    "<h1 id=\"Metode\">Metode</h1>\n",
    "\n",
    "<p><img alt=\"\" src=\"images/metode.png\" style=\"width: 800px; height: 481px;\" /></p>"
   ]
  },
  {
   "cell_type": "markdown",
   "id": "aca29f6f",
   "metadata": {},
   "source": [
    "# Linear algebra with Numpy\n",
    "\n",
    " [Numpy](http://www.numpy.org/) is a high performance library for numeric/scientific computations that can be used for linear algebra, Fourier transform, and random number capabilities.\n",
    "\n",
    "First we will learn how to:\n",
    "\n",
    "- Numpy Array (N dimensional) VS Numpy Matrix (2D)\n",
    "- Manipulate matrices;\n",
    "- Solve Matrix equations;\n",
    "- Calculate Matrix inverse and determinants.\n",
    "\n",
    "## Manipulating matrices\n",
    "\n",
    "It is straightforward to create a Matrix using Numpy. Let us consider the following as a examples:\n",
    "\n",
    "$$\n",
    "A = \\begin{pmatrix}\n",
    "5 & 6 & 2\\\\\n",
    "4 & 7 & 19\\\\\n",
    "0 & 3 & 12\n",
    "\\end{pmatrix}\n",
    "$$\n",
    "\n",
    "$$\n",
    "B = \\begin{pmatrix}\n",
    "14 & -2 & 12\\\\\n",
    "4 & 4 & 5\\\\\n",
    "5 & 5 & 1\n",
    "\\end{pmatrix}\n",
    "$$\n",
    "\n"
   ]
  },
  {
   "cell_type": "code",
   "execution_count": null,
   "id": "3a891a14",
   "metadata": {},
   "outputs": [],
   "source": [
    "# Mulai dengan Numpy array\n",
    "import warnings; warnings.simplefilter('ignore')\n",
    "\n",
    "import numpy as np\n",
    "s = [2.0, 2.5, 1.1, 2.5]\n",
    "C = np.array(s)\n",
    "print(C, type(C))\n",
    "C.shape"
   ]
  },
  {
   "cell_type": "code",
   "execution_count": null,
   "id": "7b8cc56a",
   "metadata": {},
   "outputs": [],
   "source": [
    "# elemen wise operations\n",
    "print(C * 2+1)"
   ]
  },
  {
   "cell_type": "code",
   "execution_count": null,
   "id": "4aabb14b",
   "metadata": {},
   "outputs": [],
   "source": [
    "try:\n",
    "    print(s * 2+1)\n",
    "except:\n",
    "    print('Error : tidak bisa dilakukan di List')"
   ]
  },
  {
   "cell_type": "code",
   "execution_count": null,
   "id": "35600a4a",
   "metadata": {},
   "outputs": [],
   "source": [
    "print(C)\n",
    "print(C*C)"
   ]
  },
  {
   "cell_type": "code",
   "execution_count": null,
   "id": "d8d299d9",
   "metadata": {},
   "outputs": [],
   "source": [
    "print(np.dot(C,C)) # Similarity cosine di Data Science"
   ]
  },
  {
   "cell_type": "code",
   "execution_count": null,
   "id": "22860b73",
   "metadata": {},
   "outputs": [],
   "source": [
    "A = np.array([[1, 0, 1],\n",
    "               [1, 1, 0],\n",
    "               [0, 1, 1]])\n",
    "B = np.array([[1, 2, 3],\n",
    "               [4, 5, 6],\n",
    "               [7, 8, 9]])\n",
    "print(A)\n",
    "A.shape"
   ]
  },
  {
   "cell_type": "code",
   "execution_count": null,
   "id": "26f00bc1",
   "metadata": {},
   "outputs": [],
   "source": [
    "# Perkalian Matrix ?? ==> No --> Element Wise Operations\n",
    "A*B"
   ]
  },
  {
   "cell_type": "code",
   "execution_count": null,
   "id": "744523c7",
   "metadata": {},
   "outputs": [],
   "source": [
    "# Perkalian Matrix dilakukan dengan fungsi numpy, bisa dgn input Array\n",
    "np.dot(A,B)"
   ]
  },
  {
   "cell_type": "markdown",
   "id": "abd646d6",
   "metadata": {},
   "source": [
    "## Solving Matrix equations\n",
    "\n",
    "We can use Numpy to (efficiently) solve large systems of equations of the form:\n",
    "\n",
    "$$Ax=b$$\n",
    "\n",
    "Let us illustrate that with:\n",
    "\n",
    "$$\n",
    "A = \\begin{pmatrix}\n",
    "5 & 6 & 2\\\\\n",
    "4 & 7 & 19\\\\\n",
    "0 & 3 & 12\n",
    "\\end{pmatrix}\n",
    "$$\n",
    "\n",
    "$$\n",
    "b = \\begin{pmatrix}\n",
    "-1\\\\\n",
    "2\\\\\n",
    "1 \n",
    "\\end{pmatrix}\n",
    "$$"
   ]
  },
  {
   "cell_type": "code",
   "execution_count": null,
   "id": "517c5842",
   "metadata": {},
   "outputs": [],
   "source": [
    "A = np.array([[5, 6, 2],\n",
    "               [4, 7, 19],\n",
    "               [0, 3, 12]])\n",
    "b = np.array([[-1], [2], [1]])\n",
    "\n",
    "np.linalg.solve(A, b)"
   ]
  },
  {
   "cell_type": "code",
   "execution_count": null,
   "id": "6725b7e8",
   "metadata": {},
   "outputs": [],
   "source": [
    "# Invers Matrix\n",
    "np.linalg.inv(A) # verify?"
   ]
  },
  {
   "cell_type": "code",
   "execution_count": null,
   "id": "b51cbaf9",
   "metadata": {},
   "outputs": [],
   "source": [
    "# Array Norm\n",
    "v = np.array([1,2,3,4])\n",
    "np.linalg.norm(v,2) # 2 = euclidean, 1 = absolut sum, etc\n",
    "#https://docs.scipy.org/doc/numpy/reference/generated/numpy.linalg.norm.html"
   ]
  },
  {
   "cell_type": "markdown",
   "id": "13084d5e",
   "metadata": {},
   "source": [
    "<p><img alt=\"\" src=\"images/intro_eigen.png\" style=\"width: 800px; height: 404px;\" /></p>"
   ]
  },
  {
   "cell_type": "code",
   "execution_count": null,
   "id": "129b2370",
   "metadata": {},
   "outputs": [],
   "source": [
    "A = np.matrix([[1, 1, 1],\n",
    "               [0, 2, 2],\n",
    "               [0, 0, 3]])\n",
    "eigvals, eigenvecs = np.linalg.eig(A)\n",
    "print(eigenvecs)\n",
    "eigvals"
   ]
  },
  {
   "cell_type": "markdown",
   "id": "ad7cd9b8",
   "metadata": {},
   "source": [
    "<h1 id=\"Singular-Value-Decomposition\">Singular Value Decomposition</h1>\n",
    "\n",
    "<img alt=\"\" src=\"images/4_SVD - LSA - recommendation.jpg\" style=\"width: 744px; height: 386px;\" />"
   ]
  },
  {
   "cell_type": "markdown",
   "id": "f4db709e",
   "metadata": {},
   "source": [
    "<p><img alt=\"\" src=\"images/4_makna_SVD_.png\" style=\"width: 593px; height: 152px;\" /></p>\n"
   ]
  },
  {
   "cell_type": "code",
   "execution_count": null,
   "id": "32347c8d",
   "metadata": {},
   "outputs": [],
   "source": [
    "A = np.matrix([[1, 1, 1],\n",
    "               [0, 2, 2],\n",
    "               [0, 0, 3]])\n",
    "np.linalg.svd(A)"
   ]
  },
  {
   "cell_type": "markdown",
   "id": "d2e59282",
   "metadata": {},
   "source": [
    "<h1 id=\"Calculus\">Calculus</h1>\n",
    "\n",
    "<h3 id=\"Functions\">Functions</h3>\n",
    "\n",
    "<p>A function from set <span class=\"MathJax_Preview\" style=\"color: inherit;\"><span class=\"MJXp-math\" id=\"MJXp-Span-307\"><span class=\"MJXp-mi MJXp-italic\" id=\"MJXp-Span-308\">A</span></span></span><script type=\"math/tex\" id=\"MathJax-Element-42\">A</script> to set <span class=\"MathJax_Preview\" style=\"color: inherit;\"><span class=\"MJXp-math\" id=\"MJXp-Span-309\"><span class=\"MJXp-mi MJXp-italic\" id=\"MJXp-Span-310\">B</span></span></span><script type=\"math/tex\" id=\"MathJax-Element-43\">B</script> is an assign rule for each <span class=\"MathJax_Preview\" style=\"color: inherit;\"><span class=\"MJXp-math\" id=\"MJXp-Span-311\"><span class=\"MJXp-mi MJXp-italic\" id=\"MJXp-Span-312\">x</span></span></span><script type=\"math/tex\" id=\"MathJax-Element-44\">x</script> in <span class=\"MathJax_Preview\" style=\"color: inherit;\"><span class=\"MJXp-math\" id=\"MJXp-Span-313\"><span class=\"MJXp-mi MJXp-italic\" id=\"MJXp-Span-314\">A</span></span></span><script type=\"math/tex\" id=\"MathJax-Element-45\">A</script> if and only if to one <span class=\"MathJax_Preview\" style=\"color: inherit;\"><span class=\"MJXp-math\" id=\"MJXp-Span-315\"><span class=\"MJXp-mi MJXp-italic\" id=\"MJXp-Span-316\">y</span></span></span><script type=\"math/tex\" id=\"MathJax-Element-46\">y</script> in <span class=\"MathJax_Preview\" style=\"color: inherit;\"><span class=\"MJXp-math\" id=\"MJXp-Span-317\"><span class=\"MJXp-mi MJXp-italic\" id=\"MJXp-Span-318\">B</span></span></span><script type=\"math/tex\" id=\"MathJax-Element-47\">B</script>.</p>\n",
    "\n",
    "<h3>Example</h3>\n",
    "\n",
    "<p>Define a function&nbsp;<img alt=\"$f(x)=x^2+2x-1$\" src=\"https://render.githubusercontent.com/render/math?math=f%28x%29%3Dx%5E2%2B2x-1&amp;mode=inline\" /></p>\n"
   ]
  },
  {
   "cell_type": "code",
   "execution_count": null,
   "id": "6ff2e855",
   "metadata": {},
   "outputs": [],
   "source": [
    "def f(x):\n",
    "    return x**2+2*x-1"
   ]
  },
  {
   "cell_type": "markdown",
   "id": "81073a57",
   "metadata": {},
   "source": [
    "# (Optimal) Function in Machine Learning or Deep Learning?\n",
    "\n",
    "* Loss (error) Function (Need to be Optimized)\n",
    " - e.g. $MSE = \\frac{1}{N}\\sum_{i=1}^N(y_i-\\hat{y_i})^2$\n",
    " - $\\hat{y} = \\beta_0 + \\beta_1x_1 + ... + \\beta_nx_n$\n",
    "* Optimal value of a function (involve derivative of the function)\n",
    "* However, analytical derivative is rarely used in ML / AI.\n",
    "<p><img alt=\"\" src=\"images/intro_optimasi_numerik.png\" style=\"width: 800px; height: 370px;\" /></p>"
   ]
  },
  {
   "cell_type": "markdown",
   "id": "7d81201a",
   "metadata": {},
   "source": [
    "<h2 id=\"Optimization-of-multivariate-function-using-Newton-Approach\">Optimization of multivariate function using Newton Approach</h2>\n",
    "\n",
    "<p><img alt=\"\" src=\"images/multivariate_derivative.png\" style=\"width: 585px; height: 40px;\" /></p>\n",
    "\n",
    "<p>Where $H(X_0)$ is the Hessian matrix (second derivative)</p>\n",
    "\n",
    "Contoh aplikasi pada Rosenbrock Function: $f(x,y) = (a-x)^2 + b(y-x^2)^2$\n"
   ]
  },
  {
   "cell_type": "code",
   "execution_count": null,
   "id": "345c8a33",
   "metadata": {},
   "outputs": [],
   "source": [
    "from scipy.optimize import minimize\n",
    "\n",
    "def rosen(x):\n",
    "    \"\"\"The Rosenbrock function\"\"\"\n",
    "    return sum(100.0*(x[1:]-x[:-1]**2.0)**2.0 + (1-x[:-1])**2.0)\n",
    "\n",
    "x0 = np.array([1.3, 0.7, 0.8, 1.9, 1.2])\n",
    "minimize(rosen, x0)"
   ]
  },
  {
   "cell_type": "markdown",
   "id": "c3b7592a",
   "metadata": {},
   "source": [
    "<h1 id=\"Initial-solution/Values-X0-is-very-important-in-Machine-Learning/AI\">Initial solution/Values X0 is very important in Machine Learning/AI</h1>\n",
    "\n",
    "<p><img alt=\"\" src=\"images/init_w.png\" style=\"width: 595px; height: 304px;\" /></p>\n"
   ]
  },
  {
   "cell_type": "markdown",
   "id": "787fbeb7",
   "metadata": {},
   "source": [
    "# Probability\n",
    "\n",
    "<ul>\n",
    "\t<li>Central Measures and data disperity</li>\n",
    "\t<li>Simple visualisations</li>\n",
    "\t<li>Probability and probability Distributions</li>\n",
    "\t<li>Generalizations : Training-testing data &amp; Cross Validation</li>\n",
    "\t<li>Optimal Parameter &amp; Inductive Bias</li>\n",
    "</ul>"
   ]
  },
  {
   "cell_type": "markdown",
   "id": "5257a90c",
   "metadata": {},
   "source": [
    "# Central and Disperity Measures\n",
    "\n",
    "<p><img alt=\"\" src=\"images/central.png\" style=\"width: 705px; height: 523px;\" /></p>"
   ]
  },
  {
   "cell_type": "code",
   "execution_count": null,
   "id": "d73f6b39",
   "metadata": {},
   "outputs": [],
   "source": [
    "import seaborn as sns\n",
    "sns.set()\n",
    "\n",
    "iris = sns.load_dataset(\"iris\")\n",
    "iris.head()"
   ]
  },
  {
   "cell_type": "code",
   "execution_count": null,
   "id": "8884ba45",
   "metadata": {},
   "outputs": [],
   "source": [
    "# Central Measures and Disperity\n",
    "iris.describe(include='all')"
   ]
  },
  {
   "cell_type": "code",
   "execution_count": null,
   "id": "ee8d9c8a",
   "metadata": {},
   "outputs": [],
   "source": [
    "p = sns.pairplot(iris, hue='species', height=2.5)"
   ]
  },
  {
   "cell_type": "code",
   "execution_count": null,
   "id": "a922bf24",
   "metadata": {},
   "outputs": [],
   "source": [
    "p = sns.countplot(x=iris['species']) # perhatikan sekarang kita memanggil fungsi SNS"
   ]
  },
  {
   "cell_type": "markdown",
   "id": "b36fcc21",
   "metadata": {},
   "source": [
    "<h1 id=\"Probability\">Probability</h1>\n",
    "\n",
    "<p><img alt=\"\" src=\"images/probs.png\" style=\"width: 637px; height: 262px;\" /></p>\n"
   ]
  },
  {
   "cell_type": "markdown",
   "id": "908ffeee",
   "metadata": {},
   "source": [
    "<p><img alt=\"\" src=\"images/disc_Distributions.jpg\" style=\"width: 535px; height: 438px;\" /></p>\n"
   ]
  },
  {
   "cell_type": "markdown",
   "id": "ddcb9744",
   "metadata": {},
   "source": [
    "<p><img alt=\"\" src=\"images/Con_Distributions.jpg\" style=\"width: 535px; height: 568px;\" /></p>"
   ]
  },
  {
   "cell_type": "code",
   "execution_count": null,
   "id": "549df8f2",
   "metadata": {},
   "outputs": [],
   "source": [
    "import random as rand\n",
    "\n",
    "rand.random()"
   ]
  },
  {
   "cell_type": "code",
   "execution_count": null,
   "id": "fbaa50d6",
   "metadata": {},
   "outputs": [],
   "source": [
    "rand.randint(1,12)"
   ]
  },
  {
   "cell_type": "code",
   "execution_count": null,
   "id": "d661e2d6",
   "metadata": {},
   "outputs": [],
   "source": [
    "mu, sigma = 0, 0.1\n",
    "s = np.random.normal(mu, sigma, 1000)\n",
    "s"
   ]
  },
  {
   "cell_type": "code",
   "execution_count": null,
   "id": "69f5d2df",
   "metadata": {},
   "outputs": [],
   "source": [
    "import matplotlib.pyplot as plt\n",
    "\n",
    "count, bins, ignored = plt.hist(s, 30, density=True)\n",
    "plt.plot(bins, 1/(sigma * np.sqrt(2 * np.pi)) * np.exp( - (bins - mu)**2 / (2 * sigma**2) ), linewidth=2, color='r')\n",
    "plt.show()"
   ]
  },
  {
   "cell_type": "markdown",
   "id": "5819aa65",
   "metadata": {},
   "source": [
    "<p><img alt=\"\" src=\"images/CV.png\" style=\"width: 800px; height: 536px;\" /></p>\n"
   ]
  },
  {
   "cell_type": "markdown",
   "id": "ac9ce4cc",
   "metadata": {},
   "source": [
    "# Choosing a Machine Learning Model\n",
    "\n",
    "<img alt=\"\" src=\"images/class.png\" style=\"width: 800px; height: 267px;\" />\n",
    "    \n",
    "<img alt=\"\" src=\"images/class.png\" style=\"width: 800px; height: 267px;\" />"
   ]
  },
  {
   "cell_type": "markdown",
   "id": "515d6ff2",
   "metadata": {},
   "source": [
    "# Hypothesis Space and why it is important in ML/AI\n",
    "\n",
    "<p><img alt=\"\" src=\"images/hyp_space.png\" style=\"width: 800px; height: 567px;\" /></p>\n"
   ]
  },
  {
   "cell_type": "markdown",
   "id": "6b19c89c",
   "metadata": {
    "slideshow": {
     "slide_type": "slide"
    }
   },
   "source": [
    "# <center><font color=\"blue\">Outline Module Digital Data Gathering</font></center>\n",
    "\n",
    "1. Social Media Crawling\n",
    "2. Social Media Streaming\n",
    "3. Sekilas Privacy & Ethics Data Gathering\n",
    "4. Scrapping Media Social & Website\n",
    "\n",
    "<center><img src=\"images/satriadata2021/social-media-analytics-doodle.jpg\" /></center>\n",
    "\n",
    "><font color=\"green\">\"*I always have a basic plot outline, but I like to leave some things to be decided while I write*.\" ~ J. K. Rowling</font>\n",
    "\n",
    "image source: https://graphicriver.net/item/social-media-analytics-doodle-concept/25210278"
   ]
  },
  {
   "cell_type": "code",
   "execution_count": null,
   "id": "24430ad1",
   "metadata": {},
   "outputs": [],
   "source": [
    "import nltk\n",
    "try:\n",
    "    import google.colab\n",
    "    IN_COLAB = True\n",
    "    !wget https://raw.githubusercontent.com/taudata-indonesia/eLearning/master/brin.py\n",
    "    !mkdir data\n",
    "    !wget -P data/ https://raw.githubusercontent.com/taudata-indonesia/eLearning/master/data/slang.txt\n",
    "    !wget -P data/ https://raw.githubusercontent.com/taudata-indonesia/eLearning/master/data/slang.dic\n",
    "    !wget -P data/ https://raw.githubusercontent.com/taudata-indonesia/eLearning/master/data/provinsi-latlon-radius.csv\n",
    "    !wget -P data/ https://raw.githubusercontent.com/taudata-indonesia/eLearning/master/data/stopwords_id.txt\n",
    "    !wget -P data/ https://raw.githubusercontent.com/taudata-indonesia/eLearning/master/data/stopwords_en.txt\n",
    "    !wget -P data/ https://raw.githubusercontent.com/taudata-indonesia/eLearning/master/data/kata_dasar.txt\n",
    "    !wget -P data/ https://raw.githubusercontent.com/taudata-indonesia/eLearning/master/data/wn-ind-def.tab\n",
    "    !wget -P data/ https://raw.githubusercontent.com/taudata-indonesia/eLearning/master/data/wn-msa-all.tab\n",
    "    !wget -P data/ https://raw.githubusercontent.com/taudata-indonesia/eLearning/master/data/ind_SA.csv\n",
    "    !wget -P data/ https://raw.githubusercontent.com/taudata-indonesia/eLearning/master/data/all_indo_man_tag_corpus_model.crf.tagger\n",
    "    \n",
    "    !pip install sastrawi\n",
    "    !pip install --upgrade spacy python-crfsuite unidecode textblob sklearn-pycrfsuite networkx\n",
    "    !pip install --upgrade unidecode twython tweepy beautifulsoup4 googlemaps pyLDAvis folium gensim\n",
    "    !python -m spacy download en\n",
    "    !python -m spacy download xx\n",
    "    !python -m spacy download en_core_web_sm\n",
    "    nltk.download('popular')\n",
    "except:\n",
    "    IN_COLAB = False\n",
    "    print(\"Running the code locally, please make sure all the python module versions agree with colab environment and all data/assets downloaded\")"
   ]
  },
  {
   "cell_type": "code",
   "execution_count": null,
   "id": "242cea71",
   "metadata": {},
   "outputs": [],
   "source": [
    "import brin\n",
    "import tweepy, json, urllib.request, requests\n",
    "from urllib.request import Request, urlopen\n",
    "from twython import TwythonStreamer\n",
    "from bs4 import BeautifulSoup as bs\n",
    "from tqdm import tqdm\n",
    "\"Done\""
   ]
  },
  {
   "cell_type": "markdown",
   "id": "412a6da8",
   "metadata": {
    "slideshow": {
     "slide_type": "slide"
    }
   },
   "source": [
    "# <center><font color=\"blue\">The Digital (World & Indonesia) - 2021</font></center>\n",
    "\n",
    "<center><img src=\"images/satriadata2021/the-digital-world.png\" /></center>\n",
    "\n",
    "><font color=\"green\">\"*We live in a digital world, but we're fairly analog creatures*.\" ~ Omar Ahmad</font>"
   ]
  },
  {
   "cell_type": "markdown",
   "id": "83cdfc17",
   "metadata": {
    "slideshow": {
     "slide_type": "slide"
    }
   },
   "source": [
    "# <center><font color=\"blue\">The Social Media (Indonesia - 2021)</font></center>\n",
    "\n",
    "<center><img src=\"images/satriadata2021/social-media-Indonesia-2021.png\"/></center>\n",
    "\n",
    "* Apa makna, informasi, atau insight yang bisa didapatkan dari statistik ini dari segi: ekonomi, pemerintahan, sosial, dsb?\n",
    "\n",
    "><font color=\"green\">“*What happens in Vegas stays in Vegas; what happens on Twitter stay on Google forever!*.” ~ Jure Klepic</font>"
   ]
  },
  {
   "cell_type": "markdown",
   "id": "70b74ad8",
   "metadata": {
    "slideshow": {
     "slide_type": "slide"
    }
   },
   "source": [
    "# <center><font color=\"blue\"> Social Media Analytics (SMA): Definisi </font></center>\n",
    "\n",
    "* SMA adalah sebuah proses pengumpulan data dari media sosial dan analisanya untuk mendapatkan \"insights\" atau informasi berharga untuk suatu tujuan tertentu (definisi diadopsi dari Gartner*).\n",
    "* <font color=\"green\">**More details here**</font>: https://tau-data.id/sma-01/\n",
    "\n",
    "<center><img src=\"images/8_SMA.JPG\" width=\"746\" height=\"378\" /></center>\n",
    "\n",
    "><font color=\"green\">“*It is important that we realize that words have meanings far beyond the dictionary definition.*.” ~ Dan Levy</font>"
   ]
  },
  {
   "cell_type": "markdown",
   "id": "ae12ee2d",
   "metadata": {
    "slideshow": {
     "slide_type": "slide"
    }
   },
   "source": [
    "# <center><font color=\"blue\">Social Network Analysis (SNA): Definisi</font></center>\n",
    "\n",
    "<center><img src=\"images/SNA_Graph_Types.png\" width=\"495\" height=\"313\" /></center>\n",
    "\n",
    "* SNA is the process of investigating social structures through the use of networks and graph theory [Otte, Evelien; Rousseau, Ronald (2002)]\n",
    "* Terdapat berbagai macam cara untuk membentuk Graph dari data media sosial: retweet, mention, followers, friends, etc.\n",
    "\n",
    "><font color=\"green\">“*Social networks aren’t about Web sites. They’re about experiences*.” ~ Mike DiLorenzo</font>"
   ]
  },
  {
   "cell_type": "markdown",
   "id": "79cc6e4d",
   "metadata": {
    "slideshow": {
     "slide_type": "slide"
    }
   },
   "source": [
    "<center><img src=\"images/8_SMA_Cycle.JPG\" width=\"740\" height=\"315\" /></center>\n",
    "\n",
    "><font color=\"green\">“*It is good to have an end to journey toward; but it is the journey that matters, in the end*.” ~ Ursula K. Le Guin</font>"
   ]
  },
  {
   "cell_type": "markdown",
   "id": "d32cb56d",
   "metadata": {
    "slideshow": {
     "slide_type": "slide"
    }
   },
   "source": [
    "# <center><font color=\"blue\">Social Media/Network Analysis Technology/Tools</font></center>\n",
    "\n",
    "* **Neo4j** - Graph Database, **Elasticsearch** - Text Search Engine & NoSQL\n",
    "* **Apache Kafka** - Handling multi stream realtime input data.\n",
    "* **Gephi** - Graph Visualization\n",
    "* **VoyantTools** - Text Visualization & Analysis\n",
    "* **NetworkX**: Python Modules - Graph Programming\n",
    "* **NLTK-Spacy**: For Text Related Analysis.\n",
    "* **Spark/Hadoop**: for big data DDDC.\n",
    "* <font color=\"blue\">**More details here:**</font> https://tau-data.id/dsbd-05/\n",
    "\n",
    "<center><img src=\"images/meme-cartoon/technology-meme-office-space.jpg\" width=\"420\" height=\"278\" /></center>\n",
    "\n",
    "><font color=\"green\">“*Any sufficiently advanced technology is indistinguishable from magic*.” ~ Arthur C. Clarke</font>"
   ]
  },
  {
   "cell_type": "markdown",
   "id": "40a87f31",
   "metadata": {
    "slideshow": {
     "slide_type": "slide"
    }
   },
   "source": [
    "# <center><font color=\"blue\">Beberapa Contoh Perusahaan terkait SMA-SNA (Indonesia)</font></center> \n",
    "\n",
    "* **tau-data Indonesia** (SMA-SNA DS/BD) - Taufik Sutanto - https://tau-data.id\n",
    "* **Drone Emprit** (SMA-SNA) - Pak Ismail Fahmi - https://pers.droneemprit.id/\n",
    "* **Bahasa Kita** (text Related) - Pak Oskar Riandi - https://bahasakita.co.id/\n",
    "* **Evello** (Big Data AI) - Pak Dudy Rudianto - https://evello.co.id/\n",
    "\n",
    "<center><img src=\"images/satriadata2021/sma-sna-companies-indoensia.png\"/></center>\n",
    "\n",
    "><font color=\"green\">“*In the ordinary business of life, industry can do anything which genius can do, and very many things which it cannot*.” ~ Henry Ward Beecher</font>"
   ]
  },
  {
   "cell_type": "markdown",
   "id": "68805dd9",
   "metadata": {
    "slideshow": {
     "slide_type": "slide"
    }
   },
   "source": [
    "# <center><font color=\"blue\"> Tantangan SMA </font></center>\n",
    "\n",
    "<center><img src=\"images/satriadata2021/sma-challenge-industry.jpg\" width=\"450\" height=\"300\" /></center>\n",
    "\n",
    "* Pendek (<strong>Short </strong>in lengths): bahkan terkadang tidak mengandung sebuah kalimat yang utuh menurut tata bahasa (grammar).\n",
    "* <strong>Noise&nbsp;</strong>: Data media sosial penuh dengan noise seperti typos (salah ketik), encoding yang tidak jamak, slang, dsb.\n",
    "* <strong>Temporal&nbsp;</strong>: Informasi yang sedang trending biasanya hanya sesaat,<br />\n",
    "\tsehingga SMA diharapkan dilakukan dengan cepat menggunakan model-model/teknik-teknik analisa data yang efisien\n",
    "* <strong>High-dimensional</strong> : Data di Media Sosial (Teks, Gambar, Video, Suara, dsb) adalah data tidak terstruktur berdimensi tinggi.\n",
    "* <strong>Fine-grained</strong> : Data di media sosial berasal dari banyak user yang masing-masingnya bisa jadi membahas beberapa topik yang berbeda. Sehingga komunitas (kelompok), topik, maupun klasifikasi yang ada menjadi besar (fine-grained).\n",
    "* <strong>Large in volume</strong>&nbsp;&amp; <strong>High velocity</strong>:&nbsp; Data yang sangat besar dan bertambah besar dengan cepat.\n",
    "* <strong>A lot of external Information</strong> : Informasi terkadang lebih banyak terkandung dari luar (eksternal) seperti url website, video, atau hal lain yang dibagikan oleh pengguna media sosial.\n",
    "\n",
    "><font color=\"green\">“*If you make customers unhappy in the physical world, they might each tell 6 friends. If you make customers unhappy on the Internet, they can each tell 6,000 friends*.” ~ Jeff Bezos</font>"
   ]
  },
  {
   "cell_type": "markdown",
   "id": "4c103c4c",
   "metadata": {
    "slideshow": {
     "slide_type": "slide"
    }
   },
   "source": [
    "# <center><font color=\"blue\">Digital Data Gathering (DDG): Scrapping, Crawling, & Streaming</font></center>\n",
    "\n",
    "<center><img src=\"images/satriadata2021/scrapping-crawling-streaming.png\" width=\"693\" height=\"295\" /></center>\n",
    "\n",
    "* **Streaming**: teknik pengiriman data (media) secara kontinu & real-time.\n",
    "\n",
    "><font color=\"green\">“*Data is a precious thing and will last longer than the systems themselves*.” ~ Tim Berners-Lee</font>"
   ]
  },
  {
   "cell_type": "markdown",
   "id": "ba7ca7a6",
   "metadata": {
    "slideshow": {
     "slide_type": "slide"
    }
   },
   "source": [
    "# <center><font color=\"blue\">Ethics & Regulation</font></center>\n",
    "\n",
    "* Scrapping secara umum (minimal) tidak etis (bisa jadi ilegal). Mengapa? karena scraping mirip DDOS attack yang akan memberatkan server atau bahkan membuat server berhenti berfungsi normal. Program scraping juga memungkinkan akan mengakses data yang tidak dimaksudkan untuk konsumsi publik.\n",
    "* Satu-satunya saat dimana scraping boleh dilakukan adalah saat sang pelaku/programer menghormati “robots.txt” yang telah diberikan oleh web administrator. Atau lebih baik lagi adalah menggunakan API (Application Program Interface) yang diberikan oleh provider (website/medsos) lalu melakukan crawling.\n",
    "* Yakinkan untuk membaca ToS (Terms of Sevice) dengan baik.\n",
    "* <font color=\"blue\">**More details here:**</font> https://tau-data.id/scraping/\n",
    "\n",
    "<center><img src=\"images/Data Ethics and Law.png\" width=\"619\" height=\"287\" /></center>\n",
    "\n",
    "><font color=\"green\">“*Good regulation should be conducive to business and to customer protection*.” ~ Jamie Dimon</font>"
   ]
  },
  {
   "cell_type": "markdown",
   "id": "28dc9dc4",
   "metadata": {
    "slideshow": {
     "slide_type": "slide"
    }
   },
   "source": [
    "# <center><font color=\"blue\">Case Study: twitter</font></center>\n",
    "\n",
    "<img alt=\"\" src=\"images/6_twitter.png\" style=\"width: 300px; height: 300px;\" />\n",
    "\n",
    "1. Login ke twitter\n",
    "2. Registrasi sebagai developer (wajib menggunakan no telephone): https://developer.twitter.com/en/portal/projects-and-apps\n",
    "3. Create new App\n",
    "4. Catat Customer Key & Secret (Ck-Cs) serta Access Token & Secret (At-As)\n",
    "5. **Modules**: tweepy\n",
    "\n",
    "### More Details: https://tau-data.id/sma-01/"
   ]
  },
  {
   "cell_type": "markdown",
   "id": "c2929d00",
   "metadata": {},
   "source": [
    "<h2 id=\"Aturan-twitter\">Aturan, bentuk data, &amp; error codes twitter</h2>\n",
    "\n",
    "<ol>\n",
    "\t<li>\n",
    "\t<p><a href=\"https://dev.twitter.com/rest/public/rate-limiting\" target=\"_blank\">https://</a><a href=\"https://dev.twitter.com/rest/public/rate-limiting\" target=\"_blank\">dev.twitter.com/rest/public/rate-limiting</a></p>\n",
    "\t</li>\n",
    "\t<li>\n",
    "\t<p><a href=\"https://dev.twitter.com/overview/terms/agreement-and-policy\" target=\"_blank\">https://dev.twitter.com/overview/terms/agreement-and-policy</a></p>\n",
    "\t</li>\n",
    "\t<li>\n",
    "\t<p><a href=\"https://dev.twitter.com/overview/api/response-codes\" target=\"_blank\">https://</a><a href=\"https://dev.twitter.com/overview/api/response-codes\" target=\"_blank\">dev.twitter.com/overview/api/response-codes</a></p>\n",
    "\t</li>\n",
    "\t<li>\n",
    "\t<p><a href=\"https://dev.twitter.com/overview/api/tweets\" target=\"_blank\">https://</a><a href=\"https://dev.twitter.com/overview/api/tweets\" target=\"_blank\">dev.twitter.com/overview/api/tweets</a></p>\n",
    "\t</li>\n",
    "</ol>"
   ]
  },
  {
   "cell_type": "code",
   "execution_count": null,
   "id": "1a5b56cb",
   "metadata": {
    "slideshow": {
     "slide_type": "slide"
    }
   },
   "outputs": [],
   "source": [
    "# Contoh API Keys (Sesuaikan dengan API keys masing-masing)\n",
    "Ck = '' # consumer_key\n",
    "Cs = '' # consumer_secret\n",
    "At = '' # access_token\n",
    "As = '' # access_secret\n",
    "'Done'"
   ]
  },
  {
   "cell_type": "code",
   "execution_count": null,
   "id": "c29cc633",
   "metadata": {
    "slideshow": {
     "slide_type": "slide"
    }
   },
   "outputs": [],
   "source": [
    "import tweepy\n",
    "\n",
    "auth = tweepy.auth.OAuthHandler(Ck, Cs)\n",
    "auth.set_access_token(At, As)\n",
    "api = tweepy.API(auth, wait_on_rate_limit=True, timeout=180, retry_count=5, retry_delay=3)\n",
    "usr_ = api.verify_credentials()\n",
    "print('Welcome \"{}\" you are now connected to twitter server'.format(usr_.name))"
   ]
  },
  {
   "cell_type": "markdown",
   "id": "dcf1d821",
   "metadata": {
    "slideshow": {
     "slide_type": "slide"
    }
   },
   "source": [
    "# <center><font color=\"blue\">Crawling twitter</font></center>\n",
    "\n",
    "<center><img src=\"images/Digital_Media_Crawling_.png\" width=\"501\" height=\"514\" /></center>\n",
    "\n",
    "* image source: https://www.promptcloud.com/blog/scraping-social-media-data-for-sentiment-analysis/"
   ]
  },
  {
   "cell_type": "code",
   "execution_count": null,
   "id": "71b21be9",
   "metadata": {
    "scrolled": true,
    "slideshow": {
     "slide_type": "slide"
    }
   },
   "outputs": [],
   "source": [
    "from tqdm import tqdm\n",
    "\n",
    "qry = 'banjir OR gempa OR longsor OR tsunami OR kekeringan OR abrasi OR erupsi'\n",
    "N = 2000 # jumlah N tweet \"terkini\" yang ingin diambil - dibatasi 7 hari terakhir\n",
    "T = []\n",
    "for post in tqdm(tweepy.Cursor(api.search_tweets, q=qry, lang='id', tweet_mode='extended').items(N)):\n",
    "    T.append(post)\n",
    "    \n",
    "\"Done\""
   ]
  },
  {
   "cell_type": "code",
   "execution_count": null,
   "id": "e843fd6d",
   "metadata": {
    "slideshow": {
     "slide_type": "slide"
    }
   },
   "outputs": [],
   "source": [
    "T[0]._json"
   ]
  },
  {
   "cell_type": "markdown",
   "id": "4587cbb3",
   "metadata": {
    "slideshow": {
     "slide_type": "slide"
    }
   },
   "source": [
    "# <center><font color=\"blue\">Json Files</font></center>\n",
    "\n",
    "<ul>\n",
    "\t<li>Populer digunakan untuk data dari Media Sosial dan NoSQL</li>\n",
    "\t<li>Portable: File Json memuat nama variabel dan nilainya (tidak seperti XML)</li>\n",
    "\t<li>Plain Text</li>\n",
    "\t<li>Schemaless: Setiap record tidak harus memiliki jumlah field yang tetap seperti csv</li>\n",
    "\t<li>JSON isomorfis dengan &quot;Dictionary&quot; di Python</li>\n",
    "\t<li>Contoh struktur file json:</li>\n",
    "</ul>\n",
    "\n",
    "<img style=\"undefined: undefined;\" src=\"images/json.png\" alt=\"\" width=\"194\" height=\"204\" />"
   ]
  },
  {
   "cell_type": "code",
   "execution_count": null,
   "id": "8e7863e2",
   "metadata": {
    "slideshow": {
     "slide_type": "slide"
    }
   },
   "outputs": [],
   "source": [
    "# T bukan sekedar list of tweets \n",
    "tweet = [t._json for t in T]\n",
    "print(' Berhasil mendapatkan {} tweets'.format(len(tweet)))"
   ]
  },
  {
   "cell_type": "code",
   "execution_count": null,
   "id": "4af0d114",
   "metadata": {
    "slideshow": {
     "slide_type": "slide"
    }
   },
   "outputs": [],
   "source": [
    "# Data pertama\n",
    "tweet[0]"
   ]
  },
  {
   "cell_type": "code",
   "execution_count": null,
   "id": "f629c232",
   "metadata": {
    "slideshow": {
     "slide_type": "slide"
    }
   },
   "outputs": [],
   "source": [
    "# Datanya berbentuk JSON\n",
    "tweet[0]['created_at'], tweet[0]['full_text']"
   ]
  },
  {
   "cell_type": "code",
   "execution_count": null,
   "id": "3a12b41e",
   "metadata": {
    "slideshow": {
     "slide_type": "slide"
    }
   },
   "outputs": [],
   "source": [
    "# Contoh mengakses data spesifik pada tweet yang pertama:\n",
    "print('tweet pertama oleh \"{}\" : \"{}\"'.format(tweet[0]['user']['screen_name'],tweet[0]['full_text']))"
   ]
  },
  {
   "cell_type": "markdown",
   "id": "13da7fab",
   "metadata": {
    "slideshow": {
     "slide_type": "slide"
    }
   },
   "source": [
    "# <center><font color=\"blue\">Menyimpan hasil crawling (sederhana ke Text file berformat json)</font></center>"
   ]
  },
  {
   "cell_type": "code",
   "execution_count": null,
   "id": "27919b88",
   "metadata": {
    "slideshow": {
     "slide_type": "fragment"
    }
   },
   "outputs": [],
   "source": [
    "import json \n",
    "def saveTweets(tweets, file='Tweets.json'): #in Json Format\n",
    "    with open(file, 'w') as f:\n",
    "        for t in tweets:\n",
    "            try:\n",
    "                f.write(json.dumps(t)+'\\n')\n",
    "            except:\n",
    "                pass"
   ]
  },
  {
   "cell_type": "code",
   "execution_count": null,
   "id": "a03e46dd",
   "metadata": {
    "slideshow": {
     "slide_type": "slide"
    }
   },
   "outputs": [],
   "source": [
    "# Menyimpan hasil crawling twitter\n",
    "fileName = 'Tweets_2021.json'\n",
    "saveTweets(tweet, file=fileName)\n",
    "print('Saved to '+fileName)"
   ]
  },
  {
   "cell_type": "markdown",
   "id": "cab4f6c8",
   "metadata": {
    "slideshow": {
     "slide_type": "slide"
    }
   },
   "source": [
    "# <center><font color=\"blue\">Load Kembali?</font></center>"
   ]
  },
  {
   "cell_type": "code",
   "execution_count": null,
   "id": "5b9b1004",
   "metadata": {
    "slideshow": {
     "slide_type": "fragment"
    }
   },
   "outputs": [],
   "source": [
    "def loadTweets(file='Tweets.json'):\n",
    "    f=open(file,encoding='utf-8', errors ='ignore', mode='r')\n",
    "    T=f.readlines();f.close()\n",
    "    for i,t in enumerate(T):\n",
    "        T[i] = json.loads(t.strip())\n",
    "    return T"
   ]
  },
  {
   "cell_type": "code",
   "execution_count": null,
   "id": "50f6238c",
   "metadata": {
    "slideshow": {
     "slide_type": "slide"
    }
   },
   "outputs": [],
   "source": [
    "# Me-load kembali jika (misal) analisa ingin dilakukan di lain waktu\n",
    "# Sengaja nama variabelnya saya bedakan (T2)\n",
    "T2 = loadTweets(file=fileName)\n",
    "print('tweet pertama oleh \"{}\" : \"{}\"'.format(T2[0]['user']['screen_name'],T2[0]['full_text']))"
   ]
  },
  {
   "cell_type": "code",
   "execution_count": null,
   "id": "75f286cd",
   "metadata": {
    "slideshow": {
     "slide_type": "slide"
    }
   },
   "outputs": [],
   "source": [
    "# Contoh mengambil hanya data tweet\n",
    "D = [t['full_text'] for t in T2]\n",
    "D[:5] # 5 tweet pertama"
   ]
  },
  {
   "cell_type": "markdown",
   "id": "cb2e3daa",
   "metadata": {
    "slideshow": {
     "slide_type": "slide"
    }
   },
   "source": [
    "# <center><font color=\"blue\">Query Operator twitter</font></center>\n",
    "\n",
    "<img alt=\"\" src=\"images/query_Operator.png\" style=\"width: 661px; height: 554px;\" />\n",
    "\n",
    "* Detail: <a href=\"https://developer.twitter.com/en/docs/tweets/search/guides/standard-operators.html\" target=\"_blank\">https://developer.twitter.com/en/docs/tweets/search/guides/standard-operators.html</a>"
   ]
  },
  {
   "cell_type": "markdown",
   "id": "fe5f1ab8",
   "metadata": {},
   "source": [
    "<img alt=\"\" src=\"images/SMA-Sampling.png\" />"
   ]
  },
  {
   "cell_type": "code",
   "execution_count": null,
   "id": "8c32eaab",
   "metadata": {
    "slideshow": {
     "slide_type": "slide"
    }
   },
   "outputs": [],
   "source": [
    "# Mari kita coba #1\n",
    "topic = 'from:jokowi'\n",
    "T = api.search_tweets(q=topic, lang='id', tweet_mode = 'extended')\n",
    "tweet = [t._json for t in T]\n",
    "isiTweet = [t['full_text'] for t in tweet]\n",
    "isiTweet"
   ]
  },
  {
   "cell_type": "markdown",
   "id": "5a6b1e26",
   "metadata": {
    "slideshow": {
     "slide_type": "slide"
    }
   },
   "source": [
    "# <center><font color=\"blue\">Spatial Analysis di twitter menggunakan Google Maps API dan twitter GeoCode</font></center>\n",
    "\n",
    "* Google Maps API (gratis 40.000 query/bulan) dan bisa dijalankan langsung dalam program Python\n",
    "* Alternatif: https://www.latlong.net/convert-address-to-lat-long.html\n",
    "\n",
    "<center><img src=\"images/satriadata2021/sma-spasial.png\" width=\"568\" height=\"325\" /></center>"
   ]
  },
  {
   "cell_type": "code",
   "execution_count": null,
   "id": "12ace4e1",
   "metadata": {
    "slideshow": {
     "slide_type": "slide"
    }
   },
   "outputs": [],
   "source": [
    "# https://www.latlong.net/convert-address-to-lat-long.html\n",
    "\n",
    "alamat = \"jl. Ir. H. Juanda No 95 tangerang selatan ciputat\"\n",
    "lat = '-6.307870'\n",
    "lon = '106.755820'\n",
    "\n",
    "\"Done\""
   ]
  },
  {
   "cell_type": "code",
   "execution_count": null,
   "id": "52dd3506",
   "metadata": {
    "slideshow": {
     "slide_type": "slide"
    }
   },
   "outputs": [],
   "source": [
    "# Mari kita coba #3 gunakan google (map) untuk koordinat suatu lokasi\n",
    "# http://thoughtfaucet.com/search-twitter-by-location/\n",
    "# misal search tweet tentang \"makanan\" di Depok dan sekitarnya\n",
    "radius = '100km'\n",
    "Geo = ','.join([lat, lon, radius])\n",
    "qry = 'beli mobil'\n",
    "for tweet_ in tweepy.Cursor(api.search_tweets, q=qry, geocode=Geo).items(N):\n",
    "    print([tweet_.created_at, tweet_.text.encode('utf-8'), tweet_.user.id, tweet_.geo])"
   ]
  },
  {
   "cell_type": "markdown",
   "id": "45b9a803",
   "metadata": {
    "slideshow": {
     "slide_type": "slide"
    }
   },
   "source": [
    "# <center><font color=\"blue\">Streaming Data</font></center>\n",
    "\n",
    "<center><img alt=\"\" src=\"images/Meme_Streaming_Data.jpg\" style=\"width: 307px; height: 309px;\" /></center>"
   ]
  },
  {
   "cell_type": "code",
   "execution_count": null,
   "id": "b36b389d",
   "metadata": {
    "slideshow": {
     "slide_type": "slide"
    }
   },
   "outputs": [],
   "source": [
    "# Streaming tweets. Untuk percobaan pilih topicS sesuatu yg sedang trending/populer \"saat ini\".\n",
    "# Atau bisa coba dengan mengirim tweet sendiri :)\n",
    "from twython import TwythonStreamer\n",
    "\n",
    "def streamTwitter(topicS, lang):\n",
    "    class MyStreamer(TwythonStreamer):\n",
    "        def on_success(self, data):\n",
    "            global count\n",
    "            count+=1\n",
    "            print('tweet from {}, post: {}'.format(data['user']['screen_name'], data['text']))\n",
    "            if count==maxTweet:\n",
    "                print('\\nFinished streaming %.0f tweets' %(maxTweet)); self.disconnect()\n",
    "        def on_error(self, status_code, data):\n",
    "            print('Error Status = %s' %status_code); self.disconnect()\n",
    "\n",
    "    while count<maxTweet:\n",
    "        stream = MyStreamer(Ck, Cs, At, As)\n",
    "        stream.statuses.filter(track=topicS)"
   ]
  },
  {
   "cell_type": "code",
   "execution_count": null,
   "id": "0e1b234f",
   "metadata": {
    "scrolled": true,
    "slideshow": {
     "slide_type": "slide"
    }
   },
   "outputs": [],
   "source": [
    "maxTweet, count = 3, 0 # Rubah sesuai dengan kebutuhan, Untuk percobaan ini cukup (misal) 12 tweet\n",
    "lan = set(['en','id']) # bahasa bisa dipilih > 1\n",
    "topicS = ['taudata', 'brin'] # Bisa>1\n",
    "\n",
    "streamTwitter(topicS, lan)"
   ]
  },
  {
   "cell_type": "markdown",
   "id": "cc35113f",
   "metadata": {
    "slideshow": {
     "slide_type": "slide"
    }
   },
   "source": [
    "# <center><font color=\"blue\">Pada kasus nyata data disimpan ke database - Big Data</font></center>\n",
    "\n",
    "* Contoh aplikasi di Elasticsearch\n",
    "\n",
    "<center><img style=\"undefined: undefined;\" src=\"images/elasticsearch.png\" alt=\"\" width=\"471\" height=\"266\" /></center>"
   ]
  },
  {
   "cell_type": "markdown",
   "id": "5af3e090",
   "metadata": {
    "slideshow": {
     "slide_type": "slide"
    }
   },
   "source": [
    "# <center><font color=\"blue\">Big Data semakin Mudah</font></center>\n",
    "\n",
    "* Easy Scalability: Auto balancing & distributing\n",
    "* Easy replica (Backup)\n",
    "* Easy Monitoring & Visualization: dashboard\n",
    "* Not easy? .... Statistika/Teori di balik Big Data.\n",
    "\n",
    "<p><img src=\"images/illustrated-screenshot-hero-kibana.png\" /></p>"
   ]
  },
  {
   "cell_type": "markdown",
   "id": "fc193ce1",
   "metadata": {},
   "source": [
    "# Web Scrapping?"
   ]
  },
  {
   "cell_type": "code",
   "execution_count": null,
   "id": "d898ecae",
   "metadata": {
    "scrolled": true
   },
   "outputs": [],
   "source": [
    "import urllib.request\n",
    "from bs4 import BeautifulSoup as bs\n",
    "\n",
    "URL = 'https://fst.uinjkt.ac.id/'\n",
    "Doc = urllib.request.urlopen(URL).read()\n",
    "Doc = bs(Doc,'lxml').text\n",
    "print(Doc)"
   ]
  },
  {
   "cell_type": "markdown",
   "id": "911c8da5",
   "metadata": {
    "slideshow": {
     "slide_type": "slide"
    }
   },
   "source": [
    "# <center><font color=\"blue\"> Akhir Modul A: Pendahuluan Python, DS-AI, & Digital Data gathering</font></center>\n",
    "\n",
    "<hr />"
   ]
  }
 ],
 "metadata": {
  "celltoolbar": "Slideshow",
  "kernelspec": {
   "display_name": "Python 3 (ipykernel)",
   "language": "python",
   "name": "python3"
  },
  "language_info": {
   "codemirror_mode": {
    "name": "ipython",
    "version": 3
   },
   "file_extension": ".py",
   "mimetype": "text/x-python",
   "name": "python",
   "nbconvert_exporter": "python",
   "pygments_lexer": "ipython3",
   "version": "3.7.11"
  },
  "latex_envs": {
   "LaTeX_envs_menu_present": true,
   "autoclose": false,
   "autocomplete": true,
   "bibliofile": "biblio.bib",
   "cite_by": "apalike",
   "current_citInitial": 1,
   "eqLabelWithNumbers": true,
   "eqNumInitial": 1,
   "hotkeys": {
    "equation": "Ctrl-E",
    "itemize": "Ctrl-I"
   },
   "labels_anchors": false,
   "latex_user_defs": false,
   "report_style_numbering": false,
   "user_envs_cfg": false
  }
 },
 "nbformat": 4,
 "nbformat_minor": 5
}
