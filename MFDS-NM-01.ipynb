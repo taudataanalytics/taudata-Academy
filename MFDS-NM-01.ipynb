{
 "cells": [
  {
   "cell_type": "markdown",
   "metadata": {
    "slideshow": {
     "slide_type": "slide"
    }
   },
   "source": [
    "<h2 id=\"Metode-NumerikPendahuluan-Analisis-Error-\" style=\"text-align: center;\"><strong>Metode Numerik</strong><br /><strong><span style=\"color: blue;\">Pendahuluan + Analisis Error </span></strong><br /><img style=\"height: 200px;\" src=\"images/MetNum.png\" alt=\"\" /></h2>\n",
    "<h2 id=\"(C)-Taufik-Sutanto---2019\" style=\"text-align: center;\">(C) Taufik Sutanto - 2020</h2>\n",
    "<h2 id=\"tau-data-Indonesia-~-https://tau-data.id/MFDS-NM-01/\" style=\"text-align: center;\">tau-data Indonesia ~ <a href=\"https://tau-data.id/MFDS-NM-01/\" target=\"_blank\"><span style=\"color: #0009ff;\">https://tau-data.id/MFDS-NM-01/</span></a></h2>"
   ]
  },
  {
   "cell_type": "markdown",
   "metadata": {
    "slideshow": {
     "slide_type": "slide"
    }
   },
   "source": [
    "# Outline MFDS-NM-01:\n",
    "\n",
    "<ol>\n",
    "\t<li>Bilangan Binari (Binary Digit - bit)</li>\n",
    "\t<li>Floating Point</li>\n",
    "\t<li>Error Absolut VS&nbsp;Relatif</li>\n",
    "\t<li>Significant digits</li>\n",
    "\t<li>Truncation VS Round Error</li>\n",
    "\t<li>Cancellation</li>\n",
    "\t<li>Order of Approximation &amp; Convergence</li>\n",
    "\t<li>Propagation Error</li>\n",
    "</ol>\n"
   ]
  },
  {
   "cell_type": "markdown",
   "metadata": {},
   "source": [
    "# Bilangan Binari\n",
    "\n",
    "Aritmatika (perhitungan) dalam kehidupan sehari-hari biasanya dilakukan menggunakan basis desimal (0, 1, 2, ...,9). Namun demikian **kebanyakan** komputer menggunakan basis binary {0,1} dalam perhitungannya. Walaupun ketika melakukan input-output dengan pengguna menggunakan basis desimal."
   ]
  },
  {
   "cell_type": "markdown",
   "metadata": {
    "slideshow": {
     "slide_type": "slide"
    }
   },
   "source": [
    "<p><img alt=\"\" src=\"images/Binary2Decimal.png\"/></p>\n"
   ]
  },
  {
   "cell_type": "markdown",
   "metadata": {
    "slideshow": {
     "slide_type": "slide"
    }
   },
   "source": [
    "<p><img alt=\"\" src=\"images/Decimal2Binary.jpg\" style=\"width: 500px; height: 375px;\" /></p>\n"
   ]
  },
  {
   "cell_type": "code",
   "execution_count": null,
   "metadata": {
    "slideshow": {
     "slide_type": "slide"
    }
   },
   "outputs": [],
   "source": [
    "# Contoh konversi desimal ke bilangan binari di Python\n",
    "print( bin(14) )\n",
    "print( bin(149) )"
   ]
  },
  {
   "cell_type": "code",
   "execution_count": null,
   "metadata": {
    "slideshow": {
     "slide_type": "slide"
    }
   },
   "outputs": [],
   "source": [
    "# Contoh konversi bilangan binari ke desimal di Python\n",
    "print( int('10011100', 2) )"
   ]
  },
  {
   "cell_type": "markdown",
   "metadata": {
    "slideshow": {
     "slide_type": "slide"
    }
   },
   "source": [
    "<p><img alt=\"\" src=\"images/Fraction2Binary.jpg\" style=\"width: 500px; height: 375px;\" /></p>\n"
   ]
  },
  {
   "cell_type": "code",
   "execution_count": null,
   "metadata": {
    "slideshow": {
     "slide_type": "slide"
    }
   },
   "outputs": [],
   "source": [
    "# Contoh konversi desimal ke bilangan binari di Python untuk float\n",
    "# Apa yang terjadi jika X  = 0.1 di konversi ke binary?\n",
    "maxIter, iterasi = 8, 0\n",
    "b = ''\n",
    "X = 0.85\n",
    "while X!=0 and iterasi<maxIter:\n",
    "    iterasi += 1\n",
    "    X = X*2\n",
    "    if int(X)==0:\n",
    "        b += '0'\n",
    "    else:\n",
    "        b += '1'\n",
    "        X = X - int(X) # get the decimal part\n",
    "'0.'+b\n",
    "# Sebagai latihan modifikasi code agar X bisa >1.0"
   ]
  },
  {
   "cell_type": "markdown",
   "metadata": {
    "slideshow": {
     "slide_type": "slide"
    }
   },
   "source": [
    "# Why learning the base of numbers important in Numerical methods?\n",
    "## Let's calculate this:using computer (Python)\n",
    "# $\\sum_{n=1}^{10^6}0.1$\n",
    "## What is the expected result?"
   ]
  },
  {
   "cell_type": "code",
   "execution_count": null,
   "metadata": {
    "slideshow": {
     "slide_type": "slide"
    }
   },
   "outputs": [],
   "source": [
    "# Here is the result according to Python\n",
    "dSum = 0 \n",
    "for i in range(10**6): # ini artinya for i dari 0 sampai (10^6)-1\n",
    "    dSum = dSum + 0.1 # or \"dSum += 0.1\"\n",
    "print(dSum)\n",
    "# is the result correct? Why?"
   ]
  },
  {
   "cell_type": "code",
   "execution_count": null,
   "metadata": {
    "slideshow": {
     "slide_type": "slide"
    }
   },
   "outputs": [],
   "source": [
    "# System floating point di Python\n",
    "import sys\n",
    "sys.float_info"
   ]
  },
  {
   "cell_type": "markdown",
   "metadata": {
    "slideshow": {
     "slide_type": "slide"
    }
   },
   "source": [
    "<p><img alt=\"\" src=\"images/Scientific_Notations.png\" style=\"width: 284px; height: 205px;\" /></p>\n"
   ]
  },
  {
   "cell_type": "markdown",
   "metadata": {
    "slideshow": {
     "slide_type": "slide"
    }
   },
   "source": [
    "<p><img alt=\"\" src=\"images/Float_Info.PNG\" style=\"width: 550px; height: 406px;\" /></p>\n"
   ]
  },
  {
   "cell_type": "code",
   "execution_count": null,
   "metadata": {
    "slideshow": {
     "slide_type": "slide"
    }
   },
   "outputs": [],
   "source": [
    "# Testing it out\n",
    "x = 1.7976931348623157e+308\n",
    "print(x*2) # OverFlow\n",
    "\n",
    "e = 2.120446049250313e-17 # underflow < e < Epsilon\n",
    "print(1+e)\n",
    "\n",
    "1+e==1"
   ]
  },
  {
   "cell_type": "markdown",
   "metadata": {
    "slideshow": {
     "slide_type": "slide"
    }
   },
   "source": [
    "<h1 id=\"Tapi-jika-pakai-modul-&quot;Numpy&quot;\">Tapi jika pakai modul &quot;Numpy&quot;</h1>\n",
    "\n",
    "<p><a href=\"https://docs.scipy.org/doc/numpy/user/basics.types.html\" target=\"_blank\">https://docs.scipy.org/doc/numpy/user/basics.types.html</a></p>\n",
    "\n",
    "<p><img alt=\"\" src=\"images/Numpy_Types.png\" style=\"width: 500px; height: 363px;\" /></p>\n"
   ]
  },
  {
   "cell_type": "markdown",
   "metadata": {
    "slideshow": {
     "slide_type": "slide"
    }
   },
   "source": [
    "<h1>Computer can&#39;t store Real Numbers!, it store &quot;floating point&quot; number</h1>\n",
    "<img alt=\"\" src=\"images/floating_points.png\" style=\"width: 517px; height: 189px;\" />"
   ]
  },
  {
   "cell_type": "code",
   "execution_count": null,
   "metadata": {
    "slideshow": {
     "slide_type": "slide"
    }
   },
   "outputs": [],
   "source": [
    "# 8 bit berarti \n",
    "sum_ = 0\n",
    "for i in range(8):\n",
    "    sum_ += 2**i\n",
    "    \n",
    "'Max exponent part = ', sum_"
   ]
  },
  {
   "cell_type": "markdown",
   "metadata": {
    "slideshow": {
     "slide_type": "slide"
    }
   },
   "source": [
    "<h1 id=\"Bilangan-floating-point-tidak-tersebar-merata-di-garis-bilangan\">Bilangan floating point tidak tersebar merata di garis bilangan</h1>\n",
    "\n",
    "<p><img alt=\"\" src=\"images/Sebaran_floating_points.png\" /></p>\n",
    "\n",
    "# Terkait dengan Normalisasi di machine Learnin."
   ]
  },
  {
   "cell_type": "markdown",
   "metadata": {
    "slideshow": {
     "slide_type": "slide"
    }
   },
   "source": [
    "<p><img alt=\"\" src=\"images/Abs_Rel_Errors.png\" style=\"width: 550px; height: 367px;\" /></p>\n"
   ]
  },
  {
   "cell_type": "markdown",
   "metadata": {
    "slideshow": {
     "slide_type": "slide"
    }
   },
   "source": [
    "<h1 id=\"Latihan\"><u>Latihan</u></h1>\n",
    "\n",
    "<h2>Jika sin(3) dihitung dengan menggunakan deret McLaurin (5 suku), tentukan error absolute dan relatifnya. &quot;<strong>Asumsikan</strong>&quot; nilai sinus dari kalkulator atau program sebagai nilai sejatinya.&nbsp;</h2>\n",
    "\n",
    "<p><img alt=\"\" src=\"images/McLaurin_Series.jpg\" style=\"width: 400px; height: 117px;\" /></p>\n"
   ]
  },
  {
   "cell_type": "code",
   "execution_count": null,
   "metadata": {
    "slideshow": {
     "slide_type": "slide"
    }
   },
   "outputs": [],
   "source": [
    "# Dengan Python\n",
    "import math\n",
    "x = 3\n",
    "Y_real = math.sin(x)\n",
    "Y_cap = x - (x**3/math.factorial(3)) + (x**5/math.factorial(5))-(x**7/math.factorial(7))+(x**9/math.factorial(9))\n",
    "print('Nilai eksak = ',Y_real,' *Assumed')\n",
    "print('Nilai pendekatan = ',Y_cap)\n",
    "print('Error Absolut = ', abs(Y_real-Y_cap))\n",
    "print('Error Relatif = ', abs(Y_real-Y_cap)/abs(Y_real))\n",
    "# latihan: Ubah perhitungan Y_cap menjadi fungsi/looping."
   ]
  },
  {
   "cell_type": "markdown",
   "metadata": {
    "slideshow": {
     "slide_type": "slide"
    }
   },
   "source": [
    "<h1 id=\"Diskusi\">Diskusi</h1>\n",
    "\n",
    "<ol>\n",
    "\t<li>Apa perbedaan error absolut dan relatif?</li>\n",
    "\t<li>Bilamana error yang satu lebih cocok digunakan dibandingkan error yang lain?<br />\n",
    "\tMisal error absolut lebih baik dari error relatif atau sebaliknya.</li>\n",
    "\t<li>Bolehkah menghitung error dengan cara lain?</li>\n",
    "</ol>\n"
   ]
  },
  {
   "cell_type": "markdown",
   "metadata": {
    "slideshow": {
     "slide_type": "slide"
    }
   },
   "source": [
    "<h1 id=\"Calculating-Significant-Digits\">Calculating Significant Digits</h1>\n",
    "\n",
    "<p>Given a relative error&nbsp;<i>E</i><sub>rel</sub>, find the largest integer&nbsp;<i>n</i>&nbsp;such that&nbsp;<i>E</i><sub>rel</sub>&nbsp;&lt; 0.5 10<sup>-n</sup></p>\n",
    "\n",
    "<ol>\n",
    "\t<li>\n",
    "\t<p>What is the number of significant digits of the approximation 3.14 to the value &pi;?</p>\n",
    "\t<p><i>E</i><sub>rel</sub> &nbsp;= |3.14 - &pi;|/|&pi;| &asymp; 0.00051 &le; 0.005 = 0.5 &sdot; 10<sup>-2</sup>, and therefore it is correct to two significant digits.</p>\n",
    "\t</li>\n",
    "\t<li>\n",
    "\t<p>What is the number of significant digits of the label 240 &Omega; when the correct value is 243.32753 &Omega;?</p>\n",
    "\t<p>E<sub>rel</sub>&nbsp;= |240 - 243.32753|/|243.32753| &asymp; 0.014 &le; 0.05 = 0.5 &sdot; 10<sup>-1</sup>, and therefore it is correct to one significant digit.</p>\n",
    "\t</li>\n",
    "\t<li>\n",
    "\t<p>To how many significant digits is the approximation 1.998532 when the actual value is 2.001959?</p>\n",
    "\t<p>E<sub>rel</sub>&nbsp;= |1.998532 - 2.001959|/|2.001959| &asymp; 0.0017 &le; 0.005 = 0.5 &sdot; 10<sup>-2</sup>&nbsp;and therefore it is correct to two digits.</p>\n",
    "\t</li>\n",
    "</ol>"
   ]
  },
  {
   "cell_type": "markdown",
   "metadata": {
    "slideshow": {
     "slide_type": "slide"
    }
   },
   "source": [
    "<h1>Latihan:</h1>\n",
    "\n",
    "<ol>\n",
    "\t<li>To how many significant digits does 22/7 approximate &pi;?</li>\n",
    "\t<li>To how many significant digits does 355/113 approximate pi &pi;?</li>\n",
    "</ol>\n"
   ]
  },
  {
   "cell_type": "code",
   "execution_count": null,
   "metadata": {
    "slideshow": {
     "slide_type": "slide"
    }
   },
   "outputs": [],
   "source": [
    "# \"MISAL\" Pi dari module adalah eksak\n",
    "import math\n",
    "\n",
    "pi = math.pi\n",
    "rel_error = abs(3.14 - pi)/pi\n",
    "\n",
    "# Menentukan Significant Digits Menggunakan Python\n",
    "significant_digits = int( -math.log10( rel_error / 0.5 ) )\n",
    "print(significant_digits)"
   ]
  },
  {
   "cell_type": "markdown",
   "metadata": {
    "slideshow": {
     "slide_type": "slide"
    }
   },
   "source": [
    "<p><img alt=\"\" src=\"images/truncation_error.png\" style=\"width: 530px; height: 341px;\" /></p>\n"
   ]
  },
  {
   "cell_type": "markdown",
   "metadata": {
    "slideshow": {
     "slide_type": "slide"
    }
   },
   "source": [
    "<p><img alt=\"\" src=\"images/Truncation_error_example.PNG\" style=\"width: 550px; height: 187px;\" /></p>\n"
   ]
  },
  {
   "cell_type": "markdown",
   "metadata": {
    "slideshow": {
     "slide_type": "slide"
    }
   },
   "source": [
    "# Rounding error memiliki error ≤5\n",
    "\n",
    "Misal: x=77.561 maka  \n",
    "\n",
    "~x = 77.6\n"
   ]
  },
  {
   "cell_type": "markdown",
   "metadata": {
    "slideshow": {
     "slide_type": "slide"
    }
   },
   "source": [
    "<p><img alt=\"\" src=\"images/Rounding_half.PNG\" style=\"width: 550px; height: 425px;\" /></p>\n"
   ]
  },
  {
   "cell_type": "code",
   "execution_count": null,
   "metadata": {
    "slideshow": {
     "slide_type": "slide"
    }
   },
   "outputs": [],
   "source": [
    "# di Python\n",
    "math.floor(3.65), math.trunc(3.95), math.ceil(3.1), round(3.5)"
   ]
  },
  {
   "cell_type": "markdown",
   "metadata": {
    "slideshow": {
     "slide_type": "slide"
    }
   },
   "source": [
    "<h1 id=\"Cancellation-Error\">Cancellation Error</h1>\n",
    "\n",
    "<p>(1+eps)-(1-eps)= 1-1=0</p>\n",
    "\n",
    "<p>Padahal seharusnya hasil 2*eps masih bisa dihandel mesin, namun hasil ini hilang.</p>\n",
    "\n",
    "<p>Contoh nyata, pada deret ex=1+x+x2/2!+x3/3!+&hellip;</p>\n",
    "\n",
    "<p>Untuk x&lt;0</p>\n",
    "\n",
    "<p>Contoh lain yang terkenal adalah solusi &quot;kecap&quot; penyelesaian polinomial (jika $b^2$ ~ 4ac)</p>\n"
   ]
  },
  {
   "cell_type": "code",
   "execution_count": null,
   "metadata": {
    "slideshow": {
     "slide_type": "slide"
    }
   },
   "outputs": [],
   "source": [
    "# System floating point di Python\n",
    "import sys\n",
    "sys.float_info"
   ]
  },
  {
   "cell_type": "code",
   "execution_count": null,
   "metadata": {
    "slideshow": {
     "slide_type": "fragment"
    }
   },
   "outputs": [],
   "source": [
    "e = 2.220446049250313e-17 # perhatikan nilainya saya kurangi sedikit\n",
    "\n",
    "# Padahal nilai terkecil 2.2250738585072014e-308, tapi\n",
    "(1+e)-(1-e)"
   ]
  },
  {
   "cell_type": "code",
   "execution_count": null,
   "metadata": {
    "slideshow": {
     "slide_type": "fragment"
    }
   },
   "outputs": [],
   "source": [
    "# Tapi kalau 2*e atau e+e\n",
    "e+e"
   ]
  },
  {
   "cell_type": "markdown",
   "metadata": {
    "slideshow": {
     "slide_type": "slide"
    }
   },
   "source": [
    "<p><img alt=\"\" src=\"images/other_example_Cancellation_Error.png\" style=\"width: 550px; height: 376px;\" />Contoh Lain</p>\n"
   ]
  },
  {
   "cell_type": "markdown",
   "metadata": {
    "slideshow": {
     "slide_type": "slide"
    }
   },
   "source": [
    "# End of Modul MFDS-NM-01\n",
    "\n",
    "<hr />"
   ]
  }
 ],
 "metadata": {
  "celltoolbar": "Slideshow",
  "kernelspec": {
   "display_name": "Python 3",
   "language": "python",
   "name": "python3"
  },
  "language_info": {
   "codemirror_mode": {
    "name": "ipython",
    "version": 3
   },
   "file_extension": ".py",
   "mimetype": "text/x-python",
   "name": "python",
   "nbconvert_exporter": "python",
   "pygments_lexer": "ipython3",
   "version": "3.6.8"
  },
  "latex_envs": {
   "LaTeX_envs_menu_present": true,
   "autoclose": false,
   "autocomplete": true,
   "bibliofile": "biblio.bib",
   "cite_by": "apalike",
   "current_citInitial": 1,
   "eqLabelWithNumbers": true,
   "eqNumInitial": 1,
   "hotkeys": {
    "equation": "Ctrl-E",
    "itemize": "Ctrl-I"
   },
   "labels_anchors": false,
   "latex_user_defs": false,
   "report_style_numbering": false,
   "user_envs_cfg": false
  }
 },
 "nbformat": 4,
 "nbformat_minor": 2
}
