{
 "cells": [
  {
   "cell_type": "markdown",
   "metadata": {
    "slideshow": {
     "slide_type": "slide"
    }
   },
   "source": [
    "## <center><strong>Metode Numerik</strong><br />\n",
    "<img alt=\"\" src=\"images/MetNum.png\" style=\"height: 200px;\" /></center>\n",
    "\n",
    "# <center><font color=\"blue\">Turunan Numerik</font></center>\n",
    "\n",
    "<h2 id=\"(C)-Taufik-Sutanto---2022\" style=\"text-align: center;\">(C) Taufik Sutanto</h2>\n",
    "<h2 id=\"tau-data-Indonesia-~-https://tau-data.id\" style=\"text-align: center;\">taudata Analytics ~ <a href=\"https://taudata.blogspot.com/2022/04/mfdsnm-07.html\" target=\"_blank\"><span style=\"color: #0009ff;\">https://taudata.blogspot.com/2022/04/mfdsnm-07.html</span></a></h2>"
   ]
  },
  {
   "cell_type": "markdown",
   "metadata": {
    "slideshow": {
     "slide_type": "slide"
    }
   },
   "source": [
    "## Turunan Numerik:\n",
    "\n",
    "* Pendahuluan\n",
    "* Pendekatan Turunan Numerik \n",
    "* Analisis Error\n",
    "* Ekstrapolasi Richardson\n",
    "* Formula-formula turunan numerik"
   ]
  },
  {
   "cell_type": "markdown",
   "metadata": {},
   "source": [
    "## Sebelum dimulai\n",
    "* Yang akan dibahas di Bab ini hanya pendekatan dari turunan \"sebuah fungsi\" di suatu titik\n",
    "* Sistem \"Ordinary Differential Equations\" / Persamaan Differensial Biasa akan dibahas di Buku di Bab IX."
   ]
  },
  {
   "cell_type": "markdown",
   "metadata": {},
   "source": [
    "# Ketika Limit Fungsi Real di Kalkulus Ternyata Bukan Dari Dunia Nyata\n",
    "\n",
    "* Dari Kalkulus kita mendapatkan bahwa $$f'(x) = \\lim_{h\\rightarrow 0}\\frac{f(x+h)-f(x)}{h}$$\n",
    "* Secara logika kita memahami limit diatas sebagai \n",
    "  \"*ketika h semakin dekat dengan 0, maka nilai limit fungsinya semakin mendekati kemiringan garis singgung fungsi f di x*\"\n",
    "* Permasalahannya komputer tidak bisa menggunakan (menyimpan) bilangan real.\n",
    "* Apakah pengertian limit diatas berlaku juga di sistem Floating Point?"
   ]
  },
  {
   "cell_type": "markdown",
   "metadata": {},
   "source": [
    "* Misal $$f(x) = e^x$$\n",
    "* Maka $f'(1) = e = 2.718281828459045 ...$\n",
    "* Mari kita hitung $$\\frac{f(x+h)-f(x)}{h}$$ untuk $h=10^{-1},10^{-2},...,10^{-10},...$"
   ]
  },
  {
   "cell_type": "code",
   "execution_count": 6,
   "metadata": {},
   "outputs": [
    {
     "name": "stdout",
     "output_type": "stream",
     "text": [
      "h\t\t\tlimit\t\t\t    error_Absolut\n",
      "0.1 \t\t 1.0517091807564771 \t\t 0.051709180756477124\n",
      "0.01 \t\t 1.005016708416795 \t\t 0.005016708416794913\n",
      "0.001 \t\t 1.0005001667083846 \t\t 0.0005001667083845973\n",
      "0.0001 \t\t 1.000050001667141 \t\t 5.0001667140975314e-05\n",
      "1e-05 \t\t 1.000005000006965 \t\t 5.000006964905879e-06\n",
      "1e-06 \t\t 1.0000004999621837 \t\t 4.999621836532242e-07\n",
      "1e-07 \t\t 1.0000000494336803 \t\t 4.943368026033568e-08\n",
      "1e-08 \t\t 0.999999993922529 \t\t 6.07747097092215e-09\n",
      "1e-09 \t\t 1.000000082740371 \t\t 8.274037099909037e-08\n",
      "1e-10 \t\t 1.000000082740371 \t\t 8.274037099909037e-08\n",
      "1e-11 \t\t 1.000000082740371 \t\t 8.274037099909037e-08\n",
      "1e-12 \t\t 1.000088900582341 \t\t 8.890058234101161e-05\n",
      "1e-13 \t\t 0.9992007221626409 \t\t 0.0007992778373591136\n",
      "1e-14 \t\t 0.9992007221626409 \t\t 0.0007992778373591136\n",
      "1e-15 \t\t 1.1102230246251565 \t\t 0.11022302462515654\n",
      "1e-16 \t\t 0.0 \t\t 1.0\n",
      "1e-17 \t\t 0.0 \t\t 1.0\n",
      "1e-18 \t\t 0.0 \t\t 1.0\n",
      "1e-19 \t\t 0.0 \t\t 1.0\n"
     ]
    }
   ],
   "source": [
    "# Contoh Hal 312\n",
    "import numpy as np\n",
    "np.random.seed(99)\n",
    "\n",
    "def f(x):\n",
    "    return np.exp(x)\n",
    "\n",
    "X = 0.0 # f'(0)\n",
    "eksak = 1.0\n",
    "H = [10**-i for i in range(1,20)] # [0.1, 0.01, 0.001, 0.0001, 1e-05, 1e-06, 1e-07, 1e-08, 1e-09]\n",
    "#H = [0.1]\n",
    "limit = [(f(X+h)-f(X))/h for h in H]\n",
    "E = [abs(eksak-l) for l in limit]\n",
    "print ('h\\t\\t\\tlimit\\t\\t\\t    error_Absolut')\n",
    "for h, l, e in zip(H, limit, E):\n",
    "    print(h,'\\t\\t',l,'\\t\\t',e)\n",
    "    "
   ]
  },
  {
   "cell_type": "markdown",
   "metadata": {},
   "source": [
    "# Komputer \n",
    "* Pada contoh diatas kita melihat bahwa **h** mengecil belum tentu errornya juga mengecil\n",
    "* Kita bisa mengira-ngira **h terbaik** pada kasus diatas, tapi bagaimana dengan fungsi yang lain?"
   ]
  },
  {
   "cell_type": "markdown",
   "metadata": {},
   "source": [
    "<h2 id=\"Central-Difference\">Central Difference</h2>\n",
    "\n",
    "<p><img alt=\"\" src=\"images/theo_central_difference.png\" style=\"width: 800px; height: 424px;\" /></p>\n"
   ]
  },
  {
   "cell_type": "code",
   "execution_count": 8,
   "metadata": {},
   "outputs": [
    {
     "name": "stdout",
     "output_type": "stream",
     "text": [
      "h\t\t\tlimit\t\t\t    error_Absolut\n",
      "0.1 \t\t 1.001667500198441 \t\t 0.0016675001984409743\n",
      "0.01 \t\t 1.0000166667499921 \t\t 1.6666749992122476e-05\n",
      "0.001 \t\t 1.0000001666666813 \t\t 1.6666668134490692e-07\n",
      "0.0001 \t\t 1.0000000016668897 \t\t 1.6668897373506297e-09\n",
      "1e-05 \t\t 1.0000000000121023 \t\t 1.2102319146833906e-11\n",
      "1e-06 \t\t 0.9999999999732445 \t\t 2.6755486715046572e-11\n",
      "1e-07 \t\t 0.9999999994736442 \t\t 5.26355847796367e-10\n",
      "1e-08 \t\t 0.9999999994736442 \t\t 5.26355847796367e-10\n",
      "1e-09 \t\t 1.0000000272292198 \t\t 2.7229219767832546e-08\n",
      "1e-10 \t\t 1.000000082740371 \t\t 8.274037099909037e-08\n",
      "1e-11 \t\t 1.000000082740371 \t\t 8.274037099909037e-08\n",
      "1e-12 \t\t 1.0000333894311098 \t\t 3.3389431109753787e-05\n",
      "1e-13 \t\t 0.9997558336749535 \t\t 0.00024416632504653535\n",
      "1e-14 \t\t 0.9992007221626409 \t\t 0.0007992778373591136\n",
      "1e-15 \t\t 1.0547118733938987 \t\t 0.05471187339389871\n",
      "1e-16 \t\t 0.5551115123125783 \t\t 0.44488848768742173\n",
      "1e-17 \t\t 0.0 \t\t 1.0\n",
      "1e-18 \t\t 0.0 \t\t 1.0\n",
      "1e-19 \t\t 0.0 \t\t 1.0\n"
     ]
    }
   ],
   "source": [
    "# Better?\n",
    "limit = [(f(X+h)-f(X-h))/(2*h) for h in H]\n",
    "E = [abs(eksak-l) for l in limit]\n",
    "print ('h\\t\\t\\tlimit\\t\\t\\t    error_Absolut')\n",
    "for h, l, e in zip(H,limit, E):\n",
    "    print(h,'\\t\\t',l,'\\t\\t',e)"
   ]
  },
  {
   "cell_type": "markdown",
   "metadata": {},
   "source": [
    "<h2 id=\"Taking-the-central-Difference-Further\">Taking the central Difference Further</h2>\n",
    "\n",
    "<p><img alt=\"\" src=\"images/Theo_Central_Difference_2.png\" style=\"width: 800px; height: 378px;\" /></p>\n"
   ]
  },
  {
   "cell_type": "code",
   "execution_count": 10,
   "metadata": {},
   "outputs": [
    {
     "name": "stdout",
     "output_type": "stream",
     "text": [
      "h\t\t\tlimit\t\t\t    error_Absolut\n",
      "0.1 \t\t 0.9999966626960979 \t\t 3.3373039021178386e-06\n",
      "0.01 \t\t 0.9999999996666555 \t\t 3.3334446314370325e-10\n",
      "0.001 \t\t 0.9999999999999546 \t\t 4.54081217071689e-14\n",
      "0.0001 \t\t 1.0000000000002598 \t\t 2.5979218776228663e-13\n",
      "1e-05 \t\t 0.999999999996374 \t\t 3.6259883984257613e-12\n",
      "1e-06 \t\t 0.9999999999269852 \t\t 7.301481641519558e-11\n",
      "1e-07 \t\t 0.9999999991960884 \t\t 8.039116039526562e-10\n",
      "1e-08 \t\t 1.0000000022492015 \t\t 2.2492014917219194e-09\n",
      "1e-09 \t\t 1.0000000179773612 \t\t 1.7977361155274707e-08\n",
      "1e-10 \t\t 1.000000082740371 \t\t 8.274037099909037e-08\n",
      "1e-11 \t\t 1.000000082740371 \t\t 8.274037099909037e-08\n",
      "1e-12 \t\t 1.0000333894311098 \t\t 3.3389431109753787e-05\n",
      "1e-13 \t\t 0.9998483522603387 \t\t 0.00015164773966125367\n",
      "1e-14 \t\t 1.0029014655780581 \t\t 0.002901465578058149\n",
      "1e-15 \t\t 1.0917193075480705 \t\t 0.09171930754807045\n",
      "1e-16 \t\t 0.5551115123125783 \t\t 0.44488848768742173\n",
      "1e-17 \t\t 0.0 \t\t 1.0\n",
      "1e-18 \t\t 0.0 \t\t 1.0\n",
      "1e-19 \t\t 0.0 \t\t 1.0\n"
     ]
    }
   ],
   "source": [
    "# Really?\n",
    "limit = [(-f(X+2*h)+8*f(X+h)-8*f(X-h)+f(X-2*h))/(12*h) for h in H]\n",
    "E = [abs(eksak-l) for l in limit]\n",
    "print ('h\\t\\t\\tlimit\\t\\t\\t    error_Absolut')\n",
    "for h, l, e in zip(H,limit, E):\n",
    "    print(h,'\\t\\t',l,'\\t\\t',e)\n"
   ]
  },
  {
   "cell_type": "markdown",
   "metadata": {},
   "source": [
    "## Wow that's almost magical! It's time we understand where are these formulas came from.\n",
    "\n",
    "* Derive Taylor expansion $f(x) = P_4(x)+E_4(x)$ untuk f(x+h) dan f(x-h)\n",
    "* $f(x+h) - f(x-h) = 2f'(x)h + 2f^{(3)}(x)h^3/3! + 2f^{(5)}(c_1)h^5/5!$\n",
    "* Lakukan hal yang sama, tapi h = 2h, sehingga\n",
    "* $f(x+2h) - f(x-2h) = 4f'(x)h + 16f^{(3)}(x)h^3/3! + 64f^{(5)}(c_2)h^5/5!$\n",
    "* Persamaan kedua dikurangi 8 kali persamaan pertama menghasilkan formula diatas. \n",
    "* $-f(x+2h) + 8f(x+h) - 8f(x-h) + f(x-2h) = 12 f'(x)h + \\frac{(16f^{(5)}(c_1) - 64 f^{(5)}(c_2))h^5}{120}$\n",
    "* Jika dimisalkan \n",
    "* $16 f^{(5)}(c_1) - 64 f^{(5)}(c_2) = -48f^{(5)}(c)$ untuk suatu $c\\in [x-2h, x+2h]$, maka\n",
    "* $f'(x) = \\frac{-f(x+2h) + 8 f(x+h) -8 f(x-h) + f(x-2h)}{12h} + \\frac{f^{(5)}(c)h^4}{30}$\n",
    "* Hence our previous formula"
   ]
  },
  {
   "cell_type": "markdown",
   "metadata": {},
   "source": [
    "<h2 id=\"Analisis-Error,-Teori-dan-Realitas\">Analisis Error, Teori dan Realitas</h2>\n",
    "\n",
    "<ul>\n",
    "\t<li>Jika dibaca di buku, maka kita mendapatkan secara analitik batas error dari teorema 6.1 adalah:</li>\n",
    "\t<li><img alt=\"\" src=\"images/cor_6.1.b.png\" style=\"width: 400px; height: 142px;\" /></li>\n",
    "\t<li>dan untuk teorema 6.2 adalah:</li>\n",
    "\t<li><img alt=\"\" src=\"images/cor_6.2.b.png\" style=\"width: 400px ; height: 141px\" /></li>\n",
    "\t<li>But how useful are these corollary? Why? to what extend?</li>\n",
    "</ul>\n"
   ]
  },
  {
   "cell_type": "markdown",
   "metadata": {},
   "source": [
    "<h2 id=\"Richardson-Extrapolation\">Richardson Extrapolation</h2>\n",
    "\n",
    "<ul>\n",
    "\t<li>What Extrapolation? What do we mean by extrapolation in this contex?</li>\n",
    "\t<li><img alt=\"\" src=\"images/richard_extrapolation.png\" style=\"width: 600px; height: 256px;\" /></li>\n",
    "\t<li>How do we use it?</li>\n",
    "</ul>\n"
   ]
  },
  {
   "cell_type": "markdown",
   "metadata": {},
   "source": [
    "<p><img alt=\"\" src=\"images/richard_extrapolation_alg.png\" style=\"width: 624px; height: 172px;\" /></p>\n"
   ]
  },
  {
   "cell_type": "code",
   "execution_count": 4,
   "metadata": {},
   "outputs": [
    {
     "name": "stdout",
     "output_type": "stream",
     "text": [
      "7 8 9\n"
     ]
    }
   ],
   "source": [
    "# First you need to understand about List indexing in Python\n",
    "A = [3, 4, 5, 6, 9, 8, 7]\n",
    "print(A[-1], A[-2], A[-3])"
   ]
  },
  {
   "cell_type": "code",
   "execution_count": 11,
   "metadata": {},
   "outputs": [
    {
     "name": "stdout",
     "output_type": "stream",
     "text": [
      "k\t\t\tD\t\t\t    error_Absolut\n",
      "0 \t\t 1.001667500198441 \t\t 0.0016675001984409743\n",
      "1 \t\t 1.000016666749992 \t\t 1.666674999190043e-05\n",
      "2 \t\t 1.0000001666666813 \t\t 1.6666668134490692e-07\n",
      "3 \t\t 1.0000000016668897 \t\t 1.6668897373506297e-09\n",
      "4 \t\t 1.0000000000121023 \t\t 1.2102319146833906e-11\n",
      "5 \t\t 0.9999999999732444 \t\t 2.6755597737349035e-11\n",
      "6 \t\t 0.9999999994736442 \t\t 5.26355847796367e-10\n",
      "Final solution at k =  4\n"
     ]
    }
   ],
   "source": [
    "# Contoh aplikasi\n",
    "X = 0.0\n",
    "h = 0.1 # h terbaik di contoh terakhir\n",
    "D = []\n",
    "# Lihat formulanya, kita butuh minimal 3 D untuk memulai iterasinya.\n",
    "# Kita masih akan menggunakan f(x) yang sama dengan contoh sebelumnya\n",
    "\n",
    "def R(x,h,k):\n",
    "    return (f(x+10**-k*h) - f(x-10**-k*h))/(2*h*10**-k)\n",
    "\n",
    "print ('k\\t\\t\\tD\\t\\t\\t    error_Absolut')\n",
    "\n",
    "k = 0\n",
    "d = R(X,h,k) # k = 0\n",
    "D.append(d)\n",
    "print(k,'\\t\\t', d,'\\t\\t',abs(1-d))\n",
    "\n",
    "k = k+1\n",
    "d = R(X,h,k) # k = 1\n",
    "D.append(d)\n",
    "print(k,'\\t\\t', d,'\\t\\t',abs(1-d))\n",
    "\n",
    "k = k+1\n",
    "d = R(X,h,k) # k = 2\n",
    "D.append(d)\n",
    "print(k,'\\t\\t', d,'\\t\\t',abs(1-d))\n",
    "\n",
    "while abs(D[-1]-D[-2])<abs(D[-2]-D[-3]):\n",
    "    k = k+1\n",
    "    d = R(X,h,k)\n",
    "    D.append(d)\n",
    "    print(k,'\\t\\t', d,'\\t\\t',abs(1-d))\n",
    "    \n",
    "print('Final solution at k = ', k-2)"
   ]
  },
  {
   "cell_type": "markdown",
   "metadata": {},
   "source": [
    "<h2 id=\"Numerical-Differentiation-Formulas\">Numerical Differentiation Formulas</h2>\n",
    "\n",
    "<p><img alt=\"\" src=\"images/NDF_1.png\" style=\"width: 462px; height: 538px;\" /></p>\n"
   ]
  },
  {
   "cell_type": "markdown",
   "metadata": {},
   "source": [
    "<p><img alt=\"\" src=\"images/NDF_2.png\" style=\"width: 563px; height: 548px;\" /></p>\n"
   ]
  },
  {
   "cell_type": "markdown",
   "metadata": {
    "slideshow": {
     "slide_type": "slide"
    }
   },
   "source": [
    "# End of Module\n",
    "\n",
    "<hr />"
   ]
  }
 ],
 "metadata": {
  "celltoolbar": "Slideshow",
  "kernelspec": {
   "display_name": "Python 3 (ipykernel)",
   "language": "python",
   "name": "python3"
  },
  "language_info": {
   "codemirror_mode": {
    "name": "ipython",
    "version": 3
   },
   "file_extension": ".py",
   "mimetype": "text/x-python",
   "name": "python",
   "nbconvert_exporter": "python",
   "pygments_lexer": "ipython3",
   "version": "3.9.11"
  },
  "latex_envs": {
   "LaTeX_envs_menu_present": true,
   "autoclose": false,
   "autocomplete": true,
   "bibliofile": "biblio.bib",
   "cite_by": "apalike",
   "current_citInitial": 1,
   "eqLabelWithNumbers": true,
   "eqNumInitial": 1,
   "hotkeys": {
    "equation": "Ctrl-E",
    "itemize": "Ctrl-I"
   },
   "labels_anchors": false,
   "latex_user_defs": false,
   "report_style_numbering": false,
   "user_envs_cfg": false
  }
 },
 "nbformat": 4,
 "nbformat_minor": 2
}
