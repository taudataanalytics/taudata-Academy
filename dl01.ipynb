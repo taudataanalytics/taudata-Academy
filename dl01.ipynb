{
 "cells": [
  {
   "cell_type": "markdown",
   "metadata": {
    "slideshow": {
     "slide_type": "slide"
    }
   },
   "source": [
    "<center><h1><strong>taudata Analytics</strong></h1></center>\n",
    "<center><h2><strong><font color=\"blue\">Pendahuluan Neural Network & Deep Learning</font></strong></h2></center>\n",
    "<img alt=\"\" src=\"images/covers/taudata-cover.jpg\"/>\n",
    "\n",
    "<b><center>(C) Taufik Sutanto</center>\n",
    "<center><h3><font color=\"blue\">https://taudataid.github.io/dl01/</font></h3></center>"
   ]
  },
  {
   "cell_type": "markdown",
   "metadata": {
    "slideshow": {
     "slide_type": "slide"
    }
   },
   "source": [
    "<img alt=\"\" src=\"images/Sejarah_ML_AI.jpg\" />"
   ]
  },
  {
   "cell_type": "markdown",
   "metadata": {
    "slideshow": {
     "slide_type": "slide"
    }
   },
   "source": [
    "# <center><font color=\"blue\"> Sejarah Perkembangan Metode di Machine Learning, Neural network & Deep Learning</font></center>\n",
    "\n",
    "## Sejarah Beberapa Metode di Machine Learning:\n",
    "\n",
    "* Bayesian\t\t: 1763 Thomas Bayes, Statisticians\n",
    "* Regresi\t\t: Abad 19 (~18XX), Francis Galton (biologist)\n",
    "* Decision Tree\t: 1959, William Belson, biologist  (popular oleh R. Quinlan 80-an ID3 & CART oleh )\n",
    "* Perceptron\t\t: 1962, Frank Rosenblatt, psychologist\n",
    "* SVM\t\t: 1963, Vapnik, Mathematics and Statistics.\n",
    "* Neural network\t: 1974, Werbos (backprop), 1990 Hecht-Nielsen (MLP)(setelah perceptron)\n",
    "* Semi-Supervised\t: 1965 Scruder, tapi popular 2008 Zhu (comp scientist)\n",
    "* Ensemble\t\t: 1979, Dasarathy, \n",
    "* Deep learning\t: ...\n",
    "\n",
    "## Sejarah Deep Learning:\n",
    "\n",
    "* Ketika ML (SVM) sedang populer di tahun 2010, beberapa peneliti tetap mendalami NN, diantaranya nama-nama tenar seperti&nbsp;Geoffrey Hinton di the University of Toronto, dan Yann LeCun di New York University.\n",
    "* Deep Learning dengan GPU dimulai di tahun 2011 (Dan Ciresan dari&nbsp; IDSIA-Swiss)\n",
    "* Namun di 2012 baru terkenal karena permasalahan klasifikasi ImageNet (~1,4 juta image dikategorikan ke 1000 kelas) mampu diselesaikan oleh Hinton. Awalnya akurasinya &#39;hanya&#39; ~74% (2011), lalu ~83(2012), dan di anggap telah solved di 2015 dengan akurasi ~96% (Deep Convolutional Neural Network - convnets).\n",
    "* Sejak itu&nbsp;convnets menjadi model dasar computer vision.\n",
    "* Di Kaggle (2016-2017) ada trend untuk data terstruktur biasanya diselesaikan dengan Gradient Boosting (e.g. XGBoost) dan data tidak terstruktur dengan DL (e.g. Keras)."
   ]
  },
  {
   "cell_type": "markdown",
   "metadata": {
    "slideshow": {
     "slide_type": "slide"
    }
   },
   "source": [
    "# <center><font color=\"blue\">Penantian Lama Aplikasi Teori di Deep learning</font></center>\n",
    "\n",
    "<p>Theory Deep Learning sebenarnya sudah cukup lama ada (dibahas):</p>\n",
    "\n",
    "<ul>\n",
    "\t<li>convolutional neural networks dan backpropagation &mdash; 1989</li>\n",
    "\t<li>The Long Short-Term Memory ( LSTM ) algorithm (timeseries DL)&nbsp;&mdash;&nbsp;1997</li>\n",
    "</ul>\n",
    "\n",
    "<p>Lalu mengapa baru tenar di 2012?</p>\n",
    "\n",
    "<ul>\n",
    "\t<li>Hardware (terutama GPU)</li>\n",
    "\t<li>Dataset (Big Data)</li>\n",
    "\t<li>Perkembangan Algoritma terbaru : Better activation functions, weight-initialization schemes, optimization schemes (e.g.Adam W)</li>\n",
    "</ul>\n",
    "\n",
    "<big><strong>Tapi apa sebenarnya Deep Learning?</strong></big>"
   ]
  },
  {
   "cell_type": "markdown",
   "metadata": {
    "slideshow": {
     "slide_type": "slide"
    }
   },
   "source": [
    "# <center><font color=\"blue\"> Neural network VS Deep Learning</font></center>\n",
    "\n",
    "<p><img src=\"images/DL/5_DeepLearning.png\" alt=\"\" width=\"487\" height=\"549\" /></p>\n",
    "<ul>\n",
    "<li>Yang menjadi pembeda utama DL dengan ML adalah DL \"<em>Learning representations from data</em>\". Misal Word Embedding (bandingkan dengan VSM di Machine Learning).</li>\n",
    "<li>Makna \"Deep\" di DL sendiri bermakna \"successive layers of representations\" biasa juga disebut sebagai&nbsp;<em>layered representations learning</em> atau <em>hierarchical representations learning</em>.</li>\n",
    "</ul>"
   ]
  },
  {
   "cell_type": "markdown",
   "metadata": {
    "slideshow": {
     "slide_type": "slide"
    }
   },
   "source": [
    "# <center><font color=\"blue\"> Deep Learning & \"Big Data\"</font></center>\n",
    "\n",
    " <img alt=\"\" src=\"images/DL/why_DL.png\" />\n",
    " \n",
    "* Seringnya DL butuh data yang besar untuk memperoleh performa (akurasi) yang baik.\n",
    "* \"Transfer Learning\" di Deep learning diperkenalkan untuk mengatasi hal ini."
   ]
  },
  {
   "cell_type": "markdown",
   "metadata": {
    "slideshow": {
     "slide_type": "slide"
    }
   },
   "source": [
    "# <center><font color=\"blue\">Pendahuluan model Jaringan</font></center>\n",
    "\n",
    "<img src=\"images/DL/intro_nn.JPG\"  style=\"width: 800px;\" />"
   ]
  },
  {
   "cell_type": "markdown",
   "metadata": {
    "slideshow": {
     "slide_type": "slide"
    }
   },
   "source": [
    "<img alt=\"\" src=\"images/DL/6_JST.JPG\" style=\"height:400px; width:706px\" />"
   ]
  },
  {
   "cell_type": "markdown",
   "metadata": {
    "slideshow": {
     "slide_type": "slide"
    }
   },
   "source": [
    "# <center><font color=\"blue\">Alur Perhitungan pada Model Jaringan</font></center>\n",
    "\n",
    "<ul>\n",
    "\t<li><img alt=\"\" src=\"images/DL/VG_1.gif\" style=\"width: 250px; height: 270px;\" /></li>\n",
    "\t<li><img alt=\"\" src=\"images/DL/VG_2.gif\" style=\"width: 250px; height: 270px;\" /></li>\n",
    "</ul>\n"
   ]
  },
  {
   "cell_type": "markdown",
   "metadata": {
    "slideshow": {
     "slide_type": "slide"
    }
   },
   "source": [
    "# <center><font color=\"blue\">Training Neural Network </font></center>\n",
    "\n",
    "<img alt=\"\" src=\"images/DL/cara_kerja_nn.jpg\" style=\"\" />"
   ]
  },
  {
   "cell_type": "markdown",
   "metadata": {
    "slideshow": {
     "slide_type": "slide"
    }
   },
   "source": [
    "# <center><font color=\"blue\">Fungsi Aktivasi</font></center>\n",
    "\n",
    "<ul>\n",
    "<li>Fungsi aktivasi adalah fungsi yang memutuskan apakah suatu neuron harus diaktifkan atau tidak berdasarkan hasil perhitungan kombinasi linear antara variabel input dengan masing-masing bobotnya. Selain itu fungsi aktivasi bisa berfungsi untuk merubah kombinasi linear tersebut menjadi output yang non linear</li>\n",
    "<li>Terdapat beberapa <em>activation function</em>, di antaranya sebagai berikut:</li>\n",
    "</ul>\n",
    "<p><img style=\"undefined: undefined;\" src=\"images/DL/act_func.png\" alt=\"\" width=\"524\" height=\"142\" /> <img style=\"undefined: undefined;\" src=\"images/6_JST_Actv.png\" alt=\"\" width=\"518\" height=\"427\" /></p>"
   ]
  },
  {
   "cell_type": "markdown",
   "metadata": {
    "slideshow": {
     "slide_type": "slide"
    }
   },
   "source": [
    "# <center><font color=\"blue\">Contoh Fungsi tanh memetakan [-Inf, Inf] ke [-1, 1]</font></center>\n",
    "\n",
    "<p><img alt=\"\" src=\"images/DL/tanh_act.gif\" style=\"width: 800px; height: 317px;\" /></p>"
   ]
  },
  {
   "cell_type": "markdown",
   "metadata": {
    "slideshow": {
     "slide_type": "slide"
    }
   },
   "source": [
    "# <center><font color=\"blue\">Fungsi Aktivasi Sigmoid yang bisa digunakan untuk menginat dan melupakan</font></center>\n",
    "\n",
    "<ul>\n",
    "\t<li>Fungsi sigmoid mirip dengan tanh, namun intervalnya adalah [0, 1].</li>\n",
    "\t<li>Semakin dekat ke 0 ==&gt; melupakan (forget): informasi tidak relevan.</li>\n",
    "\t<li>Semakin dekat ke 1 ==&gt; mengingat: informasi relevan/penting.</li>\n",
    "\t<li><img alt=\"\" src=\"images/DL/sigmoid.gif\" style=\"width: 800px; height: 317px;\" /></li>\n",
    "</ul>"
   ]
  },
  {
   "cell_type": "markdown",
   "metadata": {
    "slideshow": {
     "slide_type": "slide"
    }
   },
   "source": [
    "# <center><font color=\"blue\">Tanpa fungsi aktivasi apa yang akan terjadi?</font></center>\n",
    "\n",
    "* Tanpa fungsi aktivasi, weights bisa membesar tak berbatas ketika iterasinya berjalan\n",
    "\n",
    "<p><img alt=\"\" src=\"images/DL/tanpa_tanh.gif\" style=\"width: 800px; height: 106px;\" /></p>"
   ]
  },
  {
   "cell_type": "markdown",
   "metadata": {
    "slideshow": {
     "slide_type": "slide"
    }
   },
   "source": [
    "# <center><font color=\"blue\">Dengan Fungsi Aktivasi, nilai weights selalu terbatas (misal) di -1 dan 1, namun tingkat kepentingan weight tetap terjaga.</font></center>\n",
    "\n",
    "* Perhatikan nilai weight yang pertama\n",
    "<img alt=\"\" src=\"images/DL/dgn_tanh.gif\" style=\"width: 800px; height: 106px;\" />"
   ]
  },
  {
   "cell_type": "markdown",
   "metadata": {
    "slideshow": {
     "slide_type": "slide"
    }
   },
   "source": [
    "# <center><font color=\"blue\">Contoh Cara Kerja/Perhitungan Neural Network</font></center>\n",
    "\n",
    "<center><video align=\"center\" controls src=\"videos/neural network.mp4\"  width=\"800\"/></center>\n",
    "\n",
    "link: https://youtu.be/o20mBWPHGEw"
   ]
  },
  {
   "cell_type": "markdown",
   "metadata": {
    "slideshow": {
     "slide_type": "slide"
    }
   },
   "source": [
    "# <center><font color=\"blue\">\"Toy Data\" Contoh Perhitungan Neural Network (Back Propagation)</font></center>\n",
    "\n",
    "<p><img alt=\"\" src=\"images/DL/NN-BP_step_1.png\" style=\"width: 600px; height: 358px;\" /></p>"
   ]
  },
  {
   "cell_type": "markdown",
   "metadata": {
    "slideshow": {
     "slide_type": "slide"
    }
   },
   "source": [
    "<img alt=\"\" src=\"images/DL/NN-BP_step_2.png\" style=\"width: 600px; height: 348px;\" />"
   ]
  },
  {
   "cell_type": "markdown",
   "metadata": {
    "slideshow": {
     "slide_type": "slide"
    }
   },
   "source": [
    "<p><img alt=\"\" src=\"images/DL/NN-BP_step_3.png\" style=\"width: 600px; height: 313px;\" /></p>\n"
   ]
  },
  {
   "cell_type": "markdown",
   "metadata": {
    "slideshow": {
     "slide_type": "slide"
    }
   },
   "source": [
    "<p><img alt=\"\" src=\"images/DL/NN-BP_step_4.png\" style=\"width: 600px; height: 305px;\" /></p>\n"
   ]
  },
  {
   "cell_type": "markdown",
   "metadata": {
    "slideshow": {
     "slide_type": "slide"
    }
   },
   "source": [
    "<p><img alt=\"\" src=\"images/DL/NN-BP_step_5.png\" style=\"width: 600px; height: 305px;\" /></p>\n"
   ]
  },
  {
   "cell_type": "markdown",
   "metadata": {
    "slideshow": {
     "slide_type": "slide"
    }
   },
   "source": [
    "<p><img alt=\"\" src=\"images/DL/Loss_function_neural_network_deep_learning.png\" /></p>"
   ]
  },
  {
   "cell_type": "markdown",
   "metadata": {
    "slideshow": {
     "slide_type": "slide"
    }
   },
   "source": [
    "# <center><font color=\"blue\">Memilih Fungsi Aktivasi dan Fungsi Loss</font></center>\n",
    "\n",
    "<img alt=\"\" src=\"images/DL/memilih_loss_dan_activation.png\" style=\"width: 600px; height: 368px;\" />"
   ]
  },
  {
   "cell_type": "markdown",
   "metadata": {
    "slideshow": {
     "slide_type": "slide"
    }
   },
   "source": [
    "# <center><font color=\"blue\">Peran Optimizer</font></center>\n",
    "\n",
    "\n",
    "<table border=\"1\" cellpadding=\"1\" cellspacing=\"1\" style=\"width: 500px\">\n",
    "\t<tbody>\n",
    "\t\t<tr>\n",
    "\t\t\t<td><img alt=\"\" src=\"images/DL/contours_evaluation_optimizers.gif\" /></td>\n",
    "\t\t\t<td><img alt=\"\" src=\"images/DL/saddle_point_evaluation_optimizers.gif\" /></td>\n",
    "\t\t</tr>\n",
    "\t</tbody>\n",
    "</table>\n",
    "\n",
    "Optimizer : \n",
    "<a href=\"http://ruder.io/optimizing-gradient-descent/\" target=\"_blank\">http://ruder.io/optimizing-gradient-descent/&nbsp;</a>\n"
   ]
  },
  {
   "cell_type": "markdown",
   "metadata": {
    "slideshow": {
     "slide_type": "slide"
    }
   },
   "source": [
    "# <center><font color=\"blue\">Loss function dan Error</font></center>\n",
    "\n",
    "<p><img alt=\"\" src=\"images/low-high-bias-variance.png\" style=\"width: 600px; height: 244px;\" /></p>\n"
   ]
  },
  {
   "cell_type": "markdown",
   "metadata": {
    "slideshow": {
     "slide_type": "slide"
    }
   },
   "source": [
    "# <center><font color=\"blue\">Loss Function, Optimizer, & metric</font></center>\n",
    "\n",
    "<ol>\n",
    "\t<li><strong>Loss function (objective function)</strong> &mdash; fungsi yang akan di minimize. Hasilnya merepresentasikan tingkat sukses pada setiap iterasi.<br />\n",
    "\t<a href=\"https://keras.io/losses/\" target=\"_blank\">https://keras.io/losses/&nbsp;</a></li>\n",
    "\t<li><strong>Optimizer&nbsp;</strong>&mdash; Berfungsi untuk menentukan bagaimana (weights) di network akan di update berdasarkan loss-functionnya. (e.g. variasi dari SGD)<br />\n",
    "\t<a href=\"https://keras.io/optimizers/\" target=\"_blank\">https://keras.io/optimizers/</a></li>\n",
    "\t<li><strong>Metrics&nbsp;</strong>&mdash; Satuan evaluasi<br />\n",
    "\t<a href=\"https://keras.io/metrics/\" target=\"_blank\">https://keras.io/metrics/</a></li>\n",
    "</ol>"
   ]
  },
  {
   "cell_type": "markdown",
   "metadata": {
    "slideshow": {
     "slide_type": "slide"
    }
   },
   "source": [
    "# <center><font color=\"blue\">Multiclassification di Model Jaringan</font></center>\n",
    "\n",
    "<img alt=\"\" src=\"images/DL/Multiclass_ANN.png\" style=\"width: 600px; height: 468px;\" />"
   ]
  },
  {
   "cell_type": "markdown",
   "metadata": {
    "slideshow": {
     "slide_type": "slide"
    }
   },
   "source": [
    "# <center><font color=\"blue\">Empirical Analysis Parameter di Model Jaringan</font></center>\n",
    "\n",
    "<ul>\n",
    "<li>\n",
    "<p>Tensorflow PlayGround: <strong><a href=\"https://goo.gl/3rcnc9\" target=\"_blank\" rel=\"nofollow noopener\">https://goo.gl/3rcnc9</a></strong></p>\n",
    "</li>\n",
    "<li>\n",
    "<p>Memahami \"Bias\" di Model jaringan: Mengapa dengan fungsi linear bisa membentuk \"boundary\" yang melengkung (kurva)?</p>\n",
    "<strong><a href=\"http://s.id/j6i\" target=\"_blank\" rel=\"nofollow noopener\">http://s.id/j6i</a></strong>\n",
    "\n",
    "</li>\n",
    "</ul>\n",
    "<p><img src=\"images/tensorflow_playground.png\" width=\"638\" height=\"380\" /></p>"
   ]
  },
  {
   "cell_type": "markdown",
   "metadata": {
    "slideshow": {
     "slide_type": "slide"
    }
   },
   "source": [
    "<p><img style=\"undefined: undefined;\" src=\"images/6_tipe_NN.png\" alt=\"\" width=\"618\" height=\"1050\" /></p>"
   ]
  },
  {
   "cell_type": "markdown",
   "metadata": {
    "slideshow": {
     "slide_type": "slide"
    }
   },
   "source": [
    "# <center><font color=\"blue\">Deep learning (Popular) Frameworks</font></center>\n",
    "\n",
    "<img src=\"images/DL/deep-learning-frameworks.jpg\" style=\"width: 800px\"/>\n",
    "\n",
    "* https://morioh.com/p/ae3bdc889d0c\n",
    "* https://marutitech.com/top-8-deep-learning-frameworks/"
   ]
  },
  {
   "cell_type": "markdown",
   "metadata": {
    "slideshow": {
     "slide_type": "slide"
    }
   },
   "source": [
    "# <center><font color=\"blue\">Kelebihan dan Kekurangan</font></center>\n",
    "\n",
    "<img src=\"images/DL/pros and cons.jpeg\" style=\"width: 600px\"/><br>\n",
    "\n",
    "image source: \n",
    "- https://slidetodoc.com/neural-networks-and-support-vector-machines-outline-neural/"
   ]
  },
  {
   "cell_type": "markdown",
   "metadata": {
    "slideshow": {
     "slide_type": "slide"
    }
   },
   "source": [
    "# <center><font color=\"blue\">Penerapan Neural Network</font></center>\n",
    "\n",
    "<br>\n",
    "<center><video align=\"center\" controls src=\"videos/neural_network_in_life.MP4\"/></center>\n",
    "\n",
    "source: https://www.youtube.com/watch?v=me3QEYPsFWE"
   ]
  },
  {
   "cell_type": "markdown",
   "metadata": {
    "slideshow": {
     "slide_type": "slide"
    }
   },
   "source": [
    "# <center><font color=\"blue\">Studi Kasus</font></center> \n",
    "\n",
    "- Sebagai ilustrasi, kita gunakan data konsumsi energi tiap rumah untuk membuat model neural network\n",
    "- Data tersebut terdiri dari 504 baris dan 4 kolom, kolom tersebut di antaranya yaitu:\n",
    "1. jumlah ruangan\n",
    "2. jumlah penghuni\n",
    "3. luas bangunan\n",
    "4. banyaknya energi listrik yang digunakan dalam satuan KWh per bulan\n",
    "\n",
    "<img src=\"images/data_energi.JPG\"/>\n",
    "\n",
    "- Data tersebut merupakan hasil modifikasi dari data boston housing (link: https://www.kaggle.com/c/boston-housing)\n",
    "- Model neural network yang akan dibuat bertujuan untuk memprediksi kolom energi listrik berdasarkan kolom lainnya."
   ]
  },
  {
   "cell_type": "markdown",
   "metadata": {
    "slideshow": {
     "slide_type": "slide"
    }
   },
   "source": [
    "## Import Modul Standar"
   ]
  },
  {
   "cell_type": "code",
   "execution_count": 6,
   "metadata": {
    "slideshow": {
     "slide_type": "slide"
    }
   },
   "outputs": [],
   "source": [
    "import numpy as np\n",
    "import pandas as pd\n",
    "import matplotlib.pyplot as plt\n",
    "%matplotlib inline\n",
    "import seaborn as sns\n",
    "sns.set_theme(style=\"whitegrid\")\n",
    "import warnings; warnings.filterwarnings(\"ignore\")"
   ]
  },
  {
   "cell_type": "markdown",
   "metadata": {
    "slideshow": {
     "slide_type": "slide"
    }
   },
   "source": [
    "## Import Data Konsumsi Energi\n",
    "- Data konsumsi energi diimport menggunakan pandas\n",
    "- karena format datanya csv maka untuk mengimportnya menggunakan `pd.read_csv()`\n",
    "- setelah diimport dan simpan dalam variabel energi, kita coba lihat 5 data teratas menggunakan `energi.head()`"
   ]
  },
  {
   "cell_type": "code",
   "execution_count": 7,
   "metadata": {
    "slideshow": {
     "slide_type": "slide"
    }
   },
   "outputs": [
    {
     "data": {
      "text/html": [
       "<div>\n",
       "<style scoped>\n",
       "    .dataframe tbody tr th:only-of-type {\n",
       "        vertical-align: middle;\n",
       "    }\n",
       "\n",
       "    .dataframe tbody tr th {\n",
       "        vertical-align: top;\n",
       "    }\n",
       "\n",
       "    .dataframe thead th {\n",
       "        text-align: right;\n",
       "    }\n",
       "</style>\n",
       "<table border=\"1\" class=\"dataframe\">\n",
       "  <thead>\n",
       "    <tr style=\"text-align: right;\">\n",
       "      <th></th>\n",
       "      <th>jumlah_ruangan</th>\n",
       "      <th>jumlah_penghuni</th>\n",
       "      <th>luas_bangunan</th>\n",
       "      <th>listrik</th>\n",
       "    </tr>\n",
       "  </thead>\n",
       "  <tbody>\n",
       "    <tr>\n",
       "      <th>0</th>\n",
       "      <td>2</td>\n",
       "      <td>1</td>\n",
       "      <td>49.8</td>\n",
       "      <td>24.0</td>\n",
       "    </tr>\n",
       "    <tr>\n",
       "      <th>1</th>\n",
       "      <td>7</td>\n",
       "      <td>2</td>\n",
       "      <td>91.4</td>\n",
       "      <td>21.6</td>\n",
       "    </tr>\n",
       "    <tr>\n",
       "      <th>2</th>\n",
       "      <td>7</td>\n",
       "      <td>2</td>\n",
       "      <td>40.3</td>\n",
       "      <td>34.7</td>\n",
       "    </tr>\n",
       "    <tr>\n",
       "      <th>3</th>\n",
       "      <td>2</td>\n",
       "      <td>3</td>\n",
       "      <td>29.4</td>\n",
       "      <td>33.4</td>\n",
       "    </tr>\n",
       "    <tr>\n",
       "      <th>4</th>\n",
       "      <td>2</td>\n",
       "      <td>3</td>\n",
       "      <td>53.3</td>\n",
       "      <td>36.2</td>\n",
       "    </tr>\n",
       "    <tr>\n",
       "      <th>5</th>\n",
       "      <td>2</td>\n",
       "      <td>3</td>\n",
       "      <td>52.1</td>\n",
       "      <td>28.7</td>\n",
       "    </tr>\n",
       "    <tr>\n",
       "      <th>6</th>\n",
       "      <td>7</td>\n",
       "      <td>5</td>\n",
       "      <td>124.3</td>\n",
       "      <td>22.9</td>\n",
       "    </tr>\n",
       "    <tr>\n",
       "      <th>7</th>\n",
       "      <td>7</td>\n",
       "      <td>5</td>\n",
       "      <td>191.5</td>\n",
       "      <td>27.1</td>\n",
       "    </tr>\n",
       "    <tr>\n",
       "      <th>8</th>\n",
       "      <td>7</td>\n",
       "      <td>5</td>\n",
       "      <td>299.3</td>\n",
       "      <td>16.5</td>\n",
       "    </tr>\n",
       "    <tr>\n",
       "      <th>9</th>\n",
       "      <td>7</td>\n",
       "      <td>5</td>\n",
       "      <td>171.0</td>\n",
       "      <td>18.9</td>\n",
       "    </tr>\n",
       "  </tbody>\n",
       "</table>\n",
       "</div>"
      ],
      "text/plain": [
       "   jumlah_ruangan  jumlah_penghuni  luas_bangunan  listrik\n",
       "0               2                1           49.8     24.0\n",
       "1               7                2           91.4     21.6\n",
       "2               7                2           40.3     34.7\n",
       "3               2                3           29.4     33.4\n",
       "4               2                3           53.3     36.2\n",
       "5               2                3           52.1     28.7\n",
       "6               7                5          124.3     22.9\n",
       "7               7                5          191.5     27.1\n",
       "8               7                5          299.3     16.5\n",
       "9               7                5          171.0     18.9"
      ]
     },
     "execution_count": 7,
     "metadata": {},
     "output_type": "execute_result"
    }
   ],
   "source": [
    "file_ = 'data/konsumsi_energi.csv'\n",
    "try: # Running Locally\n",
    "    energi = pd.read_csv(file_)\n",
    "except: # Running in Google Colab\n",
    "    !mkdir data\n",
    "    !wget -P data/ https://raw.githubusercontent.com/taudata-indonesia/eLearning/main/{file_}\n",
    "    energi = pd.read_csv(file_)\n",
    "energi.head(10)"
   ]
  },
  {
   "cell_type": "markdown",
   "metadata": {
    "slideshow": {
     "slide_type": "slide"
    }
   },
   "source": [
    "## Visualisasi Data"
   ]
  },
  {
   "cell_type": "code",
   "execution_count": 8,
   "metadata": {
    "scrolled": false,
    "slideshow": {
     "slide_type": "slide"
    }
   },
   "outputs": [
    {
     "data": {
      "text/plain": [
       "<seaborn.axisgrid.PairGrid at 0x1bbd6220520>"
      ]
     },
     "execution_count": 8,
     "metadata": {},
     "output_type": "execute_result"
    },
    {
     "data": {
      "image/png": "[encoded data removed]",
      "text/plain": [
       "<Figure size 720x180 with 5 Axes>"
      ]
     },
     "metadata": {},
     "output_type": "display_data"
    }
   ],
   "source": [
    "sns.pairplot(energi, y_vars='listrik')"
   ]
  },
  {
   "cell_type": "markdown",
   "metadata": {
    "slideshow": {
     "slide_type": "slide"
    }
   },
   "source": [
    "- Dari hasil visualisasi data terlihat bahwa terdapat keanehan pada data.\n",
    "- Hal tersebut dikarenakan data yang digunakan bukan data sebenarnya.\n",
    "- Tetapi coba kita tetap gunakan sebagai contoh."
   ]
  },
  {
   "cell_type": "markdown",
   "metadata": {
    "slideshow": {
     "slide_type": "slide"
    }
   },
   "source": [
    "## Melihat Statistika Deskriptif dari Data\n",
    "- Sebelum melakukan pembuatan model, sebaiknya dilakukan analisa terhadap statistika deskriptif dari data\n",
    "- Dari statistika deskriptif tersebut, kita dapat meilhat range dari data dan ukuran pusat data"
   ]
  },
  {
   "cell_type": "code",
   "execution_count": 9,
   "metadata": {
    "scrolled": false,
    "slideshow": {
     "slide_type": "slide"
    }
   },
   "outputs": [
    {
     "data": {
      "text/html": [
       "<div>\n",
       "<style scoped>\n",
       "    .dataframe tbody tr th:only-of-type {\n",
       "        vertical-align: middle;\n",
       "    }\n",
       "\n",
       "    .dataframe tbody tr th {\n",
       "        vertical-align: top;\n",
       "    }\n",
       "\n",
       "    .dataframe thead th {\n",
       "        text-align: right;\n",
       "    }\n",
       "</style>\n",
       "<table border=\"1\" class=\"dataframe\">\n",
       "  <thead>\n",
       "    <tr style=\"text-align: right;\">\n",
       "      <th></th>\n",
       "      <th>jumlah_ruangan</th>\n",
       "      <th>jumlah_penghuni</th>\n",
       "      <th>luas_bangunan</th>\n",
       "      <th>listrik</th>\n",
       "    </tr>\n",
       "  </thead>\n",
       "  <tbody>\n",
       "    <tr>\n",
       "      <th>count</th>\n",
       "      <td>504.000000</td>\n",
       "      <td>504.000000</td>\n",
       "      <td>504.000000</td>\n",
       "      <td>504.000000</td>\n",
       "    </tr>\n",
       "    <tr>\n",
       "      <th>mean</th>\n",
       "      <td>10.750000</td>\n",
       "      <td>9.575397</td>\n",
       "      <td>126.859325</td>\n",
       "      <td>22.474008</td>\n",
       "    </tr>\n",
       "    <tr>\n",
       "      <th>std</th>\n",
       "      <td>6.914488</td>\n",
       "      <td>8.714506</td>\n",
       "      <td>71.355341</td>\n",
       "      <td>9.132927</td>\n",
       "    </tr>\n",
       "    <tr>\n",
       "      <th>min</th>\n",
       "      <td>1.000000</td>\n",
       "      <td>1.000000</td>\n",
       "      <td>17.300000</td>\n",
       "      <td>5.000000</td>\n",
       "    </tr>\n",
       "    <tr>\n",
       "      <th>25%</th>\n",
       "      <td>5.000000</td>\n",
       "      <td>4.000000</td>\n",
       "      <td>70.925000</td>\n",
       "      <td>16.950000</td>\n",
       "    </tr>\n",
       "    <tr>\n",
       "      <th>50%</th>\n",
       "      <td>9.000000</td>\n",
       "      <td>5.000000</td>\n",
       "      <td>113.950000</td>\n",
       "      <td>21.200000</td>\n",
       "    </tr>\n",
       "    <tr>\n",
       "      <th>75%</th>\n",
       "      <td>18.000000</td>\n",
       "      <td>24.000000</td>\n",
       "      <td>169.925000</td>\n",
       "      <td>25.000000</td>\n",
       "    </tr>\n",
       "    <tr>\n",
       "      <th>max</th>\n",
       "      <td>27.000000</td>\n",
       "      <td>24.000000</td>\n",
       "      <td>379.700000</td>\n",
       "      <td>50.000000</td>\n",
       "    </tr>\n",
       "  </tbody>\n",
       "</table>\n",
       "</div>"
      ],
      "text/plain": [
       "       jumlah_ruangan  jumlah_penghuni  luas_bangunan     listrik\n",
       "count      504.000000       504.000000     504.000000  504.000000\n",
       "mean        10.750000         9.575397     126.859325   22.474008\n",
       "std          6.914488         8.714506      71.355341    9.132927\n",
       "min          1.000000         1.000000      17.300000    5.000000\n",
       "25%          5.000000         4.000000      70.925000   16.950000\n",
       "50%          9.000000         5.000000     113.950000   21.200000\n",
       "75%         18.000000        24.000000     169.925000   25.000000\n",
       "max         27.000000        24.000000     379.700000   50.000000"
      ]
     },
     "execution_count": 9,
     "metadata": {},
     "output_type": "execute_result"
    }
   ],
   "source": [
    "energi.describe()"
   ]
  },
  {
   "cell_type": "markdown",
   "metadata": {
    "slideshow": {
     "slide_type": "slide"
    }
   },
   "source": [
    "- Dari statistika deskriptif di atas terlihat perbedaan range antara jumlah_keluarga, jumlah_ruangan dengan luas_bangunan dan listrik\n",
    "- Karena perbedaan range tersebut, nanti kita akan lakukan **feature scalling** menggunakan **MinMaxScaler** agar range dari seluruh data tersebut berada di antara 0 dan 1"
   ]
  },
  {
   "cell_type": "markdown",
   "metadata": {
    "slideshow": {
     "slide_type": "slide"
    }
   },
   "source": [
    "## Menentukan variabel target dan variabel input\n",
    "Karena tujuan kita adalah memprediksi kolom listrik berdasarkan kolom lainnya, maka:\n",
    "- kita tetapkan kolom listrik sebagai variabel target (y) \n",
    "- dan kolom lainnya sebagai variabel input (X)"
   ]
  },
  {
   "cell_type": "code",
   "execution_count": 10,
   "metadata": {
    "slideshow": {
     "slide_type": "slide"
    }
   },
   "outputs": [
    {
     "name": "stdout",
     "output_type": "stream",
     "text": [
      "(504, 3) (504, 1)\n",
      "<class 'numpy.ndarray'> <class 'numpy.ndarray'>\n"
     ]
    }
   ],
   "source": [
    "y = energi[['listrik']].values\n",
    "X = energi.drop(columns=['listrik']).values\n",
    "\n",
    "# Check the shape of training data\n",
    "print(X.shape,y.shape)\n",
    "print(type(y),type(X))"
   ]
  },
  {
   "cell_type": "markdown",
   "metadata": {
    "slideshow": {
     "slide_type": "slide"
    }
   },
   "source": [
    "- Perhatikan bahwa code di atas menggunakan `.values` saat menetapkan variabel y dan X\n",
    "- Hal tersebut dilakukan untuk merubah tipe data dataframe menjadi numpy array\n",
    "- Tensorflow sebenarnya dapat memproses tipe data dataframe, namun tipe data numpy array akan lebih cepat diproses"
   ]
  },
  {
   "cell_type": "markdown",
   "metadata": {
    "slideshow": {
     "slide_type": "slide"
    }
   },
   "source": [
    "## Split Data\n",
    "<img src=\"images/cross_validation.png\">\n",
    "\n",
    "- Split data dilakukan agar model yang telah dilatih dapat dievaluasi kemampuannya.\n",
    "- Kita gunakan **train_test_split** dari modul **sklearn** untuk melakukan split data\n",
    "- **train_test_split** tersebut melakukan split data dengan **stratified sampling**\n",
    "- Kita juga akan melakukan **cross validation** menggunakan data train sehingga pastikan data train yang digunakan cukup besar.\n",
    "- Pada contoh ini kita gunakan 80% data train dan 20% data test\n",
    "- **random_state** ditetapkan berupa bilangan integer agar hasil split data yang dilakukan secara acak selalu sama"
   ]
  },
  {
   "cell_type": "code",
   "execution_count": 12,
   "metadata": {
    "slideshow": {
     "slide_type": "slide"
    }
   },
   "outputs": [
    {
     "name": "stdout",
     "output_type": "stream",
     "text": [
      "Banyak data train: 403\n",
      "Banyak data test : 101\n"
     ]
    }
   ],
   "source": [
    "# Create training and test split\n",
    "from sklearn.model_selection import train_test_split\n",
    "\n",
    "X_train, X_test, y_train, y_test = train_test_split(X, y, test_size=0.2, random_state=1)\n",
    "\n",
    "print('Banyak data train:', len(X_train))\n",
    "print('Banyak data test :', len(X_test))"
   ]
  },
  {
   "cell_type": "markdown",
   "metadata": {
    "slideshow": {
     "slide_type": "slide"
    }
   },
   "source": [
    "## Feature Scalling\n",
    "\n",
    "- Perbedaan range antara variabel-variabel yang digunakan akan menyulitkan proses pelatihan model neural network\n",
    "- Selain itu range yang besar juga dapat menyebabkan suatu ketika nilai loss function sangat besar sehingga proses pelatihan model neural network tidak mencapai nilai minimum\n",
    "- Oleh karena itu perlu dilakukan **feature scalling** menggunakan **MinMaxScaler** agar seluruh data memiliki range yang sama yaitu dari 0 sampai 1\n",
    "- Rumus MinMaxScaler:\n",
    "# <center> $x^*=\\frac{x-x_{min}}{x_{max}-x_{min}}$</center>\n",
    "\n",
    "<img src=\"images/minmax.png\" width=\"500\"/>\n",
    "\n",
    "- MinMaxScaler difit pada data train agar dapat digunakan kembali pada data test maupun data observasi baru\n",
    "- MinMaxScaler diterapkan secara terpisah antara variabel target dan input karena ketika ingin memprediksi variabel target dengan data observasi baru, data tersebut hanya terdiri dari variabel input"
   ]
  },
  {
   "cell_type": "code",
   "execution_count": 13,
   "metadata": {
    "slideshow": {
     "slide_type": "slide"
    }
   },
   "outputs": [],
   "source": [
    "from sklearn.preprocessing import MinMaxScaler\n",
    "scaler1 = MinMaxScaler()\n",
    "scaler1.fit(X_train)\n",
    "scaler2 = MinMaxScaler()\n",
    "scaler2.fit(y_train)\n",
    "\n",
    "X_train_scaled = scaler1.transform(X_train)\n",
    "X_test_scaled = scaler1.transform(X_test)\n",
    "y_train_scaled = scaler2.transform(y_train)\n",
    "y_test_scaled = scaler2.transform(y_test)"
   ]
  },
  {
   "cell_type": "markdown",
   "metadata": {
    "slideshow": {
     "slide_type": "slide"
    }
   },
   "source": [
    "## Neural Network Menggunakan Tensorflow dan Keras\n",
    "- tensorflow: https://www.tensorflow.org/overview\n",
    "- keras: https://keras.io/about/"
   ]
  },
  {
   "cell_type": "markdown",
   "metadata": {
    "slideshow": {
     "slide_type": "slide"
    }
   },
   "source": [
    "# Instalasi Lokal GPU Support (TensorFlow-CUDA) untuk model Deep Learning. \n",
    "\n",
    "* Link ini akan membantu menyesuaikan versi CUDA dan CudNN yang tepat untuk semua versi TensorFlow.  Hati-hati!!!.... requirement CUDA dan CudNN berbeda antara Linux & Windows (Walau versi tensorflow-nya sama!!!).\n",
    "* Berikut Versi Keras-TensorFlow yang bersesuaiannya: https://docs.floydhub.com/guides/environments/\n",
    "Download Cuda dan CudNN yang bersesuaian (seringnya BUKAN versi terakhir) dari sini (need to register):\n",
    "* https://developer.nvidia.com/rdp/cudnn-archive\n",
    "* https://developer.nvidia.com/cuda-downloads\n",
    "\n",
    "* Setelah install Cuda/Cudnn, jika compiler terinstall dengan baik, maka perintah **pip install --upgrade tensorflow-gpu** bisa digunakan di terminal/command prompt.\n",
    "\n",
    "[Linux]:  https://www.tensorflow.org/install/source#tested_build_configurations \n",
    "\n",
    "[Windows]:  https://www.tensorflow.org/install/source_windows \n",
    "\n",
    "Untuk \"PyTorch\" cenderung lebih mudah: https://pytorch.org/get-started/locally/"
   ]
  },
  {
   "cell_type": "markdown",
   "metadata": {
    "slideshow": {
     "slide_type": "slide"
    }
   },
   "source": [
    "# Google Colaboratory\n",
    "\n",
    "* Free with GPU (& TPU) support (Max run ~ 10jam)\n",
    "* Login dengan Username dan password Google\n",
    "* Kunjungi https://colab.research.google.com\n",
    "* New Python 3 Notebook, rename/save Notebook \n",
    "* Runtime>Change runtime type and select GPU as Hardware accelerator."
   ]
  },
  {
   "cell_type": "code",
   "execution_count": 14,
   "metadata": {
    "slideshow": {
     "slide_type": "slide"
    }
   },
   "outputs": [
    {
     "data": {
      "text/plain": [
       "'Done'"
      ]
     },
     "execution_count": 14,
     "metadata": {},
     "output_type": "execute_result"
    }
   ],
   "source": [
    "import warnings, matplotlib.pyplot as plt; warnings.simplefilter('ignore')\n",
    "import pickle, numpy as np, tensorflow as tf, time, os, matplotlib.pyplot as plt, seaborn as sns\n",
    "from collections import Counter\n",
    "from sklearn.model_selection import train_test_split\n",
    "from sklearn.metrics import classification_report, confusion_matrix, accuracy_score\n",
    "from tensorflow import keras    \n",
    "from tensorflow.keras import regularizers\n",
    "from tensorflow.keras.preprocessing.text import Tokenizer\n",
    "from tensorflow.keras.preprocessing.sequence import pad_sequences\n",
    "from tensorflow.keras import regularizers\n",
    "from tensorflow.keras.callbacks import EarlyStopping\n",
    "\n",
    "sns.set(style=\"darkgrid\")\n",
    "\"Done\""
   ]
  },
  {
   "cell_type": "markdown",
   "metadata": {
    "slideshow": {
     "slide_type": "slide"
    }
   },
   "source": [
    "# Testing GPU"
   ]
  },
  {
   "cell_type": "code",
   "execution_count": 15,
   "metadata": {
    "slideshow": {
     "slide_type": "slide"
    }
   },
   "outputs": [
    {
     "name": "stdout",
     "output_type": "stream",
     "text": [
      "TensorFlow version =  2.8.0\n",
      "CUDA enabled TF, Num GPUs: 1 [PhysicalDevice(name='/physical_device:GPU:0', device_type='GPU')]\n"
     ]
    }
   ],
   "source": [
    "print(\"TensorFlow version = \", tf.__version__)\n",
    "if tf.test.is_built_with_cuda():\n",
    "    physical_devices = tf.config.list_physical_devices('GPU') \n",
    "    print(\"CUDA enabled TF, Num GPUs:\", len(physical_devices), physical_devices) \n",
    "    try:\n",
    "        tf.config.experimental.set_memory_growth(physical_devices[0], enable=True)\n",
    "    except:\n",
    "        print(\"No Compatible GPU detected.\")"
   ]
  },
  {
   "cell_type": "markdown",
   "metadata": {
    "slideshow": {
     "slide_type": "slide"
    }
   },
   "source": [
    "## Struktur neural network di keras API\n",
    "- **Sequential model**\n",
    "\n",
    "Sequential model memungkinkan kita untuk membuat model layer demi layer secara berurutan. Untuk membuat variabel Sequential model dilakukan sebagai berikut:\n",
    "\n",
    "`from keras.models import Sequential`<br>\n",
    "`model = Sequential()`\n",
    "- **Dense layer**\n",
    "\n",
    "Dense layer membuat fully connected layer dengan neuron-neuron yang terhubung pada layer sebelumnya. Pada dense layer ini kita dapat menentukan berapa banyak neuron dan fungsi aktivasi apa yang digunakan. Sebagai contoh untuk menambahkan Dense layer dengan neuron sebanyak 32 dan fungsi aktivasi sigmoid pada Sequential model dilakukan sebagai berikut:\n",
    "\n",
    "`model = Sequential()`<br>\n",
    "`model.add(Dense(32, input_dim=3, activation='sigmoid'))`\n",
    "\n",
    "input_dim berfungsi untuk menentukan banyaknya variabel input dan hanya ditentukan pada layer pertama.\n",
    "- **Dropout layer**\n",
    "\n",
    "Dropout layer adalah layer penting untuk mengurangi over-fitting dalam model neural network. Dropout layer akan mengurangi kompleksitas model neural network dengan mengurangi jumlah neuron secara acak sehingga hal ini dapat mencegah over-fitting. persentase jumlah neuron yang dikurangi dapat dilakukan dengan menentukan nilai dropout antara 0 sampai 1.\n",
    "\n",
    "<img src=\"images/dropout.jpg\" width=\"400\"/>\n",
    "\n",
    "image source: https://www.tech-quantum.com/implementing-drop-out-regularization-in-neural-networks/\n",
    "\n",
    "Untuk melakukan dropout pada layer sebelumnya sebesar 20% dapat dilakukan sebagai berikut:\n",
    "\n",
    "`model = Sequential()`<br>\n",
    "`model.add(Dense(32, input_dim=3, activation='sigmoid'))`<br>\n",
    "`model.add(Dropout(0.2))`\n",
    "- **Compiler**\n",
    "\n",
    "Setelah membangun arsitektur neural network, kita perlu memilih tiga hal lagi pada tahap \"kompilasi\": \n",
    "1. **Loss Function**: adalah bagaimana neural network dapat mengukur seberapa besar kesalahan pelatihan yang dilakukan pada data trainnya, dengan demikian model dapat meminimumkan kesalahan tersebut. Beberapa loss function pada Keras API dapat pilih tergantung pada permasalahannya\n",
    "\n",
    "<img src=\"images/keras_losses.JPG\"/>\n",
    "\n",
    "image source: https://keras.io/api/losses/\n",
    "\n",
    "Pada contoh ini permasalahannya adalah regresi karena variabel targetnya berupa variabel kontinu sehingga kita akan memilih loss function untuk regresi. Loss function yang sering digunakan pada permasalahan regresi adalah **Mean squared error (MSE)**. MSE berfungsi untuk menghitung rata-rata error kuadrat antara nilai prediksi dan nilai sebenarnya.\n",
    "<img src=\"images/mse1.png\"/>\n",
    "\n",
    "image source: https://towardsdatascience.com/deep-learning-which-loss-and-activation-functions-should-i-use-ac02f1c56aa8\n",
    "\n",
    "2. **Optimizer**: adalah algoritma untuk meminimalkan loss function dengan memperbarui bobot-bobot pada model neural network secara iteratif. terdapat bebrapa optimizer pada Keras, di antaranya sebagai berikut:\n",
    "\n",
    "<img src=\"images/keras_optimizer.JPG\"/>\n",
    "\n",
    "Dari beberapa optimizer di atas, yang paling sering digunakan adalah Adam Optimizer. Pemilihan optimizer tersebut akan mempengaruhi lamanya proses pelatihan model untuk mencapai loss function yang minimum. berikut disajikan perbandingan proses meminimalkan loss function dengan beberapa optimzer\n",
    "<img src=\"images/Keras_Optimizers-min.gif\" width=\"300\"/>\n",
    "\n",
    "image source: https://machinelearningknowledge.ai/keras-optimizers-explained-with-examples-for-beginners/\n",
    "\n",
    "3. **Metric**: adalah fungsi yang digunakan untuk menilai kinerja model yang telah dibuat. Fungsi metric mirip dengan loss function. Hanya saja tidak semua fungsi metric dapat dijadikan loss function (misal akurasi, karena kita tidak ingin meminimalkan akurasi). Sebaliknya seluruh loss function dapat dijadikan metric karena nilai loss function yang kecil dapat mengindikasi bahwa model cukup baik. Berikut metric-metric yang ada di Keras:\n",
    "<img src=\"images/keras_metric.jpg\"/>\n",
    "\n",
    "Pada contoh ini kita akan gunakan **Mean Absolute Error (MAE)** sebagai metric. MAE berfungsi untuk menghitung rata-rata selisih antara nilai prediksi dan nilai sebenarnya.\n",
    "<img src=\"images/mae.jpg\" width = \"700\"/>\n",
    "\n",
    "Untuk menambahkan compiler pada arsitektur neural network yang telah dibuat dapat dilakukan sebagai berikut:\n",
    "\n",
    "`model = Sequential()`<br>\n",
    "`model.add(Dense(32, input_dim=3, activation='sigmoid'))`<br>\n",
    "`model.add(Dropout(0.2))`<br>\n",
    "`model.compile(loss='mse', optimizer='adam', metrics=['mae'])`"
   ]
  },
  {
   "cell_type": "markdown",
   "metadata": {
    "slideshow": {
     "slide_type": "slide"
    }
   },
   "source": [
    "## Membuat Model Neural Network \n",
    "### 1. Import Modul"
   ]
  },
  {
   "cell_type": "code",
   "execution_count": 16,
   "metadata": {
    "slideshow": {
     "slide_type": "slide"
    }
   },
   "outputs": [],
   "source": [
    "from keras.models import Sequential\n",
    "from keras.layers import Dense, Dropout"
   ]
  },
  {
   "cell_type": "markdown",
   "metadata": {
    "slideshow": {
     "slide_type": "slide"
    }
   },
   "source": [
    "### 2. Membuat Fungsi Model Neural Network\n",
    "Dalam membuat model neural network tidak harus berupa fungsi, namun dengan membuat fungsi model neural network akan lebih mudah dalam merubah parameter-parameternya.\n",
    "\n",
    "Fungsi model neural network yang akan dibuat terdiri:\n",
    "- input layer dengan 3 feature (jumlah_ruangan, jumlah_penghuni, luas_bangunan)\n",
    "- 1 Dense hidden layer\n",
    "- Dropout antara Dense hidden layer dan Dense output layer\n",
    "- Dense output layer dengan 1 neuron (prediksi jumlah penggunaan energi)\n",
    "- loss function yang digunakan adalah Mean Squared Error (MSE)\n",
    "- optimizer yang digunakan adalah adam\n",
    "- metric yang digunakan adalah Mean Absolute Error (MAE)\n",
    "\n",
    "Parameter-parameter yang dijadikan sebagai input dari fungsi tersebut adalah:\n",
    "- neurons: banyaknya neuron pada Dense layer (default = 10)\n",
    "- activation: fungsi aktivasi yang digunakan (default = 'relu')\n",
    "- dropout: persentase dropout (default = 0.2)"
   ]
  },
  {
   "cell_type": "code",
   "execution_count": 17,
   "metadata": {
    "slideshow": {
     "slide_type": "slide"
    }
   },
   "outputs": [],
   "source": [
    "def create_model(neurons=10, activation='relu', dropout=0.2):\n",
    "    # create model\n",
    "    model = Sequential()\n",
    "    model.add(Dense(neurons, input_dim=3, activation=activation))\n",
    "    model.add(Dropout(dropout))\n",
    "    model.add(Dense(1))\n",
    "    # Compile model\n",
    "    model.compile(loss='mse', optimizer='adam', metrics=['mae'])\n",
    "    return model"
   ]
  },
  {
   "cell_type": "markdown",
   "metadata": {
    "slideshow": {
     "slide_type": "slide"
    }
   },
   "source": [
    "### 3. Membuat Model\n",
    "\n",
    "Misalkan kita akan membuat model dengan parameter-parameter input sebagai berikut:\n",
    "- neuron = 32\n",
    "- activation = 'sigmoid'\n",
    "- dropout = 0.1\n",
    "\n",
    "Maka kita dapat membuat model neural network sebagai berikut:\n",
    "\n",
    "`model = create_model(32,'sigmoid',0.1)`\n",
    "\n",
    "Atau jika ingin membuat model dengan input default:\n",
    "\n",
    "`model = create_model()`\n",
    "\n",
    "Kita dapat melihat arsitektur model yang kita buat dengan cara berikut:\n",
    "\n",
    "`model.summary()`"
   ]
  },
  {
   "cell_type": "code",
   "execution_count": 18,
   "metadata": {
    "slideshow": {
     "slide_type": "slide"
    }
   },
   "outputs": [
    {
     "name": "stdout",
     "output_type": "stream",
     "text": [
      "Model: \"sequential\"\n",
      "_________________________________________________________________\n",
      " Layer (type)                Output Shape              Param #   \n",
      "=================================================================\n",
      " dense (Dense)               (None, 32)                128       \n",
      "                                                                 \n",
      " dropout (Dropout)           (None, 32)                0         \n",
      "                                                                 \n",
      " dense_1 (Dense)             (None, 1)                 33        \n",
      "                                                                 \n",
      "=================================================================\n",
      "Total params: 161\n",
      "Trainable params: 161\n",
      "Non-trainable params: 0\n",
      "_________________________________________________________________\n"
     ]
    }
   ],
   "source": [
    "model = create_model(32,'sigmoid',0.1)\n",
    "model.summary()"
   ]
  },
  {
   "cell_type": "markdown",
   "metadata": {
    "slideshow": {
     "slide_type": "slide"
    }
   },
   "source": [
    "### 4. Training Model\n",
    "Training model dapat dilakukan sebagai berkut:\n",
    "\n",
    "`history = model.fit(X_train_scaled,y_train_scaled, batch_size=32, epochs=100, validation_split=0.1, verbose=2)`\n",
    "\n",
    "Perhatikan parameter epochs dan batch_size\n",
    "\n",
    "<img src=\"images/epoch_batch_size.jpeg\" width= \"400\"/>\n",
    "\n",
    "image source: https://jerryan.medium.com/batch-size-a15958708a6\n",
    "\n",
    "Stochastic Gradient Descent, Clearly Explained!!!: https://www.youtube.com/watch?v=vMh0zPT0tLI\n",
    "\n",
    "\n",
    "**Parameter-parameter model.fit()**\n",
    "- bacth_size: adalah banyaknya sampel pada satu kali training yang digunakan untuk memperbarui seluruh bobot\n",
    "- epochs: adalah banyaknya proses training dengan seluruh sampel.\n",
    "- validation_split: adalah persentase data yang digunakan sebagai data validasi\n",
    "- verbose: adalah opsi untuk menampilkan proses training (0 = silent, 1 = progress bar, 2 = one line per epoch)"
   ]
  },
  {
   "cell_type": "code",
   "execution_count": 19,
   "metadata": {
    "slideshow": {
     "slide_type": "slide"
    }
   },
   "outputs": [
    {
     "name": "stdout",
     "output_type": "stream",
     "text": [
      "Epoch 1/100\n",
      "12/12 - 2s - loss: 0.7733 - mae: 0.8225 - val_loss: 0.4848 - val_mae: 0.6490 - 2s/epoch - 178ms/step\n",
      "Epoch 2/100\n",
      "12/12 - 0s - loss: 0.4198 - mae: 0.5796 - val_loss: 0.2534 - val_mae: 0.4299 - 44ms/epoch - 4ms/step\n",
      "Epoch 3/100\n",
      "12/12 - 0s - loss: 0.2393 - mae: 0.3985 - val_loss: 0.1337 - val_mae: 0.2946 - 47ms/epoch - 4ms/step\n",
      "Epoch 4/100\n",
      "12/12 - 0s - loss: 0.1284 - mae: 0.2756 - val_loss: 0.0891 - val_mae: 0.2270 - 42ms/epoch - 4ms/step\n",
      "Epoch 5/100\n",
      "12/12 - 0s - loss: 0.1050 - mae: 0.2553 - val_loss: 0.0778 - val_mae: 0.2078 - 47ms/epoch - 4ms/step\n",
      "Epoch 6/100\n",
      "12/12 - 0s - loss: 0.1022 - mae: 0.2483 - val_loss: 0.0762 - val_mae: 0.2038 - 47ms/epoch - 4ms/step\n",
      "Epoch 7/100\n",
      "12/12 - 0s - loss: 0.0922 - mae: 0.2432 - val_loss: 0.0746 - val_mae: 0.2009 - 46ms/epoch - 4ms/step\n",
      "Epoch 8/100\n",
      "12/12 - 0s - loss: 0.0944 - mae: 0.2393 - val_loss: 0.0725 - val_mae: 0.1976 - 44ms/epoch - 4ms/step\n",
      "Epoch 9/100\n",
      "12/12 - 0s - loss: 0.0951 - mae: 0.2463 - val_loss: 0.0705 - val_mae: 0.1945 - 36ms/epoch - 3ms/step\n",
      "Epoch 10/100\n",
      "12/12 - 0s - loss: 0.0896 - mae: 0.2325 - val_loss: 0.0687 - val_mae: 0.1921 - 37ms/epoch - 3ms/step\n",
      "Epoch 11/100\n",
      "12/12 - 0s - loss: 0.1040 - mae: 0.2574 - val_loss: 0.0672 - val_mae: 0.1901 - 34ms/epoch - 3ms/step\n",
      "Epoch 12/100\n",
      "12/12 - 0s - loss: 0.0970 - mae: 0.2450 - val_loss: 0.0647 - val_mae: 0.1857 - 33ms/epoch - 3ms/step\n",
      "Epoch 13/100\n",
      "12/12 - 0s - loss: 0.0854 - mae: 0.2300 - val_loss: 0.0621 - val_mae: 0.1801 - 35ms/epoch - 3ms/step\n",
      "Epoch 14/100\n",
      "12/12 - 0s - loss: 0.0862 - mae: 0.2353 - val_loss: 0.0602 - val_mae: 0.1762 - 37ms/epoch - 3ms/step\n",
      "Epoch 15/100\n",
      "12/12 - 0s - loss: 0.0824 - mae: 0.2315 - val_loss: 0.0583 - val_mae: 0.1726 - 42ms/epoch - 4ms/step\n",
      "Epoch 16/100\n",
      "12/12 - 0s - loss: 0.0763 - mae: 0.2196 - val_loss: 0.0568 - val_mae: 0.1707 - 55ms/epoch - 5ms/step\n",
      "Epoch 17/100\n",
      "12/12 - 0s - loss: 0.0838 - mae: 0.2268 - val_loss: 0.0553 - val_mae: 0.1686 - 47ms/epoch - 4ms/step\n",
      "Epoch 18/100\n",
      "12/12 - 0s - loss: 0.0759 - mae: 0.2152 - val_loss: 0.0537 - val_mae: 0.1648 - 39ms/epoch - 3ms/step\n",
      "Epoch 19/100\n",
      "12/12 - 0s - loss: 0.0812 - mae: 0.2291 - val_loss: 0.0523 - val_mae: 0.1618 - 52ms/epoch - 4ms/step\n",
      "Epoch 20/100\n",
      "12/12 - 0s - loss: 0.0858 - mae: 0.2271 - val_loss: 0.0509 - val_mae: 0.1613 - 44ms/epoch - 4ms/step\n",
      "Epoch 21/100\n",
      "12/12 - 0s - loss: 0.0643 - mae: 0.1988 - val_loss: 0.0498 - val_mae: 0.1616 - 44ms/epoch - 4ms/step\n",
      "Epoch 22/100\n",
      "12/12 - 0s - loss: 0.0816 - mae: 0.2292 - val_loss: 0.0482 - val_mae: 0.1573 - 44ms/epoch - 4ms/step\n",
      "Epoch 23/100\n",
      "12/12 - 0s - loss: 0.0723 - mae: 0.2069 - val_loss: 0.0473 - val_mae: 0.1602 - 40ms/epoch - 3ms/step\n",
      "Epoch 24/100\n",
      "12/12 - 0s - loss: 0.0650 - mae: 0.1994 - val_loss: 0.0458 - val_mae: 0.1548 - 44ms/epoch - 4ms/step\n",
      "Epoch 25/100\n",
      "12/12 - 0s - loss: 0.0710 - mae: 0.2032 - val_loss: 0.0446 - val_mae: 0.1519 - 40ms/epoch - 3ms/step\n",
      "Epoch 26/100\n",
      "12/12 - 0s - loss: 0.0713 - mae: 0.2138 - val_loss: 0.0436 - val_mae: 0.1477 - 41ms/epoch - 3ms/step\n",
      "Epoch 27/100\n",
      "12/12 - 0s - loss: 0.0690 - mae: 0.2036 - val_loss: 0.0426 - val_mae: 0.1470 - 47ms/epoch - 4ms/step\n",
      "Epoch 28/100\n",
      "12/12 - 0s - loss: 0.0707 - mae: 0.2100 - val_loss: 0.0419 - val_mae: 0.1523 - 42ms/epoch - 3ms/step\n",
      "Epoch 29/100\n",
      "12/12 - 0s - loss: 0.0619 - mae: 0.1984 - val_loss: 0.0408 - val_mae: 0.1491 - 38ms/epoch - 3ms/step\n",
      "Epoch 30/100\n",
      "12/12 - 0s - loss: 0.0658 - mae: 0.1993 - val_loss: 0.0399 - val_mae: 0.1444 - 36ms/epoch - 3ms/step\n",
      "Epoch 31/100\n",
      "12/12 - 0s - loss: 0.0686 - mae: 0.2063 - val_loss: 0.0396 - val_mae: 0.1530 - 38ms/epoch - 3ms/step\n",
      "Epoch 32/100\n",
      "12/12 - 0s - loss: 0.0626 - mae: 0.1942 - val_loss: 0.0390 - val_mae: 0.1533 - 36ms/epoch - 3ms/step\n",
      "Epoch 33/100\n",
      "12/12 - 0s - loss: 0.0669 - mae: 0.1978 - val_loss: 0.0379 - val_mae: 0.1478 - 37ms/epoch - 3ms/step\n",
      "Epoch 34/100\n",
      "12/12 - 0s - loss: 0.0592 - mae: 0.1864 - val_loss: 0.0374 - val_mae: 0.1469 - 36ms/epoch - 3ms/step\n",
      "Epoch 35/100\n",
      "12/12 - 0s - loss: 0.0671 - mae: 0.2030 - val_loss: 0.0367 - val_mae: 0.1445 - 36ms/epoch - 3ms/step\n",
      "Epoch 36/100\n",
      "12/12 - 0s - loss: 0.0699 - mae: 0.2004 - val_loss: 0.0359 - val_mae: 0.1414 - 38ms/epoch - 3ms/step\n",
      "Epoch 37/100\n",
      "12/12 - 0s - loss: 0.0553 - mae: 0.1810 - val_loss: 0.0355 - val_mae: 0.1445 - 37ms/epoch - 3ms/step\n",
      "Epoch 38/100\n",
      "12/12 - 0s - loss: 0.0605 - mae: 0.1905 - val_loss: 0.0352 - val_mae: 0.1464 - 35ms/epoch - 3ms/step\n",
      "Epoch 39/100\n",
      "12/12 - 0s - loss: 0.0596 - mae: 0.1900 - val_loss: 0.0346 - val_mae: 0.1429 - 37ms/epoch - 3ms/step\n",
      "Epoch 40/100\n",
      "12/12 - 0s - loss: 0.0570 - mae: 0.1817 - val_loss: 0.0341 - val_mae: 0.1369 - 37ms/epoch - 3ms/step\n",
      "Epoch 41/100\n",
      "12/12 - 0s - loss: 0.0609 - mae: 0.1873 - val_loss: 0.0340 - val_mae: 0.1435 - 35ms/epoch - 3ms/step\n",
      "Epoch 42/100\n",
      "12/12 - 0s - loss: 0.0613 - mae: 0.1922 - val_loss: 0.0338 - val_mae: 0.1448 - 38ms/epoch - 3ms/step\n",
      "Epoch 43/100\n",
      "12/12 - 0s - loss: 0.0511 - mae: 0.1757 - val_loss: 0.0331 - val_mae: 0.1380 - 42ms/epoch - 4ms/step\n",
      "Epoch 44/100\n",
      "12/12 - 0s - loss: 0.0547 - mae: 0.1793 - val_loss: 0.0328 - val_mae: 0.1365 - 43ms/epoch - 4ms/step\n",
      "Epoch 45/100\n",
      "12/12 - 0s - loss: 0.0593 - mae: 0.1884 - val_loss: 0.0330 - val_mae: 0.1445 - 44ms/epoch - 4ms/step\n",
      "Epoch 46/100\n",
      "12/12 - 0s - loss: 0.0592 - mae: 0.1914 - val_loss: 0.0329 - val_mae: 0.1458 - 38ms/epoch - 3ms/step\n",
      "Epoch 47/100\n",
      "12/12 - 0s - loss: 0.0631 - mae: 0.1946 - val_loss: 0.0321 - val_mae: 0.1390 - 36ms/epoch - 3ms/step\n",
      "Epoch 48/100\n",
      "12/12 - 0s - loss: 0.0558 - mae: 0.1859 - val_loss: 0.0318 - val_mae: 0.1350 - 37ms/epoch - 3ms/step\n",
      "Epoch 49/100\n",
      "12/12 - 0s - loss: 0.0513 - mae: 0.1791 - val_loss: 0.0317 - val_mae: 0.1385 - 36ms/epoch - 3ms/step\n",
      "Epoch 50/100\n",
      "12/12 - 0s - loss: 0.0534 - mae: 0.1783 - val_loss: 0.0315 - val_mae: 0.1385 - 39ms/epoch - 3ms/step\n",
      "Epoch 51/100\n",
      "12/12 - 0s - loss: 0.0452 - mae: 0.1679 - val_loss: 0.0313 - val_mae: 0.1384 - 37ms/epoch - 3ms/step\n",
      "Epoch 52/100\n",
      "12/12 - 0s - loss: 0.0529 - mae: 0.1786 - val_loss: 0.0310 - val_mae: 0.1359 - 36ms/epoch - 3ms/step\n",
      "Epoch 53/100\n",
      "12/12 - 0s - loss: 0.0593 - mae: 0.1886 - val_loss: 0.0309 - val_mae: 0.1309 - 43ms/epoch - 4ms/step\n",
      "Epoch 54/100\n",
      "12/12 - 0s - loss: 0.0577 - mae: 0.1791 - val_loss: 0.0307 - val_mae: 0.1375 - 39ms/epoch - 3ms/step\n",
      "Epoch 55/100\n",
      "12/12 - 0s - loss: 0.0540 - mae: 0.1867 - val_loss: 0.0312 - val_mae: 0.1440 - 50ms/epoch - 4ms/step\n",
      "Epoch 56/100\n",
      "12/12 - 0s - loss: 0.0441 - mae: 0.1693 - val_loss: 0.0307 - val_mae: 0.1407 - 63ms/epoch - 5ms/step\n",
      "Epoch 57/100\n",
      "12/12 - 0s - loss: 0.0454 - mae: 0.1630 - val_loss: 0.0302 - val_mae: 0.1325 - 43ms/epoch - 4ms/step\n",
      "Epoch 58/100\n",
      "12/12 - 0s - loss: 0.0488 - mae: 0.1733 - val_loss: 0.0302 - val_mae: 0.1365 - 47ms/epoch - 4ms/step\n",
      "Epoch 59/100\n",
      "12/12 - 0s - loss: 0.0549 - mae: 0.1824 - val_loss: 0.0302 - val_mae: 0.1385 - 45ms/epoch - 4ms/step\n",
      "Epoch 60/100\n",
      "12/12 - 0s - loss: 0.0479 - mae: 0.1701 - val_loss: 0.0298 - val_mae: 0.1320 - 47ms/epoch - 4ms/step\n",
      "Epoch 61/100\n",
      "12/12 - 0s - loss: 0.0474 - mae: 0.1648 - val_loss: 0.0297 - val_mae: 0.1315 - 37ms/epoch - 3ms/step\n",
      "Epoch 62/100\n",
      "12/12 - 0s - loss: 0.0486 - mae: 0.1670 - val_loss: 0.0297 - val_mae: 0.1365 - 38ms/epoch - 3ms/step\n",
      "Epoch 63/100\n",
      "12/12 - 0s - loss: 0.0440 - mae: 0.1623 - val_loss: 0.0296 - val_mae: 0.1354 - 39ms/epoch - 3ms/step\n",
      "Epoch 64/100\n",
      "12/12 - 0s - loss: 0.0472 - mae: 0.1697 - val_loss: 0.0294 - val_mae: 0.1339 - 37ms/epoch - 3ms/step\n",
      "Epoch 65/100\n",
      "12/12 - 0s - loss: 0.0430 - mae: 0.1592 - val_loss: 0.0294 - val_mae: 0.1296 - 44ms/epoch - 4ms/step\n",
      "Epoch 66/100\n",
      "12/12 - 0s - loss: 0.0487 - mae: 0.1722 - val_loss: 0.0297 - val_mae: 0.1388 - 44ms/epoch - 4ms/step\n",
      "Epoch 67/100\n",
      "12/12 - 0s - loss: 0.0493 - mae: 0.1680 - val_loss: 0.0295 - val_mae: 0.1382 - 41ms/epoch - 3ms/step\n",
      "Epoch 68/100\n",
      "12/12 - 0s - loss: 0.0549 - mae: 0.1808 - val_loss: 0.0290 - val_mae: 0.1320 - 41ms/epoch - 3ms/step\n",
      "Epoch 69/100\n",
      "12/12 - 0s - loss: 0.0416 - mae: 0.1596 - val_loss: 0.0288 - val_mae: 0.1283 - 45ms/epoch - 4ms/step\n",
      "Epoch 70/100\n",
      "12/12 - 0s - loss: 0.0520 - mae: 0.1727 - val_loss: 0.0286 - val_mae: 0.1315 - 52ms/epoch - 4ms/step\n",
      "Epoch 71/100\n",
      "12/12 - 0s - loss: 0.0426 - mae: 0.1613 - val_loss: 0.0286 - val_mae: 0.1275 - 41ms/epoch - 3ms/step\n",
      "Epoch 72/100\n",
      "12/12 - 0s - loss: 0.0465 - mae: 0.1588 - val_loss: 0.0285 - val_mae: 0.1276 - 41ms/epoch - 3ms/step\n"
     ]
    },
    {
     "name": "stdout",
     "output_type": "stream",
     "text": [
      "Epoch 73/100\n",
      "12/12 - 0s - loss: 0.0476 - mae: 0.1671 - val_loss: 0.0286 - val_mae: 0.1341 - 37ms/epoch - 3ms/step\n",
      "Epoch 74/100\n",
      "12/12 - 0s - loss: 0.0504 - mae: 0.1740 - val_loss: 0.0284 - val_mae: 0.1318 - 38ms/epoch - 3ms/step\n",
      "Epoch 75/100\n",
      "12/12 - 0s - loss: 0.0453 - mae: 0.1641 - val_loss: 0.0284 - val_mae: 0.1261 - 36ms/epoch - 3ms/step\n",
      "Epoch 76/100\n",
      "12/12 - 0s - loss: 0.0519 - mae: 0.1692 - val_loss: 0.0283 - val_mae: 0.1310 - 36ms/epoch - 3ms/step\n",
      "Epoch 77/100\n",
      "12/12 - 0s - loss: 0.0423 - mae: 0.1554 - val_loss: 0.0285 - val_mae: 0.1346 - 34ms/epoch - 3ms/step\n",
      "Epoch 78/100\n",
      "12/12 - 0s - loss: 0.0405 - mae: 0.1583 - val_loss: 0.0284 - val_mae: 0.1329 - 35ms/epoch - 3ms/step\n",
      "Epoch 79/100\n",
      "12/12 - 0s - loss: 0.0433 - mae: 0.1583 - val_loss: 0.0284 - val_mae: 0.1335 - 36ms/epoch - 3ms/step\n",
      "Epoch 80/100\n",
      "12/12 - 0s - loss: 0.0383 - mae: 0.1530 - val_loss: 0.0282 - val_mae: 0.1325 - 38ms/epoch - 3ms/step\n",
      "Epoch 81/100\n",
      "12/12 - 0s - loss: 0.0430 - mae: 0.1638 - val_loss: 0.0280 - val_mae: 0.1290 - 37ms/epoch - 3ms/step\n",
      "Epoch 82/100\n",
      "12/12 - 0s - loss: 0.0470 - mae: 0.1651 - val_loss: 0.0280 - val_mae: 0.1238 - 34ms/epoch - 3ms/step\n",
      "Epoch 83/100\n",
      "12/12 - 0s - loss: 0.0475 - mae: 0.1691 - val_loss: 0.0279 - val_mae: 0.1243 - 37ms/epoch - 3ms/step\n",
      "Epoch 84/100\n",
      "12/12 - 0s - loss: 0.0398 - mae: 0.1532 - val_loss: 0.0278 - val_mae: 0.1287 - 40ms/epoch - 3ms/step\n",
      "Epoch 85/100\n",
      "12/12 - 0s - loss: 0.0428 - mae: 0.1537 - val_loss: 0.0277 - val_mae: 0.1275 - 33ms/epoch - 3ms/step\n",
      "Epoch 86/100\n",
      "12/12 - 0s - loss: 0.0420 - mae: 0.1572 - val_loss: 0.0277 - val_mae: 0.1280 - 45ms/epoch - 4ms/step\n",
      "Epoch 87/100\n",
      "12/12 - 0s - loss: 0.0370 - mae: 0.1477 - val_loss: 0.0277 - val_mae: 0.1281 - 41ms/epoch - 3ms/step\n",
      "Epoch 88/100\n",
      "12/12 - 0s - loss: 0.0399 - mae: 0.1523 - val_loss: 0.0280 - val_mae: 0.1343 - 38ms/epoch - 3ms/step\n",
      "Epoch 89/100\n",
      "12/12 - 0s - loss: 0.0366 - mae: 0.1534 - val_loss: 0.0277 - val_mae: 0.1314 - 46ms/epoch - 4ms/step\n",
      "Epoch 90/100\n",
      "12/12 - 0s - loss: 0.0387 - mae: 0.1498 - val_loss: 0.0276 - val_mae: 0.1264 - 43ms/epoch - 4ms/step\n",
      "Epoch 91/100\n",
      "12/12 - 0s - loss: 0.0367 - mae: 0.1448 - val_loss: 0.0275 - val_mae: 0.1256 - 44ms/epoch - 4ms/step\n",
      "Epoch 92/100\n",
      "12/12 - 0s - loss: 0.0426 - mae: 0.1571 - val_loss: 0.0276 - val_mae: 0.1282 - 50ms/epoch - 4ms/step\n",
      "Epoch 93/100\n",
      "12/12 - 0s - loss: 0.0397 - mae: 0.1523 - val_loss: 0.0275 - val_mae: 0.1285 - 49ms/epoch - 4ms/step\n",
      "Epoch 94/100\n",
      "12/12 - 0s - loss: 0.0376 - mae: 0.1459 - val_loss: 0.0276 - val_mae: 0.1302 - 50ms/epoch - 4ms/step\n",
      "Epoch 95/100\n",
      "12/12 - 0s - loss: 0.0390 - mae: 0.1477 - val_loss: 0.0279 - val_mae: 0.1345 - 42ms/epoch - 3ms/step\n",
      "Epoch 96/100\n",
      "12/12 - 0s - loss: 0.0399 - mae: 0.1562 - val_loss: 0.0274 - val_mae: 0.1272 - 43ms/epoch - 4ms/step\n",
      "Epoch 97/100\n",
      "12/12 - 0s - loss: 0.0363 - mae: 0.1409 - val_loss: 0.0273 - val_mae: 0.1271 - 52ms/epoch - 4ms/step\n",
      "Epoch 98/100\n",
      "12/12 - 0s - loss: 0.0393 - mae: 0.1464 - val_loss: 0.0273 - val_mae: 0.1265 - 45ms/epoch - 4ms/step\n",
      "Epoch 99/100\n",
      "12/12 - 0s - loss: 0.0429 - mae: 0.1569 - val_loss: 0.0273 - val_mae: 0.1269 - 46ms/epoch - 4ms/step\n",
      "Epoch 100/100\n",
      "12/12 - 0s - loss: 0.0362 - mae: 0.1469 - val_loss: 0.0273 - val_mae: 0.1279 - 51ms/epoch - 4ms/step\n"
     ]
    }
   ],
   "source": [
    "# fit model\n",
    "\n",
    "history = model.fit(X_train_scaled,y_train_scaled, epochs=100, batch_size=32, validation_split=0.1, verbose=2)"
   ]
  },
  {
   "cell_type": "markdown",
   "metadata": {
    "slideshow": {
     "slide_type": "slide"
    }
   },
   "source": [
    "Kita dapat melihat grafik loss function MSE dan metric MAE terhadap epoch untuk melihat performa model kita dengan cara sebagai berikut"
   ]
  },
  {
   "cell_type": "code",
   "execution_count": 20,
   "metadata": {
    "slideshow": {
     "slide_type": "slide"
    }
   },
   "outputs": [
    {
     "data": {
      "text/plain": [
       "<matplotlib.legend.Legend at 0x1bb82fe61f0>"
      ]
     },
     "execution_count": 20,
     "metadata": {},
     "output_type": "execute_result"
    },
    {
     "data": {
      "image/png": "[encoded data removed]",
      "text/plain": [
       "<Figure size 432x288 with 1 Axes>"
      ]
     },
     "metadata": {},
     "output_type": "display_data"
    }
   ],
   "source": [
    "# grafik loss function MSE\n",
    "\n",
    "plt.plot(history.history['loss'], label='Training loss')\n",
    "plt.plot(history.history['val_loss'], label='Validation loss')\n",
    "plt.title('loss function MSE')\n",
    "plt.ylabel('MSE')\n",
    "plt.xlabel('Epoch')\n",
    "plt.legend()"
   ]
  },
  {
   "cell_type": "code",
   "execution_count": 21,
   "metadata": {
    "slideshow": {
     "slide_type": "slide"
    }
   },
   "outputs": [
    {
     "data": {
      "text/plain": [
       "<matplotlib.legend.Legend at 0x1bbdebb2fa0>"
      ]
     },
     "execution_count": 21,
     "metadata": {},
     "output_type": "execute_result"
    },
    {
     "data": {
      "image/png": "[encoded data removed]",
      "text/plain": [
       "<Figure size 432x288 with 1 Axes>"
      ]
     },
     "metadata": {},
     "output_type": "display_data"
    }
   ],
   "source": [
    "# grafik metric MAE\n",
    "plt.plot(history.history['mae'], label='Training MAE')\n",
    "plt.plot(history.history['val_mae'], label='Validation MAE')\n",
    "plt.title('metric MAE')\n",
    "plt.ylabel('MAE')\n",
    "plt.xlabel('Epoch')\n",
    "plt.legend()"
   ]
  },
  {
   "cell_type": "markdown",
   "metadata": {
    "slideshow": {
     "slide_type": "slide"
    }
   },
   "source": [
    "**Perhatikan kedua grafik di atas**. Kita dapat lihat kurang lebih pada epoch ke 40 nilai loss function dan metric sudah cukup stabil. sehingga sebenarnya kita cukup menentukan **epochs = 40**"
   ]
  },
  {
   "cell_type": "markdown",
   "metadata": {
    "slideshow": {
     "slide_type": "slide"
    }
   },
   "source": [
    "## Early Stopping\n",
    "\n",
    "**Bagaimana menentukan nilai epochs?**\n",
    "\n",
    "### Perhatikan gambar berikut!\n",
    "\n",
    "<img src=\"images/Early-stopping-method.png\" width=\"600\"/>\n",
    "\n",
    "- Training seharusnya dihentikan saat epoch berada pada garis optimal seperti gambar di atas. Yaitu ketika nilai loss function pada data validasi mulai naik (sebelum terjadi overfitting) ataupun bisa juga ketika nilainya cukup stabil seperti pada kasus model kita.\n",
    "- Hal tersebut dapat dilakukan dengan menambahkan Early Stopping yang memiliki parameter sebagai berikut:\n",
    "1. monitor: nilai yang diamati, biasanya adalah nilai loss function pada data validasi (bisa juga metric validasi)\n",
    "2. mode: terdapat 3 mode yaitu \"min\" (training berhenti ketika nilai yang diamati berhenti turun), \"max\" (training berhenti ketika nilai yang diamati berhenti naik), dan \"auto\"\n",
    "3. min_delta: besarnya selisih mutlak yang tidak dianggap mengalami perbaikan (naik/turun)\n",
    "4. patience: banyaknya epoch setelah nilai yang diamati tidak mengalami perbaikan\n",
    "5. verbose: adalah opsi untuk menampilkan epoch ke berapa saat proses training berhenti (0 = silent, 1 = display)\n",
    "\n",
    "**Mari kita coba membuat model menggunakan Early Stopping dengan parameter-parameter berikut**\n",
    "- monitor = 'val_loss' (nilai yang diamati adalah loss function pada data validasi)\n",
    "- mode = \"min\" (mode \"min\" karena kita mengharapkan val_loss selalu turun)\n",
    "- min_delta = 0.01 (ketika val_loss turun kurang dari 0.01 dianggap tidak terjadi penurunan, maka training berhenti)\n",
    "- patience = 10 (ketika tidak terjadi penurunan, maka training berhenti setelah 10 epoch lagi dilakukan)\n",
    "- verbose = 1 (menampilkan epoch ke berapa saat proses training berhenti)"
   ]
  },
  {
   "cell_type": "code",
   "execution_count": 22,
   "metadata": {
    "scrolled": true,
    "slideshow": {
     "slide_type": "slide"
    }
   },
   "outputs": [
    {
     "name": "stdout",
     "output_type": "stream",
     "text": [
      "Epoch 1/100\n",
      "12/12 - 0s - loss: 0.1657 - mae: 0.3509 - val_loss: 0.0768 - val_mae: 0.2442 - 433ms/epoch - 36ms/step\n",
      "Epoch 2/100\n",
      "12/12 - 0s - loss: 0.0831 - mae: 0.2299 - val_loss: 0.0477 - val_mae: 0.1571 - 45ms/epoch - 4ms/step\n",
      "Epoch 3/100\n",
      "12/12 - 0s - loss: 0.0725 - mae: 0.2124 - val_loss: 0.0487 - val_mae: 0.1534 - 48ms/epoch - 4ms/step\n",
      "Epoch 4/100\n",
      "12/12 - 0s - loss: 0.0878 - mae: 0.2311 - val_loss: 0.0460 - val_mae: 0.1539 - 47ms/epoch - 4ms/step\n",
      "Epoch 5/100\n",
      "12/12 - 0s - loss: 0.0771 - mae: 0.2193 - val_loss: 0.0453 - val_mae: 0.1610 - 44ms/epoch - 4ms/step\n",
      "Epoch 6/100\n",
      "12/12 - 0s - loss: 0.0619 - mae: 0.1914 - val_loss: 0.0439 - val_mae: 0.1530 - 42ms/epoch - 4ms/step\n",
      "Epoch 7/100\n",
      "12/12 - 0s - loss: 0.0719 - mae: 0.2073 - val_loss: 0.0430 - val_mae: 0.1513 - 44ms/epoch - 4ms/step\n",
      "Epoch 8/100\n",
      "12/12 - 0s - loss: 0.0699 - mae: 0.2025 - val_loss: 0.0423 - val_mae: 0.1558 - 43ms/epoch - 4ms/step\n",
      "Epoch 9/100\n",
      "12/12 - 0s - loss: 0.0726 - mae: 0.2159 - val_loss: 0.0412 - val_mae: 0.1489 - 41ms/epoch - 3ms/step\n",
      "Epoch 10/100\n",
      "12/12 - 0s - loss: 0.0801 - mae: 0.2120 - val_loss: 0.0405 - val_mae: 0.1508 - 43ms/epoch - 4ms/step\n",
      "Epoch 11/100\n",
      "12/12 - 0s - loss: 0.0753 - mae: 0.2052 - val_loss: 0.0397 - val_mae: 0.1511 - 39ms/epoch - 3ms/step\n",
      "Epoch 12/100\n",
      "12/12 - 0s - loss: 0.0690 - mae: 0.2070 - val_loss: 0.0389 - val_mae: 0.1521 - 42ms/epoch - 4ms/step\n",
      "Epoch 12: early stopping\n"
     ]
    }
   ],
   "source": [
    "# Create model\n",
    "model = create_model(32,'sigmoid',0.1)\n",
    "\n",
    "# Early Stopping\n",
    "from keras.callbacks import EarlyStopping\n",
    "es = EarlyStopping(monitor = 'val_loss', mode = \"min\", min_delta = 0.01, patience = 10, verbose = 1)\n",
    "\n",
    "# fit model\n",
    "history = model.fit(X_train_scaled,y_train_scaled,\n",
    "                    epochs=100, batch_size=32,\n",
    "                    validation_split=0.1, callbacks = [es],\n",
    "                    verbose=2)"
   ]
  },
  {
   "cell_type": "code",
   "execution_count": 23,
   "metadata": {
    "slideshow": {
     "slide_type": "slide"
    }
   },
   "outputs": [
    {
     "data": {
      "text/plain": [
       "<matplotlib.legend.Legend at 0x1bbe4c10640>"
      ]
     },
     "execution_count": 23,
     "metadata": {},
     "output_type": "execute_result"
    },
    {
     "data": {
      "image/png": "[encoded data removed]",
      "text/plain": [
       "<Figure size 432x288 with 1 Axes>"
      ]
     },
     "metadata": {},
     "output_type": "display_data"
    }
   ],
   "source": [
    "# grafik loss function MSE\n",
    "\n",
    "plt.plot(history.history['loss'], label='Training loss')\n",
    "plt.plot(history.history['val_loss'], label='Validation loss')\n",
    "plt.title('loss function MSE')\n",
    "plt.ylabel('MSE')\n",
    "plt.xlabel('Epoch')\n",
    "plt.legend()"
   ]
  },
  {
   "cell_type": "markdown",
   "metadata": {
    "slideshow": {
     "slide_type": "slide"
    }
   },
   "source": [
    "## Perhatikan Grafik di Atas.\n",
    "Walaupun kita menetapkan epoch = 100, proses training terhenti pada epoch ke 15 karena kita menggunakan **Early Stopping**"
   ]
  },
  {
   "cell_type": "markdown",
   "metadata": {
    "slideshow": {
     "slide_type": "slide"
    }
   },
   "source": [
    "### 5. Evaluasi Model dengan Data Test\n",
    "\n",
    "- Sebelum melakukan evaluasi model dengan data test, kita akan melakukan prediksi pada data test dengan cara berikut:\n",
    "\n",
    "`y_pred = model.predict(X_test_scaled)`\n",
    "\n",
    "- Karena nilai prediksi di atas masih dalam scala MinMaxScaler (scaler2), maka kita perlu membalikkannya menggunakan fungsi inverse_transform() sebagai berikut:\n",
    "\n",
    "`y_pred = scaler2.inverse_transform(y_pred)`"
   ]
  },
  {
   "cell_type": "code",
   "execution_count": 24,
   "metadata": {
    "slideshow": {
     "slide_type": "slide"
    }
   },
   "outputs": [],
   "source": [
    "y_pred = model.predict(X_test_scaled)\n",
    "y_pred = scaler2.inverse_transform(y_pred)"
   ]
  },
  {
   "cell_type": "markdown",
   "metadata": {
    "slideshow": {
     "slide_type": "slide"
    }
   },
   "source": [
    "- Setelah melakukan prediksi barulah kita melakukan evaluasi terhadap nilai prediksi tersebut menggunakan metric yang digunakan yaitu MAE"
   ]
  },
  {
   "cell_type": "code",
   "execution_count": 25,
   "metadata": {
    "slideshow": {
     "slide_type": "slide"
    }
   },
   "outputs": [
    {
     "name": "stdout",
     "output_type": "stream",
     "text": [
      "MAE data test sebesar: 5.452018968185577\n"
     ]
    }
   ],
   "source": [
    "# Mean Absolute Error (MAE) test data\n",
    "mae = np.mean(np.abs(y_test-y_pred))\n",
    "print('MAE data test sebesar:', mae)"
   ]
  },
  {
   "cell_type": "markdown",
   "metadata": {
    "slideshow": {
     "slide_type": "slide"
    }
   },
   "source": [
    "## Apakah Nilai MAE Tersebut Bagus???"
   ]
  },
  {
   "cell_type": "markdown",
   "metadata": {
    "slideshow": {
     "slide_type": "slide"
    }
   },
   "source": [
    "**Melihat boxplot dari nilai error mutlak**"
   ]
  },
  {
   "cell_type": "code",
   "execution_count": 26,
   "metadata": {
    "slideshow": {
     "slide_type": "slide"
    }
   },
   "outputs": [
    {
     "data": {
      "text/plain": [
       "<AxesSubplot:>"
      ]
     },
     "execution_count": 26,
     "metadata": {},
     "output_type": "execute_result"
    },
    {
     "data": {
      "image/png": "[encoded data removed]",
      "text/plain": [
       "<Figure size 432x288 with 1 Axes>"
      ]
     },
     "metadata": {},
     "output_type": "display_data"
    }
   ],
   "source": [
    "abs_error = np.abs(y_test-y_pred)\n",
    "sns.boxplot(y = abs_error)"
   ]
  },
  {
   "cell_type": "markdown",
   "metadata": {
    "slideshow": {
     "slide_type": "slide"
    }
   },
   "source": [
    "**Melihat range data test**"
   ]
  },
  {
   "cell_type": "code",
   "execution_count": 27,
   "metadata": {
    "slideshow": {
     "slide_type": "slide"
    }
   },
   "outputs": [
    {
     "name": "stdout",
     "output_type": "stream",
     "text": [
      "minimum y_test 8.3\n",
      "maksimum y_test 50.0\n"
     ]
    }
   ],
   "source": [
    "print('minimum y_test', y_test.min())\n",
    "print('maksimum y_test', y_test.max())"
   ]
  },
  {
   "cell_type": "markdown",
   "metadata": {
    "slideshow": {
     "slide_type": "slide"
    }
   },
   "source": [
    "# <center><font color=\"blue\">TensorBoard</font></center> \n",
    "\n",
    "- Dalam machine learning, untuk meningkatkan suatu model kita sering kali harus bisa mengukurnya. \n",
    "- TensorBoard adalah alat yang menyediakan pengukuran dan visualisasi yang diperlukan dalam proses kerja machine learning.\n",
    "- Hal ini memungkinkan untuk mengamati eksperimen yang dilakukan seperti loss function dan metric evaluation, memvisualisasikan graf model, memproyeksikan embeddings ke ruang dimensi yang lebih rendah, dan banyak lagi.\n",
    "- link :https://www.tensorflow.org/tensorboard/get_started\n",
    "\n",
    "Untuk menggunakan TensorBoard pada model neural network, dapat dilakukan dengan cara berikut"
   ]
  },
  {
   "cell_type": "code",
   "execution_count": 28,
   "metadata": {
    "slideshow": {
     "slide_type": "slide"
    }
   },
   "outputs": [],
   "source": [
    "# Load the TensorBoard notebook extension\n",
    "%load_ext tensorboard\n",
    "\n",
    "from tensorflow.keras.callbacks import TensorBoard\n",
    "import datetime, os"
   ]
  },
  {
   "cell_type": "code",
   "execution_count": 29,
   "metadata": {
    "slideshow": {
     "slide_type": "slide"
    }
   },
   "outputs": [
    {
     "name": "stdout",
     "output_type": "stream",
     "text": [
      "Epoch 1/100\n",
      "12/12 - 0s - loss: 0.3210 - mae: 0.4647 - val_loss: 0.1636 - val_mae: 0.3259 - 320ms/epoch - 27ms/step\n",
      "Epoch 2/100\n",
      "12/12 - 0s - loss: 0.1858 - mae: 0.3496 - val_loss: 0.1082 - val_mae: 0.2618 - 55ms/epoch - 5ms/step\n",
      "Epoch 3/100\n",
      "12/12 - 0s - loss: 0.1395 - mae: 0.2955 - val_loss: 0.1048 - val_mae: 0.2464 - 60ms/epoch - 5ms/step\n",
      "Epoch 4/100\n",
      "12/12 - 0s - loss: 0.1438 - mae: 0.2979 - val_loss: 0.0994 - val_mae: 0.2375 - 57ms/epoch - 5ms/step\n",
      "Epoch 5/100\n",
      "12/12 - 0s - loss: 0.1388 - mae: 0.2963 - val_loss: 0.0926 - val_mae: 0.2291 - 57ms/epoch - 5ms/step\n",
      "Epoch 6/100\n",
      "12/12 - 0s - loss: 0.1367 - mae: 0.2984 - val_loss: 0.0856 - val_mae: 0.2203 - 60ms/epoch - 5ms/step\n",
      "Epoch 7/100\n",
      "12/12 - 0s - loss: 0.1303 - mae: 0.2889 - val_loss: 0.0801 - val_mae: 0.2117 - 60ms/epoch - 5ms/step\n",
      "Epoch 8/100\n",
      "12/12 - 0s - loss: 0.1267 - mae: 0.2816 - val_loss: 0.0750 - val_mae: 0.2036 - 65ms/epoch - 5ms/step\n",
      "Epoch 9/100\n",
      "12/12 - 0s - loss: 0.1167 - mae: 0.2675 - val_loss: 0.0709 - val_mae: 0.1966 - 76ms/epoch - 6ms/step\n",
      "Epoch 10/100\n",
      "12/12 - 0s - loss: 0.1085 - mae: 0.2618 - val_loss: 0.0686 - val_mae: 0.1937 - 69ms/epoch - 6ms/step\n",
      "Epoch 11/100\n",
      "12/12 - 0s - loss: 0.1152 - mae: 0.2655 - val_loss: 0.0635 - val_mae: 0.1836 - 59ms/epoch - 5ms/step\n",
      "Epoch 12/100\n",
      "12/12 - 0s - loss: 0.0987 - mae: 0.2516 - val_loss: 0.0601 - val_mae: 0.1769 - 60ms/epoch - 5ms/step\n",
      "Epoch 13/100\n",
      "12/12 - 0s - loss: 0.0947 - mae: 0.2446 - val_loss: 0.0570 - val_mae: 0.1716 - 61ms/epoch - 5ms/step\n",
      "Epoch 14/100\n",
      "12/12 - 0s - loss: 0.0930 - mae: 0.2401 - val_loss: 0.0542 - val_mae: 0.1668 - 60ms/epoch - 5ms/step\n",
      "Epoch 15/100\n",
      "12/12 - 0s - loss: 0.1017 - mae: 0.2540 - val_loss: 0.0525 - val_mae: 0.1694 - 59ms/epoch - 5ms/step\n",
      "Epoch 16/100\n",
      "12/12 - 0s - loss: 0.0865 - mae: 0.2314 - val_loss: 0.0497 - val_mae: 0.1625 - 66ms/epoch - 5ms/step\n",
      "Epoch 17/100\n",
      "12/12 - 0s - loss: 0.0882 - mae: 0.2284 - val_loss: 0.0475 - val_mae: 0.1610 - 60ms/epoch - 5ms/step\n",
      "Epoch 18/100\n",
      "12/12 - 0s - loss: 0.0878 - mae: 0.2372 - val_loss: 0.0452 - val_mae: 0.1517 - 62ms/epoch - 5ms/step\n",
      "Epoch 19/100\n",
      "12/12 - 0s - loss: 0.0834 - mae: 0.2290 - val_loss: 0.0444 - val_mae: 0.1601 - 66ms/epoch - 6ms/step\n",
      "Epoch 20/100\n",
      "12/12 - 0s - loss: 0.0859 - mae: 0.2293 - val_loss: 0.0429 - val_mae: 0.1585 - 67ms/epoch - 6ms/step\n",
      "Epoch 21/100\n",
      "12/12 - 0s - loss: 0.0837 - mae: 0.2298 - val_loss: 0.0408 - val_mae: 0.1474 - 68ms/epoch - 6ms/step\n",
      "Epoch 22/100\n",
      "12/12 - 0s - loss: 0.0852 - mae: 0.2309 - val_loss: 0.0403 - val_mae: 0.1391 - 62ms/epoch - 5ms/step\n",
      "Epoch 23/100\n",
      "12/12 - 0s - loss: 0.0807 - mae: 0.2217 - val_loss: 0.0385 - val_mae: 0.1472 - 65ms/epoch - 5ms/step\n",
      "Epoch 24/100\n",
      "12/12 - 0s - loss: 0.0861 - mae: 0.2266 - val_loss: 0.0386 - val_mae: 0.1583 - 67ms/epoch - 6ms/step\n",
      "Epoch 25/100\n",
      "12/12 - 0s - loss: 0.0842 - mae: 0.2288 - val_loss: 0.0364 - val_mae: 0.1390 - 61ms/epoch - 5ms/step\n",
      "Epoch 26/100\n",
      "12/12 - 0s - loss: 0.0822 - mae: 0.2230 - val_loss: 0.0356 - val_mae: 0.1431 - 70ms/epoch - 6ms/step\n",
      "Epoch 27/100\n",
      "12/12 - 0s - loss: 0.0732 - mae: 0.2131 - val_loss: 0.0351 - val_mae: 0.1462 - 62ms/epoch - 5ms/step\n",
      "Epoch 28/100\n",
      "12/12 - 0s - loss: 0.0744 - mae: 0.2158 - val_loss: 0.0346 - val_mae: 0.1456 - 59ms/epoch - 5ms/step\n",
      "Epoch 29/100\n",
      "12/12 - 0s - loss: 0.0679 - mae: 0.2076 - val_loss: 0.0340 - val_mae: 0.1434 - 62ms/epoch - 5ms/step\n",
      "Epoch 30/100\n",
      "12/12 - 0s - loss: 0.0599 - mae: 0.1963 - val_loss: 0.0336 - val_mae: 0.1439 - 59ms/epoch - 5ms/step\n",
      "Epoch 31/100\n",
      "12/12 - 0s - loss: 0.0644 - mae: 0.1947 - val_loss: 0.0334 - val_mae: 0.1457 - 61ms/epoch - 5ms/step\n",
      "Epoch 32/100\n",
      "12/12 - 0s - loss: 0.0607 - mae: 0.1956 - val_loss: 0.0328 - val_mae: 0.1420 - 60ms/epoch - 5ms/step\n",
      "Epoch 33/100\n",
      "12/12 - 0s - loss: 0.0767 - mae: 0.2172 - val_loss: 0.0323 - val_mae: 0.1357 - 62ms/epoch - 5ms/step\n",
      "Epoch 34/100\n",
      "12/12 - 0s - loss: 0.0727 - mae: 0.2084 - val_loss: 0.0319 - val_mae: 0.1420 - 60ms/epoch - 5ms/step\n",
      "Epoch 35/100\n",
      "12/12 - 0s - loss: 0.0693 - mae: 0.2114 - val_loss: 0.0314 - val_mae: 0.1347 - 60ms/epoch - 5ms/step\n",
      "Epoch 36/100\n",
      "12/12 - 0s - loss: 0.0631 - mae: 0.1965 - val_loss: 0.0311 - val_mae: 0.1385 - 61ms/epoch - 5ms/step\n",
      "Epoch 37/100\n",
      "12/12 - 0s - loss: 0.0643 - mae: 0.1960 - val_loss: 0.0316 - val_mae: 0.1464 - 65ms/epoch - 5ms/step\n",
      "Epoch 37: early stopping\n"
     ]
    }
   ],
   "source": [
    "# Create model\n",
    "model = create_model(32,'sigmoid',0.1)\n",
    "\n",
    "logdir = os.path.join(\"logs\", datetime.datetime.now().strftime(\"%Y-%m-%d;%H-%M-%S\"))\n",
    "tensorboard_callback = TensorBoard(logdir, histogram_freq=1)\n",
    "\n",
    "# Early Stopping\n",
    "es = EarlyStopping(monitor = 'val_loss', mode = \"min\", min_delta = 0.01, patience = 10, verbose = 1)\n",
    "\n",
    "# fit model\n",
    "history = model.fit(X_train_scaled,y_train_scaled,\n",
    "                    epochs=100, batch_size=32,\n",
    "                    validation_split=0.1, callbacks = [es, tensorboard_callback],\n",
    "                    verbose=2)"
   ]
  },
  {
   "cell_type": "code",
   "execution_count": 30,
   "metadata": {
    "slideshow": {
     "slide_type": "slide"
    }
   },
   "outputs": [
    {
     "data": {
      "text/html": [
       "\n",
       "      <iframe id=\"tensorboard-frame-2935054c25a8c95b\" width=\"100%\" height=\"800\" frameborder=\"0\">\n",
       "      </iframe>\n",
       "      <script>\n",
       "        (function() {\n",
       "          const frame = document.getElementById(\"tensorboard-frame-2935054c25a8c95b\");\n",
       "          const url = new URL(\"/\", window.location);\n",
       "          const port = 6006;\n",
       "          if (port) {\n",
       "            url.port = port;\n",
       "          }\n",
       "          frame.src = url;\n",
       "        })();\n",
       "      </script>\n",
       "    "
      ],
      "text/plain": [
       "<IPython.core.display.HTML object>"
      ]
     },
     "metadata": {},
     "output_type": "display_data"
    }
   ],
   "source": [
    "%tensorboard --logdir=logs"
   ]
  },
  {
   "cell_type": "markdown",
   "metadata": {
    "slideshow": {
     "slide_type": "slide"
    }
   },
   "source": [
    "# <center><font color=\"blue\">Hyper-parameter Tuning</font></center> \n",
    "\n",
    "## Berapa Banyak Neuron yang Diperlukan? Fungsi Aktivasi Apa yang Harus Digunakan? Berapa Persen Dropout yang Ditentukan?\n",
    "\n",
    "- Pertanyaan di atas dapat dijawab dengan melakukan hyper-parameter tuning atau melakukan beberapa percobaan dan memilih hasil yang terbaik\n",
    "- Hyper-parameter tuning dapat lakukan menggunakan fungsi GridSearchCV dari modul sklearn\n",
    "\n",
    "<img src=\"images/grid_search.png\" width=\"500\"/><br>\n",
    "- Namun untuk membuat model neural network menggunakan GridSearchCV, kita harus menggunakan fungsi model neural network dan dimasukan ke dalam KerasRegressor\n",
    "- Selain fungsi model neural network, parameter-parameter yang dimasukan pada model.fit() seperti contoh sebelumnya juga dimasukan ke dalam KerasRegressor"
   ]
  },
  {
   "cell_type": "markdown",
   "metadata": {
    "slideshow": {
     "slide_type": "slide"
    }
   },
   "source": [
    "## Membuat Model Neural Network dengan Hyper-parameter Tuning\n",
    "### 1. Import Modul"
   ]
  },
  {
   "cell_type": "code",
   "execution_count": 31,
   "metadata": {
    "slideshow": {
     "slide_type": "slide"
    }
   },
   "outputs": [],
   "source": [
    "from sklearn.model_selection import GridSearchCV\n",
    "from keras.wrappers.scikit_learn import KerasRegressor"
   ]
  },
  {
   "cell_type": "markdown",
   "metadata": {
    "slideshow": {
     "slide_type": "slide"
    }
   },
   "source": [
    "### 2. Membuat Model dengan KerasRegressor"
   ]
  },
  {
   "cell_type": "code",
   "execution_count": 32,
   "metadata": {
    "slideshow": {
     "slide_type": "slide"
    }
   },
   "outputs": [],
   "source": [
    "# Early Stopping\n",
    "es = EarlyStopping(monitor = 'val_loss', mode = \"min\", min_delta = 0.005, patience = 5, verbose = 0)\n",
    "\n",
    "# create model\n",
    "model = KerasRegressor(build_fn=create_model, epochs=500, validation_split=0.1, batch_size=32, callbacks=[es], verbose=0)"
   ]
  },
  {
   "cell_type": "markdown",
   "metadata": {
    "slideshow": {
     "slide_type": "slide"
    }
   },
   "source": [
    "### 3. Menentukan parameter-parameter\n",
    "- Pada contoh ini kita akan melakukan percobaan terhadap jumlah neuron, fungsi aktivasi, dan persentase dropout.\n",
    "- ketiga parameter tersebut beserta nila-nilai yang ingin digunakan kemudian dimasukan pada variabel **param_grid** dengan tipe data dictionary"
   ]
  },
  {
   "cell_type": "code",
   "execution_count": 33,
   "metadata": {
    "slideshow": {
     "slide_type": "slide"
    }
   },
   "outputs": [],
   "source": [
    "# define the grid search parameters\n",
    "neurons = [32, 64, 128]\n",
    "activation = ['relu','sigmoid','tanh']\n",
    "dropout=[0.1, 0.2, 0.3]\n",
    "param_grid = dict(neurons=neurons, activation=activation, dropout=dropout)"
   ]
  },
  {
   "cell_type": "markdown",
   "metadata": {
    "slideshow": {
     "slide_type": "slide"
    }
   },
   "source": [
    "### 4. Membuat Model dengan GridSearchCV\n",
    "Model dengan GridSearchCV dibuat dengan memasukan beberapa parameter yaitu:\n",
    "- estimator: model yang ingin dilakukan gridsearch\n",
    "- param_grid: parameter yang ingin diuji\n",
    "- n_jobs: Jumlah pekerjaan untuk dijalankan secara paralel. (-1 artinya menggunakan seluruh core processor)\n",
    "- cv: banyaknya k-fold cross validation"
   ]
  },
  {
   "cell_type": "code",
   "execution_count": 34,
   "metadata": {
    "slideshow": {
     "slide_type": "slide"
    }
   },
   "outputs": [],
   "source": [
    "grid = GridSearchCV(estimator=model, param_grid=param_grid, n_jobs=-1, cv=3)"
   ]
  },
  {
   "cell_type": "markdown",
   "metadata": {
    "slideshow": {
     "slide_type": "slide"
    }
   },
   "source": [
    "### 5. Training Model dengan GridSearchCV"
   ]
  },
  {
   "cell_type": "code",
   "execution_count": 35,
   "metadata": {
    "slideshow": {
     "slide_type": "slide"
    }
   },
   "outputs": [
    {
     "ename": "AttributeError",
     "evalue": "'Popen' object has no attribute 'sentinel'",
     "output_type": "error",
     "traceback": [
      "\u001b[1;31m---------------------------------------------------------------------------\u001b[0m",
      "\u001b[1;31mAttributeError\u001b[0m                            Traceback (most recent call last)",
      "Input \u001b[1;32mIn [35]\u001b[0m, in \u001b[0;36m<cell line: 1>\u001b[1;34m()\u001b[0m\n\u001b[1;32m----> 1\u001b[0m grid_result \u001b[38;5;241m=\u001b[39m \u001b[43mgrid\u001b[49m\u001b[38;5;241;43m.\u001b[39;49m\u001b[43mfit\u001b[49m\u001b[43m(\u001b[49m\u001b[43mX_train_scaled\u001b[49m\u001b[43m,\u001b[49m\u001b[43m \u001b[49m\u001b[43my_train_scaled\u001b[49m\u001b[43m)\u001b[49m\n",
      "File \u001b[1;32mC:\\Anaconda\\envs\\DDDS\\lib\\site-packages\\sklearn\\model_selection\\_search.py:891\u001b[0m, in \u001b[0;36mBaseSearchCV.fit\u001b[1;34m(self, X, y, groups, **fit_params)\u001b[0m\n\u001b[0;32m    885\u001b[0m     results \u001b[38;5;241m=\u001b[39m \u001b[38;5;28mself\u001b[39m\u001b[38;5;241m.\u001b[39m_format_results(\n\u001b[0;32m    886\u001b[0m         all_candidate_params, n_splits, all_out, all_more_results\n\u001b[0;32m    887\u001b[0m     )\n\u001b[0;32m    889\u001b[0m     \u001b[38;5;28;01mreturn\u001b[39;00m results\n\u001b[1;32m--> 891\u001b[0m \u001b[38;5;28;43mself\u001b[39;49m\u001b[38;5;241;43m.\u001b[39;49m\u001b[43m_run_search\u001b[49m\u001b[43m(\u001b[49m\u001b[43mevaluate_candidates\u001b[49m\u001b[43m)\u001b[49m\n\u001b[0;32m    893\u001b[0m \u001b[38;5;66;03m# multimetric is determined here because in the case of a callable\u001b[39;00m\n\u001b[0;32m    894\u001b[0m \u001b[38;5;66;03m# self.scoring the return type is only known after calling\u001b[39;00m\n\u001b[0;32m    895\u001b[0m first_test_score \u001b[38;5;241m=\u001b[39m all_out[\u001b[38;5;241m0\u001b[39m][\u001b[38;5;124m\"\u001b[39m\u001b[38;5;124mtest_scores\u001b[39m\u001b[38;5;124m\"\u001b[39m]\n",
      "File \u001b[1;32mC:\\Anaconda\\envs\\DDDS\\lib\\site-packages\\sklearn\\model_selection\\_search.py:1392\u001b[0m, in \u001b[0;36mGridSearchCV._run_search\u001b[1;34m(self, evaluate_candidates)\u001b[0m\n\u001b[0;32m   1390\u001b[0m \u001b[38;5;28;01mdef\u001b[39;00m \u001b[38;5;21m_run_search\u001b[39m(\u001b[38;5;28mself\u001b[39m, evaluate_candidates):\n\u001b[0;32m   1391\u001b[0m     \u001b[38;5;124;03m\"\"\"Search all candidates in param_grid\"\"\"\u001b[39;00m\n\u001b[1;32m-> 1392\u001b[0m     \u001b[43mevaluate_candidates\u001b[49m\u001b[43m(\u001b[49m\u001b[43mParameterGrid\u001b[49m\u001b[43m(\u001b[49m\u001b[38;5;28;43mself\u001b[39;49m\u001b[38;5;241;43m.\u001b[39;49m\u001b[43mparam_grid\u001b[49m\u001b[43m)\u001b[49m\u001b[43m)\u001b[49m\n",
      "File \u001b[1;32mC:\\Anaconda\\envs\\DDDS\\lib\\site-packages\\sklearn\\model_selection\\_search.py:838\u001b[0m, in \u001b[0;36mBaseSearchCV.fit.<locals>.evaluate_candidates\u001b[1;34m(candidate_params, cv, more_results)\u001b[0m\n\u001b[0;32m    830\u001b[0m \u001b[38;5;28;01mif\u001b[39;00m \u001b[38;5;28mself\u001b[39m\u001b[38;5;241m.\u001b[39mverbose \u001b[38;5;241m>\u001b[39m \u001b[38;5;241m0\u001b[39m:\n\u001b[0;32m    831\u001b[0m     \u001b[38;5;28mprint\u001b[39m(\n\u001b[0;32m    832\u001b[0m         \u001b[38;5;124m\"\u001b[39m\u001b[38;5;124mFitting \u001b[39m\u001b[38;5;132;01m{0}\u001b[39;00m\u001b[38;5;124m folds for each of \u001b[39m\u001b[38;5;132;01m{1}\u001b[39;00m\u001b[38;5;124m candidates,\u001b[39m\u001b[38;5;124m\"\u001b[39m\n\u001b[0;32m    833\u001b[0m         \u001b[38;5;124m\"\u001b[39m\u001b[38;5;124m totalling \u001b[39m\u001b[38;5;132;01m{2}\u001b[39;00m\u001b[38;5;124m fits\u001b[39m\u001b[38;5;124m\"\u001b[39m\u001b[38;5;241m.\u001b[39mformat(\n\u001b[0;32m    834\u001b[0m             n_splits, n_candidates, n_candidates \u001b[38;5;241m*\u001b[39m n_splits\n\u001b[0;32m    835\u001b[0m         )\n\u001b[0;32m    836\u001b[0m     )\n\u001b[1;32m--> 838\u001b[0m out \u001b[38;5;241m=\u001b[39m \u001b[43mparallel\u001b[49m\u001b[43m(\u001b[49m\n\u001b[0;32m    839\u001b[0m \u001b[43m    \u001b[49m\u001b[43mdelayed\u001b[49m\u001b[43m(\u001b[49m\u001b[43m_fit_and_score\u001b[49m\u001b[43m)\u001b[49m\u001b[43m(\u001b[49m\n\u001b[0;32m    840\u001b[0m \u001b[43m        \u001b[49m\u001b[43mclone\u001b[49m\u001b[43m(\u001b[49m\u001b[43mbase_estimator\u001b[49m\u001b[43m)\u001b[49m\u001b[43m,\u001b[49m\n\u001b[0;32m    841\u001b[0m \u001b[43m        \u001b[49m\u001b[43mX\u001b[49m\u001b[43m,\u001b[49m\n\u001b[0;32m    842\u001b[0m \u001b[43m        \u001b[49m\u001b[43my\u001b[49m\u001b[43m,\u001b[49m\n\u001b[0;32m    843\u001b[0m \u001b[43m        \u001b[49m\u001b[43mtrain\u001b[49m\u001b[38;5;241;43m=\u001b[39;49m\u001b[43mtrain\u001b[49m\u001b[43m,\u001b[49m\n\u001b[0;32m    844\u001b[0m \u001b[43m        \u001b[49m\u001b[43mtest\u001b[49m\u001b[38;5;241;43m=\u001b[39;49m\u001b[43mtest\u001b[49m\u001b[43m,\u001b[49m\n\u001b[0;32m    845\u001b[0m \u001b[43m        \u001b[49m\u001b[43mparameters\u001b[49m\u001b[38;5;241;43m=\u001b[39;49m\u001b[43mparameters\u001b[49m\u001b[43m,\u001b[49m\n\u001b[0;32m    846\u001b[0m \u001b[43m        \u001b[49m\u001b[43msplit_progress\u001b[49m\u001b[38;5;241;43m=\u001b[39;49m\u001b[43m(\u001b[49m\u001b[43msplit_idx\u001b[49m\u001b[43m,\u001b[49m\u001b[43m \u001b[49m\u001b[43mn_splits\u001b[49m\u001b[43m)\u001b[49m\u001b[43m,\u001b[49m\n\u001b[0;32m    847\u001b[0m \u001b[43m        \u001b[49m\u001b[43mcandidate_progress\u001b[49m\u001b[38;5;241;43m=\u001b[39;49m\u001b[43m(\u001b[49m\u001b[43mcand_idx\u001b[49m\u001b[43m,\u001b[49m\u001b[43m \u001b[49m\u001b[43mn_candidates\u001b[49m\u001b[43m)\u001b[49m\u001b[43m,\u001b[49m\n\u001b[0;32m    848\u001b[0m \u001b[43m        \u001b[49m\u001b[38;5;241;43m*\u001b[39;49m\u001b[38;5;241;43m*\u001b[39;49m\u001b[43mfit_and_score_kwargs\u001b[49m\u001b[43m,\u001b[49m\n\u001b[0;32m    849\u001b[0m \u001b[43m    \u001b[49m\u001b[43m)\u001b[49m\n\u001b[0;32m    850\u001b[0m \u001b[43m    \u001b[49m\u001b[38;5;28;43;01mfor\u001b[39;49;00m\u001b[43m \u001b[49m\u001b[43m(\u001b[49m\u001b[43mcand_idx\u001b[49m\u001b[43m,\u001b[49m\u001b[43m \u001b[49m\u001b[43mparameters\u001b[49m\u001b[43m)\u001b[49m\u001b[43m,\u001b[49m\u001b[43m \u001b[49m\u001b[43m(\u001b[49m\u001b[43msplit_idx\u001b[49m\u001b[43m,\u001b[49m\u001b[43m \u001b[49m\u001b[43m(\u001b[49m\u001b[43mtrain\u001b[49m\u001b[43m,\u001b[49m\u001b[43m \u001b[49m\u001b[43mtest\u001b[49m\u001b[43m)\u001b[49m\u001b[43m)\u001b[49m\u001b[43m \u001b[49m\u001b[38;5;129;43;01min\u001b[39;49;00m\u001b[43m \u001b[49m\u001b[43mproduct\u001b[49m\u001b[43m(\u001b[49m\n\u001b[0;32m    851\u001b[0m \u001b[43m        \u001b[49m\u001b[38;5;28;43menumerate\u001b[39;49m\u001b[43m(\u001b[49m\u001b[43mcandidate_params\u001b[49m\u001b[43m)\u001b[49m\u001b[43m,\u001b[49m\u001b[43m \u001b[49m\u001b[38;5;28;43menumerate\u001b[39;49m\u001b[43m(\u001b[49m\u001b[43mcv\u001b[49m\u001b[38;5;241;43m.\u001b[39;49m\u001b[43msplit\u001b[49m\u001b[43m(\u001b[49m\u001b[43mX\u001b[49m\u001b[43m,\u001b[49m\u001b[43m \u001b[49m\u001b[43my\u001b[49m\u001b[43m,\u001b[49m\u001b[43m \u001b[49m\u001b[43mgroups\u001b[49m\u001b[43m)\u001b[49m\u001b[43m)\u001b[49m\n\u001b[0;32m    852\u001b[0m \u001b[43m    \u001b[49m\u001b[43m)\u001b[49m\n\u001b[0;32m    853\u001b[0m \u001b[43m\u001b[49m\u001b[43m)\u001b[49m\n\u001b[0;32m    855\u001b[0m \u001b[38;5;28;01mif\u001b[39;00m \u001b[38;5;28mlen\u001b[39m(out) \u001b[38;5;241m<\u001b[39m \u001b[38;5;241m1\u001b[39m:\n\u001b[0;32m    856\u001b[0m     \u001b[38;5;28;01mraise\u001b[39;00m \u001b[38;5;167;01mValueError\u001b[39;00m(\n\u001b[0;32m    857\u001b[0m         \u001b[38;5;124m\"\u001b[39m\u001b[38;5;124mNo fits were performed. \u001b[39m\u001b[38;5;124m\"\u001b[39m\n\u001b[0;32m    858\u001b[0m         \u001b[38;5;124m\"\u001b[39m\u001b[38;5;124mWas the CV iterator empty? \u001b[39m\u001b[38;5;124m\"\u001b[39m\n\u001b[0;32m    859\u001b[0m         \u001b[38;5;124m\"\u001b[39m\u001b[38;5;124mWere there no candidates?\u001b[39m\u001b[38;5;124m\"\u001b[39m\n\u001b[0;32m    860\u001b[0m     )\n",
      "File \u001b[1;32mC:\\Anaconda\\envs\\DDDS\\lib\\site-packages\\joblib\\parallel.py:1043\u001b[0m, in \u001b[0;36mParallel.__call__\u001b[1;34m(self, iterable)\u001b[0m\n\u001b[0;32m   1034\u001b[0m \u001b[38;5;28;01mtry\u001b[39;00m:\n\u001b[0;32m   1035\u001b[0m     \u001b[38;5;66;03m# Only set self._iterating to True if at least a batch\u001b[39;00m\n\u001b[0;32m   1036\u001b[0m     \u001b[38;5;66;03m# was dispatched. In particular this covers the edge\u001b[39;00m\n\u001b[1;32m   (...)\u001b[0m\n\u001b[0;32m   1040\u001b[0m     \u001b[38;5;66;03m# was very quick and its callback already dispatched all the\u001b[39;00m\n\u001b[0;32m   1041\u001b[0m     \u001b[38;5;66;03m# remaining jobs.\u001b[39;00m\n\u001b[0;32m   1042\u001b[0m     \u001b[38;5;28mself\u001b[39m\u001b[38;5;241m.\u001b[39m_iterating \u001b[38;5;241m=\u001b[39m \u001b[38;5;28;01mFalse\u001b[39;00m\n\u001b[1;32m-> 1043\u001b[0m     \u001b[38;5;28;01mif\u001b[39;00m \u001b[38;5;28;43mself\u001b[39;49m\u001b[38;5;241;43m.\u001b[39;49m\u001b[43mdispatch_one_batch\u001b[49m\u001b[43m(\u001b[49m\u001b[43miterator\u001b[49m\u001b[43m)\u001b[49m:\n\u001b[0;32m   1044\u001b[0m         \u001b[38;5;28mself\u001b[39m\u001b[38;5;241m.\u001b[39m_iterating \u001b[38;5;241m=\u001b[39m \u001b[38;5;28mself\u001b[39m\u001b[38;5;241m.\u001b[39m_original_iterator \u001b[38;5;129;01mis\u001b[39;00m \u001b[38;5;129;01mnot\u001b[39;00m \u001b[38;5;28;01mNone\u001b[39;00m\n\u001b[0;32m   1046\u001b[0m     \u001b[38;5;28;01mwhile\u001b[39;00m \u001b[38;5;28mself\u001b[39m\u001b[38;5;241m.\u001b[39mdispatch_one_batch(iterator):\n",
      "File \u001b[1;32mC:\\Anaconda\\envs\\DDDS\\lib\\site-packages\\joblib\\parallel.py:861\u001b[0m, in \u001b[0;36mParallel.dispatch_one_batch\u001b[1;34m(self, iterator)\u001b[0m\n\u001b[0;32m    859\u001b[0m     \u001b[38;5;28;01mreturn\u001b[39;00m \u001b[38;5;28;01mFalse\u001b[39;00m\n\u001b[0;32m    860\u001b[0m \u001b[38;5;28;01melse\u001b[39;00m:\n\u001b[1;32m--> 861\u001b[0m     \u001b[38;5;28;43mself\u001b[39;49m\u001b[38;5;241;43m.\u001b[39;49m\u001b[43m_dispatch\u001b[49m\u001b[43m(\u001b[49m\u001b[43mtasks\u001b[49m\u001b[43m)\u001b[49m\n\u001b[0;32m    862\u001b[0m     \u001b[38;5;28;01mreturn\u001b[39;00m \u001b[38;5;28;01mTrue\u001b[39;00m\n",
      "File \u001b[1;32mC:\\Anaconda\\envs\\DDDS\\lib\\site-packages\\joblib\\parallel.py:779\u001b[0m, in \u001b[0;36mParallel._dispatch\u001b[1;34m(self, batch)\u001b[0m\n\u001b[0;32m    777\u001b[0m \u001b[38;5;28;01mwith\u001b[39;00m \u001b[38;5;28mself\u001b[39m\u001b[38;5;241m.\u001b[39m_lock:\n\u001b[0;32m    778\u001b[0m     job_idx \u001b[38;5;241m=\u001b[39m \u001b[38;5;28mlen\u001b[39m(\u001b[38;5;28mself\u001b[39m\u001b[38;5;241m.\u001b[39m_jobs)\n\u001b[1;32m--> 779\u001b[0m     job \u001b[38;5;241m=\u001b[39m \u001b[38;5;28;43mself\u001b[39;49m\u001b[38;5;241;43m.\u001b[39;49m\u001b[43m_backend\u001b[49m\u001b[38;5;241;43m.\u001b[39;49m\u001b[43mapply_async\u001b[49m\u001b[43m(\u001b[49m\u001b[43mbatch\u001b[49m\u001b[43m,\u001b[49m\u001b[43m \u001b[49m\u001b[43mcallback\u001b[49m\u001b[38;5;241;43m=\u001b[39;49m\u001b[43mcb\u001b[49m\u001b[43m)\u001b[49m\n\u001b[0;32m    780\u001b[0m     \u001b[38;5;66;03m# A job can complete so quickly than its callback is\u001b[39;00m\n\u001b[0;32m    781\u001b[0m     \u001b[38;5;66;03m# called before we get here, causing self._jobs to\u001b[39;00m\n\u001b[0;32m    782\u001b[0m     \u001b[38;5;66;03m# grow. To ensure correct results ordering, .insert is\u001b[39;00m\n\u001b[0;32m    783\u001b[0m     \u001b[38;5;66;03m# used (rather than .append) in the following line\u001b[39;00m\n\u001b[0;32m    784\u001b[0m     \u001b[38;5;28mself\u001b[39m\u001b[38;5;241m.\u001b[39m_jobs\u001b[38;5;241m.\u001b[39minsert(job_idx, job)\n",
      "File \u001b[1;32mC:\\Anaconda\\envs\\DDDS\\lib\\site-packages\\joblib\\_parallel_backends.py:531\u001b[0m, in \u001b[0;36mLokyBackend.apply_async\u001b[1;34m(self, func, callback)\u001b[0m\n\u001b[0;32m    529\u001b[0m \u001b[38;5;28;01mdef\u001b[39;00m \u001b[38;5;21mapply_async\u001b[39m(\u001b[38;5;28mself\u001b[39m, func, callback\u001b[38;5;241m=\u001b[39m\u001b[38;5;28;01mNone\u001b[39;00m):\n\u001b[0;32m    530\u001b[0m     \u001b[38;5;124;03m\"\"\"Schedule a func to be run\"\"\"\u001b[39;00m\n\u001b[1;32m--> 531\u001b[0m     future \u001b[38;5;241m=\u001b[39m \u001b[38;5;28;43mself\u001b[39;49m\u001b[38;5;241;43m.\u001b[39;49m\u001b[43m_workers\u001b[49m\u001b[38;5;241;43m.\u001b[39;49m\u001b[43msubmit\u001b[49m\u001b[43m(\u001b[49m\u001b[43mSafeFunction\u001b[49m\u001b[43m(\u001b[49m\u001b[43mfunc\u001b[49m\u001b[43m)\u001b[49m\u001b[43m)\u001b[49m\n\u001b[0;32m    532\u001b[0m     future\u001b[38;5;241m.\u001b[39mget \u001b[38;5;241m=\u001b[39m functools\u001b[38;5;241m.\u001b[39mpartial(\u001b[38;5;28mself\u001b[39m\u001b[38;5;241m.\u001b[39mwrap_future_result, future)\n\u001b[0;32m    533\u001b[0m     \u001b[38;5;28;01mif\u001b[39;00m callback \u001b[38;5;129;01mis\u001b[39;00m \u001b[38;5;129;01mnot\u001b[39;00m \u001b[38;5;28;01mNone\u001b[39;00m:\n",
      "File \u001b[1;32mC:\\Anaconda\\envs\\DDDS\\lib\\site-packages\\joblib\\externals\\loky\\reusable_executor.py:177\u001b[0m, in \u001b[0;36m_ReusablePoolExecutor.submit\u001b[1;34m(self, fn, *args, **kwargs)\u001b[0m\n\u001b[0;32m    175\u001b[0m \u001b[38;5;28;01mdef\u001b[39;00m \u001b[38;5;21msubmit\u001b[39m(\u001b[38;5;28mself\u001b[39m, fn, \u001b[38;5;241m*\u001b[39margs, \u001b[38;5;241m*\u001b[39m\u001b[38;5;241m*\u001b[39mkwargs):\n\u001b[0;32m    176\u001b[0m     \u001b[38;5;28;01mwith\u001b[39;00m \u001b[38;5;28mself\u001b[39m\u001b[38;5;241m.\u001b[39m_submit_resize_lock:\n\u001b[1;32m--> 177\u001b[0m         \u001b[38;5;28;01mreturn\u001b[39;00m \u001b[38;5;28msuper\u001b[39m(_ReusablePoolExecutor, \u001b[38;5;28mself\u001b[39m)\u001b[38;5;241m.\u001b[39msubmit(\n\u001b[0;32m    178\u001b[0m             fn, \u001b[38;5;241m*\u001b[39margs, \u001b[38;5;241m*\u001b[39m\u001b[38;5;241m*\u001b[39mkwargs)\n",
      "File \u001b[1;32mC:\\Anaconda\\envs\\DDDS\\lib\\site-packages\\joblib\\externals\\loky\\process_executor.py:1135\u001b[0m, in \u001b[0;36mProcessPoolExecutor.submit\u001b[1;34m(self, fn, *args, **kwargs)\u001b[0m\n\u001b[0;32m   1132\u001b[0m \u001b[38;5;66;03m# Wake up queue management thread\u001b[39;00m\n\u001b[0;32m   1133\u001b[0m \u001b[38;5;28mself\u001b[39m\u001b[38;5;241m.\u001b[39m_executor_manager_thread_wakeup\u001b[38;5;241m.\u001b[39mwakeup()\n\u001b[1;32m-> 1135\u001b[0m \u001b[38;5;28;43mself\u001b[39;49m\u001b[38;5;241;43m.\u001b[39;49m\u001b[43m_ensure_executor_running\u001b[49m\u001b[43m(\u001b[49m\u001b[43m)\u001b[49m\n\u001b[0;32m   1136\u001b[0m \u001b[38;5;28;01mreturn\u001b[39;00m f\n",
      "File \u001b[1;32mC:\\Anaconda\\envs\\DDDS\\lib\\site-packages\\joblib\\externals\\loky\\process_executor.py:1109\u001b[0m, in \u001b[0;36mProcessPoolExecutor._ensure_executor_running\u001b[1;34m(self)\u001b[0m\n\u001b[0;32m   1107\u001b[0m \u001b[38;5;28;01mwith\u001b[39;00m \u001b[38;5;28mself\u001b[39m\u001b[38;5;241m.\u001b[39m_processes_management_lock:\n\u001b[0;32m   1108\u001b[0m     \u001b[38;5;28;01mif\u001b[39;00m \u001b[38;5;28mlen\u001b[39m(\u001b[38;5;28mself\u001b[39m\u001b[38;5;241m.\u001b[39m_processes) \u001b[38;5;241m!=\u001b[39m \u001b[38;5;28mself\u001b[39m\u001b[38;5;241m.\u001b[39m_max_workers:\n\u001b[1;32m-> 1109\u001b[0m         \u001b[38;5;28;43mself\u001b[39;49m\u001b[38;5;241;43m.\u001b[39;49m\u001b[43m_adjust_process_count\u001b[49m\u001b[43m(\u001b[49m\u001b[43m)\u001b[49m\n\u001b[0;32m   1110\u001b[0m     \u001b[38;5;28mself\u001b[39m\u001b[38;5;241m.\u001b[39m_start_executor_manager_thread()\n",
      "File \u001b[1;32mC:\\Anaconda\\envs\\DDDS\\lib\\site-packages\\joblib\\externals\\loky\\process_executor.py:1100\u001b[0m, in \u001b[0;36mProcessPoolExecutor._adjust_process_count\u001b[1;34m(self)\u001b[0m\n\u001b[0;32m   1098\u001b[0m         p \u001b[38;5;241m=\u001b[39m \u001b[38;5;28mself\u001b[39m\u001b[38;5;241m.\u001b[39m_context\u001b[38;5;241m.\u001b[39mProcess(target\u001b[38;5;241m=\u001b[39m_process_worker, args\u001b[38;5;241m=\u001b[39margs)\n\u001b[0;32m   1099\u001b[0m     p\u001b[38;5;241m.\u001b[39m_worker_exit_lock \u001b[38;5;241m=\u001b[39m worker_exit_lock\n\u001b[1;32m-> 1100\u001b[0m     \u001b[43mp\u001b[49m\u001b[38;5;241;43m.\u001b[39;49m\u001b[43mstart\u001b[49m\u001b[43m(\u001b[49m\u001b[43m)\u001b[49m\n\u001b[0;32m   1101\u001b[0m     \u001b[38;5;28mself\u001b[39m\u001b[38;5;241m.\u001b[39m_processes[p\u001b[38;5;241m.\u001b[39mpid] \u001b[38;5;241m=\u001b[39m p\n\u001b[0;32m   1102\u001b[0m mp\u001b[38;5;241m.\u001b[39mutil\u001b[38;5;241m.\u001b[39mdebug(\u001b[38;5;124m'\u001b[39m\u001b[38;5;124mAdjust process count : \u001b[39m\u001b[38;5;132;01m{}\u001b[39;00m\u001b[38;5;124m'\u001b[39m\u001b[38;5;241m.\u001b[39mformat(\u001b[38;5;28mself\u001b[39m\u001b[38;5;241m.\u001b[39m_processes))\n",
      "File \u001b[1;32mC:\\Anaconda\\envs\\DDDS\\lib\\multiprocessing\\process.py:122\u001b[0m, in \u001b[0;36mBaseProcess.start\u001b[1;34m(self)\u001b[0m\n\u001b[0;32m    120\u001b[0m _cleanup()\n\u001b[0;32m    121\u001b[0m \u001b[38;5;28mself\u001b[39m\u001b[38;5;241m.\u001b[39m_popen \u001b[38;5;241m=\u001b[39m \u001b[38;5;28mself\u001b[39m\u001b[38;5;241m.\u001b[39m_Popen(\u001b[38;5;28mself\u001b[39m)\n\u001b[1;32m--> 122\u001b[0m \u001b[38;5;28mself\u001b[39m\u001b[38;5;241m.\u001b[39m_sentinel \u001b[38;5;241m=\u001b[39m \u001b[38;5;28;43mself\u001b[39;49m\u001b[38;5;241;43m.\u001b[39;49m\u001b[43m_popen\u001b[49m\u001b[38;5;241;43m.\u001b[39;49m\u001b[43msentinel\u001b[49m\n\u001b[0;32m    123\u001b[0m \u001b[38;5;66;03m# Avoid a refcycle if the target function holds an indirect\u001b[39;00m\n\u001b[0;32m    124\u001b[0m \u001b[38;5;66;03m# reference to the process object (see bpo-30775)\u001b[39;00m\n\u001b[0;32m    125\u001b[0m \u001b[38;5;28;01mdel\u001b[39;00m \u001b[38;5;28mself\u001b[39m\u001b[38;5;241m.\u001b[39m_target, \u001b[38;5;28mself\u001b[39m\u001b[38;5;241m.\u001b[39m_args, \u001b[38;5;28mself\u001b[39m\u001b[38;5;241m.\u001b[39m_kwargs\n",
      "\u001b[1;31mAttributeError\u001b[0m: 'Popen' object has no attribute 'sentinel'"
     ]
    }
   ],
   "source": [
    "grid_result = grid.fit(X_train_scaled, y_train_scaled)"
   ]
  },
  {
   "cell_type": "markdown",
   "metadata": {
    "slideshow": {
     "slide_type": "slide"
    }
   },
   "source": [
    "### 6. Memilih Parameter Terbaik"
   ]
  },
  {
   "cell_type": "code",
   "execution_count": null,
   "metadata": {
    "slideshow": {
     "slide_type": "slide"
    }
   },
   "outputs": [],
   "source": [
    "# summarize results\n",
    "print(\"Best: %f using %s\" % (grid_result.best_score_, grid_result.best_params_))\n",
    "means = grid_result.cv_results_['mean_test_score']\n",
    "stds = grid_result.cv_results_['std_test_score']\n",
    "params = grid_result.cv_results_['params']\n",
    "for mean, stdev, param in zip(means, stds, params):\n",
    "    print(\"%f (%f) with: %r\" % (mean, stdev, param))"
   ]
  },
  {
   "cell_type": "markdown",
   "metadata": {
    "slideshow": {
     "slide_type": "slide"
    }
   },
   "source": [
    "Dari Hasil Training menggunakan GridSearchCV, kita peroleh:\n",
    "- parameter terbaiknya adalah: {'activation': 'relu', 'dropout': 0.3, 'neurons': 128}\n",
    "- Rata-rata Loss Function dari hasil Cross Validation adalah 0.047091 "
   ]
  },
  {
   "cell_type": "markdown",
   "metadata": {
    "slideshow": {
     "slide_type": "slide"
    }
   },
   "source": [
    "- Model terbaik dari hasil GridSearchCV kita masukan ke dalam variabel best_model dengan cara \n",
    "\n",
    "`best_model = grid_result.best_estimator_.model` \n",
    "\n",
    "- Kemudian coba kita lihat grafik loss function MSE dan metric MAE terhadap epoch untuk melihat performa model terbaik kita dengan cara sebagai berikut"
   ]
  },
  {
   "cell_type": "code",
   "execution_count": null,
   "metadata": {
    "slideshow": {
     "slide_type": "slide"
    }
   },
   "outputs": [],
   "source": [
    "best_model = grid_result.best_estimator_.model\n",
    "history = best_model.history"
   ]
  },
  {
   "cell_type": "code",
   "execution_count": null,
   "metadata": {
    "slideshow": {
     "slide_type": "slide"
    }
   },
   "outputs": [],
   "source": [
    "# grafik loss function MSE\n",
    "\n",
    "plt.plot(history.history['loss'], label='Training loss')\n",
    "plt.plot(history.history['val_loss'], label='Validation loss')\n",
    "plt.title('loss function MSE')\n",
    "plt.ylabel('MSE')\n",
    "plt.xlabel('Epoch')\n",
    "plt.legend()"
   ]
  },
  {
   "cell_type": "code",
   "execution_count": null,
   "metadata": {
    "slideshow": {
     "slide_type": "slide"
    }
   },
   "outputs": [],
   "source": [
    "# grafik metric MAE\n",
    "\n",
    "plt.plot(history.history['mae'], label='Training MAE')\n",
    "plt.plot(history.history['val_mae'], label='Validation MAE')\n",
    "plt.title('metric MAE')\n",
    "plt.ylabel('MAE')\n",
    "plt.xlabel('Epoch')\n",
    "plt.legend()"
   ]
  },
  {
   "cell_type": "markdown",
   "metadata": {
    "slideshow": {
     "slide_type": "slide"
    }
   },
   "source": [
    "### 7. Evaluasi Model dengan Data Test\n",
    "Dengan cara yang sama seperti pada contoh sebelumnya kita akan menghitung MAE pada data test."
   ]
  },
  {
   "cell_type": "code",
   "execution_count": null,
   "metadata": {
    "slideshow": {
     "slide_type": "slide"
    }
   },
   "outputs": [],
   "source": [
    "y_pred = best_model.predict(X_test_scaled)\n",
    "y_pred = scaler2.inverse_transform(y_pred)\n",
    "\n",
    "abs_error = np.abs(y_test-y_pred)\n",
    "\n",
    "# Mean Absolute Error (MAE) test data\n",
    "mae = np.mean(abs_error)\n",
    "print('MAE data test sebesar:', mae)\n",
    "\n",
    "sns.boxplot(y = abs_error)"
   ]
  },
  {
   "cell_type": "markdown",
   "metadata": {
    "slideshow": {
     "slide_type": "slide"
    }
   },
   "source": [
    "## Apakah Nilai MAE Tersebut Lebih Bagus dari Sebelumnya???"
   ]
  },
  {
   "cell_type": "markdown",
   "metadata": {
    "slideshow": {
     "slide_type": "slide"
    }
   },
   "source": [
    "## Membandingkan Nilai MAE dari Hasil Regresi Linear"
   ]
  },
  {
   "cell_type": "code",
   "execution_count": null,
   "metadata": {
    "slideshow": {
     "slide_type": "slide"
    }
   },
   "outputs": [],
   "source": [
    "from sklearn.linear_model import LinearRegression\n",
    "\n",
    "reg = LinearRegression()\n",
    "\n",
    "reg.fit(X_train, y_train)\n",
    "reg_pred = reg.predict(X_test)\n",
    "\n",
    "abs_error = np.abs(y_test-reg_pred)\n",
    "\n",
    "# Mean Absolute Error (MAE) test data dari model regresi\n",
    "mae = np.mean(abs_error)\n",
    "print('MAE data test sebesar:', mae)\n",
    "\n",
    "sns.boxplot(y = abs_error)"
   ]
  },
  {
   "cell_type": "markdown",
   "metadata": {
    "slideshow": {
     "slide_type": "slide"
    }
   },
   "source": [
    "# <center><font color=\"blue\">Latihan</font></center>\n",
    "\n",
    "## Dengan menggunakan data konsumsi energi tiap rumah di atas, buatlah model neural network untuk memprediksi kolom listrik berdasarkan input kolom luas_bangunan dengan ketentuan sebagai berikut!\n",
    "\n",
    "1. Arsitektur neural network terdiri dari:\n",
    "- Input layer, hidden layer (Dense layer, Dropout, Dense layer), Dense ouput layer\n",
    "- Fungsi aktivasi yang digunakan pada kedua Dense layer adalah 'ReLu'\n",
    "- Persentase Dropout yang digunakan 10%\n",
    "- Compiler: loss='mse', optimizer='adam', metrics=['mae']\n",
    "\n",
    "2. Model dibuat menggunakan GridSearchCV dengan paramater yang diuji:\n",
    "- banyaknya neuron pada Dense layer pertama = [16,32,64]\n",
    "- banyaknya neuron pada Dense layer kedua = [10,20,30]\n",
    "\n",
    "3. Early Stopping diterapkan sehingga training berhenti pada saat epoch yang optimal\n",
    "\n",
    "4. Lakukan evaluasi pada data test dan simpulkan hasil evaluasi tersebut"
   ]
  },
  {
   "cell_type": "markdown",
   "metadata": {
    "slideshow": {
     "slide_type": "slide"
    }
   },
   "source": [
    "# <center><font color=\"blue\"> Akhir Modul 13 Introduction to Network Model and Tensorflow</font></center>\n",
    "\n",
    "<hr />\n",
    "<img alt=\"\" src=\"images/meme-cartoon/meme tensors flow node to node.jpeg\" style=\"height: 400px;\"/>"
   ]
  }
 ],
 "metadata": {
  "celltoolbar": "Slideshow",
  "kernelspec": {
   "display_name": "Python 3 (ipykernel)",
   "language": "python",
   "name": "python3"
  },
  "language_info": {
   "codemirror_mode": {
    "name": "ipython",
    "version": 3
   },
   "file_extension": ".py",
   "mimetype": "text/x-python",
   "name": "python",
   "nbconvert_exporter": "python",
   "pygments_lexer": "ipython3",
   "version": "3.9.11"
  },
  "latex_envs": {
   "LaTeX_envs_menu_present": true,
   "autoclose": false,
   "autocomplete": true,
   "bibliofile": "biblio.bib",
   "cite_by": "apalike",
   "current_citInitial": 1,
   "eqLabelWithNumbers": true,
   "eqNumInitial": 1,
   "hotkeys": {
    "equation": "Ctrl-E",
    "itemize": "Ctrl-I"
   },
   "labels_anchors": false,
   "latex_user_defs": false,
   "report_style_numbering": false,
   "user_envs_cfg": false
  }
 },
 "nbformat": 4,
 "nbformat_minor": 4
}
