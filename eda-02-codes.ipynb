{
 "cells": [
  {
   "cell_type": "markdown",
   "metadata": {
    "slideshow": {
     "slide_type": "slide"
    }
   },
   "source": [
    "<center><h1><strong>tau-data Indonesia</strong></h1></center>\n",
    "<center><h2><strong><font color=\"blue\">Exploratory Data Analysis-02: Data Visualizations</font></strong></h2></center>\n",
    "<img alt=\"\" src=\"images/Cover.jpg\"/>\n",
    "\n",
    "<b><center>(C) Taufik Sutanto</center>\n",
    "<center><h3><font color=\"blue\">https://tau-data.id/eda-02/ ~ taufik@tau-data.id </font></h3></center>"
   ]
  },
  {
   "cell_type": "code",
   "execution_count": null,
   "metadata": {
    "ExecuteTime": {
     "end_time": "2019-09-30T01:01:49.141679Z",
     "start_time": "2019-09-30T01:01:44.041912Z"
    },
    "scrolled": true,
    "slideshow": {
     "slide_type": "slide"
    }
   },
   "outputs": [],
   "source": [
    "import warnings; warnings.simplefilter('ignore')\n",
    "import pandas as pd, matplotlib.pyplot as plt, seaborn as sns, numpy as np\n",
    "import matplotlib.cm as cm\n",
    "from collections import Counter\n",
    "plt.style.use('bmh'); sns.set()"
   ]
  },
  {
   "cell_type": "code",
   "execution_count": null,
   "metadata": {
    "ExecuteTime": {
     "end_time": "2019-09-30T01:08:32.120040Z",
     "start_time": "2019-09-30T01:08:32.110066Z"
    },
    "scrolled": true,
    "slideshow": {
     "slide_type": "slide"
    }
   },
   "outputs": [],
   "source": [
    "# Importing CSV data  https://pandas.pydata.org/pandas-docs/stable/reference/api/pandas.read_csv.html\n",
    "try:\n",
    "    # Running Locally \n",
    "    price = pd.read_csv('data/price.csv')\n",
    "except:\n",
    "    # Running in Google Colab\n",
    "    !mkdir data\n",
    "    !wget -P data/ https://raw.githubusercontent.com/taudata-indonesia/eLearning/master/data/price.csv\n",
    "    price = pd.read_csv('data/price.csv')"
   ]
  },
  {
   "cell_type": "code",
   "execution_count": null,
   "metadata": {
    "ExecuteTime": {
     "end_time": "2019-09-30T01:09:54.493202Z",
     "start_time": "2019-09-30T01:09:54.484458Z"
    },
    "scrolled": true,
    "slideshow": {
     "slide_type": "slide"
    }
   },
   "outputs": [],
   "source": [
    "# Dari EDA-01 - Bisa juga Load PreProcessed Data\n",
    "price.drop(\"Observation\", axis=1, inplace=True)\n",
    "price.drop_duplicates(inplace=True)\n",
    "price['Parking'] = price['Parking'].astype('category')\n",
    "price['City_Category'] = price['City_Category'].astype('category')\n",
    "price2 = price[np.abs(price.House_Price - price.House_Price.mean())<=(2*price.House_Price.std())]\n",
    "price2.info()"
   ]
  },
  {
   "cell_type": "markdown",
   "metadata": {
    "slideshow": {
     "slide_type": "slide"
    }
   },
   "source": [
    "# Statistika Deskriptif"
   ]
  },
  {
   "cell_type": "code",
   "execution_count": null,
   "metadata": {
    "ExecuteTime": {
     "end_time": "2019-09-30T01:10:41.657165Z",
     "start_time": "2019-09-30T01:10:41.616276Z"
    },
    "scrolled": true,
    "slideshow": {
     "slide_type": "slide"
    }
   },
   "outputs": [],
   "source": [
    "# Statistika Sederhana dari data \"Numerik\"-nya\n",
    "price2.describe(include='all').transpose()"
   ]
  },
  {
   "cell_type": "markdown",
   "metadata": {},
   "source": [
    "## Apakah ada kecenderungan perbedaan harga rumah akibat dari tipe tempat parkir?"
   ]
  },
  {
   "cell_type": "code",
   "execution_count": null,
   "metadata": {
    "ExecuteTime": {
     "end_time": "2019-09-30T01:01:50.484583Z",
     "start_time": "2019-09-30T01:01:50.098828Z"
    },
    "scrolled": true
   },
   "outputs": [],
   "source": [
    "p= sns.catplot(x=\"Parking\", y=\"House_Price\", data=price2)\n",
    "# Apa yang bisa dilihat dari hasil ini?"
   ]
  },
  {
   "cell_type": "markdown",
   "metadata": {
    "slideshow": {
     "slide_type": "slide"
    }
   },
   "source": [
    "# Tambah dimensi di Visualisasi untuk melihat insight yang lebih jelas/baik "
   ]
  },
  {
   "cell_type": "code",
   "execution_count": null,
   "metadata": {
    "ExecuteTime": {
     "end_time": "2019-09-30T01:01:53.025889Z",
     "start_time": "2019-09-30T01:01:52.038530Z"
    },
    "scrolled": true,
    "slideshow": {
     "slide_type": "fragment"
    }
   },
   "outputs": [],
   "source": [
    "# Bisa juga plot dengan informasi dari 3 variabel sekaligus\n",
    "# (untuk melihat kemungkinan faktor interaksi)\n",
    "p= sns.catplot(x=\"Parking\", y=\"House_Price\", hue=\"City_Category\", kind=\"swarm\", data=price2)"
   ]
  },
  {
   "cell_type": "markdown",
   "metadata": {
    "slideshow": {
     "slide_type": "fragment"
    }
   },
   "source": [
    "# Ada informasi apakah dari hasil diatas?"
   ]
  },
  {
   "cell_type": "code",
   "execution_count": null,
   "metadata": {
    "ExecuteTime": {
     "end_time": "2019-09-30T01:01:49.840255Z",
     "start_time": "2019-09-30T01:01:49.557540Z"
    },
    "scrolled": true,
    "slideshow": {
     "slide_type": "slide"
    }
   },
   "outputs": [],
   "source": [
    "plt.figure(figsize=(8,6)) # https://matplotlib.org/api/_as_gen/matplotlib.pyplot.figure.html#matplotlib.pyplot.figure\n",
    "p = sns.countplot(x=\"Parking\", data=price2)"
   ]
  },
  {
   "cell_type": "markdown",
   "metadata": {
    "slideshow": {
     "slide_type": "slide"
    }
   },
   "source": [
    "# Adding labels? ... Hhhmmm..."
   ]
  },
  {
   "cell_type": "code",
   "execution_count": null,
   "metadata": {
    "ExecuteTime": {
     "end_time": "2019-10-04T01:44:49.830442Z",
     "start_time": "2019-10-04T01:44:49.820166Z"
    },
    "scrolled": true,
    "slideshow": {
     "slide_type": "fragment"
    }
   },
   "outputs": [],
   "source": [
    "def groupedbarplot(df, width=0.8, annotate=\"values\", ax=None, **kw):\n",
    "    ax = ax or plt.gca()\n",
    "    n = len(df.columns)\n",
    "    w = 1./n\n",
    "    pos = (np.linspace(w/2., 1-w/2., n)-0.5)*width\n",
    "    w *= width\n",
    "    bars = []\n",
    "    for col, x in zip(df.columns, pos):\n",
    "        bars.append(ax.bar(np.arange(len(df))+x, df[col].values, width=w, **kw))\n",
    "        # matplotlib.pyplot.bar(x, height, width=0.8, bottom=None, *, align='center', data=None, **kwargs)\n",
    "        for val, xi in zip(df[col].values, np.arange(len(df))+x):\n",
    "            if annotate:\n",
    "                txt = val if annotate == \"values\" else col\n",
    "                ax.annotate(txt, xy=(xi, val), xytext=(0,2), \n",
    "                            textcoords=\"offset points\",\n",
    "                            ha=\"center\", va=\"bottom\")\n",
    "    ax.set_xticks(np.arange(len(df)))\n",
    "    ax.set_xticklabels(df.index)\n",
    "    return bars"
   ]
  },
  {
   "cell_type": "code",
   "execution_count": null,
   "metadata": {
    "ExecuteTime": {
     "end_time": "2019-10-04T01:47:54.957266Z",
     "start_time": "2019-10-04T01:47:54.649531Z"
    },
    "scrolled": true,
    "slideshow": {
     "slide_type": "slide"
    }
   },
   "outputs": [],
   "source": [
    "counts = price2.groupby([\"Parking\", \"City_Category\"]).size().unstack()\n",
    "plt.figure(figsize=(12,8))\n",
    "groupedbarplot(counts)\n",
    "plt.show()"
   ]
  },
  {
   "cell_type": "code",
   "execution_count": null,
   "metadata": {
    "ExecuteTime": {
     "end_time": "2019-10-04T01:49:38.340686Z",
     "start_time": "2019-10-04T01:49:38.324336Z"
    },
    "scrolled": true,
    "slideshow": {
     "slide_type": "slide"
    }
   },
   "outputs": [],
   "source": [
    "price2.groupby([\"Parking\", \"City_Category\"]).size().unstack()"
   ]
  },
  {
   "cell_type": "markdown",
   "metadata": {
    "slideshow": {
     "slide_type": "slide"
    }
   },
   "source": [
    "# Horizontal? Why?"
   ]
  },
  {
   "cell_type": "code",
   "execution_count": null,
   "metadata": {
    "ExecuteTime": {
     "end_time": "2019-10-04T01:54:10.005884Z",
     "start_time": "2019-10-04T01:54:09.808226Z"
    },
    "scrolled": true,
    "slideshow": {
     "slide_type": "fragment"
    }
   },
   "outputs": [],
   "source": [
    "ax = sns.countplot(y = 'Parking', hue = 'City_Category', palette = 'muted', data=price2)"
   ]
  },
  {
   "cell_type": "code",
   "execution_count": null,
   "metadata": {
    "scrolled": true,
    "slideshow": {
     "slide_type": "slide"
    }
   },
   "outputs": [],
   "source": [
    "tips=sns.load_dataset('tips')\n",
    "categorical = tips.select_dtypes(include = ['category']).columns\n",
    "fig, ax = plt.subplots(2, 2, figsize=(20, 10))\n",
    "for variable, subplot in zip(categorical, ax.flatten()):\n",
    "    sns.countplot(tips[variable], ax=subplot)"
   ]
  },
  {
   "cell_type": "markdown",
   "metadata": {
    "slideshow": {
     "slide_type": "slide"
    }
   },
   "source": [
    "# Stacked/Segmented Chart"
   ]
  },
  {
   "cell_type": "code",
   "execution_count": null,
   "metadata": {
    "ExecuteTime": {
     "end_time": "2019-10-03T21:06:45.238692Z",
     "start_time": "2019-10-03T21:06:45.038359Z"
    },
    "scrolled": true,
    "slideshow": {
     "slide_type": "fragment"
    }
   },
   "outputs": [],
   "source": [
    "CT = pd.crosstab(index=price2[\"City_Category\"], columns=price2[\"Parking\"])\n",
    "p = CT.plot(kind=\"bar\", figsize=(8,8), stacked=True)"
   ]
  },
  {
   "cell_type": "code",
   "execution_count": null,
   "metadata": {
    "ExecuteTime": {
     "end_time": "2019-09-30T01:01:49.914253Z",
     "start_time": "2019-09-30T01:01:49.841841Z"
    },
    "scrolled": true,
    "slideshow": {
     "slide_type": "slide"
    }
   },
   "outputs": [],
   "source": [
    "# ini dilakukan jika kita ingin menyimpan plotnya ke dalam suatu file\n",
    "p.figure.savefig('barChart.png')\n",
    "# lihat di folder ipynb-nya akan muncul file baru."
   ]
  },
  {
   "cell_type": "markdown",
   "metadata": {
    "slideshow": {
     "slide_type": "slide"
    }
   },
   "source": [
    "# Mosaic Plot for multiple categorical data analysis"
   ]
  },
  {
   "cell_type": "code",
   "execution_count": null,
   "metadata": {
    "ExecuteTime": {
     "end_time": "2019-10-04T02:15:06.890000Z",
     "start_time": "2019-10-04T02:15:06.528822Z"
    },
    "scrolled": false,
    "slideshow": {
     "slide_type": "fragment"
    }
   },
   "outputs": [],
   "source": [
    "from statsmodels.graphics.mosaicplot import mosaic\n",
    "\n",
    "p = mosaic(tips, ['sex','smoker','time'])"
   ]
  },
  {
   "cell_type": "code",
   "execution_count": null,
   "metadata": {
    "ExecuteTime": {
     "end_time": "2019-09-30T01:01:50.095770Z",
     "start_time": "2019-09-30T01:01:49.918243Z"
    },
    "scrolled": true,
    "slideshow": {
     "slide_type": "slide"
    }
   },
   "outputs": [],
   "source": [
    "# PieChart\n",
    "plot = price2.City_Category.value_counts().plot(kind='pie')"
   ]
  },
  {
   "cell_type": "markdown",
   "metadata": {
    "slideshow": {
     "slide_type": "slide"
    }
   },
   "source": [
    "# Show Values?"
   ]
  },
  {
   "cell_type": "code",
   "execution_count": null,
   "metadata": {
    "ExecuteTime": {
     "end_time": "2019-10-04T02:18:13.733951Z",
     "start_time": "2019-10-04T02:18:13.644644Z"
    },
    "scrolled": true,
    "slideshow": {
     "slide_type": "fragment"
    }
   },
   "outputs": [],
   "source": [
    "data = price2['Parking']\n",
    "\n",
    "proporsion = Counter(data)\n",
    "values = [float(v) for v in proporsion.values()]\n",
    "colors = ['r', 'g', 'b', 'y']\n",
    "labels = proporsion.keys()\n",
    "explode = (0.2, 0, 0, 0)\n",
    "plt.pie(values, colors=colors, labels= values, explode=explode, shadow=True)\n",
    "plt.title('Proporsi Tipe Parkir')\n",
    "plt.legend(labels,loc='best')\n",
    "plt.show()"
   ]
  },
  {
   "cell_type": "code",
   "execution_count": null,
   "metadata": {
    "ExecuteTime": {
     "end_time": "2019-09-30T01:02:15.333037Z",
     "start_time": "2019-09-30T01:02:14.981977Z"
    },
    "scrolled": true,
    "slideshow": {
     "slide_type": "slide"
    }
   },
   "outputs": [],
   "source": [
    "# Jika ada outlier grafiknya menjadi tidak jelas (data = price, bukan price2)\n",
    "p = sns.boxplot(x=\"House_Price\", y=\"Parking\", data=price)"
   ]
  },
  {
   "cell_type": "code",
   "execution_count": null,
   "metadata": {
    "ExecuteTime": {
     "end_time": "2019-09-30T01:02:14.978985Z",
     "start_time": "2019-09-30T01:02:14.622937Z"
    },
    "scrolled": true,
    "slideshow": {
     "slide_type": "slide"
    }
   },
   "outputs": [],
   "source": [
    "# BoxPlots\n",
    "p = sns.boxplot(x=\"House_Price\", y=\"Parking\", data=price2)\n",
    "# Apa makna pola yang terlihat di data oleh BoxPlot ini?"
   ]
  },
  {
   "cell_type": "markdown",
   "metadata": {
    "slideshow": {
     "slide_type": "slide"
    }
   },
   "source": [
    "# Boxplot dapat juga dipisahkan berdasarkan suatu kategori"
   ]
  },
  {
   "cell_type": "code",
   "execution_count": null,
   "metadata": {
    "ExecuteTime": {
     "end_time": "2019-09-30T01:02:16.002248Z",
     "start_time": "2019-09-30T01:02:15.337026Z"
    },
    "scrolled": true,
    "slideshow": {
     "slide_type": "fragment"
    }
   },
   "outputs": [],
   "source": [
    "p = sns.catplot(x=\"Parking\", y=\"House_Price\", hue=\"City_Category\", kind=\"box\", data=price2)"
   ]
  },
  {
   "cell_type": "markdown",
   "metadata": {
    "slideshow": {
     "slide_type": "fragment"
    }
   },
   "source": [
    "* Ada dugaan/interpretasi (baru) apakah dari boxPlot diatas?\n",
    "* Sebutkan beberapa kelemahan (PitFalls) Box Plot?"
   ]
  },
  {
   "cell_type": "markdown",
   "metadata": {
    "slideshow": {
     "slide_type": "slide"
    }
   },
   "source": [
    "# Swarn Plot & Violin Plot"
   ]
  },
  {
   "cell_type": "code",
   "execution_count": null,
   "metadata": {
    "ExecuteTime": {
     "end_time": "2019-10-04T02:12:06.032044Z",
     "start_time": "2019-10-04T02:12:05.579796Z"
    },
    "scrolled": true,
    "slideshow": {
     "slide_type": "fragment"
    }
   },
   "outputs": [],
   "source": [
    "p= sns.catplot(x=\"day\", y=\"total_bill\", hue=\"sex\", kind=\"swarm\", data=tips)"
   ]
  },
  {
   "cell_type": "code",
   "execution_count": null,
   "metadata": {
    "ExecuteTime": {
     "end_time": "2019-10-03T21:13:17.713455Z",
     "start_time": "2019-10-03T21:13:17.562854Z"
    },
    "scrolled": true,
    "slideshow": {
     "slide_type": "slide"
    }
   },
   "outputs": [],
   "source": [
    "p = sns.violinplot(x=\"day\", y=\"total_bill\", data=tips,palette='rainbow')"
   ]
  },
  {
   "cell_type": "code",
   "execution_count": null,
   "metadata": {
    "scrolled": true,
    "slideshow": {
     "slide_type": "slide"
    }
   },
   "outputs": [],
   "source": [
    "col = 'House_Price'\n",
    "plot = sns.displot(data=price2, x=col, kde=True)"
   ]
  },
  {
   "cell_type": "code",
   "execution_count": null,
   "metadata": {
    "scrolled": true,
    "slideshow": {
     "slide_type": "slide"
    }
   },
   "outputs": [],
   "source": [
    "plot = sns.displot(data=price2, x=col, hue='Parking', kind=\"kde\")"
   ]
  },
  {
   "cell_type": "code",
   "execution_count": null,
   "metadata": {
    "scrolled": true,
    "slideshow": {
     "slide_type": "slide"
    }
   },
   "outputs": [],
   "source": [
    "numerical = price2.select_dtypes(include = ['int64','float64']).columns\n",
    "\n",
    "price2[numerical].hist(figsize=(15, 6), layout=(2, 4));"
   ]
  },
  {
   "cell_type": "code",
   "execution_count": null,
   "metadata": {
    "scrolled": true,
    "slideshow": {
     "slide_type": "slide"
    }
   },
   "outputs": [],
   "source": [
    "p = sns.scatterplot(x=price2['House_Price'], y=price2['Dist_Market'], hue = price2['Parking'])"
   ]
  },
  {
   "cell_type": "markdown",
   "metadata": {
    "slideshow": {
     "slide_type": "slide"
    }
   },
   "source": [
    "# Joined"
   ]
  },
  {
   "cell_type": "code",
   "execution_count": null,
   "metadata": {
    "scrolled": true,
    "slideshow": {
     "slide_type": "fragment"
    }
   },
   "outputs": [],
   "source": [
    "p = sns.jointplot(x=price2['House_Price'], y=price2['Rainfall'])"
   ]
  },
  {
   "cell_type": "markdown",
   "metadata": {
    "slideshow": {
     "slide_type": "slide"
    }
   },
   "source": [
    "# Conditional Plot"
   ]
  },
  {
   "cell_type": "code",
   "execution_count": null,
   "metadata": {
    "scrolled": true,
    "slideshow": {
     "slide_type": "fragment"
    }
   },
   "outputs": [],
   "source": [
    "cond_plot = sns.FacetGrid(data=price2, col='Parking', hue='City_Category')#, hue_order=[\"Yes\", \"No\"]\n",
    "p = cond_plot.map(sns.scatterplot, 'Dist_Hospital', 'House_Price').add_legend()"
   ]
  },
  {
   "cell_type": "markdown",
   "metadata": {
    "slideshow": {
     "slide_type": "slide"
    }
   },
   "source": [
    "# Pairwise Plot"
   ]
  },
  {
   "cell_type": "code",
   "execution_count": null,
   "metadata": {
    "scrolled": true,
    "slideshow": {
     "slide_type": "fragment"
    }
   },
   "outputs": [],
   "source": [
    "# Coba kita perhatikan sebagiannya saja dulu dan coba kelompokkan berdasarkan \"Parking\"\n",
    "p = sns.pairplot(price2[['House_Price','Builtup','Dist_Hospital','Parking']], hue=\"Parking\")\n",
    "# Ada pola menarik?"
   ]
  },
  {
   "cell_type": "markdown",
   "metadata": {
    "slideshow": {
     "slide_type": "slide"
    }
   },
   "source": [
    "# 3D Visualization: 3D Scatter Plot\n",
    "\n",
    "https://pythonprogramming.net/matplotlib-3d-scatterplot-tutorial/"
   ]
  },
  {
   "cell_type": "code",
   "execution_count": null,
   "metadata": {
    "scrolled": true,
    "slideshow": {
     "slide_type": "fragment"
    }
   },
   "outputs": [],
   "source": [
    "%matplotlib inline\n",
    "\n",
    "fig = plt.figure(figsize=(12, 10))\n",
    "ax = fig.add_subplot(111, projection='3d')\n",
    "x = price2['House_Price']\n",
    "y = price2['Dist_Hospital']\n",
    "z = price2['Rainfall']\n",
    "warna = cm.rainbow(np.linspace(0, 1, len(y)))\n",
    "\n",
    "ax.scatter(x, y, z, s=50, c=warna, marker='o')\n",
    "ax.set_xlabel('Harga')\n",
    "ax.set_ylabel('Jarak ke RS')\n",
    "ax.set_zlabel('Curah Hujan')\n",
    "plt.show()"
   ]
  },
  {
   "cell_type": "code",
   "execution_count": null,
   "metadata": {
    "scrolled": true,
    "slideshow": {
     "slide_type": "slide"
    }
   },
   "outputs": [],
   "source": [
    "%matplotlib inline\n",
    "fig = plt.figure(figsize=(12, 10))\n",
    "ax = fig.add_subplot(111, projection='3d')\n",
    "x = price2['House_Price']\n",
    "y = price2['Dist_Hospital']\n",
    "z = price2['Rainfall']\n",
    "warna = cm.rainbow(np.linspace(0, 1, len(y)))\n",
    "\n",
    "ax.scatter(x, y, z, s=50, c=warna, marker='o')\n",
    "ax.set_xlabel('Harga')\n",
    "ax.set_ylabel('Jarak ke RS')\n",
    "ax.set_zlabel('Curah Hujan')\n",
    "plt.show()"
   ]
  },
  {
   "cell_type": "markdown",
   "metadata": {
    "slideshow": {
     "slide_type": "slide"
    }
   },
   "source": [
    "# 3D Visualization:  3D Bar Plots\n",
    "\n",
    "Bar plots are used quite frequently in data visualisation projects since they’re able to convey information, usually some type of comparison, in a simple and intuitive way. The beauty of 3D bar plots is that they maintain the simplicity of 2D bar plots while extending their capacity to represent comparative information.\n",
    "\n",
    "https://towardsdatascience.com/an-easy-introduction-to-3d-plotting-with-matplotlib-801561999725"
   ]
  },
  {
   "cell_type": "code",
   "execution_count": null,
   "metadata": {
    "scrolled": true,
    "slideshow": {
     "slide_type": "fragment"
    }
   },
   "outputs": [],
   "source": [
    "import random\n",
    "\n",
    "fig = plt.figure(figsize=(12, 10))\n",
    "ax = plt.axes(projection=\"3d\")\n",
    "\n",
    "num_bars = 15\n",
    "x_pos = random.sample(range(20), num_bars)\n",
    "y_pos = random.sample(range(20), num_bars)\n",
    "z_pos = [0] * num_bars\n",
    "\n",
    "x_size = np.ones(num_bars)\n",
    "y_size = np.ones(num_bars)\n",
    "z_size = random.sample(range(20), num_bars)\n",
    "\n",
    "ax.bar3d(x_pos, y_pos, z_pos, x_size, y_size, z_size, color='aqua')\n",
    "plt.show()"
   ]
  },
  {
   "cell_type": "markdown",
   "metadata": {
    "slideshow": {
     "slide_type": "slide"
    }
   },
   "source": [
    "# Checking Correlations"
   ]
  },
  {
   "cell_type": "code",
   "execution_count": null,
   "metadata": {
    "ExecuteTime": {
     "end_time": "2019-09-30T01:02:16.029174Z",
     "start_time": "2019-09-30T01:02:16.005239Z"
    },
    "scrolled": false,
    "slideshow": {
     "slide_type": "fragment"
    }
   },
   "outputs": [],
   "source": [
    "price2.corr()"
   ]
  },
  {
   "cell_type": "code",
   "execution_count": null,
   "metadata": {
    "ExecuteTime": {
     "end_time": "2019-09-30T01:02:16.555765Z",
     "start_time": "2019-09-30T01:02:16.035160Z"
    },
    "scrolled": true,
    "slideshow": {
     "slide_type": "slide"
    }
   },
   "outputs": [],
   "source": [
    "# HeatMap untuk menyelidiki korelasi\n",
    "corr2 = price2.corr() # We already examined SalePrice correlations\n",
    "plt.figure(figsize=(12, 10))\n",
    "sns.heatmap(corr2[(corr2 >= 0.5) | (corr2 <= -0.4)], \n",
    "            cmap='viridis', vmax=1.0, vmin=-1.0, linewidths=0.1,\n",
    "            annot=True, annot_kws={\"size\": 14}, square=True);"
   ]
  },
  {
   "cell_type": "code",
   "execution_count": null,
   "metadata": {
    "scrolled": true,
    "slideshow": {
     "slide_type": "slide"
    }
   },
   "outputs": [],
   "source": [
    "iris = sns.load_dataset(\"iris\")\n",
    "g = sns.pairplot(iris, hue=\"species\")"
   ]
  },
  {
   "cell_type": "code",
   "execution_count": null,
   "metadata": {
    "scrolled": true,
    "slideshow": {
     "slide_type": "slide"
    }
   },
   "outputs": [],
   "source": [
    "pd.plotting.parallel_coordinates(iris, 'species', color=('r', 'g', 'b'))\n",
    "plt.show()"
   ]
  },
  {
   "cell_type": "markdown",
   "metadata": {
    "slideshow": {
     "slide_type": "slide"
    }
   },
   "source": [
    "# Time Series Plot"
   ]
  },
  {
   "cell_type": "code",
   "execution_count": null,
   "metadata": {
    "scrolled": true,
    "slideshow": {
     "slide_type": "fragment"
    }
   },
   "outputs": [],
   "source": [
    "# Load an example dataset with long-form data\n",
    "fmri = sns.load_dataset(\"fmri\")\n",
    "fmri.sample(10)"
   ]
  },
  {
   "cell_type": "code",
   "execution_count": null,
   "metadata": {
    "scrolled": true,
    "slideshow": {
     "slide_type": "slide"
    }
   },
   "outputs": [],
   "source": [
    "# Plot the responses for different events and regions\n",
    "plot = sns.lineplot(x=\"timepoint\", y=\"signal\", data=fmri)"
   ]
  },
  {
   "cell_type": "code",
   "execution_count": null,
   "metadata": {
    "scrolled": true,
    "slideshow": {
     "slide_type": "slide"
    }
   },
   "outputs": [],
   "source": [
    "plot = sns.lineplot(x=\"timepoint\", y=\"signal\", hue=\"region\", style=\"event\", data=fmri)"
   ]
  },
  {
   "cell_type": "markdown",
   "metadata": {
    "slideshow": {
     "slide_type": "slide"
    }
   },
   "source": [
    "# Spatial Visualization"
   ]
  },
  {
   "cell_type": "code",
   "execution_count": null,
   "metadata": {
    "scrolled": true,
    "slideshow": {
     "slide_type": "fragment"
    }
   },
   "outputs": [],
   "source": [
    "def generateBaseMap(default_location=[-0.789275, 113.921], default_zoom_start=5):\n",
    "    base_map = folium.Map(location=default_location, control_scale=True, zoom_start=default_zoom_start)\n",
    "    return base_map"
   ]
  },
  {
   "cell_type": "code",
   "execution_count": null,
   "metadata": {
    "scrolled": true,
    "slideshow": {
     "slide_type": "fragment"
    }
   },
   "outputs": [],
   "source": [
    "# Load Data\n",
    "try:\n",
    "    # Running Locally, yakinkan module folium sudah terinstall\n",
    "    df_loc = pd.read_csv('data/df_loc.csv')\n",
    "except:\n",
    "    # Running in Google Colab, yakinkan folder \"data\" sudah ada\n",
    "    !wget -P data/ https://raw.githubusercontent.com/taudata-indonesia/eLearning/master/data/df_loc.csv\n",
    "    df_loc = pd.read_csv('data/df_loc.csv')\n",
    "    !pip install folium"
   ]
  },
  {
   "cell_type": "code",
   "execution_count": null,
   "metadata": {
    "scrolled": true,
    "slideshow": {
     "slide_type": "slide"
    }
   },
   "outputs": [],
   "source": [
    "df_loc.head()"
   ]
  },
  {
   "cell_type": "code",
   "execution_count": null,
   "metadata": {
    "scrolled": false,
    "slideshow": {
     "slide_type": "slide"
    }
   },
   "outputs": [],
   "source": [
    "import folium\n",
    "from folium.plugins import HeatMap\n",
    "\n",
    "base_map = generateBaseMap()\n",
    "HeatMap(data=df_loc[['lat', 'lon', 'count']].groupby(['lat', 'lon']).sum().reset_index().values.tolist(), radius=8, max_zoom=13).add_to(base_map)\n",
    "base_map"
   ]
  },
  {
   "cell_type": "markdown",
   "metadata": {
    "slideshow": {
     "slide_type": "slide"
    }
   },
   "source": [
    "# Latihan Studi Kasus: Data Tips Restaurant\n",
    "\n",
    "Sebuah dataset dari suatu Restaurant memuat variabel-variabel berikut:\n",
    "*\ttotal_bill: Total bill (cost of the meal), including tax, in US dollars\n",
    "*\ttip: Tip (gratuity) in US dollars\n",
    "*\tsex: Sex of person paying for the meal (0=male, 1=female)\n",
    "*\tsmoker: Smoker in party? (0=No, 1=Yes)\n",
    "*\tday: 3=Thur, 4=Fri, 5=Sat, 6=Sun\n",
    "*\ttime: 0=Day, 1=Night\n",
    "*\tsize: Size of the party\n",
    "\n",
    "https://www.kaggle.com/ranjeetjain3/seaborn-tips-dataset"
   ]
  },
  {
   "cell_type": "code",
   "execution_count": null,
   "metadata": {
    "ExecuteTime": {
     "end_time": "2019-09-30T01:58:31.098929Z",
     "start_time": "2019-09-30T01:58:31.086992Z"
    },
    "scrolled": true,
    "slideshow": {
     "slide_type": "slide"
    }
   },
   "outputs": [],
   "source": [
    "# Loading Contoh Data studi kasus pertama di atas\n",
    "tips = sns.load_dataset('tips') # Loading dari SeaBorn library's dataset\n",
    "# Ukuran Data\n",
    "N, P = tips.shape\n",
    "print('baris = ', N, ', Kolom = ', P)\n",
    "\n",
    "tips.head()"
   ]
  },
  {
   "cell_type": "markdown",
   "metadata": {
    "slideshow": {
     "slide_type": "slide"
    }
   },
   "source": [
    "# Latihan:\n",
    "\n",
    "## Silahkan Latihan untuk menjawab pertanyaan-pertanyaan berikut:\n",
    "\n",
    "1. Adakah tipe variabel yang kurang tepat di data tersebut?\n",
    "2. Apakah data numeriknya cenderung berdistribusi normal?\n",
    "3. Apakah ada outlier, noise, missing values, dan-atau duplikasi data?\n",
    "4. Apakah pelanggan pria dan wanita cenderung proporsional (balance)?\n",
    "5. Dari data yang ada apakah Pria atau wanita ada kecenderungan memberi tips lebih besar?\n",
    "6. Dari data yang ada apakah ada kecenderungan tips lebih besar di hari-hari tertentu?\n",
    "7. Dari data yang ada apakah customer perokok cenderung memberi tips lebih besar?\n",
    "8. Apakah pola di nomer 5 dan 7 dipengaruhi hari?\n",
    "9. Pola apalagi yang dapat anda temukan? (misal, bisakah anda menyarankan tata letak kursi/meja restaurant dari data ini?)\n",
    "9. Final question: dari hasil EDA anda saran apa saja yang akan anda berikan ke pemilik restaurant? \n",
    "\n",
    "* Skills/kompetensi apa yang terasa sangat diperlukan dari latihan ini?"
   ]
  },
  {
   "cell_type": "markdown",
   "metadata": {
    "slideshow": {
     "slide_type": "slide"
    }
   },
   "source": [
    "# End of Module\n",
    "<hr>"
   ]
  }
 ],
 "metadata": {
  "celltoolbar": "Slideshow",
  "kernelspec": {
   "display_name": "Python 3 (ipykernel)",
   "language": "python",
   "name": "python3"
  },
  "language_info": {
   "codemirror_mode": {
    "name": "ipython",
    "version": 3
   },
   "file_extension": ".py",
   "mimetype": "text/x-python",
   "name": "python",
   "nbconvert_exporter": "python",
   "pygments_lexer": "ipython3",
   "version": "3.9.13"
  },
  "latex_envs": {
   "LaTeX_envs_menu_present": true,
   "autoclose": false,
   "autocomplete": true,
   "bibliofile": "biblio.bib",
   "cite_by": "apalike",
   "current_citInitial": 1,
   "eqLabelWithNumbers": true,
   "eqNumInitial": 1,
   "hotkeys": {
    "equation": "Ctrl-E",
    "itemize": "Ctrl-I"
   },
   "labels_anchors": false,
   "latex_user_defs": false,
   "report_style_numbering": false,
   "user_envs_cfg": false
  },
  "vp": {
   "vp_config_version": "1.0.0",
   "vp_menu_width": 273,
   "vp_note_display": false,
   "vp_note_width": 0,
   "vp_position": {
    "width": 278
   },
   "vp_section_display": false,
   "vp_signature": "VisualPython"
  }
 },
 "nbformat": 4,
 "nbformat_minor": 2
}
