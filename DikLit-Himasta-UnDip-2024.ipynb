{
 "cells": [
  {
   "cell_type": "markdown",
   "id": "7ac49985",
   "metadata": {},
   "source": [
    "# <center><font color=\"red\">https://s.id/himasta-undip-2024</font></center>\n",
    "\n",
    "<center><img alt=\"\" src=\"images/covers/cover-undip-2024.jpg\"/></center> \n",
    "\n",
    "## <center><font color=\"blue\">taudata Analytics™</font><br>(C) Taufik Sutanto - 2024<br>https://taudata-analytics.com</center>"
   ]
  },
  {
   "cell_type": "markdown",
   "id": "1851cbe7",
   "metadata": {},
   "source": [
    "# <center><font color=\"blue\">Asumsi Seminar Lomba</font></center>\n",
    "\n",
    "### <font color=\"blue\">**Tantangan**</font>: \n",
    "\n",
    " - Peserta dengan berbagai latar belakang pengetahuan\n",
    " - Hanya 85 menit (35 menit diskusi)\n",
    " \n",
    "### <font color=\"blue\">**Strategi**</font>:\n",
    " - Fokus ke **Aplikasi** terutama kepentingan lomba BDC - Satria Data. ==> Artinya kita akan melakukan beberapa hal yang secara teori kurang tepat.\n",
    " - Fokus **tips & trik** mendapatkan akurasi tinggi di suatu kompetisi (baik data teks, image, atau bahkan suara)\n",
    " - **Code, Module, & Data** diberikan via GitHub dan dapat langsung dijalankan langsung di Google Colab\n",
    " - Peserta harus FOKUS ... :)\n",
    "\n",
    "<center><img src=\"images/posters/poster-undip-2024.jpg\" width=\"200\" /></center>\n",
    "\n",
    "><font color=\"green\">\"*Minimum requirements & Maximum adjustments are two steps for Happy & Successful Life*\" ~ Maulik Jadav</font>"
   ]
  },
  {
   "cell_type": "markdown",
   "id": "b147ee23",
   "metadata": {},
   "source": [
    "# <center><font color=\"blue\">Outline Seminar/Workshop</font></center>\n",
    "\n",
    "* Pendahuluan Deteksi Bot: definisi, signifikansi, & metode\n",
    "* Tantangan Deteksi Bot\n",
    "* Loading & Preprocessing Data\n",
    "* Representasi Data\n",
    "* beberapa Model Dasar & pemilihan model\n",
    "* (Cross) validasi & mengapa berbeda dengan penelitian pada umumnya?\n",
    "* Pipeline: Optimasi {representasi dokumen, model} - kunci penting keberhasilan lomba\n",
    "* Penutup & Diskusi:\n",
    "  - Data Tidak Terstruktur + Terstruktur + Feature Engineering\n",
    "  - Preprocessing yang berbeda ==> pipeline\n",
    "  - Error Analysis & Augmentasi Data - kunci utama keberhasilan lomba\n",
    "  - Pitfalls yang harus dihindari\n",
    "\n",
    "<center><img src=\"images/bot-detection-steps.png\" width=\"400\"/></center>\n",
    "\n",
    "><font color=\"green\">\"*I always have a basic plot outline, but I like to leave some things to be decided while I write*.\" ~ J. K. Rowling</font>"
   ]
  },
  {
   "cell_type": "markdown",
   "id": "f2a3eea9",
   "metadata": {},
   "source": [
    "# <center><font color=\"blue\">Bot? Spam? Cyber Army/Buzzer?</font></center>\n",
    "\n",
    "1. **Bot**: Program komputer yang secara otomatis melakukan tugas tertentu di media sosial, seperti posting atau memberikan respons, seringkali tanpa intervensi manusia.\n",
    "2. **Spam**: Pesan yang tidak diinginkan yang seringkali dikirim secara massal, biasanya berisi promosi atau tautan yang tidak relevan, dapat mengganggu pengalaman pengguna media sosial.\n",
    "3. **Buzzer/cyber Army**: Seseorang yang dibayar atau memperoleh keuntungan untuk mempromosikan atau membahas suatu produk, layanan, atau topik tertentu di media sosial, seringkali tanpa memberikan informasi bahwa mereka menerima bayaran atau insentif.\n",
    "\n",
    "<center><img src=\"images/spambot.png\" width=\"400\"/></center>"
   ]
  },
  {
   "cell_type": "markdown",
   "id": "f2dd469c",
   "metadata": {},
   "source": [
    "# <center><font color=\"blue\">Mengapa Penting?</font></center>\n",
    "\n",
    "* Dapat mengganggu pengalaman pengguna media sosial dengan membanjiri platform dengan konten yang tidak relevan atau menyesatkan. \n",
    "* Bot dapat digunakan untuk menyebarkan informasi palsu atau memanipulasi opini publik, sementara spam dapat mengganggu komunikasi yang sehat antara pengguna. \n",
    "* Mengidentifikasi dan menghapus bot dan spam membantu memastikan bahwa pengguna mendapatkan konten yang bermutu dan relevan.\n",
    "* Filtering bot & spam meyakinkan insight dari hasil analisa data tidak bias.\n",
    "\n",
    "<center><img src=\"images/bot-trump-clinton.png\" width=\"400\"/></center>"
   ]
  },
  {
   "cell_type": "markdown",
   "id": "fc0acc87",
   "metadata": {},
   "source": [
    "# <center><font color=\"blue\">Tantangan 01</font></center>\n",
    "\n",
    "* Evolusi teknik bot untuk meniru perilaku manusia, seperti penyesuaian pola posting dan penggunaan akun palsu yang sulit dibedakan dari akun manusia. \n",
    "* Bot dapat menggunakan algoritma yang rumit untuk mengelabui sistem deteksi. \n",
    "* Jumlah akun dan volume aktivitas di media sosial begitu banyak\n",
    "\n",
    "<center><img src=\"images/bot-detection-challenges.png\" width=\"800\"/></center>"
   ]
  },
  {
   "cell_type": "markdown",
   "id": "0a401a42",
   "metadata": {},
   "source": [
    "# <center><font color=\"blue\">Metode Deteksi Bot</font></center>\n",
    "\n",
    "* Pada dasarnya \"hanya\" masalah klasifikasi biner.\n",
    "* Apakah metode yang kompleks/baru selalu lebih unggul? (dalam konteks lomba)\n",
    "* Apakah suatu metode akurat untuk semua jenis bot?\n",
    "* Bagaimana data diambil mempengaruhi pola bot, sehingga mempengaruhi metode deteksinya.\n",
    "* Jangan lupa prinsip Parsimoni di Statistika atau Occam Razor di Machine Learning.\n",
    "\n",
    "<center><img src=\"images/bot-detection-techniques.png\" width=\"600\"/></center>"
   ]
  },
  {
   "cell_type": "markdown",
   "id": "4a010d83",
   "metadata": {},
   "source": [
    "# <center><font color=\"blue\">Tantangan 02</font></center>\n",
    "\n",
    "* Bagaimana kita mendefenisikan Bot mempengaruhi cara mendeteksinya.\n",
    "* Misal Botometer: https://botometer.osome.iu.edu/\n",
    "* Drone Emprit: https://www.slideshare.net/IsmailFahmi3/workshop-sentiment-emotion-demography-and-bot-detection\n",
    "\n",
    "<center><img src=\"images/bot-characteristics.png\" width=\"600\"/></center>\n",
    "> Chu, Z., S. Gianvecchio, H. Wang, and S. Jajodia. (2012) “Detecting Automation of Twitter Accounts: Are You a Human, Bot, or Cyborg?”\n",
    "IEEE Trans. Dependable and Secure Computer 9 (6) : 811–824."
   ]
  },
  {
   "cell_type": "markdown",
   "id": "a2036683",
   "metadata": {},
   "source": [
    "# <center><font color=\"red\">Mari Kita Mulai Beraksi!</font></center>\n",
    "\n",
    "* Data yang digunakan berasal dari skripsi salah satu mahasiswa saya.\n",
    "* Ingat teori diatas, hal-hal yang berhasil di data ini belum tentu berhasil di data bot detection yang lain walaupun sama-sama dari twitter.  Perlu pahami kapan ambil datanya, apa keywordsnya, apa filternya, dsb.\n",
    "\n",
    "<center><img src=\"images/mulai-coding.jpg\" width=\"600\"/></center>"
   ]
  },
  {
   "cell_type": "code",
   "execution_count": null,
   "id": "9037811e",
   "metadata": {},
   "outputs": [],
   "source": [
    "!pip install unidecode sastrawi"
   ]
  },
  {
   "cell_type": "code",
   "execution_count": null,
   "id": "060338e0",
   "metadata": {},
   "outputs": [],
   "source": [
    "import nltk\n",
    "\n",
    "nltk.download('popular')"
   ]
  },
  {
   "cell_type": "code",
   "execution_count": 1,
   "id": "7dff6215",
   "metadata": {},
   "outputs": [
    {
     "data": {
      "text/plain": [
       "'Done'"
      ]
     },
     "execution_count": 1,
     "metadata": {},
     "output_type": "execute_result"
    }
   ],
   "source": [
    "# import Semua Module yang digunakan\n",
    "import warnings; warnings.simplefilter('ignore')\n",
    "import numpy as np, pandas as pd, matplotlib.pyplot as plt\n",
    "import seaborn as sns, re\n",
    "from tqdm import tqdm\n",
    "\n",
    "from sklearn.ensemble import RandomForestClassifier, GradientBoostingClassifier\n",
    "from sklearn import svm\n",
    "from sklearn.neural_network import MLPClassifier\n",
    "\n",
    "from sklearn.feature_extraction.text import TfidfVectorizer\n",
    "from sklearn.model_selection import train_test_split\n",
    "from sklearn.metrics import confusion_matrix, classification_report\n",
    "from sklearn.metrics import precision_score, recall_score, f1_score\n",
    "from sklearn.model_selection import cross_val_score\n",
    "from collections import Counter\n",
    "from textblob import TextBlob, Word\n",
    "from html import unescape\n",
    "from unidecode import unidecode\n",
    "from Sastrawi.Stemmer.StemmerFactory import StemmerFactory\n",
    "from Sastrawi.StopWordRemover.StopWordRemoverFactory import StopWordRemoverFactory\n",
    "\n",
    "lemma_id = StemmerFactory().create_stemmer()\n",
    "factory = StopWordRemoverFactory()\n",
    "stopWordsID = set(factory.get_stop_words())\n",
    "\n",
    "seed=1105\n",
    "sns.set(style=\"ticks\", color_codes=True)\n",
    "np.random.seed(seed)\n",
    "\n",
    "\"Done\""
   ]
  },
  {
   "cell_type": "code",
   "execution_count": 2,
   "id": "489d8d8f",
   "metadata": {},
   "outputs": [
    {
     "name": "stdout",
     "output_type": "stream",
     "text": [
      "baris =  3000 , Kolom (jumlah variabel) =  14\n"
     ]
    },
    {
     "data": {
      "text/html": [
       "<div>\n",
       "<style scoped>\n",
       "    .dataframe tbody tr th:only-of-type {\n",
       "        vertical-align: middle;\n",
       "    }\n",
       "\n",
       "    .dataframe tbody tr th {\n",
       "        vertical-align: top;\n",
       "    }\n",
       "\n",
       "    .dataframe thead th {\n",
       "        text-align: right;\n",
       "    }\n",
       "</style>\n",
       "<table border=\"1\" class=\"dataframe\">\n",
       "  <thead>\n",
       "    <tr style=\"text-align: right;\">\n",
       "      <th></th>\n",
       "      <th>id_str</th>\n",
       "      <th>username</th>\n",
       "      <th>screen_name</th>\n",
       "      <th>created_at</th>\n",
       "      <th>friends_count</th>\n",
       "      <th>followers_count</th>\n",
       "      <th>favourited_count</th>\n",
       "      <th>statuses_count</th>\n",
       "      <th>full_text</th>\n",
       "      <th>description</th>\n",
       "      <th>text_created_at</th>\n",
       "      <th>text_favourites_count</th>\n",
       "      <th>text_retweets_count</th>\n",
       "      <th>label</th>\n",
       "    </tr>\n",
       "  </thead>\n",
       "  <tbody>\n",
       "    <tr>\n",
       "      <th>0</th>\n",
       "      <td>1.46E+18</td>\n",
       "      <td>Aqilacute10</td>\n",
       "      <td>Aqila_cute</td>\n",
       "      <td>Mon Nov 01 19:00:53 +0000 2021</td>\n",
       "      <td>188</td>\n",
       "      <td>745</td>\n",
       "      <td>1671</td>\n",
       "      <td>2222</td>\n",
       "      <td>Jika kau yakin dan percaya, maka mimpimu pun a...</td>\n",
       "      <td>Lulusan al-Azhar · Qari' · Pecinta Quran\\n\\nDo...</td>\n",
       "      <td>Fri Jul 08 02:02:23 +0000 2022</td>\n",
       "      <td>5</td>\n",
       "      <td>2</td>\n",
       "      <td>1</td>\n",
       "    </tr>\n",
       "    <tr>\n",
       "      <th>1</th>\n",
       "      <td>1.50E+18</td>\n",
       "      <td>Kemilau16104667</td>\n",
       "      <td>Kemilau</td>\n",
       "      <td>Tue Feb 22 23:11:01 +0000 2022</td>\n",
       "      <td>343</td>\n",
       "      <td>145</td>\n",
       "      <td>2</td>\n",
       "      <td>630</td>\n",
       "      <td>Pemerintah serahkan pengelolaan dua menara rus...</td>\n",
       "      <td>NaN</td>\n",
       "      <td>Sat Jul 16 00:07:32 +0000 2022</td>\n",
       "      <td>0</td>\n",
       "      <td>0</td>\n",
       "      <td>1</td>\n",
       "    </tr>\n",
       "    <tr>\n",
       "      <th>2</th>\n",
       "      <td>163586591</td>\n",
       "      <td>nasehatmuslim</td>\n",
       "      <td>Baik Berkata &amp; Bertindak</td>\n",
       "      <td>Tue Jul 06 20:06:35 +0000 2010</td>\n",
       "      <td>562</td>\n",
       "      <td>662</td>\n",
       "      <td>5943</td>\n",
       "      <td>15356</td>\n",
       "      <td>Rasulullah Muhammad bersabda,\\n\\nTidak boleh m...</td>\n",
       "      <td>Pengusaha, peneliti, dosen, wakil ketua, dai, ...</td>\n",
       "      <td>Mon Jul 18 14:45:36 +0000 2022</td>\n",
       "      <td>1</td>\n",
       "      <td>0</td>\n",
       "      <td>1</td>\n",
       "    </tr>\n",
       "    <tr>\n",
       "      <th>3</th>\n",
       "      <td>1.43E+18</td>\n",
       "      <td>putrisrikandi_</td>\n",
       "      <td>srikandi_</td>\n",
       "      <td>Mon Sep 06 08:51:51 +0000 2021</td>\n",
       "      <td>444</td>\n",
       "      <td>376</td>\n",
       "      <td>648</td>\n",
       "      <td>7204</td>\n",
       "      <td>Pemerintah lakukan serah Terima status penggun...</td>\n",
       "      <td>🇮🇩🇮🇩🇮🇩🇮🇩🇮🇩</td>\n",
       "      <td>Sat Jul 16 01:19:24 +0000 2022</td>\n",
       "      <td>0</td>\n",
       "      <td>0</td>\n",
       "      <td>1</td>\n",
       "    </tr>\n",
       "    <tr>\n",
       "      <th>4</th>\n",
       "      <td>1.53E+18</td>\n",
       "      <td>arisa_fadillah</td>\n",
       "      <td>Fadillah Arisa</td>\n",
       "      <td>Thu Jun 09 03:39:10 +0000 2022</td>\n",
       "      <td>31</td>\n",
       "      <td>22</td>\n",
       "      <td>0</td>\n",
       "      <td>21</td>\n",
       "      <td>PT PLN (Persero) menerima kompensasi dari peme...</td>\n",
       "      <td>gemuk gak kurus</td>\n",
       "      <td>Fri Jul 08 01:53:34 +0000 2022</td>\n",
       "      <td>0</td>\n",
       "      <td>1</td>\n",
       "      <td>1</td>\n",
       "    </tr>\n",
       "  </tbody>\n",
       "</table>\n",
       "</div>"
      ],
      "text/plain": [
       "      id_str         username               screen_name  \\\n",
       "0   1.46E+18      Aqilacute10                Aqila_cute   \n",
       "1   1.50E+18  Kemilau16104667                   Kemilau   \n",
       "2  163586591    nasehatmuslim  Baik Berkata & Bertindak   \n",
       "3   1.43E+18   putrisrikandi_                 srikandi_   \n",
       "4   1.53E+18   arisa_fadillah            Fadillah Arisa   \n",
       "\n",
       "                       created_at  friends_count  followers_count  \\\n",
       "0  Mon Nov 01 19:00:53 +0000 2021            188              745   \n",
       "1  Tue Feb 22 23:11:01 +0000 2022            343              145   \n",
       "2  Tue Jul 06 20:06:35 +0000 2010            562              662   \n",
       "3  Mon Sep 06 08:51:51 +0000 2021            444              376   \n",
       "4  Thu Jun 09 03:39:10 +0000 2022             31               22   \n",
       "\n",
       "   favourited_count  statuses_count  \\\n",
       "0              1671            2222   \n",
       "1                 2             630   \n",
       "2              5943           15356   \n",
       "3               648            7204   \n",
       "4                 0              21   \n",
       "\n",
       "                                           full_text  \\\n",
       "0  Jika kau yakin dan percaya, maka mimpimu pun a...   \n",
       "1  Pemerintah serahkan pengelolaan dua menara rus...   \n",
       "2  Rasulullah Muhammad bersabda,\\n\\nTidak boleh m...   \n",
       "3  Pemerintah lakukan serah Terima status penggun...   \n",
       "4  PT PLN (Persero) menerima kompensasi dari peme...   \n",
       "\n",
       "                                         description  \\\n",
       "0  Lulusan al-Azhar · Qari' · Pecinta Quran\\n\\nDo...   \n",
       "1                                                NaN   \n",
       "2  Pengusaha, peneliti, dosen, wakil ketua, dai, ...   \n",
       "3                                         🇮🇩🇮🇩🇮🇩🇮🇩🇮🇩   \n",
       "4                                    gemuk gak kurus   \n",
       "\n",
       "                  text_created_at  text_favourites_count  text_retweets_count  \\\n",
       "0  Fri Jul 08 02:02:23 +0000 2022                      5                    2   \n",
       "1  Sat Jul 16 00:07:32 +0000 2022                      0                    0   \n",
       "2  Mon Jul 18 14:45:36 +0000 2022                      1                    0   \n",
       "3  Sat Jul 16 01:19:24 +0000 2022                      0                    0   \n",
       "4  Fri Jul 08 01:53:34 +0000 2022                      0                    1   \n",
       "\n",
       "   label  \n",
       "0      1  \n",
       "1      1  \n",
       "2      1  \n",
       "3      1  \n",
       "4      1  "
      ]
     },
     "execution_count": 2,
     "metadata": {},
     "output_type": "execute_result"
    }
   ],
   "source": [
    "# Loading Data\n",
    "file_ = \"data/twitter-bot.csv\"\n",
    "try: # Running Locally, yakinkan \"file_\" berada di folder \"data\"\n",
    "    df = pd.read_csv(file_)\n",
    "except: # Running in Google Colab\n",
    "    !mkdir data\n",
    "    !wget -P data/ https://raw.githubusercontent.com/taudataanalytics/taudata-Academy/master/data/twitter-bot.csv\n",
    "    df = pd.read_csv(file_)\n",
    "    \n",
    "N, P = df.shape # Ukuran Data\n",
    "print('baris = ', N, ', Kolom (jumlah variabel) = ', P)\n",
    "df.head()"
   ]
  },
  {
   "cell_type": "markdown",
   "id": "703fbbd0",
   "metadata": {},
   "source": [
    "# <center><font color=\"red\">Stop! ==> Data Understanding Dulu</font></center>"
   ]
  },
  {
   "cell_type": "code",
   "execution_count": 3,
   "id": "9e7cdeb0",
   "metadata": {},
   "outputs": [
    {
     "name": "stdout",
     "output_type": "stream",
     "text": [
      "<class 'pandas.core.frame.DataFrame'>\n",
      "RangeIndex: 3000 entries, 0 to 2999\n",
      "Data columns (total 14 columns):\n",
      " #   Column                 Non-Null Count  Dtype \n",
      "---  ------                 --------------  ----- \n",
      " 0   id_str                 3000 non-null   object\n",
      " 1   username               3000 non-null   object\n",
      " 2   screen_name            2999 non-null   object\n",
      " 3   created_at             3000 non-null   object\n",
      " 4   friends_count          3000 non-null   int64 \n",
      " 5   followers_count        3000 non-null   int64 \n",
      " 6   favourited_count       3000 non-null   int64 \n",
      " 7   statuses_count         3000 non-null   int64 \n",
      " 8   full_text              3000 non-null   object\n",
      " 9   description            2354 non-null   object\n",
      " 10  text_created_at        3000 non-null   object\n",
      " 11  text_favourites_count  3000 non-null   int64 \n",
      " 12  text_retweets_count    3000 non-null   int64 \n",
      " 13  label                  3000 non-null   int64 \n",
      "dtypes: int64(7), object(7)\n",
      "memory usage: 328.2+ KB\n"
     ]
    }
   ],
   "source": [
    "df.info()"
   ]
  },
  {
   "cell_type": "markdown",
   "id": "081fb2fb",
   "metadata": {},
   "source": [
    "# <center><font color=\"blue\">Exploratory Data Analysis</font></center>\n",
    "\n",
    "### <center><font color=\"red\">Untuk masalah klasifikasi cek distribusi label terlebih dahulu</font></center>"
   ]
  },
  {
   "cell_type": "code",
   "execution_count": 6,
   "id": "65a4c716",
   "metadata": {},
   "outputs": [
    {
     "data": {
      "image/png": "[encoded data removed]",
      "text/plain": [
       "<Figure size 640x480 with 1 Axes>"
      ]
     },
     "metadata": {},
     "output_type": "display_data"
    },
    {
     "name": "stdout",
     "output_type": "stream",
     "text": [
      "Counter({0: 1800, 1: 1200})\n",
      "0 =  60.0  1 =  40.0 %\n"
     ]
    }
   ],
   "source": [
    "sns.countplot(data=df, x='label')\n",
    "plt.show()\n",
    "D = Counter(df['label'])\n",
    "print(D)\n",
    "print(\"0 = \", D[0]*100/(len(df['label'])), ' 1 = ',D[1]*100/(len(df['label'])) ,'%')"
   ]
  },
  {
   "cell_type": "markdown",
   "id": "caf4def5",
   "metadata": {},
   "source": [
    "# <center><font color=\"blue\">EDA untuk klasifikasi kuncinya di visualisasi partisi berdasarkan variable target</font></center>\n",
    "\n",
    "### <center><font color=\"red\">Misal kita ingin melihat pola di beberapa variabel indikator terhadap variabel target</font></center>"
   ]
  },
  {
   "cell_type": "code",
   "execution_count": 8,
   "id": "c15a9fab",
   "metadata": {},
   "outputs": [
    {
     "data": {
      "image/png": "[encoded data removed]",
      "text/plain": [
       "<Figure size 640x480 with 1 Axes>"
      ]
     },
     "metadata": {},
     "output_type": "display_data"
    }
   ],
   "source": [
    "# Visualisasi tidak bekerja jika terdapat outlier\n",
    "p = sns.histplot(data=df, x=\"friends_count\", hue=\"label\")"
   ]
  },
  {
   "cell_type": "code",
   "execution_count": 9,
   "id": "a33f2e6a",
   "metadata": {},
   "outputs": [
    {
     "data": {
      "image/png": "[encoded data removed]",
      "text/plain": [
       "<Figure size 640x480 with 1 Axes>"
      ]
     },
     "metadata": {},
     "output_type": "display_data"
    }
   ],
   "source": [
    "# Visualisasi tidak bekerja jika terdapat outlier\n",
    "p = sns.histplot(data=df[df.friends_count<1000], x=\"friends_count\", hue=\"label\")"
   ]
  },
  {
   "cell_type": "markdown",
   "id": "f0456fda",
   "metadata": {},
   "source": [
    "# <center><font color=\"blue\">Dugaan apa dari visualisasi diatas?</font></center>\n",
    "\n",
    "### <center><font color=\"red\">Lakukan pada variabel lain</font></center>"
   ]
  },
  {
   "cell_type": "markdown",
   "id": "87cb0c75",
   "metadata": {},
   "source": [
    "# <center><font color=\"blue\">EDA apa lagi yang menurut anda penting?</font></center>\n",
    "\n",
    "## <center><font color=\"red\">Gunakan Domain Knowledge!!!!</font></center>"
   ]
  },
  {
   "cell_type": "code",
   "execution_count": 12,
   "id": "ae5340c7",
   "metadata": {},
   "outputs": [
    {
     "data": {
      "text/html": [
       "<div>\n",
       "<style scoped>\n",
       "    .dataframe tbody tr th:only-of-type {\n",
       "        vertical-align: middle;\n",
       "    }\n",
       "\n",
       "    .dataframe tbody tr th {\n",
       "        vertical-align: top;\n",
       "    }\n",
       "\n",
       "    .dataframe thead th {\n",
       "        text-align: right;\n",
       "    }\n",
       "</style>\n",
       "<table border=\"1\" class=\"dataframe\">\n",
       "  <thead>\n",
       "    <tr style=\"text-align: right;\">\n",
       "      <th></th>\n",
       "      <th>created_at</th>\n",
       "      <th>text_created_at</th>\n",
       "      <th>kebaruan_akun</th>\n",
       "    </tr>\n",
       "  </thead>\n",
       "  <tbody>\n",
       "    <tr>\n",
       "      <th>0</th>\n",
       "      <td>2021-11-01 19:00:53+00:00</td>\n",
       "      <td>2022-07-08 02:02:23+00:00</td>\n",
       "      <td>248</td>\n",
       "    </tr>\n",
       "    <tr>\n",
       "      <th>1</th>\n",
       "      <td>2022-02-22 23:11:01+00:00</td>\n",
       "      <td>2022-07-16 00:07:32+00:00</td>\n",
       "      <td>143</td>\n",
       "    </tr>\n",
       "    <tr>\n",
       "      <th>2</th>\n",
       "      <td>2010-07-06 20:06:35+00:00</td>\n",
       "      <td>2022-07-18 14:45:36+00:00</td>\n",
       "      <td>4394</td>\n",
       "    </tr>\n",
       "    <tr>\n",
       "      <th>3</th>\n",
       "      <td>2021-09-06 08:51:51+00:00</td>\n",
       "      <td>2022-07-16 01:19:24+00:00</td>\n",
       "      <td>312</td>\n",
       "    </tr>\n",
       "    <tr>\n",
       "      <th>4</th>\n",
       "      <td>2022-06-09 03:39:10+00:00</td>\n",
       "      <td>2022-07-08 01:53:34+00:00</td>\n",
       "      <td>28</td>\n",
       "    </tr>\n",
       "  </tbody>\n",
       "</table>\n",
       "</div>"
      ],
      "text/plain": [
       "                 created_at           text_created_at  kebaruan_akun\n",
       "0 2021-11-01 19:00:53+00:00 2022-07-08 02:02:23+00:00            248\n",
       "1 2022-02-22 23:11:01+00:00 2022-07-16 00:07:32+00:00            143\n",
       "2 2010-07-06 20:06:35+00:00 2022-07-18 14:45:36+00:00           4394\n",
       "3 2021-09-06 08:51:51+00:00 2022-07-16 01:19:24+00:00            312\n",
       "4 2022-06-09 03:39:10+00:00 2022-07-08 01:53:34+00:00             28"
      ]
     },
     "execution_count": 12,
     "metadata": {},
     "output_type": "execute_result"
    }
   ],
   "source": [
    "df['created_at'] = pd.to_datetime(df['created_at'], infer_datetime_format=True)\n",
    "df['text_created_at'] = pd.to_datetime(df['text_created_at'], infer_datetime_format=True)\n",
    "df['kebaruan_akun'] = (df['text_created_at'] - df['created_at']).dt.days\n",
    "\n",
    "df[['created_at', 'text_created_at', 'kebaruan_akun']].head()"
   ]
  },
  {
   "cell_type": "code",
   "execution_count": 13,
   "id": "052ad8fc",
   "metadata": {},
   "outputs": [
    {
     "data": {
      "image/png": "[encoded data removed]",
      "text/plain": [
       "<Figure size 640x480 with 1 Axes>"
      ]
     },
     "metadata": {},
     "output_type": "display_data"
    }
   ],
   "source": [
    "p = sns.histplot(data=df, x=\"kebaruan_akun\", hue=\"label\")"
   ]
  },
  {
   "cell_type": "markdown",
   "id": "34aea7bb",
   "metadata": {},
   "source": [
    "# <center><font color=\"blue\">EDA Juga bisa dilakukan pada data Text</font></center>"
   ]
  },
  {
   "cell_type": "code",
   "execution_count": 7,
   "id": "5d268b81",
   "metadata": {},
   "outputs": [],
   "source": [
    "bot = df[df.label==1]['full_text']\n",
    "nonBot = df[df.label==0]['full_text']\n",
    "\n",
    "bot.to_csv('bot.txt', index=False, header=None)\n",
    "nonBot.to_csv('nonBot.txt', index=False, header=None)"
   ]
  },
  {
   "cell_type": "markdown",
   "id": "7017c816",
   "metadata": {},
   "source": [
    "<h2>Visualisasi ~ Simple Text Analytics</h2>\n",
    "\n",
    "<ul>\n",
    "\t<li>Tidak seperti data terstruktur, data tidak terstruktur seperti teks termasuk salah satu data yang cukup sulit untuk divisualisasikan.<br />\n",
    "\t<img alt=\"\" src=\"images/11_charts.jpg\" style=\"height:150px; width:276px\" /></li>\n",
    "\t<li>Namun terdapat Tools seperti Voyant yang dapat membantu dalam visualisasi sekaligus analisis.<br />\n",
    "\t<img alt=\"\" src=\"images/11_voyant.png\" style=\"height:118px; width:426px\" /></li>\n",
    "    <li><a href=\"https://voyant-tools.org/\" target=\"_blank\">https://voyant-tools.org/</a></li>\n",
    "</ul>"
   ]
  },
  {
   "cell_type": "markdown",
   "id": "a65561cf",
   "metadata": {},
   "source": [
    "# <center><font color=\"blue\">Klasifikasi text</font></center>\n",
    "\n",
    "* TF-IDF kalau ML biasa, Word Embedding untuk Deep Learning\n",
    "* tf-idf cukup \"lawas\", dilain waktu bisa coba BM25 dan variasinya atau word embedding (Deep learning).\n",
    "* Namun filosofi/tips & trik yang akan kita bahas tetap sama bahkan untuk Computer Vision sekalipun.\n",
    "\n",
    "<center><img src=\"images/klasifikasi-text.png\" width=\"400\"/></center>"
   ]
  },
  {
   "cell_type": "markdown",
   "id": "52bc0c38",
   "metadata": {},
   "source": [
    "# <center><font color=\"blue\">Preprocessing Data Teks</font></center>\n",
    "\n",
    "* Detail di: https://www.youtube.com/watch?v=FL_FLfzVrk8&list=PLiCHAahHeea-HpkOddo5tQFnb2cTGpemB\n",
    "* Github-nya pindah ke: https://github.com/taudataanalytics/taudata-Academy\n",
    "* blognya tetap: https://taudata.blogspot.com/\n",
    "\n",
    "<center><img src=\"images/text-preprocessing.jpg\" width=\"400\"/></center>"
   ]
  },
  {
   "cell_type": "code",
   "execution_count": 5,
   "id": "ba1dd6aa",
   "metadata": {},
   "outputs": [],
   "source": [
    "# preprocessing text sederhana\n",
    "\n",
    "def cleanText(T, min_charLen=2, max_charLen=18, stopFilter=True, lemma=False):\n",
    "    pattern = re.compile(r'http[s]?://(?:[a-zA-Z]|[0-9]|[$-_@.&+]|[!*\\(\\),]|(?:%[0-9a-fA-F][0-9a-fA-F]))+')\n",
    "    t = re.sub(pattern,' ',T) #remove urls if any\n",
    "    pattern = re.compile(r'ftp[s]?://(?:[a-zA-Z]|[0-9]|[$-_@.&+]|[!*\\(\\),]|(?:%[0-9a-fA-F][0-9a-fA-F]))+')\n",
    "    t = re.sub(pattern,' ',t) #remove urls if any\n",
    "    t = unescape(t) # html entities fix\n",
    "    t = t.lower().strip() # lowercase\n",
    "    t = unidecode(t)\n",
    "    t = t.replace('\\n', ' ').replace('\\r', ' ')\n",
    "    listKata = re.sub(r'[^.,_a-zA-Z0-9 -\\.]','',t)\n",
    "    listKata = TextBlob(listKata).words        \n",
    "    if lemma:\n",
    "        listKata = lemma_id.stem(' '.join(listKata).replace(\"'\",\"\").replace('\"','')).split()\n",
    "    if stopFilter:\n",
    "        listKata = [tok for tok in listKata if (str(tok) not in stopWordsID)]\n",
    "    listKata = [tok for tok in listKata if len(str(tok))>=min_charLen and len(str(tok))<=max_charLen] \n",
    "    return ' '.join(listKata)# Return kalimat lagi"
   ]
  },
  {
   "cell_type": "markdown",
   "id": "fe0f18e8",
   "metadata": {},
   "source": [
    "# Testing\n",
    "\n",
    "### # Hati-hati HashTag bisa jadi Fitur penting"
   ]
  },
  {
   "cell_type": "code",
   "execution_count": 6,
   "id": "4f7b7f6a",
   "metadata": {},
   "outputs": [
    {
     "name": "stdout",
     "output_type": "stream",
     "text": [
      "Teks Awal:\n",
      " Badan Riset dan Inovasi Nasional (BRIN) mengakui kinerja Erick Thohir dalam menciptakan lapangan kerja lewat program kredit usaha rakyat (KUR) #ETSolusiBUMNSehat`ersih https://t.co/BahypKTt4b\n",
      "\n",
      "Hasil Preprocessing:\n",
      " badan riset inovasi nasional brin mengakui kinerja erick thohir menciptakan lapangan kerja lewat program kredit usaha rakyat kur\n"
     ]
    }
   ],
   "source": [
    "T = \"Badan Riset dan Inovasi Nasional (BRIN) mengakui kinerja Erick Thohir dalam menciptakan lapangan kerja lewat program kredit usaha rakyat (KUR) #ETSolusiBUMNSehat`ersih https://t.co/BahypKTt4b\"\n",
    "print(\"Teks Awal:\\n\", T)\n",
    "d = cleanText(T)\n",
    "print(\"\\nHasil Preprocessing:\\n\", d)"
   ]
  },
  {
   "cell_type": "code",
   "execution_count": 7,
   "id": "35273a71",
   "metadata": {},
   "outputs": [
    {
     "data": {
      "text/html": [
       "<div>\n",
       "<style scoped>\n",
       "    .dataframe tbody tr th:only-of-type {\n",
       "        vertical-align: middle;\n",
       "    }\n",
       "\n",
       "    .dataframe tbody tr th {\n",
       "        vertical-align: top;\n",
       "    }\n",
       "\n",
       "    .dataframe thead th {\n",
       "        text-align: right;\n",
       "    }\n",
       "</style>\n",
       "<table border=\"1\" class=\"dataframe\">\n",
       "  <thead>\n",
       "    <tr style=\"text-align: right;\">\n",
       "      <th></th>\n",
       "      <th>full_text</th>\n",
       "      <th>cleanTweet</th>\n",
       "    </tr>\n",
       "  </thead>\n",
       "  <tbody>\n",
       "    <tr>\n",
       "      <th>0</th>\n",
       "      <td>Jika kau yakin dan percaya, maka mimpimu pun a...</td>\n",
       "      <td>kau yakin percaya mimpimu menjadi nyata semang...</td>\n",
       "    </tr>\n",
       "    <tr>\n",
       "      <th>1</th>\n",
       "      <td>Pemerintah serahkan pengelolaan dua menara rus...</td>\n",
       "      <td>pemerintah serahkan pengelolaan menara rusun b...</td>\n",
       "    </tr>\n",
       "    <tr>\n",
       "      <th>2</th>\n",
       "      <td>Rasulullah Muhammad bersabda,\\n\\nTidak boleh m...</td>\n",
       "      <td>rasulullah muhammad bersabda melakukan berbaha...</td>\n",
       "    </tr>\n",
       "    <tr>\n",
       "      <th>3</th>\n",
       "      <td>Pemerintah lakukan serah Terima status penggun...</td>\n",
       "      <td>pemerintah lakukan serah terima status penggun...</td>\n",
       "    </tr>\n",
       "    <tr>\n",
       "      <th>4</th>\n",
       "      <td>PT PLN (Persero) menerima kompensasi dari peme...</td>\n",
       "      <td>pt pln persero menerima kompensasi pemerintah ...</td>\n",
       "    </tr>\n",
       "  </tbody>\n",
       "</table>\n",
       "</div>"
      ],
      "text/plain": [
       "                                           full_text  \\\n",
       "0  Jika kau yakin dan percaya, maka mimpimu pun a...   \n",
       "1  Pemerintah serahkan pengelolaan dua menara rus...   \n",
       "2  Rasulullah Muhammad bersabda,\\n\\nTidak boleh m...   \n",
       "3  Pemerintah lakukan serah Terima status penggun...   \n",
       "4  PT PLN (Persero) menerima kompensasi dari peme...   \n",
       "\n",
       "                                          cleanTweet  \n",
       "0  kau yakin percaya mimpimu menjadi nyata semang...  \n",
       "1  pemerintah serahkan pengelolaan menara rusun b...  \n",
       "2  rasulullah muhammad bersabda melakukan berbaha...  \n",
       "3  pemerintah lakukan serah terima status penggun...  \n",
       "4  pt pln persero menerima kompensasi pemerintah ...  "
      ]
     },
     "execution_count": 7,
     "metadata": {},
     "output_type": "execute_result"
    }
   ],
   "source": [
    "df['cleanTweet'] = df['full_text'].apply(cleanText)\n",
    "\n",
    "df[['full_text', 'cleanTweet']].head()"
   ]
  },
  {
   "cell_type": "markdown",
   "id": "5b384fa4",
   "metadata": {},
   "source": [
    "# <center><font color=\"blue\">TF-IDF</font></center>\n",
    "\n",
    "<img alt=\"\" src=\"images/toydata_vsm.png\" />\n",
    "\n",
    "* Menurut http://scikit-learn.org/stable/modules/generated/sklearn.feature_extraction.text.TfidfVectorizer.html\n",
    "* default formula tf-idf yang digunakan sk-learn adalah:\n",
    "* $tfidf = tf * log(\\frac{N}{df+1})$ ==> Smooth IDF\n",
    "* namun kita merubahnya menjadi:\n",
    "* $tfidf = tf * log(\\frac{N}{df})$ ==> Non Smooth IDF\n",
    "* $tfidf = tf * log(\\frac{N}{df+1})$ ==> linear_tf, Smooth IDF\n",
    "* $tfidf = (1+log(tf)) * log(\\frac{N}{df})$ ==> sublinear_tf, Non Smooth IDF"
   ]
  },
  {
   "cell_type": "code",
   "execution_count": 8,
   "id": "a026e022",
   "metadata": {},
   "outputs": [],
   "source": [
    "tfidf_vectorizer = TfidfVectorizer(smooth_idf= True, sublinear_tf=True, \n",
    "                                   ngram_range=(1, 2), max_df=0.99, min_df=2)"
   ]
  },
  {
   "cell_type": "markdown",
   "id": "69d92f5f",
   "metadata": {},
   "source": [
    "# <center><font color=\"blue\">(Cross) Validasi</font></center>\n",
    "\n",
    "* Berapa banyak Test Data?\n",
    "* Beda di Industri/kompetisi dan di dunia akademik\n",
    "\n",
    "<center><img src=\"images/feature_5_fold_cv.jpg\" width=\"600\"/></center>"
   ]
  },
  {
   "cell_type": "code",
   "execution_count": 9,
   "id": "3a7f5457",
   "metadata": {},
   "outputs": [
    {
     "name": "stdout",
     "output_type": "stream",
     "text": [
      "(2100, 5001) (900, 5001)\n"
     ]
    }
   ],
   "source": [
    "x_trainTxt, x_testTxt, y_train, y_test = train_test_split(df['cleanTweet'], df['label'], test_size=0.3, random_state=seed)\n",
    "x_train = tfidf_vectorizer.fit_transform(x_trainTxt) # \"Fit_Transform\"\n",
    "x_test = tfidf_vectorizer.transform(x_testTxt) # Perhatikan disini hanya \"Transform\"\n",
    "\n",
    "print(x_train.shape, x_test.shape) # Jumlah kolom Sama ==> ini penting"
   ]
  },
  {
   "cell_type": "markdown",
   "id": "db2d9637",
   "metadata": {},
   "source": [
    "# Model Selection (Text Only)\n",
    "\n",
    "### Default parameter dulu (belum optimasi parameter)\n",
    "### Karena keterbatasan waktu kita coba hanya 4 model"
   ]
  },
  {
   "cell_type": "code",
   "execution_count": 10,
   "id": "a34de7d4",
   "metadata": {},
   "outputs": [],
   "source": [
    "# Model-model dasar (belum optimasi parameter)\n",
    "svm_ = svm.SVC()\n",
    "nn_ = MLPClassifier()\n",
    "rf_ = RandomForestClassifier()\n",
    "xgb = GradientBoostingClassifier()\n",
    "\n",
    "models = ((\"SVM\", svm_), (\"NeuralNetwork\", nn_), (\"RandomForest\", rf_), (\"XGboost\", xgb))"
   ]
  },
  {
   "cell_type": "code",
   "execution_count": 11,
   "id": "7bee6325",
   "metadata": {},
   "outputs": [
    {
     "name": "stderr",
     "output_type": "stream",
     "text": [
      "100%|████████████████████████████████████████████████████████████████████████████████████| 4/4 [00:45<00:00, 11.26s/it]\n"
     ]
    }
   ],
   "source": [
    "# Di lomba cv ganti setidaknya 10\n",
    "\n",
    "Scores = {}\n",
    "for model in tqdm(models):\n",
    "    Scores[model[0]] = cross_val_score(model[1], x_train, y_train, cv=5, n_jobs=-1) "
   ]
  },
  {
   "cell_type": "code",
   "execution_count": 12,
   "id": "1d653f84",
   "metadata": {},
   "outputs": [
    {
     "data": {
      "image/png": "[encoded data removed]",
      "text/plain": [
       "<Figure size 640x480 with 1 Axes>"
      ]
     },
     "metadata": {},
     "output_type": "display_data"
    }
   ],
   "source": [
    "Scores = pd.DataFrame(Scores)\n",
    "sns.boxplot(data=Scores)\n",
    "plt.show()"
   ]
  },
  {
   "cell_type": "markdown",
   "id": "8382b81b",
   "metadata": {},
   "source": [
    "# Pilih yang mana? Mengapa?\n",
    "\n",
    "### Perhatikan sudah cukup akurat! ==> tapi tidak selalu seperti ini."
   ]
  },
  {
   "cell_type": "markdown",
   "id": "e5eaf80a",
   "metadata": {},
   "source": [
    "# <center><font color=\"blue\">Optimasi Parameter & Pipelining</font></center>\n",
    "\n",
    "* Optimasi parameter + Optimasi Preprocessing + Optimasi Representasi Dokumen==> Pipelining!!!... \n",
    "* Saya contohkan di SVM\n",
    "\n",
    "<center><img src=\"images/ML-pipeline.png\" width=\"600\"/></center>"
   ]
  },
  {
   "cell_type": "code",
   "execution_count": 13,
   "id": "06121fe2",
   "metadata": {},
   "outputs": [
    {
     "name": "stdout",
     "output_type": "stream",
     "text": [
      "['memory', 'steps', 'svc', 'svc__C', 'svc__break_ties', 'svc__cache_size', 'svc__class_weight', 'svc__coef0', 'svc__decision_function_shape', 'svc__degree', 'svc__gamma', 'svc__kernel', 'svc__max_iter', 'svc__probability', 'svc__random_state', 'svc__shrinking', 'svc__tol', 'svc__verbose', 'tfidfvectorizer', 'tfidfvectorizer__analyzer', 'tfidfvectorizer__binary', 'tfidfvectorizer__decode_error', 'tfidfvectorizer__dtype', 'tfidfvectorizer__encoding', 'tfidfvectorizer__input', 'tfidfvectorizer__lowercase', 'tfidfvectorizer__max_df', 'tfidfvectorizer__max_features', 'tfidfvectorizer__min_df', 'tfidfvectorizer__ngram_range', 'tfidfvectorizer__norm', 'tfidfvectorizer__preprocessor', 'tfidfvectorizer__smooth_idf', 'tfidfvectorizer__stop_words', 'tfidfvectorizer__strip_accents', 'tfidfvectorizer__sublinear_tf', 'tfidfvectorizer__token_pattern', 'tfidfvectorizer__tokenizer', 'tfidfvectorizer__use_idf', 'tfidfvectorizer__vocabulary', 'verbose']\n"
     ]
    }
   ],
   "source": [
    "from sklearn.pipeline import make_pipeline \n",
    "from sklearn.model_selection import GridSearchCV # RandomizedSearchCV\n",
    "\n",
    "pipeSVM = make_pipeline(TfidfVectorizer(), svm.SVC())\n",
    "print(sorted(pipeSVM.get_params().keys()))"
   ]
  },
  {
   "cell_type": "code",
   "execution_count": 14,
   "id": "41a74b4c",
   "metadata": {},
   "outputs": [
    {
     "name": "stdout",
     "output_type": "stream",
     "text": [
      "Fitting 5 folds for each of 7776 candidates, totalling 38880 fits\n",
      "0.9657142857142856\n",
      "{'svc__C': 10, 'svc__decision_function_shape': 'ovo', 'svc__gamma': 0.1, 'svc__kernel': 'rbf', 'tfidfvectorizer__max_df': 0.5, 'tfidfvectorizer__min_df': 5, 'tfidfvectorizer__ngram_range': (1, 3), 'tfidfvectorizer__smooth_idf': True, 'tfidfvectorizer__sublinear_tf': True}\n"
     ]
    }
   ],
   "source": [
    "# Hati-hati ini cukup lama!!!....\n",
    "# Di Lomba yang sebenarnya gunakan ruang parameter yang lebih luas/banyak.\n",
    "# Di lomba cv ganti setidaknya 10\n",
    "\n",
    "paramsSVM = {}\n",
    "paramsSVM['tfidfvectorizer__min_df'] = [5, 10, 30]\n",
    "paramsSVM['tfidfvectorizer__max_df'] = [0.5, 0.75, 0.95]\n",
    "paramsSVM['tfidfvectorizer__smooth_idf'] = [True, False]\n",
    "paramsSVM['tfidfvectorizer__sublinear_tf'] = [True, False]\n",
    "paramsSVM['tfidfvectorizer__ngram_range'] = [(1, 1), (1, 2), (1,3)]\n",
    "paramsSVM['svc__C'] = [0.1, 10, 100] #sp.stats.uniform(scale=1)\n",
    "paramsSVM['svc__gamma'] = [1.0, 0.1, 0.001]\n",
    "paramsSVM['svc__kernel'] = ['rbf', 'poly', 'sigmoid', 'linear']\n",
    "paramsSVM['svc__decision_function_shape'] = ['ovo', 'ovr']\n",
    "\n",
    "pipeSvmCV = GridSearchCV(pipeSVM, paramsSVM, cv=5, scoring=\"accuracy\", verbose=2, n_jobs=-1)\n",
    "pipeSvmCV.fit(x_trainTxt, y_train) # HATI-HATI disini ... karena kita optimalkan representasi, maka input text BUKAN VSM tapi Text!!!....\n",
    "print(pipeSvmCV.best_score_)\n",
    "print(pipeSvmCV.best_params_)"
   ]
  },
  {
   "cell_type": "markdown",
   "id": "61f458a9",
   "metadata": {},
   "source": [
    "# <center><font color=\"blue\">Performa di test Data</font></center>"
   ]
  },
  {
   "cell_type": "code",
   "execution_count": 18,
   "id": "267bdbea",
   "metadata": {},
   "outputs": [
    {
     "name": "stdout",
     "output_type": "stream",
     "text": [
      "              precision    recall  f1-score   support\n",
      "\n",
      "           0       0.98      0.97      0.98       533\n",
      "           1       0.96      0.97      0.96       367\n",
      "\n",
      "    accuracy                           0.97       900\n",
      "   macro avg       0.97      0.97      0.97       900\n",
      "weighted avg       0.97      0.97      0.97       900\n",
      "\n"
     ]
    }
   ],
   "source": [
    "prediksi = pipeSvmCV.predict(x_testTxt) # ==> hati-hati ini model dari pipeline jadi inputnya text bukan VSM\n",
    "print(classification_report(y_test, prediksi))"
   ]
  },
  {
   "cell_type": "markdown",
   "id": "c9218067",
   "metadata": {},
   "source": [
    "# <center><font color=\"blue\">Tips Penting</font></center>\n",
    "\n",
    "<center><img src=\"images/tips.png\" width=\"400\"/></center>\n",
    "\n",
    "* Di seminar ini kita hanya menggunakan SVM, parameter yg sempit, dan percobaan yang terbatas. Tapi komputasinya sudah amat sangat besar. Bayangkan jika anda menggunakan setting experiment ini menggunakan model Deep Learning.\n",
    "* Apakah Deep Learning most likely lebih baik dari model dasar? Mengapa? Apa syaratnya DL cenderung lebih baik?\n",
    "* Apa kelemahan DL pada kasus bot detection ini?\n",
    "* Data Tidak Terstruktur + Terstruktur + Feature Engineering\n",
    "* Preprocessing yang berbeda ==> pipeline\n",
    "* Analisa Text Analytics dan-atau EDA pada setiap kategori (bot dan bukan bot) ==> gunakan Voyant biar mudah.\n",
    "* Bisa coba hierarchical classification Rule-Based ==> Model jika di EDA menemukan pola \"trivial\"/obvious ==> misal \"Sale\" , \"discount\", dsb.\n",
    "* Mau lebih yakin dengan modelnya? gunakan seed yang berbeda.\n",
    "* Error Analysis & Augmentasi Data - kunci utama keberhasilan lomba\n",
    "* Lakukan Sensitivity Analysis (optional, berguna untuk permasalahan yang chaotic)"
   ]
  },
  {
   "cell_type": "markdown",
   "id": "e6608163",
   "metadata": {},
   "source": [
    "# <center><font color=\"blue\">Pitfalls:</font></center>\n",
    "\n",
    "* Tidak melakukan EDA dengan baik (disini kita skip EDA lengkap karena waktu yang sangat singkat)\n",
    "* Hanya menggunakan satu preprocessing\n",
    "* Ketika di percobaan awal akurasi jelek karena overfitting, tapi malah meningkatkan kompleksitas model\n",
    "* Tidak melakukan Error Analysis\n",
    "* Model dan setting terbaik butuh banyak sekali komputasi, jangan pernah kerjakan mepet deadline + bagi tugas dengan baik ke Team\n",
    "\n",
    "<center><img src=\"images/pitfalls.png\" width=\"400\"/></center>"
   ]
  },
  {
   "cell_type": "markdown",
   "id": "64e84fc4",
   "metadata": {},
   "source": [
    "# <center><font color=\"blue\">Diskusi</font></center>\n",
    "\n",
    "<center><img src=\"images/diskusi.jpg\" width=\"400\"/></center>"
   ]
  },
  {
   "cell_type": "markdown",
   "id": "e00a2cb4",
   "metadata": {},
   "source": [
    "# <center><font color=\"blue\">Sekian, Terima Kasih.</font></center>\n",
    "\n",
    "<center><img src=\"images/theend-thankyou.png\" width=\"400\"/></center>"
   ]
  }
 ],
 "metadata": {
  "hide_input": false,
  "kernelspec": {
   "display_name": "Python 3 (ipykernel)",
   "language": "python",
   "name": "python3"
  },
  "language_info": {
   "codemirror_mode": {
    "name": "ipython",
    "version": 3
   },
   "file_extension": ".py",
   "mimetype": "text/x-python",
   "name": "python",
   "nbconvert_exporter": "python",
   "pygments_lexer": "ipython3",
   "version": "3.10.13"
  },
  "vp": {
   "vp_config_version": "1.0.0",
   "vp_menu_width": 273,
   "vp_note_display": false,
   "vp_note_width": 0,
   "vp_position": {
    "width": 278
   },
   "vp_section_display": true,
   "vp_signature": "VisualPython"
  }
 },
 "nbformat": 4,
 "nbformat_minor": 5
}
