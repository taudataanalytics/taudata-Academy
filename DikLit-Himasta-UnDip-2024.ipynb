{
 "cells": [
  {
   "cell_type": "markdown",
   "id": "7ac49985",
   "metadata": {},
   "source": [
    "# <center><font color=\"red\"> https://tau-data.id/creditearning-satriadata-2021 </font></center>\n",
    "\n",
    "<center><img alt=\"\" src=\"images/covers/cover-undip-2024.jpg\"/></center> \n",
    "\n",
    "## <center><font color=\"blue\">taudata Analytics™</font><br>(C) Taufik Sutanto - 2024<br>https://taudata-analytics.com</center>"
   ]
  },
  {
   "cell_type": "code",
   "execution_count": 1,
   "id": "7dff6215",
   "metadata": {},
   "outputs": [],
   "source": [
    "import warnings; warnings.simplefilter('ignore')\n",
    "import numpy as np, pandas as pd, matplotlib.pyplot as plt\n",
    "import seaborn as sns\n",
    "from tqdm import tqdm\n",
    "from sklearn import  tree\n",
    "from sklearn.linear_model import LogisticRegression\n",
    "from sklearn.model_selection import train_test_split\n",
    "from sklearn.metrics import confusion_matrix, classification_report\n",
    "from sklearn.metrics import precision_score, recall_score, f1_score\n",
    "from sklearn.model_selection import cross_val_score\n",
    "\n",
    "sns.set(style=\"ticks\", color_codes=True)\n",
    "np.random.seed(1105)"
   ]
  },
  {
   "cell_type": "markdown",
   "id": "1851cbe7",
   "metadata": {},
   "source": [
    "# <center><font color=\"blue\">Asumsi Kuliah Credit Earning 2021</font></center>\n",
    "\n",
    "* <font color=\"blue\">**Tantangan**</font>: \n",
    " - Beda universitas, semester, & jurusan\n",
    " - Hanya 2 jam (termasuk diskusi)\n",
    "* <font color=\"blue\">**Strategi**</font>:\n",
    " - Fokus ke **Aplikasi**\n",
    " - **Code** diberikan/tunjukkan hanya sebagai demonstrasi (bukan kompetensi yang harus didapatkan dari kuliah ini).\n",
    " - Sehingga \"quiz\" terkait kuliah ini hanyalah pengertian dasar saja.\n",
    "\n",
    "<center><img src=\"images/vector-icon/quiz-requirement.jpeg\" width=\"399\" height=\"249\" /></center>\n",
    "\n",
    "><font color=\"green\">\"*Minimum requirements & Maximum adjustments are two steps for Happy & Successful Life*\" ~ Maulik Jadav</font>\n",
    "\n",
    "image source: https://medium.com/@nipunithisarangi/level-up-your-requirement-gathering-game-cb1c42e9ffbd"
   ]
  },
  {
   "cell_type": "markdown",
   "id": "b147ee23",
   "metadata": {},
   "source": [
    "# <center><font color=\"blue\">Outline Unsupervised Learning in Social Media Analytics</font></center>\n",
    "\n",
    "* Pendahuluan Social Media/Network Analytics\n",
    "* Digital Data Gathering\n",
    "* PreProcessing & Text Analytics\n",
    "* Topic Modelling & Semi-Supervised Topic Modelling\n",
    "* Unsupervised Sentimen Analysis\n",
    "* Social Network Analysis: Centrality analysis\n",
    "* Scaling ke Big Data?\n",
    "\n",
    "Diselingi implementasi langsung via **Python**\n",
    "\n",
    "<center><img src=\"images/satriadata2021/social-media-analytics-doodle.jpg\" /></center>\n",
    "\n",
    "><font color=\"green\">\"*I always have a basic plot outline, but I like to leave some things to be decided while I write*.\" ~ J. K. Rowling</font>\n",
    "\n",
    "image source: https://graphicriver.net/item/social-media-analytics-doodle-concept/25210278"
   ]
  },
  {
   "cell_type": "code",
   "execution_count": null,
   "id": "c734b370",
   "metadata": {},
   "outputs": [],
   "source": []
  },
  {
   "cell_type": "code",
   "execution_count": null,
   "id": "f486b6db",
   "metadata": {},
   "outputs": [],
   "source": []
  },
  {
   "cell_type": "code",
   "execution_count": null,
   "id": "d9845ace",
   "metadata": {},
   "outputs": [],
   "source": []
  },
  {
   "cell_type": "code",
   "execution_count": null,
   "id": "c359553f",
   "metadata": {},
   "outputs": [],
   "source": []
  },
  {
   "cell_type": "code",
   "execution_count": null,
   "id": "3be9b1a9",
   "metadata": {},
   "outputs": [],
   "source": []
  }
 ],
 "metadata": {
  "hide_input": false,
  "kernelspec": {
   "display_name": "Python 3 (ipykernel)",
   "language": "python",
   "name": "python3"
  },
  "language_info": {
   "codemirror_mode": {
    "name": "ipython",
    "version": 3
   },
   "file_extension": ".py",
   "mimetype": "text/x-python",
   "name": "python",
   "nbconvert_exporter": "python",
   "pygments_lexer": "ipython3",
   "version": "3.10.8"
  },
  "vp": {
   "vp_config_version": "1.0.0",
   "vp_menu_width": 273,
   "vp_note_display": false,
   "vp_note_width": 0,
   "vp_position": {
    "width": 278
   },
   "vp_section_display": false,
   "vp_signature": "VisualPython"
  }
 },
 "nbformat": 4,
 "nbformat_minor": 5
}
