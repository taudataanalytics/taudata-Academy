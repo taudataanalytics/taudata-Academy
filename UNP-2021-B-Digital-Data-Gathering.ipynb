{
 "cells": [
  {
   "cell_type": "markdown",
   "id": "6cd78d16",
   "metadata": {
    "slideshow": {
     "slide_type": "slide"
    }
   },
   "source": [
    "# <center><font color=\"green\"> https://bit.ly/unp-2021-B</font><br><font color=\"blue\">B - Digital Data Gathering</font></center>\n",
    "\n",
    "<center><img alt=\"\" src=\"images/unp-2021/Cover_UNP_2021_SMA_Vis.jpg\"/></center> \n",
    "\n",
    "## <center><font color=\"blue\">tau-data Indonesia</font><br>(C) Taufik Sutanto - 2021</center>\n",
    "<center><a href=\"https://tau-data.id\">https://tau-data.id</a> ~ <a href=\"mailto:taufik@tau-data.id\">taufik@tau-data.id</a></center>"
   ]
  },
  {
   "cell_type": "markdown",
   "id": "8d902262",
   "metadata": {
    "slideshow": {
     "slide_type": "slide"
    }
   },
   "source": [
    "# <center><font color=\"blue\">Outline Module B: Digital Data Gathering</font></center>\n",
    "\n",
    "1. Social Media Crawling\n",
    "2. Social Media Streaming\n",
    "3. Sekilas Privacy & Ethics Data Gathering\n",
    "4. Scrapping Media Social & Website\n",
    "5. Loading Local Documents\n",
    "\n",
    "<center><img src=\"images/satriadata2021/social-media-analytics-doodle.jpg\" /></center>\n",
    "\n",
    "><font color=\"green\">\"*I always have a basic plot outline, but I like to leave some things to be decided while I write*.\" ~ J. K. Rowling</font>\n",
    "\n",
    "image source: https://graphicriver.net/item/social-media-analytics-doodle-concept/25210278"
   ]
  },
  {
   "cell_type": "code",
   "execution_count": null,
   "id": "24430ad1",
   "metadata": {},
   "outputs": [],
   "source": [
    "import warnings; warnings.simplefilter('ignore')\n",
    "import nltk\n",
    "\n",
    "try:\n",
    "    import google.colab\n",
    "    IN_COLAB = True\n",
    "    !wget https://raw.githubusercontent.com/taudata-indonesia/eLearning/master/unp.py\n",
    "    !mkdir data\n",
    "    !wget -P data/ https://raw.githubusercontent.com/taudata-indonesia/eLearning/master/data/slang.txt\n",
    "    !wget -P data/ https://raw.githubusercontent.com/taudata-indonesia/eLearning/master/data/stopwords_id.txt\n",
    "    !wget -P data/ https://raw.githubusercontent.com/taudata-indonesia/eLearning/master/data/stopwords_en.txt\n",
    "    !wget -P data/ https://raw.githubusercontent.com/taudata-indonesia/eLearning/master/data/kata_dasar.txt\n",
    "    !wget -P data/ https://raw.githubusercontent.com/taudata-indonesia/eLearning/master/data/wn-ind-def.tab\n",
    "    !wget -P data/ https://raw.githubusercontent.com/taudata-indonesia/eLearning/master/data/wn-msa-all.tab\n",
    "    !wget -P data/ https://raw.githubusercontent.com/taudata-indonesia/eLearning/master/data/ind_SA.csv\n",
    "    !wget -P data/ https://raw.githubusercontent.com/taudata-indonesia/eLearning/master/data/all_indo_man_tag_corpus_model.crf.tagger\n",
    "\n",
    "    !pip install --upgrade spacy python-crfsuite unidecode textblob sastrawi sklearn-pycrfsuite\n",
    "    !pip install --upgrade unidecode twython tweepy beautifulsoup4\n",
    "    !python -m spacy download en\n",
    "    !python -m spacy download xx\n",
    "    !python -m spacy download en_core_web_sm\n",
    "    nltk.download('popular')\n",
    "except:\n",
    "    IN_COLAB = False\n",
    "    print(\"Running the code locally, please make sure all the python module versions agree with colab environment and all data/assets downloaded\")"
   ]
  },
  {
   "cell_type": "code",
   "execution_count": null,
   "id": "242cea71",
   "metadata": {},
   "outputs": [],
   "source": [
    "import unp\n",
    "import tweepy, json, urllib.request, requests\n",
    "from urllib.request import Request, urlopen\n",
    "from twython import TwythonStreamer\n",
    "from bs4 import BeautifulSoup as bs\n",
    "from tqdm import tqdm\n",
    "\"Done\""
   ]
  },
  {
   "cell_type": "markdown",
   "id": "412a6da8",
   "metadata": {
    "slideshow": {
     "slide_type": "slide"
    }
   },
   "source": [
    "# <center><font color=\"blue\">The Digital (World & Indonesia) - 2021</font></center>\n",
    "\n",
    "<center><img src=\"images/satriadata2021/the-digital-world.png\" /></center>\n",
    "\n",
    "><font color=\"green\">\"*We live in a digital world, but we're fairly analog creatures*.\" ~ Omar Ahmad</font>"
   ]
  },
  {
   "cell_type": "markdown",
   "id": "83cdfc17",
   "metadata": {
    "slideshow": {
     "slide_type": "slide"
    }
   },
   "source": [
    "# <center><font color=\"blue\">The Social Media (Indonesia - 2021)</font></center>\n",
    "\n",
    "<center><img src=\"images/satriadata2021/social-media-Indonesia-2021.png\"/></center>\n",
    "\n",
    "* Apa makna, informasi, atau insight yang bisa didapatkan dari statistik ini dari segi: ekonomi, pemerintahan, sosial, dsb?\n",
    "\n",
    "><font color=\"green\">“*What happens in Vegas stays in Vegas; what happens on Twitter stay on Google forever!*.” ~ Jure Klepic</font>"
   ]
  },
  {
   "cell_type": "markdown",
   "id": "1fbf371b",
   "metadata": {
    "slideshow": {
     "slide_type": "slide"
    }
   },
   "source": [
    "<center><img src=\"images/satriadata2021/social-media-landscape.jpg\"  width=\"600\" height=\"600\" /></center>\n",
    "\n",
    "><font color=\"green\">“*Focus on how to be social, not on how to do social*.” ~ Jay Baer, Convince & Convert</font>"
   ]
  },
  {
   "cell_type": "markdown",
   "id": "70b74ad8",
   "metadata": {
    "slideshow": {
     "slide_type": "slide"
    }
   },
   "source": [
    "# <center><font color=\"blue\"> Social Media Analytics (SMA): Definisi </font></center>\n",
    "\n",
    "* SMA adalah sebuah proses pengumpulan data dari media sosial dan analisanya untuk mendapatkan \"insights\" atau informasi berharga untuk suatu tujuan tertentu (definisi diadopsi dari Gartner*).\n",
    "* <font color=\"green\">**More details here**</font>: https://tau-data.id/sma-01/\n",
    "\n",
    "<center><img src=\"images/8_SMA.JPG\" width=\"746\" height=\"378\" /></center>\n",
    "\n",
    "><font color=\"green\">“*It is important that we realize that words have meanings far beyond the dictionary definition.*.” ~ Dan Levy</font>"
   ]
  },
  {
   "cell_type": "markdown",
   "id": "ae12ee2d",
   "metadata": {
    "slideshow": {
     "slide_type": "slide"
    }
   },
   "source": [
    "# <center><font color=\"blue\">Social Network Analysis (SNA): Definisi</font></center>\n",
    "\n",
    "<center><img src=\"images/SNA_Graph_Types.png\" width=\"495\" height=\"313\" /></center>\n",
    "\n",
    "* SNA is the process of investigating social structures through the use of networks and graph theory [Otte, Evelien; Rousseau, Ronald (2002)]\n",
    "* Terdapat berbagai macam cara untuk membentuk Graph dari data media sosial: retweet, mention, followers, friends, etc.\n",
    "\n",
    "><font color=\"green\">“*Social networks aren’t about Web sites. They’re about experiences*.” ~ Mike DiLorenzo</font>"
   ]
  },
  {
   "cell_type": "markdown",
   "id": "ffc93675",
   "metadata": {
    "slideshow": {
     "slide_type": "slide"
    }
   },
   "source": [
    "# <center><font color=\"blue\">Social Media Real-world Applications</font></center>\n",
    "\n",
    "<center><img src=\"images/satriadata2021/social media analytics applications.png\" width=\"861\" height=\"236\" /></center>\n",
    "\n",
    "* Customer Behaviour, Campaign Performance, Customer interest, Competitive Analysis, Customer Satisfaction, Review Analysis.\n",
    "* Business insights for investors.\n",
    "* Counter terrorism (National security/defence)\n",
    "* Health, Natural disasters mitigation, etc.\n",
    "\n",
    "><font color=\"green\">“*Social media is not a media. The key is to listen, engage, and build relationships*.” ~ David Alston</font>"
   ]
  },
  {
   "cell_type": "markdown",
   "id": "cffa7c25",
   "metadata": {
    "slideshow": {
     "slide_type": "slide"
    }
   },
   "source": [
    "# <center><font color=\"blue\">SMA-SNA Techniques</font></center>\n",
    "\n",
    "* **SMA**: Sentiment Analysis, Topic Modelling, Gender/Age Prediction, Spatial Analysis, Hashtag Analysis, Hoax Detection, Viral Prediction, etc.\n",
    "* **SNA**: Centrality Analysis, Community Detection, recommender system, etc.\n",
    "* image source: <font color=\"green\">**Andry Alamsyah, Budi Rahardjo - 2013**</font>\n",
    "<center><img src=\"images/satriadata2021/sna-taxonomy.jpg\"/></center>\n",
    "\n",
    "><font color=\"green\">“*Algorithms are not arbiters of objective truth and fairness simply because they're math*.” ~ Zoe Quinn</font>"
   ]
  },
  {
   "cell_type": "markdown",
   "id": "79cc6e4d",
   "metadata": {
    "slideshow": {
     "slide_type": "slide"
    }
   },
   "source": [
    "<center><img src=\"images/8_SMA_Cycle.JPG\" width=\"740\" height=\"315\" /></center>\n",
    "\n",
    "><font color=\"green\">“*It is good to have an end to journey toward; but it is the journey that matters, in the end*.” ~ Ursula K. Le Guin</font>"
   ]
  },
  {
   "cell_type": "markdown",
   "id": "d32cb56d",
   "metadata": {
    "slideshow": {
     "slide_type": "slide"
    }
   },
   "source": [
    "# <center><font color=\"blue\">Social Media/Network Analysis Technology/Tools</font></center>\n",
    "\n",
    "* **Neo4j** - Graph Database, **Elasticsearch** - Text Search Engine & NoSQL\n",
    "* **Apache Kafka** - Handling multi stream realtime input data.\n",
    "* **Gephi** - Graph Visualization\n",
    "* **VoyantTools** - Text Visualization & Analysis\n",
    "* **NetworkX**: Python Modules - Graph Programming\n",
    "* **NLTK-Spacy**: For Text Related Analysis.\n",
    "* **Spark/Hadoop**: for big data DDDC.\n",
    "* <font color=\"blue\">**More details here:**</font> https://tau-data.id/dsbd-05/\n",
    "\n",
    "<center><img src=\"images/meme-cartoon/technology-meme-office-space.jpg\" width=\"420\" height=\"278\" /></center>\n",
    "\n",
    "><font color=\"green\">“*Any sufficiently advanced technology is indistinguishable from magic*.” ~ Arthur C. Clarke</font>"
   ]
  },
  {
   "cell_type": "markdown",
   "id": "40a87f31",
   "metadata": {
    "slideshow": {
     "slide_type": "slide"
    }
   },
   "source": [
    "# <center><font color=\"blue\">Beberapa Contoh Perusahaan terkait SMA-SNA (Indonesia)</font></center> \n",
    "\n",
    "* **tau-data Indonesia** (SMA-SNA DS/BD) - Taufik Sutanto - https://tau-data.id\n",
    "* **Drone Emprit** (SMA-SNA) - Pak Ismail Fahmi - https://pers.droneemprit.id/\n",
    "* **Bahasa Kita** (text Related) - Pak Oskar Riandi - https://bahasakita.co.id/\n",
    "* **Evello** (Big Data AI) - Pak Dudy Rudianto - https://evello.co.id/\n",
    "\n",
    "<center><img src=\"images/satriadata2021/sma-sna-companies-indoensia.png\"/></center>\n",
    "\n",
    "><font color=\"green\">“*In the ordinary business of life, industry can do anything which genius can do, and very many things which it cannot*.” ~ Henry Ward Beecher</font>"
   ]
  },
  {
   "cell_type": "markdown",
   "id": "68805dd9",
   "metadata": {
    "slideshow": {
     "slide_type": "slide"
    }
   },
   "source": [
    "# <center><font color=\"blue\"> Tantangan SMA </font></center>\n",
    "\n",
    "<center><img src=\"images/satriadata2021/sma-challenge-industry.jpg\" width=\"450\" height=\"300\" /></center>\n",
    "\n",
    "* Pendek (<strong>Short </strong>in lengths): bahkan terkadang tidak mengandung sebuah kalimat yang utuh menurut tata bahasa (grammar).\n",
    "* <strong>Noise&nbsp;</strong>: Data media sosial penuh dengan noise seperti typos (salah ketik), encoding yang tidak jamak, slang, dsb.\n",
    "* <strong>Temporal&nbsp;</strong>: Informasi yang sedang trending biasanya hanya sesaat,<br />\n",
    "\tsehingga SMA diharapkan dilakukan dengan cepat menggunakan model-model/teknik-teknik analisa data yang efisien\n",
    "* <strong>High-dimensional</strong> : Data di Media Sosial (Teks, Gambar, Video, Suara, dsb) adalah data tidak terstruktur berdimensi tinggi.\n",
    "* <strong>Fine-grained</strong> : Data di media sosial berasal dari banyak user yang masing-masingnya bisa jadi membahas beberapa topik yang berbeda. Sehingga komunitas (kelompok), topik, maupun klasifikasi yang ada menjadi besar (fine-grained).\n",
    "* <strong>Large in volume</strong>&nbsp;&amp; <strong>High velocity</strong>:&nbsp; Data yang sangat besar dan bertambah besar dengan cepat.\n",
    "* <strong>A lot of external Information</strong> : Informasi terkadang lebih banyak terkandung dari luar (eksternal) seperti url website, video, atau hal lain yang dibagikan oleh pengguna media sosial.\n",
    "\n",
    "><font color=\"green\">“*If you make customers unhappy in the physical world, they might each tell 6 friends. If you make customers unhappy on the Internet, they can each tell 6,000 friends*.” ~ Jeff Bezos</font>"
   ]
  },
  {
   "cell_type": "markdown",
   "id": "4c103c4c",
   "metadata": {
    "slideshow": {
     "slide_type": "slide"
    }
   },
   "source": [
    "# <center><font color=\"blue\">Digital Data Gathering (DDG): Scrapping, Crawling, & Streaming</font></center>\n",
    "\n",
    "<center><img src=\"images/satriadata2021/scrapping-crawling-streaming.png\" width=\"693\" height=\"295\" /></center>\n",
    "\n",
    "* **Streaming**: teknik pengiriman data (media) secara kontinu & real-time.\n",
    "\n",
    "><font color=\"green\">“*Data is a precious thing and will last longer than the systems themselves*.” ~ Tim Berners-Lee</font>"
   ]
  },
  {
   "cell_type": "markdown",
   "id": "ba7ca7a6",
   "metadata": {
    "slideshow": {
     "slide_type": "slide"
    }
   },
   "source": [
    "# <center><font color=\"blue\">Ethics & Regulation</font></center>\n",
    "\n",
    "* Scrapping secara umum (minimal) tidak etis (bisa jadi ilegal). Mengapa? karena scraping mirip DDOS attack yang akan memberatkan server atau bahkan membuat server berhenti berfungsi normal. Program scraping juga memungkinkan akan mengakses data yang tidak dimaksudkan untuk konsumsi publik.\n",
    "* Satu-satunya saat dimana scraping boleh dilakukan adalah saat sang pelaku/programer menghormati “robots.txt” yang telah diberikan oleh web administrator. Atau lebih baik lagi adalah menggunakan API (Application Program Interface) yang diberikan oleh provider (website/medsos) lalu melakukan crawling.\n",
    "* Yakinkan untuk membaca ToS (Terms of Sevice) dengan baik.\n",
    "* <font color=\"blue\">**More details here:**</font> https://tau-data.id/scraping/\n",
    "\n",
    "<center><img src=\"images/Data Ethics and Law.png\" width=\"619\" height=\"287\" /></center>\n",
    "\n",
    "><font color=\"green\">“*Good regulation should be conducive to business and to customer protection*.” ~ Jamie Dimon</font>"
   ]
  },
  {
   "cell_type": "markdown",
   "id": "28dc9dc4",
   "metadata": {
    "slideshow": {
     "slide_type": "slide"
    }
   },
   "source": [
    "# <center><font color=\"blue\">Case Study: twitter</font></center>\n",
    "\n",
    "<img alt=\"\" src=\"images/6_twitter.png\" style=\"width: 300px; height: 300px;\" />\n",
    "\n",
    "1. Login ke twitter\n",
    "2. Registrasi sebagai developer (wajib menggunakan no telephone): https://developer.twitter.com/en/portal/projects-and-apps\n",
    "3. Create new App\n",
    "4. Catat Customer Key & Secret (Ck-Cs) serta Access Token & Secret (At-As)\n",
    "5. **Modules**: tweepy\n",
    "\n",
    "### More Details: https://tau-data.id/sma-01/"
   ]
  },
  {
   "cell_type": "markdown",
   "id": "c2929d00",
   "metadata": {},
   "source": [
    "<h2 id=\"Aturan-twitter\">Aturan, bentuk data, &amp; error codes twitter</h2>\n",
    "\n",
    "<ol>\n",
    "\t<li>\n",
    "\t<p><a href=\"https://dev.twitter.com/rest/public/rate-limiting\" target=\"_blank\">https://</a><a href=\"https://dev.twitter.com/rest/public/rate-limiting\" target=\"_blank\">dev.twitter.com/rest/public/rate-limiting</a></p>\n",
    "\t</li>\n",
    "\t<li>\n",
    "\t<p><a href=\"https://dev.twitter.com/overview/terms/agreement-and-policy\" target=\"_blank\">https://dev.twitter.com/overview/terms/agreement-and-policy</a></p>\n",
    "\t</li>\n",
    "\t<li>\n",
    "\t<p><a href=\"https://dev.twitter.com/overview/api/response-codes\" target=\"_blank\">https://</a><a href=\"https://dev.twitter.com/overview/api/response-codes\" target=\"_blank\">dev.twitter.com/overview/api/response-codes</a></p>\n",
    "\t</li>\n",
    "\t<li>\n",
    "\t<p><a href=\"https://dev.twitter.com/overview/api/tweets\" target=\"_blank\">https://</a><a href=\"https://dev.twitter.com/overview/api/tweets\" target=\"_blank\">dev.twitter.com/overview/api/tweets</a></p>\n",
    "\t</li>\n",
    "</ol>"
   ]
  },
  {
   "cell_type": "code",
   "execution_count": null,
   "id": "1a5b56cb",
   "metadata": {
    "slideshow": {
     "slide_type": "slide"
    }
   },
   "outputs": [],
   "source": [
    "# Contoh API Keys (Sesuaikan dengan API keys masing-masing)\n",
    "Ck = '' # consumer_key\n",
    "Cs = '' # consumer_secret\n",
    "At = '-' # access_token\n",
    "As = '' # access_secret\n",
    "'Done'"
   ]
  },
  {
   "cell_type": "code",
   "execution_count": null,
   "id": "c29cc633",
   "metadata": {
    "slideshow": {
     "slide_type": "slide"
    }
   },
   "outputs": [],
   "source": [
    "import tweepy\n",
    "\n",
    "auth = tweepy.auth.OAuthHandler(Ck, Cs)\n",
    "auth.set_access_token(At, As)\n",
    "api = tweepy.API(auth, wait_on_rate_limit=True, timeout=180, retry_count=5, retry_delay=3)\n",
    "usr_ = api.verify_credentials()\n",
    "print('Welcome \"{}\" you are now connected to twitter server'.format(usr_.name))"
   ]
  },
  {
   "cell_type": "markdown",
   "id": "b92a5d74",
   "metadata": {
    "slideshow": {
     "slide_type": "slide"
    }
   },
   "source": [
    "# <center><font color=\"blue\">Mengapa API Keys penting untuk dijaga seperti Username & Password?</font></center>\n",
    "\n",
    "<center><img src=\"images/meme-cartoon/meme-i-can-haz-api-key.jpg\" width=\"301\" height=\"314\" /></center>"
   ]
  },
  {
   "cell_type": "code",
   "execution_count": null,
   "id": "3fc66ade",
   "metadata": {},
   "outputs": [],
   "source": [
    "# Kita bisa post, delete, follow, like, reply, retweet, dsb.\n",
    "# WARNING ... Status harus dibedakan, jika tidak akan gagal karena twitter mendeteksi status duplikat.\n",
    "\n",
    "status = \"Testing Workshop Visualisasi Media Sosial Jurusan Statistika UNP - 2021\"\n",
    "t = api.update_status(status)\n",
    "# Silahkan cek timeline setelah ini\n",
    "\"Done! ... Silahkan cek timeline twitter anda.\""
   ]
  },
  {
   "cell_type": "markdown",
   "id": "dcf1d821",
   "metadata": {
    "slideshow": {
     "slide_type": "slide"
    }
   },
   "source": [
    "# <center><font color=\"blue\">Crawling twitter</font></center>\n",
    "\n",
    "<center><img src=\"images/Digital_Media_Crawling_.png\" width=\"501\" height=\"514\" /></center>\n",
    "\n",
    "* image source: https://www.promptcloud.com/blog/scraping-social-media-data-for-sentiment-analysis/"
   ]
  },
  {
   "cell_type": "code",
   "execution_count": null,
   "id": "71b21be9",
   "metadata": {
    "scrolled": true,
    "slideshow": {
     "slide_type": "slide"
    }
   },
   "outputs": [],
   "source": [
    "qry = 'banjir'\n",
    "N = 100 # jumlah N tweet \"terkini\" yang ingin diambil\n",
    "T = []\n",
    "for post in tqdm(tweepy.Cursor(api.search_tweets, q=qry, lang='id', tweet_mode='extended').items(N)):\n",
    "    T.append(post)\n",
    "    \n",
    "\"Done\""
   ]
  },
  {
   "cell_type": "code",
   "execution_count": null,
   "id": "e843fd6d",
   "metadata": {
    "slideshow": {
     "slide_type": "slide"
    }
   },
   "outputs": [],
   "source": [
    "T[0]._json"
   ]
  },
  {
   "cell_type": "markdown",
   "id": "4587cbb3",
   "metadata": {
    "slideshow": {
     "slide_type": "slide"
    }
   },
   "source": [
    "# <center><font color=\"blue\">Json Files</font></center>\n",
    "\n",
    "<ul>\n",
    "\t<li>Populer digunakan untuk data dari Media Sosial dan NoSQL</li>\n",
    "\t<li>Portable: File Json memuat nama variabel dan nilainya (tidak seperti XML)</li>\n",
    "\t<li>Plain Text</li>\n",
    "\t<li>Schemaless: Setiap record tidak harus memiliki jumlah field yang tetap seperti csv</li>\n",
    "\t<li>JSON isomorfis dengan &quot;Dictionary&quot; di Python</li>\n",
    "\t<li>Contoh struktur file json:</li>\n",
    "</ul>\n",
    "\n",
    "<img style=\"undefined: undefined;\" src=\"images/json.png\" alt=\"\" width=\"194\" height=\"204\" />"
   ]
  },
  {
   "cell_type": "code",
   "execution_count": null,
   "id": "8e7863e2",
   "metadata": {
    "slideshow": {
     "slide_type": "slide"
    }
   },
   "outputs": [],
   "source": [
    "# T bukan sekedar list of tweets \n",
    "tweet = [t._json for t in T]\n",
    "print(' Berhasil mendapatkan {} tweets'.format(len(tweet)))"
   ]
  },
  {
   "cell_type": "code",
   "execution_count": null,
   "id": "4af0d114",
   "metadata": {
    "slideshow": {
     "slide_type": "slide"
    }
   },
   "outputs": [],
   "source": [
    "# Data pertama\n",
    "tweet[0]"
   ]
  },
  {
   "cell_type": "code",
   "execution_count": null,
   "id": "f629c232",
   "metadata": {
    "slideshow": {
     "slide_type": "slide"
    }
   },
   "outputs": [],
   "source": [
    "# Datanya berbentuk JSON\n",
    "tweet[0]['created_at'], tweet[0]['full_text']"
   ]
  },
  {
   "cell_type": "code",
   "execution_count": null,
   "id": "3a12b41e",
   "metadata": {
    "slideshow": {
     "slide_type": "slide"
    }
   },
   "outputs": [],
   "source": [
    "# Contoh mengakses data spesifik pada tweet yang pertama:\n",
    "print('tweet pertama oleh \"{}\" : \"{}\"'.format(tweet[0]['user']['screen_name'],tweet[0]['full_text']))"
   ]
  },
  {
   "cell_type": "markdown",
   "id": "13da7fab",
   "metadata": {
    "slideshow": {
     "slide_type": "slide"
    }
   },
   "source": [
    "# <center><font color=\"blue\">Menyimpan hasil crawling (sederhana ke Text file berformat json)</font></center>"
   ]
  },
  {
   "cell_type": "code",
   "execution_count": null,
   "id": "27919b88",
   "metadata": {
    "slideshow": {
     "slide_type": "fragment"
    }
   },
   "outputs": [],
   "source": [
    "import json \n",
    "def saveTweets(tweets, file='Tweets.json'): #in Json Format\n",
    "    with open(file, 'w') as f:\n",
    "        for t in tweets:\n",
    "            try:\n",
    "                f.write(json.dumps(t)+'\\n')\n",
    "            except:\n",
    "                pass"
   ]
  },
  {
   "cell_type": "code",
   "execution_count": null,
   "id": "a03e46dd",
   "metadata": {
    "slideshow": {
     "slide_type": "slide"
    }
   },
   "outputs": [],
   "source": [
    "# Menyimpan hasil crawling twitter\n",
    "fileName = 'Tweets_unp2021.json'\n",
    "saveTweets(tweet, file=fileName)\n",
    "print('Saved to '+fileName)"
   ]
  },
  {
   "cell_type": "markdown",
   "id": "cab4f6c8",
   "metadata": {
    "slideshow": {
     "slide_type": "slide"
    }
   },
   "source": [
    "# <center><font color=\"blue\">Load Kembali?</font></center>"
   ]
  },
  {
   "cell_type": "code",
   "execution_count": null,
   "id": "5b9b1004",
   "metadata": {
    "slideshow": {
     "slide_type": "fragment"
    }
   },
   "outputs": [],
   "source": [
    "def loadTweets(file='Tweets.json'):\n",
    "    f=open(file,encoding='utf-8', errors ='ignore', mode='r')\n",
    "    T=f.readlines();f.close()\n",
    "    for i,t in enumerate(T):\n",
    "        T[i] = json.loads(t.strip())\n",
    "    return T"
   ]
  },
  {
   "cell_type": "code",
   "execution_count": null,
   "id": "50f6238c",
   "metadata": {
    "slideshow": {
     "slide_type": "slide"
    }
   },
   "outputs": [],
   "source": [
    "# Me-load kembali jika (misal) analisa ingin dilakukan di lain waktu\n",
    "# Sengaja nama variabelnya saya bedakan (T2)\n",
    "T2 = loadTweets(file=fileName)\n",
    "print('tweet pertama oleh \"{}\" : \"{}\"'.format(T2[0]['user']['screen_name'],T2[0]['full_text']))"
   ]
  },
  {
   "cell_type": "code",
   "execution_count": null,
   "id": "75f286cd",
   "metadata": {
    "slideshow": {
     "slide_type": "slide"
    }
   },
   "outputs": [],
   "source": [
    "# Contoh mengambil hanya data tweet\n",
    "D = [t['full_text'] for t in T2]\n",
    "D[:5] # 5 tweet pertama"
   ]
  },
  {
   "cell_type": "markdown",
   "id": "cb2e3daa",
   "metadata": {
    "slideshow": {
     "slide_type": "slide"
    }
   },
   "source": [
    "# <center><font color=\"blue\">Query Operator twitter</font></center>\n",
    "\n",
    "<img alt=\"\" src=\"images/query_Operator.png\" style=\"width: 661px; height: 554px;\" />\n",
    "\n",
    "* Detail: <a href=\"https://developer.twitter.com/en/docs/tweets/search/guides/standard-operators.html\" target=\"_blank\">https://developer.twitter.com/en/docs/tweets/search/guides/standard-operators.html</a>"
   ]
  },
  {
   "cell_type": "markdown",
   "id": "fe5f1ab8",
   "metadata": {},
   "source": [
    "<img alt=\"\" src=\"images/SMA-Sampling.png\" />"
   ]
  },
  {
   "cell_type": "code",
   "execution_count": null,
   "id": "8c32eaab",
   "metadata": {
    "slideshow": {
     "slide_type": "slide"
    }
   },
   "outputs": [],
   "source": [
    "# Mari kita coba #1\n",
    "topic = 'from:jokowi'\n",
    "T = api.search_tweets(q=topic, lang='id', tweet_mode = 'extended')\n",
    "tweet = [t._json for t in T]\n",
    "isiTweet = [t['full_text'] for t in tweet]\n",
    "isiTweet"
   ]
  },
  {
   "cell_type": "markdown",
   "id": "5a6b1e26",
   "metadata": {
    "slideshow": {
     "slide_type": "slide"
    }
   },
   "source": [
    "# <center><font color=\"blue\">Spatial Analysis di twitter menggunakan Google Maps API dan twitter GeoCode</font></center>\n",
    "\n",
    "* Google Maps API (gratis 40.000 query/bulan) dan bisa dijalankan langsung dalam program Python\n",
    "* Alternatif: https://www.latlong.net/convert-address-to-lat-long.html\n",
    "\n",
    "<center><img src=\"images/satriadata2021/sma-spasial.png\" width=\"568\" height=\"325\" /></center>"
   ]
  },
  {
   "cell_type": "code",
   "execution_count": null,
   "id": "12ace4e1",
   "metadata": {
    "slideshow": {
     "slide_type": "slide"
    }
   },
   "outputs": [],
   "source": [
    "# https://www.latlong.net/convert-address-to-lat-long.html\n",
    "\n",
    "alamat = \"jl. Ir. H. Juanda No 95 tangerang selatan ciputat\"\n",
    "lat = '-6.307870'\n",
    "lon = '106.755820'\n",
    "\n",
    "\"Done\""
   ]
  },
  {
   "cell_type": "code",
   "execution_count": null,
   "id": "52dd3506",
   "metadata": {
    "slideshow": {
     "slide_type": "slide"
    }
   },
   "outputs": [],
   "source": [
    "# Mari kita coba #3 gunakan google (map) untuk koordinat suatu lokasi\n",
    "# http://thoughtfaucet.com/search-twitter-by-location/\n",
    "# misal search tweet tentang \"makanan\" di Depok dan sekitarnya\n",
    "radius = '100km'\n",
    "Geo = ','.join([lat, lon, radius])\n",
    "qry = 'beli mobil'\n",
    "for tweet_ in tweepy.Cursor(api.search_tweets, q=qry, geocode=Geo).items(N):\n",
    "    print([tweet_.created_at, tweet_.text.encode('utf-8'), tweet_.user.id, tweet_.geo])"
   ]
  },
  {
   "cell_type": "markdown",
   "id": "45b9a803",
   "metadata": {
    "slideshow": {
     "slide_type": "slide"
    }
   },
   "source": [
    "# <center><font color=\"blue\">Streaming Data</font></center>\n",
    "\n",
    "<center><img alt=\"\" src=\"images/Meme_Streaming_Data.jpg\" style=\"width: 307px; height: 309px;\" /></center>"
   ]
  },
  {
   "cell_type": "code",
   "execution_count": null,
   "id": "b36b389d",
   "metadata": {
    "slideshow": {
     "slide_type": "slide"
    }
   },
   "outputs": [],
   "source": [
    "# Streaming tweets. Untuk percobaan pilih topicS sesuatu yg sedang trending/populer \"saat ini\".\n",
    "# Atau bisa coba dengan mengirim tweet sendiri :)\n",
    "from twython import TwythonStreamer\n",
    "\n",
    "def streamTwitter(topicS, lang):\n",
    "    class MyStreamer(TwythonStreamer):\n",
    "        def on_success(self, data):\n",
    "            global count\n",
    "            count+=1\n",
    "            print('tweet from {}, post: {}'.format(data['user']['screen_name'], data['text']))\n",
    "            if count==maxTweet:\n",
    "                print('\\nFinished streaming %.0f tweets' %(maxTweet)); self.disconnect()\n",
    "        def on_error(self, status_code, data):\n",
    "            print('Error Status = %s' %status_code); self.disconnect()\n",
    "\n",
    "    while count<maxTweet:\n",
    "        stream = MyStreamer(Ck, Cs, At, As)\n",
    "        stream.statuses.filter(track=topicS)"
   ]
  },
  {
   "cell_type": "code",
   "execution_count": null,
   "id": "0e1b234f",
   "metadata": {
    "scrolled": true,
    "slideshow": {
     "slide_type": "slide"
    }
   },
   "outputs": [],
   "source": [
    "maxTweet, count = 7, 0 # Rubah sesuai dengan kebutuhan, Untuk percobaan ini cukup (misal) 12 tweet\n",
    "lan = set(['en','id']) # bahasa bisa dipilih > 1\n",
    "topicS = ['taudata', 'unp'] # Bisa>1\n",
    "\n",
    "streamTwitter(topicS, lan)"
   ]
  },
  {
   "cell_type": "markdown",
   "id": "cc35113f",
   "metadata": {
    "slideshow": {
     "slide_type": "slide"
    }
   },
   "source": [
    "# <center><font color=\"blue\">Pada kasus nyata data disimpan ke database - Big Data</font></center>\n",
    "\n",
    "* Contoh aplikasi di Elasticsearch\n",
    "\n",
    "<center><img style=\"undefined: undefined;\" src=\"images/elasticsearch.png\" alt=\"\" width=\"471\" height=\"266\" /></center>"
   ]
  },
  {
   "cell_type": "markdown",
   "id": "5af3e090",
   "metadata": {
    "slideshow": {
     "slide_type": "slide"
    }
   },
   "source": [
    "# <center><font color=\"blue\">Big Data semakin Mudah</font></center>\n",
    "\n",
    "* Easy Scalability: Auto balancing & distributing\n",
    "* Easy replica (Backup)\n",
    "* Easy Monitoring & Visualization: dashboard\n",
    "* Not easy? .... Statistika/Teori di balik Big Data.\n",
    "\n",
    "<p><img src=\"images/illustrated-screenshot-hero-kibana.png\" /></p>"
   ]
  },
  {
   "cell_type": "markdown",
   "id": "53be9f09",
   "metadata": {
    "slideshow": {
     "slide_type": "slide"
    }
   },
   "source": [
    "# <center><font color=\"blue\">Preprocessing data Teks</font></center>\n",
    "\n",
    "### Pembahasan Detail: https://tau-data.id/nlptm-01/\n",
    "\n",
    "<p><img src=\"images/TextMining_PipeLine.jpg\" alt=\"\" width=\"584\" height=\"228\" /></p>"
   ]
  },
  {
   "cell_type": "code",
   "execution_count": null,
   "id": "275ca5f5",
   "metadata": {
    "slideshow": {
     "slide_type": "slide"
    }
   },
   "outputs": [],
   "source": [
    "# preprocess \"D\": kumpulan tweet\n",
    "slangFixId = unp.loadCorpus(file = 'data/slang.dic', sep=':')\n",
    "stopId, _ = unp.LoadStopWords(lang='id')\n",
    "stopId.add(\"rt\")\n",
    "\n",
    "list(stopId)[:5]"
   ]
  },
  {
   "cell_type": "code",
   "execution_count": null,
   "id": "ee47cb8c",
   "metadata": {
    "slideshow": {
     "slide_type": "slide"
    }
   },
   "outputs": [],
   "source": [
    "from tqdm import tqdm \n",
    "\n",
    "cleanD = []\n",
    "for t in tqdm(D):\n",
    "    doc = unp.cleanText(t, fix=slangFixId, lan='id', stops = stopId)\n",
    "    cleanD.append(doc)\n",
    "    \n",
    "\"Done\""
   ]
  },
  {
   "cell_type": "code",
   "execution_count": null,
   "id": "ad1a1fc7",
   "metadata": {
    "slideshow": {
     "slide_type": "slide"
    }
   },
   "outputs": [],
   "source": [
    "print(D[0], end='\\n\\n')\n",
    "print(cleanD[0], end='\\n\\n')"
   ]
  },
  {
   "cell_type": "code",
   "execution_count": null,
   "id": "8a957b3c",
   "metadata": {
    "slideshow": {
     "slide_type": "slide"
    }
   },
   "outputs": [],
   "source": [
    "# Save ke txt ... lalu nanti akan di upload ke Voyant Tools\n",
    "filename = 'tweets_unp.txt'\n",
    "with open(filename, 'w') as f:\n",
    "    for T in cleanD:\n",
    "        f.write(T+'\\n')\n",
    "        \n",
    "\"Tweets Saved!\""
   ]
  },
  {
   "cell_type": "markdown",
   "id": "97ddb6ac",
   "metadata": {
    "slideshow": {
     "slide_type": "slide"
    }
   },
   "source": [
    "# <center><font color=\"blue\">HashTag Analysis</font></center>\n",
    "\n",
    "* Frequency-Based\n",
    "* Bisa ditambahkan analisa hashtags analysis ini dari waktu ke waktu"
   ]
  },
  {
   "cell_type": "code",
   "execution_count": null,
   "id": "980b0ce9",
   "metadata": {
    "slideshow": {
     "slide_type": "slide"
    }
   },
   "outputs": [],
   "source": [
    "import re\n",
    "\n",
    "HTfilters = set(['zz', 'architec', 'prize', 'stirli', 'architect', 'london', 'cpd', 'design', 'stirling', 'photogr', 'gemini', \n",
    "                 'mule', 'karaoke', 'playing', 'official', 'berita', 'follow', 'retweet', 'mufc', 'ntms', 'infolimit', 'eeaa', \n",
    "                 'eaa', 'cfc', 'caprico', 'breaking','news', 'libra', 'mereka', 'brankas', 'psikolog', 'aquarius', 'klc'])\n",
    "# modifikasi HTfilters sesuai data kamu\n",
    "HT = {'hashtags':[]}\n",
    "count = 0\n",
    "getHashTags = re.compile(r\"#(\\w+)\")\n",
    "for i, d in tqdm(enumerate(D)):\n",
    "    hashtags = re.findall(getHashTags, d)\n",
    "    if hashtags:\n",
    "        TG = []\n",
    "        for tag in hashtags:\n",
    "            dTag = str(tag).strip().lower()\n",
    "            if len(dTag)>2:\n",
    "                add = True\n",
    "                for f in HTfilters:\n",
    "                    if f in dTag:\n",
    "                        add=False; break\n",
    "                if add:\n",
    "                    TG.append('#'+dTag); count += 1\n",
    "            HT['hashtags'].append(TG)\n",
    "print('Found {} number of hashtags'.format(count))"
   ]
  },
  {
   "cell_type": "code",
   "execution_count": null,
   "id": "734d0b24",
   "metadata": {
    "slideshow": {
     "slide_type": "slide"
    }
   },
   "outputs": [],
   "source": [
    "import pandas as pd\n",
    "\n",
    "N = 50 # Number of top frequent hashtags to be plotted\n",
    "\n",
    "dtHT = [x for t in tqdm(HT['hashtags']) for x in t] # any(h not in x for h in HTfilters)\n",
    "dtHT = pd.Series(dtHT)\n",
    "dtHT = dtHT.value_counts()\n",
    "dtHT = dtHT.sort_index()\n",
    "dtHT = dtHT.sort_values(ascending = False) \n",
    "dtHT.to_csv('hashTags_unp.csv', encoding='utf8')\n",
    "dtHT = dtHT.iloc[:N]\n",
    "\n",
    "p = dtHT.plot(kind='barh', figsize=(12,8), legend = False)"
   ]
  },
  {
   "cell_type": "markdown",
   "id": "fc193ce1",
   "metadata": {},
   "source": [
    "# Web Scrapping?"
   ]
  },
  {
   "cell_type": "code",
   "execution_count": null,
   "id": "d898ecae",
   "metadata": {
    "scrolled": true
   },
   "outputs": [],
   "source": [
    "import urllib.request\n",
    "from bs4 import BeautifulSoup as bs\n",
    "\n",
    "URL = 'https://fst.uinjkt.ac.id/'\n",
    "Doc = urllib.request.urlopen(URL).read()\n",
    "Doc = bs(Doc,'lxml').text\n",
    "print(Doc)"
   ]
  },
  {
   "cell_type": "markdown",
   "id": "911c8da5",
   "metadata": {
    "slideshow": {
     "slide_type": "slide"
    }
   },
   "source": [
    "# <center><font color=\"blue\"> Akhir Modul \"Digital Data Gathering\"</font></center>\n",
    "\n",
    "<hr />\n",
    "<img alt=\"\" src=\"images/meme-cartoon/meme_social_media.jpg\" style=\"height: 300px;\"/>"
   ]
  }
 ],
 "metadata": {
  "celltoolbar": "Slideshow",
  "kernelspec": {
   "display_name": "Python 3 (ipykernel)",
   "language": "python",
   "name": "python3"
  },
  "language_info": {
   "codemirror_mode": {
    "name": "ipython",
    "version": 3
   },
   "file_extension": ".py",
   "mimetype": "text/x-python",
   "name": "python",
   "nbconvert_exporter": "python",
   "pygments_lexer": "ipython3",
   "version": "3.8.8"
  },
  "latex_envs": {
   "LaTeX_envs_menu_present": true,
   "autoclose": false,
   "autocomplete": true,
   "bibliofile": "biblio.bib",
   "cite_by": "apalike",
   "current_citInitial": 1,
   "eqLabelWithNumbers": true,
   "eqNumInitial": 1,
   "hotkeys": {
    "equation": "Ctrl-E",
    "itemize": "Ctrl-I"
   },
   "labels_anchors": false,
   "latex_user_defs": false,
   "report_style_numbering": false,
   "user_envs_cfg": false
  }
 },
 "nbformat": 4,
 "nbformat_minor": 5
}
