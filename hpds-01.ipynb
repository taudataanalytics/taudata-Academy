{
 "cells": [
  {
   "cell_type": "markdown",
   "metadata": {
    "slideshow": {
     "slide_type": "slide"
    }
   },
   "source": [
    "<center><img alt=\"\" src=\"images/tau-data_banner.png\"/></center>\n",
    "<center><strong><h1>HPDS-01: Pendahuluan High Performance Data Science via Python - JIT</h1></strong><br />\n",
    "<img alt=\"\" src=\"images/PDS_logo.jpg\" />\n",
    "\n",
    "## (C)Taufik Sutanto\n",
    "## https://tau-data.id/hpds-01/\n"
   ]
  },
  {
   "cell_type": "markdown",
   "metadata": {},
   "source": [
    "# “Simplicity is the soul of efficiency.” – Austin Freeman\n",
    "\n",
    "<img alt=\"\" src=\"images/meme_compiler.jpg\" />"
   ]
  },
  {
   "cell_type": "markdown",
   "metadata": {},
   "source": [
    "# Python sering dituding \"Lambat\"\n",
    "\n",
    "<img alt=\"\" src=\"images/1_Python_VS_TheRest.png\" />"
   ]
  },
  {
   "cell_type": "markdown",
   "metadata": {},
   "source": [
    "# Numba: Just-In-Time (JIT) Compiler\n",
    "\n",
    "<img alt=\"\" src=\"images/numba_logo.png\" />\n",
    "\n",
    "* Cara terbaik untuk mengoptimalkan code adalah menggunakan profiling untuk menemukan \"Bottleneck\" process, lalu optimize fungsi tersebut.\n",
    "* Numba adalah module yang merupakan \"Decorator Fungsi\" (akan dijelaskan)\n",
    "* Numba Secara realtime (JIT) meng-compile fungsi tersebut."
   ]
  },
  {
   "cell_type": "markdown",
   "metadata": {},
   "source": [
    "# Code Profiling\n",
    "\n",
    "<img alt=\"\" src=\"images/code_bottleneck.png\" />\n",
    "\n",
    "* Image source: https://scoutapm.com/blog/identifying-bottlenecks-and-optimizing-performance-in-a-python-codebase"
   ]
  },
  {
   "cell_type": "markdown",
   "metadata": {},
   "source": [
    "# Profiling sederhana"
   ]
  },
  {
   "cell_type": "code",
   "execution_count": 16,
   "metadata": {},
   "outputs": [],
   "source": [
    "import numpy as np\n",
    "from time import time\n",
    "from functools import reduce\n",
    "\n",
    "N = 10**7\n",
    "X = np.random.rand(N)\n",
    "\n",
    "def fs1(X):\n",
    "    s = 0\n",
    "    for x in X:\n",
    "        s += x\n",
    "    return s/len(X)\n",
    "\n",
    "def fs2(X):\n",
    "    return sum(X)/len(X)\n",
    "\n",
    "def fs3(X):\n",
    "    return reduce(lambda a,c: a+c, X, 0)/len(X)\n",
    "\n",
    "def fs4(X):\n",
    "    return np.mean(X)"
   ]
  },
  {
   "cell_type": "code",
   "execution_count": 18,
   "metadata": {},
   "outputs": [
    {
     "name": "stdout",
     "output_type": "stream",
     "text": [
      "Fungsi pertama hasil = 0.49990601777899496, waktu yang dibutuhkan = 1.9884543418884277\n"
     ]
    }
   ],
   "source": [
    "mulai = time()\n",
    "rerata = fs1(X)\n",
    "akhir = time()\n",
    "print(\"Fungsi pertama hasil = {}, waktu yang dibutuhkan = {}\".format(rerata, akhir-mulai))"
   ]
  },
  {
   "cell_type": "code",
   "execution_count": 19,
   "metadata": {},
   "outputs": [
    {
     "name": "stdout",
     "output_type": "stream",
     "text": [
      "Fungsi kedua hasil = 0.49990601777899496, waktu yang dibutuhkan = 1.7475872039794922\n"
     ]
    }
   ],
   "source": [
    "mulai = time()\n",
    "rerata = fs2(X)\n",
    "akhir = time()\n",
    "print(\"Fungsi kedua hasil = {}, waktu yang dibutuhkan = {}\".format(rerata, akhir-mulai))"
   ]
  },
  {
   "cell_type": "code",
   "execution_count": 17,
   "metadata": {},
   "outputs": [
    {
     "name": "stdout",
     "output_type": "stream",
     "text": [
      "Fungsi ketiga hasil = 0.49990601777899496, waktu yang dibutuhkan = 2.7796430587768555\n"
     ]
    }
   ],
   "source": [
    "mulai = time()\n",
    "rerata = fs3(X)\n",
    "akhir = time()\n",
    "print(\"Fungsi ketiga hasil = {}, waktu yang dibutuhkan = {}\".format(rerata, akhir-mulai))"
   ]
  },
  {
   "cell_type": "code",
   "execution_count": 20,
   "metadata": {},
   "outputs": [
    {
     "name": "stdout",
     "output_type": "stream",
     "text": [
      "Fungsi ke-4 hasil = 0.4999060177790899, waktu yang dibutuhkan = 0.015958309173583984\n"
     ]
    }
   ],
   "source": [
    "mulai = time()\n",
    "rerata = fs4(X)\n",
    "akhir = time()\n",
    "print(\"Fungsi ke-4 hasil = {}, waktu yang dibutuhkan = {}\".format(rerata, akhir-mulai))"
   ]
  },
  {
   "cell_type": "markdown",
   "metadata": {},
   "source": [
    "# Cross Validasi Hasil"
   ]
  },
  {
   "cell_type": "code",
   "execution_count": 24,
   "metadata": {},
   "outputs": [
    {
     "name": "stdout",
     "output_type": "stream",
     "text": [
      "14.1 ms ± 388 µs per loop (mean ± std. dev. of 7 runs, 100 loops each)\n"
     ]
    }
   ],
   "source": [
    "%timeit fs4(X)"
   ]
  },
  {
   "cell_type": "code",
   "execution_count": 25,
   "metadata": {},
   "outputs": [
    {
     "name": "stdout",
     "output_type": "stream",
     "text": [
      "13.9 ms ± 271 µs per loop (mean ± std. dev. of 7 runs, 100 loops each)\n"
     ]
    }
   ],
   "source": [
    "%%timeit\n",
    "\n",
    "fs4(X)"
   ]
  },
  {
   "cell_type": "markdown",
   "metadata": {},
   "source": [
    "# Fungsi Decorator di Python"
   ]
  },
  {
   "cell_type": "code",
   "execution_count": 30,
   "metadata": {},
   "outputs": [],
   "source": [
    "def bersyukur():\n",
    "    print('Alhamdulillah')"
   ]
  },
  {
   "cell_type": "code",
   "execution_count": 31,
   "metadata": {},
   "outputs": [
    {
     "name": "stdout",
     "output_type": "stream",
     "text": [
      "Alhamdulillah\n"
     ]
    }
   ],
   "source": [
    "bersyukur()"
   ]
  },
  {
   "cell_type": "code",
   "execution_count": 27,
   "metadata": {},
   "outputs": [],
   "source": [
    "def yakinkan(func):\n",
    "    def wrapper():\n",
    "        while True:\n",
    "            res = input('Yakin anda ingin bersyukur? [y/n]')\n",
    "            if res.lower().strip()=='n':\n",
    "                return\n",
    "            elif res.lower().strip()=='y':\n",
    "                func()\n",
    "                return\n",
    "    return wrapper "
   ]
  },
  {
   "cell_type": "code",
   "execution_count": 29,
   "metadata": {},
   "outputs": [
    {
     "name": "stdout",
     "output_type": "stream",
     "text": [
      "Yakin anda ingin bersyukur? [y/n]y\n",
      "Alhamdulillah\n"
     ]
    }
   ],
   "source": [
    "fs = yakinkan(bersyukur)\n",
    "fs()"
   ]
  },
  {
   "cell_type": "markdown",
   "metadata": {},
   "source": [
    "# Tapi bisa dibuat lebih mudah lewat \"Decorator\" fungsi \"@\""
   ]
  },
  {
   "cell_type": "code",
   "execution_count": 32,
   "metadata": {},
   "outputs": [],
   "source": [
    "@yakinkan\n",
    "def bersyukur():\n",
    "    print('Alhamdulillah')"
   ]
  },
  {
   "cell_type": "code",
   "execution_count": 33,
   "metadata": {},
   "outputs": [
    {
     "name": "stdout",
     "output_type": "stream",
     "text": [
      "Yakin anda ingin bersyukur? [y/n]y\n",
      "Alhamdulillah\n"
     ]
    }
   ],
   "source": [
    "bersyukur()"
   ]
  },
  {
   "cell_type": "markdown",
   "metadata": {},
   "source": [
    "# Numba sebagai JIT Function Decorator"
   ]
  },
  {
   "cell_type": "code",
   "execution_count": 34,
   "metadata": {},
   "outputs": [],
   "source": [
    "from numba import njit\n",
    "\n",
    "jit_fs1 = njit(fs1)"
   ]
  },
  {
   "cell_type": "code",
   "execution_count": 35,
   "metadata": {},
   "outputs": [
    {
     "name": "stdout",
     "output_type": "stream",
     "text": [
      "2.26 s ± 473 ms per loop (mean ± std. dev. of 7 runs, 1 loop each)\n"
     ]
    }
   ],
   "source": [
    "%timeit fs1(X)"
   ]
  },
  {
   "cell_type": "code",
   "execution_count": 36,
   "metadata": {},
   "outputs": [
    {
     "name": "stdout",
     "output_type": "stream",
     "text": [
      "42.2 ns ± 0.566 ns per loop (mean ± std. dev. of 7 runs, 10000000 loops each)\n"
     ]
    }
   ],
   "source": [
    "%timeit jit_fs1"
   ]
  },
  {
   "cell_type": "markdown",
   "metadata": {},
   "source": [
    "# Cara kerja Numba\n",
    "\n",
    "<img alt=\"\" src=\"images/cara_kerja_numba.png\"/>\n",
    "\n",
    "* https://towardsdatascience.com/numba-weapon-of-mass-optimization-43cdeb76c7da\n",
    "* IR Intermediate Representations\n",
    "* Bytecode Analysis Intermediate code more abstract than machine code\n",
    "* LLVM Low Level Virtual Machine, infrastructure to develop compilers\n",
    "* NVVM It is an IR compiler based on LLVM, it is designed to represent GPU kernels"
   ]
  },
  {
   "attachments": {},
   "cell_type": "markdown",
   "metadata": {},
   "source": [
    "# Studi Kasus: Approksimasi nilai $\\Pi$ Dengan Hit-or-Miss Monte Carlo\n",
    "\n",
    "<img alt=\"\" src=\"images/hit-miss_monteCarlo.gif\"/>\n",
    "\n",
    "* Misal terdapat sebuah bujur sangkar dengan panjang sisinya 1. Di dalam bujur sangkar tersebut terdapat ¼ lingkaran dengan jari-jari 1, sehingga luasnya adalah $\\Pi/4$. Dengan demikian sebuah titik (x,y) didalam bujur sangkar tetapi diluar lingkaran akan memenuhi pertidaksamaan $x^2+y^2>1$\n",
    "* Dengan Monte carlo kita akan coba aproksimasi nilai $\\Pi$ dengan sistem di atas.\n",
    "* Kita akan men-generate N bilangan Random uniform [0,1] = (x,y) dan memeriksa apakah titik tersebut berada di dalam lingkaran. Ratio Jumlah titik di dalam lingkaran dan total titik yang digunakan akan mendekati ratio luas lingkaran dan bujur sangkar. Sehingga nilai $\\Pi$ dapat didekati dengan sederhana lewat formula:\n",
    "* 4*(jumlah titik dlm Ligkaran)/(Total titik.)"
   ]
  },
  {
   "cell_type": "code",
   "execution_count": 45,
   "metadata": {},
   "outputs": [],
   "source": [
    "def hmMC(N):\n",
    "    NInside = 0.0\n",
    "    X = np.random.rand(N)\n",
    "    Y = np.random.rand(N)\n",
    "    for x,y in zip(X,Y):\n",
    "        r = x**2 + y**2\n",
    "        if (r <= 1):\n",
    "            NInside += 1      \n",
    "    return 4.0*NInside/N"
   ]
  },
  {
   "cell_type": "code",
   "execution_count": 42,
   "metadata": {},
   "outputs": [
    {
     "name": "stdout",
     "output_type": "stream",
     "text": [
      "0.0,  3.6,  3.0,  3.144,  3.1272,  3.14892,  3.143032,  3.142648,  "
     ]
    }
   ],
   "source": [
    "# Testing\n",
    "for i in range(8):\n",
    "    print(hmMC(10**i), end=',  ')"
   ]
  },
  {
   "cell_type": "code",
   "execution_count": 48,
   "metadata": {},
   "outputs": [
    {
     "name": "stdout",
     "output_type": "stream",
     "text": [
      "20.9 s ± 1.6 s per loop (mean ± std. dev. of 7 runs, 1 loop each)\n"
     ]
    }
   ],
   "source": [
    "%timeit hmMC(10**7)\n",
    "# Tanpa JIT - HATI-HATI ini SANGAT LAMA .... "
   ]
  },
  {
   "cell_type": "code",
   "execution_count": 49,
   "metadata": {},
   "outputs": [],
   "source": [
    "jit_hmMC = njit(hmMC)"
   ]
  },
  {
   "cell_type": "code",
   "execution_count": 50,
   "metadata": {},
   "outputs": [
    {
     "name": "stdout",
     "output_type": "stream",
     "text": [
      "313 ms ± 20.4 ms per loop (mean ± std. dev. of 7 runs, 1 loop each)\n"
     ]
    }
   ],
   "source": [
    "%timeit jit_hmMC(10**7)\n",
    "# Dengan JIT"
   ]
  },
  {
   "cell_type": "markdown",
   "metadata": {},
   "source": [
    "# Contoh 2: Fungsi (Fractal) Mandelbrot $Z_{n+1}=Z_n + C$\n",
    "\n",
    "<img alt=\"\" src=\"images/Mandelbrot_sequence_new.gif\"/>\n",
    "\n",
    "* https://en.wikipedia.org/wiki/Mandelbrot_set\n",
    "* https://github.com/lmcintosh/ipython-notebooks/blob/master/tutorials/Tutorials%20-%20Numba%20CUDA%20Python.ipynb"
   ]
  },
  {
   "cell_type": "code",
   "execution_count": 51,
   "metadata": {},
   "outputs": [],
   "source": [
    "def create_fractal(min_x, max_x, min_y, max_y, image, iters):\n",
    "    height = image.shape[0]\n",
    "    width = image.shape[1]\n",
    "    pixel_size_x = (max_x - min_x) / width\n",
    "    pixel_size_y = (max_y - min_y) / height\n",
    "    \n",
    "    for x in range(width):\n",
    "        real = min_x + x * pixel_size_x\n",
    "        for y in range(height):\n",
    "            imag = min_y + y * pixel_size_y\n",
    "            color = mandel(real, imag, iters)\n",
    "            image[y, x] = color\n",
    "\n",
    "def mandel(x, y, max_iters):\n",
    "    \"\"\"\n",
    "    Given the real and imaginary parts of a complex number,\n",
    "    determine if it is a candidate for membership in the Mandelbrot\n",
    "    set given a fixed number of iterations.\n",
    "    \"\"\"\n",
    "    c = complex(x, y)\n",
    "    z = 0.0j\n",
    "    for i in range(max_iters):\n",
    "        z = z*z + c\n",
    "        if (z.real*z.real + z.imag*z.imag) >= 4:\n",
    "            return i\n",
    "    return max_iters"
   ]
  },
  {
   "cell_type": "code",
   "execution_count": 52,
   "metadata": {},
   "outputs": [
    {
     "name": "stdout",
     "output_type": "stream",
     "text": [
      "8.98 s ± 75.4 ms per loop (mean ± std. dev. of 7 runs, 1 loop each)\n"
     ]
    }
   ],
   "source": [
    "%%timeit \n",
    "image = np.zeros((1024, 1536), dtype = np.uint8)\n",
    "create_fractal(-2.0, 1.0, -1.0, 1.0, image, 20) \n",
    "# Tanpa JIT"
   ]
  },
  {
   "cell_type": "code",
   "execution_count": 55,
   "metadata": {},
   "outputs": [
    {
     "data": {
      "image/png": "[encoded data removed]",
      "text/plain": [
       "<Figure size 432x288 with 1 Axes>"
      ]
     },
     "metadata": {
      "needs_background": "light"
     },
     "output_type": "display_data"
    }
   ],
   "source": [
    "from pylab import imshow, show\n",
    "\n",
    "image = np.zeros((1024, 1536), dtype = np.uint8)\n",
    "create_fractal(-2.0, 1.0, -1.0, 1.0, image, 20) \n",
    "imshow(image); show()"
   ]
  },
  {
   "cell_type": "code",
   "execution_count": 57,
   "metadata": {},
   "outputs": [],
   "source": [
    "from numba import jit\n",
    "\n",
    "@jit(nopython=True) # Efek sama dengan njit, namun punya customizable parameters\n",
    "def mandel(x, y, max_iters):\n",
    "    \"\"\"\n",
    "    Given the real and imaginary parts of a complex number,\n",
    "    determine if it is a candidate for membership in the Mandelbrot\n",
    "    set given a fixed number of iterations.\n",
    "    \"\"\"\n",
    "    c = complex(x, y)\n",
    "    z = 0.0j\n",
    "    for i in range(max_iters):\n",
    "        z = z*z + c\n",
    "        if (z.real*z.real + z.imag*z.imag) >= 4:\n",
    "            return i\n",
    "    return max_iters\n",
    "\n",
    "@jit(nopython=True) # Efek sama dengan njit, namun punya customizable parameters\n",
    "def create_fractal(min_x, max_x, min_y, max_y, image, iters):\n",
    "    height = image.shape[0]\n",
    "    width = image.shape[1]\n",
    "    pixel_size_x = (max_x - min_x) / width\n",
    "    pixel_size_y = (max_y - min_y) / height\n",
    "    \n",
    "    for x in range(width):\n",
    "        real = min_x + x * pixel_size_x\n",
    "        for y in range(height):\n",
    "            imag = min_y + y * pixel_size_y\n",
    "            color = mandel(real, imag, iters)\n",
    "            image[y, x] = color"
   ]
  },
  {
   "cell_type": "code",
   "execution_count": 58,
   "metadata": {},
   "outputs": [
    {
     "name": "stdout",
     "output_type": "stream",
     "text": [
      "83.6 ms ± 381 µs per loop (mean ± std. dev. of 7 runs, 1 loop each)\n"
     ]
    }
   ],
   "source": [
    "%%timeit \n",
    "image = np.zeros((1024, 1536), dtype = np.uint8)\n",
    "create_fractal(-2.0, 1.0, -1.0, 1.0, image, 20) \n",
    "# Dengan JIT"
   ]
  },
  {
   "cell_type": "code",
   "execution_count": 59,
   "metadata": {},
   "outputs": [
    {
     "data": {
      "image/png": "[encoded data removed]",
      "text/plain": [
       "<Figure size 432x288 with 1 Axes>"
      ]
     },
     "metadata": {
      "needs_background": "light"
     },
     "output_type": "display_data"
    }
   ],
   "source": [
    "image = np.zeros((1024, 1536), dtype = np.uint8)\n",
    "create_fractal(-2.0, 1.0, -1.0, 1.0, image, 20) \n",
    "imshow(image); show()"
   ]
  },
  {
   "cell_type": "markdown",
   "metadata": {},
   "source": [
    "# Numba Tidak Dapat Digunakan Pada Dictionary"
   ]
  },
  {
   "cell_type": "code",
   "execution_count": 60,
   "metadata": {},
   "outputs": [],
   "source": [
    "N = 100\n",
    "D = {i:i**2 for i in range(N)}\n",
    "\n",
    "def fs(D):\n",
    "    return sum(D.values())/len(D)"
   ]
  },
  {
   "cell_type": "code",
   "execution_count": 61,
   "metadata": {},
   "outputs": [
    {
     "data": {
      "text/plain": [
       "3283.5"
      ]
     },
     "execution_count": 61,
     "metadata": {},
     "output_type": "execute_result"
    }
   ],
   "source": [
    "fs(D)"
   ]
  },
  {
   "cell_type": "code",
   "execution_count": 62,
   "metadata": {},
   "outputs": [],
   "source": [
    "@jit(nopython=True)\n",
    "def fs(D):\n",
    "    return sum(D.values())/len(D)"
   ]
  },
  {
   "cell_type": "code",
   "execution_count": 64,
   "metadata": {},
   "outputs": [
    {
     "name": "stdout",
     "output_type": "stream",
     "text": [
      "Error :  Failed in nopython mode pipeline (step: nopython frontend)\n",
      "\u001b[1mUntyped global name 'sum':\u001b[0m \u001b[1m\u001b[1mcannot determine Numba type of <class 'builtin_function_or_method'>\u001b[0m\n",
      "\u001b[1m\n",
      "File \"<ipython-input-62-4ad555e73772>\", line 3:\u001b[0m\n",
      "\u001b[1mdef fs(D):\n",
      "\u001b[1m    return sum(D.values())/len(D)\n",
      "\u001b[0m    \u001b[1m^\u001b[0m\u001b[0m\n",
      "\u001b[0m\n",
      "\n",
      "This error may have been caused by the following argument(s):\n",
      "- argument 0: \u001b[1mcannot determine Numba type of <class 'dict'>\u001b[0m\n",
      "\n",
      "This error may have been caused by the following argument(s):\n",
      "- argument 0: \u001b[1mcannot determine Numba type of <class 'dict'>\u001b[0m\n",
      "\n"
     ]
    }
   ],
   "source": [
    "try:\n",
    "    fs(D)\n",
    "except Exception as err_:\n",
    "    print('Error : ', err_) "
   ]
  },
  {
   "cell_type": "markdown",
   "metadata": {},
   "source": [
    "## Error bisa dihindari dengan menghilangkan parameter \"nopython=True\", tapi tidak akan ada gained performance dari fungsi numbanya."
   ]
  },
  {
   "cell_type": "markdown",
   "metadata": {},
   "source": [
    "# Parallel Programming lewat Numba"
   ]
  },
  {
   "cell_type": "code",
   "execution_count": 155,
   "metadata": {},
   "outputs": [],
   "source": [
    "N = 5*10**6\n",
    "a = np.random.rand(N).reshape(N)\n",
    "\n",
    "def fs(a):\n",
    "    trace = 0\n",
    "    for i in range(a.shape[0]):\n",
    "        trace += np.tanh(a[i])\n",
    "    return a + trace"
   ]
  },
  {
   "cell_type": "code",
   "execution_count": 156,
   "metadata": {},
   "outputs": [
    {
     "name": "stdout",
     "output_type": "stream",
     "text": [
      "11.9 s ± 208 ms per loop (mean ± std. dev. of 7 runs, 1 loop each)\n"
     ]
    }
   ],
   "source": [
    "%timeit fs(a)"
   ]
  },
  {
   "cell_type": "code",
   "execution_count": 157,
   "metadata": {},
   "outputs": [],
   "source": [
    "from numba import prange\n",
    "\n",
    "@jit(nopython=True, parallel=True)\n",
    "def fs(a):\n",
    "    trace = 0\n",
    "    for i in prange(a.shape[0]):\n",
    "        trace += np.tanh(a[i])\n",
    "    return a + trace"
   ]
  },
  {
   "cell_type": "code",
   "execution_count": 158,
   "metadata": {},
   "outputs": [
    {
     "name": "stdout",
     "output_type": "stream",
     "text": [
      "34.6 ms ± 4.3 ms per loop (mean ± std. dev. of 7 runs, 1 loop each)\n"
     ]
    }
   ],
   "source": [
    "%timeit fs(a)"
   ]
  },
  {
   "cell_type": "code",
   "execution_count": 159,
   "metadata": {},
   "outputs": [],
   "source": [
    "@jit(nopython=True, parallel=True, fastmath=True)\n",
    "def fs(a):\n",
    "    trace = 0\n",
    "    for i in prange(a.shape[0]):\n",
    "        trace += np.tanh(a[i])\n",
    "    return a + trace"
   ]
  },
  {
   "cell_type": "code",
   "execution_count": 160,
   "metadata": {},
   "outputs": [
    {
     "name": "stdout",
     "output_type": "stream",
     "text": [
      "31.6 ms ± 1.96 ms per loop (mean ± std. dev. of 7 runs, 1 loop each)\n"
     ]
    }
   ],
   "source": [
    "%timeit fs(a)"
   ]
  },
  {
   "cell_type": "markdown",
   "metadata": {
    "slideshow": {
     "slide_type": "slide"
    }
   },
   "source": [
    "# End of Module\n",
    "\n",
    "<hr>\n",
    "<img alt=\"\" src=\"images/looping_funny.png\"/>"
   ]
  }
 ],
 "metadata": {
  "celltoolbar": "Slideshow",
  "kernelspec": {
   "display_name": "Python 3",
   "language": "python",
   "name": "python3"
  },
  "language_info": {
   "codemirror_mode": {
    "name": "ipython",
    "version": 3
   },
   "file_extension": ".py",
   "mimetype": "text/x-python",
   "name": "python",
   "nbconvert_exporter": "python",
   "pygments_lexer": "ipython3",
   "version": "3.6.8"
  }
 },
 "nbformat": 4,
 "nbformat_minor": 2
}
