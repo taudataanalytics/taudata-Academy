{
 "cells": [
  {
   "cell_type": "markdown",
   "id": "2c1719a9",
   "metadata": {},
   "source": [
    "<center><h1><strong>taudata Analytics</strong></h1></center>\n",
    "<center><h2><strong><font color=\"blue\">EDA 03 - Pengenalan DataFrame & Import-Loading Data</font></strong></h2></center>\n",
    "<img alt=\"\" src=\"images/covers/taudata-cover.jpg\" alt=\"\" width=\"800\"/>\n",
    "\n",
    "<b><center>(C) Taufik Sutanto</center>\n",
    "<center><h3><font color=\"blue\">https://taudata.blogspot.com/2022/05/eda-00.html</font></h3></center>\n",
    "<center><h3><font color=\"blue\">Video Penjelasan: https://www.youtube.com/c/taudataAnalytics</font></h3></center>"
   ]
  },
  {
   "cell_type": "code",
   "execution_count": 7,
   "id": "4f8cdbaf",
   "metadata": {
    "slideshow": {
     "slide_type": "slide"
    }
   },
   "outputs": [
    {
     "data": {
      "text/plain": [
       "'Done'"
      ]
     },
     "execution_count": 7,
     "metadata": {},
     "output_type": "execute_result"
    }
   ],
   "source": [
    "# Importing Some Python Modules\n",
    "import warnings; warnings.simplefilter('ignore')\n",
    "import matplotlib.pyplot as plt, pandas as pd, seaborn as sns\n",
    "import numpy as np\n",
    "\"Done\""
   ]
  },
  {
   "cell_type": "markdown",
   "id": "bcffe37c",
   "metadata": {
    "slideshow": {
     "slide_type": "slide"
    }
   },
   "source": [
    "# <center><font color=\"blue\"> Pandas Dataframe</font></center>\n",
    "\n",
    "<center><img alt=\"\" src=\"images/pandas_dataframe_structure.jpg\" style=\"height: 350px;\" /></center>\n",
    "\n",
    "* Pandas Dataframe dapat dibentuk dari **Dictionary** atau **List/Tuples**"
   ]
  },
  {
   "cell_type": "code",
   "execution_count": 8,
   "id": "6d8136aa",
   "metadata": {
    "slideshow": {
     "slide_type": "slide"
    }
   },
   "outputs": [
    {
     "data": {
      "text/html": [
       "<div>\n",
       "<style scoped>\n",
       "    .dataframe tbody tr th:only-of-type {\n",
       "        vertical-align: middle;\n",
       "    }\n",
       "\n",
       "    .dataframe tbody tr th {\n",
       "        vertical-align: top;\n",
       "    }\n",
       "\n",
       "    .dataframe thead th {\n",
       "        text-align: right;\n",
       "    }\n",
       "</style>\n",
       "<table border=\"1\" class=\"dataframe\">\n",
       "  <thead>\n",
       "    <tr style=\"text-align: right;\">\n",
       "      <th></th>\n",
       "      <th>Name</th>\n",
       "      <th>Age</th>\n",
       "      <th>University</th>\n",
       "    </tr>\n",
       "  </thead>\n",
       "  <tbody>\n",
       "    <tr>\n",
       "      <th>0</th>\n",
       "      <td>Ankit</td>\n",
       "      <td>23.0</td>\n",
       "      <td>BHU</td>\n",
       "    </tr>\n",
       "    <tr>\n",
       "      <th>1</th>\n",
       "      <td>Aishwarya</td>\n",
       "      <td>21.0</td>\n",
       "      <td>JNU</td>\n",
       "    </tr>\n",
       "    <tr>\n",
       "      <th>2</th>\n",
       "      <td>Shaurya</td>\n",
       "      <td>22.0</td>\n",
       "      <td>DU</td>\n",
       "    </tr>\n",
       "    <tr>\n",
       "      <th>3</th>\n",
       "      <td>Shivangi</td>\n",
       "      <td>21.0</td>\n",
       "      <td>BHU</td>\n",
       "    </tr>\n",
       "    <tr>\n",
       "      <th>4</th>\n",
       "      <td>Budi</td>\n",
       "      <td>NaN</td>\n",
       "      <td>UI</td>\n",
       "    </tr>\n",
       "  </tbody>\n",
       "</table>\n",
       "</div>"
      ],
      "text/plain": [
       "        Name   Age University\n",
       "0      Ankit  23.0        BHU\n",
       "1  Aishwarya  21.0        JNU\n",
       "2    Shaurya  22.0         DU\n",
       "3   Shivangi  21.0        BHU\n",
       "4       Budi   NaN         UI"
      ]
     },
     "execution_count": 8,
     "metadata": {},
     "output_type": "execute_result"
    }
   ],
   "source": [
    "# Dataframe dari Dictionary\n",
    "D = {'Name' : ['Ankit', 'Aishwarya', 'Shaurya', 'Shivangi', 'Budi'],\n",
    "    'Age' : [23, 21, 22, 21, np.nan],\n",
    "    'University' : ['BHU', 'JNU', 'DU', 'BHU', 'UI']} \n",
    "df = pd.DataFrame(D)\n",
    "df"
   ]
  },
  {
   "cell_type": "code",
   "execution_count": 4,
   "id": "2ded3ace",
   "metadata": {},
   "outputs": [
    {
     "data": {
      "text/plain": [
       "{'Name': ['Ankit', 'Aishwarya', 'Shaurya', 'Shivangi'],\n",
       " 'Age': [23, 21, 22, 21],\n",
       " 'University': ['BHU', 'JNU', 'DU', 'BHU']}"
      ]
     },
     "execution_count": 4,
     "metadata": {},
     "output_type": "execute_result"
    }
   ],
   "source": [
    "D"
   ]
  },
  {
   "cell_type": "code",
   "execution_count": 21,
   "id": "ef1c878e",
   "metadata": {
    "slideshow": {
     "slide_type": "slide"
    }
   },
   "outputs": [
    {
     "data": {
      "text/html": [
       "<div>\n",
       "<style scoped>\n",
       "    .dataframe tbody tr th:only-of-type {\n",
       "        vertical-align: middle;\n",
       "    }\n",
       "\n",
       "    .dataframe tbody tr th {\n",
       "        vertical-align: top;\n",
       "    }\n",
       "\n",
       "    .dataframe thead th {\n",
       "        text-align: right;\n",
       "    }\n",
       "</style>\n",
       "<table border=\"1\" class=\"dataframe\">\n",
       "  <thead>\n",
       "    <tr style=\"text-align: right;\">\n",
       "      <th></th>\n",
       "      <th>Name</th>\n",
       "      <th>Age</th>\n",
       "      <th>University</th>\n",
       "    </tr>\n",
       "  </thead>\n",
       "  <tbody>\n",
       "    <tr>\n",
       "      <th>0</th>\n",
       "      <td>Ankit</td>\n",
       "      <td>23</td>\n",
       "      <td>BHU</td>\n",
       "    </tr>\n",
       "    <tr>\n",
       "      <th>1</th>\n",
       "      <td>Aishwarya</td>\n",
       "      <td>21</td>\n",
       "      <td>JNU</td>\n",
       "    </tr>\n",
       "    <tr>\n",
       "      <th>2</th>\n",
       "      <td>Shaurya</td>\n",
       "      <td>22</td>\n",
       "      <td>DU</td>\n",
       "    </tr>\n",
       "    <tr>\n",
       "      <th>3</th>\n",
       "      <td>Shivangi</td>\n",
       "      <td>21</td>\n",
       "      <td>BHU</td>\n",
       "    </tr>\n",
       "  </tbody>\n",
       "</table>\n",
       "</div>"
      ],
      "text/plain": [
       "        Name  Age University\n",
       "0      Ankit   23        BHU\n",
       "1  Aishwarya   21        JNU\n",
       "2    Shaurya   22         DU\n",
       "3   Shivangi   21        BHU"
      ]
     },
     "execution_count": 21,
     "metadata": {},
     "output_type": "execute_result"
    }
   ],
   "source": [
    "# Dataframe dari List\n",
    "Name = ['Ankit', 'Aishwarya', 'Shaurya', 'Shivangi']\n",
    "Age = [23, 21, 22, 21]\n",
    "University = ['BHU', 'JNU', 'DU', 'BHU'] \n",
    "df = pd.DataFrame(zip(Name, Age, University), columns=['Name', 'Age', 'University'])\n",
    "df"
   ]
  },
  {
   "cell_type": "code",
   "execution_count": 18,
   "id": "9cb778aa",
   "metadata": {},
   "outputs": [
    {
     "data": {
      "text/plain": [
       "[('iwan', 14), ('wati', 9)]"
      ]
     },
     "execution_count": 18,
     "metadata": {},
     "output_type": "execute_result"
    }
   ],
   "source": [
    "Nama = ['iwan', 'wati']\n",
    "Umur = [14, 9]\n",
    "data = []\n",
    "for i in range(2):\n",
    "    data.append((Nama[i], Umur[i]))\n",
    "data"
   ]
  },
  {
   "cell_type": "code",
   "execution_count": 20,
   "id": "e964ea10",
   "metadata": {},
   "outputs": [
    {
     "data": {
      "text/plain": [
       "[('iwan', 14), ('wati', 9)]"
      ]
     },
     "execution_count": 20,
     "metadata": {},
     "output_type": "execute_result"
    }
   ],
   "source": [
    "list(zip(Nama, Umur))"
   ]
  },
  {
   "cell_type": "code",
   "execution_count": 17,
   "id": "b02f226c",
   "metadata": {},
   "outputs": [
    {
     "data": {
      "text/html": [
       "<div>\n",
       "<style scoped>\n",
       "    .dataframe tbody tr th:only-of-type {\n",
       "        vertical-align: middle;\n",
       "    }\n",
       "\n",
       "    .dataframe tbody tr th {\n",
       "        vertical-align: top;\n",
       "    }\n",
       "\n",
       "    .dataframe thead th {\n",
       "        text-align: right;\n",
       "    }\n",
       "</style>\n",
       "<table border=\"1\" class=\"dataframe\">\n",
       "  <thead>\n",
       "    <tr style=\"text-align: right;\">\n",
       "      <th></th>\n",
       "      <th>Nama</th>\n",
       "      <th>Umur</th>\n",
       "    </tr>\n",
       "  </thead>\n",
       "  <tbody>\n",
       "    <tr>\n",
       "      <th>0</th>\n",
       "      <td>iwan</td>\n",
       "      <td>14</td>\n",
       "    </tr>\n",
       "    <tr>\n",
       "      <th>1</th>\n",
       "      <td>wati</td>\n",
       "      <td>9</td>\n",
       "    </tr>\n",
       "  </tbody>\n",
       "</table>\n",
       "</div>"
      ],
      "text/plain": [
       "   Nama  Umur\n",
       "0  iwan    14\n",
       "1  wati     9"
      ]
     },
     "execution_count": 17,
     "metadata": {},
     "output_type": "execute_result"
    }
   ],
   "source": [
    "pd.DataFrame(data, columns=['Nama', 'Umur'])"
   ]
  },
  {
   "cell_type": "code",
   "execution_count": 31,
   "id": "4914d8c1",
   "metadata": {
    "ExecuteTime": {
     "end_time": "2019-09-30T01:08:34.825452Z",
     "start_time": "2019-09-30T01:08:34.820463Z"
    },
    "slideshow": {
     "slide_type": "slide"
    }
   },
   "outputs": [
    {
     "name": "stdout",
     "output_type": "stream",
     "text": [
      "RangeIndex(start=0, stop=4, step=1)\n"
     ]
    },
    {
     "data": {
      "text/html": [
       "<div>\n",
       "<style scoped>\n",
       "    .dataframe tbody tr th:only-of-type {\n",
       "        vertical-align: middle;\n",
       "    }\n",
       "\n",
       "    .dataframe tbody tr th {\n",
       "        vertical-align: top;\n",
       "    }\n",
       "\n",
       "    .dataframe thead th {\n",
       "        text-align: right;\n",
       "    }\n",
       "</style>\n",
       "<table border=\"1\" class=\"dataframe\">\n",
       "  <thead>\n",
       "    <tr style=\"text-align: right;\">\n",
       "      <th></th>\n",
       "      <th>Name</th>\n",
       "      <th>Age</th>\n",
       "      <th>University</th>\n",
       "    </tr>\n",
       "  </thead>\n",
       "  <tbody>\n",
       "    <tr>\n",
       "      <th>3</th>\n",
       "      <td>Shivangi</td>\n",
       "      <td>21</td>\n",
       "      <td>BHU</td>\n",
       "    </tr>\n",
       "  </tbody>\n",
       "</table>\n",
       "</div>"
      ],
      "text/plain": [
       "       Name  Age University\n",
       "3  Shivangi   21        BHU"
      ]
     },
     "execution_count": 31,
     "metadata": {},
     "output_type": "execute_result"
    }
   ],
   "source": [
    "# # Slicing index bekerja seperti List, tapi harus hati-hati.\n",
    "print(df.index)\n",
    "df[3:4] "
   ]
  },
  {
   "cell_type": "code",
   "execution_count": 28,
   "id": "c30f32d1",
   "metadata": {},
   "outputs": [
    {
     "data": {
      "text/plain": [
       "[4, 7, 3]"
      ]
     },
     "execution_count": 28,
     "metadata": {},
     "output_type": "execute_result"
    }
   ],
   "source": [
    "L = [ 4, 7, 3, 2, 8]\n",
    "L[0], L[1]\n",
    "L[0:3]"
   ]
  },
  {
   "cell_type": "markdown",
   "id": "2605d21a",
   "metadata": {
    "slideshow": {
     "slide_type": "slide"
    }
   },
   "source": [
    "# <center><font color=\"blue\"> OK, Let's Start!: Import-Loading Data</font></center>\n",
    "\n",
    "<center><img alt=\"\" src=\"images/meme-cartoon/Reading-and-Writing-Data-With-Pandas.jpg\" style=\"height: 300px;\" /></center>"
   ]
  },
  {
   "cell_type": "markdown",
   "id": "5756f14d",
   "metadata": {
    "slideshow": {
     "slide_type": "slide"
    }
   },
   "source": [
    "# <center><font color=\"blue\"> Studi Kasus</font></center>\n",
    "\n",
    "* Sumber Data: http://byebuyhome.com/\n",
    "* Objective: menemukan harga rumah yang berada di bawah pasaran untuk melakukan investasi.\n",
    "* Variable:\n",
    " - **Dist_Taxi** – distance to nearest taxi stand from the property\n",
    " - **Dist_Market** – distance to nearest grocery market from the property\n",
    " - **Dist_Hospital** – distance to nearest hospital from the property\n",
    " - **Carpet** – carpet area of the property in square feet\n",
    " - **Builtup** – built-up area of the property in square feet\n",
    " - **Parking** – type of car parking available with the property\n",
    " - **City_Category** – categorization of the city based on the size\n",
    " - **Rainfall** – annual rainfall in the area where property is located\n",
    " - **House_Price** – price at which the property was sold\n",
    "\n",
    "<img alt=\"\" src=\"images/property-investment-analysis.jpg\" style=\"height: 250px;\" />"
   ]
  },
  {
   "cell_type": "markdown",
   "id": "590e5524",
   "metadata": {
    "slideshow": {
     "slide_type": "slide"
    }
   },
   "source": [
    "# <center><font color=\"blue\"> Import-Loading Data CSV / Excel Data via Pandas</font></center>\n",
    "\n",
    "<img alt=\"\" src=\"images/pandas load csv excel.png\" style=\"height: 150px;\" />\n",
    "\n",
    "* Importing CSV file  https://pandas.pydata.org/pandas-docs/stable/reference/api/pandas.read_csv.html\n",
    "* Importing Excel file  https://pandas.pydata.org/docs/reference/api/pandas.read_excel.html\n",
    "* Encodings https://docs.python.org/3/library/codecs.html#standard-encodings"
   ]
  },
  {
   "cell_type": "code",
   "execution_count": 35,
   "id": "05fd928c",
   "metadata": {
    "ExecuteTime": {
     "end_time": "2019-09-30T01:08:32.120040Z",
     "start_time": "2019-09-30T01:08:32.110066Z"
    },
    "slideshow": {
     "slide_type": "fragment"
    }
   },
   "outputs": [
    {
     "name": "stdout",
     "output_type": "stream",
     "text": [
      "baris =  936 , Kolom (jumlah variabel) =  10\n",
      "Tipe Variabe df =  <class 'pandas.core.frame.DataFrame'>\n"
     ]
    },
    {
     "data": {
      "text/html": [
       "<div>\n",
       "<style scoped>\n",
       "    .dataframe tbody tr th:only-of-type {\n",
       "        vertical-align: middle;\n",
       "    }\n",
       "\n",
       "    .dataframe tbody tr th {\n",
       "        vertical-align: top;\n",
       "    }\n",
       "\n",
       "    .dataframe thead th {\n",
       "        text-align: right;\n",
       "    }\n",
       "</style>\n",
       "<table border=\"1\" class=\"dataframe\">\n",
       "  <thead>\n",
       "    <tr style=\"text-align: right;\">\n",
       "      <th></th>\n",
       "      <th>Observation</th>\n",
       "      <th>Dist_Taxi</th>\n",
       "      <th>Dist_Market</th>\n",
       "      <th>Dist_Hospital</th>\n",
       "      <th>Carpet</th>\n",
       "      <th>Builtup</th>\n",
       "      <th>Parking</th>\n",
       "      <th>City_Category</th>\n",
       "      <th>Rainfall</th>\n",
       "      <th>House_Price</th>\n",
       "    </tr>\n",
       "  </thead>\n",
       "  <tbody>\n",
       "    <tr>\n",
       "      <th>0</th>\n",
       "      <td>1</td>\n",
       "      <td>9796.0</td>\n",
       "      <td>5250.0</td>\n",
       "      <td>10703.0</td>\n",
       "      <td>1659.0</td>\n",
       "      <td>1961.0</td>\n",
       "      <td>Open</td>\n",
       "      <td>CAT B</td>\n",
       "      <td>530</td>\n",
       "      <td>6649000</td>\n",
       "    </tr>\n",
       "    <tr>\n",
       "      <th>1</th>\n",
       "      <td>2</td>\n",
       "      <td>8294.0</td>\n",
       "      <td>8186.0</td>\n",
       "      <td>12694.0</td>\n",
       "      <td>1461.0</td>\n",
       "      <td>1752.0</td>\n",
       "      <td>Not Provided</td>\n",
       "      <td>CAT B</td>\n",
       "      <td>210</td>\n",
       "      <td>3982000</td>\n",
       "    </tr>\n",
       "    <tr>\n",
       "      <th>2</th>\n",
       "      <td>3</td>\n",
       "      <td>11001.0</td>\n",
       "      <td>14399.0</td>\n",
       "      <td>16991.0</td>\n",
       "      <td>1340.0</td>\n",
       "      <td>1609.0</td>\n",
       "      <td>Not Provided</td>\n",
       "      <td>CAT A</td>\n",
       "      <td>720</td>\n",
       "      <td>5401000</td>\n",
       "    </tr>\n",
       "    <tr>\n",
       "      <th>3</th>\n",
       "      <td>4</td>\n",
       "      <td>8301.0</td>\n",
       "      <td>11188.0</td>\n",
       "      <td>12289.0</td>\n",
       "      <td>1451.0</td>\n",
       "      <td>1748.0</td>\n",
       "      <td>Covered</td>\n",
       "      <td>CAT B</td>\n",
       "      <td>620</td>\n",
       "      <td>5373000</td>\n",
       "    </tr>\n",
       "    <tr>\n",
       "      <th>4</th>\n",
       "      <td>5</td>\n",
       "      <td>10510.0</td>\n",
       "      <td>12629.0</td>\n",
       "      <td>13921.0</td>\n",
       "      <td>1770.0</td>\n",
       "      <td>2111.0</td>\n",
       "      <td>Not Provided</td>\n",
       "      <td>CAT B</td>\n",
       "      <td>450</td>\n",
       "      <td>4662000</td>\n",
       "    </tr>\n",
       "    <tr>\n",
       "      <th>...</th>\n",
       "      <td>...</td>\n",
       "      <td>...</td>\n",
       "      <td>...</td>\n",
       "      <td>...</td>\n",
       "      <td>...</td>\n",
       "      <td>...</td>\n",
       "      <td>...</td>\n",
       "      <td>...</td>\n",
       "      <td>...</td>\n",
       "      <td>...</td>\n",
       "    </tr>\n",
       "    <tr>\n",
       "      <th>931</th>\n",
       "      <td>932</td>\n",
       "      <td>9297.0</td>\n",
       "      <td>12537.0</td>\n",
       "      <td>14418.0</td>\n",
       "      <td>1174.0</td>\n",
       "      <td>1429.0</td>\n",
       "      <td>Covered</td>\n",
       "      <td>CAT C</td>\n",
       "      <td>1110</td>\n",
       "      <td>5434000</td>\n",
       "    </tr>\n",
       "    <tr>\n",
       "      <th>932</th>\n",
       "      <td>933</td>\n",
       "      <td>10915.0</td>\n",
       "      <td>17486.0</td>\n",
       "      <td>15964.0</td>\n",
       "      <td>1549.0</td>\n",
       "      <td>1851.0</td>\n",
       "      <td>Not Provided</td>\n",
       "      <td>CAT C</td>\n",
       "      <td>1220</td>\n",
       "      <td>7062000</td>\n",
       "    </tr>\n",
       "    <tr>\n",
       "      <th>933</th>\n",
       "      <td>934</td>\n",
       "      <td>9205.0</td>\n",
       "      <td>10418.0</td>\n",
       "      <td>14496.0</td>\n",
       "      <td>1118.0</td>\n",
       "      <td>1337.0</td>\n",
       "      <td>Open</td>\n",
       "      <td>CAT A</td>\n",
       "      <td>560</td>\n",
       "      <td>7227000</td>\n",
       "    </tr>\n",
       "    <tr>\n",
       "      <th>934</th>\n",
       "      <td>935</td>\n",
       "      <td>10915.0</td>\n",
       "      <td>17486.0</td>\n",
       "      <td>15964.0</td>\n",
       "      <td>1549.0</td>\n",
       "      <td>1851.0</td>\n",
       "      <td>Not Provided</td>\n",
       "      <td>CAT C</td>\n",
       "      <td>1220</td>\n",
       "      <td>7062000</td>\n",
       "    </tr>\n",
       "    <tr>\n",
       "      <th>935</th>\n",
       "      <td>936</td>\n",
       "      <td>10915.0</td>\n",
       "      <td>17486.0</td>\n",
       "      <td>15964.0</td>\n",
       "      <td>1549.0</td>\n",
       "      <td>1851.0</td>\n",
       "      <td>Not Provided</td>\n",
       "      <td>CAT C</td>\n",
       "      <td>1220</td>\n",
       "      <td>7062000</td>\n",
       "    </tr>\n",
       "  </tbody>\n",
       "</table>\n",
       "<p>936 rows × 10 columns</p>\n",
       "</div>"
      ],
      "text/plain": [
       "     Observation  Dist_Taxi  Dist_Market  Dist_Hospital  Carpet  Builtup  \\\n",
       "0              1     9796.0       5250.0        10703.0  1659.0   1961.0   \n",
       "1              2     8294.0       8186.0        12694.0  1461.0   1752.0   \n",
       "2              3    11001.0      14399.0        16991.0  1340.0   1609.0   \n",
       "3              4     8301.0      11188.0        12289.0  1451.0   1748.0   \n",
       "4              5    10510.0      12629.0        13921.0  1770.0   2111.0   \n",
       "..           ...        ...          ...            ...     ...      ...   \n",
       "931          932     9297.0      12537.0        14418.0  1174.0   1429.0   \n",
       "932          933    10915.0      17486.0        15964.0  1549.0   1851.0   \n",
       "933          934     9205.0      10418.0        14496.0  1118.0   1337.0   \n",
       "934          935    10915.0      17486.0        15964.0  1549.0   1851.0   \n",
       "935          936    10915.0      17486.0        15964.0  1549.0   1851.0   \n",
       "\n",
       "          Parking City_Category  Rainfall  House_Price  \n",
       "0            Open         CAT B       530      6649000  \n",
       "1    Not Provided         CAT B       210      3982000  \n",
       "2    Not Provided         CAT A       720      5401000  \n",
       "3         Covered         CAT B       620      5373000  \n",
       "4    Not Provided         CAT B       450      4662000  \n",
       "..            ...           ...       ...          ...  \n",
       "931       Covered         CAT C      1110      5434000  \n",
       "932  Not Provided         CAT C      1220      7062000  \n",
       "933          Open         CAT A       560      7227000  \n",
       "934  Not Provided         CAT C      1220      7062000  \n",
       "935  Not Provided         CAT C      1220      7062000  \n",
       "\n",
       "[936 rows x 10 columns]"
      ]
     },
     "execution_count": 35,
     "metadata": {},
     "output_type": "execute_result"
    }
   ],
   "source": [
    "file_ = 'data/price.csv'\n",
    "try: # Running Locally, yakinkan \"file_\" berada di folder \"data\"\n",
    "    price = pd.read_csv(file_, low_memory = False, encoding='utf8')\n",
    "except: # Running in Google Colab\n",
    "    !mkdir data\n",
    "    !wget -P data/ https://raw.githubusercontent.com/taudata-indonesia/eLearning/master/data/price.csv\n",
    "    price = pd.read_csv(file_, low_memory = False, encoding='utf8')\n",
    "    \n",
    "N, P = price.shape # Ukuran Data\n",
    "print('baris = ', N, ', Kolom (jumlah variabel) = ', P)\n",
    "print(\"Tipe Variabe df = \", type(price))\n",
    "price"
   ]
  },
  {
   "cell_type": "code",
   "execution_count": 39,
   "id": "af844833",
   "metadata": {},
   "outputs": [
    {
     "data": {
      "text/html": [
       "<div>\n",
       "<style scoped>\n",
       "    .dataframe tbody tr th:only-of-type {\n",
       "        vertical-align: middle;\n",
       "    }\n",
       "\n",
       "    .dataframe tbody tr th {\n",
       "        vertical-align: top;\n",
       "    }\n",
       "\n",
       "    .dataframe thead th {\n",
       "        text-align: right;\n",
       "    }\n",
       "</style>\n",
       "<table border=\"1\" class=\"dataframe\">\n",
       "  <thead>\n",
       "    <tr style=\"text-align: right;\">\n",
       "      <th></th>\n",
       "      <th>Observation</th>\n",
       "      <th>Dist_Taxi</th>\n",
       "      <th>Dist_Market</th>\n",
       "      <th>Dist_Hospital</th>\n",
       "      <th>Carpet</th>\n",
       "      <th>Builtup</th>\n",
       "      <th>Parking</th>\n",
       "      <th>City_Category</th>\n",
       "      <th>Rainfall</th>\n",
       "      <th>House_Price</th>\n",
       "    </tr>\n",
       "  </thead>\n",
       "  <tbody>\n",
       "    <tr>\n",
       "      <th>175</th>\n",
       "      <td>176</td>\n",
       "      <td>5754.0</td>\n",
       "      <td>6031.0</td>\n",
       "      <td>9745.0</td>\n",
       "      <td>1465.0</td>\n",
       "      <td>1763.0</td>\n",
       "      <td>Not Provided</td>\n",
       "      <td>CAT A</td>\n",
       "      <td>680</td>\n",
       "      <td>9957000</td>\n",
       "    </tr>\n",
       "    <tr>\n",
       "      <th>700</th>\n",
       "      <td>701</td>\n",
       "      <td>5627.0</td>\n",
       "      <td>13099.0</td>\n",
       "      <td>10068.0</td>\n",
       "      <td>1461.0</td>\n",
       "      <td>1739.0</td>\n",
       "      <td>Covered</td>\n",
       "      <td>CAT C</td>\n",
       "      <td>1250</td>\n",
       "      <td>2231000</td>\n",
       "    </tr>\n",
       "    <tr>\n",
       "      <th>443</th>\n",
       "      <td>444</td>\n",
       "      <td>11031.0</td>\n",
       "      <td>12462.0</td>\n",
       "      <td>13010.0</td>\n",
       "      <td>1395.0</td>\n",
       "      <td>1662.0</td>\n",
       "      <td>Open</td>\n",
       "      <td>CAT A</td>\n",
       "      <td>920</td>\n",
       "      <td>9094000</td>\n",
       "    </tr>\n",
       "    <tr>\n",
       "      <th>829</th>\n",
       "      <td>830</td>\n",
       "      <td>7929.0</td>\n",
       "      <td>13867.0</td>\n",
       "      <td>14846.0</td>\n",
       "      <td>1349.0</td>\n",
       "      <td>1610.0</td>\n",
       "      <td>Open</td>\n",
       "      <td>CAT B</td>\n",
       "      <td>700</td>\n",
       "      <td>6589000</td>\n",
       "    </tr>\n",
       "    <tr>\n",
       "      <th>390</th>\n",
       "      <td>391</td>\n",
       "      <td>9689.0</td>\n",
       "      <td>10159.0</td>\n",
       "      <td>11554.0</td>\n",
       "      <td>1876.0</td>\n",
       "      <td>2254.0</td>\n",
       "      <td>No Parking</td>\n",
       "      <td>CAT C</td>\n",
       "      <td>1340</td>\n",
       "      <td>2165000</td>\n",
       "    </tr>\n",
       "  </tbody>\n",
       "</table>\n",
       "</div>"
      ],
      "text/plain": [
       "     Observation  Dist_Taxi  Dist_Market  Dist_Hospital  Carpet  Builtup  \\\n",
       "175          176     5754.0       6031.0         9745.0  1465.0   1763.0   \n",
       "700          701     5627.0      13099.0        10068.0  1461.0   1739.0   \n",
       "443          444    11031.0      12462.0        13010.0  1395.0   1662.0   \n",
       "829          830     7929.0      13867.0        14846.0  1349.0   1610.0   \n",
       "390          391     9689.0      10159.0        11554.0  1876.0   2254.0   \n",
       "\n",
       "          Parking City_Category  Rainfall  House_Price  \n",
       "175  Not Provided         CAT A       680      9957000  \n",
       "700       Covered         CAT C      1250      2231000  \n",
       "443          Open         CAT A       920      9094000  \n",
       "829          Open         CAT B       700      6589000  \n",
       "390    No Parking         CAT C      1340      2165000  "
      ]
     },
     "execution_count": 39,
     "metadata": {},
     "output_type": "execute_result"
    }
   ],
   "source": [
    "price.sample(5)"
   ]
  },
  {
   "cell_type": "markdown",
   "id": "7a338717",
   "metadata": {
    "slideshow": {
     "slide_type": "slide"
    }
   },
   "source": [
    "# <center><font color=\"blue\"> Bagaimana dengan File Excel?</font></center>\n",
    "## <font color=\"green\"> Karena deprecated support, maka harus install module \"openpyxl\" terlebih dahulu</font>\n",
    "\n",
    "* Importing Excel file  https://pandas.pydata.org/docs/reference/api/pandas.read_excel.html\n",
    "* openpyxl https://openpyxl.readthedocs.io/en/stable/\n",
    "<center><img alt=\"\" src=\"images/meme-cartoon/openpyxl.jpg\" style=\"height: 300px;\" /></center>"
   ]
  },
  {
   "cell_type": "code",
   "execution_count": 40,
   "id": "f9db1abc",
   "metadata": {
    "slideshow": {
     "slide_type": "fragment"
    }
   },
   "outputs": [
    {
     "name": "stdout",
     "output_type": "stream",
     "text": [
      "Requirement already satisfied: openpyxl in c:\\users\\taufi\\anaconda\\envs\\teaching\\lib\\site-packages (3.0.10)\n",
      "Requirement already satisfied: et_xmlfile in c:\\users\\taufi\\anaconda\\envs\\teaching\\lib\\site-packages (from openpyxl) (1.1.0)\n"
     ]
    }
   ],
   "source": [
    "# Ingat module 02, jika anda menjalankan Jupyter notebook ini secara lokal, maka perlu penyesuaian\n",
    "!pip install openpyxl"
   ]
  },
  {
   "cell_type": "code",
   "execution_count": 42,
   "id": "9a8fcbec",
   "metadata": {
    "slideshow": {
     "slide_type": "slide"
    }
   },
   "outputs": [
    {
     "name": "stdout",
     "output_type": "stream",
     "text": [
      "['price1', 'price2']\n",
      "baris =  936 , Kolom (jumlah variabel) =  10\n",
      "Tipe Variabe df =  <class 'pandas.core.frame.DataFrame'>\n"
     ]
    },
    {
     "data": {
      "text/html": [
       "<div>\n",
       "<style scoped>\n",
       "    .dataframe tbody tr th:only-of-type {\n",
       "        vertical-align: middle;\n",
       "    }\n",
       "\n",
       "    .dataframe tbody tr th {\n",
       "        vertical-align: top;\n",
       "    }\n",
       "\n",
       "    .dataframe thead th {\n",
       "        text-align: right;\n",
       "    }\n",
       "</style>\n",
       "<table border=\"1\" class=\"dataframe\">\n",
       "  <thead>\n",
       "    <tr style=\"text-align: right;\">\n",
       "      <th></th>\n",
       "      <th>Observation</th>\n",
       "      <th>Dist_Taxi</th>\n",
       "      <th>Dist_Market</th>\n",
       "      <th>Dist_Hospital</th>\n",
       "      <th>Carpet</th>\n",
       "      <th>Builtup</th>\n",
       "      <th>Parking</th>\n",
       "      <th>City_Category</th>\n",
       "      <th>Rainfall</th>\n",
       "      <th>House_Price</th>\n",
       "    </tr>\n",
       "  </thead>\n",
       "  <tbody>\n",
       "    <tr>\n",
       "      <th>0</th>\n",
       "      <td>1</td>\n",
       "      <td>9796.0</td>\n",
       "      <td>5250.0</td>\n",
       "      <td>10703.0</td>\n",
       "      <td>1659.0</td>\n",
       "      <td>1961.0</td>\n",
       "      <td>Open</td>\n",
       "      <td>CAT B</td>\n",
       "      <td>530</td>\n",
       "      <td>6649000</td>\n",
       "    </tr>\n",
       "    <tr>\n",
       "      <th>1</th>\n",
       "      <td>2</td>\n",
       "      <td>8294.0</td>\n",
       "      <td>8186.0</td>\n",
       "      <td>12694.0</td>\n",
       "      <td>1461.0</td>\n",
       "      <td>1752.0</td>\n",
       "      <td>Not Provided</td>\n",
       "      <td>CAT B</td>\n",
       "      <td>210</td>\n",
       "      <td>3982000</td>\n",
       "    </tr>\n",
       "    <tr>\n",
       "      <th>2</th>\n",
       "      <td>3</td>\n",
       "      <td>11001.0</td>\n",
       "      <td>14399.0</td>\n",
       "      <td>16991.0</td>\n",
       "      <td>1340.0</td>\n",
       "      <td>1609.0</td>\n",
       "      <td>Not Provided</td>\n",
       "      <td>CAT A</td>\n",
       "      <td>720</td>\n",
       "      <td>5401000</td>\n",
       "    </tr>\n",
       "    <tr>\n",
       "      <th>3</th>\n",
       "      <td>4</td>\n",
       "      <td>8301.0</td>\n",
       "      <td>11188.0</td>\n",
       "      <td>12289.0</td>\n",
       "      <td>1451.0</td>\n",
       "      <td>1748.0</td>\n",
       "      <td>Covered</td>\n",
       "      <td>CAT B</td>\n",
       "      <td>620</td>\n",
       "      <td>5373000</td>\n",
       "    </tr>\n",
       "    <tr>\n",
       "      <th>4</th>\n",
       "      <td>5</td>\n",
       "      <td>10510.0</td>\n",
       "      <td>12629.0</td>\n",
       "      <td>13921.0</td>\n",
       "      <td>1770.0</td>\n",
       "      <td>2111.0</td>\n",
       "      <td>Not Provided</td>\n",
       "      <td>CAT B</td>\n",
       "      <td>450</td>\n",
       "      <td>4662000</td>\n",
       "    </tr>\n",
       "    <tr>\n",
       "      <th>...</th>\n",
       "      <td>...</td>\n",
       "      <td>...</td>\n",
       "      <td>...</td>\n",
       "      <td>...</td>\n",
       "      <td>...</td>\n",
       "      <td>...</td>\n",
       "      <td>...</td>\n",
       "      <td>...</td>\n",
       "      <td>...</td>\n",
       "      <td>...</td>\n",
       "    </tr>\n",
       "    <tr>\n",
       "      <th>931</th>\n",
       "      <td>932</td>\n",
       "      <td>9297.0</td>\n",
       "      <td>12537.0</td>\n",
       "      <td>14418.0</td>\n",
       "      <td>1174.0</td>\n",
       "      <td>1429.0</td>\n",
       "      <td>Covered</td>\n",
       "      <td>CAT C</td>\n",
       "      <td>1110</td>\n",
       "      <td>5434000</td>\n",
       "    </tr>\n",
       "    <tr>\n",
       "      <th>932</th>\n",
       "      <td>933</td>\n",
       "      <td>10915.0</td>\n",
       "      <td>17486.0</td>\n",
       "      <td>15964.0</td>\n",
       "      <td>1549.0</td>\n",
       "      <td>1851.0</td>\n",
       "      <td>Not Provided</td>\n",
       "      <td>CAT C</td>\n",
       "      <td>1220</td>\n",
       "      <td>7062000</td>\n",
       "    </tr>\n",
       "    <tr>\n",
       "      <th>933</th>\n",
       "      <td>934</td>\n",
       "      <td>9205.0</td>\n",
       "      <td>10418.0</td>\n",
       "      <td>14496.0</td>\n",
       "      <td>1118.0</td>\n",
       "      <td>1337.0</td>\n",
       "      <td>Open</td>\n",
       "      <td>CAT A</td>\n",
       "      <td>560</td>\n",
       "      <td>7227000</td>\n",
       "    </tr>\n",
       "    <tr>\n",
       "      <th>934</th>\n",
       "      <td>935</td>\n",
       "      <td>10915.0</td>\n",
       "      <td>17486.0</td>\n",
       "      <td>15964.0</td>\n",
       "      <td>1549.0</td>\n",
       "      <td>1851.0</td>\n",
       "      <td>Not Provided</td>\n",
       "      <td>CAT C</td>\n",
       "      <td>1220</td>\n",
       "      <td>7062000</td>\n",
       "    </tr>\n",
       "    <tr>\n",
       "      <th>935</th>\n",
       "      <td>936</td>\n",
       "      <td>10915.0</td>\n",
       "      <td>17486.0</td>\n",
       "      <td>15964.0</td>\n",
       "      <td>1549.0</td>\n",
       "      <td>1851.0</td>\n",
       "      <td>Not Provided</td>\n",
       "      <td>CAT C</td>\n",
       "      <td>1220</td>\n",
       "      <td>7062000</td>\n",
       "    </tr>\n",
       "  </tbody>\n",
       "</table>\n",
       "<p>936 rows × 10 columns</p>\n",
       "</div>"
      ],
      "text/plain": [
       "     Observation  Dist_Taxi  Dist_Market  Dist_Hospital  Carpet  Builtup  \\\n",
       "0              1     9796.0       5250.0        10703.0  1659.0   1961.0   \n",
       "1              2     8294.0       8186.0        12694.0  1461.0   1752.0   \n",
       "2              3    11001.0      14399.0        16991.0  1340.0   1609.0   \n",
       "3              4     8301.0      11188.0        12289.0  1451.0   1748.0   \n",
       "4              5    10510.0      12629.0        13921.0  1770.0   2111.0   \n",
       "..           ...        ...          ...            ...     ...      ...   \n",
       "931          932     9297.0      12537.0        14418.0  1174.0   1429.0   \n",
       "932          933    10915.0      17486.0        15964.0  1549.0   1851.0   \n",
       "933          934     9205.0      10418.0        14496.0  1118.0   1337.0   \n",
       "934          935    10915.0      17486.0        15964.0  1549.0   1851.0   \n",
       "935          936    10915.0      17486.0        15964.0  1549.0   1851.0   \n",
       "\n",
       "          Parking City_Category  Rainfall  House_Price  \n",
       "0            Open         CAT B       530      6649000  \n",
       "1    Not Provided         CAT B       210      3982000  \n",
       "2    Not Provided         CAT A       720      5401000  \n",
       "3         Covered         CAT B       620      5373000  \n",
       "4    Not Provided         CAT B       450      4662000  \n",
       "..            ...           ...       ...          ...  \n",
       "931       Covered         CAT C      1110      5434000  \n",
       "932  Not Provided         CAT C      1220      7062000  \n",
       "933          Open         CAT A       560      7227000  \n",
       "934  Not Provided         CAT C      1220      7062000  \n",
       "935  Not Provided         CAT C      1220      7062000  \n",
       "\n",
       "[936 rows x 10 columns]"
      ]
     },
     "execution_count": 42,
     "metadata": {},
     "output_type": "execute_result"
    }
   ],
   "source": [
    "file_ = 'data/price.xlsx'\n",
    "try: # Running Locally \n",
    "    xl = pd.ExcelFile(file_, engine = 'openpyxl')\n",
    "except: # Running in Google Colab\n",
    "    !mkdir data\n",
    "    !wget -P data/ https://raw.githubusercontent.com/taudata-indonesia/eLearning/master/{file_}\n",
    "    xl = pd.ExcelFile(file_, engine = 'openpyxl')\n",
    "\n",
    "sheets_ = xl.sheet_names\n",
    "print(sheets_)\n",
    "price = xl.parse(sheets_[0], header=0) #biasakan tidak menulis nama sheet secara langsung\n",
    "\n",
    "N, P = price.shape # Ukuran Data\n",
    "print('baris = ', N, ', Kolom (jumlah variabel) = ', P)\n",
    "print(\"Tipe Variabe df = \", type(price))\n",
    "price"
   ]
  },
  {
   "cell_type": "code",
   "execution_count": 43,
   "id": "926349c6",
   "metadata": {},
   "outputs": [
    {
     "data": {
      "text/plain": [
       "['price1', 'price2']"
      ]
     },
     "execution_count": 43,
     "metadata": {},
     "output_type": "execute_result"
    }
   ],
   "source": [
    "sheets_"
   ]
  },
  {
   "cell_type": "markdown",
   "id": "61f1064b",
   "metadata": {
    "slideshow": {
     "slide_type": "slide"
    }
   },
   "source": [
    "# <center><font color=\"blue\"> Prefer XLS atau CSV di Data Science/Machine Learning/AI</font></center><br><font color=\"green\">Mengapa?</font>\n",
    "\n",
    "<center><img alt=\"\" src=\"images/excel_error.png\" style=\"height: 300px;\" /></center>"
   ]
  },
  {
   "cell_type": "code",
   "execution_count": null,
   "id": "ff73cf64",
   "metadata": {
    "ExecuteTime": {
     "end_time": "2019-09-30T01:01:49.230415Z",
     "start_time": "2019-09-30T01:01:49.208497Z"
    },
    "slideshow": {
     "slide_type": "slide"
    }
   },
   "outputs": [],
   "source": [
    "# \"Mengintip\" beberapa data pertamanya\n",
    "price.head(7)"
   ]
  },
  {
   "cell_type": "code",
   "execution_count": 46,
   "id": "f3534d96",
   "metadata": {
    "slideshow": {
     "slide_type": "slide"
    }
   },
   "outputs": [
    {
     "data": {
      "text/html": [
       "<div>\n",
       "<style scoped>\n",
       "    .dataframe tbody tr th:only-of-type {\n",
       "        vertical-align: middle;\n",
       "    }\n",
       "\n",
       "    .dataframe tbody tr th {\n",
       "        vertical-align: top;\n",
       "    }\n",
       "\n",
       "    .dataframe thead th {\n",
       "        text-align: right;\n",
       "    }\n",
       "</style>\n",
       "<table border=\"1\" class=\"dataframe\">\n",
       "  <thead>\n",
       "    <tr style=\"text-align: right;\">\n",
       "      <th></th>\n",
       "      <th>0</th>\n",
       "      <th>1</th>\n",
       "      <th>2</th>\n",
       "      <th>3</th>\n",
       "      <th>4</th>\n",
       "    </tr>\n",
       "  </thead>\n",
       "  <tbody>\n",
       "    <tr>\n",
       "      <th>Observation</th>\n",
       "      <td>1</td>\n",
       "      <td>2</td>\n",
       "      <td>3</td>\n",
       "      <td>4</td>\n",
       "      <td>5</td>\n",
       "    </tr>\n",
       "    <tr>\n",
       "      <th>Dist_Taxi</th>\n",
       "      <td>9796.0</td>\n",
       "      <td>8294.0</td>\n",
       "      <td>11001.0</td>\n",
       "      <td>8301.0</td>\n",
       "      <td>10510.0</td>\n",
       "    </tr>\n",
       "    <tr>\n",
       "      <th>Dist_Market</th>\n",
       "      <td>5250.0</td>\n",
       "      <td>8186.0</td>\n",
       "      <td>14399.0</td>\n",
       "      <td>11188.0</td>\n",
       "      <td>12629.0</td>\n",
       "    </tr>\n",
       "    <tr>\n",
       "      <th>Dist_Hospital</th>\n",
       "      <td>10703.0</td>\n",
       "      <td>12694.0</td>\n",
       "      <td>16991.0</td>\n",
       "      <td>12289.0</td>\n",
       "      <td>13921.0</td>\n",
       "    </tr>\n",
       "    <tr>\n",
       "      <th>Carpet</th>\n",
       "      <td>1659.0</td>\n",
       "      <td>1461.0</td>\n",
       "      <td>1340.0</td>\n",
       "      <td>1451.0</td>\n",
       "      <td>1770.0</td>\n",
       "    </tr>\n",
       "    <tr>\n",
       "      <th>Builtup</th>\n",
       "      <td>1961.0</td>\n",
       "      <td>1752.0</td>\n",
       "      <td>1609.0</td>\n",
       "      <td>1748.0</td>\n",
       "      <td>2111.0</td>\n",
       "    </tr>\n",
       "    <tr>\n",
       "      <th>Parking</th>\n",
       "      <td>Open</td>\n",
       "      <td>Not Provided</td>\n",
       "      <td>Not Provided</td>\n",
       "      <td>Covered</td>\n",
       "      <td>Not Provided</td>\n",
       "    </tr>\n",
       "    <tr>\n",
       "      <th>City_Category</th>\n",
       "      <td>CAT B</td>\n",
       "      <td>CAT B</td>\n",
       "      <td>CAT A</td>\n",
       "      <td>CAT B</td>\n",
       "      <td>CAT B</td>\n",
       "    </tr>\n",
       "    <tr>\n",
       "      <th>Rainfall</th>\n",
       "      <td>530</td>\n",
       "      <td>210</td>\n",
       "      <td>720</td>\n",
       "      <td>620</td>\n",
       "      <td>450</td>\n",
       "    </tr>\n",
       "    <tr>\n",
       "      <th>House_Price</th>\n",
       "      <td>6649000</td>\n",
       "      <td>3982000</td>\n",
       "      <td>5401000</td>\n",
       "      <td>5373000</td>\n",
       "      <td>4662000</td>\n",
       "    </tr>\n",
       "  </tbody>\n",
       "</table>\n",
       "</div>"
      ],
      "text/plain": [
       "                     0             1             2        3             4\n",
       "Observation          1             2             3        4             5\n",
       "Dist_Taxi       9796.0        8294.0       11001.0   8301.0       10510.0\n",
       "Dist_Market     5250.0        8186.0       14399.0  11188.0       12629.0\n",
       "Dist_Hospital  10703.0       12694.0       16991.0  12289.0       13921.0\n",
       "Carpet          1659.0        1461.0        1340.0   1451.0        1770.0\n",
       "Builtup         1961.0        1752.0        1609.0   1748.0        2111.0\n",
       "Parking           Open  Not Provided  Not Provided  Covered  Not Provided\n",
       "City_Category    CAT B         CAT B         CAT A    CAT B         CAT B\n",
       "Rainfall           530           210           720      620           450\n",
       "House_Price    6649000       3982000       5401000  5373000       4662000"
      ]
     },
     "execution_count": 46,
     "metadata": {},
     "output_type": "execute_result"
    }
   ],
   "source": [
    "# Tips ... Gunakan Transpose untuk High-Dimensional Data (data dengan banyak kolom/variabel)\n",
    "price.head().transpose()"
   ]
  },
  {
   "cell_type": "code",
   "execution_count": null,
   "id": "193cf3a8",
   "metadata": {
    "ExecuteTime": {
     "end_time": "2019-09-30T01:01:49.252357Z",
     "start_time": "2019-09-30T01:01:49.232409Z"
    },
    "slideshow": {
     "slide_type": "slide"
    }
   },
   "outputs": [],
   "source": [
    "# \"Mengintip\" beberapa data akhirnya\n",
    "price.tail(7)"
   ]
  },
  {
   "cell_type": "code",
   "execution_count": 47,
   "id": "98b20477",
   "metadata": {
    "ExecuteTime": {
     "end_time": "2019-09-30T01:01:49.273357Z",
     "start_time": "2019-09-30T01:01:49.254351Z"
    },
    "slideshow": {
     "slide_type": "slide"
    }
   },
   "outputs": [
    {
     "data": {
      "text/html": [
       "<div>\n",
       "<style scoped>\n",
       "    .dataframe tbody tr th:only-of-type {\n",
       "        vertical-align: middle;\n",
       "    }\n",
       "\n",
       "    .dataframe tbody tr th {\n",
       "        vertical-align: top;\n",
       "    }\n",
       "\n",
       "    .dataframe thead th {\n",
       "        text-align: right;\n",
       "    }\n",
       "</style>\n",
       "<table border=\"1\" class=\"dataframe\">\n",
       "  <thead>\n",
       "    <tr style=\"text-align: right;\">\n",
       "      <th></th>\n",
       "      <th>Observation</th>\n",
       "      <th>Dist_Taxi</th>\n",
       "      <th>Dist_Market</th>\n",
       "      <th>Dist_Hospital</th>\n",
       "      <th>Carpet</th>\n",
       "      <th>Builtup</th>\n",
       "      <th>Parking</th>\n",
       "      <th>City_Category</th>\n",
       "      <th>Rainfall</th>\n",
       "      <th>House_Price</th>\n",
       "    </tr>\n",
       "  </thead>\n",
       "  <tbody>\n",
       "    <tr>\n",
       "      <th>923</th>\n",
       "      <td>924</td>\n",
       "      <td>11786.0</td>\n",
       "      <td>13969.0</td>\n",
       "      <td>15519.0</td>\n",
       "      <td>1156.0</td>\n",
       "      <td>1398.0</td>\n",
       "      <td>Open</td>\n",
       "      <td>CAT A</td>\n",
       "      <td>140</td>\n",
       "      <td>9237000</td>\n",
       "    </tr>\n",
       "    <tr>\n",
       "      <th>560</th>\n",
       "      <td>561</td>\n",
       "      <td>6440.0</td>\n",
       "      <td>10689.0</td>\n",
       "      <td>13561.0</td>\n",
       "      <td>1381.0</td>\n",
       "      <td>1633.0</td>\n",
       "      <td>Not Provided</td>\n",
       "      <td>CAT C</td>\n",
       "      <td>1270</td>\n",
       "      <td>5025000</td>\n",
       "    </tr>\n",
       "    <tr>\n",
       "      <th>686</th>\n",
       "      <td>687</td>\n",
       "      <td>9420.0</td>\n",
       "      <td>13980.0</td>\n",
       "      <td>13290.0</td>\n",
       "      <td>1525.0</td>\n",
       "      <td>1839.0</td>\n",
       "      <td>No Parking</td>\n",
       "      <td>CAT B</td>\n",
       "      <td>540</td>\n",
       "      <td>5131000</td>\n",
       "    </tr>\n",
       "    <tr>\n",
       "      <th>149</th>\n",
       "      <td>150</td>\n",
       "      <td>7597.0</td>\n",
       "      <td>10595.0</td>\n",
       "      <td>9399.0</td>\n",
       "      <td>1214.0</td>\n",
       "      <td>1456.0</td>\n",
       "      <td>Not Provided</td>\n",
       "      <td>CAT B</td>\n",
       "      <td>530</td>\n",
       "      <td>4895000</td>\n",
       "    </tr>\n",
       "    <tr>\n",
       "      <th>644</th>\n",
       "      <td>645</td>\n",
       "      <td>8283.0</td>\n",
       "      <td>11709.0</td>\n",
       "      <td>15284.0</td>\n",
       "      <td>1426.0</td>\n",
       "      <td>1718.0</td>\n",
       "      <td>No Parking</td>\n",
       "      <td>CAT C</td>\n",
       "      <td>370</td>\n",
       "      <td>4757000</td>\n",
       "    </tr>\n",
       "    <tr>\n",
       "      <th>180</th>\n",
       "      <td>181</td>\n",
       "      <td>8391.0</td>\n",
       "      <td>12763.0</td>\n",
       "      <td>15332.0</td>\n",
       "      <td>1539.0</td>\n",
       "      <td>1837.0</td>\n",
       "      <td>Covered</td>\n",
       "      <td>CAT A</td>\n",
       "      <td>990</td>\n",
       "      <td>7847000</td>\n",
       "    </tr>\n",
       "    <tr>\n",
       "      <th>782</th>\n",
       "      <td>783</td>\n",
       "      <td>8618.0</td>\n",
       "      <td>10717.0</td>\n",
       "      <td>12286.0</td>\n",
       "      <td>1660.0</td>\n",
       "      <td>1979.0</td>\n",
       "      <td>Covered</td>\n",
       "      <td>CAT C</td>\n",
       "      <td>480</td>\n",
       "      <td>7580000</td>\n",
       "    </tr>\n",
       "    <tr>\n",
       "      <th>690</th>\n",
       "      <td>691</td>\n",
       "      <td>5059.0</td>\n",
       "      <td>7402.0</td>\n",
       "      <td>10629.0</td>\n",
       "      <td>1667.0</td>\n",
       "      <td>2020.0</td>\n",
       "      <td>Not Provided</td>\n",
       "      <td>CAT A</td>\n",
       "      <td>980</td>\n",
       "      <td>6607000</td>\n",
       "    </tr>\n",
       "    <tr>\n",
       "      <th>507</th>\n",
       "      <td>508</td>\n",
       "      <td>7678.0</td>\n",
       "      <td>14228.0</td>\n",
       "      <td>14778.0</td>\n",
       "      <td>1688.0</td>\n",
       "      <td>2046.0</td>\n",
       "      <td>Open</td>\n",
       "      <td>CAT B</td>\n",
       "      <td>380</td>\n",
       "      <td>5355000</td>\n",
       "    </tr>\n",
       "    <tr>\n",
       "      <th>773</th>\n",
       "      <td>774</td>\n",
       "      <td>8541.0</td>\n",
       "      <td>12045.0</td>\n",
       "      <td>14243.0</td>\n",
       "      <td>1534.0</td>\n",
       "      <td>1858.0</td>\n",
       "      <td>Open</td>\n",
       "      <td>CAT A</td>\n",
       "      <td>860</td>\n",
       "      <td>8837000</td>\n",
       "    </tr>\n",
       "  </tbody>\n",
       "</table>\n",
       "</div>"
      ],
      "text/plain": [
       "     Observation  Dist_Taxi  Dist_Market  Dist_Hospital  Carpet  Builtup  \\\n",
       "923          924    11786.0      13969.0        15519.0  1156.0   1398.0   \n",
       "560          561     6440.0      10689.0        13561.0  1381.0   1633.0   \n",
       "686          687     9420.0      13980.0        13290.0  1525.0   1839.0   \n",
       "149          150     7597.0      10595.0         9399.0  1214.0   1456.0   \n",
       "644          645     8283.0      11709.0        15284.0  1426.0   1718.0   \n",
       "180          181     8391.0      12763.0        15332.0  1539.0   1837.0   \n",
       "782          783     8618.0      10717.0        12286.0  1660.0   1979.0   \n",
       "690          691     5059.0       7402.0        10629.0  1667.0   2020.0   \n",
       "507          508     7678.0      14228.0        14778.0  1688.0   2046.0   \n",
       "773          774     8541.0      12045.0        14243.0  1534.0   1858.0   \n",
       "\n",
       "          Parking City_Category  Rainfall  House_Price  \n",
       "923          Open         CAT A       140      9237000  \n",
       "560  Not Provided         CAT C      1270      5025000  \n",
       "686    No Parking         CAT B       540      5131000  \n",
       "149  Not Provided         CAT B       530      4895000  \n",
       "644    No Parking         CAT C       370      4757000  \n",
       "180       Covered         CAT A       990      7847000  \n",
       "782       Covered         CAT C       480      7580000  \n",
       "690  Not Provided         CAT A       980      6607000  \n",
       "507          Open         CAT B       380      5355000  \n",
       "773          Open         CAT A       860      8837000  "
      ]
     },
     "execution_count": 47,
     "metadata": {},
     "output_type": "execute_result"
    }
   ],
   "source": [
    "# chosen at random\n",
    "price.sample(10)"
   ]
  },
  {
   "cell_type": "code",
   "execution_count": 50,
   "id": "4c0c71e5",
   "metadata": {},
   "outputs": [
    {
     "data": {
      "text/html": [
       "<div>\n",
       "<style scoped>\n",
       "    .dataframe tbody tr th:only-of-type {\n",
       "        vertical-align: middle;\n",
       "    }\n",
       "\n",
       "    .dataframe tbody tr th {\n",
       "        vertical-align: top;\n",
       "    }\n",
       "\n",
       "    .dataframe thead th {\n",
       "        text-align: right;\n",
       "    }\n",
       "</style>\n",
       "<table border=\"1\" class=\"dataframe\">\n",
       "  <thead>\n",
       "    <tr style=\"text-align: right;\">\n",
       "      <th></th>\n",
       "      <th>Observation</th>\n",
       "      <th>Dist_Taxi</th>\n",
       "      <th>Dist_Market</th>\n",
       "      <th>Dist_Hospital</th>\n",
       "      <th>Carpet</th>\n",
       "      <th>Builtup</th>\n",
       "      <th>Parking</th>\n",
       "      <th>City_Category</th>\n",
       "      <th>Rainfall</th>\n",
       "      <th>House_Price</th>\n",
       "    </tr>\n",
       "  </thead>\n",
       "  <tbody>\n",
       "    <tr>\n",
       "      <th>224</th>\n",
       "      <td>225</td>\n",
       "      <td>9024.0</td>\n",
       "      <td>9404.0</td>\n",
       "      <td>13234.0</td>\n",
       "      <td>1863.0</td>\n",
       "      <td>2245.0</td>\n",
       "      <td>Open</td>\n",
       "      <td>CAT A</td>\n",
       "      <td>640</td>\n",
       "      <td>7726000</td>\n",
       "    </tr>\n",
       "    <tr>\n",
       "      <th>457</th>\n",
       "      <td>458</td>\n",
       "      <td>12862.0</td>\n",
       "      <td>12087.0</td>\n",
       "      <td>17686.0</td>\n",
       "      <td>1744.0</td>\n",
       "      <td>2101.0</td>\n",
       "      <td>No Parking</td>\n",
       "      <td>CAT A</td>\n",
       "      <td>520</td>\n",
       "      <td>6957000</td>\n",
       "    </tr>\n",
       "    <tr>\n",
       "      <th>58</th>\n",
       "      <td>59</td>\n",
       "      <td>7331.0</td>\n",
       "      <td>11247.0</td>\n",
       "      <td>10787.0</td>\n",
       "      <td>1570.0</td>\n",
       "      <td>1898.0</td>\n",
       "      <td>No Parking</td>\n",
       "      <td>CAT B</td>\n",
       "      <td>980</td>\n",
       "      <td>6409000</td>\n",
       "    </tr>\n",
       "    <tr>\n",
       "      <th>598</th>\n",
       "      <td>599</td>\n",
       "      <td>2017.0</td>\n",
       "      <td>8473.0</td>\n",
       "      <td>9077.0</td>\n",
       "      <td>1511.0</td>\n",
       "      <td>1822.0</td>\n",
       "      <td>Open</td>\n",
       "      <td>CAT B</td>\n",
       "      <td>420</td>\n",
       "      <td>7241000</td>\n",
       "    </tr>\n",
       "    <tr>\n",
       "      <th>567</th>\n",
       "      <td>568</td>\n",
       "      <td>2314.0</td>\n",
       "      <td>8933.0</td>\n",
       "      <td>8231.0</td>\n",
       "      <td>1607.0</td>\n",
       "      <td>1909.0</td>\n",
       "      <td>Open</td>\n",
       "      <td>CAT C</td>\n",
       "      <td>460</td>\n",
       "      <td>3903000</td>\n",
       "    </tr>\n",
       "    <tr>\n",
       "      <th>204</th>\n",
       "      <td>205</td>\n",
       "      <td>10890.0</td>\n",
       "      <td>13235.0</td>\n",
       "      <td>13935.0</td>\n",
       "      <td>1652.0</td>\n",
       "      <td>1982.0</td>\n",
       "      <td>Covered</td>\n",
       "      <td>CAT C</td>\n",
       "      <td>690</td>\n",
       "      <td>5246000</td>\n",
       "    </tr>\n",
       "    <tr>\n",
       "      <th>748</th>\n",
       "      <td>749</td>\n",
       "      <td>7254.0</td>\n",
       "      <td>11059.0</td>\n",
       "      <td>14195.0</td>\n",
       "      <td>1430.0</td>\n",
       "      <td>1743.0</td>\n",
       "      <td>Open</td>\n",
       "      <td>CAT B</td>\n",
       "      <td>970</td>\n",
       "      <td>5323000</td>\n",
       "    </tr>\n",
       "    <tr>\n",
       "      <th>894</th>\n",
       "      <td>895</td>\n",
       "      <td>8320.0</td>\n",
       "      <td>11644.0</td>\n",
       "      <td>12967.0</td>\n",
       "      <td>1458.0</td>\n",
       "      <td>1757.0</td>\n",
       "      <td>Not Provided</td>\n",
       "      <td>CAT A</td>\n",
       "      <td>850</td>\n",
       "      <td>5860000</td>\n",
       "    </tr>\n",
       "    <tr>\n",
       "      <th>238</th>\n",
       "      <td>239</td>\n",
       "      <td>12631.0</td>\n",
       "      <td>12290.0</td>\n",
       "      <td>14599.0</td>\n",
       "      <td>1699.0</td>\n",
       "      <td>2053.0</td>\n",
       "      <td>Open</td>\n",
       "      <td>CAT A</td>\n",
       "      <td>1080</td>\n",
       "      <td>8187000</td>\n",
       "    </tr>\n",
       "  </tbody>\n",
       "</table>\n",
       "</div>"
      ],
      "text/plain": [
       "     Observation  Dist_Taxi  Dist_Market  Dist_Hospital  Carpet  Builtup  \\\n",
       "224          225     9024.0       9404.0        13234.0  1863.0   2245.0   \n",
       "457          458    12862.0      12087.0        17686.0  1744.0   2101.0   \n",
       "58            59     7331.0      11247.0        10787.0  1570.0   1898.0   \n",
       "598          599     2017.0       8473.0         9077.0  1511.0   1822.0   \n",
       "567          568     2314.0       8933.0         8231.0  1607.0   1909.0   \n",
       "204          205    10890.0      13235.0        13935.0  1652.0   1982.0   \n",
       "748          749     7254.0      11059.0        14195.0  1430.0   1743.0   \n",
       "894          895     8320.0      11644.0        12967.0  1458.0   1757.0   \n",
       "238          239    12631.0      12290.0        14599.0  1699.0   2053.0   \n",
       "\n",
       "          Parking City_Category  Rainfall  House_Price  \n",
       "224          Open         CAT A       640      7726000  \n",
       "457    No Parking         CAT A       520      6957000  \n",
       "58     No Parking         CAT B       980      6409000  \n",
       "598          Open         CAT B       420      7241000  \n",
       "567          Open         CAT C       460      3903000  \n",
       "204       Covered         CAT C       690      5246000  \n",
       "748          Open         CAT B       970      5323000  \n",
       "894  Not Provided         CAT A       850      5860000  \n",
       "238          Open         CAT A      1080      8187000  "
      ]
     },
     "execution_count": 50,
     "metadata": {},
     "output_type": "execute_result"
    }
   ],
   "source": [
    "df2 = price.sample(100)\n",
    "df2.head(9)"
   ]
  },
  {
   "cell_type": "code",
   "execution_count": 51,
   "id": "9bdff0de",
   "metadata": {},
   "outputs": [
    {
     "data": {
      "text/html": [
       "<div>\n",
       "<style scoped>\n",
       "    .dataframe tbody tr th:only-of-type {\n",
       "        vertical-align: middle;\n",
       "    }\n",
       "\n",
       "    .dataframe tbody tr th {\n",
       "        vertical-align: top;\n",
       "    }\n",
       "\n",
       "    .dataframe thead th {\n",
       "        text-align: right;\n",
       "    }\n",
       "</style>\n",
       "<table border=\"1\" class=\"dataframe\">\n",
       "  <thead>\n",
       "    <tr style=\"text-align: right;\">\n",
       "      <th></th>\n",
       "      <th>Observation</th>\n",
       "      <th>Dist_Taxi</th>\n",
       "      <th>Dist_Market</th>\n",
       "      <th>Dist_Hospital</th>\n",
       "      <th>Carpet</th>\n",
       "      <th>Builtup</th>\n",
       "      <th>Parking</th>\n",
       "      <th>City_Category</th>\n",
       "      <th>Rainfall</th>\n",
       "      <th>House_Price</th>\n",
       "    </tr>\n",
       "  </thead>\n",
       "  <tbody>\n",
       "    <tr>\n",
       "      <th>457</th>\n",
       "      <td>458</td>\n",
       "      <td>12862.0</td>\n",
       "      <td>12087.0</td>\n",
       "      <td>17686.0</td>\n",
       "      <td>1744.0</td>\n",
       "      <td>2101.0</td>\n",
       "      <td>No Parking</td>\n",
       "      <td>CAT A</td>\n",
       "      <td>520</td>\n",
       "      <td>6957000</td>\n",
       "    </tr>\n",
       "    <tr>\n",
       "      <th>58</th>\n",
       "      <td>59</td>\n",
       "      <td>7331.0</td>\n",
       "      <td>11247.0</td>\n",
       "      <td>10787.0</td>\n",
       "      <td>1570.0</td>\n",
       "      <td>1898.0</td>\n",
       "      <td>No Parking</td>\n",
       "      <td>CAT B</td>\n",
       "      <td>980</td>\n",
       "      <td>6409000</td>\n",
       "    </tr>\n",
       "  </tbody>\n",
       "</table>\n",
       "</div>"
      ],
      "text/plain": [
       "     Observation  Dist_Taxi  Dist_Market  Dist_Hospital  Carpet  Builtup  \\\n",
       "457          458    12862.0      12087.0        17686.0  1744.0   2101.0   \n",
       "58            59     7331.0      11247.0        10787.0  1570.0   1898.0   \n",
       "\n",
       "        Parking City_Category  Rainfall  House_Price  \n",
       "457  No Parking         CAT A       520      6957000  \n",
       "58   No Parking         CAT B       980      6409000  "
      ]
     },
     "execution_count": 51,
     "metadata": {},
     "output_type": "execute_result"
    }
   ],
   "source": [
    "df2[1:3]"
   ]
  },
  {
   "cell_type": "markdown",
   "id": "1cdc05ba",
   "metadata": {
    "slideshow": {
     "slide_type": "slide"
    }
   },
   "source": [
    "# <center><font color=\"blue\">Perintah \".sample\" bisa untuk sampling yang akan digunakan sebagai training data di machine Learning</font></center>\n",
    "\n",
    "## <font color=\"green\">Akan tetapi ada kelemahannya ... apakah?</font>"
   ]
  },
  {
   "cell_type": "code",
   "execution_count": null,
   "id": "c7ded440",
   "metadata": {
    "slideshow": {
     "slide_type": "fragment"
    }
   },
   "outputs": [],
   "source": [
    "df_train = price.sample(500)\n",
    "df_train.head(10) # perhatikan kolom \"index-nya\""
   ]
  },
  {
   "cell_type": "markdown",
   "id": "2161f22d",
   "metadata": {
    "slideshow": {
     "slide_type": "slide"
    }
   },
   "source": [
    "# <center><font color=\"blue\"> \"loc\" VS \"iloc\" in Pandas Dataframe</font></center>\n",
    "\n",
    "<center><img alt=\"\" src=\"images/dataframe loc iloc.png\" style=\"height: 350px;\" /></center>"
   ]
  },
  {
   "cell_type": "code",
   "execution_count": 60,
   "id": "d9671966",
   "metadata": {
    "slideshow": {
     "slide_type": "slide"
    }
   },
   "outputs": [
    {
     "name": "stdout",
     "output_type": "stream",
     "text": [
      "Observation          225\n",
      "Dist_Taxi         9024.0\n",
      "Dist_Market       9404.0\n",
      "Dist_Hospital    13234.0\n",
      "Carpet            1863.0\n",
      "Builtup           2245.0\n",
      "Parking             Open\n",
      "City_Category      CAT A\n",
      "Rainfall             640\n",
      "House_Price      7726000\n",
      "Name: 224, dtype: object\n"
     ]
    }
   ],
   "source": [
    "# Ganti \"N\" dengan index pertama di df2\n",
    "try:\n",
    "    print(df2.loc[224]) \n",
    "except:\n",
    "    print(\"Yakinkan nilai N adalah index pertama di df2\")"
   ]
  },
  {
   "cell_type": "code",
   "execution_count": 59,
   "id": "045d8f5d",
   "metadata": {
    "slideshow": {
     "slide_type": "slide"
    }
   },
   "outputs": [
    {
     "data": {
      "text/plain": [
       "Observation          225\n",
       "Dist_Taxi         9024.0\n",
       "Dist_Market       9404.0\n",
       "Dist_Hospital    13234.0\n",
       "Carpet            1863.0\n",
       "Builtup           2245.0\n",
       "Parking             Open\n",
       "City_Category      CAT A\n",
       "Rainfall             640\n",
       "House_Price      7726000\n",
       "Name: 224, dtype: object"
      ]
     },
     "execution_count": 59,
     "metadata": {},
     "output_type": "execute_result"
    }
   ],
   "source": [
    "df2.iloc[0]"
   ]
  },
  {
   "cell_type": "markdown",
   "id": "10517a20",
   "metadata": {
    "slideshow": {
     "slide_type": "slide"
    }
   },
   "source": [
    "# <center><font color=\"blue\"> Iterating on dataframe (Sangat Penting)</font></center>\n",
    "### <font color=\"green\"> Banyak yang tidak menyarankan, tapi banyak situasi di dunia nyata yang memaksa kita melakukan hal ini.</font>\n",
    "\n",
    "<center><img alt=\"\" src=\"images/pandas iteration.png\" style=\"height: 350px;\" /></center>\n",
    "    \n",
    "* https://www.dataindependent.com/pandas/pandas-iterate-over-rows/"
   ]
  },
  {
   "cell_type": "code",
   "execution_count": 61,
   "id": "8ccac089",
   "metadata": {
    "slideshow": {
     "slide_type": "slide"
    }
   },
   "outputs": [
    {
     "data": {
      "text/html": [
       "<div>\n",
       "<style scoped>\n",
       "    .dataframe tbody tr th:only-of-type {\n",
       "        vertical-align: middle;\n",
       "    }\n",
       "\n",
       "    .dataframe tbody tr th {\n",
       "        vertical-align: top;\n",
       "    }\n",
       "\n",
       "    .dataframe thead th {\n",
       "        text-align: right;\n",
       "    }\n",
       "</style>\n",
       "<table border=\"1\" class=\"dataframe\">\n",
       "  <thead>\n",
       "    <tr style=\"text-align: right;\">\n",
       "      <th></th>\n",
       "      <th>0</th>\n",
       "      <th>1</th>\n",
       "      <th>2</th>\n",
       "      <th>3</th>\n",
       "      <th>4</th>\n",
       "    </tr>\n",
       "  </thead>\n",
       "  <tbody>\n",
       "    <tr>\n",
       "      <th>Observation</th>\n",
       "      <td>1</td>\n",
       "      <td>2</td>\n",
       "      <td>3</td>\n",
       "      <td>4</td>\n",
       "      <td>5</td>\n",
       "    </tr>\n",
       "    <tr>\n",
       "      <th>Dist_Taxi</th>\n",
       "      <td>9796.0</td>\n",
       "      <td>8294.0</td>\n",
       "      <td>11001.0</td>\n",
       "      <td>8301.0</td>\n",
       "      <td>10510.0</td>\n",
       "    </tr>\n",
       "    <tr>\n",
       "      <th>Dist_Market</th>\n",
       "      <td>5250.0</td>\n",
       "      <td>8186.0</td>\n",
       "      <td>14399.0</td>\n",
       "      <td>11188.0</td>\n",
       "      <td>12629.0</td>\n",
       "    </tr>\n",
       "    <tr>\n",
       "      <th>Dist_Hospital</th>\n",
       "      <td>10703.0</td>\n",
       "      <td>12694.0</td>\n",
       "      <td>16991.0</td>\n",
       "      <td>12289.0</td>\n",
       "      <td>13921.0</td>\n",
       "    </tr>\n",
       "    <tr>\n",
       "      <th>Carpet</th>\n",
       "      <td>1659.0</td>\n",
       "      <td>1461.0</td>\n",
       "      <td>1340.0</td>\n",
       "      <td>1451.0</td>\n",
       "      <td>1770.0</td>\n",
       "    </tr>\n",
       "    <tr>\n",
       "      <th>Builtup</th>\n",
       "      <td>1961.0</td>\n",
       "      <td>1752.0</td>\n",
       "      <td>1609.0</td>\n",
       "      <td>1748.0</td>\n",
       "      <td>2111.0</td>\n",
       "    </tr>\n",
       "    <tr>\n",
       "      <th>Parking</th>\n",
       "      <td>Open</td>\n",
       "      <td>Not Provided</td>\n",
       "      <td>Not Provided</td>\n",
       "      <td>Covered</td>\n",
       "      <td>Not Provided</td>\n",
       "    </tr>\n",
       "    <tr>\n",
       "      <th>City_Category</th>\n",
       "      <td>CAT B</td>\n",
       "      <td>CAT B</td>\n",
       "      <td>CAT A</td>\n",
       "      <td>CAT B</td>\n",
       "      <td>CAT B</td>\n",
       "    </tr>\n",
       "    <tr>\n",
       "      <th>Rainfall</th>\n",
       "      <td>530</td>\n",
       "      <td>210</td>\n",
       "      <td>720</td>\n",
       "      <td>620</td>\n",
       "      <td>450</td>\n",
       "    </tr>\n",
       "    <tr>\n",
       "      <th>House_Price</th>\n",
       "      <td>6649000</td>\n",
       "      <td>3982000</td>\n",
       "      <td>5401000</td>\n",
       "      <td>5373000</td>\n",
       "      <td>4662000</td>\n",
       "    </tr>\n",
       "    <tr>\n",
       "      <th>total_jarak</th>\n",
       "      <td>25749.0</td>\n",
       "      <td>29174.0</td>\n",
       "      <td>42391.0</td>\n",
       "      <td>31778.0</td>\n",
       "      <td>37060.0</td>\n",
       "    </tr>\n",
       "  </tbody>\n",
       "</table>\n",
       "</div>"
      ],
      "text/plain": [
       "                     0             1             2        3             4\n",
       "Observation          1             2             3        4             5\n",
       "Dist_Taxi       9796.0        8294.0       11001.0   8301.0       10510.0\n",
       "Dist_Market     5250.0        8186.0       14399.0  11188.0       12629.0\n",
       "Dist_Hospital  10703.0       12694.0       16991.0  12289.0       13921.0\n",
       "Carpet          1659.0        1461.0        1340.0   1451.0        1770.0\n",
       "Builtup         1961.0        1752.0        1609.0   1748.0        2111.0\n",
       "Parking           Open  Not Provided  Not Provided  Covered  Not Provided\n",
       "City_Category    CAT B         CAT B         CAT A    CAT B         CAT B\n",
       "Rainfall           530           210           720      620           450\n",
       "House_Price    6649000       3982000       5401000  5373000       4662000\n",
       "total_jarak    25749.0       29174.0       42391.0  31778.0       37060.0"
      ]
     },
     "execution_count": 61,
     "metadata": {},
     "output_type": "execute_result"
    }
   ],
   "source": [
    "# Kita juga meng-iterasikan sebuah dataframe (jika diperlukan)\n",
    "price['total_jarak'] = [0]*price.shape[0]\n",
    "for i, d in price.iterrows():\n",
    "    price['total_jarak'].loc[i] = d.Dist_Taxi + d.Dist_Market + d.Dist_Hospital\n",
    "\n",
    "price.head().transpose()"
   ]
  },
  {
   "cell_type": "code",
   "execution_count": 62,
   "id": "3e2b206f",
   "metadata": {
    "slideshow": {
     "slide_type": "slide"
    }
   },
   "outputs": [
    {
     "data": {
      "text/html": [
       "<div>\n",
       "<style scoped>\n",
       "    .dataframe tbody tr th:only-of-type {\n",
       "        vertical-align: middle;\n",
       "    }\n",
       "\n",
       "    .dataframe tbody tr th {\n",
       "        vertical-align: top;\n",
       "    }\n",
       "\n",
       "    .dataframe thead th {\n",
       "        text-align: right;\n",
       "    }\n",
       "</style>\n",
       "<table border=\"1\" class=\"dataframe\">\n",
       "  <thead>\n",
       "    <tr style=\"text-align: right;\">\n",
       "      <th></th>\n",
       "      <th>Observation</th>\n",
       "      <th>Dist_Taxi</th>\n",
       "      <th>Dist_Market</th>\n",
       "      <th>Dist_Hospital</th>\n",
       "      <th>Carpet</th>\n",
       "      <th>Builtup</th>\n",
       "      <th>Parking</th>\n",
       "      <th>City_Category</th>\n",
       "      <th>Rainfall</th>\n",
       "      <th>House_Price</th>\n",
       "      <th>total_jarak</th>\n",
       "      <th>harga_jual</th>\n",
       "    </tr>\n",
       "  </thead>\n",
       "  <tbody>\n",
       "    <tr>\n",
       "      <th>0</th>\n",
       "      <td>1</td>\n",
       "      <td>9796.0</td>\n",
       "      <td>5250.0</td>\n",
       "      <td>10703.0</td>\n",
       "      <td>1659.0</td>\n",
       "      <td>1961.0</td>\n",
       "      <td>Open</td>\n",
       "      <td>CAT B</td>\n",
       "      <td>530</td>\n",
       "      <td>6649000</td>\n",
       "      <td>25749.0</td>\n",
       "      <td>6899000</td>\n",
       "    </tr>\n",
       "    <tr>\n",
       "      <th>1</th>\n",
       "      <td>2</td>\n",
       "      <td>8294.0</td>\n",
       "      <td>8186.0</td>\n",
       "      <td>12694.0</td>\n",
       "      <td>1461.0</td>\n",
       "      <td>1752.0</td>\n",
       "      <td>Not Provided</td>\n",
       "      <td>CAT B</td>\n",
       "      <td>210</td>\n",
       "      <td>3982000</td>\n",
       "      <td>29174.0</td>\n",
       "      <td>4232000</td>\n",
       "    </tr>\n",
       "    <tr>\n",
       "      <th>2</th>\n",
       "      <td>3</td>\n",
       "      <td>11001.0</td>\n",
       "      <td>14399.0</td>\n",
       "      <td>16991.0</td>\n",
       "      <td>1340.0</td>\n",
       "      <td>1609.0</td>\n",
       "      <td>Not Provided</td>\n",
       "      <td>CAT A</td>\n",
       "      <td>720</td>\n",
       "      <td>5401000</td>\n",
       "      <td>42391.0</td>\n",
       "      <td>5651000</td>\n",
       "    </tr>\n",
       "  </tbody>\n",
       "</table>\n",
       "</div>"
      ],
      "text/plain": [
       "   Observation  Dist_Taxi  Dist_Market  Dist_Hospital  Carpet  Builtup  \\\n",
       "0            1     9796.0       5250.0        10703.0  1659.0   1961.0   \n",
       "1            2     8294.0       8186.0        12694.0  1461.0   1752.0   \n",
       "2            3    11001.0      14399.0        16991.0  1340.0   1609.0   \n",
       "\n",
       "        Parking City_Category  Rainfall  House_Price  total_jarak  harga_jual  \n",
       "0          Open         CAT B       530      6649000      25749.0     6899000  \n",
       "1  Not Provided         CAT B       210      3982000      29174.0     4232000  \n",
       "2  Not Provided         CAT A       720      5401000      42391.0     5651000  "
      ]
     },
     "execution_count": 62,
     "metadata": {},
     "output_type": "execute_result"
    }
   ],
   "source": [
    "# Apply menggunakan \"cython\" sehingga lebih cepat\n",
    "price['harga_jual'] = price['House_Price'].apply(lambda x: x + 250000)\n",
    "# akan ada kolom baru di dataframe \"price\"\n",
    "price.head(3)"
   ]
  },
  {
   "cell_type": "markdown",
   "id": "2490ad52",
   "metadata": {
    "slideshow": {
     "slide_type": "slide"
    }
   },
   "source": [
    "# <center><font color=\"blue\"> Removing variable(s) & Fixing Variable Type(s)</font></center>\n",
    "\n",
    "<center><img alt=\"\" src=\"images/pandas-dataframe-drop.png\" style=\"height: 350px;\" /></center>"
   ]
  },
  {
   "cell_type": "code",
   "execution_count": 64,
   "id": "3b8eb5cd",
   "metadata": {
    "slideshow": {
     "slide_type": "slide"
    }
   },
   "outputs": [
    {
     "data": {
      "text/plain": [
       "Index(['Dist_Taxi', 'Dist_Market', 'Dist_Hospital', 'Carpet', 'Builtup',\n",
       "       'Parking', 'City_Category', 'Rainfall', 'House_Price', 'total_jarak',\n",
       "       'harga_jual'],\n",
       "      dtype='object')"
      ]
     },
     "execution_count": 64,
     "metadata": {},
     "output_type": "execute_result"
    }
   ],
   "source": [
    "# perhatikan perintahnya tidak menggunakan tanda \"()\" ==> Properties \n",
    "price.columns"
   ]
  },
  {
   "cell_type": "code",
   "execution_count": 63,
   "id": "ba89c540",
   "metadata": {
    "ExecuteTime": {
     "end_time": "2019-09-30T01:09:54.493202Z",
     "start_time": "2019-09-30T01:09:54.484458Z"
    },
    "slideshow": {
     "slide_type": "fragment"
    }
   },
   "outputs": [
    {
     "name": "stdout",
     "output_type": "stream",
     "text": [
      "Index(['Dist_Taxi', 'Dist_Market', 'Dist_Hospital', 'Carpet', 'Builtup',\n",
      "       'Parking', 'City_Category', 'Rainfall', 'House_Price', 'total_jarak',\n",
      "       'harga_jual'],\n",
      "      dtype='object')\n"
     ]
    },
    {
     "data": {
      "text/html": [
       "<div>\n",
       "<style scoped>\n",
       "    .dataframe tbody tr th:only-of-type {\n",
       "        vertical-align: middle;\n",
       "    }\n",
       "\n",
       "    .dataframe tbody tr th {\n",
       "        vertical-align: top;\n",
       "    }\n",
       "\n",
       "    .dataframe thead th {\n",
       "        text-align: right;\n",
       "    }\n",
       "</style>\n",
       "<table border=\"1\" class=\"dataframe\">\n",
       "  <thead>\n",
       "    <tr style=\"text-align: right;\">\n",
       "      <th></th>\n",
       "      <th>Dist_Taxi</th>\n",
       "      <th>Dist_Market</th>\n",
       "      <th>Dist_Hospital</th>\n",
       "      <th>Carpet</th>\n",
       "      <th>Builtup</th>\n",
       "      <th>Parking</th>\n",
       "      <th>City_Category</th>\n",
       "      <th>Rainfall</th>\n",
       "      <th>House_Price</th>\n",
       "      <th>total_jarak</th>\n",
       "      <th>harga_jual</th>\n",
       "    </tr>\n",
       "  </thead>\n",
       "  <tbody>\n",
       "    <tr>\n",
       "      <th>0</th>\n",
       "      <td>9796.0</td>\n",
       "      <td>5250.0</td>\n",
       "      <td>10703.0</td>\n",
       "      <td>1659.0</td>\n",
       "      <td>1961.0</td>\n",
       "      <td>Open</td>\n",
       "      <td>CAT B</td>\n",
       "      <td>530</td>\n",
       "      <td>6649000</td>\n",
       "      <td>25749.0</td>\n",
       "      <td>6899000</td>\n",
       "    </tr>\n",
       "    <tr>\n",
       "      <th>1</th>\n",
       "      <td>8294.0</td>\n",
       "      <td>8186.0</td>\n",
       "      <td>12694.0</td>\n",
       "      <td>1461.0</td>\n",
       "      <td>1752.0</td>\n",
       "      <td>Not Provided</td>\n",
       "      <td>CAT B</td>\n",
       "      <td>210</td>\n",
       "      <td>3982000</td>\n",
       "      <td>29174.0</td>\n",
       "      <td>4232000</td>\n",
       "    </tr>\n",
       "    <tr>\n",
       "      <th>2</th>\n",
       "      <td>11001.0</td>\n",
       "      <td>14399.0</td>\n",
       "      <td>16991.0</td>\n",
       "      <td>1340.0</td>\n",
       "      <td>1609.0</td>\n",
       "      <td>Not Provided</td>\n",
       "      <td>CAT A</td>\n",
       "      <td>720</td>\n",
       "      <td>5401000</td>\n",
       "      <td>42391.0</td>\n",
       "      <td>5651000</td>\n",
       "    </tr>\n",
       "  </tbody>\n",
       "</table>\n",
       "</div>"
      ],
      "text/plain": [
       "   Dist_Taxi  Dist_Market  Dist_Hospital  Carpet  Builtup       Parking  \\\n",
       "0     9796.0       5250.0        10703.0  1659.0   1961.0          Open   \n",
       "1     8294.0       8186.0        12694.0  1461.0   1752.0  Not Provided   \n",
       "2    11001.0      14399.0        16991.0  1340.0   1609.0  Not Provided   \n",
       "\n",
       "  City_Category  Rainfall  House_Price  total_jarak  harga_jual  \n",
       "0         CAT B       530      6649000      25749.0     6899000  \n",
       "1         CAT B       210      3982000      29174.0     4232000  \n",
       "2         CAT A       720      5401000      42391.0     5651000  "
      ]
     },
     "execution_count": 63,
     "metadata": {},
     "output_type": "execute_result"
    }
   ],
   "source": [
    "# Drop kolom pertama karena tidak berguna (hanya \"observation\" ~ index)\n",
    "try: # Good practice untuk selalu gunakan Try-Except saat melakukan \"drop\" ... mengapa?\n",
    "    price.drop([\"Observation\"], axis=1, inplace=True) # Parameter \"inplace=True\" penting saat datanya besar.\n",
    "except Exception as err_:\n",
    "    print(err_)\n",
    "    \n",
    "print(price.columns)\n",
    "price.head(3)"
   ]
  },
  {
   "cell_type": "code",
   "execution_count": 66,
   "id": "e1e24b27",
   "metadata": {
    "slideshow": {
     "slide_type": "slide"
    }
   },
   "outputs": [],
   "source": [
    "# Contoh hapus baris ke-1 dan ke-3\n",
    "price.drop(price.index[[0,2]], inplace=True) # sengaja tidak menggunakan \"inplace=True\" ... perhatikan hasil cell setelah ini"
   ]
  },
  {
   "cell_type": "code",
   "execution_count": 67,
   "id": "292f7fb0",
   "metadata": {
    "slideshow": {
     "slide_type": "slide"
    }
   },
   "outputs": [
    {
     "data": {
      "text/html": [
       "<div>\n",
       "<style scoped>\n",
       "    .dataframe tbody tr th:only-of-type {\n",
       "        vertical-align: middle;\n",
       "    }\n",
       "\n",
       "    .dataframe tbody tr th {\n",
       "        vertical-align: top;\n",
       "    }\n",
       "\n",
       "    .dataframe thead th {\n",
       "        text-align: right;\n",
       "    }\n",
       "</style>\n",
       "<table border=\"1\" class=\"dataframe\">\n",
       "  <thead>\n",
       "    <tr style=\"text-align: right;\">\n",
       "      <th></th>\n",
       "      <th>Dist_Taxi</th>\n",
       "      <th>Dist_Market</th>\n",
       "      <th>Dist_Hospital</th>\n",
       "      <th>Carpet</th>\n",
       "      <th>Builtup</th>\n",
       "      <th>Parking</th>\n",
       "      <th>City_Category</th>\n",
       "      <th>Rainfall</th>\n",
       "      <th>House_Price</th>\n",
       "      <th>total_jarak</th>\n",
       "      <th>harga_jual</th>\n",
       "    </tr>\n",
       "  </thead>\n",
       "  <tbody>\n",
       "    <tr>\n",
       "      <th>1</th>\n",
       "      <td>8294.0</td>\n",
       "      <td>8186.0</td>\n",
       "      <td>12694.0</td>\n",
       "      <td>1461.0</td>\n",
       "      <td>1752.0</td>\n",
       "      <td>Not Provided</td>\n",
       "      <td>CAT B</td>\n",
       "      <td>210</td>\n",
       "      <td>3982000</td>\n",
       "      <td>29174.0</td>\n",
       "      <td>4232000</td>\n",
       "    </tr>\n",
       "    <tr>\n",
       "      <th>3</th>\n",
       "      <td>8301.0</td>\n",
       "      <td>11188.0</td>\n",
       "      <td>12289.0</td>\n",
       "      <td>1451.0</td>\n",
       "      <td>1748.0</td>\n",
       "      <td>Covered</td>\n",
       "      <td>CAT B</td>\n",
       "      <td>620</td>\n",
       "      <td>5373000</td>\n",
       "      <td>31778.0</td>\n",
       "      <td>5623000</td>\n",
       "    </tr>\n",
       "    <tr>\n",
       "      <th>4</th>\n",
       "      <td>10510.0</td>\n",
       "      <td>12629.0</td>\n",
       "      <td>13921.0</td>\n",
       "      <td>1770.0</td>\n",
       "      <td>2111.0</td>\n",
       "      <td>Not Provided</td>\n",
       "      <td>CAT B</td>\n",
       "      <td>450</td>\n",
       "      <td>4662000</td>\n",
       "      <td>37060.0</td>\n",
       "      <td>4912000</td>\n",
       "    </tr>\n",
       "    <tr>\n",
       "      <th>5</th>\n",
       "      <td>6665.0</td>\n",
       "      <td>5142.0</td>\n",
       "      <td>9972.0</td>\n",
       "      <td>1442.0</td>\n",
       "      <td>1733.0</td>\n",
       "      <td>Open</td>\n",
       "      <td>CAT B</td>\n",
       "      <td>760</td>\n",
       "      <td>4526000</td>\n",
       "      <td>21779.0</td>\n",
       "      <td>4776000</td>\n",
       "    </tr>\n",
       "  </tbody>\n",
       "</table>\n",
       "</div>"
      ],
      "text/plain": [
       "   Dist_Taxi  Dist_Market  Dist_Hospital  Carpet  Builtup       Parking  \\\n",
       "1     8294.0       8186.0        12694.0  1461.0   1752.0  Not Provided   \n",
       "3     8301.0      11188.0        12289.0  1451.0   1748.0       Covered   \n",
       "4    10510.0      12629.0        13921.0  1770.0   2111.0  Not Provided   \n",
       "5     6665.0       5142.0         9972.0  1442.0   1733.0          Open   \n",
       "\n",
       "  City_Category  Rainfall  House_Price  total_jarak  harga_jual  \n",
       "1         CAT B       210      3982000      29174.0     4232000  \n",
       "3         CAT B       620      5373000      31778.0     5623000  \n",
       "4         CAT B       450      4662000      37060.0     4912000  \n",
       "5         CAT B       760      4526000      21779.0     4776000  "
      ]
     },
     "execution_count": 67,
     "metadata": {},
     "output_type": "execute_result"
    }
   ],
   "source": [
    "price.head(4) # Apa yang terjadi?"
   ]
  },
  {
   "cell_type": "code",
   "execution_count": null,
   "id": "7d2ad75a",
   "metadata": {
    "slideshow": {
     "slide_type": "slide"
    }
   },
   "outputs": [],
   "source": [
    "# di machine learning/AI/Data Science memahami Struktur Data adalah kunci penting untuk memahaminya\n",
    "print( \"type = \", type(price.index[[0,2]]),  \"\\nvalue = \",price.index[[0,2]]) \n",
    "# drop by int \"index\" kalau rows & nama column+axis=1 jika drop kolom"
   ]
  },
  {
   "cell_type": "code",
   "execution_count": null,
   "id": "20dcf71c",
   "metadata": {
    "slideshow": {
     "slide_type": "slide"
    }
   },
   "outputs": [],
   "source": [
    "# delete Rows dengan kondisi\n",
    "price.drop(price[(price.House_Price > 6500000) & (price.House_Price < 9000000)].index, inplace=True)\n",
    "# untuk mengingatnya, bayangkan saja \"parameter\" dari drop adalah int index seperti di penjelasan cell sebelumnya\n",
    "print(price.shape)\n",
    "price.head(7)"
   ]
  },
  {
   "cell_type": "markdown",
   "id": "808f3571",
   "metadata": {
    "slideshow": {
     "slide_type": "slide"
    }
   },
   "source": [
    "# <center><font color=\"blue\"> Mengoreksi Tipe variabel: \"dtype\" & \"info\"</font></center>\n",
    "\n",
    "### <font color=\"green\"> Salah satu kunci penting dalam memahami ML/AI/Data Science baik Teori maupun aplikasinya adalah \"Struktur Data\"</font>\n",
    "    \n",
    "<center><img alt=\"\" src=\"images/pandas_dtypes.png\" style=\"height: 350px;\" /></center>"
   ]
  },
  {
   "cell_type": "code",
   "execution_count": 68,
   "id": "a718eaa2",
   "metadata": {
    "ExecuteTime": {
     "end_time": "2019-09-30T01:09:45.067396Z",
     "start_time": "2019-09-30T01:09:45.058420Z"
    },
    "slideshow": {
     "slide_type": "fragment"
    }
   },
   "outputs": [
    {
     "name": "stdout",
     "output_type": "stream",
     "text": [
      "<class 'pandas.core.frame.DataFrame'>\n",
      "Index: 934 entries, 1 to 935\n",
      "Data columns (total 11 columns):\n",
      " #   Column         Non-Null Count  Dtype  \n",
      "---  ------         --------------  -----  \n",
      " 0   Dist_Taxi      921 non-null    float64\n",
      " 1   Dist_Market    921 non-null    float64\n",
      " 2   Dist_Hospital  933 non-null    float64\n",
      " 3   Carpet         926 non-null    float64\n",
      " 4   Builtup        919 non-null    float64\n",
      " 5   Parking        934 non-null    object \n",
      " 6   City_Category  934 non-null    object \n",
      " 7   Rainfall       934 non-null    int64  \n",
      " 8   House_Price    934 non-null    int64  \n",
      " 9   total_jarak    921 non-null    float64\n",
      " 10  harga_jual     934 non-null    int64  \n",
      "dtypes: float64(6), int64(3), object(2)\n",
      "memory usage: 87.6+ KB\n"
     ]
    }
   ],
   "source": [
    "# tipe data di setiap kolom\n",
    "# Wajib di periksa apakah tipe datanya sudah tepat?\n",
    "# Perhatikan df sebagaimana semua variable di Python diperlakukan seperti object\n",
    "price.info()"
   ]
  },
  {
   "cell_type": "code",
   "execution_count": null,
   "id": "099fd353",
   "metadata": {
    "slideshow": {
     "slide_type": "slide"
    }
   },
   "outputs": [],
   "source": [
    "price.dtypes # less information, tapi perhatikan struktur datanya (more useful). "
   ]
  },
  {
   "cell_type": "code",
   "execution_count": 69,
   "id": "f753874e",
   "metadata": {
    "ExecuteTime": {
     "end_time": "2019-09-30T01:10:08.390322Z",
     "start_time": "2019-09-30T01:10:08.380136Z"
    },
    "slideshow": {
     "slide_type": "slide"
    }
   },
   "outputs": [
    {
     "data": {
      "text/plain": [
       "Dist_Taxi         float64\n",
       "Dist_Market       float64\n",
       "Dist_Hospital     float64\n",
       "Carpet            float64\n",
       "Builtup           float64\n",
       "Parking          category\n",
       "City_Category    category\n",
       "Rainfall            int64\n",
       "House_Price         int64\n",
       "total_jarak       float64\n",
       "harga_jual          int64\n",
       "dtype: object"
      ]
     },
     "execution_count": 69,
     "metadata": {},
     "output_type": "execute_result"
    }
   ],
   "source": [
    "# dataframe types: https://pbpython.com/pandas_dtypes.html\n",
    "price['Parking'] = price['Parking'].astype('category')\n",
    "price['City_Category'] = price['City_Category'].astype('category')\n",
    "price.dtypes"
   ]
  },
  {
   "cell_type": "markdown",
   "id": "84918c39",
   "metadata": {
    "slideshow": {
     "slide_type": "slide"
    }
   },
   "source": [
    "# <center><font color=\"blue\"> Variable Type Selection</font></center>\n",
    "### <font color=\"green\"> Slicing data berdasarkan Tipe sangat penting, karena visualisasi atau algoritma tertentu hanya untuk suatu tipe data tertentu juga.</font>\n",
    "    \n",
    "<center><img alt=\"\" src=\"images/pandas subsetting.png\" style=\"height: 250px;\" /></center>"
   ]
  },
  {
   "cell_type": "code",
   "execution_count": null,
   "id": "7ed04314",
   "metadata": {
    "ExecuteTime": {
     "end_time": "2019-09-30T01:01:49.539624Z",
     "start_time": "2019-09-30T01:01:49.524628Z"
    },
    "slideshow": {
     "slide_type": "slide"
    }
   },
   "outputs": [],
   "source": [
    "# Jika yang dibutuhkan memang hanya nama kolom, maka kita bisa melakukan hal ini untuk menghemat penggunaan memory\n",
    "numVar = price.select_dtypes(include = ['float64', 'int64']).columns\n",
    "\n",
    "numVar.to_list()"
   ]
  },
  {
   "cell_type": "code",
   "execution_count": null,
   "id": "c9491cb1",
   "metadata": {
    "ExecuteTime": {
     "end_time": "2019-09-30T01:12:35.600749Z",
     "start_time": "2019-09-30T01:12:35.580328Z"
    },
    "slideshow": {
     "slide_type": "slide"
    }
   },
   "outputs": [],
   "source": [
    "# Memilih hanya variable dengan tipe tertentu\n",
    "numVar = price.select_dtypes(include = ['float64', 'int64'])\n",
    "numVar.head() # Perhatikan numVar adalah variable df baru! (hati-hati di data yang besar)"
   ]
  },
  {
   "cell_type": "code",
   "execution_count": null,
   "id": "3e103313",
   "metadata": {
    "slideshow": {
     "slide_type": "slide"
    }
   },
   "outputs": [],
   "source": [
    "# Memilih hanya variable dengan tipe tertentu\n",
    "catVar = price.select_dtypes(include = ['object', 'category'])\n",
    "catVar.head(3)"
   ]
  },
  {
   "cell_type": "code",
   "execution_count": null,
   "id": "8d49ff4a",
   "metadata": {
    "slideshow": {
     "slide_type": "fragment"
    }
   },
   "outputs": [],
   "source": [
    "# get all unique values of a variable/column\n",
    "for col in catVar.columns:\n",
    "    print(col,': ', set(price[col].unique()))"
   ]
  },
  {
   "cell_type": "markdown",
   "id": "ee817ae5",
   "metadata": {
    "slideshow": {
     "slide_type": "slide"
    }
   },
   "source": [
    "# <center><font color=\"blue\"> Memilih variabel-variabel di data secara manual</font></center>"
   ]
  },
  {
   "cell_type": "code",
   "execution_count": null,
   "id": "a3cfc41c",
   "metadata": {
    "ExecuteTime": {
     "end_time": "2019-09-30T01:01:49.488723Z",
     "start_time": "2019-09-30T01:01:49.473213Z"
    },
    "slideshow": {
     "slide_type": "fragment"
    }
   },
   "outputs": [],
   "source": [
    "# Choosing some columns manually\n",
    "X = price[['House_Price','Dist_Market']] # perhatikan ada 2 tanda kurung siku \"[[]]\"\n",
    "X.head(3)"
   ]
  },
  {
   "cell_type": "code",
   "execution_count": null,
   "id": "d9cc54bc",
   "metadata": {},
   "outputs": [],
   "source": [
    "# Slicing DataFrame - Just like query in SQL\n",
    "price[price[\"City_Category\"] == \"CAT B\"].drop(\"City_Category\", axis=1).head()"
   ]
  },
  {
   "cell_type": "code",
   "execution_count": null,
   "id": "38b7a918",
   "metadata": {
    "slideshow": {
     "slide_type": "slide"
    }
   },
   "outputs": [],
   "source": [
    "# Slicing DataFrame - Just like query in SQL\n",
    "X = price[price[\"Parking\"].isin([\"Open\",\"Covered\"])]\n",
    "X = X[X[\"City_Category\"] == \"CAT B\"].drop(\"City_Category\", axis=1)\n",
    "X.head()"
   ]
  },
  {
   "cell_type": "markdown",
   "id": "05f34376",
   "metadata": {},
   "source": [
    "# <center><font color=\"blue\"> Import-Loading Data CSV / Excel Data via Pandas</font></center>\n",
    "\n",
    "<img alt=\"\" src=\"images/pandas load csv excel.png\" style=\"height: 150px;\" />\n",
    "\n",
    "* Importing CSV file  https://pandas.pydata.org/pandas-docs/stable/reference/api/pandas.read_csv.html\n",
    "* Importing Excel file  https://pandas.pydata.org/docs/reference/api/pandas.read_excel.html\n",
    "* Encodings https://docs.python.org/3/library/codecs.html#standard-encodings"
   ]
  },
  {
   "cell_type": "code",
   "execution_count": null,
   "id": "1654b4ab",
   "metadata": {},
   "outputs": [],
   "source": [
    "import pandas as pd"
   ]
  },
  {
   "cell_type": "code",
   "execution_count": null,
   "id": "4c9f9fff",
   "metadata": {},
   "outputs": [],
   "source": [
    "file_ = 'data/price.csv'\n",
    "try: # Running Locally, yakinkan \"file_\" berada di folder \"data\"\n",
    "    price = pd.read_csv(file_, low_memory = False, encoding='utf8')\n",
    "except: # Running in Google Colab\n",
    "    !mkdir data\n",
    "    !wget -P data/ https://raw.githubusercontent.com/taudata-indonesia/eLearning/master/data/price.csv\n",
    "    price = pd.read_csv(file_, low_memory = False, encoding='utf8')\n",
    "    \n",
    "N, P = price.shape # Ukuran Data\n",
    "print('baris = ', N, ', Kolom (jumlah variabel) = ', P)\n",
    "print(\"Tipe Variabe df = \", type(price))\n",
    "price"
   ]
  },
  {
   "cell_type": "markdown",
   "id": "5759025b",
   "metadata": {},
   "source": [
    "# <center><font color=\"blue\"> Bagaimana dengan File Excel?</font></center>\n",
    "## <font color=\"green\"> Karena deprecated support, maka harus install module \"openpyxl\" terlebih dahulu</font>\n",
    "\n",
    "* Importing Excel file  https://pandas.pydata.org/docs/reference/api/pandas.read_excel.html\n",
    "* openpyxl https://openpyxl.readthedocs.io/en/stable/\n",
    "<center><img alt=\"\" src=\"images/meme-cartoon/openpyxl.jpg\" style=\"height: 300px;\" /></center>"
   ]
  },
  {
   "cell_type": "code",
   "execution_count": null,
   "id": "6686fa07",
   "metadata": {},
   "outputs": [],
   "source": [
    "# Ingat module 02, jika anda menjalankan Jupyter notebook ini secara lokal, maka perlu penyesuaian\n",
    "!pip install openpyxl"
   ]
  },
  {
   "cell_type": "code",
   "execution_count": null,
   "id": "09058f75",
   "metadata": {},
   "outputs": [],
   "source": [
    "file_ = 'data/price.xlsx'\n",
    "try: # Running Locally \n",
    "    xl = pd.ExcelFile(file_, engine = 'openpyxl')\n",
    "except: # Running in Google Colab\n",
    "    !mkdir data\n",
    "    !wget -P data/ https://raw.githubusercontent.com/taudata-indonesia/eLearning/master/{file_}\n",
    "    xl = pd.ExcelFile(file_, engine = 'openpyxl')\n",
    "\n",
    "sheets_ = xl.sheet_names\n",
    "print(sheets_)\n",
    "price = xl.parse(sheets_[0], header=0) #biasakan tidak menulis nama sheet secara langsung\n",
    "\n",
    "N, P = price.shape # Ukuran Data\n",
    "print('baris = ', N, ', Kolom (jumlah variabel) = ', P)\n",
    "print(\"Tipe Variabe df = \", type(price))\n",
    "price"
   ]
  },
  {
   "cell_type": "markdown",
   "id": "852344a2",
   "metadata": {},
   "source": [
    "# <center><font color=\"blue\"> Import-Loading Data MySQL via Pandas</font></center>\n",
    "\n",
    "<img alt=\"\" src=\"images/Pandas_MySQL.png\" style=\"height: 150px;\" />\n",
    "\n",
    "*  https://pandas.pydata.org/docs/reference/api/pandas.read_sql.html"
   ]
  },
  {
   "cell_type": "markdown",
   "id": "435c0205",
   "metadata": {},
   "source": [
    "# <center><font color=\"blue\">MySQL XAMPP</font></center>\n",
    "\n",
    "<img alt=\"\" src=\"images/xampp.png\" style=\"height: 150px;\" />\n",
    "\n",
    "* https://www.apachefriends.org/download.html\n",
    "* http://localhost/phpmyadmin/index.php   (setelah menjalankan PHP & MySQL dari XAMPP)\n",
    "* https://taudata.blogspot.com/2020/04/dfds-01.html"
   ]
  },
  {
   "cell_type": "markdown",
   "id": "b6aa2562",
   "metadata": {},
   "source": [
    "# <center><font color=\"blue\">Web API</font></center>\n",
    "\n",
    "<img alt=\"\" src=\"images/web_scraping.png\" style=\"height: 150px;\" />\n",
    "\n",
    "* https://panda.readthedocs.io/en/latest/api_tutorial.html\n",
    "* https://towardsdatascience.com/scraping-tabular-data-with-pandas-python-10cf2a133cbf"
   ]
  },
  {
   "cell_type": "code",
   "execution_count": null,
   "id": "b62e11c6",
   "metadata": {
    "scrolled": false
   },
   "outputs": [],
   "source": [
    "url = 'https://en.wikipedia.org/wiki/The_World%27s_Billionaires'\n",
    "df_list = pd.read_html(url) # Hati-hati ini List!\n",
    "print(len(df_list))"
   ]
  },
  {
   "cell_type": "code",
   "execution_count": null,
   "id": "66e934d2",
   "metadata": {},
   "outputs": [],
   "source": [
    "df_list[0]"
   ]
  },
  {
   "cell_type": "code",
   "execution_count": null,
   "id": "35a86753",
   "metadata": {},
   "outputs": [],
   "source": [
    "df = df_list[2]\n",
    "df.head()"
   ]
  },
  {
   "cell_type": "code",
   "execution_count": null,
   "id": "062fbf32",
   "metadata": {},
   "outputs": [],
   "source": [
    "# Memilih Tabel tertentu\n",
    "pd.read_html(url, match='Number and combined net worth of billionaires by year')[0].head()"
   ]
  },
  {
   "cell_type": "markdown",
   "id": "b6c8d03a",
   "metadata": {},
   "source": [
    "# Sneak Peek PyVisual\n",
    "\n",
    "!pip install visualpython\n",
    "\n",
    "!visualpy install"
   ]
  },
  {
   "cell_type": "code",
   "execution_count": null,
   "id": "1c0fb147",
   "metadata": {},
   "outputs": [],
   "source": []
  },
  {
   "cell_type": "markdown",
   "id": "57bc7141",
   "metadata": {},
   "source": [
    "# End of Module\n",
    "\n",
    "<hr />"
   ]
  }
 ],
 "metadata": {
  "hide_input": false,
  "kernelspec": {
   "display_name": "Python 3 (ipykernel)",
   "language": "python",
   "name": "python3"
  },
  "language_info": {
   "codemirror_mode": {
    "name": "ipython",
    "version": 3
   },
   "file_extension": ".py",
   "mimetype": "text/x-python",
   "name": "python",
   "nbconvert_exporter": "python",
   "pygments_lexer": "ipython3",
   "version": "3.10.13"
  },
  "latex_envs": {
   "LaTeX_envs_menu_present": true,
   "autoclose": false,
   "autocomplete": true,
   "bibliofile": "biblio.bib",
   "cite_by": "apalike",
   "current_citInitial": 1,
   "eqLabelWithNumbers": true,
   "eqNumInitial": 1,
   "hotkeys": {
    "equation": "Ctrl-E",
    "itemize": "Ctrl-I"
   },
   "labels_anchors": false,
   "latex_user_defs": false,
   "report_style_numbering": false,
   "user_envs_cfg": false
  },
  "vp": {
   "vp_config_version": "1.0.0",
   "vp_menu_width": 273,
   "vp_note_display": false,
   "vp_note_width": 0,
   "vp_position": {
    "width": 278
   },
   "vp_section_display": false,
   "vp_signature": "VisualPython"
  }
 },
 "nbformat": 4,
 "nbformat_minor": 5
}
