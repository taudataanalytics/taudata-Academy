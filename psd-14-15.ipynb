{
 "cells": [
  {
   "cell_type": "markdown",
   "metadata": {
    "slideshow": {
     "slide_type": "slide"
    }
   },
   "source": [
    "<center><h1><strong>Pengantar Sains Data - Prodi Fisika - A 2020</strong></h1></center>\n",
    "<center><h2><strong><font color=\"blue\">PSD-14-15: Korelasi, Regresi, & Clustering Analysis</font></strong></h2></center>\n",
    "<img alt=\"\" src=\"images/Cover.jpg\"/>\n",
    "\n",
    "<b><center>(C) Taufik Sutanto</center>\n",
    "<center><h3><font color=\"blue\">https://tau-data.id/glm-01/</font></h3></center>\n",
    "<center><h3><font color=\"blue\">https://tau-data.id/eda-03/</font></h3></center>"
   ]
  },
  {
   "cell_type": "markdown",
   "metadata": {
    "slideshow": {
     "slide_type": "slide"
    }
   },
   "source": [
    "# Model Linear Regresi\n",
    "\n",
    "* Covariance ==> Korelasi\n",
    "* Korelasi ==> Regresi\n",
    "* Regresi VS Interpolasi\n",
    "* Evaluasi: RMSE & $R^2$\n",
    "* Pendahuluan Clustering Analysis\n",
    "* Pengelompokkan k-Means"
   ]
  },
  {
   "cell_type": "markdown",
   "metadata": {
    "slideshow": {
     "slide_type": "slide"
    }
   },
   "source": [
    "# Berawal dari Pusat data dan Variansi\n",
    "\n",
    "## $\\bar{x}= \\sum_{i=1}^{N}x_i$ dan $s^2=\\frac{\\sum_{i=1}^{N}(x_i-\\bar{x})}{N-1}$\n",
    "\n",
    "### Perhatikan makna rumus/formula variansi, lalu bandingkan dengan formula \"covariansi\" berikut:"
   ]
  },
  {
   "cell_type": "markdown",
   "metadata": {},
   "source": [
    "# Contoh kasus sederhana\n",
    "\n",
    "<img alt=\"\" src=\"images/usia-tekDarah-korelasi-regresi-table.png\" />"
   ]
  },
  {
   "cell_type": "markdown",
   "metadata": {
    "slideshow": {
     "slide_type": "slide"
    }
   },
   "source": [
    "# Variance ke Covariance: Menghitung Hubungan Linear antara 2 variabel\n",
    "\n",
    "* How? Bagaimana cara kerjanya? (Statistical Thinking)\n",
    "* Konsepnya: \"Co-Vary\" sama-sama bervariansi menjauh dari rata-rata.\n",
    "* Gunakan \"reverse\" thinking untuk memahaminya.\n",
    "* Penggunaan: cov(x,y) = 2 VS cov(x,y) = -2 VS Cov(x,y) = 0\n",
    "* Covariance = 3000? Apa artinya?\n",
    "\n",
    "<img alt=\"\" src=\"images/covariance.png\" />"
   ]
  },
  {
   "cell_type": "markdown",
   "metadata": {
    "slideshow": {
     "slide_type": "slide"
    }
   },
   "source": [
    "# Covariance ke korelasi: Statistical Thinking\n",
    "\n",
    "* Korelasi sebenarnya adalah Covariance dibagi dengan masing-masing standar deviasinya.\n",
    "* Apa maksud/maknanya?\n",
    "* Covariance punya makna geometric .... ia adalah Cosine!... https://en.wikipedia.org/wiki/Pearson_correlation_coefficient#Geometric_interpretation\n",
    "\n",
    "<img alt=\"\" src=\"images/korelasi_pearson_formulae.png\" />"
   ]
  },
  {
   "cell_type": "markdown",
   "metadata": {},
   "source": [
    "<img alt=\"\" src=\"images/perhitungan_korelasi.png\" />"
   ]
  },
  {
   "cell_type": "markdown",
   "metadata": {},
   "source": [
    "# Nilai koefisien korelasi (Linear) \"Pearson\"\n",
    "\n",
    "* Nilai dari koefisien korelasi Pearson adalah dari -1 hingga +1.\n",
    "\n",
    "<img alt=\"\" src=\"images/korelasi_pearson_01.png\" />\n",
    "\n",
    "### Hati-hati\n",
    "\n",
    "* Koefisien korelasi = 0 bukan berarti tidak ada hubungan antara kedua variable. Yang benar adalah: tidak ada hubungan LINIER, tapi bisa jadi ada hubungan dalam bentuk lain; misal: kuadratik, atau fungsi lain selain linier, seperti pada contoh di atas. "
   ]
  },
  {
   "cell_type": "markdown",
   "metadata": {},
   "source": [
    "# Interpretasi\n",
    "\n",
    "* Nilai ~0.95 menunjukkan bahwa ada korelasi linier positif yang kuat antara usia dan tekanan darah. Ada kecenderungan bahwa usia tinggi berkaitan dengan tekanan darah yang kebih tinggi dibandingkan usia rendah.\n",
    "* **WARNING**\n",
    "* **Korelasi tidak sama (meng-implikasikan) dengan sebab akibat**. Perhatikan interpretasi di atas. Tidak dinyatakan bahwa jika usia tinggi maka tekanan darah rendah, hanya suatu tren atau kecenderungan. Mungkin saja usia dengan bertambahnya usia maka tekanan darah meningkat, tapi mungkin juga tekanan darah tinggi bukan karena usia, tapi faktor lain yang tidak teramati pada data.\n",
    "\n",
    "* Contoh lain penelitian di Machine learning (kecantikan dan confidence/Panjang Jari dan IQ)"
   ]
  },
  {
   "cell_type": "markdown",
   "metadata": {},
   "source": [
    "# Korelasi dan Sebab-Akibat\n",
    "\n",
    "<img alt=\"\" src=\"images/corr_causation_meme.jpg\" />\n",
    "\n",
    "### Semua orang yang minum air putih mati."
   ]
  },
  {
   "cell_type": "markdown",
   "metadata": {},
   "source": [
    "# Penilaian Kualitatif terhadap nilai korelasi seperti ini? ... Really? Why? Why not?\n",
    "\n",
    "<img alt=\"\" src=\"images/Corr_interpretation.png\" />\n",
    "\n",
    "[image Source: https://spencermath.weebly.com/home/interpreting-the-correlation-coefficient]\n",
    "\n",
    "* Cases (social, medicine, etc)\n",
    "* Objective, prediction vs insights."
   ]
  },
  {
   "cell_type": "code",
   "execution_count": null,
   "metadata": {},
   "outputs": [],
   "source": [
    "import warnings; warnings.simplefilter('ignore')\n",
    "import pandas as pd, seaborn as sns, matplotlib.pyplot as plt, numpy as np\n",
    "plt.style.use('bmh'); sns.set()\n",
    "\n",
    "data = {'usia':[40, 45, 50, 53, 60, 65, 69, 71], 'tekanan_darah':[126, 124, 135, 138, 142, 139, 140, 151]}\n",
    "df = pd.DataFrame.from_dict(data)\n",
    "df.head(8)"
   ]
  },
  {
   "cell_type": "code",
   "execution_count": null,
   "metadata": {},
   "outputs": [],
   "source": [
    "# Korelasi dan Scatter Plot untuk melihat datanya\n",
    "print('Covariance = ', np.cov(df.usia, df.tekanan_darah, ddof=0)[0][1])\n",
    "print('Correlations = ', np.corrcoef(df.usia, df.tekanan_darah))\n",
    "plt.scatter(df.usia, df.tekanan_darah)\n",
    "plt.show()"
   ]
  },
  {
   "cell_type": "code",
   "execution_count": null,
   "metadata": {},
   "outputs": [],
   "source": [
    "# Better\n",
    "print(df.corr())\n",
    "sns.heatmap(df.corr(),cmap='viridis', vmax=1.0, vmin=-1.0, linewidths=0.1,annot=True, annot_kws={\"size\": 16}, square=True)\n",
    "p = sns.pairplot(df)"
   ]
  },
  {
   "cell_type": "markdown",
   "metadata": {},
   "source": [
    "# Interpretasi\n",
    "\n",
    "* Nilai 0.95 menunjukkan bahwa ada korelasi linier positif yang kuat antara usia dan tekanan darah. Ada kecenderungan bahwa usia tinggi berkaitan dengan tekanan darah yang kebih tinggi dibandingkan usia rendah.\n",
    "\n",
    "## WARNING\n",
    "\n",
    "* Korelasi tidak sama dengan sebab akibat. Perhatikan interpretasi di atas. Tidak dinyatakan bahwa jika usia tinggi maka tekanan darah rendah, hanya suatu tren atau kecenderungan. Mungkin saja usia dengan bertambahnya usia maka tekanan darah meningkat, tapi mungkin juga tekanan darah tinggi bukan karena usia, tapi faktor lain yang tidak teramati pada data.\n",
    "\n",
    "### <font color=\"blue\"> Sampai sini kita memahami kalau keduanya berhubungan, tapi seperti apa hubungannya kita masih belum bisa ketahui (lewat korelasi). Itulah Mengapa kita perlu Model Regresi. "
   ]
  },
  {
   "cell_type": "markdown",
   "metadata": {
    "slideshow": {
     "slide_type": "slide"
    }
   },
   "source": [
    "# Pendahuluan Model Regresi\n",
    "\n",
    "* Digunakan saat variabel tak bebas (**Dependent variable** - Y) bertipe **numerik** (float/real) dan variabel bebasnya bisa numerik dan-atau kategorik\n",
    "\n",
    "<p><img alt=\"\" src=\"images/Supervised_Methods.png\" /></p>\n"
   ]
  },
  {
   "cell_type": "markdown",
   "metadata": {},
   "source": [
    "# Regresi Linier Sederhana\n",
    "\n",
    "\n",
    "<img alt=\"\" src=\"images/Reg_sederhana_01.png\"/>"
   ]
  },
  {
   "cell_type": "markdown",
   "metadata": {},
   "source": [
    "# Korelasi ke Regresi\n",
    "\n",
    "<img alt=\"\" src=\"images/reg_eq.png\" />"
   ]
  },
  {
   "cell_type": "markdown",
   "metadata": {},
   "source": [
    "<img alt=\"\" src=\"images/regresi_linear_sederhana.png\"/>"
   ]
  },
  {
   "cell_type": "markdown",
   "metadata": {},
   "source": [
    "<img alt=\"\" src=\"images/Rumus_Parameter_regresi_linear_sederhana.png\"/>"
   ]
  },
  {
   "cell_type": "markdown",
   "metadata": {},
   "source": [
    "<img alt=\"\" src=\"images/perhitungan_regresi_sederhana.png\"/>"
   ]
  },
  {
   "cell_type": "markdown",
   "metadata": {},
   "source": [
    "# Evaluasi Error (Mean Squared Error)\n",
    "\n",
    "<img alt=\"\" src=\"images/mse_regresi.png\" />\n",
    "\n",
    "* Hati-hati,... perhatikan rumusnya dengan baik .... ia tidak robust terhadap outlier\n",
    "* $\\hat{y} = \\beta_0 + \\beta_1 x_1 + ... + \\beta_n x_n$\n",
    "* MSE = total jarak/selisih antara prediksi dan nilai dari data (sesungguhnya)\n",
    "* RMSE = $\\sqrt{MSE}$   ... why? \n",
    "* Evaluasi penting ketika kita ingin melakukan prediksi"
   ]
  },
  {
   "cell_type": "markdown",
   "metadata": {},
   "source": [
    "# Beberapa contoh aplikasi regresi\n",
    "\n",
    "1. **Predictive** Analytics: Memprediksi resiko, harga, penjualan, demand, dsb.\n",
    "\n",
    "2. Operation Efficiency: Optimasi proses bisnis dengan melihat **hubungan antar variabel** dan mengambil policy berdasarkan hubungan tersebut.\n",
    "\n",
    "3. Supporting Decisions: **Testing hypothesis**, misal terkait keuangan, operations dan customer purchases.\n",
    "\n",
    "4. New **Insights**: Regresi dapat membantu menganalisa hubungan antar variabel dan sekaligus mem-filternya.\n",
    "\n",
    "Sumber: https://www.newgenapps.com/blog/business-applications-uses-regression-analysis-advantages\n",
    "\n",
    "* https://tau-data.id/glm-01/ dan https://tau-data.id/asumsi-statistika-benci-butuh/\n",
    "<img alt=\"\" src=\"images/Regression-model.jpg\" />"
   ]
  },
  {
   "cell_type": "code",
   "execution_count": null,
   "metadata": {},
   "outputs": [],
   "source": [
    "# Fitting model Regresi Sederhana\n",
    "import statsmodels.formula.api as smf\n",
    "from statsmodels.formula.api import ols\n",
    "import statsmodels.api as sm, scipy.stats as stats\n",
    "\n",
    "lm = smf.ols(\"tekanan_darah ~ usia\", data=df[['tekanan_darah','usia']]).fit()\n",
    "lm.summary()\n",
    "# 1. F-Stat. \n",
    "#.2. Uji Koef model\n",
    "#.3. R^2\n",
    "#.4. Interpretasi Model\n",
    "#.5. Durbin-Watson ==> Time Series?"
   ]
  },
  {
   "cell_type": "markdown",
   "metadata": {},
   "source": [
    "# Interpretasi (Apa yang sebenarnya di prediksi oleh Model Regresi\n",
    "\n",
    "<img alt=\"\" src=\"images/Regresi_distribusi_Y.png\" />\n",
    "\n",
    "* image source: http://reliawiki.org/index.php/Simple_Linear_Regression_Analysis"
   ]
  },
  {
   "cell_type": "code",
   "execution_count": null,
   "metadata": {},
   "outputs": [],
   "source": [
    "# Plot the Data\n",
    "p = sns.regplot(df.usia, df.tekanan_darah)"
   ]
  },
  {
   "cell_type": "markdown",
   "metadata": {},
   "source": [
    "# Pitfalls: Regresi Interpolation BUKAN Extrapolation (Forecasting/Peramalan)\n",
    "\n",
    "<img alt=\"\" src=\"images/regression_interpolation_extrapolation.png\" />\n",
    "\n",
    "image source: https://www.datasciencecentral.com/forum/topics/what-are-the-differences-between-prediction-extrapolation-and\n",
    "\n",
    "* Penggunaan taksiran regresi untuk prediksi dapat dilakukan untuk x yang berada dalam rentang data. \n",
    "\n",
    "* Misal, untuk data usia dan tekanan darah, nilai x berada antara 40 hingga 71; sehingga hasil regresi tersebut hanya valid untuk x pada rentang itu, misal x = 50, 68, atau 69. \n",
    "\n",
    "* Jika ingin melakukan prediksi untuk x > 71, misal x = 75, atau x<40, misal x = 35, maka hasil yang diberikan tidak dapat diukur akurasinya. Ini dinamakan ekstrapolasi."
   ]
  },
  {
   "cell_type": "markdown",
   "metadata": {},
   "source": [
    "# Evaluasi $R^2$: Model VS Tidak Pakai Model?\n",
    "\n",
    "<p><img alt=\"\" src=\"images/R_Square.png\" /></p>"
   ]
  },
  {
   "cell_type": "markdown",
   "metadata": {},
   "source": [
    "# Pengaruh Variabel Tak Bebas ke Model\n",
    "\n",
    "\n",
    "<p><img alt=\"\" src=\"images/sig_var_di_Regresi.png\" /></p>\n",
    "\n",
    "* $SSR = SST - SSE = \\sum{(y_i-\\bar{y})^2} - \\sum{(y_i-\\hat{y_i})^2}$  "
   ]
  },
  {
   "cell_type": "markdown",
   "metadata": {},
   "source": [
    "<img alt=\"\" src=\"images/models_wrong_some_useful.png\" />\n",
    "\n",
    "### Perfect/true-best model tidak ada, bahkan seringnya tidak diperlukan"
   ]
  },
  {
   "cell_type": "markdown",
   "metadata": {},
   "source": [
    "<p><img alt=\"\" src=\"images/reg_types.png\" /></p>\n",
    "\n",
    "[image source: https://www.slideshare.net/mahakvijay3/basics-of-regression-analysis]"
   ]
  },
  {
   "cell_type": "code",
   "execution_count": null,
   "metadata": {
    "slideshow": {
     "slide_type": "slide"
    }
   },
   "outputs": [],
   "source": [
    "# Run this cell ONLY if this notebook run from Google Colab\n",
    "# Kalau dijalankan lokal (Anaconda/WinPython) maka silahkan install di terminal/command prompt \n",
    "# Lalu unduh secara manual file yang dibutuhkan dan letakkan di folder Python anda.\n",
    "!pip install --upgrade umap-learn\n",
    "!wget https://raw.githubusercontent.com/taudata-indonesia/eLearning/master/tau_unsup.py"
   ]
  },
  {
   "cell_type": "code",
   "execution_count": null,
   "metadata": {
    "slideshow": {
     "slide_type": "slide"
    }
   },
   "outputs": [],
   "source": [
    "# Importing Modules untuk Notebook ini\n",
    "import warnings; warnings.simplefilter('ignore')\n",
    "import umap, numpy as np, tau_unsup as tau, matplotlib.pyplot as plt, pandas as pd, seaborn as sns\n",
    "from sklearn import cluster, datasets\n",
    "from sklearn.metrics import silhouette_score as siluet\n",
    "from sklearn.metrics.cluster import homogeneity_score as purity\n",
    "from sklearn.metrics import normalized_mutual_info_score as NMI \n",
    "\n",
    "sns.set(style=\"ticks\", color_codes=True)\n",
    "random_state = 99"
   ]
  },
  {
   "cell_type": "markdown",
   "metadata": {
    "slideshow": {
     "slide_type": "slide"
    }
   },
   "source": [
    "<img src=\"images/clustering_Quotes.png\" />"
   ]
  },
  {
   "cell_type": "markdown",
   "metadata": {
    "slideshow": {
     "slide_type": "slide"
    }
   },
   "source": [
    "# Definition\n",
    "\n",
    "## Clustering is as a process of finding group structures within data such that each instance within a group is similar to one another and dissimilar to instances in other groups [1]\n",
    "\n",
    "<img src=\"images/clusters_objective.jpg\" />\n",
    "\n",
    "\n",
    "### [1]. Jain, A.K., Data clustering: 50 years beyond K-means. Pattern Recognition Letters, 2010. 31(8): p. 651-666."
   ]
  },
  {
   "cell_type": "markdown",
   "metadata": {
    "slideshow": {
     "slide_type": "slide"
    }
   },
   "source": [
    "## Applications\n",
    "\n",
    "Clustering analysis applications can be divided into two broad categories: \n",
    "\n",
    "* clustering for utility (e.g., data compression and indexing) and \n",
    "* clustering for understanding data (e.g., finding latent structures or insights in the data) \n",
    "\n",
    "Methods developed in Data Mining fall into the second category.\n",
    "\n",
    "[2]. Pang-Ning, T., M. Steinbach, and V. Kumar, Introduction to data mining. Vol. 74. 2006, Boston, MA, USA: Addison-Wesley Longman Publishing Co., Inc."
   ]
  },
  {
   "cell_type": "markdown",
   "metadata": {
    "slideshow": {
     "slide_type": "slide"
    }
   },
   "source": [
    "## Realworld Clustering Applications\n",
    "\n",
    "* Recommendation engines\n",
    "* Market segmentation\n",
    "* Social network analysis\n",
    "* Search result grouping\n",
    "* Medical imaging\n",
    "* Image segmentation\n",
    "* Anomaly detection\n",
    "\n",
    "<img src='images/clus_applications.png' />"
   ]
  },
  {
   "cell_type": "markdown",
   "metadata": {
    "slideshow": {
     "slide_type": "slide"
    }
   },
   "source": [
    "<p><img alt=\"\" src=\"images/5_Clus-Clas.png\" style=\"height:500px; width:766px\" /></p>"
   ]
  },
  {
   "cell_type": "markdown",
   "metadata": {
    "slideshow": {
     "slide_type": "slide"
    }
   },
   "source": [
    "## k-Means\n",
    "\n",
    "<img alt=\"\" src=\"images/5_Kmeans_animation.gif\" />\n",
    "\n",
    "### Source: https://imgflip.com/"
   ]
  },
  {
   "cell_type": "markdown",
   "metadata": {
    "slideshow": {
     "slide_type": "slide"
    }
   },
   "source": [
    "# Algoritma k-Means\n",
    "\n",
    "<img alt=\"\" src=\"images/5_kmeans_Algorithm.png\" />\n",
    "\n",
    "* How it works: https://www.learndatasci.com/tutorials/k-means-clustering-algorithms-python-intro/ "
   ]
  },
  {
   "cell_type": "markdown",
   "metadata": {},
   "source": [
    "# Jarak (Distance)\n",
    "\n",
    "<img alt=\"\" src=\"images/Euclidean.png\" />"
   ]
  },
  {
   "cell_type": "markdown",
   "metadata": {
    "slideshow": {
     "slide_type": "slide"
    }
   },
   "source": [
    "# Penting:\n",
    "\n",
    "* Apakah pengaruh menggunakan centroid dan algoritma ini terhadap bentuk cluster?\n",
    "* Dari pertanyaan sebelumnya pahami bias memilih algoritma clustering.\n",
    "* k-Means tidak Robust terhadap outlier, Mengapa? \n",
    "* Lalu apa yang sebaiknya dilakukan?<"
   ]
  },
  {
   "cell_type": "markdown",
   "metadata": {
    "slideshow": {
     "slide_type": "slide"
    }
   },
   "source": [
    "# Tantangan Clustering\n",
    "\n",
    "* Computational Complexity\n",
    "* Evaluation\n",
    "* Interpretation\n",
    "* Heavily depends on domain knowledge"
   ]
  },
  {
   "cell_type": "code",
   "execution_count": null,
   "metadata": {
    "slideshow": {
     "slide_type": "slide"
    }
   },
   "outputs": [],
   "source": [
    "# Kita akan menggunakan 2 data: [1]. Iris dan [2]. Data untuk Studi Kasus (segmentasi kustomer) - di bagian akhir\n",
    "# load the iris data\n",
    "\n",
    "df = sns.load_dataset(\"iris\")\n",
    "X = df[['sepal_length','sepal_width','petal_length','petal_width']].values\n",
    "C = df['species'].values\n",
    "print(X.shape)\n",
    "df.head()"
   ]
  },
  {
   "cell_type": "code",
   "execution_count": null,
   "metadata": {
    "scrolled": false,
    "slideshow": {
     "slide_type": "slide"
    }
   },
   "outputs": [],
   "source": [
    "g = sns.pairplot(df, hue=\"species\")"
   ]
  },
  {
   "cell_type": "code",
   "execution_count": null,
   "metadata": {
    "slideshow": {
     "slide_type": "slide"
    }
   },
   "outputs": [],
   "source": [
    "# k-means: http://scikit-learn.org/stable/modules/generated/sklearn.cluster.KMeans.html#sklearn.cluster.KMeans\n",
    "# Hapus \"random_state = random_state\" jika ingin melihat efek randomized centroid.\n",
    "from sklearn import cluster\n",
    "\n",
    "k = 3\n",
    "km = cluster.KMeans(n_clusters=k, init='random', max_iter=300, tol=0.0001, n_jobs=-1)\n",
    "km.fit(X)\n",
    "# Hasil clusteringnya\n",
    "C_km = km.predict(X)\n",
    "p= sns.countplot(C_km)"
   ]
  },
  {
   "cell_type": "code",
   "execution_count": null,
   "metadata": {
    "slideshow": {
     "slide_type": "slide"
    }
   },
   "outputs": [],
   "source": [
    "X2D = umap.UMAP(n_neighbors=5, min_dist=0.3, random_state=random_state).fit_transform(X)\n",
    "fig, ax = plt.subplots()\n",
    "ax.scatter(X2D[:,0], X2D[:,1], c=C_km)\n",
    "plt.show()"
   ]
  },
  {
   "cell_type": "markdown",
   "metadata": {
    "slideshow": {
     "slide_type": "slide"
    }
   },
   "source": [
    "# Apa beda label ini dengan klasifikasi (\"labels\")?"
   ]
  },
  {
   "cell_type": "code",
   "execution_count": null,
   "metadata": {
    "slideshow": {
     "slide_type": "fragment"
    }
   },
   "outputs": [],
   "source": [
    "C_km"
   ]
  },
  {
   "cell_type": "markdown",
   "metadata": {
    "slideshow": {
     "slide_type": "slide"
    }
   },
   "source": [
    "# Evaluasi? - Inertia : Intra Cluster Distance\n",
    "\n",
    "* Bagaimana memaknainya?\n",
    "* Bukan Error! ... Mengapa?\n",
    "* Belum ada faktor \"inter distance\" ==> nanti Silhouette Score\n",
    "\n",
    "<img src=\"images/inertia_calc.png\" />\n",
    "\n",
    "### image source: https://www.unioviedo.es/compnum/labs/new/kmeans.html"
   ]
  },
  {
   "cell_type": "code",
   "execution_count": null,
   "metadata": {
    "slideshow": {
     "slide_type": "fragment"
    }
   },
   "outputs": [],
   "source": [
    "km.inertia_"
   ]
  },
  {
   "cell_type": "markdown",
   "metadata": {
    "slideshow": {
     "slide_type": "slide"
    }
   },
   "source": [
    "# Optimal Number of Clusters? - Elbow Method - \n",
    "\n",
    "* Menggunakan inertia\n",
    "* Rekomendasi ... Bukan \"wajib\" ==> Lalu apa yang lebih penting?"
   ]
  },
  {
   "cell_type": "code",
   "execution_count": null,
   "metadata": {
    "slideshow": {
     "slide_type": "fragment"
    }
   },
   "outputs": [],
   "source": [
    "distorsions, k1, kN = [], 2, 10\n",
    "for k in range(k1, kN):\n",
    "    kmeans = cluster.KMeans(n_clusters=k).fit(X)\n",
    "    distorsions.append(kmeans.inertia_)\n",
    "#fig = plt.figure(figsize=(15, 5))\n",
    "plt.plot(range(k1, kN), distorsions); plt.grid(True)\n",
    "plt.title('Elbow curve')"
   ]
  },
  {
   "cell_type": "markdown",
   "metadata": {
    "slideshow": {
     "slide_type": "slide"
    }
   },
   "source": [
    "# Ponder this\n",
    "\n",
    "### Apakah akibat dari mengacak (randomized) centroid di awal algoritma?\n",
    "### k-Means sangat tidak direkomendasikan untuk diaplikasikan di aplikasi nyata ... Loh? Mengapa?"
   ]
  },
  {
   "cell_type": "markdown",
   "metadata": {},
   "source": [
    "# <center><font color=\"blue\"> End of Module Korelasi-Regresi-Logistik\n",
    "\n",
    "<hr />\n",
    "<img alt=\"\" src=\"images/meme_04_regression.png\"/>"
   ]
  }
 ],
 "metadata": {
  "celltoolbar": "Slideshow",
  "kernelspec": {
   "display_name": "Python 3",
   "language": "python",
   "name": "python3"
  },
  "language_info": {
   "codemirror_mode": {
    "name": "ipython",
    "version": 3
   },
   "file_extension": ".py",
   "mimetype": "text/x-python",
   "name": "python",
   "nbconvert_exporter": "python",
   "pygments_lexer": "ipython3",
   "version": "3.6.8"
  }
 },
 "nbformat": 4,
 "nbformat_minor": 2
}
