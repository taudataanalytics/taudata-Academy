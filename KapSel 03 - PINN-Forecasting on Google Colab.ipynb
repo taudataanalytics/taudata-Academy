{
 "cells": [
  {
   "cell_type": "markdown",
   "id": "8d275b8f",
   "metadata": {
    "slideshow": {
     "slide_type": "slide"
    }
   },
   "source": [
    "# <center><font color=\"green\">KapSel Ganjil 2022 03 - Computational Graph, PINN & PD Forecasting on Google Colab</font></center>\n",
    "\n",
    "<center><img alt=\"\" src=\"images/covers/cover_ui-n-taudata.jpg\"/></center> "
   ]
  },
  {
   "cell_type": "markdown",
   "id": "b0438476",
   "metadata": {
    "slideshow": {
     "slide_type": "slide"
    }
   },
   "source": [
    "# <center><font color=\"blue\">Outline</font></center>\n",
    "\n",
    "* Review Turunan di NN/DL dengan PyTorch + memahami Computational Graph\n",
    "* PINN (Physics-informed neural networks - A deep learning framework for solving forward and inverse problems)\n",
    "* Contoh PINN - 1D Elastic Bar Revisited\n",
    "* ODE - Dysts\n",
    "* Forecasting Darts\n",
    "* Contoh ODE Forecasting"
   ]
  },
  {
   "cell_type": "markdown",
   "id": "c506fb1a",
   "metadata": {},
   "source": [
    "# Sebelum Dimulai: Cek Terlebih Dahulu PyTorch Dapat Dijalankan dengan baik di Google Colab\n",
    "\n",
    "### Jangan lupa ganti Runtime ke \"GPU\""
   ]
  },
  {
   "cell_type": "code",
   "execution_count": 91,
   "id": "fa4f9c04",
   "metadata": {},
   "outputs": [
    {
     "name": "stdout",
     "output_type": "stream",
     "text": [
      "Using Numpy and Pytorch versions = 1.21.6, 1.12.1+cpu\n",
      "Using device: cpu, "
     ]
    }
   ],
   "source": [
    "## import torch, numpy as np\n",
    "\n",
    "# Kalau saya sukanya cek versi dan apakah PyTorch (atau tensorflow) sudah dapat mengakses GPU atau belum\n",
    "print(\"Using Numpy and Pytorch versions = {}, {}\".format(np.__version__, torch.__version__))\n",
    "device = torch.device('cuda' if torch.cuda.is_available() else 'cpu')\n",
    "print('Using device:', device, end=', ')\n",
    "if device.type == 'cuda': #Additional Info when using cuda\n",
    "    print(torch.cuda.get_device_name(0))\n",
    "    print('Currently Memory Allocated, Cached =', round(torch.cuda.memory_allocated(0)/1024**3,1), 'GB, ', round(torch.cuda.memory_reserved(0)/1024**3,1), 'GB')"
   ]
  },
  {
   "cell_type": "markdown",
   "id": "2d32e524",
   "metadata": {},
   "source": [
    "<center><h1><strong><font color=\"blue\">Review Network Model dengan Pytorch</font></strong></h1></center>\n",
    "\n",
    "[![PyTorch WorkFlow](images/DL/pyTorch-Workflow.png)](#)"
   ]
  },
  {
   "cell_type": "markdown",
   "id": "35627da0",
   "metadata": {},
   "source": [
    "<center><h1><strong><font color=\"blue\">01: Turunan di Deep Learning (PyTorch)</font></strong></h1></center>"
   ]
  },
  {
   "cell_type": "markdown",
   "id": "a449328a",
   "metadata": {},
   "source": [
    "# <center><font color=\"blue\"> Outline Turunan di Pytorch </font></center>\n",
    "\n",
    "* **Motivasi**: Arsitektur sederhana NN di Pytorch \n",
    " - dan mengapa sekarang saya beralih dari TensorFlow ke PyTorch :)\n",
    "* Apa itu **Computational Graph** (CG) dan mengapa mengerti CG penting sekali di NN/DL?\n",
    "* Pendahuluan Gradient sebagai \"penggerak\" NN/DL\n",
    "* AutoGrad, fungsi komposisi, dan aturan rantai (Chain Rule) ... because Calculus Rules!"
   ]
  },
  {
   "cell_type": "markdown",
   "id": "3a4e5827",
   "metadata": {},
   "source": [
    "# <center><font color=\"blue\"> Prasyarat Module </font></center>\n",
    "\n",
    "## Sebelum dilanjutkan, yakinkan sudah mempelajari dengan baik module:\n",
    "* Module Deep Learning sebelumnya: **DL-01 & DL-02**\n",
    "* OOP di Python: **ADSP-04 & ADSP-05**\n",
    "* Dasar Turunan Numerik & Dasar Optimasi: **MFDSNM-07 & MFDSNM-09**\n",
    "\n",
    "## Catatan, silahkan search module-module diatas menggunakan nama modulnya di:\n",
    "## <center><font color=\"blue\">https://taudata.blogspot.com/</font></center>"
   ]
  },
  {
   "cell_type": "markdown",
   "id": "345132e2",
   "metadata": {},
   "source": [
    "# \"Berawal di Akhir\": NN/DL (paling) sederhana - Kasus Regresi Sederhana\n",
    "\n",
    "<img alt=\"\" src=\"images/DL/Simplest-NN-taudata.png\" alt=\"\" width=\"600\"/>\n",
    "\n",
    "* Kembali ke Module DL-01 jika anda bertanya: \"_*mana fungsi aktivasinya?*_\"\n",
    "* DL-01: https://taudata.blogspot.com/2022/04/dl-01.html\n",
    "* Kembali ke Module GLM-01 jika anda belum kenalan dengan Mas/Mba \"Regresi\"\n",
    "* https://taudata.blogspot.com/2022/04/glm-01.html"
   ]
  },
  {
   "cell_type": "markdown",
   "id": "a6671497",
   "metadata": {},
   "source": [
    "# Anatomi PyTorch\n",
    "\n",
    "<img alt=\"\" src=\"images/DL/anatomi-pytorch.jpg\"/>"
   ]
  },
  {
   "cell_type": "markdown",
   "id": "54578254",
   "metadata": {},
   "source": [
    "# Memahami Turunan di Deep Learning\n",
    "\n",
    "\n",
    "<img alt=\"\" src=\"images/DL/augmented_computational_graph.png\"/>\n",
    "\n",
    "* Read in more detail here: https://www.vedereai.com/how-computational-graphs-are-constructed-in-pytorch/"
   ]
  },
  {
   "cell_type": "markdown",
   "id": "b628f9df",
   "metadata": {},
   "source": [
    "In our previous example we designed s very simple linear model which takes an input $x$ and predicts the output $\\hat{y}$.\n",
    "\n",
    "<img alt=\"\" src=\"images/DL/Regresi-Sederhana.jpg\"/>\n",
    "\n",
    "$$ \\hat{y} = xw+b $$\n",
    "\n",
    "The parameters \\(w \\) (weight) and \\(b \\) (bias) are unknown to us. So, the main goal of our analysis was to determine the values for \\(w \\) and \\(b \\).\n",
    "\n",
    "To do that we applied forward pass and calculated loss and cost functions.\n",
    "\n",
    "$$ loss=(\\hat{y}-y)^{2}=(xw-y)^{2} $$\n",
    "\n",
    "$$ cost=\\frac{1}{N}\\sum_{n=1}^{N}loss_{n} $$\n",
    "\n",
    "$$ cost=\\frac{1}{N}\\sum_{n=1}^{N}(\\hat{y}_{n}-y_{n})^{2} $$\n",
    "\n",
    "Then, we trained our linear model to calculate the global minimum of the cost function. This process requires a gradient-based optimizer. So, to optimize our model we applied a Gradient descent algorithm. In this way, we were able to find optimal values of \\(w \\) and \\(b \\).\n",
    "\n",
    "As we already mentioned, for this example we used a very simple linear model. So the computation of the gradients was quite an easy task. We just calculated the derivative of cost with respect to \\(w \\) using the following equation:\n",
    "\n",
    "$$ Gradient = \\frac{dJ}{dw} $$\n",
    "\n",
    "## Source: https://datahacker.rs/004-computational-graph-and-autograd-with-pytorch/"
   ]
  },
  {
   "cell_type": "markdown",
   "id": "952e3f13",
   "metadata": {},
   "source": [
    "# An example of a computational graph\n",
    "\n",
    "<img alt=\"\" src=\"images/DL/Computational-Graph-Regresi-sederhana.jpg\"/>\n",
    "\n",
    "* **input nodes** painted in blue are the input points from the data set.\n",
    "* **parameter nodes** painted in orange are nodes where the parameters of the model are stored. These parameters will be updated to compute the cost. Our goal is to calculate gradients for these parameters because this is what we want to estimate at the end of the process.\n",
    "* **computation nodes** painted in yellow are used for computation of the output (cost function stored in the final node). We also have intermediate compute nodes where we compute the previous nodes, inputs, or parameters. For example, if we want to multiply two parameters, we can create a new variable and assign it to the result of our product.\n",
    "\n",
    "we can decompose complex computations into a sequence of simpler computations using this graphical formulation.\n",
    "\n",
    "$$ \\frac{dJ}{dw}=\\frac{1}{N}\\sum_{n=1}^{N}(x^{(i)},y^{(i)}, w^{(i)}) $$"
   ]
  },
  {
   "cell_type": "markdown",
   "id": "5b27288e",
   "metadata": {},
   "source": [
    "Both PyTorch and TensorFlow view models as a Directed Acyclic Graph (DAG). These are called computational graphs. The difference occurs when these graphs have to be created. \n",
    "\n",
    "* https://radity.com/en/digital-magazine/when-to-use-tensorflow-vs-pytorch/\n",
    "* Di link diatas juga dijelaskan apa beda Graph static dan dynamic\n",
    "* \n",
    "\n",
    "\n",
    "TensorFlow creates this graph statically, at compile-time, while PyTorch creates it dynamically. This means that, before running the model, TensorFlow constructs the graph. The model communicates with the external environment through the session object and the placeholders. The placeholders are Tensors which provide the model with data from outside the model while the session holds all intermediate values of the calculations which are being performed as instructed by the graph. \n",
    "\n",
    "PyTorch is much more simple in the sense that the graph is constructed dynamically for each feed-forward. You do not have to bother with Placeholders or Sessions thus giving a more native feel with Python."
   ]
  },
  {
   "cell_type": "markdown",
   "id": "cbfa6e97",
   "metadata": {},
   "source": [
    "# Mengapa CG penting?\n",
    "\n",
    "* Pertama untuk debugging pada model DL yang kompleks\n",
    "* Kedua bisa membantu untuk pemula dalam memahami cara kerja suatu arsitektur DL, terutama yang sudah kompleks.\n",
    "\n",
    "* Contoh gambar  ada di https://devpost.com/software/vz-pytorch-a-smarter-way-to-visualize-pytorch-models\n",
    "\n"
   ]
  },
  {
   "cell_type": "markdown",
   "id": "b01163e1",
   "metadata": {},
   "source": [
    "# Chain Rule - Forward\n",
    "\n",
    "<img alt=\"\" src=\"images/DL/chain-Rule-DL.png\"/>"
   ]
  },
  {
   "cell_type": "markdown",
   "id": "713328d1",
   "metadata": {},
   "source": [
    "# Forward\n",
    "\n",
    "* Untuk lebih memahami chain rule di DL, mari lihat Contoh sederhana berikut:\n",
    "\n",
    "<img alt=\"\" src=\"images/DL/Forward-Simple-Example.png\"/>\n",
    "\n",
    "* Forward pass or forward propagation step: takes training points \\(x \\) and \\(y \\) as input and computes the output of our linear model – a cost."
   ]
  },
  {
   "cell_type": "markdown",
   "id": "09e28499",
   "metadata": {},
   "source": [
    "# Backward\n",
    "\n",
    "<img alt=\"\" src=\"images/DL/backward-chainrule.jpg\"/>\n",
    "\n",
    "* A backward pass or backpropagation step: is used to train our linear model to calculate the global minimum of the cost function. This process requires a gradient-based optimizer and for that, we usually apply a Gradient descent algorithm."
   ]
  },
  {
   "cell_type": "markdown",
   "id": "2de160ee",
   "metadata": {},
   "source": [
    "Now, let’s suppose that we already computed the partial derivative of $J$ with respect to $z – (\\frac{\\partial J}{\\partial z}=5 )$. According to the chain rule $(\\frac{\\partial J}{\\partial x})$ is equal to the product of the $(\\frac{\\partial J}{\\partial z})$ and local gradient $(\\frac{\\partial z}{\\partial x})$. \n",
    "\n",
    "Similarly, $(\\frac{\\partial J}{\\partial y})$ is equal to the product of the $(\\frac{\\partial J}{\\partial z})$ and local gradient $\\frac{\\partial z}{\\partial y}$."
   ]
  },
  {
   "cell_type": "markdown",
   "id": "bcf66881",
   "metadata": {},
   "source": [
    "# Backward Propagation\n",
    "\n",
    "<img alt=\"\" src=\"images/DL/backward-propagation.jpg\"/>\n",
    "\n",
    "$$ x\\in \\mathbb{R} $$\n",
    "\n",
    "$$ y\\in \\mathbb{R} $$\n",
    "\n",
    "$$ \\frac{\\partial y}{\\partial x}\\in R $$\n",
    "\n",
    "So, given the scalar input and scalar output, the derivative of the output with respect to input tells us the local linear approximation. In other words, if the input \\(x \\) changes by a small amount how much will \\(y \\) change.\n",
    "\n",
    "However, in practice, we usually work with vector value functions. If that is the case, we will often apply the type of derivative that is used when the function has a vector as an input and produces a scalar as an output. This type of derivative is called gradient and it is actually a vector of the same size as an input. So, each element of this gradient vector will tell us how much output will change if the corresponding element of the input vector changes by the small value.\n",
    "\n",
    "$$x\\in R^{N} $$\n",
    "\n",
    "$$ y\\in \\mathbb{R} $$\n",
    "\n",
    "$$ \\frac{\\partial y}{\\partial x}\\in R^{N} $$\n",
    "\n",
    "$$ \\left ( \\frac{\\partial y}{\\partial x} \\right )_{n}=\\frac{\\partial y}{\\partial x_{n}} $$"
   ]
  },
  {
   "cell_type": "markdown",
   "id": "a9926f94",
   "metadata": {},
   "source": [
    "# Perhitungan Forward dapat dengan mudah dilakukan\n",
    "\n",
    "* Pahami dengan baik\n",
    "\n",
    "<img alt=\"\" src=\"images/DL/forward-example.jpg\"/>"
   ]
  },
  {
   "cell_type": "markdown",
   "id": "9e13eaef",
   "metadata": {},
   "source": [
    "# Contoh perhitungan Chain Rule di Deep Learning\n",
    "\n",
    "<img alt=\"\" src=\"images/DL/backward-chainrule-calculated.jpg\"/>"
   ]
  },
  {
   "cell_type": "markdown",
   "id": "195a7886",
   "metadata": {},
   "source": [
    "# Ingat ... dengan mekanisme di Computational graph ini maka Turunan akan selalu bisa dihitung secara efisien, tidak peduli arsitektur deep learning yang digunakan."
   ]
  },
  {
   "cell_type": "markdown",
   "id": "192d1395",
   "metadata": {},
   "source": [
    "# <center><font color=\"blue\"> Contoh Aplikasi di PyTorch </font></center>\n",
    "\n",
    "<img alt=\"\" src=\"images/DL/Backward-pass-and-forward-pass-of-neural-network.png\"/>\n",
    "\n",
    "### Gradient sangat penting dalam proses optimasi Loss Function dan Update Weight NN/DL yang optimal.\n",
    "\n",
    "* image source: https://www.researchgate.net/publication/31900787_The_Development_of_Anomaly_Diagnosis_Method_Using_Neuro-Expert_for_PWR_Monitoring_System/figures?lo=1&utm_source=google&utm_medium=organic"
   ]
  },
  {
   "cell_type": "code",
   "execution_count": 92,
   "id": "33c884de",
   "metadata": {},
   "outputs": [
    {
     "name": "stdout",
     "output_type": "stream",
     "text": [
      "torch.Size([3, 1]) torch.Size([3, 1])\n",
      "tensor([[1.],\n",
      "        [2.],\n",
      "        [3.]])\n"
     ]
    }
   ],
   "source": [
    "\"\"\"\n",
    "[1]. Data Input: \"Toy Data\" dari Module GLM-01 \n",
    "* https://taudata.blogspot.com/2022/04/glm-01.html\n",
    "\n",
    "Kembali ke module DL-02 jika anda bertanya, kenapa tidak pakai numpy array? apa itu dtype?\n",
    "https://taudata.blogspot.com/2022/04/dl-02.html\n",
    "\n",
    "\"Variable\" akan dijelasan setelah cell ini\n",
    "\n",
    "Kenapa nulis datanya seperti itu? Itu adalah struktur input sederhana yg diterima PyTorch.\n",
    "Kalau memperhatikan Modul NLPTM di taudata Gensim juga punya strutur data serupa.\n",
    "\n",
    "\"Struktur Data\" IMHO adalah hal yang paling sering membingungkan Data Scientist ... \n",
    "tidak hanya yg junior, bahkan yg senior sekalipun. Tapi lama-lama juga akan terbiasa ;)\n",
    "* Bisa juga pakai list biasa lalu \".reshape(-1, 1)\"\n",
    "\"\"\"\n",
    "from torch.autograd import Variable\n",
    "\n",
    "x = Variable(torch.Tensor([[1.0], [2.0], [3.0]]))\n",
    "y = Variable(torch.Tensor([[2.0], [4.0], [6.0]]))\n",
    "print(x.shape, y.shape)\n",
    "print(x)"
   ]
  },
  {
   "cell_type": "markdown",
   "id": "794fbf80",
   "metadata": {},
   "source": [
    "# \"Variable\": Deep Learning dan Neural Network adalah salah satu aplikasi pemodelan \"Graph\"!\n",
    "\n",
    "* Jika terminologi Graph atau \"node\" membuat anda pusing dan tidak nafsu makan, silahkan kembali ke module **SNA-01**\n",
    "* https://taudata.blogspot.com/2022/04/sna-01.html\n",
    "\n",
    "> \"**Variable**\" di Pytorch adalah sebuah \"wrapper\" atas Tensor dan menyatakan sebuah node dalam Graph Komputasi DL/NN. Jika **$x$** adalah sebuah variabel, maka **$x.data$** adalah tensornya dan **$x.grad$** adalah gradient atau turunannya di titik tersebut.\n",
    "\n",
    "* berarti arti \"**Variable(x)**\" adalah membuat \"node\" di Graph Komputasi NN/DL PyTorch sebagaimana nx.add_node(x) di Module SNA-01. Tapi \"Variable(x)\" juga sekaligus menambahkan variabel \"grad\" (gradient) pada node-nya. di SNA-01, jika kita mau menambahkan variabel networkX juga bisa ... silahkan lihat kembali module SNA-01 jika lupa.\n",
    "* Node \"variable(x)\" juga memiliki komponen **grad_fn**, tapi untuk saat ini kita kacangin aja dulu ya MasBro.\n",
    "\n",
    "<img alt=\"\" src=\"images/DL/anatomi-variable-di-pytorch.png\"/>"
   ]
  },
  {
   "cell_type": "code",
   "execution_count": 93,
   "id": "c689c3f1",
   "metadata": {},
   "outputs": [
    {
     "name": "stdout",
     "output_type": "stream",
     "text": [
      "Does `a` require gradients? : False\n",
      "Does `b` require gradients?: True\n"
     ]
    }
   ],
   "source": [
    "# Untuk menghitung Gradient, secara specific tensor harus diberikan parameternya.\n",
    "import torch, numpy as np\n",
    "\n",
    "x = torch.rand(5, 5)\n",
    "y = torch.rand(5, 5)\n",
    "z = torch.rand((5, 5), requires_grad=True)\n",
    "\n",
    "a = x + y\n",
    "print(f\"Does `a` require gradients? : {a.requires_grad}\")\n",
    "b = x + z\n",
    "print(f\"Does `b` require gradients?: {b.requires_grad}\")"
   ]
  },
  {
   "cell_type": "code",
   "execution_count": 94,
   "id": "286241ad",
   "metadata": {},
   "outputs": [
    {
     "data": {
      "text/plain": [
       "tensor([[0.7620, 0.2687, 0.2537, 0.4563, 0.4519],\n",
       "        [0.1105, 0.9168, 0.2794, 0.6774, 0.9349],\n",
       "        [0.7522, 0.5708, 0.9254, 0.5672, 0.2687],\n",
       "        [0.9730, 0.6183, 0.0122, 0.3577, 0.1594],\n",
       "        [0.9384, 0.4174, 0.0442, 0.4686, 0.8140]], requires_grad=True)"
      ]
     },
     "execution_count": 94,
     "metadata": {},
     "output_type": "execute_result"
    }
   ],
   "source": [
    "z"
   ]
  },
  {
   "cell_type": "code",
   "execution_count": 95,
   "id": "f219b813",
   "metadata": {},
   "outputs": [
    {
     "name": "stdout",
     "output_type": "stream",
     "text": [
      "tensor(2.)\n",
      "tensor(1.)\n",
      "tensor(1.)\n"
     ]
    }
   ],
   "source": [
    "# Create tensors.\n",
    "x = torch.tensor(1., requires_grad=True)\n",
    "w = torch.tensor(2., requires_grad=True)\n",
    "b = torch.tensor(3., requires_grad=True)\n",
    "\n",
    "# Build a computational graph.\n",
    "y = w * x + b    # y = 2 * x + 3\n",
    "\n",
    "# Compute gradients.\n",
    "y.backward()\n",
    "\n",
    "# Print out the gradients.\n",
    "print(x.grad)    # x.grad = 2 \n",
    "print(w.grad)    # w.grad = 1 \n",
    "print(b.grad)    # b.grad = 1 "
   ]
  },
  {
   "cell_type": "code",
   "execution_count": 96,
   "id": "4cd19c5a",
   "metadata": {},
   "outputs": [
    {
     "data": {
      "text/plain": [
       "tensor(1., requires_grad=True)"
      ]
     },
     "execution_count": 96,
     "metadata": {},
     "output_type": "execute_result"
    }
   ],
   "source": [
    "x"
   ]
  },
  {
   "cell_type": "markdown",
   "id": "d20576a6",
   "metadata": {},
   "source": [
    "# Misal kita memiliki fungsi\n",
    "\n",
    "$$ Q = 3a^3 - b^2 $$"
   ]
  },
  {
   "cell_type": "code",
   "execution_count": 97,
   "id": "14b803d3",
   "metadata": {},
   "outputs": [
    {
     "data": {
      "text/plain": [
       "tensor([[-8.6669, -8.7534,  0.0144, -6.1239, -8.9468],\n",
       "        [-7.4298, -5.8217,  4.4584, -5.3800, -0.8275],\n",
       "        [-8.7307, -8.7110, 10.2617,  0.5750,  4.2816],\n",
       "        [-7.1143, -2.2352, -4.5327, -0.5144, -6.0712],\n",
       "        [-8.2005, -8.9786,  5.1855, -2.8273, -8.2521]], grad_fn=<SubBackward0>)"
      ]
     },
     "execution_count": 97,
     "metadata": {},
     "output_type": "execute_result"
    }
   ],
   "source": [
    "Q = 3*a**3 - b**2\n",
    "Q"
   ]
  },
  {
   "cell_type": "markdown",
   "id": "1d12543d",
   "metadata": {},
   "source": [
    "### Ingat pde01 \n",
    "* $\\frac{\\partial Q}{\\partial a} = 9 a^2$ dan\n",
    "* $\\frac{\\partial Q}{\\partial b} = -2 b$ dan\n",
    "\n",
    "* Ketika Fungsi **.backward()** dilakukan pada **Q**, autograd menghitung **gradients** pada suatu titik dan menyimpan di dalam Tensor yang dituju di dalam attribute **.grad** (ingat prinsip OOP di adsp04: attribute dan methods)."
   ]
  },
  {
   "cell_type": "code",
   "execution_count": 98,
   "id": "b418c058",
   "metadata": {},
   "outputs": [
    {
     "data": {
      "text/plain": [
       "tensor([[ 2.0793,  1.7014, 18.7408,  8.7504,  0.6117],\n",
       "        [ 5.8451,  9.3531, 24.4808, 10.2008, 17.5549],\n",
       "        [ 1.8043,  1.8912, 31.0903, 19.5098, 24.2659],\n",
       "        [ 6.6041, 15.4763, 11.7361, 18.0004,  8.8570],\n",
       "        [ 3.7272,  0.3333, 25.3547, 14.5595,  3.5651]])"
      ]
     },
     "execution_count": 98,
     "metadata": {},
     "output_type": "execute_result"
    }
   ],
   "source": [
    "9*a**2"
   ]
  },
  {
   "cell_type": "code",
   "execution_count": 99,
   "id": "396479f5",
   "metadata": {},
   "outputs": [
    {
     "data": {
      "text/plain": [
       "True"
      ]
     },
     "execution_count": 99,
     "metadata": {},
     "output_type": "execute_result"
    }
   ],
   "source": [
    "Q.grad == None # Why?"
   ]
  },
  {
   "cell_type": "code",
   "execution_count": 100,
   "id": "45957751",
   "metadata": {},
   "outputs": [
    {
     "data": {
      "text/plain": [
       "tensor(-6., grad_fn=<MulBackward0>)"
      ]
     },
     "execution_count": 100,
     "metadata": {},
     "output_type": "execute_result"
    }
   ],
   "source": [
    "-2*b"
   ]
  },
  {
   "cell_type": "code",
   "execution_count": 101,
   "id": "856b4d90",
   "metadata": {},
   "outputs": [
    {
     "data": {
      "text/plain": [
       "tensor(3., requires_grad=True)"
      ]
     },
     "execution_count": 101,
     "metadata": {},
     "output_type": "execute_result"
    }
   ],
   "source": [
    "b"
   ]
  },
  {
   "cell_type": "code",
   "execution_count": 102,
   "id": "59a39f1c",
   "metadata": {},
   "outputs": [
    {
     "data": {
      "text/plain": [
       "tensor(1.)"
      ]
     },
     "execution_count": 102,
     "metadata": {},
     "output_type": "execute_result"
    }
   ],
   "source": [
    "b.grad"
   ]
  },
  {
   "cell_type": "code",
   "execution_count": 103,
   "id": "da656796",
   "metadata": {},
   "outputs": [
    {
     "name": "stdout",
     "output_type": "stream",
     "text": [
      "False\n",
      "tensor(False)\n",
      "tensor([[0.4807, 0.4348, 1.4430, 0.9860, 0.2607],\n",
      "        [0.8059, 1.0194, 1.6493, 1.0646, 1.3966],\n",
      "        [0.4478, 0.4584, 1.8586, 1.4723, 1.6420],\n",
      "        [0.8566, 1.3113, 1.1419, 1.4142, 0.9920],\n",
      "        [0.6435, 0.1924, 1.6784, 1.2719, 0.6294]]) tensor(3., requires_grad=True)\n"
     ]
    },
    {
     "data": {
      "text/plain": [
       "(None, tensor(1.))"
      ]
     },
     "execution_count": 103,
     "metadata": {},
     "output_type": "execute_result"
    }
   ],
   "source": [
    "print(9*a**2 == a.grad)\n",
    "print(-2*b == b.grad)\n",
    "print(a, b)\n",
    "a.grad, b.grad"
   ]
  },
  {
   "cell_type": "markdown",
   "id": "ff2eb70b",
   "metadata": {},
   "source": [
    "# Optional Reading - Vector Calculus using ``autograd``\n",
    "\n",
    "Mathematically, if you have a vector valued function\n",
    "$\\vec{y}=f(\\vec{x})$, then the gradient of $\\vec{y}$ with\n",
    "respect to $\\vec{x}$ is a Jacobian matrix $J$:\n",
    "\n",
    "\\begin{align}J\n",
    "     =\n",
    "      \\left(\\begin{array}{cc}\n",
    "      \\frac{\\partial \\bf{y}}{\\partial x_{1}} &\n",
    "      ... &\n",
    "      \\frac{\\partial \\bf{y}}{\\partial x_{n}}\n",
    "      \\end{array}\\right)\n",
    "     =\n",
    "     \\left(\\begin{array}{ccc}\n",
    "      \\frac{\\partial y_{1}}{\\partial x_{1}} & \\cdots & \\frac{\\partial y_{1}}{\\partial x_{n}}\\\\\n",
    "      \\vdots & \\ddots & \\vdots\\\\\n",
    "      \\frac{\\partial y_{m}}{\\partial x_{1}} & \\cdots & \\frac{\\partial y_{m}}{\\partial x_{n}}\n",
    "      \\end{array}\\right)\\end{align}\n",
    "\n",
    "Generally speaking, ``torch.autograd`` is an engine for computing\n",
    "vector-Jacobian product. That is, given any vector $\\vec{v}$, compute the product\n",
    "$J^{T}\\cdot \\vec{v}$"
   ]
  },
  {
   "cell_type": "code",
   "execution_count": 104,
   "id": "5189ccc6",
   "metadata": {},
   "outputs": [
    {
     "name": "stdout",
     "output_type": "stream",
     "text": [
      "Linear(in_features=3, out_features=2, bias=True)\n",
      "w:  Parameter containing:\n",
      "tensor([[-0.5297,  0.5638, -0.1440],\n",
      "        [ 0.0288,  0.1565,  0.3924]], requires_grad=True)\n",
      "b:  Parameter containing:\n",
      "tensor([0.4928, 0.4682], requires_grad=True)\n",
      "loss:  1.1405668258666992\n",
      "dL/dw:  tensor([[-0.2877,  0.4478, -0.4181],\n",
      "        [-0.4060,  0.0796,  0.1448]])\n",
      "dL/db:  tensor([0.2277, 0.4980])\n",
      "loss after 1 step optimization:  1.1311097145080566\n"
     ]
    }
   ],
   "source": [
    "# Contoh pada NN sederhana\n",
    "import torch.nn as nn\n",
    "\n",
    "# Create tensors of shape (10, 3) and (10, 2).\n",
    "x = torch.randn(10, 3)\n",
    "y = torch.randn(10, 2)\n",
    "\n",
    "# Build a fully connected layer.\n",
    "linear = nn.Linear(3, 2)\n",
    "print(linear)\n",
    "print ('w: ', linear.weight)\n",
    "print ('b: ', linear.bias)\n",
    "\n",
    "# Build loss function and optimizer.\n",
    "criterion = nn.MSELoss()\n",
    "optimizer = torch.optim.SGD(linear.parameters(), lr=0.01)\n",
    "\n",
    "# Forward pass.\n",
    "pred = linear(x)\n",
    "\n",
    "# Compute loss.\n",
    "loss = criterion(pred, y)\n",
    "print('loss: ', loss.item())\n",
    "\n",
    "# Backward pass.\n",
    "loss.backward()\n",
    "\n",
    "# Print out the gradients.\n",
    "print ('dL/dw: ', linear.weight.grad) \n",
    "print ('dL/db: ', linear.bias.grad)\n",
    "\n",
    "# 1-step gradient descent.\n",
    "optimizer.step()\n",
    "\n",
    "# You can also perform gradient descent at the low level.\n",
    "# linear.weight.data.sub_(0.01 * linear.weight.grad.data)\n",
    "# linear.bias.data.sub_(0.01 * linear.bias.grad.data)\n",
    "\n",
    "# Print out the loss after 1-step gradient descent.\n",
    "pred = linear(x)\n",
    "loss = criterion(pred, y)\n",
    "print('loss after 1 step optimization: ', loss.item())"
   ]
  },
  {
   "cell_type": "code",
   "execution_count": 105,
   "id": "122f95ea",
   "metadata": {},
   "outputs": [
    {
     "data": {
      "text/plain": [
       "tensor([[ 0.9759,  0.4974],\n",
       "        [ 0.2685,  1.4769],\n",
       "        [-0.0442,  0.5196],\n",
       "        [ 0.7601, -1.0293],\n",
       "        [-1.2504, -0.4667],\n",
       "        [-0.3200,  0.7019],\n",
       "        [ 0.1551,  1.1059],\n",
       "        [ 1.0945,  0.5703],\n",
       "        [ 0.7764, -2.6673],\n",
       "        [ 1.3792, -0.5194]])"
      ]
     },
     "execution_count": 105,
     "metadata": {},
     "output_type": "execute_result"
    }
   ],
   "source": [
    "x = torch.randn(10, 3)\n",
    "y = torch.randn(10, 2)\n",
    "\n",
    "y"
   ]
  },
  {
   "cell_type": "markdown",
   "id": "abef5fcb",
   "metadata": {},
   "source": [
    "# menggunakan OOP"
   ]
  },
  {
   "cell_type": "code",
   "execution_count": 106,
   "id": "84138fa4",
   "metadata": {},
   "outputs": [
    {
     "name": "stdout",
     "output_type": "stream",
     "text": [
      "torch.Size([3, 1]) torch.Size([3, 1])\n",
      "tensor([[1.],\n",
      "        [2.],\n",
      "        [3.]])\n"
     ]
    }
   ],
   "source": [
    "\"\"\"\n",
    "redefine\n",
    "\"\"\"\n",
    "x = Variable(torch.Tensor([[1.0], [2.0], [3.0]]))\n",
    "y = Variable(torch.Tensor([[2.0], [4.0], [6.0]]))\n",
    "print(x.shape, y.shape)\n",
    "print(x)"
   ]
  },
  {
   "cell_type": "code",
   "execution_count": 107,
   "id": "a1b68247",
   "metadata": {},
   "outputs": [
    {
     "data": {
      "text/plain": [
       "RegresiSederhana(\n",
       "  (linear): Linear(in_features=1, out_features=1, bias=True)\n",
       ")"
      ]
     },
     "execution_count": 107,
     "metadata": {},
     "output_type": "execute_result"
    }
   ],
   "source": [
    "\"\"\"\n",
    "[2]. Definisikan Objek Model Deep Learning-nya\n",
    "Kembali ke module Module ADSP-04 dan ADSP-05 jika anda tidak mengerti cell ini\n",
    "https://taudata.blogspot.com/2020/04/adsp-04.html\n",
    "\"\"\"\n",
    "\n",
    "# Buat Class NN untuk Regresi-nya\n",
    "class RegresiSederhana(torch.nn.Module):\n",
    "    def __init__(self, inputDim, outputDim):\n",
    "        super(RegresiSederhana, self).__init__()\n",
    "        self.linear = torch.nn.Linear(inputDim, outputDim)\n",
    "        \n",
    "    def predict(self, x):\n",
    "        return self.linear(x) # Fungsi Linear (sumasi) biasa, outpunya \"yCap\"\n",
    "    \n",
    "# Buat Object NN/DL dari Class-nya\n",
    "inputDim, outputDim = 1, 1 # Sebuah variable 'x' dan 'y'\n",
    "model = RegresiSederhana(inputDim, outputDim) # ketika ini dijalankan Graphnya dibuat & parameter di initialisasi scr random \n",
    "model"
   ]
  },
  {
   "cell_type": "code",
   "execution_count": 108,
   "id": "c94c053e",
   "metadata": {},
   "outputs": [],
   "source": [
    "\"\"\"\n",
    "[3]. Tetapkan \"Loss Function\" dan \"Optimizer\"-nya\n",
    "Silahkan kembali ke Module MFDS-NM-09 jika cell ini membingungan\n",
    "https://taudata.blogspot.com/2020/04/mfdsnm-09.html\n",
    "\"\"\"\n",
    "learningRate = 0.01\n",
    "criterion = torch.nn.MSELoss(size_average = False) \n",
    "optimizer = torch.optim.SGD(model.parameters(), lr=learningRate)"
   ]
  },
  {
   "cell_type": "markdown",
   "id": "c7188509",
   "metadata": {},
   "source": [
    "# \"Epoch\": bahasa gaul Data Scientist untuk kata \"iterasi\"\n",
    "\n",
    "### Tujuannya: bikin bingung bin snewen para *data scientist wannabe*"
   ]
  },
  {
   "cell_type": "code",
   "execution_count": 109,
   "id": "3d0ad8fb",
   "metadata": {
    "scrolled": true
   },
   "outputs": [
    {
     "name": "stdout",
     "output_type": "stream",
     "text": [
      "epoch 0, loss 102.0949478149414\n",
      "epoch 1, loss 45.68150329589844\n",
      "epoch 2, loss 20.564517974853516\n",
      "epoch 3, loss 9.379867553710938\n",
      "epoch 4, loss 4.3975419998168945\n",
      "epoch 5, loss 2.1763627529144287\n",
      "epoch 6, loss 1.1844143867492676\n",
      "epoch 7, loss 0.739729642868042\n",
      "epoch 8, loss 0.5387142896652222\n",
      "epoch 9, loss 0.44621914625167847\n"
     ]
    }
   ],
   "source": [
    "epoch = 10 # Sedikit saja, hanya sebagai ilustrasi saja\n",
    "\n",
    "for iterasi in range(epoch): # kalau baris ini membingungkan silahkan kembali ke Module ADSP-01\n",
    "    # get output from the model, given the inputs\n",
    "    yCap = model.predict(x) # Baris ini hanya seperti menghitung nilai fungsi x pada suatu fungsi f a.k.a. f(x)\n",
    "    loss = criterion(yCap, y) # Hitung nilai loss di setiap iterasinya\n",
    "    print('epoch {}, loss {}'.format(iterasi, loss.item())) # Yes, kita bisa begini di PyTorch ... silahkan coba di TF ... :-P\n",
    "    optimizer.zero_grad() # membersihkan nilai gradient di buffer agar di setiap iterasi hitung yang baru. \n",
    "    # Agar tidak terbawa masa lalu a.k.a ndak bisa move-on ... :D #JombloNgenes\n",
    "    loss.backward() # ini menghitung Gradient, tapi perhatikan... \n",
    "    # loss.backward BUKAN model.backward ==> renungkan perlahan sambil ngopi di malam Jum'at kliwon!\n",
    "    optimizer.step() # Update parameter ada disini nih\n",
    "    # Pada baris ini NN/DL kita \"belajar\" dari kesalahan yang ada di loss"
   ]
  },
  {
   "cell_type": "markdown",
   "id": "9ed24655",
   "metadata": {},
   "source": [
    "# <center><font color=\"blue\">Physics-informed neural networks - A deep learning framework for solving forward and inverse problems</font></center>\n",
    "\n",
    "> Original Paper: Raissi, M., Perdikaris, P., & Karniadakis, G. E. (2019). Physics-informed neural networks: A deep learning framework for solving forward and inverse problems involving nonlinear partial differential equations. Journal of Computational physics, 378, 686-707.\n",
    "\n",
    "> Book Explanation: > Kollmannsberger, S., D’Angella, D., Jokeit, M., & Herrmann, L. (2021). Deep Learning in Computational Mechanics. Springer International Publishing.\n",
    "\n",
    "<center><img alt=\"\" src=\"images/MLDE/PINN.png\"/></center>"
   ]
  },
  {
   "cell_type": "markdown",
   "id": "3eb4eb54",
   "metadata": {},
   "source": [
    "<center><h1><strong><font color=\"blue\">PINN Main Mind Map</font></strong></h1></center>\n",
    "\n",
    "[![Open In Colab](images/MLDE/PINN-MindMap.png)](#)\n",
    "\n",
    "* S. Kollmannsberger, D. D'Angella, M. Jokeit, L. Herrmann, et al. Deep Learning in Computational Mechanics. Springer, 2021"
   ]
  },
  {
   "cell_type": "markdown",
   "id": "2ed663b9",
   "metadata": {},
   "source": [
    "# <center><font color=\"blue\">Physics-informed neural networks - A deep learning framework for solving forward and inverse problems</font></center>\n",
    "\n",
    "- Pioneer model PINN\n",
    "- Menggunakan Tensorflow 1.0 (GitHub tersedia), versi terbatas TF 2 tersedia oleh author lain.\n",
    "- Penjelasan terbatas (karena jurnal), tapi cukup jelas.\n",
    "- Forward dan Inverse Problems\n",
    "- PD Forward (Continuous & Discrete): \n",
    "    - Schrodinger equation (Real & Complex Continuous Solution) \n",
    "    - Allen–Cahn equation (Discrete Forward)\n",
    "    \n",
    "- PD Backward (Continuous & Discrete):\n",
    "    - \n",
    "\n",
    "<center><img alt=\"\" src=\"images/MLDE/\"/></center>"
   ]
  },
  {
   "cell_type": "markdown",
   "id": "4c4a4ceb",
   "metadata": {},
   "source": [
    "# PINN Main use case\n",
    "\n",
    "* Training data from experiment is scarce and noisy\n",
    "* Neural Network try to predict based on this small samples.\n",
    "* The NN is enriched with physical laws governing the problem at hand via the lost function."
   ]
  },
  {
   "cell_type": "markdown",
   "id": "b5c8a1b0",
   "metadata": {},
   "source": [
    "% Mulai dari PD Continuous di Buku \n",
    "### General Form Parameterized Non-Linear PDE\n",
    "\n",
    "$$ \\frac{\\partial u}{\\partial t} + N[\\mu;\\lambda]=0, x\\in \\omega, t \\in T$$\n",
    "\n",
    "* the unknown solution $u(x,t)$ depends on time $t\\in[0,T]$ and spatial variable $x\\in\\omega$, where $\\omega\\in\\Re^D$. \n",
    "* $N[\\mu;\\lambda]$ represents Non-Linear Differential Operator with Coefficient $\\lambda$. \n"
   ]
  },
  {
   "cell_type": "markdown",
   "id": "b8ded6f0",
   "metadata": {},
   "source": [
    "### Cabang Permasalahan:\n",
    "\n",
    "1. Data-Driven Inference (Solution) of PDE\n",
    " - Known as **Forward Problem**\n",
    " - $\\lambda$ known \n",
    " - $u(t,x)$ calculated using IVP & BVP.\n",
    "\n",
    "2. Data-Driven Identification of PDE***\n",
    " - Also called **inverse problem**\n",
    " - identify $\\lambda$"
   ]
  },
  {
   "cell_type": "markdown",
   "id": "f68f3a27",
   "metadata": {},
   "source": [
    "### Cost/Loss Function (Objective)\n",
    "\n",
    "* $C=MSE_u + MSE_f$\n",
    "* $MSE_u$ menghitung pendekatan $u(t,x)$ seperti biasa, data dari IVP & BVP termasuk disini. Untuk kasus \"Inverse Problem\" data dari titik lain di domain juga tersedia (misal dari metode Spectral, etc).\n",
    "* Bisa pakai **Weak** (default) atau **Strong Enforcement** di IVP dan BVP (ref Buku DLCM).\n",
    "* $MSE_f$ mirip regularisasi, tapi instead menekan weight, ia enforce PDE di titik lain dalam domain.\n",
    "* Catatan: jatuhnya interpolasi."
   ]
  },
  {
   "cell_type": "markdown",
   "id": "9563ab4f",
   "metadata": {},
   "source": [
    "### The loss Function:\n",
    "\n",
    "\\begin{align}\n",
    "C &= MSE_b + MSE_f,\\\\\n",
    "  &= \\frac{1}{N_b}\\sum^{N_b}_{i=1}{(u_{NN}(x_b^i)-u_b^i)^2} + \\frac{1}{N_f}\\sum_{i=1}^{N_f}{(f_{NN}(x_f^i))^2}\n",
    "\\end{align}\n",
    "\n",
    "* $N_b$ is solution at the boundary\n",
    "* Labelled data points $\\{ x_b^i, u_b^i \\}_{i=1}^{N_b}$\n",
    "* $MSE_b$ (Dirichlet BC) comparing NN approximation $u_{NN}$ with $u_b$ from training data. ==> ini HANYA DATA di BC (di contoh pertama berarti hanya 2 titik)\n",
    "* $MSE_u=MSE_b$ karena pada contoh ini hanya data di boundary yang diketahui.\n",
    "* Contoh dimana Neumann BC digunakan akan dilakukan pada contoh ke-02.\n",
    "* $N_f$ collocation points $\\{ x_f^i \\}_{i=1}^{N_f}$ are **uniformly distributed** on the spatial domain.\n",
    "* $f := \\frac{d}{dx}(EA\\frac{du}{dx})+p$ ... catt mengikuti bentuk umumnya dan dalam contoh ini $EA=1$ dan $p(x) = 4\\pi^2 sin(2\\pi x)$."
   ]
  },
  {
   "cell_type": "markdown",
   "id": "a7646ca2",
   "metadata": {},
   "source": [
    "# Algoritma \n",
    "\n",
    "[![Open In Colab](images/MLDE/Algoritma-Static-PINN-01.png)](#)"
   ]
  },
  {
   "cell_type": "markdown",
   "id": "0de3ecf5",
   "metadata": {},
   "source": [
    "<center><h1><strong><font color=\"blue\">Contoh 01: Static Model</font></strong></h1></center>\n",
    "<center><h2><strong><font color=\"red\">One-Dimensional Linear Elastic Bar</font></strong></h2></center>\n",
    "\n",
    "\\begin{align}\n",
    "\\frac{d}{dx}(EA\\frac{du}{dx})+p &= 0  &\\text{ on } \\Omega,\\\\\n",
    "EA\\frac{du}{dx} &= F \\ \\  &\\text{ on } \\Gamma_N,\\\\\n",
    "u &= g \\ \\ &\\text{ on } \\Gamma_D.\n",
    "\\end{align}\n",
    "\n",
    "* $\\Gamma_N$ & $\\Gamma_D$ : Neumann & Dirichlet Boundary,\n",
    "* $F$: Concentrated load on $\\Gamma_N$,\n",
    "* $g$: displacement on $\\Gamma_D$,\n",
    "* $E(x)$: Young's modulus,\n",
    "* $A(x)$: Cross-sectional area.\n",
    "* Assume at equilibrium point ($\\frac{\\partial u}{\\partial t}=0$), hence only applies to spatial domain $\\Omega \\in \\Re$."
   ]
  },
  {
   "cell_type": "markdown",
   "id": "2b623310",
   "metadata": {},
   "source": [
    "### 1. 1D Elastic Bar\n",
    "<center><img alt=\"\" src=\"images/MLDE/1d_wave_equation_animation.gif\" style=\"width: 400px;\"/></center>"
   ]
  },
  {
   "cell_type": "markdown",
   "id": "0f0b00e8",
   "metadata": {},
   "source": [
    "### PINN-Forward Conceptual Arcitecture\n",
    "\n",
    "[![PINN Architecture](images/MLDE/PINN-Forward-Arcitecture.png)](#)\n",
    "\n",
    "* Basically using the training data (black dots-collocation points) Forward-PINN try to predict the test data (white dots). \n",
    "* The difference with normal Feed Forward NN just in its Loss Function (right part)."
   ]
  },
  {
   "cell_type": "markdown",
   "id": "ef41f2e6",
   "metadata": {},
   "source": [
    "### A simple case study\n",
    "\n",
    "\\begin{align}\n",
    "\\frac{d}{dx}(\\frac{du}{dx}) + p &= 0  &\\text{ on } [0,1],\\\\\n",
    "\\frac{du}{dx} &= F \\ \\  &\\text{ on } \\emptyset,\\\\\n",
    "u &= g \\ \\ &\\text{ on } \\{ x|x=0, x=1 \\}.\n",
    "\\end{align}\n",
    "\n",
    "* Let $\\Omega=[0,1]$ and $\\Gamma_D=\\{ x|x=0, x=1 \\}$ and $\\Gamma_N=\\emptyset$ \n",
    "* $EA = 1 $\n",
    "* Contoh *solusi displacement*: $u(x) = sin(2\\pi x)$\n",
    "* Setelah subtitusi ke PD di dapat *distributed load* $p(x) = 4\\pi^2 sin(2\\pi x)$\n",
    "* BV: $u(0)=u(1)=0$"
   ]
  },
  {
   "cell_type": "markdown",
   "id": "e18c634b",
   "metadata": {},
   "source": [
    "# Fungsi-Fungsi"
   ]
  },
  {
   "cell_type": "code",
   "execution_count": 48,
   "id": "71a8017c",
   "metadata": {},
   "outputs": [],
   "source": [
    "import warnings; warnings.simplefilter('ignore')\n",
    "import torch, matplotlib.pyplot as plt#, time, scipy.io\n",
    "import numpy as np #, seaborn as sns, pandas as pd\n",
    "from numpy import linalg as LA\n",
    "from torch.autograd import grad\n",
    "\n",
    "def plot_displacements_bar_1DElasticBar(x, u, u_analytic=None, extrapolate_=False):\n",
    "    fig, ax = plt.subplots(figsize=(4,3))\n",
    "    ax.set_title(\"Displacements\")\n",
    "    ax.set_xlabel(\"$x$\");  ax.set_ylabel(\"$u(x)$\")\n",
    "    # Plot data\n",
    "    xx = x.detach().cpu().numpy()\n",
    "    uCap = u.detach().cpu().numpy()\n",
    "    Y = u_analytic(xx)\n",
    "    ax.plot(xx, uCap, color='k', linestyle=':', linewidth=2, label=\"$u_{\\mathrm{pred}}$\")\n",
    "    ax.plot(xx, Y, color='r', linewidth=2, label=\"$u_{\\mathrm{analytic}}$\")\n",
    "    ax.legend();    plt.show();    fig.tight_layout()\n",
    "\n",
    "def get_derivative_1DElasticBar(y, x, n, dtype=torch.float, device='cpu'):\n",
    "    \"\"\"Compute the nth order derivative of y = f(x) with respect to x.\"\"\"\n",
    "    if n == 0:\n",
    "        return y\n",
    "    else:\n",
    "        dy_dx = grad(y, x, torch.ones(x.size()[0], 1, dtype=dtype, device=device), create_graph=True, retain_graph=True)[0]\n",
    "        return get_derivative_1DElasticBar(dy_dx, x, n - 1, dtype=dtype, device=device)\n",
    "\n",
    "def generate_grid_1d_1DElasticBar(length, samples=20, initial_coordinate=0.0, dtype=torch.float, device='cpu', extrapolate_=False):\n",
    "    \"\"\"Generate an evenly space grid of a given length and a given number of samples.\"\"\"\n",
    "    # Generate the grid u0 = torch.tensor([0,0], dtype=dtype, device=device)\n",
    "    x = torch.linspace(initial_coordinate, initial_coordinate + length, samples, requires_grad=True, dtype=dtype, device=device)\n",
    "    return x.view(samples, 1) # Reshape on a column tensor and return\n",
    "\n",
    "def build_model_1DElasticBar(layout):\n",
    "    \"\"\"Build a neural network of given dimensions.\"\"\"\n",
    "    input_dimension, hidden_dimension, output_dimension = layout\n",
    "    modules=[]\n",
    "    modules.append(torch.nn.Linear(input_dimension, hidden_dimension[0]))\n",
    "    modules.append(torch.nn.Tanh())\n",
    "    for i in range(len(hidden_dimension)-1):\n",
    "        modules.append(torch.nn.Linear(hidden_dimension[i], hidden_dimension[i+1]))\n",
    "        modules.append(torch.nn.Tanh())\n",
    "    modules.append(torch.nn.Linear(hidden_dimension[-1], output_dimension))\n",
    "    model = torch.nn.Sequential(*modules).to(device) # making sure using \"Device\" (e.g. GPU if available)\n",
    "    return model\n",
    "\n",
    "def plot_LossFunction(df, bc_='bcLoss', pde_='pdeLoss', title_='', save_=''):\n",
    "    fig, ax = plt.subplots(1, 2, sharey=True, figsize=(8, 4))\n",
    "    fig.suptitle(title_, fontsize=16)\n",
    "    ax[0].set_title(\"BC Loss history\"); ax[1].set_title(\"PDE Loss history\")\n",
    "    ax[0].set_xlabel(\"Epochs\"); ax[0].set_ylabel(\"Cost function $L_c$\")\n",
    "    ax[0].plot(df[bc_], color='k', linestyle='--', linewidth=2, label=\"BC loss\")\n",
    "    ax[1].set_xlabel(\"Epochs\"); ax[1].set_ylabel(\"Cost function $L_f$\")\n",
    "    ax[1].plot(df[pde_], color='b', linestyle='--', linewidth=2, label=\"Differential Equation loss\")\n",
    "    ax[1].legend(); ax[0].legend()\n",
    "    plt.yscale('log'); fig.tight_layout(); plt.show()\n",
    "    if save_:\n",
    "        plt.savefig(save_, bbox_inches='tight')\n",
    "    return True\n",
    "\n",
    "class PINN_1DElasticBar:\n",
    "    \"\"\"A class used for the definition of Physics Informed Models for one dimensional bars.\"\"\"\n",
    "    def __init__(self, u0, x_train, deflate_=None, layout=None):\n",
    "        # 1DElasticBar Setup\n",
    "        E = lambda x: 1\n",
    "        A = lambda x: 1\n",
    "        L = 1.0\n",
    "        distLoad = lambda x: 4 * np.pi**2 * E(x) * A(x) / L**2 * torch.sin(2 * np.pi * x / L)\n",
    "        self.E = E; self.A = A; self.L = L # 1DElasticBar Setup\n",
    "        self.u0 = u0\n",
    "        self.x = x_train\n",
    "        self.dist_load = distLoad\n",
    "        self.model = build_model_1DElasticBar(layout)\n",
    "\n",
    "    def get_displacements(self, x):\n",
    "        return self.model(x)   # predict, Get displacements.\n",
    "\n",
    "    def costFunction(self, x, u_pred, bcType='mse'):\n",
    "        \"\"\"Compute the cost function.\"\"\"\n",
    "        # Differential equation loss\n",
    "        du_dx = get_derivative_1DElasticBar(u_pred, x, 1, dtype=dtype, device=device)\n",
    "        pde_loss = get_derivative_1DElasticBar( self.E(x) * self.A(x) * du_dx, x,\n",
    "                                                    1, dtype=dtype, device=device) + self.dist_load(x)\n",
    "        pde_loss = torch.sum(pde_loss ** 2).view(1)\n",
    "        bc_loss = 0.0 # Boundary condition loss initialization\n",
    "        # Sum over dirichlet boundary condition losses\n",
    "        bc_loss += (u_pred[0] - self.u0[0]) ** 2\n",
    "        bc_loss += (u_pred[-1] - self.u0[1]) ** 2\n",
    "        return pde_loss, bc_loss\n",
    "\n",
    "    def closure(self):\n",
    "        \"\"\"Calculation of training error and gradient\"\"\"\n",
    "        self.optimizer.zero_grad()\n",
    "        u_pred = self.get_displacements(self.x)\n",
    "        loss = self.costFunction(self.x, u_pred)\n",
    "        loss = loss[0] + loss[1]\n",
    "        loss.backward(retain_graph=True) # https://stackoverflow.com/a/47174709/2844866\n",
    "        return loss\n",
    "\n",
    "    def train(self, epochs, optimizer='Adam', verbose=1, tol_=1e-4, weight_pde=1.0, weight_bc=1.0, **kwargs):\n",
    "        \"\"\"Train the model.\"\"\"\n",
    "        # Set optimizer\n",
    "        if optimizer=='Adam':\n",
    "            self.optimizer = torch.optim.Adam(self.model.parameters(), **kwargs)\n",
    "        elif optimizer=='LBFGS':\n",
    "            self.optimizer = torch.optim.LBFGS(self.model.parameters(), **kwargs)\n",
    "\n",
    "        # Initialize history arrays\n",
    "        self.differential_equation_loss_history = np.zeros(epochs)\n",
    "        self.boundary_condition_loss_history = np.zeros(epochs)\n",
    "        self.total_loss_history = np.zeros(epochs)\n",
    "\n",
    "        for i in range(epochs): # Training loop\n",
    "            u_pred = self.get_displacements(self.x) # Predict displacements\n",
    "            pde_loss, bc_loss = self.costFunction(self.x, u_pred) # Cost function calculation\n",
    "            total_loss = weight_pde*pde_loss + weight_bc*bc_loss # Total loss\n",
    "            # Add energy values to history\n",
    "            self.differential_equation_loss_history[i] += pde_loss\n",
    "            self.boundary_condition_loss_history[i] += bc_loss\n",
    "            self.total_loss_history[i] += float(total_loss) # Free-Up some GPU memory\n",
    "\n",
    "            if verbose==1:\n",
    "                self.print_training_state(i, epochs) # Print training state\n",
    "\n",
    "            if torch.isnan(total_loss):\n",
    "                print(\"NN did not converge :(  ... \"); break\n",
    "\n",
    "            self.optimizer.step(self.closure) # Update parameters\n",
    "\n",
    "            if total_loss<=tol_:# and verbose==1:\n",
    "                print(\"Converged at iteration {}\".format(i))\n",
    "                return self;  break\n",
    "        return self\n",
    "\n",
    "    def print_training_state(self, epoch, epochs, print_every=5000): # Print the loss values of the current epoch in a training loop.\n",
    "        if epoch == 0 or epoch == (epochs - 1) or epoch % print_every == 0 or print_every == 'all':\n",
    "            string = \"Epoch: {}/{}\\t\\tPDE loss = {:2f}\\t\\tBC loss = {:2f}\\t\\tTotal loss = {:2f}\" # Prepare string\n",
    "            print(string.format(epoch, epochs - 1, self.differential_equation_loss_history[epoch],\n",
    "                                self.boundary_condition_loss_history[epoch], self.total_loss_history[epoch]))# Format string and print"
   ]
  },
  {
   "cell_type": "code",
   "execution_count": 110,
   "id": "04561422",
   "metadata": {
    "ExecuteTime": {
     "end_time": "2022-09-20T00:22:14.605479Z",
     "start_time": "2022-09-20T00:22:14.591482Z"
    },
    "hide_input": true
   },
   "outputs": [
    {
     "name": "stdout",
     "output_type": "stream",
     "text": [
      "Importing modules and checking on hardware .. \n",
      "Using Numpy, Pytorch versions = 1.21.6,  1.12.1+cpu\n"
     ]
    }
   ],
   "source": [
    "print(\"Importing modules and checking on hardware .. \")\n",
    "import warnings; warnings.simplefilter('ignore')\n",
    "import torch, pandas as pd\n",
    "\n",
    "# Set seed for the Random Number Generator (RNG)\n",
    "np.random.seed(0); torch.manual_seed(0)\n",
    "dtype = torch.float\n",
    "\n",
    "print(\"Using Numpy, Pytorch versions = {},  {}\".format(np.__version__, torch.__version__))\n",
    "device = torch.device('cuda' if torch.cuda.is_available() else 'cpu') # Select gpu if available"
   ]
  },
  {
   "cell_type": "code",
   "execution_count": 111,
   "id": "5ef2fbdd",
   "metadata": {
    "ExecuteTime": {
     "end_time": "2022-09-20T00:22:15.471502Z",
     "start_time": "2022-09-20T00:22:14.606483Z"
    }
   },
   "outputs": [
    {
     "data": {
      "text/plain": [
       "(torch.Size([20, 1]), 'torch.FloatTensor')"
      ]
     },
     "execution_count": 111,
     "metadata": {},
     "output_type": "execute_result"
    }
   ],
   "source": [
    "# Problem data\n",
    "u0 = torch.tensor([0, 0], dtype=dtype, device=device) # Dirichlet boundary conditions (BC) for both edges\n",
    "layout = (1,[20],1) # 1 layer 20 Neuron (default from the reference)\n",
    "nTraining, nTesting = 20, 100 # Number of internal training & Testing data\n",
    "\n",
    "# 1DElasticBar Analytic solution\n",
    "L = 1.0\n",
    "u_analytic = lambda x: np.sin(2 * np.pi * x / L) # L = 1.00\n",
    "# Training Data\n",
    "x_train = generate_grid_1d_1DElasticBar(L, samples=nTraining, dtype=dtype, device=device) #training Data\n",
    "x_train.shape, x_train.type()"
   ]
  },
  {
   "cell_type": "code",
   "execution_count": 55,
   "id": "032a9ff5",
   "metadata": {
    "ExecuteTime": {
     "end_time": "2022-09-20T00:26:49.892360Z",
     "start_time": "2022-09-20T00:22:15.472503Z"
    },
    "hide_input": false
   },
   "outputs": [
    {
     "data": {
      "text/plain": [
       "'Done'"
      ]
     },
     "execution_count": 55,
     "metadata": {},
     "output_type": "execute_result"
    }
   ],
   "source": [
    "# Train model\n",
    "epochs, tol_ = 3*10**4, 1e-4\n",
    "learningRate, opt_ = 0.008, 'Adam'\n",
    "\n",
    "pinnModel = PINN_1DElasticBar(u0, x_train, layout=layout)\n",
    "pinnModel.train(epochs, optimizer=opt_, lr=learningRate, tol_=tol_, verbose=0)\n",
    "df = pd.DataFrame()\n",
    "df['pdeLoss'] = pinnModel.differential_equation_loss_history\n",
    "df['bcLoss'] = pinnModel.boundary_condition_loss_history\n",
    "\n",
    "\"Done\""
   ]
  },
  {
   "cell_type": "code",
   "execution_count": 56,
   "id": "4d2b05ac",
   "metadata": {},
   "outputs": [
    {
     "data": {
      "text/html": [
       "<div>\n",
       "<style scoped>\n",
       "    .dataframe tbody tr th:only-of-type {\n",
       "        vertical-align: middle;\n",
       "    }\n",
       "\n",
       "    .dataframe tbody tr th {\n",
       "        vertical-align: top;\n",
       "    }\n",
       "\n",
       "    .dataframe thead th {\n",
       "        text-align: right;\n",
       "    }\n",
       "</style>\n",
       "<table border=\"1\" class=\"dataframe\">\n",
       "  <thead>\n",
       "    <tr style=\"text-align: right;\">\n",
       "      <th></th>\n",
       "      <th>pdeLoss</th>\n",
       "      <th>bcLoss</th>\n",
       "    </tr>\n",
       "  </thead>\n",
       "  <tbody>\n",
       "    <tr>\n",
       "      <th>0</th>\n",
       "      <td>14881.966797</td>\n",
       "      <td>0.067428</td>\n",
       "    </tr>\n",
       "    <tr>\n",
       "      <th>1</th>\n",
       "      <td>14872.282227</td>\n",
       "      <td>0.031208</td>\n",
       "    </tr>\n",
       "    <tr>\n",
       "      <th>2</th>\n",
       "      <td>14863.213867</td>\n",
       "      <td>0.010421</td>\n",
       "    </tr>\n",
       "    <tr>\n",
       "      <th>3</th>\n",
       "      <td>14854.738281</td>\n",
       "      <td>0.004331</td>\n",
       "    </tr>\n",
       "    <tr>\n",
       "      <th>4</th>\n",
       "      <td>14846.833984</td>\n",
       "      <td>0.009804</td>\n",
       "    </tr>\n",
       "  </tbody>\n",
       "</table>\n",
       "</div>"
      ],
      "text/plain": [
       "        pdeLoss    bcLoss\n",
       "0  14881.966797  0.067428\n",
       "1  14872.282227  0.031208\n",
       "2  14863.213867  0.010421\n",
       "3  14854.738281  0.004331\n",
       "4  14846.833984  0.009804"
      ]
     },
     "execution_count": 56,
     "metadata": {},
     "output_type": "execute_result"
    }
   ],
   "source": [
    "df.head()"
   ]
  },
  {
   "cell_type": "code",
   "execution_count": 57,
   "id": "c5061f4e",
   "metadata": {
    "ExecuteTime": {
     "end_time": "2022-09-20T00:26:50.426881Z",
     "start_time": "2022-09-20T00:26:49.895364Z"
    },
    "hide_input": false
   },
   "outputs": [
    {
     "data": {
      "image/png": "[encoded data removed]",
      "text/plain": [
       "<Figure size 800x400 with 2 Axes>"
      ]
     },
     "metadata": {},
     "output_type": "display_data"
    },
    {
     "data": {
      "text/plain": [
       "True"
      ]
     },
     "execution_count": 57,
     "metadata": {},
     "output_type": "execute_result"
    }
   ],
   "source": [
    "plot_LossFunction(df, bc_='bcLoss', pde_='pdeLoss', title_=\"1D Elastic bar Equation Loss Value History\")"
   ]
  },
  {
   "cell_type": "code",
   "execution_count": 58,
   "id": "4bd89d9c",
   "metadata": {
    "ExecuteTime": {
     "end_time": "2022-09-20T00:26:50.616883Z",
     "start_time": "2022-09-20T00:26:50.427883Z"
    }
   },
   "outputs": [
    {
     "data": {
      "image/png": "[encoded data removed]",
      "text/plain": [
       "<Figure size 400x300 with 1 Axes>"
      ]
     },
     "metadata": {},
     "output_type": "display_data"
    }
   ],
   "source": [
    "# Test data\n",
    "x_test = generate_grid_1d_1DElasticBar(L, samples=nTesting, dtype=dtype, device=device, extrapolate_=True)\n",
    "u_test = pinnModel.get_displacements(x_test)\n",
    "u_analytic = lambda x, L=1.0: np.sin(2 * np.pi * x / L) # L = 1.00\n",
    "pin.plot_displacements_bar_1DElasticBar(x_test, u_test, u_analytic, extrapolate_=True)"
   ]
  },
  {
   "cell_type": "markdown",
   "id": "68afb445",
   "metadata": {},
   "source": [
    "# Deflated 1D Elastic Bar\n",
    "\n",
    "### The loss Function:\n",
    "\n",
    "\\begin{align}\n",
    "C &= MSE_b + MSE_f,\\\\\n",
    "  &= \\frac{1}{N_b}\\sum^{N_b}_{i=1}{(u_{NN}(x_b^i)-u_b^i)^2} + \\frac{1}{N_f}\\frac{\\sum_{i=1}^{N_f}f_{NN}(x_f^i)^2}{\\sum_{i=1}^{N_f}|u_{NN}(x_f^i) - u_{0}(x_f^i)| d(x_f^i, u_b^i)}\n",
    "\\end{align}\n",
    "\n",
    "where $g(x_f^i, u_b^i)$ is the distance function between collocation points to the closest boundary. $g$ is used to make sure that if another solution is found, it still be able to use the same BC values.\n",
    "\n",
    "$d(x_b^i, u_b^i) = min\\{ |x_f^i - u_b^i| \\}, i = 1, 2, ..., N_b$\n"
   ]
  },
  {
   "cell_type": "markdown",
   "id": "f276e1d3",
   "metadata": {},
   "source": [
    "# <center><font color=\"green\">Dysts - ODE/PDB</font></center>\n",
    "\n",
    "### https://github.com/williamgilpin/dysts\n",
    "\n",
    "> William Gilpin. \"Chaos as an interpretable benchmark for forecasting and data-driven modelling\" Advances in Neural Information Processing Systems (NeurIPS) 2021 https://arxiv.org/abs/2110.05266\n",
    "\n",
    "<center><img alt=\"\" src=\"images/pdb-pdp/dysts_clusters.png\"/></center> "
   ]
  },
  {
   "cell_type": "code",
   "execution_count": 59,
   "id": "9f693147",
   "metadata": {},
   "outputs": [
    {
     "name": "stdout",
     "output_type": "stream",
     "text": [
      "Running the code locally, please make sure all the python module versions agree with colab environment and all data/assets downloaded\n"
     ]
    }
   ],
   "source": [
    "import warnings; warnings.simplefilter('ignore')\n",
    "\n",
    "try:\n",
    "    import google.colab; IN_COLAB = True\n",
    "    print(\"Installing the required modules\")\n",
    "    !pip install dysts\n",
    "    !pip install darts\n",
    "except:\n",
    "    IN_COLAB = False\n",
    "    print(\"Running the code locally, please make sure all the python module versions agree with colab environment and all data/assets downloaded\")"
   ]
  },
  {
   "cell_type": "code",
   "execution_count": 60,
   "id": "80f4ee34",
   "metadata": {
    "ExecuteTime": {
     "end_time": "2022-09-20T00:26:50.852905Z",
     "start_time": "2022-09-20T00:26:50.698880Z"
    }
   },
   "outputs": [
    {
     "name": "stdout",
     "output_type": "stream",
     "text": [
      "All Available (131) Datasets:\n",
      "\n",
      "['Aizawa', 'AnishchenkoAstakhov', 'Arneodo', 'ArnoldBeltramiChildress', 'ArnoldWeb', 'BeerRNN', 'BelousovZhabotinsky', 'BickleyJet', 'Blasius', 'BlinkingRotlet', 'BlinkingVortex', 'Bouali', 'Bouali2', 'BurkeShaw', 'CaTwoPlus', 'CaTwoPlusQuasiperiodic', 'CellCycle', 'CellularNeuralNetwork', 'Chen', 'ChenLee', 'Chua', 'CircadianRhythm', 'CoevolvingPredatorPrey', 'Colpitts', 'Coullet', 'Dadras', 'DequanLi', 'DoubleGyre', 'DoublePendulum', 'Duffing', 'ExcitableCell', 'Finance', 'FluidTrampoline', 'ForcedBrusselator', 'ForcedFitzHughNagumo', 'ForcedVanDerPol', 'GenesioTesi', 'GuckenheimerHolmes', 'Hadley', 'Halvorsen', 'HastingsPowell', 'HenonHeiles', 'HindmarshRose', 'Hopfield', 'HyperBao', 'HyperCai', 'HyperJha', 'HyperLorenz', 'HyperLu', 'HyperPang', 'HyperQi', 'HyperRossler', 'HyperWang', 'HyperXu', 'HyperYan', 'HyperYangChen', 'IkedaDelay', 'IsothermalChemical', 'ItikBanksTumor', 'JerkCircuit', 'KawczynskiStrizhak', 'Laser', 'LiuChen', 'Lorenz', 'Lorenz84', 'Lorenz96', 'LorenzBounded', 'LorenzCoupled', 'LorenzStenflo', 'LuChen', 'LuChenCheng', 'MacArthur', 'MackeyGlass', 'MooreSpiegel', 'MultiChua', 'NewtonLiepnik', 'NoseHoover', 'NuclearQuadrupole', 'OscillatingFlow', 'PanXuZhou', 'PehlivanWei', 'PiecewiseCircuit', 'Qi', 'QiChen', 'RabinovichFabrikant', 'RayleighBenard', 'RikitakeDynamo', 'Rossler', 'Rucklidge', 'Sakarya', 'SaltonSea', 'SanUmSrisuchinwong', 'ScrollDelay', 'ShimizuMorioka', 'SprottA', 'SprottB', 'SprottC', 'SprottD', 'SprottDelay', 'SprottE', 'SprottF', 'SprottG', 'SprottH', 'SprottI', 'SprottJ', 'SprottJerk', 'SprottK', 'SprottL', 'SprottM', 'SprottMore', 'SprottN', 'SprottO', 'SprottP', 'SprottQ', 'SprottR', 'SprottS', 'SprottTorus', 'StickSlipOscillator', 'SwingingAtwood', 'Thomas', 'ThomasLabyrinth', 'Torus', 'Tsucs2', 'TurchinHanski', 'VallisElNino', 'VossDelay', 'WangSun', 'WindmiReduced', 'YuWang', 'YuWang2', 'ZhouChen']\n"
     ]
    }
   ],
   "source": [
    "from dysts.datasets import load_dataset\n",
    "\n",
    "Datasets = load_dataset(subsets=\"train\").names.tolist()\n",
    "print(\"All Available ({}) Datasets:\\n\\n{}\".format(len(Datasets), Datasets))"
   ]
  },
  {
   "cell_type": "markdown",
   "id": "41e2467f",
   "metadata": {},
   "source": [
    "## <strong><font color=\"blue\"> ODE 03: Lorenz </font></strong>\n",
    "\n",
    "> Lorenz, E. N. (1963). Deterministic nonperiodic flow. Journal of atmospheric sciences, 20(2), 130-141.\n",
    "\n",
    "Lorenz system:\n",
    "\\begin{align}\n",
    "\\frac{dx}{dt}&=a(y-x),\\\\\n",
    "\\frac{dy}{dt}&=x(b-z)-y,\\\\\n",
    "\\frac{dz}{dt}&=xy-cz.\n",
    "\\end{align}\n",
    "\n",
    "* $a,b,c = 10, 28, 8/3$"
   ]
  },
  {
   "cell_type": "code",
   "execution_count": 11,
   "id": "313a3404",
   "metadata": {
    "ExecuteTime": {
     "end_time": "2022-09-20T00:26:53.243065Z",
     "start_time": "2022-09-20T00:26:50.853907Z"
    }
   },
   "outputs": [
    {
     "data": {
      "text/html": [
       "<div>\n",
       "<style scoped>\n",
       "    .dataframe tbody tr th:only-of-type {\n",
       "        vertical-align: middle;\n",
       "    }\n",
       "\n",
       "    .dataframe tbody tr th {\n",
       "        vertical-align: top;\n",
       "    }\n",
       "\n",
       "    .dataframe thead th {\n",
       "        text-align: right;\n",
       "    }\n",
       "</style>\n",
       "<table border=\"1\" class=\"dataframe\">\n",
       "  <thead>\n",
       "    <tr style=\"text-align: right;\">\n",
       "      <th></th>\n",
       "      <th>id</th>\n",
       "      <th>time</th>\n",
       "      <th>values_0</th>\n",
       "      <th>values_1</th>\n",
       "      <th>values_2</th>\n",
       "      <th>values_3</th>\n",
       "      <th>values_4</th>\n",
       "      <th>values_5</th>\n",
       "      <th>values_6</th>\n",
       "      <th>values_7</th>\n",
       "      <th>values_8</th>\n",
       "      <th>values_9</th>\n",
       "    </tr>\n",
       "  </thead>\n",
       "  <tbody>\n",
       "    <tr>\n",
       "      <th>Lorenz</th>\n",
       "      <td>63.0</td>\n",
       "      <td>0.000000</td>\n",
       "      <td>0.687909</td>\n",
       "      <td>0.579656</td>\n",
       "      <td>-0.112561</td>\n",
       "      <td>0.0</td>\n",
       "      <td>0.0</td>\n",
       "      <td>0.0</td>\n",
       "      <td>0.0</td>\n",
       "      <td>0.0</td>\n",
       "      <td>0.0</td>\n",
       "      <td>0.0</td>\n",
       "    </tr>\n",
       "    <tr>\n",
       "      <th>Lorenz</th>\n",
       "      <td>63.0</td>\n",
       "      <td>0.015021</td>\n",
       "      <td>0.681812</td>\n",
       "      <td>0.611982</td>\n",
       "      <td>-0.191794</td>\n",
       "      <td>0.0</td>\n",
       "      <td>0.0</td>\n",
       "      <td>0.0</td>\n",
       "      <td>0.0</td>\n",
       "      <td>0.0</td>\n",
       "      <td>0.0</td>\n",
       "      <td>0.0</td>\n",
       "    </tr>\n",
       "    <tr>\n",
       "      <th>Lorenz</th>\n",
       "      <td>63.0</td>\n",
       "      <td>0.030041</td>\n",
       "      <td>0.681866</td>\n",
       "      <td>0.648275</td>\n",
       "      <td>-0.265675</td>\n",
       "      <td>0.0</td>\n",
       "      <td>0.0</td>\n",
       "      <td>0.0</td>\n",
       "      <td>0.0</td>\n",
       "      <td>0.0</td>\n",
       "      <td>0.0</td>\n",
       "      <td>0.0</td>\n",
       "    </tr>\n",
       "    <tr>\n",
       "      <th>Lorenz</th>\n",
       "      <td>63.0</td>\n",
       "      <td>0.045062</td>\n",
       "      <td>0.687725</td>\n",
       "      <td>0.688560</td>\n",
       "      <td>-0.333966</td>\n",
       "      <td>0.0</td>\n",
       "      <td>0.0</td>\n",
       "      <td>0.0</td>\n",
       "      <td>0.0</td>\n",
       "      <td>0.0</td>\n",
       "      <td>0.0</td>\n",
       "      <td>0.0</td>\n",
       "    </tr>\n",
       "    <tr>\n",
       "      <th>Lorenz</th>\n",
       "      <td>63.0</td>\n",
       "      <td>0.060082</td>\n",
       "      <td>0.699252</td>\n",
       "      <td>0.733040</td>\n",
       "      <td>-0.396074</td>\n",
       "      <td>0.0</td>\n",
       "      <td>0.0</td>\n",
       "      <td>0.0</td>\n",
       "      <td>0.0</td>\n",
       "      <td>0.0</td>\n",
       "      <td>0.0</td>\n",
       "      <td>0.0</td>\n",
       "    </tr>\n",
       "    <tr>\n",
       "      <th>...</th>\n",
       "      <td>...</td>\n",
       "      <td>...</td>\n",
       "      <td>...</td>\n",
       "      <td>...</td>\n",
       "      <td>...</td>\n",
       "      <td>...</td>\n",
       "      <td>...</td>\n",
       "      <td>...</td>\n",
       "      <td>...</td>\n",
       "      <td>...</td>\n",
       "      <td>...</td>\n",
       "      <td>...</td>\n",
       "    </tr>\n",
       "    <tr>\n",
       "      <th>Lorenz</th>\n",
       "      <td>63.0</td>\n",
       "      <td>14.945415</td>\n",
       "      <td>-1.144725</td>\n",
       "      <td>-0.684438</td>\n",
       "      <td>1.028214</td>\n",
       "      <td>0.0</td>\n",
       "      <td>0.0</td>\n",
       "      <td>0.0</td>\n",
       "      <td>0.0</td>\n",
       "      <td>0.0</td>\n",
       "      <td>0.0</td>\n",
       "      <td>0.0</td>\n",
       "    </tr>\n",
       "    <tr>\n",
       "      <th>Lorenz</th>\n",
       "      <td>63.0</td>\n",
       "      <td>14.960435</td>\n",
       "      <td>-1.084616</td>\n",
       "      <td>-0.599736</td>\n",
       "      <td>0.993607</td>\n",
       "      <td>0.0</td>\n",
       "      <td>0.0</td>\n",
       "      <td>0.0</td>\n",
       "      <td>0.0</td>\n",
       "      <td>0.0</td>\n",
       "      <td>0.0</td>\n",
       "      <td>0.0</td>\n",
       "    </tr>\n",
       "    <tr>\n",
       "      <th>Lorenz</th>\n",
       "      <td>63.0</td>\n",
       "      <td>14.975456</td>\n",
       "      <td>-1.020670</td>\n",
       "      <td>-0.525255</td>\n",
       "      <td>0.942567</td>\n",
       "      <td>0.0</td>\n",
       "      <td>0.0</td>\n",
       "      <td>0.0</td>\n",
       "      <td>0.0</td>\n",
       "      <td>0.0</td>\n",
       "      <td>0.0</td>\n",
       "      <td>0.0</td>\n",
       "    </tr>\n",
       "    <tr>\n",
       "      <th>Lorenz</th>\n",
       "      <td>63.0</td>\n",
       "      <td>14.990476</td>\n",
       "      <td>-0.955072</td>\n",
       "      <td>-0.462442</td>\n",
       "      <td>0.878184</td>\n",
       "      <td>0.0</td>\n",
       "      <td>0.0</td>\n",
       "      <td>0.0</td>\n",
       "      <td>0.0</td>\n",
       "      <td>0.0</td>\n",
       "      <td>0.0</td>\n",
       "      <td>0.0</td>\n",
       "    </tr>\n",
       "    <tr>\n",
       "      <th>Lorenz</th>\n",
       "      <td>63.0</td>\n",
       "      <td>15.005497</td>\n",
       "      <td>-0.890041</td>\n",
       "      <td>-0.411992</td>\n",
       "      <td>0.803768</td>\n",
       "      <td>0.0</td>\n",
       "      <td>0.0</td>\n",
       "      <td>0.0</td>\n",
       "      <td>0.0</td>\n",
       "      <td>0.0</td>\n",
       "      <td>0.0</td>\n",
       "      <td>0.0</td>\n",
       "    </tr>\n",
       "  </tbody>\n",
       "</table>\n",
       "<p>1000 rows × 12 columns</p>\n",
       "</div>"
      ],
      "text/plain": [
       "          id       time  values_0  values_1  values_2  values_3  values_4  \\\n",
       "Lorenz  63.0   0.000000  0.687909  0.579656 -0.112561       0.0       0.0   \n",
       "Lorenz  63.0   0.015021  0.681812  0.611982 -0.191794       0.0       0.0   \n",
       "Lorenz  63.0   0.030041  0.681866  0.648275 -0.265675       0.0       0.0   \n",
       "Lorenz  63.0   0.045062  0.687725  0.688560 -0.333966       0.0       0.0   \n",
       "Lorenz  63.0   0.060082  0.699252  0.733040 -0.396074       0.0       0.0   \n",
       "...      ...        ...       ...       ...       ...       ...       ...   \n",
       "Lorenz  63.0  14.945415 -1.144725 -0.684438  1.028214       0.0       0.0   \n",
       "Lorenz  63.0  14.960435 -1.084616 -0.599736  0.993607       0.0       0.0   \n",
       "Lorenz  63.0  14.975456 -1.020670 -0.525255  0.942567       0.0       0.0   \n",
       "Lorenz  63.0  14.990476 -0.955072 -0.462442  0.878184       0.0       0.0   \n",
       "Lorenz  63.0  15.005497 -0.890041 -0.411992  0.803768       0.0       0.0   \n",
       "\n",
       "        values_5  values_6  values_7  values_8  values_9  \n",
       "Lorenz       0.0       0.0       0.0       0.0       0.0  \n",
       "Lorenz       0.0       0.0       0.0       0.0       0.0  \n",
       "Lorenz       0.0       0.0       0.0       0.0       0.0  \n",
       "Lorenz       0.0       0.0       0.0       0.0       0.0  \n",
       "Lorenz       0.0       0.0       0.0       0.0       0.0  \n",
       "...          ...       ...       ...       ...       ...  \n",
       "Lorenz       0.0       0.0       0.0       0.0       0.0  \n",
       "Lorenz       0.0       0.0       0.0       0.0       0.0  \n",
       "Lorenz       0.0       0.0       0.0       0.0       0.0  \n",
       "Lorenz       0.0       0.0       0.0       0.0       0.0  \n",
       "Lorenz       0.0       0.0       0.0       0.0       0.0  \n",
       "\n",
       "[1000 rows x 12 columns]"
      ]
     },
     "execution_count": 11,
     "metadata": {},
     "output_type": "execute_result"
    }
   ],
   "source": [
    "data = 'Lorenz'\n",
    "train_ = load_dataset(subsets=\"train\", data_format=\"pandas\", univariate=False).loc[data]\n",
    "test_ = load_dataset(subsets=\"test\", data_format=\"pandas\", univariate=False).loc[data]\n",
    "val_ = load_dataset(subsets=\"test_val\", data_format=\"pandas\", univariate=False, noise=True).loc[data]\n",
    "\n",
    "train_"
   ]
  },
  {
   "cell_type": "code",
   "execution_count": 12,
   "id": "6e619883",
   "metadata": {
    "ExecuteTime": {
     "end_time": "2022-09-20T00:26:53.368708Z",
     "start_time": "2022-09-20T00:26:53.244068Z"
    }
   },
   "outputs": [
    {
     "data": {
      "image/png": "[encoded data removed]",
      "text/plain": [
       "<Figure size 640x480 with 1 Axes>"
      ]
     },
     "metadata": {},
     "output_type": "display_data"
    }
   ],
   "source": [
    "p = train_[['values_0', 'values_1', 'values_2']].plot()"
   ]
  },
  {
   "cell_type": "markdown",
   "id": "b70a5d3f",
   "metadata": {},
   "source": [
    "# <center><font color=\"blue\">DARTS - Forecasting</font></center>\n",
    "\n",
    "* https://github.com/unit8co/darts\n",
    "\n",
    "<img alt=\"\" src=\"images/MLDE/darts.png\"/>"
   ]
  },
  {
   "cell_type": "markdown",
   "id": "f44d3f77",
   "metadata": {},
   "source": [
    "# <center><font color=\"blue\">DARTS - Models</font></center>\n",
    "\n",
    "* https://github.com/unit8co/darts\n",
    "\n",
    "<img alt=\"\" src=\"images/MLDE/darts_models.png\"/>\n"
   ]
  },
  {
   "cell_type": "code",
   "execution_count": 13,
   "id": "64b972d2",
   "metadata": {
    "ExecuteTime": {
     "end_time": "2022-09-20T00:26:53.383709Z",
     "start_time": "2022-09-20T00:26:53.370709Z"
    }
   },
   "outputs": [
    {
     "name": "stdout",
     "output_type": "stream",
     "text": [
      "(2000, 1)\n"
     ]
    },
    {
     "data": {
      "text/html": [
       "<div>\n",
       "<style scoped>\n",
       "    .dataframe tbody tr th:only-of-type {\n",
       "        vertical-align: middle;\n",
       "    }\n",
       "\n",
       "    .dataframe tbody tr th {\n",
       "        vertical-align: top;\n",
       "    }\n",
       "\n",
       "    .dataframe thead th {\n",
       "        text-align: right;\n",
       "    }\n",
       "</style>\n",
       "<table border=\"1\" class=\"dataframe\">\n",
       "  <thead>\n",
       "    <tr style=\"text-align: right;\">\n",
       "      <th></th>\n",
       "      <th>y</th>\n",
       "    </tr>\n",
       "  </thead>\n",
       "  <tbody>\n",
       "    <tr>\n",
       "      <th>0</th>\n",
       "      <td>0.687909</td>\n",
       "    </tr>\n",
       "    <tr>\n",
       "      <th>1</th>\n",
       "      <td>0.681812</td>\n",
       "    </tr>\n",
       "    <tr>\n",
       "      <th>2</th>\n",
       "      <td>0.681866</td>\n",
       "    </tr>\n",
       "    <tr>\n",
       "      <th>3</th>\n",
       "      <td>0.687725</td>\n",
       "    </tr>\n",
       "    <tr>\n",
       "      <th>4</th>\n",
       "      <td>0.699252</td>\n",
       "    </tr>\n",
       "  </tbody>\n",
       "</table>\n",
       "</div>"
      ],
      "text/plain": [
       "          y\n",
       "0  0.687909\n",
       "1  0.681812\n",
       "2  0.681866\n",
       "3  0.687725\n",
       "4  0.699252"
      ]
     },
     "execution_count": 13,
     "metadata": {},
     "output_type": "execute_result"
    }
   ],
   "source": [
    "df = pd.concat([train_, test_], ignore_index=True) # , keys=[\"Train\", \"Test\", \"Validation\"]\n",
    "df.drop(['id'], axis=1, inplace=True)\n",
    "df = df[['values_0']]#sol[['time', 'values_0']]\n",
    "df.columns = ['y']\n",
    "print(df.shape)\n",
    "df.head()"
   ]
  },
  {
   "cell_type": "code",
   "execution_count": 14,
   "id": "34d8bb24",
   "metadata": {
    "ExecuteTime": {
     "end_time": "2022-09-20T00:26:53.525708Z",
     "start_time": "2022-09-20T00:26:53.385710Z"
    }
   },
   "outputs": [
    {
     "data": {
      "image/png": "[encoded data removed]",
      "text/plain": [
       "<Figure size 640x480 with 1 Axes>"
      ]
     },
     "metadata": {},
     "output_type": "display_data"
    }
   ],
   "source": [
    "import darts \n",
    "\n",
    "series = darts.TimeSeries.from_dataframe(df, time_col=None, value_cols='y')\n",
    "series.plot()"
   ]
  },
  {
   "cell_type": "code",
   "execution_count": 15,
   "id": "d955f95d",
   "metadata": {
    "ExecuteTime": {
     "end_time": "2022-09-20T00:26:53.668706Z",
     "start_time": "2022-09-20T00:26:53.527706Z"
    }
   },
   "outputs": [
    {
     "data": {
      "image/png": "[encoded data removed]",
      "text/plain": [
       "<Figure size 640x480 with 1 Axes>"
      ]
     },
     "metadata": {},
     "output_type": "display_data"
    }
   ],
   "source": [
    "train, test = series.split_before(0.95)\n",
    "train.plot()\n",
    "test.plot()"
   ]
  },
  {
   "cell_type": "code",
   "execution_count": 16,
   "id": "b8b7cf00",
   "metadata": {
    "ExecuteTime": {
     "end_time": "2022-09-20T00:28:53.992435Z",
     "start_time": "2022-09-20T00:26:53.669705Z"
    }
   },
   "outputs": [
    {
     "name": "stderr",
     "output_type": "stream",
     "text": [
      "2022-09-20 07:26:53 pytorch_lightning.utilities.rank_zero INFO: GPU available: True (cuda), used: False\n",
      "2022-09-20 07:26:53 pytorch_lightning.utilities.rank_zero INFO: TPU available: False, using: 0 TPU cores\n",
      "2022-09-20 07:26:53 pytorch_lightning.utilities.rank_zero INFO: IPU available: False, using: 0 IPUs\n",
      "2022-09-20 07:26:53 pytorch_lightning.utilities.rank_zero INFO: HPU available: False, using: 0 HPUs\n",
      "2022-09-20 07:26:53 pytorch_lightning.callbacks.model_summary INFO: \n",
      "  | Name          | Type             | Params\n",
      "---------------------------------------------------\n",
      "0 | criterion     | MSELoss          | 0     \n",
      "1 | train_metrics | MetricCollection | 0     \n",
      "2 | val_metrics   | MetricCollection | 0     \n",
      "3 | rnn           | GRU              | 2.1 K \n",
      "4 | V             | Linear           | 26    \n",
      "---------------------------------------------------\n",
      "2.1 K     Trainable params\n",
      "0         Non-trainable params\n",
      "2.1 K     Total params\n",
      "0.017     Total estimated model params size (MB)\n"
     ]
    },
    {
     "data": {
      "application/json": {
       "ascii": false,
       "bar_format": null,
       "colour": null,
       "elapsed": 0.012997627258300781,
       "initial": 0,
       "n": 0,
       "ncols": 119,
       "nrows": 29,
       "postfix": null,
       "prefix": "Training",
       "rate": null,
       "total": null,
       "unit": "it",
       "unit_divisor": 1000,
       "unit_scale": false
      },
      "application/vnd.jupyter.widget-view+json": {
       "model_id": "812c2893e6c6474ca0c30f9c63f75ba5",
       "version_major": 2,
       "version_minor": 0
      },
      "text/plain": [
       "Training: 0it [00:00, ?it/s]"
      ]
     },
     "metadata": {},
     "output_type": "display_data"
    },
    {
     "name": "stderr",
     "output_type": "stream",
     "text": [
      "2022-09-20 07:28:53 pytorch_lightning.utilities.rank_zero INFO: `Trainer.fit` stopped: `max_epochs=100` reached.\n"
     ]
    },
    {
     "data": {
      "application/json": {
       "ascii": false,
       "bar_format": null,
       "colour": null,
       "elapsed": 0.013997077941894531,
       "initial": 59,
       "n": 59,
       "ncols": 119,
       "nrows": 29,
       "postfix": null,
       "prefix": "Predicting",
       "rate": null,
       "total": null,
       "unit": "it",
       "unit_divisor": 1000,
       "unit_scale": false
      },
      "application/vnd.jupyter.widget-view+json": {
       "model_id": "1e7563c5f8c4456188092c96430f806a",
       "version_major": 2,
       "version_minor": 0
      },
      "text/plain": [
       "Predicting: 59it [00:00, ?it/s]"
      ]
     },
     "metadata": {},
     "output_type": "display_data"
    }
   ],
   "source": [
    "from darts.models import RNNModel\n",
    "\n",
    "model = RNNModel(model=\"GRU\", input_chunk_length=20)\n",
    "model.fit(train)\n",
    "prediction = model.predict(len(test))"
   ]
  },
  {
   "cell_type": "code",
   "execution_count": 17,
   "id": "3ffdfb55",
   "metadata": {
    "ExecuteTime": {
     "end_time": "2022-09-20T00:28:54.166461Z",
     "start_time": "2022-09-20T00:28:53.994435Z"
    }
   },
   "outputs": [
    {
     "data": {
      "text/plain": [
       "<matplotlib.legend.Legend at 0x248d36d0108>"
      ]
     },
     "execution_count": 17,
     "metadata": {},
     "output_type": "execute_result"
    },
    {
     "data": {
      "image/png": "[encoded data removed]",
      "text/plain": [
       "<Figure size 640x480 with 1 Axes>"
      ]
     },
     "metadata": {},
     "output_type": "display_data"
    }
   ],
   "source": [
    "series.plot()\n",
    "prediction.plot(label='forecast', low_quantile=0.05, high_quantile=0.95)\n",
    "plt.legend()"
   ]
  },
  {
   "cell_type": "code",
   "execution_count": 18,
   "id": "00128ebc",
   "metadata": {
    "ExecuteTime": {
     "end_time": "2022-09-20T00:28:54.182464Z",
     "start_time": "2022-09-20T00:28:54.167461Z"
    }
   },
   "outputs": [
    {
     "data": {
      "text/plain": [
       "'MAPE: 852.38%'"
      ]
     },
     "execution_count": 18,
     "metadata": {},
     "output_type": "execute_result"
    }
   ],
   "source": [
    "from darts.metrics import mape\n",
    "\n",
    "\"MAPE: {:.2f}%\".format(mape(prediction, test))"
   ]
  },
  {
   "cell_type": "markdown",
   "id": "17071372",
   "metadata": {},
   "source": [
    "# <center><font color=\"blue\">Darts Also Support</font></center>\n",
    "\n",
    "\n",
    "* Parameter Optimization\n",
    "* Cross Validations\n",
    "* Add Noise (sensitivity Analysis)\n",
    "* Parallel GPU-TPU\n",
    "* and More."
   ]
  },
  {
   "cell_type": "markdown",
   "id": "cb958448",
   "metadata": {},
   "source": [
    "# <center><font color=\"blue\"> Akhir Modul</font></center>\n",
    "\n",
    "<hr />\n",
    "<img alt=\"\" src=\"images/meme-cartoon/meme arima.jpeg\"/>"
   ]
  }
 ],
 "metadata": {
  "celltoolbar": "Slideshow",
  "hide_input": false,
  "kernelspec": {
   "display_name": "Python 3 (ipykernel)",
   "language": "python",
   "name": "python3"
  },
  "language_info": {
   "codemirror_mode": {
    "name": "ipython",
    "version": 3
   },
   "file_extension": ".py",
   "mimetype": "text/x-python",
   "name": "python",
   "nbconvert_exporter": "python",
   "pygments_lexer": "ipython3",
   "version": "3.7.13"
  },
  "latex_envs": {
   "LaTeX_envs_menu_present": true,
   "autoclose": false,
   "autocomplete": true,
   "bibliofile": "biblio.bib",
   "cite_by": "apalike",
   "current_citInitial": 1,
   "eqLabelWithNumbers": true,
   "eqNumInitial": 1,
   "hotkeys": {
    "equation": "Ctrl-E",
    "itemize": "Ctrl-I"
   },
   "labels_anchors": false,
   "latex_user_defs": false,
   "report_style_numbering": false,
   "user_envs_cfg": false
  },
  "toc": {
   "base_numbering": 1,
   "nav_menu": {},
   "number_sections": true,
   "sideBar": true,
   "skip_h1_title": false,
   "title_cell": "Table of Contents",
   "title_sidebar": "Contents",
   "toc_cell": false,
   "toc_position": {},
   "toc_section_display": true,
   "toc_window_display": false
  }
 },
 "nbformat": 4,
 "nbformat_minor": 5
}
