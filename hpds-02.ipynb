{
 "cells": [
  {
   "cell_type": "markdown",
   "metadata": {
    "slideshow": {
     "slide_type": "slide"
    }
   },
   "source": [
    "<center><img alt=\"\" src=\"images/tau-data_banner.png\"/></center>\n",
    "<center><strong><h1>HPDS-02: Thread Programming in Python</h1></strong><br />\n",
    "<img alt=\"\" src=\"images/PDS_logo.jpg\" />\n",
    "\n",
    "## (C)Taufik Sutanto\n",
    "## https://tau-data.id/hpds-02/"
   ]
  },
  {
   "cell_type": "markdown",
   "metadata": {
    "slideshow": {
     "slide_type": "slide"
    }
   },
   "source": [
    "# Program, Thread, & Process\n",
    "\n",
    "## Proses di Operating System\n",
    "\n",
    "* **Program** adalah entitas **statis** di komputer kita.\n",
    "* Saat **program dijalankan** ia berubah menjadi sebuah **proses** (terkadang disebut juga sebagai **Task**).\n",
    "* Sehingga proses adalah sebuah program yang sedang dijalankan.\n",
    "* Satu program dapat terdiri dari beberapa proses.\n",
    "* Saat ada beberapa prosesor, maka proses dapat dijalankan secara parallel.\n",
    "* Jika hanya ada 1 prosesor, proses dapat dijalankan bergantian (dengan sangat cepat) seolah-olah semua berjalan berbarengan.\n",
    "* Proses memiliki (resources terpisah): \n",
    " - Code segment - text section\n",
    " - Data  - global variable\n",
    " - Stack - variabel lokal dan fungsi-fungsi\n",
    " - Heap - variabel/class yang dialokasikan secara dinamis\n",
    " - State - ready, waiting, running.\n",
    " - process identifier, prioritas, dsb.\n",
    "\n",
    "<img alt=\"\" src=\"images/contoh_proses_di_os.png\" />"
   ]
  },
  {
   "cell_type": "markdown",
   "metadata": {},
   "source": [
    "# Thread di Operating System\n",
    "\n",
    "* Thread adalah bagian (unit of execution) dari sebuah proses.\n",
    "* Dengan kata lain thread adalah subset dari proses.\n",
    "* Proses selalu dimulai dengan single (primary) thread.\n",
    "* Primary thread kemudian dapat membuat thread lain.\n",
    "* Thread memiliki **shared resources** memory, data, resources, files dll.\n",
    "\n",
    "### Contoh:\n",
    " - Pada komputer kita Microsoft Word dan misal browser Chrome adalah contoh proses.\n",
    " - Di microsot word saat kita mengetik, maka ms word juga melakukan autosave dan autocorrect. mengetik (editing), autosave, dan autocorrect adalah contoh thread.\n",
    "\n",
    "<img alt=\"\" src=\"images/proses_thread.png\" />\n",
    "\n",
    "* image source: https://farhakm.wordpress.com/2015/03/30/process-vs-thread/"
   ]
  },
  {
   "cell_type": "markdown",
   "metadata": {},
   "source": [
    "# Kelebihan Melakukan Threading Programming\n",
    "\n",
    "* Program dengan multi-thread dapat berjalan dengan cepat karena thread dapat dijalankan di CPU yang berbeda.\n",
    "* Program dengan multi-thread masih responsive terhadap input dari user.\n",
    "* Thread-thread yang ada dapat mengakses variable global.\n",
    "* Perubahan nilai variable global oleh satu thread akan Valid untuk thread yang lain.\n",
    "* Thread dapat memiliki variabel lokal.\n",
    "\n",
    "<img alt=\"\" src=\"images/sifat_thread_programming.png\" />"
   ]
  },
  {
   "cell_type": "markdown",
   "metadata": {},
   "source": [
    "# I/O VS Komputasi\n",
    "\n",
    "* Secara umum proses yang membutuhkan banyak komputasi (dan sedikit Input-Output I/O) akan diuntungkan dari pemrograman parallel (gambar).\n",
    "* I/O bound: komunikasi via internet, harddisk, printer, dsb.\n",
    "* Proses yang membutuhkan banyak komputasi: Math, Stats, Physiscs, Machine Learning, AI.\n",
    "\n",
    "<img alt=\"\" src=\"images/i-o-computation-process.png\" />\n",
    "\n",
    "* image source: https://realpython.com/python-concurrency/"
   ]
  },
  {
   "cell_type": "markdown",
   "metadata": {},
   "source": [
    "# Module Thread di Python\n",
    "\n",
    "* Thread (deprecated di Python 3, renamed jadi _Thread )\n",
    "* threading\n",
    "\n",
    "## Contoh Sederhana:\n",
    "* Sebaiknya dijalankan di terminal.\n",
    "* if __name__ == \"__main__\": wajib ada di semua code python yang menggunakan thread/parallel programming.\n",
    " - Keterangan tentang __main__ : https://www.youtube.com/watch?v=IaKbhwLs0kw"
   ]
  },
  {
   "cell_type": "code",
   "execution_count": null,
   "metadata": {},
   "outputs": [],
   "source": [
    "# -*- coding: utf-8 -*-\n",
    "\"\"\"\n",
    "Created on Mon Dec  7 08:59:27 2020\n",
    "Contoh Threading sederhana di Python 3\n",
    "@author: Taufik Sutanto\n",
    "\"\"\"\n",
    "import time\n",
    "from threading import Thread\n",
    "\n",
    "def sleeper(i):\n",
    "    nSleep = 3\n",
    "    print(\"thread {} sleeps for {} seconds\".format(i, nSleep))\n",
    "    time.sleep(nSleep)\n",
    "    print(\"thread %d woke up\" % i)\n",
    "\n",
    "if __name__ == \"__main__\":\n",
    "    for i in range(10):\n",
    "        t = Thread(target=sleeper, args=(i,))\n",
    "        t.start()"
   ]
  },
  {
   "cell_type": "code",
   "execution_count": null,
   "metadata": {},
   "outputs": [],
   "source": [
    "import threading\n",
    "\n",
    "def print_cube(num):\n",
    "    print(\"Cube: {}\".format(num * num * num))\n",
    "\n",
    "def print_square(num):\n",
    "    print(\"Square: {}\".format(num * num))\n",
    "\n",
    "if __name__ == \"__main__\":\n",
    "    # creating thread\n",
    "    t1 = threading.Thread(target=print_square, args=(10,))\n",
    "    t2 = threading.Thread(target=print_cube, args=(10,))\n",
    "    t1.start()  # starting thread 1\n",
    "    t2.start()  # starting thread 2\n",
    "\n",
    "    t1.join()  # wait until thread 1 is completely executed\n",
    "    t2.join()  # wait until thread 2 is completely executed\n",
    "    # both threads completely executed\n",
    "    print(\"Done!\")"
   ]
  },
  {
   "cell_type": "markdown",
   "metadata": {},
   "source": [
    "# Contoh 2 Scrapping website\n",
    "\n",
    "### Catatan: Simpan file via editor (misal Spyder), lalu wajib di jalankan di terminal (Misal Comman Prompt)."
   ]
  },
  {
   "cell_type": "code",
   "execution_count": null,
   "metadata": {},
   "outputs": [],
   "source": [
    "import requests\n",
    "import time\n",
    "\n",
    "def download_site(url, session):\n",
    "    with session.get(url) as response:\n",
    "        print(f\"Read {len(response.content)} from {url}\")\n",
    "\n",
    "def download_all_sites(sites):\n",
    "    with requests.Session() as session:\n",
    "        for url in sites:\n",
    "            download_site(url, session)\n",
    "\n",
    "if __name__ == \"__main__\":\n",
    "    sites = [\n",
    "        \"https://www.jython.org\",\n",
    "        \"http://olympus.realpython.org/dice\",\n",
    "    ] * 80\n",
    "    start_time = time.time()\n",
    "    download_all_sites(sites)\n",
    "    duration = time.time() - start_time\n",
    "    print(f\"Downloaded {len(sites)} in {duration} seconds\")"
   ]
  },
  {
   "cell_type": "markdown",
   "metadata": {},
   "source": [
    "# Keterangan Code\n",
    "\n",
    "* Variable \"sites\" adalah list dengan 2 URL, tapi x 80. Jadi total 160. Ingat sifat perkalian dengan List.\n",
    "* Fungsi download_site() mengunduh semua URL yang ada di list **sites** lalu menyetak (print) ukuran/size. \n",
    "* download_all_sites() membuat \"Session\" secara bergantian (successive/sequential) mengakses setiap URL. \n",
    "* Terakhir mencetak berapa waktu yang dibutuhkan. \n",
    "* Prosesnya seperti Gambar 1 diatas."
   ]
  },
  {
   "cell_type": "markdown",
   "metadata": {},
   "source": [
    "# Versi Thread Programming\n",
    "\n",
    "### Sama seperti sebelumnya, jalankan di terminal"
   ]
  },
  {
   "cell_type": "code",
   "execution_count": null,
   "metadata": {},
   "outputs": [],
   "source": [
    "import concurrent.futures\n",
    "import requests\n",
    "import threading\n",
    "import time\n",
    "\n",
    "thread_local = threading.local()\n",
    "\n",
    "def get_session():\n",
    "    if not hasattr(thread_local, \"session\"):\n",
    "        thread_local.session = requests.Session()\n",
    "    return thread_local.session\n",
    "\n",
    "def download_site(url):\n",
    "    session = get_session()\n",
    "    with session.get(url) as response:\n",
    "        print(f\"Read {len(response.content)} from {url}\")\n",
    "\n",
    "def download_all_sites(sites):\n",
    "    with concurrent.futures.ThreadPoolExecutor(max_workers=5) as executor:\n",
    "        executor.map(download_site, sites)\n",
    "\n",
    "if __name__ == \"__main__\":\n",
    "    sites = [\n",
    "        \"https://www.jython.org\",\n",
    "        \"http://olympus.realpython.org/dice\",\n",
    "    ] * 80\n",
    "    start_time = time.time()\n",
    "    download_all_sites(sites)\n",
    "    duration = time.time() - start_time\n",
    "    print(f\"Downloaded {len(sites)} in {duration} seconds\")"
   ]
  },
  {
   "cell_type": "markdown",
   "metadata": {},
   "source": [
    "# Keterangan Code diatas \n",
    "\n",
    "* Ketika menambahkan **threading** struktur umumnya sama, hanya ada beberapa modifikasi:\n",
    "* Fungsi _download_all_sites_:\n",
    " - **ThreadPoolExecutor** = Thread + Pool + Executor.\n",
    " - Object **Pool** menciptakan a pool of threads (beberapa threads),setiap thread dapat berjalan parallel. \n",
    " - Executor adalah bagian akan mengendalikan (control) bagaimana dan kapan setiap threads di pool akan dijalankan (run).\n",
    "* **ThreadPoolExecutor** secara automatis mengatur menciptakan thread, menjalankan, dan menghabus/bebaskan thread.\n",
    "* Metode **.map()** kemudian menjalankan fungsi dan inputnya pada setiap thread yang terbentuk. \n",
    "\n",
    "<img alt=\"\" src=\"images/threaded_process.png\" />\n",
    "\n",
    "* Image Source: https://realpython.com/python-concurrency/"
   ]
  },
  {
   "cell_type": "markdown",
   "metadata": {},
   "source": [
    "# Python Global Interpreter Lock (GIL)\n",
    "\n",
    "* Mutex (Lock) yang memungkinkan suatu thread mengkontrol Python interpreter.\n",
    "* Berarti hanya 1 thread yang berada dalam state/keadaan \"execution\" pada sembarang waktu. Sangat merugikan pada sistem dengan CPU>1.\n",
    "* \n",
    "\n",
    "<img alt=\"\" src=\"images/python_GIL.jpg\" />\n",
    "\n",
    "* image Source: https://www.slideshare.net/cjgiridhar/pycon11-python-threads-dive-into-gil-9315128\n",
    "\n",
    "### Ilustrasi GIL di Python"
   ]
  },
  {
   "cell_type": "code",
   "execution_count": null,
   "metadata": {},
   "outputs": [],
   "source": [
    "# -*- coding: utf-8 -*-\n",
    "\"\"\"\n",
    "Created on Mon Dec  7 12:59:23 2020\n",
    "Ilustrasi Pengaruh GIL (single thread)\n",
    "@author: Taufik Sutanto\n",
    "\"\"\"\n",
    "# single_threaded.py\n",
    "import time\n",
    "\n",
    "COUNT = 50000000\n",
    "\n",
    "def countdown(n):\n",
    "    while n>0:\n",
    "        n -= 1\n",
    "\n",
    "start = time.time()\n",
    "countdown(COUNT)\n",
    "end = time.time()\n",
    "\n",
    "print('Time taken in seconds -', end - start)"
   ]
  },
  {
   "cell_type": "code",
   "execution_count": null,
   "metadata": {},
   "outputs": [],
   "source": [
    "# -*- coding: utf-8 -*-\n",
    "\"\"\"\n",
    "Created on Mon Dec  7 12:59:23 2020\n",
    "Ilustrasi Pengaruh GIL (Multi thread)\n",
    "Akan menghasilkan waktu yang kurang lebih sama\n",
    "@author: Taufik Sutanto\n",
    "\"\"\"\n",
    "import time\n",
    "from threading import Thread\n",
    "\n",
    "COUNT = 50000000\n",
    "\n",
    "def countdown(n):\n",
    "    while n>0:\n",
    "        n -= 1\n",
    "\n",
    "t1 = Thread(target=countdown, args=(COUNT//2,))\n",
    "t2 = Thread(target=countdown, args=(COUNT//2,))\n",
    "\n",
    "start = time.time()\n",
    "t1.start()\n",
    "t2.start()\n",
    "t1.join()\n",
    "t2.join()\n",
    "end = time.time()\n",
    "\n",
    "print('Time taken in seconds -', end - start)"
   ]
  },
  {
   "cell_type": "markdown",
   "metadata": {},
   "source": [
    "# Solusi: Multi-processing vs multi-threading\n",
    "\n",
    "### Akan dibahas dengan detail pada kuliah selanjutnya."
   ]
  },
  {
   "cell_type": "code",
   "execution_count": null,
   "metadata": {},
   "outputs": [],
   "source": [
    "# -*- coding: utf-8 -*-\n",
    "\"\"\"\n",
    "Created on Mon Dec  7 13:03:30 2020\n",
    "Contoh sederhana multi-processing\n",
    "@author: Taufik Sutanto\n",
    "\"\"\"\n",
    "from multiprocessing import Pool\n",
    "import time\n",
    "\n",
    "COUNT = 50000000\n",
    "def countdown(n):\n",
    "    while n>0:\n",
    "        n -= 1\n",
    "\n",
    "if __name__ == '__main__':\n",
    "    pool = Pool(processes=2)\n",
    "    start = time.time()\n",
    "    r1 = pool.apply_async(countdown, [COUNT//2])\n",
    "    r2 = pool.apply_async(countdown, [COUNT//2])\n",
    "    pool.close()\n",
    "    pool.join()\n",
    "    end = time.time()\n",
    "    print('Time taken in seconds -', end - start)"
   ]
  },
  {
   "cell_type": "markdown",
   "metadata": {
    "slideshow": {
     "slide_type": "slide"
    }
   },
   "source": [
    "# End of Module\n",
    "\n",
    "<hr>\n",
    "<img alt=\"\" src=\"images/.png\"/>"
   ]
  }
 ],
 "metadata": {
  "celltoolbar": "Slideshow",
  "kernelspec": {
   "display_name": "Python 3",
   "language": "python",
   "name": "python3"
  },
  "language_info": {
   "codemirror_mode": {
    "name": "ipython",
    "version": 3
   },
   "file_extension": ".py",
   "mimetype": "text/x-python",
   "name": "python",
   "nbconvert_exporter": "python",
   "pygments_lexer": "ipython3",
   "version": "3.6.8"
  }
 },
 "nbformat": 4,
 "nbformat_minor": 2
}
