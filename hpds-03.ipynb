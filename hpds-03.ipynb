{
 "cells": [
  {
   "cell_type": "markdown",
   "metadata": {
    "slideshow": {
     "slide_type": "slide"
    }
   },
   "source": [
    "<center><img alt=\"\" src=\"images/tau-data_banner.png\"/></center>\n",
    "<center><strong><h1>HPDS-03: Multi-Processing in Python</h1></strong><br />\n",
    "<img alt=\"\" src=\"images/PDS_logo.jpg\" />\n",
    "\n",
    "## (C)Taufik Sutanto\n",
    "## https://tau-data.id/hpds-03/"
   ]
  },
  {
   "cell_type": "markdown",
   "metadata": {},
   "source": [
    "# Concurrent vs Parallel\n",
    "\n",
    "* Pada dasarnya mirip. Namun bayangkan concurrent sebagai thread dan parallel sebagai pekerjaan yang dilakukan bersamaan di beberapa processor.\n",
    "\n",
    "<img alt=\"\" src=\"images/concurrent_vs_parallel.png\" />\n",
    "\n",
    "* image source: https://medium.com/@sanju.skm/parallel-programming-vs-concurrent-programming-f993d3f9ceea"
   ]
  },
  {
   "cell_type": "markdown",
   "metadata": {},
   "source": [
    "# Review\n",
    "\n",
    "<img alt=\"\" src=\"images/thread_vs_Process.png\" />\n",
    "\n",
    "image source: https://code.tutsplus.com/articles/introduction-to-parallel-and-concurrent-programming-in-python--cms-28612\n",
    "\n",
    "## Berikut ini contoh yang sangat baik untuk membedakan ke-2-nya:\n",
    "### Jangan lupa seperti biasa jalankan di *Terminal* (Bukan Jupyter Notebook)"
   ]
  },
  {
   "cell_type": "code",
   "execution_count": null,
   "metadata": {},
   "outputs": [],
   "source": [
    "# -*- coding: utf-8 -*-\n",
    "import os\n",
    "import time\n",
    "import threading\n",
    "import multiprocessing\n",
    " \n",
    "NUM_WORKERS = 4\n",
    " \n",
    "def only_sleep():\n",
    "    \"\"\" Do nothing, wait for a timer to expire \"\"\"\n",
    "    print(\"PID: %s, Process Name: %s, Thread Name: %s\" % (\n",
    "        os.getpid(),\n",
    "        multiprocessing.current_process().name,\n",
    "        threading.current_thread().name)\n",
    "    )\n",
    "    time.sleep(1)\n",
    " \n",
    " \n",
    "def crunch_numbers():\n",
    "    \"\"\" Do some computations \"\"\"\n",
    "    print(\"PID: %s, Process Name: %s, Thread Name: %s\" % (\n",
    "        os.getpid(),\n",
    "        multiprocessing.current_process().name,\n",
    "        threading.current_thread().name)\n",
    "    )\n",
    "    x = 0\n",
    "    while x < 10000000:\n",
    "        x += 1\n",
    "\n",
    "if __name__ == '__main__':\n",
    "        \n",
    "    ## Run tasks serially\n",
    "    start_time = time.time()\n",
    "    for _ in range(NUM_WORKERS):\n",
    "        only_sleep()\n",
    "    end_time = time.time()\n",
    "     \n",
    "    print(\"Serial time=\", end_time - start_time)\n",
    "     \n",
    "    # Run tasks using threads\n",
    "    start_time = time.time()\n",
    "    threads = [threading.Thread(target=only_sleep) for _ in range(NUM_WORKERS)]\n",
    "    [thread.start() for thread in threads]\n",
    "    [thread.join() for thread in threads]\n",
    "    end_time = time.time()\n",
    "     \n",
    "    print(\"Threads time=\", end_time - start_time)\n",
    "     \n",
    "    # Run tasks using processes\n",
    "    start_time = time.time()\n",
    "    processes = [multiprocessing.Process(target=only_sleep()) for _ in range(NUM_WORKERS)]\n",
    "    [process.start() for process in processes]\n",
    "    [process.join() for process in processes]\n",
    "    end_time = time.time()\n",
    "     \n",
    "    print(\"Parallel time=\", end_time - start_time)"
   ]
  },
  {
   "cell_type": "markdown",
   "metadata": {},
   "source": [
    "# Pool Class\n",
    "\n",
    "* Pengerjaan urut input\n",
    "\n",
    "<img alt=\"\" src=\"images/pool_mp_python.png\" />\n",
    "\n",
    "### Contoh dibawah ini (not necessarily) lebih cepat dari serial code. Mengapa?"
   ]
  },
  {
   "cell_type": "code",
   "execution_count": null,
   "metadata": {},
   "outputs": [],
   "source": [
    "import multiprocessing as mp\n",
    "\n",
    "def f(x):\n",
    "    return x*x\n",
    "\n",
    "if __name__ == '__main__':\n",
    "    print('Number of currently available processor = ', mp.cpu_count())\n",
    "    with mp.Pool(5) as p:\n",
    "        print(p.map(f, [1, 2, 3]))"
   ]
  },
  {
   "cell_type": "markdown",
   "metadata": {},
   "source": [
    "# Contoh Pool yang lebih cocok."
   ]
  },
  {
   "cell_type": "code",
   "execution_count": null,
   "metadata": {},
   "outputs": [],
   "source": [
    "import multiprocessing\n",
    "import numpy as np\n",
    "import time\n",
    "\n",
    "def pungsi(N):\n",
    "    s = 0.0\n",
    "    for i in range(1,N):\n",
    "        s += np.log(i)\n",
    "    return s\n",
    "\n",
    "if __name__ == '__main__':\n",
    "    inputs = [10**6] * 20\n",
    "    print('Serial/Sequential Programming biasa:')\n",
    "    mulai =  time.time()\n",
    "    outputs = [pungsi(x) for x in inputs]\n",
    "    akhir  = time.time()\n",
    "    print(\"Rata-rata Output: {}\".format(np.mean(outputs)))\n",
    "    print(\"Waktu Serial: {}\".format(akhir-mulai))\n",
    "    \n",
    "    print('Parallel Programming:')\n",
    "    mulai =  time.time()\n",
    "    pool = multiprocessing.Pool()\n",
    "    pool = multiprocessing.Pool(processes=8)\n",
    "    outputs = pool.map(pungsi, inputs)\n",
    "    akhir  = time.time()\n",
    "    #print(\"Input: {}\".format(inputs))\n",
    "    print(\"Rata-rata Output: {}\".format(np.mean(outputs)))\n",
    "    print(\"Waktu parallel: {}\".format(akhir-mulai))"
   ]
  },
  {
   "cell_type": "markdown",
   "metadata": {},
   "source": [
    "# map Async\n",
    "\n",
    "<img alt=\"\" src=\"images/sync_vs_async.png\" />"
   ]
  },
  {
   "cell_type": "code",
   "execution_count": null,
   "metadata": {},
   "outputs": [],
   "source": [
    "import multiprocessing as mp\n",
    "\n",
    "def square(x):\n",
    "    return x * x\n",
    "\n",
    "if __name__ == '__main__':\n",
    "    inputs = [0,1,2,3,4,5,6,7,8]\n",
    "    \n",
    "    print('Sync Parallel Processing')\n",
    "    pool = mp.Pool()\n",
    "    outputs = pool.map(square, inputs)\n",
    "    print(\"Input: {}\".format(inputs))\n",
    "    print(\"Output: {} \\n\".format(outputs))\n",
    "    pool.close(); del pool\n",
    "    \n",
    "    print('Async Parallel Processing')\n",
    "    pool = mp.Pool()\n",
    "    outputs_async = pool.map_async(square, inputs)\n",
    "    outputs = outputs_async.get()\n",
    "    print(\"Input: {}\".format(inputs))\n",
    "    print(\"Output: {}\".format(outputs))"
   ]
  },
  {
   "cell_type": "markdown",
   "metadata": {},
   "source": [
    "# Ingat kita bisa assign fungsi apapun ke masing-masing processor secara manual jika dibutuhkan"
   ]
  },
  {
   "cell_type": "code",
   "execution_count": null,
   "metadata": {},
   "outputs": [],
   "source": [
    "import multiprocessing\n",
    "import os\n",
    "import time\n",
    "import threading\n",
    "\n",
    "class ProsesA(multiprocessing.Process):\n",
    "    def __init__(self, id):\n",
    "        super(ProsesA, self).__init__()\n",
    "        self.id = id\n",
    "\n",
    "    def run(self):\n",
    "        time.sleep(1)\n",
    "        print(\"PID: %s, Process ID: %s, Process Name: %s, Thread Name: %s\" % (\n",
    "        os.getpid(), self.id,\n",
    "        multiprocessing.current_process().name,\n",
    "        threading.current_thread().name))\n",
    "        \n",
    "class ProsesB(multiprocessing.Process):\n",
    "    def __init__(self, id):\n",
    "        super(ProsesB, self).__init__()\n",
    "        self.id = id\n",
    "\n",
    "    def run(self):\n",
    "        time.sleep(1)\n",
    "        print(\"PID: %s, Process ID: %s, Process Name: %s, Thread Name: %s\" % (\n",
    "        os.getpid(), self.id,\n",
    "        multiprocessing.current_process().name,\n",
    "        threading.current_thread().name))\n",
    "\n",
    "if __name__ == '__main__':\n",
    "    p1 = ProsesA(0)\n",
    "    p1.start()\n",
    "    p2 = ProsesB(1)\n",
    "    p2.start()\n",
    "    p1.join(); p2.join()"
   ]
  },
  {
   "cell_type": "markdown",
   "metadata": {},
   "source": [
    "# Parallel Programming pada Fungsi Multivariate: StarMap"
   ]
  },
  {
   "cell_type": "code",
   "execution_count": null,
   "metadata": {},
   "outputs": [],
   "source": [
    "import multiprocessing as mp\n",
    "\n",
    "def f_sum(a, b):\n",
    "    return a + b\n",
    "\n",
    "if __name__ == '__main__':\n",
    "    process_pool = mp.Pool(4)\n",
    "    data = [(1, 1), (2, 1), (3, 1), (6, 9)]\n",
    "    output = process_pool.starmap(f_sum, data)\n",
    "    print(\"input = \", data)\n",
    "    print(\"output = \", output)"
   ]
  },
  {
   "cell_type": "markdown",
   "metadata": {
    "slideshow": {
     "slide_type": "slide"
    }
   },
   "source": [
    "# End of Module\n",
    "\n",
    "<hr>\n",
    "<img alt=\"\" src=\"images/.png\"/>"
   ]
  }
 ],
 "metadata": {
  "celltoolbar": "Slideshow",
  "kernelspec": {
   "display_name": "Python 3",
   "language": "python",
   "name": "python3"
  },
  "language_info": {
   "codemirror_mode": {
    "name": "ipython",
    "version": 3
   },
   "file_extension": ".py",
   "mimetype": "text/x-python",
   "name": "python",
   "nbconvert_exporter": "python",
   "pygments_lexer": "ipython3",
   "version": "3.6.8"
  }
 },
 "nbformat": 4,
 "nbformat_minor": 2
}
