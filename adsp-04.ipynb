{
 "cells": [
  {
   "cell_type": "markdown",
   "metadata": {
    "slideshow": {
     "slide_type": "slide"
    }
   },
   "source": [
    "<center><img alt=\"\" src=\"images/tau-data_banner.png\"/></center>\n",
    "<center><h3>https://tau-data.id</h3></center>\n",
    "<center><strong><h1>ADSP-04: Pendahuluan OOP di Python</h1></strong><br />\n",
    "<img alt=\"\" src=\"images/PDS_logo.jpg\" />\n",
    "<center>\n",
    "<h2>(C)Taufik Sutanto</h2>\n",
    "<h2>https://tau-data.id/adsp-04/</h2>\n",
    "</center>"
   ]
  },
  {
   "cell_type": "markdown",
   "metadata": {},
   "source": [
    "### Previous reading material: https://www.python-course.eu/python3_object_oriented_programming.php"
   ]
  },
  {
   "cell_type": "markdown",
   "metadata": {},
   "source": [
    "# Sebelum OOP - Procedural Programming Paradigm\n",
    "\n",
    "<img alt=\"\" src=\"images/Structured Programming.png\"/>"
   ]
  },
  {
   "cell_type": "code",
   "execution_count": 22,
   "metadata": {},
   "outputs": [
    {
     "data": {
      "text/plain": [
       "6.000999999999479"
      ]
     },
     "execution_count": 22,
     "metadata": {},
     "output_type": "execute_result"
    }
   ],
   "source": [
    "# Contoh PP\n",
    "def f1(x):\n",
    "    return x**2 + 1\n",
    "\n",
    "def f2(x, h=10**-3):\n",
    "    return (f1(x+h)-f1(x))/h\n",
    "\n",
    "f2(3)"
   ]
  },
  {
   "cell_type": "markdown",
   "metadata": {},
   "source": [
    "# Kelemahan PP?\n",
    "\n",
    "<img alt=\"\" src=\"images/spagheti_code.jpg\"/>\n",
    "\n",
    "### image source: https://medium.com/@1550707241489/procedural-programming-vs-object-oriented-programming-7d541a62f5c\n",
    "\n",
    "* Saat fungsi sudah terlalu banyak perubahan kecil di suatu fungsi akan menyebabkan seluruh code tidak berjalan dengan baik. Karena keterbegantungan antar fungsi begitu tinggi.\n",
    "* Untuk program sederhana tidak terlalu masalah."
   ]
  },
  {
   "cell_type": "markdown",
   "metadata": {},
   "source": [
    "# OOP mengatasi kusut-nya spagheti diatas dengan mengelompokkan fungsi yang serupa.\n",
    "\n",
    "<img alt=\"\" src=\"images/oop_concept-01.png\"/>\n",
    "\n",
    "### Hal ini disebut sebagai **Encapsulation**\n",
    "\n",
    "### tapi selama ini kita menggunakan Python sebenarnya sudah bekerja dengan objek-objek."
   ]
  },
  {
   "cell_type": "code",
   "execution_count": 23,
   "metadata": {},
   "outputs": [
    {
     "name": "stdout",
     "output_type": "stream",
     "text": [
      "<class 'int'> <class 'str'>\n"
     ]
    }
   ],
   "source": [
    "N = 99\n",
    "T = 'sembarang string'\n",
    "print(type(N), type(T))"
   ]
  },
  {
   "cell_type": "markdown",
   "metadata": {},
   "source": [
    "# (Hampir) Semua hal di Python adalah object, termasuk fungsi kita sebelumnya"
   ]
  },
  {
   "cell_type": "code",
   "execution_count": 24,
   "metadata": {},
   "outputs": [
    {
     "name": "stdout",
     "output_type": "stream",
     "text": [
      "<class 'function'>\n"
     ]
    }
   ],
   "source": [
    "print(type(f1))"
   ]
  },
  {
   "cell_type": "markdown",
   "metadata": {},
   "source": [
    "# Karena object, maka ia memiliki properties dan fungsi"
   ]
  },
  {
   "cell_type": "code",
   "execution_count": 25,
   "metadata": {},
   "outputs": [
    {
     "name": "stdout",
     "output_type": "stream",
     "text": [
      "['sembarang', 'string']\n"
     ]
    },
    {
     "data": {
      "text/plain": [
       "99"
      ]
     },
     "execution_count": 25,
     "metadata": {},
     "output_type": "execute_result"
    }
   ],
   "source": [
    "print( T.split() ) # Fungsi/method objek string T\n",
    "N.real # Property ditandai dengan tidak adanya tanda \"()\"\n",
    "# di Python Property di sebut Attribute"
   ]
  },
  {
   "cell_type": "code",
   "execution_count": 26,
   "metadata": {},
   "outputs": [
    {
     "name": "stdout",
     "output_type": "stream",
     "text": [
      "Error :  'int' object has no attribute 'split'\n"
     ]
    }
   ],
   "source": [
    "# Tentu saja ini akan Error, tapi perhatikan pesan error-nya.\n",
    "try:\n",
    "    N.split()\n",
    "except Exception as err_:\n",
    "    print('Error : ', err_)"
   ]
  },
  {
   "cell_type": "markdown",
   "metadata": {},
   "source": [
    "# Secara umum ada beberapa konsep dalam sistem OOP\n",
    "\n",
    "<img alt=\"\" src=\"images/OOps.png\"/>\n",
    "\n",
    "### image Source: https://www.nerd.vision/post/polymorphism-encapsulation-data-abstraction-and-inheritance-in-object-oriented-programming"
   ]
  },
  {
   "cell_type": "markdown",
   "metadata": {},
   "source": [
    "# Tapi bagaimana kalau mau membuat sendiri object-nya?"
   ]
  },
  {
   "cell_type": "code",
   "execution_count": 27,
   "metadata": {},
   "outputs": [
    {
     "name": "stdout",
     "output_type": "stream",
     "text": [
      "True\n",
      "False\n"
     ]
    }
   ],
   "source": [
    "# Contoh di http://python-course.eu disini tidak perlu if-main\n",
    "class Robot:\n",
    "    pass\n",
    "\n",
    "x = Robot()\n",
    "y = Robot()\n",
    "y2 = y\n",
    "print(y == y2)\n",
    "print(y == x) "
   ]
  },
  {
   "cell_type": "code",
   "execution_count": 28,
   "metadata": {},
   "outputs": [
    {
     "name": "stdout",
     "output_type": "stream",
     "text": [
      "<__main__.Robot object at 0x000002797163A780>\n",
      "Marvin\n",
      "1993\n",
      "{'name': 'Marvin', 'build_year': '1979'}\n",
      "contoh pungsi pertama\n"
     ]
    }
   ],
   "source": [
    "# Bad practice, tapi dapat dilakukan di Python\n",
    "# Menambahkan property ke object\n",
    "\n",
    "x.name = \"Marvin\"\n",
    "x.build_year = \"1979\"\n",
    "y.name = \"Caliban\"\n",
    "y.build_year = \"1993\"\n",
    "f1.keterangan ='contoh pungsi pertama' #bahkan fungsi adalah object\n",
    "\n",
    "print(x, x.name, y.build_year, x.__dict__, f1.keterangan, sep='\\n')"
   ]
  },
  {
   "cell_type": "code",
   "execution_count": 29,
   "metadata": {},
   "outputs": [
    {
     "name": "stdout",
     "output_type": "stream",
     "text": [
      "<class '__main__.Robot'>\n"
     ]
    }
   ],
   "source": [
    "# Menambahkan fungsi ke Object\n",
    "class Robot: # sebagai pembeda Class biasanya diawali huruf besar\n",
    "    \n",
    "    def beriSalam(self): # Method\n",
    "        print('Assalamualaikum')\n",
    "        \n",
    "gundam = Robot()\n",
    "print(type(gundam)) \n",
    "# __main__ ==> dimana \"robot\" kita di definisikan.\n",
    "# Defaultnya di __main__ "
   ]
  },
  {
   "cell_type": "code",
   "execution_count": 30,
   "metadata": {},
   "outputs": [
    {
     "name": "stdout",
     "output_type": "stream",
     "text": [
      "Assalamualaikum\n"
     ]
    }
   ],
   "source": [
    "# Kita sudah definisikan sebelumnya \"Robot\" punya method \"beriSalam\"\n",
    "\n",
    "gundam.beriSalam()"
   ]
  },
  {
   "cell_type": "code",
   "execution_count": 31,
   "metadata": {},
   "outputs": [
    {
     "data": {
      "text/plain": [
       "'Hi taudata'"
      ]
     },
     "execution_count": 31,
     "metadata": {},
     "output_type": "execute_result"
    }
   ],
   "source": [
    "# Tentu saja object juga bisa \"return\" values\n",
    "\n",
    "class Robot:\n",
    "    def sapa(self, nama = ''):\n",
    "        return \"Hi \" + nama\n",
    "    def beriSalam(self): # Method\n",
    "        print('Assalamualaikum')\n",
    "\n",
    "gundam = Robot()\n",
    "x = gundam.sapa('taudata')\n",
    "x"
   ]
  },
  {
   "cell_type": "markdown",
   "metadata": {},
   "source": [
    "# Apa itu \"self\" ? ... Sebelumnya mari kita bahas dulu \"__init__\""
   ]
  },
  {
   "cell_type": "code",
   "execution_count": 33,
   "metadata": {},
   "outputs": [
    {
     "data": {
      "text/plain": [
       "('dbz', 'dbz', 2020)"
      ]
     },
     "execution_count": 33,
     "metadata": {},
     "output_type": "execute_result"
    }
   ],
   "source": [
    "class Robot:\n",
    "    # __init__ akan dijalankan setiap Objek dibuat\n",
    "    def __init__(self, tipe, tahun=2020):\n",
    "        self.tipe = tipe\n",
    "        self.tahun_produksi = tahun\n",
    "        \n",
    "    def sapa(self, nama = ''):\n",
    "        return \"Hi \" + nama\n",
    "    def beriSalam(self): # Method\n",
    "        print('_Assalamualaikum_ ... :)')\n",
    "\n",
    "Android17 = Robot('dbz', tahun=1997) # __init__ dijalankan disini\n",
    "Android18 = Robot('dbz') # __init__ dijalankan disini\n",
    "Gundam = Robot('SuperNova', tahun=2020)\n",
    "# Apa yang dimasukkan ke tanda () akan dimasukkan ke \"fungsi __init__\"\n",
    "Android17.tipe, Android18.tipe, Gundam.tahun_produksi"
   ]
  },
  {
   "cell_type": "markdown",
   "metadata": {},
   "source": [
    "# Dari contoh diatas \"self\" semacam pointer ke object yang saat ini dibuat/akses.\n",
    "\n",
    "<img alt=\"\" src=\"images/self_class_oop_python.png\"/>\n",
    "\n",
    "### Class yang memiliki nilai (attribute) disebut Instance\n",
    "### Nilai attribute disimpan secara permanen\n",
    "### OOP tidak menyukai parameter (yang banyak)"
   ]
  },
  {
   "cell_type": "code",
   "execution_count": 34,
   "metadata": {},
   "outputs": [
    {
     "data": {
      "text/plain": [
       "2020"
      ]
     },
     "execution_count": 34,
     "metadata": {},
     "output_type": "execute_result"
    }
   ],
   "source": [
    "Gundam.tahun_produksi"
   ]
  },
  {
   "cell_type": "markdown",
   "metadata": {},
   "source": [
    "# kita bisa juga buat Method yang mengakses attribute(s). Mengapa????...\n",
    "\n",
    "### Karena kalau di masa depan kita mengganti nama Attribute, maka fungsinya akan tetap bisa bekerja dengan baik (tanpa harus mengganti code di banyak tempat)."
   ]
  },
  {
   "cell_type": "code",
   "execution_count": 36,
   "metadata": {},
   "outputs": [
    {
     "data": {
      "text/plain": [
       "(('dbz', 2002), 'dbz')"
      ]
     },
     "execution_count": 36,
     "metadata": {},
     "output_type": "execute_result"
    }
   ],
   "source": [
    "class Robot:\n",
    "    # __init__ akan dijalankan setiap Objek dibuat\n",
    "    def __init__(self, tipe, tahun=2020):\n",
    "        self.tipe = tipe\n",
    "        self.tahun_produksi = tahun\n",
    "        \n",
    "    def sapa(self, nama = ''):\n",
    "        return \"Hi \" + nama\n",
    "    def beriSalam(self): # Method\n",
    "        print('_Assalamualaikum_ ... :)')\n",
    "    def getDetails(self):\n",
    "        return self.tipe, self.tahun_produksi\n",
    "\n",
    "Android18 = Robot('dbz', 2002) # __init__ dijalankan disini\n",
    "Android18.getDetails(), Android18.tipe"
   ]
  },
  {
   "cell_type": "code",
   "execution_count": 37,
   "metadata": {},
   "outputs": [
    {
     "name": "stdout",
     "output_type": "stream",
     "text": [
      "Error :  getDetails() takes 0 positional arguments but 1 was given\n"
     ]
    }
   ],
   "source": [
    "# Perhatikan pesan error berikut untuk lebih mengerti tentang self\n",
    "class Robot:\n",
    "    # __init__ akan dijalankan setiap Objek dibuat\n",
    "    def __init__(self, tipe, tahun=2020):\n",
    "        self.tipe = tipe\n",
    "        self.tahun_produksi = tahun\n",
    "        \n",
    "    def sapa(self, nama = ''):\n",
    "        return \"Hi \" + nama\n",
    "    def beriSalam(self): # Method\n",
    "        print('_Assalamualaikum_ ... :)')\n",
    "    def getDetails():\n",
    "        return self.tipe, self.tahun_produksi\n",
    "\n",
    "Android18 = Robot('dbz', 2002) # __init__ dijalankan disini\n",
    "    \n",
    "try:\n",
    "    Android18.getDetails()\n",
    "except Exception as err_:\n",
    "    print('Error : ', err_)\n",
    "# self adalah parameter input by default ... walau ndak nampak/explicitly given"
   ]
  },
  {
   "cell_type": "code",
   "execution_count": 46,
   "metadata": {},
   "outputs": [
    {
     "data": {
      "text/plain": [
       "[3, 4]"
      ]
     },
     "execution_count": 46,
     "metadata": {},
     "output_type": "execute_result"
    }
   ],
   "source": [
    "queue = []\n",
    "queue.append(3)\n",
    "queue.append(4)\n",
    "queue.append(7)\n",
    "queue.pop()\n",
    "queue"
   ]
  },
  {
   "cell_type": "markdown",
   "metadata": {},
   "source": [
    "# Attribute bisa diupdate lewat Method\n",
    "\n",
    "### Sehingga objek yang berbeda bisa dioperasikan secara berbeda bergantung metode yang didefinisikan atas objek tersebut.\n",
    "\n",
    "### Contoh List VS Set"
   ]
  },
  {
   "cell_type": "code",
   "execution_count": 38,
   "metadata": {},
   "outputs": [
    {
     "data": {
      "text/plain": [
       "([1, 2, 3, 4], {1, 2, 3, 4})"
      ]
     },
     "execution_count": 38,
     "metadata": {},
     "output_type": "execute_result"
    }
   ],
   "source": [
    "L = [1, 2, 3]\n",
    "S = {1, 2, 3}\n",
    "L.append(4); S.add(4)\n",
    "L, S"
   ]
  },
  {
   "cell_type": "code",
   "execution_count": 39,
   "metadata": {},
   "outputs": [
    {
     "data": {
      "text/plain": [
       "('DB GT', 2002)"
      ]
     },
     "execution_count": 39,
     "metadata": {},
     "output_type": "execute_result"
    }
   ],
   "source": [
    "class Robot:\n",
    "    # __init__ akan dijalankan setiap Objek dibuat\n",
    "    def __init__(self, tipe, tahun=2020):\n",
    "        self.tipe = tipe\n",
    "        self.tahun_produksi = tahun\n",
    "        \n",
    "    def sapa(self, nama = ''):\n",
    "        return \"Hi \" + nama\n",
    "    def beriSalam(self): # Method\n",
    "        print('_Assalamualaikum_ ... :)')\n",
    "    def getDetails(self):\n",
    "        return self.tipe, self.tahun_produksi\n",
    "    def gantiTipe(self, tipe):\n",
    "        self.tipe = tipe\n",
    "\n",
    "Android18 = Robot('dbz', 2002) # __init__ dijalankan disini\n",
    "Android18.gantiTipe('DB GT')\n",
    "Android18.getDetails()"
   ]
  },
  {
   "cell_type": "markdown",
   "metadata": {},
   "source": [
    "# Tapi kenapa pakai objek?\n",
    "\n",
    "### Kenapa tidak (misal):\n",
    "\n",
    "* Nama = ['Android17', 'Android18', 'Gundam']\n",
    "* tahun_produksi = [1997, 1998, 1999]\n",
    "* tipe = ['dbz', 'dbz', 'superNova']\n",
    "\n",
    "Karena:\n",
    "1. indexing-nya can be messy.\n",
    "2. Attribute dan atau Method bisa berbeda.\n",
    "3. Panjang list/array bisa berbeda (mirip JSON) ==> Note: json pada dasarnya mirip object.\n",
    "\n",
    "### Tapi kita akan coba contoh yg lebih kompleks agar lebih memahami tentang OOP "
   ]
  },
  {
   "cell_type": "code",
   "execution_count": 40,
   "metadata": {},
   "outputs": [
    {
     "data": {
      "text/plain": [
       "(True, True)"
      ]
     },
     "execution_count": 40,
     "metadata": {},
     "output_type": "execute_result"
    }
   ],
   "source": [
    "class Mahasiswa:\n",
    "    def __init__(self, nama, nilai):\n",
    "        self.nama = nama\n",
    "        self.nilai = nilai\n",
    "        \n",
    "    def nilai_mahasiswa(self):\n",
    "        return self.nilai\n",
    "\n",
    "class Kuliah:\n",
    "    def __init__(self, nama, max_mahasiswa):\n",
    "        self.nama = nama\n",
    "        self.max_mahasiswa = max_mahasiswa\n",
    "        self.mahasiswa = []\n",
    "    \n",
    "    def tambah_mahasiswa(self, nama):\n",
    "        if len(self.mahasiswa) < self.max_mahasiswa:\n",
    "            self.mahasiswa.append(nama)\n",
    "            return True\n",
    "        else:\n",
    "            return \"Error: Maaf kelas Penuh\"\n",
    "    \n",
    "m1 = Mahasiswa('Udin', 77)\n",
    "m2 = Mahasiswa('Ucok', 67)\n",
    "m3 = Mahasiswa('Asep', 87)\n",
    "\n",
    "kelas = Kuliah('Kalkulus', 2)\n",
    "kelas.tambah_mahasiswa(m1), kelas.tambah_mahasiswa(m2)"
   ]
  },
  {
   "cell_type": "code",
   "execution_count": 41,
   "metadata": {},
   "outputs": [
    {
     "data": {
      "text/plain": [
       "'Error: Maaf kelas Penuh'"
      ]
     },
     "execution_count": 41,
     "metadata": {},
     "output_type": "execute_result"
    }
   ],
   "source": [
    "kelas.tambah_mahasiswa(m3)"
   ]
  },
  {
   "cell_type": "code",
   "execution_count": 42,
   "metadata": {},
   "outputs": [
    {
     "data": {
      "text/plain": [
       "[<__main__.Mahasiswa at 0x279716387f0>, <__main__.Mahasiswa at 0x27971638748>]"
      ]
     },
     "execution_count": 42,
     "metadata": {},
     "output_type": "execute_result"
    }
   ],
   "source": [
    "# Akses mahasiswa di \"kelas\"?\n",
    "kelas.mahasiswa\n",
    "# List of Objects!\n",
    "# tapi kemudian"
   ]
  },
  {
   "cell_type": "code",
   "execution_count": 43,
   "metadata": {},
   "outputs": [
    {
     "data": {
      "text/plain": [
       "'Udin'"
      ]
     },
     "execution_count": 43,
     "metadata": {},
     "output_type": "execute_result"
    }
   ],
   "source": [
    "kelas.mahasiswa[0].nama\n",
    "# karena elemen list adalah object .... "
   ]
  },
  {
   "cell_type": "code",
   "execution_count": 44,
   "metadata": {},
   "outputs": [
    {
     "data": {
      "text/plain": [
       "(True, True)"
      ]
     },
     "execution_count": 44,
     "metadata": {},
     "output_type": "execute_result"
    }
   ],
   "source": [
    "# Tambah fungsi rata-rata nilai kelas\n",
    "\n",
    "class Mahasiswa:\n",
    "    def __init__(self, nama, nilai):\n",
    "        self.nama = nama\n",
    "        self.nilai = nilai\n",
    "        \n",
    "    def nilai_mahasiswa(self):\n",
    "        return self.nilai\n",
    "\n",
    "class Kuliah:\n",
    "    def __init__(self, nama, max_mahasiswa):\n",
    "        self.nama = nama\n",
    "        self.max_mahasiswa = max_mahasiswa\n",
    "        self.mahasiswa = []\n",
    "    \n",
    "    def tambah_mahasiswa(self, nama):\n",
    "        if len(self.mahasiswa) < self.max_mahasiswa:\n",
    "            self.mahasiswa.append(nama)\n",
    "            return True\n",
    "        else:\n",
    "            return \"Error: Maaf kelas Penuh\"\n",
    "    def rerata_nilai(self):\n",
    "        sum_ = 0 \n",
    "        for siswa in self.mahasiswa:\n",
    "            sum_ += siswa.nilai_mahasiswa()\n",
    "            # perhatikan disini kita melakukan ini karena siswa adalah objek\n",
    "            # objek siswa punya methode \"nilai_mahasiswa\"\n",
    "        return sum_/len(self.mahasiswa)\n",
    "    \n",
    "m1 = Mahasiswa('Udin', 77)\n",
    "m2 = Mahasiswa('Ucok', 67)\n",
    "m3 = Mahasiswa('Asep', 87)\n",
    "\n",
    "kelas = Kuliah('Kalkulus', 2)\n",
    "kelas.tambah_mahasiswa(m1), kelas.tambah_mahasiswa(m2)"
   ]
  },
  {
   "cell_type": "code",
   "execution_count": 45,
   "metadata": {},
   "outputs": [
    {
     "data": {
      "text/plain": [
       "('Nilai rata-rata kelas ', 'Kalkulus', ' adalah = ', 72.0)"
      ]
     },
     "execution_count": 45,
     "metadata": {},
     "output_type": "execute_result"
    }
   ],
   "source": [
    "'Nilai rata-rata kelas ', kelas.nama, ' adalah = ', kelas.rerata_nilai()"
   ]
  },
  {
   "cell_type": "markdown",
   "metadata": {},
   "source": [
    "# Perhatikan dengan konsep OOP\n",
    "\n",
    "* Tidak peduli banyak mahasiswa/kelas/cara menghitung nilai jadi lebih mudah dalam organize code-nya.\n",
    "\n",
    "## Di kuliah berikutnya kita akan membahas \"Inheritance\"\n",
    "\n",
    "<img alt=\"\" src=\"images/Types-of-Inheritance.jpg\"/>\n",
    "\n",
    "### image source: https://www.edureka.co/blog/object-oriented-programming-python/"
   ]
  },
  {
   "cell_type": "markdown",
   "metadata": {
    "slideshow": {
     "slide_type": "slide"
    }
   },
   "source": [
    "<h1 id=\"End-of-Modul-I.\">End of Module</h1>\n",
    "<hr>"
   ]
  }
 ],
 "metadata": {
  "celltoolbar": "Slideshow",
  "kernelspec": {
   "display_name": "Python 3",
   "language": "python",
   "name": "python3"
  },
  "language_info": {
   "codemirror_mode": {
    "name": "ipython",
    "version": 3
   },
   "file_extension": ".py",
   "mimetype": "text/x-python",
   "name": "python",
   "nbconvert_exporter": "python",
   "pygments_lexer": "ipython3",
   "version": "3.6.8"
  }
 },
 "nbformat": 4,
 "nbformat_minor": 2
}
