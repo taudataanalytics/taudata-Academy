{
 "cells": [
  {
   "cell_type": "markdown",
   "metadata": {
    "slideshow": {
     "slide_type": "slide"
    }
   },
   "source": [
    "<center><h1><strong>tau-data Indonesia</strong></h1></center>\n",
    "<center><h2><strong><font color=\"blue\">Pendahuluan SQL dasar untuk Data Science - 01</font></strong></h2></center>\n",
    "<img alt=\"\" src=\"images/cover.jpg\" />\n",
    "\n",
    "<b><center>(C) Taufik Sutanto</center>\n",
    "    <center><h3><font color=\"blue\">https://tau-data.id/dfds-01/</font></h3></center>"
   ]
  },
  {
   "cell_type": "markdown",
   "metadata": {
    "slideshow": {
     "slide_type": "slide"
    }
   },
   "source": [
    "# Instalasi:\n",
    "\n",
    "* XAMPP: https://www.apachefriends.org/download.html\n",
    "* IBM Watson: https://www.ibm.com/cloud/sql-query\n",
    "\n",
    "## PHPMyAdmin: Obat Sakit Kepala\n",
    "* http://localhost/phpmyadmin/index.php"
   ]
  },
  {
   "cell_type": "code",
   "execution_count": null,
   "metadata": {
    "scrolled": true,
    "slideshow": {
     "slide_type": "slide"
    }
   },
   "outputs": [],
   "source": [
    "!pip install --upgrade mysql-connector-python"
   ]
  },
  {
   "cell_type": "code",
   "execution_count": null,
   "metadata": {
    "scrolled": true,
    "slideshow": {
     "slide_type": "fragment"
    }
   },
   "outputs": [],
   "source": [
    "import mysql.connector as mysql\n",
    "import pandas as pd\n",
    "from time import time"
   ]
  },
  {
   "cell_type": "markdown",
   "metadata": {
    "slideshow": {
     "slide_type": "slide"
    }
   },
   "source": [
    "# Koneksi ke MySQL lokal"
   ]
  },
  {
   "cell_type": "code",
   "execution_count": null,
   "metadata": {
    "scrolled": true,
    "slideshow": {
     "slide_type": "slide"
    }
   },
   "outputs": [],
   "source": [
    "par = {'db_': 'fga', 'usr':'root', 'pas':'', 'hst':'localhost'}"
   ]
  },
  {
   "cell_type": "markdown",
   "metadata": {},
   "source": [
    "# Mitra tau-data silahkan menggunakan server cloud tau-data Indonesia.\n",
    "\n",
    "## Credentials akan diberikan lewat jalur private"
   ]
  },
  {
   "cell_type": "code",
   "execution_count": null,
   "metadata": {
    "scrolled": true,
    "slideshow": {
     "slide_type": "fragment"
    }
   },
   "outputs": [],
   "source": [
    "par['db_'], par['hst']"
   ]
  },
  {
   "cell_type": "code",
   "execution_count": null,
   "metadata": {
    "scrolled": true,
    "slideshow": {
     "slide_type": "slide"
    }
   },
   "outputs": [],
   "source": [
    "def conMql(dbPar, maxTry=3):\n",
    "    try_ = 0\n",
    "    while try_<maxTry:\n",
    "        try:\n",
    "            return mysql.connect(host=dbPar['hst'],user=dbPar['usr'],passwd=dbPar['pas'],db=dbPar['db_'])\n",
    "        except (mysql.Error) as e:      \n",
    "            print (\"Error Connecting to MySQL %d: %s, please wait retrying\" % (e.args[0],e.args[1]))\n",
    "            try_ += 1; time.sleep(1)"
   ]
  },
  {
   "cell_type": "code",
   "execution_count": null,
   "metadata": {},
   "outputs": [],
   "source": [
    "db = conMql(par)\n",
    "db"
   ]
  },
  {
   "cell_type": "markdown",
   "metadata": {
    "slideshow": {
     "slide_type": "slide"
    }
   },
   "source": [
    "# Catatan:\n",
    "\n",
    "* Buka PHPMyAdmin ==> Generate Query untuk membantu pemula di Query Dasar\n",
    "* \"Bisa karena terbiasa\" ==> jangan hawatir untuk \"mengingat\""
   ]
  },
  {
   "cell_type": "code",
   "execution_count": null,
   "metadata": {
    "scrolled": true,
    "slideshow": {
     "slide_type": "slide"
    }
   },
   "outputs": [],
   "source": [
    "qry = \"CREATE TABLE `mahasiswa` ( `nim` VARCHAR(12) NOT NULL COMMENT 'Nomer Induk Mahasiswa' , \\\n",
    "       `nama_lengkap` VARCHAR(255) CHARACTER SET utf8 COLLATE utf8_general_ci NOT NULL COMMENT \\\n",
    "       'Nama Lengkap' , `jenis_kelamin` VARCHAR(1) CHARACTER SET ascii COLLATE ascii_general_ci \\\n",
    "       NOT NULL COMMENT 'Jenis Kelamin P atau W' , `angkatan` YEAR NOT NULL COMMENT \\\n",
    "       'Tahun Masuk UIN Jakarta' , PRIMARY KEY (`nim`)) \\\n",
    "       ENGINE = MyISAM CHARSET=utf8 COLLATE utf8_general_ci COMMENT = 'Tabel Mahasiswa UIN Jakarta';\"\n",
    "db = conMql(par)\n",
    "cur = db.cursor()\n",
    "res = cur.execute(qry)\n",
    "cur.close()\n",
    "db.close()\n",
    "res"
   ]
  },
  {
   "cell_type": "code",
   "execution_count": null,
   "metadata": {},
   "outputs": [],
   "source": [
    "qry = \"SHOW TABLES\"\n",
    "db = conMql(par)\n",
    "cur = db.cursor()\n",
    "cur.execute(qry)\n",
    "data = cur.fetchall() # lakukan Pagination untuk data yang sangat besar\n",
    "cur.close(); db.close()\n",
    "\n",
    "data"
   ]
  },
  {
   "cell_type": "markdown",
   "metadata": {
    "slideshow": {
     "slide_type": "slide"
    }
   },
   "source": [
    "# Catatan:\n",
    "\n",
    "* Di dunia nyata \"jenis kelamin\"/gender .. Most likely Boolean.\n",
    "* Module ini untuk Data Scientist (bukan Data Engineer), untuk sementara waktu kita hiraukan terlebih dahulu.\n",
    "\n",
    "## Well-known Engine:\n",
    "* MyISAM\n",
    "* InnoDB\n",
    "* memory"
   ]
  },
  {
   "cell_type": "code",
   "execution_count": null,
   "metadata": {
    "scrolled": true,
    "slideshow": {
     "slide_type": "slide"
    }
   },
   "outputs": [],
   "source": [
    "qry = \"INSERT INTO `mahasiswa` (`nim`, `nama_lengkap`, `angkatan`, `jenis_kelamin`) \\\n",
    "       VALUES ('1234', 'bambang', '2016', 'P'), ('1235', 'Wati', '2017', 'W'), \\\n",
    "       ('1239', 'Iwan', '2017', 'P');\"\n",
    "db = conMql(par)\n",
    "cur = db.cursor()\n",
    "result = cur.execute(qry)\n",
    "cur.close()\n",
    "db.close()"
   ]
  },
  {
   "cell_type": "code",
   "execution_count": null,
   "metadata": {
    "scrolled": true,
    "slideshow": {
     "slide_type": "slide"
    }
   },
   "outputs": [],
   "source": [
    "qry = \"SELECT * FROM mahasiswa\"\n",
    "\n",
    "db = conMql(par)\n",
    "cur = db.cursor()\n",
    "cur.execute(qry)\n",
    "data = cur.fetchall() # lakukan Pagination untuk data yang sangat besar\n",
    "cur.close(); db.close()"
   ]
  },
  {
   "cell_type": "code",
   "execution_count": null,
   "metadata": {
    "slideshow": {
     "slide_type": "fragment"
    }
   },
   "outputs": [],
   "source": [
    "data"
   ]
  },
  {
   "cell_type": "markdown",
   "metadata": {
    "scrolled": true,
    "slideshow": {
     "slide_type": "slide"
    }
   },
   "source": [
    "# More Practical Way untuk Data Scientist/Analyst: Use Pandas\n"
   ]
  },
  {
   "cell_type": "code",
   "execution_count": null,
   "metadata": {
    "slideshow": {
     "slide_type": "slide"
    }
   },
   "outputs": [],
   "source": [
    "qry = \"SELECT * FROM mahasiswa\"\n",
    "\n",
    "db = conMql(par)\n",
    "data = pd.read_sql(qry, db)\n"
   ]
  },
  {
   "cell_type": "code",
   "execution_count": null,
   "metadata": {},
   "outputs": [],
   "source": [
    "data.head()"
   ]
  },
  {
   "cell_type": "markdown",
   "metadata": {
    "slideshow": {
     "slide_type": "slide"
    }
   },
   "source": [
    "# Contoh Data\n",
    "\n",
    "<img alt=\"\" src=\"images/qry_joins_01.png\" />"
   ]
  },
  {
   "cell_type": "code",
   "execution_count": null,
   "metadata": {
    "slideshow": {
     "slide_type": "slide"
    }
   },
   "outputs": [],
   "source": [
    "# Create Table 2\n",
    "qry = \"CREATE TABLE committees (committee_id INT AUTO_INCREMENT, name VARCHAR(100), PRIMARY KEY (committee_id));\"\n",
    "db = conMql(par)\n",
    "cur = db.cursor()\n",
    "res = cur.execute(qry)\n",
    "cur.close(); db.close()\n",
    "'Done'"
   ]
  },
  {
   "cell_type": "code",
   "execution_count": null,
   "metadata": {
    "slideshow": {
     "slide_type": "slide"
    }
   },
   "outputs": [],
   "source": [
    "# Create Table 1\n",
    "qry = \"CREATE TABLE members (member_id INT AUTO_INCREMENT, name VARCHAR(100), PRIMARY KEY (member_id))\"\n",
    "db = conMql(par)\n",
    "cur = db.cursor()\n",
    "res = cur.execute(qry)\n",
    "cur.close(); db.close()\n",
    "'Done'"
   ]
  },
  {
   "cell_type": "code",
   "execution_count": null,
   "metadata": {
    "slideshow": {
     "slide_type": "slide"
    }
   },
   "outputs": [],
   "source": [
    "# Insert Data 2\n",
    "qry = \"INSERT INTO committees (name) VALUES ('John'), ('Mary'), ('Amelia'), ('Joe')\"\n",
    "db = conMql(par)\n",
    "cur = db.cursor()\n",
    "res = cur.execute(qry)\n",
    "db.commit() # Hati-hati ... Butuh tambahan perintah ini!!!\n",
    "cur.close(); db.close()\n",
    "'Done'"
   ]
  },
  {
   "cell_type": "code",
   "execution_count": null,
   "metadata": {
    "slideshow": {
     "slide_type": "slide"
    }
   },
   "outputs": [],
   "source": [
    "# Insert Data 1\n",
    "qry = \"INSERT INTO members (name) VALUES('John'),('Jane'),('Mary'),('David'),('Amelia');\"\n",
    "db = conMql(par)\n",
    "cur = db.cursor()\n",
    "res = cur.execute(qry)\n",
    "db.commit() # Hati-hati ... Butuh tambahan perintah ini!!!\n",
    "cur.close(); db.close()\n",
    "'Done'"
   ]
  },
  {
   "cell_type": "code",
   "execution_count": null,
   "metadata": {
    "slideshow": {
     "slide_type": "slide"
    }
   },
   "outputs": [],
   "source": [
    "# Query to DataFrame\n",
    "db = conMql(par)\n",
    "query = \"SELECT * FROM committees\" # or members\n",
    "data = pd.read_sql(query, db)\n",
    "data.head()"
   ]
  },
  {
   "cell_type": "code",
   "execution_count": null,
   "metadata": {
    "slideshow": {
     "slide_type": "slide"
    }
   },
   "outputs": [],
   "source": [
    "# order by\n",
    "db = conMql(par)\n",
    "query = \"SELECT * FROM committees ORDER BY name\"\n",
    "data = pd.read_sql(query, db)\n",
    "data.head()"
   ]
  },
  {
   "cell_type": "code",
   "execution_count": null,
   "metadata": {
    "slideshow": {
     "slide_type": "slide"
    }
   },
   "outputs": [],
   "source": [
    "# add new names\n",
    "qry = \"INSERT INTO committees (name) VALUES('John'),('Mary'),('Amelia'),('Bambang');\"\n",
    "db = conMql(par)\n",
    "cur = db.cursor()\n",
    "res = cur.execute(qry)\n",
    "db.commit() # Hati-hati ... Butuh tambahan perintah ini!!!\n",
    "cur.close(); db.close()"
   ]
  },
  {
   "cell_type": "code",
   "execution_count": null,
   "metadata": {
    "slideshow": {
     "slide_type": "slide"
    }
   },
   "outputs": [],
   "source": [
    "# order by\n",
    "db = conMql(par)\n",
    "query = \"SELECT * FROM committees ORDER BY name\"\n",
    "data = pd.read_sql(query, db)\n",
    "data.head(10)"
   ]
  },
  {
   "cell_type": "code",
   "execution_count": null,
   "metadata": {
    "slideshow": {
     "slide_type": "slide"
    }
   },
   "outputs": [],
   "source": [
    "# group by\n",
    "db = conMql(par)\n",
    "query = \"SELECT * FROM committees GROUP BY name\" # or members\n",
    "data = pd.read_sql(query, db)\n",
    "data.head(10)"
   ]
  },
  {
   "cell_type": "code",
   "execution_count": null,
   "metadata": {
    "slideshow": {
     "slide_type": "slide"
    }
   },
   "outputs": [],
   "source": [
    "# Select Distinct\n",
    "db = conMql(par)\n",
    "query = \"SELECT DISTINCT(name) FROM committees\" # or members\n",
    "data = pd.read_sql(query, db)\n",
    "data.head(10)"
   ]
  },
  {
   "cell_type": "code",
   "execution_count": null,
   "metadata": {
    "slideshow": {
     "slide_type": "slide"
    }
   },
   "outputs": [],
   "source": [
    "# WHERE clause\n",
    "db = conMql(par)\n",
    "query = \"SELECT * FROM committees WHERE committee_id>4\" # or members\n",
    "data = pd.read_sql(query, db)\n",
    "data.head(10)"
   ]
  },
  {
   "cell_type": "markdown",
   "metadata": {
    "slideshow": {
     "slide_type": "slide"
    }
   },
   "source": [
    "# Search with index - Magick command"
   ]
  },
  {
   "cell_type": "code",
   "execution_count": null,
   "metadata": {
    "slideshow": {
     "slide_type": "fragment"
    }
   },
   "outputs": [],
   "source": [
    "%lsmagic"
   ]
  },
  {
   "cell_type": "code",
   "execution_count": null,
   "metadata": {
    "slideshow": {
     "slide_type": "slide"
    }
   },
   "outputs": [],
   "source": [
    "%%timeit\n",
    "\n",
    "db = conMql(par)\n",
    "query = \"SELECT * FROM committees WHERE name='John'\" # or members\n",
    "data = pd.read_sql(query, db)"
   ]
  },
  {
   "cell_type": "code",
   "execution_count": null,
   "metadata": {
    "slideshow": {
     "slide_type": "fragment"
    }
   },
   "outputs": [],
   "source": [
    "# Hati-hati var \"data\" tidak disimpan ke memori akibat penggunaan Magic Command \"timeit\""
   ]
  },
  {
   "cell_type": "markdown",
   "metadata": {
    "slideshow": {
     "slide_type": "slide"
    }
   },
   "source": [
    "# Sekarang kita coba tambahkan index di field \"name\""
   ]
  },
  {
   "cell_type": "code",
   "execution_count": null,
   "metadata": {
    "slideshow": {
     "slide_type": "fragment"
    }
   },
   "outputs": [],
   "source": [
    "qry = \"ALTER TABLE committees ADD FULLTEXT name (name);\"\n",
    "db = conMql(par)\n",
    "cur = db.cursor()\n",
    "res = cur.execute(qry)\n",
    "cur.close();db.close()\n",
    "'Done'"
   ]
  },
  {
   "cell_type": "markdown",
   "metadata": {
    "slideshow": {
     "slide_type": "slide"
    }
   },
   "source": [
    "# Sekarang kita coba Query lagi dan analisa performanya\n",
    "\n",
    "* Catt: pada data yang kecil mungkin tidak signifikan, tapi pada data yang besar sangat besar pengaruhnya."
   ]
  },
  {
   "cell_type": "code",
   "execution_count": null,
   "metadata": {
    "slideshow": {
     "slide_type": "fragment"
    }
   },
   "outputs": [],
   "source": [
    "%%timeit\n",
    "\n",
    "db = conMql(par)\n",
    "query = \"SELECT * FROM committees WHERE name LIKE '%ohn%'\" # or members\n",
    "data = pd.read_sql(query, db)"
   ]
  },
  {
   "cell_type": "code",
   "execution_count": null,
   "metadata": {
    "slideshow": {
     "slide_type": "slide"
    }
   },
   "outputs": [],
   "source": [
    "data.head()"
   ]
  },
  {
   "cell_type": "markdown",
   "metadata": {
    "slideshow": {
     "slide_type": "slide"
    }
   },
   "source": [
    "# SQL Joins\n",
    "\n",
    "Perintah JOIN dalam SQL digunakan untuk menampilkan data pada table yang saling berhubungan atau berelasi. Artinya kita dapat menampilkan data dalam beberapa table hanya dengan satu kali perintah.\n",
    "\n",
    "<img alt=\"\" src=\"images/sql_joins.jpg\" />"
   ]
  },
  {
   "cell_type": "markdown",
   "metadata": {
    "slideshow": {
     "slide_type": "slide"
    }
   },
   "source": [
    "# 1. inner Join (irisan) - Join Predicate\n",
    "\n",
    "## Membandingkan setiap baris di Tabel 1 & 2 kemudian menambahkan jika kondisi join keduanya benar (True)."
   ]
  },
  {
   "cell_type": "code",
   "execution_count": null,
   "metadata": {
    "slideshow": {
     "slide_type": "slide"
    }
   },
   "outputs": [],
   "source": [
    "# Query to DataFrame Kita lihat dulu datanya\n",
    "db = conMql(par)\n",
    "dt1 = pd.read_sql(\"SELECT * FROM committees\", db)\n",
    "dt2 = pd.read_sql(\"SELECT * FROM members\", db)\n",
    "\n",
    "pd.concat([dt1.reset_index(drop=1),dt2.reset_index(drop=1)], axis=1)"
   ]
  },
  {
   "cell_type": "code",
   "execution_count": null,
   "metadata": {
    "slideshow": {
     "slide_type": "slide"
    }
   },
   "outputs": [],
   "source": [
    "db = conMql(par)\n",
    "query = \"SELECT m.member_id, m.name member, c.committee_id, c.name committee \\\n",
    "        FROM members m \\\n",
    "        INNER JOIN committees c \\\n",
    "        ON c.name = m.name\"\n",
    "data = pd.read_sql(query, db)\n",
    "data.head(10)"
   ]
  },
  {
   "cell_type": "markdown",
   "metadata": {
    "slideshow": {
     "slide_type": "slide"
    }
   },
   "source": [
    "# LEFT JOIN \n",
    "<img alt=\"\" src=\"images/sql_joins.jpg\" />\n",
    "\n",
    "\n",
    "## Untuk setiap data dari tabel pertama (kiri/Left), buat data baru hanya jika ada padanannya di tabel kanan."
   ]
  },
  {
   "cell_type": "code",
   "execution_count": null,
   "metadata": {
    "slideshow": {
     "slide_type": "slide"
    }
   },
   "outputs": [],
   "source": [
    "# Query to DataFrame Kita lihat dulu datanya\n",
    "db = conMql(par)\n",
    "dt1 = pd.read_sql(\"SELECT * FROM committees\", db)\n",
    "dt2 = pd.read_sql(\"SELECT * FROM members\", db)\n",
    "pd.concat([dt1.reset_index(drop=1),dt2.reset_index(drop=1)], axis=1)"
   ]
  },
  {
   "cell_type": "code",
   "execution_count": null,
   "metadata": {
    "slideshow": {
     "slide_type": "slide"
    }
   },
   "outputs": [],
   "source": [
    "query = \"SELECT m.member_id, m.name member, c.committee_id, c.name committee\\\n",
    "        FROM members m\\\n",
    "        LEFT JOIN committees c USING(name)\"\n",
    "db = conMql(par)\n",
    "data = pd.read_sql(query, db)\n",
    "data.head(10)"
   ]
  },
  {
   "cell_type": "markdown",
   "metadata": {
    "slideshow": {
     "slide_type": "slide"
    }
   },
   "source": [
    "# Bisa juga\n",
    "\n",
    "* Catt hati-hati performa query\n",
    "* ini left join"
   ]
  },
  {
   "cell_type": "code",
   "execution_count": null,
   "metadata": {
    "slideshow": {
     "slide_type": "slide"
    }
   },
   "outputs": [],
   "source": [
    "query = \"SELECT member_id, name\\\n",
    "        FROM members \\\n",
    "        WHERE name IN\\\n",
    "        (SELECT name FROM committees)\"\n",
    "db = conMql(par)\n",
    "data = pd.read_sql(query, db)\n",
    "data.head(10)"
   ]
  },
  {
   "cell_type": "markdown",
   "metadata": {
    "slideshow": {
     "slide_type": "slide"
    }
   },
   "source": [
    "# CROSS JOIN\n",
    "<img alt=\"\" src=\"images/cj.png\" />\n",
    "\n",
    "\n",
    "## Tidak seperti inner, left/right, Cross Join tidak punya kondisi. CJ, menggabungkan setiap kolom di kiri dan kanan tabel. \n",
    "* Kalau tabel 1 ada N baris dan Tabel 2 ada M baris, maka CJ menghasilkan NxM baris.\n",
    "* Null tidak ikut CJ"
   ]
  },
  {
   "cell_type": "code",
   "execution_count": null,
   "metadata": {
    "slideshow": {
     "slide_type": "slide"
    }
   },
   "outputs": [],
   "source": [
    "# Query to DataFrame Kita lihat dulu datanya\n",
    "db = conMql(par)\n",
    "dt1 = pd.read_sql(\"SELECT * FROM committees\", db)\n",
    "dt2 = pd.read_sql(\"SELECT * FROM members\", db)\n",
    "pd.concat([dt1.reset_index(drop=1),dt2.reset_index(drop=1)], axis=1)"
   ]
  },
  {
   "cell_type": "code",
   "execution_count": null,
   "metadata": {
    "slideshow": {
     "slide_type": "slide"
    }
   },
   "outputs": [],
   "source": [
    "query = \"SELECT m.member_id, m.name member, c.committee_id, c.name committee\\\n",
    "        FROM members m\\\n",
    "        CROSS JOIN committees c\"\n",
    "db = conMql(par)\n",
    "data = pd.read_sql(query, db)\n",
    "data.head(30)"
   ]
  },
  {
   "cell_type": "markdown",
   "metadata": {
    "slideshow": {
     "slide_type": "slide"
    }
   },
   "source": [
    "# End of Module\n",
    "\n",
    "<img alt=\"\" src=\"images/meme_joins.png\" />"
   ]
  }
 ],
 "metadata": {
  "celltoolbar": "Slideshow",
  "kernelspec": {
   "display_name": "Python 3",
   "language": "python",
   "name": "python3"
  },
  "language_info": {
   "codemirror_mode": {
    "name": "ipython",
    "version": 3
   },
   "file_extension": ".py",
   "mimetype": "text/x-python",
   "name": "python",
   "nbconvert_exporter": "python",
   "pygments_lexer": "ipython3",
   "version": "3.6.8"
  }
 },
 "nbformat": 4,
 "nbformat_minor": 2
}
