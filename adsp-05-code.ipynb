{
 "cells": [
  {
   "cell_type": "markdown",
   "metadata": {
    "slideshow": {
     "slide_type": "slide"
    }
   },
   "source": [
    "<center><img alt=\"\" src=\"images/tau-data_banner.png\"/></center>\n",
    "<center><strong><h1>ADSP-05: Pendahuluan OOP di Python (Bagian ke-02: inheritance)</h1></strong><br />\n",
    "<img alt=\"\" src=\"images/PDS_logo.jpg\" />\n",
    "\n",
    "## (C)Taufik Sutanto\n",
    "## https://tau-data.id/adsp-05/\n"
   ]
  },
  {
   "cell_type": "markdown",
   "metadata": {},
   "source": [
    "## Contoh Class dan Object pada lesson sebelumnya:"
   ]
  },
  {
   "cell_type": "code",
   "execution_count": 1,
   "metadata": {},
   "outputs": [
    {
     "data": {
      "text/plain": [
       "(True, True)"
      ]
     },
     "execution_count": 1,
     "metadata": {},
     "output_type": "execute_result"
    }
   ],
   "source": [
    "# Tambah fungsi rata-rata nilai kelas\n",
    "\n",
    "class Mahasiswa:\n",
    "    def __init__(self, nama, nilai):\n",
    "        self.nama = nama\n",
    "        self.nilai = nilai\n",
    "        \n",
    "    def nilai_mahasiswa(self):\n",
    "        return self.nilai\n",
    "\n",
    "class Kuliah:\n",
    "    def __init__(self, nama, max_mahasiswa):\n",
    "        self.nama = nama\n",
    "        self.max_mahasiswa = max_mahasiswa\n",
    "        self.mahasiswa = []\n",
    "    \n",
    "    def tambah_mahasiswa(self, nama):\n",
    "        if len(self.mahasiswa) < self.max_mahasiswa:\n",
    "            self.mahasiswa.append(nama)\n",
    "            return True\n",
    "        else:\n",
    "            return \"Error: Maaf kelas Penuh\"\n",
    "    def rerata_nilai(self):\n",
    "        sum_ = 0 \n",
    "        for siswa in self.mahasiswa:\n",
    "            sum_ += siswa.nilai_mahasiswa()\n",
    "            # perhatikan disini kita melakukan ini karena siswa adalah objek\n",
    "            # objek siswa punya methode \"nilai_mahasiswa\"\n",
    "        return sum_/len(self.mahasiswa)\n",
    "    \n",
    "m1 = Mahasiswa('Udin', 77)\n",
    "m2 = Mahasiswa('Ucok', 67)\n",
    "m3 = Mahasiswa('Asep', 87)\n",
    "\n",
    "kelas = Kuliah('Kalkulus', 2)\n",
    "kelas.tambah_mahasiswa(m1), kelas.tambah_mahasiswa(m2)"
   ]
  },
  {
   "cell_type": "code",
   "execution_count": 2,
   "metadata": {},
   "outputs": [
    {
     "data": {
      "text/plain": [
       "('Nilai rata-rata kelas ', 'Kalkulus', ' adalah = ', 72.0)"
      ]
     },
     "execution_count": 2,
     "metadata": {},
     "output_type": "execute_result"
    }
   ],
   "source": [
    "'Nilai rata-rata kelas ', kelas.nama, ' adalah = ', kelas.rerata_nilai()"
   ]
  },
  {
   "cell_type": "markdown",
   "metadata": {},
   "source": [
    "#  Outline Lesson ADSP-05:\n",
    "\n",
    "* Inheritance\n",
    "* Super Function\n",
    "* Method Overriding/Overwriting"
   ]
  },
  {
   "cell_type": "markdown",
   "metadata": {},
   "source": [
    "# inheritance di OOP (Python)\n",
    "* Ketika *child* class diwariskan *property* dari class *parent*, maka hal ini disebut **inheritance**\n",
    "\n"
   ]
  },
  {
   "cell_type": "markdown",
   "metadata": {},
   "source": [
    "# Mengapa menggunakan inheritance?\n",
    "\n",
    "* Code reusability: bayangkan seperti \"template\".\n",
    "* Transition & Readability: Baik untuk teamwork.\n",
    "* Realworld Relationship: Hubungan antar class/objects"
   ]
  },
  {
   "cell_type": "code",
   "execution_count": 3,
   "metadata": {},
   "outputs": [
    {
     "name": "stdout",
     "output_type": "stream",
     "text": [
      "ini fungsi di orang tua\n",
      "ini fungsi di anak\n"
     ]
    },
    {
     "data": {
      "text/plain": [
       "(None, None)"
      ]
     },
     "execution_count": 3,
     "metadata": {},
     "output_type": "execute_result"
    }
   ],
   "source": [
    "# Contoh paling sederhana inheritance\n",
    "class Ortu:\n",
    "    def pungsi1(self):\n",
    "        print(\"ini fungsi di orang tua\")\n",
    "         \n",
    "class Anak(Ortu):\n",
    "    def pungsi2(self):\n",
    "        print(\"ini fungsi di anak\")\n",
    "        \n",
    "sulung = Anak()\n",
    "# PERHATIKAN \"sulung\" memiliki fungsi dari \"Ortu\"\n",
    "sulung.pungsi1(), sulung.pungsi2()"
   ]
  },
  {
   "cell_type": "code",
   "execution_count": 4,
   "metadata": {},
   "outputs": [
    {
     "name": "stdout",
     "output_type": "stream",
     "text": [
      "Nama = Budi, Umur = 5, anak Ke-2\n"
     ]
    }
   ],
   "source": [
    "# Menggunakan init seperti lesson sebelumnya (ADSP-04)\n",
    "class Ortu:\n",
    "    def __init__(self, nama='Bambang', umur='40'):\n",
    "        self.nama = nama\n",
    "        self.umur = umur\n",
    "    def pungsi1(self):\n",
    "        print(\"ini fungsi di orang tua\")\n",
    "    def info(self):# Method dari class seperti Lesson sebelumnya\n",
    "        print(\"Nama = {}, Umur = {}\".format(self.nama, self.umur))\n",
    "        \n",
    "class Anak(Ortu):\n",
    "    def __init__(self, nama, umur, anakKe):\n",
    "        Ortu.__init__(self, nama, umur)\n",
    "        self.anakKe = anakKe\n",
    "    def pungsi2(self):\n",
    "        print(\"ini fungsi di anak\")\n",
    "    def info(self):\n",
    "        print(\"Nama = {}, Umur = {}, anak Ke-{}\".format(self.nama, self.umur, self.anakKe))\n",
    "        \n",
    "sulung = Anak(\"Budi\", 5, 2) # Property/Method \"Ortu\" di OVERWRITE oleh \"Anak\"\n",
    "print(sulung.info())"
   ]
  },
  {
   "cell_type": "code",
   "execution_count": 5,
   "metadata": {},
   "outputs": [
    {
     "name": "stdout",
     "output_type": "stream",
     "text": [
      "ini fungsi di Ayah\n",
      "ini fungsi di Ibu\n",
      "None None\n"
     ]
    }
   ],
   "source": [
    " # Contoh Multiple Inheritance\n",
    "class Ayah:\n",
    "    def __init__(self, nama='Bambang', umur='40'):\n",
    "        self.nama = nama\n",
    "        self.umur = umur\n",
    "    def pungsiAyah(self):\n",
    "        print(\"ini fungsi di Ayah\")\n",
    "    def info(self):\n",
    "        print(\"Nama = {}, Umur = {}\".format(self.nama, self.umur))\n",
    "\n",
    "class Ibu:\n",
    "    def __init__(self, nama='Wati', umur='40'):\n",
    "        self.nama = nama\n",
    "        self.umur = umur\n",
    "    def pungsiIbu(self):\n",
    "        print(\"ini fungsi di Ibu\")\n",
    "    def info(self):# Method dari class seperti kuliah sebelumnya\n",
    "        print(\"Nama = {}, Umur = {}\".format(self.nama, self.umur))\n",
    "        \n",
    "class Anak(Ayah, Ibu):\n",
    "    def __init__(self, nama, umur, anakKe):\n",
    "        Ayah.__init__(self, nama, umur)\n",
    "        self.anakKe = anakKe\n",
    "    def pungsiAnak(self):\n",
    "        print(\"ini fungsi di anak\")\n",
    "    def info(self):\n",
    "        print(\"Nama = {}, Umur = {}, anak Ke-{}\".format(self.nama, self.umur, self.anakKe))\n",
    "        \n",
    "sulung = Anak(\"Budi\", 5, 2) # Property/method \"Ayah & Ibu\" diwariskan ke \"Anak\"\n",
    "print(sulung.pungsiAyah(), sulung.pungsiIbu())"
   ]
  },
  {
   "cell_type": "code",
   "execution_count": 7,
   "metadata": {},
   "outputs": [
    {
     "name": "stdout",
     "output_type": "stream",
     "text": [
      "ini fungsi di Kakek\n",
      "None\n"
     ]
    }
   ],
   "source": [
    " # Contoh Multilevel Inheritance\n",
    "class Kakek:\n",
    "    def __init__(self, nama='Iwan', umur='40'):\n",
    "        self.nama = nama\n",
    "        self.umur = umur\n",
    "    def pungsiKakek(self):\n",
    "        print(\"ini fungsi di Kakek\")\n",
    "    def info(self):# Method dari class seperti kuliah sebelumnya\n",
    "        print(\"Nama = {}, Umur = {}\".format(self.nama, self.umur))\n",
    "\n",
    "class Ortu(Kakek):\n",
    "    def __init__(self, nama='Parto', umur='40'):\n",
    "        self.nama = nama\n",
    "        self.umur = umur\n",
    "    def pungsiOrtu(self):\n",
    "        print(\"ini fungsi di Ortu\")\n",
    "    def info(self):\n",
    "        print(\"Nama = {}, Umur = {}\".format(self.nama, self.umur))\n",
    "        \n",
    "class Anak(Ortu): \n",
    "    def __init__(self, nama, umur, anakKe):\n",
    "        Ayah.__init__(self, nama, umur)\n",
    "        self.anakKe = anakKe\n",
    "    def pungsiAnak(self):\n",
    "        print(\"ini fungsi di anak\")\n",
    "    def info(self):\n",
    "        print(\"Nama = {}, Umur = {}, anak Ke-{}\".format(self.nama, self.umur, self.anakKe))\n",
    "        \n",
    "sulung = Anak(\"Budi\", 5, 2) # Property/method \"Ortu dan Kakek\" diwariskan ke \"Anak\"\n",
    "print(sulung.pungsiKakek())"
   ]
  },
  {
   "cell_type": "code",
   "execution_count": 11,
   "metadata": {},
   "outputs": [
    {
     "name": "stdout",
     "output_type": "stream",
     "text": [
      "ini fungsi di Paman\n",
      "ini fungsi di Kakek\n",
      "None None\n"
     ]
    }
   ],
   "source": [
    " # Contoh Hierarchical Multilevel\n",
    "class Kakek:\n",
    "    def __init__(self, nama='Iwan', umur='40'):\n",
    "        self.nama = nama\n",
    "        self.umur = umur\n",
    "    def pungsiKakek(self):\n",
    "        print(\"ini fungsi di Kakek\")\n",
    "    def info(self):\n",
    "        print(\"Nama = {}, Umur = {}\".format(self.nama, self.umur))\n",
    "\n",
    "class Ortu(Kakek):\n",
    "    def __init__(self, nama='Parto', umur='40'):\n",
    "        self.nama = nama\n",
    "        self.umur = umur\n",
    "    def pungsiOrtu(self):\n",
    "        print(\"ini fungsi di Ortu\")\n",
    "    def info(self):\n",
    "        print(\"Nama = {}, Umur = {}\".format(self.nama, self.umur))\n",
    "\n",
    "class Paman():\n",
    "    def __init__(self, nama='Parto', umur='40'):\n",
    "        self.nama = nama\n",
    "        self.umur = umur\n",
    "    def pungsiPaman(self):\n",
    "        print(\"ini fungsi di Paman\")\n",
    "    def info(self):\n",
    "        print(\"Nama = {}, Umur = {}\".format(self.nama, self.umur))\n",
    "        \n",
    "class Anak(Paman, Ortu): \n",
    "    def __init__(self, nama, umur, anakKe):\n",
    "        Paman.__init__(self, nama, umur)\n",
    "        self.anakKe = anakKe\n",
    "    def pungsiAnak(self):\n",
    "        print(\"ini fungsi di anak\")\n",
    "    def info(self):\n",
    "        print(\"Nama = {}, Umur = {}, anak Ke-{}\".format(self.nama, self.umur, self.anakKe))\n",
    "        \n",
    "sulung = Anak(\"Budi\", 5, 2) \n",
    "print(sulung.pungsiPaman(), sulung.pungsiKakek())\n"
   ]
  },
  {
   "cell_type": "markdown",
   "metadata": {},
   "source": [
    "# Super Function"
   ]
  },
  {
   "cell_type": "code",
   "execution_count": 12,
   "metadata": {},
   "outputs": [
    {
     "name": "stdout",
     "output_type": "stream",
     "text": [
      "ini fungsi di Ortu\n",
      "ini di dalam fungsi Anak\n"
     ]
    }
   ],
   "source": [
    "class Ortu():\n",
    "    def pungsiOrtu(self):\n",
    "        print(\"ini fungsi di Ortu\")\n",
    "        \n",
    "class Anak(Ortu):\n",
    "    def pungsiAnak(self):\n",
    "        super().pungsiOrtu()\n",
    "        print(\"ini di dalam fungsi Anak\")\n",
    "\n",
    "sulung = Anak()\n",
    "sulung.pungsiAnak()"
   ]
  },
  {
   "cell_type": "markdown",
   "metadata": {},
   "source": [
    "# Method Overriding/Overwriting\n",
    "\n",
    "* MO merubah fungsi di class Parent."
   ]
  },
  {
   "cell_type": "code",
   "execution_count": 13,
   "metadata": {},
   "outputs": [
    {
     "name": "stdout",
     "output_type": "stream",
     "text": [
      "ini di dalam fungsi Anak\n"
     ]
    }
   ],
   "source": [
    "class Ortu():\n",
    "    def pungsi(self):\n",
    "        print(\"ini fungsi di Ortu\")\n",
    "        \n",
    "class Anak(Ortu):\n",
    "    def pungsi(self): # Perhatikan Nama fungsi Sama\n",
    "        print(\"ini di dalam fungsi Anak\")\n",
    "\n",
    "sulung = Anak()\n",
    "sulung.pungsi()"
   ]
  },
  {
   "cell_type": "markdown",
   "metadata": {
    "slideshow": {
     "slide_type": "slide"
    }
   },
   "source": [
    "# End of Module\n",
    "<hr>"
   ]
  }
 ],
 "metadata": {
  "celltoolbar": "Slideshow",
  "kernelspec": {
   "display_name": "Python 3",
   "language": "python",
   "name": "python3"
  },
  "language_info": {
   "codemirror_mode": {
    "name": "ipython",
    "version": 3
   },
   "file_extension": ".py",
   "mimetype": "text/x-python",
   "name": "python",
   "nbconvert_exporter": "python",
   "pygments_lexer": "ipython3",
   "version": "3.6.8"
  }
 },
 "nbformat": 4,
 "nbformat_minor": 2
}
