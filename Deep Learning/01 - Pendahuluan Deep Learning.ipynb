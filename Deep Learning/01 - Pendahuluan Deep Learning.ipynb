{
 "cells": [
  {
   "cell_type": "markdown",
   "id": "79ea223f",
   "metadata": {},
   "source": [
    "<center><h1><strong>taudata Analytics</strong></h1></center>\n",
    "<center><h2><strong><font color=\"blue\">01 - Pendahuluan Deep Learning</font></strong></h2></center>\n",
    "<img alt=\"\" src=\"images/covers/0_Cover.jpg\"/>\n",
    "\n",
    "<b><center>(C) Taufik Sutanto</center>\n",
    "<center><h3><font color=\"blue\">https://taudataid.github.io/dl01/</font></h3></center>"
   ]
  },
  {
   "cell_type": "markdown",
   "id": "cf73ee6e",
   "metadata": {},
   "source": [
    "Pendahuluan Deep Learning\n",
    "\t- Machine Learning to Deep learning (Chapter 02)\n",
    "\t- Chapter 03\n",
    "    \n",
    "    "
   ]
  },
  {
   "cell_type": "markdown",
   "id": "3a26d117",
   "metadata": {},
   "source": [
    "OUTLINE: \n",
    "    \n",
    "* Video 01: Pendahuluan Deep Learning\n",
    "\t- Machine Learning to Deep learning (Chapter 02)\n",
    "\t- Chapter 03\n",
    "* Video 02: Deep Learning Tools (chapter 01 & 04\n",
    "\t- Why Python ==> ref to video\n",
    "\t- Tensorflow VS Pytorch featuring others\n",
    "\t- Instalasi, hardware\n",
    "\t- Complimentary Libraries (Chapter 04)\n",
    "\t- Google Colab (kaggle)\n",
    "* Video 03: Kenalan dengan TensorFlow 2 (Chapter 05)\n",
    "* Video 04: Feed Forward Neural Network (Chapter 06)\n",
    "* Video 05: CNN - Convolutional Neural Networks (Chapter 07)\n",
    "* Videos 06: RNN - Recurrent Neural Networks (Chapter 08)\n",
    "* Videos 07: Autoencoders - Chapter 11\n",
    "* Videos 08: GAN -  Generative Adversarial Network    "
   ]
  },
  {
   "cell_type": "code",
   "execution_count": null,
   "id": "ea4194c6",
   "metadata": {},
   "outputs": [],
   "source": []
  },
  {
   "cell_type": "markdown",
   "id": "2a3e9c84",
   "metadata": {},
   "source": [
    "NEXT\n",
    "\n",
    "02: Deep Learning Tools (chapter 01 & 04\n",
    "\t- Why Python ==> ref to video\n",
    "\t- Tensorflow VS Pytorch featuring others\n",
    "\t- Instalasi, hardware\n",
    "\t- Complimentary Libraries (Chapter 04)\n",
    "\t- Google Colab (kaggle)"
   ]
  }
 ],
 "metadata": {
  "kernelspec": {
   "display_name": "Python 3 (ipykernel)",
   "language": "python",
   "name": "python3"
  },
  "language_info": {
   "codemirror_mode": {
    "name": "ipython",
    "version": 3
   },
   "file_extension": ".py",
   "mimetype": "text/x-python",
   "name": "python",
   "nbconvert_exporter": "python",
   "pygments_lexer": "ipython3",
   "version": "3.9.11"
  }
 },
 "nbformat": 4,
 "nbformat_minor": 5
}
