{
 "cells": [
  {
   "cell_type": "markdown",
   "metadata": {
    "slideshow": {
     "slide_type": "slide"
    }
   },
   "source": [
    "# <center><font color=\"blue\">Fresh Graduate Academy 2021</font></center><br>Dasar Matematika untuk Kecerdasan Artifisial\n",
    "\n",
    "## https://bit.ly/mathAI-27072021\n",
    "\n",
    "### Taufik Sutanto - https://tau-data.id"
   ]
  },
  {
   "cell_type": "markdown",
   "metadata": {
    "slideshow": {
     "slide_type": "slide"
    }
   },
   "source": [
    "# <center><font color=\"blue\">Outline\n",
    "* Set and Logics\n",
    "* **Linear Algebra**\n",
    " * Introduction Linear Algebra and AI\n",
    " * Matrix Operations\n",
    " * System of Linear Equations\n",
    " * Eigenvalues\n",
    " * Matrix Decomposition\n",
    "* **Calculus**\n",
    " * Introduction: Calculus and AI\n",
    " * fungsi, turunan, dan nilai Optimal\n",
    "* **Probability**\n",
    " * Central Measures and data disperity\n",
    " * Simple visualisations\n",
    " * Probability and probability Distributions\n",
    " * Generalizations : Training-testing data & Cross Validation\n",
    " * Optimal Parameter & Inductive Bias\n",
    "    \n",
    "Catt: Disertai kasus di Python"
   ]
  },
  {
   "cell_type": "code",
   "execution_count": 23,
   "metadata": {
    "slideshow": {
     "slide_type": "slide"
    }
   },
   "outputs": [
    {
     "data": {
      "text/plain": [
       "(2,\n",
       " 3.4,\n",
       " 'teks',\n",
       " True,\n",
       " [1, 2, 3],\n",
       " (5, 6, 7),\n",
       " {9, 10, 11},\n",
       " {1: 'satu', 2: 'dua', 3: 'tiga'})"
      ]
     },
     "execution_count": 23,
     "metadata": {},
     "output_type": "execute_result"
    }
   ],
   "source": [
    "# Sebelum dimulai: Struktur data dasar di Python \n",
    "# Di Python variabel tidak perlu deklarasi (seperti matlab)\n",
    "a = 2                                   # integer\n",
    "b = 3.4                                 # Float\n",
    "c = 'teks'                              # String\n",
    "d = True                                # Boolean\n",
    "e = [1,2,3]                             # List\n",
    "f = (5,6,7)                             # Tuple\n",
    "g = {9, 10, 11}                         # Set\n",
    "h = {1:\"satu\", 2:\"dua\", 3:\"tiga\"}       # Dictionary\n",
    "\n",
    "a,b,c,d,e,f,g,h"
   ]
  },
  {
   "cell_type": "code",
   "execution_count": 24,
   "metadata": {
    "slideshow": {
     "slide_type": "slide"
    }
   },
   "outputs": [
    {
     "name": "stdout",
     "output_type": "stream",
     "text": [
      "5\n"
     ]
    },
    {
     "data": {
      "text/plain": [
       "'tiga'"
      ]
     },
     "execution_count": 24,
     "metadata": {},
     "output_type": "execute_result"
    }
   ],
   "source": [
    "print(f[0])\n",
    "h[3]"
   ]
  },
  {
   "cell_type": "markdown",
   "metadata": {},
   "source": [
    "# <center><font color=\"blue\"> Sebelum Kita Mulai\n",
    "    \n",
    "# Apa yang dipelajari di Matematika (e.g. Kalkulus dan Aljabar Linear) pada dasarnya berbeda dengan Matematika ketika di aplikasikan di Komputer\n",
    "    \n",
    "# <center><font color=\"Red\"> Really? Mengapa? "
   ]
  },
  {
   "cell_type": "markdown",
   "metadata": {},
   "source": [
    "<img alt=\"\" src=\"images/Binary2Decimal.png\"/>"
   ]
  },
  {
   "cell_type": "code",
   "execution_count": 5,
   "metadata": {},
   "outputs": [
    {
     "name": "stdout",
     "output_type": "stream",
     "text": [
      "0b10011100\n",
      "0b1000\n",
      "64\n"
     ]
    }
   ],
   "source": [
    "#### Contoh konversi desimal ke bilangan binari di Python\n",
    "print( bin(156) )\n",
    "print( bin(8))\n",
    "# Contoh konversi bilangan binari ke desimal di Python\n",
    "print( int('1000', 4) )"
   ]
  },
  {
   "cell_type": "markdown",
   "metadata": {},
   "source": [
    "# Why learning the base of numbers important?\n",
    "## Let's calculate this:using computer (Python)\n",
    "# $\\sum_{n=1}^{10^6}0.1$\n",
    "## What is the expected result?"
   ]
  },
  {
   "cell_type": "code",
   "execution_count": 6,
   "metadata": {
    "slideshow": {
     "slide_type": "slide"
    }
   },
   "outputs": [
    {
     "name": "stdout",
     "output_type": "stream",
     "text": [
      "100000.00000133288\n"
     ]
    }
   ],
   "source": [
    "# Here is the result according to Python\n",
    "dSum = 0 \n",
    "for i in range(10**6): # ini artinya for i dari 0 sampai (10^6)-1\n",
    "    dSum = dSum + 0.1 # or \"dSum += 0.1\"\n",
    "print(dSum)\n",
    "# is the result correct? Why?"
   ]
  },
  {
   "cell_type": "code",
   "execution_count": 7,
   "metadata": {
    "slideshow": {
     "slide_type": "slide"
    }
   },
   "outputs": [
    {
     "data": {
      "text/plain": [
       "sys.float_info(max=1.7976931348623157e+308, max_exp=1024, max_10_exp=308, min=2.2250738585072014e-308, min_exp=-1021, min_10_exp=-307, dig=15, mant_dig=53, epsilon=2.220446049250313e-16, radix=2, rounds=1)"
      ]
     },
     "execution_count": 7,
     "metadata": {},
     "output_type": "execute_result"
    }
   ],
   "source": [
    "# System floating point di Python\n",
    "import sys\n",
    "sys.float_info"
   ]
  },
  {
   "cell_type": "markdown",
   "metadata": {
    "slideshow": {
     "slide_type": "slide"
    }
   },
   "source": [
    "<p><img alt=\"\" src=\"images/Float_Info.PNG\" style=\"width: 550px; height: 406px;\" /></p>\n"
   ]
  },
  {
   "cell_type": "markdown",
   "metadata": {
    "slideshow": {
     "slide_type": "slide"
    }
   },
   "source": [
    "<h1 id=\"Tapi-jika-pakai-modul-&quot;Numpy&quot;\">Tapi jika pakai modul &quot;Numpy&quot;</h1>\n",
    "\n",
    "<p><a href=\"https://docs.scipy.org/doc/numpy/user/basics.types.html\" target=\"_blank\">https://docs.scipy.org/doc/numpy/user/basics.types.html</a></p>\n",
    "\n",
    "<p><img alt=\"\" src=\"images/Numpy_Types.png\" style=\"width: 500px; height: 363px;\" /></p>\n"
   ]
  },
  {
   "cell_type": "markdown",
   "metadata": {
    "slideshow": {
     "slide_type": "slide"
    }
   },
   "source": [
    "<h1>Computer can&#39;t store Real Numbers!, it store &quot;floating point&quot; number</h1>\n",
    "<img alt=\"\" src=\"images/floating_points.png\" style=\"width: 517px; height: 189px;\" />"
   ]
  },
  {
   "cell_type": "markdown",
   "metadata": {
    "slideshow": {
     "slide_type": "slide"
    }
   },
   "source": [
    "<h1 id=\"Bilangan-floating-point-tidak-tersebar-merata-di-garis-bilangan\">Bilangan floating point tidak tersebar merata di garis bilangan</h1>\n",
    "\n",
    "<p><img alt=\"\" src=\"images/Sebaran_floating_points.png\" /></p>\n",
    "\n",
    "# Terkait dengan Normalisasi di machine Learning"
   ]
  },
  {
   "cell_type": "markdown",
   "metadata": {
    "slideshow": {
     "slide_type": "slide"
    }
   },
   "source": [
    "<h1 id=\"Cancellation-Error\">Contoh kasus: Cancellation Error</h1>\n",
    "\n",
    "<p>(1+eps)-(1-eps)= 1-1=0</p>\n",
    "\n",
    "<p>Padahal seharusnya hasil 2*eps masih bisa dihandel mesin, namun hasil ini hilang.</p>\n",
    "\n",
    "<p>Contoh nyata, pada deret ex=1+x+x2/2!+x3/3!+&hellip;</p>\n",
    "\n",
    "<p>Untuk x&lt;0</p>\n",
    "\n",
    "<p>Contoh lain yang terkenal adalah solusi &quot;kecap&quot; penyelesaian polinomial (jika $b^2$ ~ 4ac)</p>\n"
   ]
  },
  {
   "cell_type": "code",
   "execution_count": 25,
   "metadata": {
    "slideshow": {
     "slide_type": "slide"
    }
   },
   "outputs": [
    {
     "data": {
      "text/plain": [
       "sys.float_info(max=1.7976931348623157e+308, max_exp=1024, max_10_exp=308, min=2.2250738585072014e-308, min_exp=-1021, min_10_exp=-307, dig=15, mant_dig=53, epsilon=2.220446049250313e-16, radix=2, rounds=1)"
      ]
     },
     "execution_count": 25,
     "metadata": {},
     "output_type": "execute_result"
    }
   ],
   "source": [
    "# System floating point di Python\n",
    "import sys\n",
    "sys.float_info"
   ]
  },
  {
   "cell_type": "code",
   "execution_count": 8,
   "metadata": {
    "slideshow": {
     "slide_type": "slide"
    }
   },
   "outputs": [
    {
     "name": "stdout",
     "output_type": "stream",
     "text": [
      "inf\n",
      "1.0\n"
     ]
    },
    {
     "data": {
      "text/plain": [
       "True"
      ]
     },
     "execution_count": 8,
     "metadata": {},
     "output_type": "execute_result"
    }
   ],
   "source": [
    "# Testing it out\n",
    "x = 1.7976931348623157e+308\n",
    "print(x*2) # OverFlow\n",
    "e = 2.120446049250313e-17 # underflow < e < Epsilon\n",
    "print(1.0+e)\n",
    "1+e==1.0"
   ]
  },
  {
   "cell_type": "code",
   "execution_count": 26,
   "metadata": {
    "slideshow": {
     "slide_type": "fragment"
    }
   },
   "outputs": [
    {
     "data": {
      "text/plain": [
       "0.0"
      ]
     },
     "execution_count": 26,
     "metadata": {},
     "output_type": "execute_result"
    }
   ],
   "source": [
    "e = 2.220446049250313e-17 # perhatikan nilainya saya kurangi sedikit\n",
    "# Padahal nilai terkecil 2.2250738585072014e-308, tapi\n",
    "(1+e)-(1-e)"
   ]
  },
  {
   "cell_type": "code",
   "execution_count": 27,
   "metadata": {
    "slideshow": {
     "slide_type": "fragment"
    }
   },
   "outputs": [
    {
     "data": {
      "text/plain": [
       "4.440892098500626e-17"
      ]
     },
     "execution_count": 27,
     "metadata": {},
     "output_type": "execute_result"
    }
   ],
   "source": [
    "# Tapi kalau 2*e atau e+e\n",
    "e+e"
   ]
  },
  {
   "cell_type": "markdown",
   "metadata": {
    "slideshow": {
     "slide_type": "slide"
    }
   },
   "source": [
    "# <center><font color=\"blue\"> Kesimpulan\n",
    "    \n",
    "# Berbagai hukum/sifat Matematika di sistem Bilangan Real berbeda dengan Matematika di sistem Floating Point (Komputer)\n",
    "    \n",
    "# <center><font color=\"Red\"> Jangan Lupa ya "
   ]
  },
  {
   "cell_type": "markdown",
   "metadata": {
    "slideshow": {
     "slide_type": "slide"
    }
   },
   "source": [
    "# <center><font color=\"blue\"> Dasar Logika dan Himpunan\n",
    "\n",
    "* Himpunan, Tuple, Vector\n",
    "* Logika dan Logika bersarang"
   ]
  },
  {
   "cell_type": "markdown",
   "metadata": {},
   "source": [
    "# <center><font color=\"blue\"> Himpunan\n",
    "    \n",
    "# Mengapa memahami Himpunan dengan baik penting di AI?\n",
    "    \n",
    "# <center><font color=\"Red\">"
   ]
  },
  {
   "cell_type": "markdown",
   "metadata": {},
   "source": [
    "# <center><font color=\"blue\"> Himpunan\n",
    "    \n",
    "* Pandang AI sebagai Fungsi\n",
    "* Fungsi adalah pemetaan dari Domain ke Kodomain\n",
    "* Domain adalah himpunan\n",
    "* Di AI (misal Face recognition) domain adalah himpunan wajah, kodomain adalah nama-nama pemilik wajah"
   ]
  },
  {
   "cell_type": "markdown",
   "metadata": {},
   "source": [
    "# <center><font color=\"blue\"> Himpunan di Matematika, mana yang bukan himpunan?\n",
    "    \n",
    "* A = {1, 2, 3, ...}\n",
    "* B = {a, b, c, d}\n",
    "* C = {Ayam, kambing, gajah, ...}\n",
    "* D = {a, 1, 3, t, gajah}\n",
    "* E = {1, ayam, z, 3.4, ...}\n",
    "    \n",
    "# <center><font color=\"Red\"> Lalu apa itu Himpunan? Apakah sama konsep himpunan di Matematika dan himpunan di Komputer (misal Python)"
   ]
  },
  {
   "cell_type": "code",
   "execution_count": 9,
   "metadata": {},
   "outputs": [
    {
     "data": {
      "text/plain": [
       "{1, 2, 3, 4, 7, 8}"
      ]
     },
     "execution_count": 9,
     "metadata": {},
     "output_type": "execute_result"
    }
   ],
   "source": [
    "A = set([1,2,3,3,4,1,2,7,8])\n",
    "A"
   ]
  },
  {
   "cell_type": "markdown",
   "metadata": {},
   "source": [
    "# Set (himpunan) di AI/Python untuk Apa?"
   ]
  },
  {
   "cell_type": "code",
   "execution_count": 15,
   "metadata": {},
   "outputs": [
    {
     "data": {
      "text/plain": [
       "([0, 1, 2, 3, 4, 5, 6, 7, 8, 9], set)"
      ]
     },
     "execution_count": 15,
     "metadata": {},
     "output_type": "execute_result"
    }
   ],
   "source": [
    "# hati-hati cell ini menggunakan cukup banyak memory\n",
    "A = list(range(10**7))\n",
    "B = set(range(10**7))\n",
    "A[:10], type(B)"
   ]
  },
  {
   "cell_type": "code",
   "execution_count": 16,
   "metadata": {},
   "outputs": [
    {
     "data": {
      "text/plain": [
       "10000099"
      ]
     },
     "execution_count": 16,
     "metadata": {},
     "output_type": "execute_result"
    }
   ],
   "source": [
    "X = 10**7 + 99 # Jelas tidak ada di A dan B\n",
    "X"
   ]
  },
  {
   "cell_type": "code",
   "execution_count": 19,
   "metadata": {},
   "outputs": [
    {
     "name": "stdout",
     "output_type": "stream",
     "text": [
      "240 ms ± 2.87 ms per loop (mean ± std. dev. of 7 runs, 1 loop each)\n"
     ]
    }
   ],
   "source": [
    "%%timeit\n",
    "X in A"
   ]
  },
  {
   "cell_type": "code",
   "execution_count": 20,
   "metadata": {},
   "outputs": [
    {
     "name": "stdout",
     "output_type": "stream",
     "text": [
      "129 ns ± 11.9 ns per loop (mean ± std. dev. of 7 runs, 10000000 loops each)\n"
     ]
    }
   ],
   "source": [
    "%%timeit\n",
    "X in B"
   ]
  },
  {
   "cell_type": "code",
   "execution_count": 26,
   "metadata": {},
   "outputs": [
    {
     "data": {
      "text/plain": [
       "1860465.1162790698"
      ]
     },
     "execution_count": 26,
     "metadata": {},
     "output_type": "execute_result"
    }
   ],
   "source": [
    "ms2ns = 10**6\n",
    "\n",
    "Speedup = (240*ms2ns)/129\n",
    "Speedup"
   ]
  },
  {
   "cell_type": "markdown",
   "metadata": {},
   "source": [
    "# <font color=\"blue\"> Dasar Logika </font>\n",
    "\n",
    "<img src=\"images/4_AND_OR_NOT.png\"/>"
   ]
  },
  {
   "cell_type": "markdown",
   "metadata": {},
   "source": [
    "# <center><font color=\"blue\">Logika dan AI?\n",
    "    \n",
    "<img src=\"images/meme_AI_if_statements.png\"/>"
   ]
  },
  {
   "cell_type": "markdown",
   "metadata": {
    "slideshow": {
     "slide_type": "slide"
    }
   },
   "source": [
    "# Logika dan AI\n",
    "\n",
    "<ul>\n",
    "\t<li>Bentuk (unit) paling dasar dari kecerdasan buatan atau pembelajaran komputer, dahulu disebut sebagai <em>explicit rules machine learning</em> (but of course it&#39;s not AI ... :)).</li>\n",
    "\t<li>Bentuk umumnya:<br />\n",
    "\t<strong>IF</strong> (<em>kondisi</em>) <strong>MAKA</strong> (<em>tindakan</em>)</li>\n",
    "\t<li>Syarat utamanya adalah &quot;kondisi/syarat&quot; harus bernilai Boolean (True/False), sedangkan tindakan bisa apa saja.</li>\n",
    "</ul>\n",
    "<p><img alt=\"\" src=\"images/4_Cond_Statement_as_ML0.png\" style=\"width: 800px ; height: 300px\" /></p>\n"
   ]
  },
  {
   "cell_type": "markdown",
   "metadata": {
    "slideshow": {
     "slide_type": "slide"
    }
   },
   "source": [
    "<img alt=\"\" src=\"images/4_Con_Statement_BU.png\" />"
   ]
  },
  {
   "cell_type": "markdown",
   "metadata": {
    "slideshow": {
     "slide_type": "slide"
    }
   },
   "source": [
    "<h1><font color=\"blue\">Bentuk Umum Percabangan:</font></h1>\n",
    "\n",
    "**IF (STATEMENT 1):** <br />\n",
    "&nbsp;&nbsp;&nbsp;&nbsp; **Action(s) 1** <br />\n",
    "**ELSE IF (STATEMENT 2):** <br />\n",
    "&nbsp;&nbsp;&nbsp;&nbsp; **Action(s) 2** <br />\n",
    ". <br />\n",
    ". <br />\n",
    ". <br />\n",
    "**ELSE:** <br />\n",
    "&nbsp;&nbsp;&nbsp;&nbsp; **Action(s) N** <br />"
   ]
  },
  {
   "cell_type": "markdown",
   "metadata": {
    "slideshow": {
     "slide_type": "slide"
    }
   },
   "source": [
    "<h1><font color=\"blue\">Telaah Komponen Percabangan - IF </font></h1>\n",
    "\n",
    "<p><font color=\"blue\"><img alt=\"\" src=\"images/4_IF_Components_.png\" style=\"width: 800px; height: 424px;\" /></font></p>"
   ]
  },
  {
   "cell_type": "markdown",
   "metadata": {
    "slideshow": {
     "slide_type": "slide"
    }
   },
   "source": [
    "<h1><font color=\"blue\">Sifat Percabangan:</font></h1>\n",
    "\n",
    "* \"Statement\" adalah variabel bernilai boolean (true/False) atau \n",
    "* \"Statement\" pernyataan bernilai boolean (misal: if x>3)\n",
    "* \"ELSE\" tidak memerlukan Statement\n",
    "* Baik ELSE IF maupun ELSE keduanya pilihan (opsional)/tidak wajib ada.\n",
    "* Jika salah satu Statement bernilai True dan tindakannya dilakukan, maka seluruh baris percabangan dibawahnya **tidak** dilakukan/eksekusi.\n",
    "* Jika percabangan tidak memiliki \"ELSE\" maka ada kemungkinan seluruh \"Actions\" tidak ada yang dilakukan.\n",
    "* Jika percabangan memiliki komponen \"ELSE\" salah satu \"Actions\" pasti dilakukan."
   ]
  },
  {
   "cell_type": "markdown",
   "metadata": {
    "slideshow": {
     "slide_type": "slide"
    }
   },
   "source": [
    "<h1><font color=\"blue\">Good Practice: kondisi IF \"**sebaiknya**\" bernilai Boolean</font></h1>\n",
    "<p><font color=\"blue\"><img alt=\"\" src=\"images/4_If_Statement_needs_2b_boolean.png\"/></font></p>\n",
    "\n",
    "* Ada pengecualian di beberapa bahasa pemrograman (Python/PHP), seperti yang sudah kita bahas di modul 2."
   ]
  },
  {
   "cell_type": "markdown",
   "metadata": {
    "slideshow": {
     "slide_type": "slide"
    }
   },
   "source": [
    "# <font color=\"blue\"> Hierarchical Logic in Nested Loop </font>\n",
    "\n",
    "* Ada masalah apa dengan percabangan IF berikut?\n",
    "\n",
    "<img src=\"images/4_hierarchical_logic_wrong_example.png\"/>\n",
    "\n",
    "* Bagaimana memperbaikinya?"
   ]
  },
  {
   "cell_type": "markdown",
   "metadata": {
    "slideshow": {
     "slide_type": "slide"
    }
   },
   "source": [
    "# hati-hati Boolean Trap di Python\n",
    "\n",
    "Unfortunately it is not as easy in real life as it is in Python to differentiate between **true and false**: \n",
    "The following objects are evaluated by Python as **False**:\n",
    "\n",
    "- numerical zero values (0, 0.0, 0.0+0.0j),\n",
    "- the Boolean value False,\n",
    "- empty strings,\n",
    "- empty lists and empty tuples,\n",
    "- empty dictionaries.\n",
    "- special value \"None\".\n",
    "\n",
    "**All other values are considered to be True**"
   ]
  },
  {
   "cell_type": "code",
   "execution_count": 105,
   "metadata": {
    "slideshow": {
     "slide_type": "slide"
    }
   },
   "outputs": [
    {
     "name": "stdout",
     "output_type": "stream",
     "text": [
      "Benar\n"
     ]
    }
   ],
   "source": [
    "a = {2}\n",
    "if a:\n",
    "    print('Benar')\n",
    "else:\n",
    "    print('Salah')"
   ]
  },
  {
   "cell_type": "markdown",
   "metadata": {
    "slideshow": {
     "slide_type": "-"
    }
   },
   "source": [
    "# Usecase logic diatas\n",
    "\n",
    "* Pengolahan data media sosial\n",
    "* Pengolahan data dari database\n",
    "* Not so useful pada data terstruktur yang preprocessed/tidak noisy"
   ]
  },
  {
   "cell_type": "markdown",
   "metadata": {},
   "source": [
    "# Fungsi di Matematika VS Fungsi di Komputer (ICT)\n",
    "\n",
    "* Beda atau sama?"
   ]
  },
  {
   "cell_type": "markdown",
   "metadata": {},
   "source": [
    "# <center><font color=\"blue\"> Python (by default) Tidak mengenal Array\n",
    "    \n",
    "* Mengapa list/tuple di Python bukan array \n",
    "    \n",
    "# <center><font color=\"Red\"> Numpy menjadi dasar Penting Matematika untuk AI"
   ]
  },
  {
   "cell_type": "markdown",
   "metadata": {},
   "source": [
    "# Linear algebra with Numpy\n",
    "\n",
    " [Numpy](http://www.numpy.org/) is a high performance library for numeric/scientific computations that can be used for linear algebra, Fourier transform, and random number capabilities.\n",
    "\n",
    "First we will learn how to:\n",
    "\n",
    "- Numpy Array (N dimensional) VS Numpy Matrix (2D)\n",
    "- Manipulate matrices;\n",
    "- Solve Matrix equations;\n",
    "- Calculate Matrix inverse and determinants.\n",
    "\n",
    "## Manipulating matrices\n",
    "\n",
    "It is straightforward to create a Matrix using Numpy. Let us consider the following as a examples:\n",
    "\n",
    "$$\n",
    "A = \\begin{pmatrix}\n",
    "5 & 6 & 2\\\\\n",
    "4 & 7 & 19\\\\\n",
    "0 & 3 & 12\n",
    "\\end{pmatrix}\n",
    "$$\n",
    "\n",
    "$$\n",
    "B = \\begin{pmatrix}\n",
    "14 & -2 & 12\\\\\n",
    "4 & 4 & 5\\\\\n",
    "5 & 5 & 1\n",
    "\\end{pmatrix}\n",
    "$$\n",
    "\n"
   ]
  },
  {
   "cell_type": "code",
   "execution_count": 18,
   "metadata": {},
   "outputs": [
    {
     "name": "stdout",
     "output_type": "stream",
     "text": [
      "[2.  2.5 1.1 2.5] <class 'numpy.ndarray'>\n"
     ]
    },
    {
     "data": {
      "text/plain": [
       "(4,)"
      ]
     },
     "execution_count": 18,
     "metadata": {},
     "output_type": "execute_result"
    }
   ],
   "source": [
    "# Mulai dengan Numpy array\n",
    "import numpy as np\n",
    "s = [2.0, 2.5, 1.1, 2.5]\n",
    "C = np.array(s)\n",
    "print(C, type(C))\n",
    "C.shape"
   ]
  },
  {
   "cell_type": "code",
   "execution_count": 19,
   "metadata": {},
   "outputs": [
    {
     "name": "stdout",
     "output_type": "stream",
     "text": [
      "[5.  6.  3.2 6. ]\n"
     ]
    }
   ],
   "source": [
    "# elemen wise operations\n",
    "print(C * 2+1)"
   ]
  },
  {
   "cell_type": "code",
   "execution_count": 20,
   "metadata": {},
   "outputs": [
    {
     "name": "stdout",
     "output_type": "stream",
     "text": [
      "Error : tidak bisa dilakukan di List\n"
     ]
    }
   ],
   "source": [
    "try:\n",
    "    print(s * 2+1)\n",
    "except:\n",
    "    print('Error : tidak bisa dilakukan di List')"
   ]
  },
  {
   "cell_type": "code",
   "execution_count": 21,
   "metadata": {},
   "outputs": [
    {
     "name": "stdout",
     "output_type": "stream",
     "text": [
      "[2.  2.5 1.1 2.5]\n",
      "[4.   6.25 1.21 6.25]\n"
     ]
    }
   ],
   "source": [
    "print(C)\n",
    "print(C*C)"
   ]
  },
  {
   "cell_type": "code",
   "execution_count": 22,
   "metadata": {},
   "outputs": [
    {
     "name": "stdout",
     "output_type": "stream",
     "text": [
      "17.71\n"
     ]
    }
   ],
   "source": [
    "print(np.dot(C,C)) # Similarity cosine di Data Science"
   ]
  },
  {
   "cell_type": "code",
   "execution_count": 27,
   "metadata": {},
   "outputs": [
    {
     "data": {
      "text/plain": [
       "(3, 3)"
      ]
     },
     "execution_count": 27,
     "metadata": {},
     "output_type": "execute_result"
    }
   ],
   "source": [
    "# Numpy Matrix deprecated\n",
    "# https://stackoverflow.com/questions/53254738/deprecation-status-of-the-numpy-matrix-class\n",
    "A = np.array([[1, 0, 1],\n",
    "               [1, 1, 0],\n",
    "               [0, 1, 1]])\n",
    "B = np.array([[1, 2, 3],\n",
    "               [4, 5, 6],\n",
    "               [7, 8, 9]])\n",
    "A.shape"
   ]
  },
  {
   "cell_type": "code",
   "execution_count": 28,
   "metadata": {},
   "outputs": [
    {
     "data": {
      "text/plain": [
       "array([[1, 0, 1],\n",
       "       [1, 1, 0],\n",
       "       [0, 1, 1]])"
      ]
     },
     "execution_count": 28,
     "metadata": {},
     "output_type": "execute_result"
    }
   ],
   "source": [
    "A"
   ]
  },
  {
   "cell_type": "code",
   "execution_count": 30,
   "metadata": {},
   "outputs": [
    {
     "data": {
      "text/plain": [
       "array([[1, 0, 3],\n",
       "       [4, 5, 0],\n",
       "       [0, 8, 9]])"
      ]
     },
     "execution_count": 30,
     "metadata": {},
     "output_type": "execute_result"
    }
   ],
   "source": [
    "# Perkalian Matrix: Element-Wise Operation ... Hati-hati!!!....\n",
    "A*B"
   ]
  },
  {
   "cell_type": "code",
   "execution_count": 31,
   "metadata": {},
   "outputs": [
    {
     "data": {
      "text/plain": [
       "array([[ 8, 10, 12],\n",
       "       [ 5,  7,  9],\n",
       "       [11, 13, 15]])"
      ]
     },
     "execution_count": 31,
     "metadata": {},
     "output_type": "execute_result"
    }
   ],
   "source": [
    "# Perkalian Matrix dilakukan dengan fungsi numpy, bisa dgn input Array\n",
    "np.matmul(A,B)"
   ]
  },
  {
   "cell_type": "code",
   "execution_count": 26,
   "metadata": {},
   "outputs": [
    {
     "data": {
      "text/plain": [
       "matrix([[5, 0, 5],\n",
       "        [5, 5, 0],\n",
       "        [0, 5, 5]])"
      ]
     },
     "execution_count": 26,
     "metadata": {},
     "output_type": "execute_result"
    }
   ],
   "source": [
    "# Perkalian dengan skalar\n",
    "A*5"
   ]
  },
  {
   "cell_type": "code",
   "execution_count": 27,
   "metadata": {},
   "outputs": [
    {
     "data": {
      "text/plain": [
       "matrix([[2, 2, 2]])"
      ]
     },
     "execution_count": 27,
     "metadata": {},
     "output_type": "execute_result"
    }
   ],
   "source": [
    "# Perkalian array dengan Matrix\n",
    "np.array([1, 1, 1]) * A"
   ]
  },
  {
   "cell_type": "markdown",
   "metadata": {},
   "source": [
    "# <center><font color=\"blue\">Norm: Aljabar Linear untuk AI\n",
    "\n",
    "<img alt=\"\" src=\"images/linear_algebra_aljabar_ai.png\" style=\"width: 800px;\" />\n",
    "\n",
    "# <center><font color=\"Red\">Sebelum membahas Norm, mari kita yakinkan bahwa kita paham lambang Matematika **|.|** terlebih dahulu"
   ]
  },
  {
   "cell_type": "markdown",
   "metadata": {},
   "source": [
    "# Memahami \"Struktur Data\" di Matematika memudahkan pemahaman penerapannya di AI\n",
    "\n",
    "<img alt=\"\" src=\"images/cardinality_Absolute_determinant.jpg\" style=\"width: 800px;\" />"
   ]
  },
  {
   "cell_type": "markdown",
   "metadata": {},
   "source": [
    "# Bagimana dengan Norm?\n",
    "\n",
    "<img alt=\"\" src=\"images/definisi_norm.png\" style=\"width: 800px;\" />"
   ]
  },
  {
   "cell_type": "markdown",
   "metadata": {},
   "source": [
    "# Contoh beberapa Norm - 1\n",
    "\n",
    "<img alt=\"\" src=\"images/norm_1_manhattan.png\" style=\"width: 800px;\" />"
   ]
  },
  {
   "cell_type": "markdown",
   "metadata": {},
   "source": [
    "# Contoh beberapa Norm - 2\n",
    "\n",
    "<img alt=\"\" src=\"images/norm_2_euclidean.png\" style=\"width: 800px;\" />"
   ]
  },
  {
   "cell_type": "markdown",
   "metadata": {},
   "source": [
    "# Contoh beberapa Norm - 3\n",
    "\n",
    "<img alt=\"\" src=\"images/norm_p_infinity.png\" style=\"height: 250px;\" />"
   ]
  },
  {
   "cell_type": "markdown",
   "metadata": {},
   "source": [
    "# Buat apa memahami Norm di AI?\n",
    "\n",
    "## Kembali ke definisi!: Loss Function di Deep Learning\n",
    "\n",
    "<img alt=\"\" src=\"images/loss_function_in_DL.png\" />"
   ]
  },
  {
   "cell_type": "markdown",
   "metadata": {},
   "source": [
    "# Bagaimana dengan Norm di matrix?\n",
    "\n",
    "<img alt=\"\" src=\"images/matrix_norms.png\" />"
   ]
  },
  {
   "cell_type": "markdown",
   "metadata": {},
   "source": [
    "# Untuk apa memahami Norm di Matrix\n",
    "\n",
    "\n",
    "<img alt=\"\" src=\"images/matrix_condition_number.jpg\" />\n",
    "\n",
    "## Muncul pada SPL"
   ]
  },
  {
   "cell_type": "markdown",
   "metadata": {},
   "source": [
    "---\n",
    "\n",
    "**EXERCISE** Compute $A ^ 2 + A - 1$ with:\n",
    "\n",
    "$$A = \n",
    "\\begin{pmatrix}\n",
    "1 & -1\\\\\n",
    "2 & 1\n",
    "\\end{pmatrix}\n",
    "$$\n",
    "\n",
    "---\n",
    "\n",
    "## Solving Matrix equations\n",
    "\n",
    "We can use Numpy to (efficiently) solve large systems of equations of the form:\n",
    "\n",
    "$$Ax=b$$\n",
    "\n",
    "Let us illustrate that with:\n",
    "\n",
    "$$\n",
    "A = \\begin{pmatrix}\n",
    "5 & 6 & 2\\\\\n",
    "4 & 7 & 19\\\\\n",
    "0 & 3 & 12\n",
    "\\end{pmatrix}\n",
    "$$\n",
    "\n",
    "$$\n",
    "b = \\begin{pmatrix}\n",
    "-1\\\\\n",
    "2\\\\\n",
    "1 \n",
    "\\end{pmatrix}\n",
    "$$"
   ]
  },
  {
   "cell_type": "code",
   "execution_count": 28,
   "metadata": {},
   "outputs": [
    {
     "data": {
      "text/plain": [
       "matrix([[ 0.45736434],\n",
       "        [-0.62790698],\n",
       "        [ 0.24031008]])"
      ]
     },
     "execution_count": 28,
     "metadata": {},
     "output_type": "execute_result"
    }
   ],
   "source": [
    "A = np.matrix([[5, 6, 2],\n",
    "               [4, 7, 19],\n",
    "               [0, 3, 12]])\n",
    "b = np.matrix([[-1], [2], [1]])\n",
    "\n",
    "np.linalg.solve(A, b)"
   ]
  },
  {
   "cell_type": "code",
   "execution_count": 32,
   "metadata": {},
   "outputs": [
    {
     "data": {
      "text/plain": [
       "array([[ 0.5,  0.5, -0.5],\n",
       "       [-0.5,  0.5,  0.5],\n",
       "       [ 0.5, -0.5,  0.5]])"
      ]
     },
     "execution_count": 32,
     "metadata": {},
     "output_type": "execute_result"
    }
   ],
   "source": [
    "# Invers Matrix\n",
    "np.linalg.inv(A) # verify?"
   ]
  },
  {
   "cell_type": "markdown",
   "metadata": {},
   "source": [
    "# EigenValue di Aljabar Linear .... dan maknanya\n",
    "\n",
    "<img alt=\"\" src=\"images/intro_eigen.png\" style=\"width: 800px;\" />"
   ]
  },
  {
   "cell_type": "code",
   "execution_count": 30,
   "metadata": {},
   "outputs": [
    {
     "data": {
      "text/plain": [
       "5.477225575051661"
      ]
     },
     "execution_count": 30,
     "metadata": {},
     "output_type": "execute_result"
    }
   ],
   "source": [
    "# Array Norm\n",
    "v = np.array([1,2,3,4])\n",
    "np.linalg.norm(v,2) # 2 = euclidean, 1 = absolut sum, etc\n",
    "#https://docs.scipy.org/doc/numpy/reference/generated/numpy.linalg.norm.html"
   ]
  },
  {
   "cell_type": "markdown",
   "metadata": {},
   "source": [
    "<img alt=\"\" src=\"images/intro_eigen.png\" style=\"width: 800px;\" />"
   ]
  },
  {
   "cell_type": "markdown",
   "metadata": {},
   "source": [
    "<p><img alt=\"\" src=\"images/eigen_intuition.png\" style=\"width: 800px; height: 316px;\" /></p>\n"
   ]
  },
  {
   "cell_type": "markdown",
   "metadata": {},
   "source": [
    "* <a href=\"images/Eigenvalues and Eigenvectors, Imaginary and Real.mp4\" target=\"_blank\">VIDEO</a>\n",
    "\n",
    "* <video controls src=\"images/Eigenvalues and Eigenvectors, Imaginary and Real.mp4\" />"
   ]
  },
  {
   "cell_type": "code",
   "execution_count": 31,
   "metadata": {},
   "outputs": [
    {
     "name": "stdout",
     "output_type": "stream",
     "text": [
      "[1. 2. 3.] [[1.         0.70710678 0.55708601]\n",
      " [0.         0.70710678 0.74278135]\n",
      " [0.         0.         0.37139068]]\n"
     ]
    }
   ],
   "source": [
    "A = np.matrix([[1, 1, 1],\n",
    "               [0, 2, 2],\n",
    "               [0, 0, 3]])\n",
    "eigenvecs, eigvals = np.linalg.eig(A)\n",
    "print(eigenvecs, eigvals)"
   ]
  },
  {
   "cell_type": "markdown",
   "metadata": {},
   "source": [
    "# Dekomposisi Matrix di Aljabar linear dan maknanya: Singular Value Decomposition\n",
    "\n",
    "<img alt=\"\" src=\"images/4_SVD - LSA - recommendation.jpg\" style=\"width: 744px; height: 386px;\" />"
   ]
  },
  {
   "cell_type": "markdown",
   "metadata": {},
   "source": [
    "<p><img alt=\"\" src=\"images/4_makna_SVD_.png\" style=\"width: 593px; height: 152px;\" /></p>\n"
   ]
  },
  {
   "cell_type": "code",
   "execution_count": 32,
   "metadata": {},
   "outputs": [
    {
     "data": {
      "text/plain": [
       "(matrix([[ 0.34705977,  0.41215395,  0.84242426],\n",
       "         [ 0.6516413 ,  0.54002631, -0.53266801],\n",
       "         [ 0.67447249, -0.73382608,  0.08115513]]),\n",
       " array([4.04234977, 1.70282636, 0.87165976]),\n",
       " matrix([[ 0.08585595,  0.40826313,  0.9088179 ],\n",
       "         [ 0.24204109,  0.87631164, -0.41652613],\n",
       "         [ 0.96645997, -0.25573252,  0.02357989]]))"
      ]
     },
     "execution_count": 32,
     "metadata": {},
     "output_type": "execute_result"
    }
   ],
   "source": [
    "A = np.matrix([[1, 1, 1],\n",
    "               [0, 2, 2],\n",
    "               [0, 0, 3]])\n",
    "np.linalg.svd(A)"
   ]
  },
  {
   "cell_type": "markdown",
   "metadata": {},
   "source": [
    "<h1 id=\"Calculus\">Calculus</h1>\n",
    "\n",
    "<h3 id=\"Functions\">Functions</h3>\n",
    "\n",
    "<p>A function from set <span class=\"MathJax_Preview\" style=\"color: inherit;\"><span class=\"MJXp-math\" id=\"MJXp-Span-307\"><span class=\"MJXp-mi MJXp-italic\" id=\"MJXp-Span-308\">A</span></span></span><script type=\"math/tex\" id=\"MathJax-Element-42\">A</script> to set <span class=\"MathJax_Preview\" style=\"color: inherit;\"><span class=\"MJXp-math\" id=\"MJXp-Span-309\"><span class=\"MJXp-mi MJXp-italic\" id=\"MJXp-Span-310\">B</span></span></span><script type=\"math/tex\" id=\"MathJax-Element-43\">B</script> is an assign rule for each <span class=\"MathJax_Preview\" style=\"color: inherit;\"><span class=\"MJXp-math\" id=\"MJXp-Span-311\"><span class=\"MJXp-mi MJXp-italic\" id=\"MJXp-Span-312\">x</span></span></span><script type=\"math/tex\" id=\"MathJax-Element-44\">x</script> in <span class=\"MathJax_Preview\" style=\"color: inherit;\"><span class=\"MJXp-math\" id=\"MJXp-Span-313\"><span class=\"MJXp-mi MJXp-italic\" id=\"MJXp-Span-314\">A</span></span></span><script type=\"math/tex\" id=\"MathJax-Element-45\">A</script> if and only if to one <span class=\"MathJax_Preview\" style=\"color: inherit;\"><span class=\"MJXp-math\" id=\"MJXp-Span-315\"><span class=\"MJXp-mi MJXp-italic\" id=\"MJXp-Span-316\">y</span></span></span><script type=\"math/tex\" id=\"MathJax-Element-46\">y</script> in <span class=\"MathJax_Preview\" style=\"color: inherit;\"><span class=\"MJXp-math\" id=\"MJXp-Span-317\"><span class=\"MJXp-mi MJXp-italic\" id=\"MJXp-Span-318\">B</span></span></span><script type=\"math/tex\" id=\"MathJax-Element-47\">B</script>.</p>\n",
    "\n",
    "<h3>Example</h3>\n",
    "\n",
    "<p>Define a function&nbsp;<img alt=\"$f(x)=x^2+2x-1$\" src=\"https://render.githubusercontent.com/render/math?math=f%28x%29%3Dx%5E2%2B2x-1&amp;mode=inline\" /></p>\n"
   ]
  },
  {
   "cell_type": "code",
   "execution_count": 33,
   "metadata": {},
   "outputs": [],
   "source": [
    "def f(x):\n",
    "    return x**2+2*x-1"
   ]
  },
  {
   "cell_type": "markdown",
   "metadata": {},
   "source": [
    "# (Optimal) Function in Machine Learning or Deep Learning?\n",
    "\n",
    "* Loss (error) Function (Need to be Optimized)\n",
    " - e.g. $MSE = \\frac{1}{N}\\sum_{i=1}^N(y_i-\\hat{y_i})^2$\n",
    " - $\\hat{y} = \\beta_0 + \\beta_1x_1 + ... + \\beta_nx_n$\n",
    "* Optimal value of a function (involve derivative of the function)\n",
    "* However, analytical derivative is rarely used in ML / AI.\n",
    "\n",
    "<img alt=\"\" src=\"images/intro_optimasi_numerik.png\" style=\"width: 800px; height: 370px;\" />"
   ]
  },
  {
   "cell_type": "markdown",
   "metadata": {},
   "source": [
    "# memahami Fungsi Convex di matematika dan perannya di AI\n",
    "\n",
    "<img alt=\"\" src=\"images/convex-non-convex.jpg\" />\n",
    "\n",
    "### https://www.kdnuggets.com/2016/12/hard-thing-about-deep-learning.html"
   ]
  },
  {
   "cell_type": "code",
   "execution_count": 34,
   "metadata": {},
   "outputs": [],
   "source": [
    "# importing modules\n",
    "import matplotlib.pyplot as plt"
   ]
  },
  {
   "cell_type": "code",
   "execution_count": 35,
   "metadata": {},
   "outputs": [
    {
     "data": {
      "image/png": "[encoded data removed]",
      "text/plain": [
       "<Figure size 432x288 with 1 Axes>"
      ]
     },
     "metadata": {
      "needs_background": "light"
     },
     "output_type": "display_data"
    }
   ],
   "source": [
    "%matplotlib inline \n",
    "def f(x):\n",
    "    return 3*x**2-2*x+5 \n",
    "\n",
    "X = np.arange(0,1.0,0.1)\n",
    "Y = [f(x) for x in X]\n",
    "plt.plot(X, Y, label = \"Contoh\")\n",
    "plt.stem([-1, 1/3], [f(-1), f(1/3)], label = \"Local Extremum points\", linefmt='C2:', markerfmt = 'C2o')\n",
    "plt.legend(); plt.show()"
   ]
  },
  {
   "cell_type": "markdown",
   "metadata": {},
   "source": [
    "<h2 id=\"Optimization-of-multivariate-function-using-Newton-Approach\">Optimization of multivariate function using Newton Approach</h2>\n",
    "\n",
    "<p><img alt=\"\" src=\"images/multivariate_derivative.png\" style=\"width: 585px; height: 40px;\" /></p>\n",
    "\n",
    "<p>Where $H(X_0)$ is the Hessian matrix (second derivative)</p>\n",
    "\n",
    "Contoh aplikasi pada Rosenbrock Function: $f(x,y) = (a-x)^2 + b(y-x^2)^2$\n"
   ]
  },
  {
   "cell_type": "code",
   "execution_count": 36,
   "metadata": {},
   "outputs": [
    {
     "data": {
      "text/plain": [
       "      fun: 4.581718348719802e-11\n",
       " hess_inv: array([[0.00758467, 0.01243419, 0.02343126, 0.04612654, 0.09217015],\n",
       "       [0.01243419, 0.02481131, 0.04711868, 0.09295502, 0.18561931],\n",
       "       [0.02343126, 0.04711868, 0.09454461, 0.18669089, 0.3726818 ],\n",
       "       [0.04612654, 0.09295502, 0.18669089, 0.37367905, 0.74586086],\n",
       "       [0.09217015, 0.18561931, 0.3726818 , 0.74586086, 1.49364903]])\n",
       "      jac: array([-5.78928443e-06, -2.82288555e-06, -2.79935363e-06, -7.64283697e-06,\n",
       "        5.85513480e-06])\n",
       "  message: 'Optimization terminated successfully.'\n",
       "     nfev: 210\n",
       "      nit: 25\n",
       "     njev: 30\n",
       "   status: 0\n",
       "  success: True\n",
       "        x: array([0.99999925, 0.99999852, 0.99999706, 0.99999416, 0.99998833])"
      ]
     },
     "execution_count": 36,
     "metadata": {},
     "output_type": "execute_result"
    }
   ],
   "source": [
    "from scipy.optimize import minimize\n",
    "\n",
    "def rosen(x):\n",
    "    \"\"\"The Rosenbrock function\"\"\"\n",
    "    return sum(100.0*(x[1:]-x[:-1]**2.0)**2.0 + (1-x[:-1])**2.0)\n",
    "\n",
    "x0 = np.array([1.3, 0.7, 0.8, 1.9, 1.2])\n",
    "minimize(rosen, x0)"
   ]
  },
  {
   "cell_type": "markdown",
   "metadata": {},
   "source": [
    "<h1 id=\"Initial-solution/Values-X0-is-very-important-in-Machine-Learning/AI\">Initial solution/Values X0 is very important in Machine Learning/AI</h1>\n",
    "\n",
    "<p><img alt=\"\" src=\"images/init_w.png\" style=\"width: 595px; height: 304px;\" /></p>\n"
   ]
  },
  {
   "cell_type": "markdown",
   "metadata": {},
   "source": [
    "# Probability\n",
    "\n",
    "<ul>\n",
    "\t<li>Central Measures and data disperity</li>\n",
    "\t<li>Simple visualisations</li>\n",
    "\t<li>Probability and probability Distributions</li>\n",
    "\t<li>Generalizations : Training-testing data &amp; Cross Validation</li>\n",
    "\t<li>Optimal Parameter &amp; Inductive Bias</li>\n",
    "</ul>\n"
   ]
  },
  {
   "cell_type": "markdown",
   "metadata": {},
   "source": [
    "# Central and Disperity Measures"
   ]
  },
  {
   "cell_type": "markdown",
   "metadata": {},
   "source": [
    "<img alt=\"\" src=\"images/central.png\" style=\"width: 705px; height: 523px;\" />"
   ]
  },
  {
   "cell_type": "code",
   "execution_count": 34,
   "metadata": {},
   "outputs": [
    {
     "data": {
      "text/html": [
       "<div>\n",
       "<style scoped>\n",
       "    .dataframe tbody tr th:only-of-type {\n",
       "        vertical-align: middle;\n",
       "    }\n",
       "\n",
       "    .dataframe tbody tr th {\n",
       "        vertical-align: top;\n",
       "    }\n",
       "\n",
       "    .dataframe thead th {\n",
       "        text-align: right;\n",
       "    }\n",
       "</style>\n",
       "<table border=\"1\" class=\"dataframe\">\n",
       "  <thead>\n",
       "    <tr style=\"text-align: right;\">\n",
       "      <th></th>\n",
       "      <th>sepal_length</th>\n",
       "      <th>sepal_width</th>\n",
       "      <th>petal_length</th>\n",
       "      <th>petal_width</th>\n",
       "      <th>species</th>\n",
       "    </tr>\n",
       "  </thead>\n",
       "  <tbody>\n",
       "    <tr>\n",
       "      <th>0</th>\n",
       "      <td>5.1</td>\n",
       "      <td>3.5</td>\n",
       "      <td>1.4</td>\n",
       "      <td>0.2</td>\n",
       "      <td>setosa</td>\n",
       "    </tr>\n",
       "    <tr>\n",
       "      <th>1</th>\n",
       "      <td>4.9</td>\n",
       "      <td>3.0</td>\n",
       "      <td>1.4</td>\n",
       "      <td>0.2</td>\n",
       "      <td>setosa</td>\n",
       "    </tr>\n",
       "    <tr>\n",
       "      <th>2</th>\n",
       "      <td>4.7</td>\n",
       "      <td>3.2</td>\n",
       "      <td>1.3</td>\n",
       "      <td>0.2</td>\n",
       "      <td>setosa</td>\n",
       "    </tr>\n",
       "    <tr>\n",
       "      <th>3</th>\n",
       "      <td>4.6</td>\n",
       "      <td>3.1</td>\n",
       "      <td>1.5</td>\n",
       "      <td>0.2</td>\n",
       "      <td>setosa</td>\n",
       "    </tr>\n",
       "    <tr>\n",
       "      <th>4</th>\n",
       "      <td>5.0</td>\n",
       "      <td>3.6</td>\n",
       "      <td>1.4</td>\n",
       "      <td>0.2</td>\n",
       "      <td>setosa</td>\n",
       "    </tr>\n",
       "  </tbody>\n",
       "</table>\n",
       "</div>"
      ],
      "text/plain": [
       "   sepal_length  sepal_width  petal_length  petal_width species\n",
       "0           5.1          3.5           1.4          0.2  setosa\n",
       "1           4.9          3.0           1.4          0.2  setosa\n",
       "2           4.7          3.2           1.3          0.2  setosa\n",
       "3           4.6          3.1           1.5          0.2  setosa\n",
       "4           5.0          3.6           1.4          0.2  setosa"
      ]
     },
     "execution_count": 34,
     "metadata": {},
     "output_type": "execute_result"
    }
   ],
   "source": [
    "import seaborn as sns\n",
    "sns.set()\n",
    "\n",
    "iris = sns.load_dataset(\"iris\")\n",
    "iris.head()"
   ]
  },
  {
   "cell_type": "code",
   "execution_count": 35,
   "metadata": {},
   "outputs": [
    {
     "data": {
      "text/html": [
       "<div>\n",
       "<style scoped>\n",
       "    .dataframe tbody tr th:only-of-type {\n",
       "        vertical-align: middle;\n",
       "    }\n",
       "\n",
       "    .dataframe tbody tr th {\n",
       "        vertical-align: top;\n",
       "    }\n",
       "\n",
       "    .dataframe thead th {\n",
       "        text-align: right;\n",
       "    }\n",
       "</style>\n",
       "<table border=\"1\" class=\"dataframe\">\n",
       "  <thead>\n",
       "    <tr style=\"text-align: right;\">\n",
       "      <th></th>\n",
       "      <th>sepal_length</th>\n",
       "      <th>sepal_width</th>\n",
       "      <th>petal_length</th>\n",
       "      <th>petal_width</th>\n",
       "      <th>species</th>\n",
       "    </tr>\n",
       "  </thead>\n",
       "  <tbody>\n",
       "    <tr>\n",
       "      <th>count</th>\n",
       "      <td>150.000000</td>\n",
       "      <td>150.000000</td>\n",
       "      <td>150.000000</td>\n",
       "      <td>150.000000</td>\n",
       "      <td>150</td>\n",
       "    </tr>\n",
       "    <tr>\n",
       "      <th>unique</th>\n",
       "      <td>NaN</td>\n",
       "      <td>NaN</td>\n",
       "      <td>NaN</td>\n",
       "      <td>NaN</td>\n",
       "      <td>3</td>\n",
       "    </tr>\n",
       "    <tr>\n",
       "      <th>top</th>\n",
       "      <td>NaN</td>\n",
       "      <td>NaN</td>\n",
       "      <td>NaN</td>\n",
       "      <td>NaN</td>\n",
       "      <td>versicolor</td>\n",
       "    </tr>\n",
       "    <tr>\n",
       "      <th>freq</th>\n",
       "      <td>NaN</td>\n",
       "      <td>NaN</td>\n",
       "      <td>NaN</td>\n",
       "      <td>NaN</td>\n",
       "      <td>50</td>\n",
       "    </tr>\n",
       "    <tr>\n",
       "      <th>mean</th>\n",
       "      <td>5.843333</td>\n",
       "      <td>3.057333</td>\n",
       "      <td>3.758000</td>\n",
       "      <td>1.199333</td>\n",
       "      <td>NaN</td>\n",
       "    </tr>\n",
       "    <tr>\n",
       "      <th>std</th>\n",
       "      <td>0.828066</td>\n",
       "      <td>0.435866</td>\n",
       "      <td>1.765298</td>\n",
       "      <td>0.762238</td>\n",
       "      <td>NaN</td>\n",
       "    </tr>\n",
       "    <tr>\n",
       "      <th>min</th>\n",
       "      <td>4.300000</td>\n",
       "      <td>2.000000</td>\n",
       "      <td>1.000000</td>\n",
       "      <td>0.100000</td>\n",
       "      <td>NaN</td>\n",
       "    </tr>\n",
       "    <tr>\n",
       "      <th>25%</th>\n",
       "      <td>5.100000</td>\n",
       "      <td>2.800000</td>\n",
       "      <td>1.600000</td>\n",
       "      <td>0.300000</td>\n",
       "      <td>NaN</td>\n",
       "    </tr>\n",
       "    <tr>\n",
       "      <th>50%</th>\n",
       "      <td>5.800000</td>\n",
       "      <td>3.000000</td>\n",
       "      <td>4.350000</td>\n",
       "      <td>1.300000</td>\n",
       "      <td>NaN</td>\n",
       "    </tr>\n",
       "    <tr>\n",
       "      <th>75%</th>\n",
       "      <td>6.400000</td>\n",
       "      <td>3.300000</td>\n",
       "      <td>5.100000</td>\n",
       "      <td>1.800000</td>\n",
       "      <td>NaN</td>\n",
       "    </tr>\n",
       "    <tr>\n",
       "      <th>max</th>\n",
       "      <td>7.900000</td>\n",
       "      <td>4.400000</td>\n",
       "      <td>6.900000</td>\n",
       "      <td>2.500000</td>\n",
       "      <td>NaN</td>\n",
       "    </tr>\n",
       "  </tbody>\n",
       "</table>\n",
       "</div>"
      ],
      "text/plain": [
       "        sepal_length  sepal_width  petal_length  petal_width     species\n",
       "count     150.000000   150.000000    150.000000   150.000000         150\n",
       "unique           NaN          NaN           NaN          NaN           3\n",
       "top              NaN          NaN           NaN          NaN  versicolor\n",
       "freq             NaN          NaN           NaN          NaN          50\n",
       "mean        5.843333     3.057333      3.758000     1.199333         NaN\n",
       "std         0.828066     0.435866      1.765298     0.762238         NaN\n",
       "min         4.300000     2.000000      1.000000     0.100000         NaN\n",
       "25%         5.100000     2.800000      1.600000     0.300000         NaN\n",
       "50%         5.800000     3.000000      4.350000     1.300000         NaN\n",
       "75%         6.400000     3.300000      5.100000     1.800000         NaN\n",
       "max         7.900000     4.400000      6.900000     2.500000         NaN"
      ]
     },
     "execution_count": 35,
     "metadata": {},
     "output_type": "execute_result"
    }
   ],
   "source": [
    "# Central Measures and Disperity\n",
    "iris.describe(include='all')"
   ]
  },
  {
   "cell_type": "markdown",
   "metadata": {},
   "source": [
    "# Apakah kemudian pengaruh perbedaan Matematika (di ICT) terhadap implementasi Statistika (AI)?"
   ]
  },
  {
   "cell_type": "markdown",
   "metadata": {
    "slideshow": {
     "slide_type": "slide"
    }
   },
   "source": [
    "# Generate data sample untuk studi kasus\n",
    "\n",
    "1. $M = 10^{12}$\n",
    "2. X ~ U[0,1] dengan panjang $10^6$\n",
    "3. $X = \\{x+M, x \\in X\\}$\n",
    "\n",
    "### Dengan cara ini maka seharunya rata-rata akan mendekati $M$ dan variansi seharusnya sangat kecil mendekati 0. \n",
    "## Why?"
   ]
  },
  {
   "cell_type": "markdown",
   "metadata": {
    "slideshow": {
     "slide_type": "slide"
    }
   },
   "source": [
    "# Elementary Statistics/Statistical Mathematics\n",
    "\n",
    "<img alt=\"\" src=\"images/uniform_mean_var.png\" />\n",
    "\n",
    "image source: https://image2.slideserve.com/4702922/uniform-distribution-mean-variance-l.jpg"
   ]
  },
  {
   "cell_type": "code",
   "execution_count": 2,
   "metadata": {
    "slideshow": {
     "slide_type": "slide"
    }
   },
   "outputs": [
    {
     "data": {
      "text/plain": [
       "(0.6475510493530234,\n",
       " array([0.64755105, 0.50714969, 0.52834138, 0.8962852 , 0.69999119,\n",
       "        0.7142971 , 0.71733838, 0.22281946, 0.17515452, 0.45684149]),\n",
       " array([1.64755105, 1.50714969, 1.52834138, 1.8962852 , 1.69999119,\n",
       "        1.7142971 , 1.71733838, 1.22281946, 1.17515452, 1.45684149]))"
      ]
     },
     "execution_count": 2,
     "metadata": {},
     "output_type": "execute_result"
    }
   ],
   "source": [
    "import numpy as np\n",
    "np.random.seed(88) # Biasakan menggunakan SEED pada percobaan random/Stokhastik\n",
    "\n",
    "X = np.random.uniform(0, 1, 10)\n",
    "Y = X+1\n",
    "X[0], X, Y"
   ]
  },
  {
   "cell_type": "code",
   "execution_count": 3,
   "metadata": {
    "slideshow": {
     "slide_type": "fragment"
    }
   },
   "outputs": [
    {
     "data": {
      "text/plain": [
       "<Figure size 640x480 with 1 Axes>"
      ]
     },
     "metadata": {},
     "output_type": "display_data"
    }
   ],
   "source": [
    "# Plot distribusinya\n",
    "import matplotlib.pyplot as plt\n",
    "\n",
    "X = np.random.uniform(0, 1, 3000)\n",
    "count, bins, ignored = plt.hist(X, 10, density=True)\n",
    "plt.plot(bins, np.ones_like(bins), linewidth=2, color='r')\n",
    "plt.show()"
   ]
  },
  {
   "cell_type": "markdown",
   "metadata": {
    "slideshow": {
     "slide_type": "slide"
    }
   },
   "source": [
    "# Our Sample Data"
   ]
  },
  {
   "cell_type": "code",
   "execution_count": 4,
   "metadata": {
    "slideshow": {
     "slide_type": "fragment"
    }
   },
   "outputs": [
    {
     "data": {
      "text/plain": [
       "1000000000000.2643"
      ]
     },
     "execution_count": 4,
     "metadata": {},
     "output_type": "execute_result"
    }
   ],
   "source": [
    "# Hati-hati menggunakan memory yang cukup besar dan komputasi yang cukup besar (lama)!\n",
    "# Rubah ke nilai yang lebih kecil jika menggunakan laptop/netbook \n",
    "# yang Spec-nya Low-Med.\n",
    "M = 10**12\n",
    "X = np.random.uniform(0, 1, 10**6) + M\n",
    "X[0]"
   ]
  },
  {
   "cell_type": "markdown",
   "metadata": {
    "slideshow": {
     "slide_type": "slide"
    }
   },
   "source": [
    "# Solusi Benchmark (Numpy)"
   ]
  },
  {
   "cell_type": "code",
   "execution_count": 5,
   "metadata": {
    "slideshow": {
     "slide_type": "fragment"
    }
   },
   "outputs": [
    {
     "name": "stdout",
     "output_type": "stream",
     "text": [
      "sample mean:          1000000000000.5\n",
      "sample variance:      0.08320963338752091\n"
     ]
    }
   ],
   "source": [
    "realMean = np.mean(X)\n",
    "realVar = np.var(X)\n",
    "print(\"sample mean:         \", realMean)\n",
    "print( \"sample variance:     \", realVar)\n",
    "#print( \"Standard Deviation:     \", np.std(X))\n",
    "# Notice seberapa cepat nilai-nilai ini dihitung? Bandingkan nanti jika kita menggunakan looping."
   ]
  },
  {
   "cell_type": "markdown",
   "metadata": {
    "slideshow": {
     "slide_type": "slide"
    }
   },
   "source": [
    "# Nope hasil diatas tidak tepat! Numpy Var by default menghitung Variansi Populasi bukan sample.\n",
    "\n",
    "* Baca di dokumentasinya disini: https://numpy.org/doc/stable/reference/generated/numpy.var.html\n",
    "* Dengan mudah di sesuaikan dengan cara berikut:"
   ]
  },
  {
   "cell_type": "code",
   "execution_count": 6,
   "metadata": {
    "slideshow": {
     "slide_type": "fragment"
    }
   },
   "outputs": [
    {
     "name": "stdout",
     "output_type": "stream",
     "text": [
      "sample mean:          1000000000000.5\n",
      "sample variance:      0.08320971659723751\n"
     ]
    }
   ],
   "source": [
    "realMean = np.mean(X)\n",
    "realVar = np.var(X, ddof=1)\n",
    "print(\"sample mean:         \", realMean)\n",
    "print( \"sample variance:     \", realVar)"
   ]
  },
  {
   "cell_type": "markdown",
   "metadata": {
    "slideshow": {
     "slide_type": "slide"
    }
   },
   "source": [
    "# Solusi Standard (Naive 2-pass)\n",
    "\n",
    "* Rata-rata sample: $\\bar{x}=\\frac{1}{N}\\sum_{i=1}^{N}{x_i}$\n",
    "* Variansi sample: $\\sigma^2 = \\frac{1}{N-1} \\sum_{i=1}^{N}{(x_i-\\bar{x})^2}$"
   ]
  },
  {
   "cell_type": "code",
   "execution_count": 7,
   "metadata": {
    "slideshow": {
     "slide_type": "fragment"
    }
   },
   "outputs": [
    {
     "name": "stdout",
     "output_type": "stream",
     "text": [
      "Significant digit Rata-rata = 12\n",
      "Significant digit Variansi= 0\n"
     ]
    }
   ],
   "source": [
    "# Hati-hati komputasi cukup lama!\n",
    "M = 10**6\n",
    "sum_ = 0.0 # ingat juggling variable di kuliah pertama\n",
    "for i in range(M):\n",
    "    sum_ += X[i]\n",
    "\n",
    "rerata = sum_/M\n",
    "print('Significant digit Rata-rata =', sigDigit(realMean, rerata))\n",
    "\n",
    "var_ = 0.0\n",
    "for i in range(M):\n",
    "    var_ += (X[i]-rerata)**2\n",
    "\n",
    "var_ = var_/(M-1)\n",
    "print('Significant digit Variansi=', sigDigit(realVar, var_))"
   ]
  },
  {
   "cell_type": "markdown",
   "metadata": {
    "slideshow": {
     "slide_type": "slide"
    }
   },
   "source": [
    "# Mengapa errornya besar sekali?\n",
    "\n",
    "* Cancellation\n",
    "* Plus impractical, kenapa?. Algoritma Two Pass tidak cocok untuk data streaming, misal ketika menangani Velocity di Big Data. \n",
    "\n",
    "# Hal ini muncul di beberapa kasus nyata, misal di: \n",
    "\n",
    "* computing regression coefficients \n",
    "* computing Pearson’s correlation coefficient.\n",
    "* signal processing.\n",
    "\n",
    "## How to improve?"
   ]
  },
  {
   "cell_type": "markdown",
   "metadata": {
    "slideshow": {
     "slide_type": "slide"
    }
   },
   "source": [
    "# Perbaikan #01: Yang biasanya dilakukan Seorang Programmer untuk menangani 2 pass, agar bisa untuk handle streaming analytics (velocity)\n",
    "\n",
    "<img alt=\"\" src=\"images/1_pass_var.png\" />\n",
    "\n",
    "## Sehingga perhitungan variansi menjadi:"
   ]
  },
  {
   "cell_type": "code",
   "execution_count": 8,
   "metadata": {
    "slideshow": {
     "slide_type": "slide"
    }
   },
   "outputs": [
    {
     "name": "stdout",
     "output_type": "stream",
     "text": [
      "Significant digit Variansi= -14\n"
     ]
    }
   ],
   "source": [
    "# Generate ulang X, just to make sure\n",
    "X = np.random.uniform(0, 1, 10**6) + 10**12\n",
    "\n",
    "def onePassVar(X):\n",
    "    sum_, sumsq_ = 0.0, 0.0\n",
    "    N = len(X)\n",
    "    for x in X:\n",
    "        sum_ += x\n",
    "        sumsq_ += x**2\n",
    "    rerata = sum_/N\n",
    "    return (sumsq_ - N*rerata**2)/(N-1)\n",
    "\n",
    "print('Significant digit Variansi=', sigDigit(realVar, onePassVar(X)))"
   ]
  },
  {
   "cell_type": "markdown",
   "metadata": {
    "slideshow": {
     "slide_type": "slide"
    }
   },
   "source": [
    "# Pelajaran Penting, secara algoritma sepertinya Elegan bisa berakibat buruk secara numerik!\n",
    "\n",
    "## Catt: Algoritma ini hanya cocok untuk data dengan skala dan ukuran kecil (why?)"
   ]
  },
  {
   "cell_type": "markdown",
   "metadata": {
    "slideshow": {
     "slide_type": "slide"
    }
   },
   "source": [
    "# Cara paling sederhana menggunakan Sifat Statistika:\n",
    "\n",
    "## Shifted Variance: Ketika suatu data di translasikan maka variance tidak berubah.\n",
    "\n",
    "### ingat hikmah kuliah pertama? (terkait normaslisasi dan standarisasi data)"
   ]
  },
  {
   "cell_type": "code",
   "execution_count": 9,
   "metadata": {
    "slideshow": {
     "slide_type": "slide"
    }
   },
   "outputs": [
    {
     "name": "stdout",
     "output_type": "stream",
     "text": [
      "Significant digit Variansi= 2\n"
     ]
    }
   ],
   "source": [
    "# Hati-hati komputasi cukup lama di komputer dengan spec low-mid\n",
    "# Generate ulang X, just to make sure\n",
    "X = np.random.uniform(0, 1, 10**6) + 10**12\n",
    "\n",
    "X = X-10**12 # Shifting\n",
    "N = len(X)\n",
    "\n",
    "sum_ = 0.0 # ingat juggling variable di kuliah pertama\n",
    "for x in X:\n",
    "    sum_ += x\n",
    "rerata = sum_/N\n",
    "\n",
    "var_ = 0.0\n",
    "for x in X:\n",
    "    var_ += (x-rerata)**2\n",
    "var_ = var_/(N-1)\n",
    "print('Significant digit Variansi=', sigDigit(realVar, var_))"
   ]
  },
  {
   "cell_type": "markdown",
   "metadata": {
    "slideshow": {
     "slide_type": "fragment"
    }
   },
   "source": [
    "# Mengapa hanya dengan \"shifting\"/menggeser meningkatkan akurasi begitu besar?"
   ]
  },
  {
   "cell_type": "markdown",
   "metadata": {},
   "source": [
    "<h1 id=\"Probability\">Probability</h1>\n",
    "\n",
    "<p><img alt=\"\" src=\"images/probs.png\" style=\"width: 637px; height: 262px;\" /></p>\n"
   ]
  },
  {
   "cell_type": "markdown",
   "metadata": {},
   "source": [
    "<p><img alt=\"\" src=\"images/disc_Distributions.jpg\" style=\"width: 535px; height: 438px;\" /></p>\n"
   ]
  },
  {
   "cell_type": "markdown",
   "metadata": {},
   "source": [
    "<p><img alt=\"\" src=\"images/Con_Distributions.jpg\" style=\"width: 535px; height: 568px;\" /></p>\n"
   ]
  },
  {
   "cell_type": "code",
   "execution_count": 41,
   "metadata": {},
   "outputs": [
    {
     "data": {
      "text/plain": [
       "0.4941621208143324"
      ]
     },
     "execution_count": 41,
     "metadata": {},
     "output_type": "execute_result"
    }
   ],
   "source": [
    "import random as rand\n",
    "\n",
    "rand.random()"
   ]
  },
  {
   "cell_type": "code",
   "execution_count": 42,
   "metadata": {},
   "outputs": [
    {
     "data": {
      "text/plain": [
       "8"
      ]
     },
     "execution_count": 42,
     "metadata": {},
     "output_type": "execute_result"
    }
   ],
   "source": [
    "rand.randint(1,12)"
   ]
  },
  {
   "cell_type": "code",
   "execution_count": 43,
   "metadata": {},
   "outputs": [],
   "source": [
    "mu, sigma = 0, 0.1\n",
    "s = np.random.normal(mu, sigma, 1000)"
   ]
  },
  {
   "cell_type": "code",
   "execution_count": 44,
   "metadata": {},
   "outputs": [
    {
     "data": {
      "image/png": "[encoded data removed]",
      "text/plain": [
       "<Figure size 432x288 with 1 Axes>"
      ]
     },
     "metadata": {},
     "output_type": "display_data"
    }
   ],
   "source": [
    "count, bins, ignored = plt.hist(s, 30, density=True)\n",
    "plt.plot(bins, 1/(sigma * np.sqrt(2 * np.pi)) * np.exp( - (bins - mu)**2 / (2 * sigma**2) ), linewidth=2, color='r')\n",
    "plt.show()"
   ]
  },
  {
   "cell_type": "markdown",
   "metadata": {},
   "source": [
    "# Pahami makna fungsi, misal fungsi aktivasi di NN/DL\n",
    "\n",
    "<img alt=\"\" src=\"images/6_JST_Actv.png\" style=\"width: 756px; height: 625px;\" />"
   ]
  },
  {
   "cell_type": "markdown",
   "metadata": {},
   "source": [
    "# Contoh di LSTM:\n",
    "\n",
    "<ul>\n",
    "\t<li>Penjelasan yang baik tentang LSTM:&nbsp;http://colah.github.io/posts/2015-08-Understanding-LSTMs/</li>\n",
    "\t<li>Hochreiter, S., &amp; Schmidhuber, J. (1997). Long short-term memory. Neural computation, 9(8), 1735-1780.</li>\n",
    "\t<li><a href=\"http://citeseerx.ist.psu.edu/viewdoc/download?doi=10.1.1.676.4320&amp;rep=rep1&amp;type=pdf\" target=\"_blank\">http://citeseerx.ist.psu.edu/viewdoc/download?doi=10.1.1.676.4320&amp;rep=rep1&amp;type=pdf</a></li>\n",
    "\t<li><img alt=\"\" src=\"images/lstm_wiki.png\" style=\"width: 800px; height: 446px;\" /></li>\n",
    "</ul>"
   ]
  },
  {
   "cell_type": "markdown",
   "metadata": {},
   "source": [
    "<h1 id=\"LSTM-the-Calculation\">LSTM the Calculation</h1>\n",
    "\n",
    "<p><img alt=\"\" src=\"images/lstm_math.png\" style=\"width: 800px; height: 262px;\" /></p>\n"
   ]
  },
  {
   "cell_type": "markdown",
   "metadata": {},
   "source": [
    "# Hypothesis Space and why it is important in ML/AI\n",
    "\n",
    "<p><img alt=\"\" src=\"images/hyp_space.png\" style=\"width: 800px; height: 567px;\" /></p>\n"
   ]
  },
  {
   "cell_type": "markdown",
   "metadata": {},
   "source": [
    "# <center><font color=\"blue\"> Kita hanya memiliki 2 jam untuk membahas (dasar) Matematika untuk AI\n",
    "    \n",
    "## Silahkan dikembangkan sendiri untuk pengetahuan lebih lanjut.\n",
    "## Modul ini hanya memberikan motivasi untuk ML Egineer/Data Scientist\n",
    "    \n",
    "# <center><font color=\"Red\"> Diskusi: Seberapa penting memahami Matematika dibalik AI/Deep Learning?\n",
    "    \n",
    "<img alt=\"\" src=\"images/LSTM_Math.jpg\"/>"
   ]
  },
  {
   "cell_type": "markdown",
   "metadata": {
    "slideshow": {
     "slide_type": "slide"
    }
   },
   "source": [
    "<h1>End of Module</h1>\n",
    "\n",
    "<hr />\n",
    "<img alt=\"\" src=\"images/meme.jpg\"/>"
   ]
  }
 ],
 "metadata": {
  "celltoolbar": "Slideshow",
  "kernelspec": {
   "display_name": "Python 3",
   "language": "python",
   "name": "python3"
  },
  "language_info": {
   "codemirror_mode": {
    "name": "ipython",
    "version": 3
   },
   "file_extension": ".py",
   "mimetype": "text/x-python",
   "name": "python",
   "nbconvert_exporter": "python",
   "pygments_lexer": "ipython3",
   "version": "3.8.5"
  },
  "latex_envs": {
   "LaTeX_envs_menu_present": true,
   "autoclose": false,
   "autocomplete": true,
   "bibliofile": "biblio.bib",
   "cite_by": "apalike",
   "current_citInitial": 1,
   "eqLabelWithNumbers": true,
   "eqNumInitial": 1,
   "hotkeys": {
    "equation": "Ctrl-E",
    "itemize": "Ctrl-I"
   },
   "labels_anchors": false,
   "latex_user_defs": false,
   "report_style_numbering": false,
   "user_envs_cfg": false
  }
 },
 "nbformat": 4,
 "nbformat_minor": 2
}
