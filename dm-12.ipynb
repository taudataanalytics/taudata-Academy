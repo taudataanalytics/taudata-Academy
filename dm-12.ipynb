{
 "cells": [
  {
   "cell_type": "markdown",
   "metadata": {
    "slideshow": {
     "slide_type": "slide"
    }
   },
   "source": [
    "<center><img alt=\"\" src=\"images/cover_sma.jpg\"/></center> \n",
    "\n",
    "## <center><font color=\"blue\">Pendahuluan Digital Data Gathering</font><br> <b>(C) Taufik Sutanto - 2020<br>https://tau-data.id/sma-01/"
   ]
  },
  {
   "cell_type": "markdown",
   "metadata": {
    "slideshow": {
     "slide_type": "slide"
    }
   },
   "source": [
    "# Outline:\n",
    "\n",
    "1. Social Media Crawling\n",
    "2. Social Media Streaming\n",
    "3. Sekilas Privacy & Ethics Data Gathering\n",
    "4. Scrapping Media Social & Website\n",
    "5. Loading Local Documents\n",
    "6. Text Analytics"
   ]
  },
  {
   "cell_type": "code",
   "execution_count": null,
   "metadata": {
    "slideshow": {
     "slide_type": "slide"
    }
   },
   "outputs": [],
   "source": [
    "# Hanya jalankan jika menggunakan Google Colab\n",
    "# Jika menjalankan program ini secara lokal (Anaconda/WinPython) sebaiknya dijalankan di Terminal/Command Prompt\n",
    "\n",
    "!pip install unidecode twython tweepy beautifulsoup4 tika"
   ]
  },
  {
   "cell_type": "code",
   "execution_count": 1,
   "metadata": {
    "slideshow": {
     "slide_type": "slide"
    }
   },
   "outputs": [],
   "source": [
    "import warnings; warnings.simplefilter('ignore')\n",
    "import tweepy, json, nltk, urllib.request, requests\n",
    "from urllib.request import Request, urlopen\n",
    "from twython import TwythonStreamer\n",
    "from bs4 import BeautifulSoup as bs"
   ]
  },
  {
   "cell_type": "markdown",
   "metadata": {
    "slideshow": {
     "slide_type": "slide"
    }
   },
   "source": [
    "# Data Gathering: Crawling, Streaming, Scrapping"
   ]
  },
  {
   "cell_type": "markdown",
   "metadata": {
    "slideshow": {
     "slide_type": "slide"
    }
   },
   "source": [
    "# Social Media Analytics (SMA)\n",
    "\n",
    "<h3 id=\"SMA-adalah-sebuah-proses-pengumpulan-data-dari-media-sosial-dan-analisanya-untuk-mendapatkan-'insights'-atau-informasi-berharga-untuk-suatu-tujuan-tertentu-(definisi-adopted-dari-Gartner*)\">SMA adalah sebuah proses pengumpulan data dari media sosial dan analisanya untuk mendapatkan &#39;insights&#39; atau informasi berharga untuk suatu tujuan tertentu (definisi diadopsi dari Gartner*).</h3>\n",
    "\n",
    "<p><img alt=\"\" src=\"images/8_SMA.JPG\" style=\"width: 600px; height: 304px;\" /></p>\n"
   ]
  },
  {
   "cell_type": "markdown",
   "metadata": {
    "slideshow": {
     "slide_type": "slide"
    }
   },
   "source": [
    "<p><img alt=\"\" src=\"images/8_SMA_Cycle.JPG\" style=\"height:300px; width:705px\" /></p>\n"
   ]
  },
  {
   "cell_type": "markdown",
   "metadata": {
    "slideshow": {
     "slide_type": "slide"
    }
   },
   "source": [
    "<p><img alt=\"\" src=\"images/8_SMA_Techniques.JPG\" style=\"height:400px; width:574px\" /></p>\n"
   ]
  },
  {
   "cell_type": "markdown",
   "metadata": {
    "slideshow": {
     "slide_type": "slide"
    }
   },
   "source": [
    "<h1 id=\"Crawling-Data\">Crawling/Scrapping Data</h1>\n",
    "\n",
    "<p><img alt=\"\" src=\"images/Digital_Media_Crawling_.png\" /></p>\n",
    "\n",
    "* Credits, image source: https://www.promptcloud.com/blog/scraping-social-media-data-for-sentiment-analysis/"
   ]
  },
  {
   "cell_type": "markdown",
   "metadata": {
    "slideshow": {
     "slide_type": "slide"
    }
   },
   "source": [
    "<h3 id=\"Social-Media-Analytics-Challenges\"><u>Tantangan Social Media Analytics</u></h3>\n",
    "\n",
    "<ul>\n",
    "\t<li>\n",
    "\t<p>Pendek (<strong>Short </strong>in lengths): bahkan terkadang tidak mengandung sebuah kalimat yang utuh menurut tata bahasa (grammar).</p>\n",
    "\t</li>\n",
    "\t<li><strong>Noise&nbsp;</strong>: Data media sosial penuh dengan noise seperti typos (salah ketik), encoding yang tidak jamak, slang, dsb.</li>\n",
    "\t<li><strong>Temporal&nbsp;</strong>: Informasi yang sedang trending biasanya hanya sesaat,<br />\n",
    "\tsehingga SMA diharapkan dilakukan dengan cepat menggunakan model-model/teknik-teknik analisa data yang efisien.</li>\n",
    "\t<li><strong>High-dimensional</strong> : Data di Media Sosial (Teks, Gambar, Video, Suara, dsb) adalah data tidak terstruktur berdimensi tinggi.</li>\n",
    "\t<li><strong>Fine-grained</strong> : Data di media sosial berasal dari banyak user yang masing-masingnya bisa jadi membahas beberapa topik yang berbeda.<br />\n",
    "\tSehingga komunitas (kelompok), topik, maupun klasifikasi yang ada menjadi besar (fine-grained).</li>\n",
    "\t<li><strong>Large in volume</strong>&nbsp;&amp; <strong>High velocity</strong>:&nbsp; Data yang sangat besar dan bertambah besar dengan cepat.</li>\n",
    "\t<li><strong>A lot of external Information</strong> : Informasi terkadang lebih banyak terkandung dari luar (eksternal) seperti url website, video, atau hal lain yang dibagikan oleh pengguna media sosial.</li>\n",
    "</ul>\n"
   ]
  },
  {
   "cell_type": "markdown",
   "metadata": {
    "slideshow": {
     "slide_type": "slide"
    }
   },
   "source": [
    "<h2 id=\"Case-Study:-twitter\">Case Study: twitter</h2>\n",
    "<ol>\n",
    "\t<li>API Keys</li>\n",
    "\t<li>Rules</li>\n",
    "\t<li>Crawling by searching</li>\n",
    "    <li>tweet Json</li>\n",
    "\t<li>Crawling by Streaming and Scrapping</li>\n",
    "    <li>twitter Social Media Analytics</li>\n",
    "</ol>\n",
    "<img alt=\"\" src=\"images/6_twitter.png\" style=\"width: 300px; height: 300px;\" />"
   ]
  },
  {
   "cell_type": "markdown",
   "metadata": {
    "slideshow": {
     "slide_type": "slide"
    }
   },
   "source": [
    "<h2>twitter API Keys</h2>\n",
    "\n",
    "<h2><img alt=\"\" src=\"images/6_Creating_API_Keys.png\" style=\"width: 854px ; height: 444px\" /></h2>\n"
   ]
  },
  {
   "cell_type": "markdown",
   "metadata": {
    "slideshow": {
     "slide_type": "slide"
    }
   },
   "source": [
    "<h2 id=\"Aturan-twitter\">Aturan, bentuk data, &amp; error codes twitter</h2>\n",
    "\n",
    "<ol>\n",
    "\t<li>\n",
    "\t<p><a href=\"https://dev.twitter.com/rest/public/rate-limiting\" target=\"_blank\">https://</a><a href=\"https://dev.twitter.com/rest/public/rate-limiting\" target=\"_blank\">dev.twitter.com/rest/public/rate-limiting</a></p>\n",
    "\t</li>\n",
    "\t<li>\n",
    "\t<p><a href=\"https://dev.twitter.com/overview/terms/agreement-and-policy\" target=\"_blank\">https://dev.twitter.com/overview/terms/agreement-and-policy</a></p>\n",
    "\t</li>\n",
    "\t<li>\n",
    "\t<p><a href=\"https://dev.twitter.com/overview/api/response-codes\" target=\"_blank\">https://</a><a href=\"https://dev.twitter.com/overview/api/response-codes\" target=\"_blank\">dev.twitter.com/overview/api/response-codes</a></p>\n",
    "\t</li>\n",
    "\t<li>\n",
    "\t<p><a href=\"https://dev.twitter.com/overview/api/tweets\" target=\"_blank\">https://</a><a href=\"https://dev.twitter.com/overview/api/tweets\" target=\"_blank\">dev.twitter.com/overview/api/tweets</a></p>\n",
    "\t</li>\n",
    "</ol>\n"
   ]
  },
  {
   "cell_type": "code",
   "execution_count": null,
   "metadata": {
    "slideshow": {
     "slide_type": "slide"
    }
   },
   "outputs": [],
   "source": [
    "# Contoh API Keys (Sesuaikan dengan API keys masing-masing)\n",
    "Ck = '' # consumer_key\n",
    "Cs = '' # consumer_secret\n",
    "At = '-' # access_token\n",
    "As = '' # access_secret\n",
    "'Done'"
   ]
  },
  {
   "cell_type": "code",
   "execution_count": 1,
   "metadata": {
    "slideshow": {
     "slide_type": "slide"
    }
   },
   "outputs": [],
   "source": [
    "def twitter_connect(Ck, Cs, At, As, verbose = 0):\n",
    "    try:\n",
    "        auth = tweepy.OAuthHandler(Ck, Cs)\n",
    "        auth.set_access_token(At, As)\n",
    "        twitter = tweepy.API(auth, timeout=120)\n",
    "        if verbose != 0:\n",
    "            user = twitter.verify_credentials()\n",
    "            print('Welcome \"%s\" you are now connected to twitter server' %user.name)\n",
    "        return twitter\n",
    "    except Exception as err_:\n",
    "        print(\"Connection failed: \", err_)\n",
    "        return None"
   ]
  },
  {
   "cell_type": "code",
   "execution_count": 16,
   "metadata": {
    "slideshow": {
     "slide_type": "slide"
    }
   },
   "outputs": [
    {
     "name": "stdout",
     "output_type": "stream",
     "text": [
      "Welcome \"Taufik Sutanto\" you are now connected to twitter server\n"
     ]
    }
   ],
   "source": [
    "# Koneksi ke twitter\n",
    "twitter = twitter_connect(Ck, Cs, At, As, verbose = 1)"
   ]
  },
  {
   "cell_type": "markdown",
   "metadata": {
    "slideshow": {
     "slide_type": "slide"
    }
   },
   "source": [
    "<h2 id=\"Json-Files\">Json Files</h2>\n",
    "\n",
    "<ul>\n",
    "\t<li>Populer digunakan untuk data dari Media Sosial dan NoSQL</li>\n",
    "\t<li>Portable: File Json memuat nama variabel dan nilainya (tidak seperti XML)</li>\n",
    "\t<li>Plain Text</li>\n",
    "\t<li>Schemaless: Setiap record tidak harus memiliki jumlah field yang tetap seperti csv</li>\n",
    "\t<li>JSON isomorfis dengan &quot;Dictionary&quot; di Python</li>\n",
    "\t<li>Contoh struktur file json:</li>\n",
    "</ul>\n",
    "\n",
    "<p><img alt=\"\" src=\"images/json.png\" style=\"width: 200px; height: 211px;\" /></p>\n"
   ]
  },
  {
   "cell_type": "code",
   "execution_count": 17,
   "metadata": {
    "slideshow": {
     "slide_type": "slide"
    }
   },
   "outputs": [
    {
     "name": "stdout",
     "output_type": "stream",
     "text": [
      " Berhasil mendapatkan 100 tweets\n"
     ]
    }
   ],
   "source": [
    "# Max 100 tweet per \"API call\"\n",
    "topic = 'psbb jakarta'\n",
    "N = 100 # jumlah tweet yang ingin diambil\n",
    "bahasa = 'id'\n",
    "T = twitter.search(q=topic, lang=bahasa, count=N, tweet_mode = 'extended')\n",
    "tweets = [t._json for t in T]\n",
    "print(' Berhasil mendapatkan {} tweets'.format(len(tweets)))"
   ]
  },
  {
   "cell_type": "code",
   "execution_count": 19,
   "metadata": {
    "scrolled": true,
    "slideshow": {
     "slide_type": "slide"
    }
   },
   "outputs": [
    {
     "data": {
      "text/plain": [
       "('Wed Oct 21 00:54:05 +0000 2020',\n",
       " 'RT @TRANSTV_CORP: Masuk kembali ke masa PSBB Transisi, kini traveler bisa kembali melangsungkan pernikahan di hotel. Hanya wajib lapor dulu…')"
      ]
     },
     "execution_count": 19,
     "metadata": {},
     "output_type": "execute_result"
    }
   ],
   "source": [
    "# Datanya berbentuk JSON\n",
    "tweets[0]['created_at'], tweets[0]['full_text'], "
   ]
  },
  {
   "cell_type": "code",
   "execution_count": 30,
   "metadata": {
    "scrolled": false,
    "slideshow": {
     "slide_type": "slide"
    }
   },
   "outputs": [
    {
     "data": {
      "text/plain": [
       "{'created_at': 'Wed Oct 21 00:54:05 +0000 2020',\n",
       " 'id': 1318717158247989249,\n",
       " 'id_str': '1318717158247989249',\n",
       " 'full_text': 'RT @TRANSTV_CORP: Masuk kembali ke masa PSBB Transisi, kini traveler bisa kembali melangsungkan pernikahan di hotel. Hanya wajib lapor dulu…',\n",
       " 'truncated': False,\n",
       " 'display_text_range': [0, 140],\n",
       " 'entities': {'hashtags': [],\n",
       "  'symbols': [],\n",
       "  'user_mentions': [{'screen_name': 'TRANSTV_CORP',\n",
       "    'name': 'TRANS TV',\n",
       "    'id': 125225621,\n",
       "    'id_str': '125225621',\n",
       "    'indices': [3, 16]}],\n",
       "  'urls': []},\n",
       " 'metadata': {'iso_language_code': 'in', 'result_type': 'recent'},\n",
       " 'source': '<a href=\"http://twitter.com/download/android\" rel=\"nofollow\">Twitter for Android</a>',\n",
       " 'in_reply_to_status_id': None,\n",
       " 'in_reply_to_status_id_str': None,\n",
       " 'in_reply_to_user_id': None,\n",
       " 'in_reply_to_user_id_str': None,\n",
       " 'in_reply_to_screen_name': None,\n",
       " 'user': {'id': 1088628266263441408,\n",
       "  'id_str': '1088628266263441408',\n",
       "  'name': 'maher',\n",
       "  'screen_name': 'maher68554742',\n",
       "  'location': '',\n",
       "  'description': '',\n",
       "  'url': None,\n",
       "  'entities': {'description': {'urls': []}},\n",
       "  'protected': False,\n",
       "  'followers_count': 24,\n",
       "  'friends_count': 112,\n",
       "  'listed_count': 0,\n",
       "  'created_at': 'Fri Jan 25 02:42:59 +0000 2019',\n",
       "  'favourites_count': 2004,\n",
       "  'utc_offset': None,\n",
       "  'time_zone': None,\n",
       "  'geo_enabled': False,\n",
       "  'verified': False,\n",
       "  'statuses_count': 1100,\n",
       "  'lang': None,\n",
       "  'contributors_enabled': False,\n",
       "  'is_translator': False,\n",
       "  'is_translation_enabled': False,\n",
       "  'profile_background_color': 'F5F8FA',\n",
       "  'profile_background_image_url': None,\n",
       "  'profile_background_image_url_https': None,\n",
       "  'profile_background_tile': False,\n",
       "  'profile_image_url': 'http://pbs.twimg.com/profile_images/1088633092653297665/FjBw_qYH_normal.jpg',\n",
       "  'profile_image_url_https': 'https://pbs.twimg.com/profile_images/1088633092653297665/FjBw_qYH_normal.jpg',\n",
       "  'profile_link_color': '1DA1F2',\n",
       "  'profile_sidebar_border_color': 'C0DEED',\n",
       "  'profile_sidebar_fill_color': 'DDEEF6',\n",
       "  'profile_text_color': '333333',\n",
       "  'profile_use_background_image': True,\n",
       "  'has_extended_profile': False,\n",
       "  'default_profile': True,\n",
       "  'default_profile_image': False,\n",
       "  'following': False,\n",
       "  'follow_request_sent': False,\n",
       "  'notifications': False,\n",
       "  'translator_type': 'none'},\n",
       " 'geo': None,\n",
       " 'coordinates': None,\n",
       " 'place': None,\n",
       " 'contributors': None,\n",
       " 'retweeted_status': {'created_at': 'Tue Oct 20 09:26:27 +0000 2020',\n",
       "  'id': 1318483709016731648,\n",
       "  'id_str': '1318483709016731648',\n",
       "  'full_text': 'Masuk kembali ke masa PSBB Transisi, kini traveler bisa kembali melangsungkan pernikahan di hotel. Hanya wajib lapor dulu.\\n\\n#PSBBTransisi\\n\\nhttps://t.co/jDpva8xFkH',\n",
       "  'truncated': False,\n",
       "  'display_text_range': [0, 162],\n",
       "  'entities': {'hashtags': [{'text': 'PSBBTransisi', 'indices': [124, 137]}],\n",
       "   'symbols': [],\n",
       "   'user_mentions': [],\n",
       "   'urls': [{'url': 'https://t.co/jDpva8xFkH',\n",
       "     'expanded_url': 'https://travel.detik.com/travel-news/d-5221024/psbb-transisi-menikah-di-hotel-wajib-lapor-pemprov-dki-jakarta',\n",
       "     'display_url': 'travel.detik.com/travel-news/d-…',\n",
       "     'indices': [139, 162]}]},\n",
       "  'metadata': {'iso_language_code': 'in', 'result_type': 'recent'},\n",
       "  'source': '<a href=\"http://twitter.com/download/android\" rel=\"nofollow\">Twitter for Android</a>',\n",
       "  'in_reply_to_status_id': None,\n",
       "  'in_reply_to_status_id_str': None,\n",
       "  'in_reply_to_user_id': None,\n",
       "  'in_reply_to_user_id_str': None,\n",
       "  'in_reply_to_screen_name': None,\n",
       "  'user': {'id': 125225621,\n",
       "   'id_str': '125225621',\n",
       "   'name': 'TRANS TV',\n",
       "   'screen_name': 'TRANSTV_CORP',\n",
       "   'location': '',\n",
       "   'description': 'The official TRANS TV on Twitter. Contact us through email public.relations@transtv.co.id',\n",
       "   'url': 'https://t.co/UTuwTcy1BV',\n",
       "   'entities': {'url': {'urls': [{'url': 'https://t.co/UTuwTcy1BV',\n",
       "       'expanded_url': 'http://www.youtube.com/user/TRANSTVofficial',\n",
       "       'display_url': 'youtube.com/user/TRANSTVof…',\n",
       "       'indices': [0, 23]}]},\n",
       "    'description': {'urls': []}},\n",
       "   'protected': False,\n",
       "   'followers_count': 5410786,\n",
       "   'friends_count': 95,\n",
       "   'listed_count': 3727,\n",
       "   'created_at': 'Mon Mar 22 03:47:30 +0000 2010',\n",
       "   'favourites_count': 1764,\n",
       "   'utc_offset': None,\n",
       "   'time_zone': None,\n",
       "   'geo_enabled': True,\n",
       "   'verified': True,\n",
       "   'statuses_count': 85775,\n",
       "   'lang': None,\n",
       "   'contributors_enabled': False,\n",
       "   'is_translator': False,\n",
       "   'is_translation_enabled': False,\n",
       "   'profile_background_color': 'C0DEED',\n",
       "   'profile_background_image_url': 'http://abs.twimg.com/images/themes/theme1/bg.png',\n",
       "   'profile_background_image_url_https': 'https://abs.twimg.com/images/themes/theme1/bg.png',\n",
       "   'profile_background_tile': True,\n",
       "   'profile_image_url': 'http://pbs.twimg.com/profile_images/841500796311101440/90eaFskg_normal.jpg',\n",
       "   'profile_image_url_https': 'https://pbs.twimg.com/profile_images/841500796311101440/90eaFskg_normal.jpg',\n",
       "   'profile_banner_url': 'https://pbs.twimg.com/profile_banners/125225621/1600745465',\n",
       "   'profile_link_color': '0084B4',\n",
       "   'profile_sidebar_border_color': 'FFFFFF',\n",
       "   'profile_sidebar_fill_color': 'DDEEF6',\n",
       "   'profile_text_color': '333333',\n",
       "   'profile_use_background_image': True,\n",
       "   'has_extended_profile': False,\n",
       "   'default_profile': False,\n",
       "   'default_profile_image': False,\n",
       "   'following': False,\n",
       "   'follow_request_sent': False,\n",
       "   'notifications': False,\n",
       "   'translator_type': 'none'},\n",
       "  'geo': None,\n",
       "  'coordinates': None,\n",
       "  'place': None,\n",
       "  'contributors': None,\n",
       "  'is_quote_status': False,\n",
       "  'retweet_count': 54,\n",
       "  'favorite_count': 77,\n",
       "  'favorited': False,\n",
       "  'retweeted': False,\n",
       "  'possibly_sensitive': False,\n",
       "  'lang': 'in'},\n",
       " 'is_quote_status': False,\n",
       " 'retweet_count': 54,\n",
       " 'favorite_count': 0,\n",
       " 'favorited': False,\n",
       " 'retweeted': False,\n",
       " 'lang': 'in'}"
      ]
     },
     "execution_count": 30,
     "metadata": {},
     "output_type": "execute_result"
    }
   ],
   "source": [
    "tweets[0]"
   ]
  },
  {
   "cell_type": "code",
   "execution_count": 20,
   "metadata": {
    "slideshow": {
     "slide_type": "slide"
    }
   },
   "outputs": [
    {
     "name": "stdout",
     "output_type": "stream",
     "text": [
      "tweet pertama oleh \"maher68554742\" : \"RT @TRANSTV_CORP: Masuk kembali ke masa PSBB Transisi, kini traveler bisa kembali melangsungkan pernikahan di hotel. Hanya wajib lapor dulu…\"\n"
     ]
    }
   ],
   "source": [
    "# Contoh mengakses data spesifik pada tweet yang pertama:\n",
    "print('tweet pertama oleh \"{}\" : \"{}\"'.format(tweets[0]['user']['screen_name'],tweets[0]['full_text']))"
   ]
  },
  {
   "cell_type": "markdown",
   "metadata": {
    "slideshow": {
     "slide_type": "slide"
    }
   },
   "source": [
    "# Bagaimana kalau mau mengambil data lebih banyak"
   ]
  },
  {
   "cell_type": "code",
   "execution_count": 24,
   "metadata": {
    "slideshow": {
     "slide_type": "fragment"
    }
   },
   "outputs": [
    {
     "name": "stdout",
     "output_type": "stream",
     "text": [
      "Jumlah data sekarang =  300\n"
     ]
    }
   ],
   "source": [
    "# Next data\n",
    "last_id = T[-1]._json['id'] - 1\n",
    "last_id\n",
    "T = twitter.search(q=topic, lang=bahasa, count=N, tweet_mode = 'extended', max_id=last_id)\n",
    "tweets.extend([t._json for t in T])\n",
    "\n",
    "print('Jumlah data sekarang = ', len(tweets))"
   ]
  },
  {
   "cell_type": "markdown",
   "metadata": {
    "slideshow": {
     "slide_type": "fragment"
    }
   },
   "source": [
    "# Lalu Loop terus sampai \"T\" False (kosong/None)\n",
    "\n",
    "### Silahkan modifikasi dengan menggunakan Looping \"while\" sebagai latihan."
   ]
  },
  {
   "cell_type": "markdown",
   "metadata": {
    "slideshow": {
     "slide_type": "slide"
    }
   },
   "source": [
    "# Menyimpan hasil crawling? (Sebaiknya di NoSQL)"
   ]
  },
  {
   "cell_type": "code",
   "execution_count": 25,
   "metadata": {
    "slideshow": {
     "slide_type": "fragment"
    }
   },
   "outputs": [],
   "source": [
    "def saveTweets(tweets, file='Tweets.json'): #in Json Format\n",
    "    with open(file, 'w') as f:\n",
    "        for t in tweets:\n",
    "            try:\n",
    "                f.write(json.dumps(t)+'\\n')\n",
    "            except:\n",
    "                pass"
   ]
  },
  {
   "cell_type": "code",
   "execution_count": 26,
   "metadata": {
    "slideshow": {
     "slide_type": "slide"
    }
   },
   "outputs": [
    {
     "name": "stdout",
     "output_type": "stream",
     "text": [
      "Saved to data/tweets_sma-01.json\n"
     ]
    }
   ],
   "source": [
    "# Menyimpan hasil crawling twitter\n",
    "fileName = 'data/tweets_sma-01.json'\n",
    "saveTweets(tweets,file=fileName)\n",
    "print('Saved to '+fileName)"
   ]
  },
  {
   "cell_type": "markdown",
   "metadata": {
    "slideshow": {
     "slide_type": "slide"
    }
   },
   "source": [
    "# Load Kembali?"
   ]
  },
  {
   "cell_type": "code",
   "execution_count": 27,
   "metadata": {
    "slideshow": {
     "slide_type": "fragment"
    }
   },
   "outputs": [],
   "source": [
    "def loadTweets(file='Tweets.json'):\n",
    "    f=open(file,encoding='utf-8', errors ='ignore', mode='r')\n",
    "    T=f.readlines();f.close()\n",
    "    for i,t in enumerate(T):\n",
    "        T[i] = json.loads(t.strip())\n",
    "    return T"
   ]
  },
  {
   "cell_type": "code",
   "execution_count": 28,
   "metadata": {
    "slideshow": {
     "slide_type": "fragment"
    }
   },
   "outputs": [
    {
     "name": "stdout",
     "output_type": "stream",
     "text": [
      "tweet pertama oleh \"maher68554742\" : \"RT @TRANSTV_CORP: Masuk kembali ke masa PSBB Transisi, kini traveler bisa kembali melangsungkan pernikahan di hotel. Hanya wajib lapor dulu…\"\n"
     ]
    }
   ],
   "source": [
    "# Me-load kembali jika (misal) analisa ingin dilakukan di lain waktu\n",
    "# Sengaja nama variabelnya saya bedakan (T2)\n",
    "T2 = loadTweets(file='data/tweets_sma-01.json')\n",
    "print('tweet pertama oleh \"{}\" : \"{}\"'.format(T2[0]['user']['screen_name'],T2[0]['full_text']))"
   ]
  },
  {
   "cell_type": "code",
   "execution_count": 29,
   "metadata": {
    "slideshow": {
     "slide_type": "slide"
    }
   },
   "outputs": [
    {
     "data": {
      "text/plain": [
       "['RT @TRANSTV_CORP: Masuk kembali ke masa PSBB Transisi, kini traveler bisa kembali melangsungkan pernikahan di hotel. Hanya wajib lapor dulu…',\n",
       " 'RT @TRANSTV_CORP: Masuk kembali ke masa PSBB Transisi, kini traveler bisa kembali melangsungkan pernikahan di hotel. Hanya wajib lapor dulu…',\n",
       " 'RT @tempodotco: PSBB Transisi, 77 RPTRA di Jakarta Utara Dibuka Lagi #TempoMetro https://t.co/yipPjc3J0D',\n",
       " 'Pemprov DKI Jakarta akhirnya mengizinkan bioskop buka saat PSBB transisi. Namun, kebijakan ini masih sulit membangkitkan bisnis bioskop yang telah terpuruk selama pandemii Covid-19. #Analisis\\nhttps://t.co/WeK7rk2ieU',\n",
       " 'Hari Ke-9 PSBB Transisi, Jumlah Positif Corona di Jakarta Tambah 964 Kasus https://t.co/olB2lkHhTb #DariSuara']"
      ]
     },
     "execution_count": 29,
     "metadata": {},
     "output_type": "execute_result"
    }
   ],
   "source": [
    "# Contoh mengambil hanya data tweet\n",
    "D = [t['full_text'] for t in T2]\n",
    "D[:5] # 5 tweet pertama"
   ]
  },
  {
   "cell_type": "markdown",
   "metadata": {
    "slideshow": {
     "slide_type": "slide"
    }
   },
   "source": [
    "# Keywords dan Query\n",
    "\n",
    "* Pemilihan Keywords yang baik https://medium.com/lingvo-masino/how-to-choose-keywords-in-twitter-9c3b85c50290\n",
    "* Image Source & Details: https://developer.twitter.com/en/docs/tweets/search/guides/standard-operators.html\n",
    "<img alt=\"\" src=\"images/query_Operator.png\" />"
   ]
  },
  {
   "cell_type": "code",
   "execution_count": 31,
   "metadata": {
    "slideshow": {
     "slide_type": "slide"
    }
   },
   "outputs": [
    {
     "data": {
      "text/plain": [
       "['Infographics tentang \"Rancangan Undang-undang Perlindungan Data Pribadi\" dari AntaraNews.\\n\\nDraft RUU-PDP:\\nhttps://t.co/YWqsBMCMMr\\nSumber Gambar: https://t.co/QNvCrO0B1z\\nKeterangan lebih lanjut:\\nhttps://t.co/KiRLNWP5yA\\n\\n#DataScientist #Privacy #Ethics #Regulation #GDPR #Indonesia https://t.co/cLxy0qaqrS',\n",
       " 'EDA-03: Pendahuluan Unsupervised Learning (k-Means)\\n\\nVideo: https://t.co/nKLzeZMCgk\\nCode, Module, &amp; Referensi: https://t.co/ZLxsmnmscq\\nForum Diskusi : https://t.co/x7WWv92cH1\\n\\n#unsupervisedLearning #eda #clustering #python #scikitLearn #kmeans',\n",
       " 'EDA-02: Visualisasi Dasar\\n\\nVideo: https://t.co/ioUFoyzi8I\\nModule &amp; Code: https://t.co/Gg4ghqXyHf\\nForum Diskusi/Tanya-jawab: https://t.co/x7WWv92cH1\\n\\n#eda #visualisasi #python #datascience #pandas #seaborn #plt #numpy #folium',\n",
       " '* Tahukah anda bahwa kita tidak selalu boleh melakukan imputasi pada missing values?\\n* Apa ya bedanya outlier dan noise?\\n* Ternyata tidak bijak untuk meng-\"exclude\" outlier, kenapa ya?\\n\\nTemukan jawabannya di: https://t.co/3BbP9bAxTb\\n#Python #EDA #Outliers #preprocessing']"
      ]
     },
     "execution_count": 31,
     "metadata": {},
     "output_type": "execute_result"
    }
   ],
   "source": [
    "# Mari kita coba #1\n",
    "twitter = twitter_connect(Ck, Cs, At, As)\n",
    "topic = 'from:taudataid'\n",
    "n = 10 # Contoh jumlah tweet yang ingin diambil\n",
    "T = twitter.search(q=topic, lang=bahasa, count=N, tweet_mode = 'extended')\n",
    "tweets = [t._json for t in T]\n",
    "isiTweet = [t['full_text'] for t in tweets]\n",
    "isiTweet"
   ]
  },
  {
   "cell_type": "markdown",
   "metadata": {
    "slideshow": {
     "slide_type": "slide"
    }
   },
   "source": [
    "## Go to: https://www.latlong.net/convert-address-to-lat-long.html\n",
    "\n",
    "## Get Latitude dan Longitude dari alamat yang diinginkan\n",
    "\n",
    "**Catt**: Proses ini bisa juga digantikan dengan Google Maps API (gratis 40.000 query/bulan) dan bisa dijalankan langsung dalam program Python"
   ]
  },
  {
   "cell_type": "code",
   "execution_count": 32,
   "metadata": {
    "slideshow": {
     "slide_type": "slide"
    }
   },
   "outputs": [
    {
     "name": "stdout",
     "output_type": "stream",
     "text": [
      "[datetime.datetime(2020, 10, 21, 1, 14, 1), b'RT @VIVAcoid: Dukung Mahasiswa, Warga Bagikan Makanan di Kawasan Patung Kuda https://t.co/VY2McaGae1 #nasional', 776017308, None]\n",
      "[datetime.datetime(2020, 10, 21, 1, 9, 29), b'RT @bankmandiri: Sebutkan nama makanan khas Indonesia dalam gambar.\\n\\n#MandirikanKaryaNegeri #BanggaBuatanIndonesia https://t.co/JePkdHoKaj', 280894154, None]\n",
      "[datetime.datetime(2020, 10, 21, 1, 8, 59), b'20. Dokter ini bilang gak ada makanan yang dipantang. Wow aku terkejoet dan sangat bahagia lah dengernya bebas bisa\\xe2\\x80\\xa6 https://t.co/MCJfbQ1cek', 1189188980, None]\n",
      "[datetime.datetime(2020, 10, 21, 1, 8, 52), b'7. Ada sekitar 3 sampe 4 x ketemu dokternya. Waktu konsul sama dokter ini bener bener dikasih pantangan makanan ban\\xe2\\x80\\xa6 https://t.co/pb1j2k9RWP', 1189188980, None]\n",
      "[datetime.datetime(2020, 10, 21, 1, 8, 33), b'sarapan dulu biar kuat menghadapi kenyataan\\xf0\\x9f\\xa4\\xa3\\xf0\\x9f\\xa4\\xa3\\n\\nmakanan ini mewakili menu makan ara hari ini karna dibikin sekalian\\xf0\\x9f\\xa4\\xa3 https://t.co/B1x9x6EkZ3', 77529396, None]\n"
     ]
    }
   ],
   "source": [
    "# Mari kita coba #3 gunakan google (map) untuk koordinat suatu lokasi\n",
    "# http://thoughtfaucet.com/search-twitter-by-location/\n",
    "# misal search tweet tentang \"makanan\" di Depok dan sekitarnya\n",
    "\n",
    "auth = tweepy.auth.OAuthHandler(Ck, Cs)\n",
    "auth.set_access_token(At, As)\n",
    "api = tweepy.API(auth)\n",
    "\n",
    "Geo, N = \"-6.402484,106.794243,30km\", 5  # HAti-hati jangan ada spasi di Lat-Lon-Radius\n",
    "qry = 'makanan'\n",
    "for tweet in tweepy.Cursor(api.search, q=qry, count=100, geocode=Geo).items(N):\n",
    "    print([tweet.created_at, tweet.text.encode('utf-8'), tweet.user.id, tweet.geo])"
   ]
  },
  {
   "cell_type": "markdown",
   "metadata": {
    "slideshow": {
     "slide_type": "slide"
    }
   },
   "source": [
    "# Streaming and Scrapping Data\n",
    "\n",
    "<img alt=\"\" src=\"images/streaming.png\" />\n",
    "\n",
    "* image source: https://www.juvo.be/blog/real-time-streaming"
   ]
  },
  {
   "cell_type": "code",
   "execution_count": 33,
   "metadata": {
    "slideshow": {
     "slide_type": "slide"
    }
   },
   "outputs": [],
   "source": [
    "# Streaming tweets. Untuk percobaan pilih topicS sesuatu yg sedang trending/populer \"saat ini\".\n",
    "# Atau bisa coba dengan mengirim tweet sendiri :)\n",
    "def streamTwitter(topicS, lang):\n",
    "    class MyStreamer(TwythonStreamer):\n",
    "        def on_success(self, data):\n",
    "            global count\n",
    "            count+=1\n",
    "            print('tweet from {}, post: {}'.format(data['user']['screen_name'], data['text']))\n",
    "            if count==maxTweet:\n",
    "                print('\\nFinished streaming %.0f tweets' %(maxTweet)); self.disconnect()\n",
    "        def on_error(self, status_code, data):\n",
    "            print('Error Status = %s' %status_code); self.disconnect()\n",
    "\n",
    "    while count<maxTweet:\n",
    "        stream = MyStreamer(Ck, Cs, At, As)\n",
    "        stream.statuses.filter(track=topicS)"
   ]
  },
  {
   "cell_type": "code",
   "execution_count": 34,
   "metadata": {
    "scrolled": true,
    "slideshow": {
     "slide_type": "slide"
    }
   },
   "outputs": [
    {
     "name": "stdout",
     "output_type": "stream",
     "text": [
      "tweet from dindinproject, post: Taudata\n",
      "tweet from han_farhan8299, post: Pagi pagi lagi belajar sama taudata tentang SMA\n",
      "\n",
      "Finished streaming 2 tweets\n"
     ]
    }
   ],
   "source": [
    "maxTweet, count = 2, 0 # Rubah sesuai dengan kebutuhan, Untuk percobaan ini cukup (misal) 3 tweet\n",
    "lang = set(['en','id']) # bahasa bisa dipilih > 1\n",
    "topicS = ['taudata'] # Bisa>1\n",
    "\n",
    "streamTwitter(topicS, lang)"
   ]
  },
  {
   "cell_type": "markdown",
   "metadata": {
    "slideshow": {
     "slide_type": "slide"
    }
   },
   "source": [
    "# Data Gathering Ethics-Regulation\n",
    "\n",
    "* RUU PDP + ITE\n",
    "* ToS, Robots.txt, Consent\n",
    "* image source: https://ethicalboardroom.com/information-governance-achieving-data-ethics-privacy-and-trust/\n",
    "* Referensi tambahan: https://tau-data.id/scraping/\n",
    "\n",
    "<img alt=\"\" src=\"images/data_ethics_legal_privacy.png\" />"
   ]
  },
  {
   "cell_type": "markdown",
   "metadata": {
    "slideshow": {
     "slide_type": "slide"
    }
   },
   "source": [
    "# Scrapping \n",
    "\n",
    "1. Go to: https://twitter.com/search-advanced \n",
    "2. Search sesuai keinginan/kebutuhan\n",
    "3. Copy URL\n",
    "4. Ikuti instruksi dibawah\n",
    "\n",
    "### Silahkan Loop dan Modifikasi seperlunya, tapi hormati robots.txt twitter"
   ]
  },
  {
   "cell_type": "code",
   "execution_count": 35,
   "metadata": {
    "slideshow": {
     "slide_type": "slide"
    }
   },
   "outputs": [
    {
     "name": "stdout",
     "output_type": "stream",
     "text": [
      "\n",
      "  \"Bubbles, Fads, and Price Volatilty: The Janda Bolong Market Crash of 2020\" twitter.com/ujangw/status/…\n",
      "\n",
      "\n",
      "\n",
      "  A formula is an expression which calculates the value of a cell. Functions are predefined formulas and are already available in #Excel: excel-easy.com/introduction/f… pic.twitter.com/bBPYSf0ZFu\n",
      "\n",
      "\n"
     ]
    }
   ],
   "source": [
    "# Server tidak suka request tanpa \"header\"/identifier\n",
    "\n",
    "h = {'User-Agent' : \"Mozilla/5.0 (X11; Linux i686) AppleWebKit/537.17 (KHTML, like Gecko) Chrome/24.0.1312.27 Safari/537.17\"}\n",
    "url = 'https://twitter.com/search?q=%22vaksin%20covid%20indonesia%22%20until%3A2020-10-21%20since%3A2019-01-01&src=typed_query'\n",
    "\n",
    "req = Request(url, headers = h)\n",
    "resp = urlopen(req).read()\n",
    "soup = bs(resp,'html.parser')\n",
    "Tweets = soup.find_all(class_= 'tweet-text')\n",
    "Tweets = [bs(str(t), \"lxml\").text for t in Tweets]\n",
    "print(Tweets[0], Tweets[1], sep='\\n') # Print 2 pertama"
   ]
  },
  {
   "cell_type": "markdown",
   "metadata": {
    "slideshow": {
     "slide_type": "slide"
    }
   },
   "source": [
    "# Web Scrapping?\n",
    "\n",
    "<img alt=\"\" src=\"images/web scraping.png\" />\n",
    "\n",
    "### image source: https://www.webharvy.com/articles/what-is-web-scraping.html"
   ]
  },
  {
   "cell_type": "code",
   "execution_count": 2,
   "metadata": {
    "scrolled": true,
    "slideshow": {
     "slide_type": "slide"
    }
   },
   "outputs": [
    {
     "name": "stdout",
     "output_type": "stream",
     "text": [
      "\n",
      " \n",
      "\n",
      "\n",
      "\n",
      "\n",
      "\n",
      "\n",
      "\n",
      "\n",
      "\n",
      "\n",
      "\n",
      "\n",
      "\n",
      "\n",
      "Fakultas Matematika dan Ilmu Pengetahuan Alam FMIPA UI -\n",
      "\n",
      "\n",
      "\n",
      "\n",
      "\n",
      "\n",
      "\n",
      "\n",
      "\n",
      "\n",
      "\n",
      "\n",
      "\n",
      "\n",
      "\n",
      "\n",
      "\n",
      "\n",
      "\n",
      "\n",
      "\n",
      "\n",
      "\n",
      "\n",
      "\n",
      "\n",
      "\n",
      "\n",
      "\n",
      "\n",
      "\n",
      "\n",
      "\n",
      "\n",
      "\n",
      "\n",
      "\n",
      "\n",
      "\n",
      "\n",
      "\n",
      "\n",
      "\n",
      "\n",
      "\n",
      "\n",
      "\n",
      "\n",
      "\n",
      "\n",
      "\n",
      "\n",
      "\n",
      "\n",
      "\n",
      "\n",
      "\n",
      "\n",
      "\n",
      "\n",
      "\n",
      " \n",
      "\n",
      "\n",
      " \n",
      " \n",
      "\n",
      "\n",
      "\n",
      "\n",
      "\n",
      "\n",
      "\n",
      "\n",
      "\n",
      "\n",
      " Beranda   \n",
      " Tentang FMIPA UI \n",
      "\n",
      "Selayang Pandang\n",
      "\n",
      " Sejarah FMIPA UI \n",
      " Visi dan Misi \n",
      " Perencanaan Strategis \n",
      " Penataan dan Insfrastruktur \n",
      "\n",
      "\n",
      "Struktur FMIPA UI\n",
      "\n",
      " Struktur Organisasi \n",
      " Pimpinan Fakultas \n",
      " Senat Akademik Fakultas \n",
      " Pimpinan Departemen \n",
      " DGBF \n",
      " Dosen – Tenaga Pengajar \n",
      "\n",
      "\n",
      "Unit Kerja\n",
      "\n",
      " Akademik \n",
      " Riset dan Pengabdian Masyarakat \n",
      " Ventura dan Kerjasama \n",
      " Umum, Fasilitas dan Sumber Daya Manusia \n",
      " Alumni \n",
      " Unit Penjaminan Mutu Akademik \n",
      "\n",
      "\n",
      "Departemen\n",
      "\n",
      " Departemen Matematika \n",
      " Departemen Fisika \n",
      " Departemen Kimia \n",
      " Departemen Biologi \n",
      " Departemen Geografi \n",
      "\n",
      "\n",
      "Lain-lain\n",
      "\n",
      " Kampus Salemba \n",
      " Kampus Depok \n",
      "\n",
      "\n",
      "\n",
      "\n",
      " Akademik \n",
      "\n",
      "Aturan & Pedoman\n",
      "\n",
      " Nilai EPT 2019 \n",
      " Kalender Akademik 2020/2021 \n",
      " Peraturan Akademik \n",
      " Form PAF \n",
      " Unggah FMIPA UI \n",
      " Survey Mahasiswa \n",
      " PSAF Prodi Pasca 2020 \n",
      " Kurikulum S2 dan S3 Jalur Riset FMIPA UI \n",
      "\n",
      "\n",
      "Sarjana\n",
      "\n",
      " Sarjana Matematika \n",
      " Sarjana Fisika \n",
      " Sarjana Kimia \n",
      " Sarjana Biologi \n",
      " Sarjana Geografi \n",
      " Sarjana Geofisika \n",
      " Sarjana Geologi \n",
      " Sarjana Statistika \n",
      " Sarjana Ilmu Aktuaria \n",
      "\n",
      "\n",
      "Magister\n",
      "\n",
      " Magister Matematika \n",
      " Magister Ilmu Fisika \n",
      " Magister Ilmu Bahan \n",
      " Magister Ilmu Kimia \n",
      " Magister Biologi \n",
      " Magister Ilmu Kelautan \n",
      " Magister Ilmu Geografi \n",
      "\n",
      "\n",
      "Doktor\n",
      "\n",
      " Doktor Ilmu Material \n",
      " Doktor Ilmu Fisika \n",
      " Doktor Ilmu Kimia \n",
      " Doktor Biologi \n",
      "\n",
      "\n",
      "Staf Pengajar\n",
      "\n",
      " Staf Pengajar Matematika \n",
      " Staf Pengajar Fisika \n",
      " Staf Pengajar Kimia \n",
      " Staf Pengajar Biologi \n",
      " Staf Pengajar Geografi \n",
      " Staf Pengajar Geosains \n",
      "\n",
      "\n",
      "\n",
      "\n",
      " UKK \n",
      "\n",
      "Tentang\n",
      "\n",
      " Visi Misi UKK \n",
      " Latar Belakang UKK \n",
      " Layanan UKK LST \n",
      "\n",
      "\n",
      "Lembaga Sains Terapan\n",
      "\n",
      " Lab Riset UPP IPD \n",
      " Data Science Center \n",
      " Pusat Kajian \n",
      " Pusat Kajian Ilmu Material \n",
      " Pusat Studi Geosains \n",
      " Pusat Studi Kelautan \n",
      " Center of Biology Strategies (CBS) \n",
      " CoE IBR-GS \n",
      " Pusat Penelitian Geografi Terapan (PPGT) \n",
      " Kebijakan Riset \n",
      "\n",
      "\n",
      "I-SER\n",
      "\n",
      " Tujuan I-SER \n",
      " Latar Belakang I-SER \n",
      "\n",
      "\n",
      "Rencana & Pusat Riset I-Ser\n",
      "\n",
      " Government Policy on Natural Resources \n",
      " Research Center for Earth Sciences and Disaster \n",
      " Geothermal Research Center \n",
      " Natural Capital Resources Center \n",
      " Sustainable Development Center (SDG’s Center) \n",
      " Center for Biodiversity and Conservation \n",
      " Research Center for Climate Change \n",
      " Center for Sustainable Tourism \n",
      " Community and Landholders Center \n",
      " Center Watershed Management \n",
      "\n",
      "\n",
      "\n",
      "\n",
      " Green FMIPA UI   \n",
      " Download   \n",
      " Hubungi Kami   \n",
      " \n",
      "\n",
      "\n",
      "\n",
      "\n",
      "\n",
      "\n",
      "\n",
      "\n",
      "\n",
      "\n",
      "\n",
      "\n",
      "\n",
      "\n",
      "\n",
      "\n",
      "\n",
      "\n",
      "\n",
      "\n",
      "\n",
      "\n",
      "\n",
      "\n",
      "\n",
      "\n",
      "\n",
      "\n",
      "\n",
      "Beranda\n",
      "Tentang FMIPA UI\n",
      "\n",
      "Selayang Pandang\n",
      "\n",
      "Sejarah FMIPA UI\n",
      "Visi dan Misi\n",
      "Perencanaan Strategis\n",
      "Penataan dan Insfrastruktur\n",
      "\n",
      "\n",
      "Struktur FMIPA UI\n",
      "\n",
      "Struktur Organisasi\n",
      "Pimpinan Fakultas\n",
      "Senat Akademik Fakultas\n",
      "Pimpinan Departemen\n",
      "DGBF\n",
      "Dosen – Tenaga Pengajar\n",
      "\n",
      "\n",
      "Unit Kerja\n",
      "\n",
      "Akademik\n",
      "Riset dan Pengabdian Masyarakat\n",
      "Ventura dan Kerjasama\n",
      "Umum, Fasilitas dan Sumber Daya Manusia\n",
      "Alumni\n",
      "Unit Penjaminan Mutu Akademik\n",
      "\n",
      "\n",
      "Departemen\n",
      "\n",
      "Departemen Matematika\n",
      "Departemen Fisika\n",
      "Departemen Kimia\n",
      "Departemen Biologi\n",
      "Departemen Geografi\n",
      "\n",
      "\n",
      "Lain-lain\n",
      "\n",
      "Kampus Salemba\n",
      "Kampus Depok\n",
      "\n",
      "\n",
      "\n",
      "\n",
      "Akademik\n",
      "\n",
      "Aturan & Pedoman\n",
      "\n",
      "Nilai EPT 2019\n",
      "Kalender Akademik 2020/2021\n",
      "Peraturan Akademik\n",
      "Form PAF\n",
      "Unggah FMIPA UI\n",
      "Survey Mahasiswa\n",
      "PSAF Prodi Pasca 2020\n",
      "Kurikulum S2 dan S3 Jalur Riset FMIPA UI\n",
      "\n",
      "\n",
      "Sarjana\n",
      "\n",
      "Sarjana Matematika\n",
      "Sarjana Fisika\n",
      "Sarjana Kimia\n",
      "Sarjana Biologi\n",
      "Sarjana Geografi\n",
      "Sarjana Geofisika\n",
      "Sarjana Geologi\n",
      "Sarjana Statistika\n",
      "Sarjana Ilmu Aktuaria\n",
      "\n",
      "\n",
      "Magister\n",
      "\n",
      "Magister Matematika\n",
      "Magister Ilmu Fisika\n",
      "Magister Ilmu Bahan\n",
      "Magister Ilmu Kimia\n",
      "Magister Biologi\n",
      "Magister Ilmu Kelautan\n",
      "Magister Ilmu Geografi\n",
      "\n",
      "\n",
      "Doktor\n",
      "\n",
      "Doktor Ilmu Material\n",
      "Doktor Ilmu Fisika\n",
      "Doktor Ilmu Kimia\n",
      "Doktor Biologi\n",
      "\n",
      "\n",
      "Staf Pengajar\n",
      "\n",
      "Staf Pengajar Matematika\n",
      "Staf Pengajar Fisika\n",
      "Staf Pengajar Kimia\n",
      "Staf Pengajar Biologi\n",
      "Staf Pengajar Geografi\n",
      "Staf Pengajar Geosains\n",
      "\n",
      "\n",
      "\n",
      "\n",
      "UKK\n",
      "\n",
      "Tentang\n",
      "\n",
      "Visi Misi UKK\n",
      "Latar Belakang UKK\n",
      "Layanan UKK LST\n",
      "\n",
      "\n",
      "Lembaga Sains Terapan\n",
      "\n",
      "Lab Riset UPP IPD\n",
      "Data Science Center\n",
      "Pusat Kajian\n",
      "Pusat Kajian Ilmu Material\n",
      "Pusat Studi Geosains\n",
      "Pusat Studi Kelautan\n",
      "Center of Biology Strategies (CBS)\n",
      "CoE IBR-GS\n",
      "Pusat Penelitian Geografi Terapan (PPGT)\n",
      "Kebijakan Riset\n",
      "\n",
      "\n",
      "I-SER\n",
      "\n",
      "Tujuan I-SER\n",
      "Latar Belakang I-SER\n",
      "\n",
      "\n",
      "Rencana & Pusat Riset I-Ser\n",
      "\n",
      "Government Policy on Natural Resources\n",
      "Research Center for Earth Sciences and Disaster\n",
      "Geothermal Research Center\n",
      "Natural Capital Resources Center\n",
      "Sustainable Development Center (SDG’s Center)\n",
      "Center for Biodiversity and Conservation\n",
      "Research Center for Climate Change\n",
      "Center for Sustainable Tourism\n",
      "Community and Landholders Center\n",
      "Center Watershed Management\n",
      "\n",
      "\n",
      "\n",
      "\n",
      "Green FMIPA UI\n",
      "Download\n",
      "Hubungi Kami\n",
      "\n",
      "\n",
      "\n",
      "\n",
      "\n",
      "\n",
      "\n",
      "         \n",
      "\n",
      "\n",
      "\n",
      "\n",
      "\n",
      " Survey Mahasiswa   \n",
      " Kuliah di UI   \n",
      " Departemen  \n",
      "\n",
      " Departemen Matematika   \n",
      " Departemen Fisika   \n",
      " Departemen Kimia   \n",
      " Departemen Biologi   \n",
      " Departemen Geografi   \n",
      " Departemen Geosains   \n",
      "\n",
      "\n",
      " Akses Cepat  \n",
      "\n",
      " Webmail UI   \n",
      " SIANK NG   \n",
      " SCELE   \n",
      " Perpustakaan   \n",
      " SIPEG UI   \n",
      "\n",
      "\n",
      " Kemahasiswaan  \n",
      "\n",
      " BEM   \n",
      " HM Geosains   \n",
      " HMD Geografi   \n",
      " PSAF   \n",
      "\n",
      "\n",
      " Kotak Saran   \n",
      "    \n",
      "    \n",
      "\n",
      "\n",
      "\n",
      "\n",
      "\n",
      "\n",
      "\n",
      "\n",
      "\n",
      "\n",
      "\n",
      "\n",
      "\n",
      "\n",
      "\n",
      "\n",
      "\n",
      "\n",
      "\n",
      "\n",
      " Beranda   \n",
      " Tentang FMIPA UI \n",
      "\n",
      "Selayang Pandang\n",
      "\n",
      " Sejarah FMIPA UI \n",
      " Visi dan Misi \n",
      " Perencanaan Strategis \n",
      " Penataan dan Insfrastruktur \n",
      "\n",
      "\n",
      "Struktur FMIPA UI\n",
      "\n",
      " Struktur Organisasi \n",
      " Pimpinan Fakultas \n",
      " Senat Akademik Fakultas \n",
      " Pimpinan Departemen \n",
      " DGBF \n",
      " Dosen – Tenaga Pengajar \n",
      "\n",
      "\n",
      "Unit Kerja\n",
      "\n",
      " Akademik \n",
      " Riset dan Pengabdian Masyarakat \n",
      " Ventura dan Kerjasama \n",
      " Umum, Fasilitas dan Sumber Daya Manusia \n",
      " Alumni \n",
      " Unit Penjaminan Mutu Akademik \n",
      "\n",
      "\n",
      "Departemen\n",
      "\n",
      " Departemen Matematika \n",
      " Departemen Fisika \n",
      " Departemen Kimia \n",
      " Departemen Biologi \n",
      " Departemen Geografi \n",
      "\n",
      "\n",
      "Lain-lain\n",
      "\n",
      " Kampus Salemba \n",
      " Kampus Depok \n",
      "\n",
      "\n",
      "\n",
      "\n",
      " Akademik \n",
      "\n",
      "Aturan & Pedoman\n",
      "\n",
      " Nilai EPT 2019 \n",
      " Kalender Akademik 2020/2021 \n",
      " Peraturan Akademik \n",
      " Form PAF \n",
      " Unggah FMIPA UI \n",
      " Survey Mahasiswa \n",
      " PSAF Prodi Pasca 2020 \n",
      " Kurikulum S2 dan S3 Jalur Riset FMIPA UI \n",
      "\n",
      "\n",
      "Sarjana\n",
      "\n",
      " Sarjana Matematika \n",
      " Sarjana Fisika \n",
      " Sarjana Kimia \n",
      " Sarjana Biologi \n",
      " Sarjana Geografi \n",
      " Sarjana Geofisika \n",
      " Sarjana Geologi \n",
      " Sarjana Statistika \n",
      " Sarjana Ilmu Aktuaria \n",
      "\n",
      "\n",
      "Magister\n",
      "\n",
      " Magister Matematika \n",
      " Magister Ilmu Fisika \n",
      " Magister Ilmu Bahan \n",
      " Magister Ilmu Kimia \n",
      " Magister Biologi \n",
      " Magister Ilmu Kelautan \n",
      " Magister Ilmu Geografi \n",
      "\n",
      "\n",
      "Doktor\n",
      "\n",
      " Doktor Ilmu Material \n",
      " Doktor Ilmu Fisika \n",
      " Doktor Ilmu Kimia \n",
      " Doktor Biologi \n",
      "\n",
      "\n",
      "Staf Pengajar\n",
      "\n",
      " Staf Pengajar Matematika \n",
      " Staf Pengajar Fisika \n",
      " Staf Pengajar Kimia \n",
      " Staf Pengajar Biologi \n",
      " Staf Pengajar Geografi \n",
      " Staf Pengajar Geosains \n",
      "\n",
      "\n",
      "\n",
      "\n",
      " UKK \n",
      "\n",
      "Tentang\n",
      "\n",
      " Visi Misi UKK \n",
      " Latar Belakang UKK \n",
      " Layanan UKK LST \n",
      "\n",
      "\n",
      "Lembaga Sains Terapan\n",
      "\n",
      " Lab Riset UPP IPD \n",
      " Data Science Center \n",
      " Pusat Kajian \n",
      " Pusat Kajian Ilmu Material \n",
      " Pusat Studi Geosains \n",
      " Pusat Studi Kelautan \n",
      " Center of Biology Strategies (CBS) \n",
      " CoE IBR-GS \n",
      " Pusat Penelitian Geografi Terapan (PPGT) \n",
      " Kebijakan Riset \n",
      "\n",
      "\n",
      "I-SER\n",
      "\n",
      " Tujuan I-SER \n",
      " Latar Belakang I-SER \n",
      "\n",
      "\n",
      "Rencana & Pusat Riset I-Ser\n",
      "\n",
      " Government Policy on Natural Resources \n",
      " Research Center for Earth Sciences and Disaster \n",
      " Geothermal Research Center \n",
      " Natural Capital Resources Center \n",
      " Sustainable Development Center (SDG’s Center) \n",
      " Center for Biodiversity and Conservation \n",
      " Research Center for Climate Change \n",
      " Center for Sustainable Tourism \n",
      " Community and Landholders Center \n",
      " Center Watershed Management \n",
      "\n",
      "\n",
      "\n",
      "\n",
      " Green FMIPA UI   \n",
      " Download   \n",
      " Hubungi Kami   \n",
      " \n",
      "\n",
      "\n",
      "\n",
      "\n",
      "\n",
      "\n",
      " \n",
      "\n",
      " \n",
      "\n",
      "  \n",
      "\n",
      "\n",
      "\n",
      "\n",
      "\n",
      "\n",
      "\n",
      "\n",
      "\n",
      "\n",
      "\n",
      "\n",
      "Berita\n",
      "\n",
      "Sort\n",
      "\n",
      "\n",
      "All\n",
      "Berita \n",
      "\n",
      "\n",
      "\n",
      "\n",
      "\n",
      "\n",
      "\n",
      "  \n",
      "\n",
      "\n",
      "\n",
      "\n",
      "\n",
      " Tim Pengmas FMIPA UI Kolaborasi Beri Pelatihan Olah Lebah dan Sampah sebagai Sumber Pendapatan Rumah Tangga\n",
      "\n",
      " Jumat, November 20 th, 2020 7:59 pm \r\n",
      "                    \n",
      "\n",
      "\n",
      "\n",
      "\n",
      "\n",
      "\n",
      "  \n",
      "\n",
      "\n",
      "\n",
      "\n",
      "\n",
      " Kontingen FMIPA UI Juara 1 TASPEN Breakthrough Innovation Competition 2020\n",
      "\n",
      " Kamis, November 19 th, 2020 9:23 pm \r\n",
      "                    \n",
      "\n",
      "\n",
      "\n",
      "\n",
      "\n",
      "\n",
      "  \n",
      "\n",
      "\n",
      "\n",
      "\n",
      "\n",
      " Lebih dari 12 ribu Mahasiswa Ikuti Kompetisi Sobat Bumi Pertamina – FMIPA UI 2020\n",
      "\n",
      " Jumat, November 13 th, 2020 9:12 am \r\n",
      "                    \n",
      "\n",
      "\n",
      "\n",
      "\n",
      "\n",
      "\n",
      "  \n",
      "\n",
      "\n",
      "\n",
      "\n",
      "\n",
      " Tim Pengmas FMIPA UI Kembangkan Aplikasi Monotoring Jarak Jauh Untuk Optimalkan Budidaya Jamur di Masa Pandemik Covid-19\n",
      "\n",
      " Selasa, November 03 rd, 2020 11:46 am \r\n",
      "                    \n",
      "\n",
      "\n",
      "\n",
      "\n",
      "\n",
      "\n",
      "  \n",
      "\n",
      "\n",
      "\n",
      "\n",
      "\n",
      " Departemen Geografi FMIPA UI Memperkenalkan Peta Digital Berbasis SIG di Desa Kecamatan Ciracap\n",
      "\n",
      " Jumat, Oktober 30 th, 2020 5:44 pm \r\n",
      "                    \n",
      "\n",
      "\n",
      "\n",
      "\n",
      "\n",
      "\n",
      "  \n",
      "\n",
      "\n",
      "\n",
      "\n",
      "\n",
      " FMIPA UI – BAPETEN Kerjasama Gelar Seminar Keselamatan Nuklir 2020\n",
      "\n",
      " Jumat, Oktober 30 th, 2020 1:57 pm \r\n",
      "                    \n",
      "\n",
      "\n",
      "\n",
      "\n",
      "\n",
      "\n",
      "  \n",
      "\n",
      "\n",
      "\n",
      "\n",
      "\n",
      " Inilah Deretan Wisudawan Terbaik FMIPA UI Semester Genap Tahun Akademik 2019/2020\n",
      "\n",
      " Rabu, Oktober 21 st, 2020 5:28 pm \r\n",
      "                    \n",
      "\n",
      "\n",
      "\n",
      "\n",
      "\n",
      "\n",
      "  \n",
      "\n",
      "\n",
      "\n",
      "\n",
      "\n",
      " Peringati Hari Pangan Sedunia, FMIPA UI Gelar Seminar Ketahanan Pangan\n",
      "\n",
      " Selasa, Oktober 20 th, 2020 3:03 pm \r\n",
      "                    \n",
      "\n",
      "\n",
      "\n",
      "\n",
      "\n",
      "\n",
      "  \n",
      "\n",
      "\n",
      "\n",
      "\n",
      "\n",
      " FMIPA UI Gelar Wisuda Virtual, Dekan : Alumni Harus Terus Berkolaborasi dalam Inovasi\n",
      "\n",
      " Senin, Oktober 19 th, 2020 3:21 pm \r\n",
      "                    \n",
      "\n",
      "\n",
      "\n",
      "\n",
      "123...56\n",
      "\n",
      "\n",
      "\n",
      "\n",
      "\n",
      "\n",
      "\n",
      "\n",
      "\n",
      "\n",
      "\n",
      "\n",
      "Informasi Penerimaan Mahasiswa Baru\n",
      "\n",
      "\n",
      "\n",
      " klik di sini!\n",
      "\n",
      "\n",
      "\n",
      "\n",
      "\n",
      "\n",
      " \n",
      "\n",
      "\n",
      " \n",
      "\n",
      "\n",
      "\n",
      "\n",
      "\n",
      "\n",
      "\n",
      "\n",
      "\n",
      "\n",
      "\n",
      "\n",
      "\n",
      "\n",
      "\n",
      "\n",
      "Pengumuman dan Lowongan\n",
      "\n",
      "Sort\n",
      "\n",
      "\n",
      "All\n",
      "LowonganPengumuman \n",
      "\n",
      "\n",
      "\n",
      "\n",
      "\n",
      "\n",
      "\n",
      "  \n",
      "\n",
      "\n",
      "\n",
      "\n",
      "\n",
      " Pengumuman Hasil Seleksi Calon Dosen Prodi Geologi FMIPA UI\n",
      "\n",
      " Senin, Agustus 06 th, 2018 5:30 am \r\n",
      "                    \n",
      "\n",
      "\n",
      "\n",
      "\n",
      "\n",
      "\n",
      "  \n",
      "\n",
      "\n",
      "\n",
      "\n",
      "\n",
      " Info Lowongan Dosen Program Studi Geologi FMIPA UI\n",
      "\n",
      " Jumat, Juli 20 th, 2018 3:06 pm \r\n",
      "                    \n",
      "\n",
      "\n",
      "\n",
      "\n",
      "\n",
      "\n",
      "  \n",
      "\n",
      "\n",
      "\n",
      "\n",
      "\n",
      " Credit Modeling Officer\n",
      "\n",
      " Kamis, Januari 25 th, 2018 2:25 am \r\n",
      "                    \n",
      "\n",
      "\n",
      "\n",
      "\n",
      "\n",
      "\n",
      "  \n",
      "\n",
      "\n",
      "\n",
      "\n",
      "\n",
      " Seleksi Penerimaan Pegawai CIMB Niaga di FMIPA UI\n",
      "\n",
      " Rabu, Januari 24 th, 2018 4:13 am \r\n",
      "                    \n",
      "\n",
      "\n",
      "\n",
      "\n",
      "\n",
      "\n",
      "  \n",
      "\n",
      "\n",
      "\n",
      "\n",
      "\n",
      " Lowongan Tenaga Ahli Laboratorium ProVisi Education\n",
      "\n",
      " Selasa, Oktober 03 rd, 2017 3:39 am \r\n",
      "                    \n",
      "\n",
      "\n",
      "\n",
      "\n",
      "\n",
      "\n",
      "  \n",
      "\n",
      "\n",
      "\n",
      "\n",
      "\n",
      " Hasil Seleksi Peserta  Workshop Kerjasama FMIPA UI – KBRI AUSTRIA\n",
      "\n",
      " Minggu, Agustus 06 th, 2017 6:08 am \r\n",
      "                    \n",
      "\n",
      "\n",
      "\n",
      "\n",
      "123\n",
      "\n",
      "\n",
      "\n",
      "\n",
      "\n",
      "\n",
      "\n",
      "\n",
      "\n",
      "\n",
      "\n",
      "\n",
      "FMIPA UI Webinar Series   \n",
      "\n",
      "\n",
      "\n",
      "Lebih banyak lagi >>  \n",
      "\n",
      "\n",
      "\n",
      "\n",
      "\n",
      "\n",
      "\n",
      "\n",
      "\n",
      "\n",
      "\n",
      "\n",
      "\n",
      "\n",
      "Sejarah FMIPA UI   \n",
      "\n",
      "\n",
      " \n",
      "\n",
      "\n",
      "\n",
      "\n",
      "\n",
      "\n",
      "\n",
      "\n",
      "\n",
      "\n",
      "Berbagai Stres yang dihadapi Oleh Tumbuhan   \n",
      "\n",
      "\n",
      " \n",
      "\n",
      "\n",
      "\n",
      "\n",
      "\n",
      "\n",
      "\n",
      "\n",
      "\n",
      "\n",
      "Apa itu Virus, sel, COVID-19?   \n",
      "\n",
      "\n",
      " \n",
      "\n",
      "\n",
      "\n",
      "\n",
      "\n",
      "\n",
      "\n",
      "\n",
      "\n",
      "\n",
      "\n",
      "\n",
      "\n",
      "\n",
      "Panduan \n",
      "\n",
      "\n",
      "Panduan Kurikulum\n",
      " \n",
      "\n",
      "\n",
      "\n",
      "\n",
      "\n",
      "\n",
      "\n",
      "\n",
      "\n",
      "\n",
      "Pendaftaran \n",
      "\n",
      "\n",
      "Panduan Pendaftaran Mahasiswa\n",
      " \n",
      "\n",
      "\n",
      "\n",
      "\n",
      "\n",
      "\n",
      "\n",
      "\n",
      "\n",
      "\n",
      "Biaya Pendidikan \n",
      "\n",
      "\n",
      "Biaya Pendidikan\n",
      " \n",
      "\n",
      "\n",
      "\n",
      "\n",
      "\n",
      "\n",
      "\n",
      "\n",
      "\n",
      "\n",
      "Download \n",
      "\n",
      "\n",
      "Download Soal SIMAK\n",
      " \n",
      "\n",
      "\n",
      "\n",
      "\n",
      "\n",
      "\n",
      "\n",
      "\n",
      "\n",
      "\n",
      "Peta \n",
      "\n",
      "\n",
      "Peta Univ Indonesia \n",
      "\n",
      "\n",
      "\n",
      "\n",
      "\n",
      "\n",
      "\n",
      "\n",
      "\n",
      "\n",
      "\n",
      "\n",
      "\n",
      "\n",
      "\n",
      "\n",
      "\n",
      " \n",
      "Hubungi Kami:Fakultas Matematika dan Ilmu Pengetahuan Alam - Universitas Indonesia Kampus UI Depok 16424 Provinsi: Jawa Barat\r\n",
      "Telp.: +6221 786 3436, 786 3437 Fax.: +6221 727 0012 Email: sekretariat@sci.ui.ac.id, humas@sci.ui.ac.id\n",
      "\n",
      "\n",
      "\n",
      "\n",
      "\n",
      "   Fakultas Matematika dan Ilmu Pengetahuan Alam, Universitas Indonesia\n",
      " \n",
      "\n",
      "\n",
      "\n",
      "\n",
      "\n",
      "\n",
      "\n",
      "\n",
      "\n",
      "\n",
      "\n",
      "\n",
      "\n",
      "\n",
      "\n",
      "\n",
      "\n",
      "\n",
      "\n",
      "\n",
      "\n",
      "\n"
     ]
    }
   ],
   "source": [
    "import urllib.request\n",
    "from bs4 import BeautifulSoup as bs\n",
    "\n",
    "URL = 'https://www.sci.ui.ac.id/'\n",
    "Doc = urllib.request.urlopen(URL).read()\n",
    "Doc = bs(Doc,'lxml').text\n",
    "print(Doc)"
   ]
  },
  {
   "cell_type": "markdown",
   "metadata": {
    "slideshow": {
     "slide_type": "slide"
    }
   },
   "source": [
    "# Loading Local Documents\n",
    "\n",
    "1. Instalasi Java\n",
    " - JDK 8 ... ingat harus JDK 8\n",
    " - https://www.oracle.com/id/java/technologies/javase/javase-jdk8-downloads.html\n",
    " - Set Java Home Directory\n",
    "2. Instalasi Tika Server :\n",
    " - Download Tika App Executable Java Jar: https://www.apache.org/dyn/closer.cgi/tika/tika-app-1.24.1.jar\n",
    " - Put in Python home directory\n",
    "3. Instalasi Module Python Tika\n",
    "4. Reading pdf Files (Python Code below)\n",
    "\n",
    "### Tika can read Pdf, DocX, PPTX, etc."
   ]
  },
  {
   "cell_type": "code",
   "execution_count": 39,
   "metadata": {},
   "outputs": [],
   "source": [
    "from tika import parser#, unpack\n",
    "\n",
    "def readDocs(file):\n",
    "    if 'pdf' in file:\n",
    "        headers = {'X-Tika-PDFextractInlineImages': 'true',} \n",
    "        raw = parser.from_file(file, headers=headers)\n",
    "    else:\n",
    "        raw = parser.from_file(file)\n",
    "    if 'content' in raw.keys():\n",
    "        return raw['content']\n",
    "    else:\n",
    "        return None"
   ]
  },
  {
   "cell_type": "code",
   "execution_count": 40,
   "metadata": {
    "scrolled": false
   },
   "outputs": [
    {
     "name": "stdout",
     "output_type": "stream",
     "text": [
      "\n",
      "\n",
      "\n",
      "\n",
      "\n",
      "\n",
      "\n",
      "\n",
      "\n",
      "\n",
      "\n",
      "\n",
      "\n",
      "\n",
      "\n",
      "\n",
      "\n",
      "\n",
      "\n",
      "\n",
      "\n",
      "\n",
      "\n",
      "\n",
      "\n",
      "\n",
      "\n",
      "\n",
      "\n",
      "\n",
      "\n",
      "\n",
      "\n",
      "\n",
      "\n",
      "\n",
      "\n",
      "\n",
      "\n",
      "\n",
      "\n",
      "\n",
      "\n",
      "\n",
      "\n",
      "\n",
      "\n",
      "\n",
      "BUTIR-BUTIR PEDOMAN PENGHAYATAN DAN PENGAMALAN PANCASILA \n",
      " \n",
      "   \n",
      "Lima asas dalam Pancasila dijabarkan menjadi 36 butir pengamalan, sebagai pedoman praktis bagi \n",
      "pelaksanaan Pancasila. \n",
      " \n",
      "Butir-butir Pancasila ditetapkan dalam Ketetapan MPR No. II/MPR/1978 tentang Ekaprasetia \n",
      "Pancakarsa. \n",
      " \n",
      "I. SILA PERTAMA : KETUHANAN YANG MAHA ESA \n",
      "\n",
      "1. Percaya dan Takwa kepada Tuhan Yang Maha Esa sesuai dengan agama dan kepercayaan \n",
      "masing-masing menurut dasar kemanusiaan yang adil dan beradab. \n",
      "\n",
      "2. Hormat menghormati dan bekerjasama antar pemeluk agama & penganut-penganut \n",
      "kepercayaan yang berbeda-beda sehingga terbina kerukunan hidup. \n",
      "\n",
      "3. Saling hormat-menghormati kebebasan menjalankan ibadah sesuai dengan agama dan \n",
      "kepercayaannya. \n",
      "\n",
      "4. Tidak memaksakan suatu agama dan kepercayaan kepada orang lain. \n",
      " \n",
      "II. SILA KEDUA : KEMANUSIAAN YANG ADIL DAN BERADAB \n",
      "\n",
      "1. Mengakui persamaan derajat, persamaan hak dan persamaan kewajiban antara sesama \n",
      "manusia. \n",
      "\n",
      "2 Saling mencintai sesama manusia. \n",
      "3 Mengembangkan sikap tenggang rasa. \n",
      "4. Tidak semena-mena terhadap orang lain. \n",
      "5. Menjunjung tinggi nilai-nilai kemanusiaan. \n",
      "6. Gemar melakukan kegiatan kemanusiaan. \n",
      "7. Berani membela kebenaran dan keadilan. \n",
      "8. Bangsa Indonesia merasa dirinya sebagai bagian dari seluruh umat manusia, karena itu \n",
      "\n",
      "kembangkan sikap hormat-menghormati dan bekerjasama dengan bangsa lain. \n",
      " \n",
      "III. SILA KETIGA : PERSATUAN INDONESIA \n",
      "\n",
      "1. Menempatkan kesatuan, persatuan, kepentingan, dan keselamatan bangsa dan negara di atas \n",
      "kepentingan pribadi atau golongan. \n",
      "\n",
      "2. Rela berkorban untuk kepentingan bangsa dan negara. \n",
      "3. Cinta Tanah Air dan Bangsa. \n",
      "4. Bangga sebagai Bangsa Indonesia dan bertanah Air Indonesia. \n",
      "5. Memajukan pergaulan demi persatuan dan kesatuan bangsa yang ber-Bhinneka Tunggal Ika. \n",
      "\n",
      " \n",
      "IV. SILA KEEMPAT : KERAKYATAN YANG DIPIMPIN OLEH HIKMAT KEBIJAKSANAAN DALAM \n",
      "\n",
      "PERMUSYAWARATAN / PERWAKILAN \n",
      "1 Mengutamakan kepentingan Negara dan masyarakat. \n",
      "2. Tidak memaksakan kehendak kepada orang lain. \n",
      "3 Mengutamakan musyawarah dalam mengambil keputusan untuk kepentingan bersama. \n",
      "4. Musyawarah untuk mencapai mufakat diliputi semangat kekeluargaan. \n",
      "5. Dengan itikad baik dan rasa tanggung jawab menerima dan melaksanakan hasil musyawarah. \n",
      "6. Musyawarah dilakukan dengan akal sehat dan sesuai dengan hati nurani yang luhur. \n",
      "7. Keputusan yang diambil harus dapat dipertanggung-jawabkan secara moral kepada Tuhan Yang \n",
      "\n",
      "Maha Esa, menjunjung tinggi harkat dan martabat manusia serta nilai-nilai kebenaran dan \n",
      "keadilan. \n",
      "\n",
      " \n",
      "V. SILA KELIMA : KEADILAN SOSIAL BAGI SELURUH RAKYAT INDONESIA \n",
      "\n",
      "1 Mengembangkan perbuatan  luhur yang mencerminkan sikap dan suasana kekeluargaan dan \n",
      "gotong-royong. \n",
      "\n",
      "2. Bersikap adil. \n",
      "3. Menjaga keseimbangan antara hak dan kewajiban. \n",
      "4. Menghormati hak-hak orang lain. \n",
      "5. Suka memberi pertolongan kepada orang lain. \n",
      "6. Menjauhi sikap pemerasan terhadap orang lain. \n",
      "7. Tidak bersifat boros. \n",
      "8. Tidak bergaya hidup mewah. \n",
      "9. Tidak melakukan perbuatan yang merugikan kepentingan umum. \n",
      "10. Suka bekerja keras. \n",
      "11. Menghargai hasil karya orang lain.  \n",
      "12. Bersama-sama berusaha mewujudkan kemajuan yang merata dan berkeadilan sosial. \n",
      "\n",
      " \n",
      "\n",
      "\n",
      "\n"
     ]
    }
   ],
   "source": [
    "try:\n",
    "    doc = readDocs('data/contoh.pdf')\n",
    "except:\n",
    "    !mkdir data\n",
    "    !wget -P data/ https://raw.githubusercontent.com/taudata-indonesia/eLearning/master/data/contoh.pdf\n",
    "    doc = readDocs('data/contoh.pdf')\n",
    "    \n",
    "print(doc)"
   ]
  },
  {
   "cell_type": "markdown",
   "metadata": {
    "slideshow": {
     "slide_type": "slide"
    }
   },
   "source": [
    "<h2>Text Analytics</h2>\n",
    "\n",
    "<ul>\n",
    "\t<li>Tidak seperti data terstruktur, data tidak terstruktur seperti teks termasuk salah satu data yang cukup sulit untuk divisualisasikan.<br />\n",
    "\t<img alt=\"\" src=\"images/11_charts.jpg\" style=\"height:150px; width:276px\" /></li>\n",
    "\t<li>Namun terdapat Tools seperti Voyant yang dapat membantu dalam visualisasi sekaligus analisis.<br />\n",
    "\t<img alt=\"\" src=\"images/11_voyant.png\" style=\"height:118px; width:426px\" /></li>\n",
    "</ul>\n"
   ]
  },
  {
   "cell_type": "markdown",
   "metadata": {
    "slideshow": {
     "slide_type": "slide"
    }
   },
   "source": [
    "<h3 id=\"Voyant-dapat-digunakan-dalam-2-cara:\">Voyant dapat digunakan dalam 2 cara:</h3>\n",
    "\n",
    "<ol>\n",
    "\t<li>\n",
    "\t<p><strong>Online</strong>:&nbsp;<a href=\"https://voyant-tools.org/\" target=\"_blank\">https://voyant-tools.org/</a><br />\n",
    "\t<u>Kelebihan</u>: Sederhana &amp; portable, tanpa harus install di komputer kita.<br />\n",
    "\t<u>Kekurangan</u>: butuh koneksi internet, tidak cocok untuk data teks yang besar, privacy.</p>\n",
    "\t</li>\n",
    "\t<li>\n",
    "\t<p><strong>Offline </strong>di komputer kita [Java Based]</p>\n",
    "\t</li>\n",
    "</ol>\n"
   ]
  },
  {
   "cell_type": "markdown",
   "metadata": {
    "slideshow": {
     "slide_type": "slide"
    }
   },
   "source": [
    "<h3 id=\"Instalasi-Voyant:\">Instalasi Voyant:</h3>\n",
    "\n",
    "<ol>\n",
    "\t<li>Unduh Voyant dari &nbsp;<a href=\"https://github.com/sgsinclair/VoyantServer\" target=\"_blank\">https://github.com/sgsinclair/VoyantServer</a></li>\n",
    "\t<li>Extract Voyant ke sembarang folder (disarankan <strong>C:\\VoyantServer</strong>)</li>\n",
    "\t<li>Unduh Java JDK dari &nbsp;<a href=\"http://www.oracle.com/technetwork/java/javase/downloads/index.html&amp;nbsp\" target=\"_blank\">http://www.oracle.com/technetwork/java/javase/downloads/index.html&amp;nbsp</a>;</li>\n",
    "\t<li>Install Java</li>\n",
    "\t<li>Tambahkan variable <strong>Java Home</strong> ke &quot;System Variable&quot;</li>\n",
    "\t<li>Jalankan VoyantServer.jar dari&nbsp;C:\\VoyantServer<br />\n",
    "\t<strong>Tips</strong>: Jalankan Voyant Server sebelum Jupyter atau ganti &quot;port&quot; di VVoyant Server.</li>\n",
    "</ol>\n",
    "\n",
    "<p><img alt=\"\" src=\"images/JavaPath.PNG\" style=\"width: 275px ; height: 300px\" /></p>\n"
   ]
  },
  {
   "cell_type": "markdown",
   "metadata": {
    "slideshow": {
     "slide_type": "slide"
    }
   },
   "source": [
    "# Kita akan menggunakan contoh data Tweet tentang \"Vaksin Covid Indonesia\"\n",
    "\n",
    "1. Unduh Contoh data tweet_Covid.txt\n",
    "2. Jalankan Voyant secara offline atau online di URL: https://voyant-tools.org/ "
   ]
  },
  {
   "cell_type": "markdown",
   "metadata": {
    "slideshow": {
     "slide_type": "slide"
    }
   },
   "source": [
    "<h3 id=\"Penggunaan-Voyant-1:-WordClouds\">Penggunaan Voyant 1: WordClouds</h3>\n",
    "\n",
    "<ol>\n",
    "\t<li>Upload teks yang akan di analisa: hasil cluster/ suatu kategori/ topics / raw text.</li>\n",
    "\t<li>slider terms: mengkontrol banyaknya terms yang disertakan.</li>\n",
    "\t<li><strong>Summary </strong>(statistics)</li>\n",
    "\t<li><strong>Documents </strong>==&gt; add more</li>\n",
    "\t<li><strong>Phrases </strong>(n-grams like)</li>\n",
    "\t<li><strong>Export </strong>Visualisasi (kanan atas - pertama)</li>\n",
    "\t<li><strong>Options </strong>(kanan atas ke-3): Font, size, stopwords, whitelist</li>\n",
    "\t<li>&quot;?&quot; ==&gt; More Help</li>\n",
    "</ol>\n",
    "\n",
    "<p>&nbsp;</p>\n"
   ]
  },
  {
   "cell_type": "markdown",
   "metadata": {
    "slideshow": {
     "slide_type": "slide"
    }
   },
   "source": [
    "<h3 id=\"Penggunaan-Voyant-2:-Bubbles\">Penggunaan Voyant 2: Bubbles</h3>\n",
    "\n",
    "<ol>\n",
    "\t<li>Upload teks yang akan di analisa: hasil cluster/ suatu kategori/ topics / raw text.<br />\n",
    "\tAtau file yang sudah terupload sebelumnya</li>\n",
    "\t<li>&nbsp;Klik tanda 4-kotak kecil (kanan atas ke-3)</li>\n",
    "\t<li>Pilih Visualization Tools ==&gt; Bubbles</li>\n",
    "\t<li>Option: hanya stopwords</li>\n",
    "\t<li>Export: Hanya PNG</li>\n",
    "</ol>\n",
    "\n",
    "<p>&nbsp;</p>\n"
   ]
  },
  {
   "cell_type": "markdown",
   "metadata": {
    "slideshow": {
     "slide_type": "slide"
    }
   },
   "source": [
    "<h3 id=\"Penggunaan-Voyant-3:-Word-Tree\">Penggunaan Voyant 3: Word Tree</h3>\n",
    "\n",
    "<ol>\n",
    "\t<li>Upload teks yang akan di analisa: hasil cluster/ suatu kategori/ topics / raw text.<br />\n",
    "\tAtau file yang sudah terupload sebelumnya</li>\n",
    "\t<li>Klik branch untuk expand</li>\n",
    "</ol>\n"
   ]
  },
  {
   "cell_type": "markdown",
   "metadata": {
    "slideshow": {
     "slide_type": "slide"
    }
   },
   "source": [
    "<h3 id=\"Penggunaan-Voyant-2:-Bubbles\">Penggunaan Voyant 4: Links</h3>\n",
    "\n",
    "<ol>\n",
    "\t<li>Upload teks yang akan di analisa: hasil cluster/ suatu kategori/ topics / raw text.<br />\n",
    "\tAtau file yang sudah terupload sebelumnya</li>\n",
    "\t<li>Visualization Tools ==&gt; Links</li>\n",
    "\t<li>Klik sembarang terms untuk expand</li>\n",
    "</ol>\n"
   ]
  },
  {
   "cell_type": "markdown",
   "metadata": {
    "slideshow": {
     "slide_type": "slide"
    }
   },
   "source": [
    "<h3 id=\"Penggunaan-Voyant-5:-Trends\">Penggunaan Voyant 5: Trends</h3>\n",
    "\n",
    "<ol>\n",
    "\t<li>Upload teks yang akan di analisa: hasil cluster/ suatu kategori/ topics / raw text.<br />\n",
    "\tAtau file yang sudah terupload sebelumnya</li>\n",
    "\t<li>Document Tools ==&gt; Trends</li>\n",
    "\t<li>.. Butuh preprocessing ...&nbsp;</li>\n",
    "\t<li>Data harus terurut waktu</li>\n",
    "\t<li>Berikut contohnya</li>\n",
    "</ol>\n"
   ]
  },
  {
   "cell_type": "markdown",
   "metadata": {
    "slideshow": {
     "slide_type": "slide"
    }
   },
   "source": [
    "# <center><font color=\"blue\"> End of Module\n",
    "\n",
    "<hr />\n",
    "<p><img alt=\"\" src=\"images/1_meme.jpg\" /></p>"
   ]
  }
 ],
 "metadata": {
  "celltoolbar": "Slideshow",
  "kernelspec": {
   "display_name": "Python 3",
   "language": "python",
   "name": "python3"
  },
  "language_info": {
   "codemirror_mode": {
    "name": "ipython",
    "version": 3
   },
   "file_extension": ".py",
   "mimetype": "text/x-python",
   "name": "python",
   "nbconvert_exporter": "python",
   "pygments_lexer": "ipython3",
   "version": "3.6.8"
  }
 },
 "nbformat": 4,
 "nbformat_minor": 2
}
